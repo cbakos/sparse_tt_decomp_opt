{
 "cells": [
  {
   "cell_type": "code",
   "id": "initial_id",
   "metadata": {
    "collapsed": true,
    "ExecuteTime": {
     "end_time": "2024-06-17T09:22:34.214358Z",
     "start_time": "2024-06-17T09:22:34.167490Z"
    }
   },
   "source": [
    "import pandas as pd\n",
    "import numpy as np\n",
    "import matplotlib.pyplot as plt\n",
    "import plotly.express as px\n",
    "from scipy import stats\n"
   ],
   "outputs": [],
   "execution_count": 75
  },
  {
   "metadata": {
    "ExecuteTime": {
     "end_time": "2024-06-17T09:22:34.623523Z",
     "start_time": "2024-06-17T09:22:34.492986Z"
    }
   },
   "cell_type": "code",
   "source": [
    "# df1 = pd.read_csv('../../data/sweep_0_10_data.csv')\n",
    "# df2 = pd.read_csv('../../data/sweep_0_10_data2.csv')\n",
    "# df = pd.concat([df1, df2], axis=0)\n",
    "df = pd.read_csv('../../data/sweep_0_10_7_matrices.csv')\n",
    "df.drop(columns=[\"run_id\", \"run_name\", \"_runtime\", \"_step\", \"_timestamp\"], inplace=True)"
   ],
   "id": "c29cb153a3df9b77",
   "outputs": [],
   "execution_count": 76
  },
  {
   "metadata": {
    "ExecuteTime": {
     "end_time": "2024-06-17T09:22:35.718028Z",
     "start_time": "2024-06-17T09:22:35.686802Z"
    }
   },
   "cell_type": "code",
   "source": "df.tail()",
   "id": "34fa1169bea37ac5",
   "outputs": [
    {
     "data": {
      "text/plain": [
       "       amd    rcm  padding   matrix_name  partial_gauss        n      rank  \\\n",
       "8673  True  False        0  Pres_Poisson              0  14822.0       4.0   \n",
       "8674  True  False        0  Pres_Poisson              0  14822.0       1.0   \n",
       "8675  True   True        0  Pres_Poisson              0  14822.0  567235.0   \n",
       "8676  True   True        0  Pres_Poisson              0  14822.0       4.0   \n",
       "8677  True   True        0  Pres_Poisson              0  14822.0       1.0   \n",
       "\n",
       "      max_mode_size         z  tile_size  \n",
       "8673         7411.0  715804.0     7411.0  \n",
       "8674        14822.0  715804.0    14822.0  \n",
       "8675         7411.0  715804.0        2.0  \n",
       "8676         7411.0  715804.0     7411.0  \n",
       "8677        14822.0  715804.0    14822.0  "
      ],
      "text/html": [
       "<div>\n",
       "<style scoped>\n",
       "    .dataframe tbody tr th:only-of-type {\n",
       "        vertical-align: middle;\n",
       "    }\n",
       "\n",
       "    .dataframe tbody tr th {\n",
       "        vertical-align: top;\n",
       "    }\n",
       "\n",
       "    .dataframe thead th {\n",
       "        text-align: right;\n",
       "    }\n",
       "</style>\n",
       "<table border=\"1\" class=\"dataframe\">\n",
       "  <thead>\n",
       "    <tr style=\"text-align: right;\">\n",
       "      <th></th>\n",
       "      <th>amd</th>\n",
       "      <th>rcm</th>\n",
       "      <th>padding</th>\n",
       "      <th>matrix_name</th>\n",
       "      <th>partial_gauss</th>\n",
       "      <th>n</th>\n",
       "      <th>rank</th>\n",
       "      <th>max_mode_size</th>\n",
       "      <th>z</th>\n",
       "      <th>tile_size</th>\n",
       "    </tr>\n",
       "  </thead>\n",
       "  <tbody>\n",
       "    <tr>\n",
       "      <th>8673</th>\n",
       "      <td>True</td>\n",
       "      <td>False</td>\n",
       "      <td>0</td>\n",
       "      <td>Pres_Poisson</td>\n",
       "      <td>0</td>\n",
       "      <td>14822.0</td>\n",
       "      <td>4.0</td>\n",
       "      <td>7411.0</td>\n",
       "      <td>715804.0</td>\n",
       "      <td>7411.0</td>\n",
       "    </tr>\n",
       "    <tr>\n",
       "      <th>8674</th>\n",
       "      <td>True</td>\n",
       "      <td>False</td>\n",
       "      <td>0</td>\n",
       "      <td>Pres_Poisson</td>\n",
       "      <td>0</td>\n",
       "      <td>14822.0</td>\n",
       "      <td>1.0</td>\n",
       "      <td>14822.0</td>\n",
       "      <td>715804.0</td>\n",
       "      <td>14822.0</td>\n",
       "    </tr>\n",
       "    <tr>\n",
       "      <th>8675</th>\n",
       "      <td>True</td>\n",
       "      <td>True</td>\n",
       "      <td>0</td>\n",
       "      <td>Pres_Poisson</td>\n",
       "      <td>0</td>\n",
       "      <td>14822.0</td>\n",
       "      <td>567235.0</td>\n",
       "      <td>7411.0</td>\n",
       "      <td>715804.0</td>\n",
       "      <td>2.0</td>\n",
       "    </tr>\n",
       "    <tr>\n",
       "      <th>8676</th>\n",
       "      <td>True</td>\n",
       "      <td>True</td>\n",
       "      <td>0</td>\n",
       "      <td>Pres_Poisson</td>\n",
       "      <td>0</td>\n",
       "      <td>14822.0</td>\n",
       "      <td>4.0</td>\n",
       "      <td>7411.0</td>\n",
       "      <td>715804.0</td>\n",
       "      <td>7411.0</td>\n",
       "    </tr>\n",
       "    <tr>\n",
       "      <th>8677</th>\n",
       "      <td>True</td>\n",
       "      <td>True</td>\n",
       "      <td>0</td>\n",
       "      <td>Pres_Poisson</td>\n",
       "      <td>0</td>\n",
       "      <td>14822.0</td>\n",
       "      <td>1.0</td>\n",
       "      <td>14822.0</td>\n",
       "      <td>715804.0</td>\n",
       "      <td>14822.0</td>\n",
       "    </tr>\n",
       "  </tbody>\n",
       "</table>\n",
       "</div>"
      ]
     },
     "execution_count": 77,
     "metadata": {},
     "output_type": "execute_result"
    }
   ],
   "execution_count": 77
  },
  {
   "metadata": {
    "ExecuteTime": {
     "end_time": "2024-06-17T10:04:11.974931Z",
     "start_time": "2024-06-17T10:04:11.955512Z"
    }
   },
   "cell_type": "code",
   "source": [
    "def add_tt_mals_runtime_cols(df: pd.DataFrame) -> pd.DataFrame:\n",
    "    df[\"log_obj_func\"] = np.log(df[\"max_mode_size\"]**6 + df[\"max_mode_size\"]**3 *  df[\"rank\"] + df[\"max_mode_size\"]**2 *  df[\"rank\"]**2)\n",
    "    df[\"obj_func\"] = np.exp(df[\"log_obj_func\"])\n",
    "    return df\n",
    "df = add_tt_mals_runtime_cols(df)"
   ],
   "id": "7024644443a70788",
   "outputs": [],
   "execution_count": 90
  },
  {
   "metadata": {
    "ExecuteTime": {
     "end_time": "2024-06-17T09:22:38.028821Z",
     "start_time": "2024-06-17T09:22:37.997618Z"
    }
   },
   "cell_type": "code",
   "source": [
    "baseline_df = df[(df['amd'] == False) & (df['rcm'] == False) & (df['partial_gauss'] == 0) & (df['padding'] == 0)]\n",
    "padding_df = df[(df['amd'] == False) & (df['rcm'] == False) & (df['partial_gauss'] == 0)]\n",
    "amd_df = df[(df['rcm'] == False) & (df['partial_gauss'] == 0) & (df['padding'] == 0)]\n",
    "rcm_df = df[(df['amd'] == False) & (df['partial_gauss'] == 0) & (df['padding'] == 0)]\n",
    "partial_gauss_df = df[(df['amd'] == False) & (df['rcm'] == False) & (df['padding'] == 0)]"
   ],
   "id": "149949d57c3cb8e4",
   "outputs": [],
   "execution_count": 79
  },
  {
   "metadata": {
    "ExecuteTime": {
     "end_time": "2024-06-17T09:22:39.271930Z",
     "start_time": "2024-06-17T09:22:39.240729Z"
    }
   },
   "cell_type": "code",
   "source": "df.head()",
   "id": "aaa97343de8a3361",
   "outputs": [
    {
     "data": {
      "text/plain": [
       "     amd    rcm  padding matrix_name  partial_gauss       n     rank  \\\n",
       "0  False  False       10        ex15             10  6867.0  33252.0   \n",
       "1  False  False       10        ex15             10  6867.0   8766.0   \n",
       "2  False  False       10        ex15             10  6867.0   6816.0   \n",
       "3  False  False       10        ex15             10  6867.0   2921.0   \n",
       "4  False  False       10        ex15             10  6867.0    539.0   \n",
       "\n",
       "   max_mode_size        z  tile_size  log_obj_func      obj_func  \n",
       "0          109.0  98623.0        3.0     30.329488  1.485693e+13  \n",
       "1          109.0  98623.0        7.0     28.587079  2.601421e+12  \n",
       "2          109.0  98623.0        9.0     28.436556  2.237893e+12  \n",
       "3          109.0  98623.0       21.0     28.208900  1.782254e+12  \n",
       "4          109.0  98623.0       63.0     28.150559  1.681250e+12  "
      ],
      "text/html": [
       "<div>\n",
       "<style scoped>\n",
       "    .dataframe tbody tr th:only-of-type {\n",
       "        vertical-align: middle;\n",
       "    }\n",
       "\n",
       "    .dataframe tbody tr th {\n",
       "        vertical-align: top;\n",
       "    }\n",
       "\n",
       "    .dataframe thead th {\n",
       "        text-align: right;\n",
       "    }\n",
       "</style>\n",
       "<table border=\"1\" class=\"dataframe\">\n",
       "  <thead>\n",
       "    <tr style=\"text-align: right;\">\n",
       "      <th></th>\n",
       "      <th>amd</th>\n",
       "      <th>rcm</th>\n",
       "      <th>padding</th>\n",
       "      <th>matrix_name</th>\n",
       "      <th>partial_gauss</th>\n",
       "      <th>n</th>\n",
       "      <th>rank</th>\n",
       "      <th>max_mode_size</th>\n",
       "      <th>z</th>\n",
       "      <th>tile_size</th>\n",
       "      <th>log_obj_func</th>\n",
       "      <th>obj_func</th>\n",
       "    </tr>\n",
       "  </thead>\n",
       "  <tbody>\n",
       "    <tr>\n",
       "      <th>0</th>\n",
       "      <td>False</td>\n",
       "      <td>False</td>\n",
       "      <td>10</td>\n",
       "      <td>ex15</td>\n",
       "      <td>10</td>\n",
       "      <td>6867.0</td>\n",
       "      <td>33252.0</td>\n",
       "      <td>109.0</td>\n",
       "      <td>98623.0</td>\n",
       "      <td>3.0</td>\n",
       "      <td>30.329488</td>\n",
       "      <td>1.485693e+13</td>\n",
       "    </tr>\n",
       "    <tr>\n",
       "      <th>1</th>\n",
       "      <td>False</td>\n",
       "      <td>False</td>\n",
       "      <td>10</td>\n",
       "      <td>ex15</td>\n",
       "      <td>10</td>\n",
       "      <td>6867.0</td>\n",
       "      <td>8766.0</td>\n",
       "      <td>109.0</td>\n",
       "      <td>98623.0</td>\n",
       "      <td>7.0</td>\n",
       "      <td>28.587079</td>\n",
       "      <td>2.601421e+12</td>\n",
       "    </tr>\n",
       "    <tr>\n",
       "      <th>2</th>\n",
       "      <td>False</td>\n",
       "      <td>False</td>\n",
       "      <td>10</td>\n",
       "      <td>ex15</td>\n",
       "      <td>10</td>\n",
       "      <td>6867.0</td>\n",
       "      <td>6816.0</td>\n",
       "      <td>109.0</td>\n",
       "      <td>98623.0</td>\n",
       "      <td>9.0</td>\n",
       "      <td>28.436556</td>\n",
       "      <td>2.237893e+12</td>\n",
       "    </tr>\n",
       "    <tr>\n",
       "      <th>3</th>\n",
       "      <td>False</td>\n",
       "      <td>False</td>\n",
       "      <td>10</td>\n",
       "      <td>ex15</td>\n",
       "      <td>10</td>\n",
       "      <td>6867.0</td>\n",
       "      <td>2921.0</td>\n",
       "      <td>109.0</td>\n",
       "      <td>98623.0</td>\n",
       "      <td>21.0</td>\n",
       "      <td>28.208900</td>\n",
       "      <td>1.782254e+12</td>\n",
       "    </tr>\n",
       "    <tr>\n",
       "      <th>4</th>\n",
       "      <td>False</td>\n",
       "      <td>False</td>\n",
       "      <td>10</td>\n",
       "      <td>ex15</td>\n",
       "      <td>10</td>\n",
       "      <td>6867.0</td>\n",
       "      <td>539.0</td>\n",
       "      <td>109.0</td>\n",
       "      <td>98623.0</td>\n",
       "      <td>63.0</td>\n",
       "      <td>28.150559</td>\n",
       "      <td>1.681250e+12</td>\n",
       "    </tr>\n",
       "  </tbody>\n",
       "</table>\n",
       "</div>"
      ]
     },
     "execution_count": 80,
     "metadata": {},
     "output_type": "execute_result"
    }
   ],
   "execution_count": 80
  },
  {
   "metadata": {
    "ExecuteTime": {
     "end_time": "2024-06-17T07:59:50.506472Z",
     "start_time": "2024-06-17T07:59:50.232201Z"
    }
   },
   "cell_type": "code",
   "source": [
    "# Tile size choice influence on TT-MALS runtime\n",
    "fig = px.line(baseline_df, x=\"tile_size\", y=\"log_obj_func\", color='matrix_name', symbol=\"matrix_name\", markers=True, log_x=True,\n",
    "              labels={\n",
    "                     \"tile_size\": \"Tile size\",\n",
    "                     \"matrix_name\": \"Matrix name\",\n",
    "                 }\n",
    "              )\n",
    "fig.update_layout(\n",
    "    title={\n",
    "        'text': \"Influence of tile size choice on TT-MALS runtime\",\n",
    "        'x':0.5,\n",
    "        'xanchor': 'center',\n",
    "        'yanchor': 'top'\n",
    "    },\n",
    "    plot_bgcolor='white',   # Plot area background color\n",
    "    paper_bgcolor='white',  # Entire figure background color\n",
    "    font=dict(color='black'), # Font color\n",
    "    yaxis_title=r'$\\log(I^6 + rI^3 + r^2I^2)$'\n",
    ")\n",
    "fig.show()\n",
    "fig.write_image(\"plots/baseline_tile_size_vs_log_obj_func.pdf\")"
   ],
   "id": "cddbb0ff64099a21",
   "outputs": [
    {
     "data": {
      "application/vnd.plotly.v1+json": {
       "data": [
        {
         "hovertemplate": "Matrix name=ex15<br>Tile size=%{x}<br>log_obj_func=%{y}<extra></extra>",
         "legendgroup": "ex15",
         "line": {
          "color": "#636efa",
          "dash": "solid"
         },
         "marker": {
          "symbol": "circle"
         },
         "mode": "lines+markers",
         "name": "ex15",
         "orientation": "v",
         "showlegend": true,
         "x": [
          3.0,
          7.0,
          9.0,
          21.0,
          63.0,
          109.0,
          327.0,
          763.0,
          981.0,
          2289.0,
          6867.0
         ],
         "xaxis": "x",
         "y": [
          29.482992716638595,
          28.536029991147146,
          28.390951267528994,
          28.185789690765414,
          28.149086028233334,
          28.148479344035785,
          34.73976309538235,
          39.82354824583243,
          41.33143477790746,
          46.415221920300844,
          53.00689565172715
         ],
         "yaxis": "y",
         "type": "scatter"
        },
        {
         "hovertemplate": "Matrix name=ex13<br>Tile size=%{x}<br>log_obj_func=%{y}<extra></extra>",
         "legendgroup": "ex13",
         "line": {
          "color": "#EF553B",
          "dash": "solid"
         },
         "marker": {
          "symbol": "diamond"
         },
         "mode": "lines+markers",
         "name": "ex13",
         "orientation": "v",
         "showlegend": true,
         "x": [
          2.0,
          3.0,
          4.0,
          6.0,
          8.0,
          12.0,
          24.0,
          107.0,
          214.0,
          321.0,
          428.0,
          642.0,
          856.0,
          1284.0,
          2568.0
         ],
         "xaxis": "x",
         "y": [
          29.611911589663677,
          29.03896767890964,
          28.542605385104025,
          28.245248071694142,
          28.13580687267735,
          28.068312597290536,
          28.043064064861323,
          28.03709123328237,
          32.195860110580796,
          34.62864744949679,
          36.35473938519418,
          38.78752986051999,
          40.51362226810204,
          42.9464129073949,
          47.105295988918186
         ],
         "yaxis": "y",
         "type": "scatter"
        },
        {
         "hovertemplate": "Matrix name=ex10hs<br>Tile size=%{x}<br>log_obj_func=%{y}<extra></extra>",
         "legendgroup": "ex10hs",
         "line": {
          "color": "#00cc96",
          "dash": "solid"
         },
         "marker": {
          "symbol": "square"
         },
         "mode": "lines+markers",
         "name": "ex10hs",
         "orientation": "v",
         "showlegend": true,
         "x": [
          2.0,
          4.0,
          7.0,
          13.0,
          14.0,
          26.0,
          28.0,
          49.0,
          52.0,
          91.0,
          98.0,
          182.0,
          196.0,
          364.0,
          637.0,
          1274.0,
          2548.0
         ],
         "xaxis": "x",
         "y": [
          25.745868151372967,
          23.805739055013966,
          22.0990103483351,
          20.319352420841287,
          20.271063473608542,
          20.413888046592636,
          20.58307977504528,
          23.36936568918179,
          23.718886063423362,
          27.06548853373771,
          27.510006766677083,
          31.224048215761098,
          31.66869379698681,
          35.38292362034165,
          38.74061797272882,
          42.89950101873315,
          47.0583841002128
         ],
         "yaxis": "y",
         "type": "scatter"
        },
        {
         "hovertemplate": "Matrix name=ex10<br>Tile size=%{x}<br>log_obj_func=%{y}<extra></extra>",
         "legendgroup": "ex10",
         "line": {
          "color": "#ab63fa",
          "dash": "solid"
         },
         "marker": {
          "symbol": "x"
         },
         "mode": "lines+markers",
         "name": "ex10",
         "orientation": "v",
         "showlegend": true,
         "x": [
          2.0,
          5.0,
          10.0,
          241.0,
          482.0,
          1205.0,
          2410.0
         ],
         "xaxis": "x",
         "y": [
          33.1072993315822,
          32.922689357296704,
          32.910893875127286,
          32.90878383370194,
          37.06766480352669,
          42.56540907784224,
          46.72429215897967
         ],
         "yaxis": "y",
         "type": "scatter"
        },
        {
         "hovertemplate": "Matrix name=ex3<br>Tile size=%{x}<br>log_obj_func=%{y}<extra></extra>",
         "legendgroup": "ex3",
         "line": {
          "color": "#FFA15A",
          "dash": "solid"
         },
         "marker": {
          "symbol": "cross"
         },
         "mode": "lines+markers",
         "name": "ex3",
         "orientation": "v",
         "showlegend": true,
         "x": [
          3.0,
          607.0,
          1821.0
         ],
         "xaxis": "x",
         "y": [
          38.45201389170608,
          38.451172778017046,
          45.042846478531345
         ],
         "yaxis": "y",
         "type": "scatter"
        },
        {
         "hovertemplate": "Matrix name=bcsstk13<br>Tile size=%{x}<br>log_obj_func=%{y}<extra></extra>",
         "legendgroup": "bcsstk13",
         "line": {
          "color": "#19d3f3",
          "dash": "solid"
         },
         "marker": {
          "symbol": "circle"
         },
         "mode": "lines+markers",
         "name": "bcsstk13",
         "orientation": "v",
         "showlegend": true,
         "x": [
          2003.0
         ],
         "xaxis": "x",
         "y": [
          45.61440801411941
         ],
         "yaxis": "y",
         "type": "scatter"
        },
        {
         "hovertemplate": "Matrix name=Pres_Poisson<br>Tile size=%{x}<br>log_obj_func=%{y}<extra></extra>",
         "legendgroup": "Pres_Poisson",
         "line": {
          "color": "#FF6692",
          "dash": "solid"
         },
         "marker": {
          "symbol": "diamond"
         },
         "mode": "lines+markers",
         "name": "Pres_Poisson",
         "orientation": "v",
         "showlegend": true,
         "x": [
          2.0,
          7411.0,
          14822.0
         ],
         "xaxis": "x",
         "y": [
          53.46434397668455,
          53.46432397171799,
          57.62320705506813
         ],
         "yaxis": "y",
         "type": "scatter"
        }
       ],
       "layout": {
        "template": {
         "data": {
          "histogram2dcontour": [
           {
            "type": "histogram2dcontour",
            "colorbar": {
             "outlinewidth": 0,
             "ticks": ""
            },
            "colorscale": [
             [
              0.0,
              "#0d0887"
             ],
             [
              0.1111111111111111,
              "#46039f"
             ],
             [
              0.2222222222222222,
              "#7201a8"
             ],
             [
              0.3333333333333333,
              "#9c179e"
             ],
             [
              0.4444444444444444,
              "#bd3786"
             ],
             [
              0.5555555555555556,
              "#d8576b"
             ],
             [
              0.6666666666666666,
              "#ed7953"
             ],
             [
              0.7777777777777778,
              "#fb9f3a"
             ],
             [
              0.8888888888888888,
              "#fdca26"
             ],
             [
              1.0,
              "#f0f921"
             ]
            ]
           }
          ],
          "choropleth": [
           {
            "type": "choropleth",
            "colorbar": {
             "outlinewidth": 0,
             "ticks": ""
            }
           }
          ],
          "histogram2d": [
           {
            "type": "histogram2d",
            "colorbar": {
             "outlinewidth": 0,
             "ticks": ""
            },
            "colorscale": [
             [
              0.0,
              "#0d0887"
             ],
             [
              0.1111111111111111,
              "#46039f"
             ],
             [
              0.2222222222222222,
              "#7201a8"
             ],
             [
              0.3333333333333333,
              "#9c179e"
             ],
             [
              0.4444444444444444,
              "#bd3786"
             ],
             [
              0.5555555555555556,
              "#d8576b"
             ],
             [
              0.6666666666666666,
              "#ed7953"
             ],
             [
              0.7777777777777778,
              "#fb9f3a"
             ],
             [
              0.8888888888888888,
              "#fdca26"
             ],
             [
              1.0,
              "#f0f921"
             ]
            ]
           }
          ],
          "heatmap": [
           {
            "type": "heatmap",
            "colorbar": {
             "outlinewidth": 0,
             "ticks": ""
            },
            "colorscale": [
             [
              0.0,
              "#0d0887"
             ],
             [
              0.1111111111111111,
              "#46039f"
             ],
             [
              0.2222222222222222,
              "#7201a8"
             ],
             [
              0.3333333333333333,
              "#9c179e"
             ],
             [
              0.4444444444444444,
              "#bd3786"
             ],
             [
              0.5555555555555556,
              "#d8576b"
             ],
             [
              0.6666666666666666,
              "#ed7953"
             ],
             [
              0.7777777777777778,
              "#fb9f3a"
             ],
             [
              0.8888888888888888,
              "#fdca26"
             ],
             [
              1.0,
              "#f0f921"
             ]
            ]
           }
          ],
          "heatmapgl": [
           {
            "type": "heatmapgl",
            "colorbar": {
             "outlinewidth": 0,
             "ticks": ""
            },
            "colorscale": [
             [
              0.0,
              "#0d0887"
             ],
             [
              0.1111111111111111,
              "#46039f"
             ],
             [
              0.2222222222222222,
              "#7201a8"
             ],
             [
              0.3333333333333333,
              "#9c179e"
             ],
             [
              0.4444444444444444,
              "#bd3786"
             ],
             [
              0.5555555555555556,
              "#d8576b"
             ],
             [
              0.6666666666666666,
              "#ed7953"
             ],
             [
              0.7777777777777778,
              "#fb9f3a"
             ],
             [
              0.8888888888888888,
              "#fdca26"
             ],
             [
              1.0,
              "#f0f921"
             ]
            ]
           }
          ],
          "contourcarpet": [
           {
            "type": "contourcarpet",
            "colorbar": {
             "outlinewidth": 0,
             "ticks": ""
            }
           }
          ],
          "contour": [
           {
            "type": "contour",
            "colorbar": {
             "outlinewidth": 0,
             "ticks": ""
            },
            "colorscale": [
             [
              0.0,
              "#0d0887"
             ],
             [
              0.1111111111111111,
              "#46039f"
             ],
             [
              0.2222222222222222,
              "#7201a8"
             ],
             [
              0.3333333333333333,
              "#9c179e"
             ],
             [
              0.4444444444444444,
              "#bd3786"
             ],
             [
              0.5555555555555556,
              "#d8576b"
             ],
             [
              0.6666666666666666,
              "#ed7953"
             ],
             [
              0.7777777777777778,
              "#fb9f3a"
             ],
             [
              0.8888888888888888,
              "#fdca26"
             ],
             [
              1.0,
              "#f0f921"
             ]
            ]
           }
          ],
          "surface": [
           {
            "type": "surface",
            "colorbar": {
             "outlinewidth": 0,
             "ticks": ""
            },
            "colorscale": [
             [
              0.0,
              "#0d0887"
             ],
             [
              0.1111111111111111,
              "#46039f"
             ],
             [
              0.2222222222222222,
              "#7201a8"
             ],
             [
              0.3333333333333333,
              "#9c179e"
             ],
             [
              0.4444444444444444,
              "#bd3786"
             ],
             [
              0.5555555555555556,
              "#d8576b"
             ],
             [
              0.6666666666666666,
              "#ed7953"
             ],
             [
              0.7777777777777778,
              "#fb9f3a"
             ],
             [
              0.8888888888888888,
              "#fdca26"
             ],
             [
              1.0,
              "#f0f921"
             ]
            ]
           }
          ],
          "mesh3d": [
           {
            "type": "mesh3d",
            "colorbar": {
             "outlinewidth": 0,
             "ticks": ""
            }
           }
          ],
          "scatter": [
           {
            "marker": {
             "line": {
              "color": "#283442"
             }
            },
            "type": "scatter"
           }
          ],
          "parcoords": [
           {
            "type": "parcoords",
            "line": {
             "colorbar": {
              "outlinewidth": 0,
              "ticks": ""
             }
            }
           }
          ],
          "scatterpolargl": [
           {
            "type": "scatterpolargl",
            "marker": {
             "colorbar": {
              "outlinewidth": 0,
              "ticks": ""
             }
            }
           }
          ],
          "bar": [
           {
            "error_x": {
             "color": "#f2f5fa"
            },
            "error_y": {
             "color": "#f2f5fa"
            },
            "marker": {
             "line": {
              "color": "rgb(17,17,17)",
              "width": 0.5
             },
             "pattern": {
              "fillmode": "overlay",
              "size": 10,
              "solidity": 0.2
             }
            },
            "type": "bar"
           }
          ],
          "scattergeo": [
           {
            "type": "scattergeo",
            "marker": {
             "colorbar": {
              "outlinewidth": 0,
              "ticks": ""
             }
            }
           }
          ],
          "scatterpolar": [
           {
            "type": "scatterpolar",
            "marker": {
             "colorbar": {
              "outlinewidth": 0,
              "ticks": ""
             }
            }
           }
          ],
          "histogram": [
           {
            "marker": {
             "pattern": {
              "fillmode": "overlay",
              "size": 10,
              "solidity": 0.2
             }
            },
            "type": "histogram"
           }
          ],
          "scattergl": [
           {
            "marker": {
             "line": {
              "color": "#283442"
             }
            },
            "type": "scattergl"
           }
          ],
          "scatter3d": [
           {
            "type": "scatter3d",
            "line": {
             "colorbar": {
              "outlinewidth": 0,
              "ticks": ""
             }
            },
            "marker": {
             "colorbar": {
              "outlinewidth": 0,
              "ticks": ""
             }
            }
           }
          ],
          "scattermapbox": [
           {
            "type": "scattermapbox",
            "marker": {
             "colorbar": {
              "outlinewidth": 0,
              "ticks": ""
             }
            }
           }
          ],
          "scatterternary": [
           {
            "type": "scatterternary",
            "marker": {
             "colorbar": {
              "outlinewidth": 0,
              "ticks": ""
             }
            }
           }
          ],
          "scattercarpet": [
           {
            "type": "scattercarpet",
            "marker": {
             "colorbar": {
              "outlinewidth": 0,
              "ticks": ""
             }
            }
           }
          ],
          "carpet": [
           {
            "aaxis": {
             "endlinecolor": "#A2B1C6",
             "gridcolor": "#506784",
             "linecolor": "#506784",
             "minorgridcolor": "#506784",
             "startlinecolor": "#A2B1C6"
            },
            "baxis": {
             "endlinecolor": "#A2B1C6",
             "gridcolor": "#506784",
             "linecolor": "#506784",
             "minorgridcolor": "#506784",
             "startlinecolor": "#A2B1C6"
            },
            "type": "carpet"
           }
          ],
          "table": [
           {
            "cells": {
             "fill": {
              "color": "#506784"
             },
             "line": {
              "color": "rgb(17,17,17)"
             }
            },
            "header": {
             "fill": {
              "color": "#2a3f5f"
             },
             "line": {
              "color": "rgb(17,17,17)"
             }
            },
            "type": "table"
           }
          ],
          "barpolar": [
           {
            "marker": {
             "line": {
              "color": "rgb(17,17,17)",
              "width": 0.5
             },
             "pattern": {
              "fillmode": "overlay",
              "size": 10,
              "solidity": 0.2
             }
            },
            "type": "barpolar"
           }
          ],
          "pie": [
           {
            "automargin": true,
            "type": "pie"
           }
          ]
         },
         "layout": {
          "autotypenumbers": "strict",
          "colorway": [
           "#636efa",
           "#EF553B",
           "#00cc96",
           "#ab63fa",
           "#FFA15A",
           "#19d3f3",
           "#FF6692",
           "#B6E880",
           "#FF97FF",
           "#FECB52"
          ],
          "font": {
           "color": "#f2f5fa"
          },
          "hovermode": "closest",
          "hoverlabel": {
           "align": "left"
          },
          "paper_bgcolor": "rgb(17,17,17)",
          "plot_bgcolor": "rgb(17,17,17)",
          "polar": {
           "bgcolor": "rgb(17,17,17)",
           "angularaxis": {
            "gridcolor": "#506784",
            "linecolor": "#506784",
            "ticks": ""
           },
           "radialaxis": {
            "gridcolor": "#506784",
            "linecolor": "#506784",
            "ticks": ""
           }
          },
          "ternary": {
           "bgcolor": "rgb(17,17,17)",
           "aaxis": {
            "gridcolor": "#506784",
            "linecolor": "#506784",
            "ticks": ""
           },
           "baxis": {
            "gridcolor": "#506784",
            "linecolor": "#506784",
            "ticks": ""
           },
           "caxis": {
            "gridcolor": "#506784",
            "linecolor": "#506784",
            "ticks": ""
           }
          },
          "coloraxis": {
           "colorbar": {
            "outlinewidth": 0,
            "ticks": ""
           }
          },
          "colorscale": {
           "sequential": [
            [
             0.0,
             "#0d0887"
            ],
            [
             0.1111111111111111,
             "#46039f"
            ],
            [
             0.2222222222222222,
             "#7201a8"
            ],
            [
             0.3333333333333333,
             "#9c179e"
            ],
            [
             0.4444444444444444,
             "#bd3786"
            ],
            [
             0.5555555555555556,
             "#d8576b"
            ],
            [
             0.6666666666666666,
             "#ed7953"
            ],
            [
             0.7777777777777778,
             "#fb9f3a"
            ],
            [
             0.8888888888888888,
             "#fdca26"
            ],
            [
             1.0,
             "#f0f921"
            ]
           ],
           "sequentialminus": [
            [
             0.0,
             "#0d0887"
            ],
            [
             0.1111111111111111,
             "#46039f"
            ],
            [
             0.2222222222222222,
             "#7201a8"
            ],
            [
             0.3333333333333333,
             "#9c179e"
            ],
            [
             0.4444444444444444,
             "#bd3786"
            ],
            [
             0.5555555555555556,
             "#d8576b"
            ],
            [
             0.6666666666666666,
             "#ed7953"
            ],
            [
             0.7777777777777778,
             "#fb9f3a"
            ],
            [
             0.8888888888888888,
             "#fdca26"
            ],
            [
             1.0,
             "#f0f921"
            ]
           ],
           "diverging": [
            [
             0,
             "#8e0152"
            ],
            [
             0.1,
             "#c51b7d"
            ],
            [
             0.2,
             "#de77ae"
            ],
            [
             0.3,
             "#f1b6da"
            ],
            [
             0.4,
             "#fde0ef"
            ],
            [
             0.5,
             "#f7f7f7"
            ],
            [
             0.6,
             "#e6f5d0"
            ],
            [
             0.7,
             "#b8e186"
            ],
            [
             0.8,
             "#7fbc41"
            ],
            [
             0.9,
             "#4d9221"
            ],
            [
             1,
             "#276419"
            ]
           ]
          },
          "xaxis": {
           "gridcolor": "#283442",
           "linecolor": "#506784",
           "ticks": "",
           "title": {
            "standoff": 15
           },
           "zerolinecolor": "#283442",
           "automargin": true,
           "zerolinewidth": 2
          },
          "yaxis": {
           "gridcolor": "#283442",
           "linecolor": "#506784",
           "ticks": "",
           "title": {
            "standoff": 15
           },
           "zerolinecolor": "#283442",
           "automargin": true,
           "zerolinewidth": 2
          },
          "scene": {
           "xaxis": {
            "backgroundcolor": "rgb(17,17,17)",
            "gridcolor": "#506784",
            "linecolor": "#506784",
            "showbackground": true,
            "ticks": "",
            "zerolinecolor": "#C8D4E3",
            "gridwidth": 2
           },
           "yaxis": {
            "backgroundcolor": "rgb(17,17,17)",
            "gridcolor": "#506784",
            "linecolor": "#506784",
            "showbackground": true,
            "ticks": "",
            "zerolinecolor": "#C8D4E3",
            "gridwidth": 2
           },
           "zaxis": {
            "backgroundcolor": "rgb(17,17,17)",
            "gridcolor": "#506784",
            "linecolor": "#506784",
            "showbackground": true,
            "ticks": "",
            "zerolinecolor": "#C8D4E3",
            "gridwidth": 2
           }
          },
          "shapedefaults": {
           "line": {
            "color": "#f2f5fa"
           }
          },
          "annotationdefaults": {
           "arrowcolor": "#f2f5fa",
           "arrowhead": 0,
           "arrowwidth": 1
          },
          "geo": {
           "bgcolor": "rgb(17,17,17)",
           "landcolor": "rgb(17,17,17)",
           "subunitcolor": "#506784",
           "showland": true,
           "showlakes": true,
           "lakecolor": "rgb(17,17,17)"
          },
          "title": {
           "x": 0.05
          },
          "updatemenudefaults": {
           "bgcolor": "#506784",
           "borderwidth": 0
          },
          "sliderdefaults": {
           "bgcolor": "#C8D4E3",
           "borderwidth": 1,
           "bordercolor": "rgb(17,17,17)",
           "tickwidth": 0
          },
          "mapbox": {
           "style": "dark"
          }
         }
        },
        "xaxis": {
         "anchor": "y",
         "domain": [
          0.0,
          1.0
         ],
         "title": {
          "text": "Tile size"
         },
         "type": "log"
        },
        "yaxis": {
         "anchor": "x",
         "domain": [
          0.0,
          1.0
         ],
         "title": {
          "text": "$\\log(I^6 + rI^3 + r^2I^2)$"
         }
        },
        "legend": {
         "title": {
          "text": "Matrix name"
         },
         "tracegroupgap": 0
        },
        "margin": {
         "t": 60
        },
        "title": {
         "text": "Influence of tile size choice on TT-MALS runtime",
         "x": 0.5,
         "xanchor": "center",
         "yanchor": "top"
        },
        "font": {
         "color": "black"
        },
        "plot_bgcolor": "white",
        "paper_bgcolor": "white"
       },
       "config": {
        "plotlyServerURL": "https://plot.ly"
       }
      },
      "text/html": [
       "<div>                            <div id=\"8ab84023-7672-486a-b2bb-3d10d4abf007\" class=\"plotly-graph-div\" style=\"height:525px; width:100%;\"></div>            <script type=\"text/javascript\">                require([\"plotly\"], function(Plotly) {                    window.PLOTLYENV=window.PLOTLYENV || {};                                    if (document.getElementById(\"8ab84023-7672-486a-b2bb-3d10d4abf007\")) {                    Plotly.newPlot(                        \"8ab84023-7672-486a-b2bb-3d10d4abf007\",                        [{\"hovertemplate\":\"Matrix name=ex15\\u003cbr\\u003eTile size=%{x}\\u003cbr\\u003elog_obj_func=%{y}\\u003cextra\\u003e\\u003c\\u002fextra\\u003e\",\"legendgroup\":\"ex15\",\"line\":{\"color\":\"#636efa\",\"dash\":\"solid\"},\"marker\":{\"symbol\":\"circle\"},\"mode\":\"lines+markers\",\"name\":\"ex15\",\"orientation\":\"v\",\"showlegend\":true,\"x\":[3.0,7.0,9.0,21.0,63.0,109.0,327.0,763.0,981.0,2289.0,6867.0],\"xaxis\":\"x\",\"y\":[29.482992716638595,28.536029991147146,28.390951267528994,28.185789690765414,28.149086028233334,28.148479344035785,34.73976309538235,39.82354824583243,41.33143477790746,46.415221920300844,53.00689565172715],\"yaxis\":\"y\",\"type\":\"scatter\"},{\"hovertemplate\":\"Matrix name=ex13\\u003cbr\\u003eTile size=%{x}\\u003cbr\\u003elog_obj_func=%{y}\\u003cextra\\u003e\\u003c\\u002fextra\\u003e\",\"legendgroup\":\"ex13\",\"line\":{\"color\":\"#EF553B\",\"dash\":\"solid\"},\"marker\":{\"symbol\":\"diamond\"},\"mode\":\"lines+markers\",\"name\":\"ex13\",\"orientation\":\"v\",\"showlegend\":true,\"x\":[2.0,3.0,4.0,6.0,8.0,12.0,24.0,107.0,214.0,321.0,428.0,642.0,856.0,1284.0,2568.0],\"xaxis\":\"x\",\"y\":[29.611911589663677,29.03896767890964,28.542605385104025,28.245248071694142,28.13580687267735,28.068312597290536,28.043064064861323,28.03709123328237,32.195860110580796,34.62864744949679,36.35473938519418,38.78752986051999,40.51362226810204,42.9464129073949,47.105295988918186],\"yaxis\":\"y\",\"type\":\"scatter\"},{\"hovertemplate\":\"Matrix name=ex10hs\\u003cbr\\u003eTile size=%{x}\\u003cbr\\u003elog_obj_func=%{y}\\u003cextra\\u003e\\u003c\\u002fextra\\u003e\",\"legendgroup\":\"ex10hs\",\"line\":{\"color\":\"#00cc96\",\"dash\":\"solid\"},\"marker\":{\"symbol\":\"square\"},\"mode\":\"lines+markers\",\"name\":\"ex10hs\",\"orientation\":\"v\",\"showlegend\":true,\"x\":[2.0,4.0,7.0,13.0,14.0,26.0,28.0,49.0,52.0,91.0,98.0,182.0,196.0,364.0,637.0,1274.0,2548.0],\"xaxis\":\"x\",\"y\":[25.745868151372967,23.805739055013966,22.0990103483351,20.319352420841287,20.271063473608542,20.413888046592636,20.58307977504528,23.36936568918179,23.718886063423362,27.06548853373771,27.510006766677083,31.224048215761098,31.66869379698681,35.38292362034165,38.74061797272882,42.89950101873315,47.0583841002128],\"yaxis\":\"y\",\"type\":\"scatter\"},{\"hovertemplate\":\"Matrix name=ex10\\u003cbr\\u003eTile size=%{x}\\u003cbr\\u003elog_obj_func=%{y}\\u003cextra\\u003e\\u003c\\u002fextra\\u003e\",\"legendgroup\":\"ex10\",\"line\":{\"color\":\"#ab63fa\",\"dash\":\"solid\"},\"marker\":{\"symbol\":\"x\"},\"mode\":\"lines+markers\",\"name\":\"ex10\",\"orientation\":\"v\",\"showlegend\":true,\"x\":[2.0,5.0,10.0,241.0,482.0,1205.0,2410.0],\"xaxis\":\"x\",\"y\":[33.1072993315822,32.922689357296704,32.910893875127286,32.90878383370194,37.06766480352669,42.56540907784224,46.72429215897967],\"yaxis\":\"y\",\"type\":\"scatter\"},{\"hovertemplate\":\"Matrix name=ex3\\u003cbr\\u003eTile size=%{x}\\u003cbr\\u003elog_obj_func=%{y}\\u003cextra\\u003e\\u003c\\u002fextra\\u003e\",\"legendgroup\":\"ex3\",\"line\":{\"color\":\"#FFA15A\",\"dash\":\"solid\"},\"marker\":{\"symbol\":\"cross\"},\"mode\":\"lines+markers\",\"name\":\"ex3\",\"orientation\":\"v\",\"showlegend\":true,\"x\":[3.0,607.0,1821.0],\"xaxis\":\"x\",\"y\":[38.45201389170608,38.451172778017046,45.042846478531345],\"yaxis\":\"y\",\"type\":\"scatter\"},{\"hovertemplate\":\"Matrix name=bcsstk13\\u003cbr\\u003eTile size=%{x}\\u003cbr\\u003elog_obj_func=%{y}\\u003cextra\\u003e\\u003c\\u002fextra\\u003e\",\"legendgroup\":\"bcsstk13\",\"line\":{\"color\":\"#19d3f3\",\"dash\":\"solid\"},\"marker\":{\"symbol\":\"circle\"},\"mode\":\"lines+markers\",\"name\":\"bcsstk13\",\"orientation\":\"v\",\"showlegend\":true,\"x\":[2003.0],\"xaxis\":\"x\",\"y\":[45.61440801411941],\"yaxis\":\"y\",\"type\":\"scatter\"},{\"hovertemplate\":\"Matrix name=Pres_Poisson\\u003cbr\\u003eTile size=%{x}\\u003cbr\\u003elog_obj_func=%{y}\\u003cextra\\u003e\\u003c\\u002fextra\\u003e\",\"legendgroup\":\"Pres_Poisson\",\"line\":{\"color\":\"#FF6692\",\"dash\":\"solid\"},\"marker\":{\"symbol\":\"diamond\"},\"mode\":\"lines+markers\",\"name\":\"Pres_Poisson\",\"orientation\":\"v\",\"showlegend\":true,\"x\":[2.0,7411.0,14822.0],\"xaxis\":\"x\",\"y\":[53.46434397668455,53.46432397171799,57.62320705506813],\"yaxis\":\"y\",\"type\":\"scatter\"}],                        {\"template\":{\"data\":{\"histogram2dcontour\":[{\"type\":\"histogram2dcontour\",\"colorbar\":{\"outlinewidth\":0,\"ticks\":\"\"},\"colorscale\":[[0.0,\"#0d0887\"],[0.1111111111111111,\"#46039f\"],[0.2222222222222222,\"#7201a8\"],[0.3333333333333333,\"#9c179e\"],[0.4444444444444444,\"#bd3786\"],[0.5555555555555556,\"#d8576b\"],[0.6666666666666666,\"#ed7953\"],[0.7777777777777778,\"#fb9f3a\"],[0.8888888888888888,\"#fdca26\"],[1.0,\"#f0f921\"]]}],\"choropleth\":[{\"type\":\"choropleth\",\"colorbar\":{\"outlinewidth\":0,\"ticks\":\"\"}}],\"histogram2d\":[{\"type\":\"histogram2d\",\"colorbar\":{\"outlinewidth\":0,\"ticks\":\"\"},\"colorscale\":[[0.0,\"#0d0887\"],[0.1111111111111111,\"#46039f\"],[0.2222222222222222,\"#7201a8\"],[0.3333333333333333,\"#9c179e\"],[0.4444444444444444,\"#bd3786\"],[0.5555555555555556,\"#d8576b\"],[0.6666666666666666,\"#ed7953\"],[0.7777777777777778,\"#fb9f3a\"],[0.8888888888888888,\"#fdca26\"],[1.0,\"#f0f921\"]]}],\"heatmap\":[{\"type\":\"heatmap\",\"colorbar\":{\"outlinewidth\":0,\"ticks\":\"\"},\"colorscale\":[[0.0,\"#0d0887\"],[0.1111111111111111,\"#46039f\"],[0.2222222222222222,\"#7201a8\"],[0.3333333333333333,\"#9c179e\"],[0.4444444444444444,\"#bd3786\"],[0.5555555555555556,\"#d8576b\"],[0.6666666666666666,\"#ed7953\"],[0.7777777777777778,\"#fb9f3a\"],[0.8888888888888888,\"#fdca26\"],[1.0,\"#f0f921\"]]}],\"heatmapgl\":[{\"type\":\"heatmapgl\",\"colorbar\":{\"outlinewidth\":0,\"ticks\":\"\"},\"colorscale\":[[0.0,\"#0d0887\"],[0.1111111111111111,\"#46039f\"],[0.2222222222222222,\"#7201a8\"],[0.3333333333333333,\"#9c179e\"],[0.4444444444444444,\"#bd3786\"],[0.5555555555555556,\"#d8576b\"],[0.6666666666666666,\"#ed7953\"],[0.7777777777777778,\"#fb9f3a\"],[0.8888888888888888,\"#fdca26\"],[1.0,\"#f0f921\"]]}],\"contourcarpet\":[{\"type\":\"contourcarpet\",\"colorbar\":{\"outlinewidth\":0,\"ticks\":\"\"}}],\"contour\":[{\"type\":\"contour\",\"colorbar\":{\"outlinewidth\":0,\"ticks\":\"\"},\"colorscale\":[[0.0,\"#0d0887\"],[0.1111111111111111,\"#46039f\"],[0.2222222222222222,\"#7201a8\"],[0.3333333333333333,\"#9c179e\"],[0.4444444444444444,\"#bd3786\"],[0.5555555555555556,\"#d8576b\"],[0.6666666666666666,\"#ed7953\"],[0.7777777777777778,\"#fb9f3a\"],[0.8888888888888888,\"#fdca26\"],[1.0,\"#f0f921\"]]}],\"surface\":[{\"type\":\"surface\",\"colorbar\":{\"outlinewidth\":0,\"ticks\":\"\"},\"colorscale\":[[0.0,\"#0d0887\"],[0.1111111111111111,\"#46039f\"],[0.2222222222222222,\"#7201a8\"],[0.3333333333333333,\"#9c179e\"],[0.4444444444444444,\"#bd3786\"],[0.5555555555555556,\"#d8576b\"],[0.6666666666666666,\"#ed7953\"],[0.7777777777777778,\"#fb9f3a\"],[0.8888888888888888,\"#fdca26\"],[1.0,\"#f0f921\"]]}],\"mesh3d\":[{\"type\":\"mesh3d\",\"colorbar\":{\"outlinewidth\":0,\"ticks\":\"\"}}],\"scatter\":[{\"marker\":{\"line\":{\"color\":\"#283442\"}},\"type\":\"scatter\"}],\"parcoords\":[{\"type\":\"parcoords\",\"line\":{\"colorbar\":{\"outlinewidth\":0,\"ticks\":\"\"}}}],\"scatterpolargl\":[{\"type\":\"scatterpolargl\",\"marker\":{\"colorbar\":{\"outlinewidth\":0,\"ticks\":\"\"}}}],\"bar\":[{\"error_x\":{\"color\":\"#f2f5fa\"},\"error_y\":{\"color\":\"#f2f5fa\"},\"marker\":{\"line\":{\"color\":\"rgb(17,17,17)\",\"width\":0.5},\"pattern\":{\"fillmode\":\"overlay\",\"size\":10,\"solidity\":0.2}},\"type\":\"bar\"}],\"scattergeo\":[{\"type\":\"scattergeo\",\"marker\":{\"colorbar\":{\"outlinewidth\":0,\"ticks\":\"\"}}}],\"scatterpolar\":[{\"type\":\"scatterpolar\",\"marker\":{\"colorbar\":{\"outlinewidth\":0,\"ticks\":\"\"}}}],\"histogram\":[{\"marker\":{\"pattern\":{\"fillmode\":\"overlay\",\"size\":10,\"solidity\":0.2}},\"type\":\"histogram\"}],\"scattergl\":[{\"marker\":{\"line\":{\"color\":\"#283442\"}},\"type\":\"scattergl\"}],\"scatter3d\":[{\"type\":\"scatter3d\",\"line\":{\"colorbar\":{\"outlinewidth\":0,\"ticks\":\"\"}},\"marker\":{\"colorbar\":{\"outlinewidth\":0,\"ticks\":\"\"}}}],\"scattermapbox\":[{\"type\":\"scattermapbox\",\"marker\":{\"colorbar\":{\"outlinewidth\":0,\"ticks\":\"\"}}}],\"scatterternary\":[{\"type\":\"scatterternary\",\"marker\":{\"colorbar\":{\"outlinewidth\":0,\"ticks\":\"\"}}}],\"scattercarpet\":[{\"type\":\"scattercarpet\",\"marker\":{\"colorbar\":{\"outlinewidth\":0,\"ticks\":\"\"}}}],\"carpet\":[{\"aaxis\":{\"endlinecolor\":\"#A2B1C6\",\"gridcolor\":\"#506784\",\"linecolor\":\"#506784\",\"minorgridcolor\":\"#506784\",\"startlinecolor\":\"#A2B1C6\"},\"baxis\":{\"endlinecolor\":\"#A2B1C6\",\"gridcolor\":\"#506784\",\"linecolor\":\"#506784\",\"minorgridcolor\":\"#506784\",\"startlinecolor\":\"#A2B1C6\"},\"type\":\"carpet\"}],\"table\":[{\"cells\":{\"fill\":{\"color\":\"#506784\"},\"line\":{\"color\":\"rgb(17,17,17)\"}},\"header\":{\"fill\":{\"color\":\"#2a3f5f\"},\"line\":{\"color\":\"rgb(17,17,17)\"}},\"type\":\"table\"}],\"barpolar\":[{\"marker\":{\"line\":{\"color\":\"rgb(17,17,17)\",\"width\":0.5},\"pattern\":{\"fillmode\":\"overlay\",\"size\":10,\"solidity\":0.2}},\"type\":\"barpolar\"}],\"pie\":[{\"automargin\":true,\"type\":\"pie\"}]},\"layout\":{\"autotypenumbers\":\"strict\",\"colorway\":[\"#636efa\",\"#EF553B\",\"#00cc96\",\"#ab63fa\",\"#FFA15A\",\"#19d3f3\",\"#FF6692\",\"#B6E880\",\"#FF97FF\",\"#FECB52\"],\"font\":{\"color\":\"#f2f5fa\"},\"hovermode\":\"closest\",\"hoverlabel\":{\"align\":\"left\"},\"paper_bgcolor\":\"rgb(17,17,17)\",\"plot_bgcolor\":\"rgb(17,17,17)\",\"polar\":{\"bgcolor\":\"rgb(17,17,17)\",\"angularaxis\":{\"gridcolor\":\"#506784\",\"linecolor\":\"#506784\",\"ticks\":\"\"},\"radialaxis\":{\"gridcolor\":\"#506784\",\"linecolor\":\"#506784\",\"ticks\":\"\"}},\"ternary\":{\"bgcolor\":\"rgb(17,17,17)\",\"aaxis\":{\"gridcolor\":\"#506784\",\"linecolor\":\"#506784\",\"ticks\":\"\"},\"baxis\":{\"gridcolor\":\"#506784\",\"linecolor\":\"#506784\",\"ticks\":\"\"},\"caxis\":{\"gridcolor\":\"#506784\",\"linecolor\":\"#506784\",\"ticks\":\"\"}},\"coloraxis\":{\"colorbar\":{\"outlinewidth\":0,\"ticks\":\"\"}},\"colorscale\":{\"sequential\":[[0.0,\"#0d0887\"],[0.1111111111111111,\"#46039f\"],[0.2222222222222222,\"#7201a8\"],[0.3333333333333333,\"#9c179e\"],[0.4444444444444444,\"#bd3786\"],[0.5555555555555556,\"#d8576b\"],[0.6666666666666666,\"#ed7953\"],[0.7777777777777778,\"#fb9f3a\"],[0.8888888888888888,\"#fdca26\"],[1.0,\"#f0f921\"]],\"sequentialminus\":[[0.0,\"#0d0887\"],[0.1111111111111111,\"#46039f\"],[0.2222222222222222,\"#7201a8\"],[0.3333333333333333,\"#9c179e\"],[0.4444444444444444,\"#bd3786\"],[0.5555555555555556,\"#d8576b\"],[0.6666666666666666,\"#ed7953\"],[0.7777777777777778,\"#fb9f3a\"],[0.8888888888888888,\"#fdca26\"],[1.0,\"#f0f921\"]],\"diverging\":[[0,\"#8e0152\"],[0.1,\"#c51b7d\"],[0.2,\"#de77ae\"],[0.3,\"#f1b6da\"],[0.4,\"#fde0ef\"],[0.5,\"#f7f7f7\"],[0.6,\"#e6f5d0\"],[0.7,\"#b8e186\"],[0.8,\"#7fbc41\"],[0.9,\"#4d9221\"],[1,\"#276419\"]]},\"xaxis\":{\"gridcolor\":\"#283442\",\"linecolor\":\"#506784\",\"ticks\":\"\",\"title\":{\"standoff\":15},\"zerolinecolor\":\"#283442\",\"automargin\":true,\"zerolinewidth\":2},\"yaxis\":{\"gridcolor\":\"#283442\",\"linecolor\":\"#506784\",\"ticks\":\"\",\"title\":{\"standoff\":15},\"zerolinecolor\":\"#283442\",\"automargin\":true,\"zerolinewidth\":2},\"scene\":{\"xaxis\":{\"backgroundcolor\":\"rgb(17,17,17)\",\"gridcolor\":\"#506784\",\"linecolor\":\"#506784\",\"showbackground\":true,\"ticks\":\"\",\"zerolinecolor\":\"#C8D4E3\",\"gridwidth\":2},\"yaxis\":{\"backgroundcolor\":\"rgb(17,17,17)\",\"gridcolor\":\"#506784\",\"linecolor\":\"#506784\",\"showbackground\":true,\"ticks\":\"\",\"zerolinecolor\":\"#C8D4E3\",\"gridwidth\":2},\"zaxis\":{\"backgroundcolor\":\"rgb(17,17,17)\",\"gridcolor\":\"#506784\",\"linecolor\":\"#506784\",\"showbackground\":true,\"ticks\":\"\",\"zerolinecolor\":\"#C8D4E3\",\"gridwidth\":2}},\"shapedefaults\":{\"line\":{\"color\":\"#f2f5fa\"}},\"annotationdefaults\":{\"arrowcolor\":\"#f2f5fa\",\"arrowhead\":0,\"arrowwidth\":1},\"geo\":{\"bgcolor\":\"rgb(17,17,17)\",\"landcolor\":\"rgb(17,17,17)\",\"subunitcolor\":\"#506784\",\"showland\":true,\"showlakes\":true,\"lakecolor\":\"rgb(17,17,17)\"},\"title\":{\"x\":0.05},\"updatemenudefaults\":{\"bgcolor\":\"#506784\",\"borderwidth\":0},\"sliderdefaults\":{\"bgcolor\":\"#C8D4E3\",\"borderwidth\":1,\"bordercolor\":\"rgb(17,17,17)\",\"tickwidth\":0},\"mapbox\":{\"style\":\"dark\"}}},\"xaxis\":{\"anchor\":\"y\",\"domain\":[0.0,1.0],\"title\":{\"text\":\"Tile size\"},\"type\":\"log\"},\"yaxis\":{\"anchor\":\"x\",\"domain\":[0.0,1.0],\"title\":{\"text\":\"$\\\\log(I^6 + rI^3 + r^2I^2)$\"}},\"legend\":{\"title\":{\"text\":\"Matrix name\"},\"tracegroupgap\":0},\"margin\":{\"t\":60},\"title\":{\"text\":\"Influence of tile size choice on TT-MALS runtime\",\"x\":0.5,\"xanchor\":\"center\",\"yanchor\":\"top\"},\"font\":{\"color\":\"black\"},\"plot_bgcolor\":\"white\",\"paper_bgcolor\":\"white\"},                        {\"responsive\": true}                    ).then(function(){\n",
       "                            \n",
       "var gd = document.getElementById('8ab84023-7672-486a-b2bb-3d10d4abf007');\n",
       "var x = new MutationObserver(function (mutations, observer) {{\n",
       "        var display = window.getComputedStyle(gd).display;\n",
       "        if (!display || display === 'none') {{\n",
       "            console.log([gd, 'removed!']);\n",
       "            Plotly.purge(gd);\n",
       "            observer.disconnect();\n",
       "        }}\n",
       "}});\n",
       "\n",
       "// Listen for the removal of the full notebook cells\n",
       "var notebookContainer = gd.closest('#notebook-container');\n",
       "if (notebookContainer) {{\n",
       "    x.observe(notebookContainer, {childList: true});\n",
       "}}\n",
       "\n",
       "// Listen for the clearing of the current output cell\n",
       "var outputEl = gd.closest('.output');\n",
       "if (outputEl) {{\n",
       "    x.observe(outputEl, {childList: true});\n",
       "}}\n",
       "\n",
       "                        })                };                });            </script>        </div>"
      ]
     },
     "metadata": {},
     "output_type": "display_data"
    }
   ],
   "execution_count": 33
  },
  {
   "metadata": {
    "ExecuteTime": {
     "end_time": "2024-06-17T07:59:51.056054Z",
     "start_time": "2024-06-17T07:59:50.862678Z"
    }
   },
   "cell_type": "code",
   "source": [
    "# trade-off between rank and max mode size - baseline\n",
    "fig = px.line(baseline_df, x=\"rank\", y=\"max_mode_size\", color=\"matrix_name\", symbol=\"matrix_name\", log_x=True, log_y=True, \n",
    "                 labels={\n",
    "                     \"rank\": \"Rank (r)\",\n",
    "                     \"matrix_name\": \"Matrix name\",\n",
    "                     \"max_mode_size\": \"Maximum mode size (I)\",\n",
    "                 })\n",
    "fig.update_layout(\n",
    "    title={\n",
    "        'text': \"Trade-off between rank and maximum mode size\",\n",
    "        'x':0.5,\n",
    "        'xanchor': 'center',\n",
    "        'yanchor': 'top'\n",
    "    },\n",
    "    plot_bgcolor='white',   # Plot area background color\n",
    "    paper_bgcolor='white',  # Entire figure background color\n",
    "    font=dict(color='black') # Font color\n",
    ")\n",
    "fig.show()\n",
    "\n",
    "fig.write_image(\"plots/baseline_max_mode_size_vs_rank.pdf\")"
   ],
   "id": "6273f199d1cb25e6",
   "outputs": [
    {
     "data": {
      "application/vnd.plotly.v1+json": {
       "data": [
        {
         "hovertemplate": "Matrix name=ex15<br>Rank (r)=%{x}<br>Maximum mode size (I)=%{y}<extra></extra>",
         "legendgroup": "ex15",
         "line": {
          "color": "#636efa",
          "dash": "solid"
         },
         "marker": {
          "symbol": "circle"
         },
         "mode": "lines+markers",
         "name": "ex15",
         "orientation": "v",
         "showlegend": true,
         "x": [
          19825.0,
          8125.0,
          6175.0,
          2275.0,
          325.0,
          187.0,
          61.0,
          25.0,
          19.0,
          7.0,
          1.0
         ],
         "xaxis": "x",
         "y": [
          109.0,
          109.0,
          109.0,
          109.0,
          109.0,
          109.0,
          327.0,
          763.0,
          981.0,
          2289.0,
          6867.0
         ],
         "yaxis": "y",
         "type": "scatter"
        },
        {
         "hovertemplate": "Matrix name=ex13<br>Rank (r)=%{x}<br>Maximum mode size (I)=%{y}<extra></extra>",
         "legendgroup": "ex13",
         "line": {
          "color": "#EF553B",
          "dash": "solid"
         },
         "marker": {
          "symbol": "diamond"
         },
         "mode": "lines+markers",
         "name": "ex13",
         "orientation": "v",
         "showlegend": true,
         "x": [
          22354.0,
          14978.0,
          9234.0,
          5456.0,
          3637.0,
          1990.0,
          843.0,
          82.0,
          34.0,
          22.0,
          16.0,
          10.0,
          7.0,
          4.0,
          1.0
         ],
         "xaxis": "x",
         "y": [
          107.0,
          107.0,
          107.0,
          107.0,
          107.0,
          107.0,
          107.0,
          107.0,
          214.0,
          321.0,
          428.0,
          642.0,
          856.0,
          1284.0,
          2568.0
         ],
         "yaxis": "y",
         "type": "scatter"
        },
        {
         "hovertemplate": "Matrix name=ex10hs<br>Rank (r)=%{x}<br>Maximum mode size (I)=%{y}<extra></extra>",
         "legendgroup": "ex10hs",
         "line": {
          "color": "#00cc96",
          "dash": "solid"
         },
         "marker": {
          "symbol": "square"
         },
         "mode": "lines+markers",
         "name": "ex10hs",
         "orientation": "v",
         "showlegend": true,
         "x": [
          29964.0,
          11353.0,
          4830.0,
          1974.0,
          1784.0,
          780.0,
          689.0,
          304.0,
          265.0,
          112.0,
          96.0,
          40.0,
          37.0,
          19.0,
          10.0,
          4.0,
          1.0
         ],
         "xaxis": "x",
         "y": [
          13.0,
          13.0,
          13.0,
          13.0,
          14.0,
          26.0,
          28.0,
          49.0,
          52.0,
          91.0,
          98.0,
          182.0,
          196.0,
          364.0,
          637.0,
          1274.0,
          2548.0
         ],
         "yaxis": "y",
         "type": "scatter"
        },
        {
         "hovertemplate": "Matrix name=ex10<br>Rank (r)=%{x}<br>Maximum mode size (I)=%{y}<extra></extra>",
         "legendgroup": "ex10",
         "line": {
          "color": "#ab63fa",
          "dash": "solid"
         },
         "marker": {
          "symbol": "x"
         },
         "mode": "lines+markers",
         "name": "ex10",
         "orientation": "v",
         "showlegend": true,
         "x": [
          27097.0,
          6754.0,
          2553.0,
          28.0,
          13.0,
          4.0,
          1.0
         ],
         "xaxis": "x",
         "y": [
          241.0,
          241.0,
          241.0,
          241.0,
          482.0,
          1205.0,
          2410.0
         ],
         "yaxis": "y",
         "type": "scatter"
        },
        {
         "hovertemplate": "Matrix name=ex3<br>Rank (r)=%{x}<br>Maximum mode size (I)=%{y}<extra></extra>",
         "legendgroup": "ex3",
         "line": {
          "color": "#FFA15A",
          "dash": "solid"
         },
         "marker": {
          "symbol": "cross"
         },
         "mode": "lines+markers",
         "name": "ex3",
         "orientation": "v",
         "showlegend": true,
         "x": [
          10389.0,
          7.0,
          1.0
         ],
         "xaxis": "x",
         "y": [
          607.0,
          607.0,
          1821.0
         ],
         "yaxis": "y",
         "type": "scatter"
        },
        {
         "hovertemplate": "Matrix name=bcsstk13<br>Rank (r)=%{x}<br>Maximum mode size (I)=%{y}<extra></extra>",
         "legendgroup": "bcsstk13",
         "line": {
          "color": "#19d3f3",
          "dash": "solid"
         },
         "marker": {
          "symbol": "circle"
         },
         "mode": "lines+markers",
         "name": "bcsstk13",
         "orientation": "v",
         "showlegend": true,
         "x": [
          1.0
         ],
         "xaxis": "x",
         "y": [
          2003.0
         ],
         "yaxis": "y",
         "type": "scatter"
        },
        {
         "hovertemplate": "Matrix name=Pres_Poisson<br>Rank (r)=%{x}<br>Maximum mode size (I)=%{y}<extra></extra>",
         "legendgroup": "Pres_Poisson",
         "line": {
          "color": "#FF6692",
          "dash": "solid"
         },
         "marker": {
          "symbol": "diamond"
         },
         "mode": "lines+markers",
         "name": "Pres_Poisson",
         "orientation": "v",
         "showlegend": true,
         "x": [
          241977.0,
          4.0,
          1.0
         ],
         "xaxis": "x",
         "y": [
          7411.0,
          7411.0,
          14822.0
         ],
         "yaxis": "y",
         "type": "scatter"
        }
       ],
       "layout": {
        "template": {
         "data": {
          "histogram2dcontour": [
           {
            "type": "histogram2dcontour",
            "colorbar": {
             "outlinewidth": 0,
             "ticks": ""
            },
            "colorscale": [
             [
              0.0,
              "#0d0887"
             ],
             [
              0.1111111111111111,
              "#46039f"
             ],
             [
              0.2222222222222222,
              "#7201a8"
             ],
             [
              0.3333333333333333,
              "#9c179e"
             ],
             [
              0.4444444444444444,
              "#bd3786"
             ],
             [
              0.5555555555555556,
              "#d8576b"
             ],
             [
              0.6666666666666666,
              "#ed7953"
             ],
             [
              0.7777777777777778,
              "#fb9f3a"
             ],
             [
              0.8888888888888888,
              "#fdca26"
             ],
             [
              1.0,
              "#f0f921"
             ]
            ]
           }
          ],
          "choropleth": [
           {
            "type": "choropleth",
            "colorbar": {
             "outlinewidth": 0,
             "ticks": ""
            }
           }
          ],
          "histogram2d": [
           {
            "type": "histogram2d",
            "colorbar": {
             "outlinewidth": 0,
             "ticks": ""
            },
            "colorscale": [
             [
              0.0,
              "#0d0887"
             ],
             [
              0.1111111111111111,
              "#46039f"
             ],
             [
              0.2222222222222222,
              "#7201a8"
             ],
             [
              0.3333333333333333,
              "#9c179e"
             ],
             [
              0.4444444444444444,
              "#bd3786"
             ],
             [
              0.5555555555555556,
              "#d8576b"
             ],
             [
              0.6666666666666666,
              "#ed7953"
             ],
             [
              0.7777777777777778,
              "#fb9f3a"
             ],
             [
              0.8888888888888888,
              "#fdca26"
             ],
             [
              1.0,
              "#f0f921"
             ]
            ]
           }
          ],
          "heatmap": [
           {
            "type": "heatmap",
            "colorbar": {
             "outlinewidth": 0,
             "ticks": ""
            },
            "colorscale": [
             [
              0.0,
              "#0d0887"
             ],
             [
              0.1111111111111111,
              "#46039f"
             ],
             [
              0.2222222222222222,
              "#7201a8"
             ],
             [
              0.3333333333333333,
              "#9c179e"
             ],
             [
              0.4444444444444444,
              "#bd3786"
             ],
             [
              0.5555555555555556,
              "#d8576b"
             ],
             [
              0.6666666666666666,
              "#ed7953"
             ],
             [
              0.7777777777777778,
              "#fb9f3a"
             ],
             [
              0.8888888888888888,
              "#fdca26"
             ],
             [
              1.0,
              "#f0f921"
             ]
            ]
           }
          ],
          "heatmapgl": [
           {
            "type": "heatmapgl",
            "colorbar": {
             "outlinewidth": 0,
             "ticks": ""
            },
            "colorscale": [
             [
              0.0,
              "#0d0887"
             ],
             [
              0.1111111111111111,
              "#46039f"
             ],
             [
              0.2222222222222222,
              "#7201a8"
             ],
             [
              0.3333333333333333,
              "#9c179e"
             ],
             [
              0.4444444444444444,
              "#bd3786"
             ],
             [
              0.5555555555555556,
              "#d8576b"
             ],
             [
              0.6666666666666666,
              "#ed7953"
             ],
             [
              0.7777777777777778,
              "#fb9f3a"
             ],
             [
              0.8888888888888888,
              "#fdca26"
             ],
             [
              1.0,
              "#f0f921"
             ]
            ]
           }
          ],
          "contourcarpet": [
           {
            "type": "contourcarpet",
            "colorbar": {
             "outlinewidth": 0,
             "ticks": ""
            }
           }
          ],
          "contour": [
           {
            "type": "contour",
            "colorbar": {
             "outlinewidth": 0,
             "ticks": ""
            },
            "colorscale": [
             [
              0.0,
              "#0d0887"
             ],
             [
              0.1111111111111111,
              "#46039f"
             ],
             [
              0.2222222222222222,
              "#7201a8"
             ],
             [
              0.3333333333333333,
              "#9c179e"
             ],
             [
              0.4444444444444444,
              "#bd3786"
             ],
             [
              0.5555555555555556,
              "#d8576b"
             ],
             [
              0.6666666666666666,
              "#ed7953"
             ],
             [
              0.7777777777777778,
              "#fb9f3a"
             ],
             [
              0.8888888888888888,
              "#fdca26"
             ],
             [
              1.0,
              "#f0f921"
             ]
            ]
           }
          ],
          "surface": [
           {
            "type": "surface",
            "colorbar": {
             "outlinewidth": 0,
             "ticks": ""
            },
            "colorscale": [
             [
              0.0,
              "#0d0887"
             ],
             [
              0.1111111111111111,
              "#46039f"
             ],
             [
              0.2222222222222222,
              "#7201a8"
             ],
             [
              0.3333333333333333,
              "#9c179e"
             ],
             [
              0.4444444444444444,
              "#bd3786"
             ],
             [
              0.5555555555555556,
              "#d8576b"
             ],
             [
              0.6666666666666666,
              "#ed7953"
             ],
             [
              0.7777777777777778,
              "#fb9f3a"
             ],
             [
              0.8888888888888888,
              "#fdca26"
             ],
             [
              1.0,
              "#f0f921"
             ]
            ]
           }
          ],
          "mesh3d": [
           {
            "type": "mesh3d",
            "colorbar": {
             "outlinewidth": 0,
             "ticks": ""
            }
           }
          ],
          "scatter": [
           {
            "marker": {
             "line": {
              "color": "#283442"
             }
            },
            "type": "scatter"
           }
          ],
          "parcoords": [
           {
            "type": "parcoords",
            "line": {
             "colorbar": {
              "outlinewidth": 0,
              "ticks": ""
             }
            }
           }
          ],
          "scatterpolargl": [
           {
            "type": "scatterpolargl",
            "marker": {
             "colorbar": {
              "outlinewidth": 0,
              "ticks": ""
             }
            }
           }
          ],
          "bar": [
           {
            "error_x": {
             "color": "#f2f5fa"
            },
            "error_y": {
             "color": "#f2f5fa"
            },
            "marker": {
             "line": {
              "color": "rgb(17,17,17)",
              "width": 0.5
             },
             "pattern": {
              "fillmode": "overlay",
              "size": 10,
              "solidity": 0.2
             }
            },
            "type": "bar"
           }
          ],
          "scattergeo": [
           {
            "type": "scattergeo",
            "marker": {
             "colorbar": {
              "outlinewidth": 0,
              "ticks": ""
             }
            }
           }
          ],
          "scatterpolar": [
           {
            "type": "scatterpolar",
            "marker": {
             "colorbar": {
              "outlinewidth": 0,
              "ticks": ""
             }
            }
           }
          ],
          "histogram": [
           {
            "marker": {
             "pattern": {
              "fillmode": "overlay",
              "size": 10,
              "solidity": 0.2
             }
            },
            "type": "histogram"
           }
          ],
          "scattergl": [
           {
            "marker": {
             "line": {
              "color": "#283442"
             }
            },
            "type": "scattergl"
           }
          ],
          "scatter3d": [
           {
            "type": "scatter3d",
            "line": {
             "colorbar": {
              "outlinewidth": 0,
              "ticks": ""
             }
            },
            "marker": {
             "colorbar": {
              "outlinewidth": 0,
              "ticks": ""
             }
            }
           }
          ],
          "scattermapbox": [
           {
            "type": "scattermapbox",
            "marker": {
             "colorbar": {
              "outlinewidth": 0,
              "ticks": ""
             }
            }
           }
          ],
          "scatterternary": [
           {
            "type": "scatterternary",
            "marker": {
             "colorbar": {
              "outlinewidth": 0,
              "ticks": ""
             }
            }
           }
          ],
          "scattercarpet": [
           {
            "type": "scattercarpet",
            "marker": {
             "colorbar": {
              "outlinewidth": 0,
              "ticks": ""
             }
            }
           }
          ],
          "carpet": [
           {
            "aaxis": {
             "endlinecolor": "#A2B1C6",
             "gridcolor": "#506784",
             "linecolor": "#506784",
             "minorgridcolor": "#506784",
             "startlinecolor": "#A2B1C6"
            },
            "baxis": {
             "endlinecolor": "#A2B1C6",
             "gridcolor": "#506784",
             "linecolor": "#506784",
             "minorgridcolor": "#506784",
             "startlinecolor": "#A2B1C6"
            },
            "type": "carpet"
           }
          ],
          "table": [
           {
            "cells": {
             "fill": {
              "color": "#506784"
             },
             "line": {
              "color": "rgb(17,17,17)"
             }
            },
            "header": {
             "fill": {
              "color": "#2a3f5f"
             },
             "line": {
              "color": "rgb(17,17,17)"
             }
            },
            "type": "table"
           }
          ],
          "barpolar": [
           {
            "marker": {
             "line": {
              "color": "rgb(17,17,17)",
              "width": 0.5
             },
             "pattern": {
              "fillmode": "overlay",
              "size": 10,
              "solidity": 0.2
             }
            },
            "type": "barpolar"
           }
          ],
          "pie": [
           {
            "automargin": true,
            "type": "pie"
           }
          ]
         },
         "layout": {
          "autotypenumbers": "strict",
          "colorway": [
           "#636efa",
           "#EF553B",
           "#00cc96",
           "#ab63fa",
           "#FFA15A",
           "#19d3f3",
           "#FF6692",
           "#B6E880",
           "#FF97FF",
           "#FECB52"
          ],
          "font": {
           "color": "#f2f5fa"
          },
          "hovermode": "closest",
          "hoverlabel": {
           "align": "left"
          },
          "paper_bgcolor": "rgb(17,17,17)",
          "plot_bgcolor": "rgb(17,17,17)",
          "polar": {
           "bgcolor": "rgb(17,17,17)",
           "angularaxis": {
            "gridcolor": "#506784",
            "linecolor": "#506784",
            "ticks": ""
           },
           "radialaxis": {
            "gridcolor": "#506784",
            "linecolor": "#506784",
            "ticks": ""
           }
          },
          "ternary": {
           "bgcolor": "rgb(17,17,17)",
           "aaxis": {
            "gridcolor": "#506784",
            "linecolor": "#506784",
            "ticks": ""
           },
           "baxis": {
            "gridcolor": "#506784",
            "linecolor": "#506784",
            "ticks": ""
           },
           "caxis": {
            "gridcolor": "#506784",
            "linecolor": "#506784",
            "ticks": ""
           }
          },
          "coloraxis": {
           "colorbar": {
            "outlinewidth": 0,
            "ticks": ""
           }
          },
          "colorscale": {
           "sequential": [
            [
             0.0,
             "#0d0887"
            ],
            [
             0.1111111111111111,
             "#46039f"
            ],
            [
             0.2222222222222222,
             "#7201a8"
            ],
            [
             0.3333333333333333,
             "#9c179e"
            ],
            [
             0.4444444444444444,
             "#bd3786"
            ],
            [
             0.5555555555555556,
             "#d8576b"
            ],
            [
             0.6666666666666666,
             "#ed7953"
            ],
            [
             0.7777777777777778,
             "#fb9f3a"
            ],
            [
             0.8888888888888888,
             "#fdca26"
            ],
            [
             1.0,
             "#f0f921"
            ]
           ],
           "sequentialminus": [
            [
             0.0,
             "#0d0887"
            ],
            [
             0.1111111111111111,
             "#46039f"
            ],
            [
             0.2222222222222222,
             "#7201a8"
            ],
            [
             0.3333333333333333,
             "#9c179e"
            ],
            [
             0.4444444444444444,
             "#bd3786"
            ],
            [
             0.5555555555555556,
             "#d8576b"
            ],
            [
             0.6666666666666666,
             "#ed7953"
            ],
            [
             0.7777777777777778,
             "#fb9f3a"
            ],
            [
             0.8888888888888888,
             "#fdca26"
            ],
            [
             1.0,
             "#f0f921"
            ]
           ],
           "diverging": [
            [
             0,
             "#8e0152"
            ],
            [
             0.1,
             "#c51b7d"
            ],
            [
             0.2,
             "#de77ae"
            ],
            [
             0.3,
             "#f1b6da"
            ],
            [
             0.4,
             "#fde0ef"
            ],
            [
             0.5,
             "#f7f7f7"
            ],
            [
             0.6,
             "#e6f5d0"
            ],
            [
             0.7,
             "#b8e186"
            ],
            [
             0.8,
             "#7fbc41"
            ],
            [
             0.9,
             "#4d9221"
            ],
            [
             1,
             "#276419"
            ]
           ]
          },
          "xaxis": {
           "gridcolor": "#283442",
           "linecolor": "#506784",
           "ticks": "",
           "title": {
            "standoff": 15
           },
           "zerolinecolor": "#283442",
           "automargin": true,
           "zerolinewidth": 2
          },
          "yaxis": {
           "gridcolor": "#283442",
           "linecolor": "#506784",
           "ticks": "",
           "title": {
            "standoff": 15
           },
           "zerolinecolor": "#283442",
           "automargin": true,
           "zerolinewidth": 2
          },
          "scene": {
           "xaxis": {
            "backgroundcolor": "rgb(17,17,17)",
            "gridcolor": "#506784",
            "linecolor": "#506784",
            "showbackground": true,
            "ticks": "",
            "zerolinecolor": "#C8D4E3",
            "gridwidth": 2
           },
           "yaxis": {
            "backgroundcolor": "rgb(17,17,17)",
            "gridcolor": "#506784",
            "linecolor": "#506784",
            "showbackground": true,
            "ticks": "",
            "zerolinecolor": "#C8D4E3",
            "gridwidth": 2
           },
           "zaxis": {
            "backgroundcolor": "rgb(17,17,17)",
            "gridcolor": "#506784",
            "linecolor": "#506784",
            "showbackground": true,
            "ticks": "",
            "zerolinecolor": "#C8D4E3",
            "gridwidth": 2
           }
          },
          "shapedefaults": {
           "line": {
            "color": "#f2f5fa"
           }
          },
          "annotationdefaults": {
           "arrowcolor": "#f2f5fa",
           "arrowhead": 0,
           "arrowwidth": 1
          },
          "geo": {
           "bgcolor": "rgb(17,17,17)",
           "landcolor": "rgb(17,17,17)",
           "subunitcolor": "#506784",
           "showland": true,
           "showlakes": true,
           "lakecolor": "rgb(17,17,17)"
          },
          "title": {
           "x": 0.05
          },
          "updatemenudefaults": {
           "bgcolor": "#506784",
           "borderwidth": 0
          },
          "sliderdefaults": {
           "bgcolor": "#C8D4E3",
           "borderwidth": 1,
           "bordercolor": "rgb(17,17,17)",
           "tickwidth": 0
          },
          "mapbox": {
           "style": "dark"
          }
         }
        },
        "xaxis": {
         "anchor": "y",
         "domain": [
          0.0,
          1.0
         ],
         "title": {
          "text": "Rank (r)"
         },
         "type": "log"
        },
        "yaxis": {
         "anchor": "x",
         "domain": [
          0.0,
          1.0
         ],
         "title": {
          "text": "Maximum mode size (I)"
         },
         "type": "log"
        },
        "legend": {
         "title": {
          "text": "Matrix name"
         },
         "tracegroupgap": 0
        },
        "margin": {
         "t": 60
        },
        "title": {
         "text": "Trade-off between rank and maximum mode size",
         "x": 0.5,
         "xanchor": "center",
         "yanchor": "top"
        },
        "font": {
         "color": "black"
        },
        "plot_bgcolor": "white",
        "paper_bgcolor": "white"
       },
       "config": {
        "plotlyServerURL": "https://plot.ly"
       }
      },
      "text/html": [
       "<div>                            <div id=\"0c46085e-642f-4348-96b6-34a052c17559\" class=\"plotly-graph-div\" style=\"height:525px; width:100%;\"></div>            <script type=\"text/javascript\">                require([\"plotly\"], function(Plotly) {                    window.PLOTLYENV=window.PLOTLYENV || {};                                    if (document.getElementById(\"0c46085e-642f-4348-96b6-34a052c17559\")) {                    Plotly.newPlot(                        \"0c46085e-642f-4348-96b6-34a052c17559\",                        [{\"hovertemplate\":\"Matrix name=ex15\\u003cbr\\u003eRank (r)=%{x}\\u003cbr\\u003eMaximum mode size (I)=%{y}\\u003cextra\\u003e\\u003c\\u002fextra\\u003e\",\"legendgroup\":\"ex15\",\"line\":{\"color\":\"#636efa\",\"dash\":\"solid\"},\"marker\":{\"symbol\":\"circle\"},\"mode\":\"lines+markers\",\"name\":\"ex15\",\"orientation\":\"v\",\"showlegend\":true,\"x\":[19825.0,8125.0,6175.0,2275.0,325.0,187.0,61.0,25.0,19.0,7.0,1.0],\"xaxis\":\"x\",\"y\":[109.0,109.0,109.0,109.0,109.0,109.0,327.0,763.0,981.0,2289.0,6867.0],\"yaxis\":\"y\",\"type\":\"scatter\"},{\"hovertemplate\":\"Matrix name=ex13\\u003cbr\\u003eRank (r)=%{x}\\u003cbr\\u003eMaximum mode size (I)=%{y}\\u003cextra\\u003e\\u003c\\u002fextra\\u003e\",\"legendgroup\":\"ex13\",\"line\":{\"color\":\"#EF553B\",\"dash\":\"solid\"},\"marker\":{\"symbol\":\"diamond\"},\"mode\":\"lines+markers\",\"name\":\"ex13\",\"orientation\":\"v\",\"showlegend\":true,\"x\":[22354.0,14978.0,9234.0,5456.0,3637.0,1990.0,843.0,82.0,34.0,22.0,16.0,10.0,7.0,4.0,1.0],\"xaxis\":\"x\",\"y\":[107.0,107.0,107.0,107.0,107.0,107.0,107.0,107.0,214.0,321.0,428.0,642.0,856.0,1284.0,2568.0],\"yaxis\":\"y\",\"type\":\"scatter\"},{\"hovertemplate\":\"Matrix name=ex10hs\\u003cbr\\u003eRank (r)=%{x}\\u003cbr\\u003eMaximum mode size (I)=%{y}\\u003cextra\\u003e\\u003c\\u002fextra\\u003e\",\"legendgroup\":\"ex10hs\",\"line\":{\"color\":\"#00cc96\",\"dash\":\"solid\"},\"marker\":{\"symbol\":\"square\"},\"mode\":\"lines+markers\",\"name\":\"ex10hs\",\"orientation\":\"v\",\"showlegend\":true,\"x\":[29964.0,11353.0,4830.0,1974.0,1784.0,780.0,689.0,304.0,265.0,112.0,96.0,40.0,37.0,19.0,10.0,4.0,1.0],\"xaxis\":\"x\",\"y\":[13.0,13.0,13.0,13.0,14.0,26.0,28.0,49.0,52.0,91.0,98.0,182.0,196.0,364.0,637.0,1274.0,2548.0],\"yaxis\":\"y\",\"type\":\"scatter\"},{\"hovertemplate\":\"Matrix name=ex10\\u003cbr\\u003eRank (r)=%{x}\\u003cbr\\u003eMaximum mode size (I)=%{y}\\u003cextra\\u003e\\u003c\\u002fextra\\u003e\",\"legendgroup\":\"ex10\",\"line\":{\"color\":\"#ab63fa\",\"dash\":\"solid\"},\"marker\":{\"symbol\":\"x\"},\"mode\":\"lines+markers\",\"name\":\"ex10\",\"orientation\":\"v\",\"showlegend\":true,\"x\":[27097.0,6754.0,2553.0,28.0,13.0,4.0,1.0],\"xaxis\":\"x\",\"y\":[241.0,241.0,241.0,241.0,482.0,1205.0,2410.0],\"yaxis\":\"y\",\"type\":\"scatter\"},{\"hovertemplate\":\"Matrix name=ex3\\u003cbr\\u003eRank (r)=%{x}\\u003cbr\\u003eMaximum mode size (I)=%{y}\\u003cextra\\u003e\\u003c\\u002fextra\\u003e\",\"legendgroup\":\"ex3\",\"line\":{\"color\":\"#FFA15A\",\"dash\":\"solid\"},\"marker\":{\"symbol\":\"cross\"},\"mode\":\"lines+markers\",\"name\":\"ex3\",\"orientation\":\"v\",\"showlegend\":true,\"x\":[10389.0,7.0,1.0],\"xaxis\":\"x\",\"y\":[607.0,607.0,1821.0],\"yaxis\":\"y\",\"type\":\"scatter\"},{\"hovertemplate\":\"Matrix name=bcsstk13\\u003cbr\\u003eRank (r)=%{x}\\u003cbr\\u003eMaximum mode size (I)=%{y}\\u003cextra\\u003e\\u003c\\u002fextra\\u003e\",\"legendgroup\":\"bcsstk13\",\"line\":{\"color\":\"#19d3f3\",\"dash\":\"solid\"},\"marker\":{\"symbol\":\"circle\"},\"mode\":\"lines+markers\",\"name\":\"bcsstk13\",\"orientation\":\"v\",\"showlegend\":true,\"x\":[1.0],\"xaxis\":\"x\",\"y\":[2003.0],\"yaxis\":\"y\",\"type\":\"scatter\"},{\"hovertemplate\":\"Matrix name=Pres_Poisson\\u003cbr\\u003eRank (r)=%{x}\\u003cbr\\u003eMaximum mode size (I)=%{y}\\u003cextra\\u003e\\u003c\\u002fextra\\u003e\",\"legendgroup\":\"Pres_Poisson\",\"line\":{\"color\":\"#FF6692\",\"dash\":\"solid\"},\"marker\":{\"symbol\":\"diamond\"},\"mode\":\"lines+markers\",\"name\":\"Pres_Poisson\",\"orientation\":\"v\",\"showlegend\":true,\"x\":[241977.0,4.0,1.0],\"xaxis\":\"x\",\"y\":[7411.0,7411.0,14822.0],\"yaxis\":\"y\",\"type\":\"scatter\"}],                        {\"template\":{\"data\":{\"histogram2dcontour\":[{\"type\":\"histogram2dcontour\",\"colorbar\":{\"outlinewidth\":0,\"ticks\":\"\"},\"colorscale\":[[0.0,\"#0d0887\"],[0.1111111111111111,\"#46039f\"],[0.2222222222222222,\"#7201a8\"],[0.3333333333333333,\"#9c179e\"],[0.4444444444444444,\"#bd3786\"],[0.5555555555555556,\"#d8576b\"],[0.6666666666666666,\"#ed7953\"],[0.7777777777777778,\"#fb9f3a\"],[0.8888888888888888,\"#fdca26\"],[1.0,\"#f0f921\"]]}],\"choropleth\":[{\"type\":\"choropleth\",\"colorbar\":{\"outlinewidth\":0,\"ticks\":\"\"}}],\"histogram2d\":[{\"type\":\"histogram2d\",\"colorbar\":{\"outlinewidth\":0,\"ticks\":\"\"},\"colorscale\":[[0.0,\"#0d0887\"],[0.1111111111111111,\"#46039f\"],[0.2222222222222222,\"#7201a8\"],[0.3333333333333333,\"#9c179e\"],[0.4444444444444444,\"#bd3786\"],[0.5555555555555556,\"#d8576b\"],[0.6666666666666666,\"#ed7953\"],[0.7777777777777778,\"#fb9f3a\"],[0.8888888888888888,\"#fdca26\"],[1.0,\"#f0f921\"]]}],\"heatmap\":[{\"type\":\"heatmap\",\"colorbar\":{\"outlinewidth\":0,\"ticks\":\"\"},\"colorscale\":[[0.0,\"#0d0887\"],[0.1111111111111111,\"#46039f\"],[0.2222222222222222,\"#7201a8\"],[0.3333333333333333,\"#9c179e\"],[0.4444444444444444,\"#bd3786\"],[0.5555555555555556,\"#d8576b\"],[0.6666666666666666,\"#ed7953\"],[0.7777777777777778,\"#fb9f3a\"],[0.8888888888888888,\"#fdca26\"],[1.0,\"#f0f921\"]]}],\"heatmapgl\":[{\"type\":\"heatmapgl\",\"colorbar\":{\"outlinewidth\":0,\"ticks\":\"\"},\"colorscale\":[[0.0,\"#0d0887\"],[0.1111111111111111,\"#46039f\"],[0.2222222222222222,\"#7201a8\"],[0.3333333333333333,\"#9c179e\"],[0.4444444444444444,\"#bd3786\"],[0.5555555555555556,\"#d8576b\"],[0.6666666666666666,\"#ed7953\"],[0.7777777777777778,\"#fb9f3a\"],[0.8888888888888888,\"#fdca26\"],[1.0,\"#f0f921\"]]}],\"contourcarpet\":[{\"type\":\"contourcarpet\",\"colorbar\":{\"outlinewidth\":0,\"ticks\":\"\"}}],\"contour\":[{\"type\":\"contour\",\"colorbar\":{\"outlinewidth\":0,\"ticks\":\"\"},\"colorscale\":[[0.0,\"#0d0887\"],[0.1111111111111111,\"#46039f\"],[0.2222222222222222,\"#7201a8\"],[0.3333333333333333,\"#9c179e\"],[0.4444444444444444,\"#bd3786\"],[0.5555555555555556,\"#d8576b\"],[0.6666666666666666,\"#ed7953\"],[0.7777777777777778,\"#fb9f3a\"],[0.8888888888888888,\"#fdca26\"],[1.0,\"#f0f921\"]]}],\"surface\":[{\"type\":\"surface\",\"colorbar\":{\"outlinewidth\":0,\"ticks\":\"\"},\"colorscale\":[[0.0,\"#0d0887\"],[0.1111111111111111,\"#46039f\"],[0.2222222222222222,\"#7201a8\"],[0.3333333333333333,\"#9c179e\"],[0.4444444444444444,\"#bd3786\"],[0.5555555555555556,\"#d8576b\"],[0.6666666666666666,\"#ed7953\"],[0.7777777777777778,\"#fb9f3a\"],[0.8888888888888888,\"#fdca26\"],[1.0,\"#f0f921\"]]}],\"mesh3d\":[{\"type\":\"mesh3d\",\"colorbar\":{\"outlinewidth\":0,\"ticks\":\"\"}}],\"scatter\":[{\"marker\":{\"line\":{\"color\":\"#283442\"}},\"type\":\"scatter\"}],\"parcoords\":[{\"type\":\"parcoords\",\"line\":{\"colorbar\":{\"outlinewidth\":0,\"ticks\":\"\"}}}],\"scatterpolargl\":[{\"type\":\"scatterpolargl\",\"marker\":{\"colorbar\":{\"outlinewidth\":0,\"ticks\":\"\"}}}],\"bar\":[{\"error_x\":{\"color\":\"#f2f5fa\"},\"error_y\":{\"color\":\"#f2f5fa\"},\"marker\":{\"line\":{\"color\":\"rgb(17,17,17)\",\"width\":0.5},\"pattern\":{\"fillmode\":\"overlay\",\"size\":10,\"solidity\":0.2}},\"type\":\"bar\"}],\"scattergeo\":[{\"type\":\"scattergeo\",\"marker\":{\"colorbar\":{\"outlinewidth\":0,\"ticks\":\"\"}}}],\"scatterpolar\":[{\"type\":\"scatterpolar\",\"marker\":{\"colorbar\":{\"outlinewidth\":0,\"ticks\":\"\"}}}],\"histogram\":[{\"marker\":{\"pattern\":{\"fillmode\":\"overlay\",\"size\":10,\"solidity\":0.2}},\"type\":\"histogram\"}],\"scattergl\":[{\"marker\":{\"line\":{\"color\":\"#283442\"}},\"type\":\"scattergl\"}],\"scatter3d\":[{\"type\":\"scatter3d\",\"line\":{\"colorbar\":{\"outlinewidth\":0,\"ticks\":\"\"}},\"marker\":{\"colorbar\":{\"outlinewidth\":0,\"ticks\":\"\"}}}],\"scattermapbox\":[{\"type\":\"scattermapbox\",\"marker\":{\"colorbar\":{\"outlinewidth\":0,\"ticks\":\"\"}}}],\"scatterternary\":[{\"type\":\"scatterternary\",\"marker\":{\"colorbar\":{\"outlinewidth\":0,\"ticks\":\"\"}}}],\"scattercarpet\":[{\"type\":\"scattercarpet\",\"marker\":{\"colorbar\":{\"outlinewidth\":0,\"ticks\":\"\"}}}],\"carpet\":[{\"aaxis\":{\"endlinecolor\":\"#A2B1C6\",\"gridcolor\":\"#506784\",\"linecolor\":\"#506784\",\"minorgridcolor\":\"#506784\",\"startlinecolor\":\"#A2B1C6\"},\"baxis\":{\"endlinecolor\":\"#A2B1C6\",\"gridcolor\":\"#506784\",\"linecolor\":\"#506784\",\"minorgridcolor\":\"#506784\",\"startlinecolor\":\"#A2B1C6\"},\"type\":\"carpet\"}],\"table\":[{\"cells\":{\"fill\":{\"color\":\"#506784\"},\"line\":{\"color\":\"rgb(17,17,17)\"}},\"header\":{\"fill\":{\"color\":\"#2a3f5f\"},\"line\":{\"color\":\"rgb(17,17,17)\"}},\"type\":\"table\"}],\"barpolar\":[{\"marker\":{\"line\":{\"color\":\"rgb(17,17,17)\",\"width\":0.5},\"pattern\":{\"fillmode\":\"overlay\",\"size\":10,\"solidity\":0.2}},\"type\":\"barpolar\"}],\"pie\":[{\"automargin\":true,\"type\":\"pie\"}]},\"layout\":{\"autotypenumbers\":\"strict\",\"colorway\":[\"#636efa\",\"#EF553B\",\"#00cc96\",\"#ab63fa\",\"#FFA15A\",\"#19d3f3\",\"#FF6692\",\"#B6E880\",\"#FF97FF\",\"#FECB52\"],\"font\":{\"color\":\"#f2f5fa\"},\"hovermode\":\"closest\",\"hoverlabel\":{\"align\":\"left\"},\"paper_bgcolor\":\"rgb(17,17,17)\",\"plot_bgcolor\":\"rgb(17,17,17)\",\"polar\":{\"bgcolor\":\"rgb(17,17,17)\",\"angularaxis\":{\"gridcolor\":\"#506784\",\"linecolor\":\"#506784\",\"ticks\":\"\"},\"radialaxis\":{\"gridcolor\":\"#506784\",\"linecolor\":\"#506784\",\"ticks\":\"\"}},\"ternary\":{\"bgcolor\":\"rgb(17,17,17)\",\"aaxis\":{\"gridcolor\":\"#506784\",\"linecolor\":\"#506784\",\"ticks\":\"\"},\"baxis\":{\"gridcolor\":\"#506784\",\"linecolor\":\"#506784\",\"ticks\":\"\"},\"caxis\":{\"gridcolor\":\"#506784\",\"linecolor\":\"#506784\",\"ticks\":\"\"}},\"coloraxis\":{\"colorbar\":{\"outlinewidth\":0,\"ticks\":\"\"}},\"colorscale\":{\"sequential\":[[0.0,\"#0d0887\"],[0.1111111111111111,\"#46039f\"],[0.2222222222222222,\"#7201a8\"],[0.3333333333333333,\"#9c179e\"],[0.4444444444444444,\"#bd3786\"],[0.5555555555555556,\"#d8576b\"],[0.6666666666666666,\"#ed7953\"],[0.7777777777777778,\"#fb9f3a\"],[0.8888888888888888,\"#fdca26\"],[1.0,\"#f0f921\"]],\"sequentialminus\":[[0.0,\"#0d0887\"],[0.1111111111111111,\"#46039f\"],[0.2222222222222222,\"#7201a8\"],[0.3333333333333333,\"#9c179e\"],[0.4444444444444444,\"#bd3786\"],[0.5555555555555556,\"#d8576b\"],[0.6666666666666666,\"#ed7953\"],[0.7777777777777778,\"#fb9f3a\"],[0.8888888888888888,\"#fdca26\"],[1.0,\"#f0f921\"]],\"diverging\":[[0,\"#8e0152\"],[0.1,\"#c51b7d\"],[0.2,\"#de77ae\"],[0.3,\"#f1b6da\"],[0.4,\"#fde0ef\"],[0.5,\"#f7f7f7\"],[0.6,\"#e6f5d0\"],[0.7,\"#b8e186\"],[0.8,\"#7fbc41\"],[0.9,\"#4d9221\"],[1,\"#276419\"]]},\"xaxis\":{\"gridcolor\":\"#283442\",\"linecolor\":\"#506784\",\"ticks\":\"\",\"title\":{\"standoff\":15},\"zerolinecolor\":\"#283442\",\"automargin\":true,\"zerolinewidth\":2},\"yaxis\":{\"gridcolor\":\"#283442\",\"linecolor\":\"#506784\",\"ticks\":\"\",\"title\":{\"standoff\":15},\"zerolinecolor\":\"#283442\",\"automargin\":true,\"zerolinewidth\":2},\"scene\":{\"xaxis\":{\"backgroundcolor\":\"rgb(17,17,17)\",\"gridcolor\":\"#506784\",\"linecolor\":\"#506784\",\"showbackground\":true,\"ticks\":\"\",\"zerolinecolor\":\"#C8D4E3\",\"gridwidth\":2},\"yaxis\":{\"backgroundcolor\":\"rgb(17,17,17)\",\"gridcolor\":\"#506784\",\"linecolor\":\"#506784\",\"showbackground\":true,\"ticks\":\"\",\"zerolinecolor\":\"#C8D4E3\",\"gridwidth\":2},\"zaxis\":{\"backgroundcolor\":\"rgb(17,17,17)\",\"gridcolor\":\"#506784\",\"linecolor\":\"#506784\",\"showbackground\":true,\"ticks\":\"\",\"zerolinecolor\":\"#C8D4E3\",\"gridwidth\":2}},\"shapedefaults\":{\"line\":{\"color\":\"#f2f5fa\"}},\"annotationdefaults\":{\"arrowcolor\":\"#f2f5fa\",\"arrowhead\":0,\"arrowwidth\":1},\"geo\":{\"bgcolor\":\"rgb(17,17,17)\",\"landcolor\":\"rgb(17,17,17)\",\"subunitcolor\":\"#506784\",\"showland\":true,\"showlakes\":true,\"lakecolor\":\"rgb(17,17,17)\"},\"title\":{\"x\":0.05},\"updatemenudefaults\":{\"bgcolor\":\"#506784\",\"borderwidth\":0},\"sliderdefaults\":{\"bgcolor\":\"#C8D4E3\",\"borderwidth\":1,\"bordercolor\":\"rgb(17,17,17)\",\"tickwidth\":0},\"mapbox\":{\"style\":\"dark\"}}},\"xaxis\":{\"anchor\":\"y\",\"domain\":[0.0,1.0],\"title\":{\"text\":\"Rank (r)\"},\"type\":\"log\"},\"yaxis\":{\"anchor\":\"x\",\"domain\":[0.0,1.0],\"title\":{\"text\":\"Maximum mode size (I)\"},\"type\":\"log\"},\"legend\":{\"title\":{\"text\":\"Matrix name\"},\"tracegroupgap\":0},\"margin\":{\"t\":60},\"title\":{\"text\":\"Trade-off between rank and maximum mode size\",\"x\":0.5,\"xanchor\":\"center\",\"yanchor\":\"top\"},\"font\":{\"color\":\"black\"},\"plot_bgcolor\":\"white\",\"paper_bgcolor\":\"white\"},                        {\"responsive\": true}                    ).then(function(){\n",
       "                            \n",
       "var gd = document.getElementById('0c46085e-642f-4348-96b6-34a052c17559');\n",
       "var x = new MutationObserver(function (mutations, observer) {{\n",
       "        var display = window.getComputedStyle(gd).display;\n",
       "        if (!display || display === 'none') {{\n",
       "            console.log([gd, 'removed!']);\n",
       "            Plotly.purge(gd);\n",
       "            observer.disconnect();\n",
       "        }}\n",
       "}});\n",
       "\n",
       "// Listen for the removal of the full notebook cells\n",
       "var notebookContainer = gd.closest('#notebook-container');\n",
       "if (notebookContainer) {{\n",
       "    x.observe(notebookContainer, {childList: true});\n",
       "}}\n",
       "\n",
       "// Listen for the clearing of the current output cell\n",
       "var outputEl = gd.closest('.output');\n",
       "if (outputEl) {{\n",
       "    x.observe(outputEl, {childList: true});\n",
       "}}\n",
       "\n",
       "                        })                };                });            </script>        </div>"
      ]
     },
     "metadata": {},
     "output_type": "display_data"
    }
   ],
   "execution_count": 34
  },
  {
   "metadata": {
    "ExecuteTime": {
     "end_time": "2024-06-17T07:59:51.264765Z",
     "start_time": "2024-06-17T07:59:51.249134Z"
    }
   },
   "cell_type": "code",
   "source": [
    "# explore effects of padding: \n",
    "def line_plot_padding_tile_size_tt_mals_runtime(matrix_str: str):\n",
    "    default_colorscale = px.colors.sequential.Jet\n",
    "    colors = px.colors.sample_colorscale(default_colorscale, 11)\n",
    "    fig = px.line(padding_df[padding_df[\"matrix_name\"] == matrix_str], x=\"tile_size\", y=\"log_obj_func\", color=\"padding\", symbol=\"padding\", log_x=True, color_discrete_sequence=colors,\n",
    "                     labels={\n",
    "                         \"tile_size\": \"Tile size\",\n",
    "                     })\n",
    "    fig.update_layout(\n",
    "        title={\n",
    "            'text': \"Influence of tile size choice and padding on TT-MALS runtime ({})\".format(matrix_str),\n",
    "            'x':0.5,\n",
    "            'xanchor': 'center',\n",
    "            'yanchor': 'top'\n",
    "        },\n",
    "        plot_bgcolor='white',   # Plot area background color\n",
    "        paper_bgcolor='white',  # Entire figure background color\n",
    "        font=dict(color='black'), # Font color\n",
    "        yaxis_title=r'$\\log(I^6 + rI^3 + r^2I^2)$'\n",
    "    )\n",
    "    fig.show()\n",
    "    \n",
    "    fig.write_image(\"plots/{}_padding_tile_size_vs_log_obj_func.pdf\".format(matrix_str))"
   ],
   "id": "9d11a0f5ba27be0d",
   "outputs": [],
   "execution_count": 35
  },
  {
   "metadata": {
    "ExecuteTime": {
     "end_time": "2024-06-17T07:59:51.975680Z",
     "start_time": "2024-06-17T07:59:51.656602Z"
    }
   },
   "cell_type": "code",
   "source": [
    "# show different cases: when it helps and when it cannot improve the situation\n",
    "line_plot_padding_tile_size_tt_mals_runtime(\"ex3\")"
   ],
   "id": "dfa49cee031b5a17",
   "outputs": [
    {
     "data": {
      "application/vnd.plotly.v1+json": {
       "data": [
        {
         "hovertemplate": "padding=10<br>Tile size=%{x}<br>log_obj_func=%{y}<extra></extra>",
         "legendgroup": "10",
         "line": {
          "color": "rgb(0, 0, 131)",
          "dash": "solid"
         },
         "marker": {
          "symbol": "circle"
         },
         "mode": "lines+markers",
         "name": "10",
         "orientation": "v",
         "showlegend": true,
         "x": [
          1831.0
         ],
         "xaxis": "x",
         "y": [
          45.07570526821006
         ],
         "yaxis": "y",
         "type": "scatter"
        },
        {
         "hovertemplate": "padding=9<br>Tile size=%{x}<br>log_obj_func=%{y}<extra></extra>",
         "legendgroup": "9",
         "line": {
          "color": "rgb(0, 30, 150)",
          "dash": "solid"
         },
         "marker": {
          "symbol": "diamond"
         },
         "mode": "lines+markers",
         "name": "9",
         "orientation": "v",
         "showlegend": true,
         "x": [
          2.0,
          3.0,
          5.0,
          6.0,
          10.0,
          15.0,
          30.0,
          61.0,
          122.0,
          183.0,
          305.0,
          366.0,
          610.0,
          915.0,
          1830.0
         ],
         "xaxis": "x",
         "y": [
          27.808662215602812,
          26.844641631188917,
          25.81848514919074,
          25.45162204293014,
          24.92787840225254,
          24.76451727829262,
          24.6830366221358,
          24.667474721563526,
          28.824160190465644,
          31.256922184917734,
          34.32187125315104,
          35.41580027498141,
          38.48075377419762,
          40.91354439689747,
          45.07242747517606
         ],
         "yaxis": "y",
         "type": "scatter"
        },
        {
         "hovertemplate": "padding=8<br>Tile size=%{x}<br>log_obj_func=%{y}<extra></extra>",
         "legendgroup": "8",
         "line": {
          "color": "rgb(0, 60, 170)",
          "dash": "solid"
         },
         "marker": {
          "symbol": "square"
         },
         "mode": "lines+markers",
         "name": "8",
         "orientation": "v",
         "showlegend": true,
         "x": [
          31.0,
          59.0,
          1829.0
         ],
         "xaxis": "x",
         "y": [
          24.484341179995727,
          24.467897907603763,
          45.069147890508724
         ],
         "yaxis": "y",
         "type": "scatter"
        },
        {
         "hovertemplate": "padding=7<br>Tile size=%{x}<br>log_obj_func=%{y}<extra></extra>",
         "legendgroup": "7",
         "line": {
          "color": "rgb(2, 157, 212)",
          "dash": "solid"
         },
         "marker": {
          "symbol": "x"
         },
         "mode": "lines+markers",
         "name": "7",
         "orientation": "v",
         "showlegend": true,
         "x": [
          2.0,
          4.0,
          457.0,
          914.0,
          1828.0
         ],
         "xaxis": "x",
         "y": [
          36.755275034532744,
          36.749394288758495,
          36.748100452431345,
          40.906983433986504,
          45.06586651224837
         ],
         "yaxis": "y",
         "type": "scatter"
        },
        {
         "hovertemplate": "padding=6<br>Tile size=%{x}<br>log_obj_func=%{y}<extra></extra>",
         "legendgroup": "6",
         "line": {
          "color": "rgb(5, 255, 255)",
          "dash": "solid"
         },
         "marker": {
          "symbol": "cross"
         },
         "mode": "lines+markers",
         "name": "6",
         "orientation": "v",
         "showlegend": true,
         "x": [
          3.0,
          7.0,
          9.0,
          21.0,
          29.0,
          63.0,
          87.0,
          203.0,
          261.0,
          609.0,
          1827.0
         ],
         "xaxis": "x",
         "y": [
          25.240898415906493,
          23.011923693762867,
          22.36540941698513,
          20.818961497897877,
          20.518305002316666,
          24.86054620296296,
          26.79571291272164,
          31.87923923077641,
          33.38712359037094,
          38.47090963760736,
          45.062583338432106
         ],
         "yaxis": "y",
         "type": "scatter"
        },
        {
         "hovertemplate": "padding=5<br>Tile size=%{x}<br>log_obj_func=%{y}<extra></extra>",
         "legendgroup": "5",
         "line": {
          "color": "rgb(130, 255, 128)",
          "dash": "solid"
         },
         "marker": {
          "symbol": "circle"
         },
         "mode": "lines+markers",
         "name": "5",
         "orientation": "v",
         "showlegend": true,
         "x": [
          2.0,
          11.0,
          22.0,
          83.0,
          166.0,
          913.0,
          1826.0
         ],
         "xaxis": "x",
         "y": [
          28.525268522754125,
          26.579869492205884,
          26.524868816977236,
          26.513429173959384,
          30.67193477269022,
          40.90041528884875,
          45.05929836709382
         ],
         "yaxis": "y",
         "type": "scatter"
        },
        {
         "hovertemplate": "padding=4<br>Tile size=%{x}<br>log_obj_func=%{y}<extra></extra>",
         "legendgroup": "4",
         "line": {
          "color": "rgb(255, 255, 0)",
          "dash": "solid"
         },
         "marker": {
          "symbol": "diamond"
         },
         "mode": "lines+markers",
         "name": "4",
         "orientation": "v",
         "showlegend": true,
         "x": [
          5.0,
          25.0,
          73.0,
          365.0,
          1825.0
         ],
         "xaxis": "x",
         "y": [
          26.465244531074102,
          25.75727620934059,
          25.743517671996166,
          35.39938439835713,
          45.056011596264156
         ],
         "yaxis": "y",
         "type": "scatter"
        },
        {
         "hovertemplate": "padding=3<br>Tile size=%{x}<br>log_obj_func=%{y}<extra></extra>",
         "legendgroup": "3",
         "line": {
          "color": "rgb(252, 128, 0)",
          "dash": "solid"
         },
         "marker": {
          "symbol": "square"
         },
         "mode": "lines+markers",
         "name": "3",
         "orientation": "v",
         "showlegend": true,
         "x": [
          2.0,
          3.0,
          4.0,
          6.0,
          8.0,
          12.0,
          16.0,
          19.0,
          24.0,
          32.0,
          38.0,
          48.0,
          57.0,
          76.0,
          96.0,
          114.0,
          152.0,
          228.0,
          304.0,
          456.0,
          608.0,
          912.0,
          1824.0
         ],
         "xaxis": "x",
         "y": [
          25.429729432114964,
          24.388915325425835,
          23.682441386506916,
          22.508505398862926,
          21.783962674183073,
          20.66708065677267,
          19.999691227778246,
          19.637967691403535,
          19.885982051915306,
          20.967197631638438,
          21.883396621061763,
          23.23843429617741,
          24.261882112361803,
          25.985013123095484,
          27.386240135841334,
          28.417244402447217,
          30.143294972256292,
          32.57607580900053,
          34.30216680791843,
          36.73495696486342,
          38.46104932330051,
          40.89383994574233,
          45.052723023970536
         ],
         "yaxis": "y",
         "type": "scatter"
        },
        {
         "hovertemplate": "padding=2<br>Tile size=%{x}<br>log_obj_func=%{y}<extra></extra>",
         "legendgroup": "2",
         "line": {
          "color": "rgb(250, 0, 0)",
          "dash": "solid"
         },
         "marker": {
          "symbol": "x"
         },
         "mode": "lines+markers",
         "name": "2",
         "orientation": "v",
         "showlegend": true,
         "x": [
          1823.0
         ],
         "xaxis": "x",
         "y": [
          45.04943264823713
         ],
         "yaxis": "y",
         "type": "scatter"
        },
        {
         "hovertemplate": "padding=1<br>Tile size=%{x}<br>log_obj_func=%{y}<extra></extra>",
         "legendgroup": "1",
         "line": {
          "color": "rgb(189, 0, 0)",
          "dash": "solid"
         },
         "marker": {
          "symbol": "cross"
         },
         "mode": "lines+markers",
         "name": "1",
         "orientation": "v",
         "showlegend": true,
         "x": [
          2.0,
          911.0,
          1822.0
         ],
         "xaxis": "x",
         "y": [
          40.88772479394303,
          40.88725738887358,
          45.04614046708485
         ],
         "yaxis": "y",
         "type": "scatter"
        },
        {
         "hovertemplate": "padding=0<br>Tile size=%{x}<br>log_obj_func=%{y}<extra></extra>",
         "legendgroup": "0",
         "line": {
          "color": "rgb(128, 0, 0)",
          "dash": "solid"
         },
         "marker": {
          "symbol": "circle"
         },
         "mode": "lines+markers",
         "name": "0",
         "orientation": "v",
         "showlegend": true,
         "x": [
          3.0,
          607.0,
          1821.0
         ],
         "xaxis": "x",
         "y": [
          38.45201389170608,
          38.451172778017046,
          45.042846478531345
         ],
         "yaxis": "y",
         "type": "scatter"
        }
       ],
       "layout": {
        "template": {
         "data": {
          "histogram2dcontour": [
           {
            "type": "histogram2dcontour",
            "colorbar": {
             "outlinewidth": 0,
             "ticks": ""
            },
            "colorscale": [
             [
              0.0,
              "#0d0887"
             ],
             [
              0.1111111111111111,
              "#46039f"
             ],
             [
              0.2222222222222222,
              "#7201a8"
             ],
             [
              0.3333333333333333,
              "#9c179e"
             ],
             [
              0.4444444444444444,
              "#bd3786"
             ],
             [
              0.5555555555555556,
              "#d8576b"
             ],
             [
              0.6666666666666666,
              "#ed7953"
             ],
             [
              0.7777777777777778,
              "#fb9f3a"
             ],
             [
              0.8888888888888888,
              "#fdca26"
             ],
             [
              1.0,
              "#f0f921"
             ]
            ]
           }
          ],
          "choropleth": [
           {
            "type": "choropleth",
            "colorbar": {
             "outlinewidth": 0,
             "ticks": ""
            }
           }
          ],
          "histogram2d": [
           {
            "type": "histogram2d",
            "colorbar": {
             "outlinewidth": 0,
             "ticks": ""
            },
            "colorscale": [
             [
              0.0,
              "#0d0887"
             ],
             [
              0.1111111111111111,
              "#46039f"
             ],
             [
              0.2222222222222222,
              "#7201a8"
             ],
             [
              0.3333333333333333,
              "#9c179e"
             ],
             [
              0.4444444444444444,
              "#bd3786"
             ],
             [
              0.5555555555555556,
              "#d8576b"
             ],
             [
              0.6666666666666666,
              "#ed7953"
             ],
             [
              0.7777777777777778,
              "#fb9f3a"
             ],
             [
              0.8888888888888888,
              "#fdca26"
             ],
             [
              1.0,
              "#f0f921"
             ]
            ]
           }
          ],
          "heatmap": [
           {
            "type": "heatmap",
            "colorbar": {
             "outlinewidth": 0,
             "ticks": ""
            },
            "colorscale": [
             [
              0.0,
              "#0d0887"
             ],
             [
              0.1111111111111111,
              "#46039f"
             ],
             [
              0.2222222222222222,
              "#7201a8"
             ],
             [
              0.3333333333333333,
              "#9c179e"
             ],
             [
              0.4444444444444444,
              "#bd3786"
             ],
             [
              0.5555555555555556,
              "#d8576b"
             ],
             [
              0.6666666666666666,
              "#ed7953"
             ],
             [
              0.7777777777777778,
              "#fb9f3a"
             ],
             [
              0.8888888888888888,
              "#fdca26"
             ],
             [
              1.0,
              "#f0f921"
             ]
            ]
           }
          ],
          "heatmapgl": [
           {
            "type": "heatmapgl",
            "colorbar": {
             "outlinewidth": 0,
             "ticks": ""
            },
            "colorscale": [
             [
              0.0,
              "#0d0887"
             ],
             [
              0.1111111111111111,
              "#46039f"
             ],
             [
              0.2222222222222222,
              "#7201a8"
             ],
             [
              0.3333333333333333,
              "#9c179e"
             ],
             [
              0.4444444444444444,
              "#bd3786"
             ],
             [
              0.5555555555555556,
              "#d8576b"
             ],
             [
              0.6666666666666666,
              "#ed7953"
             ],
             [
              0.7777777777777778,
              "#fb9f3a"
             ],
             [
              0.8888888888888888,
              "#fdca26"
             ],
             [
              1.0,
              "#f0f921"
             ]
            ]
           }
          ],
          "contourcarpet": [
           {
            "type": "contourcarpet",
            "colorbar": {
             "outlinewidth": 0,
             "ticks": ""
            }
           }
          ],
          "contour": [
           {
            "type": "contour",
            "colorbar": {
             "outlinewidth": 0,
             "ticks": ""
            },
            "colorscale": [
             [
              0.0,
              "#0d0887"
             ],
             [
              0.1111111111111111,
              "#46039f"
             ],
             [
              0.2222222222222222,
              "#7201a8"
             ],
             [
              0.3333333333333333,
              "#9c179e"
             ],
             [
              0.4444444444444444,
              "#bd3786"
             ],
             [
              0.5555555555555556,
              "#d8576b"
             ],
             [
              0.6666666666666666,
              "#ed7953"
             ],
             [
              0.7777777777777778,
              "#fb9f3a"
             ],
             [
              0.8888888888888888,
              "#fdca26"
             ],
             [
              1.0,
              "#f0f921"
             ]
            ]
           }
          ],
          "surface": [
           {
            "type": "surface",
            "colorbar": {
             "outlinewidth": 0,
             "ticks": ""
            },
            "colorscale": [
             [
              0.0,
              "#0d0887"
             ],
             [
              0.1111111111111111,
              "#46039f"
             ],
             [
              0.2222222222222222,
              "#7201a8"
             ],
             [
              0.3333333333333333,
              "#9c179e"
             ],
             [
              0.4444444444444444,
              "#bd3786"
             ],
             [
              0.5555555555555556,
              "#d8576b"
             ],
             [
              0.6666666666666666,
              "#ed7953"
             ],
             [
              0.7777777777777778,
              "#fb9f3a"
             ],
             [
              0.8888888888888888,
              "#fdca26"
             ],
             [
              1.0,
              "#f0f921"
             ]
            ]
           }
          ],
          "mesh3d": [
           {
            "type": "mesh3d",
            "colorbar": {
             "outlinewidth": 0,
             "ticks": ""
            }
           }
          ],
          "scatter": [
           {
            "marker": {
             "line": {
              "color": "#283442"
             }
            },
            "type": "scatter"
           }
          ],
          "parcoords": [
           {
            "type": "parcoords",
            "line": {
             "colorbar": {
              "outlinewidth": 0,
              "ticks": ""
             }
            }
           }
          ],
          "scatterpolargl": [
           {
            "type": "scatterpolargl",
            "marker": {
             "colorbar": {
              "outlinewidth": 0,
              "ticks": ""
             }
            }
           }
          ],
          "bar": [
           {
            "error_x": {
             "color": "#f2f5fa"
            },
            "error_y": {
             "color": "#f2f5fa"
            },
            "marker": {
             "line": {
              "color": "rgb(17,17,17)",
              "width": 0.5
             },
             "pattern": {
              "fillmode": "overlay",
              "size": 10,
              "solidity": 0.2
             }
            },
            "type": "bar"
           }
          ],
          "scattergeo": [
           {
            "type": "scattergeo",
            "marker": {
             "colorbar": {
              "outlinewidth": 0,
              "ticks": ""
             }
            }
           }
          ],
          "scatterpolar": [
           {
            "type": "scatterpolar",
            "marker": {
             "colorbar": {
              "outlinewidth": 0,
              "ticks": ""
             }
            }
           }
          ],
          "histogram": [
           {
            "marker": {
             "pattern": {
              "fillmode": "overlay",
              "size": 10,
              "solidity": 0.2
             }
            },
            "type": "histogram"
           }
          ],
          "scattergl": [
           {
            "marker": {
             "line": {
              "color": "#283442"
             }
            },
            "type": "scattergl"
           }
          ],
          "scatter3d": [
           {
            "type": "scatter3d",
            "line": {
             "colorbar": {
              "outlinewidth": 0,
              "ticks": ""
             }
            },
            "marker": {
             "colorbar": {
              "outlinewidth": 0,
              "ticks": ""
             }
            }
           }
          ],
          "scattermapbox": [
           {
            "type": "scattermapbox",
            "marker": {
             "colorbar": {
              "outlinewidth": 0,
              "ticks": ""
             }
            }
           }
          ],
          "scatterternary": [
           {
            "type": "scatterternary",
            "marker": {
             "colorbar": {
              "outlinewidth": 0,
              "ticks": ""
             }
            }
           }
          ],
          "scattercarpet": [
           {
            "type": "scattercarpet",
            "marker": {
             "colorbar": {
              "outlinewidth": 0,
              "ticks": ""
             }
            }
           }
          ],
          "carpet": [
           {
            "aaxis": {
             "endlinecolor": "#A2B1C6",
             "gridcolor": "#506784",
             "linecolor": "#506784",
             "minorgridcolor": "#506784",
             "startlinecolor": "#A2B1C6"
            },
            "baxis": {
             "endlinecolor": "#A2B1C6",
             "gridcolor": "#506784",
             "linecolor": "#506784",
             "minorgridcolor": "#506784",
             "startlinecolor": "#A2B1C6"
            },
            "type": "carpet"
           }
          ],
          "table": [
           {
            "cells": {
             "fill": {
              "color": "#506784"
             },
             "line": {
              "color": "rgb(17,17,17)"
             }
            },
            "header": {
             "fill": {
              "color": "#2a3f5f"
             },
             "line": {
              "color": "rgb(17,17,17)"
             }
            },
            "type": "table"
           }
          ],
          "barpolar": [
           {
            "marker": {
             "line": {
              "color": "rgb(17,17,17)",
              "width": 0.5
             },
             "pattern": {
              "fillmode": "overlay",
              "size": 10,
              "solidity": 0.2
             }
            },
            "type": "barpolar"
           }
          ],
          "pie": [
           {
            "automargin": true,
            "type": "pie"
           }
          ]
         },
         "layout": {
          "autotypenumbers": "strict",
          "colorway": [
           "#636efa",
           "#EF553B",
           "#00cc96",
           "#ab63fa",
           "#FFA15A",
           "#19d3f3",
           "#FF6692",
           "#B6E880",
           "#FF97FF",
           "#FECB52"
          ],
          "font": {
           "color": "#f2f5fa"
          },
          "hovermode": "closest",
          "hoverlabel": {
           "align": "left"
          },
          "paper_bgcolor": "rgb(17,17,17)",
          "plot_bgcolor": "rgb(17,17,17)",
          "polar": {
           "bgcolor": "rgb(17,17,17)",
           "angularaxis": {
            "gridcolor": "#506784",
            "linecolor": "#506784",
            "ticks": ""
           },
           "radialaxis": {
            "gridcolor": "#506784",
            "linecolor": "#506784",
            "ticks": ""
           }
          },
          "ternary": {
           "bgcolor": "rgb(17,17,17)",
           "aaxis": {
            "gridcolor": "#506784",
            "linecolor": "#506784",
            "ticks": ""
           },
           "baxis": {
            "gridcolor": "#506784",
            "linecolor": "#506784",
            "ticks": ""
           },
           "caxis": {
            "gridcolor": "#506784",
            "linecolor": "#506784",
            "ticks": ""
           }
          },
          "coloraxis": {
           "colorbar": {
            "outlinewidth": 0,
            "ticks": ""
           }
          },
          "colorscale": {
           "sequential": [
            [
             0.0,
             "#0d0887"
            ],
            [
             0.1111111111111111,
             "#46039f"
            ],
            [
             0.2222222222222222,
             "#7201a8"
            ],
            [
             0.3333333333333333,
             "#9c179e"
            ],
            [
             0.4444444444444444,
             "#bd3786"
            ],
            [
             0.5555555555555556,
             "#d8576b"
            ],
            [
             0.6666666666666666,
             "#ed7953"
            ],
            [
             0.7777777777777778,
             "#fb9f3a"
            ],
            [
             0.8888888888888888,
             "#fdca26"
            ],
            [
             1.0,
             "#f0f921"
            ]
           ],
           "sequentialminus": [
            [
             0.0,
             "#0d0887"
            ],
            [
             0.1111111111111111,
             "#46039f"
            ],
            [
             0.2222222222222222,
             "#7201a8"
            ],
            [
             0.3333333333333333,
             "#9c179e"
            ],
            [
             0.4444444444444444,
             "#bd3786"
            ],
            [
             0.5555555555555556,
             "#d8576b"
            ],
            [
             0.6666666666666666,
             "#ed7953"
            ],
            [
             0.7777777777777778,
             "#fb9f3a"
            ],
            [
             0.8888888888888888,
             "#fdca26"
            ],
            [
             1.0,
             "#f0f921"
            ]
           ],
           "diverging": [
            [
             0,
             "#8e0152"
            ],
            [
             0.1,
             "#c51b7d"
            ],
            [
             0.2,
             "#de77ae"
            ],
            [
             0.3,
             "#f1b6da"
            ],
            [
             0.4,
             "#fde0ef"
            ],
            [
             0.5,
             "#f7f7f7"
            ],
            [
             0.6,
             "#e6f5d0"
            ],
            [
             0.7,
             "#b8e186"
            ],
            [
             0.8,
             "#7fbc41"
            ],
            [
             0.9,
             "#4d9221"
            ],
            [
             1,
             "#276419"
            ]
           ]
          },
          "xaxis": {
           "gridcolor": "#283442",
           "linecolor": "#506784",
           "ticks": "",
           "title": {
            "standoff": 15
           },
           "zerolinecolor": "#283442",
           "automargin": true,
           "zerolinewidth": 2
          },
          "yaxis": {
           "gridcolor": "#283442",
           "linecolor": "#506784",
           "ticks": "",
           "title": {
            "standoff": 15
           },
           "zerolinecolor": "#283442",
           "automargin": true,
           "zerolinewidth": 2
          },
          "scene": {
           "xaxis": {
            "backgroundcolor": "rgb(17,17,17)",
            "gridcolor": "#506784",
            "linecolor": "#506784",
            "showbackground": true,
            "ticks": "",
            "zerolinecolor": "#C8D4E3",
            "gridwidth": 2
           },
           "yaxis": {
            "backgroundcolor": "rgb(17,17,17)",
            "gridcolor": "#506784",
            "linecolor": "#506784",
            "showbackground": true,
            "ticks": "",
            "zerolinecolor": "#C8D4E3",
            "gridwidth": 2
           },
           "zaxis": {
            "backgroundcolor": "rgb(17,17,17)",
            "gridcolor": "#506784",
            "linecolor": "#506784",
            "showbackground": true,
            "ticks": "",
            "zerolinecolor": "#C8D4E3",
            "gridwidth": 2
           }
          },
          "shapedefaults": {
           "line": {
            "color": "#f2f5fa"
           }
          },
          "annotationdefaults": {
           "arrowcolor": "#f2f5fa",
           "arrowhead": 0,
           "arrowwidth": 1
          },
          "geo": {
           "bgcolor": "rgb(17,17,17)",
           "landcolor": "rgb(17,17,17)",
           "subunitcolor": "#506784",
           "showland": true,
           "showlakes": true,
           "lakecolor": "rgb(17,17,17)"
          },
          "title": {
           "x": 0.05
          },
          "updatemenudefaults": {
           "bgcolor": "#506784",
           "borderwidth": 0
          },
          "sliderdefaults": {
           "bgcolor": "#C8D4E3",
           "borderwidth": 1,
           "bordercolor": "rgb(17,17,17)",
           "tickwidth": 0
          },
          "mapbox": {
           "style": "dark"
          }
         }
        },
        "xaxis": {
         "anchor": "y",
         "domain": [
          0.0,
          1.0
         ],
         "title": {
          "text": "Tile size"
         },
         "type": "log"
        },
        "yaxis": {
         "anchor": "x",
         "domain": [
          0.0,
          1.0
         ],
         "title": {
          "text": "$\\log(I^6 + rI^3 + r^2I^2)$"
         }
        },
        "legend": {
         "title": {
          "text": "padding"
         },
         "tracegroupgap": 0
        },
        "margin": {
         "t": 60
        },
        "title": {
         "text": "Influence of tile size choice and padding on TT-MALS runtime (ex3)",
         "x": 0.5,
         "xanchor": "center",
         "yanchor": "top"
        },
        "font": {
         "color": "black"
        },
        "plot_bgcolor": "white",
        "paper_bgcolor": "white"
       },
       "config": {
        "plotlyServerURL": "https://plot.ly"
       }
      },
      "text/html": [
       "<div>                            <div id=\"13dfe188-2184-45bc-ad02-e484a8336c14\" class=\"plotly-graph-div\" style=\"height:525px; width:100%;\"></div>            <script type=\"text/javascript\">                require([\"plotly\"], function(Plotly) {                    window.PLOTLYENV=window.PLOTLYENV || {};                                    if (document.getElementById(\"13dfe188-2184-45bc-ad02-e484a8336c14\")) {                    Plotly.newPlot(                        \"13dfe188-2184-45bc-ad02-e484a8336c14\",                        [{\"hovertemplate\":\"padding=10\\u003cbr\\u003eTile size=%{x}\\u003cbr\\u003elog_obj_func=%{y}\\u003cextra\\u003e\\u003c\\u002fextra\\u003e\",\"legendgroup\":\"10\",\"line\":{\"color\":\"rgb(0, 0, 131)\",\"dash\":\"solid\"},\"marker\":{\"symbol\":\"circle\"},\"mode\":\"lines+markers\",\"name\":\"10\",\"orientation\":\"v\",\"showlegend\":true,\"x\":[1831.0],\"xaxis\":\"x\",\"y\":[45.07570526821006],\"yaxis\":\"y\",\"type\":\"scatter\"},{\"hovertemplate\":\"padding=9\\u003cbr\\u003eTile size=%{x}\\u003cbr\\u003elog_obj_func=%{y}\\u003cextra\\u003e\\u003c\\u002fextra\\u003e\",\"legendgroup\":\"9\",\"line\":{\"color\":\"rgb(0, 30, 150)\",\"dash\":\"solid\"},\"marker\":{\"symbol\":\"diamond\"},\"mode\":\"lines+markers\",\"name\":\"9\",\"orientation\":\"v\",\"showlegend\":true,\"x\":[2.0,3.0,5.0,6.0,10.0,15.0,30.0,61.0,122.0,183.0,305.0,366.0,610.0,915.0,1830.0],\"xaxis\":\"x\",\"y\":[27.808662215602812,26.844641631188917,25.81848514919074,25.45162204293014,24.92787840225254,24.76451727829262,24.6830366221358,24.667474721563526,28.824160190465644,31.256922184917734,34.32187125315104,35.41580027498141,38.48075377419762,40.91354439689747,45.07242747517606],\"yaxis\":\"y\",\"type\":\"scatter\"},{\"hovertemplate\":\"padding=8\\u003cbr\\u003eTile size=%{x}\\u003cbr\\u003elog_obj_func=%{y}\\u003cextra\\u003e\\u003c\\u002fextra\\u003e\",\"legendgroup\":\"8\",\"line\":{\"color\":\"rgb(0, 60, 170)\",\"dash\":\"solid\"},\"marker\":{\"symbol\":\"square\"},\"mode\":\"lines+markers\",\"name\":\"8\",\"orientation\":\"v\",\"showlegend\":true,\"x\":[31.0,59.0,1829.0],\"xaxis\":\"x\",\"y\":[24.484341179995727,24.467897907603763,45.069147890508724],\"yaxis\":\"y\",\"type\":\"scatter\"},{\"hovertemplate\":\"padding=7\\u003cbr\\u003eTile size=%{x}\\u003cbr\\u003elog_obj_func=%{y}\\u003cextra\\u003e\\u003c\\u002fextra\\u003e\",\"legendgroup\":\"7\",\"line\":{\"color\":\"rgb(2, 157, 212)\",\"dash\":\"solid\"},\"marker\":{\"symbol\":\"x\"},\"mode\":\"lines+markers\",\"name\":\"7\",\"orientation\":\"v\",\"showlegend\":true,\"x\":[2.0,4.0,457.0,914.0,1828.0],\"xaxis\":\"x\",\"y\":[36.755275034532744,36.749394288758495,36.748100452431345,40.906983433986504,45.06586651224837],\"yaxis\":\"y\",\"type\":\"scatter\"},{\"hovertemplate\":\"padding=6\\u003cbr\\u003eTile size=%{x}\\u003cbr\\u003elog_obj_func=%{y}\\u003cextra\\u003e\\u003c\\u002fextra\\u003e\",\"legendgroup\":\"6\",\"line\":{\"color\":\"rgb(5, 255, 255)\",\"dash\":\"solid\"},\"marker\":{\"symbol\":\"cross\"},\"mode\":\"lines+markers\",\"name\":\"6\",\"orientation\":\"v\",\"showlegend\":true,\"x\":[3.0,7.0,9.0,21.0,29.0,63.0,87.0,203.0,261.0,609.0,1827.0],\"xaxis\":\"x\",\"y\":[25.240898415906493,23.011923693762867,22.36540941698513,20.818961497897877,20.518305002316666,24.86054620296296,26.79571291272164,31.87923923077641,33.38712359037094,38.47090963760736,45.062583338432106],\"yaxis\":\"y\",\"type\":\"scatter\"},{\"hovertemplate\":\"padding=5\\u003cbr\\u003eTile size=%{x}\\u003cbr\\u003elog_obj_func=%{y}\\u003cextra\\u003e\\u003c\\u002fextra\\u003e\",\"legendgroup\":\"5\",\"line\":{\"color\":\"rgb(130, 255, 128)\",\"dash\":\"solid\"},\"marker\":{\"symbol\":\"circle\"},\"mode\":\"lines+markers\",\"name\":\"5\",\"orientation\":\"v\",\"showlegend\":true,\"x\":[2.0,11.0,22.0,83.0,166.0,913.0,1826.0],\"xaxis\":\"x\",\"y\":[28.525268522754125,26.579869492205884,26.524868816977236,26.513429173959384,30.67193477269022,40.90041528884875,45.05929836709382],\"yaxis\":\"y\",\"type\":\"scatter\"},{\"hovertemplate\":\"padding=4\\u003cbr\\u003eTile size=%{x}\\u003cbr\\u003elog_obj_func=%{y}\\u003cextra\\u003e\\u003c\\u002fextra\\u003e\",\"legendgroup\":\"4\",\"line\":{\"color\":\"rgb(255, 255, 0)\",\"dash\":\"solid\"},\"marker\":{\"symbol\":\"diamond\"},\"mode\":\"lines+markers\",\"name\":\"4\",\"orientation\":\"v\",\"showlegend\":true,\"x\":[5.0,25.0,73.0,365.0,1825.0],\"xaxis\":\"x\",\"y\":[26.465244531074102,25.75727620934059,25.743517671996166,35.39938439835713,45.056011596264156],\"yaxis\":\"y\",\"type\":\"scatter\"},{\"hovertemplate\":\"padding=3\\u003cbr\\u003eTile size=%{x}\\u003cbr\\u003elog_obj_func=%{y}\\u003cextra\\u003e\\u003c\\u002fextra\\u003e\",\"legendgroup\":\"3\",\"line\":{\"color\":\"rgb(252, 128, 0)\",\"dash\":\"solid\"},\"marker\":{\"symbol\":\"square\"},\"mode\":\"lines+markers\",\"name\":\"3\",\"orientation\":\"v\",\"showlegend\":true,\"x\":[2.0,3.0,4.0,6.0,8.0,12.0,16.0,19.0,24.0,32.0,38.0,48.0,57.0,76.0,96.0,114.0,152.0,228.0,304.0,456.0,608.0,912.0,1824.0],\"xaxis\":\"x\",\"y\":[25.429729432114964,24.388915325425835,23.682441386506916,22.508505398862926,21.783962674183073,20.66708065677267,19.999691227778246,19.637967691403535,19.885982051915306,20.967197631638438,21.883396621061763,23.23843429617741,24.261882112361803,25.985013123095484,27.386240135841334,28.417244402447217,30.143294972256292,32.57607580900053,34.30216680791843,36.73495696486342,38.46104932330051,40.89383994574233,45.052723023970536],\"yaxis\":\"y\",\"type\":\"scatter\"},{\"hovertemplate\":\"padding=2\\u003cbr\\u003eTile size=%{x}\\u003cbr\\u003elog_obj_func=%{y}\\u003cextra\\u003e\\u003c\\u002fextra\\u003e\",\"legendgroup\":\"2\",\"line\":{\"color\":\"rgb(250, 0, 0)\",\"dash\":\"solid\"},\"marker\":{\"symbol\":\"x\"},\"mode\":\"lines+markers\",\"name\":\"2\",\"orientation\":\"v\",\"showlegend\":true,\"x\":[1823.0],\"xaxis\":\"x\",\"y\":[45.04943264823713],\"yaxis\":\"y\",\"type\":\"scatter\"},{\"hovertemplate\":\"padding=1\\u003cbr\\u003eTile size=%{x}\\u003cbr\\u003elog_obj_func=%{y}\\u003cextra\\u003e\\u003c\\u002fextra\\u003e\",\"legendgroup\":\"1\",\"line\":{\"color\":\"rgb(189, 0, 0)\",\"dash\":\"solid\"},\"marker\":{\"symbol\":\"cross\"},\"mode\":\"lines+markers\",\"name\":\"1\",\"orientation\":\"v\",\"showlegend\":true,\"x\":[2.0,911.0,1822.0],\"xaxis\":\"x\",\"y\":[40.88772479394303,40.88725738887358,45.04614046708485],\"yaxis\":\"y\",\"type\":\"scatter\"},{\"hovertemplate\":\"padding=0\\u003cbr\\u003eTile size=%{x}\\u003cbr\\u003elog_obj_func=%{y}\\u003cextra\\u003e\\u003c\\u002fextra\\u003e\",\"legendgroup\":\"0\",\"line\":{\"color\":\"rgb(128, 0, 0)\",\"dash\":\"solid\"},\"marker\":{\"symbol\":\"circle\"},\"mode\":\"lines+markers\",\"name\":\"0\",\"orientation\":\"v\",\"showlegend\":true,\"x\":[3.0,607.0,1821.0],\"xaxis\":\"x\",\"y\":[38.45201389170608,38.451172778017046,45.042846478531345],\"yaxis\":\"y\",\"type\":\"scatter\"}],                        {\"template\":{\"data\":{\"histogram2dcontour\":[{\"type\":\"histogram2dcontour\",\"colorbar\":{\"outlinewidth\":0,\"ticks\":\"\"},\"colorscale\":[[0.0,\"#0d0887\"],[0.1111111111111111,\"#46039f\"],[0.2222222222222222,\"#7201a8\"],[0.3333333333333333,\"#9c179e\"],[0.4444444444444444,\"#bd3786\"],[0.5555555555555556,\"#d8576b\"],[0.6666666666666666,\"#ed7953\"],[0.7777777777777778,\"#fb9f3a\"],[0.8888888888888888,\"#fdca26\"],[1.0,\"#f0f921\"]]}],\"choropleth\":[{\"type\":\"choropleth\",\"colorbar\":{\"outlinewidth\":0,\"ticks\":\"\"}}],\"histogram2d\":[{\"type\":\"histogram2d\",\"colorbar\":{\"outlinewidth\":0,\"ticks\":\"\"},\"colorscale\":[[0.0,\"#0d0887\"],[0.1111111111111111,\"#46039f\"],[0.2222222222222222,\"#7201a8\"],[0.3333333333333333,\"#9c179e\"],[0.4444444444444444,\"#bd3786\"],[0.5555555555555556,\"#d8576b\"],[0.6666666666666666,\"#ed7953\"],[0.7777777777777778,\"#fb9f3a\"],[0.8888888888888888,\"#fdca26\"],[1.0,\"#f0f921\"]]}],\"heatmap\":[{\"type\":\"heatmap\",\"colorbar\":{\"outlinewidth\":0,\"ticks\":\"\"},\"colorscale\":[[0.0,\"#0d0887\"],[0.1111111111111111,\"#46039f\"],[0.2222222222222222,\"#7201a8\"],[0.3333333333333333,\"#9c179e\"],[0.4444444444444444,\"#bd3786\"],[0.5555555555555556,\"#d8576b\"],[0.6666666666666666,\"#ed7953\"],[0.7777777777777778,\"#fb9f3a\"],[0.8888888888888888,\"#fdca26\"],[1.0,\"#f0f921\"]]}],\"heatmapgl\":[{\"type\":\"heatmapgl\",\"colorbar\":{\"outlinewidth\":0,\"ticks\":\"\"},\"colorscale\":[[0.0,\"#0d0887\"],[0.1111111111111111,\"#46039f\"],[0.2222222222222222,\"#7201a8\"],[0.3333333333333333,\"#9c179e\"],[0.4444444444444444,\"#bd3786\"],[0.5555555555555556,\"#d8576b\"],[0.6666666666666666,\"#ed7953\"],[0.7777777777777778,\"#fb9f3a\"],[0.8888888888888888,\"#fdca26\"],[1.0,\"#f0f921\"]]}],\"contourcarpet\":[{\"type\":\"contourcarpet\",\"colorbar\":{\"outlinewidth\":0,\"ticks\":\"\"}}],\"contour\":[{\"type\":\"contour\",\"colorbar\":{\"outlinewidth\":0,\"ticks\":\"\"},\"colorscale\":[[0.0,\"#0d0887\"],[0.1111111111111111,\"#46039f\"],[0.2222222222222222,\"#7201a8\"],[0.3333333333333333,\"#9c179e\"],[0.4444444444444444,\"#bd3786\"],[0.5555555555555556,\"#d8576b\"],[0.6666666666666666,\"#ed7953\"],[0.7777777777777778,\"#fb9f3a\"],[0.8888888888888888,\"#fdca26\"],[1.0,\"#f0f921\"]]}],\"surface\":[{\"type\":\"surface\",\"colorbar\":{\"outlinewidth\":0,\"ticks\":\"\"},\"colorscale\":[[0.0,\"#0d0887\"],[0.1111111111111111,\"#46039f\"],[0.2222222222222222,\"#7201a8\"],[0.3333333333333333,\"#9c179e\"],[0.4444444444444444,\"#bd3786\"],[0.5555555555555556,\"#d8576b\"],[0.6666666666666666,\"#ed7953\"],[0.7777777777777778,\"#fb9f3a\"],[0.8888888888888888,\"#fdca26\"],[1.0,\"#f0f921\"]]}],\"mesh3d\":[{\"type\":\"mesh3d\",\"colorbar\":{\"outlinewidth\":0,\"ticks\":\"\"}}],\"scatter\":[{\"marker\":{\"line\":{\"color\":\"#283442\"}},\"type\":\"scatter\"}],\"parcoords\":[{\"type\":\"parcoords\",\"line\":{\"colorbar\":{\"outlinewidth\":0,\"ticks\":\"\"}}}],\"scatterpolargl\":[{\"type\":\"scatterpolargl\",\"marker\":{\"colorbar\":{\"outlinewidth\":0,\"ticks\":\"\"}}}],\"bar\":[{\"error_x\":{\"color\":\"#f2f5fa\"},\"error_y\":{\"color\":\"#f2f5fa\"},\"marker\":{\"line\":{\"color\":\"rgb(17,17,17)\",\"width\":0.5},\"pattern\":{\"fillmode\":\"overlay\",\"size\":10,\"solidity\":0.2}},\"type\":\"bar\"}],\"scattergeo\":[{\"type\":\"scattergeo\",\"marker\":{\"colorbar\":{\"outlinewidth\":0,\"ticks\":\"\"}}}],\"scatterpolar\":[{\"type\":\"scatterpolar\",\"marker\":{\"colorbar\":{\"outlinewidth\":0,\"ticks\":\"\"}}}],\"histogram\":[{\"marker\":{\"pattern\":{\"fillmode\":\"overlay\",\"size\":10,\"solidity\":0.2}},\"type\":\"histogram\"}],\"scattergl\":[{\"marker\":{\"line\":{\"color\":\"#283442\"}},\"type\":\"scattergl\"}],\"scatter3d\":[{\"type\":\"scatter3d\",\"line\":{\"colorbar\":{\"outlinewidth\":0,\"ticks\":\"\"}},\"marker\":{\"colorbar\":{\"outlinewidth\":0,\"ticks\":\"\"}}}],\"scattermapbox\":[{\"type\":\"scattermapbox\",\"marker\":{\"colorbar\":{\"outlinewidth\":0,\"ticks\":\"\"}}}],\"scatterternary\":[{\"type\":\"scatterternary\",\"marker\":{\"colorbar\":{\"outlinewidth\":0,\"ticks\":\"\"}}}],\"scattercarpet\":[{\"type\":\"scattercarpet\",\"marker\":{\"colorbar\":{\"outlinewidth\":0,\"ticks\":\"\"}}}],\"carpet\":[{\"aaxis\":{\"endlinecolor\":\"#A2B1C6\",\"gridcolor\":\"#506784\",\"linecolor\":\"#506784\",\"minorgridcolor\":\"#506784\",\"startlinecolor\":\"#A2B1C6\"},\"baxis\":{\"endlinecolor\":\"#A2B1C6\",\"gridcolor\":\"#506784\",\"linecolor\":\"#506784\",\"minorgridcolor\":\"#506784\",\"startlinecolor\":\"#A2B1C6\"},\"type\":\"carpet\"}],\"table\":[{\"cells\":{\"fill\":{\"color\":\"#506784\"},\"line\":{\"color\":\"rgb(17,17,17)\"}},\"header\":{\"fill\":{\"color\":\"#2a3f5f\"},\"line\":{\"color\":\"rgb(17,17,17)\"}},\"type\":\"table\"}],\"barpolar\":[{\"marker\":{\"line\":{\"color\":\"rgb(17,17,17)\",\"width\":0.5},\"pattern\":{\"fillmode\":\"overlay\",\"size\":10,\"solidity\":0.2}},\"type\":\"barpolar\"}],\"pie\":[{\"automargin\":true,\"type\":\"pie\"}]},\"layout\":{\"autotypenumbers\":\"strict\",\"colorway\":[\"#636efa\",\"#EF553B\",\"#00cc96\",\"#ab63fa\",\"#FFA15A\",\"#19d3f3\",\"#FF6692\",\"#B6E880\",\"#FF97FF\",\"#FECB52\"],\"font\":{\"color\":\"#f2f5fa\"},\"hovermode\":\"closest\",\"hoverlabel\":{\"align\":\"left\"},\"paper_bgcolor\":\"rgb(17,17,17)\",\"plot_bgcolor\":\"rgb(17,17,17)\",\"polar\":{\"bgcolor\":\"rgb(17,17,17)\",\"angularaxis\":{\"gridcolor\":\"#506784\",\"linecolor\":\"#506784\",\"ticks\":\"\"},\"radialaxis\":{\"gridcolor\":\"#506784\",\"linecolor\":\"#506784\",\"ticks\":\"\"}},\"ternary\":{\"bgcolor\":\"rgb(17,17,17)\",\"aaxis\":{\"gridcolor\":\"#506784\",\"linecolor\":\"#506784\",\"ticks\":\"\"},\"baxis\":{\"gridcolor\":\"#506784\",\"linecolor\":\"#506784\",\"ticks\":\"\"},\"caxis\":{\"gridcolor\":\"#506784\",\"linecolor\":\"#506784\",\"ticks\":\"\"}},\"coloraxis\":{\"colorbar\":{\"outlinewidth\":0,\"ticks\":\"\"}},\"colorscale\":{\"sequential\":[[0.0,\"#0d0887\"],[0.1111111111111111,\"#46039f\"],[0.2222222222222222,\"#7201a8\"],[0.3333333333333333,\"#9c179e\"],[0.4444444444444444,\"#bd3786\"],[0.5555555555555556,\"#d8576b\"],[0.6666666666666666,\"#ed7953\"],[0.7777777777777778,\"#fb9f3a\"],[0.8888888888888888,\"#fdca26\"],[1.0,\"#f0f921\"]],\"sequentialminus\":[[0.0,\"#0d0887\"],[0.1111111111111111,\"#46039f\"],[0.2222222222222222,\"#7201a8\"],[0.3333333333333333,\"#9c179e\"],[0.4444444444444444,\"#bd3786\"],[0.5555555555555556,\"#d8576b\"],[0.6666666666666666,\"#ed7953\"],[0.7777777777777778,\"#fb9f3a\"],[0.8888888888888888,\"#fdca26\"],[1.0,\"#f0f921\"]],\"diverging\":[[0,\"#8e0152\"],[0.1,\"#c51b7d\"],[0.2,\"#de77ae\"],[0.3,\"#f1b6da\"],[0.4,\"#fde0ef\"],[0.5,\"#f7f7f7\"],[0.6,\"#e6f5d0\"],[0.7,\"#b8e186\"],[0.8,\"#7fbc41\"],[0.9,\"#4d9221\"],[1,\"#276419\"]]},\"xaxis\":{\"gridcolor\":\"#283442\",\"linecolor\":\"#506784\",\"ticks\":\"\",\"title\":{\"standoff\":15},\"zerolinecolor\":\"#283442\",\"automargin\":true,\"zerolinewidth\":2},\"yaxis\":{\"gridcolor\":\"#283442\",\"linecolor\":\"#506784\",\"ticks\":\"\",\"title\":{\"standoff\":15},\"zerolinecolor\":\"#283442\",\"automargin\":true,\"zerolinewidth\":2},\"scene\":{\"xaxis\":{\"backgroundcolor\":\"rgb(17,17,17)\",\"gridcolor\":\"#506784\",\"linecolor\":\"#506784\",\"showbackground\":true,\"ticks\":\"\",\"zerolinecolor\":\"#C8D4E3\",\"gridwidth\":2},\"yaxis\":{\"backgroundcolor\":\"rgb(17,17,17)\",\"gridcolor\":\"#506784\",\"linecolor\":\"#506784\",\"showbackground\":true,\"ticks\":\"\",\"zerolinecolor\":\"#C8D4E3\",\"gridwidth\":2},\"zaxis\":{\"backgroundcolor\":\"rgb(17,17,17)\",\"gridcolor\":\"#506784\",\"linecolor\":\"#506784\",\"showbackground\":true,\"ticks\":\"\",\"zerolinecolor\":\"#C8D4E3\",\"gridwidth\":2}},\"shapedefaults\":{\"line\":{\"color\":\"#f2f5fa\"}},\"annotationdefaults\":{\"arrowcolor\":\"#f2f5fa\",\"arrowhead\":0,\"arrowwidth\":1},\"geo\":{\"bgcolor\":\"rgb(17,17,17)\",\"landcolor\":\"rgb(17,17,17)\",\"subunitcolor\":\"#506784\",\"showland\":true,\"showlakes\":true,\"lakecolor\":\"rgb(17,17,17)\"},\"title\":{\"x\":0.05},\"updatemenudefaults\":{\"bgcolor\":\"#506784\",\"borderwidth\":0},\"sliderdefaults\":{\"bgcolor\":\"#C8D4E3\",\"borderwidth\":1,\"bordercolor\":\"rgb(17,17,17)\",\"tickwidth\":0},\"mapbox\":{\"style\":\"dark\"}}},\"xaxis\":{\"anchor\":\"y\",\"domain\":[0.0,1.0],\"title\":{\"text\":\"Tile size\"},\"type\":\"log\"},\"yaxis\":{\"anchor\":\"x\",\"domain\":[0.0,1.0],\"title\":{\"text\":\"$\\\\log(I^6 + rI^3 + r^2I^2)$\"}},\"legend\":{\"title\":{\"text\":\"padding\"},\"tracegroupgap\":0},\"margin\":{\"t\":60},\"title\":{\"text\":\"Influence of tile size choice and padding on TT-MALS runtime (ex3)\",\"x\":0.5,\"xanchor\":\"center\",\"yanchor\":\"top\"},\"font\":{\"color\":\"black\"},\"plot_bgcolor\":\"white\",\"paper_bgcolor\":\"white\"},                        {\"responsive\": true}                    ).then(function(){\n",
       "                            \n",
       "var gd = document.getElementById('13dfe188-2184-45bc-ad02-e484a8336c14');\n",
       "var x = new MutationObserver(function (mutations, observer) {{\n",
       "        var display = window.getComputedStyle(gd).display;\n",
       "        if (!display || display === 'none') {{\n",
       "            console.log([gd, 'removed!']);\n",
       "            Plotly.purge(gd);\n",
       "            observer.disconnect();\n",
       "        }}\n",
       "}});\n",
       "\n",
       "// Listen for the removal of the full notebook cells\n",
       "var notebookContainer = gd.closest('#notebook-container');\n",
       "if (notebookContainer) {{\n",
       "    x.observe(notebookContainer, {childList: true});\n",
       "}}\n",
       "\n",
       "// Listen for the clearing of the current output cell\n",
       "var outputEl = gd.closest('.output');\n",
       "if (outputEl) {{\n",
       "    x.observe(outputEl, {childList: true});\n",
       "}}\n",
       "\n",
       "                        })                };                });            </script>        </div>"
      ]
     },
     "metadata": {},
     "output_type": "display_data"
    }
   ],
   "execution_count": 36
  },
  {
   "metadata": {
    "ExecuteTime": {
     "end_time": "2024-06-17T07:59:52.447321Z",
     "start_time": "2024-06-17T07:59:52.086161Z"
    }
   },
   "cell_type": "code",
   "source": "line_plot_padding_tile_size_tt_mals_runtime(\"ex10hs\")",
   "id": "6d9bc678108b5cc3",
   "outputs": [
    {
     "data": {
      "application/vnd.plotly.v1+json": {
       "data": [
        {
         "hovertemplate": "padding=10<br>Tile size=%{x}<br>log_obj_func=%{y}<extra></extra>",
         "legendgroup": "10",
         "line": {
          "color": "rgb(0, 0, 131)",
          "dash": "solid"
         },
         "marker": {
          "symbol": "circle"
         },
         "mode": "lines+markers",
         "name": "10",
         "orientation": "v",
         "showlegend": true,
         "x": [
          2.0,
          1279.0,
          2558.0
         ],
         "xaxis": "x",
         "y": [
          42.923352588997886,
          42.92300281139086,
          47.081885892892494
         ],
         "yaxis": "y",
         "type": "scatter"
        },
        {
         "hovertemplate": "padding=9<br>Tile size=%{x}<br>log_obj_func=%{y}<extra></extra>",
         "legendgroup": "9",
         "line": {
          "color": "rgb(0, 30, 150)",
          "dash": "solid"
         },
         "marker": {
          "symbol": "diamond"
         },
         "mode": "lines+markers",
         "name": "9",
         "orientation": "v",
         "showlegend": true,
         "x": [
          2557.0
         ],
         "xaxis": "x",
         "y": [
          47.079539851806956
         ],
         "yaxis": "y",
         "type": "scatter"
        },
        {
         "hovertemplate": "padding=8<br>Tile size=%{x}<br>log_obj_func=%{y}<extra></extra>",
         "legendgroup": "8",
         "line": {
          "color": "rgb(0, 60, 170)",
          "dash": "solid"
         },
         "marker": {
          "symbol": "square"
         },
         "mode": "lines+markers",
         "name": "8",
         "orientation": "v",
         "showlegend": true,
         "x": [
          2.0,
          3.0,
          4.0,
          6.0,
          9.0,
          12.0,
          18.0,
          36.0,
          71.0,
          142.0,
          213.0,
          284.0,
          426.0,
          639.0,
          852.0,
          1278.0,
          2556.0
         ],
         "xaxis": "x",
         "y": [
          29.171075230958618,
          27.93141702027901,
          27.384994236356285,
          26.478838396842317,
          25.9377078572361,
          25.761935122827126,
          25.646841247065684,
          25.587714665632998,
          25.57759473869925,
          29.734987156724088,
          32.1677570742228,
          33.89384661644332,
          36.3266362923517,
          38.75942676519134,
          40.485519172387136,
          42.918309811547196,
          47.07719289304446
         ],
         "yaxis": "y",
         "type": "scatter"
        },
        {
         "hovertemplate": "padding=7<br>Tile size=%{x}<br>log_obj_func=%{y}<extra></extra>",
         "legendgroup": "7",
         "line": {
          "color": "rgb(2, 157, 212)",
          "dash": "solid"
         },
         "marker": {
          "symbol": "x"
         },
         "mode": "lines+markers",
         "name": "7",
         "orientation": "v",
         "showlegend": true,
         "x": [
          5.0,
          7.0,
          35.0,
          73.0,
          365.0,
          511.0,
          2555.0
         ],
         "xaxis": "x",
         "y": [
          26.883263726541596,
          26.349205273017464,
          25.753829607210395,
          25.744027396774822,
          35.39938453256258,
          37.4182176411281,
          47.07484501588681
         ],
         "yaxis": "y",
         "type": "scatter"
        },
        {
         "hovertemplate": "padding=6<br>Tile size=%{x}<br>log_obj_func=%{y}<extra></extra>",
         "legendgroup": "6",
         "line": {
          "color": "rgb(5, 255, 255)",
          "dash": "solid"
         },
         "marker": {
          "symbol": "cross"
         },
         "mode": "lines+markers",
         "name": "6",
         "orientation": "v",
         "showlegend": true,
         "x": [
          2.0,
          1277.0,
          2554.0
         ],
         "xaxis": "x",
         "y": [
          42.913965089217044,
          42.913613138122074,
          47.072496219614955
         ],
         "yaxis": "y",
         "type": "scatter"
        },
        {
         "hovertemplate": "padding=5<br>Tile size=%{x}<br>log_obj_func=%{y}<extra></extra>",
         "legendgroup": "5",
         "line": {
          "color": "rgb(130, 255, 128)",
          "dash": "solid"
         },
         "marker": {
          "symbol": "circle"
         },
         "mode": "lines+markers",
         "name": "5",
         "orientation": "v",
         "showlegend": true,
         "x": [
          3.0,
          23.0,
          37.0,
          69.0,
          111.0,
          851.0,
          2553.0
         ],
         "xaxis": "x",
         "y": [
          26.533761411029452,
          22.03231926689461,
          21.78289197233659,
          25.406340926742082,
          28.257269684704262,
          40.47847278289187,
          47.07014650350902
         ],
         "yaxis": "y",
         "type": "scatter"
        },
        {
         "hovertemplate": "padding=4<br>Tile size=%{x}<br>log_obj_func=%{y}<extra></extra>",
         "legendgroup": "4",
         "line": {
          "color": "rgb(255, 255, 0)",
          "dash": "solid"
         },
         "marker": {
          "symbol": "diamond"
         },
         "mode": "lines+markers",
         "name": "4",
         "orientation": "v",
         "showlegend": true,
         "x": [
          2.0,
          4.0,
          8.0,
          11.0,
          22.0,
          29.0,
          44.0,
          58.0,
          88.0,
          116.0,
          232.0,
          319.0,
          638.0,
          1276.0,
          2552.0
         ],
         "xaxis": "x",
         "y": [
          27.351849586191005,
          25.417075949680985,
          23.41865448603669,
          22.49596136569199,
          21.094832333374573,
          20.67251540676037,
          22.741653016484666,
          24.36761900829477,
          26.86443156108685,
          28.521604768548748,
          32.680427044262224,
          34.591147341168664,
          38.75002973917914,
          42.90891278535979,
          47.06779586684827
         ],
         "yaxis": "y",
         "type": "scatter"
        },
        {
         "hovertemplate": "padding=3<br>Tile size=%{x}<br>log_obj_func=%{y}<extra></extra>",
         "legendgroup": "3",
         "line": {
          "color": "rgb(252, 128, 0)",
          "dash": "solid"
         },
         "marker": {
          "symbol": "square"
         },
         "mode": "lines+markers",
         "name": "3",
         "orientation": "v",
         "showlegend": true,
         "x": [
          2551.0
         ],
         "xaxis": "x",
         "y": [
          47.06544430891113
         ],
         "yaxis": "y",
         "type": "scatter"
        },
        {
         "hovertemplate": "padding=2<br>Tile size=%{x}<br>log_obj_func=%{y}<extra></extra>",
         "legendgroup": "2",
         "line": {
          "color": "rgb(250, 0, 0)",
          "dash": "solid"
         },
         "marker": {
          "symbol": "x"
         },
         "mode": "lines+markers",
         "name": "2",
         "orientation": "v",
         "showlegend": true,
         "x": [
          2.0,
          3.0,
          5.0,
          6.0,
          10.0,
          15.0,
          17.0,
          25.0,
          30.0,
          34.0,
          50.0,
          51.0,
          75.0,
          85.0,
          102.0,
          150.0,
          170.0,
          255.0,
          425.0,
          510.0,
          850.0,
          1275.0,
          2550.0
         ],
         "xaxis": "x",
         "y": [
          26.28259072201749,
          24.969696298531538,
          23.5778091579729,
          23.093380831341676,
          21.6002964501869,
          20.47150037253543,
          20.22177285990668,
          20.358001430395994,
          20.816243753683825,
          21.376993703353204,
          23.488290870223672,
          23.605099996547676,
          25.905971226960858,
          26.656403884893336,
          27.749999121515884,
          30.06383102562661,
          30.814801588345777,
          33.2475831450099,
          36.31253522981975,
          37.40646445480982,
          40.471418108398375,
          42.90420874749109,
          47.06309182897516
         ],
         "yaxis": "y",
         "type": "scatter"
        },
        {
         "hovertemplate": "padding=1<br>Tile size=%{x}<br>log_obj_func=%{y}<extra></extra>",
         "legendgroup": "1",
         "line": {
          "color": "rgb(189, 0, 0)",
          "dash": "solid"
         },
         "marker": {
          "symbol": "cross"
         },
         "mode": "lines+markers",
         "name": "1",
         "orientation": "v",
         "showlegend": true,
         "x": [
          2549.0
         ],
         "xaxis": "x",
         "y": [
          47.060738426317094
         ],
         "yaxis": "y",
         "type": "scatter"
        },
        {
         "hovertemplate": "padding=0<br>Tile size=%{x}<br>log_obj_func=%{y}<extra></extra>",
         "legendgroup": "0",
         "line": {
          "color": "rgb(128, 0, 0)",
          "dash": "solid"
         },
         "marker": {
          "symbol": "circle"
         },
         "mode": "lines+markers",
         "name": "0",
         "orientation": "v",
         "showlegend": true,
         "x": [
          2.0,
          4.0,
          7.0,
          13.0,
          14.0,
          26.0,
          28.0,
          49.0,
          52.0,
          91.0,
          98.0,
          182.0,
          196.0,
          364.0,
          637.0,
          1274.0,
          2548.0
         ],
         "xaxis": "x",
         "y": [
          25.745868151372967,
          23.805739055013966,
          22.0990103483351,
          20.319352420841287,
          20.271063473608542,
          20.413888046592636,
          20.58307977504528,
          23.36936568918179,
          23.718886063423362,
          27.06548853373771,
          27.510006766677083,
          31.224048215761098,
          31.66869379698681,
          35.38292362034165,
          38.74061797272882,
          42.89950101873315,
          47.0583841002128
         ],
         "yaxis": "y",
         "type": "scatter"
        }
       ],
       "layout": {
        "template": {
         "data": {
          "histogram2dcontour": [
           {
            "type": "histogram2dcontour",
            "colorbar": {
             "outlinewidth": 0,
             "ticks": ""
            },
            "colorscale": [
             [
              0.0,
              "#0d0887"
             ],
             [
              0.1111111111111111,
              "#46039f"
             ],
             [
              0.2222222222222222,
              "#7201a8"
             ],
             [
              0.3333333333333333,
              "#9c179e"
             ],
             [
              0.4444444444444444,
              "#bd3786"
             ],
             [
              0.5555555555555556,
              "#d8576b"
             ],
             [
              0.6666666666666666,
              "#ed7953"
             ],
             [
              0.7777777777777778,
              "#fb9f3a"
             ],
             [
              0.8888888888888888,
              "#fdca26"
             ],
             [
              1.0,
              "#f0f921"
             ]
            ]
           }
          ],
          "choropleth": [
           {
            "type": "choropleth",
            "colorbar": {
             "outlinewidth": 0,
             "ticks": ""
            }
           }
          ],
          "histogram2d": [
           {
            "type": "histogram2d",
            "colorbar": {
             "outlinewidth": 0,
             "ticks": ""
            },
            "colorscale": [
             [
              0.0,
              "#0d0887"
             ],
             [
              0.1111111111111111,
              "#46039f"
             ],
             [
              0.2222222222222222,
              "#7201a8"
             ],
             [
              0.3333333333333333,
              "#9c179e"
             ],
             [
              0.4444444444444444,
              "#bd3786"
             ],
             [
              0.5555555555555556,
              "#d8576b"
             ],
             [
              0.6666666666666666,
              "#ed7953"
             ],
             [
              0.7777777777777778,
              "#fb9f3a"
             ],
             [
              0.8888888888888888,
              "#fdca26"
             ],
             [
              1.0,
              "#f0f921"
             ]
            ]
           }
          ],
          "heatmap": [
           {
            "type": "heatmap",
            "colorbar": {
             "outlinewidth": 0,
             "ticks": ""
            },
            "colorscale": [
             [
              0.0,
              "#0d0887"
             ],
             [
              0.1111111111111111,
              "#46039f"
             ],
             [
              0.2222222222222222,
              "#7201a8"
             ],
             [
              0.3333333333333333,
              "#9c179e"
             ],
             [
              0.4444444444444444,
              "#bd3786"
             ],
             [
              0.5555555555555556,
              "#d8576b"
             ],
             [
              0.6666666666666666,
              "#ed7953"
             ],
             [
              0.7777777777777778,
              "#fb9f3a"
             ],
             [
              0.8888888888888888,
              "#fdca26"
             ],
             [
              1.0,
              "#f0f921"
             ]
            ]
           }
          ],
          "heatmapgl": [
           {
            "type": "heatmapgl",
            "colorbar": {
             "outlinewidth": 0,
             "ticks": ""
            },
            "colorscale": [
             [
              0.0,
              "#0d0887"
             ],
             [
              0.1111111111111111,
              "#46039f"
             ],
             [
              0.2222222222222222,
              "#7201a8"
             ],
             [
              0.3333333333333333,
              "#9c179e"
             ],
             [
              0.4444444444444444,
              "#bd3786"
             ],
             [
              0.5555555555555556,
              "#d8576b"
             ],
             [
              0.6666666666666666,
              "#ed7953"
             ],
             [
              0.7777777777777778,
              "#fb9f3a"
             ],
             [
              0.8888888888888888,
              "#fdca26"
             ],
             [
              1.0,
              "#f0f921"
             ]
            ]
           }
          ],
          "contourcarpet": [
           {
            "type": "contourcarpet",
            "colorbar": {
             "outlinewidth": 0,
             "ticks": ""
            }
           }
          ],
          "contour": [
           {
            "type": "contour",
            "colorbar": {
             "outlinewidth": 0,
             "ticks": ""
            },
            "colorscale": [
             [
              0.0,
              "#0d0887"
             ],
             [
              0.1111111111111111,
              "#46039f"
             ],
             [
              0.2222222222222222,
              "#7201a8"
             ],
             [
              0.3333333333333333,
              "#9c179e"
             ],
             [
              0.4444444444444444,
              "#bd3786"
             ],
             [
              0.5555555555555556,
              "#d8576b"
             ],
             [
              0.6666666666666666,
              "#ed7953"
             ],
             [
              0.7777777777777778,
              "#fb9f3a"
             ],
             [
              0.8888888888888888,
              "#fdca26"
             ],
             [
              1.0,
              "#f0f921"
             ]
            ]
           }
          ],
          "surface": [
           {
            "type": "surface",
            "colorbar": {
             "outlinewidth": 0,
             "ticks": ""
            },
            "colorscale": [
             [
              0.0,
              "#0d0887"
             ],
             [
              0.1111111111111111,
              "#46039f"
             ],
             [
              0.2222222222222222,
              "#7201a8"
             ],
             [
              0.3333333333333333,
              "#9c179e"
             ],
             [
              0.4444444444444444,
              "#bd3786"
             ],
             [
              0.5555555555555556,
              "#d8576b"
             ],
             [
              0.6666666666666666,
              "#ed7953"
             ],
             [
              0.7777777777777778,
              "#fb9f3a"
             ],
             [
              0.8888888888888888,
              "#fdca26"
             ],
             [
              1.0,
              "#f0f921"
             ]
            ]
           }
          ],
          "mesh3d": [
           {
            "type": "mesh3d",
            "colorbar": {
             "outlinewidth": 0,
             "ticks": ""
            }
           }
          ],
          "scatter": [
           {
            "marker": {
             "line": {
              "color": "#283442"
             }
            },
            "type": "scatter"
           }
          ],
          "parcoords": [
           {
            "type": "parcoords",
            "line": {
             "colorbar": {
              "outlinewidth": 0,
              "ticks": ""
             }
            }
           }
          ],
          "scatterpolargl": [
           {
            "type": "scatterpolargl",
            "marker": {
             "colorbar": {
              "outlinewidth": 0,
              "ticks": ""
             }
            }
           }
          ],
          "bar": [
           {
            "error_x": {
             "color": "#f2f5fa"
            },
            "error_y": {
             "color": "#f2f5fa"
            },
            "marker": {
             "line": {
              "color": "rgb(17,17,17)",
              "width": 0.5
             },
             "pattern": {
              "fillmode": "overlay",
              "size": 10,
              "solidity": 0.2
             }
            },
            "type": "bar"
           }
          ],
          "scattergeo": [
           {
            "type": "scattergeo",
            "marker": {
             "colorbar": {
              "outlinewidth": 0,
              "ticks": ""
             }
            }
           }
          ],
          "scatterpolar": [
           {
            "type": "scatterpolar",
            "marker": {
             "colorbar": {
              "outlinewidth": 0,
              "ticks": ""
             }
            }
           }
          ],
          "histogram": [
           {
            "marker": {
             "pattern": {
              "fillmode": "overlay",
              "size": 10,
              "solidity": 0.2
             }
            },
            "type": "histogram"
           }
          ],
          "scattergl": [
           {
            "marker": {
             "line": {
              "color": "#283442"
             }
            },
            "type": "scattergl"
           }
          ],
          "scatter3d": [
           {
            "type": "scatter3d",
            "line": {
             "colorbar": {
              "outlinewidth": 0,
              "ticks": ""
             }
            },
            "marker": {
             "colorbar": {
              "outlinewidth": 0,
              "ticks": ""
             }
            }
           }
          ],
          "scattermapbox": [
           {
            "type": "scattermapbox",
            "marker": {
             "colorbar": {
              "outlinewidth": 0,
              "ticks": ""
             }
            }
           }
          ],
          "scatterternary": [
           {
            "type": "scatterternary",
            "marker": {
             "colorbar": {
              "outlinewidth": 0,
              "ticks": ""
             }
            }
           }
          ],
          "scattercarpet": [
           {
            "type": "scattercarpet",
            "marker": {
             "colorbar": {
              "outlinewidth": 0,
              "ticks": ""
             }
            }
           }
          ],
          "carpet": [
           {
            "aaxis": {
             "endlinecolor": "#A2B1C6",
             "gridcolor": "#506784",
             "linecolor": "#506784",
             "minorgridcolor": "#506784",
             "startlinecolor": "#A2B1C6"
            },
            "baxis": {
             "endlinecolor": "#A2B1C6",
             "gridcolor": "#506784",
             "linecolor": "#506784",
             "minorgridcolor": "#506784",
             "startlinecolor": "#A2B1C6"
            },
            "type": "carpet"
           }
          ],
          "table": [
           {
            "cells": {
             "fill": {
              "color": "#506784"
             },
             "line": {
              "color": "rgb(17,17,17)"
             }
            },
            "header": {
             "fill": {
              "color": "#2a3f5f"
             },
             "line": {
              "color": "rgb(17,17,17)"
             }
            },
            "type": "table"
           }
          ],
          "barpolar": [
           {
            "marker": {
             "line": {
              "color": "rgb(17,17,17)",
              "width": 0.5
             },
             "pattern": {
              "fillmode": "overlay",
              "size": 10,
              "solidity": 0.2
             }
            },
            "type": "barpolar"
           }
          ],
          "pie": [
           {
            "automargin": true,
            "type": "pie"
           }
          ]
         },
         "layout": {
          "autotypenumbers": "strict",
          "colorway": [
           "#636efa",
           "#EF553B",
           "#00cc96",
           "#ab63fa",
           "#FFA15A",
           "#19d3f3",
           "#FF6692",
           "#B6E880",
           "#FF97FF",
           "#FECB52"
          ],
          "font": {
           "color": "#f2f5fa"
          },
          "hovermode": "closest",
          "hoverlabel": {
           "align": "left"
          },
          "paper_bgcolor": "rgb(17,17,17)",
          "plot_bgcolor": "rgb(17,17,17)",
          "polar": {
           "bgcolor": "rgb(17,17,17)",
           "angularaxis": {
            "gridcolor": "#506784",
            "linecolor": "#506784",
            "ticks": ""
           },
           "radialaxis": {
            "gridcolor": "#506784",
            "linecolor": "#506784",
            "ticks": ""
           }
          },
          "ternary": {
           "bgcolor": "rgb(17,17,17)",
           "aaxis": {
            "gridcolor": "#506784",
            "linecolor": "#506784",
            "ticks": ""
           },
           "baxis": {
            "gridcolor": "#506784",
            "linecolor": "#506784",
            "ticks": ""
           },
           "caxis": {
            "gridcolor": "#506784",
            "linecolor": "#506784",
            "ticks": ""
           }
          },
          "coloraxis": {
           "colorbar": {
            "outlinewidth": 0,
            "ticks": ""
           }
          },
          "colorscale": {
           "sequential": [
            [
             0.0,
             "#0d0887"
            ],
            [
             0.1111111111111111,
             "#46039f"
            ],
            [
             0.2222222222222222,
             "#7201a8"
            ],
            [
             0.3333333333333333,
             "#9c179e"
            ],
            [
             0.4444444444444444,
             "#bd3786"
            ],
            [
             0.5555555555555556,
             "#d8576b"
            ],
            [
             0.6666666666666666,
             "#ed7953"
            ],
            [
             0.7777777777777778,
             "#fb9f3a"
            ],
            [
             0.8888888888888888,
             "#fdca26"
            ],
            [
             1.0,
             "#f0f921"
            ]
           ],
           "sequentialminus": [
            [
             0.0,
             "#0d0887"
            ],
            [
             0.1111111111111111,
             "#46039f"
            ],
            [
             0.2222222222222222,
             "#7201a8"
            ],
            [
             0.3333333333333333,
             "#9c179e"
            ],
            [
             0.4444444444444444,
             "#bd3786"
            ],
            [
             0.5555555555555556,
             "#d8576b"
            ],
            [
             0.6666666666666666,
             "#ed7953"
            ],
            [
             0.7777777777777778,
             "#fb9f3a"
            ],
            [
             0.8888888888888888,
             "#fdca26"
            ],
            [
             1.0,
             "#f0f921"
            ]
           ],
           "diverging": [
            [
             0,
             "#8e0152"
            ],
            [
             0.1,
             "#c51b7d"
            ],
            [
             0.2,
             "#de77ae"
            ],
            [
             0.3,
             "#f1b6da"
            ],
            [
             0.4,
             "#fde0ef"
            ],
            [
             0.5,
             "#f7f7f7"
            ],
            [
             0.6,
             "#e6f5d0"
            ],
            [
             0.7,
             "#b8e186"
            ],
            [
             0.8,
             "#7fbc41"
            ],
            [
             0.9,
             "#4d9221"
            ],
            [
             1,
             "#276419"
            ]
           ]
          },
          "xaxis": {
           "gridcolor": "#283442",
           "linecolor": "#506784",
           "ticks": "",
           "title": {
            "standoff": 15
           },
           "zerolinecolor": "#283442",
           "automargin": true,
           "zerolinewidth": 2
          },
          "yaxis": {
           "gridcolor": "#283442",
           "linecolor": "#506784",
           "ticks": "",
           "title": {
            "standoff": 15
           },
           "zerolinecolor": "#283442",
           "automargin": true,
           "zerolinewidth": 2
          },
          "scene": {
           "xaxis": {
            "backgroundcolor": "rgb(17,17,17)",
            "gridcolor": "#506784",
            "linecolor": "#506784",
            "showbackground": true,
            "ticks": "",
            "zerolinecolor": "#C8D4E3",
            "gridwidth": 2
           },
           "yaxis": {
            "backgroundcolor": "rgb(17,17,17)",
            "gridcolor": "#506784",
            "linecolor": "#506784",
            "showbackground": true,
            "ticks": "",
            "zerolinecolor": "#C8D4E3",
            "gridwidth": 2
           },
           "zaxis": {
            "backgroundcolor": "rgb(17,17,17)",
            "gridcolor": "#506784",
            "linecolor": "#506784",
            "showbackground": true,
            "ticks": "",
            "zerolinecolor": "#C8D4E3",
            "gridwidth": 2
           }
          },
          "shapedefaults": {
           "line": {
            "color": "#f2f5fa"
           }
          },
          "annotationdefaults": {
           "arrowcolor": "#f2f5fa",
           "arrowhead": 0,
           "arrowwidth": 1
          },
          "geo": {
           "bgcolor": "rgb(17,17,17)",
           "landcolor": "rgb(17,17,17)",
           "subunitcolor": "#506784",
           "showland": true,
           "showlakes": true,
           "lakecolor": "rgb(17,17,17)"
          },
          "title": {
           "x": 0.05
          },
          "updatemenudefaults": {
           "bgcolor": "#506784",
           "borderwidth": 0
          },
          "sliderdefaults": {
           "bgcolor": "#C8D4E3",
           "borderwidth": 1,
           "bordercolor": "rgb(17,17,17)",
           "tickwidth": 0
          },
          "mapbox": {
           "style": "dark"
          }
         }
        },
        "xaxis": {
         "anchor": "y",
         "domain": [
          0.0,
          1.0
         ],
         "title": {
          "text": "Tile size"
         },
         "type": "log"
        },
        "yaxis": {
         "anchor": "x",
         "domain": [
          0.0,
          1.0
         ],
         "title": {
          "text": "$\\log(I^6 + rI^3 + r^2I^2)$"
         }
        },
        "legend": {
         "title": {
          "text": "padding"
         },
         "tracegroupgap": 0
        },
        "margin": {
         "t": 60
        },
        "title": {
         "text": "Influence of tile size choice and padding on TT-MALS runtime (ex10hs)",
         "x": 0.5,
         "xanchor": "center",
         "yanchor": "top"
        },
        "font": {
         "color": "black"
        },
        "plot_bgcolor": "white",
        "paper_bgcolor": "white"
       },
       "config": {
        "plotlyServerURL": "https://plot.ly"
       }
      },
      "text/html": [
       "<div>                            <div id=\"d63bcfa4-56fb-48be-b023-5179681dfaf2\" class=\"plotly-graph-div\" style=\"height:525px; width:100%;\"></div>            <script type=\"text/javascript\">                require([\"plotly\"], function(Plotly) {                    window.PLOTLYENV=window.PLOTLYENV || {};                                    if (document.getElementById(\"d63bcfa4-56fb-48be-b023-5179681dfaf2\")) {                    Plotly.newPlot(                        \"d63bcfa4-56fb-48be-b023-5179681dfaf2\",                        [{\"hovertemplate\":\"padding=10\\u003cbr\\u003eTile size=%{x}\\u003cbr\\u003elog_obj_func=%{y}\\u003cextra\\u003e\\u003c\\u002fextra\\u003e\",\"legendgroup\":\"10\",\"line\":{\"color\":\"rgb(0, 0, 131)\",\"dash\":\"solid\"},\"marker\":{\"symbol\":\"circle\"},\"mode\":\"lines+markers\",\"name\":\"10\",\"orientation\":\"v\",\"showlegend\":true,\"x\":[2.0,1279.0,2558.0],\"xaxis\":\"x\",\"y\":[42.923352588997886,42.92300281139086,47.081885892892494],\"yaxis\":\"y\",\"type\":\"scatter\"},{\"hovertemplate\":\"padding=9\\u003cbr\\u003eTile size=%{x}\\u003cbr\\u003elog_obj_func=%{y}\\u003cextra\\u003e\\u003c\\u002fextra\\u003e\",\"legendgroup\":\"9\",\"line\":{\"color\":\"rgb(0, 30, 150)\",\"dash\":\"solid\"},\"marker\":{\"symbol\":\"diamond\"},\"mode\":\"lines+markers\",\"name\":\"9\",\"orientation\":\"v\",\"showlegend\":true,\"x\":[2557.0],\"xaxis\":\"x\",\"y\":[47.079539851806956],\"yaxis\":\"y\",\"type\":\"scatter\"},{\"hovertemplate\":\"padding=8\\u003cbr\\u003eTile size=%{x}\\u003cbr\\u003elog_obj_func=%{y}\\u003cextra\\u003e\\u003c\\u002fextra\\u003e\",\"legendgroup\":\"8\",\"line\":{\"color\":\"rgb(0, 60, 170)\",\"dash\":\"solid\"},\"marker\":{\"symbol\":\"square\"},\"mode\":\"lines+markers\",\"name\":\"8\",\"orientation\":\"v\",\"showlegend\":true,\"x\":[2.0,3.0,4.0,6.0,9.0,12.0,18.0,36.0,71.0,142.0,213.0,284.0,426.0,639.0,852.0,1278.0,2556.0],\"xaxis\":\"x\",\"y\":[29.171075230958618,27.93141702027901,27.384994236356285,26.478838396842317,25.9377078572361,25.761935122827126,25.646841247065684,25.587714665632998,25.57759473869925,29.734987156724088,32.1677570742228,33.89384661644332,36.3266362923517,38.75942676519134,40.485519172387136,42.918309811547196,47.07719289304446],\"yaxis\":\"y\",\"type\":\"scatter\"},{\"hovertemplate\":\"padding=7\\u003cbr\\u003eTile size=%{x}\\u003cbr\\u003elog_obj_func=%{y}\\u003cextra\\u003e\\u003c\\u002fextra\\u003e\",\"legendgroup\":\"7\",\"line\":{\"color\":\"rgb(2, 157, 212)\",\"dash\":\"solid\"},\"marker\":{\"symbol\":\"x\"},\"mode\":\"lines+markers\",\"name\":\"7\",\"orientation\":\"v\",\"showlegend\":true,\"x\":[5.0,7.0,35.0,73.0,365.0,511.0,2555.0],\"xaxis\":\"x\",\"y\":[26.883263726541596,26.349205273017464,25.753829607210395,25.744027396774822,35.39938453256258,37.4182176411281,47.07484501588681],\"yaxis\":\"y\",\"type\":\"scatter\"},{\"hovertemplate\":\"padding=6\\u003cbr\\u003eTile size=%{x}\\u003cbr\\u003elog_obj_func=%{y}\\u003cextra\\u003e\\u003c\\u002fextra\\u003e\",\"legendgroup\":\"6\",\"line\":{\"color\":\"rgb(5, 255, 255)\",\"dash\":\"solid\"},\"marker\":{\"symbol\":\"cross\"},\"mode\":\"lines+markers\",\"name\":\"6\",\"orientation\":\"v\",\"showlegend\":true,\"x\":[2.0,1277.0,2554.0],\"xaxis\":\"x\",\"y\":[42.913965089217044,42.913613138122074,47.072496219614955],\"yaxis\":\"y\",\"type\":\"scatter\"},{\"hovertemplate\":\"padding=5\\u003cbr\\u003eTile size=%{x}\\u003cbr\\u003elog_obj_func=%{y}\\u003cextra\\u003e\\u003c\\u002fextra\\u003e\",\"legendgroup\":\"5\",\"line\":{\"color\":\"rgb(130, 255, 128)\",\"dash\":\"solid\"},\"marker\":{\"symbol\":\"circle\"},\"mode\":\"lines+markers\",\"name\":\"5\",\"orientation\":\"v\",\"showlegend\":true,\"x\":[3.0,23.0,37.0,69.0,111.0,851.0,2553.0],\"xaxis\":\"x\",\"y\":[26.533761411029452,22.03231926689461,21.78289197233659,25.406340926742082,28.257269684704262,40.47847278289187,47.07014650350902],\"yaxis\":\"y\",\"type\":\"scatter\"},{\"hovertemplate\":\"padding=4\\u003cbr\\u003eTile size=%{x}\\u003cbr\\u003elog_obj_func=%{y}\\u003cextra\\u003e\\u003c\\u002fextra\\u003e\",\"legendgroup\":\"4\",\"line\":{\"color\":\"rgb(255, 255, 0)\",\"dash\":\"solid\"},\"marker\":{\"symbol\":\"diamond\"},\"mode\":\"lines+markers\",\"name\":\"4\",\"orientation\":\"v\",\"showlegend\":true,\"x\":[2.0,4.0,8.0,11.0,22.0,29.0,44.0,58.0,88.0,116.0,232.0,319.0,638.0,1276.0,2552.0],\"xaxis\":\"x\",\"y\":[27.351849586191005,25.417075949680985,23.41865448603669,22.49596136569199,21.094832333374573,20.67251540676037,22.741653016484666,24.36761900829477,26.86443156108685,28.521604768548748,32.680427044262224,34.591147341168664,38.75002973917914,42.90891278535979,47.06779586684827],\"yaxis\":\"y\",\"type\":\"scatter\"},{\"hovertemplate\":\"padding=3\\u003cbr\\u003eTile size=%{x}\\u003cbr\\u003elog_obj_func=%{y}\\u003cextra\\u003e\\u003c\\u002fextra\\u003e\",\"legendgroup\":\"3\",\"line\":{\"color\":\"rgb(252, 128, 0)\",\"dash\":\"solid\"},\"marker\":{\"symbol\":\"square\"},\"mode\":\"lines+markers\",\"name\":\"3\",\"orientation\":\"v\",\"showlegend\":true,\"x\":[2551.0],\"xaxis\":\"x\",\"y\":[47.06544430891113],\"yaxis\":\"y\",\"type\":\"scatter\"},{\"hovertemplate\":\"padding=2\\u003cbr\\u003eTile size=%{x}\\u003cbr\\u003elog_obj_func=%{y}\\u003cextra\\u003e\\u003c\\u002fextra\\u003e\",\"legendgroup\":\"2\",\"line\":{\"color\":\"rgb(250, 0, 0)\",\"dash\":\"solid\"},\"marker\":{\"symbol\":\"x\"},\"mode\":\"lines+markers\",\"name\":\"2\",\"orientation\":\"v\",\"showlegend\":true,\"x\":[2.0,3.0,5.0,6.0,10.0,15.0,17.0,25.0,30.0,34.0,50.0,51.0,75.0,85.0,102.0,150.0,170.0,255.0,425.0,510.0,850.0,1275.0,2550.0],\"xaxis\":\"x\",\"y\":[26.28259072201749,24.969696298531538,23.5778091579729,23.093380831341676,21.6002964501869,20.47150037253543,20.22177285990668,20.358001430395994,20.816243753683825,21.376993703353204,23.488290870223672,23.605099996547676,25.905971226960858,26.656403884893336,27.749999121515884,30.06383102562661,30.814801588345777,33.2475831450099,36.31253522981975,37.40646445480982,40.471418108398375,42.90420874749109,47.06309182897516],\"yaxis\":\"y\",\"type\":\"scatter\"},{\"hovertemplate\":\"padding=1\\u003cbr\\u003eTile size=%{x}\\u003cbr\\u003elog_obj_func=%{y}\\u003cextra\\u003e\\u003c\\u002fextra\\u003e\",\"legendgroup\":\"1\",\"line\":{\"color\":\"rgb(189, 0, 0)\",\"dash\":\"solid\"},\"marker\":{\"symbol\":\"cross\"},\"mode\":\"lines+markers\",\"name\":\"1\",\"orientation\":\"v\",\"showlegend\":true,\"x\":[2549.0],\"xaxis\":\"x\",\"y\":[47.060738426317094],\"yaxis\":\"y\",\"type\":\"scatter\"},{\"hovertemplate\":\"padding=0\\u003cbr\\u003eTile size=%{x}\\u003cbr\\u003elog_obj_func=%{y}\\u003cextra\\u003e\\u003c\\u002fextra\\u003e\",\"legendgroup\":\"0\",\"line\":{\"color\":\"rgb(128, 0, 0)\",\"dash\":\"solid\"},\"marker\":{\"symbol\":\"circle\"},\"mode\":\"lines+markers\",\"name\":\"0\",\"orientation\":\"v\",\"showlegend\":true,\"x\":[2.0,4.0,7.0,13.0,14.0,26.0,28.0,49.0,52.0,91.0,98.0,182.0,196.0,364.0,637.0,1274.0,2548.0],\"xaxis\":\"x\",\"y\":[25.745868151372967,23.805739055013966,22.0990103483351,20.319352420841287,20.271063473608542,20.413888046592636,20.58307977504528,23.36936568918179,23.718886063423362,27.06548853373771,27.510006766677083,31.224048215761098,31.66869379698681,35.38292362034165,38.74061797272882,42.89950101873315,47.0583841002128],\"yaxis\":\"y\",\"type\":\"scatter\"}],                        {\"template\":{\"data\":{\"histogram2dcontour\":[{\"type\":\"histogram2dcontour\",\"colorbar\":{\"outlinewidth\":0,\"ticks\":\"\"},\"colorscale\":[[0.0,\"#0d0887\"],[0.1111111111111111,\"#46039f\"],[0.2222222222222222,\"#7201a8\"],[0.3333333333333333,\"#9c179e\"],[0.4444444444444444,\"#bd3786\"],[0.5555555555555556,\"#d8576b\"],[0.6666666666666666,\"#ed7953\"],[0.7777777777777778,\"#fb9f3a\"],[0.8888888888888888,\"#fdca26\"],[1.0,\"#f0f921\"]]}],\"choropleth\":[{\"type\":\"choropleth\",\"colorbar\":{\"outlinewidth\":0,\"ticks\":\"\"}}],\"histogram2d\":[{\"type\":\"histogram2d\",\"colorbar\":{\"outlinewidth\":0,\"ticks\":\"\"},\"colorscale\":[[0.0,\"#0d0887\"],[0.1111111111111111,\"#46039f\"],[0.2222222222222222,\"#7201a8\"],[0.3333333333333333,\"#9c179e\"],[0.4444444444444444,\"#bd3786\"],[0.5555555555555556,\"#d8576b\"],[0.6666666666666666,\"#ed7953\"],[0.7777777777777778,\"#fb9f3a\"],[0.8888888888888888,\"#fdca26\"],[1.0,\"#f0f921\"]]}],\"heatmap\":[{\"type\":\"heatmap\",\"colorbar\":{\"outlinewidth\":0,\"ticks\":\"\"},\"colorscale\":[[0.0,\"#0d0887\"],[0.1111111111111111,\"#46039f\"],[0.2222222222222222,\"#7201a8\"],[0.3333333333333333,\"#9c179e\"],[0.4444444444444444,\"#bd3786\"],[0.5555555555555556,\"#d8576b\"],[0.6666666666666666,\"#ed7953\"],[0.7777777777777778,\"#fb9f3a\"],[0.8888888888888888,\"#fdca26\"],[1.0,\"#f0f921\"]]}],\"heatmapgl\":[{\"type\":\"heatmapgl\",\"colorbar\":{\"outlinewidth\":0,\"ticks\":\"\"},\"colorscale\":[[0.0,\"#0d0887\"],[0.1111111111111111,\"#46039f\"],[0.2222222222222222,\"#7201a8\"],[0.3333333333333333,\"#9c179e\"],[0.4444444444444444,\"#bd3786\"],[0.5555555555555556,\"#d8576b\"],[0.6666666666666666,\"#ed7953\"],[0.7777777777777778,\"#fb9f3a\"],[0.8888888888888888,\"#fdca26\"],[1.0,\"#f0f921\"]]}],\"contourcarpet\":[{\"type\":\"contourcarpet\",\"colorbar\":{\"outlinewidth\":0,\"ticks\":\"\"}}],\"contour\":[{\"type\":\"contour\",\"colorbar\":{\"outlinewidth\":0,\"ticks\":\"\"},\"colorscale\":[[0.0,\"#0d0887\"],[0.1111111111111111,\"#46039f\"],[0.2222222222222222,\"#7201a8\"],[0.3333333333333333,\"#9c179e\"],[0.4444444444444444,\"#bd3786\"],[0.5555555555555556,\"#d8576b\"],[0.6666666666666666,\"#ed7953\"],[0.7777777777777778,\"#fb9f3a\"],[0.8888888888888888,\"#fdca26\"],[1.0,\"#f0f921\"]]}],\"surface\":[{\"type\":\"surface\",\"colorbar\":{\"outlinewidth\":0,\"ticks\":\"\"},\"colorscale\":[[0.0,\"#0d0887\"],[0.1111111111111111,\"#46039f\"],[0.2222222222222222,\"#7201a8\"],[0.3333333333333333,\"#9c179e\"],[0.4444444444444444,\"#bd3786\"],[0.5555555555555556,\"#d8576b\"],[0.6666666666666666,\"#ed7953\"],[0.7777777777777778,\"#fb9f3a\"],[0.8888888888888888,\"#fdca26\"],[1.0,\"#f0f921\"]]}],\"mesh3d\":[{\"type\":\"mesh3d\",\"colorbar\":{\"outlinewidth\":0,\"ticks\":\"\"}}],\"scatter\":[{\"marker\":{\"line\":{\"color\":\"#283442\"}},\"type\":\"scatter\"}],\"parcoords\":[{\"type\":\"parcoords\",\"line\":{\"colorbar\":{\"outlinewidth\":0,\"ticks\":\"\"}}}],\"scatterpolargl\":[{\"type\":\"scatterpolargl\",\"marker\":{\"colorbar\":{\"outlinewidth\":0,\"ticks\":\"\"}}}],\"bar\":[{\"error_x\":{\"color\":\"#f2f5fa\"},\"error_y\":{\"color\":\"#f2f5fa\"},\"marker\":{\"line\":{\"color\":\"rgb(17,17,17)\",\"width\":0.5},\"pattern\":{\"fillmode\":\"overlay\",\"size\":10,\"solidity\":0.2}},\"type\":\"bar\"}],\"scattergeo\":[{\"type\":\"scattergeo\",\"marker\":{\"colorbar\":{\"outlinewidth\":0,\"ticks\":\"\"}}}],\"scatterpolar\":[{\"type\":\"scatterpolar\",\"marker\":{\"colorbar\":{\"outlinewidth\":0,\"ticks\":\"\"}}}],\"histogram\":[{\"marker\":{\"pattern\":{\"fillmode\":\"overlay\",\"size\":10,\"solidity\":0.2}},\"type\":\"histogram\"}],\"scattergl\":[{\"marker\":{\"line\":{\"color\":\"#283442\"}},\"type\":\"scattergl\"}],\"scatter3d\":[{\"type\":\"scatter3d\",\"line\":{\"colorbar\":{\"outlinewidth\":0,\"ticks\":\"\"}},\"marker\":{\"colorbar\":{\"outlinewidth\":0,\"ticks\":\"\"}}}],\"scattermapbox\":[{\"type\":\"scattermapbox\",\"marker\":{\"colorbar\":{\"outlinewidth\":0,\"ticks\":\"\"}}}],\"scatterternary\":[{\"type\":\"scatterternary\",\"marker\":{\"colorbar\":{\"outlinewidth\":0,\"ticks\":\"\"}}}],\"scattercarpet\":[{\"type\":\"scattercarpet\",\"marker\":{\"colorbar\":{\"outlinewidth\":0,\"ticks\":\"\"}}}],\"carpet\":[{\"aaxis\":{\"endlinecolor\":\"#A2B1C6\",\"gridcolor\":\"#506784\",\"linecolor\":\"#506784\",\"minorgridcolor\":\"#506784\",\"startlinecolor\":\"#A2B1C6\"},\"baxis\":{\"endlinecolor\":\"#A2B1C6\",\"gridcolor\":\"#506784\",\"linecolor\":\"#506784\",\"minorgridcolor\":\"#506784\",\"startlinecolor\":\"#A2B1C6\"},\"type\":\"carpet\"}],\"table\":[{\"cells\":{\"fill\":{\"color\":\"#506784\"},\"line\":{\"color\":\"rgb(17,17,17)\"}},\"header\":{\"fill\":{\"color\":\"#2a3f5f\"},\"line\":{\"color\":\"rgb(17,17,17)\"}},\"type\":\"table\"}],\"barpolar\":[{\"marker\":{\"line\":{\"color\":\"rgb(17,17,17)\",\"width\":0.5},\"pattern\":{\"fillmode\":\"overlay\",\"size\":10,\"solidity\":0.2}},\"type\":\"barpolar\"}],\"pie\":[{\"automargin\":true,\"type\":\"pie\"}]},\"layout\":{\"autotypenumbers\":\"strict\",\"colorway\":[\"#636efa\",\"#EF553B\",\"#00cc96\",\"#ab63fa\",\"#FFA15A\",\"#19d3f3\",\"#FF6692\",\"#B6E880\",\"#FF97FF\",\"#FECB52\"],\"font\":{\"color\":\"#f2f5fa\"},\"hovermode\":\"closest\",\"hoverlabel\":{\"align\":\"left\"},\"paper_bgcolor\":\"rgb(17,17,17)\",\"plot_bgcolor\":\"rgb(17,17,17)\",\"polar\":{\"bgcolor\":\"rgb(17,17,17)\",\"angularaxis\":{\"gridcolor\":\"#506784\",\"linecolor\":\"#506784\",\"ticks\":\"\"},\"radialaxis\":{\"gridcolor\":\"#506784\",\"linecolor\":\"#506784\",\"ticks\":\"\"}},\"ternary\":{\"bgcolor\":\"rgb(17,17,17)\",\"aaxis\":{\"gridcolor\":\"#506784\",\"linecolor\":\"#506784\",\"ticks\":\"\"},\"baxis\":{\"gridcolor\":\"#506784\",\"linecolor\":\"#506784\",\"ticks\":\"\"},\"caxis\":{\"gridcolor\":\"#506784\",\"linecolor\":\"#506784\",\"ticks\":\"\"}},\"coloraxis\":{\"colorbar\":{\"outlinewidth\":0,\"ticks\":\"\"}},\"colorscale\":{\"sequential\":[[0.0,\"#0d0887\"],[0.1111111111111111,\"#46039f\"],[0.2222222222222222,\"#7201a8\"],[0.3333333333333333,\"#9c179e\"],[0.4444444444444444,\"#bd3786\"],[0.5555555555555556,\"#d8576b\"],[0.6666666666666666,\"#ed7953\"],[0.7777777777777778,\"#fb9f3a\"],[0.8888888888888888,\"#fdca26\"],[1.0,\"#f0f921\"]],\"sequentialminus\":[[0.0,\"#0d0887\"],[0.1111111111111111,\"#46039f\"],[0.2222222222222222,\"#7201a8\"],[0.3333333333333333,\"#9c179e\"],[0.4444444444444444,\"#bd3786\"],[0.5555555555555556,\"#d8576b\"],[0.6666666666666666,\"#ed7953\"],[0.7777777777777778,\"#fb9f3a\"],[0.8888888888888888,\"#fdca26\"],[1.0,\"#f0f921\"]],\"diverging\":[[0,\"#8e0152\"],[0.1,\"#c51b7d\"],[0.2,\"#de77ae\"],[0.3,\"#f1b6da\"],[0.4,\"#fde0ef\"],[0.5,\"#f7f7f7\"],[0.6,\"#e6f5d0\"],[0.7,\"#b8e186\"],[0.8,\"#7fbc41\"],[0.9,\"#4d9221\"],[1,\"#276419\"]]},\"xaxis\":{\"gridcolor\":\"#283442\",\"linecolor\":\"#506784\",\"ticks\":\"\",\"title\":{\"standoff\":15},\"zerolinecolor\":\"#283442\",\"automargin\":true,\"zerolinewidth\":2},\"yaxis\":{\"gridcolor\":\"#283442\",\"linecolor\":\"#506784\",\"ticks\":\"\",\"title\":{\"standoff\":15},\"zerolinecolor\":\"#283442\",\"automargin\":true,\"zerolinewidth\":2},\"scene\":{\"xaxis\":{\"backgroundcolor\":\"rgb(17,17,17)\",\"gridcolor\":\"#506784\",\"linecolor\":\"#506784\",\"showbackground\":true,\"ticks\":\"\",\"zerolinecolor\":\"#C8D4E3\",\"gridwidth\":2},\"yaxis\":{\"backgroundcolor\":\"rgb(17,17,17)\",\"gridcolor\":\"#506784\",\"linecolor\":\"#506784\",\"showbackground\":true,\"ticks\":\"\",\"zerolinecolor\":\"#C8D4E3\",\"gridwidth\":2},\"zaxis\":{\"backgroundcolor\":\"rgb(17,17,17)\",\"gridcolor\":\"#506784\",\"linecolor\":\"#506784\",\"showbackground\":true,\"ticks\":\"\",\"zerolinecolor\":\"#C8D4E3\",\"gridwidth\":2}},\"shapedefaults\":{\"line\":{\"color\":\"#f2f5fa\"}},\"annotationdefaults\":{\"arrowcolor\":\"#f2f5fa\",\"arrowhead\":0,\"arrowwidth\":1},\"geo\":{\"bgcolor\":\"rgb(17,17,17)\",\"landcolor\":\"rgb(17,17,17)\",\"subunitcolor\":\"#506784\",\"showland\":true,\"showlakes\":true,\"lakecolor\":\"rgb(17,17,17)\"},\"title\":{\"x\":0.05},\"updatemenudefaults\":{\"bgcolor\":\"#506784\",\"borderwidth\":0},\"sliderdefaults\":{\"bgcolor\":\"#C8D4E3\",\"borderwidth\":1,\"bordercolor\":\"rgb(17,17,17)\",\"tickwidth\":0},\"mapbox\":{\"style\":\"dark\"}}},\"xaxis\":{\"anchor\":\"y\",\"domain\":[0.0,1.0],\"title\":{\"text\":\"Tile size\"},\"type\":\"log\"},\"yaxis\":{\"anchor\":\"x\",\"domain\":[0.0,1.0],\"title\":{\"text\":\"$\\\\log(I^6 + rI^3 + r^2I^2)$\"}},\"legend\":{\"title\":{\"text\":\"padding\"},\"tracegroupgap\":0},\"margin\":{\"t\":60},\"title\":{\"text\":\"Influence of tile size choice and padding on TT-MALS runtime (ex10hs)\",\"x\":0.5,\"xanchor\":\"center\",\"yanchor\":\"top\"},\"font\":{\"color\":\"black\"},\"plot_bgcolor\":\"white\",\"paper_bgcolor\":\"white\"},                        {\"responsive\": true}                    ).then(function(){\n",
       "                            \n",
       "var gd = document.getElementById('d63bcfa4-56fb-48be-b023-5179681dfaf2');\n",
       "var x = new MutationObserver(function (mutations, observer) {{\n",
       "        var display = window.getComputedStyle(gd).display;\n",
       "        if (!display || display === 'none') {{\n",
       "            console.log([gd, 'removed!']);\n",
       "            Plotly.purge(gd);\n",
       "            observer.disconnect();\n",
       "        }}\n",
       "}});\n",
       "\n",
       "// Listen for the removal of the full notebook cells\n",
       "var notebookContainer = gd.closest('#notebook-container');\n",
       "if (notebookContainer) {{\n",
       "    x.observe(notebookContainer, {childList: true});\n",
       "}}\n",
       "\n",
       "// Listen for the clearing of the current output cell\n",
       "var outputEl = gd.closest('.output');\n",
       "if (outputEl) {{\n",
       "    x.observe(outputEl, {childList: true});\n",
       "}}\n",
       "\n",
       "                        })                };                });            </script>        </div>"
      ]
     },
     "metadata": {},
     "output_type": "display_data"
    }
   ],
   "execution_count": 37
  },
  {
   "metadata": {
    "ExecuteTime": {
     "end_time": "2024-06-17T07:59:52.980086Z",
     "start_time": "2024-06-17T07:59:52.670857Z"
    }
   },
   "cell_type": "code",
   "source": "line_plot_padding_tile_size_tt_mals_runtime(\"bcsstk13\")",
   "id": "707012ba459ab0d5",
   "outputs": [
    {
     "data": {
      "application/vnd.plotly.v1+json": {
       "data": [
        {
         "hovertemplate": "padding=10<br>Tile size=%{x}<br>log_obj_func=%{y}<extra></extra>",
         "legendgroup": "10",
         "line": {
          "color": "rgb(0, 0, 131)",
          "dash": "solid"
         },
         "marker": {
          "symbol": "circle"
         },
         "mode": "lines+markers",
         "name": "10",
         "orientation": "v",
         "showlegend": true,
         "x": [
          3.0,
          11.0,
          33.0,
          61.0,
          183.0,
          671.0,
          2013.0
         ],
         "xaxis": "x",
         "y": [
          27.962401638929613,
          25.268855529712912,
          24.70877734345712,
          24.674989093627218,
          31.25693417037594,
          39.052614852019964,
          45.6442885539614
         ],
         "yaxis": "y",
         "type": "scatter"
        },
        {
         "hovertemplate": "padding=9<br>Tile size=%{x}<br>log_obj_func=%{y}<extra></extra>",
         "legendgroup": "9",
         "line": {
          "color": "rgb(0, 30, 150)",
          "dash": "solid"
         },
         "marker": {
          "symbol": "diamond"
         },
         "mode": "lines+markers",
         "name": "9",
         "orientation": "v",
         "showlegend": true,
         "x": [
          2.0,
          4.0,
          503.0,
          1006.0,
          2012.0
         ],
         "xaxis": "x",
         "y": [
          37.341422477822434,
          37.32646287468232,
          37.323541150320956,
          41.48242410790258,
          45.64130718744062
         ],
         "yaxis": "y",
         "type": "scatter"
        },
        {
         "hovertemplate": "padding=8<br>Tile size=%{x}<br>log_obj_func=%{y}<extra></extra>",
         "legendgroup": "8",
         "line": {
          "color": "rgb(0, 60, 170)",
          "dash": "solid"
         },
         "marker": {
          "symbol": "square"
         },
         "mode": "lines+markers",
         "name": "8",
         "orientation": "v",
         "showlegend": true,
         "x": [
          2011.0
         ],
         "xaxis": "x",
         "y": [
          45.638324338758935
         ],
         "yaxis": "y",
         "type": "scatter"
        },
        {
         "hovertemplate": "padding=7<br>Tile size=%{x}<br>log_obj_func=%{y}<extra></extra>",
         "legendgroup": "7",
         "line": {
          "color": "rgb(2, 157, 212)",
          "dash": "solid"
         },
         "marker": {
          "symbol": "x"
         },
         "mode": "lines+markers",
         "name": "7",
         "orientation": "v",
         "showlegend": true,
         "x": [
          2.0,
          3.0,
          5.0,
          6.0,
          10.0,
          15.0,
          30.0,
          67.0,
          134.0,
          201.0,
          335.0,
          402.0,
          670.0,
          1005.0,
          2010.0
         ],
         "xaxis": "x",
         "y": [
          29.281410725746962,
          28.167041701189593,
          27.037245219795018,
          26.475618712829114,
          25.792352283056072,
          25.455725053830715,
          25.266869990451944,
          25.233408797739745,
          29.38712536372334,
          31.819838651611025,
          34.88478406038056,
          35.978712906007786,
          39.04366630463593,
          41.47645692691533,
          45.635340006441936
         ],
         "yaxis": "y",
         "type": "scatter"
        },
        {
         "hovertemplate": "padding=6<br>Tile size=%{x}<br>log_obj_func=%{y}<extra></extra>",
         "legendgroup": "6",
         "line": {
          "color": "rgb(5, 255, 255)",
          "dash": "solid"
         },
         "marker": {
          "symbol": "cross"
         },
         "mode": "lines+markers",
         "name": "6",
         "orientation": "v",
         "showlegend": true,
         "x": [
          7.0,
          41.0,
          49.0,
          287.0,
          2009.0
         ],
         "xaxis": "x",
         "y": [
          24.988811925813422,
          22.397285244157203,
          23.389292815467737,
          33.95689516849139,
          45.63235418901299
         ],
         "yaxis": "y",
         "type": "scatter"
        },
        {
         "hovertemplate": "padding=5<br>Tile size=%{x}<br>log_obj_func=%{y}<extra></extra>",
         "legendgroup": "5",
         "line": {
          "color": "rgb(130, 255, 128)",
          "dash": "solid"
         },
         "marker": {
          "symbol": "circle"
         },
         "mode": "lines+markers",
         "name": "5",
         "orientation": "v",
         "showlegend": true,
         "x": [
          2.0,
          4.0,
          8.0,
          251.0,
          502.0,
          1004.0,
          2008.0
         ],
         "xaxis": "x",
         "y": [
          33.406461716484884,
          33.19801511825945,
          33.15961422785996,
          33.15272073521657,
          37.31160084865769,
          41.470483805478175,
          45.629366884993296
         ],
         "yaxis": "y",
         "type": "scatter"
        },
        {
         "hovertemplate": "padding=4<br>Tile size=%{x}<br>log_obj_func=%{y}<extra></extra>",
         "legendgroup": "4",
         "line": {
          "color": "rgb(255, 255, 0)",
          "dash": "solid"
         },
         "marker": {
          "symbol": "diamond"
         },
         "mode": "lines+markers",
         "name": "4",
         "orientation": "v",
         "showlegend": true,
         "x": [
          3.0,
          9.0,
          223.0,
          669.0,
          2007.0
         ],
         "xaxis": "x",
         "y": [
          32.58019105319681,
          32.45117540750329,
          32.44303681158196,
          39.034704391232026,
          45.62637809290179
         ],
         "yaxis": "y",
         "type": "scatter"
        },
        {
         "hovertemplate": "padding=3<br>Tile size=%{x}<br>log_obj_func=%{y}<extra></extra>",
         "legendgroup": "3",
         "line": {
          "color": "rgb(252, 128, 0)",
          "dash": "solid"
         },
         "marker": {
          "symbol": "square"
         },
         "mode": "lines+markers",
         "name": "3",
         "orientation": "v",
         "showlegend": true,
         "x": [
          2.0,
          17.0,
          34.0,
          59.0,
          118.0,
          1003.0,
          2006.0
         ],
         "xaxis": "x",
         "y": [
          29.0199187761387,
          24.724845405297113,
          24.51011860777007,
          24.476357964607544,
          28.6242568966554,
          41.46450473175164,
          45.62338781125523
         ],
         "yaxis": "y",
         "type": "scatter"
        },
        {
         "hovertemplate": "padding=2<br>Tile size=%{x}<br>log_obj_func=%{y}<extra></extra>",
         "legendgroup": "2",
         "line": {
          "color": "rgb(250, 0, 0)",
          "dash": "solid"
         },
         "marker": {
          "symbol": "x"
         },
         "mode": "lines+markers",
         "name": "2",
         "orientation": "v",
         "showlegend": true,
         "x": [
          5.0,
          401.0,
          2005.0
         ],
         "xaxis": "x",
         "y": [
          35.96786911933159,
          35.96376894099116,
          45.620396038568146
         ],
         "yaxis": "y",
         "type": "scatter"
        },
        {
         "hovertemplate": "padding=1<br>Tile size=%{x}<br>log_obj_func=%{y}<extra></extra>",
         "legendgroup": "1",
         "line": {
          "color": "rgb(189, 0, 0)",
          "dash": "solid"
         },
         "marker": {
          "symbol": "cross"
         },
         "mode": "lines+markers",
         "name": "1",
         "orientation": "v",
         "showlegend": true,
         "x": [
          2.0,
          3.0,
          4.0,
          6.0,
          12.0,
          167.0,
          334.0,
          501.0,
          668.0,
          1002.0,
          2004.0
         ],
         "xaxis": "x",
         "y": [
          31.612314135095023,
          31.09053775193474,
          30.91904926492505,
          30.771121188625457,
          30.719189576842414,
          30.707988279286422,
          34.8668468353389,
          37.29963673780764,
          39.02572907182015,
          41.45851969386083,
          45.61740277335285
         ],
         "yaxis": "y",
         "type": "scatter"
        },
        {
         "hovertemplate": "padding=0<br>Tile size=%{x}<br>log_obj_func=%{y}<extra></extra>",
         "legendgroup": "0",
         "line": {
          "color": "rgb(128, 0, 0)",
          "dash": "solid"
         },
         "marker": {
          "symbol": "circle"
         },
         "mode": "lines+markers",
         "name": "0",
         "orientation": "v",
         "showlegend": true,
         "x": [
          2003.0
         ],
         "xaxis": "x",
         "y": [
          45.61440801411941
         ],
         "yaxis": "y",
         "type": "scatter"
        }
       ],
       "layout": {
        "template": {
         "data": {
          "histogram2dcontour": [
           {
            "type": "histogram2dcontour",
            "colorbar": {
             "outlinewidth": 0,
             "ticks": ""
            },
            "colorscale": [
             [
              0.0,
              "#0d0887"
             ],
             [
              0.1111111111111111,
              "#46039f"
             ],
             [
              0.2222222222222222,
              "#7201a8"
             ],
             [
              0.3333333333333333,
              "#9c179e"
             ],
             [
              0.4444444444444444,
              "#bd3786"
             ],
             [
              0.5555555555555556,
              "#d8576b"
             ],
             [
              0.6666666666666666,
              "#ed7953"
             ],
             [
              0.7777777777777778,
              "#fb9f3a"
             ],
             [
              0.8888888888888888,
              "#fdca26"
             ],
             [
              1.0,
              "#f0f921"
             ]
            ]
           }
          ],
          "choropleth": [
           {
            "type": "choropleth",
            "colorbar": {
             "outlinewidth": 0,
             "ticks": ""
            }
           }
          ],
          "histogram2d": [
           {
            "type": "histogram2d",
            "colorbar": {
             "outlinewidth": 0,
             "ticks": ""
            },
            "colorscale": [
             [
              0.0,
              "#0d0887"
             ],
             [
              0.1111111111111111,
              "#46039f"
             ],
             [
              0.2222222222222222,
              "#7201a8"
             ],
             [
              0.3333333333333333,
              "#9c179e"
             ],
             [
              0.4444444444444444,
              "#bd3786"
             ],
             [
              0.5555555555555556,
              "#d8576b"
             ],
             [
              0.6666666666666666,
              "#ed7953"
             ],
             [
              0.7777777777777778,
              "#fb9f3a"
             ],
             [
              0.8888888888888888,
              "#fdca26"
             ],
             [
              1.0,
              "#f0f921"
             ]
            ]
           }
          ],
          "heatmap": [
           {
            "type": "heatmap",
            "colorbar": {
             "outlinewidth": 0,
             "ticks": ""
            },
            "colorscale": [
             [
              0.0,
              "#0d0887"
             ],
             [
              0.1111111111111111,
              "#46039f"
             ],
             [
              0.2222222222222222,
              "#7201a8"
             ],
             [
              0.3333333333333333,
              "#9c179e"
             ],
             [
              0.4444444444444444,
              "#bd3786"
             ],
             [
              0.5555555555555556,
              "#d8576b"
             ],
             [
              0.6666666666666666,
              "#ed7953"
             ],
             [
              0.7777777777777778,
              "#fb9f3a"
             ],
             [
              0.8888888888888888,
              "#fdca26"
             ],
             [
              1.0,
              "#f0f921"
             ]
            ]
           }
          ],
          "heatmapgl": [
           {
            "type": "heatmapgl",
            "colorbar": {
             "outlinewidth": 0,
             "ticks": ""
            },
            "colorscale": [
             [
              0.0,
              "#0d0887"
             ],
             [
              0.1111111111111111,
              "#46039f"
             ],
             [
              0.2222222222222222,
              "#7201a8"
             ],
             [
              0.3333333333333333,
              "#9c179e"
             ],
             [
              0.4444444444444444,
              "#bd3786"
             ],
             [
              0.5555555555555556,
              "#d8576b"
             ],
             [
              0.6666666666666666,
              "#ed7953"
             ],
             [
              0.7777777777777778,
              "#fb9f3a"
             ],
             [
              0.8888888888888888,
              "#fdca26"
             ],
             [
              1.0,
              "#f0f921"
             ]
            ]
           }
          ],
          "contourcarpet": [
           {
            "type": "contourcarpet",
            "colorbar": {
             "outlinewidth": 0,
             "ticks": ""
            }
           }
          ],
          "contour": [
           {
            "type": "contour",
            "colorbar": {
             "outlinewidth": 0,
             "ticks": ""
            },
            "colorscale": [
             [
              0.0,
              "#0d0887"
             ],
             [
              0.1111111111111111,
              "#46039f"
             ],
             [
              0.2222222222222222,
              "#7201a8"
             ],
             [
              0.3333333333333333,
              "#9c179e"
             ],
             [
              0.4444444444444444,
              "#bd3786"
             ],
             [
              0.5555555555555556,
              "#d8576b"
             ],
             [
              0.6666666666666666,
              "#ed7953"
             ],
             [
              0.7777777777777778,
              "#fb9f3a"
             ],
             [
              0.8888888888888888,
              "#fdca26"
             ],
             [
              1.0,
              "#f0f921"
             ]
            ]
           }
          ],
          "surface": [
           {
            "type": "surface",
            "colorbar": {
             "outlinewidth": 0,
             "ticks": ""
            },
            "colorscale": [
             [
              0.0,
              "#0d0887"
             ],
             [
              0.1111111111111111,
              "#46039f"
             ],
             [
              0.2222222222222222,
              "#7201a8"
             ],
             [
              0.3333333333333333,
              "#9c179e"
             ],
             [
              0.4444444444444444,
              "#bd3786"
             ],
             [
              0.5555555555555556,
              "#d8576b"
             ],
             [
              0.6666666666666666,
              "#ed7953"
             ],
             [
              0.7777777777777778,
              "#fb9f3a"
             ],
             [
              0.8888888888888888,
              "#fdca26"
             ],
             [
              1.0,
              "#f0f921"
             ]
            ]
           }
          ],
          "mesh3d": [
           {
            "type": "mesh3d",
            "colorbar": {
             "outlinewidth": 0,
             "ticks": ""
            }
           }
          ],
          "scatter": [
           {
            "marker": {
             "line": {
              "color": "#283442"
             }
            },
            "type": "scatter"
           }
          ],
          "parcoords": [
           {
            "type": "parcoords",
            "line": {
             "colorbar": {
              "outlinewidth": 0,
              "ticks": ""
             }
            }
           }
          ],
          "scatterpolargl": [
           {
            "type": "scatterpolargl",
            "marker": {
             "colorbar": {
              "outlinewidth": 0,
              "ticks": ""
             }
            }
           }
          ],
          "bar": [
           {
            "error_x": {
             "color": "#f2f5fa"
            },
            "error_y": {
             "color": "#f2f5fa"
            },
            "marker": {
             "line": {
              "color": "rgb(17,17,17)",
              "width": 0.5
             },
             "pattern": {
              "fillmode": "overlay",
              "size": 10,
              "solidity": 0.2
             }
            },
            "type": "bar"
           }
          ],
          "scattergeo": [
           {
            "type": "scattergeo",
            "marker": {
             "colorbar": {
              "outlinewidth": 0,
              "ticks": ""
             }
            }
           }
          ],
          "scatterpolar": [
           {
            "type": "scatterpolar",
            "marker": {
             "colorbar": {
              "outlinewidth": 0,
              "ticks": ""
             }
            }
           }
          ],
          "histogram": [
           {
            "marker": {
             "pattern": {
              "fillmode": "overlay",
              "size": 10,
              "solidity": 0.2
             }
            },
            "type": "histogram"
           }
          ],
          "scattergl": [
           {
            "marker": {
             "line": {
              "color": "#283442"
             }
            },
            "type": "scattergl"
           }
          ],
          "scatter3d": [
           {
            "type": "scatter3d",
            "line": {
             "colorbar": {
              "outlinewidth": 0,
              "ticks": ""
             }
            },
            "marker": {
             "colorbar": {
              "outlinewidth": 0,
              "ticks": ""
             }
            }
           }
          ],
          "scattermapbox": [
           {
            "type": "scattermapbox",
            "marker": {
             "colorbar": {
              "outlinewidth": 0,
              "ticks": ""
             }
            }
           }
          ],
          "scatterternary": [
           {
            "type": "scatterternary",
            "marker": {
             "colorbar": {
              "outlinewidth": 0,
              "ticks": ""
             }
            }
           }
          ],
          "scattercarpet": [
           {
            "type": "scattercarpet",
            "marker": {
             "colorbar": {
              "outlinewidth": 0,
              "ticks": ""
             }
            }
           }
          ],
          "carpet": [
           {
            "aaxis": {
             "endlinecolor": "#A2B1C6",
             "gridcolor": "#506784",
             "linecolor": "#506784",
             "minorgridcolor": "#506784",
             "startlinecolor": "#A2B1C6"
            },
            "baxis": {
             "endlinecolor": "#A2B1C6",
             "gridcolor": "#506784",
             "linecolor": "#506784",
             "minorgridcolor": "#506784",
             "startlinecolor": "#A2B1C6"
            },
            "type": "carpet"
           }
          ],
          "table": [
           {
            "cells": {
             "fill": {
              "color": "#506784"
             },
             "line": {
              "color": "rgb(17,17,17)"
             }
            },
            "header": {
             "fill": {
              "color": "#2a3f5f"
             },
             "line": {
              "color": "rgb(17,17,17)"
             }
            },
            "type": "table"
           }
          ],
          "barpolar": [
           {
            "marker": {
             "line": {
              "color": "rgb(17,17,17)",
              "width": 0.5
             },
             "pattern": {
              "fillmode": "overlay",
              "size": 10,
              "solidity": 0.2
             }
            },
            "type": "barpolar"
           }
          ],
          "pie": [
           {
            "automargin": true,
            "type": "pie"
           }
          ]
         },
         "layout": {
          "autotypenumbers": "strict",
          "colorway": [
           "#636efa",
           "#EF553B",
           "#00cc96",
           "#ab63fa",
           "#FFA15A",
           "#19d3f3",
           "#FF6692",
           "#B6E880",
           "#FF97FF",
           "#FECB52"
          ],
          "font": {
           "color": "#f2f5fa"
          },
          "hovermode": "closest",
          "hoverlabel": {
           "align": "left"
          },
          "paper_bgcolor": "rgb(17,17,17)",
          "plot_bgcolor": "rgb(17,17,17)",
          "polar": {
           "bgcolor": "rgb(17,17,17)",
           "angularaxis": {
            "gridcolor": "#506784",
            "linecolor": "#506784",
            "ticks": ""
           },
           "radialaxis": {
            "gridcolor": "#506784",
            "linecolor": "#506784",
            "ticks": ""
           }
          },
          "ternary": {
           "bgcolor": "rgb(17,17,17)",
           "aaxis": {
            "gridcolor": "#506784",
            "linecolor": "#506784",
            "ticks": ""
           },
           "baxis": {
            "gridcolor": "#506784",
            "linecolor": "#506784",
            "ticks": ""
           },
           "caxis": {
            "gridcolor": "#506784",
            "linecolor": "#506784",
            "ticks": ""
           }
          },
          "coloraxis": {
           "colorbar": {
            "outlinewidth": 0,
            "ticks": ""
           }
          },
          "colorscale": {
           "sequential": [
            [
             0.0,
             "#0d0887"
            ],
            [
             0.1111111111111111,
             "#46039f"
            ],
            [
             0.2222222222222222,
             "#7201a8"
            ],
            [
             0.3333333333333333,
             "#9c179e"
            ],
            [
             0.4444444444444444,
             "#bd3786"
            ],
            [
             0.5555555555555556,
             "#d8576b"
            ],
            [
             0.6666666666666666,
             "#ed7953"
            ],
            [
             0.7777777777777778,
             "#fb9f3a"
            ],
            [
             0.8888888888888888,
             "#fdca26"
            ],
            [
             1.0,
             "#f0f921"
            ]
           ],
           "sequentialminus": [
            [
             0.0,
             "#0d0887"
            ],
            [
             0.1111111111111111,
             "#46039f"
            ],
            [
             0.2222222222222222,
             "#7201a8"
            ],
            [
             0.3333333333333333,
             "#9c179e"
            ],
            [
             0.4444444444444444,
             "#bd3786"
            ],
            [
             0.5555555555555556,
             "#d8576b"
            ],
            [
             0.6666666666666666,
             "#ed7953"
            ],
            [
             0.7777777777777778,
             "#fb9f3a"
            ],
            [
             0.8888888888888888,
             "#fdca26"
            ],
            [
             1.0,
             "#f0f921"
            ]
           ],
           "diverging": [
            [
             0,
             "#8e0152"
            ],
            [
             0.1,
             "#c51b7d"
            ],
            [
             0.2,
             "#de77ae"
            ],
            [
             0.3,
             "#f1b6da"
            ],
            [
             0.4,
             "#fde0ef"
            ],
            [
             0.5,
             "#f7f7f7"
            ],
            [
             0.6,
             "#e6f5d0"
            ],
            [
             0.7,
             "#b8e186"
            ],
            [
             0.8,
             "#7fbc41"
            ],
            [
             0.9,
             "#4d9221"
            ],
            [
             1,
             "#276419"
            ]
           ]
          },
          "xaxis": {
           "gridcolor": "#283442",
           "linecolor": "#506784",
           "ticks": "",
           "title": {
            "standoff": 15
           },
           "zerolinecolor": "#283442",
           "automargin": true,
           "zerolinewidth": 2
          },
          "yaxis": {
           "gridcolor": "#283442",
           "linecolor": "#506784",
           "ticks": "",
           "title": {
            "standoff": 15
           },
           "zerolinecolor": "#283442",
           "automargin": true,
           "zerolinewidth": 2
          },
          "scene": {
           "xaxis": {
            "backgroundcolor": "rgb(17,17,17)",
            "gridcolor": "#506784",
            "linecolor": "#506784",
            "showbackground": true,
            "ticks": "",
            "zerolinecolor": "#C8D4E3",
            "gridwidth": 2
           },
           "yaxis": {
            "backgroundcolor": "rgb(17,17,17)",
            "gridcolor": "#506784",
            "linecolor": "#506784",
            "showbackground": true,
            "ticks": "",
            "zerolinecolor": "#C8D4E3",
            "gridwidth": 2
           },
           "zaxis": {
            "backgroundcolor": "rgb(17,17,17)",
            "gridcolor": "#506784",
            "linecolor": "#506784",
            "showbackground": true,
            "ticks": "",
            "zerolinecolor": "#C8D4E3",
            "gridwidth": 2
           }
          },
          "shapedefaults": {
           "line": {
            "color": "#f2f5fa"
           }
          },
          "annotationdefaults": {
           "arrowcolor": "#f2f5fa",
           "arrowhead": 0,
           "arrowwidth": 1
          },
          "geo": {
           "bgcolor": "rgb(17,17,17)",
           "landcolor": "rgb(17,17,17)",
           "subunitcolor": "#506784",
           "showland": true,
           "showlakes": true,
           "lakecolor": "rgb(17,17,17)"
          },
          "title": {
           "x": 0.05
          },
          "updatemenudefaults": {
           "bgcolor": "#506784",
           "borderwidth": 0
          },
          "sliderdefaults": {
           "bgcolor": "#C8D4E3",
           "borderwidth": 1,
           "bordercolor": "rgb(17,17,17)",
           "tickwidth": 0
          },
          "mapbox": {
           "style": "dark"
          }
         }
        },
        "xaxis": {
         "anchor": "y",
         "domain": [
          0.0,
          1.0
         ],
         "title": {
          "text": "Tile size"
         },
         "type": "log"
        },
        "yaxis": {
         "anchor": "x",
         "domain": [
          0.0,
          1.0
         ],
         "title": {
          "text": "$\\log(I^6 + rI^3 + r^2I^2)$"
         }
        },
        "legend": {
         "title": {
          "text": "padding"
         },
         "tracegroupgap": 0
        },
        "margin": {
         "t": 60
        },
        "title": {
         "text": "Influence of tile size choice and padding on TT-MALS runtime (bcsstk13)",
         "x": 0.5,
         "xanchor": "center",
         "yanchor": "top"
        },
        "font": {
         "color": "black"
        },
        "plot_bgcolor": "white",
        "paper_bgcolor": "white"
       },
       "config": {
        "plotlyServerURL": "https://plot.ly"
       }
      },
      "text/html": [
       "<div>                            <div id=\"952459d9-393a-4bcd-bd57-9c963a908899\" class=\"plotly-graph-div\" style=\"height:525px; width:100%;\"></div>            <script type=\"text/javascript\">                require([\"plotly\"], function(Plotly) {                    window.PLOTLYENV=window.PLOTLYENV || {};                                    if (document.getElementById(\"952459d9-393a-4bcd-bd57-9c963a908899\")) {                    Plotly.newPlot(                        \"952459d9-393a-4bcd-bd57-9c963a908899\",                        [{\"hovertemplate\":\"padding=10\\u003cbr\\u003eTile size=%{x}\\u003cbr\\u003elog_obj_func=%{y}\\u003cextra\\u003e\\u003c\\u002fextra\\u003e\",\"legendgroup\":\"10\",\"line\":{\"color\":\"rgb(0, 0, 131)\",\"dash\":\"solid\"},\"marker\":{\"symbol\":\"circle\"},\"mode\":\"lines+markers\",\"name\":\"10\",\"orientation\":\"v\",\"showlegend\":true,\"x\":[3.0,11.0,33.0,61.0,183.0,671.0,2013.0],\"xaxis\":\"x\",\"y\":[27.962401638929613,25.268855529712912,24.70877734345712,24.674989093627218,31.25693417037594,39.052614852019964,45.6442885539614],\"yaxis\":\"y\",\"type\":\"scatter\"},{\"hovertemplate\":\"padding=9\\u003cbr\\u003eTile size=%{x}\\u003cbr\\u003elog_obj_func=%{y}\\u003cextra\\u003e\\u003c\\u002fextra\\u003e\",\"legendgroup\":\"9\",\"line\":{\"color\":\"rgb(0, 30, 150)\",\"dash\":\"solid\"},\"marker\":{\"symbol\":\"diamond\"},\"mode\":\"lines+markers\",\"name\":\"9\",\"orientation\":\"v\",\"showlegend\":true,\"x\":[2.0,4.0,503.0,1006.0,2012.0],\"xaxis\":\"x\",\"y\":[37.341422477822434,37.32646287468232,37.323541150320956,41.48242410790258,45.64130718744062],\"yaxis\":\"y\",\"type\":\"scatter\"},{\"hovertemplate\":\"padding=8\\u003cbr\\u003eTile size=%{x}\\u003cbr\\u003elog_obj_func=%{y}\\u003cextra\\u003e\\u003c\\u002fextra\\u003e\",\"legendgroup\":\"8\",\"line\":{\"color\":\"rgb(0, 60, 170)\",\"dash\":\"solid\"},\"marker\":{\"symbol\":\"square\"},\"mode\":\"lines+markers\",\"name\":\"8\",\"orientation\":\"v\",\"showlegend\":true,\"x\":[2011.0],\"xaxis\":\"x\",\"y\":[45.638324338758935],\"yaxis\":\"y\",\"type\":\"scatter\"},{\"hovertemplate\":\"padding=7\\u003cbr\\u003eTile size=%{x}\\u003cbr\\u003elog_obj_func=%{y}\\u003cextra\\u003e\\u003c\\u002fextra\\u003e\",\"legendgroup\":\"7\",\"line\":{\"color\":\"rgb(2, 157, 212)\",\"dash\":\"solid\"},\"marker\":{\"symbol\":\"x\"},\"mode\":\"lines+markers\",\"name\":\"7\",\"orientation\":\"v\",\"showlegend\":true,\"x\":[2.0,3.0,5.0,6.0,10.0,15.0,30.0,67.0,134.0,201.0,335.0,402.0,670.0,1005.0,2010.0],\"xaxis\":\"x\",\"y\":[29.281410725746962,28.167041701189593,27.037245219795018,26.475618712829114,25.792352283056072,25.455725053830715,25.266869990451944,25.233408797739745,29.38712536372334,31.819838651611025,34.88478406038056,35.978712906007786,39.04366630463593,41.47645692691533,45.635340006441936],\"yaxis\":\"y\",\"type\":\"scatter\"},{\"hovertemplate\":\"padding=6\\u003cbr\\u003eTile size=%{x}\\u003cbr\\u003elog_obj_func=%{y}\\u003cextra\\u003e\\u003c\\u002fextra\\u003e\",\"legendgroup\":\"6\",\"line\":{\"color\":\"rgb(5, 255, 255)\",\"dash\":\"solid\"},\"marker\":{\"symbol\":\"cross\"},\"mode\":\"lines+markers\",\"name\":\"6\",\"orientation\":\"v\",\"showlegend\":true,\"x\":[7.0,41.0,49.0,287.0,2009.0],\"xaxis\":\"x\",\"y\":[24.988811925813422,22.397285244157203,23.389292815467737,33.95689516849139,45.63235418901299],\"yaxis\":\"y\",\"type\":\"scatter\"},{\"hovertemplate\":\"padding=5\\u003cbr\\u003eTile size=%{x}\\u003cbr\\u003elog_obj_func=%{y}\\u003cextra\\u003e\\u003c\\u002fextra\\u003e\",\"legendgroup\":\"5\",\"line\":{\"color\":\"rgb(130, 255, 128)\",\"dash\":\"solid\"},\"marker\":{\"symbol\":\"circle\"},\"mode\":\"lines+markers\",\"name\":\"5\",\"orientation\":\"v\",\"showlegend\":true,\"x\":[2.0,4.0,8.0,251.0,502.0,1004.0,2008.0],\"xaxis\":\"x\",\"y\":[33.406461716484884,33.19801511825945,33.15961422785996,33.15272073521657,37.31160084865769,41.470483805478175,45.629366884993296],\"yaxis\":\"y\",\"type\":\"scatter\"},{\"hovertemplate\":\"padding=4\\u003cbr\\u003eTile size=%{x}\\u003cbr\\u003elog_obj_func=%{y}\\u003cextra\\u003e\\u003c\\u002fextra\\u003e\",\"legendgroup\":\"4\",\"line\":{\"color\":\"rgb(255, 255, 0)\",\"dash\":\"solid\"},\"marker\":{\"symbol\":\"diamond\"},\"mode\":\"lines+markers\",\"name\":\"4\",\"orientation\":\"v\",\"showlegend\":true,\"x\":[3.0,9.0,223.0,669.0,2007.0],\"xaxis\":\"x\",\"y\":[32.58019105319681,32.45117540750329,32.44303681158196,39.034704391232026,45.62637809290179],\"yaxis\":\"y\",\"type\":\"scatter\"},{\"hovertemplate\":\"padding=3\\u003cbr\\u003eTile size=%{x}\\u003cbr\\u003elog_obj_func=%{y}\\u003cextra\\u003e\\u003c\\u002fextra\\u003e\",\"legendgroup\":\"3\",\"line\":{\"color\":\"rgb(252, 128, 0)\",\"dash\":\"solid\"},\"marker\":{\"symbol\":\"square\"},\"mode\":\"lines+markers\",\"name\":\"3\",\"orientation\":\"v\",\"showlegend\":true,\"x\":[2.0,17.0,34.0,59.0,118.0,1003.0,2006.0],\"xaxis\":\"x\",\"y\":[29.0199187761387,24.724845405297113,24.51011860777007,24.476357964607544,28.6242568966554,41.46450473175164,45.62338781125523],\"yaxis\":\"y\",\"type\":\"scatter\"},{\"hovertemplate\":\"padding=2\\u003cbr\\u003eTile size=%{x}\\u003cbr\\u003elog_obj_func=%{y}\\u003cextra\\u003e\\u003c\\u002fextra\\u003e\",\"legendgroup\":\"2\",\"line\":{\"color\":\"rgb(250, 0, 0)\",\"dash\":\"solid\"},\"marker\":{\"symbol\":\"x\"},\"mode\":\"lines+markers\",\"name\":\"2\",\"orientation\":\"v\",\"showlegend\":true,\"x\":[5.0,401.0,2005.0],\"xaxis\":\"x\",\"y\":[35.96786911933159,35.96376894099116,45.620396038568146],\"yaxis\":\"y\",\"type\":\"scatter\"},{\"hovertemplate\":\"padding=1\\u003cbr\\u003eTile size=%{x}\\u003cbr\\u003elog_obj_func=%{y}\\u003cextra\\u003e\\u003c\\u002fextra\\u003e\",\"legendgroup\":\"1\",\"line\":{\"color\":\"rgb(189, 0, 0)\",\"dash\":\"solid\"},\"marker\":{\"symbol\":\"cross\"},\"mode\":\"lines+markers\",\"name\":\"1\",\"orientation\":\"v\",\"showlegend\":true,\"x\":[2.0,3.0,4.0,6.0,12.0,167.0,334.0,501.0,668.0,1002.0,2004.0],\"xaxis\":\"x\",\"y\":[31.612314135095023,31.09053775193474,30.91904926492505,30.771121188625457,30.719189576842414,30.707988279286422,34.8668468353389,37.29963673780764,39.02572907182015,41.45851969386083,45.61740277335285],\"yaxis\":\"y\",\"type\":\"scatter\"},{\"hovertemplate\":\"padding=0\\u003cbr\\u003eTile size=%{x}\\u003cbr\\u003elog_obj_func=%{y}\\u003cextra\\u003e\\u003c\\u002fextra\\u003e\",\"legendgroup\":\"0\",\"line\":{\"color\":\"rgb(128, 0, 0)\",\"dash\":\"solid\"},\"marker\":{\"symbol\":\"circle\"},\"mode\":\"lines+markers\",\"name\":\"0\",\"orientation\":\"v\",\"showlegend\":true,\"x\":[2003.0],\"xaxis\":\"x\",\"y\":[45.61440801411941],\"yaxis\":\"y\",\"type\":\"scatter\"}],                        {\"template\":{\"data\":{\"histogram2dcontour\":[{\"type\":\"histogram2dcontour\",\"colorbar\":{\"outlinewidth\":0,\"ticks\":\"\"},\"colorscale\":[[0.0,\"#0d0887\"],[0.1111111111111111,\"#46039f\"],[0.2222222222222222,\"#7201a8\"],[0.3333333333333333,\"#9c179e\"],[0.4444444444444444,\"#bd3786\"],[0.5555555555555556,\"#d8576b\"],[0.6666666666666666,\"#ed7953\"],[0.7777777777777778,\"#fb9f3a\"],[0.8888888888888888,\"#fdca26\"],[1.0,\"#f0f921\"]]}],\"choropleth\":[{\"type\":\"choropleth\",\"colorbar\":{\"outlinewidth\":0,\"ticks\":\"\"}}],\"histogram2d\":[{\"type\":\"histogram2d\",\"colorbar\":{\"outlinewidth\":0,\"ticks\":\"\"},\"colorscale\":[[0.0,\"#0d0887\"],[0.1111111111111111,\"#46039f\"],[0.2222222222222222,\"#7201a8\"],[0.3333333333333333,\"#9c179e\"],[0.4444444444444444,\"#bd3786\"],[0.5555555555555556,\"#d8576b\"],[0.6666666666666666,\"#ed7953\"],[0.7777777777777778,\"#fb9f3a\"],[0.8888888888888888,\"#fdca26\"],[1.0,\"#f0f921\"]]}],\"heatmap\":[{\"type\":\"heatmap\",\"colorbar\":{\"outlinewidth\":0,\"ticks\":\"\"},\"colorscale\":[[0.0,\"#0d0887\"],[0.1111111111111111,\"#46039f\"],[0.2222222222222222,\"#7201a8\"],[0.3333333333333333,\"#9c179e\"],[0.4444444444444444,\"#bd3786\"],[0.5555555555555556,\"#d8576b\"],[0.6666666666666666,\"#ed7953\"],[0.7777777777777778,\"#fb9f3a\"],[0.8888888888888888,\"#fdca26\"],[1.0,\"#f0f921\"]]}],\"heatmapgl\":[{\"type\":\"heatmapgl\",\"colorbar\":{\"outlinewidth\":0,\"ticks\":\"\"},\"colorscale\":[[0.0,\"#0d0887\"],[0.1111111111111111,\"#46039f\"],[0.2222222222222222,\"#7201a8\"],[0.3333333333333333,\"#9c179e\"],[0.4444444444444444,\"#bd3786\"],[0.5555555555555556,\"#d8576b\"],[0.6666666666666666,\"#ed7953\"],[0.7777777777777778,\"#fb9f3a\"],[0.8888888888888888,\"#fdca26\"],[1.0,\"#f0f921\"]]}],\"contourcarpet\":[{\"type\":\"contourcarpet\",\"colorbar\":{\"outlinewidth\":0,\"ticks\":\"\"}}],\"contour\":[{\"type\":\"contour\",\"colorbar\":{\"outlinewidth\":0,\"ticks\":\"\"},\"colorscale\":[[0.0,\"#0d0887\"],[0.1111111111111111,\"#46039f\"],[0.2222222222222222,\"#7201a8\"],[0.3333333333333333,\"#9c179e\"],[0.4444444444444444,\"#bd3786\"],[0.5555555555555556,\"#d8576b\"],[0.6666666666666666,\"#ed7953\"],[0.7777777777777778,\"#fb9f3a\"],[0.8888888888888888,\"#fdca26\"],[1.0,\"#f0f921\"]]}],\"surface\":[{\"type\":\"surface\",\"colorbar\":{\"outlinewidth\":0,\"ticks\":\"\"},\"colorscale\":[[0.0,\"#0d0887\"],[0.1111111111111111,\"#46039f\"],[0.2222222222222222,\"#7201a8\"],[0.3333333333333333,\"#9c179e\"],[0.4444444444444444,\"#bd3786\"],[0.5555555555555556,\"#d8576b\"],[0.6666666666666666,\"#ed7953\"],[0.7777777777777778,\"#fb9f3a\"],[0.8888888888888888,\"#fdca26\"],[1.0,\"#f0f921\"]]}],\"mesh3d\":[{\"type\":\"mesh3d\",\"colorbar\":{\"outlinewidth\":0,\"ticks\":\"\"}}],\"scatter\":[{\"marker\":{\"line\":{\"color\":\"#283442\"}},\"type\":\"scatter\"}],\"parcoords\":[{\"type\":\"parcoords\",\"line\":{\"colorbar\":{\"outlinewidth\":0,\"ticks\":\"\"}}}],\"scatterpolargl\":[{\"type\":\"scatterpolargl\",\"marker\":{\"colorbar\":{\"outlinewidth\":0,\"ticks\":\"\"}}}],\"bar\":[{\"error_x\":{\"color\":\"#f2f5fa\"},\"error_y\":{\"color\":\"#f2f5fa\"},\"marker\":{\"line\":{\"color\":\"rgb(17,17,17)\",\"width\":0.5},\"pattern\":{\"fillmode\":\"overlay\",\"size\":10,\"solidity\":0.2}},\"type\":\"bar\"}],\"scattergeo\":[{\"type\":\"scattergeo\",\"marker\":{\"colorbar\":{\"outlinewidth\":0,\"ticks\":\"\"}}}],\"scatterpolar\":[{\"type\":\"scatterpolar\",\"marker\":{\"colorbar\":{\"outlinewidth\":0,\"ticks\":\"\"}}}],\"histogram\":[{\"marker\":{\"pattern\":{\"fillmode\":\"overlay\",\"size\":10,\"solidity\":0.2}},\"type\":\"histogram\"}],\"scattergl\":[{\"marker\":{\"line\":{\"color\":\"#283442\"}},\"type\":\"scattergl\"}],\"scatter3d\":[{\"type\":\"scatter3d\",\"line\":{\"colorbar\":{\"outlinewidth\":0,\"ticks\":\"\"}},\"marker\":{\"colorbar\":{\"outlinewidth\":0,\"ticks\":\"\"}}}],\"scattermapbox\":[{\"type\":\"scattermapbox\",\"marker\":{\"colorbar\":{\"outlinewidth\":0,\"ticks\":\"\"}}}],\"scatterternary\":[{\"type\":\"scatterternary\",\"marker\":{\"colorbar\":{\"outlinewidth\":0,\"ticks\":\"\"}}}],\"scattercarpet\":[{\"type\":\"scattercarpet\",\"marker\":{\"colorbar\":{\"outlinewidth\":0,\"ticks\":\"\"}}}],\"carpet\":[{\"aaxis\":{\"endlinecolor\":\"#A2B1C6\",\"gridcolor\":\"#506784\",\"linecolor\":\"#506784\",\"minorgridcolor\":\"#506784\",\"startlinecolor\":\"#A2B1C6\"},\"baxis\":{\"endlinecolor\":\"#A2B1C6\",\"gridcolor\":\"#506784\",\"linecolor\":\"#506784\",\"minorgridcolor\":\"#506784\",\"startlinecolor\":\"#A2B1C6\"},\"type\":\"carpet\"}],\"table\":[{\"cells\":{\"fill\":{\"color\":\"#506784\"},\"line\":{\"color\":\"rgb(17,17,17)\"}},\"header\":{\"fill\":{\"color\":\"#2a3f5f\"},\"line\":{\"color\":\"rgb(17,17,17)\"}},\"type\":\"table\"}],\"barpolar\":[{\"marker\":{\"line\":{\"color\":\"rgb(17,17,17)\",\"width\":0.5},\"pattern\":{\"fillmode\":\"overlay\",\"size\":10,\"solidity\":0.2}},\"type\":\"barpolar\"}],\"pie\":[{\"automargin\":true,\"type\":\"pie\"}]},\"layout\":{\"autotypenumbers\":\"strict\",\"colorway\":[\"#636efa\",\"#EF553B\",\"#00cc96\",\"#ab63fa\",\"#FFA15A\",\"#19d3f3\",\"#FF6692\",\"#B6E880\",\"#FF97FF\",\"#FECB52\"],\"font\":{\"color\":\"#f2f5fa\"},\"hovermode\":\"closest\",\"hoverlabel\":{\"align\":\"left\"},\"paper_bgcolor\":\"rgb(17,17,17)\",\"plot_bgcolor\":\"rgb(17,17,17)\",\"polar\":{\"bgcolor\":\"rgb(17,17,17)\",\"angularaxis\":{\"gridcolor\":\"#506784\",\"linecolor\":\"#506784\",\"ticks\":\"\"},\"radialaxis\":{\"gridcolor\":\"#506784\",\"linecolor\":\"#506784\",\"ticks\":\"\"}},\"ternary\":{\"bgcolor\":\"rgb(17,17,17)\",\"aaxis\":{\"gridcolor\":\"#506784\",\"linecolor\":\"#506784\",\"ticks\":\"\"},\"baxis\":{\"gridcolor\":\"#506784\",\"linecolor\":\"#506784\",\"ticks\":\"\"},\"caxis\":{\"gridcolor\":\"#506784\",\"linecolor\":\"#506784\",\"ticks\":\"\"}},\"coloraxis\":{\"colorbar\":{\"outlinewidth\":0,\"ticks\":\"\"}},\"colorscale\":{\"sequential\":[[0.0,\"#0d0887\"],[0.1111111111111111,\"#46039f\"],[0.2222222222222222,\"#7201a8\"],[0.3333333333333333,\"#9c179e\"],[0.4444444444444444,\"#bd3786\"],[0.5555555555555556,\"#d8576b\"],[0.6666666666666666,\"#ed7953\"],[0.7777777777777778,\"#fb9f3a\"],[0.8888888888888888,\"#fdca26\"],[1.0,\"#f0f921\"]],\"sequentialminus\":[[0.0,\"#0d0887\"],[0.1111111111111111,\"#46039f\"],[0.2222222222222222,\"#7201a8\"],[0.3333333333333333,\"#9c179e\"],[0.4444444444444444,\"#bd3786\"],[0.5555555555555556,\"#d8576b\"],[0.6666666666666666,\"#ed7953\"],[0.7777777777777778,\"#fb9f3a\"],[0.8888888888888888,\"#fdca26\"],[1.0,\"#f0f921\"]],\"diverging\":[[0,\"#8e0152\"],[0.1,\"#c51b7d\"],[0.2,\"#de77ae\"],[0.3,\"#f1b6da\"],[0.4,\"#fde0ef\"],[0.5,\"#f7f7f7\"],[0.6,\"#e6f5d0\"],[0.7,\"#b8e186\"],[0.8,\"#7fbc41\"],[0.9,\"#4d9221\"],[1,\"#276419\"]]},\"xaxis\":{\"gridcolor\":\"#283442\",\"linecolor\":\"#506784\",\"ticks\":\"\",\"title\":{\"standoff\":15},\"zerolinecolor\":\"#283442\",\"automargin\":true,\"zerolinewidth\":2},\"yaxis\":{\"gridcolor\":\"#283442\",\"linecolor\":\"#506784\",\"ticks\":\"\",\"title\":{\"standoff\":15},\"zerolinecolor\":\"#283442\",\"automargin\":true,\"zerolinewidth\":2},\"scene\":{\"xaxis\":{\"backgroundcolor\":\"rgb(17,17,17)\",\"gridcolor\":\"#506784\",\"linecolor\":\"#506784\",\"showbackground\":true,\"ticks\":\"\",\"zerolinecolor\":\"#C8D4E3\",\"gridwidth\":2},\"yaxis\":{\"backgroundcolor\":\"rgb(17,17,17)\",\"gridcolor\":\"#506784\",\"linecolor\":\"#506784\",\"showbackground\":true,\"ticks\":\"\",\"zerolinecolor\":\"#C8D4E3\",\"gridwidth\":2},\"zaxis\":{\"backgroundcolor\":\"rgb(17,17,17)\",\"gridcolor\":\"#506784\",\"linecolor\":\"#506784\",\"showbackground\":true,\"ticks\":\"\",\"zerolinecolor\":\"#C8D4E3\",\"gridwidth\":2}},\"shapedefaults\":{\"line\":{\"color\":\"#f2f5fa\"}},\"annotationdefaults\":{\"arrowcolor\":\"#f2f5fa\",\"arrowhead\":0,\"arrowwidth\":1},\"geo\":{\"bgcolor\":\"rgb(17,17,17)\",\"landcolor\":\"rgb(17,17,17)\",\"subunitcolor\":\"#506784\",\"showland\":true,\"showlakes\":true,\"lakecolor\":\"rgb(17,17,17)\"},\"title\":{\"x\":0.05},\"updatemenudefaults\":{\"bgcolor\":\"#506784\",\"borderwidth\":0},\"sliderdefaults\":{\"bgcolor\":\"#C8D4E3\",\"borderwidth\":1,\"bordercolor\":\"rgb(17,17,17)\",\"tickwidth\":0},\"mapbox\":{\"style\":\"dark\"}}},\"xaxis\":{\"anchor\":\"y\",\"domain\":[0.0,1.0],\"title\":{\"text\":\"Tile size\"},\"type\":\"log\"},\"yaxis\":{\"anchor\":\"x\",\"domain\":[0.0,1.0],\"title\":{\"text\":\"$\\\\log(I^6 + rI^3 + r^2I^2)$\"}},\"legend\":{\"title\":{\"text\":\"padding\"},\"tracegroupgap\":0},\"margin\":{\"t\":60},\"title\":{\"text\":\"Influence of tile size choice and padding on TT-MALS runtime (bcsstk13)\",\"x\":0.5,\"xanchor\":\"center\",\"yanchor\":\"top\"},\"font\":{\"color\":\"black\"},\"plot_bgcolor\":\"white\",\"paper_bgcolor\":\"white\"},                        {\"responsive\": true}                    ).then(function(){\n",
       "                            \n",
       "var gd = document.getElementById('952459d9-393a-4bcd-bd57-9c963a908899');\n",
       "var x = new MutationObserver(function (mutations, observer) {{\n",
       "        var display = window.getComputedStyle(gd).display;\n",
       "        if (!display || display === 'none') {{\n",
       "            console.log([gd, 'removed!']);\n",
       "            Plotly.purge(gd);\n",
       "            observer.disconnect();\n",
       "        }}\n",
       "}});\n",
       "\n",
       "// Listen for the removal of the full notebook cells\n",
       "var notebookContainer = gd.closest('#notebook-container');\n",
       "if (notebookContainer) {{\n",
       "    x.observe(notebookContainer, {childList: true});\n",
       "}}\n",
       "\n",
       "// Listen for the clearing of the current output cell\n",
       "var outputEl = gd.closest('.output');\n",
       "if (outputEl) {{\n",
       "    x.observe(outputEl, {childList: true});\n",
       "}}\n",
       "\n",
       "                        })                };                });            </script>        </div>"
      ]
     },
     "metadata": {},
     "output_type": "display_data"
    }
   ],
   "execution_count": 38
  },
  {
   "metadata": {
    "ExecuteTime": {
     "end_time": "2024-06-17T07:59:53.620892Z",
     "start_time": "2024-06-17T07:59:53.181741Z"
    }
   },
   "cell_type": "code",
   "source": "line_plot_padding_tile_size_tt_mals_runtime(\"Pres_Poisson\")",
   "id": "32cc905132683cb6",
   "outputs": [
    {
     "data": {
      "application/vnd.plotly.v1+json": {
       "data": [
        {
         "hovertemplate": "padding=10<br>Tile size=%{x}<br>log_obj_func=%{y}<extra></extra>",
         "legendgroup": "10",
         "line": {
          "color": "rgb(0, 0, 131)",
          "dash": "solid"
         },
         "marker": {
          "symbol": "circle"
         },
         "mode": "lines+markers",
         "name": "10",
         "orientation": "v",
         "showlegend": true,
         "x": [
          2.0,
          3.0,
          4.0,
          6.0,
          8.0,
          9.0,
          12.0,
          16.0,
          18.0,
          24.0,
          36.0,
          48.0,
          72.0,
          103.0,
          144.0,
          206.0,
          309.0,
          412.0,
          618.0,
          824.0,
          927.0,
          1236.0,
          1648.0,
          1854.0,
          2472.0,
          3708.0,
          4944.0,
          7416.0,
          14832.0
         ],
         "xaxis": "x",
         "y": [
          34.06499901292391,
          33.16508762538411,
          32.17130607365873,
          31.06129699018537,
          30.3246509402178,
          30.103450508434424,
          29.379491291090527,
          28.802896458796926,
          28.635605614339624,
          28.289866148682655,
          28.00658523842508,
          27.909572478946103,
          27.8486556912445,
          27.827406607388568,
          29.821076177244045,
          31.967559283651955,
          34.40007925724178,
          36.1261473694478,
          38.55893170277604,
          40.28502344378169,
          40.99172154476699,
          42.71781386964224,
          44.44390627456371,
          45.150604483823024,
          46.87669691334007,
          49.309487560429666,
          51.03557999489977,
          53.46837064348396,
          57.62725372683413
         ],
         "yaxis": "y",
         "type": "scatter"
        },
        {
         "hovertemplate": "padding=9<br>Tile size=%{x}<br>log_obj_func=%{y}<extra></extra>",
         "legendgroup": "9",
         "line": {
          "color": "rgb(0, 30, 150)",
          "dash": "solid"
         },
         "marker": {
          "symbol": "diamond"
         },
         "mode": "lines+markers",
         "name": "9",
         "orientation": "v",
         "showlegend": true,
         "x": [
          14831.0
         ],
         "xaxis": "x",
         "y": [
          57.626849182452084
         ],
         "yaxis": "y",
         "type": "scatter"
        },
        {
         "hovertemplate": "padding=8<br>Tile size=%{x}<br>log_obj_func=%{y}<extra></extra>",
         "legendgroup": "8",
         "line": {
          "color": "rgb(0, 60, 170)",
          "dash": "solid"
         },
         "marker": {
          "symbol": "square"
         },
         "mode": "lines+markers",
         "name": "8",
         "orientation": "v",
         "showlegend": true,
         "x": [
          2.0,
          5.0,
          10.0,
          1483.0,
          2966.0,
          7415.0,
          14830.0
         ],
         "xaxis": "x",
         "y": [
          43.82304019124133,
          43.81206581759033,
          43.81108700392739,
          43.81093407196806,
          47.96981713707559,
          53.46756152744201,
          57.62644461079217
         ],
         "yaxis": "y",
         "type": "scatter"
        },
        {
         "hovertemplate": "padding=7<br>Tile size=%{x}<br>log_obj_func=%{y}<extra></extra>",
         "legendgroup": "7",
         "line": {
          "color": "rgb(2, 157, 212)",
          "dash": "solid"
         },
         "marker": {
          "symbol": "x"
         },
         "mode": "lines+markers",
         "name": "7",
         "orientation": "v",
         "showlegend": true,
         "x": [
          3.0,
          4943.0,
          14829.0
         ],
         "xaxis": "x",
         "y": [
          51.034407313525854,
          51.03436627991641,
          57.62604001185072
         ],
         "yaxis": "y",
         "type": "scatter"
        },
        {
         "hovertemplate": "padding=6<br>Tile size=%{x}<br>log_obj_func=%{y}<extra></extra>",
         "legendgroup": "6",
         "line": {
          "color": "rgb(5, 255, 255)",
          "dash": "solid"
         },
         "marker": {
          "symbol": "cross"
         },
         "mode": "lines+markers",
         "name": "6",
         "orientation": "v",
         "showlegend": true,
         "x": [
          2.0,
          4.0,
          11.0,
          22.0,
          44.0,
          337.0,
          674.0,
          1348.0,
          3707.0,
          7414.0,
          14828.0
         ],
         "xaxis": "x",
         "y": [
          36.63358124848064,
          35.438020478189955,
          34.96560132188713,
          34.92743102851874,
          34.92174474567242,
          34.92051638559271,
          39.0793812929005,
          43.238263776649596,
          49.30786921921984,
          53.46675230227389,
          57.625635385624044
         ],
         "yaxis": "y",
         "type": "scatter"
        },
        {
         "hovertemplate": "padding=5<br>Tile size=%{x}<br>log_obj_func=%{y}<extra></extra>",
         "legendgroup": "5",
         "line": {
          "color": "rgb(130, 255, 128)",
          "dash": "solid"
         },
         "marker": {
          "symbol": "circle"
         },
         "mode": "lines+markers",
         "name": "5",
         "orientation": "v",
         "showlegend": true,
         "x": [
          14827.0
         ],
         "xaxis": "x",
         "y": [
          57.62523073210846
         ],
         "yaxis": "y",
         "type": "scatter"
        },
        {
         "hovertemplate": "padding=4<br>Tile size=%{x}<br>log_obj_func=%{y}<extra></extra>",
         "legendgroup": "4",
         "line": {
          "color": "rgb(255, 255, 0)",
          "dash": "solid"
         },
         "marker": {
          "symbol": "diamond"
         },
         "mode": "lines+markers",
         "name": "4",
         "orientation": "v",
         "showlegend": true,
         "x": [
          2.0,
          3.0,
          6.0,
          7.0,
          14.0,
          21.0,
          42.0,
          353.0,
          706.0,
          1059.0,
          2118.0,
          2471.0,
          4942.0,
          7413.0,
          14826.0
         ],
         "xaxis": "x",
         "y": [
          36.76250358556548,
          36.127863908069344,
          35.365247566559475,
          35.32319359932479,
          35.21716486769516,
          35.20557410597887,
          35.19997522410134,
          35.19882418765288,
          39.35769192164172,
          41.79048215978185,
          45.949365160495475,
          46.87426923780853,
          51.03315231936603,
          53.46594296795014,
          57.624826051300296
         ],
         "yaxis": "y",
         "type": "scatter"
        },
        {
         "hovertemplate": "padding=3<br>Tile size=%{x}<br>log_obj_func=%{y}<extra></extra>",
         "legendgroup": "3",
         "line": {
          "color": "rgb(252, 128, 0)",
          "dash": "solid"
         },
         "marker": {
          "symbol": "square"
         },
         "mode": "lines+markers",
         "name": "3",
         "orientation": "v",
         "showlegend": true,
         "x": [
          5.0,
          25.0,
          593.0,
          2965.0,
          14825.0
         ],
         "xaxis": "x",
         "y": [
          38.35400261945953,
          38.31172417777099,
          38.311167620749764,
          47.967793869480175,
          57.62442134319586
         ],
         "yaxis": "y",
         "type": "scatter"
        },
        {
         "hovertemplate": "padding=2<br>Tile size=%{x}<br>log_obj_func=%{y}<extra></extra>",
         "legendgroup": "2",
         "line": {
          "color": "rgb(250, 0, 0)",
          "dash": "solid"
         },
         "marker": {
          "symbol": "x"
         },
         "mode": "lines+markers",
         "name": "2",
         "orientation": "v",
         "showlegend": true,
         "x": [
          2.0,
          4.0,
          8.0,
          17.0,
          34.0,
          68.0,
          109.0,
          136.0,
          218.0,
          436.0,
          872.0,
          1853.0,
          3706.0,
          7412.0,
          14824.0
         ],
         "xaxis": "x",
         "y": [
          34.17874883485303,
          32.28784021625805,
          30.458358515308085,
          28.97748800173388,
          28.32883508440589,
          28.184247450915716,
          28.16004982934807,
          29.479250686127443,
          32.30716563862125,
          36.465858414962824,
          40.624736724629805,
          45.14736736413473,
          49.30625044134792,
          53.46513352444133,
          57.62401660779148
         ],
         "yaxis": "y",
         "type": "scatter"
        },
        {
         "hovertemplate": "padding=1<br>Tile size=%{x}<br>log_obj_func=%{y}<extra></extra>",
         "legendgroup": "1",
         "line": {
          "color": "rgb(189, 0, 0)",
          "dash": "solid"
         },
         "marker": {
          "symbol": "cross"
         },
         "mode": "lines+markers",
         "name": "1",
         "orientation": "v",
         "showlegend": true,
         "x": [
          3.0,
          9.0,
          27.0,
          61.0,
          81.0,
          183.0,
          243.0,
          549.0,
          1647.0,
          4941.0,
          14823.0
         ],
         "xaxis": "x",
         "y": [
          32.112960309566105,
          28.961925265923828,
          26.23208419538225,
          25.070246892963326,
          26.445206103044733,
          31.257489256564213,
          32.95848354956354,
          37.84859239297388,
          44.44026439283468,
          51.031938113149245,
          57.62361184508347
         ],
         "yaxis": "y",
         "type": "scatter"
        },
        {
         "hovertemplate": "padding=0<br>Tile size=%{x}<br>log_obj_func=%{y}<extra></extra>",
         "legendgroup": "0",
         "line": {
          "color": "rgb(128, 0, 0)",
          "dash": "solid"
         },
         "marker": {
          "symbol": "circle"
         },
         "mode": "lines+markers",
         "name": "0",
         "orientation": "v",
         "showlegend": true,
         "x": [
          2.0,
          7411.0,
          14822.0
         ],
         "xaxis": "x",
         "y": [
          53.46434397668455,
          53.46432397171799,
          57.62320705506813
         ],
         "yaxis": "y",
         "type": "scatter"
        }
       ],
       "layout": {
        "template": {
         "data": {
          "histogram2dcontour": [
           {
            "type": "histogram2dcontour",
            "colorbar": {
             "outlinewidth": 0,
             "ticks": ""
            },
            "colorscale": [
             [
              0.0,
              "#0d0887"
             ],
             [
              0.1111111111111111,
              "#46039f"
             ],
             [
              0.2222222222222222,
              "#7201a8"
             ],
             [
              0.3333333333333333,
              "#9c179e"
             ],
             [
              0.4444444444444444,
              "#bd3786"
             ],
             [
              0.5555555555555556,
              "#d8576b"
             ],
             [
              0.6666666666666666,
              "#ed7953"
             ],
             [
              0.7777777777777778,
              "#fb9f3a"
             ],
             [
              0.8888888888888888,
              "#fdca26"
             ],
             [
              1.0,
              "#f0f921"
             ]
            ]
           }
          ],
          "choropleth": [
           {
            "type": "choropleth",
            "colorbar": {
             "outlinewidth": 0,
             "ticks": ""
            }
           }
          ],
          "histogram2d": [
           {
            "type": "histogram2d",
            "colorbar": {
             "outlinewidth": 0,
             "ticks": ""
            },
            "colorscale": [
             [
              0.0,
              "#0d0887"
             ],
             [
              0.1111111111111111,
              "#46039f"
             ],
             [
              0.2222222222222222,
              "#7201a8"
             ],
             [
              0.3333333333333333,
              "#9c179e"
             ],
             [
              0.4444444444444444,
              "#bd3786"
             ],
             [
              0.5555555555555556,
              "#d8576b"
             ],
             [
              0.6666666666666666,
              "#ed7953"
             ],
             [
              0.7777777777777778,
              "#fb9f3a"
             ],
             [
              0.8888888888888888,
              "#fdca26"
             ],
             [
              1.0,
              "#f0f921"
             ]
            ]
           }
          ],
          "heatmap": [
           {
            "type": "heatmap",
            "colorbar": {
             "outlinewidth": 0,
             "ticks": ""
            },
            "colorscale": [
             [
              0.0,
              "#0d0887"
             ],
             [
              0.1111111111111111,
              "#46039f"
             ],
             [
              0.2222222222222222,
              "#7201a8"
             ],
             [
              0.3333333333333333,
              "#9c179e"
             ],
             [
              0.4444444444444444,
              "#bd3786"
             ],
             [
              0.5555555555555556,
              "#d8576b"
             ],
             [
              0.6666666666666666,
              "#ed7953"
             ],
             [
              0.7777777777777778,
              "#fb9f3a"
             ],
             [
              0.8888888888888888,
              "#fdca26"
             ],
             [
              1.0,
              "#f0f921"
             ]
            ]
           }
          ],
          "heatmapgl": [
           {
            "type": "heatmapgl",
            "colorbar": {
             "outlinewidth": 0,
             "ticks": ""
            },
            "colorscale": [
             [
              0.0,
              "#0d0887"
             ],
             [
              0.1111111111111111,
              "#46039f"
             ],
             [
              0.2222222222222222,
              "#7201a8"
             ],
             [
              0.3333333333333333,
              "#9c179e"
             ],
             [
              0.4444444444444444,
              "#bd3786"
             ],
             [
              0.5555555555555556,
              "#d8576b"
             ],
             [
              0.6666666666666666,
              "#ed7953"
             ],
             [
              0.7777777777777778,
              "#fb9f3a"
             ],
             [
              0.8888888888888888,
              "#fdca26"
             ],
             [
              1.0,
              "#f0f921"
             ]
            ]
           }
          ],
          "contourcarpet": [
           {
            "type": "contourcarpet",
            "colorbar": {
             "outlinewidth": 0,
             "ticks": ""
            }
           }
          ],
          "contour": [
           {
            "type": "contour",
            "colorbar": {
             "outlinewidth": 0,
             "ticks": ""
            },
            "colorscale": [
             [
              0.0,
              "#0d0887"
             ],
             [
              0.1111111111111111,
              "#46039f"
             ],
             [
              0.2222222222222222,
              "#7201a8"
             ],
             [
              0.3333333333333333,
              "#9c179e"
             ],
             [
              0.4444444444444444,
              "#bd3786"
             ],
             [
              0.5555555555555556,
              "#d8576b"
             ],
             [
              0.6666666666666666,
              "#ed7953"
             ],
             [
              0.7777777777777778,
              "#fb9f3a"
             ],
             [
              0.8888888888888888,
              "#fdca26"
             ],
             [
              1.0,
              "#f0f921"
             ]
            ]
           }
          ],
          "surface": [
           {
            "type": "surface",
            "colorbar": {
             "outlinewidth": 0,
             "ticks": ""
            },
            "colorscale": [
             [
              0.0,
              "#0d0887"
             ],
             [
              0.1111111111111111,
              "#46039f"
             ],
             [
              0.2222222222222222,
              "#7201a8"
             ],
             [
              0.3333333333333333,
              "#9c179e"
             ],
             [
              0.4444444444444444,
              "#bd3786"
             ],
             [
              0.5555555555555556,
              "#d8576b"
             ],
             [
              0.6666666666666666,
              "#ed7953"
             ],
             [
              0.7777777777777778,
              "#fb9f3a"
             ],
             [
              0.8888888888888888,
              "#fdca26"
             ],
             [
              1.0,
              "#f0f921"
             ]
            ]
           }
          ],
          "mesh3d": [
           {
            "type": "mesh3d",
            "colorbar": {
             "outlinewidth": 0,
             "ticks": ""
            }
           }
          ],
          "scatter": [
           {
            "marker": {
             "line": {
              "color": "#283442"
             }
            },
            "type": "scatter"
           }
          ],
          "parcoords": [
           {
            "type": "parcoords",
            "line": {
             "colorbar": {
              "outlinewidth": 0,
              "ticks": ""
             }
            }
           }
          ],
          "scatterpolargl": [
           {
            "type": "scatterpolargl",
            "marker": {
             "colorbar": {
              "outlinewidth": 0,
              "ticks": ""
             }
            }
           }
          ],
          "bar": [
           {
            "error_x": {
             "color": "#f2f5fa"
            },
            "error_y": {
             "color": "#f2f5fa"
            },
            "marker": {
             "line": {
              "color": "rgb(17,17,17)",
              "width": 0.5
             },
             "pattern": {
              "fillmode": "overlay",
              "size": 10,
              "solidity": 0.2
             }
            },
            "type": "bar"
           }
          ],
          "scattergeo": [
           {
            "type": "scattergeo",
            "marker": {
             "colorbar": {
              "outlinewidth": 0,
              "ticks": ""
             }
            }
           }
          ],
          "scatterpolar": [
           {
            "type": "scatterpolar",
            "marker": {
             "colorbar": {
              "outlinewidth": 0,
              "ticks": ""
             }
            }
           }
          ],
          "histogram": [
           {
            "marker": {
             "pattern": {
              "fillmode": "overlay",
              "size": 10,
              "solidity": 0.2
             }
            },
            "type": "histogram"
           }
          ],
          "scattergl": [
           {
            "marker": {
             "line": {
              "color": "#283442"
             }
            },
            "type": "scattergl"
           }
          ],
          "scatter3d": [
           {
            "type": "scatter3d",
            "line": {
             "colorbar": {
              "outlinewidth": 0,
              "ticks": ""
             }
            },
            "marker": {
             "colorbar": {
              "outlinewidth": 0,
              "ticks": ""
             }
            }
           }
          ],
          "scattermapbox": [
           {
            "type": "scattermapbox",
            "marker": {
             "colorbar": {
              "outlinewidth": 0,
              "ticks": ""
             }
            }
           }
          ],
          "scatterternary": [
           {
            "type": "scatterternary",
            "marker": {
             "colorbar": {
              "outlinewidth": 0,
              "ticks": ""
             }
            }
           }
          ],
          "scattercarpet": [
           {
            "type": "scattercarpet",
            "marker": {
             "colorbar": {
              "outlinewidth": 0,
              "ticks": ""
             }
            }
           }
          ],
          "carpet": [
           {
            "aaxis": {
             "endlinecolor": "#A2B1C6",
             "gridcolor": "#506784",
             "linecolor": "#506784",
             "minorgridcolor": "#506784",
             "startlinecolor": "#A2B1C6"
            },
            "baxis": {
             "endlinecolor": "#A2B1C6",
             "gridcolor": "#506784",
             "linecolor": "#506784",
             "minorgridcolor": "#506784",
             "startlinecolor": "#A2B1C6"
            },
            "type": "carpet"
           }
          ],
          "table": [
           {
            "cells": {
             "fill": {
              "color": "#506784"
             },
             "line": {
              "color": "rgb(17,17,17)"
             }
            },
            "header": {
             "fill": {
              "color": "#2a3f5f"
             },
             "line": {
              "color": "rgb(17,17,17)"
             }
            },
            "type": "table"
           }
          ],
          "barpolar": [
           {
            "marker": {
             "line": {
              "color": "rgb(17,17,17)",
              "width": 0.5
             },
             "pattern": {
              "fillmode": "overlay",
              "size": 10,
              "solidity": 0.2
             }
            },
            "type": "barpolar"
           }
          ],
          "pie": [
           {
            "automargin": true,
            "type": "pie"
           }
          ]
         },
         "layout": {
          "autotypenumbers": "strict",
          "colorway": [
           "#636efa",
           "#EF553B",
           "#00cc96",
           "#ab63fa",
           "#FFA15A",
           "#19d3f3",
           "#FF6692",
           "#B6E880",
           "#FF97FF",
           "#FECB52"
          ],
          "font": {
           "color": "#f2f5fa"
          },
          "hovermode": "closest",
          "hoverlabel": {
           "align": "left"
          },
          "paper_bgcolor": "rgb(17,17,17)",
          "plot_bgcolor": "rgb(17,17,17)",
          "polar": {
           "bgcolor": "rgb(17,17,17)",
           "angularaxis": {
            "gridcolor": "#506784",
            "linecolor": "#506784",
            "ticks": ""
           },
           "radialaxis": {
            "gridcolor": "#506784",
            "linecolor": "#506784",
            "ticks": ""
           }
          },
          "ternary": {
           "bgcolor": "rgb(17,17,17)",
           "aaxis": {
            "gridcolor": "#506784",
            "linecolor": "#506784",
            "ticks": ""
           },
           "baxis": {
            "gridcolor": "#506784",
            "linecolor": "#506784",
            "ticks": ""
           },
           "caxis": {
            "gridcolor": "#506784",
            "linecolor": "#506784",
            "ticks": ""
           }
          },
          "coloraxis": {
           "colorbar": {
            "outlinewidth": 0,
            "ticks": ""
           }
          },
          "colorscale": {
           "sequential": [
            [
             0.0,
             "#0d0887"
            ],
            [
             0.1111111111111111,
             "#46039f"
            ],
            [
             0.2222222222222222,
             "#7201a8"
            ],
            [
             0.3333333333333333,
             "#9c179e"
            ],
            [
             0.4444444444444444,
             "#bd3786"
            ],
            [
             0.5555555555555556,
             "#d8576b"
            ],
            [
             0.6666666666666666,
             "#ed7953"
            ],
            [
             0.7777777777777778,
             "#fb9f3a"
            ],
            [
             0.8888888888888888,
             "#fdca26"
            ],
            [
             1.0,
             "#f0f921"
            ]
           ],
           "sequentialminus": [
            [
             0.0,
             "#0d0887"
            ],
            [
             0.1111111111111111,
             "#46039f"
            ],
            [
             0.2222222222222222,
             "#7201a8"
            ],
            [
             0.3333333333333333,
             "#9c179e"
            ],
            [
             0.4444444444444444,
             "#bd3786"
            ],
            [
             0.5555555555555556,
             "#d8576b"
            ],
            [
             0.6666666666666666,
             "#ed7953"
            ],
            [
             0.7777777777777778,
             "#fb9f3a"
            ],
            [
             0.8888888888888888,
             "#fdca26"
            ],
            [
             1.0,
             "#f0f921"
            ]
           ],
           "diverging": [
            [
             0,
             "#8e0152"
            ],
            [
             0.1,
             "#c51b7d"
            ],
            [
             0.2,
             "#de77ae"
            ],
            [
             0.3,
             "#f1b6da"
            ],
            [
             0.4,
             "#fde0ef"
            ],
            [
             0.5,
             "#f7f7f7"
            ],
            [
             0.6,
             "#e6f5d0"
            ],
            [
             0.7,
             "#b8e186"
            ],
            [
             0.8,
             "#7fbc41"
            ],
            [
             0.9,
             "#4d9221"
            ],
            [
             1,
             "#276419"
            ]
           ]
          },
          "xaxis": {
           "gridcolor": "#283442",
           "linecolor": "#506784",
           "ticks": "",
           "title": {
            "standoff": 15
           },
           "zerolinecolor": "#283442",
           "automargin": true,
           "zerolinewidth": 2
          },
          "yaxis": {
           "gridcolor": "#283442",
           "linecolor": "#506784",
           "ticks": "",
           "title": {
            "standoff": 15
           },
           "zerolinecolor": "#283442",
           "automargin": true,
           "zerolinewidth": 2
          },
          "scene": {
           "xaxis": {
            "backgroundcolor": "rgb(17,17,17)",
            "gridcolor": "#506784",
            "linecolor": "#506784",
            "showbackground": true,
            "ticks": "",
            "zerolinecolor": "#C8D4E3",
            "gridwidth": 2
           },
           "yaxis": {
            "backgroundcolor": "rgb(17,17,17)",
            "gridcolor": "#506784",
            "linecolor": "#506784",
            "showbackground": true,
            "ticks": "",
            "zerolinecolor": "#C8D4E3",
            "gridwidth": 2
           },
           "zaxis": {
            "backgroundcolor": "rgb(17,17,17)",
            "gridcolor": "#506784",
            "linecolor": "#506784",
            "showbackground": true,
            "ticks": "",
            "zerolinecolor": "#C8D4E3",
            "gridwidth": 2
           }
          },
          "shapedefaults": {
           "line": {
            "color": "#f2f5fa"
           }
          },
          "annotationdefaults": {
           "arrowcolor": "#f2f5fa",
           "arrowhead": 0,
           "arrowwidth": 1
          },
          "geo": {
           "bgcolor": "rgb(17,17,17)",
           "landcolor": "rgb(17,17,17)",
           "subunitcolor": "#506784",
           "showland": true,
           "showlakes": true,
           "lakecolor": "rgb(17,17,17)"
          },
          "title": {
           "x": 0.05
          },
          "updatemenudefaults": {
           "bgcolor": "#506784",
           "borderwidth": 0
          },
          "sliderdefaults": {
           "bgcolor": "#C8D4E3",
           "borderwidth": 1,
           "bordercolor": "rgb(17,17,17)",
           "tickwidth": 0
          },
          "mapbox": {
           "style": "dark"
          }
         }
        },
        "xaxis": {
         "anchor": "y",
         "domain": [
          0.0,
          1.0
         ],
         "title": {
          "text": "Tile size"
         },
         "type": "log"
        },
        "yaxis": {
         "anchor": "x",
         "domain": [
          0.0,
          1.0
         ],
         "title": {
          "text": "$\\log(I^6 + rI^3 + r^2I^2)$"
         }
        },
        "legend": {
         "title": {
          "text": "padding"
         },
         "tracegroupgap": 0
        },
        "margin": {
         "t": 60
        },
        "title": {
         "text": "Influence of tile size choice and padding on TT-MALS runtime (Pres_Poisson)",
         "x": 0.5,
         "xanchor": "center",
         "yanchor": "top"
        },
        "font": {
         "color": "black"
        },
        "plot_bgcolor": "white",
        "paper_bgcolor": "white"
       },
       "config": {
        "plotlyServerURL": "https://plot.ly"
       }
      },
      "text/html": [
       "<div>                            <div id=\"7fa38fd7-da04-4728-b997-9cc7f7a6266b\" class=\"plotly-graph-div\" style=\"height:525px; width:100%;\"></div>            <script type=\"text/javascript\">                require([\"plotly\"], function(Plotly) {                    window.PLOTLYENV=window.PLOTLYENV || {};                                    if (document.getElementById(\"7fa38fd7-da04-4728-b997-9cc7f7a6266b\")) {                    Plotly.newPlot(                        \"7fa38fd7-da04-4728-b997-9cc7f7a6266b\",                        [{\"hovertemplate\":\"padding=10\\u003cbr\\u003eTile size=%{x}\\u003cbr\\u003elog_obj_func=%{y}\\u003cextra\\u003e\\u003c\\u002fextra\\u003e\",\"legendgroup\":\"10\",\"line\":{\"color\":\"rgb(0, 0, 131)\",\"dash\":\"solid\"},\"marker\":{\"symbol\":\"circle\"},\"mode\":\"lines+markers\",\"name\":\"10\",\"orientation\":\"v\",\"showlegend\":true,\"x\":[2.0,3.0,4.0,6.0,8.0,9.0,12.0,16.0,18.0,24.0,36.0,48.0,72.0,103.0,144.0,206.0,309.0,412.0,618.0,824.0,927.0,1236.0,1648.0,1854.0,2472.0,3708.0,4944.0,7416.0,14832.0],\"xaxis\":\"x\",\"y\":[34.06499901292391,33.16508762538411,32.17130607365873,31.06129699018537,30.3246509402178,30.103450508434424,29.379491291090527,28.802896458796926,28.635605614339624,28.289866148682655,28.00658523842508,27.909572478946103,27.8486556912445,27.827406607388568,29.821076177244045,31.967559283651955,34.40007925724178,36.1261473694478,38.55893170277604,40.28502344378169,40.99172154476699,42.71781386964224,44.44390627456371,45.150604483823024,46.87669691334007,49.309487560429666,51.03557999489977,53.46837064348396,57.62725372683413],\"yaxis\":\"y\",\"type\":\"scatter\"},{\"hovertemplate\":\"padding=9\\u003cbr\\u003eTile size=%{x}\\u003cbr\\u003elog_obj_func=%{y}\\u003cextra\\u003e\\u003c\\u002fextra\\u003e\",\"legendgroup\":\"9\",\"line\":{\"color\":\"rgb(0, 30, 150)\",\"dash\":\"solid\"},\"marker\":{\"symbol\":\"diamond\"},\"mode\":\"lines+markers\",\"name\":\"9\",\"orientation\":\"v\",\"showlegend\":true,\"x\":[14831.0],\"xaxis\":\"x\",\"y\":[57.626849182452084],\"yaxis\":\"y\",\"type\":\"scatter\"},{\"hovertemplate\":\"padding=8\\u003cbr\\u003eTile size=%{x}\\u003cbr\\u003elog_obj_func=%{y}\\u003cextra\\u003e\\u003c\\u002fextra\\u003e\",\"legendgroup\":\"8\",\"line\":{\"color\":\"rgb(0, 60, 170)\",\"dash\":\"solid\"},\"marker\":{\"symbol\":\"square\"},\"mode\":\"lines+markers\",\"name\":\"8\",\"orientation\":\"v\",\"showlegend\":true,\"x\":[2.0,5.0,10.0,1483.0,2966.0,7415.0,14830.0],\"xaxis\":\"x\",\"y\":[43.82304019124133,43.81206581759033,43.81108700392739,43.81093407196806,47.96981713707559,53.46756152744201,57.62644461079217],\"yaxis\":\"y\",\"type\":\"scatter\"},{\"hovertemplate\":\"padding=7\\u003cbr\\u003eTile size=%{x}\\u003cbr\\u003elog_obj_func=%{y}\\u003cextra\\u003e\\u003c\\u002fextra\\u003e\",\"legendgroup\":\"7\",\"line\":{\"color\":\"rgb(2, 157, 212)\",\"dash\":\"solid\"},\"marker\":{\"symbol\":\"x\"},\"mode\":\"lines+markers\",\"name\":\"7\",\"orientation\":\"v\",\"showlegend\":true,\"x\":[3.0,4943.0,14829.0],\"xaxis\":\"x\",\"y\":[51.034407313525854,51.03436627991641,57.62604001185072],\"yaxis\":\"y\",\"type\":\"scatter\"},{\"hovertemplate\":\"padding=6\\u003cbr\\u003eTile size=%{x}\\u003cbr\\u003elog_obj_func=%{y}\\u003cextra\\u003e\\u003c\\u002fextra\\u003e\",\"legendgroup\":\"6\",\"line\":{\"color\":\"rgb(5, 255, 255)\",\"dash\":\"solid\"},\"marker\":{\"symbol\":\"cross\"},\"mode\":\"lines+markers\",\"name\":\"6\",\"orientation\":\"v\",\"showlegend\":true,\"x\":[2.0,4.0,11.0,22.0,44.0,337.0,674.0,1348.0,3707.0,7414.0,14828.0],\"xaxis\":\"x\",\"y\":[36.63358124848064,35.438020478189955,34.96560132188713,34.92743102851874,34.92174474567242,34.92051638559271,39.0793812929005,43.238263776649596,49.30786921921984,53.46675230227389,57.625635385624044],\"yaxis\":\"y\",\"type\":\"scatter\"},{\"hovertemplate\":\"padding=5\\u003cbr\\u003eTile size=%{x}\\u003cbr\\u003elog_obj_func=%{y}\\u003cextra\\u003e\\u003c\\u002fextra\\u003e\",\"legendgroup\":\"5\",\"line\":{\"color\":\"rgb(130, 255, 128)\",\"dash\":\"solid\"},\"marker\":{\"symbol\":\"circle\"},\"mode\":\"lines+markers\",\"name\":\"5\",\"orientation\":\"v\",\"showlegend\":true,\"x\":[14827.0],\"xaxis\":\"x\",\"y\":[57.62523073210846],\"yaxis\":\"y\",\"type\":\"scatter\"},{\"hovertemplate\":\"padding=4\\u003cbr\\u003eTile size=%{x}\\u003cbr\\u003elog_obj_func=%{y}\\u003cextra\\u003e\\u003c\\u002fextra\\u003e\",\"legendgroup\":\"4\",\"line\":{\"color\":\"rgb(255, 255, 0)\",\"dash\":\"solid\"},\"marker\":{\"symbol\":\"diamond\"},\"mode\":\"lines+markers\",\"name\":\"4\",\"orientation\":\"v\",\"showlegend\":true,\"x\":[2.0,3.0,6.0,7.0,14.0,21.0,42.0,353.0,706.0,1059.0,2118.0,2471.0,4942.0,7413.0,14826.0],\"xaxis\":\"x\",\"y\":[36.76250358556548,36.127863908069344,35.365247566559475,35.32319359932479,35.21716486769516,35.20557410597887,35.19997522410134,35.19882418765288,39.35769192164172,41.79048215978185,45.949365160495475,46.87426923780853,51.03315231936603,53.46594296795014,57.624826051300296],\"yaxis\":\"y\",\"type\":\"scatter\"},{\"hovertemplate\":\"padding=3\\u003cbr\\u003eTile size=%{x}\\u003cbr\\u003elog_obj_func=%{y}\\u003cextra\\u003e\\u003c\\u002fextra\\u003e\",\"legendgroup\":\"3\",\"line\":{\"color\":\"rgb(252, 128, 0)\",\"dash\":\"solid\"},\"marker\":{\"symbol\":\"square\"},\"mode\":\"lines+markers\",\"name\":\"3\",\"orientation\":\"v\",\"showlegend\":true,\"x\":[5.0,25.0,593.0,2965.0,14825.0],\"xaxis\":\"x\",\"y\":[38.35400261945953,38.31172417777099,38.311167620749764,47.967793869480175,57.62442134319586],\"yaxis\":\"y\",\"type\":\"scatter\"},{\"hovertemplate\":\"padding=2\\u003cbr\\u003eTile size=%{x}\\u003cbr\\u003elog_obj_func=%{y}\\u003cextra\\u003e\\u003c\\u002fextra\\u003e\",\"legendgroup\":\"2\",\"line\":{\"color\":\"rgb(250, 0, 0)\",\"dash\":\"solid\"},\"marker\":{\"symbol\":\"x\"},\"mode\":\"lines+markers\",\"name\":\"2\",\"orientation\":\"v\",\"showlegend\":true,\"x\":[2.0,4.0,8.0,17.0,34.0,68.0,109.0,136.0,218.0,436.0,872.0,1853.0,3706.0,7412.0,14824.0],\"xaxis\":\"x\",\"y\":[34.17874883485303,32.28784021625805,30.458358515308085,28.97748800173388,28.32883508440589,28.184247450915716,28.16004982934807,29.479250686127443,32.30716563862125,36.465858414962824,40.624736724629805,45.14736736413473,49.30625044134792,53.46513352444133,57.62401660779148],\"yaxis\":\"y\",\"type\":\"scatter\"},{\"hovertemplate\":\"padding=1\\u003cbr\\u003eTile size=%{x}\\u003cbr\\u003elog_obj_func=%{y}\\u003cextra\\u003e\\u003c\\u002fextra\\u003e\",\"legendgroup\":\"1\",\"line\":{\"color\":\"rgb(189, 0, 0)\",\"dash\":\"solid\"},\"marker\":{\"symbol\":\"cross\"},\"mode\":\"lines+markers\",\"name\":\"1\",\"orientation\":\"v\",\"showlegend\":true,\"x\":[3.0,9.0,27.0,61.0,81.0,183.0,243.0,549.0,1647.0,4941.0,14823.0],\"xaxis\":\"x\",\"y\":[32.112960309566105,28.961925265923828,26.23208419538225,25.070246892963326,26.445206103044733,31.257489256564213,32.95848354956354,37.84859239297388,44.44026439283468,51.031938113149245,57.62361184508347],\"yaxis\":\"y\",\"type\":\"scatter\"},{\"hovertemplate\":\"padding=0\\u003cbr\\u003eTile size=%{x}\\u003cbr\\u003elog_obj_func=%{y}\\u003cextra\\u003e\\u003c\\u002fextra\\u003e\",\"legendgroup\":\"0\",\"line\":{\"color\":\"rgb(128, 0, 0)\",\"dash\":\"solid\"},\"marker\":{\"symbol\":\"circle\"},\"mode\":\"lines+markers\",\"name\":\"0\",\"orientation\":\"v\",\"showlegend\":true,\"x\":[2.0,7411.0,14822.0],\"xaxis\":\"x\",\"y\":[53.46434397668455,53.46432397171799,57.62320705506813],\"yaxis\":\"y\",\"type\":\"scatter\"}],                        {\"template\":{\"data\":{\"histogram2dcontour\":[{\"type\":\"histogram2dcontour\",\"colorbar\":{\"outlinewidth\":0,\"ticks\":\"\"},\"colorscale\":[[0.0,\"#0d0887\"],[0.1111111111111111,\"#46039f\"],[0.2222222222222222,\"#7201a8\"],[0.3333333333333333,\"#9c179e\"],[0.4444444444444444,\"#bd3786\"],[0.5555555555555556,\"#d8576b\"],[0.6666666666666666,\"#ed7953\"],[0.7777777777777778,\"#fb9f3a\"],[0.8888888888888888,\"#fdca26\"],[1.0,\"#f0f921\"]]}],\"choropleth\":[{\"type\":\"choropleth\",\"colorbar\":{\"outlinewidth\":0,\"ticks\":\"\"}}],\"histogram2d\":[{\"type\":\"histogram2d\",\"colorbar\":{\"outlinewidth\":0,\"ticks\":\"\"},\"colorscale\":[[0.0,\"#0d0887\"],[0.1111111111111111,\"#46039f\"],[0.2222222222222222,\"#7201a8\"],[0.3333333333333333,\"#9c179e\"],[0.4444444444444444,\"#bd3786\"],[0.5555555555555556,\"#d8576b\"],[0.6666666666666666,\"#ed7953\"],[0.7777777777777778,\"#fb9f3a\"],[0.8888888888888888,\"#fdca26\"],[1.0,\"#f0f921\"]]}],\"heatmap\":[{\"type\":\"heatmap\",\"colorbar\":{\"outlinewidth\":0,\"ticks\":\"\"},\"colorscale\":[[0.0,\"#0d0887\"],[0.1111111111111111,\"#46039f\"],[0.2222222222222222,\"#7201a8\"],[0.3333333333333333,\"#9c179e\"],[0.4444444444444444,\"#bd3786\"],[0.5555555555555556,\"#d8576b\"],[0.6666666666666666,\"#ed7953\"],[0.7777777777777778,\"#fb9f3a\"],[0.8888888888888888,\"#fdca26\"],[1.0,\"#f0f921\"]]}],\"heatmapgl\":[{\"type\":\"heatmapgl\",\"colorbar\":{\"outlinewidth\":0,\"ticks\":\"\"},\"colorscale\":[[0.0,\"#0d0887\"],[0.1111111111111111,\"#46039f\"],[0.2222222222222222,\"#7201a8\"],[0.3333333333333333,\"#9c179e\"],[0.4444444444444444,\"#bd3786\"],[0.5555555555555556,\"#d8576b\"],[0.6666666666666666,\"#ed7953\"],[0.7777777777777778,\"#fb9f3a\"],[0.8888888888888888,\"#fdca26\"],[1.0,\"#f0f921\"]]}],\"contourcarpet\":[{\"type\":\"contourcarpet\",\"colorbar\":{\"outlinewidth\":0,\"ticks\":\"\"}}],\"contour\":[{\"type\":\"contour\",\"colorbar\":{\"outlinewidth\":0,\"ticks\":\"\"},\"colorscale\":[[0.0,\"#0d0887\"],[0.1111111111111111,\"#46039f\"],[0.2222222222222222,\"#7201a8\"],[0.3333333333333333,\"#9c179e\"],[0.4444444444444444,\"#bd3786\"],[0.5555555555555556,\"#d8576b\"],[0.6666666666666666,\"#ed7953\"],[0.7777777777777778,\"#fb9f3a\"],[0.8888888888888888,\"#fdca26\"],[1.0,\"#f0f921\"]]}],\"surface\":[{\"type\":\"surface\",\"colorbar\":{\"outlinewidth\":0,\"ticks\":\"\"},\"colorscale\":[[0.0,\"#0d0887\"],[0.1111111111111111,\"#46039f\"],[0.2222222222222222,\"#7201a8\"],[0.3333333333333333,\"#9c179e\"],[0.4444444444444444,\"#bd3786\"],[0.5555555555555556,\"#d8576b\"],[0.6666666666666666,\"#ed7953\"],[0.7777777777777778,\"#fb9f3a\"],[0.8888888888888888,\"#fdca26\"],[1.0,\"#f0f921\"]]}],\"mesh3d\":[{\"type\":\"mesh3d\",\"colorbar\":{\"outlinewidth\":0,\"ticks\":\"\"}}],\"scatter\":[{\"marker\":{\"line\":{\"color\":\"#283442\"}},\"type\":\"scatter\"}],\"parcoords\":[{\"type\":\"parcoords\",\"line\":{\"colorbar\":{\"outlinewidth\":0,\"ticks\":\"\"}}}],\"scatterpolargl\":[{\"type\":\"scatterpolargl\",\"marker\":{\"colorbar\":{\"outlinewidth\":0,\"ticks\":\"\"}}}],\"bar\":[{\"error_x\":{\"color\":\"#f2f5fa\"},\"error_y\":{\"color\":\"#f2f5fa\"},\"marker\":{\"line\":{\"color\":\"rgb(17,17,17)\",\"width\":0.5},\"pattern\":{\"fillmode\":\"overlay\",\"size\":10,\"solidity\":0.2}},\"type\":\"bar\"}],\"scattergeo\":[{\"type\":\"scattergeo\",\"marker\":{\"colorbar\":{\"outlinewidth\":0,\"ticks\":\"\"}}}],\"scatterpolar\":[{\"type\":\"scatterpolar\",\"marker\":{\"colorbar\":{\"outlinewidth\":0,\"ticks\":\"\"}}}],\"histogram\":[{\"marker\":{\"pattern\":{\"fillmode\":\"overlay\",\"size\":10,\"solidity\":0.2}},\"type\":\"histogram\"}],\"scattergl\":[{\"marker\":{\"line\":{\"color\":\"#283442\"}},\"type\":\"scattergl\"}],\"scatter3d\":[{\"type\":\"scatter3d\",\"line\":{\"colorbar\":{\"outlinewidth\":0,\"ticks\":\"\"}},\"marker\":{\"colorbar\":{\"outlinewidth\":0,\"ticks\":\"\"}}}],\"scattermapbox\":[{\"type\":\"scattermapbox\",\"marker\":{\"colorbar\":{\"outlinewidth\":0,\"ticks\":\"\"}}}],\"scatterternary\":[{\"type\":\"scatterternary\",\"marker\":{\"colorbar\":{\"outlinewidth\":0,\"ticks\":\"\"}}}],\"scattercarpet\":[{\"type\":\"scattercarpet\",\"marker\":{\"colorbar\":{\"outlinewidth\":0,\"ticks\":\"\"}}}],\"carpet\":[{\"aaxis\":{\"endlinecolor\":\"#A2B1C6\",\"gridcolor\":\"#506784\",\"linecolor\":\"#506784\",\"minorgridcolor\":\"#506784\",\"startlinecolor\":\"#A2B1C6\"},\"baxis\":{\"endlinecolor\":\"#A2B1C6\",\"gridcolor\":\"#506784\",\"linecolor\":\"#506784\",\"minorgridcolor\":\"#506784\",\"startlinecolor\":\"#A2B1C6\"},\"type\":\"carpet\"}],\"table\":[{\"cells\":{\"fill\":{\"color\":\"#506784\"},\"line\":{\"color\":\"rgb(17,17,17)\"}},\"header\":{\"fill\":{\"color\":\"#2a3f5f\"},\"line\":{\"color\":\"rgb(17,17,17)\"}},\"type\":\"table\"}],\"barpolar\":[{\"marker\":{\"line\":{\"color\":\"rgb(17,17,17)\",\"width\":0.5},\"pattern\":{\"fillmode\":\"overlay\",\"size\":10,\"solidity\":0.2}},\"type\":\"barpolar\"}],\"pie\":[{\"automargin\":true,\"type\":\"pie\"}]},\"layout\":{\"autotypenumbers\":\"strict\",\"colorway\":[\"#636efa\",\"#EF553B\",\"#00cc96\",\"#ab63fa\",\"#FFA15A\",\"#19d3f3\",\"#FF6692\",\"#B6E880\",\"#FF97FF\",\"#FECB52\"],\"font\":{\"color\":\"#f2f5fa\"},\"hovermode\":\"closest\",\"hoverlabel\":{\"align\":\"left\"},\"paper_bgcolor\":\"rgb(17,17,17)\",\"plot_bgcolor\":\"rgb(17,17,17)\",\"polar\":{\"bgcolor\":\"rgb(17,17,17)\",\"angularaxis\":{\"gridcolor\":\"#506784\",\"linecolor\":\"#506784\",\"ticks\":\"\"},\"radialaxis\":{\"gridcolor\":\"#506784\",\"linecolor\":\"#506784\",\"ticks\":\"\"}},\"ternary\":{\"bgcolor\":\"rgb(17,17,17)\",\"aaxis\":{\"gridcolor\":\"#506784\",\"linecolor\":\"#506784\",\"ticks\":\"\"},\"baxis\":{\"gridcolor\":\"#506784\",\"linecolor\":\"#506784\",\"ticks\":\"\"},\"caxis\":{\"gridcolor\":\"#506784\",\"linecolor\":\"#506784\",\"ticks\":\"\"}},\"coloraxis\":{\"colorbar\":{\"outlinewidth\":0,\"ticks\":\"\"}},\"colorscale\":{\"sequential\":[[0.0,\"#0d0887\"],[0.1111111111111111,\"#46039f\"],[0.2222222222222222,\"#7201a8\"],[0.3333333333333333,\"#9c179e\"],[0.4444444444444444,\"#bd3786\"],[0.5555555555555556,\"#d8576b\"],[0.6666666666666666,\"#ed7953\"],[0.7777777777777778,\"#fb9f3a\"],[0.8888888888888888,\"#fdca26\"],[1.0,\"#f0f921\"]],\"sequentialminus\":[[0.0,\"#0d0887\"],[0.1111111111111111,\"#46039f\"],[0.2222222222222222,\"#7201a8\"],[0.3333333333333333,\"#9c179e\"],[0.4444444444444444,\"#bd3786\"],[0.5555555555555556,\"#d8576b\"],[0.6666666666666666,\"#ed7953\"],[0.7777777777777778,\"#fb9f3a\"],[0.8888888888888888,\"#fdca26\"],[1.0,\"#f0f921\"]],\"diverging\":[[0,\"#8e0152\"],[0.1,\"#c51b7d\"],[0.2,\"#de77ae\"],[0.3,\"#f1b6da\"],[0.4,\"#fde0ef\"],[0.5,\"#f7f7f7\"],[0.6,\"#e6f5d0\"],[0.7,\"#b8e186\"],[0.8,\"#7fbc41\"],[0.9,\"#4d9221\"],[1,\"#276419\"]]},\"xaxis\":{\"gridcolor\":\"#283442\",\"linecolor\":\"#506784\",\"ticks\":\"\",\"title\":{\"standoff\":15},\"zerolinecolor\":\"#283442\",\"automargin\":true,\"zerolinewidth\":2},\"yaxis\":{\"gridcolor\":\"#283442\",\"linecolor\":\"#506784\",\"ticks\":\"\",\"title\":{\"standoff\":15},\"zerolinecolor\":\"#283442\",\"automargin\":true,\"zerolinewidth\":2},\"scene\":{\"xaxis\":{\"backgroundcolor\":\"rgb(17,17,17)\",\"gridcolor\":\"#506784\",\"linecolor\":\"#506784\",\"showbackground\":true,\"ticks\":\"\",\"zerolinecolor\":\"#C8D4E3\",\"gridwidth\":2},\"yaxis\":{\"backgroundcolor\":\"rgb(17,17,17)\",\"gridcolor\":\"#506784\",\"linecolor\":\"#506784\",\"showbackground\":true,\"ticks\":\"\",\"zerolinecolor\":\"#C8D4E3\",\"gridwidth\":2},\"zaxis\":{\"backgroundcolor\":\"rgb(17,17,17)\",\"gridcolor\":\"#506784\",\"linecolor\":\"#506784\",\"showbackground\":true,\"ticks\":\"\",\"zerolinecolor\":\"#C8D4E3\",\"gridwidth\":2}},\"shapedefaults\":{\"line\":{\"color\":\"#f2f5fa\"}},\"annotationdefaults\":{\"arrowcolor\":\"#f2f5fa\",\"arrowhead\":0,\"arrowwidth\":1},\"geo\":{\"bgcolor\":\"rgb(17,17,17)\",\"landcolor\":\"rgb(17,17,17)\",\"subunitcolor\":\"#506784\",\"showland\":true,\"showlakes\":true,\"lakecolor\":\"rgb(17,17,17)\"},\"title\":{\"x\":0.05},\"updatemenudefaults\":{\"bgcolor\":\"#506784\",\"borderwidth\":0},\"sliderdefaults\":{\"bgcolor\":\"#C8D4E3\",\"borderwidth\":1,\"bordercolor\":\"rgb(17,17,17)\",\"tickwidth\":0},\"mapbox\":{\"style\":\"dark\"}}},\"xaxis\":{\"anchor\":\"y\",\"domain\":[0.0,1.0],\"title\":{\"text\":\"Tile size\"},\"type\":\"log\"},\"yaxis\":{\"anchor\":\"x\",\"domain\":[0.0,1.0],\"title\":{\"text\":\"$\\\\log(I^6 + rI^3 + r^2I^2)$\"}},\"legend\":{\"title\":{\"text\":\"padding\"},\"tracegroupgap\":0},\"margin\":{\"t\":60},\"title\":{\"text\":\"Influence of tile size choice and padding on TT-MALS runtime (Pres_Poisson)\",\"x\":0.5,\"xanchor\":\"center\",\"yanchor\":\"top\"},\"font\":{\"color\":\"black\"},\"plot_bgcolor\":\"white\",\"paper_bgcolor\":\"white\"},                        {\"responsive\": true}                    ).then(function(){\n",
       "                            \n",
       "var gd = document.getElementById('7fa38fd7-da04-4728-b997-9cc7f7a6266b');\n",
       "var x = new MutationObserver(function (mutations, observer) {{\n",
       "        var display = window.getComputedStyle(gd).display;\n",
       "        if (!display || display === 'none') {{\n",
       "            console.log([gd, 'removed!']);\n",
       "            Plotly.purge(gd);\n",
       "            observer.disconnect();\n",
       "        }}\n",
       "}});\n",
       "\n",
       "// Listen for the removal of the full notebook cells\n",
       "var notebookContainer = gd.closest('#notebook-container');\n",
       "if (notebookContainer) {{\n",
       "    x.observe(notebookContainer, {childList: true});\n",
       "}}\n",
       "\n",
       "// Listen for the clearing of the current output cell\n",
       "var outputEl = gd.closest('.output');\n",
       "if (outputEl) {{\n",
       "    x.observe(outputEl, {childList: true});\n",
       "}}\n",
       "\n",
       "                        })                };                });            </script>        </div>"
      ]
     },
     "metadata": {},
     "output_type": "display_data"
    }
   ],
   "execution_count": 39
  },
  {
   "metadata": {
    "ExecuteTime": {
     "end_time": "2024-06-17T07:59:53.897789Z",
     "start_time": "2024-06-17T07:59:53.727029Z"
    }
   },
   "cell_type": "code",
   "source": [
    "fig = px.line(rcm_df[rcm_df[\"matrix_name\"] == \"bcsstk13\"], x=\"tile_size\", y=\"rank\", color=\"rcm\", symbol=\"matrix_name\", log_x=True, \n",
    "                 labels={\n",
    "                     \"rank\": \"Maximum Rank (r)\",\n",
    "                     \"matrix_name\": \"Matrix Name\",\n",
    "                     \"max_mode_size\": \"Maximum Mode Size (I)\",\n",
    "                 })\n",
    "fig.update_layout(\n",
    "    title={\n",
    "        'text': \"Influence of tile size choice and RCM on TT-MALS runtime\",\n",
    "        'x':0.5,\n",
    "        'xanchor': 'center',\n",
    "        'yanchor': 'top'\n",
    "    },\n",
    "    plot_bgcolor='white',   # Plot area background color\n",
    "    paper_bgcolor='white',  # Entire figure background color\n",
    "    font=dict(color='black'), # Font color\n",
    "    yaxis_title=r'$\\log(I^6 + rI^3 + r^2I^2)$'\n",
    ")\n",
    "fig.show()\n",
    "\n",
    "fig.write_image(\"plots/rcm_max_mode_size_vs_max_rank.pdf\")"
   ],
   "id": "a06477e8688002fd",
   "outputs": [
    {
     "data": {
      "application/vnd.plotly.v1+json": {
       "data": [
        {
         "hovertemplate": "rcm=False<br>Matrix Name=bcsstk13<br>tile_size=%{x}<br>Maximum Rank (r)=%{y}<extra></extra>",
         "legendgroup": "False, bcsstk13",
         "line": {
          "color": "#636efa",
          "dash": "solid"
         },
         "marker": {
          "symbol": "circle"
         },
         "mode": "lines+markers",
         "name": "False, bcsstk13",
         "orientation": "v",
         "showlegend": true,
         "x": [
          2003.0
         ],
         "xaxis": "x",
         "y": [
          1.0
         ],
         "yaxis": "y",
         "type": "scatter"
        },
        {
         "hovertemplate": "rcm=True<br>Matrix Name=bcsstk13<br>tile_size=%{x}<br>Maximum Rank (r)=%{y}<extra></extra>",
         "legendgroup": "True, bcsstk13",
         "line": {
          "color": "#EF553B",
          "dash": "solid"
         },
         "marker": {
          "symbol": "circle"
         },
         "mode": "lines+markers",
         "name": "True, bcsstk13",
         "orientation": "v",
         "showlegend": true,
         "x": [
          2003.0
         ],
         "xaxis": "x",
         "y": [
          1.0
         ],
         "yaxis": "y",
         "type": "scatter"
        }
       ],
       "layout": {
        "template": {
         "data": {
          "histogram2dcontour": [
           {
            "type": "histogram2dcontour",
            "colorbar": {
             "outlinewidth": 0,
             "ticks": ""
            },
            "colorscale": [
             [
              0.0,
              "#0d0887"
             ],
             [
              0.1111111111111111,
              "#46039f"
             ],
             [
              0.2222222222222222,
              "#7201a8"
             ],
             [
              0.3333333333333333,
              "#9c179e"
             ],
             [
              0.4444444444444444,
              "#bd3786"
             ],
             [
              0.5555555555555556,
              "#d8576b"
             ],
             [
              0.6666666666666666,
              "#ed7953"
             ],
             [
              0.7777777777777778,
              "#fb9f3a"
             ],
             [
              0.8888888888888888,
              "#fdca26"
             ],
             [
              1.0,
              "#f0f921"
             ]
            ]
           }
          ],
          "choropleth": [
           {
            "type": "choropleth",
            "colorbar": {
             "outlinewidth": 0,
             "ticks": ""
            }
           }
          ],
          "histogram2d": [
           {
            "type": "histogram2d",
            "colorbar": {
             "outlinewidth": 0,
             "ticks": ""
            },
            "colorscale": [
             [
              0.0,
              "#0d0887"
             ],
             [
              0.1111111111111111,
              "#46039f"
             ],
             [
              0.2222222222222222,
              "#7201a8"
             ],
             [
              0.3333333333333333,
              "#9c179e"
             ],
             [
              0.4444444444444444,
              "#bd3786"
             ],
             [
              0.5555555555555556,
              "#d8576b"
             ],
             [
              0.6666666666666666,
              "#ed7953"
             ],
             [
              0.7777777777777778,
              "#fb9f3a"
             ],
             [
              0.8888888888888888,
              "#fdca26"
             ],
             [
              1.0,
              "#f0f921"
             ]
            ]
           }
          ],
          "heatmap": [
           {
            "type": "heatmap",
            "colorbar": {
             "outlinewidth": 0,
             "ticks": ""
            },
            "colorscale": [
             [
              0.0,
              "#0d0887"
             ],
             [
              0.1111111111111111,
              "#46039f"
             ],
             [
              0.2222222222222222,
              "#7201a8"
             ],
             [
              0.3333333333333333,
              "#9c179e"
             ],
             [
              0.4444444444444444,
              "#bd3786"
             ],
             [
              0.5555555555555556,
              "#d8576b"
             ],
             [
              0.6666666666666666,
              "#ed7953"
             ],
             [
              0.7777777777777778,
              "#fb9f3a"
             ],
             [
              0.8888888888888888,
              "#fdca26"
             ],
             [
              1.0,
              "#f0f921"
             ]
            ]
           }
          ],
          "heatmapgl": [
           {
            "type": "heatmapgl",
            "colorbar": {
             "outlinewidth": 0,
             "ticks": ""
            },
            "colorscale": [
             [
              0.0,
              "#0d0887"
             ],
             [
              0.1111111111111111,
              "#46039f"
             ],
             [
              0.2222222222222222,
              "#7201a8"
             ],
             [
              0.3333333333333333,
              "#9c179e"
             ],
             [
              0.4444444444444444,
              "#bd3786"
             ],
             [
              0.5555555555555556,
              "#d8576b"
             ],
             [
              0.6666666666666666,
              "#ed7953"
             ],
             [
              0.7777777777777778,
              "#fb9f3a"
             ],
             [
              0.8888888888888888,
              "#fdca26"
             ],
             [
              1.0,
              "#f0f921"
             ]
            ]
           }
          ],
          "contourcarpet": [
           {
            "type": "contourcarpet",
            "colorbar": {
             "outlinewidth": 0,
             "ticks": ""
            }
           }
          ],
          "contour": [
           {
            "type": "contour",
            "colorbar": {
             "outlinewidth": 0,
             "ticks": ""
            },
            "colorscale": [
             [
              0.0,
              "#0d0887"
             ],
             [
              0.1111111111111111,
              "#46039f"
             ],
             [
              0.2222222222222222,
              "#7201a8"
             ],
             [
              0.3333333333333333,
              "#9c179e"
             ],
             [
              0.4444444444444444,
              "#bd3786"
             ],
             [
              0.5555555555555556,
              "#d8576b"
             ],
             [
              0.6666666666666666,
              "#ed7953"
             ],
             [
              0.7777777777777778,
              "#fb9f3a"
             ],
             [
              0.8888888888888888,
              "#fdca26"
             ],
             [
              1.0,
              "#f0f921"
             ]
            ]
           }
          ],
          "surface": [
           {
            "type": "surface",
            "colorbar": {
             "outlinewidth": 0,
             "ticks": ""
            },
            "colorscale": [
             [
              0.0,
              "#0d0887"
             ],
             [
              0.1111111111111111,
              "#46039f"
             ],
             [
              0.2222222222222222,
              "#7201a8"
             ],
             [
              0.3333333333333333,
              "#9c179e"
             ],
             [
              0.4444444444444444,
              "#bd3786"
             ],
             [
              0.5555555555555556,
              "#d8576b"
             ],
             [
              0.6666666666666666,
              "#ed7953"
             ],
             [
              0.7777777777777778,
              "#fb9f3a"
             ],
             [
              0.8888888888888888,
              "#fdca26"
             ],
             [
              1.0,
              "#f0f921"
             ]
            ]
           }
          ],
          "mesh3d": [
           {
            "type": "mesh3d",
            "colorbar": {
             "outlinewidth": 0,
             "ticks": ""
            }
           }
          ],
          "scatter": [
           {
            "marker": {
             "line": {
              "color": "#283442"
             }
            },
            "type": "scatter"
           }
          ],
          "parcoords": [
           {
            "type": "parcoords",
            "line": {
             "colorbar": {
              "outlinewidth": 0,
              "ticks": ""
             }
            }
           }
          ],
          "scatterpolargl": [
           {
            "type": "scatterpolargl",
            "marker": {
             "colorbar": {
              "outlinewidth": 0,
              "ticks": ""
             }
            }
           }
          ],
          "bar": [
           {
            "error_x": {
             "color": "#f2f5fa"
            },
            "error_y": {
             "color": "#f2f5fa"
            },
            "marker": {
             "line": {
              "color": "rgb(17,17,17)",
              "width": 0.5
             },
             "pattern": {
              "fillmode": "overlay",
              "size": 10,
              "solidity": 0.2
             }
            },
            "type": "bar"
           }
          ],
          "scattergeo": [
           {
            "type": "scattergeo",
            "marker": {
             "colorbar": {
              "outlinewidth": 0,
              "ticks": ""
             }
            }
           }
          ],
          "scatterpolar": [
           {
            "type": "scatterpolar",
            "marker": {
             "colorbar": {
              "outlinewidth": 0,
              "ticks": ""
             }
            }
           }
          ],
          "histogram": [
           {
            "marker": {
             "pattern": {
              "fillmode": "overlay",
              "size": 10,
              "solidity": 0.2
             }
            },
            "type": "histogram"
           }
          ],
          "scattergl": [
           {
            "marker": {
             "line": {
              "color": "#283442"
             }
            },
            "type": "scattergl"
           }
          ],
          "scatter3d": [
           {
            "type": "scatter3d",
            "line": {
             "colorbar": {
              "outlinewidth": 0,
              "ticks": ""
             }
            },
            "marker": {
             "colorbar": {
              "outlinewidth": 0,
              "ticks": ""
             }
            }
           }
          ],
          "scattermapbox": [
           {
            "type": "scattermapbox",
            "marker": {
             "colorbar": {
              "outlinewidth": 0,
              "ticks": ""
             }
            }
           }
          ],
          "scatterternary": [
           {
            "type": "scatterternary",
            "marker": {
             "colorbar": {
              "outlinewidth": 0,
              "ticks": ""
             }
            }
           }
          ],
          "scattercarpet": [
           {
            "type": "scattercarpet",
            "marker": {
             "colorbar": {
              "outlinewidth": 0,
              "ticks": ""
             }
            }
           }
          ],
          "carpet": [
           {
            "aaxis": {
             "endlinecolor": "#A2B1C6",
             "gridcolor": "#506784",
             "linecolor": "#506784",
             "minorgridcolor": "#506784",
             "startlinecolor": "#A2B1C6"
            },
            "baxis": {
             "endlinecolor": "#A2B1C6",
             "gridcolor": "#506784",
             "linecolor": "#506784",
             "minorgridcolor": "#506784",
             "startlinecolor": "#A2B1C6"
            },
            "type": "carpet"
           }
          ],
          "table": [
           {
            "cells": {
             "fill": {
              "color": "#506784"
             },
             "line": {
              "color": "rgb(17,17,17)"
             }
            },
            "header": {
             "fill": {
              "color": "#2a3f5f"
             },
             "line": {
              "color": "rgb(17,17,17)"
             }
            },
            "type": "table"
           }
          ],
          "barpolar": [
           {
            "marker": {
             "line": {
              "color": "rgb(17,17,17)",
              "width": 0.5
             },
             "pattern": {
              "fillmode": "overlay",
              "size": 10,
              "solidity": 0.2
             }
            },
            "type": "barpolar"
           }
          ],
          "pie": [
           {
            "automargin": true,
            "type": "pie"
           }
          ]
         },
         "layout": {
          "autotypenumbers": "strict",
          "colorway": [
           "#636efa",
           "#EF553B",
           "#00cc96",
           "#ab63fa",
           "#FFA15A",
           "#19d3f3",
           "#FF6692",
           "#B6E880",
           "#FF97FF",
           "#FECB52"
          ],
          "font": {
           "color": "#f2f5fa"
          },
          "hovermode": "closest",
          "hoverlabel": {
           "align": "left"
          },
          "paper_bgcolor": "rgb(17,17,17)",
          "plot_bgcolor": "rgb(17,17,17)",
          "polar": {
           "bgcolor": "rgb(17,17,17)",
           "angularaxis": {
            "gridcolor": "#506784",
            "linecolor": "#506784",
            "ticks": ""
           },
           "radialaxis": {
            "gridcolor": "#506784",
            "linecolor": "#506784",
            "ticks": ""
           }
          },
          "ternary": {
           "bgcolor": "rgb(17,17,17)",
           "aaxis": {
            "gridcolor": "#506784",
            "linecolor": "#506784",
            "ticks": ""
           },
           "baxis": {
            "gridcolor": "#506784",
            "linecolor": "#506784",
            "ticks": ""
           },
           "caxis": {
            "gridcolor": "#506784",
            "linecolor": "#506784",
            "ticks": ""
           }
          },
          "coloraxis": {
           "colorbar": {
            "outlinewidth": 0,
            "ticks": ""
           }
          },
          "colorscale": {
           "sequential": [
            [
             0.0,
             "#0d0887"
            ],
            [
             0.1111111111111111,
             "#46039f"
            ],
            [
             0.2222222222222222,
             "#7201a8"
            ],
            [
             0.3333333333333333,
             "#9c179e"
            ],
            [
             0.4444444444444444,
             "#bd3786"
            ],
            [
             0.5555555555555556,
             "#d8576b"
            ],
            [
             0.6666666666666666,
             "#ed7953"
            ],
            [
             0.7777777777777778,
             "#fb9f3a"
            ],
            [
             0.8888888888888888,
             "#fdca26"
            ],
            [
             1.0,
             "#f0f921"
            ]
           ],
           "sequentialminus": [
            [
             0.0,
             "#0d0887"
            ],
            [
             0.1111111111111111,
             "#46039f"
            ],
            [
             0.2222222222222222,
             "#7201a8"
            ],
            [
             0.3333333333333333,
             "#9c179e"
            ],
            [
             0.4444444444444444,
             "#bd3786"
            ],
            [
             0.5555555555555556,
             "#d8576b"
            ],
            [
             0.6666666666666666,
             "#ed7953"
            ],
            [
             0.7777777777777778,
             "#fb9f3a"
            ],
            [
             0.8888888888888888,
             "#fdca26"
            ],
            [
             1.0,
             "#f0f921"
            ]
           ],
           "diverging": [
            [
             0,
             "#8e0152"
            ],
            [
             0.1,
             "#c51b7d"
            ],
            [
             0.2,
             "#de77ae"
            ],
            [
             0.3,
             "#f1b6da"
            ],
            [
             0.4,
             "#fde0ef"
            ],
            [
             0.5,
             "#f7f7f7"
            ],
            [
             0.6,
             "#e6f5d0"
            ],
            [
             0.7,
             "#b8e186"
            ],
            [
             0.8,
             "#7fbc41"
            ],
            [
             0.9,
             "#4d9221"
            ],
            [
             1,
             "#276419"
            ]
           ]
          },
          "xaxis": {
           "gridcolor": "#283442",
           "linecolor": "#506784",
           "ticks": "",
           "title": {
            "standoff": 15
           },
           "zerolinecolor": "#283442",
           "automargin": true,
           "zerolinewidth": 2
          },
          "yaxis": {
           "gridcolor": "#283442",
           "linecolor": "#506784",
           "ticks": "",
           "title": {
            "standoff": 15
           },
           "zerolinecolor": "#283442",
           "automargin": true,
           "zerolinewidth": 2
          },
          "scene": {
           "xaxis": {
            "backgroundcolor": "rgb(17,17,17)",
            "gridcolor": "#506784",
            "linecolor": "#506784",
            "showbackground": true,
            "ticks": "",
            "zerolinecolor": "#C8D4E3",
            "gridwidth": 2
           },
           "yaxis": {
            "backgroundcolor": "rgb(17,17,17)",
            "gridcolor": "#506784",
            "linecolor": "#506784",
            "showbackground": true,
            "ticks": "",
            "zerolinecolor": "#C8D4E3",
            "gridwidth": 2
           },
           "zaxis": {
            "backgroundcolor": "rgb(17,17,17)",
            "gridcolor": "#506784",
            "linecolor": "#506784",
            "showbackground": true,
            "ticks": "",
            "zerolinecolor": "#C8D4E3",
            "gridwidth": 2
           }
          },
          "shapedefaults": {
           "line": {
            "color": "#f2f5fa"
           }
          },
          "annotationdefaults": {
           "arrowcolor": "#f2f5fa",
           "arrowhead": 0,
           "arrowwidth": 1
          },
          "geo": {
           "bgcolor": "rgb(17,17,17)",
           "landcolor": "rgb(17,17,17)",
           "subunitcolor": "#506784",
           "showland": true,
           "showlakes": true,
           "lakecolor": "rgb(17,17,17)"
          },
          "title": {
           "x": 0.05
          },
          "updatemenudefaults": {
           "bgcolor": "#506784",
           "borderwidth": 0
          },
          "sliderdefaults": {
           "bgcolor": "#C8D4E3",
           "borderwidth": 1,
           "bordercolor": "rgb(17,17,17)",
           "tickwidth": 0
          },
          "mapbox": {
           "style": "dark"
          }
         }
        },
        "xaxis": {
         "anchor": "y",
         "domain": [
          0.0,
          1.0
         ],
         "title": {
          "text": "tile_size"
         },
         "type": "log"
        },
        "yaxis": {
         "anchor": "x",
         "domain": [
          0.0,
          1.0
         ],
         "title": {
          "text": "$\\log(I^6 + rI^3 + r^2I^2)$"
         }
        },
        "legend": {
         "title": {
          "text": "rcm, Matrix Name"
         },
         "tracegroupgap": 0
        },
        "margin": {
         "t": 60
        },
        "title": {
         "text": "Influence of tile size choice and RCM on TT-MALS runtime",
         "x": 0.5,
         "xanchor": "center",
         "yanchor": "top"
        },
        "font": {
         "color": "black"
        },
        "plot_bgcolor": "white",
        "paper_bgcolor": "white"
       },
       "config": {
        "plotlyServerURL": "https://plot.ly"
       }
      },
      "text/html": [
       "<div>                            <div id=\"512bbf41-e54c-4fec-b1e2-4605a6e4aa19\" class=\"plotly-graph-div\" style=\"height:525px; width:100%;\"></div>            <script type=\"text/javascript\">                require([\"plotly\"], function(Plotly) {                    window.PLOTLYENV=window.PLOTLYENV || {};                                    if (document.getElementById(\"512bbf41-e54c-4fec-b1e2-4605a6e4aa19\")) {                    Plotly.newPlot(                        \"512bbf41-e54c-4fec-b1e2-4605a6e4aa19\",                        [{\"hovertemplate\":\"rcm=False\\u003cbr\\u003eMatrix Name=bcsstk13\\u003cbr\\u003etile_size=%{x}\\u003cbr\\u003eMaximum Rank (r)=%{y}\\u003cextra\\u003e\\u003c\\u002fextra\\u003e\",\"legendgroup\":\"False, bcsstk13\",\"line\":{\"color\":\"#636efa\",\"dash\":\"solid\"},\"marker\":{\"symbol\":\"circle\"},\"mode\":\"lines+markers\",\"name\":\"False, bcsstk13\",\"orientation\":\"v\",\"showlegend\":true,\"x\":[2003.0],\"xaxis\":\"x\",\"y\":[1.0],\"yaxis\":\"y\",\"type\":\"scatter\"},{\"hovertemplate\":\"rcm=True\\u003cbr\\u003eMatrix Name=bcsstk13\\u003cbr\\u003etile_size=%{x}\\u003cbr\\u003eMaximum Rank (r)=%{y}\\u003cextra\\u003e\\u003c\\u002fextra\\u003e\",\"legendgroup\":\"True, bcsstk13\",\"line\":{\"color\":\"#EF553B\",\"dash\":\"solid\"},\"marker\":{\"symbol\":\"circle\"},\"mode\":\"lines+markers\",\"name\":\"True, bcsstk13\",\"orientation\":\"v\",\"showlegend\":true,\"x\":[2003.0],\"xaxis\":\"x\",\"y\":[1.0],\"yaxis\":\"y\",\"type\":\"scatter\"}],                        {\"template\":{\"data\":{\"histogram2dcontour\":[{\"type\":\"histogram2dcontour\",\"colorbar\":{\"outlinewidth\":0,\"ticks\":\"\"},\"colorscale\":[[0.0,\"#0d0887\"],[0.1111111111111111,\"#46039f\"],[0.2222222222222222,\"#7201a8\"],[0.3333333333333333,\"#9c179e\"],[0.4444444444444444,\"#bd3786\"],[0.5555555555555556,\"#d8576b\"],[0.6666666666666666,\"#ed7953\"],[0.7777777777777778,\"#fb9f3a\"],[0.8888888888888888,\"#fdca26\"],[1.0,\"#f0f921\"]]}],\"choropleth\":[{\"type\":\"choropleth\",\"colorbar\":{\"outlinewidth\":0,\"ticks\":\"\"}}],\"histogram2d\":[{\"type\":\"histogram2d\",\"colorbar\":{\"outlinewidth\":0,\"ticks\":\"\"},\"colorscale\":[[0.0,\"#0d0887\"],[0.1111111111111111,\"#46039f\"],[0.2222222222222222,\"#7201a8\"],[0.3333333333333333,\"#9c179e\"],[0.4444444444444444,\"#bd3786\"],[0.5555555555555556,\"#d8576b\"],[0.6666666666666666,\"#ed7953\"],[0.7777777777777778,\"#fb9f3a\"],[0.8888888888888888,\"#fdca26\"],[1.0,\"#f0f921\"]]}],\"heatmap\":[{\"type\":\"heatmap\",\"colorbar\":{\"outlinewidth\":0,\"ticks\":\"\"},\"colorscale\":[[0.0,\"#0d0887\"],[0.1111111111111111,\"#46039f\"],[0.2222222222222222,\"#7201a8\"],[0.3333333333333333,\"#9c179e\"],[0.4444444444444444,\"#bd3786\"],[0.5555555555555556,\"#d8576b\"],[0.6666666666666666,\"#ed7953\"],[0.7777777777777778,\"#fb9f3a\"],[0.8888888888888888,\"#fdca26\"],[1.0,\"#f0f921\"]]}],\"heatmapgl\":[{\"type\":\"heatmapgl\",\"colorbar\":{\"outlinewidth\":0,\"ticks\":\"\"},\"colorscale\":[[0.0,\"#0d0887\"],[0.1111111111111111,\"#46039f\"],[0.2222222222222222,\"#7201a8\"],[0.3333333333333333,\"#9c179e\"],[0.4444444444444444,\"#bd3786\"],[0.5555555555555556,\"#d8576b\"],[0.6666666666666666,\"#ed7953\"],[0.7777777777777778,\"#fb9f3a\"],[0.8888888888888888,\"#fdca26\"],[1.0,\"#f0f921\"]]}],\"contourcarpet\":[{\"type\":\"contourcarpet\",\"colorbar\":{\"outlinewidth\":0,\"ticks\":\"\"}}],\"contour\":[{\"type\":\"contour\",\"colorbar\":{\"outlinewidth\":0,\"ticks\":\"\"},\"colorscale\":[[0.0,\"#0d0887\"],[0.1111111111111111,\"#46039f\"],[0.2222222222222222,\"#7201a8\"],[0.3333333333333333,\"#9c179e\"],[0.4444444444444444,\"#bd3786\"],[0.5555555555555556,\"#d8576b\"],[0.6666666666666666,\"#ed7953\"],[0.7777777777777778,\"#fb9f3a\"],[0.8888888888888888,\"#fdca26\"],[1.0,\"#f0f921\"]]}],\"surface\":[{\"type\":\"surface\",\"colorbar\":{\"outlinewidth\":0,\"ticks\":\"\"},\"colorscale\":[[0.0,\"#0d0887\"],[0.1111111111111111,\"#46039f\"],[0.2222222222222222,\"#7201a8\"],[0.3333333333333333,\"#9c179e\"],[0.4444444444444444,\"#bd3786\"],[0.5555555555555556,\"#d8576b\"],[0.6666666666666666,\"#ed7953\"],[0.7777777777777778,\"#fb9f3a\"],[0.8888888888888888,\"#fdca26\"],[1.0,\"#f0f921\"]]}],\"mesh3d\":[{\"type\":\"mesh3d\",\"colorbar\":{\"outlinewidth\":0,\"ticks\":\"\"}}],\"scatter\":[{\"marker\":{\"line\":{\"color\":\"#283442\"}},\"type\":\"scatter\"}],\"parcoords\":[{\"type\":\"parcoords\",\"line\":{\"colorbar\":{\"outlinewidth\":0,\"ticks\":\"\"}}}],\"scatterpolargl\":[{\"type\":\"scatterpolargl\",\"marker\":{\"colorbar\":{\"outlinewidth\":0,\"ticks\":\"\"}}}],\"bar\":[{\"error_x\":{\"color\":\"#f2f5fa\"},\"error_y\":{\"color\":\"#f2f5fa\"},\"marker\":{\"line\":{\"color\":\"rgb(17,17,17)\",\"width\":0.5},\"pattern\":{\"fillmode\":\"overlay\",\"size\":10,\"solidity\":0.2}},\"type\":\"bar\"}],\"scattergeo\":[{\"type\":\"scattergeo\",\"marker\":{\"colorbar\":{\"outlinewidth\":0,\"ticks\":\"\"}}}],\"scatterpolar\":[{\"type\":\"scatterpolar\",\"marker\":{\"colorbar\":{\"outlinewidth\":0,\"ticks\":\"\"}}}],\"histogram\":[{\"marker\":{\"pattern\":{\"fillmode\":\"overlay\",\"size\":10,\"solidity\":0.2}},\"type\":\"histogram\"}],\"scattergl\":[{\"marker\":{\"line\":{\"color\":\"#283442\"}},\"type\":\"scattergl\"}],\"scatter3d\":[{\"type\":\"scatter3d\",\"line\":{\"colorbar\":{\"outlinewidth\":0,\"ticks\":\"\"}},\"marker\":{\"colorbar\":{\"outlinewidth\":0,\"ticks\":\"\"}}}],\"scattermapbox\":[{\"type\":\"scattermapbox\",\"marker\":{\"colorbar\":{\"outlinewidth\":0,\"ticks\":\"\"}}}],\"scatterternary\":[{\"type\":\"scatterternary\",\"marker\":{\"colorbar\":{\"outlinewidth\":0,\"ticks\":\"\"}}}],\"scattercarpet\":[{\"type\":\"scattercarpet\",\"marker\":{\"colorbar\":{\"outlinewidth\":0,\"ticks\":\"\"}}}],\"carpet\":[{\"aaxis\":{\"endlinecolor\":\"#A2B1C6\",\"gridcolor\":\"#506784\",\"linecolor\":\"#506784\",\"minorgridcolor\":\"#506784\",\"startlinecolor\":\"#A2B1C6\"},\"baxis\":{\"endlinecolor\":\"#A2B1C6\",\"gridcolor\":\"#506784\",\"linecolor\":\"#506784\",\"minorgridcolor\":\"#506784\",\"startlinecolor\":\"#A2B1C6\"},\"type\":\"carpet\"}],\"table\":[{\"cells\":{\"fill\":{\"color\":\"#506784\"},\"line\":{\"color\":\"rgb(17,17,17)\"}},\"header\":{\"fill\":{\"color\":\"#2a3f5f\"},\"line\":{\"color\":\"rgb(17,17,17)\"}},\"type\":\"table\"}],\"barpolar\":[{\"marker\":{\"line\":{\"color\":\"rgb(17,17,17)\",\"width\":0.5},\"pattern\":{\"fillmode\":\"overlay\",\"size\":10,\"solidity\":0.2}},\"type\":\"barpolar\"}],\"pie\":[{\"automargin\":true,\"type\":\"pie\"}]},\"layout\":{\"autotypenumbers\":\"strict\",\"colorway\":[\"#636efa\",\"#EF553B\",\"#00cc96\",\"#ab63fa\",\"#FFA15A\",\"#19d3f3\",\"#FF6692\",\"#B6E880\",\"#FF97FF\",\"#FECB52\"],\"font\":{\"color\":\"#f2f5fa\"},\"hovermode\":\"closest\",\"hoverlabel\":{\"align\":\"left\"},\"paper_bgcolor\":\"rgb(17,17,17)\",\"plot_bgcolor\":\"rgb(17,17,17)\",\"polar\":{\"bgcolor\":\"rgb(17,17,17)\",\"angularaxis\":{\"gridcolor\":\"#506784\",\"linecolor\":\"#506784\",\"ticks\":\"\"},\"radialaxis\":{\"gridcolor\":\"#506784\",\"linecolor\":\"#506784\",\"ticks\":\"\"}},\"ternary\":{\"bgcolor\":\"rgb(17,17,17)\",\"aaxis\":{\"gridcolor\":\"#506784\",\"linecolor\":\"#506784\",\"ticks\":\"\"},\"baxis\":{\"gridcolor\":\"#506784\",\"linecolor\":\"#506784\",\"ticks\":\"\"},\"caxis\":{\"gridcolor\":\"#506784\",\"linecolor\":\"#506784\",\"ticks\":\"\"}},\"coloraxis\":{\"colorbar\":{\"outlinewidth\":0,\"ticks\":\"\"}},\"colorscale\":{\"sequential\":[[0.0,\"#0d0887\"],[0.1111111111111111,\"#46039f\"],[0.2222222222222222,\"#7201a8\"],[0.3333333333333333,\"#9c179e\"],[0.4444444444444444,\"#bd3786\"],[0.5555555555555556,\"#d8576b\"],[0.6666666666666666,\"#ed7953\"],[0.7777777777777778,\"#fb9f3a\"],[0.8888888888888888,\"#fdca26\"],[1.0,\"#f0f921\"]],\"sequentialminus\":[[0.0,\"#0d0887\"],[0.1111111111111111,\"#46039f\"],[0.2222222222222222,\"#7201a8\"],[0.3333333333333333,\"#9c179e\"],[0.4444444444444444,\"#bd3786\"],[0.5555555555555556,\"#d8576b\"],[0.6666666666666666,\"#ed7953\"],[0.7777777777777778,\"#fb9f3a\"],[0.8888888888888888,\"#fdca26\"],[1.0,\"#f0f921\"]],\"diverging\":[[0,\"#8e0152\"],[0.1,\"#c51b7d\"],[0.2,\"#de77ae\"],[0.3,\"#f1b6da\"],[0.4,\"#fde0ef\"],[0.5,\"#f7f7f7\"],[0.6,\"#e6f5d0\"],[0.7,\"#b8e186\"],[0.8,\"#7fbc41\"],[0.9,\"#4d9221\"],[1,\"#276419\"]]},\"xaxis\":{\"gridcolor\":\"#283442\",\"linecolor\":\"#506784\",\"ticks\":\"\",\"title\":{\"standoff\":15},\"zerolinecolor\":\"#283442\",\"automargin\":true,\"zerolinewidth\":2},\"yaxis\":{\"gridcolor\":\"#283442\",\"linecolor\":\"#506784\",\"ticks\":\"\",\"title\":{\"standoff\":15},\"zerolinecolor\":\"#283442\",\"automargin\":true,\"zerolinewidth\":2},\"scene\":{\"xaxis\":{\"backgroundcolor\":\"rgb(17,17,17)\",\"gridcolor\":\"#506784\",\"linecolor\":\"#506784\",\"showbackground\":true,\"ticks\":\"\",\"zerolinecolor\":\"#C8D4E3\",\"gridwidth\":2},\"yaxis\":{\"backgroundcolor\":\"rgb(17,17,17)\",\"gridcolor\":\"#506784\",\"linecolor\":\"#506784\",\"showbackground\":true,\"ticks\":\"\",\"zerolinecolor\":\"#C8D4E3\",\"gridwidth\":2},\"zaxis\":{\"backgroundcolor\":\"rgb(17,17,17)\",\"gridcolor\":\"#506784\",\"linecolor\":\"#506784\",\"showbackground\":true,\"ticks\":\"\",\"zerolinecolor\":\"#C8D4E3\",\"gridwidth\":2}},\"shapedefaults\":{\"line\":{\"color\":\"#f2f5fa\"}},\"annotationdefaults\":{\"arrowcolor\":\"#f2f5fa\",\"arrowhead\":0,\"arrowwidth\":1},\"geo\":{\"bgcolor\":\"rgb(17,17,17)\",\"landcolor\":\"rgb(17,17,17)\",\"subunitcolor\":\"#506784\",\"showland\":true,\"showlakes\":true,\"lakecolor\":\"rgb(17,17,17)\"},\"title\":{\"x\":0.05},\"updatemenudefaults\":{\"bgcolor\":\"#506784\",\"borderwidth\":0},\"sliderdefaults\":{\"bgcolor\":\"#C8D4E3\",\"borderwidth\":1,\"bordercolor\":\"rgb(17,17,17)\",\"tickwidth\":0},\"mapbox\":{\"style\":\"dark\"}}},\"xaxis\":{\"anchor\":\"y\",\"domain\":[0.0,1.0],\"title\":{\"text\":\"tile_size\"},\"type\":\"log\"},\"yaxis\":{\"anchor\":\"x\",\"domain\":[0.0,1.0],\"title\":{\"text\":\"$\\\\log(I^6 + rI^3 + r^2I^2)$\"}},\"legend\":{\"title\":{\"text\":\"rcm, Matrix Name\"},\"tracegroupgap\":0},\"margin\":{\"t\":60},\"title\":{\"text\":\"Influence of tile size choice and RCM on TT-MALS runtime\",\"x\":0.5,\"xanchor\":\"center\",\"yanchor\":\"top\"},\"font\":{\"color\":\"black\"},\"plot_bgcolor\":\"white\",\"paper_bgcolor\":\"white\"},                        {\"responsive\": true}                    ).then(function(){\n",
       "                            \n",
       "var gd = document.getElementById('512bbf41-e54c-4fec-b1e2-4605a6e4aa19');\n",
       "var x = new MutationObserver(function (mutations, observer) {{\n",
       "        var display = window.getComputedStyle(gd).display;\n",
       "        if (!display || display === 'none') {{\n",
       "            console.log([gd, 'removed!']);\n",
       "            Plotly.purge(gd);\n",
       "            observer.disconnect();\n",
       "        }}\n",
       "}});\n",
       "\n",
       "// Listen for the removal of the full notebook cells\n",
       "var notebookContainer = gd.closest('#notebook-container');\n",
       "if (notebookContainer) {{\n",
       "    x.observe(notebookContainer, {childList: true});\n",
       "}}\n",
       "\n",
       "// Listen for the clearing of the current output cell\n",
       "var outputEl = gd.closest('.output');\n",
       "if (outputEl) {{\n",
       "    x.observe(outputEl, {childList: true});\n",
       "}}\n",
       "\n",
       "                        })                };                });            </script>        </div>"
      ]
     },
     "metadata": {},
     "output_type": "display_data"
    }
   ],
   "execution_count": 40
  },
  {
   "metadata": {
    "ExecuteTime": {
     "end_time": "2024-06-17T09:02:44.198015Z",
     "start_time": "2024-06-17T09:02:44.151144Z"
    }
   },
   "cell_type": "code",
   "source": [
    "# let's look at partial-Gauss before more in depth analysis of variable reordering\n",
    "\n",
    "df3"
   ],
   "id": "703400b83950fb7e",
   "outputs": [
    {
     "data": {
      "text/plain": [
       "       amd    rcm  padding matrix_name  partial_gauss  tile_size     rank  \\\n",
       "0    False  False        0        ex15             10     6857.0      1.0   \n",
       "1    False  False        0        ex15              9        2.0  47685.0   \n",
       "2    False  False        0        ex15              9        3.0  19810.0   \n",
       "3    False  False        0        ex15              9        6.0   7851.0   \n",
       "4    False  False        0        ex15              9        9.0   6168.0   \n",
       "..     ...    ...      ...         ...            ...        ...      ...   \n",
       "935   True  False        0         ex3              3      202.0     59.0   \n",
       "936   True  False        0         ex3              3      303.0     28.0   \n",
       "937   True  False        0         ex3              3      606.0      9.0   \n",
       "938   True  False        0         ex3              3      909.0      4.0   \n",
       "939   True  False        0         ex3              3     1818.0      1.0   \n",
       "\n",
       "     max_mode_size        z    _timestamp  _runtime       n  _step    run_id  \\\n",
       "0           6857.0  98617.0  1.718615e+09  3.859293  6857.0    0.0  pe540qd1   \n",
       "1            127.0  98600.0  1.718615e+09  6.027897  6858.0    0.0  lcn00hzp   \n",
       "2            127.0  98600.0  1.718615e+09  7.216445  6858.0    1.0  lcn00hzp   \n",
       "3            127.0  98600.0  1.718615e+09  7.861686  6858.0    2.0  lcn00hzp   \n",
       "4            127.0  98600.0  1.718615e+09  8.345176  6858.0    3.0  lcn00hzp   \n",
       "..             ...      ...           ...       ...     ...    ...       ...   \n",
       "935          202.0  53766.0  1.718615e+09  2.864133  1818.0    6.0  ojl1h137   \n",
       "936          303.0  53766.0  1.718615e+09  2.878522  1818.0    7.0  ojl1h137   \n",
       "937          606.0  53766.0  1.718615e+09  2.891512  1818.0    8.0  ojl1h137   \n",
       "938          909.0  53766.0  1.718615e+09  2.907719  1818.0    9.0  ojl1h137   \n",
       "939         1818.0  53766.0  1.718615e+09  2.927063  1818.0   10.0  ojl1h137   \n",
       "\n",
       "              run_name  z_percentage  \n",
       "0    vibrant-sweep-110      0.999453  \n",
       "1      sandy-sweep-109      0.999280  \n",
       "2      sandy-sweep-109      0.999280  \n",
       "3      sandy-sweep-109      0.999280  \n",
       "4      sandy-sweep-109      0.999280  \n",
       "..                 ...           ...  \n",
       "935       deep-sweep-4      1.020518  \n",
       "936       deep-sweep-4      1.020518  \n",
       "937       deep-sweep-4      1.020518  \n",
       "938       deep-sweep-4      1.020518  \n",
       "939       deep-sweep-4      1.020518  \n",
       "\n",
       "[940 rows x 16 columns]"
      ],
      "text/html": [
       "<div>\n",
       "<style scoped>\n",
       "    .dataframe tbody tr th:only-of-type {\n",
       "        vertical-align: middle;\n",
       "    }\n",
       "\n",
       "    .dataframe tbody tr th {\n",
       "        vertical-align: top;\n",
       "    }\n",
       "\n",
       "    .dataframe thead th {\n",
       "        text-align: right;\n",
       "    }\n",
       "</style>\n",
       "<table border=\"1\" class=\"dataframe\">\n",
       "  <thead>\n",
       "    <tr style=\"text-align: right;\">\n",
       "      <th></th>\n",
       "      <th>amd</th>\n",
       "      <th>rcm</th>\n",
       "      <th>padding</th>\n",
       "      <th>matrix_name</th>\n",
       "      <th>partial_gauss</th>\n",
       "      <th>tile_size</th>\n",
       "      <th>rank</th>\n",
       "      <th>max_mode_size</th>\n",
       "      <th>z</th>\n",
       "      <th>_timestamp</th>\n",
       "      <th>_runtime</th>\n",
       "      <th>n</th>\n",
       "      <th>_step</th>\n",
       "      <th>run_id</th>\n",
       "      <th>run_name</th>\n",
       "      <th>z_percentage</th>\n",
       "    </tr>\n",
       "  </thead>\n",
       "  <tbody>\n",
       "    <tr>\n",
       "      <th>0</th>\n",
       "      <td>False</td>\n",
       "      <td>False</td>\n",
       "      <td>0</td>\n",
       "      <td>ex15</td>\n",
       "      <td>10</td>\n",
       "      <td>6857.0</td>\n",
       "      <td>1.0</td>\n",
       "      <td>6857.0</td>\n",
       "      <td>98617.0</td>\n",
       "      <td>1.718615e+09</td>\n",
       "      <td>3.859293</td>\n",
       "      <td>6857.0</td>\n",
       "      <td>0.0</td>\n",
       "      <td>pe540qd1</td>\n",
       "      <td>vibrant-sweep-110</td>\n",
       "      <td>0.999453</td>\n",
       "    </tr>\n",
       "    <tr>\n",
       "      <th>1</th>\n",
       "      <td>False</td>\n",
       "      <td>False</td>\n",
       "      <td>0</td>\n",
       "      <td>ex15</td>\n",
       "      <td>9</td>\n",
       "      <td>2.0</td>\n",
       "      <td>47685.0</td>\n",
       "      <td>127.0</td>\n",
       "      <td>98600.0</td>\n",
       "      <td>1.718615e+09</td>\n",
       "      <td>6.027897</td>\n",
       "      <td>6858.0</td>\n",
       "      <td>0.0</td>\n",
       "      <td>lcn00hzp</td>\n",
       "      <td>sandy-sweep-109</td>\n",
       "      <td>0.999280</td>\n",
       "    </tr>\n",
       "    <tr>\n",
       "      <th>2</th>\n",
       "      <td>False</td>\n",
       "      <td>False</td>\n",
       "      <td>0</td>\n",
       "      <td>ex15</td>\n",
       "      <td>9</td>\n",
       "      <td>3.0</td>\n",
       "      <td>19810.0</td>\n",
       "      <td>127.0</td>\n",
       "      <td>98600.0</td>\n",
       "      <td>1.718615e+09</td>\n",
       "      <td>7.216445</td>\n",
       "      <td>6858.0</td>\n",
       "      <td>1.0</td>\n",
       "      <td>lcn00hzp</td>\n",
       "      <td>sandy-sweep-109</td>\n",
       "      <td>0.999280</td>\n",
       "    </tr>\n",
       "    <tr>\n",
       "      <th>3</th>\n",
       "      <td>False</td>\n",
       "      <td>False</td>\n",
       "      <td>0</td>\n",
       "      <td>ex15</td>\n",
       "      <td>9</td>\n",
       "      <td>6.0</td>\n",
       "      <td>7851.0</td>\n",
       "      <td>127.0</td>\n",
       "      <td>98600.0</td>\n",
       "      <td>1.718615e+09</td>\n",
       "      <td>7.861686</td>\n",
       "      <td>6858.0</td>\n",
       "      <td>2.0</td>\n",
       "      <td>lcn00hzp</td>\n",
       "      <td>sandy-sweep-109</td>\n",
       "      <td>0.999280</td>\n",
       "    </tr>\n",
       "    <tr>\n",
       "      <th>4</th>\n",
       "      <td>False</td>\n",
       "      <td>False</td>\n",
       "      <td>0</td>\n",
       "      <td>ex15</td>\n",
       "      <td>9</td>\n",
       "      <td>9.0</td>\n",
       "      <td>6168.0</td>\n",
       "      <td>127.0</td>\n",
       "      <td>98600.0</td>\n",
       "      <td>1.718615e+09</td>\n",
       "      <td>8.345176</td>\n",
       "      <td>6858.0</td>\n",
       "      <td>3.0</td>\n",
       "      <td>lcn00hzp</td>\n",
       "      <td>sandy-sweep-109</td>\n",
       "      <td>0.999280</td>\n",
       "    </tr>\n",
       "    <tr>\n",
       "      <th>...</th>\n",
       "      <td>...</td>\n",
       "      <td>...</td>\n",
       "      <td>...</td>\n",
       "      <td>...</td>\n",
       "      <td>...</td>\n",
       "      <td>...</td>\n",
       "      <td>...</td>\n",
       "      <td>...</td>\n",
       "      <td>...</td>\n",
       "      <td>...</td>\n",
       "      <td>...</td>\n",
       "      <td>...</td>\n",
       "      <td>...</td>\n",
       "      <td>...</td>\n",
       "      <td>...</td>\n",
       "      <td>...</td>\n",
       "    </tr>\n",
       "    <tr>\n",
       "      <th>935</th>\n",
       "      <td>True</td>\n",
       "      <td>False</td>\n",
       "      <td>0</td>\n",
       "      <td>ex3</td>\n",
       "      <td>3</td>\n",
       "      <td>202.0</td>\n",
       "      <td>59.0</td>\n",
       "      <td>202.0</td>\n",
       "      <td>53766.0</td>\n",
       "      <td>1.718615e+09</td>\n",
       "      <td>2.864133</td>\n",
       "      <td>1818.0</td>\n",
       "      <td>6.0</td>\n",
       "      <td>ojl1h137</td>\n",
       "      <td>deep-sweep-4</td>\n",
       "      <td>1.020518</td>\n",
       "    </tr>\n",
       "    <tr>\n",
       "      <th>936</th>\n",
       "      <td>True</td>\n",
       "      <td>False</td>\n",
       "      <td>0</td>\n",
       "      <td>ex3</td>\n",
       "      <td>3</td>\n",
       "      <td>303.0</td>\n",
       "      <td>28.0</td>\n",
       "      <td>303.0</td>\n",
       "      <td>53766.0</td>\n",
       "      <td>1.718615e+09</td>\n",
       "      <td>2.878522</td>\n",
       "      <td>1818.0</td>\n",
       "      <td>7.0</td>\n",
       "      <td>ojl1h137</td>\n",
       "      <td>deep-sweep-4</td>\n",
       "      <td>1.020518</td>\n",
       "    </tr>\n",
       "    <tr>\n",
       "      <th>937</th>\n",
       "      <td>True</td>\n",
       "      <td>False</td>\n",
       "      <td>0</td>\n",
       "      <td>ex3</td>\n",
       "      <td>3</td>\n",
       "      <td>606.0</td>\n",
       "      <td>9.0</td>\n",
       "      <td>606.0</td>\n",
       "      <td>53766.0</td>\n",
       "      <td>1.718615e+09</td>\n",
       "      <td>2.891512</td>\n",
       "      <td>1818.0</td>\n",
       "      <td>8.0</td>\n",
       "      <td>ojl1h137</td>\n",
       "      <td>deep-sweep-4</td>\n",
       "      <td>1.020518</td>\n",
       "    </tr>\n",
       "    <tr>\n",
       "      <th>938</th>\n",
       "      <td>True</td>\n",
       "      <td>False</td>\n",
       "      <td>0</td>\n",
       "      <td>ex3</td>\n",
       "      <td>3</td>\n",
       "      <td>909.0</td>\n",
       "      <td>4.0</td>\n",
       "      <td>909.0</td>\n",
       "      <td>53766.0</td>\n",
       "      <td>1.718615e+09</td>\n",
       "      <td>2.907719</td>\n",
       "      <td>1818.0</td>\n",
       "      <td>9.0</td>\n",
       "      <td>ojl1h137</td>\n",
       "      <td>deep-sweep-4</td>\n",
       "      <td>1.020518</td>\n",
       "    </tr>\n",
       "    <tr>\n",
       "      <th>939</th>\n",
       "      <td>True</td>\n",
       "      <td>False</td>\n",
       "      <td>0</td>\n",
       "      <td>ex3</td>\n",
       "      <td>3</td>\n",
       "      <td>1818.0</td>\n",
       "      <td>1.0</td>\n",
       "      <td>1818.0</td>\n",
       "      <td>53766.0</td>\n",
       "      <td>1.718615e+09</td>\n",
       "      <td>2.927063</td>\n",
       "      <td>1818.0</td>\n",
       "      <td>10.0</td>\n",
       "      <td>ojl1h137</td>\n",
       "      <td>deep-sweep-4</td>\n",
       "      <td>1.020518</td>\n",
       "    </tr>\n",
       "  </tbody>\n",
       "</table>\n",
       "<p>940 rows × 16 columns</p>\n",
       "</div>"
      ]
     },
     "execution_count": 56,
     "metadata": {},
     "output_type": "execute_result"
    }
   ],
   "execution_count": 56
  },
  {
   "metadata": {
    "ExecuteTime": {
     "end_time": "2024-06-17T09:22:48.913257Z",
     "start_time": "2024-06-17T09:22:48.881986Z"
    }
   },
   "cell_type": "code",
   "source": [
    "# do some preprocessing to be able to show nonzero entry change for different matrices together - do it in terms of percentage\n",
    "\n",
    "def get_percentage_change_per_matrix(data_frame: pd.DataFrame, result_column: str, variable: str, baseline_col: str):\n",
    "    \"\"\"\n",
    "    \n",
    "    :param data_frame: complete df\n",
    "    :param result_column: column name to store results\n",
    "    :param variable: name of column to check for change\n",
    "    :param baseline_col: column name which determines baseline (row should be zero in this column per matrix to give baseline)\n",
    "    :return: df\n",
    "    \"\"\"\n",
    "    # Initialize the z_percentage column with NaN\n",
    "    data_frame[result_column] = np.nan\n",
    "    \n",
    "    # Calculate z_percentage for each matrix_name\n",
    "    for matrix_name in data_frame[\"matrix_name\"].unique():\n",
    "        partial_gauss_df_per_matrix = data_frame[data_frame[\"matrix_name\"] == matrix_name]\n",
    "        original_z = partial_gauss_df_per_matrix[partial_gauss_df_per_matrix[baseline_col] == 0][variable].unique()\n",
    "        \n",
    "        # Ensure there is exactly one original_z value\n",
    "        if len(original_z) == 1:\n",
    "            original_z_value = original_z[0]\n",
    "            data_frame.loc[data_frame[\"matrix_name\"] == matrix_name, result_column] = (\n",
    "                partial_gauss_df_per_matrix[variable] / original_z_value\n",
    "            ).values\n",
    "        else:\n",
    "            # Handle case where there are no original_z values\n",
    "            data_frame.loc[data_frame[\"matrix_name\"] == matrix_name, result_column] = np.nan\n",
    "    return data_frame\n",
    "\n",
    "\n",
    "partial_gauss_df = get_percentage_change_per_matrix(data_frame=df3[df3[\"amd\"] == False], result_column=\"z_percentage\", variable=\"z\", baseline_col=\"partial_gauss\")\n",
    "partial_gauss_df.sort_values(by=\"partial_gauss\", inplace=True)"
   ],
   "id": "e728a478af8a75e2",
   "outputs": [
    {
     "name": "stderr",
     "output_type": "stream",
     "text": [
      "C:\\Users\\bakos\\AppData\\Local\\Temp\\ipykernel_19476\\3543197841.py:13: SettingWithCopyWarning:\n",
      "\n",
      "\n",
      "A value is trying to be set on a copy of a slice from a DataFrame.\n",
      "Try using .loc[row_indexer,col_indexer] = value instead\n",
      "\n",
      "See the caveats in the documentation: https://pandas.pydata.org/pandas-docs/stable/user_guide/indexing.html#returning-a-view-versus-a-copy\n",
      "\n",
      "C:\\Users\\bakos\\AppData\\Local\\Temp\\ipykernel_19476\\3543197841.py:33: SettingWithCopyWarning:\n",
      "\n",
      "\n",
      "A value is trying to be set on a copy of a slice from a DataFrame\n",
      "\n",
      "See the caveats in the documentation: https://pandas.pydata.org/pandas-docs/stable/user_guide/indexing.html#returning-a-view-versus-a-copy\n",
      "\n"
     ]
    }
   ],
   "execution_count": 81
  },
  {
   "metadata": {
    "ExecuteTime": {
     "end_time": "2024-06-17T09:22:51.678355Z",
     "start_time": "2024-06-17T09:22:50.857203Z"
    }
   },
   "cell_type": "code",
   "source": [
    "fig = px.line(partial_gauss_df, x=\"partial_gauss\", y=\"z_percentage\", color=\"matrix_name\", symbol=\"matrix_name\", log_y=True,\n",
    "                 labels={\n",
    "                     \"partial_gauss\": \"Number of eliminated variables\",\n",
    "                     \"z_percentage\": \"Change in nonzero entries\",\n",
    "                     \"matrix_name\": \"Matrix name\",\n",
    "                 })\n",
    "fig.update_layout(\n",
    "    title={\n",
    "        'text': \"Effect of variable elimination on nonzero entry count\",\n",
    "        'x':0.5,\n",
    "        'xanchor': 'center',\n",
    "        'yanchor': 'top'\n",
    "    },\n",
    "    plot_bgcolor='white',   # Plot area background color\n",
    "    paper_bgcolor='white',  # Entire figure background color\n",
    "    font=dict(color='black'), # Font color\n",
    ")\n",
    "fig.show()\n",
    "\n",
    "fig.write_image(\"plots/partial_gauss_nonzero_entries.pdf\")"
   ],
   "id": "5943901d7328c151",
   "outputs": [
    {
     "data": {
      "application/vnd.plotly.v1+json": {
       "data": [
        {
         "hovertemplate": "Matrix name=ex3<br>Number of eliminated variables=%{x}<br>Change in nonzero entries=%{y}<extra></extra>",
         "legendgroup": "ex3",
         "line": {
          "color": "#636efa",
          "dash": "solid"
         },
         "marker": {
          "symbol": "circle"
         },
         "mode": "lines+markers",
         "name": "ex3",
         "orientation": "v",
         "showlegend": true,
         "x": [
          0,
          0,
          0,
          1,
          1,
          1,
          1,
          1,
          1,
          1,
          1,
          1,
          1,
          1,
          1,
          1,
          1,
          1,
          1,
          1,
          1,
          1,
          1,
          1,
          1,
          1,
          2,
          2,
          2,
          3,
          3,
          3,
          3,
          3,
          3,
          3,
          3,
          3,
          3,
          3,
          4,
          4,
          4,
          5,
          5,
          5,
          5,
          5,
          5,
          5,
          6,
          6,
          6,
          6,
          6,
          6,
          6,
          6,
          6,
          6,
          6,
          7,
          7,
          7,
          8,
          8,
          8,
          8,
          8,
          9,
          9,
          9,
          9,
          9,
          9,
          9,
          9,
          9,
          9,
          9,
          10
         ],
         "xaxis": "x",
         "y": [
          1.0,
          1.0,
          1.0,
          0.8866660339755148,
          0.8866660339755148,
          0.8866660339755148,
          0.8866660339755148,
          0.8866660339755148,
          0.8866660339755148,
          0.8866660339755148,
          0.8866660339755148,
          0.8866660339755148,
          0.8866660339755148,
          0.8866660339755148,
          0.8866660339755148,
          0.8866660339755148,
          0.8866660339755148,
          0.8866660339755148,
          0.8866660339755148,
          0.8866660339755148,
          0.8866660339755148,
          0.8866660339755148,
          0.8866660339755148,
          0.8866660339755148,
          0.8866660339755148,
          0.8866660339755148,
          0.8864572458954162,
          0.8864572458954162,
          0.8864572458954162,
          0.8862484578153175,
          0.8862484578153175,
          0.8862484578153175,
          0.8862484578153175,
          0.8862484578153175,
          0.8862484578153175,
          0.8862484578153175,
          0.8862484578153175,
          0.8862484578153175,
          0.8862484578153175,
          0.8862484578153175,
          0.8871025908702667,
          0.8871025908702667,
          0.8871025908702667,
          0.8864382651608618,
          0.8864382651608618,
          0.8864382651608618,
          0.8864382651608618,
          0.8864382651608618,
          0.8864382651608618,
          0.8864382651608618,
          0.8858878238587833,
          0.8858878238587833,
          0.8858878238587833,
          0.8858878238587833,
          0.8858878238587833,
          0.8858878238587833,
          0.8858878238587833,
          0.8858878238587833,
          0.8858878238587833,
          0.8858878238587833,
          0.8858878238587833,
          0.8854512669640315,
          0.8854512669640315,
          0.8854512669640315,
          0.8849767486001708,
          0.8849767486001708,
          0.8849767486001708,
          0.8849767486001708,
          0.8849767486001708,
          0.884540191705419,
          0.884540191705419,
          0.884540191705419,
          0.884540191705419,
          0.884540191705419,
          0.884540191705419,
          0.884540191705419,
          0.884540191705419,
          0.884540191705419,
          0.884540191705419,
          0.884540191705419,
          0.8865331688336339
         ],
         "yaxis": "y",
         "type": "scatter"
        },
        {
         "hovertemplate": "Matrix name=ex13<br>Number of eliminated variables=%{x}<br>Change in nonzero entries=%{y}<extra></extra>",
         "legendgroup": "ex13",
         "line": {
          "color": "#EF553B",
          "dash": "solid"
         },
         "marker": {
          "symbol": "diamond"
         },
         "mode": "lines+markers",
         "name": "ex13",
         "orientation": "v",
         "showlegend": true,
         "x": [
          0,
          0,
          0,
          0,
          0,
          0,
          0,
          0,
          0,
          0,
          0,
          0,
          0,
          0,
          0,
          1,
          1,
          1,
          2,
          2,
          2,
          3,
          3,
          3,
          3,
          3,
          3,
          3,
          3,
          3,
          3,
          3,
          3,
          3,
          3,
          3,
          4,
          4,
          4,
          4,
          4,
          5,
          5,
          5,
          6,
          6,
          6,
          6,
          6,
          6,
          6,
          6,
          6,
          6,
          6,
          6,
          6,
          6,
          6,
          7,
          7,
          7,
          8,
          8,
          8,
          8,
          8,
          8,
          8,
          8,
          8,
          8,
          8,
          8,
          8,
          8,
          8,
          8,
          8,
          8,
          8,
          9,
          9,
          9,
          10,
          10,
          10
         ],
         "xaxis": "x",
         "y": [
          1.0,
          1.0,
          1.0,
          1.0,
          1.0,
          1.0,
          1.0,
          1.0,
          1.0,
          1.0,
          1.0,
          1.0,
          1.0,
          1.0,
          1.0,
          0.9988496324112762,
          0.9988496324112762,
          0.9988496324112762,
          0.9985719574760671,
          0.9985719574760671,
          0.9985719574760671,
          0.9982942825408578,
          0.9982942825408578,
          0.9982942825408578,
          0.9982942825408578,
          0.9982942825408578,
          0.9982942825408578,
          0.9982942825408578,
          0.9982942825408578,
          0.9982942825408578,
          0.9982942825408578,
          0.9982942825408578,
          0.9982942825408578,
          0.9982942825408578,
          0.9982942825408578,
          0.9982942825408578,
          0.9980959433014227,
          0.9980959433014227,
          0.9980959433014227,
          0.9980959433014227,
          0.9980959433014227,
          0.9982149468450838,
          0.9982149468450838,
          0.9982149468450838,
          0.9977257100544772,
          0.9977257100544772,
          0.9977257100544772,
          0.9977257100544772,
          0.9977257100544772,
          0.9977257100544772,
          0.9977257100544772,
          0.9977257100544772,
          0.9977257100544772,
          0.9977257100544772,
          0.9977257100544772,
          0.9977257100544772,
          0.9977257100544772,
          0.9977257100544772,
          0.9977257100544772,
          0.9972629184957952,
          0.9972629184957952,
          0.9972629184957952,
          0.9968265721690379,
          0.9968265721690379,
          0.9968265721690379,
          0.9968265721690379,
          0.9968265721690379,
          0.9968265721690379,
          0.9968265721690379,
          0.9968265721690379,
          0.9968265721690379,
          0.9968265721690379,
          0.9968265721690379,
          0.9968265721690379,
          0.9968265721690379,
          0.9968265721690379,
          0.9968265721690379,
          0.9968265721690379,
          0.9968265721690379,
          0.9968265721690379,
          0.9968265721690379,
          0.9964166710742053,
          0.9964166710742053,
          0.9964166710742053,
          0.9960332152112974,
          0.9960332152112974,
          0.9960332152112974
         ],
         "yaxis": "y",
         "type": "scatter"
        },
        {
         "hovertemplate": "Matrix name=ex10<br>Number of eliminated variables=%{x}<br>Change in nonzero entries=%{y}<extra></extra>",
         "legendgroup": "ex10",
         "line": {
          "color": "#00cc96",
          "dash": "solid"
         },
         "marker": {
          "symbol": "square"
         },
         "mode": "lines+markers",
         "name": "ex10",
         "orientation": "v",
         "showlegend": true,
         "x": [
          0,
          0,
          0,
          0,
          0,
          0,
          0,
          1,
          1,
          1,
          1,
          1,
          1,
          1,
          2,
          2,
          2,
          2,
          2,
          2,
          2,
          2,
          2,
          2,
          2,
          2,
          2,
          2,
          2,
          3,
          3,
          3,
          4,
          4,
          4,
          4,
          4,
          4,
          4,
          5,
          5,
          5,
          5,
          5,
          5,
          5,
          6,
          6,
          6,
          6,
          6,
          7,
          7,
          7,
          7,
          7,
          7,
          7,
          8,
          8,
          8,
          9,
          9,
          9,
          9,
          10,
          10,
          10,
          10,
          10,
          10,
          10,
          10,
          10,
          10,
          10,
          10,
          10,
          10,
          10,
          10,
          10,
          10,
          10,
          10,
          10,
          10,
          10,
          10,
          10,
          10,
          10,
          10,
          10,
          10,
          10,
          10,
          10,
          10,
          10
         ],
         "xaxis": "x",
         "y": [
          1.0,
          1.0,
          1.0,
          1.0,
          1.0,
          1.0,
          1.0,
          0.8897702407002188,
          0.8897702407002188,
          0.8897702407002188,
          0.8897702407002188,
          0.8897702407002188,
          0.8897702407002188,
          0.8897702407002188,
          0.8897155361050328,
          0.8897155361050328,
          0.8897155361050328,
          0.8897155361050328,
          0.8897155361050328,
          0.8897155361050328,
          0.8897155361050328,
          0.8897155361050328,
          0.8897155361050328,
          0.8897155361050328,
          0.8897155361050328,
          0.8897155361050328,
          0.8897155361050328,
          0.8897155361050328,
          0.8897155361050328,
          0.8895514223194748,
          0.8895514223194748,
          0.8895514223194748,
          0.8893873085339169,
          0.8893873085339169,
          0.8893873085339169,
          0.8893873085339169,
          0.8893873085339169,
          0.8893873085339169,
          0.8893873085339169,
          0.8894420131291029,
          0.8894420131291029,
          0.8894420131291029,
          0.8894420131291029,
          0.8894420131291029,
          0.8894420131291029,
          0.8894420131291029,
          0.8891684901531729,
          0.8891684901531729,
          0.8891684901531729,
          0.8891684901531729,
          0.8891684901531729,
          0.8887855579868709,
          0.8887855579868709,
          0.8887855579868709,
          0.8887855579868709,
          0.8887855579868709,
          0.8887855579868709,
          0.8887855579868709,
          0.8889861415025528,
          0.8889861415025528,
          0.8889861415025528,
          0.8893690736688549,
          0.8893690736688549,
          0.8893690736688549,
          0.8893690736688549,
          0.8889861415025528,
          0.8889861415025528,
          0.8889861415025528,
          0.8889861415025528,
          0.8889861415025528,
          0.8889861415025528,
          0.8889861415025528,
          0.8889861415025528,
          0.8889861415025528,
          0.8889861415025528,
          0.8889861415025528,
          0.8889861415025528,
          0.8889861415025528,
          0.8889861415025528,
          0.8889861415025528,
          0.8889861415025528,
          0.8889861415025528,
          0.8889861415025528,
          0.8889861415025528,
          0.8889861415025528,
          0.8889861415025528,
          0.8889861415025528,
          0.8889861415025528,
          0.8889861415025528,
          0.8889861415025528,
          0.8889861415025528,
          0.8889861415025528,
          0.8889861415025528,
          0.8889861415025528,
          0.8889861415025528,
          0.8889861415025528,
          0.8889861415025528,
          0.8889861415025528,
          0.8889861415025528,
          0.8889861415025528
         ],
         "yaxis": "y",
         "type": "scatter"
        },
        {
         "hovertemplate": "Matrix name=ex15<br>Number of eliminated variables=%{x}<br>Change in nonzero entries=%{y}<extra></extra>",
         "legendgroup": "ex15",
         "line": {
          "color": "#ab63fa",
          "dash": "solid"
         },
         "marker": {
          "symbol": "x"
         },
         "mode": "lines+markers",
         "name": "ex15",
         "orientation": "v",
         "showlegend": true,
         "x": [
          0,
          0,
          0,
          0,
          0,
          0,
          0,
          0,
          0,
          0,
          0,
          1,
          1,
          1,
          2,
          2,
          2,
          3,
          3,
          3,
          3,
          3,
          3,
          3,
          3,
          3,
          3,
          3,
          3,
          3,
          3,
          3,
          3,
          3,
          3,
          3,
          3,
          3,
          3,
          3,
          3,
          3,
          3,
          3,
          3,
          3,
          3,
          3,
          3,
          3,
          3,
          3,
          3,
          3,
          3,
          3,
          4,
          5,
          5,
          5,
          5,
          5,
          5,
          5,
          6,
          6,
          6,
          7,
          7,
          7,
          7,
          7,
          7,
          7,
          7,
          7,
          7,
          7,
          7,
          7,
          7,
          7,
          7,
          7,
          7,
          7,
          7,
          7,
          7,
          7,
          8,
          8,
          8,
          9,
          9,
          9,
          9,
          9,
          9,
          9,
          9,
          9,
          9,
          9,
          9,
          9,
          9,
          9,
          10
         ],
         "xaxis": "x",
         "y": [
          1.0,
          1.0,
          1.0,
          1.0,
          1.0,
          1.0,
          1.0,
          1.0,
          1.0,
          1.0,
          1.0,
          0.9984493924253327,
          0.9984493924253327,
          0.9984493924253327,
          0.9983176414549361,
          0.9983176414549361,
          0.9983176414549361,
          0.9982466986247226,
          0.9982466986247226,
          0.9982466986247226,
          0.9982466986247226,
          0.9982466986247226,
          0.9982466986247226,
          0.9982466986247226,
          0.9982466986247226,
          0.9982466986247226,
          0.9982466986247226,
          0.9982466986247226,
          0.9982466986247226,
          0.9982466986247226,
          0.9982466986247226,
          0.9982466986247226,
          0.9982466986247226,
          0.9982466986247226,
          0.9982466986247226,
          0.9982466986247226,
          0.9982466986247226,
          0.9982466986247226,
          0.9982466986247226,
          0.9982466986247226,
          0.9982466986247226,
          0.9982466986247226,
          0.9982466986247226,
          0.9982466986247226,
          0.9982466986247226,
          0.9982466986247226,
          0.9982466986247226,
          0.9982466986247226,
          0.9982466986247226,
          0.9982466986247226,
          0.9982466986247226,
          0.9982466986247226,
          0.9982466986247226,
          0.9982466986247226,
          0.9982466986247226,
          0.9982466986247226,
          0.998216294554631,
          0.9980845435842345,
          0.9980845435842345,
          0.9980845435842345,
          0.9980845435842345,
          0.9980845435842345,
          0.9980845435842345,
          0.9980845435842345,
          0.998033870134082,
          0.998033870134082,
          0.998033870134082,
          0.9980642742041734,
          0.9980642742041734,
          0.9980642742041734,
          0.9980642742041734,
          0.9980642742041734,
          0.9980642742041734,
          0.9980642742041734,
          0.9980642742041734,
          0.9980642742041734,
          0.9980642742041734,
          0.9980642742041734,
          0.9980642742041734,
          0.9980642742041734,
          0.9980642742041734,
          0.9980642742041734,
          0.9980642742041734,
          0.9980642742041734,
          0.9980642742041734,
          0.9980642742041734,
          0.9980642742041734,
          0.9980642742041734,
          0.9980642742041734,
          0.9980642742041734,
          0.9979325232337769,
          0.9979325232337769,
          0.9979325232337769,
          0.9979021191636854,
          0.9979021191636854,
          0.9979021191636854,
          0.9979021191636854,
          0.9979021191636854,
          0.9979021191636854,
          0.9979021191636854,
          0.9979021191636854,
          0.9979021191636854,
          0.9979021191636854,
          0.9979021191636854,
          0.9979021191636854,
          0.9979021191636854,
          0.9979021191636854,
          0.9979021191636854,
          0.998033870134082
         ],
         "yaxis": "y",
         "type": "scatter"
        },
        {
         "hovertemplate": "Matrix name=ex10hs<br>Number of eliminated variables=%{x}<br>Change in nonzero entries=%{y}<extra></extra>",
         "legendgroup": "ex10hs",
         "line": {
          "color": "#FFA15A",
          "dash": "solid"
         },
         "marker": {
          "symbol": "cross"
         },
         "mode": "lines+markers",
         "name": "ex10hs",
         "orientation": "v",
         "showlegend": true,
         "x": [
          0,
          0,
          0,
          0,
          0,
          0,
          0,
          0,
          0,
          0,
          0,
          0,
          0,
          0,
          0,
          0,
          0,
          1,
          1,
          1,
          1,
          1,
          2,
          2,
          2,
          2,
          2,
          2,
          2,
          3,
          3,
          3,
          4,
          4,
          4,
          4,
          4,
          4,
          4,
          4,
          4,
          4,
          4,
          4,
          4,
          4,
          4,
          4,
          4,
          4,
          4,
          5,
          6,
          6,
          6,
          6,
          6,
          6,
          6,
          7,
          7,
          7,
          7,
          7,
          7,
          7,
          7,
          7,
          7,
          7,
          8,
          8,
          8,
          8,
          8,
          8,
          8,
          8,
          8,
          8,
          8,
          9,
          10,
          10,
          10,
          10,
          10,
          10,
          10,
          10,
          10,
          10,
          10,
          10,
          10,
          10,
          10
         ],
         "xaxis": "x",
         "y": [
          1.0,
          1.0,
          1.0,
          1.0,
          1.0,
          1.0,
          1.0,
          1.0,
          1.0,
          1.0,
          1.0,
          1.0,
          1.0,
          1.0,
          1.0,
          1.0,
          1.0,
          0.8901898513296573,
          0.8901898513296573,
          0.8901898513296573,
          0.8901898513296573,
          0.8901898513296573,
          0.8900328051929922,
          0.8900328051929922,
          0.8900328051929922,
          0.8900328051929922,
          0.8900328051929922,
          0.8900328051929922,
          0.8900328051929922,
          0.8898757590563272,
          0.8898757590563272,
          0.8898757590563272,
          0.8899281077685489,
          0.8899281077685489,
          0.8899281077685489,
          0.8899281077685489,
          0.8899281077685489,
          0.8899281077685489,
          0.8899281077685489,
          0.8899281077685489,
          0.8899281077685489,
          0.8899281077685489,
          0.8899281077685489,
          0.8899281077685489,
          0.8899281077685489,
          0.8899281077685489,
          0.8899281077685489,
          0.8899281077685489,
          0.8899281077685489,
          0.8899281077685489,
          0.8899281077685489,
          0.8896663642074405,
          0.8892999232218888,
          0.8892999232218888,
          0.8892999232218888,
          0.8892999232218888,
          0.8892999232218888,
          0.8892999232218888,
          0.8892999232218888,
          0.8894918685000349,
          0.8894918685000349,
          0.8894918685000349,
          0.8894918685000349,
          0.8894918685000349,
          0.8894918685000349,
          0.8894918685000349,
          0.8894918685000349,
          0.8894918685000349,
          0.8894918685000349,
          0.8894918685000349,
          0.8898583094855866,
          0.8898583094855866,
          0.8898583094855866,
          0.8898583094855866,
          0.8898583094855866,
          0.8898583094855866,
          0.8898583094855866,
          0.8898583094855866,
          0.8898583094855866,
          0.8898583094855866,
          0.8898583094855866,
          0.8894918685000349,
          0.8889160326655964,
          0.8889160326655964,
          0.8889160326655964,
          0.8889160326655964,
          0.8889160326655964,
          0.8889160326655964,
          0.8889160326655964,
          0.8889160326655964,
          0.8889160326655964,
          0.8889160326655964,
          0.8889160326655964,
          0.8889160326655964,
          0.8889160326655964,
          0.8889160326655964,
          0.8889160326655964
         ],
         "yaxis": "y",
         "type": "scatter"
        },
        {
         "hovertemplate": "Matrix name=Pres_Poisson<br>Number of eliminated variables=%{x}<br>Change in nonzero entries=%{y}<extra></extra>",
         "legendgroup": "Pres_Poisson",
         "line": {
          "color": "#19d3f3",
          "dash": "solid"
         },
         "marker": {
          "symbol": "circle"
         },
         "mode": "lines+markers",
         "name": "Pres_Poisson",
         "orientation": "v",
         "showlegend": true,
         "x": [
          0,
          0,
          0,
          1,
          2,
          2,
          2,
          2,
          2,
          2,
          2,
          2,
          2,
          2,
          2,
          2,
          2,
          2,
          2,
          2,
          2,
          2,
          2,
          2,
          2,
          2,
          2,
          2,
          2,
          2,
          2,
          2,
          2,
          2,
          2,
          2,
          2,
          2,
          2,
          2,
          2,
          2,
          2,
          2,
          2,
          2,
          2,
          2,
          2,
          2,
          2,
          3,
          3,
          3,
          3,
          3,
          3,
          3,
          4,
          4,
          4,
          4,
          4,
          4,
          4,
          5,
          5,
          5,
          5,
          5,
          5,
          5,
          6,
          6,
          6,
          6,
          6,
          6,
          6,
          6,
          6,
          6,
          6,
          7,
          7,
          7,
          8,
          8,
          8,
          8,
          8,
          8,
          8,
          8,
          8,
          8,
          8,
          9,
          10,
          10,
          10,
          10,
          10,
          10,
          10,
          10,
          10,
          10,
          10,
          10,
          10,
          10,
          10,
          10,
          10
         ],
         "xaxis": "x",
         "y": [
          1.0,
          1.0,
          1.0,
          1.0013369581617315,
          1.0012014462059446,
          1.0012014462059446,
          1.0012014462059446,
          1.0012014462059446,
          1.0012014462059446,
          1.0012014462059446,
          1.0012014462059446,
          1.0012014462059446,
          1.0012014462059446,
          1.0012014462059446,
          1.0012014462059446,
          1.0012014462059446,
          1.0012014462059446,
          1.0012014462059446,
          1.0012014462059446,
          1.0012014462059446,
          1.0012014462059446,
          1.0012014462059446,
          1.0012014462059446,
          1.0012014462059446,
          1.0012014462059446,
          1.0012014462059446,
          1.0012014462059446,
          1.0012014462059446,
          1.0012014462059446,
          1.0012014462059446,
          1.0012014462059446,
          1.0012014462059446,
          1.0012014462059446,
          1.0012014462059446,
          1.0012014462059446,
          1.0012014462059446,
          1.0012014462059446,
          1.0012014462059446,
          1.0012014462059446,
          1.0012014462059446,
          1.0012014462059446,
          1.0012014462059446,
          1.0012014462059446,
          1.0012014462059446,
          1.0012014462059446,
          1.0012014462059446,
          1.0012014462059446,
          1.0012014462059446,
          1.0012014462059446,
          1.0012014462059446,
          1.0012014462059446,
          1.0031922146285854,
          1.0031922146285854,
          1.0031922146285854,
          1.0031922146285854,
          1.0031922146285854,
          1.0031922146285854,
          1.0031922146285854,
          1.0030064095758056,
          1.0030064095758056,
          1.0030064095758056,
          1.0030064095758056,
          1.0030064095758056,
          1.0030064095758056,
          1.0030064095758056,
          1.0028233985839698,
          1.0028233985839698,
          1.0028233985839698,
          1.0028233985839698,
          1.0028233985839698,
          1.0028233985839698,
          1.0028233985839698,
          1.0026431816530783,
          1.0026431816530783,
          1.0026431816530783,
          1.0026431816530783,
          1.0026431816530783,
          1.0026431816530783,
          1.0026431816530783,
          1.0026431816530783,
          1.0026431816530783,
          1.0026431816530783,
          1.0026431816530783,
          1.0054833446027125,
          1.0054833446027125,
          1.0054833446027125,
          1.0052360702091634,
          1.0052360702091634,
          1.0052360702091634,
          1.0052360702091634,
          1.0052360702091634,
          1.0052360702091634,
          1.0052360702091634,
          1.0052360702091634,
          1.0052360702091634,
          1.0052360702091634,
          1.0052360702091634,
          1.0050251186078871,
          1.0048001967018905,
          1.0048001967018905,
          1.0048001967018905,
          1.0048001967018905,
          1.0048001967018905,
          1.0048001967018905,
          1.0048001967018905,
          1.0048001967018905,
          1.0048001967018905,
          1.0048001967018905,
          1.0048001967018905,
          1.0048001967018905,
          1.0048001967018905,
          1.0048001967018905,
          1.0048001967018905,
          1.0048001967018905,
          1.0048001967018905
         ],
         "yaxis": "y",
         "type": "scatter"
        },
        {
         "hovertemplate": "Matrix name=bcsstk13<br>Number of eliminated variables=%{x}<br>Change in nonzero entries=%{y}<extra></extra>",
         "legendgroup": "bcsstk13",
         "line": {
          "color": "#FF6692",
          "dash": "solid"
         },
         "marker": {
          "symbol": "diamond"
         },
         "mode": "lines+markers",
         "name": "bcsstk13",
         "orientation": "v",
         "showlegend": true,
         "x": [
          0,
          1,
          1,
          1,
          1,
          1,
          1,
          1,
          1,
          1,
          1,
          1,
          1,
          1,
          1,
          1,
          2,
          2,
          2,
          2,
          2,
          2,
          2,
          3,
          3,
          3,
          3,
          3,
          3,
          3,
          3,
          3,
          3,
          3,
          3,
          3,
          3,
          3,
          3,
          3,
          3,
          3,
          4,
          5,
          5,
          5,
          5,
          5,
          5,
          5,
          5,
          5,
          5,
          5,
          5,
          5,
          5,
          5,
          6,
          7,
          7,
          7,
          7,
          7,
          8,
          8,
          8,
          8,
          8,
          8,
          8,
          8,
          8,
          8,
          8,
          8,
          8,
          8,
          8,
          9,
          9,
          9,
          10
         ],
         "xaxis": "x",
         "y": [
          1.0,
          0.8932203187773446,
          0.8932203187773446,
          0.8932203187773446,
          0.8932203187773446,
          0.8932203187773446,
          0.8932203187773446,
          0.8932203187773446,
          0.8932203187773446,
          0.8932203187773446,
          0.8932203187773446,
          0.8932203187773446,
          0.8932203187773446,
          0.8932203187773446,
          0.8932203187773446,
          0.8932203187773446,
          0.8949012314771766,
          0.8949012314771766,
          0.8949012314771766,
          0.8949012314771766,
          0.8949012314771766,
          0.8949012314771766,
          0.8949012314771766,
          0.8948177819105182,
          0.8948177819105182,
          0.8948177819105182,
          0.8948177819105182,
          0.8948177819105182,
          0.8948177819105182,
          0.8948177819105182,
          0.8948177819105182,
          0.8948177819105182,
          0.8948177819105182,
          0.8948177819105182,
          0.8948177819105182,
          0.8948177819105182,
          0.8948177819105182,
          0.8948177819105182,
          0.8948177819105182,
          0.8948177819105182,
          0.8948177819105182,
          0.8948177819105182,
          0.8940667358105934,
          0.8933395324439993,
          0.8933395324439993,
          0.8933395324439993,
          0.8933395324439993,
          0.8933395324439993,
          0.8933395324439993,
          0.8933395324439993,
          0.8933395324439993,
          0.8933395324439993,
          0.8933395324439993,
          0.8933395324439993,
          0.8933395324439993,
          0.8933395324439993,
          0.8933395324439993,
          0.8933395324439993,
          0.8926361718107364,
          0.8975596962435773,
          0.8975596962435773,
          0.8975596962435773,
          0.8975596962435773,
          0.8975596962435773,
          0.8966179082770048,
          0.8966179082770048,
          0.8966179082770048,
          0.8966179082770048,
          0.8966179082770048,
          0.8966179082770048,
          0.8966179082770048,
          0.8966179082770048,
          0.8966179082770048,
          0.8966179082770048,
          0.8966179082770048,
          0.8966179082770048,
          0.8966179082770048,
          0.8966179082770048,
          0.8966179082770048,
          0.8956999630437633,
          0.8956999630437633,
          0.8956999630437633,
          0.8948058605438527
         ],
         "yaxis": "y",
         "type": "scatter"
        }
       ],
       "layout": {
        "template": {
         "data": {
          "histogram2dcontour": [
           {
            "type": "histogram2dcontour",
            "colorbar": {
             "outlinewidth": 0,
             "ticks": ""
            },
            "colorscale": [
             [
              0.0,
              "#0d0887"
             ],
             [
              0.1111111111111111,
              "#46039f"
             ],
             [
              0.2222222222222222,
              "#7201a8"
             ],
             [
              0.3333333333333333,
              "#9c179e"
             ],
             [
              0.4444444444444444,
              "#bd3786"
             ],
             [
              0.5555555555555556,
              "#d8576b"
             ],
             [
              0.6666666666666666,
              "#ed7953"
             ],
             [
              0.7777777777777778,
              "#fb9f3a"
             ],
             [
              0.8888888888888888,
              "#fdca26"
             ],
             [
              1.0,
              "#f0f921"
             ]
            ]
           }
          ],
          "choropleth": [
           {
            "type": "choropleth",
            "colorbar": {
             "outlinewidth": 0,
             "ticks": ""
            }
           }
          ],
          "histogram2d": [
           {
            "type": "histogram2d",
            "colorbar": {
             "outlinewidth": 0,
             "ticks": ""
            },
            "colorscale": [
             [
              0.0,
              "#0d0887"
             ],
             [
              0.1111111111111111,
              "#46039f"
             ],
             [
              0.2222222222222222,
              "#7201a8"
             ],
             [
              0.3333333333333333,
              "#9c179e"
             ],
             [
              0.4444444444444444,
              "#bd3786"
             ],
             [
              0.5555555555555556,
              "#d8576b"
             ],
             [
              0.6666666666666666,
              "#ed7953"
             ],
             [
              0.7777777777777778,
              "#fb9f3a"
             ],
             [
              0.8888888888888888,
              "#fdca26"
             ],
             [
              1.0,
              "#f0f921"
             ]
            ]
           }
          ],
          "heatmap": [
           {
            "type": "heatmap",
            "colorbar": {
             "outlinewidth": 0,
             "ticks": ""
            },
            "colorscale": [
             [
              0.0,
              "#0d0887"
             ],
             [
              0.1111111111111111,
              "#46039f"
             ],
             [
              0.2222222222222222,
              "#7201a8"
             ],
             [
              0.3333333333333333,
              "#9c179e"
             ],
             [
              0.4444444444444444,
              "#bd3786"
             ],
             [
              0.5555555555555556,
              "#d8576b"
             ],
             [
              0.6666666666666666,
              "#ed7953"
             ],
             [
              0.7777777777777778,
              "#fb9f3a"
             ],
             [
              0.8888888888888888,
              "#fdca26"
             ],
             [
              1.0,
              "#f0f921"
             ]
            ]
           }
          ],
          "heatmapgl": [
           {
            "type": "heatmapgl",
            "colorbar": {
             "outlinewidth": 0,
             "ticks": ""
            },
            "colorscale": [
             [
              0.0,
              "#0d0887"
             ],
             [
              0.1111111111111111,
              "#46039f"
             ],
             [
              0.2222222222222222,
              "#7201a8"
             ],
             [
              0.3333333333333333,
              "#9c179e"
             ],
             [
              0.4444444444444444,
              "#bd3786"
             ],
             [
              0.5555555555555556,
              "#d8576b"
             ],
             [
              0.6666666666666666,
              "#ed7953"
             ],
             [
              0.7777777777777778,
              "#fb9f3a"
             ],
             [
              0.8888888888888888,
              "#fdca26"
             ],
             [
              1.0,
              "#f0f921"
             ]
            ]
           }
          ],
          "contourcarpet": [
           {
            "type": "contourcarpet",
            "colorbar": {
             "outlinewidth": 0,
             "ticks": ""
            }
           }
          ],
          "contour": [
           {
            "type": "contour",
            "colorbar": {
             "outlinewidth": 0,
             "ticks": ""
            },
            "colorscale": [
             [
              0.0,
              "#0d0887"
             ],
             [
              0.1111111111111111,
              "#46039f"
             ],
             [
              0.2222222222222222,
              "#7201a8"
             ],
             [
              0.3333333333333333,
              "#9c179e"
             ],
             [
              0.4444444444444444,
              "#bd3786"
             ],
             [
              0.5555555555555556,
              "#d8576b"
             ],
             [
              0.6666666666666666,
              "#ed7953"
             ],
             [
              0.7777777777777778,
              "#fb9f3a"
             ],
             [
              0.8888888888888888,
              "#fdca26"
             ],
             [
              1.0,
              "#f0f921"
             ]
            ]
           }
          ],
          "surface": [
           {
            "type": "surface",
            "colorbar": {
             "outlinewidth": 0,
             "ticks": ""
            },
            "colorscale": [
             [
              0.0,
              "#0d0887"
             ],
             [
              0.1111111111111111,
              "#46039f"
             ],
             [
              0.2222222222222222,
              "#7201a8"
             ],
             [
              0.3333333333333333,
              "#9c179e"
             ],
             [
              0.4444444444444444,
              "#bd3786"
             ],
             [
              0.5555555555555556,
              "#d8576b"
             ],
             [
              0.6666666666666666,
              "#ed7953"
             ],
             [
              0.7777777777777778,
              "#fb9f3a"
             ],
             [
              0.8888888888888888,
              "#fdca26"
             ],
             [
              1.0,
              "#f0f921"
             ]
            ]
           }
          ],
          "mesh3d": [
           {
            "type": "mesh3d",
            "colorbar": {
             "outlinewidth": 0,
             "ticks": ""
            }
           }
          ],
          "scatter": [
           {
            "marker": {
             "line": {
              "color": "#283442"
             }
            },
            "type": "scatter"
           }
          ],
          "parcoords": [
           {
            "type": "parcoords",
            "line": {
             "colorbar": {
              "outlinewidth": 0,
              "ticks": ""
             }
            }
           }
          ],
          "scatterpolargl": [
           {
            "type": "scatterpolargl",
            "marker": {
             "colorbar": {
              "outlinewidth": 0,
              "ticks": ""
             }
            }
           }
          ],
          "bar": [
           {
            "error_x": {
             "color": "#f2f5fa"
            },
            "error_y": {
             "color": "#f2f5fa"
            },
            "marker": {
             "line": {
              "color": "rgb(17,17,17)",
              "width": 0.5
             },
             "pattern": {
              "fillmode": "overlay",
              "size": 10,
              "solidity": 0.2
             }
            },
            "type": "bar"
           }
          ],
          "scattergeo": [
           {
            "type": "scattergeo",
            "marker": {
             "colorbar": {
              "outlinewidth": 0,
              "ticks": ""
             }
            }
           }
          ],
          "scatterpolar": [
           {
            "type": "scatterpolar",
            "marker": {
             "colorbar": {
              "outlinewidth": 0,
              "ticks": ""
             }
            }
           }
          ],
          "histogram": [
           {
            "marker": {
             "pattern": {
              "fillmode": "overlay",
              "size": 10,
              "solidity": 0.2
             }
            },
            "type": "histogram"
           }
          ],
          "scattergl": [
           {
            "marker": {
             "line": {
              "color": "#283442"
             }
            },
            "type": "scattergl"
           }
          ],
          "scatter3d": [
           {
            "type": "scatter3d",
            "line": {
             "colorbar": {
              "outlinewidth": 0,
              "ticks": ""
             }
            },
            "marker": {
             "colorbar": {
              "outlinewidth": 0,
              "ticks": ""
             }
            }
           }
          ],
          "scattermapbox": [
           {
            "type": "scattermapbox",
            "marker": {
             "colorbar": {
              "outlinewidth": 0,
              "ticks": ""
             }
            }
           }
          ],
          "scatterternary": [
           {
            "type": "scatterternary",
            "marker": {
             "colorbar": {
              "outlinewidth": 0,
              "ticks": ""
             }
            }
           }
          ],
          "scattercarpet": [
           {
            "type": "scattercarpet",
            "marker": {
             "colorbar": {
              "outlinewidth": 0,
              "ticks": ""
             }
            }
           }
          ],
          "carpet": [
           {
            "aaxis": {
             "endlinecolor": "#A2B1C6",
             "gridcolor": "#506784",
             "linecolor": "#506784",
             "minorgridcolor": "#506784",
             "startlinecolor": "#A2B1C6"
            },
            "baxis": {
             "endlinecolor": "#A2B1C6",
             "gridcolor": "#506784",
             "linecolor": "#506784",
             "minorgridcolor": "#506784",
             "startlinecolor": "#A2B1C6"
            },
            "type": "carpet"
           }
          ],
          "table": [
           {
            "cells": {
             "fill": {
              "color": "#506784"
             },
             "line": {
              "color": "rgb(17,17,17)"
             }
            },
            "header": {
             "fill": {
              "color": "#2a3f5f"
             },
             "line": {
              "color": "rgb(17,17,17)"
             }
            },
            "type": "table"
           }
          ],
          "barpolar": [
           {
            "marker": {
             "line": {
              "color": "rgb(17,17,17)",
              "width": 0.5
             },
             "pattern": {
              "fillmode": "overlay",
              "size": 10,
              "solidity": 0.2
             }
            },
            "type": "barpolar"
           }
          ],
          "pie": [
           {
            "automargin": true,
            "type": "pie"
           }
          ]
         },
         "layout": {
          "autotypenumbers": "strict",
          "colorway": [
           "#636efa",
           "#EF553B",
           "#00cc96",
           "#ab63fa",
           "#FFA15A",
           "#19d3f3",
           "#FF6692",
           "#B6E880",
           "#FF97FF",
           "#FECB52"
          ],
          "font": {
           "color": "#f2f5fa"
          },
          "hovermode": "closest",
          "hoverlabel": {
           "align": "left"
          },
          "paper_bgcolor": "rgb(17,17,17)",
          "plot_bgcolor": "rgb(17,17,17)",
          "polar": {
           "bgcolor": "rgb(17,17,17)",
           "angularaxis": {
            "gridcolor": "#506784",
            "linecolor": "#506784",
            "ticks": ""
           },
           "radialaxis": {
            "gridcolor": "#506784",
            "linecolor": "#506784",
            "ticks": ""
           }
          },
          "ternary": {
           "bgcolor": "rgb(17,17,17)",
           "aaxis": {
            "gridcolor": "#506784",
            "linecolor": "#506784",
            "ticks": ""
           },
           "baxis": {
            "gridcolor": "#506784",
            "linecolor": "#506784",
            "ticks": ""
           },
           "caxis": {
            "gridcolor": "#506784",
            "linecolor": "#506784",
            "ticks": ""
           }
          },
          "coloraxis": {
           "colorbar": {
            "outlinewidth": 0,
            "ticks": ""
           }
          },
          "colorscale": {
           "sequential": [
            [
             0.0,
             "#0d0887"
            ],
            [
             0.1111111111111111,
             "#46039f"
            ],
            [
             0.2222222222222222,
             "#7201a8"
            ],
            [
             0.3333333333333333,
             "#9c179e"
            ],
            [
             0.4444444444444444,
             "#bd3786"
            ],
            [
             0.5555555555555556,
             "#d8576b"
            ],
            [
             0.6666666666666666,
             "#ed7953"
            ],
            [
             0.7777777777777778,
             "#fb9f3a"
            ],
            [
             0.8888888888888888,
             "#fdca26"
            ],
            [
             1.0,
             "#f0f921"
            ]
           ],
           "sequentialminus": [
            [
             0.0,
             "#0d0887"
            ],
            [
             0.1111111111111111,
             "#46039f"
            ],
            [
             0.2222222222222222,
             "#7201a8"
            ],
            [
             0.3333333333333333,
             "#9c179e"
            ],
            [
             0.4444444444444444,
             "#bd3786"
            ],
            [
             0.5555555555555556,
             "#d8576b"
            ],
            [
             0.6666666666666666,
             "#ed7953"
            ],
            [
             0.7777777777777778,
             "#fb9f3a"
            ],
            [
             0.8888888888888888,
             "#fdca26"
            ],
            [
             1.0,
             "#f0f921"
            ]
           ],
           "diverging": [
            [
             0,
             "#8e0152"
            ],
            [
             0.1,
             "#c51b7d"
            ],
            [
             0.2,
             "#de77ae"
            ],
            [
             0.3,
             "#f1b6da"
            ],
            [
             0.4,
             "#fde0ef"
            ],
            [
             0.5,
             "#f7f7f7"
            ],
            [
             0.6,
             "#e6f5d0"
            ],
            [
             0.7,
             "#b8e186"
            ],
            [
             0.8,
             "#7fbc41"
            ],
            [
             0.9,
             "#4d9221"
            ],
            [
             1,
             "#276419"
            ]
           ]
          },
          "xaxis": {
           "gridcolor": "#283442",
           "linecolor": "#506784",
           "ticks": "",
           "title": {
            "standoff": 15
           },
           "zerolinecolor": "#283442",
           "automargin": true,
           "zerolinewidth": 2
          },
          "yaxis": {
           "gridcolor": "#283442",
           "linecolor": "#506784",
           "ticks": "",
           "title": {
            "standoff": 15
           },
           "zerolinecolor": "#283442",
           "automargin": true,
           "zerolinewidth": 2
          },
          "scene": {
           "xaxis": {
            "backgroundcolor": "rgb(17,17,17)",
            "gridcolor": "#506784",
            "linecolor": "#506784",
            "showbackground": true,
            "ticks": "",
            "zerolinecolor": "#C8D4E3",
            "gridwidth": 2
           },
           "yaxis": {
            "backgroundcolor": "rgb(17,17,17)",
            "gridcolor": "#506784",
            "linecolor": "#506784",
            "showbackground": true,
            "ticks": "",
            "zerolinecolor": "#C8D4E3",
            "gridwidth": 2
           },
           "zaxis": {
            "backgroundcolor": "rgb(17,17,17)",
            "gridcolor": "#506784",
            "linecolor": "#506784",
            "showbackground": true,
            "ticks": "",
            "zerolinecolor": "#C8D4E3",
            "gridwidth": 2
           }
          },
          "shapedefaults": {
           "line": {
            "color": "#f2f5fa"
           }
          },
          "annotationdefaults": {
           "arrowcolor": "#f2f5fa",
           "arrowhead": 0,
           "arrowwidth": 1
          },
          "geo": {
           "bgcolor": "rgb(17,17,17)",
           "landcolor": "rgb(17,17,17)",
           "subunitcolor": "#506784",
           "showland": true,
           "showlakes": true,
           "lakecolor": "rgb(17,17,17)"
          },
          "title": {
           "x": 0.05
          },
          "updatemenudefaults": {
           "bgcolor": "#506784",
           "borderwidth": 0
          },
          "sliderdefaults": {
           "bgcolor": "#C8D4E3",
           "borderwidth": 1,
           "bordercolor": "rgb(17,17,17)",
           "tickwidth": 0
          },
          "mapbox": {
           "style": "dark"
          }
         }
        },
        "xaxis": {
         "anchor": "y",
         "domain": [
          0.0,
          1.0
         ],
         "title": {
          "text": "Number of eliminated variables"
         }
        },
        "yaxis": {
         "anchor": "x",
         "domain": [
          0.0,
          1.0
         ],
         "title": {
          "text": "Change in nonzero entries"
         },
         "type": "log"
        },
        "legend": {
         "title": {
          "text": "Matrix name"
         },
         "tracegroupgap": 0
        },
        "margin": {
         "t": 60
        },
        "title": {
         "text": "Effect of variable elimination on nonzero entry count",
         "x": 0.5,
         "xanchor": "center",
         "yanchor": "top"
        },
        "font": {
         "color": "black"
        },
        "plot_bgcolor": "white",
        "paper_bgcolor": "white"
       },
       "config": {
        "plotlyServerURL": "https://plot.ly"
       }
      },
      "text/html": [
       "<div>                            <div id=\"9caba920-8032-4ba0-9871-7e3e38a174be\" class=\"plotly-graph-div\" style=\"height:525px; width:100%;\"></div>            <script type=\"text/javascript\">                require([\"plotly\"], function(Plotly) {                    window.PLOTLYENV=window.PLOTLYENV || {};                                    if (document.getElementById(\"9caba920-8032-4ba0-9871-7e3e38a174be\")) {                    Plotly.newPlot(                        \"9caba920-8032-4ba0-9871-7e3e38a174be\",                        [{\"hovertemplate\":\"Matrix name=ex3\\u003cbr\\u003eNumber of eliminated variables=%{x}\\u003cbr\\u003eChange in nonzero entries=%{y}\\u003cextra\\u003e\\u003c\\u002fextra\\u003e\",\"legendgroup\":\"ex3\",\"line\":{\"color\":\"#636efa\",\"dash\":\"solid\"},\"marker\":{\"symbol\":\"circle\"},\"mode\":\"lines+markers\",\"name\":\"ex3\",\"orientation\":\"v\",\"showlegend\":true,\"x\":[0,0,0,1,1,1,1,1,1,1,1,1,1,1,1,1,1,1,1,1,1,1,1,1,1,1,2,2,2,3,3,3,3,3,3,3,3,3,3,3,4,4,4,5,5,5,5,5,5,5,6,6,6,6,6,6,6,6,6,6,6,7,7,7,8,8,8,8,8,9,9,9,9,9,9,9,9,9,9,9,10],\"xaxis\":\"x\",\"y\":[1.0,1.0,1.0,0.8866660339755148,0.8866660339755148,0.8866660339755148,0.8866660339755148,0.8866660339755148,0.8866660339755148,0.8866660339755148,0.8866660339755148,0.8866660339755148,0.8866660339755148,0.8866660339755148,0.8866660339755148,0.8866660339755148,0.8866660339755148,0.8866660339755148,0.8866660339755148,0.8866660339755148,0.8866660339755148,0.8866660339755148,0.8866660339755148,0.8866660339755148,0.8866660339755148,0.8866660339755148,0.8864572458954162,0.8864572458954162,0.8864572458954162,0.8862484578153175,0.8862484578153175,0.8862484578153175,0.8862484578153175,0.8862484578153175,0.8862484578153175,0.8862484578153175,0.8862484578153175,0.8862484578153175,0.8862484578153175,0.8862484578153175,0.8871025908702667,0.8871025908702667,0.8871025908702667,0.8864382651608618,0.8864382651608618,0.8864382651608618,0.8864382651608618,0.8864382651608618,0.8864382651608618,0.8864382651608618,0.8858878238587833,0.8858878238587833,0.8858878238587833,0.8858878238587833,0.8858878238587833,0.8858878238587833,0.8858878238587833,0.8858878238587833,0.8858878238587833,0.8858878238587833,0.8858878238587833,0.8854512669640315,0.8854512669640315,0.8854512669640315,0.8849767486001708,0.8849767486001708,0.8849767486001708,0.8849767486001708,0.8849767486001708,0.884540191705419,0.884540191705419,0.884540191705419,0.884540191705419,0.884540191705419,0.884540191705419,0.884540191705419,0.884540191705419,0.884540191705419,0.884540191705419,0.884540191705419,0.8865331688336339],\"yaxis\":\"y\",\"type\":\"scatter\"},{\"hovertemplate\":\"Matrix name=ex13\\u003cbr\\u003eNumber of eliminated variables=%{x}\\u003cbr\\u003eChange in nonzero entries=%{y}\\u003cextra\\u003e\\u003c\\u002fextra\\u003e\",\"legendgroup\":\"ex13\",\"line\":{\"color\":\"#EF553B\",\"dash\":\"solid\"},\"marker\":{\"symbol\":\"diamond\"},\"mode\":\"lines+markers\",\"name\":\"ex13\",\"orientation\":\"v\",\"showlegend\":true,\"x\":[0,0,0,0,0,0,0,0,0,0,0,0,0,0,0,1,1,1,2,2,2,3,3,3,3,3,3,3,3,3,3,3,3,3,3,3,4,4,4,4,4,5,5,5,6,6,6,6,6,6,6,6,6,6,6,6,6,6,6,7,7,7,8,8,8,8,8,8,8,8,8,8,8,8,8,8,8,8,8,8,8,9,9,9,10,10,10],\"xaxis\":\"x\",\"y\":[1.0,1.0,1.0,1.0,1.0,1.0,1.0,1.0,1.0,1.0,1.0,1.0,1.0,1.0,1.0,0.9988496324112762,0.9988496324112762,0.9988496324112762,0.9985719574760671,0.9985719574760671,0.9985719574760671,0.9982942825408578,0.9982942825408578,0.9982942825408578,0.9982942825408578,0.9982942825408578,0.9982942825408578,0.9982942825408578,0.9982942825408578,0.9982942825408578,0.9982942825408578,0.9982942825408578,0.9982942825408578,0.9982942825408578,0.9982942825408578,0.9982942825408578,0.9980959433014227,0.9980959433014227,0.9980959433014227,0.9980959433014227,0.9980959433014227,0.9982149468450838,0.9982149468450838,0.9982149468450838,0.9977257100544772,0.9977257100544772,0.9977257100544772,0.9977257100544772,0.9977257100544772,0.9977257100544772,0.9977257100544772,0.9977257100544772,0.9977257100544772,0.9977257100544772,0.9977257100544772,0.9977257100544772,0.9977257100544772,0.9977257100544772,0.9977257100544772,0.9972629184957952,0.9972629184957952,0.9972629184957952,0.9968265721690379,0.9968265721690379,0.9968265721690379,0.9968265721690379,0.9968265721690379,0.9968265721690379,0.9968265721690379,0.9968265721690379,0.9968265721690379,0.9968265721690379,0.9968265721690379,0.9968265721690379,0.9968265721690379,0.9968265721690379,0.9968265721690379,0.9968265721690379,0.9968265721690379,0.9968265721690379,0.9968265721690379,0.9964166710742053,0.9964166710742053,0.9964166710742053,0.9960332152112974,0.9960332152112974,0.9960332152112974],\"yaxis\":\"y\",\"type\":\"scatter\"},{\"hovertemplate\":\"Matrix name=ex10\\u003cbr\\u003eNumber of eliminated variables=%{x}\\u003cbr\\u003eChange in nonzero entries=%{y}\\u003cextra\\u003e\\u003c\\u002fextra\\u003e\",\"legendgroup\":\"ex10\",\"line\":{\"color\":\"#00cc96\",\"dash\":\"solid\"},\"marker\":{\"symbol\":\"square\"},\"mode\":\"lines+markers\",\"name\":\"ex10\",\"orientation\":\"v\",\"showlegend\":true,\"x\":[0,0,0,0,0,0,0,1,1,1,1,1,1,1,2,2,2,2,2,2,2,2,2,2,2,2,2,2,2,3,3,3,4,4,4,4,4,4,4,5,5,5,5,5,5,5,6,6,6,6,6,7,7,7,7,7,7,7,8,8,8,9,9,9,9,10,10,10,10,10,10,10,10,10,10,10,10,10,10,10,10,10,10,10,10,10,10,10,10,10,10,10,10,10,10,10,10,10,10,10],\"xaxis\":\"x\",\"y\":[1.0,1.0,1.0,1.0,1.0,1.0,1.0,0.8897702407002188,0.8897702407002188,0.8897702407002188,0.8897702407002188,0.8897702407002188,0.8897702407002188,0.8897702407002188,0.8897155361050328,0.8897155361050328,0.8897155361050328,0.8897155361050328,0.8897155361050328,0.8897155361050328,0.8897155361050328,0.8897155361050328,0.8897155361050328,0.8897155361050328,0.8897155361050328,0.8897155361050328,0.8897155361050328,0.8897155361050328,0.8897155361050328,0.8895514223194748,0.8895514223194748,0.8895514223194748,0.8893873085339169,0.8893873085339169,0.8893873085339169,0.8893873085339169,0.8893873085339169,0.8893873085339169,0.8893873085339169,0.8894420131291029,0.8894420131291029,0.8894420131291029,0.8894420131291029,0.8894420131291029,0.8894420131291029,0.8894420131291029,0.8891684901531729,0.8891684901531729,0.8891684901531729,0.8891684901531729,0.8891684901531729,0.8887855579868709,0.8887855579868709,0.8887855579868709,0.8887855579868709,0.8887855579868709,0.8887855579868709,0.8887855579868709,0.8889861415025528,0.8889861415025528,0.8889861415025528,0.8893690736688549,0.8893690736688549,0.8893690736688549,0.8893690736688549,0.8889861415025528,0.8889861415025528,0.8889861415025528,0.8889861415025528,0.8889861415025528,0.8889861415025528,0.8889861415025528,0.8889861415025528,0.8889861415025528,0.8889861415025528,0.8889861415025528,0.8889861415025528,0.8889861415025528,0.8889861415025528,0.8889861415025528,0.8889861415025528,0.8889861415025528,0.8889861415025528,0.8889861415025528,0.8889861415025528,0.8889861415025528,0.8889861415025528,0.8889861415025528,0.8889861415025528,0.8889861415025528,0.8889861415025528,0.8889861415025528,0.8889861415025528,0.8889861415025528,0.8889861415025528,0.8889861415025528,0.8889861415025528,0.8889861415025528,0.8889861415025528,0.8889861415025528],\"yaxis\":\"y\",\"type\":\"scatter\"},{\"hovertemplate\":\"Matrix name=ex15\\u003cbr\\u003eNumber of eliminated variables=%{x}\\u003cbr\\u003eChange in nonzero entries=%{y}\\u003cextra\\u003e\\u003c\\u002fextra\\u003e\",\"legendgroup\":\"ex15\",\"line\":{\"color\":\"#ab63fa\",\"dash\":\"solid\"},\"marker\":{\"symbol\":\"x\"},\"mode\":\"lines+markers\",\"name\":\"ex15\",\"orientation\":\"v\",\"showlegend\":true,\"x\":[0,0,0,0,0,0,0,0,0,0,0,1,1,1,2,2,2,3,3,3,3,3,3,3,3,3,3,3,3,3,3,3,3,3,3,3,3,3,3,3,3,3,3,3,3,3,3,3,3,3,3,3,3,3,3,3,4,5,5,5,5,5,5,5,6,6,6,7,7,7,7,7,7,7,7,7,7,7,7,7,7,7,7,7,7,7,7,7,7,7,8,8,8,9,9,9,9,9,9,9,9,9,9,9,9,9,9,9,10],\"xaxis\":\"x\",\"y\":[1.0,1.0,1.0,1.0,1.0,1.0,1.0,1.0,1.0,1.0,1.0,0.9984493924253327,0.9984493924253327,0.9984493924253327,0.9983176414549361,0.9983176414549361,0.9983176414549361,0.9982466986247226,0.9982466986247226,0.9982466986247226,0.9982466986247226,0.9982466986247226,0.9982466986247226,0.9982466986247226,0.9982466986247226,0.9982466986247226,0.9982466986247226,0.9982466986247226,0.9982466986247226,0.9982466986247226,0.9982466986247226,0.9982466986247226,0.9982466986247226,0.9982466986247226,0.9982466986247226,0.9982466986247226,0.9982466986247226,0.9982466986247226,0.9982466986247226,0.9982466986247226,0.9982466986247226,0.9982466986247226,0.9982466986247226,0.9982466986247226,0.9982466986247226,0.9982466986247226,0.9982466986247226,0.9982466986247226,0.9982466986247226,0.9982466986247226,0.9982466986247226,0.9982466986247226,0.9982466986247226,0.9982466986247226,0.9982466986247226,0.9982466986247226,0.998216294554631,0.9980845435842345,0.9980845435842345,0.9980845435842345,0.9980845435842345,0.9980845435842345,0.9980845435842345,0.9980845435842345,0.998033870134082,0.998033870134082,0.998033870134082,0.9980642742041734,0.9980642742041734,0.9980642742041734,0.9980642742041734,0.9980642742041734,0.9980642742041734,0.9980642742041734,0.9980642742041734,0.9980642742041734,0.9980642742041734,0.9980642742041734,0.9980642742041734,0.9980642742041734,0.9980642742041734,0.9980642742041734,0.9980642742041734,0.9980642742041734,0.9980642742041734,0.9980642742041734,0.9980642742041734,0.9980642742041734,0.9980642742041734,0.9980642742041734,0.9979325232337769,0.9979325232337769,0.9979325232337769,0.9979021191636854,0.9979021191636854,0.9979021191636854,0.9979021191636854,0.9979021191636854,0.9979021191636854,0.9979021191636854,0.9979021191636854,0.9979021191636854,0.9979021191636854,0.9979021191636854,0.9979021191636854,0.9979021191636854,0.9979021191636854,0.9979021191636854,0.998033870134082],\"yaxis\":\"y\",\"type\":\"scatter\"},{\"hovertemplate\":\"Matrix name=ex10hs\\u003cbr\\u003eNumber of eliminated variables=%{x}\\u003cbr\\u003eChange in nonzero entries=%{y}\\u003cextra\\u003e\\u003c\\u002fextra\\u003e\",\"legendgroup\":\"ex10hs\",\"line\":{\"color\":\"#FFA15A\",\"dash\":\"solid\"},\"marker\":{\"symbol\":\"cross\"},\"mode\":\"lines+markers\",\"name\":\"ex10hs\",\"orientation\":\"v\",\"showlegend\":true,\"x\":[0,0,0,0,0,0,0,0,0,0,0,0,0,0,0,0,0,1,1,1,1,1,2,2,2,2,2,2,2,3,3,3,4,4,4,4,4,4,4,4,4,4,4,4,4,4,4,4,4,4,4,5,6,6,6,6,6,6,6,7,7,7,7,7,7,7,7,7,7,7,8,8,8,8,8,8,8,8,8,8,8,9,10,10,10,10,10,10,10,10,10,10,10,10,10,10,10],\"xaxis\":\"x\",\"y\":[1.0,1.0,1.0,1.0,1.0,1.0,1.0,1.0,1.0,1.0,1.0,1.0,1.0,1.0,1.0,1.0,1.0,0.8901898513296573,0.8901898513296573,0.8901898513296573,0.8901898513296573,0.8901898513296573,0.8900328051929922,0.8900328051929922,0.8900328051929922,0.8900328051929922,0.8900328051929922,0.8900328051929922,0.8900328051929922,0.8898757590563272,0.8898757590563272,0.8898757590563272,0.8899281077685489,0.8899281077685489,0.8899281077685489,0.8899281077685489,0.8899281077685489,0.8899281077685489,0.8899281077685489,0.8899281077685489,0.8899281077685489,0.8899281077685489,0.8899281077685489,0.8899281077685489,0.8899281077685489,0.8899281077685489,0.8899281077685489,0.8899281077685489,0.8899281077685489,0.8899281077685489,0.8899281077685489,0.8896663642074405,0.8892999232218888,0.8892999232218888,0.8892999232218888,0.8892999232218888,0.8892999232218888,0.8892999232218888,0.8892999232218888,0.8894918685000349,0.8894918685000349,0.8894918685000349,0.8894918685000349,0.8894918685000349,0.8894918685000349,0.8894918685000349,0.8894918685000349,0.8894918685000349,0.8894918685000349,0.8894918685000349,0.8898583094855866,0.8898583094855866,0.8898583094855866,0.8898583094855866,0.8898583094855866,0.8898583094855866,0.8898583094855866,0.8898583094855866,0.8898583094855866,0.8898583094855866,0.8898583094855866,0.8894918685000349,0.8889160326655964,0.8889160326655964,0.8889160326655964,0.8889160326655964,0.8889160326655964,0.8889160326655964,0.8889160326655964,0.8889160326655964,0.8889160326655964,0.8889160326655964,0.8889160326655964,0.8889160326655964,0.8889160326655964,0.8889160326655964,0.8889160326655964],\"yaxis\":\"y\",\"type\":\"scatter\"},{\"hovertemplate\":\"Matrix name=Pres_Poisson\\u003cbr\\u003eNumber of eliminated variables=%{x}\\u003cbr\\u003eChange in nonzero entries=%{y}\\u003cextra\\u003e\\u003c\\u002fextra\\u003e\",\"legendgroup\":\"Pres_Poisson\",\"line\":{\"color\":\"#19d3f3\",\"dash\":\"solid\"},\"marker\":{\"symbol\":\"circle\"},\"mode\":\"lines+markers\",\"name\":\"Pres_Poisson\",\"orientation\":\"v\",\"showlegend\":true,\"x\":[0,0,0,1,2,2,2,2,2,2,2,2,2,2,2,2,2,2,2,2,2,2,2,2,2,2,2,2,2,2,2,2,2,2,2,2,2,2,2,2,2,2,2,2,2,2,2,2,2,2,2,3,3,3,3,3,3,3,4,4,4,4,4,4,4,5,5,5,5,5,5,5,6,6,6,6,6,6,6,6,6,6,6,7,7,7,8,8,8,8,8,8,8,8,8,8,8,9,10,10,10,10,10,10,10,10,10,10,10,10,10,10,10,10,10],\"xaxis\":\"x\",\"y\":[1.0,1.0,1.0,1.0013369581617315,1.0012014462059446,1.0012014462059446,1.0012014462059446,1.0012014462059446,1.0012014462059446,1.0012014462059446,1.0012014462059446,1.0012014462059446,1.0012014462059446,1.0012014462059446,1.0012014462059446,1.0012014462059446,1.0012014462059446,1.0012014462059446,1.0012014462059446,1.0012014462059446,1.0012014462059446,1.0012014462059446,1.0012014462059446,1.0012014462059446,1.0012014462059446,1.0012014462059446,1.0012014462059446,1.0012014462059446,1.0012014462059446,1.0012014462059446,1.0012014462059446,1.0012014462059446,1.0012014462059446,1.0012014462059446,1.0012014462059446,1.0012014462059446,1.0012014462059446,1.0012014462059446,1.0012014462059446,1.0012014462059446,1.0012014462059446,1.0012014462059446,1.0012014462059446,1.0012014462059446,1.0012014462059446,1.0012014462059446,1.0012014462059446,1.0012014462059446,1.0012014462059446,1.0012014462059446,1.0012014462059446,1.0031922146285854,1.0031922146285854,1.0031922146285854,1.0031922146285854,1.0031922146285854,1.0031922146285854,1.0031922146285854,1.0030064095758056,1.0030064095758056,1.0030064095758056,1.0030064095758056,1.0030064095758056,1.0030064095758056,1.0030064095758056,1.0028233985839698,1.0028233985839698,1.0028233985839698,1.0028233985839698,1.0028233985839698,1.0028233985839698,1.0028233985839698,1.0026431816530783,1.0026431816530783,1.0026431816530783,1.0026431816530783,1.0026431816530783,1.0026431816530783,1.0026431816530783,1.0026431816530783,1.0026431816530783,1.0026431816530783,1.0026431816530783,1.0054833446027125,1.0054833446027125,1.0054833446027125,1.0052360702091634,1.0052360702091634,1.0052360702091634,1.0052360702091634,1.0052360702091634,1.0052360702091634,1.0052360702091634,1.0052360702091634,1.0052360702091634,1.0052360702091634,1.0052360702091634,1.0050251186078871,1.0048001967018905,1.0048001967018905,1.0048001967018905,1.0048001967018905,1.0048001967018905,1.0048001967018905,1.0048001967018905,1.0048001967018905,1.0048001967018905,1.0048001967018905,1.0048001967018905,1.0048001967018905,1.0048001967018905,1.0048001967018905,1.0048001967018905,1.0048001967018905,1.0048001967018905],\"yaxis\":\"y\",\"type\":\"scatter\"},{\"hovertemplate\":\"Matrix name=bcsstk13\\u003cbr\\u003eNumber of eliminated variables=%{x}\\u003cbr\\u003eChange in nonzero entries=%{y}\\u003cextra\\u003e\\u003c\\u002fextra\\u003e\",\"legendgroup\":\"bcsstk13\",\"line\":{\"color\":\"#FF6692\",\"dash\":\"solid\"},\"marker\":{\"symbol\":\"diamond\"},\"mode\":\"lines+markers\",\"name\":\"bcsstk13\",\"orientation\":\"v\",\"showlegend\":true,\"x\":[0,1,1,1,1,1,1,1,1,1,1,1,1,1,1,1,2,2,2,2,2,2,2,3,3,3,3,3,3,3,3,3,3,3,3,3,3,3,3,3,3,3,4,5,5,5,5,5,5,5,5,5,5,5,5,5,5,5,6,7,7,7,7,7,8,8,8,8,8,8,8,8,8,8,8,8,8,8,8,9,9,9,10],\"xaxis\":\"x\",\"y\":[1.0,0.8932203187773446,0.8932203187773446,0.8932203187773446,0.8932203187773446,0.8932203187773446,0.8932203187773446,0.8932203187773446,0.8932203187773446,0.8932203187773446,0.8932203187773446,0.8932203187773446,0.8932203187773446,0.8932203187773446,0.8932203187773446,0.8932203187773446,0.8949012314771766,0.8949012314771766,0.8949012314771766,0.8949012314771766,0.8949012314771766,0.8949012314771766,0.8949012314771766,0.8948177819105182,0.8948177819105182,0.8948177819105182,0.8948177819105182,0.8948177819105182,0.8948177819105182,0.8948177819105182,0.8948177819105182,0.8948177819105182,0.8948177819105182,0.8948177819105182,0.8948177819105182,0.8948177819105182,0.8948177819105182,0.8948177819105182,0.8948177819105182,0.8948177819105182,0.8948177819105182,0.8948177819105182,0.8940667358105934,0.8933395324439993,0.8933395324439993,0.8933395324439993,0.8933395324439993,0.8933395324439993,0.8933395324439993,0.8933395324439993,0.8933395324439993,0.8933395324439993,0.8933395324439993,0.8933395324439993,0.8933395324439993,0.8933395324439993,0.8933395324439993,0.8933395324439993,0.8926361718107364,0.8975596962435773,0.8975596962435773,0.8975596962435773,0.8975596962435773,0.8975596962435773,0.8966179082770048,0.8966179082770048,0.8966179082770048,0.8966179082770048,0.8966179082770048,0.8966179082770048,0.8966179082770048,0.8966179082770048,0.8966179082770048,0.8966179082770048,0.8966179082770048,0.8966179082770048,0.8966179082770048,0.8966179082770048,0.8966179082770048,0.8956999630437633,0.8956999630437633,0.8956999630437633,0.8948058605438527],\"yaxis\":\"y\",\"type\":\"scatter\"}],                        {\"template\":{\"data\":{\"histogram2dcontour\":[{\"type\":\"histogram2dcontour\",\"colorbar\":{\"outlinewidth\":0,\"ticks\":\"\"},\"colorscale\":[[0.0,\"#0d0887\"],[0.1111111111111111,\"#46039f\"],[0.2222222222222222,\"#7201a8\"],[0.3333333333333333,\"#9c179e\"],[0.4444444444444444,\"#bd3786\"],[0.5555555555555556,\"#d8576b\"],[0.6666666666666666,\"#ed7953\"],[0.7777777777777778,\"#fb9f3a\"],[0.8888888888888888,\"#fdca26\"],[1.0,\"#f0f921\"]]}],\"choropleth\":[{\"type\":\"choropleth\",\"colorbar\":{\"outlinewidth\":0,\"ticks\":\"\"}}],\"histogram2d\":[{\"type\":\"histogram2d\",\"colorbar\":{\"outlinewidth\":0,\"ticks\":\"\"},\"colorscale\":[[0.0,\"#0d0887\"],[0.1111111111111111,\"#46039f\"],[0.2222222222222222,\"#7201a8\"],[0.3333333333333333,\"#9c179e\"],[0.4444444444444444,\"#bd3786\"],[0.5555555555555556,\"#d8576b\"],[0.6666666666666666,\"#ed7953\"],[0.7777777777777778,\"#fb9f3a\"],[0.8888888888888888,\"#fdca26\"],[1.0,\"#f0f921\"]]}],\"heatmap\":[{\"type\":\"heatmap\",\"colorbar\":{\"outlinewidth\":0,\"ticks\":\"\"},\"colorscale\":[[0.0,\"#0d0887\"],[0.1111111111111111,\"#46039f\"],[0.2222222222222222,\"#7201a8\"],[0.3333333333333333,\"#9c179e\"],[0.4444444444444444,\"#bd3786\"],[0.5555555555555556,\"#d8576b\"],[0.6666666666666666,\"#ed7953\"],[0.7777777777777778,\"#fb9f3a\"],[0.8888888888888888,\"#fdca26\"],[1.0,\"#f0f921\"]]}],\"heatmapgl\":[{\"type\":\"heatmapgl\",\"colorbar\":{\"outlinewidth\":0,\"ticks\":\"\"},\"colorscale\":[[0.0,\"#0d0887\"],[0.1111111111111111,\"#46039f\"],[0.2222222222222222,\"#7201a8\"],[0.3333333333333333,\"#9c179e\"],[0.4444444444444444,\"#bd3786\"],[0.5555555555555556,\"#d8576b\"],[0.6666666666666666,\"#ed7953\"],[0.7777777777777778,\"#fb9f3a\"],[0.8888888888888888,\"#fdca26\"],[1.0,\"#f0f921\"]]}],\"contourcarpet\":[{\"type\":\"contourcarpet\",\"colorbar\":{\"outlinewidth\":0,\"ticks\":\"\"}}],\"contour\":[{\"type\":\"contour\",\"colorbar\":{\"outlinewidth\":0,\"ticks\":\"\"},\"colorscale\":[[0.0,\"#0d0887\"],[0.1111111111111111,\"#46039f\"],[0.2222222222222222,\"#7201a8\"],[0.3333333333333333,\"#9c179e\"],[0.4444444444444444,\"#bd3786\"],[0.5555555555555556,\"#d8576b\"],[0.6666666666666666,\"#ed7953\"],[0.7777777777777778,\"#fb9f3a\"],[0.8888888888888888,\"#fdca26\"],[1.0,\"#f0f921\"]]}],\"surface\":[{\"type\":\"surface\",\"colorbar\":{\"outlinewidth\":0,\"ticks\":\"\"},\"colorscale\":[[0.0,\"#0d0887\"],[0.1111111111111111,\"#46039f\"],[0.2222222222222222,\"#7201a8\"],[0.3333333333333333,\"#9c179e\"],[0.4444444444444444,\"#bd3786\"],[0.5555555555555556,\"#d8576b\"],[0.6666666666666666,\"#ed7953\"],[0.7777777777777778,\"#fb9f3a\"],[0.8888888888888888,\"#fdca26\"],[1.0,\"#f0f921\"]]}],\"mesh3d\":[{\"type\":\"mesh3d\",\"colorbar\":{\"outlinewidth\":0,\"ticks\":\"\"}}],\"scatter\":[{\"marker\":{\"line\":{\"color\":\"#283442\"}},\"type\":\"scatter\"}],\"parcoords\":[{\"type\":\"parcoords\",\"line\":{\"colorbar\":{\"outlinewidth\":0,\"ticks\":\"\"}}}],\"scatterpolargl\":[{\"type\":\"scatterpolargl\",\"marker\":{\"colorbar\":{\"outlinewidth\":0,\"ticks\":\"\"}}}],\"bar\":[{\"error_x\":{\"color\":\"#f2f5fa\"},\"error_y\":{\"color\":\"#f2f5fa\"},\"marker\":{\"line\":{\"color\":\"rgb(17,17,17)\",\"width\":0.5},\"pattern\":{\"fillmode\":\"overlay\",\"size\":10,\"solidity\":0.2}},\"type\":\"bar\"}],\"scattergeo\":[{\"type\":\"scattergeo\",\"marker\":{\"colorbar\":{\"outlinewidth\":0,\"ticks\":\"\"}}}],\"scatterpolar\":[{\"type\":\"scatterpolar\",\"marker\":{\"colorbar\":{\"outlinewidth\":0,\"ticks\":\"\"}}}],\"histogram\":[{\"marker\":{\"pattern\":{\"fillmode\":\"overlay\",\"size\":10,\"solidity\":0.2}},\"type\":\"histogram\"}],\"scattergl\":[{\"marker\":{\"line\":{\"color\":\"#283442\"}},\"type\":\"scattergl\"}],\"scatter3d\":[{\"type\":\"scatter3d\",\"line\":{\"colorbar\":{\"outlinewidth\":0,\"ticks\":\"\"}},\"marker\":{\"colorbar\":{\"outlinewidth\":0,\"ticks\":\"\"}}}],\"scattermapbox\":[{\"type\":\"scattermapbox\",\"marker\":{\"colorbar\":{\"outlinewidth\":0,\"ticks\":\"\"}}}],\"scatterternary\":[{\"type\":\"scatterternary\",\"marker\":{\"colorbar\":{\"outlinewidth\":0,\"ticks\":\"\"}}}],\"scattercarpet\":[{\"type\":\"scattercarpet\",\"marker\":{\"colorbar\":{\"outlinewidth\":0,\"ticks\":\"\"}}}],\"carpet\":[{\"aaxis\":{\"endlinecolor\":\"#A2B1C6\",\"gridcolor\":\"#506784\",\"linecolor\":\"#506784\",\"minorgridcolor\":\"#506784\",\"startlinecolor\":\"#A2B1C6\"},\"baxis\":{\"endlinecolor\":\"#A2B1C6\",\"gridcolor\":\"#506784\",\"linecolor\":\"#506784\",\"minorgridcolor\":\"#506784\",\"startlinecolor\":\"#A2B1C6\"},\"type\":\"carpet\"}],\"table\":[{\"cells\":{\"fill\":{\"color\":\"#506784\"},\"line\":{\"color\":\"rgb(17,17,17)\"}},\"header\":{\"fill\":{\"color\":\"#2a3f5f\"},\"line\":{\"color\":\"rgb(17,17,17)\"}},\"type\":\"table\"}],\"barpolar\":[{\"marker\":{\"line\":{\"color\":\"rgb(17,17,17)\",\"width\":0.5},\"pattern\":{\"fillmode\":\"overlay\",\"size\":10,\"solidity\":0.2}},\"type\":\"barpolar\"}],\"pie\":[{\"automargin\":true,\"type\":\"pie\"}]},\"layout\":{\"autotypenumbers\":\"strict\",\"colorway\":[\"#636efa\",\"#EF553B\",\"#00cc96\",\"#ab63fa\",\"#FFA15A\",\"#19d3f3\",\"#FF6692\",\"#B6E880\",\"#FF97FF\",\"#FECB52\"],\"font\":{\"color\":\"#f2f5fa\"},\"hovermode\":\"closest\",\"hoverlabel\":{\"align\":\"left\"},\"paper_bgcolor\":\"rgb(17,17,17)\",\"plot_bgcolor\":\"rgb(17,17,17)\",\"polar\":{\"bgcolor\":\"rgb(17,17,17)\",\"angularaxis\":{\"gridcolor\":\"#506784\",\"linecolor\":\"#506784\",\"ticks\":\"\"},\"radialaxis\":{\"gridcolor\":\"#506784\",\"linecolor\":\"#506784\",\"ticks\":\"\"}},\"ternary\":{\"bgcolor\":\"rgb(17,17,17)\",\"aaxis\":{\"gridcolor\":\"#506784\",\"linecolor\":\"#506784\",\"ticks\":\"\"},\"baxis\":{\"gridcolor\":\"#506784\",\"linecolor\":\"#506784\",\"ticks\":\"\"},\"caxis\":{\"gridcolor\":\"#506784\",\"linecolor\":\"#506784\",\"ticks\":\"\"}},\"coloraxis\":{\"colorbar\":{\"outlinewidth\":0,\"ticks\":\"\"}},\"colorscale\":{\"sequential\":[[0.0,\"#0d0887\"],[0.1111111111111111,\"#46039f\"],[0.2222222222222222,\"#7201a8\"],[0.3333333333333333,\"#9c179e\"],[0.4444444444444444,\"#bd3786\"],[0.5555555555555556,\"#d8576b\"],[0.6666666666666666,\"#ed7953\"],[0.7777777777777778,\"#fb9f3a\"],[0.8888888888888888,\"#fdca26\"],[1.0,\"#f0f921\"]],\"sequentialminus\":[[0.0,\"#0d0887\"],[0.1111111111111111,\"#46039f\"],[0.2222222222222222,\"#7201a8\"],[0.3333333333333333,\"#9c179e\"],[0.4444444444444444,\"#bd3786\"],[0.5555555555555556,\"#d8576b\"],[0.6666666666666666,\"#ed7953\"],[0.7777777777777778,\"#fb9f3a\"],[0.8888888888888888,\"#fdca26\"],[1.0,\"#f0f921\"]],\"diverging\":[[0,\"#8e0152\"],[0.1,\"#c51b7d\"],[0.2,\"#de77ae\"],[0.3,\"#f1b6da\"],[0.4,\"#fde0ef\"],[0.5,\"#f7f7f7\"],[0.6,\"#e6f5d0\"],[0.7,\"#b8e186\"],[0.8,\"#7fbc41\"],[0.9,\"#4d9221\"],[1,\"#276419\"]]},\"xaxis\":{\"gridcolor\":\"#283442\",\"linecolor\":\"#506784\",\"ticks\":\"\",\"title\":{\"standoff\":15},\"zerolinecolor\":\"#283442\",\"automargin\":true,\"zerolinewidth\":2},\"yaxis\":{\"gridcolor\":\"#283442\",\"linecolor\":\"#506784\",\"ticks\":\"\",\"title\":{\"standoff\":15},\"zerolinecolor\":\"#283442\",\"automargin\":true,\"zerolinewidth\":2},\"scene\":{\"xaxis\":{\"backgroundcolor\":\"rgb(17,17,17)\",\"gridcolor\":\"#506784\",\"linecolor\":\"#506784\",\"showbackground\":true,\"ticks\":\"\",\"zerolinecolor\":\"#C8D4E3\",\"gridwidth\":2},\"yaxis\":{\"backgroundcolor\":\"rgb(17,17,17)\",\"gridcolor\":\"#506784\",\"linecolor\":\"#506784\",\"showbackground\":true,\"ticks\":\"\",\"zerolinecolor\":\"#C8D4E3\",\"gridwidth\":2},\"zaxis\":{\"backgroundcolor\":\"rgb(17,17,17)\",\"gridcolor\":\"#506784\",\"linecolor\":\"#506784\",\"showbackground\":true,\"ticks\":\"\",\"zerolinecolor\":\"#C8D4E3\",\"gridwidth\":2}},\"shapedefaults\":{\"line\":{\"color\":\"#f2f5fa\"}},\"annotationdefaults\":{\"arrowcolor\":\"#f2f5fa\",\"arrowhead\":0,\"arrowwidth\":1},\"geo\":{\"bgcolor\":\"rgb(17,17,17)\",\"landcolor\":\"rgb(17,17,17)\",\"subunitcolor\":\"#506784\",\"showland\":true,\"showlakes\":true,\"lakecolor\":\"rgb(17,17,17)\"},\"title\":{\"x\":0.05},\"updatemenudefaults\":{\"bgcolor\":\"#506784\",\"borderwidth\":0},\"sliderdefaults\":{\"bgcolor\":\"#C8D4E3\",\"borderwidth\":1,\"bordercolor\":\"rgb(17,17,17)\",\"tickwidth\":0},\"mapbox\":{\"style\":\"dark\"}}},\"xaxis\":{\"anchor\":\"y\",\"domain\":[0.0,1.0],\"title\":{\"text\":\"Number of eliminated variables\"}},\"yaxis\":{\"anchor\":\"x\",\"domain\":[0.0,1.0],\"title\":{\"text\":\"Change in nonzero entries\"},\"type\":\"log\"},\"legend\":{\"title\":{\"text\":\"Matrix name\"},\"tracegroupgap\":0},\"margin\":{\"t\":60},\"title\":{\"text\":\"Effect of variable elimination on nonzero entry count\",\"x\":0.5,\"xanchor\":\"center\",\"yanchor\":\"top\"},\"font\":{\"color\":\"black\"},\"plot_bgcolor\":\"white\",\"paper_bgcolor\":\"white\"},                        {\"responsive\": true}                    ).then(function(){\n",
       "                            \n",
       "var gd = document.getElementById('9caba920-8032-4ba0-9871-7e3e38a174be');\n",
       "var x = new MutationObserver(function (mutations, observer) {{\n",
       "        var display = window.getComputedStyle(gd).display;\n",
       "        if (!display || display === 'none') {{\n",
       "            console.log([gd, 'removed!']);\n",
       "            Plotly.purge(gd);\n",
       "            observer.disconnect();\n",
       "        }}\n",
       "}});\n",
       "\n",
       "// Listen for the removal of the full notebook cells\n",
       "var notebookContainer = gd.closest('#notebook-container');\n",
       "if (notebookContainer) {{\n",
       "    x.observe(notebookContainer, {childList: true});\n",
       "}}\n",
       "\n",
       "// Listen for the clearing of the current output cell\n",
       "var outputEl = gd.closest('.output');\n",
       "if (outputEl) {{\n",
       "    x.observe(outputEl, {childList: true});\n",
       "}}\n",
       "\n",
       "                        })                };                });            </script>        </div>"
      ]
     },
     "metadata": {},
     "output_type": "display_data"
    }
   ],
   "execution_count": 82
  },
  {
   "metadata": {
    "ExecuteTime": {
     "end_time": "2024-06-17T09:49:01.466664Z",
     "start_time": "2024-06-17T09:49:01.148138Z"
    }
   },
   "cell_type": "code",
   "source": [
    "# check effect with AMD with rounding\n",
    "amd_partial_gauss_df = df3[(df3['amd'] == True) & (df3['rcm'] == False) & (df3['padding'] == 0)]\n",
    "amd_partial_gauss_df = get_percentage_change_per_matrix(data_frame=amd_partial_gauss_df, result_column=\"z_percentage\", variable=\"z\", baseline_col=\"partial_gauss\")\n",
    "amd_partial_gauss_df.sort_values(by=\"partial_gauss\", inplace=True)\n",
    "fig = px.line(amd_partial_gauss_df, x=\"partial_gauss\", y=\"z_percentage\", color=\"matrix_name\", symbol=\"matrix_name\", log_y=True,\n",
    "                 labels={\n",
    "                     \"partial_gauss\": \"Number of eliminated variables\",\n",
    "                     \"z_percentage\": \"Change in nonzero entries\",\n",
    "                     \"matrix_name\": \"Matrix name\",\n",
    "                 })\n",
    "fig.update_layout(\n",
    "    title={\n",
    "        'text': \"Effect of variable elimination on nonzero entry count (with AMD)\",\n",
    "        'x':0.5,\n",
    "        'xanchor': 'center',\n",
    "        'yanchor': 'top'\n",
    "    },\n",
    "    plot_bgcolor='white',   # Plot area background color\n",
    "    paper_bgcolor='white',  # Entire figure background color\n",
    "    font=dict(color='black'), # Font color\n",
    ")\n",
    "fig.show()\n",
    "\n",
    "fig.write_image(\"plots/partial_gauss_nonzero_entries.pdf\")"
   ],
   "id": "42f49cde39b1b329",
   "outputs": [
    {
     "name": "stderr",
     "output_type": "stream",
     "text": [
      "C:\\Users\\bakos\\AppData\\Local\\Temp\\ipykernel_19476\\3543197841.py:13: SettingWithCopyWarning:\n",
      "\n",
      "\n",
      "A value is trying to be set on a copy of a slice from a DataFrame.\n",
      "Try using .loc[row_indexer,col_indexer] = value instead\n",
      "\n",
      "See the caveats in the documentation: https://pandas.pydata.org/pandas-docs/stable/user_guide/indexing.html#returning-a-view-versus-a-copy\n",
      "\n",
      "C:\\Users\\bakos\\AppData\\Local\\Temp\\ipykernel_19476\\934074227.py:4: SettingWithCopyWarning:\n",
      "\n",
      "\n",
      "A value is trying to be set on a copy of a slice from a DataFrame\n",
      "\n",
      "See the caveats in the documentation: https://pandas.pydata.org/pandas-docs/stable/user_guide/indexing.html#returning-a-view-versus-a-copy\n",
      "\n"
     ]
    },
    {
     "data": {
      "application/vnd.plotly.v1+json": {
       "data": [
        {
         "hovertemplate": "Matrix name=ex10hs<br>Number of eliminated variables=%{x}<br>Change in nonzero entries=%{y}<extra></extra>",
         "legendgroup": "ex10hs",
         "line": {
          "color": "#636efa",
          "dash": "solid"
         },
         "marker": {
          "symbol": "circle"
         },
         "mode": "lines+markers",
         "name": "ex10hs",
         "orientation": "v",
         "showlegend": true,
         "x": [
          0,
          0,
          0,
          0,
          0,
          0,
          0,
          0,
          0,
          0,
          0,
          0,
          0,
          0,
          0,
          0,
          0,
          1,
          1,
          1,
          1,
          1,
          2,
          2,
          2,
          2,
          2,
          2,
          2,
          3,
          3,
          3,
          4,
          4,
          4,
          4,
          4,
          4,
          4,
          4,
          4,
          4,
          4,
          4,
          4,
          4,
          4,
          4,
          4,
          4,
          4,
          5,
          6,
          6,
          6,
          6,
          6,
          6,
          6,
          7,
          7,
          7,
          7,
          7,
          7,
          7,
          7,
          7,
          7,
          7,
          8,
          8,
          8,
          8,
          8,
          8,
          8,
          8,
          8,
          8,
          8,
          9,
          10,
          10,
          10,
          10,
          10,
          10,
          10,
          10,
          10,
          10,
          10,
          10,
          10,
          10,
          10
         ],
         "xaxis": "x",
         "y": [
          1.0,
          1.0,
          1.0,
          1.0,
          1.0,
          1.0,
          1.0,
          1.0,
          1.0,
          1.0,
          1.0,
          1.0,
          1.0,
          1.0,
          1.0,
          1.0,
          1.0,
          0.8971696796258812,
          0.8971696796258812,
          0.8971696796258812,
          0.8971696796258812,
          0.8971696796258812,
          0.8999092622321491,
          0.8999092622321491,
          0.8999092622321491,
          0.8999092622321491,
          0.8999092622321491,
          0.8999092622321491,
          0.8999092622321491,
          0.9021602568576813,
          0.9021602568576813,
          0.9021602568576813,
          0.9029105883995254,
          0.9029105883995254,
          0.9029105883995254,
          0.9029105883995254,
          0.9029105883995254,
          0.9029105883995254,
          0.9029105883995254,
          0.9029105883995254,
          0.9029105883995254,
          0.9029105883995254,
          0.9029105883995254,
          0.9029105883995254,
          0.9029105883995254,
          0.9029105883995254,
          0.9029105883995254,
          0.9029105883995254,
          0.9029105883995254,
          0.9029105883995254,
          0.9029105883995254,
          0.9060340615620855,
          0.9067843931039297,
          0.9067843931039297,
          0.9067843931039297,
          0.9067843931039297,
          0.9067843931039297,
          0.9067843931039297,
          0.9067843931039297,
          0.9063132546939345,
          0.9063132546939345,
          0.9063132546939345,
          0.9063132546939345,
          0.9063132546939345,
          0.9063132546939345,
          0.9063132546939345,
          0.9063132546939345,
          0.9063132546939345,
          0.9063132546939345,
          0.9063132546939345,
          0.9268165003140922,
          0.9268165003140922,
          0.9268165003140922,
          0.9268165003140922,
          0.9268165003140922,
          0.9268165003140922,
          0.9268165003140922,
          0.9268165003140922,
          0.9268165003140922,
          0.9268165003140922,
          0.9268165003140922,
          0.9250191945278147,
          0.9232916870244992,
          0.9232916870244992,
          0.9232916870244992,
          0.9232916870244992,
          0.9232916870244992,
          0.9232916870244992,
          0.9232916870244992,
          0.9232916870244992,
          0.9232916870244992,
          0.9232916870244992,
          0.9232916870244992,
          0.9232916870244992,
          0.9232916870244992,
          0.9232916870244992,
          0.9232916870244992
         ],
         "yaxis": "y",
         "type": "scatter"
        },
        {
         "hovertemplate": "Matrix name=ex15<br>Number of eliminated variables=%{x}<br>Change in nonzero entries=%{y}<extra></extra>",
         "legendgroup": "ex15",
         "line": {
          "color": "#EF553B",
          "dash": "solid"
         },
         "marker": {
          "symbol": "diamond"
         },
         "mode": "lines+markers",
         "name": "ex15",
         "orientation": "v",
         "showlegend": true,
         "x": [
          0,
          0,
          0,
          0,
          0,
          0,
          0,
          0,
          0,
          0,
          0,
          1,
          1,
          1,
          2,
          2,
          2,
          3,
          3,
          3,
          3,
          3,
          3,
          3,
          3,
          3,
          3,
          3,
          3,
          3,
          3,
          3,
          3,
          3,
          3,
          3,
          3,
          3,
          3,
          3,
          3,
          3,
          3,
          3,
          3,
          3,
          3,
          3,
          3,
          3,
          3,
          3,
          3,
          3,
          3,
          3,
          4,
          5,
          5,
          5,
          5,
          5,
          5,
          5,
          6,
          6,
          6,
          7,
          7,
          7,
          7,
          7,
          7,
          7,
          7,
          7,
          7,
          7,
          7,
          7,
          7,
          7,
          7,
          7,
          7,
          7,
          7,
          7,
          7,
          7,
          8,
          8,
          8,
          9,
          9,
          9,
          9,
          9,
          9,
          9,
          9,
          9,
          9,
          9,
          9,
          9,
          9,
          9,
          10
         ],
         "xaxis": "x",
         "y": [
          1.0,
          1.0,
          1.0,
          1.0,
          1.0,
          1.0,
          1.0,
          1.0,
          1.0,
          1.0,
          1.0,
          0.9994223226682611,
          0.9994223226682611,
          0.9994223226682611,
          0.9995743430187187,
          0.9995743430187187,
          0.9995743430187187,
          1.0004965998114947,
          1.0004965998114947,
          1.0004965998114947,
          1.0004965998114947,
          1.0004965998114947,
          1.0004965998114947,
          1.0004965998114947,
          1.0004965998114947,
          1.0004965998114947,
          1.0004965998114947,
          1.0004965998114947,
          1.0004965998114947,
          1.0004965998114947,
          1.0004965998114947,
          1.0004965998114947,
          1.0004965998114947,
          1.0004965998114947,
          1.0004965998114947,
          1.0004965998114947,
          1.0004965998114947,
          1.0004965998114947,
          1.0004965998114947,
          1.0004965998114947,
          1.0004965998114947,
          1.0004965998114947,
          1.0004965998114947,
          1.0004965998114947,
          1.0004965998114947,
          1.0004965998114947,
          1.0004965998114947,
          1.0004965998114947,
          1.0004965998114947,
          1.0004965998114947,
          1.0004965998114947,
          1.0004965998114947,
          1.0004965998114947,
          1.0004965998114947,
          1.0004965998114947,
          1.0004965998114947,
          1.0006486201619524,
          1.0015506075746674,
          1.0015506075746674,
          1.0015506075746674,
          1.0015506075746674,
          1.0015506075746674,
          1.0015506075746674,
          1.0015506075746674,
          1.0023917868471992,
          1.0023917868471992,
          1.0023917868471992,
          1.0031316192194262,
          1.0031316192194262,
          1.0031316192194262,
          1.0031316192194262,
          1.0031316192194262,
          1.0031316192194262,
          1.0031316192194262,
          1.0031316192194262,
          1.0031316192194262,
          1.0031316192194262,
          1.0031316192194262,
          1.0031316192194262,
          1.0031316192194262,
          1.0031316192194262,
          1.0031316192194262,
          1.0031316192194262,
          1.0031316192194262,
          1.0031316192194262,
          1.0031316192194262,
          1.0031316192194262,
          1.0031316192194262,
          1.0031316192194262,
          1.0031316192194262,
          1.0032633701898228,
          1.0032633701898228,
          1.0032633701898228,
          1.0045099370635748,
          1.0045099370635748,
          1.0045099370635748,
          1.0045099370635748,
          1.0045099370635748,
          1.0045099370635748,
          1.0045099370635748,
          1.0045099370635748,
          1.0045099370635748,
          1.0045099370635748,
          1.0045099370635748,
          1.0045099370635748,
          1.0045099370635748,
          1.0045099370635748,
          1.0045099370635748,
          1.005371385716168
         ],
         "yaxis": "y",
         "type": "scatter"
        },
        {
         "hovertemplate": "Matrix name=ex10<br>Number of eliminated variables=%{x}<br>Change in nonzero entries=%{y}<extra></extra>",
         "legendgroup": "ex10",
         "line": {
          "color": "#00cc96",
          "dash": "solid"
         },
         "marker": {
          "symbol": "square"
         },
         "mode": "lines+markers",
         "name": "ex10",
         "orientation": "v",
         "showlegend": true,
         "x": [
          0,
          0,
          0,
          0,
          0,
          0,
          0,
          1,
          1,
          1,
          1,
          1,
          1,
          1,
          2,
          2,
          2,
          2,
          2,
          2,
          2,
          2,
          2,
          2,
          2,
          2,
          2,
          2,
          2,
          3,
          3,
          3,
          4,
          4,
          4,
          4,
          4,
          4,
          4,
          5,
          5,
          5,
          5,
          5,
          5,
          5,
          6,
          6,
          6,
          6,
          6,
          7,
          7,
          7,
          7,
          7,
          7,
          7,
          8,
          8,
          8,
          9,
          9,
          9,
          9,
          10,
          10,
          10,
          10,
          10,
          10,
          10,
          10,
          10,
          10,
          10,
          10,
          10,
          10,
          10,
          10,
          10,
          10,
          10,
          10,
          10,
          10,
          10,
          10,
          10,
          10,
          10,
          10,
          10,
          10,
          10,
          10,
          10,
          10,
          10
         ],
         "xaxis": "x",
         "y": [
          1.0,
          1.0,
          1.0,
          1.0,
          1.0,
          1.0,
          1.0,
          0.8896608315098469,
          0.8896608315098469,
          0.8896608315098469,
          0.8896608315098469,
          0.8896608315098469,
          0.8896608315098469,
          0.8896608315098469,
          0.8914660831509846,
          0.8914660831509846,
          0.8914660831509846,
          0.8914660831509846,
          0.8914660831509846,
          0.8914660831509846,
          0.8914660831509846,
          0.8914660831509846,
          0.8914660831509846,
          0.8914660831509846,
          0.8914660831509846,
          0.8914660831509846,
          0.8914660831509846,
          0.8914660831509846,
          0.8914660831509846,
          0.8922501823486506,
          0.8922501823486506,
          0.8922501823486506,
          0.8939460247994165,
          0.8939460247994165,
          0.8939460247994165,
          0.8939460247994165,
          0.8939460247994165,
          0.8939460247994165,
          0.8939460247994165,
          0.8956783369803063,
          0.8956783369803063,
          0.8956783369803063,
          0.8956783369803063,
          0.8956783369803063,
          0.8956783369803063,
          0.8956783369803063,
          0.9009117432531,
          0.9009117432531,
          0.9009117432531,
          0.9009117432531,
          0.9009117432531,
          0.9105944566010211,
          0.9105944566010211,
          0.9105944566010211,
          0.9105944566010211,
          0.9105944566010211,
          0.9105944566010211,
          0.9105944566010211,
          0.925382932166302,
          0.925382932166302,
          0.925382932166302,
          0.9235412107950401,
          0.9235412107950401,
          0.9235412107950401,
          0.9235412107950401,
          0.9217724288840262,
          0.9217724288840262,
          0.9217724288840262,
          0.9217724288840262,
          0.9217724288840262,
          0.9217724288840262,
          0.9217724288840262,
          0.9217724288840262,
          0.9217724288840262,
          0.9217724288840262,
          0.9217724288840262,
          0.9217724288840262,
          0.9217724288840262,
          0.9217724288840262,
          0.9217724288840262,
          0.9217724288840262,
          0.9217724288840262,
          0.9217724288840262,
          0.9217724288840262,
          0.9217724288840262,
          0.9217724288840262,
          0.9217724288840262,
          0.9217724288840262,
          0.9217724288840262,
          0.9217724288840262,
          0.9217724288840262,
          0.9217724288840262,
          0.9217724288840262,
          0.9217724288840262,
          0.9217724288840262,
          0.9217724288840262,
          0.9217724288840262,
          0.9217724288840262,
          0.9217724288840262,
          0.9217724288840262
         ],
         "yaxis": "y",
         "type": "scatter"
        },
        {
         "hovertemplate": "Matrix name=ex13<br>Number of eliminated variables=%{x}<br>Change in nonzero entries=%{y}<extra></extra>",
         "legendgroup": "ex13",
         "line": {
          "color": "#ab63fa",
          "dash": "solid"
         },
         "marker": {
          "symbol": "x"
         },
         "mode": "lines+markers",
         "name": "ex13",
         "orientation": "v",
         "showlegend": true,
         "x": [
          0,
          0,
          0,
          0,
          0,
          0,
          0,
          0,
          0,
          0,
          0,
          0,
          0,
          0,
          0,
          1,
          1,
          1,
          2,
          2,
          2,
          3,
          3,
          3,
          3,
          3,
          3,
          3,
          3,
          3,
          3,
          3,
          3,
          3,
          3,
          3,
          4,
          4,
          4,
          4,
          4,
          5,
          5,
          5,
          6,
          6,
          6,
          6,
          6,
          6,
          6,
          6,
          6,
          6,
          6,
          6,
          6,
          6,
          6,
          7,
          7,
          7,
          8,
          8,
          8,
          8,
          8,
          8,
          8,
          8,
          8,
          8,
          8,
          8,
          8,
          8,
          8,
          8,
          8,
          8,
          8,
          9,
          9,
          9,
          10,
          10,
          10
         ],
         "xaxis": "x",
         "y": [
          1.0,
          1.0,
          1.0,
          1.0,
          1.0,
          1.0,
          1.0,
          1.0,
          1.0,
          1.0,
          1.0,
          1.0,
          1.0,
          1.0,
          1.0,
          1.0021817316337864,
          1.0021817316337864,
          1.0021817316337864,
          1.001428042523933,
          1.001428042523933,
          1.001428042523933,
          1.0069418733802296,
          1.0069418733802296,
          1.0069418733802296,
          1.0069418733802296,
          1.0069418733802296,
          1.0069418733802296,
          1.0069418733802296,
          1.0069418733802296,
          1.0069418733802296,
          1.0069418733802296,
          1.0069418733802296,
          1.0069418733802296,
          1.0069418733802296,
          1.0069418733802296,
          1.0069418733802296,
          1.0059237319511292,
          1.0059237319511292,
          1.0059237319511292,
          1.0059237319511292,
          1.0059237319511292,
          1.0054609403924473,
          1.0054609403924473,
          1.0054609403924473,
          1.00502459406569,
          1.00502459406569,
          1.00502459406569,
          1.00502459406569,
          1.00502459406569,
          1.00502459406569,
          1.00502459406569,
          1.00502459406569,
          1.00502459406569,
          1.00502459406569,
          1.00502459406569,
          1.00502459406569,
          1.00502459406569,
          1.00502459406569,
          1.00502459406569,
          1.0070476543079283,
          1.0070476543079283,
          1.0070476543079283,
          1.0063468556619242,
          1.0063468556619242,
          1.0063468556619242,
          1.0063468556619242,
          1.0063468556619242,
          1.0063468556619242,
          1.0063468556619242,
          1.0063468556619242,
          1.0063468556619242,
          1.0063468556619242,
          1.0063468556619242,
          1.0063468556619242,
          1.0063468556619242,
          1.0063468556619242,
          1.0063468556619242,
          1.0063468556619242,
          1.0063468556619242,
          1.0063468556619242,
          1.0063468556619242,
          1.0169910615116096,
          1.0169910615116096,
          1.0169910615116096,
          1.015814248690961,
          1.015814248690961,
          1.015814248690961
         ],
         "yaxis": "y",
         "type": "scatter"
        },
        {
         "hovertemplate": "Matrix name=bcsstk13<br>Number of eliminated variables=%{x}<br>Change in nonzero entries=%{y}<extra></extra>",
         "legendgroup": "bcsstk13",
         "line": {
          "color": "#FFA15A",
          "dash": "solid"
         },
         "marker": {
          "symbol": "cross"
         },
         "mode": "lines+markers",
         "name": "bcsstk13",
         "orientation": "v",
         "showlegend": true,
         "x": [
          0,
          1,
          1,
          1,
          1,
          1,
          1,
          1,
          1,
          1,
          1,
          1,
          1,
          1,
          1,
          1,
          2,
          2,
          2,
          2,
          2,
          2,
          2,
          3,
          3,
          3,
          3,
          3,
          3,
          3,
          3,
          3,
          3,
          3,
          3,
          3,
          3,
          3,
          3,
          3,
          3,
          3,
          4,
          5,
          5,
          5,
          5,
          5,
          5,
          5,
          5,
          5,
          5,
          5,
          5,
          5,
          5,
          5,
          6,
          7,
          7,
          7,
          7,
          7,
          8,
          8,
          8,
          8,
          8,
          8,
          8,
          8,
          8,
          8,
          8,
          8,
          8,
          8,
          8,
          9,
          9,
          9,
          10
         ],
         "xaxis": "x",
         "y": [
          1.0,
          0.8998009131766865,
          0.8998009131766865,
          0.8998009131766865,
          0.8998009131766865,
          0.8998009131766865,
          0.8998009131766865,
          0.8998009131766865,
          0.8998009131766865,
          0.8998009131766865,
          0.8998009131766865,
          0.8998009131766865,
          0.8998009131766865,
          0.8998009131766865,
          0.8998009131766865,
          0.8998009131766865,
          0.9012910840098709,
          0.9012910840098709,
          0.9012910840098709,
          0.9012910840098709,
          0.9012910840098709,
          0.9012910840098709,
          0.9012910840098709,
          0.9009453643765721,
          0.9009453643765721,
          0.9009453643765721,
          0.9009453643765721,
          0.9009453643765721,
          0.9009453643765721,
          0.9009453643765721,
          0.9009453643765721,
          0.9009453643765721,
          0.9009453643765721,
          0.9009453643765721,
          0.9009453643765721,
          0.9009453643765721,
          0.9009453643765721,
          0.9009453643765721,
          0.9009453643765721,
          0.9009453643765721,
          0.9009453643765721,
          0.9009453643765721,
          0.9028647044097136,
          0.907120632309288,
          0.907120632309288,
          0.907120632309288,
          0.907120632309288,
          0.907120632309288,
          0.907120632309288,
          0.907120632309288,
          0.907120632309288,
          0.907120632309288,
          0.907120632309288,
          0.907120632309288,
          0.907120632309288,
          0.907120632309288,
          0.907120632309288,
          0.907120632309288,
          0.9089922868757674,
          0.9152986898418035,
          0.9152986898418035,
          0.9152986898418035,
          0.9152986898418035,
          0.9152986898418035,
          0.9160974214083902,
          0.9160974214083902,
          0.9160974214083902,
          0.9160974214083902,
          0.9160974214083902,
          0.9160974214083902,
          0.9160974214083902,
          0.9160974214083902,
          0.9160974214083902,
          0.9160974214083902,
          0.9160974214083902,
          0.9160974214083902,
          0.9160974214083902,
          0.9160974214083902,
          0.9160974214083902,
          0.9222846107077716,
          0.9222846107077716,
          0.9222846107077716,
          0.9322866373401046
         ],
         "yaxis": "y",
         "type": "scatter"
        },
        {
         "hovertemplate": "Matrix name=Pres_Poisson<br>Number of eliminated variables=%{x}<br>Change in nonzero entries=%{y}<extra></extra>",
         "legendgroup": "Pres_Poisson",
         "line": {
          "color": "#19d3f3",
          "dash": "solid"
         },
         "marker": {
          "symbol": "circle"
         },
         "mode": "lines+markers",
         "name": "Pres_Poisson",
         "orientation": "v",
         "showlegend": true,
         "x": [
          0,
          0,
          0,
          1,
          2,
          2,
          2,
          2,
          2,
          2,
          2,
          2,
          2,
          2,
          2,
          2,
          2,
          2,
          2,
          2,
          2,
          2,
          2,
          2,
          2,
          2,
          2,
          2,
          2,
          2,
          2,
          2,
          2,
          2,
          2,
          2,
          2,
          2,
          2,
          2,
          2,
          2,
          2,
          2,
          2,
          2,
          2,
          2,
          2,
          2,
          2,
          3,
          3,
          3,
          3,
          3,
          3,
          3,
          4,
          4,
          4,
          4,
          4,
          4,
          4,
          5,
          5,
          5,
          5,
          5,
          5,
          5,
          6,
          6,
          6,
          6,
          6,
          6,
          6,
          6,
          6,
          6,
          6,
          7,
          7,
          7,
          8,
          8,
          8,
          8,
          8,
          8,
          8,
          8,
          8,
          8,
          8,
          9,
          10,
          10,
          10,
          10,
          10,
          10,
          10,
          10,
          10,
          10,
          10,
          10,
          10,
          10,
          10,
          10,
          10
         ],
         "xaxis": "x",
         "y": [
          1.0,
          1.0,
          1.0,
          1.0013062234913468,
          1.002143044744092,
          1.002143044744092,
          1.002143044744092,
          1.002143044744092,
          1.002143044744092,
          1.002143044744092,
          1.002143044744092,
          1.002143044744092,
          1.002143044744092,
          1.002143044744092,
          1.002143044744092,
          1.002143044744092,
          1.002143044744092,
          1.002143044744092,
          1.002143044744092,
          1.002143044744092,
          1.002143044744092,
          1.002143044744092,
          1.002143044744092,
          1.002143044744092,
          1.002143044744092,
          1.002143044744092,
          1.002143044744092,
          1.002143044744092,
          1.002143044744092,
          1.002143044744092,
          1.002143044744092,
          1.002143044744092,
          1.002143044744092,
          1.002143044744092,
          1.002143044744092,
          1.002143044744092,
          1.002143044744092,
          1.002143044744092,
          1.002143044744092,
          1.002143044744092,
          1.002143044744092,
          1.002143044744092,
          1.002143044744092,
          1.002143044744092,
          1.002143044744092,
          1.002143044744092,
          1.002143044744092,
          1.002143044744092,
          1.002143044744092,
          1.002143044744092,
          1.002143044744092,
          1.0058856893786567,
          1.0058856893786567,
          1.0058856893786567,
          1.0058856893786567,
          1.0058856893786567,
          1.0058856893786567,
          1.0058856893786567,
          1.0072226475403883,
          1.0072226475403883,
          1.0072226475403883,
          1.0072226475403883,
          1.0072226475403883,
          1.0072226475403883,
          1.0072226475403883,
          1.0085596057021196,
          1.0085596057021196,
          1.0085596057021196,
          1.0085596057021196,
          1.0085596057021196,
          1.0085596057021196,
          1.0085596057021196,
          1.0093740744673123,
          1.0093740744673123,
          1.0093740744673123,
          1.0093740744673123,
          1.0093740744673123,
          1.0093740744673123,
          1.0093740744673123,
          1.0093740744673123,
          1.0093740744673123,
          1.0093740744673123,
          1.0093740744673123,
          1.009990164905477,
          1.009990164905477,
          1.009990164905477,
          1.0115255013942364,
          1.0115255013942364,
          1.0115255013942364,
          1.0115255013942364,
          1.0115255013942364,
          1.0115255013942364,
          1.0115255013942364,
          1.0115255013942364,
          1.0115255013942364,
          1.0115255013942364,
          1.0115255013942364,
          1.0127367268134853,
          1.0125090108465447,
          1.0125090108465447,
          1.0125090108465447,
          1.0125090108465447,
          1.0125090108465447,
          1.0125090108465447,
          1.0125090108465447,
          1.0125090108465447,
          1.0125090108465447,
          1.0125090108465447,
          1.0125090108465447,
          1.0125090108465447,
          1.0125090108465447,
          1.0125090108465447,
          1.0125090108465447,
          1.0125090108465447,
          1.0125090108465447
         ],
         "yaxis": "y",
         "type": "scatter"
        },
        {
         "hovertemplate": "Matrix name=ex3<br>Number of eliminated variables=%{x}<br>Change in nonzero entries=%{y}<extra></extra>",
         "legendgroup": "ex3",
         "line": {
          "color": "#FF6692",
          "dash": "solid"
         },
         "marker": {
          "symbol": "diamond"
         },
         "mode": "lines+markers",
         "name": "ex3",
         "orientation": "v",
         "showlegend": true,
         "x": [
          0,
          0,
          0,
          1,
          1,
          1,
          1,
          1,
          1,
          1,
          1,
          1,
          1,
          1,
          1,
          1,
          1,
          1,
          1,
          1,
          1,
          1,
          1,
          1,
          1,
          1,
          2,
          2,
          2,
          3,
          3,
          3,
          3,
          3,
          3,
          3,
          3,
          3,
          3,
          3,
          4,
          4,
          4,
          5,
          5,
          5,
          5,
          5,
          5,
          5,
          6,
          6,
          6,
          6,
          6,
          6,
          6,
          6,
          6,
          6,
          6,
          7,
          7,
          7,
          8,
          8,
          8,
          8,
          8,
          9,
          9,
          9,
          9,
          9,
          9,
          9,
          9,
          9,
          9,
          9,
          10
         ],
         "xaxis": "x",
         "y": [
          1.0,
          1.0,
          1.0,
          0.8866660339755148,
          0.8866660339755148,
          0.8866660339755148,
          0.8866660339755148,
          0.8866660339755148,
          0.8866660339755148,
          0.8866660339755148,
          0.8866660339755148,
          0.8866660339755148,
          0.8866660339755148,
          0.8866660339755148,
          0.8866660339755148,
          0.8866660339755148,
          0.8866660339755148,
          0.8866660339755148,
          0.8866660339755148,
          0.8866660339755148,
          0.8866660339755148,
          0.8866660339755148,
          0.8866660339755148,
          0.8866660339755148,
          0.8866660339755148,
          0.8866660339755148,
          0.9102970484957768,
          0.9102970484957768,
          0.9102970484957768,
          0.9084559172439973,
          0.9084559172439973,
          0.9084559172439973,
          0.9084559172439973,
          0.9084559172439973,
          0.9084559172439973,
          0.9084559172439973,
          0.9084559172439973,
          0.9084559172439973,
          0.9084559172439973,
          0.9084559172439973,
          0.9396033026478124,
          0.9396033026478124,
          0.9396033026478124,
          0.9370788649520736,
          0.9370788649520736,
          0.9370788649520736,
          0.9370788649520736,
          0.9370788649520736,
          0.9370788649520736,
          0.9370788649520736,
          0.9345923887254437,
          0.9345923887254437,
          0.9345923887254437,
          0.9345923887254437,
          0.9345923887254437,
          0.9345923887254437,
          0.9345923887254437,
          0.9345923887254437,
          0.9345923887254437,
          0.9345923887254437,
          0.9345923887254437,
          0.9321438739679225,
          0.9321438739679225,
          0.9321438739679225,
          0.9297333206795103,
          0.9297333206795103,
          0.9297333206795103,
          0.9297333206795103,
          0.9297333206795103,
          0.9273607288602069,
          0.9273607288602069,
          0.9273607288602069,
          0.9273607288602069,
          0.9273607288602069,
          0.9273607288602069,
          0.9273607288602069,
          0.9273607288602069,
          0.9273607288602069,
          0.9273607288602069,
          0.9273607288602069,
          0.9328841226155452
         ],
         "yaxis": "y",
         "type": "scatter"
        }
       ],
       "layout": {
        "template": {
         "data": {
          "histogram2dcontour": [
           {
            "type": "histogram2dcontour",
            "colorbar": {
             "outlinewidth": 0,
             "ticks": ""
            },
            "colorscale": [
             [
              0.0,
              "#0d0887"
             ],
             [
              0.1111111111111111,
              "#46039f"
             ],
             [
              0.2222222222222222,
              "#7201a8"
             ],
             [
              0.3333333333333333,
              "#9c179e"
             ],
             [
              0.4444444444444444,
              "#bd3786"
             ],
             [
              0.5555555555555556,
              "#d8576b"
             ],
             [
              0.6666666666666666,
              "#ed7953"
             ],
             [
              0.7777777777777778,
              "#fb9f3a"
             ],
             [
              0.8888888888888888,
              "#fdca26"
             ],
             [
              1.0,
              "#f0f921"
             ]
            ]
           }
          ],
          "choropleth": [
           {
            "type": "choropleth",
            "colorbar": {
             "outlinewidth": 0,
             "ticks": ""
            }
           }
          ],
          "histogram2d": [
           {
            "type": "histogram2d",
            "colorbar": {
             "outlinewidth": 0,
             "ticks": ""
            },
            "colorscale": [
             [
              0.0,
              "#0d0887"
             ],
             [
              0.1111111111111111,
              "#46039f"
             ],
             [
              0.2222222222222222,
              "#7201a8"
             ],
             [
              0.3333333333333333,
              "#9c179e"
             ],
             [
              0.4444444444444444,
              "#bd3786"
             ],
             [
              0.5555555555555556,
              "#d8576b"
             ],
             [
              0.6666666666666666,
              "#ed7953"
             ],
             [
              0.7777777777777778,
              "#fb9f3a"
             ],
             [
              0.8888888888888888,
              "#fdca26"
             ],
             [
              1.0,
              "#f0f921"
             ]
            ]
           }
          ],
          "heatmap": [
           {
            "type": "heatmap",
            "colorbar": {
             "outlinewidth": 0,
             "ticks": ""
            },
            "colorscale": [
             [
              0.0,
              "#0d0887"
             ],
             [
              0.1111111111111111,
              "#46039f"
             ],
             [
              0.2222222222222222,
              "#7201a8"
             ],
             [
              0.3333333333333333,
              "#9c179e"
             ],
             [
              0.4444444444444444,
              "#bd3786"
             ],
             [
              0.5555555555555556,
              "#d8576b"
             ],
             [
              0.6666666666666666,
              "#ed7953"
             ],
             [
              0.7777777777777778,
              "#fb9f3a"
             ],
             [
              0.8888888888888888,
              "#fdca26"
             ],
             [
              1.0,
              "#f0f921"
             ]
            ]
           }
          ],
          "heatmapgl": [
           {
            "type": "heatmapgl",
            "colorbar": {
             "outlinewidth": 0,
             "ticks": ""
            },
            "colorscale": [
             [
              0.0,
              "#0d0887"
             ],
             [
              0.1111111111111111,
              "#46039f"
             ],
             [
              0.2222222222222222,
              "#7201a8"
             ],
             [
              0.3333333333333333,
              "#9c179e"
             ],
             [
              0.4444444444444444,
              "#bd3786"
             ],
             [
              0.5555555555555556,
              "#d8576b"
             ],
             [
              0.6666666666666666,
              "#ed7953"
             ],
             [
              0.7777777777777778,
              "#fb9f3a"
             ],
             [
              0.8888888888888888,
              "#fdca26"
             ],
             [
              1.0,
              "#f0f921"
             ]
            ]
           }
          ],
          "contourcarpet": [
           {
            "type": "contourcarpet",
            "colorbar": {
             "outlinewidth": 0,
             "ticks": ""
            }
           }
          ],
          "contour": [
           {
            "type": "contour",
            "colorbar": {
             "outlinewidth": 0,
             "ticks": ""
            },
            "colorscale": [
             [
              0.0,
              "#0d0887"
             ],
             [
              0.1111111111111111,
              "#46039f"
             ],
             [
              0.2222222222222222,
              "#7201a8"
             ],
             [
              0.3333333333333333,
              "#9c179e"
             ],
             [
              0.4444444444444444,
              "#bd3786"
             ],
             [
              0.5555555555555556,
              "#d8576b"
             ],
             [
              0.6666666666666666,
              "#ed7953"
             ],
             [
              0.7777777777777778,
              "#fb9f3a"
             ],
             [
              0.8888888888888888,
              "#fdca26"
             ],
             [
              1.0,
              "#f0f921"
             ]
            ]
           }
          ],
          "surface": [
           {
            "type": "surface",
            "colorbar": {
             "outlinewidth": 0,
             "ticks": ""
            },
            "colorscale": [
             [
              0.0,
              "#0d0887"
             ],
             [
              0.1111111111111111,
              "#46039f"
             ],
             [
              0.2222222222222222,
              "#7201a8"
             ],
             [
              0.3333333333333333,
              "#9c179e"
             ],
             [
              0.4444444444444444,
              "#bd3786"
             ],
             [
              0.5555555555555556,
              "#d8576b"
             ],
             [
              0.6666666666666666,
              "#ed7953"
             ],
             [
              0.7777777777777778,
              "#fb9f3a"
             ],
             [
              0.8888888888888888,
              "#fdca26"
             ],
             [
              1.0,
              "#f0f921"
             ]
            ]
           }
          ],
          "mesh3d": [
           {
            "type": "mesh3d",
            "colorbar": {
             "outlinewidth": 0,
             "ticks": ""
            }
           }
          ],
          "scatter": [
           {
            "marker": {
             "line": {
              "color": "#283442"
             }
            },
            "type": "scatter"
           }
          ],
          "parcoords": [
           {
            "type": "parcoords",
            "line": {
             "colorbar": {
              "outlinewidth": 0,
              "ticks": ""
             }
            }
           }
          ],
          "scatterpolargl": [
           {
            "type": "scatterpolargl",
            "marker": {
             "colorbar": {
              "outlinewidth": 0,
              "ticks": ""
             }
            }
           }
          ],
          "bar": [
           {
            "error_x": {
             "color": "#f2f5fa"
            },
            "error_y": {
             "color": "#f2f5fa"
            },
            "marker": {
             "line": {
              "color": "rgb(17,17,17)",
              "width": 0.5
             },
             "pattern": {
              "fillmode": "overlay",
              "size": 10,
              "solidity": 0.2
             }
            },
            "type": "bar"
           }
          ],
          "scattergeo": [
           {
            "type": "scattergeo",
            "marker": {
             "colorbar": {
              "outlinewidth": 0,
              "ticks": ""
             }
            }
           }
          ],
          "scatterpolar": [
           {
            "type": "scatterpolar",
            "marker": {
             "colorbar": {
              "outlinewidth": 0,
              "ticks": ""
             }
            }
           }
          ],
          "histogram": [
           {
            "marker": {
             "pattern": {
              "fillmode": "overlay",
              "size": 10,
              "solidity": 0.2
             }
            },
            "type": "histogram"
           }
          ],
          "scattergl": [
           {
            "marker": {
             "line": {
              "color": "#283442"
             }
            },
            "type": "scattergl"
           }
          ],
          "scatter3d": [
           {
            "type": "scatter3d",
            "line": {
             "colorbar": {
              "outlinewidth": 0,
              "ticks": ""
             }
            },
            "marker": {
             "colorbar": {
              "outlinewidth": 0,
              "ticks": ""
             }
            }
           }
          ],
          "scattermapbox": [
           {
            "type": "scattermapbox",
            "marker": {
             "colorbar": {
              "outlinewidth": 0,
              "ticks": ""
             }
            }
           }
          ],
          "scatterternary": [
           {
            "type": "scatterternary",
            "marker": {
             "colorbar": {
              "outlinewidth": 0,
              "ticks": ""
             }
            }
           }
          ],
          "scattercarpet": [
           {
            "type": "scattercarpet",
            "marker": {
             "colorbar": {
              "outlinewidth": 0,
              "ticks": ""
             }
            }
           }
          ],
          "carpet": [
           {
            "aaxis": {
             "endlinecolor": "#A2B1C6",
             "gridcolor": "#506784",
             "linecolor": "#506784",
             "minorgridcolor": "#506784",
             "startlinecolor": "#A2B1C6"
            },
            "baxis": {
             "endlinecolor": "#A2B1C6",
             "gridcolor": "#506784",
             "linecolor": "#506784",
             "minorgridcolor": "#506784",
             "startlinecolor": "#A2B1C6"
            },
            "type": "carpet"
           }
          ],
          "table": [
           {
            "cells": {
             "fill": {
              "color": "#506784"
             },
             "line": {
              "color": "rgb(17,17,17)"
             }
            },
            "header": {
             "fill": {
              "color": "#2a3f5f"
             },
             "line": {
              "color": "rgb(17,17,17)"
             }
            },
            "type": "table"
           }
          ],
          "barpolar": [
           {
            "marker": {
             "line": {
              "color": "rgb(17,17,17)",
              "width": 0.5
             },
             "pattern": {
              "fillmode": "overlay",
              "size": 10,
              "solidity": 0.2
             }
            },
            "type": "barpolar"
           }
          ],
          "pie": [
           {
            "automargin": true,
            "type": "pie"
           }
          ]
         },
         "layout": {
          "autotypenumbers": "strict",
          "colorway": [
           "#636efa",
           "#EF553B",
           "#00cc96",
           "#ab63fa",
           "#FFA15A",
           "#19d3f3",
           "#FF6692",
           "#B6E880",
           "#FF97FF",
           "#FECB52"
          ],
          "font": {
           "color": "#f2f5fa"
          },
          "hovermode": "closest",
          "hoverlabel": {
           "align": "left"
          },
          "paper_bgcolor": "rgb(17,17,17)",
          "plot_bgcolor": "rgb(17,17,17)",
          "polar": {
           "bgcolor": "rgb(17,17,17)",
           "angularaxis": {
            "gridcolor": "#506784",
            "linecolor": "#506784",
            "ticks": ""
           },
           "radialaxis": {
            "gridcolor": "#506784",
            "linecolor": "#506784",
            "ticks": ""
           }
          },
          "ternary": {
           "bgcolor": "rgb(17,17,17)",
           "aaxis": {
            "gridcolor": "#506784",
            "linecolor": "#506784",
            "ticks": ""
           },
           "baxis": {
            "gridcolor": "#506784",
            "linecolor": "#506784",
            "ticks": ""
           },
           "caxis": {
            "gridcolor": "#506784",
            "linecolor": "#506784",
            "ticks": ""
           }
          },
          "coloraxis": {
           "colorbar": {
            "outlinewidth": 0,
            "ticks": ""
           }
          },
          "colorscale": {
           "sequential": [
            [
             0.0,
             "#0d0887"
            ],
            [
             0.1111111111111111,
             "#46039f"
            ],
            [
             0.2222222222222222,
             "#7201a8"
            ],
            [
             0.3333333333333333,
             "#9c179e"
            ],
            [
             0.4444444444444444,
             "#bd3786"
            ],
            [
             0.5555555555555556,
             "#d8576b"
            ],
            [
             0.6666666666666666,
             "#ed7953"
            ],
            [
             0.7777777777777778,
             "#fb9f3a"
            ],
            [
             0.8888888888888888,
             "#fdca26"
            ],
            [
             1.0,
             "#f0f921"
            ]
           ],
           "sequentialminus": [
            [
             0.0,
             "#0d0887"
            ],
            [
             0.1111111111111111,
             "#46039f"
            ],
            [
             0.2222222222222222,
             "#7201a8"
            ],
            [
             0.3333333333333333,
             "#9c179e"
            ],
            [
             0.4444444444444444,
             "#bd3786"
            ],
            [
             0.5555555555555556,
             "#d8576b"
            ],
            [
             0.6666666666666666,
             "#ed7953"
            ],
            [
             0.7777777777777778,
             "#fb9f3a"
            ],
            [
             0.8888888888888888,
             "#fdca26"
            ],
            [
             1.0,
             "#f0f921"
            ]
           ],
           "diverging": [
            [
             0,
             "#8e0152"
            ],
            [
             0.1,
             "#c51b7d"
            ],
            [
             0.2,
             "#de77ae"
            ],
            [
             0.3,
             "#f1b6da"
            ],
            [
             0.4,
             "#fde0ef"
            ],
            [
             0.5,
             "#f7f7f7"
            ],
            [
             0.6,
             "#e6f5d0"
            ],
            [
             0.7,
             "#b8e186"
            ],
            [
             0.8,
             "#7fbc41"
            ],
            [
             0.9,
             "#4d9221"
            ],
            [
             1,
             "#276419"
            ]
           ]
          },
          "xaxis": {
           "gridcolor": "#283442",
           "linecolor": "#506784",
           "ticks": "",
           "title": {
            "standoff": 15
           },
           "zerolinecolor": "#283442",
           "automargin": true,
           "zerolinewidth": 2
          },
          "yaxis": {
           "gridcolor": "#283442",
           "linecolor": "#506784",
           "ticks": "",
           "title": {
            "standoff": 15
           },
           "zerolinecolor": "#283442",
           "automargin": true,
           "zerolinewidth": 2
          },
          "scene": {
           "xaxis": {
            "backgroundcolor": "rgb(17,17,17)",
            "gridcolor": "#506784",
            "linecolor": "#506784",
            "showbackground": true,
            "ticks": "",
            "zerolinecolor": "#C8D4E3",
            "gridwidth": 2
           },
           "yaxis": {
            "backgroundcolor": "rgb(17,17,17)",
            "gridcolor": "#506784",
            "linecolor": "#506784",
            "showbackground": true,
            "ticks": "",
            "zerolinecolor": "#C8D4E3",
            "gridwidth": 2
           },
           "zaxis": {
            "backgroundcolor": "rgb(17,17,17)",
            "gridcolor": "#506784",
            "linecolor": "#506784",
            "showbackground": true,
            "ticks": "",
            "zerolinecolor": "#C8D4E3",
            "gridwidth": 2
           }
          },
          "shapedefaults": {
           "line": {
            "color": "#f2f5fa"
           }
          },
          "annotationdefaults": {
           "arrowcolor": "#f2f5fa",
           "arrowhead": 0,
           "arrowwidth": 1
          },
          "geo": {
           "bgcolor": "rgb(17,17,17)",
           "landcolor": "rgb(17,17,17)",
           "subunitcolor": "#506784",
           "showland": true,
           "showlakes": true,
           "lakecolor": "rgb(17,17,17)"
          },
          "title": {
           "x": 0.05
          },
          "updatemenudefaults": {
           "bgcolor": "#506784",
           "borderwidth": 0
          },
          "sliderdefaults": {
           "bgcolor": "#C8D4E3",
           "borderwidth": 1,
           "bordercolor": "rgb(17,17,17)",
           "tickwidth": 0
          },
          "mapbox": {
           "style": "dark"
          }
         }
        },
        "xaxis": {
         "anchor": "y",
         "domain": [
          0.0,
          1.0
         ],
         "title": {
          "text": "Number of eliminated variables"
         }
        },
        "yaxis": {
         "anchor": "x",
         "domain": [
          0.0,
          1.0
         ],
         "title": {
          "text": "Change in nonzero entries"
         },
         "type": "log"
        },
        "legend": {
         "title": {
          "text": "Matrix name"
         },
         "tracegroupgap": 0
        },
        "margin": {
         "t": 60
        },
        "title": {
         "text": "Effect of variable elimination on nonzero entry count (with AMD)",
         "x": 0.5,
         "xanchor": "center",
         "yanchor": "top"
        },
        "font": {
         "color": "black"
        },
        "plot_bgcolor": "white",
        "paper_bgcolor": "white"
       },
       "config": {
        "plotlyServerURL": "https://plot.ly"
       }
      },
      "text/html": [
       "<div>                            <div id=\"81027698-f157-40a8-a791-409b02bfcfe1\" class=\"plotly-graph-div\" style=\"height:525px; width:100%;\"></div>            <script type=\"text/javascript\">                require([\"plotly\"], function(Plotly) {                    window.PLOTLYENV=window.PLOTLYENV || {};                                    if (document.getElementById(\"81027698-f157-40a8-a791-409b02bfcfe1\")) {                    Plotly.newPlot(                        \"81027698-f157-40a8-a791-409b02bfcfe1\",                        [{\"hovertemplate\":\"Matrix name=ex10hs\\u003cbr\\u003eNumber of eliminated variables=%{x}\\u003cbr\\u003eChange in nonzero entries=%{y}\\u003cextra\\u003e\\u003c\\u002fextra\\u003e\",\"legendgroup\":\"ex10hs\",\"line\":{\"color\":\"#636efa\",\"dash\":\"solid\"},\"marker\":{\"symbol\":\"circle\"},\"mode\":\"lines+markers\",\"name\":\"ex10hs\",\"orientation\":\"v\",\"showlegend\":true,\"x\":[0,0,0,0,0,0,0,0,0,0,0,0,0,0,0,0,0,1,1,1,1,1,2,2,2,2,2,2,2,3,3,3,4,4,4,4,4,4,4,4,4,4,4,4,4,4,4,4,4,4,4,5,6,6,6,6,6,6,6,7,7,7,7,7,7,7,7,7,7,7,8,8,8,8,8,8,8,8,8,8,8,9,10,10,10,10,10,10,10,10,10,10,10,10,10,10,10],\"xaxis\":\"x\",\"y\":[1.0,1.0,1.0,1.0,1.0,1.0,1.0,1.0,1.0,1.0,1.0,1.0,1.0,1.0,1.0,1.0,1.0,0.8971696796258812,0.8971696796258812,0.8971696796258812,0.8971696796258812,0.8971696796258812,0.8999092622321491,0.8999092622321491,0.8999092622321491,0.8999092622321491,0.8999092622321491,0.8999092622321491,0.8999092622321491,0.9021602568576813,0.9021602568576813,0.9021602568576813,0.9029105883995254,0.9029105883995254,0.9029105883995254,0.9029105883995254,0.9029105883995254,0.9029105883995254,0.9029105883995254,0.9029105883995254,0.9029105883995254,0.9029105883995254,0.9029105883995254,0.9029105883995254,0.9029105883995254,0.9029105883995254,0.9029105883995254,0.9029105883995254,0.9029105883995254,0.9029105883995254,0.9029105883995254,0.9060340615620855,0.9067843931039297,0.9067843931039297,0.9067843931039297,0.9067843931039297,0.9067843931039297,0.9067843931039297,0.9067843931039297,0.9063132546939345,0.9063132546939345,0.9063132546939345,0.9063132546939345,0.9063132546939345,0.9063132546939345,0.9063132546939345,0.9063132546939345,0.9063132546939345,0.9063132546939345,0.9063132546939345,0.9268165003140922,0.9268165003140922,0.9268165003140922,0.9268165003140922,0.9268165003140922,0.9268165003140922,0.9268165003140922,0.9268165003140922,0.9268165003140922,0.9268165003140922,0.9268165003140922,0.9250191945278147,0.9232916870244992,0.9232916870244992,0.9232916870244992,0.9232916870244992,0.9232916870244992,0.9232916870244992,0.9232916870244992,0.9232916870244992,0.9232916870244992,0.9232916870244992,0.9232916870244992,0.9232916870244992,0.9232916870244992,0.9232916870244992,0.9232916870244992],\"yaxis\":\"y\",\"type\":\"scatter\"},{\"hovertemplate\":\"Matrix name=ex15\\u003cbr\\u003eNumber of eliminated variables=%{x}\\u003cbr\\u003eChange in nonzero entries=%{y}\\u003cextra\\u003e\\u003c\\u002fextra\\u003e\",\"legendgroup\":\"ex15\",\"line\":{\"color\":\"#EF553B\",\"dash\":\"solid\"},\"marker\":{\"symbol\":\"diamond\"},\"mode\":\"lines+markers\",\"name\":\"ex15\",\"orientation\":\"v\",\"showlegend\":true,\"x\":[0,0,0,0,0,0,0,0,0,0,0,1,1,1,2,2,2,3,3,3,3,3,3,3,3,3,3,3,3,3,3,3,3,3,3,3,3,3,3,3,3,3,3,3,3,3,3,3,3,3,3,3,3,3,3,3,4,5,5,5,5,5,5,5,6,6,6,7,7,7,7,7,7,7,7,7,7,7,7,7,7,7,7,7,7,7,7,7,7,7,8,8,8,9,9,9,9,9,9,9,9,9,9,9,9,9,9,9,10],\"xaxis\":\"x\",\"y\":[1.0,1.0,1.0,1.0,1.0,1.0,1.0,1.0,1.0,1.0,1.0,0.9994223226682611,0.9994223226682611,0.9994223226682611,0.9995743430187187,0.9995743430187187,0.9995743430187187,1.0004965998114947,1.0004965998114947,1.0004965998114947,1.0004965998114947,1.0004965998114947,1.0004965998114947,1.0004965998114947,1.0004965998114947,1.0004965998114947,1.0004965998114947,1.0004965998114947,1.0004965998114947,1.0004965998114947,1.0004965998114947,1.0004965998114947,1.0004965998114947,1.0004965998114947,1.0004965998114947,1.0004965998114947,1.0004965998114947,1.0004965998114947,1.0004965998114947,1.0004965998114947,1.0004965998114947,1.0004965998114947,1.0004965998114947,1.0004965998114947,1.0004965998114947,1.0004965998114947,1.0004965998114947,1.0004965998114947,1.0004965998114947,1.0004965998114947,1.0004965998114947,1.0004965998114947,1.0004965998114947,1.0004965998114947,1.0004965998114947,1.0004965998114947,1.0006486201619524,1.0015506075746674,1.0015506075746674,1.0015506075746674,1.0015506075746674,1.0015506075746674,1.0015506075746674,1.0015506075746674,1.0023917868471992,1.0023917868471992,1.0023917868471992,1.0031316192194262,1.0031316192194262,1.0031316192194262,1.0031316192194262,1.0031316192194262,1.0031316192194262,1.0031316192194262,1.0031316192194262,1.0031316192194262,1.0031316192194262,1.0031316192194262,1.0031316192194262,1.0031316192194262,1.0031316192194262,1.0031316192194262,1.0031316192194262,1.0031316192194262,1.0031316192194262,1.0031316192194262,1.0031316192194262,1.0031316192194262,1.0031316192194262,1.0031316192194262,1.0032633701898228,1.0032633701898228,1.0032633701898228,1.0045099370635748,1.0045099370635748,1.0045099370635748,1.0045099370635748,1.0045099370635748,1.0045099370635748,1.0045099370635748,1.0045099370635748,1.0045099370635748,1.0045099370635748,1.0045099370635748,1.0045099370635748,1.0045099370635748,1.0045099370635748,1.0045099370635748,1.005371385716168],\"yaxis\":\"y\",\"type\":\"scatter\"},{\"hovertemplate\":\"Matrix name=ex10\\u003cbr\\u003eNumber of eliminated variables=%{x}\\u003cbr\\u003eChange in nonzero entries=%{y}\\u003cextra\\u003e\\u003c\\u002fextra\\u003e\",\"legendgroup\":\"ex10\",\"line\":{\"color\":\"#00cc96\",\"dash\":\"solid\"},\"marker\":{\"symbol\":\"square\"},\"mode\":\"lines+markers\",\"name\":\"ex10\",\"orientation\":\"v\",\"showlegend\":true,\"x\":[0,0,0,0,0,0,0,1,1,1,1,1,1,1,2,2,2,2,2,2,2,2,2,2,2,2,2,2,2,3,3,3,4,4,4,4,4,4,4,5,5,5,5,5,5,5,6,6,6,6,6,7,7,7,7,7,7,7,8,8,8,9,9,9,9,10,10,10,10,10,10,10,10,10,10,10,10,10,10,10,10,10,10,10,10,10,10,10,10,10,10,10,10,10,10,10,10,10,10,10],\"xaxis\":\"x\",\"y\":[1.0,1.0,1.0,1.0,1.0,1.0,1.0,0.8896608315098469,0.8896608315098469,0.8896608315098469,0.8896608315098469,0.8896608315098469,0.8896608315098469,0.8896608315098469,0.8914660831509846,0.8914660831509846,0.8914660831509846,0.8914660831509846,0.8914660831509846,0.8914660831509846,0.8914660831509846,0.8914660831509846,0.8914660831509846,0.8914660831509846,0.8914660831509846,0.8914660831509846,0.8914660831509846,0.8914660831509846,0.8914660831509846,0.8922501823486506,0.8922501823486506,0.8922501823486506,0.8939460247994165,0.8939460247994165,0.8939460247994165,0.8939460247994165,0.8939460247994165,0.8939460247994165,0.8939460247994165,0.8956783369803063,0.8956783369803063,0.8956783369803063,0.8956783369803063,0.8956783369803063,0.8956783369803063,0.8956783369803063,0.9009117432531,0.9009117432531,0.9009117432531,0.9009117432531,0.9009117432531,0.9105944566010211,0.9105944566010211,0.9105944566010211,0.9105944566010211,0.9105944566010211,0.9105944566010211,0.9105944566010211,0.925382932166302,0.925382932166302,0.925382932166302,0.9235412107950401,0.9235412107950401,0.9235412107950401,0.9235412107950401,0.9217724288840262,0.9217724288840262,0.9217724288840262,0.9217724288840262,0.9217724288840262,0.9217724288840262,0.9217724288840262,0.9217724288840262,0.9217724288840262,0.9217724288840262,0.9217724288840262,0.9217724288840262,0.9217724288840262,0.9217724288840262,0.9217724288840262,0.9217724288840262,0.9217724288840262,0.9217724288840262,0.9217724288840262,0.9217724288840262,0.9217724288840262,0.9217724288840262,0.9217724288840262,0.9217724288840262,0.9217724288840262,0.9217724288840262,0.9217724288840262,0.9217724288840262,0.9217724288840262,0.9217724288840262,0.9217724288840262,0.9217724288840262,0.9217724288840262,0.9217724288840262,0.9217724288840262],\"yaxis\":\"y\",\"type\":\"scatter\"},{\"hovertemplate\":\"Matrix name=ex13\\u003cbr\\u003eNumber of eliminated variables=%{x}\\u003cbr\\u003eChange in nonzero entries=%{y}\\u003cextra\\u003e\\u003c\\u002fextra\\u003e\",\"legendgroup\":\"ex13\",\"line\":{\"color\":\"#ab63fa\",\"dash\":\"solid\"},\"marker\":{\"symbol\":\"x\"},\"mode\":\"lines+markers\",\"name\":\"ex13\",\"orientation\":\"v\",\"showlegend\":true,\"x\":[0,0,0,0,0,0,0,0,0,0,0,0,0,0,0,1,1,1,2,2,2,3,3,3,3,3,3,3,3,3,3,3,3,3,3,3,4,4,4,4,4,5,5,5,6,6,6,6,6,6,6,6,6,6,6,6,6,6,6,7,7,7,8,8,8,8,8,8,8,8,8,8,8,8,8,8,8,8,8,8,8,9,9,9,10,10,10],\"xaxis\":\"x\",\"y\":[1.0,1.0,1.0,1.0,1.0,1.0,1.0,1.0,1.0,1.0,1.0,1.0,1.0,1.0,1.0,1.0021817316337864,1.0021817316337864,1.0021817316337864,1.001428042523933,1.001428042523933,1.001428042523933,1.0069418733802296,1.0069418733802296,1.0069418733802296,1.0069418733802296,1.0069418733802296,1.0069418733802296,1.0069418733802296,1.0069418733802296,1.0069418733802296,1.0069418733802296,1.0069418733802296,1.0069418733802296,1.0069418733802296,1.0069418733802296,1.0069418733802296,1.0059237319511292,1.0059237319511292,1.0059237319511292,1.0059237319511292,1.0059237319511292,1.0054609403924473,1.0054609403924473,1.0054609403924473,1.00502459406569,1.00502459406569,1.00502459406569,1.00502459406569,1.00502459406569,1.00502459406569,1.00502459406569,1.00502459406569,1.00502459406569,1.00502459406569,1.00502459406569,1.00502459406569,1.00502459406569,1.00502459406569,1.00502459406569,1.0070476543079283,1.0070476543079283,1.0070476543079283,1.0063468556619242,1.0063468556619242,1.0063468556619242,1.0063468556619242,1.0063468556619242,1.0063468556619242,1.0063468556619242,1.0063468556619242,1.0063468556619242,1.0063468556619242,1.0063468556619242,1.0063468556619242,1.0063468556619242,1.0063468556619242,1.0063468556619242,1.0063468556619242,1.0063468556619242,1.0063468556619242,1.0063468556619242,1.0169910615116096,1.0169910615116096,1.0169910615116096,1.015814248690961,1.015814248690961,1.015814248690961],\"yaxis\":\"y\",\"type\":\"scatter\"},{\"hovertemplate\":\"Matrix name=bcsstk13\\u003cbr\\u003eNumber of eliminated variables=%{x}\\u003cbr\\u003eChange in nonzero entries=%{y}\\u003cextra\\u003e\\u003c\\u002fextra\\u003e\",\"legendgroup\":\"bcsstk13\",\"line\":{\"color\":\"#FFA15A\",\"dash\":\"solid\"},\"marker\":{\"symbol\":\"cross\"},\"mode\":\"lines+markers\",\"name\":\"bcsstk13\",\"orientation\":\"v\",\"showlegend\":true,\"x\":[0,1,1,1,1,1,1,1,1,1,1,1,1,1,1,1,2,2,2,2,2,2,2,3,3,3,3,3,3,3,3,3,3,3,3,3,3,3,3,3,3,3,4,5,5,5,5,5,5,5,5,5,5,5,5,5,5,5,6,7,7,7,7,7,8,8,8,8,8,8,8,8,8,8,8,8,8,8,8,9,9,9,10],\"xaxis\":\"x\",\"y\":[1.0,0.8998009131766865,0.8998009131766865,0.8998009131766865,0.8998009131766865,0.8998009131766865,0.8998009131766865,0.8998009131766865,0.8998009131766865,0.8998009131766865,0.8998009131766865,0.8998009131766865,0.8998009131766865,0.8998009131766865,0.8998009131766865,0.8998009131766865,0.9012910840098709,0.9012910840098709,0.9012910840098709,0.9012910840098709,0.9012910840098709,0.9012910840098709,0.9012910840098709,0.9009453643765721,0.9009453643765721,0.9009453643765721,0.9009453643765721,0.9009453643765721,0.9009453643765721,0.9009453643765721,0.9009453643765721,0.9009453643765721,0.9009453643765721,0.9009453643765721,0.9009453643765721,0.9009453643765721,0.9009453643765721,0.9009453643765721,0.9009453643765721,0.9009453643765721,0.9009453643765721,0.9009453643765721,0.9028647044097136,0.907120632309288,0.907120632309288,0.907120632309288,0.907120632309288,0.907120632309288,0.907120632309288,0.907120632309288,0.907120632309288,0.907120632309288,0.907120632309288,0.907120632309288,0.907120632309288,0.907120632309288,0.907120632309288,0.907120632309288,0.9089922868757674,0.9152986898418035,0.9152986898418035,0.9152986898418035,0.9152986898418035,0.9152986898418035,0.9160974214083902,0.9160974214083902,0.9160974214083902,0.9160974214083902,0.9160974214083902,0.9160974214083902,0.9160974214083902,0.9160974214083902,0.9160974214083902,0.9160974214083902,0.9160974214083902,0.9160974214083902,0.9160974214083902,0.9160974214083902,0.9160974214083902,0.9222846107077716,0.9222846107077716,0.9222846107077716,0.9322866373401046],\"yaxis\":\"y\",\"type\":\"scatter\"},{\"hovertemplate\":\"Matrix name=Pres_Poisson\\u003cbr\\u003eNumber of eliminated variables=%{x}\\u003cbr\\u003eChange in nonzero entries=%{y}\\u003cextra\\u003e\\u003c\\u002fextra\\u003e\",\"legendgroup\":\"Pres_Poisson\",\"line\":{\"color\":\"#19d3f3\",\"dash\":\"solid\"},\"marker\":{\"symbol\":\"circle\"},\"mode\":\"lines+markers\",\"name\":\"Pres_Poisson\",\"orientation\":\"v\",\"showlegend\":true,\"x\":[0,0,0,1,2,2,2,2,2,2,2,2,2,2,2,2,2,2,2,2,2,2,2,2,2,2,2,2,2,2,2,2,2,2,2,2,2,2,2,2,2,2,2,2,2,2,2,2,2,2,2,3,3,3,3,3,3,3,4,4,4,4,4,4,4,5,5,5,5,5,5,5,6,6,6,6,6,6,6,6,6,6,6,7,7,7,8,8,8,8,8,8,8,8,8,8,8,9,10,10,10,10,10,10,10,10,10,10,10,10,10,10,10,10,10],\"xaxis\":\"x\",\"y\":[1.0,1.0,1.0,1.0013062234913468,1.002143044744092,1.002143044744092,1.002143044744092,1.002143044744092,1.002143044744092,1.002143044744092,1.002143044744092,1.002143044744092,1.002143044744092,1.002143044744092,1.002143044744092,1.002143044744092,1.002143044744092,1.002143044744092,1.002143044744092,1.002143044744092,1.002143044744092,1.002143044744092,1.002143044744092,1.002143044744092,1.002143044744092,1.002143044744092,1.002143044744092,1.002143044744092,1.002143044744092,1.002143044744092,1.002143044744092,1.002143044744092,1.002143044744092,1.002143044744092,1.002143044744092,1.002143044744092,1.002143044744092,1.002143044744092,1.002143044744092,1.002143044744092,1.002143044744092,1.002143044744092,1.002143044744092,1.002143044744092,1.002143044744092,1.002143044744092,1.002143044744092,1.002143044744092,1.002143044744092,1.002143044744092,1.002143044744092,1.0058856893786567,1.0058856893786567,1.0058856893786567,1.0058856893786567,1.0058856893786567,1.0058856893786567,1.0058856893786567,1.0072226475403883,1.0072226475403883,1.0072226475403883,1.0072226475403883,1.0072226475403883,1.0072226475403883,1.0072226475403883,1.0085596057021196,1.0085596057021196,1.0085596057021196,1.0085596057021196,1.0085596057021196,1.0085596057021196,1.0085596057021196,1.0093740744673123,1.0093740744673123,1.0093740744673123,1.0093740744673123,1.0093740744673123,1.0093740744673123,1.0093740744673123,1.0093740744673123,1.0093740744673123,1.0093740744673123,1.0093740744673123,1.009990164905477,1.009990164905477,1.009990164905477,1.0115255013942364,1.0115255013942364,1.0115255013942364,1.0115255013942364,1.0115255013942364,1.0115255013942364,1.0115255013942364,1.0115255013942364,1.0115255013942364,1.0115255013942364,1.0115255013942364,1.0127367268134853,1.0125090108465447,1.0125090108465447,1.0125090108465447,1.0125090108465447,1.0125090108465447,1.0125090108465447,1.0125090108465447,1.0125090108465447,1.0125090108465447,1.0125090108465447,1.0125090108465447,1.0125090108465447,1.0125090108465447,1.0125090108465447,1.0125090108465447,1.0125090108465447,1.0125090108465447],\"yaxis\":\"y\",\"type\":\"scatter\"},{\"hovertemplate\":\"Matrix name=ex3\\u003cbr\\u003eNumber of eliminated variables=%{x}\\u003cbr\\u003eChange in nonzero entries=%{y}\\u003cextra\\u003e\\u003c\\u002fextra\\u003e\",\"legendgroup\":\"ex3\",\"line\":{\"color\":\"#FF6692\",\"dash\":\"solid\"},\"marker\":{\"symbol\":\"diamond\"},\"mode\":\"lines+markers\",\"name\":\"ex3\",\"orientation\":\"v\",\"showlegend\":true,\"x\":[0,0,0,1,1,1,1,1,1,1,1,1,1,1,1,1,1,1,1,1,1,1,1,1,1,1,2,2,2,3,3,3,3,3,3,3,3,3,3,3,4,4,4,5,5,5,5,5,5,5,6,6,6,6,6,6,6,6,6,6,6,7,7,7,8,8,8,8,8,9,9,9,9,9,9,9,9,9,9,9,10],\"xaxis\":\"x\",\"y\":[1.0,1.0,1.0,0.8866660339755148,0.8866660339755148,0.8866660339755148,0.8866660339755148,0.8866660339755148,0.8866660339755148,0.8866660339755148,0.8866660339755148,0.8866660339755148,0.8866660339755148,0.8866660339755148,0.8866660339755148,0.8866660339755148,0.8866660339755148,0.8866660339755148,0.8866660339755148,0.8866660339755148,0.8866660339755148,0.8866660339755148,0.8866660339755148,0.8866660339755148,0.8866660339755148,0.8866660339755148,0.9102970484957768,0.9102970484957768,0.9102970484957768,0.9084559172439973,0.9084559172439973,0.9084559172439973,0.9084559172439973,0.9084559172439973,0.9084559172439973,0.9084559172439973,0.9084559172439973,0.9084559172439973,0.9084559172439973,0.9084559172439973,0.9396033026478124,0.9396033026478124,0.9396033026478124,0.9370788649520736,0.9370788649520736,0.9370788649520736,0.9370788649520736,0.9370788649520736,0.9370788649520736,0.9370788649520736,0.9345923887254437,0.9345923887254437,0.9345923887254437,0.9345923887254437,0.9345923887254437,0.9345923887254437,0.9345923887254437,0.9345923887254437,0.9345923887254437,0.9345923887254437,0.9345923887254437,0.9321438739679225,0.9321438739679225,0.9321438739679225,0.9297333206795103,0.9297333206795103,0.9297333206795103,0.9297333206795103,0.9297333206795103,0.9273607288602069,0.9273607288602069,0.9273607288602069,0.9273607288602069,0.9273607288602069,0.9273607288602069,0.9273607288602069,0.9273607288602069,0.9273607288602069,0.9273607288602069,0.9273607288602069,0.9328841226155452],\"yaxis\":\"y\",\"type\":\"scatter\"}],                        {\"template\":{\"data\":{\"histogram2dcontour\":[{\"type\":\"histogram2dcontour\",\"colorbar\":{\"outlinewidth\":0,\"ticks\":\"\"},\"colorscale\":[[0.0,\"#0d0887\"],[0.1111111111111111,\"#46039f\"],[0.2222222222222222,\"#7201a8\"],[0.3333333333333333,\"#9c179e\"],[0.4444444444444444,\"#bd3786\"],[0.5555555555555556,\"#d8576b\"],[0.6666666666666666,\"#ed7953\"],[0.7777777777777778,\"#fb9f3a\"],[0.8888888888888888,\"#fdca26\"],[1.0,\"#f0f921\"]]}],\"choropleth\":[{\"type\":\"choropleth\",\"colorbar\":{\"outlinewidth\":0,\"ticks\":\"\"}}],\"histogram2d\":[{\"type\":\"histogram2d\",\"colorbar\":{\"outlinewidth\":0,\"ticks\":\"\"},\"colorscale\":[[0.0,\"#0d0887\"],[0.1111111111111111,\"#46039f\"],[0.2222222222222222,\"#7201a8\"],[0.3333333333333333,\"#9c179e\"],[0.4444444444444444,\"#bd3786\"],[0.5555555555555556,\"#d8576b\"],[0.6666666666666666,\"#ed7953\"],[0.7777777777777778,\"#fb9f3a\"],[0.8888888888888888,\"#fdca26\"],[1.0,\"#f0f921\"]]}],\"heatmap\":[{\"type\":\"heatmap\",\"colorbar\":{\"outlinewidth\":0,\"ticks\":\"\"},\"colorscale\":[[0.0,\"#0d0887\"],[0.1111111111111111,\"#46039f\"],[0.2222222222222222,\"#7201a8\"],[0.3333333333333333,\"#9c179e\"],[0.4444444444444444,\"#bd3786\"],[0.5555555555555556,\"#d8576b\"],[0.6666666666666666,\"#ed7953\"],[0.7777777777777778,\"#fb9f3a\"],[0.8888888888888888,\"#fdca26\"],[1.0,\"#f0f921\"]]}],\"heatmapgl\":[{\"type\":\"heatmapgl\",\"colorbar\":{\"outlinewidth\":0,\"ticks\":\"\"},\"colorscale\":[[0.0,\"#0d0887\"],[0.1111111111111111,\"#46039f\"],[0.2222222222222222,\"#7201a8\"],[0.3333333333333333,\"#9c179e\"],[0.4444444444444444,\"#bd3786\"],[0.5555555555555556,\"#d8576b\"],[0.6666666666666666,\"#ed7953\"],[0.7777777777777778,\"#fb9f3a\"],[0.8888888888888888,\"#fdca26\"],[1.0,\"#f0f921\"]]}],\"contourcarpet\":[{\"type\":\"contourcarpet\",\"colorbar\":{\"outlinewidth\":0,\"ticks\":\"\"}}],\"contour\":[{\"type\":\"contour\",\"colorbar\":{\"outlinewidth\":0,\"ticks\":\"\"},\"colorscale\":[[0.0,\"#0d0887\"],[0.1111111111111111,\"#46039f\"],[0.2222222222222222,\"#7201a8\"],[0.3333333333333333,\"#9c179e\"],[0.4444444444444444,\"#bd3786\"],[0.5555555555555556,\"#d8576b\"],[0.6666666666666666,\"#ed7953\"],[0.7777777777777778,\"#fb9f3a\"],[0.8888888888888888,\"#fdca26\"],[1.0,\"#f0f921\"]]}],\"surface\":[{\"type\":\"surface\",\"colorbar\":{\"outlinewidth\":0,\"ticks\":\"\"},\"colorscale\":[[0.0,\"#0d0887\"],[0.1111111111111111,\"#46039f\"],[0.2222222222222222,\"#7201a8\"],[0.3333333333333333,\"#9c179e\"],[0.4444444444444444,\"#bd3786\"],[0.5555555555555556,\"#d8576b\"],[0.6666666666666666,\"#ed7953\"],[0.7777777777777778,\"#fb9f3a\"],[0.8888888888888888,\"#fdca26\"],[1.0,\"#f0f921\"]]}],\"mesh3d\":[{\"type\":\"mesh3d\",\"colorbar\":{\"outlinewidth\":0,\"ticks\":\"\"}}],\"scatter\":[{\"marker\":{\"line\":{\"color\":\"#283442\"}},\"type\":\"scatter\"}],\"parcoords\":[{\"type\":\"parcoords\",\"line\":{\"colorbar\":{\"outlinewidth\":0,\"ticks\":\"\"}}}],\"scatterpolargl\":[{\"type\":\"scatterpolargl\",\"marker\":{\"colorbar\":{\"outlinewidth\":0,\"ticks\":\"\"}}}],\"bar\":[{\"error_x\":{\"color\":\"#f2f5fa\"},\"error_y\":{\"color\":\"#f2f5fa\"},\"marker\":{\"line\":{\"color\":\"rgb(17,17,17)\",\"width\":0.5},\"pattern\":{\"fillmode\":\"overlay\",\"size\":10,\"solidity\":0.2}},\"type\":\"bar\"}],\"scattergeo\":[{\"type\":\"scattergeo\",\"marker\":{\"colorbar\":{\"outlinewidth\":0,\"ticks\":\"\"}}}],\"scatterpolar\":[{\"type\":\"scatterpolar\",\"marker\":{\"colorbar\":{\"outlinewidth\":0,\"ticks\":\"\"}}}],\"histogram\":[{\"marker\":{\"pattern\":{\"fillmode\":\"overlay\",\"size\":10,\"solidity\":0.2}},\"type\":\"histogram\"}],\"scattergl\":[{\"marker\":{\"line\":{\"color\":\"#283442\"}},\"type\":\"scattergl\"}],\"scatter3d\":[{\"type\":\"scatter3d\",\"line\":{\"colorbar\":{\"outlinewidth\":0,\"ticks\":\"\"}},\"marker\":{\"colorbar\":{\"outlinewidth\":0,\"ticks\":\"\"}}}],\"scattermapbox\":[{\"type\":\"scattermapbox\",\"marker\":{\"colorbar\":{\"outlinewidth\":0,\"ticks\":\"\"}}}],\"scatterternary\":[{\"type\":\"scatterternary\",\"marker\":{\"colorbar\":{\"outlinewidth\":0,\"ticks\":\"\"}}}],\"scattercarpet\":[{\"type\":\"scattercarpet\",\"marker\":{\"colorbar\":{\"outlinewidth\":0,\"ticks\":\"\"}}}],\"carpet\":[{\"aaxis\":{\"endlinecolor\":\"#A2B1C6\",\"gridcolor\":\"#506784\",\"linecolor\":\"#506784\",\"minorgridcolor\":\"#506784\",\"startlinecolor\":\"#A2B1C6\"},\"baxis\":{\"endlinecolor\":\"#A2B1C6\",\"gridcolor\":\"#506784\",\"linecolor\":\"#506784\",\"minorgridcolor\":\"#506784\",\"startlinecolor\":\"#A2B1C6\"},\"type\":\"carpet\"}],\"table\":[{\"cells\":{\"fill\":{\"color\":\"#506784\"},\"line\":{\"color\":\"rgb(17,17,17)\"}},\"header\":{\"fill\":{\"color\":\"#2a3f5f\"},\"line\":{\"color\":\"rgb(17,17,17)\"}},\"type\":\"table\"}],\"barpolar\":[{\"marker\":{\"line\":{\"color\":\"rgb(17,17,17)\",\"width\":0.5},\"pattern\":{\"fillmode\":\"overlay\",\"size\":10,\"solidity\":0.2}},\"type\":\"barpolar\"}],\"pie\":[{\"automargin\":true,\"type\":\"pie\"}]},\"layout\":{\"autotypenumbers\":\"strict\",\"colorway\":[\"#636efa\",\"#EF553B\",\"#00cc96\",\"#ab63fa\",\"#FFA15A\",\"#19d3f3\",\"#FF6692\",\"#B6E880\",\"#FF97FF\",\"#FECB52\"],\"font\":{\"color\":\"#f2f5fa\"},\"hovermode\":\"closest\",\"hoverlabel\":{\"align\":\"left\"},\"paper_bgcolor\":\"rgb(17,17,17)\",\"plot_bgcolor\":\"rgb(17,17,17)\",\"polar\":{\"bgcolor\":\"rgb(17,17,17)\",\"angularaxis\":{\"gridcolor\":\"#506784\",\"linecolor\":\"#506784\",\"ticks\":\"\"},\"radialaxis\":{\"gridcolor\":\"#506784\",\"linecolor\":\"#506784\",\"ticks\":\"\"}},\"ternary\":{\"bgcolor\":\"rgb(17,17,17)\",\"aaxis\":{\"gridcolor\":\"#506784\",\"linecolor\":\"#506784\",\"ticks\":\"\"},\"baxis\":{\"gridcolor\":\"#506784\",\"linecolor\":\"#506784\",\"ticks\":\"\"},\"caxis\":{\"gridcolor\":\"#506784\",\"linecolor\":\"#506784\",\"ticks\":\"\"}},\"coloraxis\":{\"colorbar\":{\"outlinewidth\":0,\"ticks\":\"\"}},\"colorscale\":{\"sequential\":[[0.0,\"#0d0887\"],[0.1111111111111111,\"#46039f\"],[0.2222222222222222,\"#7201a8\"],[0.3333333333333333,\"#9c179e\"],[0.4444444444444444,\"#bd3786\"],[0.5555555555555556,\"#d8576b\"],[0.6666666666666666,\"#ed7953\"],[0.7777777777777778,\"#fb9f3a\"],[0.8888888888888888,\"#fdca26\"],[1.0,\"#f0f921\"]],\"sequentialminus\":[[0.0,\"#0d0887\"],[0.1111111111111111,\"#46039f\"],[0.2222222222222222,\"#7201a8\"],[0.3333333333333333,\"#9c179e\"],[0.4444444444444444,\"#bd3786\"],[0.5555555555555556,\"#d8576b\"],[0.6666666666666666,\"#ed7953\"],[0.7777777777777778,\"#fb9f3a\"],[0.8888888888888888,\"#fdca26\"],[1.0,\"#f0f921\"]],\"diverging\":[[0,\"#8e0152\"],[0.1,\"#c51b7d\"],[0.2,\"#de77ae\"],[0.3,\"#f1b6da\"],[0.4,\"#fde0ef\"],[0.5,\"#f7f7f7\"],[0.6,\"#e6f5d0\"],[0.7,\"#b8e186\"],[0.8,\"#7fbc41\"],[0.9,\"#4d9221\"],[1,\"#276419\"]]},\"xaxis\":{\"gridcolor\":\"#283442\",\"linecolor\":\"#506784\",\"ticks\":\"\",\"title\":{\"standoff\":15},\"zerolinecolor\":\"#283442\",\"automargin\":true,\"zerolinewidth\":2},\"yaxis\":{\"gridcolor\":\"#283442\",\"linecolor\":\"#506784\",\"ticks\":\"\",\"title\":{\"standoff\":15},\"zerolinecolor\":\"#283442\",\"automargin\":true,\"zerolinewidth\":2},\"scene\":{\"xaxis\":{\"backgroundcolor\":\"rgb(17,17,17)\",\"gridcolor\":\"#506784\",\"linecolor\":\"#506784\",\"showbackground\":true,\"ticks\":\"\",\"zerolinecolor\":\"#C8D4E3\",\"gridwidth\":2},\"yaxis\":{\"backgroundcolor\":\"rgb(17,17,17)\",\"gridcolor\":\"#506784\",\"linecolor\":\"#506784\",\"showbackground\":true,\"ticks\":\"\",\"zerolinecolor\":\"#C8D4E3\",\"gridwidth\":2},\"zaxis\":{\"backgroundcolor\":\"rgb(17,17,17)\",\"gridcolor\":\"#506784\",\"linecolor\":\"#506784\",\"showbackground\":true,\"ticks\":\"\",\"zerolinecolor\":\"#C8D4E3\",\"gridwidth\":2}},\"shapedefaults\":{\"line\":{\"color\":\"#f2f5fa\"}},\"annotationdefaults\":{\"arrowcolor\":\"#f2f5fa\",\"arrowhead\":0,\"arrowwidth\":1},\"geo\":{\"bgcolor\":\"rgb(17,17,17)\",\"landcolor\":\"rgb(17,17,17)\",\"subunitcolor\":\"#506784\",\"showland\":true,\"showlakes\":true,\"lakecolor\":\"rgb(17,17,17)\"},\"title\":{\"x\":0.05},\"updatemenudefaults\":{\"bgcolor\":\"#506784\",\"borderwidth\":0},\"sliderdefaults\":{\"bgcolor\":\"#C8D4E3\",\"borderwidth\":1,\"bordercolor\":\"rgb(17,17,17)\",\"tickwidth\":0},\"mapbox\":{\"style\":\"dark\"}}},\"xaxis\":{\"anchor\":\"y\",\"domain\":[0.0,1.0],\"title\":{\"text\":\"Number of eliminated variables\"}},\"yaxis\":{\"anchor\":\"x\",\"domain\":[0.0,1.0],\"title\":{\"text\":\"Change in nonzero entries\"},\"type\":\"log\"},\"legend\":{\"title\":{\"text\":\"Matrix name\"},\"tracegroupgap\":0},\"margin\":{\"t\":60},\"title\":{\"text\":\"Effect of variable elimination on nonzero entry count (with AMD)\",\"x\":0.5,\"xanchor\":\"center\",\"yanchor\":\"top\"},\"font\":{\"color\":\"black\"},\"plot_bgcolor\":\"white\",\"paper_bgcolor\":\"white\"},                        {\"responsive\": true}                    ).then(function(){\n",
       "                            \n",
       "var gd = document.getElementById('81027698-f157-40a8-a791-409b02bfcfe1');\n",
       "var x = new MutationObserver(function (mutations, observer) {{\n",
       "        var display = window.getComputedStyle(gd).display;\n",
       "        if (!display || display === 'none') {{\n",
       "            console.log([gd, 'removed!']);\n",
       "            Plotly.purge(gd);\n",
       "            observer.disconnect();\n",
       "        }}\n",
       "}});\n",
       "\n",
       "// Listen for the removal of the full notebook cells\n",
       "var notebookContainer = gd.closest('#notebook-container');\n",
       "if (notebookContainer) {{\n",
       "    x.observe(notebookContainer, {childList: true});\n",
       "}}\n",
       "\n",
       "// Listen for the clearing of the current output cell\n",
       "var outputEl = gd.closest('.output');\n",
       "if (outputEl) {{\n",
       "    x.observe(outputEl, {childList: true});\n",
       "}}\n",
       "\n",
       "                        })                };                });            </script>        </div>"
      ]
     },
     "metadata": {},
     "output_type": "display_data"
    }
   ],
   "execution_count": 86
  },
  {
   "metadata": {
    "ExecuteTime": {
     "end_time": "2024-06-17T10:04:19.702942Z",
     "start_time": "2024-06-17T10:04:19.685750Z"
    }
   },
   "cell_type": "code",
   "source": [
    "# explore effects of padding: \n",
    "def line_plot_partial_gauss_tile_size_tt_mals_runtime(matrix_str: str, pg_df: pd.DataFrame):\n",
    "    default_colorscale = px.colors.sequential.Jet\n",
    "    colors = px.colors.sample_colorscale(default_colorscale, 11)\n",
    "    fig = px.line(pg_df[pg_df[\"matrix_name\"] == matrix_str], x=\"tile_size\", y=\"log_obj_func\", color=\"partial_gauss\", symbol=\"partial_gauss\", log_x=True, color_discrete_sequence=colors,\n",
    "                     labels={\n",
    "                         \"tile_size\": \"Tile size\",\n",
    "                     })\n",
    "    fig.update_layout(\n",
    "        title={\n",
    "            'text': \"Influence of tile size choice and partial Gauss on TT-MALS runtime ({})\".format(matrix_str),\n",
    "            'x':0.5,\n",
    "            'xanchor': 'center',\n",
    "            'yanchor': 'top'\n",
    "        },\n",
    "        plot_bgcolor='white',   # Plot area background color\n",
    "        paper_bgcolor='white',  # Entire figure background color\n",
    "        font=dict(color='black'), # Font color\n",
    "        yaxis_title=r'$\\log(I^6 + rI^3 + r^2I^2)$'\n",
    "    )\n",
    "    fig.show()\n",
    "    \n",
    "    fig.write_image(\"plots/{}_partial_gauss_tile_size_vs_log_obj_func.pdf\".format(matrix_str))"
   ],
   "id": "6e65f93499171c7d",
   "outputs": [],
   "execution_count": 91
  },
  {
   "metadata": {
    "ExecuteTime": {
     "end_time": "2024-06-17T10:58:22.528292Z",
     "start_time": "2024-06-17T10:58:21.818894Z"
    }
   },
   "cell_type": "code",
   "source": [
    "df3.sort_values(by=[\"partial_gauss\", \"tile_size\"], inplace=True)\n",
    "df3 = df3[df3[\"amd\"] == False]\n",
    "line_plot_partial_gauss_tile_size_tt_mals_runtime(\"ex13\", df3)"
   ],
   "id": "fb6a14b0933214be",
   "outputs": [
    {
     "data": {
      "application/vnd.plotly.v1+json": {
       "data": [
        {
         "hovertemplate": "partial_gauss=0<br>Tile size=%{x}<br>log_obj_func=%{y}<extra></extra>",
         "legendgroup": "0",
         "line": {
          "color": "rgb(0, 0, 131)",
          "dash": "solid"
         },
         "marker": {
          "symbol": "circle"
         },
         "mode": "lines+markers",
         "name": "0",
         "orientation": "v",
         "showlegend": true,
         "x": [
          2.0,
          3.0,
          4.0,
          6.0,
          8.0,
          12.0,
          24.0,
          107.0,
          214.0,
          321.0,
          428.0,
          642.0,
          856.0,
          1284.0,
          2568.0
         ],
         "xaxis": "x",
         "y": [
          29.611911589663677,
          29.03896767890964,
          28.542605385104025,
          28.245248071694142,
          28.13580687267735,
          28.068312597290536,
          28.043064064861323,
          28.03709123328237,
          32.195860110580796,
          34.62864744949679,
          36.35473938519418,
          38.78752986051999,
          40.51362226810204,
          42.9464129073949,
          47.105295988918186
         ],
         "yaxis": "y",
         "type": "scatter"
        },
        {
         "hovertemplate": "partial_gauss=1<br>Tile size=%{x}<br>log_obj_func=%{y}<extra></extra>",
         "legendgroup": "1",
         "line": {
          "color": "rgb(0, 30, 150)",
          "dash": "solid"
         },
         "marker": {
          "symbol": "diamond"
         },
         "mode": "lines+markers",
         "name": "1",
         "orientation": "v",
         "showlegend": true,
         "x": [
          17.0,
          151.0,
          2567.0
         ],
         "xaxis": "x",
         "y": [
          30.10769577453158,
          30.103698836591136,
          47.10295908528598
         ],
         "yaxis": "y",
         "type": "scatter"
        },
        {
         "hovertemplate": "partial_gauss=2<br>Tile size=%{x}<br>log_obj_func=%{y}<extra></extra>",
         "legendgroup": "2",
         "line": {
          "color": "rgb(0, 60, 170)",
          "dash": "solid"
         },
         "marker": {
          "symbol": "square"
         },
         "mode": "lines+markers",
         "name": "2",
         "orientation": "v",
         "showlegend": true,
         "x": [
          2.0,
          1283.0,
          2566.0
         ],
         "xaxis": "x",
         "y": [
          42.941932984915894,
          42.94173818959372,
          47.1006212711127
         ],
         "yaxis": "y",
         "type": "scatter"
        },
        {
         "hovertemplate": "partial_gauss=3<br>Tile size=%{x}<br>log_obj_func=%{y}<extra></extra>",
         "legendgroup": "3",
         "line": {
          "color": "rgb(2, 157, 212)",
          "dash": "solid"
         },
         "marker": {
          "symbol": "x"
         },
         "mode": "lines+markers",
         "name": "3",
         "orientation": "v",
         "showlegend": true,
         "x": [
          3.0,
          5.0,
          9.0,
          15.0,
          19.0,
          27.0,
          45.0,
          57.0,
          95.0,
          135.0,
          171.0,
          285.0,
          513.0,
          855.0,
          2565.0
         ],
         "xaxis": "x",
         "y": [
          25.11766663293107,
          23.737703965532297,
          21.998713891546007,
          20.62448679027422,
          20.059551417675475,
          20.45359161744057,
          22.868877990031194,
          24.264590216690607,
          27.32348293170032,
          29.43168466570005,
          30.849992101076985,
          33.91493625629848,
          37.441655169757,
          40.50660882491178,
          47.0982825456885
         ],
         "yaxis": "y",
         "type": "scatter"
        },
        {
         "hovertemplate": "partial_gauss=4<br>Tile size=%{x}<br>log_obj_func=%{y}<extra></extra>",
         "legendgroup": "4",
         "line": {
          "color": "rgb(5, 255, 255)",
          "dash": "solid"
         },
         "marker": {
          "symbol": "cross"
         },
         "mode": "lines+markers",
         "name": "4",
         "orientation": "v",
         "showlegend": true,
         "x": [
          2.0,
          4.0,
          641.0,
          1282.0,
          2564.0
         ],
         "xaxis": "x",
         "y": [
          38.78121154622173,
          38.77871570375053,
          38.77817678008507,
          42.93705982678805,
          47.09594290830271
         ],
         "yaxis": "y",
         "type": "scatter"
        },
        {
         "hovertemplate": "partial_gauss=5<br>Tile size=%{x}<br>log_obj_func=%{y}<extra></extra>",
         "legendgroup": "5",
         "line": {
          "color": "rgb(130, 255, 128)",
          "dash": "solid"
         },
         "marker": {
          "symbol": "circle"
         },
         "mode": "lines+markers",
         "name": "5",
         "orientation": "v",
         "showlegend": true,
         "x": [
          11.0,
          233.0,
          2563.0
         ],
         "xaxis": "x",
         "y": [
          32.708259838047184,
          32.70623349817331,
          47.09360235824384
         ],
         "yaxis": "y",
         "type": "scatter"
        },
        {
         "hovertemplate": "partial_gauss=6<br>Tile size=%{x}<br>log_obj_func=%{y}<extra></extra>",
         "legendgroup": "6",
         "line": {
          "color": "rgb(255, 255, 0)",
          "dash": "solid"
         },
         "marker": {
          "symbol": "diamond"
         },
         "mode": "lines+markers",
         "name": "6",
         "orientation": "v",
         "showlegend": true,
         "x": [
          2.0,
          3.0,
          6.0,
          7.0,
          14.0,
          21.0,
          42.0,
          61.0,
          122.0,
          183.0,
          366.0,
          427.0,
          854.0,
          1281.0,
          2562.0
         ],
         "xaxis": "x",
         "y": [
          28.278903012849362,
          27.511124958807663,
          25.817985501150165,
          25.57866889980615,
          24.854247612204222,
          24.74186663770477,
          24.676074229651974,
          24.669484551527685,
          28.824185756515895,
          31.25692487055737,
          35.4158004080605,
          36.340704292584,
          40.499587174062455,
          42.932377813289236,
          47.09126089479957
         ],
         "yaxis": "y",
         "type": "scatter"
        },
        {
         "hovertemplate": "partial_gauss=7<br>Tile size=%{x}<br>log_obj_func=%{y}<extra></extra>",
         "legendgroup": "7",
         "line": {
          "color": "rgb(252, 128, 0)",
          "dash": "solid"
         },
         "marker": {
          "symbol": "square"
         },
         "mode": "lines+markers",
         "name": "7",
         "orientation": "v",
         "showlegend": true,
         "x": [
          13.0,
          197.0,
          2561.0
         ],
         "xaxis": "x",
         "y": [
          31.70173098032291,
          31.699228120886804,
          47.08891851725671
         ],
         "yaxis": "y",
         "type": "scatter"
        },
        {
         "hovertemplate": "partial_gauss=8<br>Tile size=%{x}<br>log_obj_func=%{y}<extra></extra>",
         "legendgroup": "8",
         "line": {
          "color": "rgb(250, 0, 0)",
          "dash": "solid"
         },
         "marker": {
          "symbol": "x"
         },
         "mode": "lines+markers",
         "name": "8",
         "orientation": "v",
         "showlegend": true,
         "x": [
          2.0,
          4.0,
          5.0,
          8.0,
          10.0,
          16.0,
          20.0,
          32.0,
          40.0,
          64.0,
          80.0,
          128.0,
          160.0,
          256.0,
          320.0,
          512.0,
          640.0,
          1280.0,
          2560.0
         ],
         "xaxis": "x",
         "y": [
          23.2446817447615,
          21.47681833292396,
          21.061134437483307,
          20.555370485062642,
          20.347719078085504,
          20.121060092566662,
          20.013221500118483,
          21.07583708904788,
          22.192001012597043,
          24.95638578015343,
          26.292745573948938,
          29.112227358837185,
          30.45105812566192,
          33.27106651834494,
          34.609926692306935,
          37.42994784955386,
          38.768809096865326,
          42.927692143395284,
          47.086575224901274
         ],
         "yaxis": "y",
         "type": "scatter"
        },
        {
         "hovertemplate": "partial_gauss=9<br>Tile size=%{x}<br>log_obj_func=%{y}<extra></extra>",
         "legendgroup": "9",
         "line": {
          "color": "rgb(189, 0, 0)",
          "dash": "solid"
         },
         "marker": {
          "symbol": "cross"
         },
         "mode": "lines+markers",
         "name": "9",
         "orientation": "v",
         "showlegend": true,
         "x": [
          3.0,
          853.0,
          2559.0
         ],
         "xaxis": "x",
         "y": [
          40.493002803499856,
          40.49255729632112,
          47.08423101701843
         ],
         "yaxis": "y",
         "type": "scatter"
        },
        {
         "hovertemplate": "partial_gauss=10<br>Tile size=%{x}<br>log_obj_func=%{y}<extra></extra>",
         "legendgroup": "10",
         "line": {
          "color": "rgb(128, 0, 0)",
          "dash": "solid"
         },
         "marker": {
          "symbol": "circle"
         },
         "mode": "lines+markers",
         "name": "10",
         "orientation": "v",
         "showlegend": true,
         "x": [
          2.0,
          1279.0,
          2558.0
         ],
         "xaxis": "x",
         "y": [
          42.92319919791835,
          42.92300281139086,
          47.081885892892494
         ],
         "yaxis": "y",
         "type": "scatter"
        }
       ],
       "layout": {
        "template": {
         "data": {
          "histogram2dcontour": [
           {
            "type": "histogram2dcontour",
            "colorbar": {
             "outlinewidth": 0,
             "ticks": ""
            },
            "colorscale": [
             [
              0.0,
              "#0d0887"
             ],
             [
              0.1111111111111111,
              "#46039f"
             ],
             [
              0.2222222222222222,
              "#7201a8"
             ],
             [
              0.3333333333333333,
              "#9c179e"
             ],
             [
              0.4444444444444444,
              "#bd3786"
             ],
             [
              0.5555555555555556,
              "#d8576b"
             ],
             [
              0.6666666666666666,
              "#ed7953"
             ],
             [
              0.7777777777777778,
              "#fb9f3a"
             ],
             [
              0.8888888888888888,
              "#fdca26"
             ],
             [
              1.0,
              "#f0f921"
             ]
            ]
           }
          ],
          "choropleth": [
           {
            "type": "choropleth",
            "colorbar": {
             "outlinewidth": 0,
             "ticks": ""
            }
           }
          ],
          "histogram2d": [
           {
            "type": "histogram2d",
            "colorbar": {
             "outlinewidth": 0,
             "ticks": ""
            },
            "colorscale": [
             [
              0.0,
              "#0d0887"
             ],
             [
              0.1111111111111111,
              "#46039f"
             ],
             [
              0.2222222222222222,
              "#7201a8"
             ],
             [
              0.3333333333333333,
              "#9c179e"
             ],
             [
              0.4444444444444444,
              "#bd3786"
             ],
             [
              0.5555555555555556,
              "#d8576b"
             ],
             [
              0.6666666666666666,
              "#ed7953"
             ],
             [
              0.7777777777777778,
              "#fb9f3a"
             ],
             [
              0.8888888888888888,
              "#fdca26"
             ],
             [
              1.0,
              "#f0f921"
             ]
            ]
           }
          ],
          "heatmap": [
           {
            "type": "heatmap",
            "colorbar": {
             "outlinewidth": 0,
             "ticks": ""
            },
            "colorscale": [
             [
              0.0,
              "#0d0887"
             ],
             [
              0.1111111111111111,
              "#46039f"
             ],
             [
              0.2222222222222222,
              "#7201a8"
             ],
             [
              0.3333333333333333,
              "#9c179e"
             ],
             [
              0.4444444444444444,
              "#bd3786"
             ],
             [
              0.5555555555555556,
              "#d8576b"
             ],
             [
              0.6666666666666666,
              "#ed7953"
             ],
             [
              0.7777777777777778,
              "#fb9f3a"
             ],
             [
              0.8888888888888888,
              "#fdca26"
             ],
             [
              1.0,
              "#f0f921"
             ]
            ]
           }
          ],
          "heatmapgl": [
           {
            "type": "heatmapgl",
            "colorbar": {
             "outlinewidth": 0,
             "ticks": ""
            },
            "colorscale": [
             [
              0.0,
              "#0d0887"
             ],
             [
              0.1111111111111111,
              "#46039f"
             ],
             [
              0.2222222222222222,
              "#7201a8"
             ],
             [
              0.3333333333333333,
              "#9c179e"
             ],
             [
              0.4444444444444444,
              "#bd3786"
             ],
             [
              0.5555555555555556,
              "#d8576b"
             ],
             [
              0.6666666666666666,
              "#ed7953"
             ],
             [
              0.7777777777777778,
              "#fb9f3a"
             ],
             [
              0.8888888888888888,
              "#fdca26"
             ],
             [
              1.0,
              "#f0f921"
             ]
            ]
           }
          ],
          "contourcarpet": [
           {
            "type": "contourcarpet",
            "colorbar": {
             "outlinewidth": 0,
             "ticks": ""
            }
           }
          ],
          "contour": [
           {
            "type": "contour",
            "colorbar": {
             "outlinewidth": 0,
             "ticks": ""
            },
            "colorscale": [
             [
              0.0,
              "#0d0887"
             ],
             [
              0.1111111111111111,
              "#46039f"
             ],
             [
              0.2222222222222222,
              "#7201a8"
             ],
             [
              0.3333333333333333,
              "#9c179e"
             ],
             [
              0.4444444444444444,
              "#bd3786"
             ],
             [
              0.5555555555555556,
              "#d8576b"
             ],
             [
              0.6666666666666666,
              "#ed7953"
             ],
             [
              0.7777777777777778,
              "#fb9f3a"
             ],
             [
              0.8888888888888888,
              "#fdca26"
             ],
             [
              1.0,
              "#f0f921"
             ]
            ]
           }
          ],
          "surface": [
           {
            "type": "surface",
            "colorbar": {
             "outlinewidth": 0,
             "ticks": ""
            },
            "colorscale": [
             [
              0.0,
              "#0d0887"
             ],
             [
              0.1111111111111111,
              "#46039f"
             ],
             [
              0.2222222222222222,
              "#7201a8"
             ],
             [
              0.3333333333333333,
              "#9c179e"
             ],
             [
              0.4444444444444444,
              "#bd3786"
             ],
             [
              0.5555555555555556,
              "#d8576b"
             ],
             [
              0.6666666666666666,
              "#ed7953"
             ],
             [
              0.7777777777777778,
              "#fb9f3a"
             ],
             [
              0.8888888888888888,
              "#fdca26"
             ],
             [
              1.0,
              "#f0f921"
             ]
            ]
           }
          ],
          "mesh3d": [
           {
            "type": "mesh3d",
            "colorbar": {
             "outlinewidth": 0,
             "ticks": ""
            }
           }
          ],
          "scatter": [
           {
            "marker": {
             "line": {
              "color": "#283442"
             }
            },
            "type": "scatter"
           }
          ],
          "parcoords": [
           {
            "type": "parcoords",
            "line": {
             "colorbar": {
              "outlinewidth": 0,
              "ticks": ""
             }
            }
           }
          ],
          "scatterpolargl": [
           {
            "type": "scatterpolargl",
            "marker": {
             "colorbar": {
              "outlinewidth": 0,
              "ticks": ""
             }
            }
           }
          ],
          "bar": [
           {
            "error_x": {
             "color": "#f2f5fa"
            },
            "error_y": {
             "color": "#f2f5fa"
            },
            "marker": {
             "line": {
              "color": "rgb(17,17,17)",
              "width": 0.5
             },
             "pattern": {
              "fillmode": "overlay",
              "size": 10,
              "solidity": 0.2
             }
            },
            "type": "bar"
           }
          ],
          "scattergeo": [
           {
            "type": "scattergeo",
            "marker": {
             "colorbar": {
              "outlinewidth": 0,
              "ticks": ""
             }
            }
           }
          ],
          "scatterpolar": [
           {
            "type": "scatterpolar",
            "marker": {
             "colorbar": {
              "outlinewidth": 0,
              "ticks": ""
             }
            }
           }
          ],
          "histogram": [
           {
            "marker": {
             "pattern": {
              "fillmode": "overlay",
              "size": 10,
              "solidity": 0.2
             }
            },
            "type": "histogram"
           }
          ],
          "scattergl": [
           {
            "marker": {
             "line": {
              "color": "#283442"
             }
            },
            "type": "scattergl"
           }
          ],
          "scatter3d": [
           {
            "type": "scatter3d",
            "line": {
             "colorbar": {
              "outlinewidth": 0,
              "ticks": ""
             }
            },
            "marker": {
             "colorbar": {
              "outlinewidth": 0,
              "ticks": ""
             }
            }
           }
          ],
          "scattermapbox": [
           {
            "type": "scattermapbox",
            "marker": {
             "colorbar": {
              "outlinewidth": 0,
              "ticks": ""
             }
            }
           }
          ],
          "scatterternary": [
           {
            "type": "scatterternary",
            "marker": {
             "colorbar": {
              "outlinewidth": 0,
              "ticks": ""
             }
            }
           }
          ],
          "scattercarpet": [
           {
            "type": "scattercarpet",
            "marker": {
             "colorbar": {
              "outlinewidth": 0,
              "ticks": ""
             }
            }
           }
          ],
          "carpet": [
           {
            "aaxis": {
             "endlinecolor": "#A2B1C6",
             "gridcolor": "#506784",
             "linecolor": "#506784",
             "minorgridcolor": "#506784",
             "startlinecolor": "#A2B1C6"
            },
            "baxis": {
             "endlinecolor": "#A2B1C6",
             "gridcolor": "#506784",
             "linecolor": "#506784",
             "minorgridcolor": "#506784",
             "startlinecolor": "#A2B1C6"
            },
            "type": "carpet"
           }
          ],
          "table": [
           {
            "cells": {
             "fill": {
              "color": "#506784"
             },
             "line": {
              "color": "rgb(17,17,17)"
             }
            },
            "header": {
             "fill": {
              "color": "#2a3f5f"
             },
             "line": {
              "color": "rgb(17,17,17)"
             }
            },
            "type": "table"
           }
          ],
          "barpolar": [
           {
            "marker": {
             "line": {
              "color": "rgb(17,17,17)",
              "width": 0.5
             },
             "pattern": {
              "fillmode": "overlay",
              "size": 10,
              "solidity": 0.2
             }
            },
            "type": "barpolar"
           }
          ],
          "pie": [
           {
            "automargin": true,
            "type": "pie"
           }
          ]
         },
         "layout": {
          "autotypenumbers": "strict",
          "colorway": [
           "#636efa",
           "#EF553B",
           "#00cc96",
           "#ab63fa",
           "#FFA15A",
           "#19d3f3",
           "#FF6692",
           "#B6E880",
           "#FF97FF",
           "#FECB52"
          ],
          "font": {
           "color": "#f2f5fa"
          },
          "hovermode": "closest",
          "hoverlabel": {
           "align": "left"
          },
          "paper_bgcolor": "rgb(17,17,17)",
          "plot_bgcolor": "rgb(17,17,17)",
          "polar": {
           "bgcolor": "rgb(17,17,17)",
           "angularaxis": {
            "gridcolor": "#506784",
            "linecolor": "#506784",
            "ticks": ""
           },
           "radialaxis": {
            "gridcolor": "#506784",
            "linecolor": "#506784",
            "ticks": ""
           }
          },
          "ternary": {
           "bgcolor": "rgb(17,17,17)",
           "aaxis": {
            "gridcolor": "#506784",
            "linecolor": "#506784",
            "ticks": ""
           },
           "baxis": {
            "gridcolor": "#506784",
            "linecolor": "#506784",
            "ticks": ""
           },
           "caxis": {
            "gridcolor": "#506784",
            "linecolor": "#506784",
            "ticks": ""
           }
          },
          "coloraxis": {
           "colorbar": {
            "outlinewidth": 0,
            "ticks": ""
           }
          },
          "colorscale": {
           "sequential": [
            [
             0.0,
             "#0d0887"
            ],
            [
             0.1111111111111111,
             "#46039f"
            ],
            [
             0.2222222222222222,
             "#7201a8"
            ],
            [
             0.3333333333333333,
             "#9c179e"
            ],
            [
             0.4444444444444444,
             "#bd3786"
            ],
            [
             0.5555555555555556,
             "#d8576b"
            ],
            [
             0.6666666666666666,
             "#ed7953"
            ],
            [
             0.7777777777777778,
             "#fb9f3a"
            ],
            [
             0.8888888888888888,
             "#fdca26"
            ],
            [
             1.0,
             "#f0f921"
            ]
           ],
           "sequentialminus": [
            [
             0.0,
             "#0d0887"
            ],
            [
             0.1111111111111111,
             "#46039f"
            ],
            [
             0.2222222222222222,
             "#7201a8"
            ],
            [
             0.3333333333333333,
             "#9c179e"
            ],
            [
             0.4444444444444444,
             "#bd3786"
            ],
            [
             0.5555555555555556,
             "#d8576b"
            ],
            [
             0.6666666666666666,
             "#ed7953"
            ],
            [
             0.7777777777777778,
             "#fb9f3a"
            ],
            [
             0.8888888888888888,
             "#fdca26"
            ],
            [
             1.0,
             "#f0f921"
            ]
           ],
           "diverging": [
            [
             0,
             "#8e0152"
            ],
            [
             0.1,
             "#c51b7d"
            ],
            [
             0.2,
             "#de77ae"
            ],
            [
             0.3,
             "#f1b6da"
            ],
            [
             0.4,
             "#fde0ef"
            ],
            [
             0.5,
             "#f7f7f7"
            ],
            [
             0.6,
             "#e6f5d0"
            ],
            [
             0.7,
             "#b8e186"
            ],
            [
             0.8,
             "#7fbc41"
            ],
            [
             0.9,
             "#4d9221"
            ],
            [
             1,
             "#276419"
            ]
           ]
          },
          "xaxis": {
           "gridcolor": "#283442",
           "linecolor": "#506784",
           "ticks": "",
           "title": {
            "standoff": 15
           },
           "zerolinecolor": "#283442",
           "automargin": true,
           "zerolinewidth": 2
          },
          "yaxis": {
           "gridcolor": "#283442",
           "linecolor": "#506784",
           "ticks": "",
           "title": {
            "standoff": 15
           },
           "zerolinecolor": "#283442",
           "automargin": true,
           "zerolinewidth": 2
          },
          "scene": {
           "xaxis": {
            "backgroundcolor": "rgb(17,17,17)",
            "gridcolor": "#506784",
            "linecolor": "#506784",
            "showbackground": true,
            "ticks": "",
            "zerolinecolor": "#C8D4E3",
            "gridwidth": 2
           },
           "yaxis": {
            "backgroundcolor": "rgb(17,17,17)",
            "gridcolor": "#506784",
            "linecolor": "#506784",
            "showbackground": true,
            "ticks": "",
            "zerolinecolor": "#C8D4E3",
            "gridwidth": 2
           },
           "zaxis": {
            "backgroundcolor": "rgb(17,17,17)",
            "gridcolor": "#506784",
            "linecolor": "#506784",
            "showbackground": true,
            "ticks": "",
            "zerolinecolor": "#C8D4E3",
            "gridwidth": 2
           }
          },
          "shapedefaults": {
           "line": {
            "color": "#f2f5fa"
           }
          },
          "annotationdefaults": {
           "arrowcolor": "#f2f5fa",
           "arrowhead": 0,
           "arrowwidth": 1
          },
          "geo": {
           "bgcolor": "rgb(17,17,17)",
           "landcolor": "rgb(17,17,17)",
           "subunitcolor": "#506784",
           "showland": true,
           "showlakes": true,
           "lakecolor": "rgb(17,17,17)"
          },
          "title": {
           "x": 0.05
          },
          "updatemenudefaults": {
           "bgcolor": "#506784",
           "borderwidth": 0
          },
          "sliderdefaults": {
           "bgcolor": "#C8D4E3",
           "borderwidth": 1,
           "bordercolor": "rgb(17,17,17)",
           "tickwidth": 0
          },
          "mapbox": {
           "style": "dark"
          }
         }
        },
        "xaxis": {
         "anchor": "y",
         "domain": [
          0.0,
          1.0
         ],
         "title": {
          "text": "Tile size"
         },
         "type": "log"
        },
        "yaxis": {
         "anchor": "x",
         "domain": [
          0.0,
          1.0
         ],
         "title": {
          "text": "$\\log(I^6 + rI^3 + r^2I^2)$"
         }
        },
        "legend": {
         "title": {
          "text": "partial_gauss"
         },
         "tracegroupgap": 0
        },
        "margin": {
         "t": 60
        },
        "title": {
         "text": "Influence of tile size choice and partial Gauss on TT-MALS runtime (ex13)",
         "x": 0.5,
         "xanchor": "center",
         "yanchor": "top"
        },
        "font": {
         "color": "black"
        },
        "plot_bgcolor": "white",
        "paper_bgcolor": "white"
       },
       "config": {
        "plotlyServerURL": "https://plot.ly"
       }
      },
      "text/html": [
       "<div>                            <div id=\"80114481-0193-4740-9e35-6d0c684473a2\" class=\"plotly-graph-div\" style=\"height:525px; width:100%;\"></div>            <script type=\"text/javascript\">                require([\"plotly\"], function(Plotly) {                    window.PLOTLYENV=window.PLOTLYENV || {};                                    if (document.getElementById(\"80114481-0193-4740-9e35-6d0c684473a2\")) {                    Plotly.newPlot(                        \"80114481-0193-4740-9e35-6d0c684473a2\",                        [{\"hovertemplate\":\"partial_gauss=0\\u003cbr\\u003eTile size=%{x}\\u003cbr\\u003elog_obj_func=%{y}\\u003cextra\\u003e\\u003c\\u002fextra\\u003e\",\"legendgroup\":\"0\",\"line\":{\"color\":\"rgb(0, 0, 131)\",\"dash\":\"solid\"},\"marker\":{\"symbol\":\"circle\"},\"mode\":\"lines+markers\",\"name\":\"0\",\"orientation\":\"v\",\"showlegend\":true,\"x\":[2.0,3.0,4.0,6.0,8.0,12.0,24.0,107.0,214.0,321.0,428.0,642.0,856.0,1284.0,2568.0],\"xaxis\":\"x\",\"y\":[29.611911589663677,29.03896767890964,28.542605385104025,28.245248071694142,28.13580687267735,28.068312597290536,28.043064064861323,28.03709123328237,32.195860110580796,34.62864744949679,36.35473938519418,38.78752986051999,40.51362226810204,42.9464129073949,47.105295988918186],\"yaxis\":\"y\",\"type\":\"scatter\"},{\"hovertemplate\":\"partial_gauss=1\\u003cbr\\u003eTile size=%{x}\\u003cbr\\u003elog_obj_func=%{y}\\u003cextra\\u003e\\u003c\\u002fextra\\u003e\",\"legendgroup\":\"1\",\"line\":{\"color\":\"rgb(0, 30, 150)\",\"dash\":\"solid\"},\"marker\":{\"symbol\":\"diamond\"},\"mode\":\"lines+markers\",\"name\":\"1\",\"orientation\":\"v\",\"showlegend\":true,\"x\":[17.0,151.0,2567.0],\"xaxis\":\"x\",\"y\":[30.10769577453158,30.103698836591136,47.10295908528598],\"yaxis\":\"y\",\"type\":\"scatter\"},{\"hovertemplate\":\"partial_gauss=2\\u003cbr\\u003eTile size=%{x}\\u003cbr\\u003elog_obj_func=%{y}\\u003cextra\\u003e\\u003c\\u002fextra\\u003e\",\"legendgroup\":\"2\",\"line\":{\"color\":\"rgb(0, 60, 170)\",\"dash\":\"solid\"},\"marker\":{\"symbol\":\"square\"},\"mode\":\"lines+markers\",\"name\":\"2\",\"orientation\":\"v\",\"showlegend\":true,\"x\":[2.0,1283.0,2566.0],\"xaxis\":\"x\",\"y\":[42.941932984915894,42.94173818959372,47.1006212711127],\"yaxis\":\"y\",\"type\":\"scatter\"},{\"hovertemplate\":\"partial_gauss=3\\u003cbr\\u003eTile size=%{x}\\u003cbr\\u003elog_obj_func=%{y}\\u003cextra\\u003e\\u003c\\u002fextra\\u003e\",\"legendgroup\":\"3\",\"line\":{\"color\":\"rgb(2, 157, 212)\",\"dash\":\"solid\"},\"marker\":{\"symbol\":\"x\"},\"mode\":\"lines+markers\",\"name\":\"3\",\"orientation\":\"v\",\"showlegend\":true,\"x\":[3.0,5.0,9.0,15.0,19.0,27.0,45.0,57.0,95.0,135.0,171.0,285.0,513.0,855.0,2565.0],\"xaxis\":\"x\",\"y\":[25.11766663293107,23.737703965532297,21.998713891546007,20.62448679027422,20.059551417675475,20.45359161744057,22.868877990031194,24.264590216690607,27.32348293170032,29.43168466570005,30.849992101076985,33.91493625629848,37.441655169757,40.50660882491178,47.0982825456885],\"yaxis\":\"y\",\"type\":\"scatter\"},{\"hovertemplate\":\"partial_gauss=4\\u003cbr\\u003eTile size=%{x}\\u003cbr\\u003elog_obj_func=%{y}\\u003cextra\\u003e\\u003c\\u002fextra\\u003e\",\"legendgroup\":\"4\",\"line\":{\"color\":\"rgb(5, 255, 255)\",\"dash\":\"solid\"},\"marker\":{\"symbol\":\"cross\"},\"mode\":\"lines+markers\",\"name\":\"4\",\"orientation\":\"v\",\"showlegend\":true,\"x\":[2.0,4.0,641.0,1282.0,2564.0],\"xaxis\":\"x\",\"y\":[38.78121154622173,38.77871570375053,38.77817678008507,42.93705982678805,47.09594290830271],\"yaxis\":\"y\",\"type\":\"scatter\"},{\"hovertemplate\":\"partial_gauss=5\\u003cbr\\u003eTile size=%{x}\\u003cbr\\u003elog_obj_func=%{y}\\u003cextra\\u003e\\u003c\\u002fextra\\u003e\",\"legendgroup\":\"5\",\"line\":{\"color\":\"rgb(130, 255, 128)\",\"dash\":\"solid\"},\"marker\":{\"symbol\":\"circle\"},\"mode\":\"lines+markers\",\"name\":\"5\",\"orientation\":\"v\",\"showlegend\":true,\"x\":[11.0,233.0,2563.0],\"xaxis\":\"x\",\"y\":[32.708259838047184,32.70623349817331,47.09360235824384],\"yaxis\":\"y\",\"type\":\"scatter\"},{\"hovertemplate\":\"partial_gauss=6\\u003cbr\\u003eTile size=%{x}\\u003cbr\\u003elog_obj_func=%{y}\\u003cextra\\u003e\\u003c\\u002fextra\\u003e\",\"legendgroup\":\"6\",\"line\":{\"color\":\"rgb(255, 255, 0)\",\"dash\":\"solid\"},\"marker\":{\"symbol\":\"diamond\"},\"mode\":\"lines+markers\",\"name\":\"6\",\"orientation\":\"v\",\"showlegend\":true,\"x\":[2.0,3.0,6.0,7.0,14.0,21.0,42.0,61.0,122.0,183.0,366.0,427.0,854.0,1281.0,2562.0],\"xaxis\":\"x\",\"y\":[28.278903012849362,27.511124958807663,25.817985501150165,25.57866889980615,24.854247612204222,24.74186663770477,24.676074229651974,24.669484551527685,28.824185756515895,31.25692487055737,35.4158004080605,36.340704292584,40.499587174062455,42.932377813289236,47.09126089479957],\"yaxis\":\"y\",\"type\":\"scatter\"},{\"hovertemplate\":\"partial_gauss=7\\u003cbr\\u003eTile size=%{x}\\u003cbr\\u003elog_obj_func=%{y}\\u003cextra\\u003e\\u003c\\u002fextra\\u003e\",\"legendgroup\":\"7\",\"line\":{\"color\":\"rgb(252, 128, 0)\",\"dash\":\"solid\"},\"marker\":{\"symbol\":\"square\"},\"mode\":\"lines+markers\",\"name\":\"7\",\"orientation\":\"v\",\"showlegend\":true,\"x\":[13.0,197.0,2561.0],\"xaxis\":\"x\",\"y\":[31.70173098032291,31.699228120886804,47.08891851725671],\"yaxis\":\"y\",\"type\":\"scatter\"},{\"hovertemplate\":\"partial_gauss=8\\u003cbr\\u003eTile size=%{x}\\u003cbr\\u003elog_obj_func=%{y}\\u003cextra\\u003e\\u003c\\u002fextra\\u003e\",\"legendgroup\":\"8\",\"line\":{\"color\":\"rgb(250, 0, 0)\",\"dash\":\"solid\"},\"marker\":{\"symbol\":\"x\"},\"mode\":\"lines+markers\",\"name\":\"8\",\"orientation\":\"v\",\"showlegend\":true,\"x\":[2.0,4.0,5.0,8.0,10.0,16.0,20.0,32.0,40.0,64.0,80.0,128.0,160.0,256.0,320.0,512.0,640.0,1280.0,2560.0],\"xaxis\":\"x\",\"y\":[23.2446817447615,21.47681833292396,21.061134437483307,20.555370485062642,20.347719078085504,20.121060092566662,20.013221500118483,21.07583708904788,22.192001012597043,24.95638578015343,26.292745573948938,29.112227358837185,30.45105812566192,33.27106651834494,34.609926692306935,37.42994784955386,38.768809096865326,42.927692143395284,47.086575224901274],\"yaxis\":\"y\",\"type\":\"scatter\"},{\"hovertemplate\":\"partial_gauss=9\\u003cbr\\u003eTile size=%{x}\\u003cbr\\u003elog_obj_func=%{y}\\u003cextra\\u003e\\u003c\\u002fextra\\u003e\",\"legendgroup\":\"9\",\"line\":{\"color\":\"rgb(189, 0, 0)\",\"dash\":\"solid\"},\"marker\":{\"symbol\":\"cross\"},\"mode\":\"lines+markers\",\"name\":\"9\",\"orientation\":\"v\",\"showlegend\":true,\"x\":[3.0,853.0,2559.0],\"xaxis\":\"x\",\"y\":[40.493002803499856,40.49255729632112,47.08423101701843],\"yaxis\":\"y\",\"type\":\"scatter\"},{\"hovertemplate\":\"partial_gauss=10\\u003cbr\\u003eTile size=%{x}\\u003cbr\\u003elog_obj_func=%{y}\\u003cextra\\u003e\\u003c\\u002fextra\\u003e\",\"legendgroup\":\"10\",\"line\":{\"color\":\"rgb(128, 0, 0)\",\"dash\":\"solid\"},\"marker\":{\"symbol\":\"circle\"},\"mode\":\"lines+markers\",\"name\":\"10\",\"orientation\":\"v\",\"showlegend\":true,\"x\":[2.0,1279.0,2558.0],\"xaxis\":\"x\",\"y\":[42.92319919791835,42.92300281139086,47.081885892892494],\"yaxis\":\"y\",\"type\":\"scatter\"}],                        {\"template\":{\"data\":{\"histogram2dcontour\":[{\"type\":\"histogram2dcontour\",\"colorbar\":{\"outlinewidth\":0,\"ticks\":\"\"},\"colorscale\":[[0.0,\"#0d0887\"],[0.1111111111111111,\"#46039f\"],[0.2222222222222222,\"#7201a8\"],[0.3333333333333333,\"#9c179e\"],[0.4444444444444444,\"#bd3786\"],[0.5555555555555556,\"#d8576b\"],[0.6666666666666666,\"#ed7953\"],[0.7777777777777778,\"#fb9f3a\"],[0.8888888888888888,\"#fdca26\"],[1.0,\"#f0f921\"]]}],\"choropleth\":[{\"type\":\"choropleth\",\"colorbar\":{\"outlinewidth\":0,\"ticks\":\"\"}}],\"histogram2d\":[{\"type\":\"histogram2d\",\"colorbar\":{\"outlinewidth\":0,\"ticks\":\"\"},\"colorscale\":[[0.0,\"#0d0887\"],[0.1111111111111111,\"#46039f\"],[0.2222222222222222,\"#7201a8\"],[0.3333333333333333,\"#9c179e\"],[0.4444444444444444,\"#bd3786\"],[0.5555555555555556,\"#d8576b\"],[0.6666666666666666,\"#ed7953\"],[0.7777777777777778,\"#fb9f3a\"],[0.8888888888888888,\"#fdca26\"],[1.0,\"#f0f921\"]]}],\"heatmap\":[{\"type\":\"heatmap\",\"colorbar\":{\"outlinewidth\":0,\"ticks\":\"\"},\"colorscale\":[[0.0,\"#0d0887\"],[0.1111111111111111,\"#46039f\"],[0.2222222222222222,\"#7201a8\"],[0.3333333333333333,\"#9c179e\"],[0.4444444444444444,\"#bd3786\"],[0.5555555555555556,\"#d8576b\"],[0.6666666666666666,\"#ed7953\"],[0.7777777777777778,\"#fb9f3a\"],[0.8888888888888888,\"#fdca26\"],[1.0,\"#f0f921\"]]}],\"heatmapgl\":[{\"type\":\"heatmapgl\",\"colorbar\":{\"outlinewidth\":0,\"ticks\":\"\"},\"colorscale\":[[0.0,\"#0d0887\"],[0.1111111111111111,\"#46039f\"],[0.2222222222222222,\"#7201a8\"],[0.3333333333333333,\"#9c179e\"],[0.4444444444444444,\"#bd3786\"],[0.5555555555555556,\"#d8576b\"],[0.6666666666666666,\"#ed7953\"],[0.7777777777777778,\"#fb9f3a\"],[0.8888888888888888,\"#fdca26\"],[1.0,\"#f0f921\"]]}],\"contourcarpet\":[{\"type\":\"contourcarpet\",\"colorbar\":{\"outlinewidth\":0,\"ticks\":\"\"}}],\"contour\":[{\"type\":\"contour\",\"colorbar\":{\"outlinewidth\":0,\"ticks\":\"\"},\"colorscale\":[[0.0,\"#0d0887\"],[0.1111111111111111,\"#46039f\"],[0.2222222222222222,\"#7201a8\"],[0.3333333333333333,\"#9c179e\"],[0.4444444444444444,\"#bd3786\"],[0.5555555555555556,\"#d8576b\"],[0.6666666666666666,\"#ed7953\"],[0.7777777777777778,\"#fb9f3a\"],[0.8888888888888888,\"#fdca26\"],[1.0,\"#f0f921\"]]}],\"surface\":[{\"type\":\"surface\",\"colorbar\":{\"outlinewidth\":0,\"ticks\":\"\"},\"colorscale\":[[0.0,\"#0d0887\"],[0.1111111111111111,\"#46039f\"],[0.2222222222222222,\"#7201a8\"],[0.3333333333333333,\"#9c179e\"],[0.4444444444444444,\"#bd3786\"],[0.5555555555555556,\"#d8576b\"],[0.6666666666666666,\"#ed7953\"],[0.7777777777777778,\"#fb9f3a\"],[0.8888888888888888,\"#fdca26\"],[1.0,\"#f0f921\"]]}],\"mesh3d\":[{\"type\":\"mesh3d\",\"colorbar\":{\"outlinewidth\":0,\"ticks\":\"\"}}],\"scatter\":[{\"marker\":{\"line\":{\"color\":\"#283442\"}},\"type\":\"scatter\"}],\"parcoords\":[{\"type\":\"parcoords\",\"line\":{\"colorbar\":{\"outlinewidth\":0,\"ticks\":\"\"}}}],\"scatterpolargl\":[{\"type\":\"scatterpolargl\",\"marker\":{\"colorbar\":{\"outlinewidth\":0,\"ticks\":\"\"}}}],\"bar\":[{\"error_x\":{\"color\":\"#f2f5fa\"},\"error_y\":{\"color\":\"#f2f5fa\"},\"marker\":{\"line\":{\"color\":\"rgb(17,17,17)\",\"width\":0.5},\"pattern\":{\"fillmode\":\"overlay\",\"size\":10,\"solidity\":0.2}},\"type\":\"bar\"}],\"scattergeo\":[{\"type\":\"scattergeo\",\"marker\":{\"colorbar\":{\"outlinewidth\":0,\"ticks\":\"\"}}}],\"scatterpolar\":[{\"type\":\"scatterpolar\",\"marker\":{\"colorbar\":{\"outlinewidth\":0,\"ticks\":\"\"}}}],\"histogram\":[{\"marker\":{\"pattern\":{\"fillmode\":\"overlay\",\"size\":10,\"solidity\":0.2}},\"type\":\"histogram\"}],\"scattergl\":[{\"marker\":{\"line\":{\"color\":\"#283442\"}},\"type\":\"scattergl\"}],\"scatter3d\":[{\"type\":\"scatter3d\",\"line\":{\"colorbar\":{\"outlinewidth\":0,\"ticks\":\"\"}},\"marker\":{\"colorbar\":{\"outlinewidth\":0,\"ticks\":\"\"}}}],\"scattermapbox\":[{\"type\":\"scattermapbox\",\"marker\":{\"colorbar\":{\"outlinewidth\":0,\"ticks\":\"\"}}}],\"scatterternary\":[{\"type\":\"scatterternary\",\"marker\":{\"colorbar\":{\"outlinewidth\":0,\"ticks\":\"\"}}}],\"scattercarpet\":[{\"type\":\"scattercarpet\",\"marker\":{\"colorbar\":{\"outlinewidth\":0,\"ticks\":\"\"}}}],\"carpet\":[{\"aaxis\":{\"endlinecolor\":\"#A2B1C6\",\"gridcolor\":\"#506784\",\"linecolor\":\"#506784\",\"minorgridcolor\":\"#506784\",\"startlinecolor\":\"#A2B1C6\"},\"baxis\":{\"endlinecolor\":\"#A2B1C6\",\"gridcolor\":\"#506784\",\"linecolor\":\"#506784\",\"minorgridcolor\":\"#506784\",\"startlinecolor\":\"#A2B1C6\"},\"type\":\"carpet\"}],\"table\":[{\"cells\":{\"fill\":{\"color\":\"#506784\"},\"line\":{\"color\":\"rgb(17,17,17)\"}},\"header\":{\"fill\":{\"color\":\"#2a3f5f\"},\"line\":{\"color\":\"rgb(17,17,17)\"}},\"type\":\"table\"}],\"barpolar\":[{\"marker\":{\"line\":{\"color\":\"rgb(17,17,17)\",\"width\":0.5},\"pattern\":{\"fillmode\":\"overlay\",\"size\":10,\"solidity\":0.2}},\"type\":\"barpolar\"}],\"pie\":[{\"automargin\":true,\"type\":\"pie\"}]},\"layout\":{\"autotypenumbers\":\"strict\",\"colorway\":[\"#636efa\",\"#EF553B\",\"#00cc96\",\"#ab63fa\",\"#FFA15A\",\"#19d3f3\",\"#FF6692\",\"#B6E880\",\"#FF97FF\",\"#FECB52\"],\"font\":{\"color\":\"#f2f5fa\"},\"hovermode\":\"closest\",\"hoverlabel\":{\"align\":\"left\"},\"paper_bgcolor\":\"rgb(17,17,17)\",\"plot_bgcolor\":\"rgb(17,17,17)\",\"polar\":{\"bgcolor\":\"rgb(17,17,17)\",\"angularaxis\":{\"gridcolor\":\"#506784\",\"linecolor\":\"#506784\",\"ticks\":\"\"},\"radialaxis\":{\"gridcolor\":\"#506784\",\"linecolor\":\"#506784\",\"ticks\":\"\"}},\"ternary\":{\"bgcolor\":\"rgb(17,17,17)\",\"aaxis\":{\"gridcolor\":\"#506784\",\"linecolor\":\"#506784\",\"ticks\":\"\"},\"baxis\":{\"gridcolor\":\"#506784\",\"linecolor\":\"#506784\",\"ticks\":\"\"},\"caxis\":{\"gridcolor\":\"#506784\",\"linecolor\":\"#506784\",\"ticks\":\"\"}},\"coloraxis\":{\"colorbar\":{\"outlinewidth\":0,\"ticks\":\"\"}},\"colorscale\":{\"sequential\":[[0.0,\"#0d0887\"],[0.1111111111111111,\"#46039f\"],[0.2222222222222222,\"#7201a8\"],[0.3333333333333333,\"#9c179e\"],[0.4444444444444444,\"#bd3786\"],[0.5555555555555556,\"#d8576b\"],[0.6666666666666666,\"#ed7953\"],[0.7777777777777778,\"#fb9f3a\"],[0.8888888888888888,\"#fdca26\"],[1.0,\"#f0f921\"]],\"sequentialminus\":[[0.0,\"#0d0887\"],[0.1111111111111111,\"#46039f\"],[0.2222222222222222,\"#7201a8\"],[0.3333333333333333,\"#9c179e\"],[0.4444444444444444,\"#bd3786\"],[0.5555555555555556,\"#d8576b\"],[0.6666666666666666,\"#ed7953\"],[0.7777777777777778,\"#fb9f3a\"],[0.8888888888888888,\"#fdca26\"],[1.0,\"#f0f921\"]],\"diverging\":[[0,\"#8e0152\"],[0.1,\"#c51b7d\"],[0.2,\"#de77ae\"],[0.3,\"#f1b6da\"],[0.4,\"#fde0ef\"],[0.5,\"#f7f7f7\"],[0.6,\"#e6f5d0\"],[0.7,\"#b8e186\"],[0.8,\"#7fbc41\"],[0.9,\"#4d9221\"],[1,\"#276419\"]]},\"xaxis\":{\"gridcolor\":\"#283442\",\"linecolor\":\"#506784\",\"ticks\":\"\",\"title\":{\"standoff\":15},\"zerolinecolor\":\"#283442\",\"automargin\":true,\"zerolinewidth\":2},\"yaxis\":{\"gridcolor\":\"#283442\",\"linecolor\":\"#506784\",\"ticks\":\"\",\"title\":{\"standoff\":15},\"zerolinecolor\":\"#283442\",\"automargin\":true,\"zerolinewidth\":2},\"scene\":{\"xaxis\":{\"backgroundcolor\":\"rgb(17,17,17)\",\"gridcolor\":\"#506784\",\"linecolor\":\"#506784\",\"showbackground\":true,\"ticks\":\"\",\"zerolinecolor\":\"#C8D4E3\",\"gridwidth\":2},\"yaxis\":{\"backgroundcolor\":\"rgb(17,17,17)\",\"gridcolor\":\"#506784\",\"linecolor\":\"#506784\",\"showbackground\":true,\"ticks\":\"\",\"zerolinecolor\":\"#C8D4E3\",\"gridwidth\":2},\"zaxis\":{\"backgroundcolor\":\"rgb(17,17,17)\",\"gridcolor\":\"#506784\",\"linecolor\":\"#506784\",\"showbackground\":true,\"ticks\":\"\",\"zerolinecolor\":\"#C8D4E3\",\"gridwidth\":2}},\"shapedefaults\":{\"line\":{\"color\":\"#f2f5fa\"}},\"annotationdefaults\":{\"arrowcolor\":\"#f2f5fa\",\"arrowhead\":0,\"arrowwidth\":1},\"geo\":{\"bgcolor\":\"rgb(17,17,17)\",\"landcolor\":\"rgb(17,17,17)\",\"subunitcolor\":\"#506784\",\"showland\":true,\"showlakes\":true,\"lakecolor\":\"rgb(17,17,17)\"},\"title\":{\"x\":0.05},\"updatemenudefaults\":{\"bgcolor\":\"#506784\",\"borderwidth\":0},\"sliderdefaults\":{\"bgcolor\":\"#C8D4E3\",\"borderwidth\":1,\"bordercolor\":\"rgb(17,17,17)\",\"tickwidth\":0},\"mapbox\":{\"style\":\"dark\"}}},\"xaxis\":{\"anchor\":\"y\",\"domain\":[0.0,1.0],\"title\":{\"text\":\"Tile size\"},\"type\":\"log\"},\"yaxis\":{\"anchor\":\"x\",\"domain\":[0.0,1.0],\"title\":{\"text\":\"$\\\\log(I^6 + rI^3 + r^2I^2)$\"}},\"legend\":{\"title\":{\"text\":\"partial_gauss\"},\"tracegroupgap\":0},\"margin\":{\"t\":60},\"title\":{\"text\":\"Influence of tile size choice and partial Gauss on TT-MALS runtime (ex13)\",\"x\":0.5,\"xanchor\":\"center\",\"yanchor\":\"top\"},\"font\":{\"color\":\"black\"},\"plot_bgcolor\":\"white\",\"paper_bgcolor\":\"white\"},                        {\"responsive\": true}                    ).then(function(){\n",
       "                            \n",
       "var gd = document.getElementById('80114481-0193-4740-9e35-6d0c684473a2');\n",
       "var x = new MutationObserver(function (mutations, observer) {{\n",
       "        var display = window.getComputedStyle(gd).display;\n",
       "        if (!display || display === 'none') {{\n",
       "            console.log([gd, 'removed!']);\n",
       "            Plotly.purge(gd);\n",
       "            observer.disconnect();\n",
       "        }}\n",
       "}});\n",
       "\n",
       "// Listen for the removal of the full notebook cells\n",
       "var notebookContainer = gd.closest('#notebook-container');\n",
       "if (notebookContainer) {{\n",
       "    x.observe(notebookContainer, {childList: true});\n",
       "}}\n",
       "\n",
       "// Listen for the clearing of the current output cell\n",
       "var outputEl = gd.closest('.output');\n",
       "if (outputEl) {{\n",
       "    x.observe(outputEl, {childList: true});\n",
       "}}\n",
       "\n",
       "                        })                };                });            </script>        </div>"
      ]
     },
     "metadata": {},
     "output_type": "display_data"
    }
   ],
   "execution_count": 100
  },
  {
   "metadata": {
    "ExecuteTime": {
     "end_time": "2024-06-17T10:55:50.937448Z",
     "start_time": "2024-06-17T10:55:50.663730Z"
    }
   },
   "cell_type": "code",
   "source": "df3",
   "id": "950d4ac3017e2a7b",
   "outputs": [
    {
     "data": {
      "text/plain": [
       "        amd    rcm  padding   matrix_name  partial_gauss  _step        n  \\\n",
       "410   False  False        0        ex10hs              8    0.0   2540.0   \n",
       "755    True  False        0  Pres_Poisson             10    0.0  14812.0   \n",
       "1033   True  False        0          ex13              6    0.0   2562.0   \n",
       "220   False  False        0          ex15              7    0.0   6860.0   \n",
       "739    True  False        0      bcsstk13              1    0.0   2002.0   \n",
       "...     ...    ...      ...           ...            ...    ...      ...   \n",
       "865    True  False        0  Pres_Poisson              2   46.0  14820.0   \n",
       "194   False  False        0  Pres_Poisson              1    0.0  14821.0   \n",
       "866    True  False        0  Pres_Poisson              1    0.0  14821.0   \n",
       "869    True  False        0  Pres_Poisson              0    2.0  14822.0   \n",
       "197   False  False        0  Pres_Poisson              0    2.0  14822.0   \n",
       "\n",
       "          rank    _runtime  max_mode_size         z  tile_size    _timestamp  \\\n",
       "410    29634.0    2.056748          127.0   50996.0        2.0  1.718616e+09   \n",
       "755   367168.0   47.960515           23.0  724758.0        2.0  1.718616e+09   \n",
       "1033   28379.0    2.371121           61.0   76008.0        2.0  1.718616e+09   \n",
       "220    47692.0    7.051578            7.0   98480.0        2.0  1.718616e+09   \n",
       "739    55321.0    2.683708           13.0   75478.0        2.0  1.718616e+09   \n",
       "...        ...         ...            ...       ...        ...           ...   \n",
       "865        1.0  202.692586        14820.0  717338.0    14820.0  1.718616e+09   \n",
       "194        1.0   11.234797        14821.0  716761.0    14821.0  1.718616e+09   \n",
       "866        1.0   10.992875        14821.0  716739.0    14821.0  1.718616e+09   \n",
       "869        1.0   44.091390        14822.0  715804.0    14822.0  1.718616e+09   \n",
       "197        1.0   35.662364        14822.0  715804.0    14822.0  1.718616e+09   \n",
       "\n",
       "        run_id             run_name  log_obj_func      obj_func  \n",
       "410   n09cw7py       rare-sweep-108     30.544493  1.842064e+13  \n",
       "755   f7w7zlui        fine-sweep-66     31.898203  7.132034e+13  \n",
       "1033  ysu76sl5      floral-sweep-40     28.747714  3.054735e+12  \n",
       "220   57m6zczj    revived-sweep-129     25.437006  1.114683e+11  \n",
       "739   lzvbifir      frosty-sweep-68     26.971959  5.173362e+11  \n",
       "...        ...                  ...           ...           ...  \n",
       "865   lq4r0in1        kind-sweep-58     57.622397  1.059471e+25  \n",
       "194   debbj3wq  celestial-sweep-134     57.622802  1.059900e+25  \n",
       "866   uhookibs       lilac-sweep-57     57.622802  1.059900e+25  \n",
       "869   ivl5iyq2   celestial-sweep-56     57.623207  1.060330e+25  \n",
       "197   jcwzm17x    hopeful-sweep-133     57.623207  1.060330e+25  \n",
       "\n",
       "[1344 rows x 17 columns]"
      ],
      "text/html": [
       "<div>\n",
       "<style scoped>\n",
       "    .dataframe tbody tr th:only-of-type {\n",
       "        vertical-align: middle;\n",
       "    }\n",
       "\n",
       "    .dataframe tbody tr th {\n",
       "        vertical-align: top;\n",
       "    }\n",
       "\n",
       "    .dataframe thead th {\n",
       "        text-align: right;\n",
       "    }\n",
       "</style>\n",
       "<table border=\"1\" class=\"dataframe\">\n",
       "  <thead>\n",
       "    <tr style=\"text-align: right;\">\n",
       "      <th></th>\n",
       "      <th>amd</th>\n",
       "      <th>rcm</th>\n",
       "      <th>padding</th>\n",
       "      <th>matrix_name</th>\n",
       "      <th>partial_gauss</th>\n",
       "      <th>_step</th>\n",
       "      <th>n</th>\n",
       "      <th>rank</th>\n",
       "      <th>_runtime</th>\n",
       "      <th>max_mode_size</th>\n",
       "      <th>z</th>\n",
       "      <th>tile_size</th>\n",
       "      <th>_timestamp</th>\n",
       "      <th>run_id</th>\n",
       "      <th>run_name</th>\n",
       "      <th>log_obj_func</th>\n",
       "      <th>obj_func</th>\n",
       "    </tr>\n",
       "  </thead>\n",
       "  <tbody>\n",
       "    <tr>\n",
       "      <th>410</th>\n",
       "      <td>False</td>\n",
       "      <td>False</td>\n",
       "      <td>0</td>\n",
       "      <td>ex10hs</td>\n",
       "      <td>8</td>\n",
       "      <td>0.0</td>\n",
       "      <td>2540.0</td>\n",
       "      <td>29634.0</td>\n",
       "      <td>2.056748</td>\n",
       "      <td>127.0</td>\n",
       "      <td>50996.0</td>\n",
       "      <td>2.0</td>\n",
       "      <td>1.718616e+09</td>\n",
       "      <td>n09cw7py</td>\n",
       "      <td>rare-sweep-108</td>\n",
       "      <td>30.544493</td>\n",
       "      <td>1.842064e+13</td>\n",
       "    </tr>\n",
       "    <tr>\n",
       "      <th>755</th>\n",
       "      <td>True</td>\n",
       "      <td>False</td>\n",
       "      <td>0</td>\n",
       "      <td>Pres_Poisson</td>\n",
       "      <td>10</td>\n",
       "      <td>0.0</td>\n",
       "      <td>14812.0</td>\n",
       "      <td>367168.0</td>\n",
       "      <td>47.960515</td>\n",
       "      <td>23.0</td>\n",
       "      <td>724758.0</td>\n",
       "      <td>2.0</td>\n",
       "      <td>1.718616e+09</td>\n",
       "      <td>f7w7zlui</td>\n",
       "      <td>fine-sweep-66</td>\n",
       "      <td>31.898203</td>\n",
       "      <td>7.132034e+13</td>\n",
       "    </tr>\n",
       "    <tr>\n",
       "      <th>1033</th>\n",
       "      <td>True</td>\n",
       "      <td>False</td>\n",
       "      <td>0</td>\n",
       "      <td>ex13</td>\n",
       "      <td>6</td>\n",
       "      <td>0.0</td>\n",
       "      <td>2562.0</td>\n",
       "      <td>28379.0</td>\n",
       "      <td>2.371121</td>\n",
       "      <td>61.0</td>\n",
       "      <td>76008.0</td>\n",
       "      <td>2.0</td>\n",
       "      <td>1.718616e+09</td>\n",
       "      <td>ysu76sl5</td>\n",
       "      <td>floral-sweep-40</td>\n",
       "      <td>28.747714</td>\n",
       "      <td>3.054735e+12</td>\n",
       "    </tr>\n",
       "    <tr>\n",
       "      <th>220</th>\n",
       "      <td>False</td>\n",
       "      <td>False</td>\n",
       "      <td>0</td>\n",
       "      <td>ex15</td>\n",
       "      <td>7</td>\n",
       "      <td>0.0</td>\n",
       "      <td>6860.0</td>\n",
       "      <td>47692.0</td>\n",
       "      <td>7.051578</td>\n",
       "      <td>7.0</td>\n",
       "      <td>98480.0</td>\n",
       "      <td>2.0</td>\n",
       "      <td>1.718616e+09</td>\n",
       "      <td>57m6zczj</td>\n",
       "      <td>revived-sweep-129</td>\n",
       "      <td>25.437006</td>\n",
       "      <td>1.114683e+11</td>\n",
       "    </tr>\n",
       "    <tr>\n",
       "      <th>739</th>\n",
       "      <td>True</td>\n",
       "      <td>False</td>\n",
       "      <td>0</td>\n",
       "      <td>bcsstk13</td>\n",
       "      <td>1</td>\n",
       "      <td>0.0</td>\n",
       "      <td>2002.0</td>\n",
       "      <td>55321.0</td>\n",
       "      <td>2.683708</td>\n",
       "      <td>13.0</td>\n",
       "      <td>75478.0</td>\n",
       "      <td>2.0</td>\n",
       "      <td>1.718616e+09</td>\n",
       "      <td>lzvbifir</td>\n",
       "      <td>frosty-sweep-68</td>\n",
       "      <td>26.971959</td>\n",
       "      <td>5.173362e+11</td>\n",
       "    </tr>\n",
       "    <tr>\n",
       "      <th>...</th>\n",
       "      <td>...</td>\n",
       "      <td>...</td>\n",
       "      <td>...</td>\n",
       "      <td>...</td>\n",
       "      <td>...</td>\n",
       "      <td>...</td>\n",
       "      <td>...</td>\n",
       "      <td>...</td>\n",
       "      <td>...</td>\n",
       "      <td>...</td>\n",
       "      <td>...</td>\n",
       "      <td>...</td>\n",
       "      <td>...</td>\n",
       "      <td>...</td>\n",
       "      <td>...</td>\n",
       "      <td>...</td>\n",
       "      <td>...</td>\n",
       "    </tr>\n",
       "    <tr>\n",
       "      <th>865</th>\n",
       "      <td>True</td>\n",
       "      <td>False</td>\n",
       "      <td>0</td>\n",
       "      <td>Pres_Poisson</td>\n",
       "      <td>2</td>\n",
       "      <td>46.0</td>\n",
       "      <td>14820.0</td>\n",
       "      <td>1.0</td>\n",
       "      <td>202.692586</td>\n",
       "      <td>14820.0</td>\n",
       "      <td>717338.0</td>\n",
       "      <td>14820.0</td>\n",
       "      <td>1.718616e+09</td>\n",
       "      <td>lq4r0in1</td>\n",
       "      <td>kind-sweep-58</td>\n",
       "      <td>57.622397</td>\n",
       "      <td>1.059471e+25</td>\n",
       "    </tr>\n",
       "    <tr>\n",
       "      <th>194</th>\n",
       "      <td>False</td>\n",
       "      <td>False</td>\n",
       "      <td>0</td>\n",
       "      <td>Pres_Poisson</td>\n",
       "      <td>1</td>\n",
       "      <td>0.0</td>\n",
       "      <td>14821.0</td>\n",
       "      <td>1.0</td>\n",
       "      <td>11.234797</td>\n",
       "      <td>14821.0</td>\n",
       "      <td>716761.0</td>\n",
       "      <td>14821.0</td>\n",
       "      <td>1.718616e+09</td>\n",
       "      <td>debbj3wq</td>\n",
       "      <td>celestial-sweep-134</td>\n",
       "      <td>57.622802</td>\n",
       "      <td>1.059900e+25</td>\n",
       "    </tr>\n",
       "    <tr>\n",
       "      <th>866</th>\n",
       "      <td>True</td>\n",
       "      <td>False</td>\n",
       "      <td>0</td>\n",
       "      <td>Pres_Poisson</td>\n",
       "      <td>1</td>\n",
       "      <td>0.0</td>\n",
       "      <td>14821.0</td>\n",
       "      <td>1.0</td>\n",
       "      <td>10.992875</td>\n",
       "      <td>14821.0</td>\n",
       "      <td>716739.0</td>\n",
       "      <td>14821.0</td>\n",
       "      <td>1.718616e+09</td>\n",
       "      <td>uhookibs</td>\n",
       "      <td>lilac-sweep-57</td>\n",
       "      <td>57.622802</td>\n",
       "      <td>1.059900e+25</td>\n",
       "    </tr>\n",
       "    <tr>\n",
       "      <th>869</th>\n",
       "      <td>True</td>\n",
       "      <td>False</td>\n",
       "      <td>0</td>\n",
       "      <td>Pres_Poisson</td>\n",
       "      <td>0</td>\n",
       "      <td>2.0</td>\n",
       "      <td>14822.0</td>\n",
       "      <td>1.0</td>\n",
       "      <td>44.091390</td>\n",
       "      <td>14822.0</td>\n",
       "      <td>715804.0</td>\n",
       "      <td>14822.0</td>\n",
       "      <td>1.718616e+09</td>\n",
       "      <td>ivl5iyq2</td>\n",
       "      <td>celestial-sweep-56</td>\n",
       "      <td>57.623207</td>\n",
       "      <td>1.060330e+25</td>\n",
       "    </tr>\n",
       "    <tr>\n",
       "      <th>197</th>\n",
       "      <td>False</td>\n",
       "      <td>False</td>\n",
       "      <td>0</td>\n",
       "      <td>Pres_Poisson</td>\n",
       "      <td>0</td>\n",
       "      <td>2.0</td>\n",
       "      <td>14822.0</td>\n",
       "      <td>1.0</td>\n",
       "      <td>35.662364</td>\n",
       "      <td>14822.0</td>\n",
       "      <td>715804.0</td>\n",
       "      <td>14822.0</td>\n",
       "      <td>1.718616e+09</td>\n",
       "      <td>jcwzm17x</td>\n",
       "      <td>hopeful-sweep-133</td>\n",
       "      <td>57.623207</td>\n",
       "      <td>1.060330e+25</td>\n",
       "    </tr>\n",
       "  </tbody>\n",
       "</table>\n",
       "<p>1344 rows × 17 columns</p>\n",
       "</div>"
      ]
     },
     "execution_count": 94,
     "metadata": {},
     "output_type": "execute_result"
    }
   ],
   "execution_count": 94
  },
  {
   "metadata": {},
   "cell_type": "code",
   "outputs": [],
   "execution_count": null,
   "source": "",
   "id": "5a5476d6bb5e0877"
  }
 ],
 "metadata": {
  "kernelspec": {
   "display_name": "Python 3",
   "language": "python",
   "name": "python3"
  },
  "language_info": {
   "codemirror_mode": {
    "name": "ipython",
    "version": 2
   },
   "file_extension": ".py",
   "mimetype": "text/x-python",
   "name": "python",
   "nbconvert_exporter": "python",
   "pygments_lexer": "ipython2",
   "version": "2.7.6"
  }
 },
 "nbformat": 4,
 "nbformat_minor": 5
}
