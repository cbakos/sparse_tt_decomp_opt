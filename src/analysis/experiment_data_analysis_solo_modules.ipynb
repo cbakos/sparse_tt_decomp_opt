{
 "cells": [
  {
   "cell_type": "code",
   "id": "initial_id",
   "metadata": {
    "collapsed": true,
    "ExecuteTime": {
     "end_time": "2024-08-24T17:42:43.979599Z",
     "start_time": "2024-08-24T17:42:43.933161Z"
    }
   },
   "source": [
    "import pandas as pd\n",
    "import plotly.express as px\n",
    "\n",
    "from analysis.analysis_utils import add_tt_mals_runtime_cols, line_plot_padding_tile_size_tt_mals_runtime_per_matrix, get_percentage_change_per_category, get_percentage_change_per_double_category, line_plot_tile_size_rank_percentage_per_matrix, get_largest_prime_factor, update_marker_size\n",
    "\n",
    "from optimizers.tile_size import prime_factors, possible_tile_sizes_from_factors\n"
   ],
   "outputs": [],
   "execution_count": 22
  },
  {
   "metadata": {
    "ExecuteTime": {
     "end_time": "2024-08-24T17:42:52.464982Z",
     "start_time": "2024-08-24T17:42:44.517211Z"
    }
   },
   "cell_type": "code",
   "source": [
    "df2 = pd.read_csv('../../data/sweep_inc_data2_new_pad.csv')  #  big matrices\n",
    "df1 = pd.read_csv('../../data/sweep_inc_data1_new_pad.csv')  # small matrices\n",
    "df = pd.concat([df1, df2], axis=0)\n",
    "df = df[df['sparsity_ratio'] > 0.8]  # drop rows that are incomplete due to too low sparsity\n",
    "df.drop(columns=['partial_gauss'], inplace=True)\n",
    "df.rename(columns={\"num_reduced_variables\": \"partial_gauss\"}, inplace=True)\n",
    "df.drop(columns=[\"run_id\", \"run_name\", \"_runtime\", \"_step\", \"_timestamp\", \"gauss_threshold\", \"min_sparsity\", \"partial_gauss_increments\"], inplace=True)\n",
    "df.shape"
   ],
   "id": "c29cb153a3df9b77",
   "outputs": [
    {
     "data": {
      "text/plain": [
       "(2339158, 12)"
      ]
     },
     "execution_count": 23,
     "metadata": {},
     "output_type": "execute_result"
    }
   ],
   "execution_count": 23
  },
  {
   "metadata": {
    "ExecuteTime": {
     "end_time": "2024-08-24T17:43:17.240569Z",
     "start_time": "2024-08-24T17:42:52.464982Z"
    }
   },
   "cell_type": "code",
   "source": [
    "df = add_tt_mals_runtime_cols(df)\n",
    "\n",
    "df[\"largest_prime_factor\"] = df.apply(get_largest_prime_factor, axis=1)\n",
    "\n",
    "df[\"is_baseline_tile\"] = df[\"tile_size\"] == df[\"largest_prime_factor\"]"
   ],
   "id": "7024644443a70788",
   "outputs": [],
   "execution_count": 24
  },
  {
   "metadata": {
    "ExecuteTime": {
     "end_time": "2024-08-24T17:43:17.336266Z",
     "start_time": "2024-08-24T17:43:17.242132Z"
    }
   },
   "cell_type": "code",
   "source": [
    "# no module is applied - baseline\n",
    "baseline_df = df[(df['amd'] == False) & (df['rcm'] == False) & (df['partial_gauss'] == 0) & (df['padding'] == 0)]\n",
    "\n",
    "# different levels of padding applied - padding_df\n",
    "padding_df = df[(df['amd'] == False) & (df['rcm'] == False) & (df['partial_gauss'] == 0)]\n",
    "\n",
    "# keep amd on and off - amd_df\n",
    "amd_df = df[(df['rcm'] == False) & (df['partial_gauss'] == 0) & (df['padding'] == 0)]\n",
    "\n",
    "# keep rcm on and off - rcm_df\n",
    "rcm_df = df[(df['amd'] == False) & (df['partial_gauss'] == 0) & (df['padding'] == 0)]\n",
    "\n",
    "# different levels of partial gauss - partial_gauss_df\n",
    "partial_gauss_df = df[(df['amd'] == False) & (df['rcm'] == False) & (df['padding'] == 0)]"
   ],
   "id": "149949d57c3cb8e4",
   "outputs": [],
   "execution_count": 25
  },
  {
   "metadata": {
    "ExecuteTime": {
     "end_time": "2024-08-24T17:43:17.447630Z",
     "start_time": "2024-08-24T17:43:17.336266Z"
    }
   },
   "cell_type": "code",
   "source": [
    "# setup color map for each matrix\n",
    "matrix_names = df[\"matrix_name\"].unique().tolist()\n",
    "num_matrices = len(matrix_names)\n",
    "\n",
    "# sample continuous color scale\n",
    "# colorscale = px.colors.sequential.Viridis\n",
    "# colors = px.colors.sample_colorscale(colorscale, num_matrices)\n",
    "\n",
    "# sample discrete color scale\n",
    "colorscale = px.colors.qualitative.Plotly\n",
    "colors = [colorscale[i % len(colorscale)] for i in range(num_matrices)]\n",
    "\n",
    "matrix_color_map = {matrix:color for matrix, color in zip(matrix_names, colors)}"
   ],
   "id": "25cffdf7a1bbcf35",
   "outputs": [],
   "execution_count": 26
  },
  {
   "metadata": {},
   "cell_type": "markdown",
   "source": "Tile size choice effects (baseline)",
   "id": "f778226fd74d9f9a"
  },
  {
   "metadata": {
    "ExecuteTime": {
     "end_time": "2024-08-24T17:43:17.519479Z",
     "start_time": "2024-08-24T17:43:17.447630Z"
    }
   },
   "cell_type": "code",
   "source": [
    "baseline_df.sort_values(by=[\"matrix_name\", \"tile_size\"], inplace=True)\n",
    "baseline_df"
   ],
   "id": "977492a7ab86cb0c",
   "outputs": [
    {
     "name": "stderr",
     "output_type": "stream",
     "text": [
      "C:\\Users\\bakos\\AppData\\Local\\Temp\\ipykernel_12400\\1172643631.py:1: SettingWithCopyWarning:\n",
      "\n",
      "\n",
      "A value is trying to be set on a copy of a slice from a DataFrame\n",
      "\n",
      "See the caveats in the documentation: https://pandas.pydata.org/pandas-docs/stable/user_guide/indexing.html#returning-a-view-versus-a-copy\n",
      "\n"
     ]
    },
    {
     "data": {
      "text/plain": [
       "           amd    rcm  padding   matrix_name  max_mode_size  sparsity_ratio  \\\n",
       "12760    False  False        0  Pres_Poisson         7411.0        0.997164   \n",
       "12761    False  False        0  Pres_Poisson         7411.0        0.997164   \n",
       "12762    False  False        0  Pres_Poisson        14822.0        0.997164   \n",
       "9917     False  False        0      bcsstk13         2003.0        0.982487   \n",
       "19836    False  False        0          ex10          241.0        0.992511   \n",
       "19837    False  False        0          ex10          241.0        0.992511   \n",
       "19838    False  False        0          ex10          241.0        0.992511   \n",
       "19839    False  False        0          ex10          241.0        0.992511   \n",
       "19840    False  False        0          ex10          482.0        0.992511   \n",
       "19841    False  False        0          ex10         1205.0        0.992511   \n",
       "19842    False  False        0          ex10         2410.0        0.992511   \n",
       "1256717  False  False        0        ex10hs           13.0        0.993385   \n",
       "1256718  False  False        0        ex10hs           13.0        0.993385   \n",
       "1256719  False  False        0        ex10hs           13.0        0.993385   \n",
       "1256720  False  False        0        ex10hs           13.0        0.993385   \n",
       "1256721  False  False        0        ex10hs           14.0        0.993385   \n",
       "1256722  False  False        0        ex10hs           26.0        0.993385   \n",
       "1256723  False  False        0        ex10hs           28.0        0.993385   \n",
       "1256724  False  False        0        ex10hs           49.0        0.993385   \n",
       "1256725  False  False        0        ex10hs           52.0        0.993385   \n",
       "1256726  False  False        0        ex10hs           91.0        0.993385   \n",
       "1256727  False  False        0        ex10hs           98.0        0.993385   \n",
       "1256728  False  False        0        ex10hs          182.0        0.993385   \n",
       "1256729  False  False        0        ex10hs          196.0        0.993385   \n",
       "1256730  False  False        0        ex10hs          364.0        0.993385   \n",
       "1256731  False  False        0        ex10hs          637.0        0.993385   \n",
       "1256732  False  False        0        ex10hs         1274.0        0.993385   \n",
       "1256733  False  False        0        ex10hs         2548.0        0.993385   \n",
       "675030   False  False        0          ex13          107.0        0.988568   \n",
       "675031   False  False        0          ex13          107.0        0.988568   \n",
       "675032   False  False        0          ex13          107.0        0.988568   \n",
       "675033   False  False        0          ex13          107.0        0.988568   \n",
       "675034   False  False        0          ex13          107.0        0.988568   \n",
       "675035   False  False        0          ex13          107.0        0.988568   \n",
       "675036   False  False        0          ex13          107.0        0.988568   \n",
       "675037   False  False        0          ex13          107.0        0.988568   \n",
       "675038   False  False        0          ex13          214.0        0.988568   \n",
       "675039   False  False        0          ex13          321.0        0.988568   \n",
       "675040   False  False        0          ex13          428.0        0.988568   \n",
       "675041   False  False        0          ex13          642.0        0.988568   \n",
       "675042   False  False        0          ex13          856.0        0.988568   \n",
       "675043   False  False        0          ex13         1284.0        0.988568   \n",
       "675044   False  False        0          ex13         2568.0        0.988568   \n",
       "3500     False  False        0          ex15          109.0        0.998184   \n",
       "3501     False  False        0          ex15          109.0        0.998184   \n",
       "3502     False  False        0          ex15          109.0        0.998184   \n",
       "3503     False  False        0          ex15          109.0        0.998184   \n",
       "3504     False  False        0          ex15          109.0        0.998184   \n",
       "3505     False  False        0          ex15          109.0        0.998184   \n",
       "3506     False  False        0          ex15          327.0        0.998184   \n",
       "3507     False  False        0          ex15          763.0        0.998184   \n",
       "3508     False  False        0          ex15          981.0        0.998184   \n",
       "3509     False  False        0          ex15         2289.0        0.998184   \n",
       "3510     False  False        0          ex15         6867.0        0.998184   \n",
       "266197   False  False        0           ex3          607.0        0.986794   \n",
       "266198   False  False        0           ex3          607.0        0.986794   \n",
       "266199   False  False        0           ex3         1821.0        0.986794   \n",
       "\n",
       "           z_full        n  tile_size  z_reduced  partial_gauss      rank  \\\n",
       "12760    623075.0  14822.0        2.0   623075.0            0.0  216333.0   \n",
       "12761    623075.0  14822.0     7411.0   623075.0            0.0       4.0   \n",
       "12762    623075.0  14822.0    14822.0   623075.0            0.0       1.0   \n",
       "9917      70264.0   2003.0     2003.0    70264.0            0.0       1.0   \n",
       "19836     43497.0   2410.0        2.0    43497.0            0.0   26020.0   \n",
       "19837     43497.0   2410.0        5.0    43497.0            0.0    6641.0   \n",
       "19838     43497.0   2410.0       10.0    43497.0            0.0    2524.0   \n",
       "19839     43497.0   2410.0      241.0    43497.0            0.0      28.0   \n",
       "19840     43497.0   2410.0      482.0    43497.0            0.0      13.0   \n",
       "19841     43497.0   2410.0     1205.0    43497.0            0.0       4.0   \n",
       "19842     43497.0   2410.0     2410.0    43497.0            0.0       1.0   \n",
       "1256717   42944.0   2548.0        2.0    42944.0            0.0   27981.0   \n",
       "1256718   42944.0   2548.0        4.0    42944.0            0.0   10871.0   \n",
       "1256719   42944.0   2548.0        7.0    42944.0            0.0    4688.0   \n",
       "1256720   42944.0   2548.0       13.0    42944.0            0.0    1952.0   \n",
       "1256721   42944.0   2548.0       14.0    42944.0            0.0    1770.0   \n",
       "1256722   42944.0   2548.0       26.0    42944.0            0.0     780.0   \n",
       "1256723   42944.0   2548.0       28.0    42944.0            0.0     685.0   \n",
       "1256724   42944.0   2548.0       49.0    42944.0            0.0     302.0   \n",
       "1256725   42944.0   2548.0       52.0    42944.0            0.0     265.0   \n",
       "1256726   42944.0   2548.0       91.0    42944.0            0.0     110.0   \n",
       "1256727   42944.0   2548.0       98.0    42944.0            0.0      96.0   \n",
       "1256728   42944.0   2548.0      182.0    42944.0            0.0      40.0   \n",
       "1256729   42944.0   2548.0      196.0    42944.0            0.0      37.0   \n",
       "1256730   42944.0   2548.0      364.0    42944.0            0.0      19.0   \n",
       "1256731   42944.0   2548.0      637.0    42944.0            0.0      10.0   \n",
       "1256732   42944.0   2548.0     1274.0    42944.0            0.0       4.0   \n",
       "1256733   42944.0   2548.0     2548.0    42944.0            0.0       1.0   \n",
       "675030    75392.0   2568.0        2.0    75392.0            0.0   22354.0   \n",
       "675031    75392.0   2568.0        3.0    75392.0            0.0   14958.0   \n",
       "675032    75392.0   2568.0        4.0    75392.0            0.0    9234.0   \n",
       "675033    75392.0   2568.0        6.0    75392.0            0.0    5456.0   \n",
       "675034    75392.0   2568.0        8.0    75392.0            0.0    3637.0   \n",
       "675035    75392.0   2568.0       12.0    75392.0            0.0    1990.0   \n",
       "675036    75392.0   2568.0       24.0    75392.0            0.0     843.0   \n",
       "675037    75392.0   2568.0      107.0    75392.0            0.0      82.0   \n",
       "675038    75392.0   2568.0      214.0    75392.0            0.0      34.0   \n",
       "675039    75392.0   2568.0      321.0    75392.0            0.0      22.0   \n",
       "675040    75392.0   2568.0      428.0    75392.0            0.0      16.0   \n",
       "675041    75392.0   2568.0      642.0    75392.0            0.0      10.0   \n",
       "675042    75392.0   2568.0      856.0    75392.0            0.0       7.0   \n",
       "675043    75392.0   2568.0     1284.0    75392.0            0.0       4.0   \n",
       "675044    75392.0   2568.0     2568.0    75392.0            0.0       1.0   \n",
       "3500      85626.0   6867.0        3.0    85626.0            0.0   19825.0   \n",
       "3501      85626.0   6867.0        7.0    85626.0            0.0    8125.0   \n",
       "3502      85626.0   6867.0        9.0    85626.0            0.0    6175.0   \n",
       "3503      85626.0   6867.0       21.0    85626.0            0.0    2275.0   \n",
       "3504      85626.0   6867.0       63.0    85626.0            0.0     325.0   \n",
       "3505      85626.0   6867.0      109.0    85626.0            0.0     187.0   \n",
       "3506      85626.0   6867.0      327.0    85626.0            0.0      61.0   \n",
       "3507      85626.0   6867.0      763.0    85626.0            0.0      25.0   \n",
       "3508      85626.0   6867.0      981.0    85626.0            0.0      19.0   \n",
       "3509      85626.0   6867.0     2289.0    85626.0            0.0       7.0   \n",
       "3510      85626.0   6867.0     6867.0    85626.0            0.0       1.0   \n",
       "266197    43791.0   1821.0        3.0    43791.0            0.0   10353.0   \n",
       "266198    43791.0   1821.0      607.0    43791.0            0.0       7.0   \n",
       "266199    43791.0   1821.0     1821.0    43791.0            0.0       1.0   \n",
       "\n",
       "         log_obj_func      obj_func  full_runtime  log_full_runtime  \\\n",
       "12760       53.464340  1.656791e+23  1.199031e+31         71.561651   \n",
       "12761       53.464324  1.656765e+23  1.199031e+31         71.561651   \n",
       "12762       57.623207  1.060330e+25  7.673796e+32         75.720534   \n",
       "9917        45.614408  6.457816e+19  7.205963e+26         61.842121   \n",
       "19836       33.093233  2.356180e+14  2.651065e+21         49.329248   \n",
       "19837       32.922239  1.985851e+14  2.650004e+21         49.328848   \n",
       "19838       32.910848  1.963359e+14  2.649940e+21         49.328824   \n",
       "19839       32.908784  1.959310e+14  2.649928e+21         49.328819   \n",
       "19840       37.067665  1.253956e+16  1.695954e+23         53.487703   \n",
       "19841       42.565409  3.061416e+18  4.140513e+25         58.985447   \n",
       "19842       46.724292  1.959306e+20  2.649928e+27         63.144330   \n",
       "1256717     25.608962  1.323825e+11  3.998802e+15         35.924771   \n",
       "1256718     23.719043  2.000090e+10  6.627032e+14         34.127348   \n",
       "1256719     22.039486  3.729297e+09  1.796735e+14         32.822162   \n",
       "1256720     20.297175  6.530567e+08  8.835396e+13         32.112372   \n",
       "1256721     20.255555  6.264348e+08  1.261814e+14         32.468742   \n",
       "1256722     20.413888  7.339035e+08  4.435710e+15         36.028464   \n",
       "1256723     20.578009  8.647998e+08  6.911132e+15         36.471910   \n",
       "1256724     23.369143  1.409580e+10  1.981888e+17         39.827997   \n",
       "1256725     23.718886  1.999776e+10  2.830848e+17         40.184523   \n",
       "1256726     27.065479  5.680523e+11  8.130827e+18         43.542194   \n",
       "1256727     27.510007  8.860212e+11  1.268361e+19         43.986842   \n",
       "1256728     31.224048  3.634393e+13  5.203726e+20         47.701077   \n",
       "1256729     31.668694  5.669424e+13  8.117504e+20         48.145725   \n",
       "1256730     35.382924  2.325993e+15  3.330385e+22         51.859960   \n",
       "1256731     38.740618  6.680925e+16  9.565830e+23         55.217655   \n",
       "1256732     42.899501  4.275792e+18  6.122131e+25         59.376538   \n",
       "1256733     47.058384  2.736507e+20  3.918164e+27         63.535421   \n",
       "675030      29.611912  7.249195e+12  2.183110e+19         44.529867   \n",
       "675031      29.037283  4.080674e+12  2.173658e+19         44.525528   \n",
       "675032      28.542605  2.488261e+12  2.168907e+19         44.523340   \n",
       "675033      28.245248  1.848227e+12  2.166997e+19         44.522459   \n",
       "675034      28.135807  1.656631e+12  2.166426e+19         44.522195   \n",
       "675035      28.068313  1.548507e+12  2.166103e+19         44.522047   \n",
       "675036      28.043064  1.509899e+12  2.165988e+19         44.521993   \n",
       "675037      28.037091  1.500908e+12  2.165961e+19         44.521981   \n",
       "675038      32.195860  9.604713e+13  1.386215e+21         48.680864   \n",
       "675039      34.628647  1.094033e+15  1.578985e+22         51.113654   \n",
       "675040      36.354739  6.146993e+15  8.871775e+22         52.839747   \n",
       "675041      38.787530  7.001808e+16  1.010551e+24         55.272538   \n",
       "675042      40.513622  3.934075e+17  5.677936e+24         56.998630   \n",
       "675043      42.946413  4.481157e+18  6.467524e+25         59.431421   \n",
       "675044      47.105296  2.867940e+20  4.139215e+27         63.590304   \n",
       "3500        29.482993  6.372371e+12  6.248389e+19         45.581440   \n",
       "3501        28.536030  2.471954e+12  6.227395e+19         45.578075   \n",
       "3502        28.390951  2.138127e+12  6.225598e+19         45.577786   \n",
       "3503        28.185790  1.741538e+12  6.223464e+19         45.577443   \n",
       "3504        28.149086  1.678776e+12  6.223126e+19         45.577389   \n",
       "3505        28.148479  1.677758e+12  6.223120e+19         45.577388   \n",
       "3506        34.739763  1.222609e+15  4.536652e+22         52.169061   \n",
       "3507        39.823548  1.973092e+17  7.321435e+24         57.252849   \n",
       "3508        41.331435  8.912798e+17  3.307219e+25         58.760735   \n",
       "3509        46.415222  1.438384e+20  5.337326e+27         63.844522   \n",
       "3510        53.006896  1.048582e+23  3.890911e+30         70.436196   \n",
       "266197      38.452008  5.006048e+16  5.045795e+23         54.578012   \n",
       "266198      38.451173  5.001867e+16  5.045785e+23         54.578010   \n",
       "266199      45.042846  3.646361e+19  3.678377e+26         61.169684   \n",
       "\n",
       "         largest_prime_factor  is_baseline_tile  \n",
       "12760                  7411.0             False  \n",
       "12761                  7411.0              True  \n",
       "12762                  7411.0             False  \n",
       "9917                   2003.0              True  \n",
       "19836                   241.0             False  \n",
       "19837                   241.0             False  \n",
       "19838                   241.0             False  \n",
       "19839                   241.0              True  \n",
       "19840                   241.0             False  \n",
       "19841                   241.0             False  \n",
       "19842                   241.0             False  \n",
       "1256717                  13.0             False  \n",
       "1256718                  13.0             False  \n",
       "1256719                  13.0             False  \n",
       "1256720                  13.0              True  \n",
       "1256721                  13.0             False  \n",
       "1256722                  13.0             False  \n",
       "1256723                  13.0             False  \n",
       "1256724                  13.0             False  \n",
       "1256725                  13.0             False  \n",
       "1256726                  13.0             False  \n",
       "1256727                  13.0             False  \n",
       "1256728                  13.0             False  \n",
       "1256729                  13.0             False  \n",
       "1256730                  13.0             False  \n",
       "1256731                  13.0             False  \n",
       "1256732                  13.0             False  \n",
       "1256733                  13.0             False  \n",
       "675030                  107.0             False  \n",
       "675031                  107.0             False  \n",
       "675032                  107.0             False  \n",
       "675033                  107.0             False  \n",
       "675034                  107.0             False  \n",
       "675035                  107.0             False  \n",
       "675036                  107.0             False  \n",
       "675037                  107.0              True  \n",
       "675038                  107.0             False  \n",
       "675039                  107.0             False  \n",
       "675040                  107.0             False  \n",
       "675041                  107.0             False  \n",
       "675042                  107.0             False  \n",
       "675043                  107.0             False  \n",
       "675044                  107.0             False  \n",
       "3500                    109.0             False  \n",
       "3501                    109.0             False  \n",
       "3502                    109.0             False  \n",
       "3503                    109.0             False  \n",
       "3504                    109.0             False  \n",
       "3505                    109.0              True  \n",
       "3506                    109.0             False  \n",
       "3507                    109.0             False  \n",
       "3508                    109.0             False  \n",
       "3509                    109.0             False  \n",
       "3510                    109.0             False  \n",
       "266197                  607.0             False  \n",
       "266198                  607.0              True  \n",
       "266199                  607.0             False  "
      ],
      "text/html": [
       "<div>\n",
       "<style scoped>\n",
       "    .dataframe tbody tr th:only-of-type {\n",
       "        vertical-align: middle;\n",
       "    }\n",
       "\n",
       "    .dataframe tbody tr th {\n",
       "        vertical-align: top;\n",
       "    }\n",
       "\n",
       "    .dataframe thead th {\n",
       "        text-align: right;\n",
       "    }\n",
       "</style>\n",
       "<table border=\"1\" class=\"dataframe\">\n",
       "  <thead>\n",
       "    <tr style=\"text-align: right;\">\n",
       "      <th></th>\n",
       "      <th>amd</th>\n",
       "      <th>rcm</th>\n",
       "      <th>padding</th>\n",
       "      <th>matrix_name</th>\n",
       "      <th>max_mode_size</th>\n",
       "      <th>sparsity_ratio</th>\n",
       "      <th>z_full</th>\n",
       "      <th>n</th>\n",
       "      <th>tile_size</th>\n",
       "      <th>z_reduced</th>\n",
       "      <th>partial_gauss</th>\n",
       "      <th>rank</th>\n",
       "      <th>log_obj_func</th>\n",
       "      <th>obj_func</th>\n",
       "      <th>full_runtime</th>\n",
       "      <th>log_full_runtime</th>\n",
       "      <th>largest_prime_factor</th>\n",
       "      <th>is_baseline_tile</th>\n",
       "    </tr>\n",
       "  </thead>\n",
       "  <tbody>\n",
       "    <tr>\n",
       "      <th>12760</th>\n",
       "      <td>False</td>\n",
       "      <td>False</td>\n",
       "      <td>0</td>\n",
       "      <td>Pres_Poisson</td>\n",
       "      <td>7411.0</td>\n",
       "      <td>0.997164</td>\n",
       "      <td>623075.0</td>\n",
       "      <td>14822.0</td>\n",
       "      <td>2.0</td>\n",
       "      <td>623075.0</td>\n",
       "      <td>0.0</td>\n",
       "      <td>216333.0</td>\n",
       "      <td>53.464340</td>\n",
       "      <td>1.656791e+23</td>\n",
       "      <td>1.199031e+31</td>\n",
       "      <td>71.561651</td>\n",
       "      <td>7411.0</td>\n",
       "      <td>False</td>\n",
       "    </tr>\n",
       "    <tr>\n",
       "      <th>12761</th>\n",
       "      <td>False</td>\n",
       "      <td>False</td>\n",
       "      <td>0</td>\n",
       "      <td>Pres_Poisson</td>\n",
       "      <td>7411.0</td>\n",
       "      <td>0.997164</td>\n",
       "      <td>623075.0</td>\n",
       "      <td>14822.0</td>\n",
       "      <td>7411.0</td>\n",
       "      <td>623075.0</td>\n",
       "      <td>0.0</td>\n",
       "      <td>4.0</td>\n",
       "      <td>53.464324</td>\n",
       "      <td>1.656765e+23</td>\n",
       "      <td>1.199031e+31</td>\n",
       "      <td>71.561651</td>\n",
       "      <td>7411.0</td>\n",
       "      <td>True</td>\n",
       "    </tr>\n",
       "    <tr>\n",
       "      <th>12762</th>\n",
       "      <td>False</td>\n",
       "      <td>False</td>\n",
       "      <td>0</td>\n",
       "      <td>Pres_Poisson</td>\n",
       "      <td>14822.0</td>\n",
       "      <td>0.997164</td>\n",
       "      <td>623075.0</td>\n",
       "      <td>14822.0</td>\n",
       "      <td>14822.0</td>\n",
       "      <td>623075.0</td>\n",
       "      <td>0.0</td>\n",
       "      <td>1.0</td>\n",
       "      <td>57.623207</td>\n",
       "      <td>1.060330e+25</td>\n",
       "      <td>7.673796e+32</td>\n",
       "      <td>75.720534</td>\n",
       "      <td>7411.0</td>\n",
       "      <td>False</td>\n",
       "    </tr>\n",
       "    <tr>\n",
       "      <th>9917</th>\n",
       "      <td>False</td>\n",
       "      <td>False</td>\n",
       "      <td>0</td>\n",
       "      <td>bcsstk13</td>\n",
       "      <td>2003.0</td>\n",
       "      <td>0.982487</td>\n",
       "      <td>70264.0</td>\n",
       "      <td>2003.0</td>\n",
       "      <td>2003.0</td>\n",
       "      <td>70264.0</td>\n",
       "      <td>0.0</td>\n",
       "      <td>1.0</td>\n",
       "      <td>45.614408</td>\n",
       "      <td>6.457816e+19</td>\n",
       "      <td>7.205963e+26</td>\n",
       "      <td>61.842121</td>\n",
       "      <td>2003.0</td>\n",
       "      <td>True</td>\n",
       "    </tr>\n",
       "    <tr>\n",
       "      <th>19836</th>\n",
       "      <td>False</td>\n",
       "      <td>False</td>\n",
       "      <td>0</td>\n",
       "      <td>ex10</td>\n",
       "      <td>241.0</td>\n",
       "      <td>0.992511</td>\n",
       "      <td>43497.0</td>\n",
       "      <td>2410.0</td>\n",
       "      <td>2.0</td>\n",
       "      <td>43497.0</td>\n",
       "      <td>0.0</td>\n",
       "      <td>26020.0</td>\n",
       "      <td>33.093233</td>\n",
       "      <td>2.356180e+14</td>\n",
       "      <td>2.651065e+21</td>\n",
       "      <td>49.329248</td>\n",
       "      <td>241.0</td>\n",
       "      <td>False</td>\n",
       "    </tr>\n",
       "    <tr>\n",
       "      <th>19837</th>\n",
       "      <td>False</td>\n",
       "      <td>False</td>\n",
       "      <td>0</td>\n",
       "      <td>ex10</td>\n",
       "      <td>241.0</td>\n",
       "      <td>0.992511</td>\n",
       "      <td>43497.0</td>\n",
       "      <td>2410.0</td>\n",
       "      <td>5.0</td>\n",
       "      <td>43497.0</td>\n",
       "      <td>0.0</td>\n",
       "      <td>6641.0</td>\n",
       "      <td>32.922239</td>\n",
       "      <td>1.985851e+14</td>\n",
       "      <td>2.650004e+21</td>\n",
       "      <td>49.328848</td>\n",
       "      <td>241.0</td>\n",
       "      <td>False</td>\n",
       "    </tr>\n",
       "    <tr>\n",
       "      <th>19838</th>\n",
       "      <td>False</td>\n",
       "      <td>False</td>\n",
       "      <td>0</td>\n",
       "      <td>ex10</td>\n",
       "      <td>241.0</td>\n",
       "      <td>0.992511</td>\n",
       "      <td>43497.0</td>\n",
       "      <td>2410.0</td>\n",
       "      <td>10.0</td>\n",
       "      <td>43497.0</td>\n",
       "      <td>0.0</td>\n",
       "      <td>2524.0</td>\n",
       "      <td>32.910848</td>\n",
       "      <td>1.963359e+14</td>\n",
       "      <td>2.649940e+21</td>\n",
       "      <td>49.328824</td>\n",
       "      <td>241.0</td>\n",
       "      <td>False</td>\n",
       "    </tr>\n",
       "    <tr>\n",
       "      <th>19839</th>\n",
       "      <td>False</td>\n",
       "      <td>False</td>\n",
       "      <td>0</td>\n",
       "      <td>ex10</td>\n",
       "      <td>241.0</td>\n",
       "      <td>0.992511</td>\n",
       "      <td>43497.0</td>\n",
       "      <td>2410.0</td>\n",
       "      <td>241.0</td>\n",
       "      <td>43497.0</td>\n",
       "      <td>0.0</td>\n",
       "      <td>28.0</td>\n",
       "      <td>32.908784</td>\n",
       "      <td>1.959310e+14</td>\n",
       "      <td>2.649928e+21</td>\n",
       "      <td>49.328819</td>\n",
       "      <td>241.0</td>\n",
       "      <td>True</td>\n",
       "    </tr>\n",
       "    <tr>\n",
       "      <th>19840</th>\n",
       "      <td>False</td>\n",
       "      <td>False</td>\n",
       "      <td>0</td>\n",
       "      <td>ex10</td>\n",
       "      <td>482.0</td>\n",
       "      <td>0.992511</td>\n",
       "      <td>43497.0</td>\n",
       "      <td>2410.0</td>\n",
       "      <td>482.0</td>\n",
       "      <td>43497.0</td>\n",
       "      <td>0.0</td>\n",
       "      <td>13.0</td>\n",
       "      <td>37.067665</td>\n",
       "      <td>1.253956e+16</td>\n",
       "      <td>1.695954e+23</td>\n",
       "      <td>53.487703</td>\n",
       "      <td>241.0</td>\n",
       "      <td>False</td>\n",
       "    </tr>\n",
       "    <tr>\n",
       "      <th>19841</th>\n",
       "      <td>False</td>\n",
       "      <td>False</td>\n",
       "      <td>0</td>\n",
       "      <td>ex10</td>\n",
       "      <td>1205.0</td>\n",
       "      <td>0.992511</td>\n",
       "      <td>43497.0</td>\n",
       "      <td>2410.0</td>\n",
       "      <td>1205.0</td>\n",
       "      <td>43497.0</td>\n",
       "      <td>0.0</td>\n",
       "      <td>4.0</td>\n",
       "      <td>42.565409</td>\n",
       "      <td>3.061416e+18</td>\n",
       "      <td>4.140513e+25</td>\n",
       "      <td>58.985447</td>\n",
       "      <td>241.0</td>\n",
       "      <td>False</td>\n",
       "    </tr>\n",
       "    <tr>\n",
       "      <th>19842</th>\n",
       "      <td>False</td>\n",
       "      <td>False</td>\n",
       "      <td>0</td>\n",
       "      <td>ex10</td>\n",
       "      <td>2410.0</td>\n",
       "      <td>0.992511</td>\n",
       "      <td>43497.0</td>\n",
       "      <td>2410.0</td>\n",
       "      <td>2410.0</td>\n",
       "      <td>43497.0</td>\n",
       "      <td>0.0</td>\n",
       "      <td>1.0</td>\n",
       "      <td>46.724292</td>\n",
       "      <td>1.959306e+20</td>\n",
       "      <td>2.649928e+27</td>\n",
       "      <td>63.144330</td>\n",
       "      <td>241.0</td>\n",
       "      <td>False</td>\n",
       "    </tr>\n",
       "    <tr>\n",
       "      <th>1256717</th>\n",
       "      <td>False</td>\n",
       "      <td>False</td>\n",
       "      <td>0</td>\n",
       "      <td>ex10hs</td>\n",
       "      <td>13.0</td>\n",
       "      <td>0.993385</td>\n",
       "      <td>42944.0</td>\n",
       "      <td>2548.0</td>\n",
       "      <td>2.0</td>\n",
       "      <td>42944.0</td>\n",
       "      <td>0.0</td>\n",
       "      <td>27981.0</td>\n",
       "      <td>25.608962</td>\n",
       "      <td>1.323825e+11</td>\n",
       "      <td>3.998802e+15</td>\n",
       "      <td>35.924771</td>\n",
       "      <td>13.0</td>\n",
       "      <td>False</td>\n",
       "    </tr>\n",
       "    <tr>\n",
       "      <th>1256718</th>\n",
       "      <td>False</td>\n",
       "      <td>False</td>\n",
       "      <td>0</td>\n",
       "      <td>ex10hs</td>\n",
       "      <td>13.0</td>\n",
       "      <td>0.993385</td>\n",
       "      <td>42944.0</td>\n",
       "      <td>2548.0</td>\n",
       "      <td>4.0</td>\n",
       "      <td>42944.0</td>\n",
       "      <td>0.0</td>\n",
       "      <td>10871.0</td>\n",
       "      <td>23.719043</td>\n",
       "      <td>2.000090e+10</td>\n",
       "      <td>6.627032e+14</td>\n",
       "      <td>34.127348</td>\n",
       "      <td>13.0</td>\n",
       "      <td>False</td>\n",
       "    </tr>\n",
       "    <tr>\n",
       "      <th>1256719</th>\n",
       "      <td>False</td>\n",
       "      <td>False</td>\n",
       "      <td>0</td>\n",
       "      <td>ex10hs</td>\n",
       "      <td>13.0</td>\n",
       "      <td>0.993385</td>\n",
       "      <td>42944.0</td>\n",
       "      <td>2548.0</td>\n",
       "      <td>7.0</td>\n",
       "      <td>42944.0</td>\n",
       "      <td>0.0</td>\n",
       "      <td>4688.0</td>\n",
       "      <td>22.039486</td>\n",
       "      <td>3.729297e+09</td>\n",
       "      <td>1.796735e+14</td>\n",
       "      <td>32.822162</td>\n",
       "      <td>13.0</td>\n",
       "      <td>False</td>\n",
       "    </tr>\n",
       "    <tr>\n",
       "      <th>1256720</th>\n",
       "      <td>False</td>\n",
       "      <td>False</td>\n",
       "      <td>0</td>\n",
       "      <td>ex10hs</td>\n",
       "      <td>13.0</td>\n",
       "      <td>0.993385</td>\n",
       "      <td>42944.0</td>\n",
       "      <td>2548.0</td>\n",
       "      <td>13.0</td>\n",
       "      <td>42944.0</td>\n",
       "      <td>0.0</td>\n",
       "      <td>1952.0</td>\n",
       "      <td>20.297175</td>\n",
       "      <td>6.530567e+08</td>\n",
       "      <td>8.835396e+13</td>\n",
       "      <td>32.112372</td>\n",
       "      <td>13.0</td>\n",
       "      <td>True</td>\n",
       "    </tr>\n",
       "    <tr>\n",
       "      <th>1256721</th>\n",
       "      <td>False</td>\n",
       "      <td>False</td>\n",
       "      <td>0</td>\n",
       "      <td>ex10hs</td>\n",
       "      <td>14.0</td>\n",
       "      <td>0.993385</td>\n",
       "      <td>42944.0</td>\n",
       "      <td>2548.0</td>\n",
       "      <td>14.0</td>\n",
       "      <td>42944.0</td>\n",
       "      <td>0.0</td>\n",
       "      <td>1770.0</td>\n",
       "      <td>20.255555</td>\n",
       "      <td>6.264348e+08</td>\n",
       "      <td>1.261814e+14</td>\n",
       "      <td>32.468742</td>\n",
       "      <td>13.0</td>\n",
       "      <td>False</td>\n",
       "    </tr>\n",
       "    <tr>\n",
       "      <th>1256722</th>\n",
       "      <td>False</td>\n",
       "      <td>False</td>\n",
       "      <td>0</td>\n",
       "      <td>ex10hs</td>\n",
       "      <td>26.0</td>\n",
       "      <td>0.993385</td>\n",
       "      <td>42944.0</td>\n",
       "      <td>2548.0</td>\n",
       "      <td>26.0</td>\n",
       "      <td>42944.0</td>\n",
       "      <td>0.0</td>\n",
       "      <td>780.0</td>\n",
       "      <td>20.413888</td>\n",
       "      <td>7.339035e+08</td>\n",
       "      <td>4.435710e+15</td>\n",
       "      <td>36.028464</td>\n",
       "      <td>13.0</td>\n",
       "      <td>False</td>\n",
       "    </tr>\n",
       "    <tr>\n",
       "      <th>1256723</th>\n",
       "      <td>False</td>\n",
       "      <td>False</td>\n",
       "      <td>0</td>\n",
       "      <td>ex10hs</td>\n",
       "      <td>28.0</td>\n",
       "      <td>0.993385</td>\n",
       "      <td>42944.0</td>\n",
       "      <td>2548.0</td>\n",
       "      <td>28.0</td>\n",
       "      <td>42944.0</td>\n",
       "      <td>0.0</td>\n",
       "      <td>685.0</td>\n",
       "      <td>20.578009</td>\n",
       "      <td>8.647998e+08</td>\n",
       "      <td>6.911132e+15</td>\n",
       "      <td>36.471910</td>\n",
       "      <td>13.0</td>\n",
       "      <td>False</td>\n",
       "    </tr>\n",
       "    <tr>\n",
       "      <th>1256724</th>\n",
       "      <td>False</td>\n",
       "      <td>False</td>\n",
       "      <td>0</td>\n",
       "      <td>ex10hs</td>\n",
       "      <td>49.0</td>\n",
       "      <td>0.993385</td>\n",
       "      <td>42944.0</td>\n",
       "      <td>2548.0</td>\n",
       "      <td>49.0</td>\n",
       "      <td>42944.0</td>\n",
       "      <td>0.0</td>\n",
       "      <td>302.0</td>\n",
       "      <td>23.369143</td>\n",
       "      <td>1.409580e+10</td>\n",
       "      <td>1.981888e+17</td>\n",
       "      <td>39.827997</td>\n",
       "      <td>13.0</td>\n",
       "      <td>False</td>\n",
       "    </tr>\n",
       "    <tr>\n",
       "      <th>1256725</th>\n",
       "      <td>False</td>\n",
       "      <td>False</td>\n",
       "      <td>0</td>\n",
       "      <td>ex10hs</td>\n",
       "      <td>52.0</td>\n",
       "      <td>0.993385</td>\n",
       "      <td>42944.0</td>\n",
       "      <td>2548.0</td>\n",
       "      <td>52.0</td>\n",
       "      <td>42944.0</td>\n",
       "      <td>0.0</td>\n",
       "      <td>265.0</td>\n",
       "      <td>23.718886</td>\n",
       "      <td>1.999776e+10</td>\n",
       "      <td>2.830848e+17</td>\n",
       "      <td>40.184523</td>\n",
       "      <td>13.0</td>\n",
       "      <td>False</td>\n",
       "    </tr>\n",
       "    <tr>\n",
       "      <th>1256726</th>\n",
       "      <td>False</td>\n",
       "      <td>False</td>\n",
       "      <td>0</td>\n",
       "      <td>ex10hs</td>\n",
       "      <td>91.0</td>\n",
       "      <td>0.993385</td>\n",
       "      <td>42944.0</td>\n",
       "      <td>2548.0</td>\n",
       "      <td>91.0</td>\n",
       "      <td>42944.0</td>\n",
       "      <td>0.0</td>\n",
       "      <td>110.0</td>\n",
       "      <td>27.065479</td>\n",
       "      <td>5.680523e+11</td>\n",
       "      <td>8.130827e+18</td>\n",
       "      <td>43.542194</td>\n",
       "      <td>13.0</td>\n",
       "      <td>False</td>\n",
       "    </tr>\n",
       "    <tr>\n",
       "      <th>1256727</th>\n",
       "      <td>False</td>\n",
       "      <td>False</td>\n",
       "      <td>0</td>\n",
       "      <td>ex10hs</td>\n",
       "      <td>98.0</td>\n",
       "      <td>0.993385</td>\n",
       "      <td>42944.0</td>\n",
       "      <td>2548.0</td>\n",
       "      <td>98.0</td>\n",
       "      <td>42944.0</td>\n",
       "      <td>0.0</td>\n",
       "      <td>96.0</td>\n",
       "      <td>27.510007</td>\n",
       "      <td>8.860212e+11</td>\n",
       "      <td>1.268361e+19</td>\n",
       "      <td>43.986842</td>\n",
       "      <td>13.0</td>\n",
       "      <td>False</td>\n",
       "    </tr>\n",
       "    <tr>\n",
       "      <th>1256728</th>\n",
       "      <td>False</td>\n",
       "      <td>False</td>\n",
       "      <td>0</td>\n",
       "      <td>ex10hs</td>\n",
       "      <td>182.0</td>\n",
       "      <td>0.993385</td>\n",
       "      <td>42944.0</td>\n",
       "      <td>2548.0</td>\n",
       "      <td>182.0</td>\n",
       "      <td>42944.0</td>\n",
       "      <td>0.0</td>\n",
       "      <td>40.0</td>\n",
       "      <td>31.224048</td>\n",
       "      <td>3.634393e+13</td>\n",
       "      <td>5.203726e+20</td>\n",
       "      <td>47.701077</td>\n",
       "      <td>13.0</td>\n",
       "      <td>False</td>\n",
       "    </tr>\n",
       "    <tr>\n",
       "      <th>1256729</th>\n",
       "      <td>False</td>\n",
       "      <td>False</td>\n",
       "      <td>0</td>\n",
       "      <td>ex10hs</td>\n",
       "      <td>196.0</td>\n",
       "      <td>0.993385</td>\n",
       "      <td>42944.0</td>\n",
       "      <td>2548.0</td>\n",
       "      <td>196.0</td>\n",
       "      <td>42944.0</td>\n",
       "      <td>0.0</td>\n",
       "      <td>37.0</td>\n",
       "      <td>31.668694</td>\n",
       "      <td>5.669424e+13</td>\n",
       "      <td>8.117504e+20</td>\n",
       "      <td>48.145725</td>\n",
       "      <td>13.0</td>\n",
       "      <td>False</td>\n",
       "    </tr>\n",
       "    <tr>\n",
       "      <th>1256730</th>\n",
       "      <td>False</td>\n",
       "      <td>False</td>\n",
       "      <td>0</td>\n",
       "      <td>ex10hs</td>\n",
       "      <td>364.0</td>\n",
       "      <td>0.993385</td>\n",
       "      <td>42944.0</td>\n",
       "      <td>2548.0</td>\n",
       "      <td>364.0</td>\n",
       "      <td>42944.0</td>\n",
       "      <td>0.0</td>\n",
       "      <td>19.0</td>\n",
       "      <td>35.382924</td>\n",
       "      <td>2.325993e+15</td>\n",
       "      <td>3.330385e+22</td>\n",
       "      <td>51.859960</td>\n",
       "      <td>13.0</td>\n",
       "      <td>False</td>\n",
       "    </tr>\n",
       "    <tr>\n",
       "      <th>1256731</th>\n",
       "      <td>False</td>\n",
       "      <td>False</td>\n",
       "      <td>0</td>\n",
       "      <td>ex10hs</td>\n",
       "      <td>637.0</td>\n",
       "      <td>0.993385</td>\n",
       "      <td>42944.0</td>\n",
       "      <td>2548.0</td>\n",
       "      <td>637.0</td>\n",
       "      <td>42944.0</td>\n",
       "      <td>0.0</td>\n",
       "      <td>10.0</td>\n",
       "      <td>38.740618</td>\n",
       "      <td>6.680925e+16</td>\n",
       "      <td>9.565830e+23</td>\n",
       "      <td>55.217655</td>\n",
       "      <td>13.0</td>\n",
       "      <td>False</td>\n",
       "    </tr>\n",
       "    <tr>\n",
       "      <th>1256732</th>\n",
       "      <td>False</td>\n",
       "      <td>False</td>\n",
       "      <td>0</td>\n",
       "      <td>ex10hs</td>\n",
       "      <td>1274.0</td>\n",
       "      <td>0.993385</td>\n",
       "      <td>42944.0</td>\n",
       "      <td>2548.0</td>\n",
       "      <td>1274.0</td>\n",
       "      <td>42944.0</td>\n",
       "      <td>0.0</td>\n",
       "      <td>4.0</td>\n",
       "      <td>42.899501</td>\n",
       "      <td>4.275792e+18</td>\n",
       "      <td>6.122131e+25</td>\n",
       "      <td>59.376538</td>\n",
       "      <td>13.0</td>\n",
       "      <td>False</td>\n",
       "    </tr>\n",
       "    <tr>\n",
       "      <th>1256733</th>\n",
       "      <td>False</td>\n",
       "      <td>False</td>\n",
       "      <td>0</td>\n",
       "      <td>ex10hs</td>\n",
       "      <td>2548.0</td>\n",
       "      <td>0.993385</td>\n",
       "      <td>42944.0</td>\n",
       "      <td>2548.0</td>\n",
       "      <td>2548.0</td>\n",
       "      <td>42944.0</td>\n",
       "      <td>0.0</td>\n",
       "      <td>1.0</td>\n",
       "      <td>47.058384</td>\n",
       "      <td>2.736507e+20</td>\n",
       "      <td>3.918164e+27</td>\n",
       "      <td>63.535421</td>\n",
       "      <td>13.0</td>\n",
       "      <td>False</td>\n",
       "    </tr>\n",
       "    <tr>\n",
       "      <th>675030</th>\n",
       "      <td>False</td>\n",
       "      <td>False</td>\n",
       "      <td>0</td>\n",
       "      <td>ex13</td>\n",
       "      <td>107.0</td>\n",
       "      <td>0.988568</td>\n",
       "      <td>75392.0</td>\n",
       "      <td>2568.0</td>\n",
       "      <td>2.0</td>\n",
       "      <td>75392.0</td>\n",
       "      <td>0.0</td>\n",
       "      <td>22354.0</td>\n",
       "      <td>29.611912</td>\n",
       "      <td>7.249195e+12</td>\n",
       "      <td>2.183110e+19</td>\n",
       "      <td>44.529867</td>\n",
       "      <td>107.0</td>\n",
       "      <td>False</td>\n",
       "    </tr>\n",
       "    <tr>\n",
       "      <th>675031</th>\n",
       "      <td>False</td>\n",
       "      <td>False</td>\n",
       "      <td>0</td>\n",
       "      <td>ex13</td>\n",
       "      <td>107.0</td>\n",
       "      <td>0.988568</td>\n",
       "      <td>75392.0</td>\n",
       "      <td>2568.0</td>\n",
       "      <td>3.0</td>\n",
       "      <td>75392.0</td>\n",
       "      <td>0.0</td>\n",
       "      <td>14958.0</td>\n",
       "      <td>29.037283</td>\n",
       "      <td>4.080674e+12</td>\n",
       "      <td>2.173658e+19</td>\n",
       "      <td>44.525528</td>\n",
       "      <td>107.0</td>\n",
       "      <td>False</td>\n",
       "    </tr>\n",
       "    <tr>\n",
       "      <th>675032</th>\n",
       "      <td>False</td>\n",
       "      <td>False</td>\n",
       "      <td>0</td>\n",
       "      <td>ex13</td>\n",
       "      <td>107.0</td>\n",
       "      <td>0.988568</td>\n",
       "      <td>75392.0</td>\n",
       "      <td>2568.0</td>\n",
       "      <td>4.0</td>\n",
       "      <td>75392.0</td>\n",
       "      <td>0.0</td>\n",
       "      <td>9234.0</td>\n",
       "      <td>28.542605</td>\n",
       "      <td>2.488261e+12</td>\n",
       "      <td>2.168907e+19</td>\n",
       "      <td>44.523340</td>\n",
       "      <td>107.0</td>\n",
       "      <td>False</td>\n",
       "    </tr>\n",
       "    <tr>\n",
       "      <th>675033</th>\n",
       "      <td>False</td>\n",
       "      <td>False</td>\n",
       "      <td>0</td>\n",
       "      <td>ex13</td>\n",
       "      <td>107.0</td>\n",
       "      <td>0.988568</td>\n",
       "      <td>75392.0</td>\n",
       "      <td>2568.0</td>\n",
       "      <td>6.0</td>\n",
       "      <td>75392.0</td>\n",
       "      <td>0.0</td>\n",
       "      <td>5456.0</td>\n",
       "      <td>28.245248</td>\n",
       "      <td>1.848227e+12</td>\n",
       "      <td>2.166997e+19</td>\n",
       "      <td>44.522459</td>\n",
       "      <td>107.0</td>\n",
       "      <td>False</td>\n",
       "    </tr>\n",
       "    <tr>\n",
       "      <th>675034</th>\n",
       "      <td>False</td>\n",
       "      <td>False</td>\n",
       "      <td>0</td>\n",
       "      <td>ex13</td>\n",
       "      <td>107.0</td>\n",
       "      <td>0.988568</td>\n",
       "      <td>75392.0</td>\n",
       "      <td>2568.0</td>\n",
       "      <td>8.0</td>\n",
       "      <td>75392.0</td>\n",
       "      <td>0.0</td>\n",
       "      <td>3637.0</td>\n",
       "      <td>28.135807</td>\n",
       "      <td>1.656631e+12</td>\n",
       "      <td>2.166426e+19</td>\n",
       "      <td>44.522195</td>\n",
       "      <td>107.0</td>\n",
       "      <td>False</td>\n",
       "    </tr>\n",
       "    <tr>\n",
       "      <th>675035</th>\n",
       "      <td>False</td>\n",
       "      <td>False</td>\n",
       "      <td>0</td>\n",
       "      <td>ex13</td>\n",
       "      <td>107.0</td>\n",
       "      <td>0.988568</td>\n",
       "      <td>75392.0</td>\n",
       "      <td>2568.0</td>\n",
       "      <td>12.0</td>\n",
       "      <td>75392.0</td>\n",
       "      <td>0.0</td>\n",
       "      <td>1990.0</td>\n",
       "      <td>28.068313</td>\n",
       "      <td>1.548507e+12</td>\n",
       "      <td>2.166103e+19</td>\n",
       "      <td>44.522047</td>\n",
       "      <td>107.0</td>\n",
       "      <td>False</td>\n",
       "    </tr>\n",
       "    <tr>\n",
       "      <th>675036</th>\n",
       "      <td>False</td>\n",
       "      <td>False</td>\n",
       "      <td>0</td>\n",
       "      <td>ex13</td>\n",
       "      <td>107.0</td>\n",
       "      <td>0.988568</td>\n",
       "      <td>75392.0</td>\n",
       "      <td>2568.0</td>\n",
       "      <td>24.0</td>\n",
       "      <td>75392.0</td>\n",
       "      <td>0.0</td>\n",
       "      <td>843.0</td>\n",
       "      <td>28.043064</td>\n",
       "      <td>1.509899e+12</td>\n",
       "      <td>2.165988e+19</td>\n",
       "      <td>44.521993</td>\n",
       "      <td>107.0</td>\n",
       "      <td>False</td>\n",
       "    </tr>\n",
       "    <tr>\n",
       "      <th>675037</th>\n",
       "      <td>False</td>\n",
       "      <td>False</td>\n",
       "      <td>0</td>\n",
       "      <td>ex13</td>\n",
       "      <td>107.0</td>\n",
       "      <td>0.988568</td>\n",
       "      <td>75392.0</td>\n",
       "      <td>2568.0</td>\n",
       "      <td>107.0</td>\n",
       "      <td>75392.0</td>\n",
       "      <td>0.0</td>\n",
       "      <td>82.0</td>\n",
       "      <td>28.037091</td>\n",
       "      <td>1.500908e+12</td>\n",
       "      <td>2.165961e+19</td>\n",
       "      <td>44.521981</td>\n",
       "      <td>107.0</td>\n",
       "      <td>True</td>\n",
       "    </tr>\n",
       "    <tr>\n",
       "      <th>675038</th>\n",
       "      <td>False</td>\n",
       "      <td>False</td>\n",
       "      <td>0</td>\n",
       "      <td>ex13</td>\n",
       "      <td>214.0</td>\n",
       "      <td>0.988568</td>\n",
       "      <td>75392.0</td>\n",
       "      <td>2568.0</td>\n",
       "      <td>214.0</td>\n",
       "      <td>75392.0</td>\n",
       "      <td>0.0</td>\n",
       "      <td>34.0</td>\n",
       "      <td>32.195860</td>\n",
       "      <td>9.604713e+13</td>\n",
       "      <td>1.386215e+21</td>\n",
       "      <td>48.680864</td>\n",
       "      <td>107.0</td>\n",
       "      <td>False</td>\n",
       "    </tr>\n",
       "    <tr>\n",
       "      <th>675039</th>\n",
       "      <td>False</td>\n",
       "      <td>False</td>\n",
       "      <td>0</td>\n",
       "      <td>ex13</td>\n",
       "      <td>321.0</td>\n",
       "      <td>0.988568</td>\n",
       "      <td>75392.0</td>\n",
       "      <td>2568.0</td>\n",
       "      <td>321.0</td>\n",
       "      <td>75392.0</td>\n",
       "      <td>0.0</td>\n",
       "      <td>22.0</td>\n",
       "      <td>34.628647</td>\n",
       "      <td>1.094033e+15</td>\n",
       "      <td>1.578985e+22</td>\n",
       "      <td>51.113654</td>\n",
       "      <td>107.0</td>\n",
       "      <td>False</td>\n",
       "    </tr>\n",
       "    <tr>\n",
       "      <th>675040</th>\n",
       "      <td>False</td>\n",
       "      <td>False</td>\n",
       "      <td>0</td>\n",
       "      <td>ex13</td>\n",
       "      <td>428.0</td>\n",
       "      <td>0.988568</td>\n",
       "      <td>75392.0</td>\n",
       "      <td>2568.0</td>\n",
       "      <td>428.0</td>\n",
       "      <td>75392.0</td>\n",
       "      <td>0.0</td>\n",
       "      <td>16.0</td>\n",
       "      <td>36.354739</td>\n",
       "      <td>6.146993e+15</td>\n",
       "      <td>8.871775e+22</td>\n",
       "      <td>52.839747</td>\n",
       "      <td>107.0</td>\n",
       "      <td>False</td>\n",
       "    </tr>\n",
       "    <tr>\n",
       "      <th>675041</th>\n",
       "      <td>False</td>\n",
       "      <td>False</td>\n",
       "      <td>0</td>\n",
       "      <td>ex13</td>\n",
       "      <td>642.0</td>\n",
       "      <td>0.988568</td>\n",
       "      <td>75392.0</td>\n",
       "      <td>2568.0</td>\n",
       "      <td>642.0</td>\n",
       "      <td>75392.0</td>\n",
       "      <td>0.0</td>\n",
       "      <td>10.0</td>\n",
       "      <td>38.787530</td>\n",
       "      <td>7.001808e+16</td>\n",
       "      <td>1.010551e+24</td>\n",
       "      <td>55.272538</td>\n",
       "      <td>107.0</td>\n",
       "      <td>False</td>\n",
       "    </tr>\n",
       "    <tr>\n",
       "      <th>675042</th>\n",
       "      <td>False</td>\n",
       "      <td>False</td>\n",
       "      <td>0</td>\n",
       "      <td>ex13</td>\n",
       "      <td>856.0</td>\n",
       "      <td>0.988568</td>\n",
       "      <td>75392.0</td>\n",
       "      <td>2568.0</td>\n",
       "      <td>856.0</td>\n",
       "      <td>75392.0</td>\n",
       "      <td>0.0</td>\n",
       "      <td>7.0</td>\n",
       "      <td>40.513622</td>\n",
       "      <td>3.934075e+17</td>\n",
       "      <td>5.677936e+24</td>\n",
       "      <td>56.998630</td>\n",
       "      <td>107.0</td>\n",
       "      <td>False</td>\n",
       "    </tr>\n",
       "    <tr>\n",
       "      <th>675043</th>\n",
       "      <td>False</td>\n",
       "      <td>False</td>\n",
       "      <td>0</td>\n",
       "      <td>ex13</td>\n",
       "      <td>1284.0</td>\n",
       "      <td>0.988568</td>\n",
       "      <td>75392.0</td>\n",
       "      <td>2568.0</td>\n",
       "      <td>1284.0</td>\n",
       "      <td>75392.0</td>\n",
       "      <td>0.0</td>\n",
       "      <td>4.0</td>\n",
       "      <td>42.946413</td>\n",
       "      <td>4.481157e+18</td>\n",
       "      <td>6.467524e+25</td>\n",
       "      <td>59.431421</td>\n",
       "      <td>107.0</td>\n",
       "      <td>False</td>\n",
       "    </tr>\n",
       "    <tr>\n",
       "      <th>675044</th>\n",
       "      <td>False</td>\n",
       "      <td>False</td>\n",
       "      <td>0</td>\n",
       "      <td>ex13</td>\n",
       "      <td>2568.0</td>\n",
       "      <td>0.988568</td>\n",
       "      <td>75392.0</td>\n",
       "      <td>2568.0</td>\n",
       "      <td>2568.0</td>\n",
       "      <td>75392.0</td>\n",
       "      <td>0.0</td>\n",
       "      <td>1.0</td>\n",
       "      <td>47.105296</td>\n",
       "      <td>2.867940e+20</td>\n",
       "      <td>4.139215e+27</td>\n",
       "      <td>63.590304</td>\n",
       "      <td>107.0</td>\n",
       "      <td>False</td>\n",
       "    </tr>\n",
       "    <tr>\n",
       "      <th>3500</th>\n",
       "      <td>False</td>\n",
       "      <td>False</td>\n",
       "      <td>0</td>\n",
       "      <td>ex15</td>\n",
       "      <td>109.0</td>\n",
       "      <td>0.998184</td>\n",
       "      <td>85626.0</td>\n",
       "      <td>6867.0</td>\n",
       "      <td>3.0</td>\n",
       "      <td>85626.0</td>\n",
       "      <td>0.0</td>\n",
       "      <td>19825.0</td>\n",
       "      <td>29.482993</td>\n",
       "      <td>6.372371e+12</td>\n",
       "      <td>6.248389e+19</td>\n",
       "      <td>45.581440</td>\n",
       "      <td>109.0</td>\n",
       "      <td>False</td>\n",
       "    </tr>\n",
       "    <tr>\n",
       "      <th>3501</th>\n",
       "      <td>False</td>\n",
       "      <td>False</td>\n",
       "      <td>0</td>\n",
       "      <td>ex15</td>\n",
       "      <td>109.0</td>\n",
       "      <td>0.998184</td>\n",
       "      <td>85626.0</td>\n",
       "      <td>6867.0</td>\n",
       "      <td>7.0</td>\n",
       "      <td>85626.0</td>\n",
       "      <td>0.0</td>\n",
       "      <td>8125.0</td>\n",
       "      <td>28.536030</td>\n",
       "      <td>2.471954e+12</td>\n",
       "      <td>6.227395e+19</td>\n",
       "      <td>45.578075</td>\n",
       "      <td>109.0</td>\n",
       "      <td>False</td>\n",
       "    </tr>\n",
       "    <tr>\n",
       "      <th>3502</th>\n",
       "      <td>False</td>\n",
       "      <td>False</td>\n",
       "      <td>0</td>\n",
       "      <td>ex15</td>\n",
       "      <td>109.0</td>\n",
       "      <td>0.998184</td>\n",
       "      <td>85626.0</td>\n",
       "      <td>6867.0</td>\n",
       "      <td>9.0</td>\n",
       "      <td>85626.0</td>\n",
       "      <td>0.0</td>\n",
       "      <td>6175.0</td>\n",
       "      <td>28.390951</td>\n",
       "      <td>2.138127e+12</td>\n",
       "      <td>6.225598e+19</td>\n",
       "      <td>45.577786</td>\n",
       "      <td>109.0</td>\n",
       "      <td>False</td>\n",
       "    </tr>\n",
       "    <tr>\n",
       "      <th>3503</th>\n",
       "      <td>False</td>\n",
       "      <td>False</td>\n",
       "      <td>0</td>\n",
       "      <td>ex15</td>\n",
       "      <td>109.0</td>\n",
       "      <td>0.998184</td>\n",
       "      <td>85626.0</td>\n",
       "      <td>6867.0</td>\n",
       "      <td>21.0</td>\n",
       "      <td>85626.0</td>\n",
       "      <td>0.0</td>\n",
       "      <td>2275.0</td>\n",
       "      <td>28.185790</td>\n",
       "      <td>1.741538e+12</td>\n",
       "      <td>6.223464e+19</td>\n",
       "      <td>45.577443</td>\n",
       "      <td>109.0</td>\n",
       "      <td>False</td>\n",
       "    </tr>\n",
       "    <tr>\n",
       "      <th>3504</th>\n",
       "      <td>False</td>\n",
       "      <td>False</td>\n",
       "      <td>0</td>\n",
       "      <td>ex15</td>\n",
       "      <td>109.0</td>\n",
       "      <td>0.998184</td>\n",
       "      <td>85626.0</td>\n",
       "      <td>6867.0</td>\n",
       "      <td>63.0</td>\n",
       "      <td>85626.0</td>\n",
       "      <td>0.0</td>\n",
       "      <td>325.0</td>\n",
       "      <td>28.149086</td>\n",
       "      <td>1.678776e+12</td>\n",
       "      <td>6.223126e+19</td>\n",
       "      <td>45.577389</td>\n",
       "      <td>109.0</td>\n",
       "      <td>False</td>\n",
       "    </tr>\n",
       "    <tr>\n",
       "      <th>3505</th>\n",
       "      <td>False</td>\n",
       "      <td>False</td>\n",
       "      <td>0</td>\n",
       "      <td>ex15</td>\n",
       "      <td>109.0</td>\n",
       "      <td>0.998184</td>\n",
       "      <td>85626.0</td>\n",
       "      <td>6867.0</td>\n",
       "      <td>109.0</td>\n",
       "      <td>85626.0</td>\n",
       "      <td>0.0</td>\n",
       "      <td>187.0</td>\n",
       "      <td>28.148479</td>\n",
       "      <td>1.677758e+12</td>\n",
       "      <td>6.223120e+19</td>\n",
       "      <td>45.577388</td>\n",
       "      <td>109.0</td>\n",
       "      <td>True</td>\n",
       "    </tr>\n",
       "    <tr>\n",
       "      <th>3506</th>\n",
       "      <td>False</td>\n",
       "      <td>False</td>\n",
       "      <td>0</td>\n",
       "      <td>ex15</td>\n",
       "      <td>327.0</td>\n",
       "      <td>0.998184</td>\n",
       "      <td>85626.0</td>\n",
       "      <td>6867.0</td>\n",
       "      <td>327.0</td>\n",
       "      <td>85626.0</td>\n",
       "      <td>0.0</td>\n",
       "      <td>61.0</td>\n",
       "      <td>34.739763</td>\n",
       "      <td>1.222609e+15</td>\n",
       "      <td>4.536652e+22</td>\n",
       "      <td>52.169061</td>\n",
       "      <td>109.0</td>\n",
       "      <td>False</td>\n",
       "    </tr>\n",
       "    <tr>\n",
       "      <th>3507</th>\n",
       "      <td>False</td>\n",
       "      <td>False</td>\n",
       "      <td>0</td>\n",
       "      <td>ex15</td>\n",
       "      <td>763.0</td>\n",
       "      <td>0.998184</td>\n",
       "      <td>85626.0</td>\n",
       "      <td>6867.0</td>\n",
       "      <td>763.0</td>\n",
       "      <td>85626.0</td>\n",
       "      <td>0.0</td>\n",
       "      <td>25.0</td>\n",
       "      <td>39.823548</td>\n",
       "      <td>1.973092e+17</td>\n",
       "      <td>7.321435e+24</td>\n",
       "      <td>57.252849</td>\n",
       "      <td>109.0</td>\n",
       "      <td>False</td>\n",
       "    </tr>\n",
       "    <tr>\n",
       "      <th>3508</th>\n",
       "      <td>False</td>\n",
       "      <td>False</td>\n",
       "      <td>0</td>\n",
       "      <td>ex15</td>\n",
       "      <td>981.0</td>\n",
       "      <td>0.998184</td>\n",
       "      <td>85626.0</td>\n",
       "      <td>6867.0</td>\n",
       "      <td>981.0</td>\n",
       "      <td>85626.0</td>\n",
       "      <td>0.0</td>\n",
       "      <td>19.0</td>\n",
       "      <td>41.331435</td>\n",
       "      <td>8.912798e+17</td>\n",
       "      <td>3.307219e+25</td>\n",
       "      <td>58.760735</td>\n",
       "      <td>109.0</td>\n",
       "      <td>False</td>\n",
       "    </tr>\n",
       "    <tr>\n",
       "      <th>3509</th>\n",
       "      <td>False</td>\n",
       "      <td>False</td>\n",
       "      <td>0</td>\n",
       "      <td>ex15</td>\n",
       "      <td>2289.0</td>\n",
       "      <td>0.998184</td>\n",
       "      <td>85626.0</td>\n",
       "      <td>6867.0</td>\n",
       "      <td>2289.0</td>\n",
       "      <td>85626.0</td>\n",
       "      <td>0.0</td>\n",
       "      <td>7.0</td>\n",
       "      <td>46.415222</td>\n",
       "      <td>1.438384e+20</td>\n",
       "      <td>5.337326e+27</td>\n",
       "      <td>63.844522</td>\n",
       "      <td>109.0</td>\n",
       "      <td>False</td>\n",
       "    </tr>\n",
       "    <tr>\n",
       "      <th>3510</th>\n",
       "      <td>False</td>\n",
       "      <td>False</td>\n",
       "      <td>0</td>\n",
       "      <td>ex15</td>\n",
       "      <td>6867.0</td>\n",
       "      <td>0.998184</td>\n",
       "      <td>85626.0</td>\n",
       "      <td>6867.0</td>\n",
       "      <td>6867.0</td>\n",
       "      <td>85626.0</td>\n",
       "      <td>0.0</td>\n",
       "      <td>1.0</td>\n",
       "      <td>53.006896</td>\n",
       "      <td>1.048582e+23</td>\n",
       "      <td>3.890911e+30</td>\n",
       "      <td>70.436196</td>\n",
       "      <td>109.0</td>\n",
       "      <td>False</td>\n",
       "    </tr>\n",
       "    <tr>\n",
       "      <th>266197</th>\n",
       "      <td>False</td>\n",
       "      <td>False</td>\n",
       "      <td>0</td>\n",
       "      <td>ex3</td>\n",
       "      <td>607.0</td>\n",
       "      <td>0.986794</td>\n",
       "      <td>43791.0</td>\n",
       "      <td>1821.0</td>\n",
       "      <td>3.0</td>\n",
       "      <td>43791.0</td>\n",
       "      <td>0.0</td>\n",
       "      <td>10353.0</td>\n",
       "      <td>38.452008</td>\n",
       "      <td>5.006048e+16</td>\n",
       "      <td>5.045795e+23</td>\n",
       "      <td>54.578012</td>\n",
       "      <td>607.0</td>\n",
       "      <td>False</td>\n",
       "    </tr>\n",
       "    <tr>\n",
       "      <th>266198</th>\n",
       "      <td>False</td>\n",
       "      <td>False</td>\n",
       "      <td>0</td>\n",
       "      <td>ex3</td>\n",
       "      <td>607.0</td>\n",
       "      <td>0.986794</td>\n",
       "      <td>43791.0</td>\n",
       "      <td>1821.0</td>\n",
       "      <td>607.0</td>\n",
       "      <td>43791.0</td>\n",
       "      <td>0.0</td>\n",
       "      <td>7.0</td>\n",
       "      <td>38.451173</td>\n",
       "      <td>5.001867e+16</td>\n",
       "      <td>5.045785e+23</td>\n",
       "      <td>54.578010</td>\n",
       "      <td>607.0</td>\n",
       "      <td>True</td>\n",
       "    </tr>\n",
       "    <tr>\n",
       "      <th>266199</th>\n",
       "      <td>False</td>\n",
       "      <td>False</td>\n",
       "      <td>0</td>\n",
       "      <td>ex3</td>\n",
       "      <td>1821.0</td>\n",
       "      <td>0.986794</td>\n",
       "      <td>43791.0</td>\n",
       "      <td>1821.0</td>\n",
       "      <td>1821.0</td>\n",
       "      <td>43791.0</td>\n",
       "      <td>0.0</td>\n",
       "      <td>1.0</td>\n",
       "      <td>45.042846</td>\n",
       "      <td>3.646361e+19</td>\n",
       "      <td>3.678377e+26</td>\n",
       "      <td>61.169684</td>\n",
       "      <td>607.0</td>\n",
       "      <td>False</td>\n",
       "    </tr>\n",
       "  </tbody>\n",
       "</table>\n",
       "</div>"
      ]
     },
     "execution_count": 27,
     "metadata": {},
     "output_type": "execute_result"
    }
   ],
   "execution_count": 27
  },
  {
   "metadata": {
    "ExecuteTime": {
     "end_time": "2024-08-24T17:43:18.005095Z",
     "start_time": "2024-08-24T17:43:17.519479Z"
    }
   },
   "cell_type": "code",
   "source": [
    "# Tile size choice influence on TT-MALS runtime\n",
    "fig = px.line(baseline_df, x=\"tile_size\", y=\"log_obj_func\", color='matrix_name', symbol=\"matrix_name\", markers=True, log_x=True,\n",
    "              color_discrete_map=matrix_color_map,\n",
    "              labels={\n",
    "                     \"tile_size\": \"Tile size\",\n",
    "                     \"matrix_name\": \"Matrix name\",\n",
    "                 }\n",
    "              )\n",
    "\n",
    "# enlarge baseline tile size markers\n",
    "fig.for_each_trace(lambda trace: update_marker_size(baseline_df, trace, trace.name, \"matrix_name\"))\n",
    "\n",
    "fig.update_layout(\n",
    "    title={\n",
    "        'text': \"Influence of tile size choice on TT-MALS runtime\",\n",
    "        'x':0.5,\n",
    "        'xanchor': 'center',\n",
    "        'yanchor': 'top'\n",
    "    },\n",
    "    plot_bgcolor='white',   # Plot area background color\n",
    "    paper_bgcolor='white',  # Entire figure background color\n",
    "    font=dict(color='black'), # Font color\n",
    "    yaxis_title=r'$\\log(I^6 + rI^3 + r^2I^2)$'\n",
    ")\n",
    "fig.show()\n",
    "fig.write_image(\"plots/baseline_tile_size_vs_log_obj_func.pdf\")"
   ],
   "id": "cddbb0ff64099a21",
   "outputs": [
    {
     "data": {
      "application/vnd.plotly.v1+json": {
       "data": [
        {
         "hovertemplate": "Matrix name=Pres_Poisson<br>Tile size=%{x}<br>log_obj_func=%{y}<extra></extra>",
         "legendgroup": "Pres_Poisson",
         "line": {
          "color": "#FF6692",
          "dash": "solid"
         },
         "marker": {
          "symbol": "circle",
          "size": [
           5,
           15,
           5
          ]
         },
         "mode": "lines+markers",
         "name": "Pres_Poisson",
         "orientation": "v",
         "showlegend": true,
         "x": [
          2.0,
          7411.0,
          14822.0
         ],
         "xaxis": "x",
         "y": [
          53.46434001758422,
          53.46432397171799,
          57.62320705506813
         ],
         "yaxis": "y",
         "type": "scatter"
        },
        {
         "hovertemplate": "Matrix name=bcsstk13<br>Tile size=%{x}<br>log_obj_func=%{y}<extra></extra>",
         "legendgroup": "bcsstk13",
         "line": {
          "color": "#636EFA",
          "dash": "solid"
         },
         "marker": {
          "symbol": "diamond",
          "size": [
           15
          ]
         },
         "mode": "lines+markers",
         "name": "bcsstk13",
         "orientation": "v",
         "showlegend": true,
         "x": [
          2003.0
         ],
         "xaxis": "x",
         "y": [
          45.61440801411941
         ],
         "yaxis": "y",
         "type": "scatter"
        },
        {
         "hovertemplate": "Matrix name=ex10<br>Tile size=%{x}<br>log_obj_func=%{y}<extra></extra>",
         "legendgroup": "ex10",
         "line": {
          "color": "#EF553B",
          "dash": "solid"
         },
         "marker": {
          "symbol": "square",
          "size": [
           5,
           5,
           5,
           15,
           5,
           5,
           5
          ]
         },
         "mode": "lines+markers",
         "name": "ex10",
         "orientation": "v",
         "showlegend": true,
         "x": [
          2.0,
          5.0,
          10.0,
          241.0,
          482.0,
          1205.0,
          2410.0
         ],
         "xaxis": "x",
         "y": [
          33.09323293624255,
          32.9222387948011,
          32.91084825350567,
          32.90878383370194,
          37.06766480352669,
          42.56540907784224,
          46.72429215897967
         ],
         "yaxis": "y",
         "type": "scatter"
        },
        {
         "hovertemplate": "Matrix name=ex10hs<br>Tile size=%{x}<br>log_obj_func=%{y}<extra></extra>",
         "legendgroup": "ex10hs",
         "line": {
          "color": "#FFA15A",
          "dash": "solid"
         },
         "marker": {
          "symbol": "x",
          "size": [
           5,
           5,
           5,
           15,
           5,
           5,
           5,
           5,
           5,
           5,
           5,
           5,
           5,
           5,
           5,
           5,
           5
          ]
         },
         "mode": "lines+markers",
         "name": "ex10hs",
         "orientation": "v",
         "showlegend": true,
         "x": [
          2.0,
          4.0,
          7.0,
          13.0,
          14.0,
          26.0,
          28.0,
          49.0,
          52.0,
          91.0,
          98.0,
          182.0,
          196.0,
          364.0,
          637.0,
          1274.0,
          2548.0
         ],
         "xaxis": "x",
         "y": [
          25.60896164453125,
          23.7190431457363,
          22.03948570996794,
          20.29717455789307,
          20.255555282194635,
          20.413888046592636,
          20.57800862077399,
          23.369142575943915,
          23.718886063423362,
          27.065479408025276,
          27.510006766677083,
          31.224048215761098,
          31.66869379698681,
          35.38292362034165,
          38.74061797272882,
          42.89950101873315,
          47.0583841002128
         ],
         "yaxis": "y",
         "type": "scatter"
        },
        {
         "hovertemplate": "Matrix name=ex13<br>Tile size=%{x}<br>log_obj_func=%{y}<extra></extra>",
         "legendgroup": "ex13",
         "line": {
          "color": "#00CC96",
          "dash": "solid"
         },
         "marker": {
          "symbol": "cross",
          "size": [
           5,
           5,
           5,
           5,
           5,
           5,
           5,
           15,
           5,
           5,
           5,
           5,
           5,
           5,
           5
          ]
         },
         "mode": "lines+markers",
         "name": "ex13",
         "orientation": "v",
         "showlegend": true,
         "x": [
          2.0,
          3.0,
          4.0,
          6.0,
          8.0,
          12.0,
          24.0,
          107.0,
          214.0,
          321.0,
          428.0,
          642.0,
          856.0,
          1284.0,
          2568.0
         ],
         "xaxis": "x",
         "y": [
          29.611911589663677,
          29.037283287044097,
          28.542605385104025,
          28.245248071694142,
          28.13580687267735,
          28.068312597290536,
          28.043064064861323,
          28.03709123328237,
          32.195860110580796,
          34.62864744949679,
          36.35473938519418,
          38.78752986051999,
          40.51362226810204,
          42.9464129073949,
          47.105295988918186
         ],
         "yaxis": "y",
         "type": "scatter"
        },
        {
         "hovertemplate": "Matrix name=ex15<br>Tile size=%{x}<br>log_obj_func=%{y}<extra></extra>",
         "legendgroup": "ex15",
         "line": {
          "color": "#19D3F3",
          "dash": "solid"
         },
         "marker": {
          "symbol": "circle",
          "size": [
           5,
           5,
           5,
           5,
           5,
           15,
           5,
           5,
           5,
           5,
           5
          ]
         },
         "mode": "lines+markers",
         "name": "ex15",
         "orientation": "v",
         "showlegend": true,
         "x": [
          3.0,
          7.0,
          9.0,
          21.0,
          63.0,
          109.0,
          327.0,
          763.0,
          981.0,
          2289.0,
          6867.0
         ],
         "xaxis": "x",
         "y": [
          29.482992716638595,
          28.536029991147146,
          28.390951267528994,
          28.185789690765414,
          28.149086028233334,
          28.148479344035785,
          34.73976309538235,
          39.82354824583243,
          41.33143477790746,
          46.415221920300844,
          53.00689565172715
         ],
         "yaxis": "y",
         "type": "scatter"
        },
        {
         "hovertemplate": "Matrix name=ex3<br>Tile size=%{x}<br>log_obj_func=%{y}<extra></extra>",
         "legendgroup": "ex3",
         "line": {
          "color": "#AB63FA",
          "dash": "solid"
         },
         "marker": {
          "symbol": "diamond",
          "size": [
           5,
           15,
           5
          ]
         },
         "mode": "lines+markers",
         "name": "ex3",
         "orientation": "v",
         "showlegend": true,
         "x": [
          3.0,
          607.0,
          1821.0
         ],
         "xaxis": "x",
         "y": [
          38.45200823503148,
          38.451172778017046,
          45.042846478531345
         ],
         "yaxis": "y",
         "type": "scatter"
        }
       ],
       "layout": {
        "template": {
         "data": {
          "histogram2dcontour": [
           {
            "type": "histogram2dcontour",
            "colorbar": {
             "outlinewidth": 0,
             "ticks": ""
            },
            "colorscale": [
             [
              0.0,
              "#0d0887"
             ],
             [
              0.1111111111111111,
              "#46039f"
             ],
             [
              0.2222222222222222,
              "#7201a8"
             ],
             [
              0.3333333333333333,
              "#9c179e"
             ],
             [
              0.4444444444444444,
              "#bd3786"
             ],
             [
              0.5555555555555556,
              "#d8576b"
             ],
             [
              0.6666666666666666,
              "#ed7953"
             ],
             [
              0.7777777777777778,
              "#fb9f3a"
             ],
             [
              0.8888888888888888,
              "#fdca26"
             ],
             [
              1.0,
              "#f0f921"
             ]
            ]
           }
          ],
          "choropleth": [
           {
            "type": "choropleth",
            "colorbar": {
             "outlinewidth": 0,
             "ticks": ""
            }
           }
          ],
          "histogram2d": [
           {
            "type": "histogram2d",
            "colorbar": {
             "outlinewidth": 0,
             "ticks": ""
            },
            "colorscale": [
             [
              0.0,
              "#0d0887"
             ],
             [
              0.1111111111111111,
              "#46039f"
             ],
             [
              0.2222222222222222,
              "#7201a8"
             ],
             [
              0.3333333333333333,
              "#9c179e"
             ],
             [
              0.4444444444444444,
              "#bd3786"
             ],
             [
              0.5555555555555556,
              "#d8576b"
             ],
             [
              0.6666666666666666,
              "#ed7953"
             ],
             [
              0.7777777777777778,
              "#fb9f3a"
             ],
             [
              0.8888888888888888,
              "#fdca26"
             ],
             [
              1.0,
              "#f0f921"
             ]
            ]
           }
          ],
          "heatmap": [
           {
            "type": "heatmap",
            "colorbar": {
             "outlinewidth": 0,
             "ticks": ""
            },
            "colorscale": [
             [
              0.0,
              "#0d0887"
             ],
             [
              0.1111111111111111,
              "#46039f"
             ],
             [
              0.2222222222222222,
              "#7201a8"
             ],
             [
              0.3333333333333333,
              "#9c179e"
             ],
             [
              0.4444444444444444,
              "#bd3786"
             ],
             [
              0.5555555555555556,
              "#d8576b"
             ],
             [
              0.6666666666666666,
              "#ed7953"
             ],
             [
              0.7777777777777778,
              "#fb9f3a"
             ],
             [
              0.8888888888888888,
              "#fdca26"
             ],
             [
              1.0,
              "#f0f921"
             ]
            ]
           }
          ],
          "heatmapgl": [
           {
            "type": "heatmapgl",
            "colorbar": {
             "outlinewidth": 0,
             "ticks": ""
            },
            "colorscale": [
             [
              0.0,
              "#0d0887"
             ],
             [
              0.1111111111111111,
              "#46039f"
             ],
             [
              0.2222222222222222,
              "#7201a8"
             ],
             [
              0.3333333333333333,
              "#9c179e"
             ],
             [
              0.4444444444444444,
              "#bd3786"
             ],
             [
              0.5555555555555556,
              "#d8576b"
             ],
             [
              0.6666666666666666,
              "#ed7953"
             ],
             [
              0.7777777777777778,
              "#fb9f3a"
             ],
             [
              0.8888888888888888,
              "#fdca26"
             ],
             [
              1.0,
              "#f0f921"
             ]
            ]
           }
          ],
          "contourcarpet": [
           {
            "type": "contourcarpet",
            "colorbar": {
             "outlinewidth": 0,
             "ticks": ""
            }
           }
          ],
          "contour": [
           {
            "type": "contour",
            "colorbar": {
             "outlinewidth": 0,
             "ticks": ""
            },
            "colorscale": [
             [
              0.0,
              "#0d0887"
             ],
             [
              0.1111111111111111,
              "#46039f"
             ],
             [
              0.2222222222222222,
              "#7201a8"
             ],
             [
              0.3333333333333333,
              "#9c179e"
             ],
             [
              0.4444444444444444,
              "#bd3786"
             ],
             [
              0.5555555555555556,
              "#d8576b"
             ],
             [
              0.6666666666666666,
              "#ed7953"
             ],
             [
              0.7777777777777778,
              "#fb9f3a"
             ],
             [
              0.8888888888888888,
              "#fdca26"
             ],
             [
              1.0,
              "#f0f921"
             ]
            ]
           }
          ],
          "surface": [
           {
            "type": "surface",
            "colorbar": {
             "outlinewidth": 0,
             "ticks": ""
            },
            "colorscale": [
             [
              0.0,
              "#0d0887"
             ],
             [
              0.1111111111111111,
              "#46039f"
             ],
             [
              0.2222222222222222,
              "#7201a8"
             ],
             [
              0.3333333333333333,
              "#9c179e"
             ],
             [
              0.4444444444444444,
              "#bd3786"
             ],
             [
              0.5555555555555556,
              "#d8576b"
             ],
             [
              0.6666666666666666,
              "#ed7953"
             ],
             [
              0.7777777777777778,
              "#fb9f3a"
             ],
             [
              0.8888888888888888,
              "#fdca26"
             ],
             [
              1.0,
              "#f0f921"
             ]
            ]
           }
          ],
          "mesh3d": [
           {
            "type": "mesh3d",
            "colorbar": {
             "outlinewidth": 0,
             "ticks": ""
            }
           }
          ],
          "scatter": [
           {
            "marker": {
             "line": {
              "color": "#283442"
             }
            },
            "type": "scatter"
           }
          ],
          "parcoords": [
           {
            "type": "parcoords",
            "line": {
             "colorbar": {
              "outlinewidth": 0,
              "ticks": ""
             }
            }
           }
          ],
          "scatterpolargl": [
           {
            "type": "scatterpolargl",
            "marker": {
             "colorbar": {
              "outlinewidth": 0,
              "ticks": ""
             }
            }
           }
          ],
          "bar": [
           {
            "error_x": {
             "color": "#f2f5fa"
            },
            "error_y": {
             "color": "#f2f5fa"
            },
            "marker": {
             "line": {
              "color": "rgb(17,17,17)",
              "width": 0.5
             },
             "pattern": {
              "fillmode": "overlay",
              "size": 10,
              "solidity": 0.2
             }
            },
            "type": "bar"
           }
          ],
          "scattergeo": [
           {
            "type": "scattergeo",
            "marker": {
             "colorbar": {
              "outlinewidth": 0,
              "ticks": ""
             }
            }
           }
          ],
          "scatterpolar": [
           {
            "type": "scatterpolar",
            "marker": {
             "colorbar": {
              "outlinewidth": 0,
              "ticks": ""
             }
            }
           }
          ],
          "histogram": [
           {
            "marker": {
             "pattern": {
              "fillmode": "overlay",
              "size": 10,
              "solidity": 0.2
             }
            },
            "type": "histogram"
           }
          ],
          "scattergl": [
           {
            "marker": {
             "line": {
              "color": "#283442"
             }
            },
            "type": "scattergl"
           }
          ],
          "scatter3d": [
           {
            "type": "scatter3d",
            "line": {
             "colorbar": {
              "outlinewidth": 0,
              "ticks": ""
             }
            },
            "marker": {
             "colorbar": {
              "outlinewidth": 0,
              "ticks": ""
             }
            }
           }
          ],
          "scattermapbox": [
           {
            "type": "scattermapbox",
            "marker": {
             "colorbar": {
              "outlinewidth": 0,
              "ticks": ""
             }
            }
           }
          ],
          "scatterternary": [
           {
            "type": "scatterternary",
            "marker": {
             "colorbar": {
              "outlinewidth": 0,
              "ticks": ""
             }
            }
           }
          ],
          "scattercarpet": [
           {
            "type": "scattercarpet",
            "marker": {
             "colorbar": {
              "outlinewidth": 0,
              "ticks": ""
             }
            }
           }
          ],
          "carpet": [
           {
            "aaxis": {
             "endlinecolor": "#A2B1C6",
             "gridcolor": "#506784",
             "linecolor": "#506784",
             "minorgridcolor": "#506784",
             "startlinecolor": "#A2B1C6"
            },
            "baxis": {
             "endlinecolor": "#A2B1C6",
             "gridcolor": "#506784",
             "linecolor": "#506784",
             "minorgridcolor": "#506784",
             "startlinecolor": "#A2B1C6"
            },
            "type": "carpet"
           }
          ],
          "table": [
           {
            "cells": {
             "fill": {
              "color": "#506784"
             },
             "line": {
              "color": "rgb(17,17,17)"
             }
            },
            "header": {
             "fill": {
              "color": "#2a3f5f"
             },
             "line": {
              "color": "rgb(17,17,17)"
             }
            },
            "type": "table"
           }
          ],
          "barpolar": [
           {
            "marker": {
             "line": {
              "color": "rgb(17,17,17)",
              "width": 0.5
             },
             "pattern": {
              "fillmode": "overlay",
              "size": 10,
              "solidity": 0.2
             }
            },
            "type": "barpolar"
           }
          ],
          "pie": [
           {
            "automargin": true,
            "type": "pie"
           }
          ]
         },
         "layout": {
          "autotypenumbers": "strict",
          "colorway": [
           "#636efa",
           "#EF553B",
           "#00cc96",
           "#ab63fa",
           "#FFA15A",
           "#19d3f3",
           "#FF6692",
           "#B6E880",
           "#FF97FF",
           "#FECB52"
          ],
          "font": {
           "color": "#f2f5fa"
          },
          "hovermode": "closest",
          "hoverlabel": {
           "align": "left"
          },
          "paper_bgcolor": "rgb(17,17,17)",
          "plot_bgcolor": "rgb(17,17,17)",
          "polar": {
           "bgcolor": "rgb(17,17,17)",
           "angularaxis": {
            "gridcolor": "#506784",
            "linecolor": "#506784",
            "ticks": ""
           },
           "radialaxis": {
            "gridcolor": "#506784",
            "linecolor": "#506784",
            "ticks": ""
           }
          },
          "ternary": {
           "bgcolor": "rgb(17,17,17)",
           "aaxis": {
            "gridcolor": "#506784",
            "linecolor": "#506784",
            "ticks": ""
           },
           "baxis": {
            "gridcolor": "#506784",
            "linecolor": "#506784",
            "ticks": ""
           },
           "caxis": {
            "gridcolor": "#506784",
            "linecolor": "#506784",
            "ticks": ""
           }
          },
          "coloraxis": {
           "colorbar": {
            "outlinewidth": 0,
            "ticks": ""
           }
          },
          "colorscale": {
           "sequential": [
            [
             0.0,
             "#0d0887"
            ],
            [
             0.1111111111111111,
             "#46039f"
            ],
            [
             0.2222222222222222,
             "#7201a8"
            ],
            [
             0.3333333333333333,
             "#9c179e"
            ],
            [
             0.4444444444444444,
             "#bd3786"
            ],
            [
             0.5555555555555556,
             "#d8576b"
            ],
            [
             0.6666666666666666,
             "#ed7953"
            ],
            [
             0.7777777777777778,
             "#fb9f3a"
            ],
            [
             0.8888888888888888,
             "#fdca26"
            ],
            [
             1.0,
             "#f0f921"
            ]
           ],
           "sequentialminus": [
            [
             0.0,
             "#0d0887"
            ],
            [
             0.1111111111111111,
             "#46039f"
            ],
            [
             0.2222222222222222,
             "#7201a8"
            ],
            [
             0.3333333333333333,
             "#9c179e"
            ],
            [
             0.4444444444444444,
             "#bd3786"
            ],
            [
             0.5555555555555556,
             "#d8576b"
            ],
            [
             0.6666666666666666,
             "#ed7953"
            ],
            [
             0.7777777777777778,
             "#fb9f3a"
            ],
            [
             0.8888888888888888,
             "#fdca26"
            ],
            [
             1.0,
             "#f0f921"
            ]
           ],
           "diverging": [
            [
             0,
             "#8e0152"
            ],
            [
             0.1,
             "#c51b7d"
            ],
            [
             0.2,
             "#de77ae"
            ],
            [
             0.3,
             "#f1b6da"
            ],
            [
             0.4,
             "#fde0ef"
            ],
            [
             0.5,
             "#f7f7f7"
            ],
            [
             0.6,
             "#e6f5d0"
            ],
            [
             0.7,
             "#b8e186"
            ],
            [
             0.8,
             "#7fbc41"
            ],
            [
             0.9,
             "#4d9221"
            ],
            [
             1,
             "#276419"
            ]
           ]
          },
          "xaxis": {
           "gridcolor": "#283442",
           "linecolor": "#506784",
           "ticks": "",
           "title": {
            "standoff": 15
           },
           "zerolinecolor": "#283442",
           "automargin": true,
           "zerolinewidth": 2
          },
          "yaxis": {
           "gridcolor": "#283442",
           "linecolor": "#506784",
           "ticks": "",
           "title": {
            "standoff": 15
           },
           "zerolinecolor": "#283442",
           "automargin": true,
           "zerolinewidth": 2
          },
          "scene": {
           "xaxis": {
            "backgroundcolor": "rgb(17,17,17)",
            "gridcolor": "#506784",
            "linecolor": "#506784",
            "showbackground": true,
            "ticks": "",
            "zerolinecolor": "#C8D4E3",
            "gridwidth": 2
           },
           "yaxis": {
            "backgroundcolor": "rgb(17,17,17)",
            "gridcolor": "#506784",
            "linecolor": "#506784",
            "showbackground": true,
            "ticks": "",
            "zerolinecolor": "#C8D4E3",
            "gridwidth": 2
           },
           "zaxis": {
            "backgroundcolor": "rgb(17,17,17)",
            "gridcolor": "#506784",
            "linecolor": "#506784",
            "showbackground": true,
            "ticks": "",
            "zerolinecolor": "#C8D4E3",
            "gridwidth": 2
           }
          },
          "shapedefaults": {
           "line": {
            "color": "#f2f5fa"
           }
          },
          "annotationdefaults": {
           "arrowcolor": "#f2f5fa",
           "arrowhead": 0,
           "arrowwidth": 1
          },
          "geo": {
           "bgcolor": "rgb(17,17,17)",
           "landcolor": "rgb(17,17,17)",
           "subunitcolor": "#506784",
           "showland": true,
           "showlakes": true,
           "lakecolor": "rgb(17,17,17)"
          },
          "title": {
           "x": 0.05
          },
          "updatemenudefaults": {
           "bgcolor": "#506784",
           "borderwidth": 0
          },
          "sliderdefaults": {
           "bgcolor": "#C8D4E3",
           "borderwidth": 1,
           "bordercolor": "rgb(17,17,17)",
           "tickwidth": 0
          },
          "mapbox": {
           "style": "dark"
          }
         }
        },
        "xaxis": {
         "anchor": "y",
         "domain": [
          0.0,
          1.0
         ],
         "title": {
          "text": "Tile size"
         },
         "type": "log"
        },
        "yaxis": {
         "anchor": "x",
         "domain": [
          0.0,
          1.0
         ],
         "title": {
          "text": "$\\log(I^6 + rI^3 + r^2I^2)$"
         }
        },
        "legend": {
         "title": {
          "text": "Matrix name"
         },
         "tracegroupgap": 0
        },
        "margin": {
         "t": 60
        },
        "title": {
         "text": "Influence of tile size choice on TT-MALS runtime",
         "x": 0.5,
         "xanchor": "center",
         "yanchor": "top"
        },
        "font": {
         "color": "black"
        },
        "plot_bgcolor": "white",
        "paper_bgcolor": "white"
       },
       "config": {
        "plotlyServerURL": "https://plot.ly"
       }
      },
      "text/html": [
       "<div>                            <div id=\"7322b3c2-f5ad-4a8f-9a17-8b136264a29e\" class=\"plotly-graph-div\" style=\"height:525px; width:100%;\"></div>            <script type=\"text/javascript\">                require([\"plotly\"], function(Plotly) {                    window.PLOTLYENV=window.PLOTLYENV || {};                                    if (document.getElementById(\"7322b3c2-f5ad-4a8f-9a17-8b136264a29e\")) {                    Plotly.newPlot(                        \"7322b3c2-f5ad-4a8f-9a17-8b136264a29e\",                        [{\"hovertemplate\":\"Matrix name=Pres_Poisson\\u003cbr\\u003eTile size=%{x}\\u003cbr\\u003elog_obj_func=%{y}\\u003cextra\\u003e\\u003c\\u002fextra\\u003e\",\"legendgroup\":\"Pres_Poisson\",\"line\":{\"color\":\"#FF6692\",\"dash\":\"solid\"},\"marker\":{\"symbol\":\"circle\",\"size\":[5,15,5]},\"mode\":\"lines+markers\",\"name\":\"Pres_Poisson\",\"orientation\":\"v\",\"showlegend\":true,\"x\":[2.0,7411.0,14822.0],\"xaxis\":\"x\",\"y\":[53.46434001758422,53.46432397171799,57.62320705506813],\"yaxis\":\"y\",\"type\":\"scatter\"},{\"hovertemplate\":\"Matrix name=bcsstk13\\u003cbr\\u003eTile size=%{x}\\u003cbr\\u003elog_obj_func=%{y}\\u003cextra\\u003e\\u003c\\u002fextra\\u003e\",\"legendgroup\":\"bcsstk13\",\"line\":{\"color\":\"#636EFA\",\"dash\":\"solid\"},\"marker\":{\"symbol\":\"diamond\",\"size\":[15]},\"mode\":\"lines+markers\",\"name\":\"bcsstk13\",\"orientation\":\"v\",\"showlegend\":true,\"x\":[2003.0],\"xaxis\":\"x\",\"y\":[45.61440801411941],\"yaxis\":\"y\",\"type\":\"scatter\"},{\"hovertemplate\":\"Matrix name=ex10\\u003cbr\\u003eTile size=%{x}\\u003cbr\\u003elog_obj_func=%{y}\\u003cextra\\u003e\\u003c\\u002fextra\\u003e\",\"legendgroup\":\"ex10\",\"line\":{\"color\":\"#EF553B\",\"dash\":\"solid\"},\"marker\":{\"symbol\":\"square\",\"size\":[5,5,5,15,5,5,5]},\"mode\":\"lines+markers\",\"name\":\"ex10\",\"orientation\":\"v\",\"showlegend\":true,\"x\":[2.0,5.0,10.0,241.0,482.0,1205.0,2410.0],\"xaxis\":\"x\",\"y\":[33.09323293624255,32.9222387948011,32.91084825350567,32.90878383370194,37.06766480352669,42.56540907784224,46.72429215897967],\"yaxis\":\"y\",\"type\":\"scatter\"},{\"hovertemplate\":\"Matrix name=ex10hs\\u003cbr\\u003eTile size=%{x}\\u003cbr\\u003elog_obj_func=%{y}\\u003cextra\\u003e\\u003c\\u002fextra\\u003e\",\"legendgroup\":\"ex10hs\",\"line\":{\"color\":\"#FFA15A\",\"dash\":\"solid\"},\"marker\":{\"symbol\":\"x\",\"size\":[5,5,5,15,5,5,5,5,5,5,5,5,5,5,5,5,5]},\"mode\":\"lines+markers\",\"name\":\"ex10hs\",\"orientation\":\"v\",\"showlegend\":true,\"x\":[2.0,4.0,7.0,13.0,14.0,26.0,28.0,49.0,52.0,91.0,98.0,182.0,196.0,364.0,637.0,1274.0,2548.0],\"xaxis\":\"x\",\"y\":[25.60896164453125,23.7190431457363,22.03948570996794,20.29717455789307,20.255555282194635,20.413888046592636,20.57800862077399,23.369142575943915,23.718886063423362,27.065479408025276,27.510006766677083,31.224048215761098,31.66869379698681,35.38292362034165,38.74061797272882,42.89950101873315,47.0583841002128],\"yaxis\":\"y\",\"type\":\"scatter\"},{\"hovertemplate\":\"Matrix name=ex13\\u003cbr\\u003eTile size=%{x}\\u003cbr\\u003elog_obj_func=%{y}\\u003cextra\\u003e\\u003c\\u002fextra\\u003e\",\"legendgroup\":\"ex13\",\"line\":{\"color\":\"#00CC96\",\"dash\":\"solid\"},\"marker\":{\"symbol\":\"cross\",\"size\":[5,5,5,5,5,5,5,15,5,5,5,5,5,5,5]},\"mode\":\"lines+markers\",\"name\":\"ex13\",\"orientation\":\"v\",\"showlegend\":true,\"x\":[2.0,3.0,4.0,6.0,8.0,12.0,24.0,107.0,214.0,321.0,428.0,642.0,856.0,1284.0,2568.0],\"xaxis\":\"x\",\"y\":[29.611911589663677,29.037283287044097,28.542605385104025,28.245248071694142,28.13580687267735,28.068312597290536,28.043064064861323,28.03709123328237,32.195860110580796,34.62864744949679,36.35473938519418,38.78752986051999,40.51362226810204,42.9464129073949,47.105295988918186],\"yaxis\":\"y\",\"type\":\"scatter\"},{\"hovertemplate\":\"Matrix name=ex15\\u003cbr\\u003eTile size=%{x}\\u003cbr\\u003elog_obj_func=%{y}\\u003cextra\\u003e\\u003c\\u002fextra\\u003e\",\"legendgroup\":\"ex15\",\"line\":{\"color\":\"#19D3F3\",\"dash\":\"solid\"},\"marker\":{\"symbol\":\"circle\",\"size\":[5,5,5,5,5,15,5,5,5,5,5]},\"mode\":\"lines+markers\",\"name\":\"ex15\",\"orientation\":\"v\",\"showlegend\":true,\"x\":[3.0,7.0,9.0,21.0,63.0,109.0,327.0,763.0,981.0,2289.0,6867.0],\"xaxis\":\"x\",\"y\":[29.482992716638595,28.536029991147146,28.390951267528994,28.185789690765414,28.149086028233334,28.148479344035785,34.73976309538235,39.82354824583243,41.33143477790746,46.415221920300844,53.00689565172715],\"yaxis\":\"y\",\"type\":\"scatter\"},{\"hovertemplate\":\"Matrix name=ex3\\u003cbr\\u003eTile size=%{x}\\u003cbr\\u003elog_obj_func=%{y}\\u003cextra\\u003e\\u003c\\u002fextra\\u003e\",\"legendgroup\":\"ex3\",\"line\":{\"color\":\"#AB63FA\",\"dash\":\"solid\"},\"marker\":{\"symbol\":\"diamond\",\"size\":[5,15,5]},\"mode\":\"lines+markers\",\"name\":\"ex3\",\"orientation\":\"v\",\"showlegend\":true,\"x\":[3.0,607.0,1821.0],\"xaxis\":\"x\",\"y\":[38.45200823503148,38.451172778017046,45.042846478531345],\"yaxis\":\"y\",\"type\":\"scatter\"}],                        {\"template\":{\"data\":{\"histogram2dcontour\":[{\"type\":\"histogram2dcontour\",\"colorbar\":{\"outlinewidth\":0,\"ticks\":\"\"},\"colorscale\":[[0.0,\"#0d0887\"],[0.1111111111111111,\"#46039f\"],[0.2222222222222222,\"#7201a8\"],[0.3333333333333333,\"#9c179e\"],[0.4444444444444444,\"#bd3786\"],[0.5555555555555556,\"#d8576b\"],[0.6666666666666666,\"#ed7953\"],[0.7777777777777778,\"#fb9f3a\"],[0.8888888888888888,\"#fdca26\"],[1.0,\"#f0f921\"]]}],\"choropleth\":[{\"type\":\"choropleth\",\"colorbar\":{\"outlinewidth\":0,\"ticks\":\"\"}}],\"histogram2d\":[{\"type\":\"histogram2d\",\"colorbar\":{\"outlinewidth\":0,\"ticks\":\"\"},\"colorscale\":[[0.0,\"#0d0887\"],[0.1111111111111111,\"#46039f\"],[0.2222222222222222,\"#7201a8\"],[0.3333333333333333,\"#9c179e\"],[0.4444444444444444,\"#bd3786\"],[0.5555555555555556,\"#d8576b\"],[0.6666666666666666,\"#ed7953\"],[0.7777777777777778,\"#fb9f3a\"],[0.8888888888888888,\"#fdca26\"],[1.0,\"#f0f921\"]]}],\"heatmap\":[{\"type\":\"heatmap\",\"colorbar\":{\"outlinewidth\":0,\"ticks\":\"\"},\"colorscale\":[[0.0,\"#0d0887\"],[0.1111111111111111,\"#46039f\"],[0.2222222222222222,\"#7201a8\"],[0.3333333333333333,\"#9c179e\"],[0.4444444444444444,\"#bd3786\"],[0.5555555555555556,\"#d8576b\"],[0.6666666666666666,\"#ed7953\"],[0.7777777777777778,\"#fb9f3a\"],[0.8888888888888888,\"#fdca26\"],[1.0,\"#f0f921\"]]}],\"heatmapgl\":[{\"type\":\"heatmapgl\",\"colorbar\":{\"outlinewidth\":0,\"ticks\":\"\"},\"colorscale\":[[0.0,\"#0d0887\"],[0.1111111111111111,\"#46039f\"],[0.2222222222222222,\"#7201a8\"],[0.3333333333333333,\"#9c179e\"],[0.4444444444444444,\"#bd3786\"],[0.5555555555555556,\"#d8576b\"],[0.6666666666666666,\"#ed7953\"],[0.7777777777777778,\"#fb9f3a\"],[0.8888888888888888,\"#fdca26\"],[1.0,\"#f0f921\"]]}],\"contourcarpet\":[{\"type\":\"contourcarpet\",\"colorbar\":{\"outlinewidth\":0,\"ticks\":\"\"}}],\"contour\":[{\"type\":\"contour\",\"colorbar\":{\"outlinewidth\":0,\"ticks\":\"\"},\"colorscale\":[[0.0,\"#0d0887\"],[0.1111111111111111,\"#46039f\"],[0.2222222222222222,\"#7201a8\"],[0.3333333333333333,\"#9c179e\"],[0.4444444444444444,\"#bd3786\"],[0.5555555555555556,\"#d8576b\"],[0.6666666666666666,\"#ed7953\"],[0.7777777777777778,\"#fb9f3a\"],[0.8888888888888888,\"#fdca26\"],[1.0,\"#f0f921\"]]}],\"surface\":[{\"type\":\"surface\",\"colorbar\":{\"outlinewidth\":0,\"ticks\":\"\"},\"colorscale\":[[0.0,\"#0d0887\"],[0.1111111111111111,\"#46039f\"],[0.2222222222222222,\"#7201a8\"],[0.3333333333333333,\"#9c179e\"],[0.4444444444444444,\"#bd3786\"],[0.5555555555555556,\"#d8576b\"],[0.6666666666666666,\"#ed7953\"],[0.7777777777777778,\"#fb9f3a\"],[0.8888888888888888,\"#fdca26\"],[1.0,\"#f0f921\"]]}],\"mesh3d\":[{\"type\":\"mesh3d\",\"colorbar\":{\"outlinewidth\":0,\"ticks\":\"\"}}],\"scatter\":[{\"marker\":{\"line\":{\"color\":\"#283442\"}},\"type\":\"scatter\"}],\"parcoords\":[{\"type\":\"parcoords\",\"line\":{\"colorbar\":{\"outlinewidth\":0,\"ticks\":\"\"}}}],\"scatterpolargl\":[{\"type\":\"scatterpolargl\",\"marker\":{\"colorbar\":{\"outlinewidth\":0,\"ticks\":\"\"}}}],\"bar\":[{\"error_x\":{\"color\":\"#f2f5fa\"},\"error_y\":{\"color\":\"#f2f5fa\"},\"marker\":{\"line\":{\"color\":\"rgb(17,17,17)\",\"width\":0.5},\"pattern\":{\"fillmode\":\"overlay\",\"size\":10,\"solidity\":0.2}},\"type\":\"bar\"}],\"scattergeo\":[{\"type\":\"scattergeo\",\"marker\":{\"colorbar\":{\"outlinewidth\":0,\"ticks\":\"\"}}}],\"scatterpolar\":[{\"type\":\"scatterpolar\",\"marker\":{\"colorbar\":{\"outlinewidth\":0,\"ticks\":\"\"}}}],\"histogram\":[{\"marker\":{\"pattern\":{\"fillmode\":\"overlay\",\"size\":10,\"solidity\":0.2}},\"type\":\"histogram\"}],\"scattergl\":[{\"marker\":{\"line\":{\"color\":\"#283442\"}},\"type\":\"scattergl\"}],\"scatter3d\":[{\"type\":\"scatter3d\",\"line\":{\"colorbar\":{\"outlinewidth\":0,\"ticks\":\"\"}},\"marker\":{\"colorbar\":{\"outlinewidth\":0,\"ticks\":\"\"}}}],\"scattermapbox\":[{\"type\":\"scattermapbox\",\"marker\":{\"colorbar\":{\"outlinewidth\":0,\"ticks\":\"\"}}}],\"scatterternary\":[{\"type\":\"scatterternary\",\"marker\":{\"colorbar\":{\"outlinewidth\":0,\"ticks\":\"\"}}}],\"scattercarpet\":[{\"type\":\"scattercarpet\",\"marker\":{\"colorbar\":{\"outlinewidth\":0,\"ticks\":\"\"}}}],\"carpet\":[{\"aaxis\":{\"endlinecolor\":\"#A2B1C6\",\"gridcolor\":\"#506784\",\"linecolor\":\"#506784\",\"minorgridcolor\":\"#506784\",\"startlinecolor\":\"#A2B1C6\"},\"baxis\":{\"endlinecolor\":\"#A2B1C6\",\"gridcolor\":\"#506784\",\"linecolor\":\"#506784\",\"minorgridcolor\":\"#506784\",\"startlinecolor\":\"#A2B1C6\"},\"type\":\"carpet\"}],\"table\":[{\"cells\":{\"fill\":{\"color\":\"#506784\"},\"line\":{\"color\":\"rgb(17,17,17)\"}},\"header\":{\"fill\":{\"color\":\"#2a3f5f\"},\"line\":{\"color\":\"rgb(17,17,17)\"}},\"type\":\"table\"}],\"barpolar\":[{\"marker\":{\"line\":{\"color\":\"rgb(17,17,17)\",\"width\":0.5},\"pattern\":{\"fillmode\":\"overlay\",\"size\":10,\"solidity\":0.2}},\"type\":\"barpolar\"}],\"pie\":[{\"automargin\":true,\"type\":\"pie\"}]},\"layout\":{\"autotypenumbers\":\"strict\",\"colorway\":[\"#636efa\",\"#EF553B\",\"#00cc96\",\"#ab63fa\",\"#FFA15A\",\"#19d3f3\",\"#FF6692\",\"#B6E880\",\"#FF97FF\",\"#FECB52\"],\"font\":{\"color\":\"#f2f5fa\"},\"hovermode\":\"closest\",\"hoverlabel\":{\"align\":\"left\"},\"paper_bgcolor\":\"rgb(17,17,17)\",\"plot_bgcolor\":\"rgb(17,17,17)\",\"polar\":{\"bgcolor\":\"rgb(17,17,17)\",\"angularaxis\":{\"gridcolor\":\"#506784\",\"linecolor\":\"#506784\",\"ticks\":\"\"},\"radialaxis\":{\"gridcolor\":\"#506784\",\"linecolor\":\"#506784\",\"ticks\":\"\"}},\"ternary\":{\"bgcolor\":\"rgb(17,17,17)\",\"aaxis\":{\"gridcolor\":\"#506784\",\"linecolor\":\"#506784\",\"ticks\":\"\"},\"baxis\":{\"gridcolor\":\"#506784\",\"linecolor\":\"#506784\",\"ticks\":\"\"},\"caxis\":{\"gridcolor\":\"#506784\",\"linecolor\":\"#506784\",\"ticks\":\"\"}},\"coloraxis\":{\"colorbar\":{\"outlinewidth\":0,\"ticks\":\"\"}},\"colorscale\":{\"sequential\":[[0.0,\"#0d0887\"],[0.1111111111111111,\"#46039f\"],[0.2222222222222222,\"#7201a8\"],[0.3333333333333333,\"#9c179e\"],[0.4444444444444444,\"#bd3786\"],[0.5555555555555556,\"#d8576b\"],[0.6666666666666666,\"#ed7953\"],[0.7777777777777778,\"#fb9f3a\"],[0.8888888888888888,\"#fdca26\"],[1.0,\"#f0f921\"]],\"sequentialminus\":[[0.0,\"#0d0887\"],[0.1111111111111111,\"#46039f\"],[0.2222222222222222,\"#7201a8\"],[0.3333333333333333,\"#9c179e\"],[0.4444444444444444,\"#bd3786\"],[0.5555555555555556,\"#d8576b\"],[0.6666666666666666,\"#ed7953\"],[0.7777777777777778,\"#fb9f3a\"],[0.8888888888888888,\"#fdca26\"],[1.0,\"#f0f921\"]],\"diverging\":[[0,\"#8e0152\"],[0.1,\"#c51b7d\"],[0.2,\"#de77ae\"],[0.3,\"#f1b6da\"],[0.4,\"#fde0ef\"],[0.5,\"#f7f7f7\"],[0.6,\"#e6f5d0\"],[0.7,\"#b8e186\"],[0.8,\"#7fbc41\"],[0.9,\"#4d9221\"],[1,\"#276419\"]]},\"xaxis\":{\"gridcolor\":\"#283442\",\"linecolor\":\"#506784\",\"ticks\":\"\",\"title\":{\"standoff\":15},\"zerolinecolor\":\"#283442\",\"automargin\":true,\"zerolinewidth\":2},\"yaxis\":{\"gridcolor\":\"#283442\",\"linecolor\":\"#506784\",\"ticks\":\"\",\"title\":{\"standoff\":15},\"zerolinecolor\":\"#283442\",\"automargin\":true,\"zerolinewidth\":2},\"scene\":{\"xaxis\":{\"backgroundcolor\":\"rgb(17,17,17)\",\"gridcolor\":\"#506784\",\"linecolor\":\"#506784\",\"showbackground\":true,\"ticks\":\"\",\"zerolinecolor\":\"#C8D4E3\",\"gridwidth\":2},\"yaxis\":{\"backgroundcolor\":\"rgb(17,17,17)\",\"gridcolor\":\"#506784\",\"linecolor\":\"#506784\",\"showbackground\":true,\"ticks\":\"\",\"zerolinecolor\":\"#C8D4E3\",\"gridwidth\":2},\"zaxis\":{\"backgroundcolor\":\"rgb(17,17,17)\",\"gridcolor\":\"#506784\",\"linecolor\":\"#506784\",\"showbackground\":true,\"ticks\":\"\",\"zerolinecolor\":\"#C8D4E3\",\"gridwidth\":2}},\"shapedefaults\":{\"line\":{\"color\":\"#f2f5fa\"}},\"annotationdefaults\":{\"arrowcolor\":\"#f2f5fa\",\"arrowhead\":0,\"arrowwidth\":1},\"geo\":{\"bgcolor\":\"rgb(17,17,17)\",\"landcolor\":\"rgb(17,17,17)\",\"subunitcolor\":\"#506784\",\"showland\":true,\"showlakes\":true,\"lakecolor\":\"rgb(17,17,17)\"},\"title\":{\"x\":0.05},\"updatemenudefaults\":{\"bgcolor\":\"#506784\",\"borderwidth\":0},\"sliderdefaults\":{\"bgcolor\":\"#C8D4E3\",\"borderwidth\":1,\"bordercolor\":\"rgb(17,17,17)\",\"tickwidth\":0},\"mapbox\":{\"style\":\"dark\"}}},\"xaxis\":{\"anchor\":\"y\",\"domain\":[0.0,1.0],\"title\":{\"text\":\"Tile size\"},\"type\":\"log\"},\"yaxis\":{\"anchor\":\"x\",\"domain\":[0.0,1.0],\"title\":{\"text\":\"$\\\\log(I^6 + rI^3 + r^2I^2)$\"}},\"legend\":{\"title\":{\"text\":\"Matrix name\"},\"tracegroupgap\":0},\"margin\":{\"t\":60},\"title\":{\"text\":\"Influence of tile size choice on TT-MALS runtime\",\"x\":0.5,\"xanchor\":\"center\",\"yanchor\":\"top\"},\"font\":{\"color\":\"black\"},\"plot_bgcolor\":\"white\",\"paper_bgcolor\":\"white\"},                        {\"responsive\": true}                    ).then(function(){\n",
       "                            \n",
       "var gd = document.getElementById('7322b3c2-f5ad-4a8f-9a17-8b136264a29e');\n",
       "var x = new MutationObserver(function (mutations, observer) {{\n",
       "        var display = window.getComputedStyle(gd).display;\n",
       "        if (!display || display === 'none') {{\n",
       "            console.log([gd, 'removed!']);\n",
       "            Plotly.purge(gd);\n",
       "            observer.disconnect();\n",
       "        }}\n",
       "}});\n",
       "\n",
       "// Listen for the removal of the full notebook cells\n",
       "var notebookContainer = gd.closest('#notebook-container');\n",
       "if (notebookContainer) {{\n",
       "    x.observe(notebookContainer, {childList: true});\n",
       "}}\n",
       "\n",
       "// Listen for the clearing of the current output cell\n",
       "var outputEl = gd.closest('.output');\n",
       "if (outputEl) {{\n",
       "    x.observe(outputEl, {childList: true});\n",
       "}}\n",
       "\n",
       "                        })                };                });            </script>        </div>"
      ]
     },
     "metadata": {},
     "output_type": "display_data"
    }
   ],
   "execution_count": 28
  },
  {
   "metadata": {
    "ExecuteTime": {
     "end_time": "2024-08-24T17:43:34.551195Z",
     "start_time": "2024-08-24T17:43:34.213551Z"
    }
   },
   "cell_type": "code",
   "source": [
    "# trade-off between rank and max mode size - baseline\n",
    "fig = px.line(baseline_df, x=\"rank\", y=\"max_mode_size\", color=\"matrix_name\", symbol=\"matrix_name\", log_x=True, log_y=True, color_discrete_map=matrix_color_map,\n",
    "                 labels={\n",
    "                     \"rank\": \"Rank (r)\",\n",
    "                     \"matrix_name\": \"Matrix name\",\n",
    "                     \"max_mode_size\": \"Maximum mode size (I)\",\n",
    "                 })\n",
    "fig.update_layout(\n",
    "    title={\n",
    "        'text': \"Trade-off between rank and maximum mode size\",\n",
    "        'x':0.5,\n",
    "        'xanchor': 'center',\n",
    "        'yanchor': 'top'\n",
    "    },\n",
    "    plot_bgcolor='white',   # Plot area background color\n",
    "    paper_bgcolor='white',  # Entire figure background color\n",
    "    font=dict(color='black') # Font color\n",
    ")\n",
    "# enlarge baseline tile size markers\n",
    "fig.for_each_trace(lambda trace: update_marker_size(baseline_df, trace, trace.name, \"matrix_name\"))\n",
    "fig.show()\n",
    "\n",
    "fig.write_image(\"plots/baseline_max_mode_size_vs_rank.pdf\")"
   ],
   "id": "6273f199d1cb25e6",
   "outputs": [
    {
     "data": {
      "application/vnd.plotly.v1+json": {
       "data": [
        {
         "hovertemplate": "Matrix name=Pres_Poisson<br>Rank (r)=%{x}<br>Maximum mode size (I)=%{y}<extra></extra>",
         "legendgroup": "Pres_Poisson",
         "line": {
          "color": "#FF6692",
          "dash": "solid"
         },
         "marker": {
          "symbol": "circle",
          "size": [
           5,
           15,
           5
          ]
         },
         "mode": "lines+markers",
         "name": "Pres_Poisson",
         "orientation": "v",
         "showlegend": true,
         "x": [
          216333.0,
          4.0,
          1.0
         ],
         "xaxis": "x",
         "y": [
          7411.0,
          7411.0,
          14822.0
         ],
         "yaxis": "y",
         "type": "scatter"
        },
        {
         "hovertemplate": "Matrix name=bcsstk13<br>Rank (r)=%{x}<br>Maximum mode size (I)=%{y}<extra></extra>",
         "legendgroup": "bcsstk13",
         "line": {
          "color": "#636EFA",
          "dash": "solid"
         },
         "marker": {
          "symbol": "diamond",
          "size": [
           15
          ]
         },
         "mode": "lines+markers",
         "name": "bcsstk13",
         "orientation": "v",
         "showlegend": true,
         "x": [
          1.0
         ],
         "xaxis": "x",
         "y": [
          2003.0
         ],
         "yaxis": "y",
         "type": "scatter"
        },
        {
         "hovertemplate": "Matrix name=ex10<br>Rank (r)=%{x}<br>Maximum mode size (I)=%{y}<extra></extra>",
         "legendgroup": "ex10",
         "line": {
          "color": "#EF553B",
          "dash": "solid"
         },
         "marker": {
          "symbol": "square",
          "size": [
           5,
           5,
           5,
           15,
           5,
           5,
           5
          ]
         },
         "mode": "lines+markers",
         "name": "ex10",
         "orientation": "v",
         "showlegend": true,
         "x": [
          26020.0,
          6641.0,
          2524.0,
          28.0,
          13.0,
          4.0,
          1.0
         ],
         "xaxis": "x",
         "y": [
          241.0,
          241.0,
          241.0,
          241.0,
          482.0,
          1205.0,
          2410.0
         ],
         "yaxis": "y",
         "type": "scatter"
        },
        {
         "hovertemplate": "Matrix name=ex10hs<br>Rank (r)=%{x}<br>Maximum mode size (I)=%{y}<extra></extra>",
         "legendgroup": "ex10hs",
         "line": {
          "color": "#FFA15A",
          "dash": "solid"
         },
         "marker": {
          "symbol": "x",
          "size": [
           5,
           5,
           5,
           15,
           5,
           5,
           5,
           5,
           5,
           5,
           5,
           5,
           5,
           5,
           5,
           5,
           5
          ]
         },
         "mode": "lines+markers",
         "name": "ex10hs",
         "orientation": "v",
         "showlegend": true,
         "x": [
          27981.0,
          10871.0,
          4688.0,
          1952.0,
          1770.0,
          780.0,
          685.0,
          302.0,
          265.0,
          110.0,
          96.0,
          40.0,
          37.0,
          19.0,
          10.0,
          4.0,
          1.0
         ],
         "xaxis": "x",
         "y": [
          13.0,
          13.0,
          13.0,
          13.0,
          14.0,
          26.0,
          28.0,
          49.0,
          52.0,
          91.0,
          98.0,
          182.0,
          196.0,
          364.0,
          637.0,
          1274.0,
          2548.0
         ],
         "yaxis": "y",
         "type": "scatter"
        },
        {
         "hovertemplate": "Matrix name=ex13<br>Rank (r)=%{x}<br>Maximum mode size (I)=%{y}<extra></extra>",
         "legendgroup": "ex13",
         "line": {
          "color": "#00CC96",
          "dash": "solid"
         },
         "marker": {
          "symbol": "cross",
          "size": [
           5,
           5,
           5,
           5,
           5,
           5,
           5,
           15,
           5,
           5,
           5,
           5,
           5,
           5,
           5
          ]
         },
         "mode": "lines+markers",
         "name": "ex13",
         "orientation": "v",
         "showlegend": true,
         "x": [
          22354.0,
          14958.0,
          9234.0,
          5456.0,
          3637.0,
          1990.0,
          843.0,
          82.0,
          34.0,
          22.0,
          16.0,
          10.0,
          7.0,
          4.0,
          1.0
         ],
         "xaxis": "x",
         "y": [
          107.0,
          107.0,
          107.0,
          107.0,
          107.0,
          107.0,
          107.0,
          107.0,
          214.0,
          321.0,
          428.0,
          642.0,
          856.0,
          1284.0,
          2568.0
         ],
         "yaxis": "y",
         "type": "scatter"
        },
        {
         "hovertemplate": "Matrix name=ex15<br>Rank (r)=%{x}<br>Maximum mode size (I)=%{y}<extra></extra>",
         "legendgroup": "ex15",
         "line": {
          "color": "#19D3F3",
          "dash": "solid"
         },
         "marker": {
          "symbol": "circle",
          "size": [
           5,
           5,
           5,
           5,
           5,
           15,
           5,
           5,
           5,
           5,
           5
          ]
         },
         "mode": "lines+markers",
         "name": "ex15",
         "orientation": "v",
         "showlegend": true,
         "x": [
          19825.0,
          8125.0,
          6175.0,
          2275.0,
          325.0,
          187.0,
          61.0,
          25.0,
          19.0,
          7.0,
          1.0
         ],
         "xaxis": "x",
         "y": [
          109.0,
          109.0,
          109.0,
          109.0,
          109.0,
          109.0,
          327.0,
          763.0,
          981.0,
          2289.0,
          6867.0
         ],
         "yaxis": "y",
         "type": "scatter"
        },
        {
         "hovertemplate": "Matrix name=ex3<br>Rank (r)=%{x}<br>Maximum mode size (I)=%{y}<extra></extra>",
         "legendgroup": "ex3",
         "line": {
          "color": "#AB63FA",
          "dash": "solid"
         },
         "marker": {
          "symbol": "diamond",
          "size": [
           5,
           15,
           5
          ]
         },
         "mode": "lines+markers",
         "name": "ex3",
         "orientation": "v",
         "showlegend": true,
         "x": [
          10353.0,
          7.0,
          1.0
         ],
         "xaxis": "x",
         "y": [
          607.0,
          607.0,
          1821.0
         ],
         "yaxis": "y",
         "type": "scatter"
        }
       ],
       "layout": {
        "template": {
         "data": {
          "histogram2dcontour": [
           {
            "type": "histogram2dcontour",
            "colorbar": {
             "outlinewidth": 0,
             "ticks": ""
            },
            "colorscale": [
             [
              0.0,
              "#0d0887"
             ],
             [
              0.1111111111111111,
              "#46039f"
             ],
             [
              0.2222222222222222,
              "#7201a8"
             ],
             [
              0.3333333333333333,
              "#9c179e"
             ],
             [
              0.4444444444444444,
              "#bd3786"
             ],
             [
              0.5555555555555556,
              "#d8576b"
             ],
             [
              0.6666666666666666,
              "#ed7953"
             ],
             [
              0.7777777777777778,
              "#fb9f3a"
             ],
             [
              0.8888888888888888,
              "#fdca26"
             ],
             [
              1.0,
              "#f0f921"
             ]
            ]
           }
          ],
          "choropleth": [
           {
            "type": "choropleth",
            "colorbar": {
             "outlinewidth": 0,
             "ticks": ""
            }
           }
          ],
          "histogram2d": [
           {
            "type": "histogram2d",
            "colorbar": {
             "outlinewidth": 0,
             "ticks": ""
            },
            "colorscale": [
             [
              0.0,
              "#0d0887"
             ],
             [
              0.1111111111111111,
              "#46039f"
             ],
             [
              0.2222222222222222,
              "#7201a8"
             ],
             [
              0.3333333333333333,
              "#9c179e"
             ],
             [
              0.4444444444444444,
              "#bd3786"
             ],
             [
              0.5555555555555556,
              "#d8576b"
             ],
             [
              0.6666666666666666,
              "#ed7953"
             ],
             [
              0.7777777777777778,
              "#fb9f3a"
             ],
             [
              0.8888888888888888,
              "#fdca26"
             ],
             [
              1.0,
              "#f0f921"
             ]
            ]
           }
          ],
          "heatmap": [
           {
            "type": "heatmap",
            "colorbar": {
             "outlinewidth": 0,
             "ticks": ""
            },
            "colorscale": [
             [
              0.0,
              "#0d0887"
             ],
             [
              0.1111111111111111,
              "#46039f"
             ],
             [
              0.2222222222222222,
              "#7201a8"
             ],
             [
              0.3333333333333333,
              "#9c179e"
             ],
             [
              0.4444444444444444,
              "#bd3786"
             ],
             [
              0.5555555555555556,
              "#d8576b"
             ],
             [
              0.6666666666666666,
              "#ed7953"
             ],
             [
              0.7777777777777778,
              "#fb9f3a"
             ],
             [
              0.8888888888888888,
              "#fdca26"
             ],
             [
              1.0,
              "#f0f921"
             ]
            ]
           }
          ],
          "heatmapgl": [
           {
            "type": "heatmapgl",
            "colorbar": {
             "outlinewidth": 0,
             "ticks": ""
            },
            "colorscale": [
             [
              0.0,
              "#0d0887"
             ],
             [
              0.1111111111111111,
              "#46039f"
             ],
             [
              0.2222222222222222,
              "#7201a8"
             ],
             [
              0.3333333333333333,
              "#9c179e"
             ],
             [
              0.4444444444444444,
              "#bd3786"
             ],
             [
              0.5555555555555556,
              "#d8576b"
             ],
             [
              0.6666666666666666,
              "#ed7953"
             ],
             [
              0.7777777777777778,
              "#fb9f3a"
             ],
             [
              0.8888888888888888,
              "#fdca26"
             ],
             [
              1.0,
              "#f0f921"
             ]
            ]
           }
          ],
          "contourcarpet": [
           {
            "type": "contourcarpet",
            "colorbar": {
             "outlinewidth": 0,
             "ticks": ""
            }
           }
          ],
          "contour": [
           {
            "type": "contour",
            "colorbar": {
             "outlinewidth": 0,
             "ticks": ""
            },
            "colorscale": [
             [
              0.0,
              "#0d0887"
             ],
             [
              0.1111111111111111,
              "#46039f"
             ],
             [
              0.2222222222222222,
              "#7201a8"
             ],
             [
              0.3333333333333333,
              "#9c179e"
             ],
             [
              0.4444444444444444,
              "#bd3786"
             ],
             [
              0.5555555555555556,
              "#d8576b"
             ],
             [
              0.6666666666666666,
              "#ed7953"
             ],
             [
              0.7777777777777778,
              "#fb9f3a"
             ],
             [
              0.8888888888888888,
              "#fdca26"
             ],
             [
              1.0,
              "#f0f921"
             ]
            ]
           }
          ],
          "surface": [
           {
            "type": "surface",
            "colorbar": {
             "outlinewidth": 0,
             "ticks": ""
            },
            "colorscale": [
             [
              0.0,
              "#0d0887"
             ],
             [
              0.1111111111111111,
              "#46039f"
             ],
             [
              0.2222222222222222,
              "#7201a8"
             ],
             [
              0.3333333333333333,
              "#9c179e"
             ],
             [
              0.4444444444444444,
              "#bd3786"
             ],
             [
              0.5555555555555556,
              "#d8576b"
             ],
             [
              0.6666666666666666,
              "#ed7953"
             ],
             [
              0.7777777777777778,
              "#fb9f3a"
             ],
             [
              0.8888888888888888,
              "#fdca26"
             ],
             [
              1.0,
              "#f0f921"
             ]
            ]
           }
          ],
          "mesh3d": [
           {
            "type": "mesh3d",
            "colorbar": {
             "outlinewidth": 0,
             "ticks": ""
            }
           }
          ],
          "scatter": [
           {
            "marker": {
             "line": {
              "color": "#283442"
             }
            },
            "type": "scatter"
           }
          ],
          "parcoords": [
           {
            "type": "parcoords",
            "line": {
             "colorbar": {
              "outlinewidth": 0,
              "ticks": ""
             }
            }
           }
          ],
          "scatterpolargl": [
           {
            "type": "scatterpolargl",
            "marker": {
             "colorbar": {
              "outlinewidth": 0,
              "ticks": ""
             }
            }
           }
          ],
          "bar": [
           {
            "error_x": {
             "color": "#f2f5fa"
            },
            "error_y": {
             "color": "#f2f5fa"
            },
            "marker": {
             "line": {
              "color": "rgb(17,17,17)",
              "width": 0.5
             },
             "pattern": {
              "fillmode": "overlay",
              "size": 10,
              "solidity": 0.2
             }
            },
            "type": "bar"
           }
          ],
          "scattergeo": [
           {
            "type": "scattergeo",
            "marker": {
             "colorbar": {
              "outlinewidth": 0,
              "ticks": ""
             }
            }
           }
          ],
          "scatterpolar": [
           {
            "type": "scatterpolar",
            "marker": {
             "colorbar": {
              "outlinewidth": 0,
              "ticks": ""
             }
            }
           }
          ],
          "histogram": [
           {
            "marker": {
             "pattern": {
              "fillmode": "overlay",
              "size": 10,
              "solidity": 0.2
             }
            },
            "type": "histogram"
           }
          ],
          "scattergl": [
           {
            "marker": {
             "line": {
              "color": "#283442"
             }
            },
            "type": "scattergl"
           }
          ],
          "scatter3d": [
           {
            "type": "scatter3d",
            "line": {
             "colorbar": {
              "outlinewidth": 0,
              "ticks": ""
             }
            },
            "marker": {
             "colorbar": {
              "outlinewidth": 0,
              "ticks": ""
             }
            }
           }
          ],
          "scattermapbox": [
           {
            "type": "scattermapbox",
            "marker": {
             "colorbar": {
              "outlinewidth": 0,
              "ticks": ""
             }
            }
           }
          ],
          "scatterternary": [
           {
            "type": "scatterternary",
            "marker": {
             "colorbar": {
              "outlinewidth": 0,
              "ticks": ""
             }
            }
           }
          ],
          "scattercarpet": [
           {
            "type": "scattercarpet",
            "marker": {
             "colorbar": {
              "outlinewidth": 0,
              "ticks": ""
             }
            }
           }
          ],
          "carpet": [
           {
            "aaxis": {
             "endlinecolor": "#A2B1C6",
             "gridcolor": "#506784",
             "linecolor": "#506784",
             "minorgridcolor": "#506784",
             "startlinecolor": "#A2B1C6"
            },
            "baxis": {
             "endlinecolor": "#A2B1C6",
             "gridcolor": "#506784",
             "linecolor": "#506784",
             "minorgridcolor": "#506784",
             "startlinecolor": "#A2B1C6"
            },
            "type": "carpet"
           }
          ],
          "table": [
           {
            "cells": {
             "fill": {
              "color": "#506784"
             },
             "line": {
              "color": "rgb(17,17,17)"
             }
            },
            "header": {
             "fill": {
              "color": "#2a3f5f"
             },
             "line": {
              "color": "rgb(17,17,17)"
             }
            },
            "type": "table"
           }
          ],
          "barpolar": [
           {
            "marker": {
             "line": {
              "color": "rgb(17,17,17)",
              "width": 0.5
             },
             "pattern": {
              "fillmode": "overlay",
              "size": 10,
              "solidity": 0.2
             }
            },
            "type": "barpolar"
           }
          ],
          "pie": [
           {
            "automargin": true,
            "type": "pie"
           }
          ]
         },
         "layout": {
          "autotypenumbers": "strict",
          "colorway": [
           "#636efa",
           "#EF553B",
           "#00cc96",
           "#ab63fa",
           "#FFA15A",
           "#19d3f3",
           "#FF6692",
           "#B6E880",
           "#FF97FF",
           "#FECB52"
          ],
          "font": {
           "color": "#f2f5fa"
          },
          "hovermode": "closest",
          "hoverlabel": {
           "align": "left"
          },
          "paper_bgcolor": "rgb(17,17,17)",
          "plot_bgcolor": "rgb(17,17,17)",
          "polar": {
           "bgcolor": "rgb(17,17,17)",
           "angularaxis": {
            "gridcolor": "#506784",
            "linecolor": "#506784",
            "ticks": ""
           },
           "radialaxis": {
            "gridcolor": "#506784",
            "linecolor": "#506784",
            "ticks": ""
           }
          },
          "ternary": {
           "bgcolor": "rgb(17,17,17)",
           "aaxis": {
            "gridcolor": "#506784",
            "linecolor": "#506784",
            "ticks": ""
           },
           "baxis": {
            "gridcolor": "#506784",
            "linecolor": "#506784",
            "ticks": ""
           },
           "caxis": {
            "gridcolor": "#506784",
            "linecolor": "#506784",
            "ticks": ""
           }
          },
          "coloraxis": {
           "colorbar": {
            "outlinewidth": 0,
            "ticks": ""
           }
          },
          "colorscale": {
           "sequential": [
            [
             0.0,
             "#0d0887"
            ],
            [
             0.1111111111111111,
             "#46039f"
            ],
            [
             0.2222222222222222,
             "#7201a8"
            ],
            [
             0.3333333333333333,
             "#9c179e"
            ],
            [
             0.4444444444444444,
             "#bd3786"
            ],
            [
             0.5555555555555556,
             "#d8576b"
            ],
            [
             0.6666666666666666,
             "#ed7953"
            ],
            [
             0.7777777777777778,
             "#fb9f3a"
            ],
            [
             0.8888888888888888,
             "#fdca26"
            ],
            [
             1.0,
             "#f0f921"
            ]
           ],
           "sequentialminus": [
            [
             0.0,
             "#0d0887"
            ],
            [
             0.1111111111111111,
             "#46039f"
            ],
            [
             0.2222222222222222,
             "#7201a8"
            ],
            [
             0.3333333333333333,
             "#9c179e"
            ],
            [
             0.4444444444444444,
             "#bd3786"
            ],
            [
             0.5555555555555556,
             "#d8576b"
            ],
            [
             0.6666666666666666,
             "#ed7953"
            ],
            [
             0.7777777777777778,
             "#fb9f3a"
            ],
            [
             0.8888888888888888,
             "#fdca26"
            ],
            [
             1.0,
             "#f0f921"
            ]
           ],
           "diverging": [
            [
             0,
             "#8e0152"
            ],
            [
             0.1,
             "#c51b7d"
            ],
            [
             0.2,
             "#de77ae"
            ],
            [
             0.3,
             "#f1b6da"
            ],
            [
             0.4,
             "#fde0ef"
            ],
            [
             0.5,
             "#f7f7f7"
            ],
            [
             0.6,
             "#e6f5d0"
            ],
            [
             0.7,
             "#b8e186"
            ],
            [
             0.8,
             "#7fbc41"
            ],
            [
             0.9,
             "#4d9221"
            ],
            [
             1,
             "#276419"
            ]
           ]
          },
          "xaxis": {
           "gridcolor": "#283442",
           "linecolor": "#506784",
           "ticks": "",
           "title": {
            "standoff": 15
           },
           "zerolinecolor": "#283442",
           "automargin": true,
           "zerolinewidth": 2
          },
          "yaxis": {
           "gridcolor": "#283442",
           "linecolor": "#506784",
           "ticks": "",
           "title": {
            "standoff": 15
           },
           "zerolinecolor": "#283442",
           "automargin": true,
           "zerolinewidth": 2
          },
          "scene": {
           "xaxis": {
            "backgroundcolor": "rgb(17,17,17)",
            "gridcolor": "#506784",
            "linecolor": "#506784",
            "showbackground": true,
            "ticks": "",
            "zerolinecolor": "#C8D4E3",
            "gridwidth": 2
           },
           "yaxis": {
            "backgroundcolor": "rgb(17,17,17)",
            "gridcolor": "#506784",
            "linecolor": "#506784",
            "showbackground": true,
            "ticks": "",
            "zerolinecolor": "#C8D4E3",
            "gridwidth": 2
           },
           "zaxis": {
            "backgroundcolor": "rgb(17,17,17)",
            "gridcolor": "#506784",
            "linecolor": "#506784",
            "showbackground": true,
            "ticks": "",
            "zerolinecolor": "#C8D4E3",
            "gridwidth": 2
           }
          },
          "shapedefaults": {
           "line": {
            "color": "#f2f5fa"
           }
          },
          "annotationdefaults": {
           "arrowcolor": "#f2f5fa",
           "arrowhead": 0,
           "arrowwidth": 1
          },
          "geo": {
           "bgcolor": "rgb(17,17,17)",
           "landcolor": "rgb(17,17,17)",
           "subunitcolor": "#506784",
           "showland": true,
           "showlakes": true,
           "lakecolor": "rgb(17,17,17)"
          },
          "title": {
           "x": 0.05
          },
          "updatemenudefaults": {
           "bgcolor": "#506784",
           "borderwidth": 0
          },
          "sliderdefaults": {
           "bgcolor": "#C8D4E3",
           "borderwidth": 1,
           "bordercolor": "rgb(17,17,17)",
           "tickwidth": 0
          },
          "mapbox": {
           "style": "dark"
          }
         }
        },
        "xaxis": {
         "anchor": "y",
         "domain": [
          0.0,
          1.0
         ],
         "title": {
          "text": "Rank (r)"
         },
         "type": "log"
        },
        "yaxis": {
         "anchor": "x",
         "domain": [
          0.0,
          1.0
         ],
         "title": {
          "text": "Maximum mode size (I)"
         },
         "type": "log"
        },
        "legend": {
         "title": {
          "text": "Matrix name"
         },
         "tracegroupgap": 0
        },
        "margin": {
         "t": 60
        },
        "title": {
         "text": "Trade-off between rank and maximum mode size",
         "x": 0.5,
         "xanchor": "center",
         "yanchor": "top"
        },
        "font": {
         "color": "black"
        },
        "plot_bgcolor": "white",
        "paper_bgcolor": "white"
       },
       "config": {
        "plotlyServerURL": "https://plot.ly"
       }
      },
      "text/html": [
       "<div>                            <div id=\"fea6cfe6-d564-44ee-ac6f-d3aa892a52c6\" class=\"plotly-graph-div\" style=\"height:525px; width:100%;\"></div>            <script type=\"text/javascript\">                require([\"plotly\"], function(Plotly) {                    window.PLOTLYENV=window.PLOTLYENV || {};                                    if (document.getElementById(\"fea6cfe6-d564-44ee-ac6f-d3aa892a52c6\")) {                    Plotly.newPlot(                        \"fea6cfe6-d564-44ee-ac6f-d3aa892a52c6\",                        [{\"hovertemplate\":\"Matrix name=Pres_Poisson\\u003cbr\\u003eRank (r)=%{x}\\u003cbr\\u003eMaximum mode size (I)=%{y}\\u003cextra\\u003e\\u003c\\u002fextra\\u003e\",\"legendgroup\":\"Pres_Poisson\",\"line\":{\"color\":\"#FF6692\",\"dash\":\"solid\"},\"marker\":{\"symbol\":\"circle\",\"size\":[5,15,5]},\"mode\":\"lines+markers\",\"name\":\"Pres_Poisson\",\"orientation\":\"v\",\"showlegend\":true,\"x\":[216333.0,4.0,1.0],\"xaxis\":\"x\",\"y\":[7411.0,7411.0,14822.0],\"yaxis\":\"y\",\"type\":\"scatter\"},{\"hovertemplate\":\"Matrix name=bcsstk13\\u003cbr\\u003eRank (r)=%{x}\\u003cbr\\u003eMaximum mode size (I)=%{y}\\u003cextra\\u003e\\u003c\\u002fextra\\u003e\",\"legendgroup\":\"bcsstk13\",\"line\":{\"color\":\"#636EFA\",\"dash\":\"solid\"},\"marker\":{\"symbol\":\"diamond\",\"size\":[15]},\"mode\":\"lines+markers\",\"name\":\"bcsstk13\",\"orientation\":\"v\",\"showlegend\":true,\"x\":[1.0],\"xaxis\":\"x\",\"y\":[2003.0],\"yaxis\":\"y\",\"type\":\"scatter\"},{\"hovertemplate\":\"Matrix name=ex10\\u003cbr\\u003eRank (r)=%{x}\\u003cbr\\u003eMaximum mode size (I)=%{y}\\u003cextra\\u003e\\u003c\\u002fextra\\u003e\",\"legendgroup\":\"ex10\",\"line\":{\"color\":\"#EF553B\",\"dash\":\"solid\"},\"marker\":{\"symbol\":\"square\",\"size\":[5,5,5,15,5,5,5]},\"mode\":\"lines+markers\",\"name\":\"ex10\",\"orientation\":\"v\",\"showlegend\":true,\"x\":[26020.0,6641.0,2524.0,28.0,13.0,4.0,1.0],\"xaxis\":\"x\",\"y\":[241.0,241.0,241.0,241.0,482.0,1205.0,2410.0],\"yaxis\":\"y\",\"type\":\"scatter\"},{\"hovertemplate\":\"Matrix name=ex10hs\\u003cbr\\u003eRank (r)=%{x}\\u003cbr\\u003eMaximum mode size (I)=%{y}\\u003cextra\\u003e\\u003c\\u002fextra\\u003e\",\"legendgroup\":\"ex10hs\",\"line\":{\"color\":\"#FFA15A\",\"dash\":\"solid\"},\"marker\":{\"symbol\":\"x\",\"size\":[5,5,5,15,5,5,5,5,5,5,5,5,5,5,5,5,5]},\"mode\":\"lines+markers\",\"name\":\"ex10hs\",\"orientation\":\"v\",\"showlegend\":true,\"x\":[27981.0,10871.0,4688.0,1952.0,1770.0,780.0,685.0,302.0,265.0,110.0,96.0,40.0,37.0,19.0,10.0,4.0,1.0],\"xaxis\":\"x\",\"y\":[13.0,13.0,13.0,13.0,14.0,26.0,28.0,49.0,52.0,91.0,98.0,182.0,196.0,364.0,637.0,1274.0,2548.0],\"yaxis\":\"y\",\"type\":\"scatter\"},{\"hovertemplate\":\"Matrix name=ex13\\u003cbr\\u003eRank (r)=%{x}\\u003cbr\\u003eMaximum mode size (I)=%{y}\\u003cextra\\u003e\\u003c\\u002fextra\\u003e\",\"legendgroup\":\"ex13\",\"line\":{\"color\":\"#00CC96\",\"dash\":\"solid\"},\"marker\":{\"symbol\":\"cross\",\"size\":[5,5,5,5,5,5,5,15,5,5,5,5,5,5,5]},\"mode\":\"lines+markers\",\"name\":\"ex13\",\"orientation\":\"v\",\"showlegend\":true,\"x\":[22354.0,14958.0,9234.0,5456.0,3637.0,1990.0,843.0,82.0,34.0,22.0,16.0,10.0,7.0,4.0,1.0],\"xaxis\":\"x\",\"y\":[107.0,107.0,107.0,107.0,107.0,107.0,107.0,107.0,214.0,321.0,428.0,642.0,856.0,1284.0,2568.0],\"yaxis\":\"y\",\"type\":\"scatter\"},{\"hovertemplate\":\"Matrix name=ex15\\u003cbr\\u003eRank (r)=%{x}\\u003cbr\\u003eMaximum mode size (I)=%{y}\\u003cextra\\u003e\\u003c\\u002fextra\\u003e\",\"legendgroup\":\"ex15\",\"line\":{\"color\":\"#19D3F3\",\"dash\":\"solid\"},\"marker\":{\"symbol\":\"circle\",\"size\":[5,5,5,5,5,15,5,5,5,5,5]},\"mode\":\"lines+markers\",\"name\":\"ex15\",\"orientation\":\"v\",\"showlegend\":true,\"x\":[19825.0,8125.0,6175.0,2275.0,325.0,187.0,61.0,25.0,19.0,7.0,1.0],\"xaxis\":\"x\",\"y\":[109.0,109.0,109.0,109.0,109.0,109.0,327.0,763.0,981.0,2289.0,6867.0],\"yaxis\":\"y\",\"type\":\"scatter\"},{\"hovertemplate\":\"Matrix name=ex3\\u003cbr\\u003eRank (r)=%{x}\\u003cbr\\u003eMaximum mode size (I)=%{y}\\u003cextra\\u003e\\u003c\\u002fextra\\u003e\",\"legendgroup\":\"ex3\",\"line\":{\"color\":\"#AB63FA\",\"dash\":\"solid\"},\"marker\":{\"symbol\":\"diamond\",\"size\":[5,15,5]},\"mode\":\"lines+markers\",\"name\":\"ex3\",\"orientation\":\"v\",\"showlegend\":true,\"x\":[10353.0,7.0,1.0],\"xaxis\":\"x\",\"y\":[607.0,607.0,1821.0],\"yaxis\":\"y\",\"type\":\"scatter\"}],                        {\"template\":{\"data\":{\"histogram2dcontour\":[{\"type\":\"histogram2dcontour\",\"colorbar\":{\"outlinewidth\":0,\"ticks\":\"\"},\"colorscale\":[[0.0,\"#0d0887\"],[0.1111111111111111,\"#46039f\"],[0.2222222222222222,\"#7201a8\"],[0.3333333333333333,\"#9c179e\"],[0.4444444444444444,\"#bd3786\"],[0.5555555555555556,\"#d8576b\"],[0.6666666666666666,\"#ed7953\"],[0.7777777777777778,\"#fb9f3a\"],[0.8888888888888888,\"#fdca26\"],[1.0,\"#f0f921\"]]}],\"choropleth\":[{\"type\":\"choropleth\",\"colorbar\":{\"outlinewidth\":0,\"ticks\":\"\"}}],\"histogram2d\":[{\"type\":\"histogram2d\",\"colorbar\":{\"outlinewidth\":0,\"ticks\":\"\"},\"colorscale\":[[0.0,\"#0d0887\"],[0.1111111111111111,\"#46039f\"],[0.2222222222222222,\"#7201a8\"],[0.3333333333333333,\"#9c179e\"],[0.4444444444444444,\"#bd3786\"],[0.5555555555555556,\"#d8576b\"],[0.6666666666666666,\"#ed7953\"],[0.7777777777777778,\"#fb9f3a\"],[0.8888888888888888,\"#fdca26\"],[1.0,\"#f0f921\"]]}],\"heatmap\":[{\"type\":\"heatmap\",\"colorbar\":{\"outlinewidth\":0,\"ticks\":\"\"},\"colorscale\":[[0.0,\"#0d0887\"],[0.1111111111111111,\"#46039f\"],[0.2222222222222222,\"#7201a8\"],[0.3333333333333333,\"#9c179e\"],[0.4444444444444444,\"#bd3786\"],[0.5555555555555556,\"#d8576b\"],[0.6666666666666666,\"#ed7953\"],[0.7777777777777778,\"#fb9f3a\"],[0.8888888888888888,\"#fdca26\"],[1.0,\"#f0f921\"]]}],\"heatmapgl\":[{\"type\":\"heatmapgl\",\"colorbar\":{\"outlinewidth\":0,\"ticks\":\"\"},\"colorscale\":[[0.0,\"#0d0887\"],[0.1111111111111111,\"#46039f\"],[0.2222222222222222,\"#7201a8\"],[0.3333333333333333,\"#9c179e\"],[0.4444444444444444,\"#bd3786\"],[0.5555555555555556,\"#d8576b\"],[0.6666666666666666,\"#ed7953\"],[0.7777777777777778,\"#fb9f3a\"],[0.8888888888888888,\"#fdca26\"],[1.0,\"#f0f921\"]]}],\"contourcarpet\":[{\"type\":\"contourcarpet\",\"colorbar\":{\"outlinewidth\":0,\"ticks\":\"\"}}],\"contour\":[{\"type\":\"contour\",\"colorbar\":{\"outlinewidth\":0,\"ticks\":\"\"},\"colorscale\":[[0.0,\"#0d0887\"],[0.1111111111111111,\"#46039f\"],[0.2222222222222222,\"#7201a8\"],[0.3333333333333333,\"#9c179e\"],[0.4444444444444444,\"#bd3786\"],[0.5555555555555556,\"#d8576b\"],[0.6666666666666666,\"#ed7953\"],[0.7777777777777778,\"#fb9f3a\"],[0.8888888888888888,\"#fdca26\"],[1.0,\"#f0f921\"]]}],\"surface\":[{\"type\":\"surface\",\"colorbar\":{\"outlinewidth\":0,\"ticks\":\"\"},\"colorscale\":[[0.0,\"#0d0887\"],[0.1111111111111111,\"#46039f\"],[0.2222222222222222,\"#7201a8\"],[0.3333333333333333,\"#9c179e\"],[0.4444444444444444,\"#bd3786\"],[0.5555555555555556,\"#d8576b\"],[0.6666666666666666,\"#ed7953\"],[0.7777777777777778,\"#fb9f3a\"],[0.8888888888888888,\"#fdca26\"],[1.0,\"#f0f921\"]]}],\"mesh3d\":[{\"type\":\"mesh3d\",\"colorbar\":{\"outlinewidth\":0,\"ticks\":\"\"}}],\"scatter\":[{\"marker\":{\"line\":{\"color\":\"#283442\"}},\"type\":\"scatter\"}],\"parcoords\":[{\"type\":\"parcoords\",\"line\":{\"colorbar\":{\"outlinewidth\":0,\"ticks\":\"\"}}}],\"scatterpolargl\":[{\"type\":\"scatterpolargl\",\"marker\":{\"colorbar\":{\"outlinewidth\":0,\"ticks\":\"\"}}}],\"bar\":[{\"error_x\":{\"color\":\"#f2f5fa\"},\"error_y\":{\"color\":\"#f2f5fa\"},\"marker\":{\"line\":{\"color\":\"rgb(17,17,17)\",\"width\":0.5},\"pattern\":{\"fillmode\":\"overlay\",\"size\":10,\"solidity\":0.2}},\"type\":\"bar\"}],\"scattergeo\":[{\"type\":\"scattergeo\",\"marker\":{\"colorbar\":{\"outlinewidth\":0,\"ticks\":\"\"}}}],\"scatterpolar\":[{\"type\":\"scatterpolar\",\"marker\":{\"colorbar\":{\"outlinewidth\":0,\"ticks\":\"\"}}}],\"histogram\":[{\"marker\":{\"pattern\":{\"fillmode\":\"overlay\",\"size\":10,\"solidity\":0.2}},\"type\":\"histogram\"}],\"scattergl\":[{\"marker\":{\"line\":{\"color\":\"#283442\"}},\"type\":\"scattergl\"}],\"scatter3d\":[{\"type\":\"scatter3d\",\"line\":{\"colorbar\":{\"outlinewidth\":0,\"ticks\":\"\"}},\"marker\":{\"colorbar\":{\"outlinewidth\":0,\"ticks\":\"\"}}}],\"scattermapbox\":[{\"type\":\"scattermapbox\",\"marker\":{\"colorbar\":{\"outlinewidth\":0,\"ticks\":\"\"}}}],\"scatterternary\":[{\"type\":\"scatterternary\",\"marker\":{\"colorbar\":{\"outlinewidth\":0,\"ticks\":\"\"}}}],\"scattercarpet\":[{\"type\":\"scattercarpet\",\"marker\":{\"colorbar\":{\"outlinewidth\":0,\"ticks\":\"\"}}}],\"carpet\":[{\"aaxis\":{\"endlinecolor\":\"#A2B1C6\",\"gridcolor\":\"#506784\",\"linecolor\":\"#506784\",\"minorgridcolor\":\"#506784\",\"startlinecolor\":\"#A2B1C6\"},\"baxis\":{\"endlinecolor\":\"#A2B1C6\",\"gridcolor\":\"#506784\",\"linecolor\":\"#506784\",\"minorgridcolor\":\"#506784\",\"startlinecolor\":\"#A2B1C6\"},\"type\":\"carpet\"}],\"table\":[{\"cells\":{\"fill\":{\"color\":\"#506784\"},\"line\":{\"color\":\"rgb(17,17,17)\"}},\"header\":{\"fill\":{\"color\":\"#2a3f5f\"},\"line\":{\"color\":\"rgb(17,17,17)\"}},\"type\":\"table\"}],\"barpolar\":[{\"marker\":{\"line\":{\"color\":\"rgb(17,17,17)\",\"width\":0.5},\"pattern\":{\"fillmode\":\"overlay\",\"size\":10,\"solidity\":0.2}},\"type\":\"barpolar\"}],\"pie\":[{\"automargin\":true,\"type\":\"pie\"}]},\"layout\":{\"autotypenumbers\":\"strict\",\"colorway\":[\"#636efa\",\"#EF553B\",\"#00cc96\",\"#ab63fa\",\"#FFA15A\",\"#19d3f3\",\"#FF6692\",\"#B6E880\",\"#FF97FF\",\"#FECB52\"],\"font\":{\"color\":\"#f2f5fa\"},\"hovermode\":\"closest\",\"hoverlabel\":{\"align\":\"left\"},\"paper_bgcolor\":\"rgb(17,17,17)\",\"plot_bgcolor\":\"rgb(17,17,17)\",\"polar\":{\"bgcolor\":\"rgb(17,17,17)\",\"angularaxis\":{\"gridcolor\":\"#506784\",\"linecolor\":\"#506784\",\"ticks\":\"\"},\"radialaxis\":{\"gridcolor\":\"#506784\",\"linecolor\":\"#506784\",\"ticks\":\"\"}},\"ternary\":{\"bgcolor\":\"rgb(17,17,17)\",\"aaxis\":{\"gridcolor\":\"#506784\",\"linecolor\":\"#506784\",\"ticks\":\"\"},\"baxis\":{\"gridcolor\":\"#506784\",\"linecolor\":\"#506784\",\"ticks\":\"\"},\"caxis\":{\"gridcolor\":\"#506784\",\"linecolor\":\"#506784\",\"ticks\":\"\"}},\"coloraxis\":{\"colorbar\":{\"outlinewidth\":0,\"ticks\":\"\"}},\"colorscale\":{\"sequential\":[[0.0,\"#0d0887\"],[0.1111111111111111,\"#46039f\"],[0.2222222222222222,\"#7201a8\"],[0.3333333333333333,\"#9c179e\"],[0.4444444444444444,\"#bd3786\"],[0.5555555555555556,\"#d8576b\"],[0.6666666666666666,\"#ed7953\"],[0.7777777777777778,\"#fb9f3a\"],[0.8888888888888888,\"#fdca26\"],[1.0,\"#f0f921\"]],\"sequentialminus\":[[0.0,\"#0d0887\"],[0.1111111111111111,\"#46039f\"],[0.2222222222222222,\"#7201a8\"],[0.3333333333333333,\"#9c179e\"],[0.4444444444444444,\"#bd3786\"],[0.5555555555555556,\"#d8576b\"],[0.6666666666666666,\"#ed7953\"],[0.7777777777777778,\"#fb9f3a\"],[0.8888888888888888,\"#fdca26\"],[1.0,\"#f0f921\"]],\"diverging\":[[0,\"#8e0152\"],[0.1,\"#c51b7d\"],[0.2,\"#de77ae\"],[0.3,\"#f1b6da\"],[0.4,\"#fde0ef\"],[0.5,\"#f7f7f7\"],[0.6,\"#e6f5d0\"],[0.7,\"#b8e186\"],[0.8,\"#7fbc41\"],[0.9,\"#4d9221\"],[1,\"#276419\"]]},\"xaxis\":{\"gridcolor\":\"#283442\",\"linecolor\":\"#506784\",\"ticks\":\"\",\"title\":{\"standoff\":15},\"zerolinecolor\":\"#283442\",\"automargin\":true,\"zerolinewidth\":2},\"yaxis\":{\"gridcolor\":\"#283442\",\"linecolor\":\"#506784\",\"ticks\":\"\",\"title\":{\"standoff\":15},\"zerolinecolor\":\"#283442\",\"automargin\":true,\"zerolinewidth\":2},\"scene\":{\"xaxis\":{\"backgroundcolor\":\"rgb(17,17,17)\",\"gridcolor\":\"#506784\",\"linecolor\":\"#506784\",\"showbackground\":true,\"ticks\":\"\",\"zerolinecolor\":\"#C8D4E3\",\"gridwidth\":2},\"yaxis\":{\"backgroundcolor\":\"rgb(17,17,17)\",\"gridcolor\":\"#506784\",\"linecolor\":\"#506784\",\"showbackground\":true,\"ticks\":\"\",\"zerolinecolor\":\"#C8D4E3\",\"gridwidth\":2},\"zaxis\":{\"backgroundcolor\":\"rgb(17,17,17)\",\"gridcolor\":\"#506784\",\"linecolor\":\"#506784\",\"showbackground\":true,\"ticks\":\"\",\"zerolinecolor\":\"#C8D4E3\",\"gridwidth\":2}},\"shapedefaults\":{\"line\":{\"color\":\"#f2f5fa\"}},\"annotationdefaults\":{\"arrowcolor\":\"#f2f5fa\",\"arrowhead\":0,\"arrowwidth\":1},\"geo\":{\"bgcolor\":\"rgb(17,17,17)\",\"landcolor\":\"rgb(17,17,17)\",\"subunitcolor\":\"#506784\",\"showland\":true,\"showlakes\":true,\"lakecolor\":\"rgb(17,17,17)\"},\"title\":{\"x\":0.05},\"updatemenudefaults\":{\"bgcolor\":\"#506784\",\"borderwidth\":0},\"sliderdefaults\":{\"bgcolor\":\"#C8D4E3\",\"borderwidth\":1,\"bordercolor\":\"rgb(17,17,17)\",\"tickwidth\":0},\"mapbox\":{\"style\":\"dark\"}}},\"xaxis\":{\"anchor\":\"y\",\"domain\":[0.0,1.0],\"title\":{\"text\":\"Rank (r)\"},\"type\":\"log\"},\"yaxis\":{\"anchor\":\"x\",\"domain\":[0.0,1.0],\"title\":{\"text\":\"Maximum mode size (I)\"},\"type\":\"log\"},\"legend\":{\"title\":{\"text\":\"Matrix name\"},\"tracegroupgap\":0},\"margin\":{\"t\":60},\"title\":{\"text\":\"Trade-off between rank and maximum mode size\",\"x\":0.5,\"xanchor\":\"center\",\"yanchor\":\"top\"},\"font\":{\"color\":\"black\"},\"plot_bgcolor\":\"white\",\"paper_bgcolor\":\"white\"},                        {\"responsive\": true}                    ).then(function(){\n",
       "                            \n",
       "var gd = document.getElementById('fea6cfe6-d564-44ee-ac6f-d3aa892a52c6');\n",
       "var x = new MutationObserver(function (mutations, observer) {{\n",
       "        var display = window.getComputedStyle(gd).display;\n",
       "        if (!display || display === 'none') {{\n",
       "            console.log([gd, 'removed!']);\n",
       "            Plotly.purge(gd);\n",
       "            observer.disconnect();\n",
       "        }}\n",
       "}});\n",
       "\n",
       "// Listen for the removal of the full notebook cells\n",
       "var notebookContainer = gd.closest('#notebook-container');\n",
       "if (notebookContainer) {{\n",
       "    x.observe(notebookContainer, {childList: true});\n",
       "}}\n",
       "\n",
       "// Listen for the clearing of the current output cell\n",
       "var outputEl = gd.closest('.output');\n",
       "if (outputEl) {{\n",
       "    x.observe(outputEl, {childList: true});\n",
       "}}\n",
       "\n",
       "                        })                };                });            </script>        </div>"
      ]
     },
     "metadata": {},
     "output_type": "display_data"
    }
   ],
   "execution_count": 29
  },
  {
   "metadata": {},
   "cell_type": "markdown",
   "source": "Explore effects of padding",
   "id": "59a72118e2498303"
  },
  {
   "metadata": {
    "ExecuteTime": {
     "end_time": "2024-08-24T17:19:24.665942Z",
     "start_time": "2024-08-24T17:19:24.170021Z"
    }
   },
   "cell_type": "code",
   "source": [
    "# show different cases: when it helps and when it cannot improve the situation\n",
    "line_plot_padding_tile_size_tt_mals_runtime_per_matrix(padding_df, \"ex3\")"
   ],
   "id": "dfa49cee031b5a17",
   "outputs": [
    {
     "name": "stderr",
     "output_type": "stream",
     "text": [
      "C:\\Users\\bakos\\Documents\\TUDelft\\Thesis\\sparse_tt_decomp_opt\\src\\analysis\\analysis_utils.py:37: SettingWithCopyWarning:\n",
      "\n",
      "\n",
      "A value is trying to be set on a copy of a slice from a DataFrame\n",
      "\n",
      "See the caveats in the documentation: https://pandas.pydata.org/pandas-docs/stable/user_guide/indexing.html#returning-a-view-versus-a-copy\n",
      "\n"
     ]
    },
    {
     "data": {
      "application/vnd.plotly.v1+json": {
       "data": [
        {
         "hovertemplate": "padding=0<br>Tile size=%{x}<br>log_obj_func=%{y}<extra></extra>",
         "legendgroup": "0",
         "line": {
          "color": "rgb(0, 0, 131)",
          "dash": "solid"
         },
         "marker": {
          "symbol": "circle",
          "size": [
           5,
           15,
           5
          ]
         },
         "mode": "lines+markers",
         "name": "0",
         "orientation": "v",
         "showlegend": true,
         "x": [
          3.0,
          607.0,
          1821.0
         ],
         "xaxis": "x",
         "y": [
          38.45200823503148,
          38.451172778017046,
          45.042846478531345
         ],
         "yaxis": "y",
         "type": "scatter"
        },
        {
         "hovertemplate": "padding=1<br>Tile size=%{x}<br>log_obj_func=%{y}<extra></extra>",
         "legendgroup": "1",
         "line": {
          "color": "rgb(0, 30, 150)",
          "dash": "solid"
         },
         "marker": {
          "symbol": "diamond",
          "size": [
           5,
           15,
           5
          ]
         },
         "mode": "lines+markers",
         "name": "1",
         "orientation": "v",
         "showlegend": true,
         "x": [
          2.0,
          911.0,
          1822.0
         ],
         "xaxis": "x",
         "y": [
          40.887714638220835,
          40.88725738887358,
          45.04614046708485
         ],
         "yaxis": "y",
         "type": "scatter"
        },
        {
         "hovertemplate": "padding=2<br>Tile size=%{x}<br>log_obj_func=%{y}<extra></extra>",
         "legendgroup": "2",
         "line": {
          "color": "rgb(0, 60, 170)",
          "dash": "solid"
         },
         "marker": {
          "symbol": "square",
          "size": [
           15
          ]
         },
         "mode": "lines+markers",
         "name": "2",
         "orientation": "v",
         "showlegend": true,
         "x": [
          1823.0
         ],
         "xaxis": "x",
         "y": [
          45.04943264823713
         ],
         "yaxis": "y",
         "type": "scatter"
        },
        {
         "hovertemplate": "padding=3<br>Tile size=%{x}<br>log_obj_func=%{y}<extra></extra>",
         "legendgroup": "3",
         "line": {
          "color": "rgb(2, 157, 212)",
          "dash": "solid"
         },
         "marker": {
          "symbol": "x",
          "size": [
           5,
           5,
           5,
           5,
           5,
           5,
           5,
           15,
           5,
           5,
           5,
           5,
           5,
           5,
           5,
           5,
           5,
           5,
           5,
           5,
           5,
           5,
           5
          ]
         },
         "mode": "lines+markers",
         "name": "3",
         "orientation": "v",
         "showlegend": true,
         "x": [
          2.0,
          3.0,
          4.0,
          6.0,
          8.0,
          12.0,
          16.0,
          19.0,
          24.0,
          32.0,
          38.0,
          48.0,
          57.0,
          76.0,
          96.0,
          114.0,
          152.0,
          228.0,
          304.0,
          456.0,
          608.0,
          912.0,
          1824.0
         ],
         "xaxis": "x",
         "y": [
          25.4073340441444,
          24.382180369720857,
          23.67806343687168,
          22.508505398862926,
          21.783962674183073,
          20.66708065677267,
          19.999691227778246,
          19.637967691403535,
          19.885982051915306,
          20.967197631638438,
          21.883396621061763,
          23.23843429617741,
          24.261882112361803,
          25.985013123095484,
          27.386240135841334,
          28.417244402447217,
          30.143294972256292,
          32.57607580900053,
          34.30216680791843,
          36.73495696486342,
          38.46104932330051,
          40.89383994574233,
          45.052723023970536
         ],
         "yaxis": "y",
         "type": "scatter"
        },
        {
         "hovertemplate": "padding=4<br>Tile size=%{x}<br>log_obj_func=%{y}<extra></extra>",
         "legendgroup": "4",
         "line": {
          "color": "rgb(5, 255, 255)",
          "dash": "solid"
         },
         "marker": {
          "symbol": "cross",
          "size": [
           5,
           5,
           15,
           5,
           5
          ]
         },
         "mode": "lines+markers",
         "name": "4",
         "orientation": "v",
         "showlegend": true,
         "x": [
          5.0,
          25.0,
          73.0,
          365.0,
          1825.0
         ],
         "xaxis": "x",
         "y": [
          26.464494210573147,
          25.75727620934059,
          25.743517671996166,
          35.39938439835713,
          45.056011596264156
         ],
         "yaxis": "y",
         "type": "scatter"
        },
        {
         "hovertemplate": "padding=5<br>Tile size=%{x}<br>log_obj_func=%{y}<extra></extra>",
         "legendgroup": "5",
         "line": {
          "color": "rgb(130, 255, 128)",
          "dash": "solid"
         },
         "marker": {
          "symbol": "circle",
          "size": [
           5,
           5,
           5,
           15,
           5,
           5,
           5
          ]
         },
         "mode": "lines+markers",
         "name": "5",
         "orientation": "v",
         "showlegend": true,
         "x": [
          2.0,
          11.0,
          22.0,
          83.0,
          166.0,
          913.0,
          1826.0
         ],
         "xaxis": "x",
         "y": [
          28.506023092927197,
          26.579869492205884,
          26.524868816977236,
          26.513429173959384,
          30.67193477269022,
          40.90041528884875,
          45.05929836709382
         ],
         "yaxis": "y",
         "type": "scatter"
        },
        {
         "hovertemplate": "padding=6<br>Tile size=%{x}<br>log_obj_func=%{y}<extra></extra>",
         "legendgroup": "6",
         "line": {
          "color": "rgb(255, 255, 0)",
          "dash": "solid"
         },
         "marker": {
          "symbol": "diamond",
          "size": [
           5,
           5,
           5,
           5,
           15,
           5,
           5,
           5,
           5,
           5,
           5
          ]
         },
         "mode": "lines+markers",
         "name": "6",
         "orientation": "v",
         "showlegend": true,
         "x": [
          3.0,
          7.0,
          9.0,
          21.0,
          29.0,
          63.0,
          87.0,
          203.0,
          261.0,
          609.0,
          1827.0
         ],
         "xaxis": "x",
         "y": [
          25.234394081426903,
          23.011923693762867,
          22.36540941698513,
          20.818961497897877,
          20.518305002316666,
          24.86054620296296,
          26.79571291272164,
          31.87923923077641,
          33.38712359037094,
          38.47090963760736,
          45.062583338432106
         ],
         "yaxis": "y",
         "type": "scatter"
        },
        {
         "hovertemplate": "padding=7<br>Tile size=%{x}<br>log_obj_func=%{y}<extra></extra>",
         "legendgroup": "7",
         "line": {
          "color": "rgb(252, 128, 0)",
          "dash": "solid"
         },
         "marker": {
          "symbol": "square",
          "size": [
           5,
           5,
           15,
           5,
           5
          ]
         },
         "mode": "lines+markers",
         "name": "7",
         "orientation": "v",
         "showlegend": true,
         "x": [
          2.0,
          4.0,
          457.0,
          914.0,
          1828.0
         ],
         "xaxis": "x",
         "y": [
          36.755120146232386,
          36.749389129427584,
          36.748100452431345,
          40.906983433986504,
          45.06586651224837
         ],
         "yaxis": "y",
         "type": "scatter"
        },
        {
         "hovertemplate": "padding=8<br>Tile size=%{x}<br>log_obj_func=%{y}<extra></extra>",
         "legendgroup": "8",
         "line": {
          "color": "rgb(250, 0, 0)",
          "dash": "solid"
         },
         "marker": {
          "symbol": "x",
          "size": [
           5,
           15,
           5
          ]
         },
         "mode": "lines+markers",
         "name": "8",
         "orientation": "v",
         "showlegend": true,
         "x": [
          31.0,
          59.0,
          1829.0
         ],
         "xaxis": "x",
         "y": [
          24.484341179995727,
          24.467897907603763,
          45.069147890508724
         ],
         "yaxis": "y",
         "type": "scatter"
        },
        {
         "hovertemplate": "padding=9<br>Tile size=%{x}<br>log_obj_func=%{y}<extra></extra>",
         "legendgroup": "9",
         "line": {
          "color": "rgb(189, 0, 0)",
          "dash": "solid"
         },
         "marker": {
          "symbol": "cross",
          "size": [
           5,
           5,
           5,
           5,
           5,
           5,
           5,
           15,
           5,
           5,
           5,
           5,
           5,
           5,
           5
          ]
         },
         "mode": "lines+markers",
         "name": "9",
         "orientation": "v",
         "showlegend": true,
         "x": [
          2.0,
          3.0,
          5.0,
          6.0,
          10.0,
          15.0,
          30.0,
          61.0,
          122.0,
          183.0,
          305.0,
          366.0,
          610.0,
          915.0,
          1830.0
         ],
         "xaxis": "x",
         "y": [
          27.787590744789302,
          26.83901688018863,
          25.81773565191602,
          25.451889725577615,
          24.92787840225254,
          24.76451727829262,
          24.6830366221358,
          24.667474721563526,
          28.824160190465644,
          31.256922184917734,
          34.32187125315104,
          35.41580027498141,
          38.48075377419762,
          40.91354439689747,
          45.07242747517606
         ],
         "yaxis": "y",
         "type": "scatter"
        },
        {
         "hovertemplate": "padding=10<br>Tile size=%{x}<br>log_obj_func=%{y}<extra></extra>",
         "legendgroup": "10",
         "line": {
          "color": "rgb(128, 0, 0)",
          "dash": "solid"
         },
         "marker": {
          "symbol": "circle",
          "size": [
           15
          ]
         },
         "mode": "lines+markers",
         "name": "10",
         "orientation": "v",
         "showlegend": true,
         "x": [
          1831.0
         ],
         "xaxis": "x",
         "y": [
          45.07570526821006
         ],
         "yaxis": "y",
         "type": "scatter"
        }
       ],
       "layout": {
        "template": {
         "data": {
          "histogram2dcontour": [
           {
            "type": "histogram2dcontour",
            "colorbar": {
             "outlinewidth": 0,
             "ticks": ""
            },
            "colorscale": [
             [
              0.0,
              "#0d0887"
             ],
             [
              0.1111111111111111,
              "#46039f"
             ],
             [
              0.2222222222222222,
              "#7201a8"
             ],
             [
              0.3333333333333333,
              "#9c179e"
             ],
             [
              0.4444444444444444,
              "#bd3786"
             ],
             [
              0.5555555555555556,
              "#d8576b"
             ],
             [
              0.6666666666666666,
              "#ed7953"
             ],
             [
              0.7777777777777778,
              "#fb9f3a"
             ],
             [
              0.8888888888888888,
              "#fdca26"
             ],
             [
              1.0,
              "#f0f921"
             ]
            ]
           }
          ],
          "choropleth": [
           {
            "type": "choropleth",
            "colorbar": {
             "outlinewidth": 0,
             "ticks": ""
            }
           }
          ],
          "histogram2d": [
           {
            "type": "histogram2d",
            "colorbar": {
             "outlinewidth": 0,
             "ticks": ""
            },
            "colorscale": [
             [
              0.0,
              "#0d0887"
             ],
             [
              0.1111111111111111,
              "#46039f"
             ],
             [
              0.2222222222222222,
              "#7201a8"
             ],
             [
              0.3333333333333333,
              "#9c179e"
             ],
             [
              0.4444444444444444,
              "#bd3786"
             ],
             [
              0.5555555555555556,
              "#d8576b"
             ],
             [
              0.6666666666666666,
              "#ed7953"
             ],
             [
              0.7777777777777778,
              "#fb9f3a"
             ],
             [
              0.8888888888888888,
              "#fdca26"
             ],
             [
              1.0,
              "#f0f921"
             ]
            ]
           }
          ],
          "heatmap": [
           {
            "type": "heatmap",
            "colorbar": {
             "outlinewidth": 0,
             "ticks": ""
            },
            "colorscale": [
             [
              0.0,
              "#0d0887"
             ],
             [
              0.1111111111111111,
              "#46039f"
             ],
             [
              0.2222222222222222,
              "#7201a8"
             ],
             [
              0.3333333333333333,
              "#9c179e"
             ],
             [
              0.4444444444444444,
              "#bd3786"
             ],
             [
              0.5555555555555556,
              "#d8576b"
             ],
             [
              0.6666666666666666,
              "#ed7953"
             ],
             [
              0.7777777777777778,
              "#fb9f3a"
             ],
             [
              0.8888888888888888,
              "#fdca26"
             ],
             [
              1.0,
              "#f0f921"
             ]
            ]
           }
          ],
          "heatmapgl": [
           {
            "type": "heatmapgl",
            "colorbar": {
             "outlinewidth": 0,
             "ticks": ""
            },
            "colorscale": [
             [
              0.0,
              "#0d0887"
             ],
             [
              0.1111111111111111,
              "#46039f"
             ],
             [
              0.2222222222222222,
              "#7201a8"
             ],
             [
              0.3333333333333333,
              "#9c179e"
             ],
             [
              0.4444444444444444,
              "#bd3786"
             ],
             [
              0.5555555555555556,
              "#d8576b"
             ],
             [
              0.6666666666666666,
              "#ed7953"
             ],
             [
              0.7777777777777778,
              "#fb9f3a"
             ],
             [
              0.8888888888888888,
              "#fdca26"
             ],
             [
              1.0,
              "#f0f921"
             ]
            ]
           }
          ],
          "contourcarpet": [
           {
            "type": "contourcarpet",
            "colorbar": {
             "outlinewidth": 0,
             "ticks": ""
            }
           }
          ],
          "contour": [
           {
            "type": "contour",
            "colorbar": {
             "outlinewidth": 0,
             "ticks": ""
            },
            "colorscale": [
             [
              0.0,
              "#0d0887"
             ],
             [
              0.1111111111111111,
              "#46039f"
             ],
             [
              0.2222222222222222,
              "#7201a8"
             ],
             [
              0.3333333333333333,
              "#9c179e"
             ],
             [
              0.4444444444444444,
              "#bd3786"
             ],
             [
              0.5555555555555556,
              "#d8576b"
             ],
             [
              0.6666666666666666,
              "#ed7953"
             ],
             [
              0.7777777777777778,
              "#fb9f3a"
             ],
             [
              0.8888888888888888,
              "#fdca26"
             ],
             [
              1.0,
              "#f0f921"
             ]
            ]
           }
          ],
          "surface": [
           {
            "type": "surface",
            "colorbar": {
             "outlinewidth": 0,
             "ticks": ""
            },
            "colorscale": [
             [
              0.0,
              "#0d0887"
             ],
             [
              0.1111111111111111,
              "#46039f"
             ],
             [
              0.2222222222222222,
              "#7201a8"
             ],
             [
              0.3333333333333333,
              "#9c179e"
             ],
             [
              0.4444444444444444,
              "#bd3786"
             ],
             [
              0.5555555555555556,
              "#d8576b"
             ],
             [
              0.6666666666666666,
              "#ed7953"
             ],
             [
              0.7777777777777778,
              "#fb9f3a"
             ],
             [
              0.8888888888888888,
              "#fdca26"
             ],
             [
              1.0,
              "#f0f921"
             ]
            ]
           }
          ],
          "mesh3d": [
           {
            "type": "mesh3d",
            "colorbar": {
             "outlinewidth": 0,
             "ticks": ""
            }
           }
          ],
          "scatter": [
           {
            "marker": {
             "line": {
              "color": "#283442"
             }
            },
            "type": "scatter"
           }
          ],
          "parcoords": [
           {
            "type": "parcoords",
            "line": {
             "colorbar": {
              "outlinewidth": 0,
              "ticks": ""
             }
            }
           }
          ],
          "scatterpolargl": [
           {
            "type": "scatterpolargl",
            "marker": {
             "colorbar": {
              "outlinewidth": 0,
              "ticks": ""
             }
            }
           }
          ],
          "bar": [
           {
            "error_x": {
             "color": "#f2f5fa"
            },
            "error_y": {
             "color": "#f2f5fa"
            },
            "marker": {
             "line": {
              "color": "rgb(17,17,17)",
              "width": 0.5
             },
             "pattern": {
              "fillmode": "overlay",
              "size": 10,
              "solidity": 0.2
             }
            },
            "type": "bar"
           }
          ],
          "scattergeo": [
           {
            "type": "scattergeo",
            "marker": {
             "colorbar": {
              "outlinewidth": 0,
              "ticks": ""
             }
            }
           }
          ],
          "scatterpolar": [
           {
            "type": "scatterpolar",
            "marker": {
             "colorbar": {
              "outlinewidth": 0,
              "ticks": ""
             }
            }
           }
          ],
          "histogram": [
           {
            "marker": {
             "pattern": {
              "fillmode": "overlay",
              "size": 10,
              "solidity": 0.2
             }
            },
            "type": "histogram"
           }
          ],
          "scattergl": [
           {
            "marker": {
             "line": {
              "color": "#283442"
             }
            },
            "type": "scattergl"
           }
          ],
          "scatter3d": [
           {
            "type": "scatter3d",
            "line": {
             "colorbar": {
              "outlinewidth": 0,
              "ticks": ""
             }
            },
            "marker": {
             "colorbar": {
              "outlinewidth": 0,
              "ticks": ""
             }
            }
           }
          ],
          "scattermapbox": [
           {
            "type": "scattermapbox",
            "marker": {
             "colorbar": {
              "outlinewidth": 0,
              "ticks": ""
             }
            }
           }
          ],
          "scatterternary": [
           {
            "type": "scatterternary",
            "marker": {
             "colorbar": {
              "outlinewidth": 0,
              "ticks": ""
             }
            }
           }
          ],
          "scattercarpet": [
           {
            "type": "scattercarpet",
            "marker": {
             "colorbar": {
              "outlinewidth": 0,
              "ticks": ""
             }
            }
           }
          ],
          "carpet": [
           {
            "aaxis": {
             "endlinecolor": "#A2B1C6",
             "gridcolor": "#506784",
             "linecolor": "#506784",
             "minorgridcolor": "#506784",
             "startlinecolor": "#A2B1C6"
            },
            "baxis": {
             "endlinecolor": "#A2B1C6",
             "gridcolor": "#506784",
             "linecolor": "#506784",
             "minorgridcolor": "#506784",
             "startlinecolor": "#A2B1C6"
            },
            "type": "carpet"
           }
          ],
          "table": [
           {
            "cells": {
             "fill": {
              "color": "#506784"
             },
             "line": {
              "color": "rgb(17,17,17)"
             }
            },
            "header": {
             "fill": {
              "color": "#2a3f5f"
             },
             "line": {
              "color": "rgb(17,17,17)"
             }
            },
            "type": "table"
           }
          ],
          "barpolar": [
           {
            "marker": {
             "line": {
              "color": "rgb(17,17,17)",
              "width": 0.5
             },
             "pattern": {
              "fillmode": "overlay",
              "size": 10,
              "solidity": 0.2
             }
            },
            "type": "barpolar"
           }
          ],
          "pie": [
           {
            "automargin": true,
            "type": "pie"
           }
          ]
         },
         "layout": {
          "autotypenumbers": "strict",
          "colorway": [
           "#636efa",
           "#EF553B",
           "#00cc96",
           "#ab63fa",
           "#FFA15A",
           "#19d3f3",
           "#FF6692",
           "#B6E880",
           "#FF97FF",
           "#FECB52"
          ],
          "font": {
           "color": "#f2f5fa"
          },
          "hovermode": "closest",
          "hoverlabel": {
           "align": "left"
          },
          "paper_bgcolor": "rgb(17,17,17)",
          "plot_bgcolor": "rgb(17,17,17)",
          "polar": {
           "bgcolor": "rgb(17,17,17)",
           "angularaxis": {
            "gridcolor": "#506784",
            "linecolor": "#506784",
            "ticks": ""
           },
           "radialaxis": {
            "gridcolor": "#506784",
            "linecolor": "#506784",
            "ticks": ""
           }
          },
          "ternary": {
           "bgcolor": "rgb(17,17,17)",
           "aaxis": {
            "gridcolor": "#506784",
            "linecolor": "#506784",
            "ticks": ""
           },
           "baxis": {
            "gridcolor": "#506784",
            "linecolor": "#506784",
            "ticks": ""
           },
           "caxis": {
            "gridcolor": "#506784",
            "linecolor": "#506784",
            "ticks": ""
           }
          },
          "coloraxis": {
           "colorbar": {
            "outlinewidth": 0,
            "ticks": ""
           }
          },
          "colorscale": {
           "sequential": [
            [
             0.0,
             "#0d0887"
            ],
            [
             0.1111111111111111,
             "#46039f"
            ],
            [
             0.2222222222222222,
             "#7201a8"
            ],
            [
             0.3333333333333333,
             "#9c179e"
            ],
            [
             0.4444444444444444,
             "#bd3786"
            ],
            [
             0.5555555555555556,
             "#d8576b"
            ],
            [
             0.6666666666666666,
             "#ed7953"
            ],
            [
             0.7777777777777778,
             "#fb9f3a"
            ],
            [
             0.8888888888888888,
             "#fdca26"
            ],
            [
             1.0,
             "#f0f921"
            ]
           ],
           "sequentialminus": [
            [
             0.0,
             "#0d0887"
            ],
            [
             0.1111111111111111,
             "#46039f"
            ],
            [
             0.2222222222222222,
             "#7201a8"
            ],
            [
             0.3333333333333333,
             "#9c179e"
            ],
            [
             0.4444444444444444,
             "#bd3786"
            ],
            [
             0.5555555555555556,
             "#d8576b"
            ],
            [
             0.6666666666666666,
             "#ed7953"
            ],
            [
             0.7777777777777778,
             "#fb9f3a"
            ],
            [
             0.8888888888888888,
             "#fdca26"
            ],
            [
             1.0,
             "#f0f921"
            ]
           ],
           "diverging": [
            [
             0,
             "#8e0152"
            ],
            [
             0.1,
             "#c51b7d"
            ],
            [
             0.2,
             "#de77ae"
            ],
            [
             0.3,
             "#f1b6da"
            ],
            [
             0.4,
             "#fde0ef"
            ],
            [
             0.5,
             "#f7f7f7"
            ],
            [
             0.6,
             "#e6f5d0"
            ],
            [
             0.7,
             "#b8e186"
            ],
            [
             0.8,
             "#7fbc41"
            ],
            [
             0.9,
             "#4d9221"
            ],
            [
             1,
             "#276419"
            ]
           ]
          },
          "xaxis": {
           "gridcolor": "#283442",
           "linecolor": "#506784",
           "ticks": "",
           "title": {
            "standoff": 15
           },
           "zerolinecolor": "#283442",
           "automargin": true,
           "zerolinewidth": 2
          },
          "yaxis": {
           "gridcolor": "#283442",
           "linecolor": "#506784",
           "ticks": "",
           "title": {
            "standoff": 15
           },
           "zerolinecolor": "#283442",
           "automargin": true,
           "zerolinewidth": 2
          },
          "scene": {
           "xaxis": {
            "backgroundcolor": "rgb(17,17,17)",
            "gridcolor": "#506784",
            "linecolor": "#506784",
            "showbackground": true,
            "ticks": "",
            "zerolinecolor": "#C8D4E3",
            "gridwidth": 2
           },
           "yaxis": {
            "backgroundcolor": "rgb(17,17,17)",
            "gridcolor": "#506784",
            "linecolor": "#506784",
            "showbackground": true,
            "ticks": "",
            "zerolinecolor": "#C8D4E3",
            "gridwidth": 2
           },
           "zaxis": {
            "backgroundcolor": "rgb(17,17,17)",
            "gridcolor": "#506784",
            "linecolor": "#506784",
            "showbackground": true,
            "ticks": "",
            "zerolinecolor": "#C8D4E3",
            "gridwidth": 2
           }
          },
          "shapedefaults": {
           "line": {
            "color": "#f2f5fa"
           }
          },
          "annotationdefaults": {
           "arrowcolor": "#f2f5fa",
           "arrowhead": 0,
           "arrowwidth": 1
          },
          "geo": {
           "bgcolor": "rgb(17,17,17)",
           "landcolor": "rgb(17,17,17)",
           "subunitcolor": "#506784",
           "showland": true,
           "showlakes": true,
           "lakecolor": "rgb(17,17,17)"
          },
          "title": {
           "x": 0.05
          },
          "updatemenudefaults": {
           "bgcolor": "#506784",
           "borderwidth": 0
          },
          "sliderdefaults": {
           "bgcolor": "#C8D4E3",
           "borderwidth": 1,
           "bordercolor": "rgb(17,17,17)",
           "tickwidth": 0
          },
          "mapbox": {
           "style": "dark"
          }
         }
        },
        "xaxis": {
         "anchor": "y",
         "domain": [
          0.0,
          1.0
         ],
         "title": {
          "text": "Tile size"
         },
         "type": "log"
        },
        "yaxis": {
         "anchor": "x",
         "domain": [
          0.0,
          1.0
         ],
         "title": {
          "text": "$\\log(I^6 + rI^3 + r^2I^2)$"
         }
        },
        "legend": {
         "title": {
          "text": "padding"
         },
         "tracegroupgap": 0
        },
        "margin": {
         "t": 60
        },
        "title": {
         "text": "Influence of tile size choice and padding on TT-MALS runtime (ex3)",
         "x": 0.5,
         "xanchor": "center",
         "yanchor": "top"
        },
        "font": {
         "color": "black"
        },
        "plot_bgcolor": "white",
        "paper_bgcolor": "white"
       },
       "config": {
        "plotlyServerURL": "https://plot.ly"
       }
      },
      "text/html": [
       "<div>                            <div id=\"59c64823-12bb-46ce-814f-018e7cb1167f\" class=\"plotly-graph-div\" style=\"height:525px; width:100%;\"></div>            <script type=\"text/javascript\">                require([\"plotly\"], function(Plotly) {                    window.PLOTLYENV=window.PLOTLYENV || {};                                    if (document.getElementById(\"59c64823-12bb-46ce-814f-018e7cb1167f\")) {                    Plotly.newPlot(                        \"59c64823-12bb-46ce-814f-018e7cb1167f\",                        [{\"hovertemplate\":\"padding=0\\u003cbr\\u003eTile size=%{x}\\u003cbr\\u003elog_obj_func=%{y}\\u003cextra\\u003e\\u003c\\u002fextra\\u003e\",\"legendgroup\":\"0\",\"line\":{\"color\":\"rgb(0, 0, 131)\",\"dash\":\"solid\"},\"marker\":{\"symbol\":\"circle\",\"size\":[5,15,5]},\"mode\":\"lines+markers\",\"name\":\"0\",\"orientation\":\"v\",\"showlegend\":true,\"x\":[3.0,607.0,1821.0],\"xaxis\":\"x\",\"y\":[38.45200823503148,38.451172778017046,45.042846478531345],\"yaxis\":\"y\",\"type\":\"scatter\"},{\"hovertemplate\":\"padding=1\\u003cbr\\u003eTile size=%{x}\\u003cbr\\u003elog_obj_func=%{y}\\u003cextra\\u003e\\u003c\\u002fextra\\u003e\",\"legendgroup\":\"1\",\"line\":{\"color\":\"rgb(0, 30, 150)\",\"dash\":\"solid\"},\"marker\":{\"symbol\":\"diamond\",\"size\":[5,15,5]},\"mode\":\"lines+markers\",\"name\":\"1\",\"orientation\":\"v\",\"showlegend\":true,\"x\":[2.0,911.0,1822.0],\"xaxis\":\"x\",\"y\":[40.887714638220835,40.88725738887358,45.04614046708485],\"yaxis\":\"y\",\"type\":\"scatter\"},{\"hovertemplate\":\"padding=2\\u003cbr\\u003eTile size=%{x}\\u003cbr\\u003elog_obj_func=%{y}\\u003cextra\\u003e\\u003c\\u002fextra\\u003e\",\"legendgroup\":\"2\",\"line\":{\"color\":\"rgb(0, 60, 170)\",\"dash\":\"solid\"},\"marker\":{\"symbol\":\"square\",\"size\":[15]},\"mode\":\"lines+markers\",\"name\":\"2\",\"orientation\":\"v\",\"showlegend\":true,\"x\":[1823.0],\"xaxis\":\"x\",\"y\":[45.04943264823713],\"yaxis\":\"y\",\"type\":\"scatter\"},{\"hovertemplate\":\"padding=3\\u003cbr\\u003eTile size=%{x}\\u003cbr\\u003elog_obj_func=%{y}\\u003cextra\\u003e\\u003c\\u002fextra\\u003e\",\"legendgroup\":\"3\",\"line\":{\"color\":\"rgb(2, 157, 212)\",\"dash\":\"solid\"},\"marker\":{\"symbol\":\"x\",\"size\":[5,5,5,5,5,5,5,15,5,5,5,5,5,5,5,5,5,5,5,5,5,5,5]},\"mode\":\"lines+markers\",\"name\":\"3\",\"orientation\":\"v\",\"showlegend\":true,\"x\":[2.0,3.0,4.0,6.0,8.0,12.0,16.0,19.0,24.0,32.0,38.0,48.0,57.0,76.0,96.0,114.0,152.0,228.0,304.0,456.0,608.0,912.0,1824.0],\"xaxis\":\"x\",\"y\":[25.4073340441444,24.382180369720857,23.67806343687168,22.508505398862926,21.783962674183073,20.66708065677267,19.999691227778246,19.637967691403535,19.885982051915306,20.967197631638438,21.883396621061763,23.23843429617741,24.261882112361803,25.985013123095484,27.386240135841334,28.417244402447217,30.143294972256292,32.57607580900053,34.30216680791843,36.73495696486342,38.46104932330051,40.89383994574233,45.052723023970536],\"yaxis\":\"y\",\"type\":\"scatter\"},{\"hovertemplate\":\"padding=4\\u003cbr\\u003eTile size=%{x}\\u003cbr\\u003elog_obj_func=%{y}\\u003cextra\\u003e\\u003c\\u002fextra\\u003e\",\"legendgroup\":\"4\",\"line\":{\"color\":\"rgb(5, 255, 255)\",\"dash\":\"solid\"},\"marker\":{\"symbol\":\"cross\",\"size\":[5,5,15,5,5]},\"mode\":\"lines+markers\",\"name\":\"4\",\"orientation\":\"v\",\"showlegend\":true,\"x\":[5.0,25.0,73.0,365.0,1825.0],\"xaxis\":\"x\",\"y\":[26.464494210573147,25.75727620934059,25.743517671996166,35.39938439835713,45.056011596264156],\"yaxis\":\"y\",\"type\":\"scatter\"},{\"hovertemplate\":\"padding=5\\u003cbr\\u003eTile size=%{x}\\u003cbr\\u003elog_obj_func=%{y}\\u003cextra\\u003e\\u003c\\u002fextra\\u003e\",\"legendgroup\":\"5\",\"line\":{\"color\":\"rgb(130, 255, 128)\",\"dash\":\"solid\"},\"marker\":{\"symbol\":\"circle\",\"size\":[5,5,5,15,5,5,5]},\"mode\":\"lines+markers\",\"name\":\"5\",\"orientation\":\"v\",\"showlegend\":true,\"x\":[2.0,11.0,22.0,83.0,166.0,913.0,1826.0],\"xaxis\":\"x\",\"y\":[28.506023092927197,26.579869492205884,26.524868816977236,26.513429173959384,30.67193477269022,40.90041528884875,45.05929836709382],\"yaxis\":\"y\",\"type\":\"scatter\"},{\"hovertemplate\":\"padding=6\\u003cbr\\u003eTile size=%{x}\\u003cbr\\u003elog_obj_func=%{y}\\u003cextra\\u003e\\u003c\\u002fextra\\u003e\",\"legendgroup\":\"6\",\"line\":{\"color\":\"rgb(255, 255, 0)\",\"dash\":\"solid\"},\"marker\":{\"symbol\":\"diamond\",\"size\":[5,5,5,5,15,5,5,5,5,5,5]},\"mode\":\"lines+markers\",\"name\":\"6\",\"orientation\":\"v\",\"showlegend\":true,\"x\":[3.0,7.0,9.0,21.0,29.0,63.0,87.0,203.0,261.0,609.0,1827.0],\"xaxis\":\"x\",\"y\":[25.234394081426903,23.011923693762867,22.36540941698513,20.818961497897877,20.518305002316666,24.86054620296296,26.79571291272164,31.87923923077641,33.38712359037094,38.47090963760736,45.062583338432106],\"yaxis\":\"y\",\"type\":\"scatter\"},{\"hovertemplate\":\"padding=7\\u003cbr\\u003eTile size=%{x}\\u003cbr\\u003elog_obj_func=%{y}\\u003cextra\\u003e\\u003c\\u002fextra\\u003e\",\"legendgroup\":\"7\",\"line\":{\"color\":\"rgb(252, 128, 0)\",\"dash\":\"solid\"},\"marker\":{\"symbol\":\"square\",\"size\":[5,5,15,5,5]},\"mode\":\"lines+markers\",\"name\":\"7\",\"orientation\":\"v\",\"showlegend\":true,\"x\":[2.0,4.0,457.0,914.0,1828.0],\"xaxis\":\"x\",\"y\":[36.755120146232386,36.749389129427584,36.748100452431345,40.906983433986504,45.06586651224837],\"yaxis\":\"y\",\"type\":\"scatter\"},{\"hovertemplate\":\"padding=8\\u003cbr\\u003eTile size=%{x}\\u003cbr\\u003elog_obj_func=%{y}\\u003cextra\\u003e\\u003c\\u002fextra\\u003e\",\"legendgroup\":\"8\",\"line\":{\"color\":\"rgb(250, 0, 0)\",\"dash\":\"solid\"},\"marker\":{\"symbol\":\"x\",\"size\":[5,15,5]},\"mode\":\"lines+markers\",\"name\":\"8\",\"orientation\":\"v\",\"showlegend\":true,\"x\":[31.0,59.0,1829.0],\"xaxis\":\"x\",\"y\":[24.484341179995727,24.467897907603763,45.069147890508724],\"yaxis\":\"y\",\"type\":\"scatter\"},{\"hovertemplate\":\"padding=9\\u003cbr\\u003eTile size=%{x}\\u003cbr\\u003elog_obj_func=%{y}\\u003cextra\\u003e\\u003c\\u002fextra\\u003e\",\"legendgroup\":\"9\",\"line\":{\"color\":\"rgb(189, 0, 0)\",\"dash\":\"solid\"},\"marker\":{\"symbol\":\"cross\",\"size\":[5,5,5,5,5,5,5,15,5,5,5,5,5,5,5]},\"mode\":\"lines+markers\",\"name\":\"9\",\"orientation\":\"v\",\"showlegend\":true,\"x\":[2.0,3.0,5.0,6.0,10.0,15.0,30.0,61.0,122.0,183.0,305.0,366.0,610.0,915.0,1830.0],\"xaxis\":\"x\",\"y\":[27.787590744789302,26.83901688018863,25.81773565191602,25.451889725577615,24.92787840225254,24.76451727829262,24.6830366221358,24.667474721563526,28.824160190465644,31.256922184917734,34.32187125315104,35.41580027498141,38.48075377419762,40.91354439689747,45.07242747517606],\"yaxis\":\"y\",\"type\":\"scatter\"},{\"hovertemplate\":\"padding=10\\u003cbr\\u003eTile size=%{x}\\u003cbr\\u003elog_obj_func=%{y}\\u003cextra\\u003e\\u003c\\u002fextra\\u003e\",\"legendgroup\":\"10\",\"line\":{\"color\":\"rgb(128, 0, 0)\",\"dash\":\"solid\"},\"marker\":{\"symbol\":\"circle\",\"size\":[15]},\"mode\":\"lines+markers\",\"name\":\"10\",\"orientation\":\"v\",\"showlegend\":true,\"x\":[1831.0],\"xaxis\":\"x\",\"y\":[45.07570526821006],\"yaxis\":\"y\",\"type\":\"scatter\"}],                        {\"template\":{\"data\":{\"histogram2dcontour\":[{\"type\":\"histogram2dcontour\",\"colorbar\":{\"outlinewidth\":0,\"ticks\":\"\"},\"colorscale\":[[0.0,\"#0d0887\"],[0.1111111111111111,\"#46039f\"],[0.2222222222222222,\"#7201a8\"],[0.3333333333333333,\"#9c179e\"],[0.4444444444444444,\"#bd3786\"],[0.5555555555555556,\"#d8576b\"],[0.6666666666666666,\"#ed7953\"],[0.7777777777777778,\"#fb9f3a\"],[0.8888888888888888,\"#fdca26\"],[1.0,\"#f0f921\"]]}],\"choropleth\":[{\"type\":\"choropleth\",\"colorbar\":{\"outlinewidth\":0,\"ticks\":\"\"}}],\"histogram2d\":[{\"type\":\"histogram2d\",\"colorbar\":{\"outlinewidth\":0,\"ticks\":\"\"},\"colorscale\":[[0.0,\"#0d0887\"],[0.1111111111111111,\"#46039f\"],[0.2222222222222222,\"#7201a8\"],[0.3333333333333333,\"#9c179e\"],[0.4444444444444444,\"#bd3786\"],[0.5555555555555556,\"#d8576b\"],[0.6666666666666666,\"#ed7953\"],[0.7777777777777778,\"#fb9f3a\"],[0.8888888888888888,\"#fdca26\"],[1.0,\"#f0f921\"]]}],\"heatmap\":[{\"type\":\"heatmap\",\"colorbar\":{\"outlinewidth\":0,\"ticks\":\"\"},\"colorscale\":[[0.0,\"#0d0887\"],[0.1111111111111111,\"#46039f\"],[0.2222222222222222,\"#7201a8\"],[0.3333333333333333,\"#9c179e\"],[0.4444444444444444,\"#bd3786\"],[0.5555555555555556,\"#d8576b\"],[0.6666666666666666,\"#ed7953\"],[0.7777777777777778,\"#fb9f3a\"],[0.8888888888888888,\"#fdca26\"],[1.0,\"#f0f921\"]]}],\"heatmapgl\":[{\"type\":\"heatmapgl\",\"colorbar\":{\"outlinewidth\":0,\"ticks\":\"\"},\"colorscale\":[[0.0,\"#0d0887\"],[0.1111111111111111,\"#46039f\"],[0.2222222222222222,\"#7201a8\"],[0.3333333333333333,\"#9c179e\"],[0.4444444444444444,\"#bd3786\"],[0.5555555555555556,\"#d8576b\"],[0.6666666666666666,\"#ed7953\"],[0.7777777777777778,\"#fb9f3a\"],[0.8888888888888888,\"#fdca26\"],[1.0,\"#f0f921\"]]}],\"contourcarpet\":[{\"type\":\"contourcarpet\",\"colorbar\":{\"outlinewidth\":0,\"ticks\":\"\"}}],\"contour\":[{\"type\":\"contour\",\"colorbar\":{\"outlinewidth\":0,\"ticks\":\"\"},\"colorscale\":[[0.0,\"#0d0887\"],[0.1111111111111111,\"#46039f\"],[0.2222222222222222,\"#7201a8\"],[0.3333333333333333,\"#9c179e\"],[0.4444444444444444,\"#bd3786\"],[0.5555555555555556,\"#d8576b\"],[0.6666666666666666,\"#ed7953\"],[0.7777777777777778,\"#fb9f3a\"],[0.8888888888888888,\"#fdca26\"],[1.0,\"#f0f921\"]]}],\"surface\":[{\"type\":\"surface\",\"colorbar\":{\"outlinewidth\":0,\"ticks\":\"\"},\"colorscale\":[[0.0,\"#0d0887\"],[0.1111111111111111,\"#46039f\"],[0.2222222222222222,\"#7201a8\"],[0.3333333333333333,\"#9c179e\"],[0.4444444444444444,\"#bd3786\"],[0.5555555555555556,\"#d8576b\"],[0.6666666666666666,\"#ed7953\"],[0.7777777777777778,\"#fb9f3a\"],[0.8888888888888888,\"#fdca26\"],[1.0,\"#f0f921\"]]}],\"mesh3d\":[{\"type\":\"mesh3d\",\"colorbar\":{\"outlinewidth\":0,\"ticks\":\"\"}}],\"scatter\":[{\"marker\":{\"line\":{\"color\":\"#283442\"}},\"type\":\"scatter\"}],\"parcoords\":[{\"type\":\"parcoords\",\"line\":{\"colorbar\":{\"outlinewidth\":0,\"ticks\":\"\"}}}],\"scatterpolargl\":[{\"type\":\"scatterpolargl\",\"marker\":{\"colorbar\":{\"outlinewidth\":0,\"ticks\":\"\"}}}],\"bar\":[{\"error_x\":{\"color\":\"#f2f5fa\"},\"error_y\":{\"color\":\"#f2f5fa\"},\"marker\":{\"line\":{\"color\":\"rgb(17,17,17)\",\"width\":0.5},\"pattern\":{\"fillmode\":\"overlay\",\"size\":10,\"solidity\":0.2}},\"type\":\"bar\"}],\"scattergeo\":[{\"type\":\"scattergeo\",\"marker\":{\"colorbar\":{\"outlinewidth\":0,\"ticks\":\"\"}}}],\"scatterpolar\":[{\"type\":\"scatterpolar\",\"marker\":{\"colorbar\":{\"outlinewidth\":0,\"ticks\":\"\"}}}],\"histogram\":[{\"marker\":{\"pattern\":{\"fillmode\":\"overlay\",\"size\":10,\"solidity\":0.2}},\"type\":\"histogram\"}],\"scattergl\":[{\"marker\":{\"line\":{\"color\":\"#283442\"}},\"type\":\"scattergl\"}],\"scatter3d\":[{\"type\":\"scatter3d\",\"line\":{\"colorbar\":{\"outlinewidth\":0,\"ticks\":\"\"}},\"marker\":{\"colorbar\":{\"outlinewidth\":0,\"ticks\":\"\"}}}],\"scattermapbox\":[{\"type\":\"scattermapbox\",\"marker\":{\"colorbar\":{\"outlinewidth\":0,\"ticks\":\"\"}}}],\"scatterternary\":[{\"type\":\"scatterternary\",\"marker\":{\"colorbar\":{\"outlinewidth\":0,\"ticks\":\"\"}}}],\"scattercarpet\":[{\"type\":\"scattercarpet\",\"marker\":{\"colorbar\":{\"outlinewidth\":0,\"ticks\":\"\"}}}],\"carpet\":[{\"aaxis\":{\"endlinecolor\":\"#A2B1C6\",\"gridcolor\":\"#506784\",\"linecolor\":\"#506784\",\"minorgridcolor\":\"#506784\",\"startlinecolor\":\"#A2B1C6\"},\"baxis\":{\"endlinecolor\":\"#A2B1C6\",\"gridcolor\":\"#506784\",\"linecolor\":\"#506784\",\"minorgridcolor\":\"#506784\",\"startlinecolor\":\"#A2B1C6\"},\"type\":\"carpet\"}],\"table\":[{\"cells\":{\"fill\":{\"color\":\"#506784\"},\"line\":{\"color\":\"rgb(17,17,17)\"}},\"header\":{\"fill\":{\"color\":\"#2a3f5f\"},\"line\":{\"color\":\"rgb(17,17,17)\"}},\"type\":\"table\"}],\"barpolar\":[{\"marker\":{\"line\":{\"color\":\"rgb(17,17,17)\",\"width\":0.5},\"pattern\":{\"fillmode\":\"overlay\",\"size\":10,\"solidity\":0.2}},\"type\":\"barpolar\"}],\"pie\":[{\"automargin\":true,\"type\":\"pie\"}]},\"layout\":{\"autotypenumbers\":\"strict\",\"colorway\":[\"#636efa\",\"#EF553B\",\"#00cc96\",\"#ab63fa\",\"#FFA15A\",\"#19d3f3\",\"#FF6692\",\"#B6E880\",\"#FF97FF\",\"#FECB52\"],\"font\":{\"color\":\"#f2f5fa\"},\"hovermode\":\"closest\",\"hoverlabel\":{\"align\":\"left\"},\"paper_bgcolor\":\"rgb(17,17,17)\",\"plot_bgcolor\":\"rgb(17,17,17)\",\"polar\":{\"bgcolor\":\"rgb(17,17,17)\",\"angularaxis\":{\"gridcolor\":\"#506784\",\"linecolor\":\"#506784\",\"ticks\":\"\"},\"radialaxis\":{\"gridcolor\":\"#506784\",\"linecolor\":\"#506784\",\"ticks\":\"\"}},\"ternary\":{\"bgcolor\":\"rgb(17,17,17)\",\"aaxis\":{\"gridcolor\":\"#506784\",\"linecolor\":\"#506784\",\"ticks\":\"\"},\"baxis\":{\"gridcolor\":\"#506784\",\"linecolor\":\"#506784\",\"ticks\":\"\"},\"caxis\":{\"gridcolor\":\"#506784\",\"linecolor\":\"#506784\",\"ticks\":\"\"}},\"coloraxis\":{\"colorbar\":{\"outlinewidth\":0,\"ticks\":\"\"}},\"colorscale\":{\"sequential\":[[0.0,\"#0d0887\"],[0.1111111111111111,\"#46039f\"],[0.2222222222222222,\"#7201a8\"],[0.3333333333333333,\"#9c179e\"],[0.4444444444444444,\"#bd3786\"],[0.5555555555555556,\"#d8576b\"],[0.6666666666666666,\"#ed7953\"],[0.7777777777777778,\"#fb9f3a\"],[0.8888888888888888,\"#fdca26\"],[1.0,\"#f0f921\"]],\"sequentialminus\":[[0.0,\"#0d0887\"],[0.1111111111111111,\"#46039f\"],[0.2222222222222222,\"#7201a8\"],[0.3333333333333333,\"#9c179e\"],[0.4444444444444444,\"#bd3786\"],[0.5555555555555556,\"#d8576b\"],[0.6666666666666666,\"#ed7953\"],[0.7777777777777778,\"#fb9f3a\"],[0.8888888888888888,\"#fdca26\"],[1.0,\"#f0f921\"]],\"diverging\":[[0,\"#8e0152\"],[0.1,\"#c51b7d\"],[0.2,\"#de77ae\"],[0.3,\"#f1b6da\"],[0.4,\"#fde0ef\"],[0.5,\"#f7f7f7\"],[0.6,\"#e6f5d0\"],[0.7,\"#b8e186\"],[0.8,\"#7fbc41\"],[0.9,\"#4d9221\"],[1,\"#276419\"]]},\"xaxis\":{\"gridcolor\":\"#283442\",\"linecolor\":\"#506784\",\"ticks\":\"\",\"title\":{\"standoff\":15},\"zerolinecolor\":\"#283442\",\"automargin\":true,\"zerolinewidth\":2},\"yaxis\":{\"gridcolor\":\"#283442\",\"linecolor\":\"#506784\",\"ticks\":\"\",\"title\":{\"standoff\":15},\"zerolinecolor\":\"#283442\",\"automargin\":true,\"zerolinewidth\":2},\"scene\":{\"xaxis\":{\"backgroundcolor\":\"rgb(17,17,17)\",\"gridcolor\":\"#506784\",\"linecolor\":\"#506784\",\"showbackground\":true,\"ticks\":\"\",\"zerolinecolor\":\"#C8D4E3\",\"gridwidth\":2},\"yaxis\":{\"backgroundcolor\":\"rgb(17,17,17)\",\"gridcolor\":\"#506784\",\"linecolor\":\"#506784\",\"showbackground\":true,\"ticks\":\"\",\"zerolinecolor\":\"#C8D4E3\",\"gridwidth\":2},\"zaxis\":{\"backgroundcolor\":\"rgb(17,17,17)\",\"gridcolor\":\"#506784\",\"linecolor\":\"#506784\",\"showbackground\":true,\"ticks\":\"\",\"zerolinecolor\":\"#C8D4E3\",\"gridwidth\":2}},\"shapedefaults\":{\"line\":{\"color\":\"#f2f5fa\"}},\"annotationdefaults\":{\"arrowcolor\":\"#f2f5fa\",\"arrowhead\":0,\"arrowwidth\":1},\"geo\":{\"bgcolor\":\"rgb(17,17,17)\",\"landcolor\":\"rgb(17,17,17)\",\"subunitcolor\":\"#506784\",\"showland\":true,\"showlakes\":true,\"lakecolor\":\"rgb(17,17,17)\"},\"title\":{\"x\":0.05},\"updatemenudefaults\":{\"bgcolor\":\"#506784\",\"borderwidth\":0},\"sliderdefaults\":{\"bgcolor\":\"#C8D4E3\",\"borderwidth\":1,\"bordercolor\":\"rgb(17,17,17)\",\"tickwidth\":0},\"mapbox\":{\"style\":\"dark\"}}},\"xaxis\":{\"anchor\":\"y\",\"domain\":[0.0,1.0],\"title\":{\"text\":\"Tile size\"},\"type\":\"log\"},\"yaxis\":{\"anchor\":\"x\",\"domain\":[0.0,1.0],\"title\":{\"text\":\"$\\\\log(I^6 + rI^3 + r^2I^2)$\"}},\"legend\":{\"title\":{\"text\":\"padding\"},\"tracegroupgap\":0},\"margin\":{\"t\":60},\"title\":{\"text\":\"Influence of tile size choice and padding on TT-MALS runtime (ex3)\",\"x\":0.5,\"xanchor\":\"center\",\"yanchor\":\"top\"},\"font\":{\"color\":\"black\"},\"plot_bgcolor\":\"white\",\"paper_bgcolor\":\"white\"},                        {\"responsive\": true}                    ).then(function(){\n",
       "                            \n",
       "var gd = document.getElementById('59c64823-12bb-46ce-814f-018e7cb1167f');\n",
       "var x = new MutationObserver(function (mutations, observer) {{\n",
       "        var display = window.getComputedStyle(gd).display;\n",
       "        if (!display || display === 'none') {{\n",
       "            console.log([gd, 'removed!']);\n",
       "            Plotly.purge(gd);\n",
       "            observer.disconnect();\n",
       "        }}\n",
       "}});\n",
       "\n",
       "// Listen for the removal of the full notebook cells\n",
       "var notebookContainer = gd.closest('#notebook-container');\n",
       "if (notebookContainer) {{\n",
       "    x.observe(notebookContainer, {childList: true});\n",
       "}}\n",
       "\n",
       "// Listen for the clearing of the current output cell\n",
       "var outputEl = gd.closest('.output');\n",
       "if (outputEl) {{\n",
       "    x.observe(outputEl, {childList: true});\n",
       "}}\n",
       "\n",
       "                        })                };                });            </script>        </div>"
      ]
     },
     "metadata": {},
     "output_type": "display_data"
    }
   ],
   "execution_count": 9
  },
  {
   "metadata": {
    "ExecuteTime": {
     "end_time": "2024-08-24T17:19:26.368490Z",
     "start_time": "2024-08-24T17:19:26.070552Z"
    }
   },
   "cell_type": "code",
   "source": "line_plot_padding_tile_size_tt_mals_runtime_per_matrix(padding_df, \"ex10hs\")",
   "id": "6d9bc678108b5cc3",
   "outputs": [
    {
     "name": "stderr",
     "output_type": "stream",
     "text": [
      "C:\\Users\\bakos\\Documents\\TUDelft\\Thesis\\sparse_tt_decomp_opt\\src\\analysis\\analysis_utils.py:37: SettingWithCopyWarning:\n",
      "\n",
      "\n",
      "A value is trying to be set on a copy of a slice from a DataFrame\n",
      "\n",
      "See the caveats in the documentation: https://pandas.pydata.org/pandas-docs/stable/user_guide/indexing.html#returning-a-view-versus-a-copy\n",
      "\n"
     ]
    },
    {
     "data": {
      "application/vnd.plotly.v1+json": {
       "data": [
        {
         "hovertemplate": "padding=0<br>Tile size=%{x}<br>log_obj_func=%{y}<extra></extra>",
         "legendgroup": "0",
         "line": {
          "color": "rgb(0, 0, 131)",
          "dash": "solid"
         },
         "marker": {
          "symbol": "circle",
          "size": [
           5,
           5,
           5,
           15,
           5,
           5,
           5,
           5,
           5,
           5,
           5,
           5,
           5,
           5,
           5,
           5,
           5
          ]
         },
         "mode": "lines+markers",
         "name": "0",
         "orientation": "v",
         "showlegend": true,
         "x": [
          2.0,
          4.0,
          7.0,
          13.0,
          14.0,
          26.0,
          28.0,
          49.0,
          52.0,
          91.0,
          98.0,
          182.0,
          196.0,
          364.0,
          637.0,
          1274.0,
          2548.0
         ],
         "xaxis": "x",
         "y": [
          25.60896164453125,
          23.7190431457363,
          22.03948570996794,
          20.29717455789307,
          20.255555282194635,
          20.413888046592636,
          20.57800862077399,
          23.369142575943915,
          23.718886063423362,
          27.065479408025276,
          27.510006766677083,
          31.224048215761098,
          31.66869379698681,
          35.38292362034165,
          38.74061797272882,
          42.89950101873315,
          47.0583841002128
         ],
         "yaxis": "y",
         "type": "scatter"
        },
        {
         "hovertemplate": "padding=1<br>Tile size=%{x}<br>log_obj_func=%{y}<extra></extra>",
         "legendgroup": "1",
         "line": {
          "color": "rgb(0, 30, 150)",
          "dash": "solid"
         },
         "marker": {
          "symbol": "diamond",
          "size": [
           15
          ]
         },
         "mode": "lines+markers",
         "name": "1",
         "orientation": "v",
         "showlegend": true,
         "x": [
          2549.0
         ],
         "xaxis": "x",
         "y": [
          47.060738426317094
         ],
         "yaxis": "y",
         "type": "scatter"
        },
        {
         "hovertemplate": "padding=2<br>Tile size=%{x}<br>log_obj_func=%{y}<extra></extra>",
         "legendgroup": "2",
         "line": {
          "color": "rgb(0, 60, 170)",
          "dash": "solid"
         },
         "marker": {
          "symbol": "square",
          "size": [
           5,
           5,
           5,
           5,
           5,
           5,
           15,
           5,
           5,
           5,
           5,
           5,
           5,
           5,
           5,
           5,
           5,
           5,
           5,
           5,
           5,
           5,
           5
          ]
         },
         "mode": "lines+markers",
         "name": "2",
         "orientation": "v",
         "showlegend": true,
         "x": [
          2.0,
          3.0,
          5.0,
          6.0,
          10.0,
          15.0,
          17.0,
          25.0,
          30.0,
          34.0,
          50.0,
          51.0,
          75.0,
          85.0,
          102.0,
          150.0,
          170.0,
          255.0,
          425.0,
          510.0,
          850.0,
          1275.0,
          2550.0
         ],
         "xaxis": "x",
         "y": [
          26.145774086181582,
          24.815198795404996,
          23.4973195680989,
          23.042167683632755,
          21.58227652598411,
          20.435172641328414,
          20.20819081225158,
          20.35188417022099,
          20.807863478218355,
          21.375619528829805,
          23.488089961314873,
          23.605099996547676,
          25.905971226960858,
          26.656403884893336,
          27.749999121515884,
          30.06383102562661,
          30.814801588345777,
          33.2475831450099,
          36.31253522981975,
          37.40646445480982,
          40.471418108398375,
          42.90420874749109,
          47.06309182897516
         ],
         "yaxis": "y",
         "type": "scatter"
        },
        {
         "hovertemplate": "padding=3<br>Tile size=%{x}<br>log_obj_func=%{y}<extra></extra>",
         "legendgroup": "3",
         "line": {
          "color": "rgb(2, 157, 212)",
          "dash": "solid"
         },
         "marker": {
          "symbol": "x",
          "size": [
           15
          ]
         },
         "mode": "lines+markers",
         "name": "3",
         "orientation": "v",
         "showlegend": true,
         "x": [
          2551.0
         ],
         "xaxis": "x",
         "y": [
          47.06544430891113
         ],
         "yaxis": "y",
         "type": "scatter"
        },
        {
         "hovertemplate": "padding=4<br>Tile size=%{x}<br>log_obj_func=%{y}<extra></extra>",
         "legendgroup": "4",
         "line": {
          "color": "rgb(5, 255, 255)",
          "dash": "solid"
         },
         "marker": {
          "symbol": "cross",
          "size": [
           5,
           5,
           5,
           5,
           5,
           15,
           5,
           5,
           5,
           5,
           5,
           5,
           5,
           5,
           5
          ]
         },
         "mode": "lines+markers",
         "name": "4",
         "orientation": "v",
         "showlegend": true,
         "x": [
          2.0,
          4.0,
          8.0,
          11.0,
          22.0,
          29.0,
          44.0,
          58.0,
          88.0,
          116.0,
          232.0,
          319.0,
          638.0,
          1276.0,
          2552.0
         ],
         "xaxis": "x",
         "y": [
          27.215234289323217,
          25.33109751275625,
          23.380963562916723,
          22.454002315821906,
          21.090151247899968,
          20.67021409529103,
          22.741269147419438,
          24.36761900829477,
          26.864420759978834,
          28.521604768548748,
          32.680427044262224,
          34.591147341168664,
          38.75002973917914,
          42.90891278535979,
          47.06779586684827
         ],
         "yaxis": "y",
         "type": "scatter"
        },
        {
         "hovertemplate": "padding=5<br>Tile size=%{x}<br>log_obj_func=%{y}<extra></extra>",
         "legendgroup": "5",
         "line": {
          "color": "rgb(130, 255, 128)",
          "dash": "solid"
         },
         "marker": {
          "symbol": "circle",
          "size": [
           5,
           5,
           15,
           5,
           5,
           5,
           5
          ]
         },
         "mode": "lines+markers",
         "name": "5",
         "orientation": "v",
         "showlegend": true,
         "x": [
          3.0,
          23.0,
          37.0,
          69.0,
          111.0,
          851.0,
          2553.0
         ],
         "xaxis": "x",
         "y": [
          26.380729936183315,
          22.030971790156872,
          21.779245155809633,
          25.406340926742082,
          28.257269684704262,
          40.47847278289187,
          47.07014650350902
         ],
         "yaxis": "y",
         "type": "scatter"
        },
        {
         "hovertemplate": "padding=6<br>Tile size=%{x}<br>log_obj_func=%{y}<extra></extra>",
         "legendgroup": "6",
         "line": {
          "color": "rgb(255, 255, 0)",
          "dash": "solid"
         },
         "marker": {
          "symbol": "diamond",
          "size": [
           5,
           15,
           5
          ]
         },
         "mode": "lines+markers",
         "name": "6",
         "orientation": "v",
         "showlegend": true,
         "x": [
          2.0,
          1277.0,
          2554.0
         ],
         "xaxis": "x",
         "y": [
          42.913921007003744,
          42.913613138122074,
          47.072496219614955
         ],
         "yaxis": "y",
         "type": "scatter"
        },
        {
         "hovertemplate": "padding=7<br>Tile size=%{x}<br>log_obj_func=%{y}<extra></extra>",
         "legendgroup": "7",
         "line": {
          "color": "rgb(252, 128, 0)",
          "dash": "solid"
         },
         "marker": {
          "symbol": "square",
          "size": [
           5,
           5,
           5,
           15,
           5,
           5,
           5
          ]
         },
         "mode": "lines+markers",
         "name": "7",
         "orientation": "v",
         "showlegend": true,
         "x": [
          5.0,
          7.0,
          35.0,
          73.0,
          365.0,
          511.0,
          2555.0
         ],
         "xaxis": "x",
         "y": [
          26.82950961620901,
          26.322892859234642,
          25.753751246355066,
          25.744000316486407,
          35.39938453256258,
          37.4182176411281,
          47.07484501588681
         ],
         "yaxis": "y",
         "type": "scatter"
        },
        {
         "hovertemplate": "padding=8<br>Tile size=%{x}<br>log_obj_func=%{y}<extra></extra>",
         "legendgroup": "8",
         "line": {
          "color": "rgb(250, 0, 0)",
          "dash": "solid"
         },
         "marker": {
          "symbol": "x",
          "size": [
           5,
           5,
           5,
           5,
           5,
           5,
           5,
           5,
           15,
           5,
           5,
           5,
           5,
           5,
           5,
           5,
           5
          ]
         },
         "mode": "lines+markers",
         "name": "8",
         "orientation": "v",
         "showlegend": true,
         "x": [
          2.0,
          3.0,
          4.0,
          6.0,
          9.0,
          12.0,
          18.0,
          36.0,
          71.0,
          142.0,
          213.0,
          284.0,
          426.0,
          639.0,
          852.0,
          1278.0,
          2556.0
         ],
         "xaxis": "x",
         "y": [
          29.03859424898355,
          27.79308715687373,
          27.31349765542947,
          26.4489661078444,
          25.925716230786218,
          25.758373724835558,
          25.645049212254673,
          25.587460948788813,
          25.577563540055202,
          29.734987156724088,
          32.1677570742228,
          33.89384661644332,
          36.3266362923517,
          38.75942676519134,
          40.485519172387136,
          42.918309811547196,
          47.07719289304446
         ],
         "yaxis": "y",
         "type": "scatter"
        },
        {
         "hovertemplate": "padding=9<br>Tile size=%{x}<br>log_obj_func=%{y}<extra></extra>",
         "legendgroup": "9",
         "line": {
          "color": "rgb(189, 0, 0)",
          "dash": "solid"
         },
         "marker": {
          "symbol": "cross",
          "size": [
           15
          ]
         },
         "mode": "lines+markers",
         "name": "9",
         "orientation": "v",
         "showlegend": true,
         "x": [
          2557.0
         ],
         "xaxis": "x",
         "y": [
          47.079539851806956
         ],
         "yaxis": "y",
         "type": "scatter"
        },
        {
         "hovertemplate": "padding=10<br>Tile size=%{x}<br>log_obj_func=%{y}<extra></extra>",
         "legendgroup": "10",
         "line": {
          "color": "rgb(128, 0, 0)",
          "dash": "solid"
         },
         "marker": {
          "symbol": "circle",
          "size": [
           5,
           15,
           5
          ]
         },
         "mode": "lines+markers",
         "name": "10",
         "orientation": "v",
         "showlegend": true,
         "x": [
          2.0,
          1279.0,
          2558.0
         ],
         "xaxis": "x",
         "y": [
          42.92330882307348,
          42.92300281139086,
          47.081885892892494
         ],
         "yaxis": "y",
         "type": "scatter"
        }
       ],
       "layout": {
        "template": {
         "data": {
          "histogram2dcontour": [
           {
            "type": "histogram2dcontour",
            "colorbar": {
             "outlinewidth": 0,
             "ticks": ""
            },
            "colorscale": [
             [
              0.0,
              "#0d0887"
             ],
             [
              0.1111111111111111,
              "#46039f"
             ],
             [
              0.2222222222222222,
              "#7201a8"
             ],
             [
              0.3333333333333333,
              "#9c179e"
             ],
             [
              0.4444444444444444,
              "#bd3786"
             ],
             [
              0.5555555555555556,
              "#d8576b"
             ],
             [
              0.6666666666666666,
              "#ed7953"
             ],
             [
              0.7777777777777778,
              "#fb9f3a"
             ],
             [
              0.8888888888888888,
              "#fdca26"
             ],
             [
              1.0,
              "#f0f921"
             ]
            ]
           }
          ],
          "choropleth": [
           {
            "type": "choropleth",
            "colorbar": {
             "outlinewidth": 0,
             "ticks": ""
            }
           }
          ],
          "histogram2d": [
           {
            "type": "histogram2d",
            "colorbar": {
             "outlinewidth": 0,
             "ticks": ""
            },
            "colorscale": [
             [
              0.0,
              "#0d0887"
             ],
             [
              0.1111111111111111,
              "#46039f"
             ],
             [
              0.2222222222222222,
              "#7201a8"
             ],
             [
              0.3333333333333333,
              "#9c179e"
             ],
             [
              0.4444444444444444,
              "#bd3786"
             ],
             [
              0.5555555555555556,
              "#d8576b"
             ],
             [
              0.6666666666666666,
              "#ed7953"
             ],
             [
              0.7777777777777778,
              "#fb9f3a"
             ],
             [
              0.8888888888888888,
              "#fdca26"
             ],
             [
              1.0,
              "#f0f921"
             ]
            ]
           }
          ],
          "heatmap": [
           {
            "type": "heatmap",
            "colorbar": {
             "outlinewidth": 0,
             "ticks": ""
            },
            "colorscale": [
             [
              0.0,
              "#0d0887"
             ],
             [
              0.1111111111111111,
              "#46039f"
             ],
             [
              0.2222222222222222,
              "#7201a8"
             ],
             [
              0.3333333333333333,
              "#9c179e"
             ],
             [
              0.4444444444444444,
              "#bd3786"
             ],
             [
              0.5555555555555556,
              "#d8576b"
             ],
             [
              0.6666666666666666,
              "#ed7953"
             ],
             [
              0.7777777777777778,
              "#fb9f3a"
             ],
             [
              0.8888888888888888,
              "#fdca26"
             ],
             [
              1.0,
              "#f0f921"
             ]
            ]
           }
          ],
          "heatmapgl": [
           {
            "type": "heatmapgl",
            "colorbar": {
             "outlinewidth": 0,
             "ticks": ""
            },
            "colorscale": [
             [
              0.0,
              "#0d0887"
             ],
             [
              0.1111111111111111,
              "#46039f"
             ],
             [
              0.2222222222222222,
              "#7201a8"
             ],
             [
              0.3333333333333333,
              "#9c179e"
             ],
             [
              0.4444444444444444,
              "#bd3786"
             ],
             [
              0.5555555555555556,
              "#d8576b"
             ],
             [
              0.6666666666666666,
              "#ed7953"
             ],
             [
              0.7777777777777778,
              "#fb9f3a"
             ],
             [
              0.8888888888888888,
              "#fdca26"
             ],
             [
              1.0,
              "#f0f921"
             ]
            ]
           }
          ],
          "contourcarpet": [
           {
            "type": "contourcarpet",
            "colorbar": {
             "outlinewidth": 0,
             "ticks": ""
            }
           }
          ],
          "contour": [
           {
            "type": "contour",
            "colorbar": {
             "outlinewidth": 0,
             "ticks": ""
            },
            "colorscale": [
             [
              0.0,
              "#0d0887"
             ],
             [
              0.1111111111111111,
              "#46039f"
             ],
             [
              0.2222222222222222,
              "#7201a8"
             ],
             [
              0.3333333333333333,
              "#9c179e"
             ],
             [
              0.4444444444444444,
              "#bd3786"
             ],
             [
              0.5555555555555556,
              "#d8576b"
             ],
             [
              0.6666666666666666,
              "#ed7953"
             ],
             [
              0.7777777777777778,
              "#fb9f3a"
             ],
             [
              0.8888888888888888,
              "#fdca26"
             ],
             [
              1.0,
              "#f0f921"
             ]
            ]
           }
          ],
          "surface": [
           {
            "type": "surface",
            "colorbar": {
             "outlinewidth": 0,
             "ticks": ""
            },
            "colorscale": [
             [
              0.0,
              "#0d0887"
             ],
             [
              0.1111111111111111,
              "#46039f"
             ],
             [
              0.2222222222222222,
              "#7201a8"
             ],
             [
              0.3333333333333333,
              "#9c179e"
             ],
             [
              0.4444444444444444,
              "#bd3786"
             ],
             [
              0.5555555555555556,
              "#d8576b"
             ],
             [
              0.6666666666666666,
              "#ed7953"
             ],
             [
              0.7777777777777778,
              "#fb9f3a"
             ],
             [
              0.8888888888888888,
              "#fdca26"
             ],
             [
              1.0,
              "#f0f921"
             ]
            ]
           }
          ],
          "mesh3d": [
           {
            "type": "mesh3d",
            "colorbar": {
             "outlinewidth": 0,
             "ticks": ""
            }
           }
          ],
          "scatter": [
           {
            "marker": {
             "line": {
              "color": "#283442"
             }
            },
            "type": "scatter"
           }
          ],
          "parcoords": [
           {
            "type": "parcoords",
            "line": {
             "colorbar": {
              "outlinewidth": 0,
              "ticks": ""
             }
            }
           }
          ],
          "scatterpolargl": [
           {
            "type": "scatterpolargl",
            "marker": {
             "colorbar": {
              "outlinewidth": 0,
              "ticks": ""
             }
            }
           }
          ],
          "bar": [
           {
            "error_x": {
             "color": "#f2f5fa"
            },
            "error_y": {
             "color": "#f2f5fa"
            },
            "marker": {
             "line": {
              "color": "rgb(17,17,17)",
              "width": 0.5
             },
             "pattern": {
              "fillmode": "overlay",
              "size": 10,
              "solidity": 0.2
             }
            },
            "type": "bar"
           }
          ],
          "scattergeo": [
           {
            "type": "scattergeo",
            "marker": {
             "colorbar": {
              "outlinewidth": 0,
              "ticks": ""
             }
            }
           }
          ],
          "scatterpolar": [
           {
            "type": "scatterpolar",
            "marker": {
             "colorbar": {
              "outlinewidth": 0,
              "ticks": ""
             }
            }
           }
          ],
          "histogram": [
           {
            "marker": {
             "pattern": {
              "fillmode": "overlay",
              "size": 10,
              "solidity": 0.2
             }
            },
            "type": "histogram"
           }
          ],
          "scattergl": [
           {
            "marker": {
             "line": {
              "color": "#283442"
             }
            },
            "type": "scattergl"
           }
          ],
          "scatter3d": [
           {
            "type": "scatter3d",
            "line": {
             "colorbar": {
              "outlinewidth": 0,
              "ticks": ""
             }
            },
            "marker": {
             "colorbar": {
              "outlinewidth": 0,
              "ticks": ""
             }
            }
           }
          ],
          "scattermapbox": [
           {
            "type": "scattermapbox",
            "marker": {
             "colorbar": {
              "outlinewidth": 0,
              "ticks": ""
             }
            }
           }
          ],
          "scatterternary": [
           {
            "type": "scatterternary",
            "marker": {
             "colorbar": {
              "outlinewidth": 0,
              "ticks": ""
             }
            }
           }
          ],
          "scattercarpet": [
           {
            "type": "scattercarpet",
            "marker": {
             "colorbar": {
              "outlinewidth": 0,
              "ticks": ""
             }
            }
           }
          ],
          "carpet": [
           {
            "aaxis": {
             "endlinecolor": "#A2B1C6",
             "gridcolor": "#506784",
             "linecolor": "#506784",
             "minorgridcolor": "#506784",
             "startlinecolor": "#A2B1C6"
            },
            "baxis": {
             "endlinecolor": "#A2B1C6",
             "gridcolor": "#506784",
             "linecolor": "#506784",
             "minorgridcolor": "#506784",
             "startlinecolor": "#A2B1C6"
            },
            "type": "carpet"
           }
          ],
          "table": [
           {
            "cells": {
             "fill": {
              "color": "#506784"
             },
             "line": {
              "color": "rgb(17,17,17)"
             }
            },
            "header": {
             "fill": {
              "color": "#2a3f5f"
             },
             "line": {
              "color": "rgb(17,17,17)"
             }
            },
            "type": "table"
           }
          ],
          "barpolar": [
           {
            "marker": {
             "line": {
              "color": "rgb(17,17,17)",
              "width": 0.5
             },
             "pattern": {
              "fillmode": "overlay",
              "size": 10,
              "solidity": 0.2
             }
            },
            "type": "barpolar"
           }
          ],
          "pie": [
           {
            "automargin": true,
            "type": "pie"
           }
          ]
         },
         "layout": {
          "autotypenumbers": "strict",
          "colorway": [
           "#636efa",
           "#EF553B",
           "#00cc96",
           "#ab63fa",
           "#FFA15A",
           "#19d3f3",
           "#FF6692",
           "#B6E880",
           "#FF97FF",
           "#FECB52"
          ],
          "font": {
           "color": "#f2f5fa"
          },
          "hovermode": "closest",
          "hoverlabel": {
           "align": "left"
          },
          "paper_bgcolor": "rgb(17,17,17)",
          "plot_bgcolor": "rgb(17,17,17)",
          "polar": {
           "bgcolor": "rgb(17,17,17)",
           "angularaxis": {
            "gridcolor": "#506784",
            "linecolor": "#506784",
            "ticks": ""
           },
           "radialaxis": {
            "gridcolor": "#506784",
            "linecolor": "#506784",
            "ticks": ""
           }
          },
          "ternary": {
           "bgcolor": "rgb(17,17,17)",
           "aaxis": {
            "gridcolor": "#506784",
            "linecolor": "#506784",
            "ticks": ""
           },
           "baxis": {
            "gridcolor": "#506784",
            "linecolor": "#506784",
            "ticks": ""
           },
           "caxis": {
            "gridcolor": "#506784",
            "linecolor": "#506784",
            "ticks": ""
           }
          },
          "coloraxis": {
           "colorbar": {
            "outlinewidth": 0,
            "ticks": ""
           }
          },
          "colorscale": {
           "sequential": [
            [
             0.0,
             "#0d0887"
            ],
            [
             0.1111111111111111,
             "#46039f"
            ],
            [
             0.2222222222222222,
             "#7201a8"
            ],
            [
             0.3333333333333333,
             "#9c179e"
            ],
            [
             0.4444444444444444,
             "#bd3786"
            ],
            [
             0.5555555555555556,
             "#d8576b"
            ],
            [
             0.6666666666666666,
             "#ed7953"
            ],
            [
             0.7777777777777778,
             "#fb9f3a"
            ],
            [
             0.8888888888888888,
             "#fdca26"
            ],
            [
             1.0,
             "#f0f921"
            ]
           ],
           "sequentialminus": [
            [
             0.0,
             "#0d0887"
            ],
            [
             0.1111111111111111,
             "#46039f"
            ],
            [
             0.2222222222222222,
             "#7201a8"
            ],
            [
             0.3333333333333333,
             "#9c179e"
            ],
            [
             0.4444444444444444,
             "#bd3786"
            ],
            [
             0.5555555555555556,
             "#d8576b"
            ],
            [
             0.6666666666666666,
             "#ed7953"
            ],
            [
             0.7777777777777778,
             "#fb9f3a"
            ],
            [
             0.8888888888888888,
             "#fdca26"
            ],
            [
             1.0,
             "#f0f921"
            ]
           ],
           "diverging": [
            [
             0,
             "#8e0152"
            ],
            [
             0.1,
             "#c51b7d"
            ],
            [
             0.2,
             "#de77ae"
            ],
            [
             0.3,
             "#f1b6da"
            ],
            [
             0.4,
             "#fde0ef"
            ],
            [
             0.5,
             "#f7f7f7"
            ],
            [
             0.6,
             "#e6f5d0"
            ],
            [
             0.7,
             "#b8e186"
            ],
            [
             0.8,
             "#7fbc41"
            ],
            [
             0.9,
             "#4d9221"
            ],
            [
             1,
             "#276419"
            ]
           ]
          },
          "xaxis": {
           "gridcolor": "#283442",
           "linecolor": "#506784",
           "ticks": "",
           "title": {
            "standoff": 15
           },
           "zerolinecolor": "#283442",
           "automargin": true,
           "zerolinewidth": 2
          },
          "yaxis": {
           "gridcolor": "#283442",
           "linecolor": "#506784",
           "ticks": "",
           "title": {
            "standoff": 15
           },
           "zerolinecolor": "#283442",
           "automargin": true,
           "zerolinewidth": 2
          },
          "scene": {
           "xaxis": {
            "backgroundcolor": "rgb(17,17,17)",
            "gridcolor": "#506784",
            "linecolor": "#506784",
            "showbackground": true,
            "ticks": "",
            "zerolinecolor": "#C8D4E3",
            "gridwidth": 2
           },
           "yaxis": {
            "backgroundcolor": "rgb(17,17,17)",
            "gridcolor": "#506784",
            "linecolor": "#506784",
            "showbackground": true,
            "ticks": "",
            "zerolinecolor": "#C8D4E3",
            "gridwidth": 2
           },
           "zaxis": {
            "backgroundcolor": "rgb(17,17,17)",
            "gridcolor": "#506784",
            "linecolor": "#506784",
            "showbackground": true,
            "ticks": "",
            "zerolinecolor": "#C8D4E3",
            "gridwidth": 2
           }
          },
          "shapedefaults": {
           "line": {
            "color": "#f2f5fa"
           }
          },
          "annotationdefaults": {
           "arrowcolor": "#f2f5fa",
           "arrowhead": 0,
           "arrowwidth": 1
          },
          "geo": {
           "bgcolor": "rgb(17,17,17)",
           "landcolor": "rgb(17,17,17)",
           "subunitcolor": "#506784",
           "showland": true,
           "showlakes": true,
           "lakecolor": "rgb(17,17,17)"
          },
          "title": {
           "x": 0.05
          },
          "updatemenudefaults": {
           "bgcolor": "#506784",
           "borderwidth": 0
          },
          "sliderdefaults": {
           "bgcolor": "#C8D4E3",
           "borderwidth": 1,
           "bordercolor": "rgb(17,17,17)",
           "tickwidth": 0
          },
          "mapbox": {
           "style": "dark"
          }
         }
        },
        "xaxis": {
         "anchor": "y",
         "domain": [
          0.0,
          1.0
         ],
         "title": {
          "text": "Tile size"
         },
         "type": "log"
        },
        "yaxis": {
         "anchor": "x",
         "domain": [
          0.0,
          1.0
         ],
         "title": {
          "text": "$\\log(I^6 + rI^3 + r^2I^2)$"
         }
        },
        "legend": {
         "title": {
          "text": "padding"
         },
         "tracegroupgap": 0
        },
        "margin": {
         "t": 60
        },
        "title": {
         "text": "Influence of tile size choice and padding on TT-MALS runtime (ex10hs)",
         "x": 0.5,
         "xanchor": "center",
         "yanchor": "top"
        },
        "font": {
         "color": "black"
        },
        "plot_bgcolor": "white",
        "paper_bgcolor": "white"
       },
       "config": {
        "plotlyServerURL": "https://plot.ly"
       }
      },
      "text/html": [
       "<div>                            <div id=\"7c0f3140-251d-42b9-b9bf-3019911148ac\" class=\"plotly-graph-div\" style=\"height:525px; width:100%;\"></div>            <script type=\"text/javascript\">                require([\"plotly\"], function(Plotly) {                    window.PLOTLYENV=window.PLOTLYENV || {};                                    if (document.getElementById(\"7c0f3140-251d-42b9-b9bf-3019911148ac\")) {                    Plotly.newPlot(                        \"7c0f3140-251d-42b9-b9bf-3019911148ac\",                        [{\"hovertemplate\":\"padding=0\\u003cbr\\u003eTile size=%{x}\\u003cbr\\u003elog_obj_func=%{y}\\u003cextra\\u003e\\u003c\\u002fextra\\u003e\",\"legendgroup\":\"0\",\"line\":{\"color\":\"rgb(0, 0, 131)\",\"dash\":\"solid\"},\"marker\":{\"symbol\":\"circle\",\"size\":[5,5,5,15,5,5,5,5,5,5,5,5,5,5,5,5,5]},\"mode\":\"lines+markers\",\"name\":\"0\",\"orientation\":\"v\",\"showlegend\":true,\"x\":[2.0,4.0,7.0,13.0,14.0,26.0,28.0,49.0,52.0,91.0,98.0,182.0,196.0,364.0,637.0,1274.0,2548.0],\"xaxis\":\"x\",\"y\":[25.60896164453125,23.7190431457363,22.03948570996794,20.29717455789307,20.255555282194635,20.413888046592636,20.57800862077399,23.369142575943915,23.718886063423362,27.065479408025276,27.510006766677083,31.224048215761098,31.66869379698681,35.38292362034165,38.74061797272882,42.89950101873315,47.0583841002128],\"yaxis\":\"y\",\"type\":\"scatter\"},{\"hovertemplate\":\"padding=1\\u003cbr\\u003eTile size=%{x}\\u003cbr\\u003elog_obj_func=%{y}\\u003cextra\\u003e\\u003c\\u002fextra\\u003e\",\"legendgroup\":\"1\",\"line\":{\"color\":\"rgb(0, 30, 150)\",\"dash\":\"solid\"},\"marker\":{\"symbol\":\"diamond\",\"size\":[15]},\"mode\":\"lines+markers\",\"name\":\"1\",\"orientation\":\"v\",\"showlegend\":true,\"x\":[2549.0],\"xaxis\":\"x\",\"y\":[47.060738426317094],\"yaxis\":\"y\",\"type\":\"scatter\"},{\"hovertemplate\":\"padding=2\\u003cbr\\u003eTile size=%{x}\\u003cbr\\u003elog_obj_func=%{y}\\u003cextra\\u003e\\u003c\\u002fextra\\u003e\",\"legendgroup\":\"2\",\"line\":{\"color\":\"rgb(0, 60, 170)\",\"dash\":\"solid\"},\"marker\":{\"symbol\":\"square\",\"size\":[5,5,5,5,5,5,15,5,5,5,5,5,5,5,5,5,5,5,5,5,5,5,5]},\"mode\":\"lines+markers\",\"name\":\"2\",\"orientation\":\"v\",\"showlegend\":true,\"x\":[2.0,3.0,5.0,6.0,10.0,15.0,17.0,25.0,30.0,34.0,50.0,51.0,75.0,85.0,102.0,150.0,170.0,255.0,425.0,510.0,850.0,1275.0,2550.0],\"xaxis\":\"x\",\"y\":[26.145774086181582,24.815198795404996,23.4973195680989,23.042167683632755,21.58227652598411,20.435172641328414,20.20819081225158,20.35188417022099,20.807863478218355,21.375619528829805,23.488089961314873,23.605099996547676,25.905971226960858,26.656403884893336,27.749999121515884,30.06383102562661,30.814801588345777,33.2475831450099,36.31253522981975,37.40646445480982,40.471418108398375,42.90420874749109,47.06309182897516],\"yaxis\":\"y\",\"type\":\"scatter\"},{\"hovertemplate\":\"padding=3\\u003cbr\\u003eTile size=%{x}\\u003cbr\\u003elog_obj_func=%{y}\\u003cextra\\u003e\\u003c\\u002fextra\\u003e\",\"legendgroup\":\"3\",\"line\":{\"color\":\"rgb(2, 157, 212)\",\"dash\":\"solid\"},\"marker\":{\"symbol\":\"x\",\"size\":[15]},\"mode\":\"lines+markers\",\"name\":\"3\",\"orientation\":\"v\",\"showlegend\":true,\"x\":[2551.0],\"xaxis\":\"x\",\"y\":[47.06544430891113],\"yaxis\":\"y\",\"type\":\"scatter\"},{\"hovertemplate\":\"padding=4\\u003cbr\\u003eTile size=%{x}\\u003cbr\\u003elog_obj_func=%{y}\\u003cextra\\u003e\\u003c\\u002fextra\\u003e\",\"legendgroup\":\"4\",\"line\":{\"color\":\"rgb(5, 255, 255)\",\"dash\":\"solid\"},\"marker\":{\"symbol\":\"cross\",\"size\":[5,5,5,5,5,15,5,5,5,5,5,5,5,5,5]},\"mode\":\"lines+markers\",\"name\":\"4\",\"orientation\":\"v\",\"showlegend\":true,\"x\":[2.0,4.0,8.0,11.0,22.0,29.0,44.0,58.0,88.0,116.0,232.0,319.0,638.0,1276.0,2552.0],\"xaxis\":\"x\",\"y\":[27.215234289323217,25.33109751275625,23.380963562916723,22.454002315821906,21.090151247899968,20.67021409529103,22.741269147419438,24.36761900829477,26.864420759978834,28.521604768548748,32.680427044262224,34.591147341168664,38.75002973917914,42.90891278535979,47.06779586684827],\"yaxis\":\"y\",\"type\":\"scatter\"},{\"hovertemplate\":\"padding=5\\u003cbr\\u003eTile size=%{x}\\u003cbr\\u003elog_obj_func=%{y}\\u003cextra\\u003e\\u003c\\u002fextra\\u003e\",\"legendgroup\":\"5\",\"line\":{\"color\":\"rgb(130, 255, 128)\",\"dash\":\"solid\"},\"marker\":{\"symbol\":\"circle\",\"size\":[5,5,15,5,5,5,5]},\"mode\":\"lines+markers\",\"name\":\"5\",\"orientation\":\"v\",\"showlegend\":true,\"x\":[3.0,23.0,37.0,69.0,111.0,851.0,2553.0],\"xaxis\":\"x\",\"y\":[26.380729936183315,22.030971790156872,21.779245155809633,25.406340926742082,28.257269684704262,40.47847278289187,47.07014650350902],\"yaxis\":\"y\",\"type\":\"scatter\"},{\"hovertemplate\":\"padding=6\\u003cbr\\u003eTile size=%{x}\\u003cbr\\u003elog_obj_func=%{y}\\u003cextra\\u003e\\u003c\\u002fextra\\u003e\",\"legendgroup\":\"6\",\"line\":{\"color\":\"rgb(255, 255, 0)\",\"dash\":\"solid\"},\"marker\":{\"symbol\":\"diamond\",\"size\":[5,15,5]},\"mode\":\"lines+markers\",\"name\":\"6\",\"orientation\":\"v\",\"showlegend\":true,\"x\":[2.0,1277.0,2554.0],\"xaxis\":\"x\",\"y\":[42.913921007003744,42.913613138122074,47.072496219614955],\"yaxis\":\"y\",\"type\":\"scatter\"},{\"hovertemplate\":\"padding=7\\u003cbr\\u003eTile size=%{x}\\u003cbr\\u003elog_obj_func=%{y}\\u003cextra\\u003e\\u003c\\u002fextra\\u003e\",\"legendgroup\":\"7\",\"line\":{\"color\":\"rgb(252, 128, 0)\",\"dash\":\"solid\"},\"marker\":{\"symbol\":\"square\",\"size\":[5,5,5,15,5,5,5]},\"mode\":\"lines+markers\",\"name\":\"7\",\"orientation\":\"v\",\"showlegend\":true,\"x\":[5.0,7.0,35.0,73.0,365.0,511.0,2555.0],\"xaxis\":\"x\",\"y\":[26.82950961620901,26.322892859234642,25.753751246355066,25.744000316486407,35.39938453256258,37.4182176411281,47.07484501588681],\"yaxis\":\"y\",\"type\":\"scatter\"},{\"hovertemplate\":\"padding=8\\u003cbr\\u003eTile size=%{x}\\u003cbr\\u003elog_obj_func=%{y}\\u003cextra\\u003e\\u003c\\u002fextra\\u003e\",\"legendgroup\":\"8\",\"line\":{\"color\":\"rgb(250, 0, 0)\",\"dash\":\"solid\"},\"marker\":{\"symbol\":\"x\",\"size\":[5,5,5,5,5,5,5,5,15,5,5,5,5,5,5,5,5]},\"mode\":\"lines+markers\",\"name\":\"8\",\"orientation\":\"v\",\"showlegend\":true,\"x\":[2.0,3.0,4.0,6.0,9.0,12.0,18.0,36.0,71.0,142.0,213.0,284.0,426.0,639.0,852.0,1278.0,2556.0],\"xaxis\":\"x\",\"y\":[29.03859424898355,27.79308715687373,27.31349765542947,26.4489661078444,25.925716230786218,25.758373724835558,25.645049212254673,25.587460948788813,25.577563540055202,29.734987156724088,32.1677570742228,33.89384661644332,36.3266362923517,38.75942676519134,40.485519172387136,42.918309811547196,47.07719289304446],\"yaxis\":\"y\",\"type\":\"scatter\"},{\"hovertemplate\":\"padding=9\\u003cbr\\u003eTile size=%{x}\\u003cbr\\u003elog_obj_func=%{y}\\u003cextra\\u003e\\u003c\\u002fextra\\u003e\",\"legendgroup\":\"9\",\"line\":{\"color\":\"rgb(189, 0, 0)\",\"dash\":\"solid\"},\"marker\":{\"symbol\":\"cross\",\"size\":[15]},\"mode\":\"lines+markers\",\"name\":\"9\",\"orientation\":\"v\",\"showlegend\":true,\"x\":[2557.0],\"xaxis\":\"x\",\"y\":[47.079539851806956],\"yaxis\":\"y\",\"type\":\"scatter\"},{\"hovertemplate\":\"padding=10\\u003cbr\\u003eTile size=%{x}\\u003cbr\\u003elog_obj_func=%{y}\\u003cextra\\u003e\\u003c\\u002fextra\\u003e\",\"legendgroup\":\"10\",\"line\":{\"color\":\"rgb(128, 0, 0)\",\"dash\":\"solid\"},\"marker\":{\"symbol\":\"circle\",\"size\":[5,15,5]},\"mode\":\"lines+markers\",\"name\":\"10\",\"orientation\":\"v\",\"showlegend\":true,\"x\":[2.0,1279.0,2558.0],\"xaxis\":\"x\",\"y\":[42.92330882307348,42.92300281139086,47.081885892892494],\"yaxis\":\"y\",\"type\":\"scatter\"}],                        {\"template\":{\"data\":{\"histogram2dcontour\":[{\"type\":\"histogram2dcontour\",\"colorbar\":{\"outlinewidth\":0,\"ticks\":\"\"},\"colorscale\":[[0.0,\"#0d0887\"],[0.1111111111111111,\"#46039f\"],[0.2222222222222222,\"#7201a8\"],[0.3333333333333333,\"#9c179e\"],[0.4444444444444444,\"#bd3786\"],[0.5555555555555556,\"#d8576b\"],[0.6666666666666666,\"#ed7953\"],[0.7777777777777778,\"#fb9f3a\"],[0.8888888888888888,\"#fdca26\"],[1.0,\"#f0f921\"]]}],\"choropleth\":[{\"type\":\"choropleth\",\"colorbar\":{\"outlinewidth\":0,\"ticks\":\"\"}}],\"histogram2d\":[{\"type\":\"histogram2d\",\"colorbar\":{\"outlinewidth\":0,\"ticks\":\"\"},\"colorscale\":[[0.0,\"#0d0887\"],[0.1111111111111111,\"#46039f\"],[0.2222222222222222,\"#7201a8\"],[0.3333333333333333,\"#9c179e\"],[0.4444444444444444,\"#bd3786\"],[0.5555555555555556,\"#d8576b\"],[0.6666666666666666,\"#ed7953\"],[0.7777777777777778,\"#fb9f3a\"],[0.8888888888888888,\"#fdca26\"],[1.0,\"#f0f921\"]]}],\"heatmap\":[{\"type\":\"heatmap\",\"colorbar\":{\"outlinewidth\":0,\"ticks\":\"\"},\"colorscale\":[[0.0,\"#0d0887\"],[0.1111111111111111,\"#46039f\"],[0.2222222222222222,\"#7201a8\"],[0.3333333333333333,\"#9c179e\"],[0.4444444444444444,\"#bd3786\"],[0.5555555555555556,\"#d8576b\"],[0.6666666666666666,\"#ed7953\"],[0.7777777777777778,\"#fb9f3a\"],[0.8888888888888888,\"#fdca26\"],[1.0,\"#f0f921\"]]}],\"heatmapgl\":[{\"type\":\"heatmapgl\",\"colorbar\":{\"outlinewidth\":0,\"ticks\":\"\"},\"colorscale\":[[0.0,\"#0d0887\"],[0.1111111111111111,\"#46039f\"],[0.2222222222222222,\"#7201a8\"],[0.3333333333333333,\"#9c179e\"],[0.4444444444444444,\"#bd3786\"],[0.5555555555555556,\"#d8576b\"],[0.6666666666666666,\"#ed7953\"],[0.7777777777777778,\"#fb9f3a\"],[0.8888888888888888,\"#fdca26\"],[1.0,\"#f0f921\"]]}],\"contourcarpet\":[{\"type\":\"contourcarpet\",\"colorbar\":{\"outlinewidth\":0,\"ticks\":\"\"}}],\"contour\":[{\"type\":\"contour\",\"colorbar\":{\"outlinewidth\":0,\"ticks\":\"\"},\"colorscale\":[[0.0,\"#0d0887\"],[0.1111111111111111,\"#46039f\"],[0.2222222222222222,\"#7201a8\"],[0.3333333333333333,\"#9c179e\"],[0.4444444444444444,\"#bd3786\"],[0.5555555555555556,\"#d8576b\"],[0.6666666666666666,\"#ed7953\"],[0.7777777777777778,\"#fb9f3a\"],[0.8888888888888888,\"#fdca26\"],[1.0,\"#f0f921\"]]}],\"surface\":[{\"type\":\"surface\",\"colorbar\":{\"outlinewidth\":0,\"ticks\":\"\"},\"colorscale\":[[0.0,\"#0d0887\"],[0.1111111111111111,\"#46039f\"],[0.2222222222222222,\"#7201a8\"],[0.3333333333333333,\"#9c179e\"],[0.4444444444444444,\"#bd3786\"],[0.5555555555555556,\"#d8576b\"],[0.6666666666666666,\"#ed7953\"],[0.7777777777777778,\"#fb9f3a\"],[0.8888888888888888,\"#fdca26\"],[1.0,\"#f0f921\"]]}],\"mesh3d\":[{\"type\":\"mesh3d\",\"colorbar\":{\"outlinewidth\":0,\"ticks\":\"\"}}],\"scatter\":[{\"marker\":{\"line\":{\"color\":\"#283442\"}},\"type\":\"scatter\"}],\"parcoords\":[{\"type\":\"parcoords\",\"line\":{\"colorbar\":{\"outlinewidth\":0,\"ticks\":\"\"}}}],\"scatterpolargl\":[{\"type\":\"scatterpolargl\",\"marker\":{\"colorbar\":{\"outlinewidth\":0,\"ticks\":\"\"}}}],\"bar\":[{\"error_x\":{\"color\":\"#f2f5fa\"},\"error_y\":{\"color\":\"#f2f5fa\"},\"marker\":{\"line\":{\"color\":\"rgb(17,17,17)\",\"width\":0.5},\"pattern\":{\"fillmode\":\"overlay\",\"size\":10,\"solidity\":0.2}},\"type\":\"bar\"}],\"scattergeo\":[{\"type\":\"scattergeo\",\"marker\":{\"colorbar\":{\"outlinewidth\":0,\"ticks\":\"\"}}}],\"scatterpolar\":[{\"type\":\"scatterpolar\",\"marker\":{\"colorbar\":{\"outlinewidth\":0,\"ticks\":\"\"}}}],\"histogram\":[{\"marker\":{\"pattern\":{\"fillmode\":\"overlay\",\"size\":10,\"solidity\":0.2}},\"type\":\"histogram\"}],\"scattergl\":[{\"marker\":{\"line\":{\"color\":\"#283442\"}},\"type\":\"scattergl\"}],\"scatter3d\":[{\"type\":\"scatter3d\",\"line\":{\"colorbar\":{\"outlinewidth\":0,\"ticks\":\"\"}},\"marker\":{\"colorbar\":{\"outlinewidth\":0,\"ticks\":\"\"}}}],\"scattermapbox\":[{\"type\":\"scattermapbox\",\"marker\":{\"colorbar\":{\"outlinewidth\":0,\"ticks\":\"\"}}}],\"scatterternary\":[{\"type\":\"scatterternary\",\"marker\":{\"colorbar\":{\"outlinewidth\":0,\"ticks\":\"\"}}}],\"scattercarpet\":[{\"type\":\"scattercarpet\",\"marker\":{\"colorbar\":{\"outlinewidth\":0,\"ticks\":\"\"}}}],\"carpet\":[{\"aaxis\":{\"endlinecolor\":\"#A2B1C6\",\"gridcolor\":\"#506784\",\"linecolor\":\"#506784\",\"minorgridcolor\":\"#506784\",\"startlinecolor\":\"#A2B1C6\"},\"baxis\":{\"endlinecolor\":\"#A2B1C6\",\"gridcolor\":\"#506784\",\"linecolor\":\"#506784\",\"minorgridcolor\":\"#506784\",\"startlinecolor\":\"#A2B1C6\"},\"type\":\"carpet\"}],\"table\":[{\"cells\":{\"fill\":{\"color\":\"#506784\"},\"line\":{\"color\":\"rgb(17,17,17)\"}},\"header\":{\"fill\":{\"color\":\"#2a3f5f\"},\"line\":{\"color\":\"rgb(17,17,17)\"}},\"type\":\"table\"}],\"barpolar\":[{\"marker\":{\"line\":{\"color\":\"rgb(17,17,17)\",\"width\":0.5},\"pattern\":{\"fillmode\":\"overlay\",\"size\":10,\"solidity\":0.2}},\"type\":\"barpolar\"}],\"pie\":[{\"automargin\":true,\"type\":\"pie\"}]},\"layout\":{\"autotypenumbers\":\"strict\",\"colorway\":[\"#636efa\",\"#EF553B\",\"#00cc96\",\"#ab63fa\",\"#FFA15A\",\"#19d3f3\",\"#FF6692\",\"#B6E880\",\"#FF97FF\",\"#FECB52\"],\"font\":{\"color\":\"#f2f5fa\"},\"hovermode\":\"closest\",\"hoverlabel\":{\"align\":\"left\"},\"paper_bgcolor\":\"rgb(17,17,17)\",\"plot_bgcolor\":\"rgb(17,17,17)\",\"polar\":{\"bgcolor\":\"rgb(17,17,17)\",\"angularaxis\":{\"gridcolor\":\"#506784\",\"linecolor\":\"#506784\",\"ticks\":\"\"},\"radialaxis\":{\"gridcolor\":\"#506784\",\"linecolor\":\"#506784\",\"ticks\":\"\"}},\"ternary\":{\"bgcolor\":\"rgb(17,17,17)\",\"aaxis\":{\"gridcolor\":\"#506784\",\"linecolor\":\"#506784\",\"ticks\":\"\"},\"baxis\":{\"gridcolor\":\"#506784\",\"linecolor\":\"#506784\",\"ticks\":\"\"},\"caxis\":{\"gridcolor\":\"#506784\",\"linecolor\":\"#506784\",\"ticks\":\"\"}},\"coloraxis\":{\"colorbar\":{\"outlinewidth\":0,\"ticks\":\"\"}},\"colorscale\":{\"sequential\":[[0.0,\"#0d0887\"],[0.1111111111111111,\"#46039f\"],[0.2222222222222222,\"#7201a8\"],[0.3333333333333333,\"#9c179e\"],[0.4444444444444444,\"#bd3786\"],[0.5555555555555556,\"#d8576b\"],[0.6666666666666666,\"#ed7953\"],[0.7777777777777778,\"#fb9f3a\"],[0.8888888888888888,\"#fdca26\"],[1.0,\"#f0f921\"]],\"sequentialminus\":[[0.0,\"#0d0887\"],[0.1111111111111111,\"#46039f\"],[0.2222222222222222,\"#7201a8\"],[0.3333333333333333,\"#9c179e\"],[0.4444444444444444,\"#bd3786\"],[0.5555555555555556,\"#d8576b\"],[0.6666666666666666,\"#ed7953\"],[0.7777777777777778,\"#fb9f3a\"],[0.8888888888888888,\"#fdca26\"],[1.0,\"#f0f921\"]],\"diverging\":[[0,\"#8e0152\"],[0.1,\"#c51b7d\"],[0.2,\"#de77ae\"],[0.3,\"#f1b6da\"],[0.4,\"#fde0ef\"],[0.5,\"#f7f7f7\"],[0.6,\"#e6f5d0\"],[0.7,\"#b8e186\"],[0.8,\"#7fbc41\"],[0.9,\"#4d9221\"],[1,\"#276419\"]]},\"xaxis\":{\"gridcolor\":\"#283442\",\"linecolor\":\"#506784\",\"ticks\":\"\",\"title\":{\"standoff\":15},\"zerolinecolor\":\"#283442\",\"automargin\":true,\"zerolinewidth\":2},\"yaxis\":{\"gridcolor\":\"#283442\",\"linecolor\":\"#506784\",\"ticks\":\"\",\"title\":{\"standoff\":15},\"zerolinecolor\":\"#283442\",\"automargin\":true,\"zerolinewidth\":2},\"scene\":{\"xaxis\":{\"backgroundcolor\":\"rgb(17,17,17)\",\"gridcolor\":\"#506784\",\"linecolor\":\"#506784\",\"showbackground\":true,\"ticks\":\"\",\"zerolinecolor\":\"#C8D4E3\",\"gridwidth\":2},\"yaxis\":{\"backgroundcolor\":\"rgb(17,17,17)\",\"gridcolor\":\"#506784\",\"linecolor\":\"#506784\",\"showbackground\":true,\"ticks\":\"\",\"zerolinecolor\":\"#C8D4E3\",\"gridwidth\":2},\"zaxis\":{\"backgroundcolor\":\"rgb(17,17,17)\",\"gridcolor\":\"#506784\",\"linecolor\":\"#506784\",\"showbackground\":true,\"ticks\":\"\",\"zerolinecolor\":\"#C8D4E3\",\"gridwidth\":2}},\"shapedefaults\":{\"line\":{\"color\":\"#f2f5fa\"}},\"annotationdefaults\":{\"arrowcolor\":\"#f2f5fa\",\"arrowhead\":0,\"arrowwidth\":1},\"geo\":{\"bgcolor\":\"rgb(17,17,17)\",\"landcolor\":\"rgb(17,17,17)\",\"subunitcolor\":\"#506784\",\"showland\":true,\"showlakes\":true,\"lakecolor\":\"rgb(17,17,17)\"},\"title\":{\"x\":0.05},\"updatemenudefaults\":{\"bgcolor\":\"#506784\",\"borderwidth\":0},\"sliderdefaults\":{\"bgcolor\":\"#C8D4E3\",\"borderwidth\":1,\"bordercolor\":\"rgb(17,17,17)\",\"tickwidth\":0},\"mapbox\":{\"style\":\"dark\"}}},\"xaxis\":{\"anchor\":\"y\",\"domain\":[0.0,1.0],\"title\":{\"text\":\"Tile size\"},\"type\":\"log\"},\"yaxis\":{\"anchor\":\"x\",\"domain\":[0.0,1.0],\"title\":{\"text\":\"$\\\\log(I^6 + rI^3 + r^2I^2)$\"}},\"legend\":{\"title\":{\"text\":\"padding\"},\"tracegroupgap\":0},\"margin\":{\"t\":60},\"title\":{\"text\":\"Influence of tile size choice and padding on TT-MALS runtime (ex10hs)\",\"x\":0.5,\"xanchor\":\"center\",\"yanchor\":\"top\"},\"font\":{\"color\":\"black\"},\"plot_bgcolor\":\"white\",\"paper_bgcolor\":\"white\"},                        {\"responsive\": true}                    ).then(function(){\n",
       "                            \n",
       "var gd = document.getElementById('7c0f3140-251d-42b9-b9bf-3019911148ac');\n",
       "var x = new MutationObserver(function (mutations, observer) {{\n",
       "        var display = window.getComputedStyle(gd).display;\n",
       "        if (!display || display === 'none') {{\n",
       "            console.log([gd, 'removed!']);\n",
       "            Plotly.purge(gd);\n",
       "            observer.disconnect();\n",
       "        }}\n",
       "}});\n",
       "\n",
       "// Listen for the removal of the full notebook cells\n",
       "var notebookContainer = gd.closest('#notebook-container');\n",
       "if (notebookContainer) {{\n",
       "    x.observe(notebookContainer, {childList: true});\n",
       "}}\n",
       "\n",
       "// Listen for the clearing of the current output cell\n",
       "var outputEl = gd.closest('.output');\n",
       "if (outputEl) {{\n",
       "    x.observe(outputEl, {childList: true});\n",
       "}}\n",
       "\n",
       "                        })                };                });            </script>        </div>"
      ]
     },
     "metadata": {},
     "output_type": "display_data"
    }
   ],
   "execution_count": 10
  },
  {
   "metadata": {
    "ExecuteTime": {
     "end_time": "2024-08-24T17:19:27.309899Z",
     "start_time": "2024-08-24T17:19:26.994613Z"
    }
   },
   "cell_type": "code",
   "source": "line_plot_padding_tile_size_tt_mals_runtime_per_matrix(padding_df, \"bcsstk13\")",
   "id": "707012ba459ab0d5",
   "outputs": [
    {
     "name": "stderr",
     "output_type": "stream",
     "text": [
      "C:\\Users\\bakos\\Documents\\TUDelft\\Thesis\\sparse_tt_decomp_opt\\src\\analysis\\analysis_utils.py:37: SettingWithCopyWarning:\n",
      "\n",
      "\n",
      "A value is trying to be set on a copy of a slice from a DataFrame\n",
      "\n",
      "See the caveats in the documentation: https://pandas.pydata.org/pandas-docs/stable/user_guide/indexing.html#returning-a-view-versus-a-copy\n",
      "\n"
     ]
    },
    {
     "data": {
      "application/vnd.plotly.v1+json": {
       "data": [
        {
         "hovertemplate": "padding=0<br>Tile size=%{x}<br>log_obj_func=%{y}<extra></extra>",
         "legendgroup": "0",
         "line": {
          "color": "rgb(0, 0, 131)",
          "dash": "solid"
         },
         "marker": {
          "symbol": "circle",
          "size": [
           15
          ]
         },
         "mode": "lines+markers",
         "name": "0",
         "orientation": "v",
         "showlegend": true,
         "x": [
          2003.0
         ],
         "xaxis": "x",
         "y": [
          45.61440801411941
         ],
         "yaxis": "y",
         "type": "scatter"
        },
        {
         "hovertemplate": "padding=1<br>Tile size=%{x}<br>log_obj_func=%{y}<extra></extra>",
         "legendgroup": "1",
         "line": {
          "color": "rgb(0, 30, 150)",
          "dash": "solid"
         },
         "marker": {
          "symbol": "diamond",
          "size": [
           5,
           5,
           5,
           5,
           5,
           15,
           5,
           5,
           5,
           5,
           5
          ]
         },
         "mode": "lines+markers",
         "name": "1",
         "orientation": "v",
         "showlegend": true,
         "x": [
          2.0,
          3.0,
          4.0,
          6.0,
          12.0,
          167.0,
          334.0,
          501.0,
          668.0,
          1002.0,
          2004.0
         ],
         "xaxis": "x",
         "y": [
          31.554265157066155,
          31.08107998174636,
          30.916016579806353,
          30.77088071943611,
          30.71917450637869,
          30.707988279286422,
          34.8668468353389,
          37.29963673780764,
          39.02572907182015,
          41.45851969386083,
          45.61740277335285
         ],
         "yaxis": "y",
         "type": "scatter"
        },
        {
         "hovertemplate": "padding=2<br>Tile size=%{x}<br>log_obj_func=%{y}<extra></extra>",
         "legendgroup": "2",
         "line": {
          "color": "rgb(0, 60, 170)",
          "dash": "solid"
         },
         "marker": {
          "symbol": "square",
          "size": [
           5,
           15,
           5
          ]
         },
         "mode": "lines+markers",
         "name": "2",
         "orientation": "v",
         "showlegend": true,
         "x": [
          5.0,
          401.0,
          2005.0
         ],
         "xaxis": "x",
         "y": [
          35.967848496936334,
          35.96376894099116,
          45.620396038568146
         ],
         "yaxis": "y",
         "type": "scatter"
        },
        {
         "hovertemplate": "padding=3<br>Tile size=%{x}<br>log_obj_func=%{y}<extra></extra>",
         "legendgroup": "3",
         "line": {
          "color": "rgb(2, 157, 212)",
          "dash": "solid"
         },
         "marker": {
          "symbol": "x",
          "size": [
           5,
           5,
           5,
           15,
           5,
           5,
           5
          ]
         },
         "mode": "lines+markers",
         "name": "3",
         "orientation": "v",
         "showlegend": true,
         "x": [
          2.0,
          17.0,
          34.0,
          59.0,
          118.0,
          1003.0,
          2006.0
         ],
         "xaxis": "x",
         "y": [
          28.92137291212146,
          24.724845405297113,
          24.51011860777007,
          24.476357964607544,
          28.6242568966554,
          41.46450473175164,
          45.62338781125523
         ],
         "yaxis": "y",
         "type": "scatter"
        },
        {
         "hovertemplate": "padding=4<br>Tile size=%{x}<br>log_obj_func=%{y}<extra></extra>",
         "legendgroup": "4",
         "line": {
          "color": "rgb(5, 255, 255)",
          "dash": "solid"
         },
         "marker": {
          "symbol": "cross",
          "size": [
           5,
           5,
           15,
           5,
           5
          ]
         },
         "mode": "lines+markers",
         "name": "4",
         "orientation": "v",
         "showlegend": true,
         "x": [
          3.0,
          9.0,
          223.0,
          669.0,
          2007.0
         ],
         "xaxis": "x",
         "y": [
          32.57640741896552,
          32.45115376999427,
          32.44303681158196,
          39.034704391232026,
          45.62637809290179
         ],
         "yaxis": "y",
         "type": "scatter"
        },
        {
         "hovertemplate": "padding=5<br>Tile size=%{x}<br>log_obj_func=%{y}<extra></extra>",
         "legendgroup": "5",
         "line": {
          "color": "rgb(130, 255, 128)",
          "dash": "solid"
         },
         "marker": {
          "symbol": "circle",
          "size": [
           5,
           5,
           5,
           15,
           5,
           5,
           5
          ]
         },
         "mode": "lines+markers",
         "name": "5",
         "orientation": "v",
         "showlegend": true,
         "x": [
          2.0,
          4.0,
          8.0,
          251.0,
          502.0,
          1004.0,
          2008.0
         ],
         "xaxis": "x",
         "y": [
          33.38504987618804,
          33.197318779064034,
          33.15963523152389,
          33.15272073521657,
          37.31160084865769,
          41.470483805478175,
          45.629366884993296
         ],
         "yaxis": "y",
         "type": "scatter"
        },
        {
         "hovertemplate": "padding=6<br>Tile size=%{x}<br>log_obj_func=%{y}<extra></extra>",
         "legendgroup": "6",
         "line": {
          "color": "rgb(255, 255, 0)",
          "dash": "solid"
         },
         "marker": {
          "symbol": "diamond",
          "size": [
           5,
           15,
           5,
           5,
           5
          ]
         },
         "mode": "lines+markers",
         "name": "6",
         "orientation": "v",
         "showlegend": true,
         "x": [
          7.0,
          41.0,
          49.0,
          287.0,
          2009.0
         ],
         "xaxis": "x",
         "y": [
          24.987624101228658,
          22.397285244157203,
          23.389292815467737,
          33.95689516849139,
          45.63235418901299
         ],
         "yaxis": "y",
         "type": "scatter"
        },
        {
         "hovertemplate": "padding=7<br>Tile size=%{x}<br>log_obj_func=%{y}<extra></extra>",
         "legendgroup": "7",
         "line": {
          "color": "rgb(252, 128, 0)",
          "dash": "solid"
         },
         "marker": {
          "symbol": "square",
          "size": [
           5,
           5,
           5,
           5,
           5,
           5,
           5,
           15,
           5,
           5,
           5,
           5,
           5,
           5,
           5
          ]
         },
         "mode": "lines+markers",
         "name": "7",
         "orientation": "v",
         "showlegend": true,
         "x": [
          2.0,
          3.0,
          5.0,
          6.0,
          10.0,
          15.0,
          30.0,
          67.0,
          134.0,
          201.0,
          335.0,
          402.0,
          670.0,
          1005.0,
          2010.0
         ],
         "xaxis": "x",
         "y": [
          29.183715329338057,
          28.138724573639582,
          27.03311951425906,
          26.472996975448517,
          25.794559217077207,
          25.455725053830715,
          25.266869990451944,
          25.233408797739745,
          29.38712536372334,
          31.819838651611025,
          34.88478406038056,
          35.978712906007786,
          39.04366630463593,
          41.47645692691533,
          45.635340006441936
         ],
         "yaxis": "y",
         "type": "scatter"
        },
        {
         "hovertemplate": "padding=8<br>Tile size=%{x}<br>log_obj_func=%{y}<extra></extra>",
         "legendgroup": "8",
         "line": {
          "color": "rgb(250, 0, 0)",
          "dash": "solid"
         },
         "marker": {
          "symbol": "x",
          "size": [
           15
          ]
         },
         "mode": "lines+markers",
         "name": "8",
         "orientation": "v",
         "showlegend": true,
         "x": [
          2011.0
         ],
         "xaxis": "x",
         "y": [
          45.638324338758935
         ],
         "yaxis": "y",
         "type": "scatter"
        },
        {
         "hovertemplate": "padding=9<br>Tile size=%{x}<br>log_obj_func=%{y}<extra></extra>",
         "legendgroup": "9",
         "line": {
          "color": "rgb(189, 0, 0)",
          "dash": "solid"
         },
         "marker": {
          "symbol": "cross",
          "size": [
           5,
           5,
           15,
           5,
           5
          ]
         },
         "mode": "lines+markers",
         "name": "9",
         "orientation": "v",
         "showlegend": true,
         "x": [
          2.0,
          4.0,
          503.0,
          1006.0,
          2012.0
         ],
         "xaxis": "x",
         "y": [
          37.33975381698652,
          37.32641784739114,
          37.323541150320956,
          41.48242410790258,
          45.64130718744062
         ],
         "yaxis": "y",
         "type": "scatter"
        },
        {
         "hovertemplate": "padding=10<br>Tile size=%{x}<br>log_obj_func=%{y}<extra></extra>",
         "legendgroup": "10",
         "line": {
          "color": "rgb(128, 0, 0)",
          "dash": "solid"
         },
         "marker": {
          "symbol": "circle",
          "size": [
           5,
           5,
           5,
           15,
           5,
           5,
           5
          ]
         },
         "mode": "lines+markers",
         "name": "10",
         "orientation": "v",
         "showlegend": true,
         "x": [
          3.0,
          11.0,
          33.0,
          61.0,
          183.0,
          671.0,
          2013.0
         ],
         "xaxis": "x",
         "y": [
          27.933699375255976,
          25.268320395868884,
          24.70877734345712,
          24.674989093627218,
          31.25693417037594,
          39.052614852019964,
          45.6442885539614
         ],
         "yaxis": "y",
         "type": "scatter"
        }
       ],
       "layout": {
        "template": {
         "data": {
          "histogram2dcontour": [
           {
            "type": "histogram2dcontour",
            "colorbar": {
             "outlinewidth": 0,
             "ticks": ""
            },
            "colorscale": [
             [
              0.0,
              "#0d0887"
             ],
             [
              0.1111111111111111,
              "#46039f"
             ],
             [
              0.2222222222222222,
              "#7201a8"
             ],
             [
              0.3333333333333333,
              "#9c179e"
             ],
             [
              0.4444444444444444,
              "#bd3786"
             ],
             [
              0.5555555555555556,
              "#d8576b"
             ],
             [
              0.6666666666666666,
              "#ed7953"
             ],
             [
              0.7777777777777778,
              "#fb9f3a"
             ],
             [
              0.8888888888888888,
              "#fdca26"
             ],
             [
              1.0,
              "#f0f921"
             ]
            ]
           }
          ],
          "choropleth": [
           {
            "type": "choropleth",
            "colorbar": {
             "outlinewidth": 0,
             "ticks": ""
            }
           }
          ],
          "histogram2d": [
           {
            "type": "histogram2d",
            "colorbar": {
             "outlinewidth": 0,
             "ticks": ""
            },
            "colorscale": [
             [
              0.0,
              "#0d0887"
             ],
             [
              0.1111111111111111,
              "#46039f"
             ],
             [
              0.2222222222222222,
              "#7201a8"
             ],
             [
              0.3333333333333333,
              "#9c179e"
             ],
             [
              0.4444444444444444,
              "#bd3786"
             ],
             [
              0.5555555555555556,
              "#d8576b"
             ],
             [
              0.6666666666666666,
              "#ed7953"
             ],
             [
              0.7777777777777778,
              "#fb9f3a"
             ],
             [
              0.8888888888888888,
              "#fdca26"
             ],
             [
              1.0,
              "#f0f921"
             ]
            ]
           }
          ],
          "heatmap": [
           {
            "type": "heatmap",
            "colorbar": {
             "outlinewidth": 0,
             "ticks": ""
            },
            "colorscale": [
             [
              0.0,
              "#0d0887"
             ],
             [
              0.1111111111111111,
              "#46039f"
             ],
             [
              0.2222222222222222,
              "#7201a8"
             ],
             [
              0.3333333333333333,
              "#9c179e"
             ],
             [
              0.4444444444444444,
              "#bd3786"
             ],
             [
              0.5555555555555556,
              "#d8576b"
             ],
             [
              0.6666666666666666,
              "#ed7953"
             ],
             [
              0.7777777777777778,
              "#fb9f3a"
             ],
             [
              0.8888888888888888,
              "#fdca26"
             ],
             [
              1.0,
              "#f0f921"
             ]
            ]
           }
          ],
          "heatmapgl": [
           {
            "type": "heatmapgl",
            "colorbar": {
             "outlinewidth": 0,
             "ticks": ""
            },
            "colorscale": [
             [
              0.0,
              "#0d0887"
             ],
             [
              0.1111111111111111,
              "#46039f"
             ],
             [
              0.2222222222222222,
              "#7201a8"
             ],
             [
              0.3333333333333333,
              "#9c179e"
             ],
             [
              0.4444444444444444,
              "#bd3786"
             ],
             [
              0.5555555555555556,
              "#d8576b"
             ],
             [
              0.6666666666666666,
              "#ed7953"
             ],
             [
              0.7777777777777778,
              "#fb9f3a"
             ],
             [
              0.8888888888888888,
              "#fdca26"
             ],
             [
              1.0,
              "#f0f921"
             ]
            ]
           }
          ],
          "contourcarpet": [
           {
            "type": "contourcarpet",
            "colorbar": {
             "outlinewidth": 0,
             "ticks": ""
            }
           }
          ],
          "contour": [
           {
            "type": "contour",
            "colorbar": {
             "outlinewidth": 0,
             "ticks": ""
            },
            "colorscale": [
             [
              0.0,
              "#0d0887"
             ],
             [
              0.1111111111111111,
              "#46039f"
             ],
             [
              0.2222222222222222,
              "#7201a8"
             ],
             [
              0.3333333333333333,
              "#9c179e"
             ],
             [
              0.4444444444444444,
              "#bd3786"
             ],
             [
              0.5555555555555556,
              "#d8576b"
             ],
             [
              0.6666666666666666,
              "#ed7953"
             ],
             [
              0.7777777777777778,
              "#fb9f3a"
             ],
             [
              0.8888888888888888,
              "#fdca26"
             ],
             [
              1.0,
              "#f0f921"
             ]
            ]
           }
          ],
          "surface": [
           {
            "type": "surface",
            "colorbar": {
             "outlinewidth": 0,
             "ticks": ""
            },
            "colorscale": [
             [
              0.0,
              "#0d0887"
             ],
             [
              0.1111111111111111,
              "#46039f"
             ],
             [
              0.2222222222222222,
              "#7201a8"
             ],
             [
              0.3333333333333333,
              "#9c179e"
             ],
             [
              0.4444444444444444,
              "#bd3786"
             ],
             [
              0.5555555555555556,
              "#d8576b"
             ],
             [
              0.6666666666666666,
              "#ed7953"
             ],
             [
              0.7777777777777778,
              "#fb9f3a"
             ],
             [
              0.8888888888888888,
              "#fdca26"
             ],
             [
              1.0,
              "#f0f921"
             ]
            ]
           }
          ],
          "mesh3d": [
           {
            "type": "mesh3d",
            "colorbar": {
             "outlinewidth": 0,
             "ticks": ""
            }
           }
          ],
          "scatter": [
           {
            "marker": {
             "line": {
              "color": "#283442"
             }
            },
            "type": "scatter"
           }
          ],
          "parcoords": [
           {
            "type": "parcoords",
            "line": {
             "colorbar": {
              "outlinewidth": 0,
              "ticks": ""
             }
            }
           }
          ],
          "scatterpolargl": [
           {
            "type": "scatterpolargl",
            "marker": {
             "colorbar": {
              "outlinewidth": 0,
              "ticks": ""
             }
            }
           }
          ],
          "bar": [
           {
            "error_x": {
             "color": "#f2f5fa"
            },
            "error_y": {
             "color": "#f2f5fa"
            },
            "marker": {
             "line": {
              "color": "rgb(17,17,17)",
              "width": 0.5
             },
             "pattern": {
              "fillmode": "overlay",
              "size": 10,
              "solidity": 0.2
             }
            },
            "type": "bar"
           }
          ],
          "scattergeo": [
           {
            "type": "scattergeo",
            "marker": {
             "colorbar": {
              "outlinewidth": 0,
              "ticks": ""
             }
            }
           }
          ],
          "scatterpolar": [
           {
            "type": "scatterpolar",
            "marker": {
             "colorbar": {
              "outlinewidth": 0,
              "ticks": ""
             }
            }
           }
          ],
          "histogram": [
           {
            "marker": {
             "pattern": {
              "fillmode": "overlay",
              "size": 10,
              "solidity": 0.2
             }
            },
            "type": "histogram"
           }
          ],
          "scattergl": [
           {
            "marker": {
             "line": {
              "color": "#283442"
             }
            },
            "type": "scattergl"
           }
          ],
          "scatter3d": [
           {
            "type": "scatter3d",
            "line": {
             "colorbar": {
              "outlinewidth": 0,
              "ticks": ""
             }
            },
            "marker": {
             "colorbar": {
              "outlinewidth": 0,
              "ticks": ""
             }
            }
           }
          ],
          "scattermapbox": [
           {
            "type": "scattermapbox",
            "marker": {
             "colorbar": {
              "outlinewidth": 0,
              "ticks": ""
             }
            }
           }
          ],
          "scatterternary": [
           {
            "type": "scatterternary",
            "marker": {
             "colorbar": {
              "outlinewidth": 0,
              "ticks": ""
             }
            }
           }
          ],
          "scattercarpet": [
           {
            "type": "scattercarpet",
            "marker": {
             "colorbar": {
              "outlinewidth": 0,
              "ticks": ""
             }
            }
           }
          ],
          "carpet": [
           {
            "aaxis": {
             "endlinecolor": "#A2B1C6",
             "gridcolor": "#506784",
             "linecolor": "#506784",
             "minorgridcolor": "#506784",
             "startlinecolor": "#A2B1C6"
            },
            "baxis": {
             "endlinecolor": "#A2B1C6",
             "gridcolor": "#506784",
             "linecolor": "#506784",
             "minorgridcolor": "#506784",
             "startlinecolor": "#A2B1C6"
            },
            "type": "carpet"
           }
          ],
          "table": [
           {
            "cells": {
             "fill": {
              "color": "#506784"
             },
             "line": {
              "color": "rgb(17,17,17)"
             }
            },
            "header": {
             "fill": {
              "color": "#2a3f5f"
             },
             "line": {
              "color": "rgb(17,17,17)"
             }
            },
            "type": "table"
           }
          ],
          "barpolar": [
           {
            "marker": {
             "line": {
              "color": "rgb(17,17,17)",
              "width": 0.5
             },
             "pattern": {
              "fillmode": "overlay",
              "size": 10,
              "solidity": 0.2
             }
            },
            "type": "barpolar"
           }
          ],
          "pie": [
           {
            "automargin": true,
            "type": "pie"
           }
          ]
         },
         "layout": {
          "autotypenumbers": "strict",
          "colorway": [
           "#636efa",
           "#EF553B",
           "#00cc96",
           "#ab63fa",
           "#FFA15A",
           "#19d3f3",
           "#FF6692",
           "#B6E880",
           "#FF97FF",
           "#FECB52"
          ],
          "font": {
           "color": "#f2f5fa"
          },
          "hovermode": "closest",
          "hoverlabel": {
           "align": "left"
          },
          "paper_bgcolor": "rgb(17,17,17)",
          "plot_bgcolor": "rgb(17,17,17)",
          "polar": {
           "bgcolor": "rgb(17,17,17)",
           "angularaxis": {
            "gridcolor": "#506784",
            "linecolor": "#506784",
            "ticks": ""
           },
           "radialaxis": {
            "gridcolor": "#506784",
            "linecolor": "#506784",
            "ticks": ""
           }
          },
          "ternary": {
           "bgcolor": "rgb(17,17,17)",
           "aaxis": {
            "gridcolor": "#506784",
            "linecolor": "#506784",
            "ticks": ""
           },
           "baxis": {
            "gridcolor": "#506784",
            "linecolor": "#506784",
            "ticks": ""
           },
           "caxis": {
            "gridcolor": "#506784",
            "linecolor": "#506784",
            "ticks": ""
           }
          },
          "coloraxis": {
           "colorbar": {
            "outlinewidth": 0,
            "ticks": ""
           }
          },
          "colorscale": {
           "sequential": [
            [
             0.0,
             "#0d0887"
            ],
            [
             0.1111111111111111,
             "#46039f"
            ],
            [
             0.2222222222222222,
             "#7201a8"
            ],
            [
             0.3333333333333333,
             "#9c179e"
            ],
            [
             0.4444444444444444,
             "#bd3786"
            ],
            [
             0.5555555555555556,
             "#d8576b"
            ],
            [
             0.6666666666666666,
             "#ed7953"
            ],
            [
             0.7777777777777778,
             "#fb9f3a"
            ],
            [
             0.8888888888888888,
             "#fdca26"
            ],
            [
             1.0,
             "#f0f921"
            ]
           ],
           "sequentialminus": [
            [
             0.0,
             "#0d0887"
            ],
            [
             0.1111111111111111,
             "#46039f"
            ],
            [
             0.2222222222222222,
             "#7201a8"
            ],
            [
             0.3333333333333333,
             "#9c179e"
            ],
            [
             0.4444444444444444,
             "#bd3786"
            ],
            [
             0.5555555555555556,
             "#d8576b"
            ],
            [
             0.6666666666666666,
             "#ed7953"
            ],
            [
             0.7777777777777778,
             "#fb9f3a"
            ],
            [
             0.8888888888888888,
             "#fdca26"
            ],
            [
             1.0,
             "#f0f921"
            ]
           ],
           "diverging": [
            [
             0,
             "#8e0152"
            ],
            [
             0.1,
             "#c51b7d"
            ],
            [
             0.2,
             "#de77ae"
            ],
            [
             0.3,
             "#f1b6da"
            ],
            [
             0.4,
             "#fde0ef"
            ],
            [
             0.5,
             "#f7f7f7"
            ],
            [
             0.6,
             "#e6f5d0"
            ],
            [
             0.7,
             "#b8e186"
            ],
            [
             0.8,
             "#7fbc41"
            ],
            [
             0.9,
             "#4d9221"
            ],
            [
             1,
             "#276419"
            ]
           ]
          },
          "xaxis": {
           "gridcolor": "#283442",
           "linecolor": "#506784",
           "ticks": "",
           "title": {
            "standoff": 15
           },
           "zerolinecolor": "#283442",
           "automargin": true,
           "zerolinewidth": 2
          },
          "yaxis": {
           "gridcolor": "#283442",
           "linecolor": "#506784",
           "ticks": "",
           "title": {
            "standoff": 15
           },
           "zerolinecolor": "#283442",
           "automargin": true,
           "zerolinewidth": 2
          },
          "scene": {
           "xaxis": {
            "backgroundcolor": "rgb(17,17,17)",
            "gridcolor": "#506784",
            "linecolor": "#506784",
            "showbackground": true,
            "ticks": "",
            "zerolinecolor": "#C8D4E3",
            "gridwidth": 2
           },
           "yaxis": {
            "backgroundcolor": "rgb(17,17,17)",
            "gridcolor": "#506784",
            "linecolor": "#506784",
            "showbackground": true,
            "ticks": "",
            "zerolinecolor": "#C8D4E3",
            "gridwidth": 2
           },
           "zaxis": {
            "backgroundcolor": "rgb(17,17,17)",
            "gridcolor": "#506784",
            "linecolor": "#506784",
            "showbackground": true,
            "ticks": "",
            "zerolinecolor": "#C8D4E3",
            "gridwidth": 2
           }
          },
          "shapedefaults": {
           "line": {
            "color": "#f2f5fa"
           }
          },
          "annotationdefaults": {
           "arrowcolor": "#f2f5fa",
           "arrowhead": 0,
           "arrowwidth": 1
          },
          "geo": {
           "bgcolor": "rgb(17,17,17)",
           "landcolor": "rgb(17,17,17)",
           "subunitcolor": "#506784",
           "showland": true,
           "showlakes": true,
           "lakecolor": "rgb(17,17,17)"
          },
          "title": {
           "x": 0.05
          },
          "updatemenudefaults": {
           "bgcolor": "#506784",
           "borderwidth": 0
          },
          "sliderdefaults": {
           "bgcolor": "#C8D4E3",
           "borderwidth": 1,
           "bordercolor": "rgb(17,17,17)",
           "tickwidth": 0
          },
          "mapbox": {
           "style": "dark"
          }
         }
        },
        "xaxis": {
         "anchor": "y",
         "domain": [
          0.0,
          1.0
         ],
         "title": {
          "text": "Tile size"
         },
         "type": "log"
        },
        "yaxis": {
         "anchor": "x",
         "domain": [
          0.0,
          1.0
         ],
         "title": {
          "text": "$\\log(I^6 + rI^3 + r^2I^2)$"
         }
        },
        "legend": {
         "title": {
          "text": "padding"
         },
         "tracegroupgap": 0
        },
        "margin": {
         "t": 60
        },
        "title": {
         "text": "Influence of tile size choice and padding on TT-MALS runtime (bcsstk13)",
         "x": 0.5,
         "xanchor": "center",
         "yanchor": "top"
        },
        "font": {
         "color": "black"
        },
        "plot_bgcolor": "white",
        "paper_bgcolor": "white"
       },
       "config": {
        "plotlyServerURL": "https://plot.ly"
       }
      },
      "text/html": [
       "<div>                            <div id=\"0d9b3ef0-9238-421a-a3f8-56370b7baff4\" class=\"plotly-graph-div\" style=\"height:525px; width:100%;\"></div>            <script type=\"text/javascript\">                require([\"plotly\"], function(Plotly) {                    window.PLOTLYENV=window.PLOTLYENV || {};                                    if (document.getElementById(\"0d9b3ef0-9238-421a-a3f8-56370b7baff4\")) {                    Plotly.newPlot(                        \"0d9b3ef0-9238-421a-a3f8-56370b7baff4\",                        [{\"hovertemplate\":\"padding=0\\u003cbr\\u003eTile size=%{x}\\u003cbr\\u003elog_obj_func=%{y}\\u003cextra\\u003e\\u003c\\u002fextra\\u003e\",\"legendgroup\":\"0\",\"line\":{\"color\":\"rgb(0, 0, 131)\",\"dash\":\"solid\"},\"marker\":{\"symbol\":\"circle\",\"size\":[15]},\"mode\":\"lines+markers\",\"name\":\"0\",\"orientation\":\"v\",\"showlegend\":true,\"x\":[2003.0],\"xaxis\":\"x\",\"y\":[45.61440801411941],\"yaxis\":\"y\",\"type\":\"scatter\"},{\"hovertemplate\":\"padding=1\\u003cbr\\u003eTile size=%{x}\\u003cbr\\u003elog_obj_func=%{y}\\u003cextra\\u003e\\u003c\\u002fextra\\u003e\",\"legendgroup\":\"1\",\"line\":{\"color\":\"rgb(0, 30, 150)\",\"dash\":\"solid\"},\"marker\":{\"symbol\":\"diamond\",\"size\":[5,5,5,5,5,15,5,5,5,5,5]},\"mode\":\"lines+markers\",\"name\":\"1\",\"orientation\":\"v\",\"showlegend\":true,\"x\":[2.0,3.0,4.0,6.0,12.0,167.0,334.0,501.0,668.0,1002.0,2004.0],\"xaxis\":\"x\",\"y\":[31.554265157066155,31.08107998174636,30.916016579806353,30.77088071943611,30.71917450637869,30.707988279286422,34.8668468353389,37.29963673780764,39.02572907182015,41.45851969386083,45.61740277335285],\"yaxis\":\"y\",\"type\":\"scatter\"},{\"hovertemplate\":\"padding=2\\u003cbr\\u003eTile size=%{x}\\u003cbr\\u003elog_obj_func=%{y}\\u003cextra\\u003e\\u003c\\u002fextra\\u003e\",\"legendgroup\":\"2\",\"line\":{\"color\":\"rgb(0, 60, 170)\",\"dash\":\"solid\"},\"marker\":{\"symbol\":\"square\",\"size\":[5,15,5]},\"mode\":\"lines+markers\",\"name\":\"2\",\"orientation\":\"v\",\"showlegend\":true,\"x\":[5.0,401.0,2005.0],\"xaxis\":\"x\",\"y\":[35.967848496936334,35.96376894099116,45.620396038568146],\"yaxis\":\"y\",\"type\":\"scatter\"},{\"hovertemplate\":\"padding=3\\u003cbr\\u003eTile size=%{x}\\u003cbr\\u003elog_obj_func=%{y}\\u003cextra\\u003e\\u003c\\u002fextra\\u003e\",\"legendgroup\":\"3\",\"line\":{\"color\":\"rgb(2, 157, 212)\",\"dash\":\"solid\"},\"marker\":{\"symbol\":\"x\",\"size\":[5,5,5,15,5,5,5]},\"mode\":\"lines+markers\",\"name\":\"3\",\"orientation\":\"v\",\"showlegend\":true,\"x\":[2.0,17.0,34.0,59.0,118.0,1003.0,2006.0],\"xaxis\":\"x\",\"y\":[28.92137291212146,24.724845405297113,24.51011860777007,24.476357964607544,28.6242568966554,41.46450473175164,45.62338781125523],\"yaxis\":\"y\",\"type\":\"scatter\"},{\"hovertemplate\":\"padding=4\\u003cbr\\u003eTile size=%{x}\\u003cbr\\u003elog_obj_func=%{y}\\u003cextra\\u003e\\u003c\\u002fextra\\u003e\",\"legendgroup\":\"4\",\"line\":{\"color\":\"rgb(5, 255, 255)\",\"dash\":\"solid\"},\"marker\":{\"symbol\":\"cross\",\"size\":[5,5,15,5,5]},\"mode\":\"lines+markers\",\"name\":\"4\",\"orientation\":\"v\",\"showlegend\":true,\"x\":[3.0,9.0,223.0,669.0,2007.0],\"xaxis\":\"x\",\"y\":[32.57640741896552,32.45115376999427,32.44303681158196,39.034704391232026,45.62637809290179],\"yaxis\":\"y\",\"type\":\"scatter\"},{\"hovertemplate\":\"padding=5\\u003cbr\\u003eTile size=%{x}\\u003cbr\\u003elog_obj_func=%{y}\\u003cextra\\u003e\\u003c\\u002fextra\\u003e\",\"legendgroup\":\"5\",\"line\":{\"color\":\"rgb(130, 255, 128)\",\"dash\":\"solid\"},\"marker\":{\"symbol\":\"circle\",\"size\":[5,5,5,15,5,5,5]},\"mode\":\"lines+markers\",\"name\":\"5\",\"orientation\":\"v\",\"showlegend\":true,\"x\":[2.0,4.0,8.0,251.0,502.0,1004.0,2008.0],\"xaxis\":\"x\",\"y\":[33.38504987618804,33.197318779064034,33.15963523152389,33.15272073521657,37.31160084865769,41.470483805478175,45.629366884993296],\"yaxis\":\"y\",\"type\":\"scatter\"},{\"hovertemplate\":\"padding=6\\u003cbr\\u003eTile size=%{x}\\u003cbr\\u003elog_obj_func=%{y}\\u003cextra\\u003e\\u003c\\u002fextra\\u003e\",\"legendgroup\":\"6\",\"line\":{\"color\":\"rgb(255, 255, 0)\",\"dash\":\"solid\"},\"marker\":{\"symbol\":\"diamond\",\"size\":[5,15,5,5,5]},\"mode\":\"lines+markers\",\"name\":\"6\",\"orientation\":\"v\",\"showlegend\":true,\"x\":[7.0,41.0,49.0,287.0,2009.0],\"xaxis\":\"x\",\"y\":[24.987624101228658,22.397285244157203,23.389292815467737,33.95689516849139,45.63235418901299],\"yaxis\":\"y\",\"type\":\"scatter\"},{\"hovertemplate\":\"padding=7\\u003cbr\\u003eTile size=%{x}\\u003cbr\\u003elog_obj_func=%{y}\\u003cextra\\u003e\\u003c\\u002fextra\\u003e\",\"legendgroup\":\"7\",\"line\":{\"color\":\"rgb(252, 128, 0)\",\"dash\":\"solid\"},\"marker\":{\"symbol\":\"square\",\"size\":[5,5,5,5,5,5,5,15,5,5,5,5,5,5,5]},\"mode\":\"lines+markers\",\"name\":\"7\",\"orientation\":\"v\",\"showlegend\":true,\"x\":[2.0,3.0,5.0,6.0,10.0,15.0,30.0,67.0,134.0,201.0,335.0,402.0,670.0,1005.0,2010.0],\"xaxis\":\"x\",\"y\":[29.183715329338057,28.138724573639582,27.03311951425906,26.472996975448517,25.794559217077207,25.455725053830715,25.266869990451944,25.233408797739745,29.38712536372334,31.819838651611025,34.88478406038056,35.978712906007786,39.04366630463593,41.47645692691533,45.635340006441936],\"yaxis\":\"y\",\"type\":\"scatter\"},{\"hovertemplate\":\"padding=8\\u003cbr\\u003eTile size=%{x}\\u003cbr\\u003elog_obj_func=%{y}\\u003cextra\\u003e\\u003c\\u002fextra\\u003e\",\"legendgroup\":\"8\",\"line\":{\"color\":\"rgb(250, 0, 0)\",\"dash\":\"solid\"},\"marker\":{\"symbol\":\"x\",\"size\":[15]},\"mode\":\"lines+markers\",\"name\":\"8\",\"orientation\":\"v\",\"showlegend\":true,\"x\":[2011.0],\"xaxis\":\"x\",\"y\":[45.638324338758935],\"yaxis\":\"y\",\"type\":\"scatter\"},{\"hovertemplate\":\"padding=9\\u003cbr\\u003eTile size=%{x}\\u003cbr\\u003elog_obj_func=%{y}\\u003cextra\\u003e\\u003c\\u002fextra\\u003e\",\"legendgroup\":\"9\",\"line\":{\"color\":\"rgb(189, 0, 0)\",\"dash\":\"solid\"},\"marker\":{\"symbol\":\"cross\",\"size\":[5,5,15,5,5]},\"mode\":\"lines+markers\",\"name\":\"9\",\"orientation\":\"v\",\"showlegend\":true,\"x\":[2.0,4.0,503.0,1006.0,2012.0],\"xaxis\":\"x\",\"y\":[37.33975381698652,37.32641784739114,37.323541150320956,41.48242410790258,45.64130718744062],\"yaxis\":\"y\",\"type\":\"scatter\"},{\"hovertemplate\":\"padding=10\\u003cbr\\u003eTile size=%{x}\\u003cbr\\u003elog_obj_func=%{y}\\u003cextra\\u003e\\u003c\\u002fextra\\u003e\",\"legendgroup\":\"10\",\"line\":{\"color\":\"rgb(128, 0, 0)\",\"dash\":\"solid\"},\"marker\":{\"symbol\":\"circle\",\"size\":[5,5,5,15,5,5,5]},\"mode\":\"lines+markers\",\"name\":\"10\",\"orientation\":\"v\",\"showlegend\":true,\"x\":[3.0,11.0,33.0,61.0,183.0,671.0,2013.0],\"xaxis\":\"x\",\"y\":[27.933699375255976,25.268320395868884,24.70877734345712,24.674989093627218,31.25693417037594,39.052614852019964,45.6442885539614],\"yaxis\":\"y\",\"type\":\"scatter\"}],                        {\"template\":{\"data\":{\"histogram2dcontour\":[{\"type\":\"histogram2dcontour\",\"colorbar\":{\"outlinewidth\":0,\"ticks\":\"\"},\"colorscale\":[[0.0,\"#0d0887\"],[0.1111111111111111,\"#46039f\"],[0.2222222222222222,\"#7201a8\"],[0.3333333333333333,\"#9c179e\"],[0.4444444444444444,\"#bd3786\"],[0.5555555555555556,\"#d8576b\"],[0.6666666666666666,\"#ed7953\"],[0.7777777777777778,\"#fb9f3a\"],[0.8888888888888888,\"#fdca26\"],[1.0,\"#f0f921\"]]}],\"choropleth\":[{\"type\":\"choropleth\",\"colorbar\":{\"outlinewidth\":0,\"ticks\":\"\"}}],\"histogram2d\":[{\"type\":\"histogram2d\",\"colorbar\":{\"outlinewidth\":0,\"ticks\":\"\"},\"colorscale\":[[0.0,\"#0d0887\"],[0.1111111111111111,\"#46039f\"],[0.2222222222222222,\"#7201a8\"],[0.3333333333333333,\"#9c179e\"],[0.4444444444444444,\"#bd3786\"],[0.5555555555555556,\"#d8576b\"],[0.6666666666666666,\"#ed7953\"],[0.7777777777777778,\"#fb9f3a\"],[0.8888888888888888,\"#fdca26\"],[1.0,\"#f0f921\"]]}],\"heatmap\":[{\"type\":\"heatmap\",\"colorbar\":{\"outlinewidth\":0,\"ticks\":\"\"},\"colorscale\":[[0.0,\"#0d0887\"],[0.1111111111111111,\"#46039f\"],[0.2222222222222222,\"#7201a8\"],[0.3333333333333333,\"#9c179e\"],[0.4444444444444444,\"#bd3786\"],[0.5555555555555556,\"#d8576b\"],[0.6666666666666666,\"#ed7953\"],[0.7777777777777778,\"#fb9f3a\"],[0.8888888888888888,\"#fdca26\"],[1.0,\"#f0f921\"]]}],\"heatmapgl\":[{\"type\":\"heatmapgl\",\"colorbar\":{\"outlinewidth\":0,\"ticks\":\"\"},\"colorscale\":[[0.0,\"#0d0887\"],[0.1111111111111111,\"#46039f\"],[0.2222222222222222,\"#7201a8\"],[0.3333333333333333,\"#9c179e\"],[0.4444444444444444,\"#bd3786\"],[0.5555555555555556,\"#d8576b\"],[0.6666666666666666,\"#ed7953\"],[0.7777777777777778,\"#fb9f3a\"],[0.8888888888888888,\"#fdca26\"],[1.0,\"#f0f921\"]]}],\"contourcarpet\":[{\"type\":\"contourcarpet\",\"colorbar\":{\"outlinewidth\":0,\"ticks\":\"\"}}],\"contour\":[{\"type\":\"contour\",\"colorbar\":{\"outlinewidth\":0,\"ticks\":\"\"},\"colorscale\":[[0.0,\"#0d0887\"],[0.1111111111111111,\"#46039f\"],[0.2222222222222222,\"#7201a8\"],[0.3333333333333333,\"#9c179e\"],[0.4444444444444444,\"#bd3786\"],[0.5555555555555556,\"#d8576b\"],[0.6666666666666666,\"#ed7953\"],[0.7777777777777778,\"#fb9f3a\"],[0.8888888888888888,\"#fdca26\"],[1.0,\"#f0f921\"]]}],\"surface\":[{\"type\":\"surface\",\"colorbar\":{\"outlinewidth\":0,\"ticks\":\"\"},\"colorscale\":[[0.0,\"#0d0887\"],[0.1111111111111111,\"#46039f\"],[0.2222222222222222,\"#7201a8\"],[0.3333333333333333,\"#9c179e\"],[0.4444444444444444,\"#bd3786\"],[0.5555555555555556,\"#d8576b\"],[0.6666666666666666,\"#ed7953\"],[0.7777777777777778,\"#fb9f3a\"],[0.8888888888888888,\"#fdca26\"],[1.0,\"#f0f921\"]]}],\"mesh3d\":[{\"type\":\"mesh3d\",\"colorbar\":{\"outlinewidth\":0,\"ticks\":\"\"}}],\"scatter\":[{\"marker\":{\"line\":{\"color\":\"#283442\"}},\"type\":\"scatter\"}],\"parcoords\":[{\"type\":\"parcoords\",\"line\":{\"colorbar\":{\"outlinewidth\":0,\"ticks\":\"\"}}}],\"scatterpolargl\":[{\"type\":\"scatterpolargl\",\"marker\":{\"colorbar\":{\"outlinewidth\":0,\"ticks\":\"\"}}}],\"bar\":[{\"error_x\":{\"color\":\"#f2f5fa\"},\"error_y\":{\"color\":\"#f2f5fa\"},\"marker\":{\"line\":{\"color\":\"rgb(17,17,17)\",\"width\":0.5},\"pattern\":{\"fillmode\":\"overlay\",\"size\":10,\"solidity\":0.2}},\"type\":\"bar\"}],\"scattergeo\":[{\"type\":\"scattergeo\",\"marker\":{\"colorbar\":{\"outlinewidth\":0,\"ticks\":\"\"}}}],\"scatterpolar\":[{\"type\":\"scatterpolar\",\"marker\":{\"colorbar\":{\"outlinewidth\":0,\"ticks\":\"\"}}}],\"histogram\":[{\"marker\":{\"pattern\":{\"fillmode\":\"overlay\",\"size\":10,\"solidity\":0.2}},\"type\":\"histogram\"}],\"scattergl\":[{\"marker\":{\"line\":{\"color\":\"#283442\"}},\"type\":\"scattergl\"}],\"scatter3d\":[{\"type\":\"scatter3d\",\"line\":{\"colorbar\":{\"outlinewidth\":0,\"ticks\":\"\"}},\"marker\":{\"colorbar\":{\"outlinewidth\":0,\"ticks\":\"\"}}}],\"scattermapbox\":[{\"type\":\"scattermapbox\",\"marker\":{\"colorbar\":{\"outlinewidth\":0,\"ticks\":\"\"}}}],\"scatterternary\":[{\"type\":\"scatterternary\",\"marker\":{\"colorbar\":{\"outlinewidth\":0,\"ticks\":\"\"}}}],\"scattercarpet\":[{\"type\":\"scattercarpet\",\"marker\":{\"colorbar\":{\"outlinewidth\":0,\"ticks\":\"\"}}}],\"carpet\":[{\"aaxis\":{\"endlinecolor\":\"#A2B1C6\",\"gridcolor\":\"#506784\",\"linecolor\":\"#506784\",\"minorgridcolor\":\"#506784\",\"startlinecolor\":\"#A2B1C6\"},\"baxis\":{\"endlinecolor\":\"#A2B1C6\",\"gridcolor\":\"#506784\",\"linecolor\":\"#506784\",\"minorgridcolor\":\"#506784\",\"startlinecolor\":\"#A2B1C6\"},\"type\":\"carpet\"}],\"table\":[{\"cells\":{\"fill\":{\"color\":\"#506784\"},\"line\":{\"color\":\"rgb(17,17,17)\"}},\"header\":{\"fill\":{\"color\":\"#2a3f5f\"},\"line\":{\"color\":\"rgb(17,17,17)\"}},\"type\":\"table\"}],\"barpolar\":[{\"marker\":{\"line\":{\"color\":\"rgb(17,17,17)\",\"width\":0.5},\"pattern\":{\"fillmode\":\"overlay\",\"size\":10,\"solidity\":0.2}},\"type\":\"barpolar\"}],\"pie\":[{\"automargin\":true,\"type\":\"pie\"}]},\"layout\":{\"autotypenumbers\":\"strict\",\"colorway\":[\"#636efa\",\"#EF553B\",\"#00cc96\",\"#ab63fa\",\"#FFA15A\",\"#19d3f3\",\"#FF6692\",\"#B6E880\",\"#FF97FF\",\"#FECB52\"],\"font\":{\"color\":\"#f2f5fa\"},\"hovermode\":\"closest\",\"hoverlabel\":{\"align\":\"left\"},\"paper_bgcolor\":\"rgb(17,17,17)\",\"plot_bgcolor\":\"rgb(17,17,17)\",\"polar\":{\"bgcolor\":\"rgb(17,17,17)\",\"angularaxis\":{\"gridcolor\":\"#506784\",\"linecolor\":\"#506784\",\"ticks\":\"\"},\"radialaxis\":{\"gridcolor\":\"#506784\",\"linecolor\":\"#506784\",\"ticks\":\"\"}},\"ternary\":{\"bgcolor\":\"rgb(17,17,17)\",\"aaxis\":{\"gridcolor\":\"#506784\",\"linecolor\":\"#506784\",\"ticks\":\"\"},\"baxis\":{\"gridcolor\":\"#506784\",\"linecolor\":\"#506784\",\"ticks\":\"\"},\"caxis\":{\"gridcolor\":\"#506784\",\"linecolor\":\"#506784\",\"ticks\":\"\"}},\"coloraxis\":{\"colorbar\":{\"outlinewidth\":0,\"ticks\":\"\"}},\"colorscale\":{\"sequential\":[[0.0,\"#0d0887\"],[0.1111111111111111,\"#46039f\"],[0.2222222222222222,\"#7201a8\"],[0.3333333333333333,\"#9c179e\"],[0.4444444444444444,\"#bd3786\"],[0.5555555555555556,\"#d8576b\"],[0.6666666666666666,\"#ed7953\"],[0.7777777777777778,\"#fb9f3a\"],[0.8888888888888888,\"#fdca26\"],[1.0,\"#f0f921\"]],\"sequentialminus\":[[0.0,\"#0d0887\"],[0.1111111111111111,\"#46039f\"],[0.2222222222222222,\"#7201a8\"],[0.3333333333333333,\"#9c179e\"],[0.4444444444444444,\"#bd3786\"],[0.5555555555555556,\"#d8576b\"],[0.6666666666666666,\"#ed7953\"],[0.7777777777777778,\"#fb9f3a\"],[0.8888888888888888,\"#fdca26\"],[1.0,\"#f0f921\"]],\"diverging\":[[0,\"#8e0152\"],[0.1,\"#c51b7d\"],[0.2,\"#de77ae\"],[0.3,\"#f1b6da\"],[0.4,\"#fde0ef\"],[0.5,\"#f7f7f7\"],[0.6,\"#e6f5d0\"],[0.7,\"#b8e186\"],[0.8,\"#7fbc41\"],[0.9,\"#4d9221\"],[1,\"#276419\"]]},\"xaxis\":{\"gridcolor\":\"#283442\",\"linecolor\":\"#506784\",\"ticks\":\"\",\"title\":{\"standoff\":15},\"zerolinecolor\":\"#283442\",\"automargin\":true,\"zerolinewidth\":2},\"yaxis\":{\"gridcolor\":\"#283442\",\"linecolor\":\"#506784\",\"ticks\":\"\",\"title\":{\"standoff\":15},\"zerolinecolor\":\"#283442\",\"automargin\":true,\"zerolinewidth\":2},\"scene\":{\"xaxis\":{\"backgroundcolor\":\"rgb(17,17,17)\",\"gridcolor\":\"#506784\",\"linecolor\":\"#506784\",\"showbackground\":true,\"ticks\":\"\",\"zerolinecolor\":\"#C8D4E3\",\"gridwidth\":2},\"yaxis\":{\"backgroundcolor\":\"rgb(17,17,17)\",\"gridcolor\":\"#506784\",\"linecolor\":\"#506784\",\"showbackground\":true,\"ticks\":\"\",\"zerolinecolor\":\"#C8D4E3\",\"gridwidth\":2},\"zaxis\":{\"backgroundcolor\":\"rgb(17,17,17)\",\"gridcolor\":\"#506784\",\"linecolor\":\"#506784\",\"showbackground\":true,\"ticks\":\"\",\"zerolinecolor\":\"#C8D4E3\",\"gridwidth\":2}},\"shapedefaults\":{\"line\":{\"color\":\"#f2f5fa\"}},\"annotationdefaults\":{\"arrowcolor\":\"#f2f5fa\",\"arrowhead\":0,\"arrowwidth\":1},\"geo\":{\"bgcolor\":\"rgb(17,17,17)\",\"landcolor\":\"rgb(17,17,17)\",\"subunitcolor\":\"#506784\",\"showland\":true,\"showlakes\":true,\"lakecolor\":\"rgb(17,17,17)\"},\"title\":{\"x\":0.05},\"updatemenudefaults\":{\"bgcolor\":\"#506784\",\"borderwidth\":0},\"sliderdefaults\":{\"bgcolor\":\"#C8D4E3\",\"borderwidth\":1,\"bordercolor\":\"rgb(17,17,17)\",\"tickwidth\":0},\"mapbox\":{\"style\":\"dark\"}}},\"xaxis\":{\"anchor\":\"y\",\"domain\":[0.0,1.0],\"title\":{\"text\":\"Tile size\"},\"type\":\"log\"},\"yaxis\":{\"anchor\":\"x\",\"domain\":[0.0,1.0],\"title\":{\"text\":\"$\\\\log(I^6 + rI^3 + r^2I^2)$\"}},\"legend\":{\"title\":{\"text\":\"padding\"},\"tracegroupgap\":0},\"margin\":{\"t\":60},\"title\":{\"text\":\"Influence of tile size choice and padding on TT-MALS runtime (bcsstk13)\",\"x\":0.5,\"xanchor\":\"center\",\"yanchor\":\"top\"},\"font\":{\"color\":\"black\"},\"plot_bgcolor\":\"white\",\"paper_bgcolor\":\"white\"},                        {\"responsive\": true}                    ).then(function(){\n",
       "                            \n",
       "var gd = document.getElementById('0d9b3ef0-9238-421a-a3f8-56370b7baff4');\n",
       "var x = new MutationObserver(function (mutations, observer) {{\n",
       "        var display = window.getComputedStyle(gd).display;\n",
       "        if (!display || display === 'none') {{\n",
       "            console.log([gd, 'removed!']);\n",
       "            Plotly.purge(gd);\n",
       "            observer.disconnect();\n",
       "        }}\n",
       "}});\n",
       "\n",
       "// Listen for the removal of the full notebook cells\n",
       "var notebookContainer = gd.closest('#notebook-container');\n",
       "if (notebookContainer) {{\n",
       "    x.observe(notebookContainer, {childList: true});\n",
       "}}\n",
       "\n",
       "// Listen for the clearing of the current output cell\n",
       "var outputEl = gd.closest('.output');\n",
       "if (outputEl) {{\n",
       "    x.observe(outputEl, {childList: true});\n",
       "}}\n",
       "\n",
       "                        })                };                });            </script>        </div>"
      ]
     },
     "metadata": {},
     "output_type": "display_data"
    }
   ],
   "execution_count": 11
  },
  {
   "metadata": {
    "ExecuteTime": {
     "end_time": "2024-08-24T17:19:27.967882Z",
     "start_time": "2024-08-24T17:19:27.653561Z"
    }
   },
   "cell_type": "code",
   "source": "line_plot_padding_tile_size_tt_mals_runtime_per_matrix(padding_df, \"Pres_Poisson\")",
   "id": "32cc905132683cb6",
   "outputs": [
    {
     "name": "stderr",
     "output_type": "stream",
     "text": [
      "C:\\Users\\bakos\\Documents\\TUDelft\\Thesis\\sparse_tt_decomp_opt\\src\\analysis\\analysis_utils.py:37: SettingWithCopyWarning:\n",
      "\n",
      "\n",
      "A value is trying to be set on a copy of a slice from a DataFrame\n",
      "\n",
      "See the caveats in the documentation: https://pandas.pydata.org/pandas-docs/stable/user_guide/indexing.html#returning-a-view-versus-a-copy\n",
      "\n"
     ]
    },
    {
     "data": {
      "application/vnd.plotly.v1+json": {
       "data": [
        {
         "hovertemplate": "padding=0<br>Tile size=%{x}<br>log_obj_func=%{y}<extra></extra>",
         "legendgroup": "0",
         "line": {
          "color": "rgb(0, 0, 131)",
          "dash": "solid"
         },
         "marker": {
          "symbol": "circle",
          "size": [
           5,
           15,
           5
          ]
         },
         "mode": "lines+markers",
         "name": "0",
         "orientation": "v",
         "showlegend": true,
         "x": [
          2.0,
          7411.0,
          14822.0
         ],
         "xaxis": "x",
         "y": [
          53.46434001758422,
          53.46432397171799,
          57.62320705506813
         ],
         "yaxis": "y",
         "type": "scatter"
        },
        {
         "hovertemplate": "padding=1<br>Tile size=%{x}<br>log_obj_func=%{y}<extra></extra>",
         "legendgroup": "1",
         "line": {
          "color": "rgb(0, 30, 150)",
          "dash": "solid"
         },
         "marker": {
          "symbol": "diamond",
          "size": [
           5,
           5,
           5,
           15,
           5,
           5,
           5,
           5,
           5,
           5,
           5
          ]
         },
         "mode": "lines+markers",
         "name": "1",
         "orientation": "v",
         "showlegend": true,
         "x": [
          3.0,
          9.0,
          27.0,
          61.0,
          81.0,
          183.0,
          243.0,
          549.0,
          1647.0,
          4941.0,
          14823.0
         ],
         "xaxis": "x",
         "y": [
          31.91698343664304,
          28.83509290239489,
          26.171572047526492,
          25.05410120388311,
          26.44185493217354,
          31.25748066413288,
          32.958482075594205,
          37.84859235057092,
          44.44026439283468,
          51.031938113149245,
          57.62361184508347
         ],
         "yaxis": "y",
         "type": "scatter"
        },
        {
         "hovertemplate": "padding=2<br>Tile size=%{x}<br>log_obj_func=%{y}<extra></extra>",
         "legendgroup": "2",
         "line": {
          "color": "rgb(0, 60, 170)",
          "dash": "solid"
         },
         "marker": {
          "symbol": "square",
          "size": [
           5,
           5,
           5,
           5,
           5,
           5,
           15,
           5,
           5,
           5,
           5,
           5,
           5,
           5,
           5
          ]
         },
         "mode": "lines+markers",
         "name": "2",
         "orientation": "v",
         "showlegend": true,
         "x": [
          2.0,
          4.0,
          8.0,
          17.0,
          34.0,
          68.0,
          109.0,
          136.0,
          218.0,
          436.0,
          872.0,
          1853.0,
          3706.0,
          7412.0,
          14824.0
         ],
         "xaxis": "x",
         "y": [
          33.95536718582417,
          32.10503724332548,
          30.34176001866133,
          28.92911614410929,
          28.319421425935534,
          28.18282736778536,
          28.159867882501473,
          29.479188686796963,
          32.30716563862125,
          36.465858414962824,
          40.624736724629805,
          45.14736736413473,
          49.30625044134792,
          53.46513352444133,
          57.62401660779148
         ],
         "yaxis": "y",
         "type": "scatter"
        },
        {
         "hovertemplate": "padding=3<br>Tile size=%{x}<br>log_obj_func=%{y}<extra></extra>",
         "legendgroup": "3",
         "line": {
          "color": "rgb(2, 157, 212)",
          "dash": "solid"
         },
         "marker": {
          "symbol": "x",
          "size": [
           5,
           5,
           15,
           5,
           5
          ]
         },
         "mode": "lines+markers",
         "name": "3",
         "orientation": "v",
         "showlegend": true,
         "x": [
          5.0,
          25.0,
          593.0,
          2965.0,
          14825.0
         ],
         "xaxis": "x",
         "y": [
          38.347688259161686,
          38.31168745151306,
          38.311167620749764,
          47.967793869480175,
          57.62442134319586
         ],
         "yaxis": "y",
         "type": "scatter"
        },
        {
         "hovertemplate": "padding=4<br>Tile size=%{x}<br>log_obj_func=%{y}<extra></extra>",
         "legendgroup": "4",
         "line": {
          "color": "rgb(5, 255, 255)",
          "dash": "solid"
         },
         "marker": {
          "symbol": "cross",
          "size": [
           5,
           5,
           5,
           5,
           5,
           5,
           5,
           15,
           5,
           5,
           5,
           5,
           5,
           5,
           5
          ]
         },
         "mode": "lines+markers",
         "name": "4",
         "orientation": "v",
         "showlegend": true,
         "x": [
          2.0,
          3.0,
          6.0,
          7.0,
          14.0,
          21.0,
          42.0,
          353.0,
          706.0,
          1059.0,
          2118.0,
          2471.0,
          4942.0,
          7413.0,
          14826.0
         ],
         "xaxis": "x",
         "y": [
          36.589840963229356,
          36.01397491786957,
          35.342212178884424,
          35.30792239700278,
          35.21550023166393,
          35.20505872366054,
          35.19991355650762,
          35.19882418765288,
          39.35769192164172,
          41.79048215978185,
          45.949365160495475,
          46.87426923780853,
          51.03315231936603,
          53.46594296795014,
          57.624826051300296
         ],
         "yaxis": "y",
         "type": "scatter"
        },
        {
         "hovertemplate": "padding=5<br>Tile size=%{x}<br>log_obj_func=%{y}<extra></extra>",
         "legendgroup": "5",
         "line": {
          "color": "rgb(130, 255, 128)",
          "dash": "solid"
         },
         "marker": {
          "symbol": "circle",
          "size": [
           15
          ]
         },
         "mode": "lines+markers",
         "name": "5",
         "orientation": "v",
         "showlegend": true,
         "x": [
          14827.0
         ],
         "xaxis": "x",
         "y": [
          57.62523073210846
         ],
         "yaxis": "y",
         "type": "scatter"
        },
        {
         "hovertemplate": "padding=6<br>Tile size=%{x}<br>log_obj_func=%{y}<extra></extra>",
         "legendgroup": "6",
         "line": {
          "color": "rgb(255, 255, 0)",
          "dash": "solid"
         },
         "marker": {
          "symbol": "diamond",
          "size": [
           5,
           5,
           5,
           5,
           5,
           15,
           5,
           5,
           5,
           5,
           5
          ]
         },
         "mode": "lines+markers",
         "name": "6",
         "orientation": "v",
         "showlegend": true,
         "x": [
          2.0,
          4.0,
          11.0,
          22.0,
          44.0,
          337.0,
          674.0,
          1348.0,
          3707.0,
          7414.0,
          14828.0
         ],
         "xaxis": "x",
         "y": [
          36.453970491933404,
          35.367060127299084,
          34.960802479440105,
          34.92685678823871,
          34.92166520643077,
          34.92051638559271,
          39.0793812929005,
          43.238263776649596,
          49.30786921921984,
          53.46675230227389,
          57.625635385624044
         ],
         "yaxis": "y",
         "type": "scatter"
        },
        {
         "hovertemplate": "padding=7<br>Tile size=%{x}<br>log_obj_func=%{y}<extra></extra>",
         "legendgroup": "7",
         "line": {
          "color": "rgb(252, 128, 0)",
          "dash": "solid"
         },
         "marker": {
          "symbol": "square",
          "size": [
           5,
           15,
           5
          ]
         },
         "mode": "lines+markers",
         "name": "7",
         "orientation": "v",
         "showlegend": true,
         "x": [
          3.0,
          4943.0,
          14829.0
         ],
         "xaxis": "x",
         "y": [
          51.03440011428368,
          51.03436627991641,
          57.62604001185072
         ],
         "yaxis": "y",
         "type": "scatter"
        },
        {
         "hovertemplate": "padding=8<br>Tile size=%{x}<br>log_obj_func=%{y}<extra></extra>",
         "legendgroup": "8",
         "line": {
          "color": "rgb(250, 0, 0)",
          "dash": "solid"
         },
         "marker": {
          "symbol": "x",
          "size": [
           5,
           5,
           5,
           15,
           5,
           5,
           5
          ]
         },
         "mode": "lines+markers",
         "name": "8",
         "orientation": "v",
         "showlegend": true,
         "x": [
          2.0,
          5.0,
          10.0,
          1483.0,
          2966.0,
          7415.0,
          14830.0
         ],
         "xaxis": "x",
         "y": [
          43.820629257119954,
          43.81189700127236,
          43.81106983030083,
          43.81093407196806,
          47.96981713707559,
          53.46756152744201,
          57.62644461079217
         ],
         "yaxis": "y",
         "type": "scatter"
        },
        {
         "hovertemplate": "padding=9<br>Tile size=%{x}<br>log_obj_func=%{y}<extra></extra>",
         "legendgroup": "9",
         "line": {
          "color": "rgb(189, 0, 0)",
          "dash": "solid"
         },
         "marker": {
          "symbol": "cross",
          "size": [
           15
          ]
         },
         "mode": "lines+markers",
         "name": "9",
         "orientation": "v",
         "showlegend": true,
         "x": [
          14831.0
         ],
         "xaxis": "x",
         "y": [
          57.626849182452084
         ],
         "yaxis": "y",
         "type": "scatter"
        },
        {
         "hovertemplate": "padding=10<br>Tile size=%{x}<br>log_obj_func=%{y}<extra></extra>",
         "legendgroup": "10",
         "line": {
          "color": "rgb(128, 0, 0)",
          "dash": "solid"
         },
         "marker": {
          "symbol": "circle",
          "size": [
           5,
           5,
           5,
           5,
           5,
           5,
           5,
           5,
           5,
           5,
           5,
           5,
           5,
           15,
           5,
           5,
           5,
           5,
           5,
           5,
           5,
           5,
           5,
           5,
           5,
           5,
           5,
           5,
           5
          ]
         },
         "mode": "lines+markers",
         "name": "10",
         "orientation": "v",
         "showlegend": true,
         "x": [
          2.0,
          3.0,
          4.0,
          6.0,
          8.0,
          9.0,
          12.0,
          16.0,
          18.0,
          24.0,
          36.0,
          48.0,
          72.0,
          103.0,
          144.0,
          206.0,
          309.0,
          412.0,
          618.0,
          824.0,
          927.0,
          1236.0,
          1648.0,
          1854.0,
          2472.0,
          3708.0,
          4944.0,
          7416.0,
          14832.0
         ],
         "xaxis": "x",
         "y": [
          33.84152932212447,
          32.9700763893477,
          31.987893672294973,
          30.906900426103903,
          30.20555678409657,
          29.988631241245074,
          29.28898307674756,
          28.747807510650414,
          28.58911354964536,
          28.263052434836244,
          27.996257642321275,
          27.904077113962234,
          27.846983131741435,
          27.82669484267577,
          29.821031157018968,
          31.967551067596848,
          34.40007925724178,
          36.12614729989643,
          38.55893170277604,
          40.28502344378169,
          40.99172154476699,
          42.71781386964224,
          44.44390627456371,
          45.150604483823024,
          46.87669691334007,
          49.309487560429666,
          51.03557999489977,
          53.46837064348396,
          57.62725372683413
         ],
         "yaxis": "y",
         "type": "scatter"
        }
       ],
       "layout": {
        "template": {
         "data": {
          "histogram2dcontour": [
           {
            "type": "histogram2dcontour",
            "colorbar": {
             "outlinewidth": 0,
             "ticks": ""
            },
            "colorscale": [
             [
              0.0,
              "#0d0887"
             ],
             [
              0.1111111111111111,
              "#46039f"
             ],
             [
              0.2222222222222222,
              "#7201a8"
             ],
             [
              0.3333333333333333,
              "#9c179e"
             ],
             [
              0.4444444444444444,
              "#bd3786"
             ],
             [
              0.5555555555555556,
              "#d8576b"
             ],
             [
              0.6666666666666666,
              "#ed7953"
             ],
             [
              0.7777777777777778,
              "#fb9f3a"
             ],
             [
              0.8888888888888888,
              "#fdca26"
             ],
             [
              1.0,
              "#f0f921"
             ]
            ]
           }
          ],
          "choropleth": [
           {
            "type": "choropleth",
            "colorbar": {
             "outlinewidth": 0,
             "ticks": ""
            }
           }
          ],
          "histogram2d": [
           {
            "type": "histogram2d",
            "colorbar": {
             "outlinewidth": 0,
             "ticks": ""
            },
            "colorscale": [
             [
              0.0,
              "#0d0887"
             ],
             [
              0.1111111111111111,
              "#46039f"
             ],
             [
              0.2222222222222222,
              "#7201a8"
             ],
             [
              0.3333333333333333,
              "#9c179e"
             ],
             [
              0.4444444444444444,
              "#bd3786"
             ],
             [
              0.5555555555555556,
              "#d8576b"
             ],
             [
              0.6666666666666666,
              "#ed7953"
             ],
             [
              0.7777777777777778,
              "#fb9f3a"
             ],
             [
              0.8888888888888888,
              "#fdca26"
             ],
             [
              1.0,
              "#f0f921"
             ]
            ]
           }
          ],
          "heatmap": [
           {
            "type": "heatmap",
            "colorbar": {
             "outlinewidth": 0,
             "ticks": ""
            },
            "colorscale": [
             [
              0.0,
              "#0d0887"
             ],
             [
              0.1111111111111111,
              "#46039f"
             ],
             [
              0.2222222222222222,
              "#7201a8"
             ],
             [
              0.3333333333333333,
              "#9c179e"
             ],
             [
              0.4444444444444444,
              "#bd3786"
             ],
             [
              0.5555555555555556,
              "#d8576b"
             ],
             [
              0.6666666666666666,
              "#ed7953"
             ],
             [
              0.7777777777777778,
              "#fb9f3a"
             ],
             [
              0.8888888888888888,
              "#fdca26"
             ],
             [
              1.0,
              "#f0f921"
             ]
            ]
           }
          ],
          "heatmapgl": [
           {
            "type": "heatmapgl",
            "colorbar": {
             "outlinewidth": 0,
             "ticks": ""
            },
            "colorscale": [
             [
              0.0,
              "#0d0887"
             ],
             [
              0.1111111111111111,
              "#46039f"
             ],
             [
              0.2222222222222222,
              "#7201a8"
             ],
             [
              0.3333333333333333,
              "#9c179e"
             ],
             [
              0.4444444444444444,
              "#bd3786"
             ],
             [
              0.5555555555555556,
              "#d8576b"
             ],
             [
              0.6666666666666666,
              "#ed7953"
             ],
             [
              0.7777777777777778,
              "#fb9f3a"
             ],
             [
              0.8888888888888888,
              "#fdca26"
             ],
             [
              1.0,
              "#f0f921"
             ]
            ]
           }
          ],
          "contourcarpet": [
           {
            "type": "contourcarpet",
            "colorbar": {
             "outlinewidth": 0,
             "ticks": ""
            }
           }
          ],
          "contour": [
           {
            "type": "contour",
            "colorbar": {
             "outlinewidth": 0,
             "ticks": ""
            },
            "colorscale": [
             [
              0.0,
              "#0d0887"
             ],
             [
              0.1111111111111111,
              "#46039f"
             ],
             [
              0.2222222222222222,
              "#7201a8"
             ],
             [
              0.3333333333333333,
              "#9c179e"
             ],
             [
              0.4444444444444444,
              "#bd3786"
             ],
             [
              0.5555555555555556,
              "#d8576b"
             ],
             [
              0.6666666666666666,
              "#ed7953"
             ],
             [
              0.7777777777777778,
              "#fb9f3a"
             ],
             [
              0.8888888888888888,
              "#fdca26"
             ],
             [
              1.0,
              "#f0f921"
             ]
            ]
           }
          ],
          "surface": [
           {
            "type": "surface",
            "colorbar": {
             "outlinewidth": 0,
             "ticks": ""
            },
            "colorscale": [
             [
              0.0,
              "#0d0887"
             ],
             [
              0.1111111111111111,
              "#46039f"
             ],
             [
              0.2222222222222222,
              "#7201a8"
             ],
             [
              0.3333333333333333,
              "#9c179e"
             ],
             [
              0.4444444444444444,
              "#bd3786"
             ],
             [
              0.5555555555555556,
              "#d8576b"
             ],
             [
              0.6666666666666666,
              "#ed7953"
             ],
             [
              0.7777777777777778,
              "#fb9f3a"
             ],
             [
              0.8888888888888888,
              "#fdca26"
             ],
             [
              1.0,
              "#f0f921"
             ]
            ]
           }
          ],
          "mesh3d": [
           {
            "type": "mesh3d",
            "colorbar": {
             "outlinewidth": 0,
             "ticks": ""
            }
           }
          ],
          "scatter": [
           {
            "marker": {
             "line": {
              "color": "#283442"
             }
            },
            "type": "scatter"
           }
          ],
          "parcoords": [
           {
            "type": "parcoords",
            "line": {
             "colorbar": {
              "outlinewidth": 0,
              "ticks": ""
             }
            }
           }
          ],
          "scatterpolargl": [
           {
            "type": "scatterpolargl",
            "marker": {
             "colorbar": {
              "outlinewidth": 0,
              "ticks": ""
             }
            }
           }
          ],
          "bar": [
           {
            "error_x": {
             "color": "#f2f5fa"
            },
            "error_y": {
             "color": "#f2f5fa"
            },
            "marker": {
             "line": {
              "color": "rgb(17,17,17)",
              "width": 0.5
             },
             "pattern": {
              "fillmode": "overlay",
              "size": 10,
              "solidity": 0.2
             }
            },
            "type": "bar"
           }
          ],
          "scattergeo": [
           {
            "type": "scattergeo",
            "marker": {
             "colorbar": {
              "outlinewidth": 0,
              "ticks": ""
             }
            }
           }
          ],
          "scatterpolar": [
           {
            "type": "scatterpolar",
            "marker": {
             "colorbar": {
              "outlinewidth": 0,
              "ticks": ""
             }
            }
           }
          ],
          "histogram": [
           {
            "marker": {
             "pattern": {
              "fillmode": "overlay",
              "size": 10,
              "solidity": 0.2
             }
            },
            "type": "histogram"
           }
          ],
          "scattergl": [
           {
            "marker": {
             "line": {
              "color": "#283442"
             }
            },
            "type": "scattergl"
           }
          ],
          "scatter3d": [
           {
            "type": "scatter3d",
            "line": {
             "colorbar": {
              "outlinewidth": 0,
              "ticks": ""
             }
            },
            "marker": {
             "colorbar": {
              "outlinewidth": 0,
              "ticks": ""
             }
            }
           }
          ],
          "scattermapbox": [
           {
            "type": "scattermapbox",
            "marker": {
             "colorbar": {
              "outlinewidth": 0,
              "ticks": ""
             }
            }
           }
          ],
          "scatterternary": [
           {
            "type": "scatterternary",
            "marker": {
             "colorbar": {
              "outlinewidth": 0,
              "ticks": ""
             }
            }
           }
          ],
          "scattercarpet": [
           {
            "type": "scattercarpet",
            "marker": {
             "colorbar": {
              "outlinewidth": 0,
              "ticks": ""
             }
            }
           }
          ],
          "carpet": [
           {
            "aaxis": {
             "endlinecolor": "#A2B1C6",
             "gridcolor": "#506784",
             "linecolor": "#506784",
             "minorgridcolor": "#506784",
             "startlinecolor": "#A2B1C6"
            },
            "baxis": {
             "endlinecolor": "#A2B1C6",
             "gridcolor": "#506784",
             "linecolor": "#506784",
             "minorgridcolor": "#506784",
             "startlinecolor": "#A2B1C6"
            },
            "type": "carpet"
           }
          ],
          "table": [
           {
            "cells": {
             "fill": {
              "color": "#506784"
             },
             "line": {
              "color": "rgb(17,17,17)"
             }
            },
            "header": {
             "fill": {
              "color": "#2a3f5f"
             },
             "line": {
              "color": "rgb(17,17,17)"
             }
            },
            "type": "table"
           }
          ],
          "barpolar": [
           {
            "marker": {
             "line": {
              "color": "rgb(17,17,17)",
              "width": 0.5
             },
             "pattern": {
              "fillmode": "overlay",
              "size": 10,
              "solidity": 0.2
             }
            },
            "type": "barpolar"
           }
          ],
          "pie": [
           {
            "automargin": true,
            "type": "pie"
           }
          ]
         },
         "layout": {
          "autotypenumbers": "strict",
          "colorway": [
           "#636efa",
           "#EF553B",
           "#00cc96",
           "#ab63fa",
           "#FFA15A",
           "#19d3f3",
           "#FF6692",
           "#B6E880",
           "#FF97FF",
           "#FECB52"
          ],
          "font": {
           "color": "#f2f5fa"
          },
          "hovermode": "closest",
          "hoverlabel": {
           "align": "left"
          },
          "paper_bgcolor": "rgb(17,17,17)",
          "plot_bgcolor": "rgb(17,17,17)",
          "polar": {
           "bgcolor": "rgb(17,17,17)",
           "angularaxis": {
            "gridcolor": "#506784",
            "linecolor": "#506784",
            "ticks": ""
           },
           "radialaxis": {
            "gridcolor": "#506784",
            "linecolor": "#506784",
            "ticks": ""
           }
          },
          "ternary": {
           "bgcolor": "rgb(17,17,17)",
           "aaxis": {
            "gridcolor": "#506784",
            "linecolor": "#506784",
            "ticks": ""
           },
           "baxis": {
            "gridcolor": "#506784",
            "linecolor": "#506784",
            "ticks": ""
           },
           "caxis": {
            "gridcolor": "#506784",
            "linecolor": "#506784",
            "ticks": ""
           }
          },
          "coloraxis": {
           "colorbar": {
            "outlinewidth": 0,
            "ticks": ""
           }
          },
          "colorscale": {
           "sequential": [
            [
             0.0,
             "#0d0887"
            ],
            [
             0.1111111111111111,
             "#46039f"
            ],
            [
             0.2222222222222222,
             "#7201a8"
            ],
            [
             0.3333333333333333,
             "#9c179e"
            ],
            [
             0.4444444444444444,
             "#bd3786"
            ],
            [
             0.5555555555555556,
             "#d8576b"
            ],
            [
             0.6666666666666666,
             "#ed7953"
            ],
            [
             0.7777777777777778,
             "#fb9f3a"
            ],
            [
             0.8888888888888888,
             "#fdca26"
            ],
            [
             1.0,
             "#f0f921"
            ]
           ],
           "sequentialminus": [
            [
             0.0,
             "#0d0887"
            ],
            [
             0.1111111111111111,
             "#46039f"
            ],
            [
             0.2222222222222222,
             "#7201a8"
            ],
            [
             0.3333333333333333,
             "#9c179e"
            ],
            [
             0.4444444444444444,
             "#bd3786"
            ],
            [
             0.5555555555555556,
             "#d8576b"
            ],
            [
             0.6666666666666666,
             "#ed7953"
            ],
            [
             0.7777777777777778,
             "#fb9f3a"
            ],
            [
             0.8888888888888888,
             "#fdca26"
            ],
            [
             1.0,
             "#f0f921"
            ]
           ],
           "diverging": [
            [
             0,
             "#8e0152"
            ],
            [
             0.1,
             "#c51b7d"
            ],
            [
             0.2,
             "#de77ae"
            ],
            [
             0.3,
             "#f1b6da"
            ],
            [
             0.4,
             "#fde0ef"
            ],
            [
             0.5,
             "#f7f7f7"
            ],
            [
             0.6,
             "#e6f5d0"
            ],
            [
             0.7,
             "#b8e186"
            ],
            [
             0.8,
             "#7fbc41"
            ],
            [
             0.9,
             "#4d9221"
            ],
            [
             1,
             "#276419"
            ]
           ]
          },
          "xaxis": {
           "gridcolor": "#283442",
           "linecolor": "#506784",
           "ticks": "",
           "title": {
            "standoff": 15
           },
           "zerolinecolor": "#283442",
           "automargin": true,
           "zerolinewidth": 2
          },
          "yaxis": {
           "gridcolor": "#283442",
           "linecolor": "#506784",
           "ticks": "",
           "title": {
            "standoff": 15
           },
           "zerolinecolor": "#283442",
           "automargin": true,
           "zerolinewidth": 2
          },
          "scene": {
           "xaxis": {
            "backgroundcolor": "rgb(17,17,17)",
            "gridcolor": "#506784",
            "linecolor": "#506784",
            "showbackground": true,
            "ticks": "",
            "zerolinecolor": "#C8D4E3",
            "gridwidth": 2
           },
           "yaxis": {
            "backgroundcolor": "rgb(17,17,17)",
            "gridcolor": "#506784",
            "linecolor": "#506784",
            "showbackground": true,
            "ticks": "",
            "zerolinecolor": "#C8D4E3",
            "gridwidth": 2
           },
           "zaxis": {
            "backgroundcolor": "rgb(17,17,17)",
            "gridcolor": "#506784",
            "linecolor": "#506784",
            "showbackground": true,
            "ticks": "",
            "zerolinecolor": "#C8D4E3",
            "gridwidth": 2
           }
          },
          "shapedefaults": {
           "line": {
            "color": "#f2f5fa"
           }
          },
          "annotationdefaults": {
           "arrowcolor": "#f2f5fa",
           "arrowhead": 0,
           "arrowwidth": 1
          },
          "geo": {
           "bgcolor": "rgb(17,17,17)",
           "landcolor": "rgb(17,17,17)",
           "subunitcolor": "#506784",
           "showland": true,
           "showlakes": true,
           "lakecolor": "rgb(17,17,17)"
          },
          "title": {
           "x": 0.05
          },
          "updatemenudefaults": {
           "bgcolor": "#506784",
           "borderwidth": 0
          },
          "sliderdefaults": {
           "bgcolor": "#C8D4E3",
           "borderwidth": 1,
           "bordercolor": "rgb(17,17,17)",
           "tickwidth": 0
          },
          "mapbox": {
           "style": "dark"
          }
         }
        },
        "xaxis": {
         "anchor": "y",
         "domain": [
          0.0,
          1.0
         ],
         "title": {
          "text": "Tile size"
         },
         "type": "log"
        },
        "yaxis": {
         "anchor": "x",
         "domain": [
          0.0,
          1.0
         ],
         "title": {
          "text": "$\\log(I^6 + rI^3 + r^2I^2)$"
         }
        },
        "legend": {
         "title": {
          "text": "padding"
         },
         "tracegroupgap": 0
        },
        "margin": {
         "t": 60
        },
        "title": {
         "text": "Influence of tile size choice and padding on TT-MALS runtime (Pres_Poisson)",
         "x": 0.5,
         "xanchor": "center",
         "yanchor": "top"
        },
        "font": {
         "color": "black"
        },
        "plot_bgcolor": "white",
        "paper_bgcolor": "white"
       },
       "config": {
        "plotlyServerURL": "https://plot.ly"
       }
      },
      "text/html": [
       "<div>                            <div id=\"35832f70-cf33-4d77-bf09-04a6cfaedd6f\" class=\"plotly-graph-div\" style=\"height:525px; width:100%;\"></div>            <script type=\"text/javascript\">                require([\"plotly\"], function(Plotly) {                    window.PLOTLYENV=window.PLOTLYENV || {};                                    if (document.getElementById(\"35832f70-cf33-4d77-bf09-04a6cfaedd6f\")) {                    Plotly.newPlot(                        \"35832f70-cf33-4d77-bf09-04a6cfaedd6f\",                        [{\"hovertemplate\":\"padding=0\\u003cbr\\u003eTile size=%{x}\\u003cbr\\u003elog_obj_func=%{y}\\u003cextra\\u003e\\u003c\\u002fextra\\u003e\",\"legendgroup\":\"0\",\"line\":{\"color\":\"rgb(0, 0, 131)\",\"dash\":\"solid\"},\"marker\":{\"symbol\":\"circle\",\"size\":[5,15,5]},\"mode\":\"lines+markers\",\"name\":\"0\",\"orientation\":\"v\",\"showlegend\":true,\"x\":[2.0,7411.0,14822.0],\"xaxis\":\"x\",\"y\":[53.46434001758422,53.46432397171799,57.62320705506813],\"yaxis\":\"y\",\"type\":\"scatter\"},{\"hovertemplate\":\"padding=1\\u003cbr\\u003eTile size=%{x}\\u003cbr\\u003elog_obj_func=%{y}\\u003cextra\\u003e\\u003c\\u002fextra\\u003e\",\"legendgroup\":\"1\",\"line\":{\"color\":\"rgb(0, 30, 150)\",\"dash\":\"solid\"},\"marker\":{\"symbol\":\"diamond\",\"size\":[5,5,5,15,5,5,5,5,5,5,5]},\"mode\":\"lines+markers\",\"name\":\"1\",\"orientation\":\"v\",\"showlegend\":true,\"x\":[3.0,9.0,27.0,61.0,81.0,183.0,243.0,549.0,1647.0,4941.0,14823.0],\"xaxis\":\"x\",\"y\":[31.91698343664304,28.83509290239489,26.171572047526492,25.05410120388311,26.44185493217354,31.25748066413288,32.958482075594205,37.84859235057092,44.44026439283468,51.031938113149245,57.62361184508347],\"yaxis\":\"y\",\"type\":\"scatter\"},{\"hovertemplate\":\"padding=2\\u003cbr\\u003eTile size=%{x}\\u003cbr\\u003elog_obj_func=%{y}\\u003cextra\\u003e\\u003c\\u002fextra\\u003e\",\"legendgroup\":\"2\",\"line\":{\"color\":\"rgb(0, 60, 170)\",\"dash\":\"solid\"},\"marker\":{\"symbol\":\"square\",\"size\":[5,5,5,5,5,5,15,5,5,5,5,5,5,5,5]},\"mode\":\"lines+markers\",\"name\":\"2\",\"orientation\":\"v\",\"showlegend\":true,\"x\":[2.0,4.0,8.0,17.0,34.0,68.0,109.0,136.0,218.0,436.0,872.0,1853.0,3706.0,7412.0,14824.0],\"xaxis\":\"x\",\"y\":[33.95536718582417,32.10503724332548,30.34176001866133,28.92911614410929,28.319421425935534,28.18282736778536,28.159867882501473,29.479188686796963,32.30716563862125,36.465858414962824,40.624736724629805,45.14736736413473,49.30625044134792,53.46513352444133,57.62401660779148],\"yaxis\":\"y\",\"type\":\"scatter\"},{\"hovertemplate\":\"padding=3\\u003cbr\\u003eTile size=%{x}\\u003cbr\\u003elog_obj_func=%{y}\\u003cextra\\u003e\\u003c\\u002fextra\\u003e\",\"legendgroup\":\"3\",\"line\":{\"color\":\"rgb(2, 157, 212)\",\"dash\":\"solid\"},\"marker\":{\"symbol\":\"x\",\"size\":[5,5,15,5,5]},\"mode\":\"lines+markers\",\"name\":\"3\",\"orientation\":\"v\",\"showlegend\":true,\"x\":[5.0,25.0,593.0,2965.0,14825.0],\"xaxis\":\"x\",\"y\":[38.347688259161686,38.31168745151306,38.311167620749764,47.967793869480175,57.62442134319586],\"yaxis\":\"y\",\"type\":\"scatter\"},{\"hovertemplate\":\"padding=4\\u003cbr\\u003eTile size=%{x}\\u003cbr\\u003elog_obj_func=%{y}\\u003cextra\\u003e\\u003c\\u002fextra\\u003e\",\"legendgroup\":\"4\",\"line\":{\"color\":\"rgb(5, 255, 255)\",\"dash\":\"solid\"},\"marker\":{\"symbol\":\"cross\",\"size\":[5,5,5,5,5,5,5,15,5,5,5,5,5,5,5]},\"mode\":\"lines+markers\",\"name\":\"4\",\"orientation\":\"v\",\"showlegend\":true,\"x\":[2.0,3.0,6.0,7.0,14.0,21.0,42.0,353.0,706.0,1059.0,2118.0,2471.0,4942.0,7413.0,14826.0],\"xaxis\":\"x\",\"y\":[36.589840963229356,36.01397491786957,35.342212178884424,35.30792239700278,35.21550023166393,35.20505872366054,35.19991355650762,35.19882418765288,39.35769192164172,41.79048215978185,45.949365160495475,46.87426923780853,51.03315231936603,53.46594296795014,57.624826051300296],\"yaxis\":\"y\",\"type\":\"scatter\"},{\"hovertemplate\":\"padding=5\\u003cbr\\u003eTile size=%{x}\\u003cbr\\u003elog_obj_func=%{y}\\u003cextra\\u003e\\u003c\\u002fextra\\u003e\",\"legendgroup\":\"5\",\"line\":{\"color\":\"rgb(130, 255, 128)\",\"dash\":\"solid\"},\"marker\":{\"symbol\":\"circle\",\"size\":[15]},\"mode\":\"lines+markers\",\"name\":\"5\",\"orientation\":\"v\",\"showlegend\":true,\"x\":[14827.0],\"xaxis\":\"x\",\"y\":[57.62523073210846],\"yaxis\":\"y\",\"type\":\"scatter\"},{\"hovertemplate\":\"padding=6\\u003cbr\\u003eTile size=%{x}\\u003cbr\\u003elog_obj_func=%{y}\\u003cextra\\u003e\\u003c\\u002fextra\\u003e\",\"legendgroup\":\"6\",\"line\":{\"color\":\"rgb(255, 255, 0)\",\"dash\":\"solid\"},\"marker\":{\"symbol\":\"diamond\",\"size\":[5,5,5,5,5,15,5,5,5,5,5]},\"mode\":\"lines+markers\",\"name\":\"6\",\"orientation\":\"v\",\"showlegend\":true,\"x\":[2.0,4.0,11.0,22.0,44.0,337.0,674.0,1348.0,3707.0,7414.0,14828.0],\"xaxis\":\"x\",\"y\":[36.453970491933404,35.367060127299084,34.960802479440105,34.92685678823871,34.92166520643077,34.92051638559271,39.0793812929005,43.238263776649596,49.30786921921984,53.46675230227389,57.625635385624044],\"yaxis\":\"y\",\"type\":\"scatter\"},{\"hovertemplate\":\"padding=7\\u003cbr\\u003eTile size=%{x}\\u003cbr\\u003elog_obj_func=%{y}\\u003cextra\\u003e\\u003c\\u002fextra\\u003e\",\"legendgroup\":\"7\",\"line\":{\"color\":\"rgb(252, 128, 0)\",\"dash\":\"solid\"},\"marker\":{\"symbol\":\"square\",\"size\":[5,15,5]},\"mode\":\"lines+markers\",\"name\":\"7\",\"orientation\":\"v\",\"showlegend\":true,\"x\":[3.0,4943.0,14829.0],\"xaxis\":\"x\",\"y\":[51.03440011428368,51.03436627991641,57.62604001185072],\"yaxis\":\"y\",\"type\":\"scatter\"},{\"hovertemplate\":\"padding=8\\u003cbr\\u003eTile size=%{x}\\u003cbr\\u003elog_obj_func=%{y}\\u003cextra\\u003e\\u003c\\u002fextra\\u003e\",\"legendgroup\":\"8\",\"line\":{\"color\":\"rgb(250, 0, 0)\",\"dash\":\"solid\"},\"marker\":{\"symbol\":\"x\",\"size\":[5,5,5,15,5,5,5]},\"mode\":\"lines+markers\",\"name\":\"8\",\"orientation\":\"v\",\"showlegend\":true,\"x\":[2.0,5.0,10.0,1483.0,2966.0,7415.0,14830.0],\"xaxis\":\"x\",\"y\":[43.820629257119954,43.81189700127236,43.81106983030083,43.81093407196806,47.96981713707559,53.46756152744201,57.62644461079217],\"yaxis\":\"y\",\"type\":\"scatter\"},{\"hovertemplate\":\"padding=9\\u003cbr\\u003eTile size=%{x}\\u003cbr\\u003elog_obj_func=%{y}\\u003cextra\\u003e\\u003c\\u002fextra\\u003e\",\"legendgroup\":\"9\",\"line\":{\"color\":\"rgb(189, 0, 0)\",\"dash\":\"solid\"},\"marker\":{\"symbol\":\"cross\",\"size\":[15]},\"mode\":\"lines+markers\",\"name\":\"9\",\"orientation\":\"v\",\"showlegend\":true,\"x\":[14831.0],\"xaxis\":\"x\",\"y\":[57.626849182452084],\"yaxis\":\"y\",\"type\":\"scatter\"},{\"hovertemplate\":\"padding=10\\u003cbr\\u003eTile size=%{x}\\u003cbr\\u003elog_obj_func=%{y}\\u003cextra\\u003e\\u003c\\u002fextra\\u003e\",\"legendgroup\":\"10\",\"line\":{\"color\":\"rgb(128, 0, 0)\",\"dash\":\"solid\"},\"marker\":{\"symbol\":\"circle\",\"size\":[5,5,5,5,5,5,5,5,5,5,5,5,5,15,5,5,5,5,5,5,5,5,5,5,5,5,5,5,5]},\"mode\":\"lines+markers\",\"name\":\"10\",\"orientation\":\"v\",\"showlegend\":true,\"x\":[2.0,3.0,4.0,6.0,8.0,9.0,12.0,16.0,18.0,24.0,36.0,48.0,72.0,103.0,144.0,206.0,309.0,412.0,618.0,824.0,927.0,1236.0,1648.0,1854.0,2472.0,3708.0,4944.0,7416.0,14832.0],\"xaxis\":\"x\",\"y\":[33.84152932212447,32.9700763893477,31.987893672294973,30.906900426103903,30.20555678409657,29.988631241245074,29.28898307674756,28.747807510650414,28.58911354964536,28.263052434836244,27.996257642321275,27.904077113962234,27.846983131741435,27.82669484267577,29.821031157018968,31.967551067596848,34.40007925724178,36.12614729989643,38.55893170277604,40.28502344378169,40.99172154476699,42.71781386964224,44.44390627456371,45.150604483823024,46.87669691334007,49.309487560429666,51.03557999489977,53.46837064348396,57.62725372683413],\"yaxis\":\"y\",\"type\":\"scatter\"}],                        {\"template\":{\"data\":{\"histogram2dcontour\":[{\"type\":\"histogram2dcontour\",\"colorbar\":{\"outlinewidth\":0,\"ticks\":\"\"},\"colorscale\":[[0.0,\"#0d0887\"],[0.1111111111111111,\"#46039f\"],[0.2222222222222222,\"#7201a8\"],[0.3333333333333333,\"#9c179e\"],[0.4444444444444444,\"#bd3786\"],[0.5555555555555556,\"#d8576b\"],[0.6666666666666666,\"#ed7953\"],[0.7777777777777778,\"#fb9f3a\"],[0.8888888888888888,\"#fdca26\"],[1.0,\"#f0f921\"]]}],\"choropleth\":[{\"type\":\"choropleth\",\"colorbar\":{\"outlinewidth\":0,\"ticks\":\"\"}}],\"histogram2d\":[{\"type\":\"histogram2d\",\"colorbar\":{\"outlinewidth\":0,\"ticks\":\"\"},\"colorscale\":[[0.0,\"#0d0887\"],[0.1111111111111111,\"#46039f\"],[0.2222222222222222,\"#7201a8\"],[0.3333333333333333,\"#9c179e\"],[0.4444444444444444,\"#bd3786\"],[0.5555555555555556,\"#d8576b\"],[0.6666666666666666,\"#ed7953\"],[0.7777777777777778,\"#fb9f3a\"],[0.8888888888888888,\"#fdca26\"],[1.0,\"#f0f921\"]]}],\"heatmap\":[{\"type\":\"heatmap\",\"colorbar\":{\"outlinewidth\":0,\"ticks\":\"\"},\"colorscale\":[[0.0,\"#0d0887\"],[0.1111111111111111,\"#46039f\"],[0.2222222222222222,\"#7201a8\"],[0.3333333333333333,\"#9c179e\"],[0.4444444444444444,\"#bd3786\"],[0.5555555555555556,\"#d8576b\"],[0.6666666666666666,\"#ed7953\"],[0.7777777777777778,\"#fb9f3a\"],[0.8888888888888888,\"#fdca26\"],[1.0,\"#f0f921\"]]}],\"heatmapgl\":[{\"type\":\"heatmapgl\",\"colorbar\":{\"outlinewidth\":0,\"ticks\":\"\"},\"colorscale\":[[0.0,\"#0d0887\"],[0.1111111111111111,\"#46039f\"],[0.2222222222222222,\"#7201a8\"],[0.3333333333333333,\"#9c179e\"],[0.4444444444444444,\"#bd3786\"],[0.5555555555555556,\"#d8576b\"],[0.6666666666666666,\"#ed7953\"],[0.7777777777777778,\"#fb9f3a\"],[0.8888888888888888,\"#fdca26\"],[1.0,\"#f0f921\"]]}],\"contourcarpet\":[{\"type\":\"contourcarpet\",\"colorbar\":{\"outlinewidth\":0,\"ticks\":\"\"}}],\"contour\":[{\"type\":\"contour\",\"colorbar\":{\"outlinewidth\":0,\"ticks\":\"\"},\"colorscale\":[[0.0,\"#0d0887\"],[0.1111111111111111,\"#46039f\"],[0.2222222222222222,\"#7201a8\"],[0.3333333333333333,\"#9c179e\"],[0.4444444444444444,\"#bd3786\"],[0.5555555555555556,\"#d8576b\"],[0.6666666666666666,\"#ed7953\"],[0.7777777777777778,\"#fb9f3a\"],[0.8888888888888888,\"#fdca26\"],[1.0,\"#f0f921\"]]}],\"surface\":[{\"type\":\"surface\",\"colorbar\":{\"outlinewidth\":0,\"ticks\":\"\"},\"colorscale\":[[0.0,\"#0d0887\"],[0.1111111111111111,\"#46039f\"],[0.2222222222222222,\"#7201a8\"],[0.3333333333333333,\"#9c179e\"],[0.4444444444444444,\"#bd3786\"],[0.5555555555555556,\"#d8576b\"],[0.6666666666666666,\"#ed7953\"],[0.7777777777777778,\"#fb9f3a\"],[0.8888888888888888,\"#fdca26\"],[1.0,\"#f0f921\"]]}],\"mesh3d\":[{\"type\":\"mesh3d\",\"colorbar\":{\"outlinewidth\":0,\"ticks\":\"\"}}],\"scatter\":[{\"marker\":{\"line\":{\"color\":\"#283442\"}},\"type\":\"scatter\"}],\"parcoords\":[{\"type\":\"parcoords\",\"line\":{\"colorbar\":{\"outlinewidth\":0,\"ticks\":\"\"}}}],\"scatterpolargl\":[{\"type\":\"scatterpolargl\",\"marker\":{\"colorbar\":{\"outlinewidth\":0,\"ticks\":\"\"}}}],\"bar\":[{\"error_x\":{\"color\":\"#f2f5fa\"},\"error_y\":{\"color\":\"#f2f5fa\"},\"marker\":{\"line\":{\"color\":\"rgb(17,17,17)\",\"width\":0.5},\"pattern\":{\"fillmode\":\"overlay\",\"size\":10,\"solidity\":0.2}},\"type\":\"bar\"}],\"scattergeo\":[{\"type\":\"scattergeo\",\"marker\":{\"colorbar\":{\"outlinewidth\":0,\"ticks\":\"\"}}}],\"scatterpolar\":[{\"type\":\"scatterpolar\",\"marker\":{\"colorbar\":{\"outlinewidth\":0,\"ticks\":\"\"}}}],\"histogram\":[{\"marker\":{\"pattern\":{\"fillmode\":\"overlay\",\"size\":10,\"solidity\":0.2}},\"type\":\"histogram\"}],\"scattergl\":[{\"marker\":{\"line\":{\"color\":\"#283442\"}},\"type\":\"scattergl\"}],\"scatter3d\":[{\"type\":\"scatter3d\",\"line\":{\"colorbar\":{\"outlinewidth\":0,\"ticks\":\"\"}},\"marker\":{\"colorbar\":{\"outlinewidth\":0,\"ticks\":\"\"}}}],\"scattermapbox\":[{\"type\":\"scattermapbox\",\"marker\":{\"colorbar\":{\"outlinewidth\":0,\"ticks\":\"\"}}}],\"scatterternary\":[{\"type\":\"scatterternary\",\"marker\":{\"colorbar\":{\"outlinewidth\":0,\"ticks\":\"\"}}}],\"scattercarpet\":[{\"type\":\"scattercarpet\",\"marker\":{\"colorbar\":{\"outlinewidth\":0,\"ticks\":\"\"}}}],\"carpet\":[{\"aaxis\":{\"endlinecolor\":\"#A2B1C6\",\"gridcolor\":\"#506784\",\"linecolor\":\"#506784\",\"minorgridcolor\":\"#506784\",\"startlinecolor\":\"#A2B1C6\"},\"baxis\":{\"endlinecolor\":\"#A2B1C6\",\"gridcolor\":\"#506784\",\"linecolor\":\"#506784\",\"minorgridcolor\":\"#506784\",\"startlinecolor\":\"#A2B1C6\"},\"type\":\"carpet\"}],\"table\":[{\"cells\":{\"fill\":{\"color\":\"#506784\"},\"line\":{\"color\":\"rgb(17,17,17)\"}},\"header\":{\"fill\":{\"color\":\"#2a3f5f\"},\"line\":{\"color\":\"rgb(17,17,17)\"}},\"type\":\"table\"}],\"barpolar\":[{\"marker\":{\"line\":{\"color\":\"rgb(17,17,17)\",\"width\":0.5},\"pattern\":{\"fillmode\":\"overlay\",\"size\":10,\"solidity\":0.2}},\"type\":\"barpolar\"}],\"pie\":[{\"automargin\":true,\"type\":\"pie\"}]},\"layout\":{\"autotypenumbers\":\"strict\",\"colorway\":[\"#636efa\",\"#EF553B\",\"#00cc96\",\"#ab63fa\",\"#FFA15A\",\"#19d3f3\",\"#FF6692\",\"#B6E880\",\"#FF97FF\",\"#FECB52\"],\"font\":{\"color\":\"#f2f5fa\"},\"hovermode\":\"closest\",\"hoverlabel\":{\"align\":\"left\"},\"paper_bgcolor\":\"rgb(17,17,17)\",\"plot_bgcolor\":\"rgb(17,17,17)\",\"polar\":{\"bgcolor\":\"rgb(17,17,17)\",\"angularaxis\":{\"gridcolor\":\"#506784\",\"linecolor\":\"#506784\",\"ticks\":\"\"},\"radialaxis\":{\"gridcolor\":\"#506784\",\"linecolor\":\"#506784\",\"ticks\":\"\"}},\"ternary\":{\"bgcolor\":\"rgb(17,17,17)\",\"aaxis\":{\"gridcolor\":\"#506784\",\"linecolor\":\"#506784\",\"ticks\":\"\"},\"baxis\":{\"gridcolor\":\"#506784\",\"linecolor\":\"#506784\",\"ticks\":\"\"},\"caxis\":{\"gridcolor\":\"#506784\",\"linecolor\":\"#506784\",\"ticks\":\"\"}},\"coloraxis\":{\"colorbar\":{\"outlinewidth\":0,\"ticks\":\"\"}},\"colorscale\":{\"sequential\":[[0.0,\"#0d0887\"],[0.1111111111111111,\"#46039f\"],[0.2222222222222222,\"#7201a8\"],[0.3333333333333333,\"#9c179e\"],[0.4444444444444444,\"#bd3786\"],[0.5555555555555556,\"#d8576b\"],[0.6666666666666666,\"#ed7953\"],[0.7777777777777778,\"#fb9f3a\"],[0.8888888888888888,\"#fdca26\"],[1.0,\"#f0f921\"]],\"sequentialminus\":[[0.0,\"#0d0887\"],[0.1111111111111111,\"#46039f\"],[0.2222222222222222,\"#7201a8\"],[0.3333333333333333,\"#9c179e\"],[0.4444444444444444,\"#bd3786\"],[0.5555555555555556,\"#d8576b\"],[0.6666666666666666,\"#ed7953\"],[0.7777777777777778,\"#fb9f3a\"],[0.8888888888888888,\"#fdca26\"],[1.0,\"#f0f921\"]],\"diverging\":[[0,\"#8e0152\"],[0.1,\"#c51b7d\"],[0.2,\"#de77ae\"],[0.3,\"#f1b6da\"],[0.4,\"#fde0ef\"],[0.5,\"#f7f7f7\"],[0.6,\"#e6f5d0\"],[0.7,\"#b8e186\"],[0.8,\"#7fbc41\"],[0.9,\"#4d9221\"],[1,\"#276419\"]]},\"xaxis\":{\"gridcolor\":\"#283442\",\"linecolor\":\"#506784\",\"ticks\":\"\",\"title\":{\"standoff\":15},\"zerolinecolor\":\"#283442\",\"automargin\":true,\"zerolinewidth\":2},\"yaxis\":{\"gridcolor\":\"#283442\",\"linecolor\":\"#506784\",\"ticks\":\"\",\"title\":{\"standoff\":15},\"zerolinecolor\":\"#283442\",\"automargin\":true,\"zerolinewidth\":2},\"scene\":{\"xaxis\":{\"backgroundcolor\":\"rgb(17,17,17)\",\"gridcolor\":\"#506784\",\"linecolor\":\"#506784\",\"showbackground\":true,\"ticks\":\"\",\"zerolinecolor\":\"#C8D4E3\",\"gridwidth\":2},\"yaxis\":{\"backgroundcolor\":\"rgb(17,17,17)\",\"gridcolor\":\"#506784\",\"linecolor\":\"#506784\",\"showbackground\":true,\"ticks\":\"\",\"zerolinecolor\":\"#C8D4E3\",\"gridwidth\":2},\"zaxis\":{\"backgroundcolor\":\"rgb(17,17,17)\",\"gridcolor\":\"#506784\",\"linecolor\":\"#506784\",\"showbackground\":true,\"ticks\":\"\",\"zerolinecolor\":\"#C8D4E3\",\"gridwidth\":2}},\"shapedefaults\":{\"line\":{\"color\":\"#f2f5fa\"}},\"annotationdefaults\":{\"arrowcolor\":\"#f2f5fa\",\"arrowhead\":0,\"arrowwidth\":1},\"geo\":{\"bgcolor\":\"rgb(17,17,17)\",\"landcolor\":\"rgb(17,17,17)\",\"subunitcolor\":\"#506784\",\"showland\":true,\"showlakes\":true,\"lakecolor\":\"rgb(17,17,17)\"},\"title\":{\"x\":0.05},\"updatemenudefaults\":{\"bgcolor\":\"#506784\",\"borderwidth\":0},\"sliderdefaults\":{\"bgcolor\":\"#C8D4E3\",\"borderwidth\":1,\"bordercolor\":\"rgb(17,17,17)\",\"tickwidth\":0},\"mapbox\":{\"style\":\"dark\"}}},\"xaxis\":{\"anchor\":\"y\",\"domain\":[0.0,1.0],\"title\":{\"text\":\"Tile size\"},\"type\":\"log\"},\"yaxis\":{\"anchor\":\"x\",\"domain\":[0.0,1.0],\"title\":{\"text\":\"$\\\\log(I^6 + rI^3 + r^2I^2)$\"}},\"legend\":{\"title\":{\"text\":\"padding\"},\"tracegroupgap\":0},\"margin\":{\"t\":60},\"title\":{\"text\":\"Influence of tile size choice and padding on TT-MALS runtime (Pres_Poisson)\",\"x\":0.5,\"xanchor\":\"center\",\"yanchor\":\"top\"},\"font\":{\"color\":\"black\"},\"plot_bgcolor\":\"white\",\"paper_bgcolor\":\"white\"},                        {\"responsive\": true}                    ).then(function(){\n",
       "                            \n",
       "var gd = document.getElementById('35832f70-cf33-4d77-bf09-04a6cfaedd6f');\n",
       "var x = new MutationObserver(function (mutations, observer) {{\n",
       "        var display = window.getComputedStyle(gd).display;\n",
       "        if (!display || display === 'none') {{\n",
       "            console.log([gd, 'removed!']);\n",
       "            Plotly.purge(gd);\n",
       "            observer.disconnect();\n",
       "        }}\n",
       "}});\n",
       "\n",
       "// Listen for the removal of the full notebook cells\n",
       "var notebookContainer = gd.closest('#notebook-container');\n",
       "if (notebookContainer) {{\n",
       "    x.observe(notebookContainer, {childList: true});\n",
       "}}\n",
       "\n",
       "// Listen for the clearing of the current output cell\n",
       "var outputEl = gd.closest('.output');\n",
       "if (outputEl) {{\n",
       "    x.observe(outputEl, {childList: true});\n",
       "}}\n",
       "\n",
       "                        })                };                });            </script>        </div>"
      ]
     },
     "metadata": {},
     "output_type": "display_data"
    }
   ],
   "execution_count": 12
  },
  {
   "metadata": {},
   "cell_type": "markdown",
   "source": "Effects of RCM",
   "id": "ec0e649906914834"
  },
  {
   "metadata": {
    "ExecuteTime": {
     "end_time": "2024-08-24T17:19:29.103759Z",
     "start_time": "2024-08-24T17:19:28.963160Z"
    }
   },
   "cell_type": "code",
   "source": [
    "rcm_df = get_percentage_change_per_double_category(data_frame=rcm_df, result_column=\"rank_percentage\", variable=\"rank\", baseline_col=\"rcm\", baseline_value=False, category1=\"matrix_name\", category2=\"tile_size\")\n",
    "rcm_df.sort_values(by=[\"matrix_name\", \"tile_size\"], inplace=True)"
   ],
   "id": "a26837f1ad921026",
   "outputs": [
    {
     "name": "stderr",
     "output_type": "stream",
     "text": [
      "C:\\Users\\bakos\\Documents\\TUDelft\\Thesis\\sparse_tt_decomp_opt\\src\\analysis\\analysis_utils.py:77: SettingWithCopyWarning:\n",
      "\n",
      "\n",
      "A value is trying to be set on a copy of a slice from a DataFrame.\n",
      "Try using .loc[row_indexer,col_indexer] = value instead\n",
      "\n",
      "See the caveats in the documentation: https://pandas.pydata.org/pandas-docs/stable/user_guide/indexing.html#returning-a-view-versus-a-copy\n",
      "\n",
      "C:\\Users\\bakos\\Documents\\TUDelft\\Thesis\\sparse_tt_decomp_opt\\src\\analysis\\analysis_utils.py:100: SettingWithCopyWarning:\n",
      "\n",
      "\n",
      "A value is trying to be set on a copy of a slice from a DataFrame.\n",
      "Try using .loc[row_indexer,col_indexer] = value instead\n",
      "\n",
      "See the caveats in the documentation: https://pandas.pydata.org/pandas-docs/stable/user_guide/indexing.html#returning-a-view-versus-a-copy\n",
      "\n",
      "C:\\Users\\bakos\\AppData\\Local\\Temp\\ipykernel_12400\\2691482873.py:2: SettingWithCopyWarning:\n",
      "\n",
      "\n",
      "A value is trying to be set on a copy of a slice from a DataFrame\n",
      "\n",
      "See the caveats in the documentation: https://pandas.pydata.org/pandas-docs/stable/user_guide/indexing.html#returning-a-view-versus-a-copy\n",
      "\n"
     ]
    }
   ],
   "execution_count": 13
  },
  {
   "metadata": {
    "ExecuteTime": {
     "end_time": "2024-08-24T17:19:30.230642Z",
     "start_time": "2024-08-24T17:19:29.964607Z"
    }
   },
   "cell_type": "code",
   "source": "line_plot_tile_size_rank_percentage_per_matrix(rcm_df[rcm_df[\"rcm\"] == True], \"rcm\", matrix_color_map=matrix_color_map)",
   "id": "b9d09606f618f246",
   "outputs": [
    {
     "data": {
      "application/vnd.plotly.v1+json": {
       "data": [
        {
         "hovertemplate": "Matrix name=Pres_Poisson<br>Tile size=%{x}<br>Rank (r) ratio=%{y}<extra></extra>",
         "legendgroup": "Pres_Poisson",
         "line": {
          "color": "#FF6692",
          "dash": "solid"
         },
         "marker": {
          "symbol": "circle"
         },
         "mode": "lines+markers",
         "name": "Pres_Poisson",
         "orientation": "v",
         "showlegend": true,
         "x": [
          2.0,
          7411.0,
          14822.0
         ],
         "xaxis": "x",
         "y": [
          0.9732033485413691,
          1.0,
          1.0
         ],
         "yaxis": "y",
         "type": "scatter"
        },
        {
         "hovertemplate": "Matrix name=bcsstk13<br>Tile size=%{x}<br>Rank (r) ratio=%{y}<extra></extra>",
         "legendgroup": "bcsstk13",
         "line": {
          "color": "#636EFA",
          "dash": "solid"
         },
         "marker": {
          "symbol": "diamond"
         },
         "mode": "lines+markers",
         "name": "bcsstk13",
         "orientation": "v",
         "showlegend": true,
         "x": [
          2003.0
         ],
         "xaxis": "x",
         "y": [
          1.0
         ],
         "yaxis": "y",
         "type": "scatter"
        },
        {
         "hovertemplate": "Matrix name=ex10<br>Tile size=%{x}<br>Rank (r) ratio=%{y}<extra></extra>",
         "legendgroup": "ex10",
         "line": {
          "color": "#EF553B",
          "dash": "solid"
         },
         "marker": {
          "symbol": "square"
         },
         "mode": "lines+markers",
         "name": "ex10",
         "orientation": "v",
         "showlegend": true,
         "x": [
          2.0,
          5.0,
          10.0,
          241.0,
          482.0,
          1205.0,
          2410.0
         ],
         "xaxis": "x",
         "y": [
          0.9123750960799385,
          1.0064749284746273,
          1.0320919175911252,
          1.0357142857142858,
          1.0769230769230769,
          1.0,
          1.0
         ],
         "yaxis": "y",
         "type": "scatter"
        },
        {
         "hovertemplate": "Matrix name=ex10hs<br>Tile size=%{x}<br>Rank (r) ratio=%{y}<extra></extra>",
         "legendgroup": "ex10hs",
         "line": {
          "color": "#FFA15A",
          "dash": "solid"
         },
         "marker": {
          "symbol": "x"
         },
         "mode": "lines+markers",
         "name": "ex10hs",
         "orientation": "v",
         "showlegend": true,
         "x": [
          2.0,
          4.0,
          7.0,
          13.0,
          14.0,
          26.0,
          28.0,
          49.0,
          52.0,
          91.0,
          98.0,
          182.0,
          196.0,
          364.0,
          637.0,
          1274.0,
          2548.0
         ],
         "xaxis": "x",
         "y": [
          0.721132196847861,
          0.7543924202005335,
          0.9330204778156996,
          0.9067622950819673,
          0.8870056497175142,
          0.7589743589743589,
          0.7635036496350365,
          0.6821192052980133,
          0.7132075471698113,
          0.8363636363636363,
          0.8541666666666666,
          1.0,
          1.0,
          1.0,
          1.0,
          1.0,
          1.0
         ],
         "yaxis": "y",
         "type": "scatter"
        },
        {
         "hovertemplate": "Matrix name=ex13<br>Tile size=%{x}<br>Rank (r) ratio=%{y}<extra></extra>",
         "legendgroup": "ex13",
         "line": {
          "color": "#00CC96",
          "dash": "solid"
         },
         "marker": {
          "symbol": "cross"
         },
         "mode": "lines+markers",
         "name": "ex13",
         "orientation": "v",
         "showlegend": true,
         "x": [
          2.0,
          3.0,
          4.0,
          6.0,
          8.0,
          12.0,
          24.0,
          107.0,
          214.0,
          321.0,
          428.0,
          642.0,
          856.0,
          1284.0,
          2568.0
         ],
         "xaxis": "x",
         "y": [
          1.504249798693746,
          1.0249364888354058,
          1.2145332466969894,
          1.1162023460410557,
          1.0918339290624142,
          1.107537688442211,
          1.092526690391459,
          1.170731707317073,
          1.0,
          1.0,
          1.0,
          1.0,
          1.0,
          1.0,
          1.0
         ],
         "yaxis": "y",
         "type": "scatter"
        },
        {
         "hovertemplate": "Matrix name=ex15<br>Tile size=%{x}<br>Rank (r) ratio=%{y}<extra></extra>",
         "legendgroup": "ex15",
         "line": {
          "color": "#19D3F3",
          "dash": "solid"
         },
         "marker": {
          "symbol": "circle"
         },
         "mode": "lines+markers",
         "name": "ex15",
         "orientation": "v",
         "showlegend": true,
         "x": [
          3.0,
          7.0,
          9.0,
          21.0,
          63.0,
          109.0,
          327.0,
          763.0,
          981.0,
          2289.0,
          6867.0
         ],
         "xaxis": "x",
         "y": [
          0.9785119798234553,
          0.9276307692307693,
          0.8620242914979757,
          0.7432967032967033,
          1.0369230769230768,
          0.9893048128342246,
          0.9672131147540983,
          0.92,
          1.0,
          0.7142857142857143,
          1.0
         ],
         "yaxis": "y",
         "type": "scatter"
        },
        {
         "hovertemplate": "Matrix name=ex3<br>Tile size=%{x}<br>Rank (r) ratio=%{y}<extra></extra>",
         "legendgroup": "ex3",
         "line": {
          "color": "#AB63FA",
          "dash": "solid"
         },
         "marker": {
          "symbol": "diamond"
         },
         "mode": "lines+markers",
         "name": "ex3",
         "orientation": "v",
         "showlegend": true,
         "x": [
          3.0,
          607.0,
          1821.0
         ],
         "xaxis": "x",
         "y": [
          1.0535110595962522,
          1.1428571428571428,
          1.0
         ],
         "yaxis": "y",
         "type": "scatter"
        }
       ],
       "layout": {
        "template": {
         "data": {
          "histogram2dcontour": [
           {
            "type": "histogram2dcontour",
            "colorbar": {
             "outlinewidth": 0,
             "ticks": ""
            },
            "colorscale": [
             [
              0.0,
              "#0d0887"
             ],
             [
              0.1111111111111111,
              "#46039f"
             ],
             [
              0.2222222222222222,
              "#7201a8"
             ],
             [
              0.3333333333333333,
              "#9c179e"
             ],
             [
              0.4444444444444444,
              "#bd3786"
             ],
             [
              0.5555555555555556,
              "#d8576b"
             ],
             [
              0.6666666666666666,
              "#ed7953"
             ],
             [
              0.7777777777777778,
              "#fb9f3a"
             ],
             [
              0.8888888888888888,
              "#fdca26"
             ],
             [
              1.0,
              "#f0f921"
             ]
            ]
           }
          ],
          "choropleth": [
           {
            "type": "choropleth",
            "colorbar": {
             "outlinewidth": 0,
             "ticks": ""
            }
           }
          ],
          "histogram2d": [
           {
            "type": "histogram2d",
            "colorbar": {
             "outlinewidth": 0,
             "ticks": ""
            },
            "colorscale": [
             [
              0.0,
              "#0d0887"
             ],
             [
              0.1111111111111111,
              "#46039f"
             ],
             [
              0.2222222222222222,
              "#7201a8"
             ],
             [
              0.3333333333333333,
              "#9c179e"
             ],
             [
              0.4444444444444444,
              "#bd3786"
             ],
             [
              0.5555555555555556,
              "#d8576b"
             ],
             [
              0.6666666666666666,
              "#ed7953"
             ],
             [
              0.7777777777777778,
              "#fb9f3a"
             ],
             [
              0.8888888888888888,
              "#fdca26"
             ],
             [
              1.0,
              "#f0f921"
             ]
            ]
           }
          ],
          "heatmap": [
           {
            "type": "heatmap",
            "colorbar": {
             "outlinewidth": 0,
             "ticks": ""
            },
            "colorscale": [
             [
              0.0,
              "#0d0887"
             ],
             [
              0.1111111111111111,
              "#46039f"
             ],
             [
              0.2222222222222222,
              "#7201a8"
             ],
             [
              0.3333333333333333,
              "#9c179e"
             ],
             [
              0.4444444444444444,
              "#bd3786"
             ],
             [
              0.5555555555555556,
              "#d8576b"
             ],
             [
              0.6666666666666666,
              "#ed7953"
             ],
             [
              0.7777777777777778,
              "#fb9f3a"
             ],
             [
              0.8888888888888888,
              "#fdca26"
             ],
             [
              1.0,
              "#f0f921"
             ]
            ]
           }
          ],
          "heatmapgl": [
           {
            "type": "heatmapgl",
            "colorbar": {
             "outlinewidth": 0,
             "ticks": ""
            },
            "colorscale": [
             [
              0.0,
              "#0d0887"
             ],
             [
              0.1111111111111111,
              "#46039f"
             ],
             [
              0.2222222222222222,
              "#7201a8"
             ],
             [
              0.3333333333333333,
              "#9c179e"
             ],
             [
              0.4444444444444444,
              "#bd3786"
             ],
             [
              0.5555555555555556,
              "#d8576b"
             ],
             [
              0.6666666666666666,
              "#ed7953"
             ],
             [
              0.7777777777777778,
              "#fb9f3a"
             ],
             [
              0.8888888888888888,
              "#fdca26"
             ],
             [
              1.0,
              "#f0f921"
             ]
            ]
           }
          ],
          "contourcarpet": [
           {
            "type": "contourcarpet",
            "colorbar": {
             "outlinewidth": 0,
             "ticks": ""
            }
           }
          ],
          "contour": [
           {
            "type": "contour",
            "colorbar": {
             "outlinewidth": 0,
             "ticks": ""
            },
            "colorscale": [
             [
              0.0,
              "#0d0887"
             ],
             [
              0.1111111111111111,
              "#46039f"
             ],
             [
              0.2222222222222222,
              "#7201a8"
             ],
             [
              0.3333333333333333,
              "#9c179e"
             ],
             [
              0.4444444444444444,
              "#bd3786"
             ],
             [
              0.5555555555555556,
              "#d8576b"
             ],
             [
              0.6666666666666666,
              "#ed7953"
             ],
             [
              0.7777777777777778,
              "#fb9f3a"
             ],
             [
              0.8888888888888888,
              "#fdca26"
             ],
             [
              1.0,
              "#f0f921"
             ]
            ]
           }
          ],
          "surface": [
           {
            "type": "surface",
            "colorbar": {
             "outlinewidth": 0,
             "ticks": ""
            },
            "colorscale": [
             [
              0.0,
              "#0d0887"
             ],
             [
              0.1111111111111111,
              "#46039f"
             ],
             [
              0.2222222222222222,
              "#7201a8"
             ],
             [
              0.3333333333333333,
              "#9c179e"
             ],
             [
              0.4444444444444444,
              "#bd3786"
             ],
             [
              0.5555555555555556,
              "#d8576b"
             ],
             [
              0.6666666666666666,
              "#ed7953"
             ],
             [
              0.7777777777777778,
              "#fb9f3a"
             ],
             [
              0.8888888888888888,
              "#fdca26"
             ],
             [
              1.0,
              "#f0f921"
             ]
            ]
           }
          ],
          "mesh3d": [
           {
            "type": "mesh3d",
            "colorbar": {
             "outlinewidth": 0,
             "ticks": ""
            }
           }
          ],
          "scatter": [
           {
            "marker": {
             "line": {
              "color": "#283442"
             }
            },
            "type": "scatter"
           }
          ],
          "parcoords": [
           {
            "type": "parcoords",
            "line": {
             "colorbar": {
              "outlinewidth": 0,
              "ticks": ""
             }
            }
           }
          ],
          "scatterpolargl": [
           {
            "type": "scatterpolargl",
            "marker": {
             "colorbar": {
              "outlinewidth": 0,
              "ticks": ""
             }
            }
           }
          ],
          "bar": [
           {
            "error_x": {
             "color": "#f2f5fa"
            },
            "error_y": {
             "color": "#f2f5fa"
            },
            "marker": {
             "line": {
              "color": "rgb(17,17,17)",
              "width": 0.5
             },
             "pattern": {
              "fillmode": "overlay",
              "size": 10,
              "solidity": 0.2
             }
            },
            "type": "bar"
           }
          ],
          "scattergeo": [
           {
            "type": "scattergeo",
            "marker": {
             "colorbar": {
              "outlinewidth": 0,
              "ticks": ""
             }
            }
           }
          ],
          "scatterpolar": [
           {
            "type": "scatterpolar",
            "marker": {
             "colorbar": {
              "outlinewidth": 0,
              "ticks": ""
             }
            }
           }
          ],
          "histogram": [
           {
            "marker": {
             "pattern": {
              "fillmode": "overlay",
              "size": 10,
              "solidity": 0.2
             }
            },
            "type": "histogram"
           }
          ],
          "scattergl": [
           {
            "marker": {
             "line": {
              "color": "#283442"
             }
            },
            "type": "scattergl"
           }
          ],
          "scatter3d": [
           {
            "type": "scatter3d",
            "line": {
             "colorbar": {
              "outlinewidth": 0,
              "ticks": ""
             }
            },
            "marker": {
             "colorbar": {
              "outlinewidth": 0,
              "ticks": ""
             }
            }
           }
          ],
          "scattermapbox": [
           {
            "type": "scattermapbox",
            "marker": {
             "colorbar": {
              "outlinewidth": 0,
              "ticks": ""
             }
            }
           }
          ],
          "scatterternary": [
           {
            "type": "scatterternary",
            "marker": {
             "colorbar": {
              "outlinewidth": 0,
              "ticks": ""
             }
            }
           }
          ],
          "scattercarpet": [
           {
            "type": "scattercarpet",
            "marker": {
             "colorbar": {
              "outlinewidth": 0,
              "ticks": ""
             }
            }
           }
          ],
          "carpet": [
           {
            "aaxis": {
             "endlinecolor": "#A2B1C6",
             "gridcolor": "#506784",
             "linecolor": "#506784",
             "minorgridcolor": "#506784",
             "startlinecolor": "#A2B1C6"
            },
            "baxis": {
             "endlinecolor": "#A2B1C6",
             "gridcolor": "#506784",
             "linecolor": "#506784",
             "minorgridcolor": "#506784",
             "startlinecolor": "#A2B1C6"
            },
            "type": "carpet"
           }
          ],
          "table": [
           {
            "cells": {
             "fill": {
              "color": "#506784"
             },
             "line": {
              "color": "rgb(17,17,17)"
             }
            },
            "header": {
             "fill": {
              "color": "#2a3f5f"
             },
             "line": {
              "color": "rgb(17,17,17)"
             }
            },
            "type": "table"
           }
          ],
          "barpolar": [
           {
            "marker": {
             "line": {
              "color": "rgb(17,17,17)",
              "width": 0.5
             },
             "pattern": {
              "fillmode": "overlay",
              "size": 10,
              "solidity": 0.2
             }
            },
            "type": "barpolar"
           }
          ],
          "pie": [
           {
            "automargin": true,
            "type": "pie"
           }
          ]
         },
         "layout": {
          "autotypenumbers": "strict",
          "colorway": [
           "#636efa",
           "#EF553B",
           "#00cc96",
           "#ab63fa",
           "#FFA15A",
           "#19d3f3",
           "#FF6692",
           "#B6E880",
           "#FF97FF",
           "#FECB52"
          ],
          "font": {
           "color": "#f2f5fa"
          },
          "hovermode": "closest",
          "hoverlabel": {
           "align": "left"
          },
          "paper_bgcolor": "rgb(17,17,17)",
          "plot_bgcolor": "rgb(17,17,17)",
          "polar": {
           "bgcolor": "rgb(17,17,17)",
           "angularaxis": {
            "gridcolor": "#506784",
            "linecolor": "#506784",
            "ticks": ""
           },
           "radialaxis": {
            "gridcolor": "#506784",
            "linecolor": "#506784",
            "ticks": ""
           }
          },
          "ternary": {
           "bgcolor": "rgb(17,17,17)",
           "aaxis": {
            "gridcolor": "#506784",
            "linecolor": "#506784",
            "ticks": ""
           },
           "baxis": {
            "gridcolor": "#506784",
            "linecolor": "#506784",
            "ticks": ""
           },
           "caxis": {
            "gridcolor": "#506784",
            "linecolor": "#506784",
            "ticks": ""
           }
          },
          "coloraxis": {
           "colorbar": {
            "outlinewidth": 0,
            "ticks": ""
           }
          },
          "colorscale": {
           "sequential": [
            [
             0.0,
             "#0d0887"
            ],
            [
             0.1111111111111111,
             "#46039f"
            ],
            [
             0.2222222222222222,
             "#7201a8"
            ],
            [
             0.3333333333333333,
             "#9c179e"
            ],
            [
             0.4444444444444444,
             "#bd3786"
            ],
            [
             0.5555555555555556,
             "#d8576b"
            ],
            [
             0.6666666666666666,
             "#ed7953"
            ],
            [
             0.7777777777777778,
             "#fb9f3a"
            ],
            [
             0.8888888888888888,
             "#fdca26"
            ],
            [
             1.0,
             "#f0f921"
            ]
           ],
           "sequentialminus": [
            [
             0.0,
             "#0d0887"
            ],
            [
             0.1111111111111111,
             "#46039f"
            ],
            [
             0.2222222222222222,
             "#7201a8"
            ],
            [
             0.3333333333333333,
             "#9c179e"
            ],
            [
             0.4444444444444444,
             "#bd3786"
            ],
            [
             0.5555555555555556,
             "#d8576b"
            ],
            [
             0.6666666666666666,
             "#ed7953"
            ],
            [
             0.7777777777777778,
             "#fb9f3a"
            ],
            [
             0.8888888888888888,
             "#fdca26"
            ],
            [
             1.0,
             "#f0f921"
            ]
           ],
           "diverging": [
            [
             0,
             "#8e0152"
            ],
            [
             0.1,
             "#c51b7d"
            ],
            [
             0.2,
             "#de77ae"
            ],
            [
             0.3,
             "#f1b6da"
            ],
            [
             0.4,
             "#fde0ef"
            ],
            [
             0.5,
             "#f7f7f7"
            ],
            [
             0.6,
             "#e6f5d0"
            ],
            [
             0.7,
             "#b8e186"
            ],
            [
             0.8,
             "#7fbc41"
            ],
            [
             0.9,
             "#4d9221"
            ],
            [
             1,
             "#276419"
            ]
           ]
          },
          "xaxis": {
           "gridcolor": "#283442",
           "linecolor": "#506784",
           "ticks": "",
           "title": {
            "standoff": 15
           },
           "zerolinecolor": "#283442",
           "automargin": true,
           "zerolinewidth": 2
          },
          "yaxis": {
           "gridcolor": "#283442",
           "linecolor": "#506784",
           "ticks": "",
           "title": {
            "standoff": 15
           },
           "zerolinecolor": "#283442",
           "automargin": true,
           "zerolinewidth": 2
          },
          "scene": {
           "xaxis": {
            "backgroundcolor": "rgb(17,17,17)",
            "gridcolor": "#506784",
            "linecolor": "#506784",
            "showbackground": true,
            "ticks": "",
            "zerolinecolor": "#C8D4E3",
            "gridwidth": 2
           },
           "yaxis": {
            "backgroundcolor": "rgb(17,17,17)",
            "gridcolor": "#506784",
            "linecolor": "#506784",
            "showbackground": true,
            "ticks": "",
            "zerolinecolor": "#C8D4E3",
            "gridwidth": 2
           },
           "zaxis": {
            "backgroundcolor": "rgb(17,17,17)",
            "gridcolor": "#506784",
            "linecolor": "#506784",
            "showbackground": true,
            "ticks": "",
            "zerolinecolor": "#C8D4E3",
            "gridwidth": 2
           }
          },
          "shapedefaults": {
           "line": {
            "color": "#f2f5fa"
           }
          },
          "annotationdefaults": {
           "arrowcolor": "#f2f5fa",
           "arrowhead": 0,
           "arrowwidth": 1
          },
          "geo": {
           "bgcolor": "rgb(17,17,17)",
           "landcolor": "rgb(17,17,17)",
           "subunitcolor": "#506784",
           "showland": true,
           "showlakes": true,
           "lakecolor": "rgb(17,17,17)"
          },
          "title": {
           "x": 0.05
          },
          "updatemenudefaults": {
           "bgcolor": "#506784",
           "borderwidth": 0
          },
          "sliderdefaults": {
           "bgcolor": "#C8D4E3",
           "borderwidth": 1,
           "bordercolor": "rgb(17,17,17)",
           "tickwidth": 0
          },
          "mapbox": {
           "style": "dark"
          }
         }
        },
        "xaxis": {
         "anchor": "y",
         "domain": [
          0.0,
          1.0
         ],
         "title": {
          "text": "Tile size"
         },
         "type": "log"
        },
        "yaxis": {
         "anchor": "x",
         "domain": [
          0.0,
          1.0
         ],
         "title": {
          "text": "Rank (r) ratio"
         }
        },
        "legend": {
         "title": {
          "text": "Matrix name"
         },
         "tracegroupgap": 0
        },
        "margin": {
         "t": 60
        },
        "title": {
         "text": "Influence of RCM on ranks for different tile sizes",
         "x": 0.5,
         "xanchor": "center",
         "yanchor": "top"
        },
        "font": {
         "color": "black"
        },
        "plot_bgcolor": "white",
        "paper_bgcolor": "white"
       },
       "config": {
        "plotlyServerURL": "https://plot.ly"
       }
      },
      "text/html": [
       "<div>                            <div id=\"19069ed2-f228-44c4-96ec-5bec0bc11bb0\" class=\"plotly-graph-div\" style=\"height:525px; width:100%;\"></div>            <script type=\"text/javascript\">                require([\"plotly\"], function(Plotly) {                    window.PLOTLYENV=window.PLOTLYENV || {};                                    if (document.getElementById(\"19069ed2-f228-44c4-96ec-5bec0bc11bb0\")) {                    Plotly.newPlot(                        \"19069ed2-f228-44c4-96ec-5bec0bc11bb0\",                        [{\"hovertemplate\":\"Matrix name=Pres_Poisson\\u003cbr\\u003eTile size=%{x}\\u003cbr\\u003eRank (r) ratio=%{y}\\u003cextra\\u003e\\u003c\\u002fextra\\u003e\",\"legendgroup\":\"Pres_Poisson\",\"line\":{\"color\":\"#FF6692\",\"dash\":\"solid\"},\"marker\":{\"symbol\":\"circle\"},\"mode\":\"lines+markers\",\"name\":\"Pres_Poisson\",\"orientation\":\"v\",\"showlegend\":true,\"x\":[2.0,7411.0,14822.0],\"xaxis\":\"x\",\"y\":[0.9732033485413691,1.0,1.0],\"yaxis\":\"y\",\"type\":\"scatter\"},{\"hovertemplate\":\"Matrix name=bcsstk13\\u003cbr\\u003eTile size=%{x}\\u003cbr\\u003eRank (r) ratio=%{y}\\u003cextra\\u003e\\u003c\\u002fextra\\u003e\",\"legendgroup\":\"bcsstk13\",\"line\":{\"color\":\"#636EFA\",\"dash\":\"solid\"},\"marker\":{\"symbol\":\"diamond\"},\"mode\":\"lines+markers\",\"name\":\"bcsstk13\",\"orientation\":\"v\",\"showlegend\":true,\"x\":[2003.0],\"xaxis\":\"x\",\"y\":[1.0],\"yaxis\":\"y\",\"type\":\"scatter\"},{\"hovertemplate\":\"Matrix name=ex10\\u003cbr\\u003eTile size=%{x}\\u003cbr\\u003eRank (r) ratio=%{y}\\u003cextra\\u003e\\u003c\\u002fextra\\u003e\",\"legendgroup\":\"ex10\",\"line\":{\"color\":\"#EF553B\",\"dash\":\"solid\"},\"marker\":{\"symbol\":\"square\"},\"mode\":\"lines+markers\",\"name\":\"ex10\",\"orientation\":\"v\",\"showlegend\":true,\"x\":[2.0,5.0,10.0,241.0,482.0,1205.0,2410.0],\"xaxis\":\"x\",\"y\":[0.9123750960799385,1.0064749284746273,1.0320919175911252,1.0357142857142858,1.0769230769230769,1.0,1.0],\"yaxis\":\"y\",\"type\":\"scatter\"},{\"hovertemplate\":\"Matrix name=ex10hs\\u003cbr\\u003eTile size=%{x}\\u003cbr\\u003eRank (r) ratio=%{y}\\u003cextra\\u003e\\u003c\\u002fextra\\u003e\",\"legendgroup\":\"ex10hs\",\"line\":{\"color\":\"#FFA15A\",\"dash\":\"solid\"},\"marker\":{\"symbol\":\"x\"},\"mode\":\"lines+markers\",\"name\":\"ex10hs\",\"orientation\":\"v\",\"showlegend\":true,\"x\":[2.0,4.0,7.0,13.0,14.0,26.0,28.0,49.0,52.0,91.0,98.0,182.0,196.0,364.0,637.0,1274.0,2548.0],\"xaxis\":\"x\",\"y\":[0.721132196847861,0.7543924202005335,0.9330204778156996,0.9067622950819673,0.8870056497175142,0.7589743589743589,0.7635036496350365,0.6821192052980133,0.7132075471698113,0.8363636363636363,0.8541666666666666,1.0,1.0,1.0,1.0,1.0,1.0],\"yaxis\":\"y\",\"type\":\"scatter\"},{\"hovertemplate\":\"Matrix name=ex13\\u003cbr\\u003eTile size=%{x}\\u003cbr\\u003eRank (r) ratio=%{y}\\u003cextra\\u003e\\u003c\\u002fextra\\u003e\",\"legendgroup\":\"ex13\",\"line\":{\"color\":\"#00CC96\",\"dash\":\"solid\"},\"marker\":{\"symbol\":\"cross\"},\"mode\":\"lines+markers\",\"name\":\"ex13\",\"orientation\":\"v\",\"showlegend\":true,\"x\":[2.0,3.0,4.0,6.0,8.0,12.0,24.0,107.0,214.0,321.0,428.0,642.0,856.0,1284.0,2568.0],\"xaxis\":\"x\",\"y\":[1.504249798693746,1.0249364888354058,1.2145332466969894,1.1162023460410557,1.0918339290624142,1.107537688442211,1.092526690391459,1.170731707317073,1.0,1.0,1.0,1.0,1.0,1.0,1.0],\"yaxis\":\"y\",\"type\":\"scatter\"},{\"hovertemplate\":\"Matrix name=ex15\\u003cbr\\u003eTile size=%{x}\\u003cbr\\u003eRank (r) ratio=%{y}\\u003cextra\\u003e\\u003c\\u002fextra\\u003e\",\"legendgroup\":\"ex15\",\"line\":{\"color\":\"#19D3F3\",\"dash\":\"solid\"},\"marker\":{\"symbol\":\"circle\"},\"mode\":\"lines+markers\",\"name\":\"ex15\",\"orientation\":\"v\",\"showlegend\":true,\"x\":[3.0,7.0,9.0,21.0,63.0,109.0,327.0,763.0,981.0,2289.0,6867.0],\"xaxis\":\"x\",\"y\":[0.9785119798234553,0.9276307692307693,0.8620242914979757,0.7432967032967033,1.0369230769230768,0.9893048128342246,0.9672131147540983,0.92,1.0,0.7142857142857143,1.0],\"yaxis\":\"y\",\"type\":\"scatter\"},{\"hovertemplate\":\"Matrix name=ex3\\u003cbr\\u003eTile size=%{x}\\u003cbr\\u003eRank (r) ratio=%{y}\\u003cextra\\u003e\\u003c\\u002fextra\\u003e\",\"legendgroup\":\"ex3\",\"line\":{\"color\":\"#AB63FA\",\"dash\":\"solid\"},\"marker\":{\"symbol\":\"diamond\"},\"mode\":\"lines+markers\",\"name\":\"ex3\",\"orientation\":\"v\",\"showlegend\":true,\"x\":[3.0,607.0,1821.0],\"xaxis\":\"x\",\"y\":[1.0535110595962522,1.1428571428571428,1.0],\"yaxis\":\"y\",\"type\":\"scatter\"}],                        {\"template\":{\"data\":{\"histogram2dcontour\":[{\"type\":\"histogram2dcontour\",\"colorbar\":{\"outlinewidth\":0,\"ticks\":\"\"},\"colorscale\":[[0.0,\"#0d0887\"],[0.1111111111111111,\"#46039f\"],[0.2222222222222222,\"#7201a8\"],[0.3333333333333333,\"#9c179e\"],[0.4444444444444444,\"#bd3786\"],[0.5555555555555556,\"#d8576b\"],[0.6666666666666666,\"#ed7953\"],[0.7777777777777778,\"#fb9f3a\"],[0.8888888888888888,\"#fdca26\"],[1.0,\"#f0f921\"]]}],\"choropleth\":[{\"type\":\"choropleth\",\"colorbar\":{\"outlinewidth\":0,\"ticks\":\"\"}}],\"histogram2d\":[{\"type\":\"histogram2d\",\"colorbar\":{\"outlinewidth\":0,\"ticks\":\"\"},\"colorscale\":[[0.0,\"#0d0887\"],[0.1111111111111111,\"#46039f\"],[0.2222222222222222,\"#7201a8\"],[0.3333333333333333,\"#9c179e\"],[0.4444444444444444,\"#bd3786\"],[0.5555555555555556,\"#d8576b\"],[0.6666666666666666,\"#ed7953\"],[0.7777777777777778,\"#fb9f3a\"],[0.8888888888888888,\"#fdca26\"],[1.0,\"#f0f921\"]]}],\"heatmap\":[{\"type\":\"heatmap\",\"colorbar\":{\"outlinewidth\":0,\"ticks\":\"\"},\"colorscale\":[[0.0,\"#0d0887\"],[0.1111111111111111,\"#46039f\"],[0.2222222222222222,\"#7201a8\"],[0.3333333333333333,\"#9c179e\"],[0.4444444444444444,\"#bd3786\"],[0.5555555555555556,\"#d8576b\"],[0.6666666666666666,\"#ed7953\"],[0.7777777777777778,\"#fb9f3a\"],[0.8888888888888888,\"#fdca26\"],[1.0,\"#f0f921\"]]}],\"heatmapgl\":[{\"type\":\"heatmapgl\",\"colorbar\":{\"outlinewidth\":0,\"ticks\":\"\"},\"colorscale\":[[0.0,\"#0d0887\"],[0.1111111111111111,\"#46039f\"],[0.2222222222222222,\"#7201a8\"],[0.3333333333333333,\"#9c179e\"],[0.4444444444444444,\"#bd3786\"],[0.5555555555555556,\"#d8576b\"],[0.6666666666666666,\"#ed7953\"],[0.7777777777777778,\"#fb9f3a\"],[0.8888888888888888,\"#fdca26\"],[1.0,\"#f0f921\"]]}],\"contourcarpet\":[{\"type\":\"contourcarpet\",\"colorbar\":{\"outlinewidth\":0,\"ticks\":\"\"}}],\"contour\":[{\"type\":\"contour\",\"colorbar\":{\"outlinewidth\":0,\"ticks\":\"\"},\"colorscale\":[[0.0,\"#0d0887\"],[0.1111111111111111,\"#46039f\"],[0.2222222222222222,\"#7201a8\"],[0.3333333333333333,\"#9c179e\"],[0.4444444444444444,\"#bd3786\"],[0.5555555555555556,\"#d8576b\"],[0.6666666666666666,\"#ed7953\"],[0.7777777777777778,\"#fb9f3a\"],[0.8888888888888888,\"#fdca26\"],[1.0,\"#f0f921\"]]}],\"surface\":[{\"type\":\"surface\",\"colorbar\":{\"outlinewidth\":0,\"ticks\":\"\"},\"colorscale\":[[0.0,\"#0d0887\"],[0.1111111111111111,\"#46039f\"],[0.2222222222222222,\"#7201a8\"],[0.3333333333333333,\"#9c179e\"],[0.4444444444444444,\"#bd3786\"],[0.5555555555555556,\"#d8576b\"],[0.6666666666666666,\"#ed7953\"],[0.7777777777777778,\"#fb9f3a\"],[0.8888888888888888,\"#fdca26\"],[1.0,\"#f0f921\"]]}],\"mesh3d\":[{\"type\":\"mesh3d\",\"colorbar\":{\"outlinewidth\":0,\"ticks\":\"\"}}],\"scatter\":[{\"marker\":{\"line\":{\"color\":\"#283442\"}},\"type\":\"scatter\"}],\"parcoords\":[{\"type\":\"parcoords\",\"line\":{\"colorbar\":{\"outlinewidth\":0,\"ticks\":\"\"}}}],\"scatterpolargl\":[{\"type\":\"scatterpolargl\",\"marker\":{\"colorbar\":{\"outlinewidth\":0,\"ticks\":\"\"}}}],\"bar\":[{\"error_x\":{\"color\":\"#f2f5fa\"},\"error_y\":{\"color\":\"#f2f5fa\"},\"marker\":{\"line\":{\"color\":\"rgb(17,17,17)\",\"width\":0.5},\"pattern\":{\"fillmode\":\"overlay\",\"size\":10,\"solidity\":0.2}},\"type\":\"bar\"}],\"scattergeo\":[{\"type\":\"scattergeo\",\"marker\":{\"colorbar\":{\"outlinewidth\":0,\"ticks\":\"\"}}}],\"scatterpolar\":[{\"type\":\"scatterpolar\",\"marker\":{\"colorbar\":{\"outlinewidth\":0,\"ticks\":\"\"}}}],\"histogram\":[{\"marker\":{\"pattern\":{\"fillmode\":\"overlay\",\"size\":10,\"solidity\":0.2}},\"type\":\"histogram\"}],\"scattergl\":[{\"marker\":{\"line\":{\"color\":\"#283442\"}},\"type\":\"scattergl\"}],\"scatter3d\":[{\"type\":\"scatter3d\",\"line\":{\"colorbar\":{\"outlinewidth\":0,\"ticks\":\"\"}},\"marker\":{\"colorbar\":{\"outlinewidth\":0,\"ticks\":\"\"}}}],\"scattermapbox\":[{\"type\":\"scattermapbox\",\"marker\":{\"colorbar\":{\"outlinewidth\":0,\"ticks\":\"\"}}}],\"scatterternary\":[{\"type\":\"scatterternary\",\"marker\":{\"colorbar\":{\"outlinewidth\":0,\"ticks\":\"\"}}}],\"scattercarpet\":[{\"type\":\"scattercarpet\",\"marker\":{\"colorbar\":{\"outlinewidth\":0,\"ticks\":\"\"}}}],\"carpet\":[{\"aaxis\":{\"endlinecolor\":\"#A2B1C6\",\"gridcolor\":\"#506784\",\"linecolor\":\"#506784\",\"minorgridcolor\":\"#506784\",\"startlinecolor\":\"#A2B1C6\"},\"baxis\":{\"endlinecolor\":\"#A2B1C6\",\"gridcolor\":\"#506784\",\"linecolor\":\"#506784\",\"minorgridcolor\":\"#506784\",\"startlinecolor\":\"#A2B1C6\"},\"type\":\"carpet\"}],\"table\":[{\"cells\":{\"fill\":{\"color\":\"#506784\"},\"line\":{\"color\":\"rgb(17,17,17)\"}},\"header\":{\"fill\":{\"color\":\"#2a3f5f\"},\"line\":{\"color\":\"rgb(17,17,17)\"}},\"type\":\"table\"}],\"barpolar\":[{\"marker\":{\"line\":{\"color\":\"rgb(17,17,17)\",\"width\":0.5},\"pattern\":{\"fillmode\":\"overlay\",\"size\":10,\"solidity\":0.2}},\"type\":\"barpolar\"}],\"pie\":[{\"automargin\":true,\"type\":\"pie\"}]},\"layout\":{\"autotypenumbers\":\"strict\",\"colorway\":[\"#636efa\",\"#EF553B\",\"#00cc96\",\"#ab63fa\",\"#FFA15A\",\"#19d3f3\",\"#FF6692\",\"#B6E880\",\"#FF97FF\",\"#FECB52\"],\"font\":{\"color\":\"#f2f5fa\"},\"hovermode\":\"closest\",\"hoverlabel\":{\"align\":\"left\"},\"paper_bgcolor\":\"rgb(17,17,17)\",\"plot_bgcolor\":\"rgb(17,17,17)\",\"polar\":{\"bgcolor\":\"rgb(17,17,17)\",\"angularaxis\":{\"gridcolor\":\"#506784\",\"linecolor\":\"#506784\",\"ticks\":\"\"},\"radialaxis\":{\"gridcolor\":\"#506784\",\"linecolor\":\"#506784\",\"ticks\":\"\"}},\"ternary\":{\"bgcolor\":\"rgb(17,17,17)\",\"aaxis\":{\"gridcolor\":\"#506784\",\"linecolor\":\"#506784\",\"ticks\":\"\"},\"baxis\":{\"gridcolor\":\"#506784\",\"linecolor\":\"#506784\",\"ticks\":\"\"},\"caxis\":{\"gridcolor\":\"#506784\",\"linecolor\":\"#506784\",\"ticks\":\"\"}},\"coloraxis\":{\"colorbar\":{\"outlinewidth\":0,\"ticks\":\"\"}},\"colorscale\":{\"sequential\":[[0.0,\"#0d0887\"],[0.1111111111111111,\"#46039f\"],[0.2222222222222222,\"#7201a8\"],[0.3333333333333333,\"#9c179e\"],[0.4444444444444444,\"#bd3786\"],[0.5555555555555556,\"#d8576b\"],[0.6666666666666666,\"#ed7953\"],[0.7777777777777778,\"#fb9f3a\"],[0.8888888888888888,\"#fdca26\"],[1.0,\"#f0f921\"]],\"sequentialminus\":[[0.0,\"#0d0887\"],[0.1111111111111111,\"#46039f\"],[0.2222222222222222,\"#7201a8\"],[0.3333333333333333,\"#9c179e\"],[0.4444444444444444,\"#bd3786\"],[0.5555555555555556,\"#d8576b\"],[0.6666666666666666,\"#ed7953\"],[0.7777777777777778,\"#fb9f3a\"],[0.8888888888888888,\"#fdca26\"],[1.0,\"#f0f921\"]],\"diverging\":[[0,\"#8e0152\"],[0.1,\"#c51b7d\"],[0.2,\"#de77ae\"],[0.3,\"#f1b6da\"],[0.4,\"#fde0ef\"],[0.5,\"#f7f7f7\"],[0.6,\"#e6f5d0\"],[0.7,\"#b8e186\"],[0.8,\"#7fbc41\"],[0.9,\"#4d9221\"],[1,\"#276419\"]]},\"xaxis\":{\"gridcolor\":\"#283442\",\"linecolor\":\"#506784\",\"ticks\":\"\",\"title\":{\"standoff\":15},\"zerolinecolor\":\"#283442\",\"automargin\":true,\"zerolinewidth\":2},\"yaxis\":{\"gridcolor\":\"#283442\",\"linecolor\":\"#506784\",\"ticks\":\"\",\"title\":{\"standoff\":15},\"zerolinecolor\":\"#283442\",\"automargin\":true,\"zerolinewidth\":2},\"scene\":{\"xaxis\":{\"backgroundcolor\":\"rgb(17,17,17)\",\"gridcolor\":\"#506784\",\"linecolor\":\"#506784\",\"showbackground\":true,\"ticks\":\"\",\"zerolinecolor\":\"#C8D4E3\",\"gridwidth\":2},\"yaxis\":{\"backgroundcolor\":\"rgb(17,17,17)\",\"gridcolor\":\"#506784\",\"linecolor\":\"#506784\",\"showbackground\":true,\"ticks\":\"\",\"zerolinecolor\":\"#C8D4E3\",\"gridwidth\":2},\"zaxis\":{\"backgroundcolor\":\"rgb(17,17,17)\",\"gridcolor\":\"#506784\",\"linecolor\":\"#506784\",\"showbackground\":true,\"ticks\":\"\",\"zerolinecolor\":\"#C8D4E3\",\"gridwidth\":2}},\"shapedefaults\":{\"line\":{\"color\":\"#f2f5fa\"}},\"annotationdefaults\":{\"arrowcolor\":\"#f2f5fa\",\"arrowhead\":0,\"arrowwidth\":1},\"geo\":{\"bgcolor\":\"rgb(17,17,17)\",\"landcolor\":\"rgb(17,17,17)\",\"subunitcolor\":\"#506784\",\"showland\":true,\"showlakes\":true,\"lakecolor\":\"rgb(17,17,17)\"},\"title\":{\"x\":0.05},\"updatemenudefaults\":{\"bgcolor\":\"#506784\",\"borderwidth\":0},\"sliderdefaults\":{\"bgcolor\":\"#C8D4E3\",\"borderwidth\":1,\"bordercolor\":\"rgb(17,17,17)\",\"tickwidth\":0},\"mapbox\":{\"style\":\"dark\"}}},\"xaxis\":{\"anchor\":\"y\",\"domain\":[0.0,1.0],\"title\":{\"text\":\"Tile size\"},\"type\":\"log\"},\"yaxis\":{\"anchor\":\"x\",\"domain\":[0.0,1.0],\"title\":{\"text\":\"Rank (r) ratio\"}},\"legend\":{\"title\":{\"text\":\"Matrix name\"},\"tracegroupgap\":0},\"margin\":{\"t\":60},\"title\":{\"text\":\"Influence of RCM on ranks for different tile sizes\",\"x\":0.5,\"xanchor\":\"center\",\"yanchor\":\"top\"},\"font\":{\"color\":\"black\"},\"plot_bgcolor\":\"white\",\"paper_bgcolor\":\"white\"},                        {\"responsive\": true}                    ).then(function(){\n",
       "                            \n",
       "var gd = document.getElementById('19069ed2-f228-44c4-96ec-5bec0bc11bb0');\n",
       "var x = new MutationObserver(function (mutations, observer) {{\n",
       "        var display = window.getComputedStyle(gd).display;\n",
       "        if (!display || display === 'none') {{\n",
       "            console.log([gd, 'removed!']);\n",
       "            Plotly.purge(gd);\n",
       "            observer.disconnect();\n",
       "        }}\n",
       "}});\n",
       "\n",
       "// Listen for the removal of the full notebook cells\n",
       "var notebookContainer = gd.closest('#notebook-container');\n",
       "if (notebookContainer) {{\n",
       "    x.observe(notebookContainer, {childList: true});\n",
       "}}\n",
       "\n",
       "// Listen for the clearing of the current output cell\n",
       "var outputEl = gd.closest('.output');\n",
       "if (outputEl) {{\n",
       "    x.observe(outputEl, {childList: true});\n",
       "}}\n",
       "\n",
       "                        })                };                });            </script>        </div>"
      ]
     },
     "metadata": {},
     "output_type": "display_data"
    }
   ],
   "execution_count": 14
  },
  {
   "metadata": {},
   "cell_type": "markdown",
   "source": "Assess AMD effects",
   "id": "3445082ae1c13bdd"
  },
  {
   "metadata": {
    "ExecuteTime": {
     "end_time": "2024-08-24T17:19:35.116292Z",
     "start_time": "2024-08-24T17:19:34.843238Z"
    }
   },
   "cell_type": "code",
   "source": [
    "amd_df = get_percentage_change_per_double_category(data_frame=amd_df, result_column=\"rank_percentage\", variable=\"rank\", baseline_col=\"amd\", baseline_value=False, category1=\"matrix_name\", category2=\"tile_size\")\n",
    "amd_df.sort_values(by=[\"matrix_name\", \"tile_size\"], inplace=True)\n",
    "line_plot_tile_size_rank_percentage_per_matrix(amd_df[amd_df[\"amd\"] == True], \"amd\", matrix_color_map=matrix_color_map)"
   ],
   "id": "ca56c610000f4944",
   "outputs": [
    {
     "name": "stderr",
     "output_type": "stream",
     "text": [
      "C:\\Users\\bakos\\Documents\\TUDelft\\Thesis\\sparse_tt_decomp_opt\\src\\analysis\\analysis_utils.py:77: SettingWithCopyWarning:\n",
      "\n",
      "\n",
      "A value is trying to be set on a copy of a slice from a DataFrame.\n",
      "Try using .loc[row_indexer,col_indexer] = value instead\n",
      "\n",
      "See the caveats in the documentation: https://pandas.pydata.org/pandas-docs/stable/user_guide/indexing.html#returning-a-view-versus-a-copy\n",
      "\n",
      "C:\\Users\\bakos\\Documents\\TUDelft\\Thesis\\sparse_tt_decomp_opt\\src\\analysis\\analysis_utils.py:100: SettingWithCopyWarning:\n",
      "\n",
      "\n",
      "A value is trying to be set on a copy of a slice from a DataFrame.\n",
      "Try using .loc[row_indexer,col_indexer] = value instead\n",
      "\n",
      "See the caveats in the documentation: https://pandas.pydata.org/pandas-docs/stable/user_guide/indexing.html#returning-a-view-versus-a-copy\n",
      "\n",
      "C:\\Users\\bakos\\AppData\\Local\\Temp\\ipykernel_12400\\3061401820.py:2: SettingWithCopyWarning:\n",
      "\n",
      "\n",
      "A value is trying to be set on a copy of a slice from a DataFrame\n",
      "\n",
      "See the caveats in the documentation: https://pandas.pydata.org/pandas-docs/stable/user_guide/indexing.html#returning-a-view-versus-a-copy\n",
      "\n"
     ]
    },
    {
     "data": {
      "application/vnd.plotly.v1+json": {
       "data": [
        {
         "hovertemplate": "Matrix name=Pres_Poisson<br>Tile size=%{x}<br>Rank (r) ratio=%{y}<extra></extra>",
         "legendgroup": "Pres_Poisson",
         "line": {
          "color": "#FF6692",
          "dash": "solid"
         },
         "marker": {
          "symbol": "circle"
         },
         "mode": "lines+markers",
         "name": "Pres_Poisson",
         "orientation": "v",
         "showlegend": true,
         "x": [
          2.0,
          7411.0,
          14822.0
         ],
         "xaxis": "x",
         "y": [
          0.9878058363726292,
          1.0,
          1.0
         ],
         "yaxis": "y",
         "type": "scatter"
        },
        {
         "hovertemplate": "Matrix name=bcsstk13<br>Tile size=%{x}<br>Rank (r) ratio=%{y}<extra></extra>",
         "legendgroup": "bcsstk13",
         "line": {
          "color": "#636EFA",
          "dash": "solid"
         },
         "marker": {
          "symbol": "diamond"
         },
         "mode": "lines+markers",
         "name": "bcsstk13",
         "orientation": "v",
         "showlegend": true,
         "x": [
          2003.0
         ],
         "xaxis": "x",
         "y": [
          1.0
         ],
         "yaxis": "y",
         "type": "scatter"
        },
        {
         "hovertemplate": "Matrix name=ex10<br>Tile size=%{x}<br>Rank (r) ratio=%{y}<extra></extra>",
         "legendgroup": "ex10",
         "line": {
          "color": "#EF553B",
          "dash": "solid"
         },
         "marker": {
          "symbol": "square"
         },
         "mode": "lines+markers",
         "name": "ex10",
         "orientation": "v",
         "showlegend": true,
         "x": [
          2.0,
          5.0,
          10.0,
          241.0,
          482.0,
          1205.0,
          2410.0
         ],
         "xaxis": "x",
         "y": [
          0.6840507302075327,
          0.9200421623249511,
          0.9267036450079239,
          1.5714285714285714,
          1.3076923076923077,
          1.0,
          1.0
         ],
         "yaxis": "y",
         "type": "scatter"
        },
        {
         "hovertemplate": "Matrix name=ex10hs<br>Tile size=%{x}<br>Rank (r) ratio=%{y}<extra></extra>",
         "legendgroup": "ex10hs",
         "line": {
          "color": "#FFA15A",
          "dash": "solid"
         },
         "marker": {
          "symbol": "x"
         },
         "mode": "lines+markers",
         "name": "ex10hs",
         "orientation": "v",
         "showlegend": true,
         "x": [
          2.0,
          4.0,
          7.0,
          13.0,
          14.0,
          26.0,
          28.0,
          49.0,
          52.0,
          91.0,
          98.0,
          182.0,
          196.0,
          364.0,
          637.0,
          1274.0,
          2548.0
         ],
         "xaxis": "x",
         "y": [
          0.6527643758264536,
          0.7488731487443657,
          0.8984641638225256,
          0.9866803278688525,
          0.9220338983050848,
          0.9769230769230769,
          1.0204379562043795,
          1.0927152317880795,
          1.150943396226415,
          1.4,
          1.4375,
          1.6,
          1.6486486486486487,
          1.4210526315789473,
          1.2,
          1.0,
          1.0
         ],
         "yaxis": "y",
         "type": "scatter"
        },
        {
         "hovertemplate": "Matrix name=ex13<br>Tile size=%{x}<br>Rank (r) ratio=%{y}<extra></extra>",
         "legendgroup": "ex13",
         "line": {
          "color": "#00CC96",
          "dash": "solid"
         },
         "marker": {
          "symbol": "cross"
         },
         "mode": "lines+markers",
         "name": "ex13",
         "orientation": "v",
         "showlegend": true,
         "x": [
          2.0,
          3.0,
          4.0,
          6.0,
          8.0,
          12.0,
          24.0,
          107.0,
          214.0,
          321.0,
          428.0,
          642.0,
          856.0,
          1284.0,
          2568.0
         ],
         "xaxis": "x",
         "y": [
          1.0094837612955176,
          1.0600347640058831,
          1.0168940870695258,
          1.0227272727272727,
          1.0962331591971406,
          1.1668341708542713,
          1.1613285883748516,
          1.6097560975609757,
          1.6470588235294117,
          1.6363636363636365,
          1.5,
          1.4,
          1.2857142857142858,
          1.0,
          1.0
         ],
         "yaxis": "y",
         "type": "scatter"
        },
        {
         "hovertemplate": "Matrix name=ex15<br>Tile size=%{x}<br>Rank (r) ratio=%{y}<extra></extra>",
         "legendgroup": "ex15",
         "line": {
          "color": "#19D3F3",
          "dash": "solid"
         },
         "marker": {
          "symbol": "circle"
         },
         "mode": "lines+markers",
         "name": "ex15",
         "orientation": "v",
         "showlegend": true,
         "x": [
          3.0,
          7.0,
          9.0,
          21.0,
          63.0,
          109.0,
          327.0,
          763.0,
          981.0,
          2289.0,
          6867.0
         ],
         "xaxis": "x",
         "y": [
          1.3583354350567465,
          1.3249230769230769,
          1.3494736842105264,
          1.3560439560439561,
          2.4584615384615383,
          2.2085561497326203,
          1.6885245901639345,
          1.4,
          1.4210526315789473,
          0.7142857142857143,
          1.0
         ],
         "yaxis": "y",
         "type": "scatter"
        },
        {
         "hovertemplate": "Matrix name=ex3<br>Tile size=%{x}<br>Rank (r) ratio=%{y}<extra></extra>",
         "legendgroup": "ex3",
         "line": {
          "color": "#AB63FA",
          "dash": "solid"
         },
         "marker": {
          "symbol": "diamond"
         },
         "mode": "lines+markers",
         "name": "ex3",
         "orientation": "v",
         "showlegend": true,
         "x": [
          3.0,
          607.0,
          1821.0
         ],
         "xaxis": "x",
         "y": [
          1.0500338066260988,
          1.2857142857142858,
          1.0
         ],
         "yaxis": "y",
         "type": "scatter"
        }
       ],
       "layout": {
        "template": {
         "data": {
          "histogram2dcontour": [
           {
            "type": "histogram2dcontour",
            "colorbar": {
             "outlinewidth": 0,
             "ticks": ""
            },
            "colorscale": [
             [
              0.0,
              "#0d0887"
             ],
             [
              0.1111111111111111,
              "#46039f"
             ],
             [
              0.2222222222222222,
              "#7201a8"
             ],
             [
              0.3333333333333333,
              "#9c179e"
             ],
             [
              0.4444444444444444,
              "#bd3786"
             ],
             [
              0.5555555555555556,
              "#d8576b"
             ],
             [
              0.6666666666666666,
              "#ed7953"
             ],
             [
              0.7777777777777778,
              "#fb9f3a"
             ],
             [
              0.8888888888888888,
              "#fdca26"
             ],
             [
              1.0,
              "#f0f921"
             ]
            ]
           }
          ],
          "choropleth": [
           {
            "type": "choropleth",
            "colorbar": {
             "outlinewidth": 0,
             "ticks": ""
            }
           }
          ],
          "histogram2d": [
           {
            "type": "histogram2d",
            "colorbar": {
             "outlinewidth": 0,
             "ticks": ""
            },
            "colorscale": [
             [
              0.0,
              "#0d0887"
             ],
             [
              0.1111111111111111,
              "#46039f"
             ],
             [
              0.2222222222222222,
              "#7201a8"
             ],
             [
              0.3333333333333333,
              "#9c179e"
             ],
             [
              0.4444444444444444,
              "#bd3786"
             ],
             [
              0.5555555555555556,
              "#d8576b"
             ],
             [
              0.6666666666666666,
              "#ed7953"
             ],
             [
              0.7777777777777778,
              "#fb9f3a"
             ],
             [
              0.8888888888888888,
              "#fdca26"
             ],
             [
              1.0,
              "#f0f921"
             ]
            ]
           }
          ],
          "heatmap": [
           {
            "type": "heatmap",
            "colorbar": {
             "outlinewidth": 0,
             "ticks": ""
            },
            "colorscale": [
             [
              0.0,
              "#0d0887"
             ],
             [
              0.1111111111111111,
              "#46039f"
             ],
             [
              0.2222222222222222,
              "#7201a8"
             ],
             [
              0.3333333333333333,
              "#9c179e"
             ],
             [
              0.4444444444444444,
              "#bd3786"
             ],
             [
              0.5555555555555556,
              "#d8576b"
             ],
             [
              0.6666666666666666,
              "#ed7953"
             ],
             [
              0.7777777777777778,
              "#fb9f3a"
             ],
             [
              0.8888888888888888,
              "#fdca26"
             ],
             [
              1.0,
              "#f0f921"
             ]
            ]
           }
          ],
          "heatmapgl": [
           {
            "type": "heatmapgl",
            "colorbar": {
             "outlinewidth": 0,
             "ticks": ""
            },
            "colorscale": [
             [
              0.0,
              "#0d0887"
             ],
             [
              0.1111111111111111,
              "#46039f"
             ],
             [
              0.2222222222222222,
              "#7201a8"
             ],
             [
              0.3333333333333333,
              "#9c179e"
             ],
             [
              0.4444444444444444,
              "#bd3786"
             ],
             [
              0.5555555555555556,
              "#d8576b"
             ],
             [
              0.6666666666666666,
              "#ed7953"
             ],
             [
              0.7777777777777778,
              "#fb9f3a"
             ],
             [
              0.8888888888888888,
              "#fdca26"
             ],
             [
              1.0,
              "#f0f921"
             ]
            ]
           }
          ],
          "contourcarpet": [
           {
            "type": "contourcarpet",
            "colorbar": {
             "outlinewidth": 0,
             "ticks": ""
            }
           }
          ],
          "contour": [
           {
            "type": "contour",
            "colorbar": {
             "outlinewidth": 0,
             "ticks": ""
            },
            "colorscale": [
             [
              0.0,
              "#0d0887"
             ],
             [
              0.1111111111111111,
              "#46039f"
             ],
             [
              0.2222222222222222,
              "#7201a8"
             ],
             [
              0.3333333333333333,
              "#9c179e"
             ],
             [
              0.4444444444444444,
              "#bd3786"
             ],
             [
              0.5555555555555556,
              "#d8576b"
             ],
             [
              0.6666666666666666,
              "#ed7953"
             ],
             [
              0.7777777777777778,
              "#fb9f3a"
             ],
             [
              0.8888888888888888,
              "#fdca26"
             ],
             [
              1.0,
              "#f0f921"
             ]
            ]
           }
          ],
          "surface": [
           {
            "type": "surface",
            "colorbar": {
             "outlinewidth": 0,
             "ticks": ""
            },
            "colorscale": [
             [
              0.0,
              "#0d0887"
             ],
             [
              0.1111111111111111,
              "#46039f"
             ],
             [
              0.2222222222222222,
              "#7201a8"
             ],
             [
              0.3333333333333333,
              "#9c179e"
             ],
             [
              0.4444444444444444,
              "#bd3786"
             ],
             [
              0.5555555555555556,
              "#d8576b"
             ],
             [
              0.6666666666666666,
              "#ed7953"
             ],
             [
              0.7777777777777778,
              "#fb9f3a"
             ],
             [
              0.8888888888888888,
              "#fdca26"
             ],
             [
              1.0,
              "#f0f921"
             ]
            ]
           }
          ],
          "mesh3d": [
           {
            "type": "mesh3d",
            "colorbar": {
             "outlinewidth": 0,
             "ticks": ""
            }
           }
          ],
          "scatter": [
           {
            "marker": {
             "line": {
              "color": "#283442"
             }
            },
            "type": "scatter"
           }
          ],
          "parcoords": [
           {
            "type": "parcoords",
            "line": {
             "colorbar": {
              "outlinewidth": 0,
              "ticks": ""
             }
            }
           }
          ],
          "scatterpolargl": [
           {
            "type": "scatterpolargl",
            "marker": {
             "colorbar": {
              "outlinewidth": 0,
              "ticks": ""
             }
            }
           }
          ],
          "bar": [
           {
            "error_x": {
             "color": "#f2f5fa"
            },
            "error_y": {
             "color": "#f2f5fa"
            },
            "marker": {
             "line": {
              "color": "rgb(17,17,17)",
              "width": 0.5
             },
             "pattern": {
              "fillmode": "overlay",
              "size": 10,
              "solidity": 0.2
             }
            },
            "type": "bar"
           }
          ],
          "scattergeo": [
           {
            "type": "scattergeo",
            "marker": {
             "colorbar": {
              "outlinewidth": 0,
              "ticks": ""
             }
            }
           }
          ],
          "scatterpolar": [
           {
            "type": "scatterpolar",
            "marker": {
             "colorbar": {
              "outlinewidth": 0,
              "ticks": ""
             }
            }
           }
          ],
          "histogram": [
           {
            "marker": {
             "pattern": {
              "fillmode": "overlay",
              "size": 10,
              "solidity": 0.2
             }
            },
            "type": "histogram"
           }
          ],
          "scattergl": [
           {
            "marker": {
             "line": {
              "color": "#283442"
             }
            },
            "type": "scattergl"
           }
          ],
          "scatter3d": [
           {
            "type": "scatter3d",
            "line": {
             "colorbar": {
              "outlinewidth": 0,
              "ticks": ""
             }
            },
            "marker": {
             "colorbar": {
              "outlinewidth": 0,
              "ticks": ""
             }
            }
           }
          ],
          "scattermapbox": [
           {
            "type": "scattermapbox",
            "marker": {
             "colorbar": {
              "outlinewidth": 0,
              "ticks": ""
             }
            }
           }
          ],
          "scatterternary": [
           {
            "type": "scatterternary",
            "marker": {
             "colorbar": {
              "outlinewidth": 0,
              "ticks": ""
             }
            }
           }
          ],
          "scattercarpet": [
           {
            "type": "scattercarpet",
            "marker": {
             "colorbar": {
              "outlinewidth": 0,
              "ticks": ""
             }
            }
           }
          ],
          "carpet": [
           {
            "aaxis": {
             "endlinecolor": "#A2B1C6",
             "gridcolor": "#506784",
             "linecolor": "#506784",
             "minorgridcolor": "#506784",
             "startlinecolor": "#A2B1C6"
            },
            "baxis": {
             "endlinecolor": "#A2B1C6",
             "gridcolor": "#506784",
             "linecolor": "#506784",
             "minorgridcolor": "#506784",
             "startlinecolor": "#A2B1C6"
            },
            "type": "carpet"
           }
          ],
          "table": [
           {
            "cells": {
             "fill": {
              "color": "#506784"
             },
             "line": {
              "color": "rgb(17,17,17)"
             }
            },
            "header": {
             "fill": {
              "color": "#2a3f5f"
             },
             "line": {
              "color": "rgb(17,17,17)"
             }
            },
            "type": "table"
           }
          ],
          "barpolar": [
           {
            "marker": {
             "line": {
              "color": "rgb(17,17,17)",
              "width": 0.5
             },
             "pattern": {
              "fillmode": "overlay",
              "size": 10,
              "solidity": 0.2
             }
            },
            "type": "barpolar"
           }
          ],
          "pie": [
           {
            "automargin": true,
            "type": "pie"
           }
          ]
         },
         "layout": {
          "autotypenumbers": "strict",
          "colorway": [
           "#636efa",
           "#EF553B",
           "#00cc96",
           "#ab63fa",
           "#FFA15A",
           "#19d3f3",
           "#FF6692",
           "#B6E880",
           "#FF97FF",
           "#FECB52"
          ],
          "font": {
           "color": "#f2f5fa"
          },
          "hovermode": "closest",
          "hoverlabel": {
           "align": "left"
          },
          "paper_bgcolor": "rgb(17,17,17)",
          "plot_bgcolor": "rgb(17,17,17)",
          "polar": {
           "bgcolor": "rgb(17,17,17)",
           "angularaxis": {
            "gridcolor": "#506784",
            "linecolor": "#506784",
            "ticks": ""
           },
           "radialaxis": {
            "gridcolor": "#506784",
            "linecolor": "#506784",
            "ticks": ""
           }
          },
          "ternary": {
           "bgcolor": "rgb(17,17,17)",
           "aaxis": {
            "gridcolor": "#506784",
            "linecolor": "#506784",
            "ticks": ""
           },
           "baxis": {
            "gridcolor": "#506784",
            "linecolor": "#506784",
            "ticks": ""
           },
           "caxis": {
            "gridcolor": "#506784",
            "linecolor": "#506784",
            "ticks": ""
           }
          },
          "coloraxis": {
           "colorbar": {
            "outlinewidth": 0,
            "ticks": ""
           }
          },
          "colorscale": {
           "sequential": [
            [
             0.0,
             "#0d0887"
            ],
            [
             0.1111111111111111,
             "#46039f"
            ],
            [
             0.2222222222222222,
             "#7201a8"
            ],
            [
             0.3333333333333333,
             "#9c179e"
            ],
            [
             0.4444444444444444,
             "#bd3786"
            ],
            [
             0.5555555555555556,
             "#d8576b"
            ],
            [
             0.6666666666666666,
             "#ed7953"
            ],
            [
             0.7777777777777778,
             "#fb9f3a"
            ],
            [
             0.8888888888888888,
             "#fdca26"
            ],
            [
             1.0,
             "#f0f921"
            ]
           ],
           "sequentialminus": [
            [
             0.0,
             "#0d0887"
            ],
            [
             0.1111111111111111,
             "#46039f"
            ],
            [
             0.2222222222222222,
             "#7201a8"
            ],
            [
             0.3333333333333333,
             "#9c179e"
            ],
            [
             0.4444444444444444,
             "#bd3786"
            ],
            [
             0.5555555555555556,
             "#d8576b"
            ],
            [
             0.6666666666666666,
             "#ed7953"
            ],
            [
             0.7777777777777778,
             "#fb9f3a"
            ],
            [
             0.8888888888888888,
             "#fdca26"
            ],
            [
             1.0,
             "#f0f921"
            ]
           ],
           "diverging": [
            [
             0,
             "#8e0152"
            ],
            [
             0.1,
             "#c51b7d"
            ],
            [
             0.2,
             "#de77ae"
            ],
            [
             0.3,
             "#f1b6da"
            ],
            [
             0.4,
             "#fde0ef"
            ],
            [
             0.5,
             "#f7f7f7"
            ],
            [
             0.6,
             "#e6f5d0"
            ],
            [
             0.7,
             "#b8e186"
            ],
            [
             0.8,
             "#7fbc41"
            ],
            [
             0.9,
             "#4d9221"
            ],
            [
             1,
             "#276419"
            ]
           ]
          },
          "xaxis": {
           "gridcolor": "#283442",
           "linecolor": "#506784",
           "ticks": "",
           "title": {
            "standoff": 15
           },
           "zerolinecolor": "#283442",
           "automargin": true,
           "zerolinewidth": 2
          },
          "yaxis": {
           "gridcolor": "#283442",
           "linecolor": "#506784",
           "ticks": "",
           "title": {
            "standoff": 15
           },
           "zerolinecolor": "#283442",
           "automargin": true,
           "zerolinewidth": 2
          },
          "scene": {
           "xaxis": {
            "backgroundcolor": "rgb(17,17,17)",
            "gridcolor": "#506784",
            "linecolor": "#506784",
            "showbackground": true,
            "ticks": "",
            "zerolinecolor": "#C8D4E3",
            "gridwidth": 2
           },
           "yaxis": {
            "backgroundcolor": "rgb(17,17,17)",
            "gridcolor": "#506784",
            "linecolor": "#506784",
            "showbackground": true,
            "ticks": "",
            "zerolinecolor": "#C8D4E3",
            "gridwidth": 2
           },
           "zaxis": {
            "backgroundcolor": "rgb(17,17,17)",
            "gridcolor": "#506784",
            "linecolor": "#506784",
            "showbackground": true,
            "ticks": "",
            "zerolinecolor": "#C8D4E3",
            "gridwidth": 2
           }
          },
          "shapedefaults": {
           "line": {
            "color": "#f2f5fa"
           }
          },
          "annotationdefaults": {
           "arrowcolor": "#f2f5fa",
           "arrowhead": 0,
           "arrowwidth": 1
          },
          "geo": {
           "bgcolor": "rgb(17,17,17)",
           "landcolor": "rgb(17,17,17)",
           "subunitcolor": "#506784",
           "showland": true,
           "showlakes": true,
           "lakecolor": "rgb(17,17,17)"
          },
          "title": {
           "x": 0.05
          },
          "updatemenudefaults": {
           "bgcolor": "#506784",
           "borderwidth": 0
          },
          "sliderdefaults": {
           "bgcolor": "#C8D4E3",
           "borderwidth": 1,
           "bordercolor": "rgb(17,17,17)",
           "tickwidth": 0
          },
          "mapbox": {
           "style": "dark"
          }
         }
        },
        "xaxis": {
         "anchor": "y",
         "domain": [
          0.0,
          1.0
         ],
         "title": {
          "text": "Tile size"
         },
         "type": "log"
        },
        "yaxis": {
         "anchor": "x",
         "domain": [
          0.0,
          1.0
         ],
         "title": {
          "text": "Rank (r) ratio"
         }
        },
        "legend": {
         "title": {
          "text": "Matrix name"
         },
         "tracegroupgap": 0
        },
        "margin": {
         "t": 60
        },
        "title": {
         "text": "Influence of AMD on ranks for different tile sizes",
         "x": 0.5,
         "xanchor": "center",
         "yanchor": "top"
        },
        "font": {
         "color": "black"
        },
        "plot_bgcolor": "white",
        "paper_bgcolor": "white"
       },
       "config": {
        "plotlyServerURL": "https://plot.ly"
       }
      },
      "text/html": [
       "<div>                            <div id=\"9c12a960-a857-4843-917e-8e9041d98d9d\" class=\"plotly-graph-div\" style=\"height:525px; width:100%;\"></div>            <script type=\"text/javascript\">                require([\"plotly\"], function(Plotly) {                    window.PLOTLYENV=window.PLOTLYENV || {};                                    if (document.getElementById(\"9c12a960-a857-4843-917e-8e9041d98d9d\")) {                    Plotly.newPlot(                        \"9c12a960-a857-4843-917e-8e9041d98d9d\",                        [{\"hovertemplate\":\"Matrix name=Pres_Poisson\\u003cbr\\u003eTile size=%{x}\\u003cbr\\u003eRank (r) ratio=%{y}\\u003cextra\\u003e\\u003c\\u002fextra\\u003e\",\"legendgroup\":\"Pres_Poisson\",\"line\":{\"color\":\"#FF6692\",\"dash\":\"solid\"},\"marker\":{\"symbol\":\"circle\"},\"mode\":\"lines+markers\",\"name\":\"Pres_Poisson\",\"orientation\":\"v\",\"showlegend\":true,\"x\":[2.0,7411.0,14822.0],\"xaxis\":\"x\",\"y\":[0.9878058363726292,1.0,1.0],\"yaxis\":\"y\",\"type\":\"scatter\"},{\"hovertemplate\":\"Matrix name=bcsstk13\\u003cbr\\u003eTile size=%{x}\\u003cbr\\u003eRank (r) ratio=%{y}\\u003cextra\\u003e\\u003c\\u002fextra\\u003e\",\"legendgroup\":\"bcsstk13\",\"line\":{\"color\":\"#636EFA\",\"dash\":\"solid\"},\"marker\":{\"symbol\":\"diamond\"},\"mode\":\"lines+markers\",\"name\":\"bcsstk13\",\"orientation\":\"v\",\"showlegend\":true,\"x\":[2003.0],\"xaxis\":\"x\",\"y\":[1.0],\"yaxis\":\"y\",\"type\":\"scatter\"},{\"hovertemplate\":\"Matrix name=ex10\\u003cbr\\u003eTile size=%{x}\\u003cbr\\u003eRank (r) ratio=%{y}\\u003cextra\\u003e\\u003c\\u002fextra\\u003e\",\"legendgroup\":\"ex10\",\"line\":{\"color\":\"#EF553B\",\"dash\":\"solid\"},\"marker\":{\"symbol\":\"square\"},\"mode\":\"lines+markers\",\"name\":\"ex10\",\"orientation\":\"v\",\"showlegend\":true,\"x\":[2.0,5.0,10.0,241.0,482.0,1205.0,2410.0],\"xaxis\":\"x\",\"y\":[0.6840507302075327,0.9200421623249511,0.9267036450079239,1.5714285714285714,1.3076923076923077,1.0,1.0],\"yaxis\":\"y\",\"type\":\"scatter\"},{\"hovertemplate\":\"Matrix name=ex10hs\\u003cbr\\u003eTile size=%{x}\\u003cbr\\u003eRank (r) ratio=%{y}\\u003cextra\\u003e\\u003c\\u002fextra\\u003e\",\"legendgroup\":\"ex10hs\",\"line\":{\"color\":\"#FFA15A\",\"dash\":\"solid\"},\"marker\":{\"symbol\":\"x\"},\"mode\":\"lines+markers\",\"name\":\"ex10hs\",\"orientation\":\"v\",\"showlegend\":true,\"x\":[2.0,4.0,7.0,13.0,14.0,26.0,28.0,49.0,52.0,91.0,98.0,182.0,196.0,364.0,637.0,1274.0,2548.0],\"xaxis\":\"x\",\"y\":[0.6527643758264536,0.7488731487443657,0.8984641638225256,0.9866803278688525,0.9220338983050848,0.9769230769230769,1.0204379562043795,1.0927152317880795,1.150943396226415,1.4,1.4375,1.6,1.6486486486486487,1.4210526315789473,1.2,1.0,1.0],\"yaxis\":\"y\",\"type\":\"scatter\"},{\"hovertemplate\":\"Matrix name=ex13\\u003cbr\\u003eTile size=%{x}\\u003cbr\\u003eRank (r) ratio=%{y}\\u003cextra\\u003e\\u003c\\u002fextra\\u003e\",\"legendgroup\":\"ex13\",\"line\":{\"color\":\"#00CC96\",\"dash\":\"solid\"},\"marker\":{\"symbol\":\"cross\"},\"mode\":\"lines+markers\",\"name\":\"ex13\",\"orientation\":\"v\",\"showlegend\":true,\"x\":[2.0,3.0,4.0,6.0,8.0,12.0,24.0,107.0,214.0,321.0,428.0,642.0,856.0,1284.0,2568.0],\"xaxis\":\"x\",\"y\":[1.0094837612955176,1.0600347640058831,1.0168940870695258,1.0227272727272727,1.0962331591971406,1.1668341708542713,1.1613285883748516,1.6097560975609757,1.6470588235294117,1.6363636363636365,1.5,1.4,1.2857142857142858,1.0,1.0],\"yaxis\":\"y\",\"type\":\"scatter\"},{\"hovertemplate\":\"Matrix name=ex15\\u003cbr\\u003eTile size=%{x}\\u003cbr\\u003eRank (r) ratio=%{y}\\u003cextra\\u003e\\u003c\\u002fextra\\u003e\",\"legendgroup\":\"ex15\",\"line\":{\"color\":\"#19D3F3\",\"dash\":\"solid\"},\"marker\":{\"symbol\":\"circle\"},\"mode\":\"lines+markers\",\"name\":\"ex15\",\"orientation\":\"v\",\"showlegend\":true,\"x\":[3.0,7.0,9.0,21.0,63.0,109.0,327.0,763.0,981.0,2289.0,6867.0],\"xaxis\":\"x\",\"y\":[1.3583354350567465,1.3249230769230769,1.3494736842105264,1.3560439560439561,2.4584615384615383,2.2085561497326203,1.6885245901639345,1.4,1.4210526315789473,0.7142857142857143,1.0],\"yaxis\":\"y\",\"type\":\"scatter\"},{\"hovertemplate\":\"Matrix name=ex3\\u003cbr\\u003eTile size=%{x}\\u003cbr\\u003eRank (r) ratio=%{y}\\u003cextra\\u003e\\u003c\\u002fextra\\u003e\",\"legendgroup\":\"ex3\",\"line\":{\"color\":\"#AB63FA\",\"dash\":\"solid\"},\"marker\":{\"symbol\":\"diamond\"},\"mode\":\"lines+markers\",\"name\":\"ex3\",\"orientation\":\"v\",\"showlegend\":true,\"x\":[3.0,607.0,1821.0],\"xaxis\":\"x\",\"y\":[1.0500338066260988,1.2857142857142858,1.0],\"yaxis\":\"y\",\"type\":\"scatter\"}],                        {\"template\":{\"data\":{\"histogram2dcontour\":[{\"type\":\"histogram2dcontour\",\"colorbar\":{\"outlinewidth\":0,\"ticks\":\"\"},\"colorscale\":[[0.0,\"#0d0887\"],[0.1111111111111111,\"#46039f\"],[0.2222222222222222,\"#7201a8\"],[0.3333333333333333,\"#9c179e\"],[0.4444444444444444,\"#bd3786\"],[0.5555555555555556,\"#d8576b\"],[0.6666666666666666,\"#ed7953\"],[0.7777777777777778,\"#fb9f3a\"],[0.8888888888888888,\"#fdca26\"],[1.0,\"#f0f921\"]]}],\"choropleth\":[{\"type\":\"choropleth\",\"colorbar\":{\"outlinewidth\":0,\"ticks\":\"\"}}],\"histogram2d\":[{\"type\":\"histogram2d\",\"colorbar\":{\"outlinewidth\":0,\"ticks\":\"\"},\"colorscale\":[[0.0,\"#0d0887\"],[0.1111111111111111,\"#46039f\"],[0.2222222222222222,\"#7201a8\"],[0.3333333333333333,\"#9c179e\"],[0.4444444444444444,\"#bd3786\"],[0.5555555555555556,\"#d8576b\"],[0.6666666666666666,\"#ed7953\"],[0.7777777777777778,\"#fb9f3a\"],[0.8888888888888888,\"#fdca26\"],[1.0,\"#f0f921\"]]}],\"heatmap\":[{\"type\":\"heatmap\",\"colorbar\":{\"outlinewidth\":0,\"ticks\":\"\"},\"colorscale\":[[0.0,\"#0d0887\"],[0.1111111111111111,\"#46039f\"],[0.2222222222222222,\"#7201a8\"],[0.3333333333333333,\"#9c179e\"],[0.4444444444444444,\"#bd3786\"],[0.5555555555555556,\"#d8576b\"],[0.6666666666666666,\"#ed7953\"],[0.7777777777777778,\"#fb9f3a\"],[0.8888888888888888,\"#fdca26\"],[1.0,\"#f0f921\"]]}],\"heatmapgl\":[{\"type\":\"heatmapgl\",\"colorbar\":{\"outlinewidth\":0,\"ticks\":\"\"},\"colorscale\":[[0.0,\"#0d0887\"],[0.1111111111111111,\"#46039f\"],[0.2222222222222222,\"#7201a8\"],[0.3333333333333333,\"#9c179e\"],[0.4444444444444444,\"#bd3786\"],[0.5555555555555556,\"#d8576b\"],[0.6666666666666666,\"#ed7953\"],[0.7777777777777778,\"#fb9f3a\"],[0.8888888888888888,\"#fdca26\"],[1.0,\"#f0f921\"]]}],\"contourcarpet\":[{\"type\":\"contourcarpet\",\"colorbar\":{\"outlinewidth\":0,\"ticks\":\"\"}}],\"contour\":[{\"type\":\"contour\",\"colorbar\":{\"outlinewidth\":0,\"ticks\":\"\"},\"colorscale\":[[0.0,\"#0d0887\"],[0.1111111111111111,\"#46039f\"],[0.2222222222222222,\"#7201a8\"],[0.3333333333333333,\"#9c179e\"],[0.4444444444444444,\"#bd3786\"],[0.5555555555555556,\"#d8576b\"],[0.6666666666666666,\"#ed7953\"],[0.7777777777777778,\"#fb9f3a\"],[0.8888888888888888,\"#fdca26\"],[1.0,\"#f0f921\"]]}],\"surface\":[{\"type\":\"surface\",\"colorbar\":{\"outlinewidth\":0,\"ticks\":\"\"},\"colorscale\":[[0.0,\"#0d0887\"],[0.1111111111111111,\"#46039f\"],[0.2222222222222222,\"#7201a8\"],[0.3333333333333333,\"#9c179e\"],[0.4444444444444444,\"#bd3786\"],[0.5555555555555556,\"#d8576b\"],[0.6666666666666666,\"#ed7953\"],[0.7777777777777778,\"#fb9f3a\"],[0.8888888888888888,\"#fdca26\"],[1.0,\"#f0f921\"]]}],\"mesh3d\":[{\"type\":\"mesh3d\",\"colorbar\":{\"outlinewidth\":0,\"ticks\":\"\"}}],\"scatter\":[{\"marker\":{\"line\":{\"color\":\"#283442\"}},\"type\":\"scatter\"}],\"parcoords\":[{\"type\":\"parcoords\",\"line\":{\"colorbar\":{\"outlinewidth\":0,\"ticks\":\"\"}}}],\"scatterpolargl\":[{\"type\":\"scatterpolargl\",\"marker\":{\"colorbar\":{\"outlinewidth\":0,\"ticks\":\"\"}}}],\"bar\":[{\"error_x\":{\"color\":\"#f2f5fa\"},\"error_y\":{\"color\":\"#f2f5fa\"},\"marker\":{\"line\":{\"color\":\"rgb(17,17,17)\",\"width\":0.5},\"pattern\":{\"fillmode\":\"overlay\",\"size\":10,\"solidity\":0.2}},\"type\":\"bar\"}],\"scattergeo\":[{\"type\":\"scattergeo\",\"marker\":{\"colorbar\":{\"outlinewidth\":0,\"ticks\":\"\"}}}],\"scatterpolar\":[{\"type\":\"scatterpolar\",\"marker\":{\"colorbar\":{\"outlinewidth\":0,\"ticks\":\"\"}}}],\"histogram\":[{\"marker\":{\"pattern\":{\"fillmode\":\"overlay\",\"size\":10,\"solidity\":0.2}},\"type\":\"histogram\"}],\"scattergl\":[{\"marker\":{\"line\":{\"color\":\"#283442\"}},\"type\":\"scattergl\"}],\"scatter3d\":[{\"type\":\"scatter3d\",\"line\":{\"colorbar\":{\"outlinewidth\":0,\"ticks\":\"\"}},\"marker\":{\"colorbar\":{\"outlinewidth\":0,\"ticks\":\"\"}}}],\"scattermapbox\":[{\"type\":\"scattermapbox\",\"marker\":{\"colorbar\":{\"outlinewidth\":0,\"ticks\":\"\"}}}],\"scatterternary\":[{\"type\":\"scatterternary\",\"marker\":{\"colorbar\":{\"outlinewidth\":0,\"ticks\":\"\"}}}],\"scattercarpet\":[{\"type\":\"scattercarpet\",\"marker\":{\"colorbar\":{\"outlinewidth\":0,\"ticks\":\"\"}}}],\"carpet\":[{\"aaxis\":{\"endlinecolor\":\"#A2B1C6\",\"gridcolor\":\"#506784\",\"linecolor\":\"#506784\",\"minorgridcolor\":\"#506784\",\"startlinecolor\":\"#A2B1C6\"},\"baxis\":{\"endlinecolor\":\"#A2B1C6\",\"gridcolor\":\"#506784\",\"linecolor\":\"#506784\",\"minorgridcolor\":\"#506784\",\"startlinecolor\":\"#A2B1C6\"},\"type\":\"carpet\"}],\"table\":[{\"cells\":{\"fill\":{\"color\":\"#506784\"},\"line\":{\"color\":\"rgb(17,17,17)\"}},\"header\":{\"fill\":{\"color\":\"#2a3f5f\"},\"line\":{\"color\":\"rgb(17,17,17)\"}},\"type\":\"table\"}],\"barpolar\":[{\"marker\":{\"line\":{\"color\":\"rgb(17,17,17)\",\"width\":0.5},\"pattern\":{\"fillmode\":\"overlay\",\"size\":10,\"solidity\":0.2}},\"type\":\"barpolar\"}],\"pie\":[{\"automargin\":true,\"type\":\"pie\"}]},\"layout\":{\"autotypenumbers\":\"strict\",\"colorway\":[\"#636efa\",\"#EF553B\",\"#00cc96\",\"#ab63fa\",\"#FFA15A\",\"#19d3f3\",\"#FF6692\",\"#B6E880\",\"#FF97FF\",\"#FECB52\"],\"font\":{\"color\":\"#f2f5fa\"},\"hovermode\":\"closest\",\"hoverlabel\":{\"align\":\"left\"},\"paper_bgcolor\":\"rgb(17,17,17)\",\"plot_bgcolor\":\"rgb(17,17,17)\",\"polar\":{\"bgcolor\":\"rgb(17,17,17)\",\"angularaxis\":{\"gridcolor\":\"#506784\",\"linecolor\":\"#506784\",\"ticks\":\"\"},\"radialaxis\":{\"gridcolor\":\"#506784\",\"linecolor\":\"#506784\",\"ticks\":\"\"}},\"ternary\":{\"bgcolor\":\"rgb(17,17,17)\",\"aaxis\":{\"gridcolor\":\"#506784\",\"linecolor\":\"#506784\",\"ticks\":\"\"},\"baxis\":{\"gridcolor\":\"#506784\",\"linecolor\":\"#506784\",\"ticks\":\"\"},\"caxis\":{\"gridcolor\":\"#506784\",\"linecolor\":\"#506784\",\"ticks\":\"\"}},\"coloraxis\":{\"colorbar\":{\"outlinewidth\":0,\"ticks\":\"\"}},\"colorscale\":{\"sequential\":[[0.0,\"#0d0887\"],[0.1111111111111111,\"#46039f\"],[0.2222222222222222,\"#7201a8\"],[0.3333333333333333,\"#9c179e\"],[0.4444444444444444,\"#bd3786\"],[0.5555555555555556,\"#d8576b\"],[0.6666666666666666,\"#ed7953\"],[0.7777777777777778,\"#fb9f3a\"],[0.8888888888888888,\"#fdca26\"],[1.0,\"#f0f921\"]],\"sequentialminus\":[[0.0,\"#0d0887\"],[0.1111111111111111,\"#46039f\"],[0.2222222222222222,\"#7201a8\"],[0.3333333333333333,\"#9c179e\"],[0.4444444444444444,\"#bd3786\"],[0.5555555555555556,\"#d8576b\"],[0.6666666666666666,\"#ed7953\"],[0.7777777777777778,\"#fb9f3a\"],[0.8888888888888888,\"#fdca26\"],[1.0,\"#f0f921\"]],\"diverging\":[[0,\"#8e0152\"],[0.1,\"#c51b7d\"],[0.2,\"#de77ae\"],[0.3,\"#f1b6da\"],[0.4,\"#fde0ef\"],[0.5,\"#f7f7f7\"],[0.6,\"#e6f5d0\"],[0.7,\"#b8e186\"],[0.8,\"#7fbc41\"],[0.9,\"#4d9221\"],[1,\"#276419\"]]},\"xaxis\":{\"gridcolor\":\"#283442\",\"linecolor\":\"#506784\",\"ticks\":\"\",\"title\":{\"standoff\":15},\"zerolinecolor\":\"#283442\",\"automargin\":true,\"zerolinewidth\":2},\"yaxis\":{\"gridcolor\":\"#283442\",\"linecolor\":\"#506784\",\"ticks\":\"\",\"title\":{\"standoff\":15},\"zerolinecolor\":\"#283442\",\"automargin\":true,\"zerolinewidth\":2},\"scene\":{\"xaxis\":{\"backgroundcolor\":\"rgb(17,17,17)\",\"gridcolor\":\"#506784\",\"linecolor\":\"#506784\",\"showbackground\":true,\"ticks\":\"\",\"zerolinecolor\":\"#C8D4E3\",\"gridwidth\":2},\"yaxis\":{\"backgroundcolor\":\"rgb(17,17,17)\",\"gridcolor\":\"#506784\",\"linecolor\":\"#506784\",\"showbackground\":true,\"ticks\":\"\",\"zerolinecolor\":\"#C8D4E3\",\"gridwidth\":2},\"zaxis\":{\"backgroundcolor\":\"rgb(17,17,17)\",\"gridcolor\":\"#506784\",\"linecolor\":\"#506784\",\"showbackground\":true,\"ticks\":\"\",\"zerolinecolor\":\"#C8D4E3\",\"gridwidth\":2}},\"shapedefaults\":{\"line\":{\"color\":\"#f2f5fa\"}},\"annotationdefaults\":{\"arrowcolor\":\"#f2f5fa\",\"arrowhead\":0,\"arrowwidth\":1},\"geo\":{\"bgcolor\":\"rgb(17,17,17)\",\"landcolor\":\"rgb(17,17,17)\",\"subunitcolor\":\"#506784\",\"showland\":true,\"showlakes\":true,\"lakecolor\":\"rgb(17,17,17)\"},\"title\":{\"x\":0.05},\"updatemenudefaults\":{\"bgcolor\":\"#506784\",\"borderwidth\":0},\"sliderdefaults\":{\"bgcolor\":\"#C8D4E3\",\"borderwidth\":1,\"bordercolor\":\"rgb(17,17,17)\",\"tickwidth\":0},\"mapbox\":{\"style\":\"dark\"}}},\"xaxis\":{\"anchor\":\"y\",\"domain\":[0.0,1.0],\"title\":{\"text\":\"Tile size\"},\"type\":\"log\"},\"yaxis\":{\"anchor\":\"x\",\"domain\":[0.0,1.0],\"title\":{\"text\":\"Rank (r) ratio\"}},\"legend\":{\"title\":{\"text\":\"Matrix name\"},\"tracegroupgap\":0},\"margin\":{\"t\":60},\"title\":{\"text\":\"Influence of AMD on ranks for different tile sizes\",\"x\":0.5,\"xanchor\":\"center\",\"yanchor\":\"top\"},\"font\":{\"color\":\"black\"},\"plot_bgcolor\":\"white\",\"paper_bgcolor\":\"white\"},                        {\"responsive\": true}                    ).then(function(){\n",
       "                            \n",
       "var gd = document.getElementById('9c12a960-a857-4843-917e-8e9041d98d9d');\n",
       "var x = new MutationObserver(function (mutations, observer) {{\n",
       "        var display = window.getComputedStyle(gd).display;\n",
       "        if (!display || display === 'none') {{\n",
       "            console.log([gd, 'removed!']);\n",
       "            Plotly.purge(gd);\n",
       "            observer.disconnect();\n",
       "        }}\n",
       "}});\n",
       "\n",
       "// Listen for the removal of the full notebook cells\n",
       "var notebookContainer = gd.closest('#notebook-container');\n",
       "if (notebookContainer) {{\n",
       "    x.observe(notebookContainer, {childList: true});\n",
       "}}\n",
       "\n",
       "// Listen for the clearing of the current output cell\n",
       "var outputEl = gd.closest('.output');\n",
       "if (outputEl) {{\n",
       "    x.observe(outputEl, {childList: true});\n",
       "}}\n",
       "\n",
       "                        })                };                });            </script>        </div>"
      ]
     },
     "metadata": {},
     "output_type": "display_data"
    }
   ],
   "execution_count": 15
  },
  {
   "metadata": {
    "ExecuteTime": {
     "end_time": "2024-08-24T17:19:36.359502Z",
     "start_time": "2024-08-24T17:19:36.203408Z"
    }
   },
   "cell_type": "code",
   "source": [
    "# do some preprocessing to be able to show nonzero entry change for different matrices together - do it in terms of percentage\n",
    "\n",
    "partial_gauss_df = get_percentage_change_per_category(data_frame=partial_gauss_df, result_column=\"z_reduced_percentage\", variable=\"z_reduced\", baseline_col=\"partial_gauss\", baseline_value=0, category=\"matrix_name\")\n",
    "partial_gauss_df = get_percentage_change_per_category(data_frame=partial_gauss_df, result_column=\"z_full_percentage\", variable=\"z_full\", baseline_col=\"partial_gauss\", baseline_value=0, category=\"matrix_name\")\n",
    "partial_gauss_df.sort_values(by=\"partial_gauss\", inplace=True)\n",
    "# n holds the updated matrix size, hence we have to add the number of reduced variables to get original n\n",
    "partial_gauss_df[\"reduced_variable_percentage\"] = partial_gauss_df[\"partial_gauss\"] / (partial_gauss_df[\"n\"]+ partial_gauss_df[\"partial_gauss\"])\n",
    "partial_gauss_df.sort_values(by=[\"matrix_name\", \"partial_gauss\"], inplace=True)"
   ],
   "id": "e728a478af8a75e2",
   "outputs": [
    {
     "name": "stderr",
     "output_type": "stream",
     "text": [
      "C:\\Users\\bakos\\Documents\\TUDelft\\Thesis\\sparse_tt_decomp_opt\\src\\analysis\\analysis_utils.py:100: SettingWithCopyWarning:\n",
      "\n",
      "\n",
      "A value is trying to be set on a copy of a slice from a DataFrame.\n",
      "Try using .loc[row_indexer,col_indexer] = value instead\n",
      "\n",
      "See the caveats in the documentation: https://pandas.pydata.org/pandas-docs/stable/user_guide/indexing.html#returning-a-view-versus-a-copy\n",
      "\n",
      "C:\\Users\\bakos\\Documents\\TUDelft\\Thesis\\sparse_tt_decomp_opt\\src\\analysis\\analysis_utils.py:100: SettingWithCopyWarning:\n",
      "\n",
      "\n",
      "A value is trying to be set on a copy of a slice from a DataFrame.\n",
      "Try using .loc[row_indexer,col_indexer] = value instead\n",
      "\n",
      "See the caveats in the documentation: https://pandas.pydata.org/pandas-docs/stable/user_guide/indexing.html#returning-a-view-versus-a-copy\n",
      "\n",
      "C:\\Users\\bakos\\AppData\\Local\\Temp\\ipykernel_12400\\789901944.py:5: SettingWithCopyWarning:\n",
      "\n",
      "\n",
      "A value is trying to be set on a copy of a slice from a DataFrame\n",
      "\n",
      "See the caveats in the documentation: https://pandas.pydata.org/pandas-docs/stable/user_guide/indexing.html#returning-a-view-versus-a-copy\n",
      "\n",
      "C:\\Users\\bakos\\AppData\\Local\\Temp\\ipykernel_12400\\789901944.py:7: SettingWithCopyWarning:\n",
      "\n",
      "\n",
      "A value is trying to be set on a copy of a slice from a DataFrame.\n",
      "Try using .loc[row_indexer,col_indexer] = value instead\n",
      "\n",
      "See the caveats in the documentation: https://pandas.pydata.org/pandas-docs/stable/user_guide/indexing.html#returning-a-view-versus-a-copy\n",
      "\n",
      "C:\\Users\\bakos\\AppData\\Local\\Temp\\ipykernel_12400\\789901944.py:8: SettingWithCopyWarning:\n",
      "\n",
      "\n",
      "A value is trying to be set on a copy of a slice from a DataFrame\n",
      "\n",
      "See the caveats in the documentation: https://pandas.pydata.org/pandas-docs/stable/user_guide/indexing.html#returning-a-view-versus-a-copy\n",
      "\n"
     ]
    }
   ],
   "execution_count": 16
  },
  {
   "metadata": {
    "ExecuteTime": {
     "end_time": "2024-08-24T17:19:37.677071Z",
     "start_time": "2024-08-24T17:19:37.610341Z"
    }
   },
   "cell_type": "code",
   "source": "partial_gauss_df",
   "id": "8963aa3f92b80681",
   "outputs": [
    {
     "data": {
      "text/plain": [
       "          amd    rcm  padding   matrix_name  max_mode_size  sparsity_ratio  \\\n",
       "12760   False  False        0  Pres_Poisson         7411.0        0.997164   \n",
       "12761   False  False        0  Pres_Poisson         7411.0        0.997164   \n",
       "12762   False  False        0  Pres_Poisson        14822.0        0.997164   \n",
       "12763   False  False        0  Pres_Poisson        14821.0        0.997164   \n",
       "12774   False  False        0  Pres_Poisson           20.0        0.997163   \n",
       "...       ...    ...      ...           ...            ...             ...   \n",
       "277531  False  False        0           ex3          184.0        0.875591   \n",
       "277530  False  False        0           ex3           92.0        0.875591   \n",
       "277529  False  False        0           ex3           46.0        0.875591   \n",
       "277528  False  False        0           ex3           23.0        0.875591   \n",
       "277526  False  False        0           ex3           23.0        0.875591   \n",
       "\n",
       "          z_full        n  tile_size  z_reduced  ...      rank  log_obj_func  \\\n",
       "12760   623075.0  14822.0        2.0   623075.0  ...  216333.0     53.464340   \n",
       "12761   623075.0  14822.0     7411.0   623075.0  ...       4.0     53.464324   \n",
       "12762   623075.0  14822.0    14822.0   623075.0  ...       1.0     57.623207   \n",
       "12763   623019.0  14821.0    14821.0   622969.0  ...       1.0     57.622802   \n",
       "12774   623168.0  14820.0       20.0   623071.0  ...   10221.0     24.459346   \n",
       "...          ...      ...        ...        ...  ...       ...           ...   \n",
       "277531   71682.0    184.0      184.0     4212.0  ...       1.0     31.289615   \n",
       "277530   71682.0    184.0       92.0     4212.0  ...       4.0     27.130737   \n",
       "277529   71682.0    184.0       46.0     4212.0  ...      12.0     22.972004   \n",
       "277528   71682.0    184.0       23.0     4212.0  ...      40.0     18.821930   \n",
       "277526   71682.0    184.0        4.0     4212.0  ...     748.0     19.931655   \n",
       "\n",
       "            obj_func  full_runtime  log_full_runtime  largest_prime_factor  \\\n",
       "12760   1.656791e+23  1.199031e+31         71.561651                7411.0   \n",
       "12761   1.656765e+23  1.199031e+31         71.561651                7411.0   \n",
       "12762   1.060330e+25  7.673796e+32         75.720534                7411.0   \n",
       "12763   1.059900e+25  7.670259e+32         75.720073               14821.0   \n",
       "12774   4.193330e+10  8.052230e+15         36.624725                  19.0   \n",
       "...              ...           ...               ...                   ...   \n",
       "277531  3.880673e+13  2.122749e+19         44.501829                  23.0   \n",
       "277530  6.063583e+11  3.316795e+17         40.342946                  23.0   \n",
       "277529  9.475770e+09  5.182499e+15         36.184064                  23.0   \n",
       "277528  1.493690e+08  8.098164e+13         32.025244                  23.0   \n",
       "277526  4.531144e+08  8.215471e+13         32.039625                  23.0   \n",
       "\n",
       "        is_baseline_tile  z_reduced_percentage  z_full_percentage  \\\n",
       "12760              False              1.000000           1.000000   \n",
       "12761               True              1.000000           1.000000   \n",
       "12762              False              1.000000           1.000000   \n",
       "12763               True              0.999830           0.999910   \n",
       "12774              False              0.999994           1.000149   \n",
       "...                  ...                   ...                ...   \n",
       "277531             False              0.096184           1.636912   \n",
       "277530             False              0.096184           1.636912   \n",
       "277529             False              0.096184           1.636912   \n",
       "277528              True              0.096184           1.636912   \n",
       "277526             False              0.096184           1.636912   \n",
       "\n",
       "        reduced_variable_percentage  \n",
       "12760                      0.000000  \n",
       "12761                      0.000000  \n",
       "12762                      0.000000  \n",
       "12763                      0.000067  \n",
       "12774                      0.000135  \n",
       "...                             ...  \n",
       "277531                     0.898957  \n",
       "277530                     0.898957  \n",
       "277529                     0.898957  \n",
       "277528                     0.898957  \n",
       "277526                     0.898957  \n",
       "\n",
       "[54418 rows x 21 columns]"
      ],
      "text/html": [
       "<div>\n",
       "<style scoped>\n",
       "    .dataframe tbody tr th:only-of-type {\n",
       "        vertical-align: middle;\n",
       "    }\n",
       "\n",
       "    .dataframe tbody tr th {\n",
       "        vertical-align: top;\n",
       "    }\n",
       "\n",
       "    .dataframe thead th {\n",
       "        text-align: right;\n",
       "    }\n",
       "</style>\n",
       "<table border=\"1\" class=\"dataframe\">\n",
       "  <thead>\n",
       "    <tr style=\"text-align: right;\">\n",
       "      <th></th>\n",
       "      <th>amd</th>\n",
       "      <th>rcm</th>\n",
       "      <th>padding</th>\n",
       "      <th>matrix_name</th>\n",
       "      <th>max_mode_size</th>\n",
       "      <th>sparsity_ratio</th>\n",
       "      <th>z_full</th>\n",
       "      <th>n</th>\n",
       "      <th>tile_size</th>\n",
       "      <th>z_reduced</th>\n",
       "      <th>...</th>\n",
       "      <th>rank</th>\n",
       "      <th>log_obj_func</th>\n",
       "      <th>obj_func</th>\n",
       "      <th>full_runtime</th>\n",
       "      <th>log_full_runtime</th>\n",
       "      <th>largest_prime_factor</th>\n",
       "      <th>is_baseline_tile</th>\n",
       "      <th>z_reduced_percentage</th>\n",
       "      <th>z_full_percentage</th>\n",
       "      <th>reduced_variable_percentage</th>\n",
       "    </tr>\n",
       "  </thead>\n",
       "  <tbody>\n",
       "    <tr>\n",
       "      <th>12760</th>\n",
       "      <td>False</td>\n",
       "      <td>False</td>\n",
       "      <td>0</td>\n",
       "      <td>Pres_Poisson</td>\n",
       "      <td>7411.0</td>\n",
       "      <td>0.997164</td>\n",
       "      <td>623075.0</td>\n",
       "      <td>14822.0</td>\n",
       "      <td>2.0</td>\n",
       "      <td>623075.0</td>\n",
       "      <td>...</td>\n",
       "      <td>216333.0</td>\n",
       "      <td>53.464340</td>\n",
       "      <td>1.656791e+23</td>\n",
       "      <td>1.199031e+31</td>\n",
       "      <td>71.561651</td>\n",
       "      <td>7411.0</td>\n",
       "      <td>False</td>\n",
       "      <td>1.000000</td>\n",
       "      <td>1.000000</td>\n",
       "      <td>0.000000</td>\n",
       "    </tr>\n",
       "    <tr>\n",
       "      <th>12761</th>\n",
       "      <td>False</td>\n",
       "      <td>False</td>\n",
       "      <td>0</td>\n",
       "      <td>Pres_Poisson</td>\n",
       "      <td>7411.0</td>\n",
       "      <td>0.997164</td>\n",
       "      <td>623075.0</td>\n",
       "      <td>14822.0</td>\n",
       "      <td>7411.0</td>\n",
       "      <td>623075.0</td>\n",
       "      <td>...</td>\n",
       "      <td>4.0</td>\n",
       "      <td>53.464324</td>\n",
       "      <td>1.656765e+23</td>\n",
       "      <td>1.199031e+31</td>\n",
       "      <td>71.561651</td>\n",
       "      <td>7411.0</td>\n",
       "      <td>True</td>\n",
       "      <td>1.000000</td>\n",
       "      <td>1.000000</td>\n",
       "      <td>0.000000</td>\n",
       "    </tr>\n",
       "    <tr>\n",
       "      <th>12762</th>\n",
       "      <td>False</td>\n",
       "      <td>False</td>\n",
       "      <td>0</td>\n",
       "      <td>Pres_Poisson</td>\n",
       "      <td>14822.0</td>\n",
       "      <td>0.997164</td>\n",
       "      <td>623075.0</td>\n",
       "      <td>14822.0</td>\n",
       "      <td>14822.0</td>\n",
       "      <td>623075.0</td>\n",
       "      <td>...</td>\n",
       "      <td>1.0</td>\n",
       "      <td>57.623207</td>\n",
       "      <td>1.060330e+25</td>\n",
       "      <td>7.673796e+32</td>\n",
       "      <td>75.720534</td>\n",
       "      <td>7411.0</td>\n",
       "      <td>False</td>\n",
       "      <td>1.000000</td>\n",
       "      <td>1.000000</td>\n",
       "      <td>0.000000</td>\n",
       "    </tr>\n",
       "    <tr>\n",
       "      <th>12763</th>\n",
       "      <td>False</td>\n",
       "      <td>False</td>\n",
       "      <td>0</td>\n",
       "      <td>Pres_Poisson</td>\n",
       "      <td>14821.0</td>\n",
       "      <td>0.997164</td>\n",
       "      <td>623019.0</td>\n",
       "      <td>14821.0</td>\n",
       "      <td>14821.0</td>\n",
       "      <td>622969.0</td>\n",
       "      <td>...</td>\n",
       "      <td>1.0</td>\n",
       "      <td>57.622802</td>\n",
       "      <td>1.059900e+25</td>\n",
       "      <td>7.670259e+32</td>\n",
       "      <td>75.720073</td>\n",
       "      <td>14821.0</td>\n",
       "      <td>True</td>\n",
       "      <td>0.999830</td>\n",
       "      <td>0.999910</td>\n",
       "      <td>0.000067</td>\n",
       "    </tr>\n",
       "    <tr>\n",
       "      <th>12774</th>\n",
       "      <td>False</td>\n",
       "      <td>False</td>\n",
       "      <td>0</td>\n",
       "      <td>Pres_Poisson</td>\n",
       "      <td>20.0</td>\n",
       "      <td>0.997163</td>\n",
       "      <td>623168.0</td>\n",
       "      <td>14820.0</td>\n",
       "      <td>20.0</td>\n",
       "      <td>623071.0</td>\n",
       "      <td>...</td>\n",
       "      <td>10221.0</td>\n",
       "      <td>24.459346</td>\n",
       "      <td>4.193330e+10</td>\n",
       "      <td>8.052230e+15</td>\n",
       "      <td>36.624725</td>\n",
       "      <td>19.0</td>\n",
       "      <td>False</td>\n",
       "      <td>0.999994</td>\n",
       "      <td>1.000149</td>\n",
       "      <td>0.000135</td>\n",
       "    </tr>\n",
       "    <tr>\n",
       "      <th>...</th>\n",
       "      <td>...</td>\n",
       "      <td>...</td>\n",
       "      <td>...</td>\n",
       "      <td>...</td>\n",
       "      <td>...</td>\n",
       "      <td>...</td>\n",
       "      <td>...</td>\n",
       "      <td>...</td>\n",
       "      <td>...</td>\n",
       "      <td>...</td>\n",
       "      <td>...</td>\n",
       "      <td>...</td>\n",
       "      <td>...</td>\n",
       "      <td>...</td>\n",
       "      <td>...</td>\n",
       "      <td>...</td>\n",
       "      <td>...</td>\n",
       "      <td>...</td>\n",
       "      <td>...</td>\n",
       "      <td>...</td>\n",
       "      <td>...</td>\n",
       "    </tr>\n",
       "    <tr>\n",
       "      <th>277531</th>\n",
       "      <td>False</td>\n",
       "      <td>False</td>\n",
       "      <td>0</td>\n",
       "      <td>ex3</td>\n",
       "      <td>184.0</td>\n",
       "      <td>0.875591</td>\n",
       "      <td>71682.0</td>\n",
       "      <td>184.0</td>\n",
       "      <td>184.0</td>\n",
       "      <td>4212.0</td>\n",
       "      <td>...</td>\n",
       "      <td>1.0</td>\n",
       "      <td>31.289615</td>\n",
       "      <td>3.880673e+13</td>\n",
       "      <td>2.122749e+19</td>\n",
       "      <td>44.501829</td>\n",
       "      <td>23.0</td>\n",
       "      <td>False</td>\n",
       "      <td>0.096184</td>\n",
       "      <td>1.636912</td>\n",
       "      <td>0.898957</td>\n",
       "    </tr>\n",
       "    <tr>\n",
       "      <th>277530</th>\n",
       "      <td>False</td>\n",
       "      <td>False</td>\n",
       "      <td>0</td>\n",
       "      <td>ex3</td>\n",
       "      <td>92.0</td>\n",
       "      <td>0.875591</td>\n",
       "      <td>71682.0</td>\n",
       "      <td>184.0</td>\n",
       "      <td>92.0</td>\n",
       "      <td>4212.0</td>\n",
       "      <td>...</td>\n",
       "      <td>4.0</td>\n",
       "      <td>27.130737</td>\n",
       "      <td>6.063583e+11</td>\n",
       "      <td>3.316795e+17</td>\n",
       "      <td>40.342946</td>\n",
       "      <td>23.0</td>\n",
       "      <td>False</td>\n",
       "      <td>0.096184</td>\n",
       "      <td>1.636912</td>\n",
       "      <td>0.898957</td>\n",
       "    </tr>\n",
       "    <tr>\n",
       "      <th>277529</th>\n",
       "      <td>False</td>\n",
       "      <td>False</td>\n",
       "      <td>0</td>\n",
       "      <td>ex3</td>\n",
       "      <td>46.0</td>\n",
       "      <td>0.875591</td>\n",
       "      <td>71682.0</td>\n",
       "      <td>184.0</td>\n",
       "      <td>46.0</td>\n",
       "      <td>4212.0</td>\n",
       "      <td>...</td>\n",
       "      <td>12.0</td>\n",
       "      <td>22.972004</td>\n",
       "      <td>9.475770e+09</td>\n",
       "      <td>5.182499e+15</td>\n",
       "      <td>36.184064</td>\n",
       "      <td>23.0</td>\n",
       "      <td>False</td>\n",
       "      <td>0.096184</td>\n",
       "      <td>1.636912</td>\n",
       "      <td>0.898957</td>\n",
       "    </tr>\n",
       "    <tr>\n",
       "      <th>277528</th>\n",
       "      <td>False</td>\n",
       "      <td>False</td>\n",
       "      <td>0</td>\n",
       "      <td>ex3</td>\n",
       "      <td>23.0</td>\n",
       "      <td>0.875591</td>\n",
       "      <td>71682.0</td>\n",
       "      <td>184.0</td>\n",
       "      <td>23.0</td>\n",
       "      <td>4212.0</td>\n",
       "      <td>...</td>\n",
       "      <td>40.0</td>\n",
       "      <td>18.821930</td>\n",
       "      <td>1.493690e+08</td>\n",
       "      <td>8.098164e+13</td>\n",
       "      <td>32.025244</td>\n",
       "      <td>23.0</td>\n",
       "      <td>True</td>\n",
       "      <td>0.096184</td>\n",
       "      <td>1.636912</td>\n",
       "      <td>0.898957</td>\n",
       "    </tr>\n",
       "    <tr>\n",
       "      <th>277526</th>\n",
       "      <td>False</td>\n",
       "      <td>False</td>\n",
       "      <td>0</td>\n",
       "      <td>ex3</td>\n",
       "      <td>23.0</td>\n",
       "      <td>0.875591</td>\n",
       "      <td>71682.0</td>\n",
       "      <td>184.0</td>\n",
       "      <td>4.0</td>\n",
       "      <td>4212.0</td>\n",
       "      <td>...</td>\n",
       "      <td>748.0</td>\n",
       "      <td>19.931655</td>\n",
       "      <td>4.531144e+08</td>\n",
       "      <td>8.215471e+13</td>\n",
       "      <td>32.039625</td>\n",
       "      <td>23.0</td>\n",
       "      <td>False</td>\n",
       "      <td>0.096184</td>\n",
       "      <td>1.636912</td>\n",
       "      <td>0.898957</td>\n",
       "    </tr>\n",
       "  </tbody>\n",
       "</table>\n",
       "<p>54418 rows × 21 columns</p>\n",
       "</div>"
      ]
     },
     "execution_count": 17,
     "metadata": {},
     "output_type": "execute_result"
    }
   ],
   "execution_count": 17
  },
  {
   "metadata": {
    "ExecuteTime": {
     "end_time": "2024-08-24T17:19:39.392671Z",
     "start_time": "2024-08-24T17:19:38.853238Z"
    }
   },
   "cell_type": "code",
   "source": [
    "# get best log_obj_func value per matrix for a given partial gauss number\n",
    "# skip large matrices\n",
    "\n",
    "idx = partial_gauss_df[(partial_gauss_df[\"matrix_name\"] != \"Pres_Poisson\") & (partial_gauss_df[\"matrix_name\"] != \"ex15\")].groupby(['matrix_name', 'partial_gauss'])['log_obj_func'].idxmin()\n",
    "\n",
    "# Use these indices to filter the original DataFrame\n",
    "partial_gauss_tile_agg_df = partial_gauss_df[(partial_gauss_df[\"matrix_name\"] != \"Pres_Poisson\") & (partial_gauss_df[\"matrix_name\"] != \"ex15\")].loc[idx].reset_index(drop=True)\n",
    "partial_gauss_tile_agg_df"
   ],
   "id": "401cc5b34c7cb824",
   "outputs": [
    {
     "data": {
      "text/plain": [
       "        amd    rcm  padding matrix_name  max_mode_size  sparsity_ratio  \\\n",
       "0     False  False        0    bcsstk13         2003.0        0.982487   \n",
       "1     False  False        0    bcsstk13           22.0        0.982433   \n",
       "2     False  False        0    bcsstk13           29.0        0.982416   \n",
       "3     False  False        0    bcsstk13           20.0        0.982415   \n",
       "4     False  False        0    bcsstk13         1999.0        0.982413   \n",
       "...     ...    ...      ...         ...            ...             ...   \n",
       "7518  False  False        0         ex3           47.0        0.873670   \n",
       "7519  False  False        0         ex3           17.0        0.874317   \n",
       "7520  False  False        0         ex3           31.0        0.871922   \n",
       "7521  False  False        0         ex3           37.0        0.873543   \n",
       "7522  False  False        0         ex3           23.0        0.875591   \n",
       "\n",
       "       z_full       n  tile_size  z_reduced  ...    rank  log_obj_func  \\\n",
       "0     70264.0  2003.0     2003.0    70264.0  ...     1.0     45.614408   \n",
       "1     70440.0  2002.0       22.0    70410.0  ...  1335.0     20.713409   \n",
       "2     70468.0  2001.0       29.0    70405.0  ...   907.0     20.992370   \n",
       "3     70437.0  2000.0       20.0    70341.0  ...  1500.0     20.698973   \n",
       "4     70407.0  1999.0     1999.0    70279.0  ...     1.0     45.602414   \n",
       "...       ...     ...        ...        ...  ...     ...           ...   \n",
       "7518  71814.0   188.0       47.0     4465.0  ...    12.0     23.101031   \n",
       "7519  71772.0   187.0       17.0     4395.0  ...    69.0     17.067918   \n",
       "7520  71837.0   186.0       31.0     4431.0  ...    24.0     20.605352   \n",
       "7521  71768.0   185.0       37.0     4328.0  ...    19.0     21.666075   \n",
       "7522  71682.0   184.0       23.0     4212.0  ...    40.0     18.821930   \n",
       "\n",
       "          obj_func  full_runtime  log_full_runtime  largest_prime_factor  \\\n",
       "0     6.457816e+19  7.205963e+26         61.842121                2003.0   \n",
       "1     9.901919e+08  1.286753e+15         34.790898                  13.0   \n",
       "2     1.308792e+09  6.648495e+15         36.433167                  29.0   \n",
       "3     9.760000e+08  7.361641e+14         34.232474                   5.0   \n",
       "4     6.380824e+19  7.105087e+26         61.828023                1999.0   \n",
       "...            ...           ...               ...                   ...   \n",
       "7518  1.078078e+10  6.093657e+15         36.346025                  47.0   \n",
       "7519  2.585249e+07  1.354128e+13         30.236764                  17.0   \n",
       "7520  8.887722e+08  4.935844e+14         33.832715                  31.0   \n",
       "7521  2.567183e+09  1.415184e+15         34.886036                  37.0   \n",
       "7522  1.493690e+08  8.098164e+13         32.025244                  23.0   \n",
       "\n",
       "      is_baseline_tile  z_reduced_percentage  z_full_percentage  \\\n",
       "0                 True              1.000000           1.000000   \n",
       "1                False              1.002078           1.002505   \n",
       "2                 True              1.002007           1.002903   \n",
       "3                False              1.001096           1.002462   \n",
       "4                 True              1.000213           1.002035   \n",
       "...                ...                   ...                ...   \n",
       "7518              True              0.101962           1.639926   \n",
       "7519              True              0.100363           1.638967   \n",
       "7520              True              0.101185           1.640451   \n",
       "7521              True              0.098833           1.638876   \n",
       "7522              True              0.096184           1.636912   \n",
       "\n",
       "      reduced_variable_percentage  \n",
       "0                        0.000000  \n",
       "1                        0.000499  \n",
       "2                        0.000999  \n",
       "3                        0.001498  \n",
       "4                        0.001997  \n",
       "...                           ...  \n",
       "7518                     0.896760  \n",
       "7519                     0.897309  \n",
       "7520                     0.897858  \n",
       "7521                     0.898407  \n",
       "7522                     0.898957  \n",
       "\n",
       "[7523 rows x 21 columns]"
      ],
      "text/html": [
       "<div>\n",
       "<style scoped>\n",
       "    .dataframe tbody tr th:only-of-type {\n",
       "        vertical-align: middle;\n",
       "    }\n",
       "\n",
       "    .dataframe tbody tr th {\n",
       "        vertical-align: top;\n",
       "    }\n",
       "\n",
       "    .dataframe thead th {\n",
       "        text-align: right;\n",
       "    }\n",
       "</style>\n",
       "<table border=\"1\" class=\"dataframe\">\n",
       "  <thead>\n",
       "    <tr style=\"text-align: right;\">\n",
       "      <th></th>\n",
       "      <th>amd</th>\n",
       "      <th>rcm</th>\n",
       "      <th>padding</th>\n",
       "      <th>matrix_name</th>\n",
       "      <th>max_mode_size</th>\n",
       "      <th>sparsity_ratio</th>\n",
       "      <th>z_full</th>\n",
       "      <th>n</th>\n",
       "      <th>tile_size</th>\n",
       "      <th>z_reduced</th>\n",
       "      <th>...</th>\n",
       "      <th>rank</th>\n",
       "      <th>log_obj_func</th>\n",
       "      <th>obj_func</th>\n",
       "      <th>full_runtime</th>\n",
       "      <th>log_full_runtime</th>\n",
       "      <th>largest_prime_factor</th>\n",
       "      <th>is_baseline_tile</th>\n",
       "      <th>z_reduced_percentage</th>\n",
       "      <th>z_full_percentage</th>\n",
       "      <th>reduced_variable_percentage</th>\n",
       "    </tr>\n",
       "  </thead>\n",
       "  <tbody>\n",
       "    <tr>\n",
       "      <th>0</th>\n",
       "      <td>False</td>\n",
       "      <td>False</td>\n",
       "      <td>0</td>\n",
       "      <td>bcsstk13</td>\n",
       "      <td>2003.0</td>\n",
       "      <td>0.982487</td>\n",
       "      <td>70264.0</td>\n",
       "      <td>2003.0</td>\n",
       "      <td>2003.0</td>\n",
       "      <td>70264.0</td>\n",
       "      <td>...</td>\n",
       "      <td>1.0</td>\n",
       "      <td>45.614408</td>\n",
       "      <td>6.457816e+19</td>\n",
       "      <td>7.205963e+26</td>\n",
       "      <td>61.842121</td>\n",
       "      <td>2003.0</td>\n",
       "      <td>True</td>\n",
       "      <td>1.000000</td>\n",
       "      <td>1.000000</td>\n",
       "      <td>0.000000</td>\n",
       "    </tr>\n",
       "    <tr>\n",
       "      <th>1</th>\n",
       "      <td>False</td>\n",
       "      <td>False</td>\n",
       "      <td>0</td>\n",
       "      <td>bcsstk13</td>\n",
       "      <td>22.0</td>\n",
       "      <td>0.982433</td>\n",
       "      <td>70440.0</td>\n",
       "      <td>2002.0</td>\n",
       "      <td>22.0</td>\n",
       "      <td>70410.0</td>\n",
       "      <td>...</td>\n",
       "      <td>1335.0</td>\n",
       "      <td>20.713409</td>\n",
       "      <td>9.901919e+08</td>\n",
       "      <td>1.286753e+15</td>\n",
       "      <td>34.790898</td>\n",
       "      <td>13.0</td>\n",
       "      <td>False</td>\n",
       "      <td>1.002078</td>\n",
       "      <td>1.002505</td>\n",
       "      <td>0.000499</td>\n",
       "    </tr>\n",
       "    <tr>\n",
       "      <th>2</th>\n",
       "      <td>False</td>\n",
       "      <td>False</td>\n",
       "      <td>0</td>\n",
       "      <td>bcsstk13</td>\n",
       "      <td>29.0</td>\n",
       "      <td>0.982416</td>\n",
       "      <td>70468.0</td>\n",
       "      <td>2001.0</td>\n",
       "      <td>29.0</td>\n",
       "      <td>70405.0</td>\n",
       "      <td>...</td>\n",
       "      <td>907.0</td>\n",
       "      <td>20.992370</td>\n",
       "      <td>1.308792e+09</td>\n",
       "      <td>6.648495e+15</td>\n",
       "      <td>36.433167</td>\n",
       "      <td>29.0</td>\n",
       "      <td>True</td>\n",
       "      <td>1.002007</td>\n",
       "      <td>1.002903</td>\n",
       "      <td>0.000999</td>\n",
       "    </tr>\n",
       "    <tr>\n",
       "      <th>3</th>\n",
       "      <td>False</td>\n",
       "      <td>False</td>\n",
       "      <td>0</td>\n",
       "      <td>bcsstk13</td>\n",
       "      <td>20.0</td>\n",
       "      <td>0.982415</td>\n",
       "      <td>70437.0</td>\n",
       "      <td>2000.0</td>\n",
       "      <td>20.0</td>\n",
       "      <td>70341.0</td>\n",
       "      <td>...</td>\n",
       "      <td>1500.0</td>\n",
       "      <td>20.698973</td>\n",
       "      <td>9.760000e+08</td>\n",
       "      <td>7.361641e+14</td>\n",
       "      <td>34.232474</td>\n",
       "      <td>5.0</td>\n",
       "      <td>False</td>\n",
       "      <td>1.001096</td>\n",
       "      <td>1.002462</td>\n",
       "      <td>0.001498</td>\n",
       "    </tr>\n",
       "    <tr>\n",
       "      <th>4</th>\n",
       "      <td>False</td>\n",
       "      <td>False</td>\n",
       "      <td>0</td>\n",
       "      <td>bcsstk13</td>\n",
       "      <td>1999.0</td>\n",
       "      <td>0.982413</td>\n",
       "      <td>70407.0</td>\n",
       "      <td>1999.0</td>\n",
       "      <td>1999.0</td>\n",
       "      <td>70279.0</td>\n",
       "      <td>...</td>\n",
       "      <td>1.0</td>\n",
       "      <td>45.602414</td>\n",
       "      <td>6.380824e+19</td>\n",
       "      <td>7.105087e+26</td>\n",
       "      <td>61.828023</td>\n",
       "      <td>1999.0</td>\n",
       "      <td>True</td>\n",
       "      <td>1.000213</td>\n",
       "      <td>1.002035</td>\n",
       "      <td>0.001997</td>\n",
       "    </tr>\n",
       "    <tr>\n",
       "      <th>...</th>\n",
       "      <td>...</td>\n",
       "      <td>...</td>\n",
       "      <td>...</td>\n",
       "      <td>...</td>\n",
       "      <td>...</td>\n",
       "      <td>...</td>\n",
       "      <td>...</td>\n",
       "      <td>...</td>\n",
       "      <td>...</td>\n",
       "      <td>...</td>\n",
       "      <td>...</td>\n",
       "      <td>...</td>\n",
       "      <td>...</td>\n",
       "      <td>...</td>\n",
       "      <td>...</td>\n",
       "      <td>...</td>\n",
       "      <td>...</td>\n",
       "      <td>...</td>\n",
       "      <td>...</td>\n",
       "      <td>...</td>\n",
       "      <td>...</td>\n",
       "    </tr>\n",
       "    <tr>\n",
       "      <th>7518</th>\n",
       "      <td>False</td>\n",
       "      <td>False</td>\n",
       "      <td>0</td>\n",
       "      <td>ex3</td>\n",
       "      <td>47.0</td>\n",
       "      <td>0.873670</td>\n",
       "      <td>71814.0</td>\n",
       "      <td>188.0</td>\n",
       "      <td>47.0</td>\n",
       "      <td>4465.0</td>\n",
       "      <td>...</td>\n",
       "      <td>12.0</td>\n",
       "      <td>23.101031</td>\n",
       "      <td>1.078078e+10</td>\n",
       "      <td>6.093657e+15</td>\n",
       "      <td>36.346025</td>\n",
       "      <td>47.0</td>\n",
       "      <td>True</td>\n",
       "      <td>0.101962</td>\n",
       "      <td>1.639926</td>\n",
       "      <td>0.896760</td>\n",
       "    </tr>\n",
       "    <tr>\n",
       "      <th>7519</th>\n",
       "      <td>False</td>\n",
       "      <td>False</td>\n",
       "      <td>0</td>\n",
       "      <td>ex3</td>\n",
       "      <td>17.0</td>\n",
       "      <td>0.874317</td>\n",
       "      <td>71772.0</td>\n",
       "      <td>187.0</td>\n",
       "      <td>17.0</td>\n",
       "      <td>4395.0</td>\n",
       "      <td>...</td>\n",
       "      <td>69.0</td>\n",
       "      <td>17.067918</td>\n",
       "      <td>2.585249e+07</td>\n",
       "      <td>1.354128e+13</td>\n",
       "      <td>30.236764</td>\n",
       "      <td>17.0</td>\n",
       "      <td>True</td>\n",
       "      <td>0.100363</td>\n",
       "      <td>1.638967</td>\n",
       "      <td>0.897309</td>\n",
       "    </tr>\n",
       "    <tr>\n",
       "      <th>7520</th>\n",
       "      <td>False</td>\n",
       "      <td>False</td>\n",
       "      <td>0</td>\n",
       "      <td>ex3</td>\n",
       "      <td>31.0</td>\n",
       "      <td>0.871922</td>\n",
       "      <td>71837.0</td>\n",
       "      <td>186.0</td>\n",
       "      <td>31.0</td>\n",
       "      <td>4431.0</td>\n",
       "      <td>...</td>\n",
       "      <td>24.0</td>\n",
       "      <td>20.605352</td>\n",
       "      <td>8.887722e+08</td>\n",
       "      <td>4.935844e+14</td>\n",
       "      <td>33.832715</td>\n",
       "      <td>31.0</td>\n",
       "      <td>True</td>\n",
       "      <td>0.101185</td>\n",
       "      <td>1.640451</td>\n",
       "      <td>0.897858</td>\n",
       "    </tr>\n",
       "    <tr>\n",
       "      <th>7521</th>\n",
       "      <td>False</td>\n",
       "      <td>False</td>\n",
       "      <td>0</td>\n",
       "      <td>ex3</td>\n",
       "      <td>37.0</td>\n",
       "      <td>0.873543</td>\n",
       "      <td>71768.0</td>\n",
       "      <td>185.0</td>\n",
       "      <td>37.0</td>\n",
       "      <td>4328.0</td>\n",
       "      <td>...</td>\n",
       "      <td>19.0</td>\n",
       "      <td>21.666075</td>\n",
       "      <td>2.567183e+09</td>\n",
       "      <td>1.415184e+15</td>\n",
       "      <td>34.886036</td>\n",
       "      <td>37.0</td>\n",
       "      <td>True</td>\n",
       "      <td>0.098833</td>\n",
       "      <td>1.638876</td>\n",
       "      <td>0.898407</td>\n",
       "    </tr>\n",
       "    <tr>\n",
       "      <th>7522</th>\n",
       "      <td>False</td>\n",
       "      <td>False</td>\n",
       "      <td>0</td>\n",
       "      <td>ex3</td>\n",
       "      <td>23.0</td>\n",
       "      <td>0.875591</td>\n",
       "      <td>71682.0</td>\n",
       "      <td>184.0</td>\n",
       "      <td>23.0</td>\n",
       "      <td>4212.0</td>\n",
       "      <td>...</td>\n",
       "      <td>40.0</td>\n",
       "      <td>18.821930</td>\n",
       "      <td>1.493690e+08</td>\n",
       "      <td>8.098164e+13</td>\n",
       "      <td>32.025244</td>\n",
       "      <td>23.0</td>\n",
       "      <td>True</td>\n",
       "      <td>0.096184</td>\n",
       "      <td>1.636912</td>\n",
       "      <td>0.898957</td>\n",
       "    </tr>\n",
       "  </tbody>\n",
       "</table>\n",
       "<p>7523 rows × 21 columns</p>\n",
       "</div>"
      ]
     },
     "execution_count": 18,
     "metadata": {},
     "output_type": "execute_result"
    }
   ],
   "execution_count": 18
  },
  {
   "metadata": {
    "ExecuteTime": {
     "end_time": "2024-08-24T17:19:40.515028Z",
     "start_time": "2024-08-24T17:19:40.204542Z"
    }
   },
   "cell_type": "code",
   "source": [
    "# for next plots nice to see the number of factors we can choose from for certain results\n",
    "\n",
    "def get_num_possible_tiles(row):\n",
    "    return len(possible_tile_sizes_from_factors(prime_factors(row[\"n\"])))\n",
    "\n",
    "partial_gauss_tile_agg_df[\"num_possible_tiles\"] = partial_gauss_tile_agg_df.apply(get_num_possible_tiles, axis=1)"
   ],
   "id": "e77eda8a9513abba",
   "outputs": [],
   "execution_count": 19
  },
  {
   "metadata": {
    "ExecuteTime": {
     "end_time": "2024-08-24T17:19:42.393368Z",
     "start_time": "2024-08-24T17:19:40.967330Z"
    }
   },
   "cell_type": "code",
   "source": [
    "# scatter plot between partial gauss and runtime\n",
    "matrix_name = \"ex3\"\n",
    "fig = px.scatter(partial_gauss_tile_agg_df[partial_gauss_tile_agg_df[\"matrix_name\"] == matrix_name], x=\"reduced_variable_percentage\", y=\"log_obj_func\", color='num_possible_tiles',\n",
    "              labels={\n",
    "                     \"tile_size\": \"Tile size\",\n",
    "                     \"matrix_name\": \"Matrix name\",\n",
    "                  \"reduced_variable_percentage\": \"Ratio of reduced variables\",\n",
    "                  \"num_possible_tiles\": \"Number of possible<br>tile size choices\"\n",
    "                 }\n",
    "              )\n",
    "fig.update_layout(\n",
    "    title={\n",
    "        'text': \"Influence of variable elimination on TT-MALS runtime for {}\".format(matrix_name),\n",
    "        'x':0.5,\n",
    "        'xanchor': 'center',\n",
    "        'yanchor': 'top'\n",
    "    },\n",
    "    plot_bgcolor='white',   # Plot area background color\n",
    "    paper_bgcolor='white',  # Entire figure background color\n",
    "    font=dict(color='black'), # Font color\n",
    "    yaxis_title=r'$\\log(I^6 + rI^3 + r^2I^2)$'\n",
    ")\n",
    "fig.show()\n",
    "fig.write_image(\"plots/{}_pg_ratio_tile_size_log_obj_func.pdf\".format(matrix_name))"
   ],
   "id": "91e6e5a07faeac12",
   "outputs": [
    {
     "data": {
      "application/vnd.plotly.v1+json": {
       "data": [
        {
         "hovertemplate": "Ratio of reduced variables=%{x}<br>log_obj_func=%{y}<br>Number of possible<br>tile size choices=%{marker.color}<extra></extra>",
         "legendgroup": "",
         "marker": {
          "color": [
           3,
           23,
           3,
           11,
           3,
           7,
           11,
           3,
           5,
           11,
           1,
           7,
           7,
           9,
           3,
           15,
           5,
           11,
           3,
           7,
           1,
           35,
           3,
           7,
           3,
           5,
           3,
           15,
           3,
           17,
           5,
           7,
           1,
           11,
           1,
           7,
           15,
           7,
           1,
           19,
           3,
           11,
           3,
           7,
           1,
           19,
           5,
           3,
           5,
           5,
           7,
           15,
           3,
           15,
           7,
           3,
           3,
           26,
           3,
           3,
           3,
           23,
           1,
           7,
           3,
           5,
           15,
           3,
           1,
           15,
           3,
           15,
           7,
           11,
           1,
           11,
           3,
           9,
           7,
           7,
           1,
           23,
           3,
           7,
           5,
           15,
           3,
           11,
           1,
           5,
           3,
           7,
           7,
           27,
           3,
           3,
           11,
           5,
           1,
           15,
           1,
           15,
           5,
           3,
           3,
           23,
           7,
           3,
           3,
           9,
           3,
           23,
           1,
           11,
           3,
           3,
           7,
           15,
           3,
           7,
           11,
           17,
           1,
           7,
           1,
           11,
           7,
           11,
           1,
           17,
           3,
           11,
           3,
           7,
           3,
           7,
           3,
           5,
           11,
           5,
           2,
           39,
           3,
           3,
           7,
           5,
           5,
           15,
           3,
           15,
           3,
           7,
           1,
           11,
           1,
           11,
           11,
           15,
           1,
           7,
           3,
           11,
           7,
           3,
           1,
           23,
           3,
           3,
           7,
           11,
           3,
           23,
           3,
           9,
           7,
           3,
           7,
           11,
           3,
           3,
           3,
           15,
           3,
           23,
           1,
           5,
           7,
           7,
           3,
           23,
           3,
           7,
           5,
           11,
           1,
           7,
           7,
           15,
           3,
           3,
           1,
           29,
           1,
           3,
           11,
           9,
           7,
           7,
           1,
           11,
           5,
           15,
           1,
           15,
           1,
           7,
           7,
           5,
           3,
           11,
           1,
           20,
           7,
           7,
           1,
           23,
           7,
           3,
           7,
           7,
           3,
           15,
           3,
           5,
           5,
           7,
           3,
           29,
           1,
           7,
           7,
           11,
           1,
           7,
           3,
           7,
           17,
           3,
           5,
           11,
           1,
           7,
           3,
           17,
           1,
           15,
           3,
           11,
           3,
           7,
           3,
           31,
           1,
           7,
           5,
           5,
           3,
           15,
           1,
           9,
           7,
           11,
           1,
           17,
           7,
           3,
           7,
           7,
           1,
           7,
           3,
           23,
           9,
           3,
           3,
           19,
           3,
           7,
           7,
           5,
           1,
           23,
           3,
           7,
           3,
           7,
           5,
           11,
           1,
           3,
           8,
           19,
           5,
           15,
           3,
           5,
           7,
           3,
           3,
           31,
           1,
           7,
           3,
           11,
           3,
           7,
           7,
           11,
           5,
           3,
           3,
           23,
           1,
           7,
           3,
           15,
           7,
           11,
           1,
           5,
           7,
           7,
           1,
           19,
           1,
           3,
           15,
           11,
           1,
           15,
           1,
           15,
           7,
           3,
           3,
           17,
           5,
           7,
           3,
           13,
           1,
           23,
           3,
           5,
           5,
           3,
           3,
           15,
           7,
           7,
           3,
           11,
           1,
           13,
           3,
           19,
           7,
           3,
           1,
           17,
           1,
           11,
           11,
           7,
           1,
           7,
           5,
           8,
           7,
           7,
           3,
           35,
           1,
           3,
           3,
           5,
           7,
           7,
           1,
           7,
           7,
           15,
           1,
           23,
           1,
           7,
           11,
           9,
           1,
           11,
           5,
           11,
           7,
           3,
           3,
           15,
           3,
           7,
           5,
           5,
           3,
           15,
           1,
           15,
           7,
           7,
           3,
           23,
           3,
           3,
           3,
           23,
           1,
           7,
           3,
           5,
           11,
           7,
           3,
           19,
           3,
           7,
           3,
           5,
           3,
           23,
           3,
           7,
           3,
           3,
           1,
           23,
           3,
           7,
           9,
           11,
           7,
           7,
           1,
           11,
           3,
           7,
           2,
           23,
           1,
           3,
           15,
           11,
           3,
           7,
           1,
           19,
           5,
           7,
           3,
           11,
           3,
           3,
           7,
           11,
           3,
           23,
           3,
           5,
           3,
           3,
           3,
           27,
           3,
           7,
           5,
           11,
           3,
           7,
           3,
           7,
           7,
           7,
           3,
           17,
           3,
           15,
           3,
           9,
           1,
           15,
           5,
           5,
           11,
           3,
           1,
           31,
           1,
           3,
           3,
           11,
           3,
           11,
           3,
           11,
           7,
           7,
           7,
           11,
           1,
           3,
           11,
           7,
           1,
           15,
           1,
           17,
           3,
           7,
           1,
           24,
           7,
           3,
           3,
           11,
           1,
           15,
           1,
           15,
           11,
           3,
           3,
           11,
           1,
           3,
           7,
           17,
           1,
           11,
           1,
           11,
           11,
           11,
           3,
           15,
           3,
           7,
           7,
           5,
           3,
           7,
           7,
           9,
           3,
           3,
           3,
           35,
           1,
           7,
           3,
           7,
           3,
           15,
           3,
           5,
           5,
           9,
           1,
           23,
           3,
           7,
           7,
           5,
           3,
           15,
           3,
           15,
           7,
           3,
           1,
           11,
           7,
           3,
           5,
           19,
           1,
           15,
           1,
           5,
           3,
           3,
           8,
           23,
           1,
           7,
           7,
           11,
           3,
           15,
           1,
           13,
           11,
           3,
           1,
           11,
           3,
           11,
           7,
           7,
           3,
           11,
           3,
           11,
           3,
           3,
           1,
           29,
           3,
           3,
           11,
           11,
           3,
           7,
           1,
           7,
           3,
           15,
           3,
           23,
           1,
           3,
           7,
           11,
           5,
           7,
           1,
           11,
           5,
           7,
           3,
           23,
           5,
           3,
           7,
           5,
           1,
           23,
           3,
           9,
           3,
           7,
           3,
           11,
           1,
           7,
           7,
           15,
           3,
           7,
           3,
           8,
           15,
           3,
           1,
           23,
           1,
           11,
           3,
           11,
           3,
           7,
           3,
           15,
           5,
           3,
           3,
           23,
           3,
           3,
           3,
           9,
           3,
           19,
           3,
           5,
           7,
           7,
           1,
           15,
           5,
           3,
           11,
           5,
           1,
           15,
           3,
           23,
           3,
           7,
           1,
           17,
           3,
           3,
           7,
           7,
           3,
           15,
           1,
           5,
           7,
           7,
           7,
           19,
           1,
           7,
           3,
           17,
           3,
           11,
           1,
           7,
           7,
           3,
           1,
           23,
           1,
           7,
           8,
           13,
           1,
           7,
           7,
           5,
           5,
           3,
           3,
           31,
           3,
           11,
           3,
           5,
           5,
           7,
           3,
           9,
           11,
           7,
           1,
           11,
           3,
           7,
           7,
           15,
           1,
           11,
           1,
           11,
           3,
           5,
           3,
           23,
           3,
           7,
           9,
           5,
           1,
           23,
           1,
           7,
           3,
           3,
           7,
           17,
           3,
           3,
           3,
           19,
           1,
           7,
           3,
           11,
           11,
           7,
           1,
           15,
           1,
           7,
           7,
           5,
           3,
           15,
           5,
           10,
           7,
           7,
           1,
           23,
           1,
           3,
           5,
           7,
           7,
           11,
           1,
           11,
           3,
           7,
           1,
           29,
           3,
           3,
           7,
           5,
           3,
           7,
           7,
           15,
           7,
           3,
           1,
           11,
           3,
           7,
           3,
           11,
           1,
           23,
           3,
           11,
           7,
           7,
           3,
           15,
           1,
           3,
           5,
           17,
           3,
           7,
           1,
           9,
           11,
           3,
           3,
           17,
           1,
           7,
           7,
           11,
           1,
           15,
           3,
           5,
           5,
           7,
           2,
           27,
           3,
           3,
           7,
           5,
           3,
           11,
           1,
           15,
           3,
           11,
           3,
           11,
           1,
           7,
           15,
           9,
           3,
           7,
           1,
           11,
           3,
           7,
           1,
           23,
           7,
           3,
           3,
           5,
           5,
           15,
           1,
           11,
           5,
           3,
           5,
           23,
           3,
           3,
           3,
           15,
           1,
           15,
           3,
           5,
           7,
           3,
           3,
           19,
           1,
           15,
           5,
           5,
           1,
           7,
           3,
           7,
           7,
           7,
           3,
           26,
           3,
           3,
           7,
           15,
           3,
           7,
           3,
           5,
           9,
           7,
           3,
           15,
           1,
           3,
           7,
           11,
           1,
           17,
           1,
           19,
           3,
           3,
           1,
           11,
           7,
           7,
           5,
           7,
           3,
           15,
           3,
           11,
           5,
           3,
           3,
           23,
           1,
           3,
           7,
           11,
           1,
           15,
           1,
           7,
           11,
           7,
           1,
           11,
           3,
           11,
           3,
           9,
           5,
           11,
           5,
           5,
           3,
           3,
           2,
           31,
           1,
           3,
           7,
           11,
           3,
           7,
           5,
           13,
           3,
           7,
           1,
           17,
           1,
           7,
           11,
           7,
           1,
           7,
           1,
           11,
           11,
           3,
           3,
           19,
           3,
           7,
           3,
           11,
           1,
           19,
           1,
           7,
           3,
           7,
           7,
           11,
           3,
           3,
           5,
           17,
           3,
           15,
           1,
           5,
           7,
           3,
           3,
           23,
           3,
           7,
           3,
           5,
           1,
           7,
           3,
           14,
           7,
           7,
           3,
           23,
           3,
           3,
           7,
           7,
           5,
           11,
           1,
           5,
           3,
           15,
           1,
           17,
           3,
           3,
           11,
           5,
           3,
           7,
           1,
           15,
           7,
           3,
           1,
           23,
           3,
           7,
           3,
           9,
           1,
           15,
           3,
           11,
           5,
           3,
           3,
           15,
           1,
           7,
           7,
           11,
           1,
           11,
           3,
           11,
           11,
           3,
           1,
           11,
           3,
           7,
           6,
           15,
           1,
           11,
           5,
           5,
           3,
           5,
           3,
           29,
           1,
           3,
           3,
           5,
           7,
           15,
           3,
           7,
           5,
           7,
           1,
           11,
           3,
           3,
           7,
           13,
           3,
           15,
           1,
           17,
           3,
           3,
           3,
           15,
           3,
           3,
           11,
           5,
           1,
           15,
           3,
           9,
           3,
           7,
           3,
           17,
           1,
           7,
           3,
           15,
           3,
           7,
           1,
           8,
           11,
           3,
           1,
           23,
           3,
           7,
           3,
           5,
           3,
           11,
           7,
           7,
           7,
           3,
           1,
           23,
           1,
           7,
           5,
           9,
           3,
           7,
           1,
           5,
           7,
           11,
           3,
           19,
           1,
           7,
           7,
           11,
           1,
           7,
           1,
           15,
           5,
           7,
           5,
           11,
           3,
           3,
           3,
           7,
           1,
           23,
           3,
           5,
           7,
           3,
           4,
           19,
           3,
           3,
           7,
           11,
           1,
           7,
           1,
           15,
           7,
           3,
           1,
           17,
           3,
           7,
           7,
           11,
           1,
           7,
           5,
           5,
           5,
           7,
           1,
           23,
           1,
           7,
           3,
           5,
           7,
           15,
           1,
           9,
           3,
           7,
           3,
           17,
           1,
           3,
           11,
           7,
           3,
           7,
           3,
           11,
           3,
           5,
           1,
           20,
           5,
           7,
           3,
           11,
           1,
           15,
           1,
           7,
           9,
           3,
           3,
           11,
           1,
           3,
           7,
           19,
           3,
           11,
           1,
           5,
           7,
           3,
           3,
           15,
           3,
           11,
           5,
           5,
           1,
           15,
           3,
           11,
           3,
           3,
           1,
           23,
           5,
           3,
           3,
           7,
           3,
           7,
           3,
           11,
           5,
           7,
           2,
           19,
           3,
           3,
           11,
           5,
           1,
           11,
           1,
           15,
           3,
           7,
           3,
           11,
           3,
           3,
           7,
           9,
           3,
           15,
           1,
           5,
           5,
           7,
           3,
           23,
           1,
           3,
           3,
           11,
           1,
           7,
           3,
           9,
           11,
           7,
           3,
           11,
           1,
           11,
           3,
           7,
           1,
           11,
           3,
           8,
           7,
           3,
           3,
           23,
           1,
           3,
           5,
           11,
           5,
           7,
           3,
           7,
           3,
           7,
           3,
           17,
           1,
           3,
           7,
           9,
           1,
           15,
           1,
           11,
           7,
           3,
           1,
           15,
           7,
           3,
           3,
           5,
           3,
           17,
           1,
           13,
           3,
           3,
           3,
           11,
           1,
           7,
           8,
           15,
           1,
           7,
           3,
           5,
           7,
           7,
           1,
           19,
           1,
           7,
           7,
           5,
           3,
           7,
           5,
           7,
           5,
           3,
           1,
           23,
           1,
           7,
           3,
           11,
           3,
           11,
           3,
           5,
           3,
           7,
           1,
           15,
           3,
           7,
           9,
           5,
           3,
           7,
           1,
           14,
           7,
           3,
           1,
           17,
           3,
           3,
           3,
           11,
           3,
           15,
           1,
           5,
           5,
           3,
           7,
           15,
           1,
           3,
           3,
           11,
           1,
           15,
           3,
           7,
           7,
           7,
           1,
           11,
           3,
           7,
           5,
           9,
           1,
           7,
           3,
           11,
           5,
           3,
           2,
           23,
           1,
           3,
           7,
           5,
           3,
           7,
           1,
           11,
           7,
           11,
           1,
           11,
           1,
           3,
           7,
           7,
           3,
           11,
           3,
           11,
           3,
           5,
           1,
           19,
           3,
           3,
           5,
           5,
           1,
           15,
           3,
           7,
           3,
           3,
           5,
           14,
           3,
           7,
           3,
           13,
           3,
           7,
           1,
           5,
           11,
           3,
           1,
           15,
           1,
           7,
           3,
           11,
           1,
           11,
           3,
           9,
           3,
           3,
           3,
           17,
           3,
           3,
           7,
           7,
           3,
           11,
           1,
           5,
           3,
           7,
           2,
           17,
           3,
           7,
           7,
           5,
           1,
           7,
           1,
           15,
           5,
           3,
           1,
           11,
           5,
           3,
           7,
           9,
           1,
           15,
           1,
           5,
           3,
           7,
           3,
           15,
           1,
           3,
           5,
           11,
           3,
           7,
           1,
           8,
           7,
           3,
           3,
           17,
           1,
           7,
           3,
           7,
           3,
           7,
           5,
           5,
           5,
           5,
           1,
           19,
           1,
           7,
           3,
           5,
           3,
           11,
           1,
           7,
           7,
           7,
           1,
           11,
           1,
           3,
           8,
           11,
           1,
           7,
           3,
           11,
           3,
           3,
           3,
           15,
           3,
           3,
           3,
           5,
           1,
           15,
           3,
           9,
           5,
           3,
           3,
           11,
           3,
           3,
           3,
           11,
           1,
           11,
           1,
           8,
           7,
           3,
           1,
           13,
           1,
           7,
           7,
           5,
           3,
           7,
           3,
           7
          ],
          "coloraxis": "coloraxis",
          "symbol": "circle"
         },
         "mode": "markers",
         "name": "",
         "showlegend": false,
         "x": [
          0.0,
          5.491488193300384E-4,
          0.001098297638660077,
          0.0016474464579901153,
          0.002196595277320154,
          0.0027457440966501922,
          0.0032948929159802307,
          0.003844041735310269,
          0.004393190554640308,
          0.004942339373970346,
          0.0054914881933003845,
          0.0060406370126304225,
          0.006589785831960461,
          0.007138934651290499,
          0.007688083470620538,
          0.008237232289950576,
          0.008786381109280615,
          0.009335529928610654,
          0.009884678747940691,
          0.01043382756727073,
          0.010982976386600769,
          0.011532125205930808,
          0.012081274025260845,
          0.012630422844590884,
          0.013179571663920923,
          0.013728720483250962,
          0.014277869302580999,
          0.014827018121911038,
          0.015376166941241077,
          0.015925315760571115,
          0.016474464579901153,
          0.017023613399231193,
          0.01757276221856123,
          0.018121911037891267,
          0.018671059857221308,
          0.019220208676551345,
          0.019769357495881382,
          0.020318506315211423,
          0.02086765513454146,
          0.0214168039538715,
          0.021965952773201538,
          0.022515101592531575,
          0.023064250411861616,
          0.023613399231191653,
          0.02416254805052169,
          0.02471169686985173,
          0.025260845689181768,
          0.02580999450851181,
          0.026359143327841845,
          0.026908292147171883,
          0.027457440966501923,
          0.02800658978583196,
          0.028555738605161998,
          0.029104887424492038,
          0.029654036243822075,
          0.030203185063152116,
          0.030752333882482153,
          0.03130148270181219,
          0.03185063152114223,
          0.032399780340472265,
          0.032948929159802305,
          0.033498077979132346,
          0.034047226798462386,
          0.03459637561779242,
          0.03514552443712246,
          0.0356946732564525,
          0.036243822075782535,
          0.036792970895112576,
          0.037342119714442616,
          0.03789126853377265,
          0.03844041735310269,
          0.03898956617243273,
          0.039538714991762765,
          0.040087863811092805,
          0.040637012630422846,
          0.04118616144975288,
          0.04173531026908292,
          0.04228445908841296,
          0.042833607907743,
          0.043382756727073035,
          0.043931905546403076,
          0.044481054365733116,
          0.04503020318506315,
          0.04557935200439319,
          0.04612850082372323,
          0.046677649643053265,
          0.047226798462383306,
          0.047775947281713346,
          0.04832509610104338,
          0.04887424492037342,
          0.04942339373970346,
          0.049972542559033495,
          0.050521691378363535,
          0.051070840197693576,
          0.05161998901702362,
          0.05216913783635365,
          0.05271828665568369,
          0.05326743547501373,
          0.053816584294343765,
          0.054365733113673806,
          0.054914881933003847,
          0.05546403075233388,
          0.05601317957166392,
          0.05656232839099396,
          0.057111477210323995,
          0.057660626029654036,
          0.058209774848984076,
          0.05875892366831411,
          0.05930807248764415,
          0.05985722130697419,
          0.06040637012630423,
          0.060955518945634266,
          0.061504667764964306,
          0.06205381658429435,
          0.06260296540362438,
          0.06315211422295441,
          0.06370126304228446,
          0.0642504118616145,
          0.06479956068094453,
          0.06534870950027458,
          0.06589785831960461,
          0.06644700713893466,
          0.06699615595826469,
          0.06754530477759473,
          0.06809445359692477,
          0.0686436024162548,
          0.06919275123558484,
          0.06974190005491489,
          0.07029104887424492,
          0.07084019769357495,
          0.071389346512905,
          0.07193849533223504,
          0.07248764415156507,
          0.07303679297089512,
          0.07358594179022515,
          0.07413509060955518,
          0.07468423942888523,
          0.07523338824821527,
          0.0757825370675453,
          0.07633168588687535,
          0.07688083470620538,
          0.07742998352553541,
          0.07797913234486546,
          0.0785282811641955,
          0.07907742998352553,
          0.07962657880285558,
          0.08017572762218561,
          0.08072487644151564,
          0.08127402526084569,
          0.08182317408017573,
          0.08237232289950576,
          0.0829214717188358,
          0.08347062053816584,
          0.08401976935749589,
          0.08456891817682592,
          0.08511806699615596,
          0.085667215815486,
          0.08621636463481604,
          0.08676551345414607,
          0.08731466227347612,
          0.08786381109280615,
          0.08841295991213619,
          0.08896210873146623,
          0.08951125755079627,
          0.0900604063701263,
          0.09060955518945635,
          0.09115870400878638,
          0.09170785282811642,
          0.09225700164744646,
          0.0928061504667765,
          0.09335529928610653,
          0.09390444810543658,
          0.09445359692476661,
          0.09500274574409664,
          0.09555189456342669,
          0.09610104338275673,
          0.09665019220208676,
          0.09719934102141681,
          0.09774848984074684,
          0.09829763866007687,
          0.09884678747940692,
          0.09939593629873696,
          0.09994508511806699,
          0.10049423393739704,
          0.10104338275672707,
          0.1015925315760571,
          0.10214168039538715,
          0.10269082921471719,
          0.10323997803404723,
          0.10378912685337727,
          0.1043382756727073,
          0.10488742449203735,
          0.10543657331136738,
          0.10598572213069742,
          0.10653487095002746,
          0.1070840197693575,
          0.10763316858868753,
          0.10818231740801758,
          0.10873146622734761,
          0.10928061504667765,
          0.10982976386600769,
          0.11037891268533773,
          0.11092806150466776,
          0.11147721032399781,
          0.11202635914332784,
          0.11257550796265788,
          0.11312465678198792,
          0.11367380560131796,
          0.11422295442064799,
          0.11477210323997804,
          0.11532125205930807,
          0.1158704008786381,
          0.11641954969796815,
          0.11696869851729819,
          0.11751784733662822,
          0.11806699615595827,
          0.1186161449752883,
          0.11916529379461833,
          0.11971444261394838,
          0.12026359143327842,
          0.12081274025260846,
          0.1213618890719385,
          0.12191103789126853,
          0.12246018671059858,
          0.12300933552992861,
          0.12355848434925865,
          0.1241076331685887,
          0.12465678198791873,
          0.12520593080724876,
          0.1257550796265788,
          0.12630422844590883,
          0.12685337726523888,
          0.12740252608456892,
          0.12795167490389894,
          0.128500823723229,
          0.12904997254255904,
          0.12959912136188906,
          0.1301482701812191,
          0.13069741900054915,
          0.1312465678198792,
          0.13179571663920922,
          0.13234486545853927,
          0.13289401427786932,
          0.13344316309719934,
          0.13399231191652938,
          0.13454146073585943,
          0.13509060955518945,
          0.1356397583745195,
          0.13618890719384955,
          0.13673805601317957,
          0.1372872048325096,
          0.13783635365183966,
          0.13838550247116968,
          0.13893465129049973,
          0.13948380010982978,
          0.1400329489291598,
          0.14058209774848984,
          0.1411312465678199,
          0.1416803953871499,
          0.14222954420647996,
          0.14277869302581,
          0.14332784184514002,
          0.14387699066447007,
          0.14442613948380012,
          0.14497528830313014,
          0.1455244371224602,
          0.14607358594179023,
          0.14662273476112025,
          0.1471718835804503,
          0.14772103239978035,
          0.14827018121911037,
          0.14881933003844042,
          0.14936847885777046,
          0.14991762767710048,
          0.15046677649643053,
          0.15101592531576058,
          0.1515650741350906,
          0.15211422295442065,
          0.1526633717737507,
          0.15321252059308071,
          0.15376166941241076,
          0.1543108182317408,
          0.15485996705107083,
          0.15540911587040088,
          0.15595826468973092,
          0.15650741350906094,
          0.157056562328391,
          0.15760571114772104,
          0.15815485996705106,
          0.1587040087863811,
          0.15925315760571115,
          0.15980230642504117,
          0.16035145524437122,
          0.16090060406370127,
          0.1614497528830313,
          0.16199890170236134,
          0.16254805052169138,
          0.1630971993410214,
          0.16364634816035145,
          0.1641954969796815,
          0.16474464579901152,
          0.16529379461834157,
          0.1658429434376716,
          0.16639209225700163,
          0.16694124107633168,
          0.16749038989566173,
          0.16803953871499178,
          0.1685886875343218,
          0.16913783635365184,
          0.1696869851729819,
          0.1702361339923119,
          0.17078528281164196,
          0.171334431630972,
          0.17188358045030203,
          0.17243272926963207,
          0.17298187808896212,
          0.17353102690829214,
          0.1740801757276222,
          0.17462932454695224,
          0.17517847336628226,
          0.1757276221856123,
          0.17627677100494235,
          0.17682591982427237,
          0.17737506864360242,
          0.17792421746293247,
          0.17847336628226249,
          0.17902251510159253,
          0.17957166392092258,
          0.1801208127402526,
          0.18066996155958265,
          0.1812191103789127,
          0.18176825919824272,
          0.18231740801757276,
          0.1828665568369028,
          0.18341570565623283,
          0.18396485447556288,
          0.18451400329489293,
          0.18506315211422295,
          0.185612300933553,
          0.18616144975288304,
          0.18671059857221306,
          0.1872597473915431,
          0.18780889621087316,
          0.18835804503020318,
          0.18890719384953322,
          0.18945634266886327,
          0.1900054914881933,
          0.19055464030752334,
          0.19110378912685339,
          0.1916529379461834,
          0.19220208676551345,
          0.1927512355848435,
          0.19330038440417352,
          0.19384953322350357,
          0.19439868204283361,
          0.19494783086216363,
          0.19549697968149368,
          0.19604612850082373,
          0.19659527732015375,
          0.1971444261394838,
          0.19769357495881384,
          0.19824272377814386,
          0.1987918725974739,
          0.19934102141680396,
          0.19989017023613398,
          0.20043931905546403,
          0.20098846787479407,
          0.2015376166941241,
          0.20208676551345414,
          0.2026359143327842,
          0.2031850631521142,
          0.20373421197144426,
          0.2042833607907743,
          0.20483250961010435,
          0.20538165842943437,
          0.20593080724876442,
          0.20647995606809447,
          0.2070291048874245,
          0.20757825370675453,
          0.20812740252608458,
          0.2086765513454146,
          0.20922570016474465,
          0.2097748489840747,
          0.21032399780340472,
          0.21087314662273476,
          0.2114222954420648,
          0.21197144426139483,
          0.21252059308072488,
          0.21306974190005493,
          0.21361889071938495,
          0.214168039538715,
          0.21471718835804504,
          0.21526633717737506,
          0.2158154859967051,
          0.21636463481603516,
          0.21691378363536518,
          0.21746293245469522,
          0.21801208127402527,
          0.2185612300933553,
          0.21911037891268534,
          0.21965952773201539,
          0.2202086765513454,
          0.22075782537067545,
          0.2213069741900055,
          0.22185612300933552,
          0.22240527182866557,
          0.22295442064799562,
          0.22350356946732564,
          0.22405271828665568,
          0.22460186710598573,
          0.22515101592531575,
          0.2257001647446458,
          0.22624931356397585,
          0.22679846238330587,
          0.2273476112026359,
          0.22789676002196596,
          0.22844590884129598,
          0.22899505766062603,
          0.22954420647995608,
          0.2300933552992861,
          0.23064250411861614,
          0.2311916529379462,
          0.2317408017572762,
          0.23228995057660626,
          0.2328390993959363,
          0.23338824821526633,
          0.23393739703459637,
          0.23448654585392642,
          0.23503569467325644,
          0.2355848434925865,
          0.23613399231191654,
          0.23668314113124655,
          0.2372322899505766,
          0.23778143876990665,
          0.23833058758923667,
          0.23887973640856672,
          0.23942888522789676,
          0.23997803404722678,
          0.24052718286655683,
          0.24107633168588688,
          0.24162548050521693,
          0.24217462932454695,
          0.242723778143877,
          0.24327292696320704,
          0.24382207578253706,
          0.2443712246018671,
          0.24492037342119716,
          0.24546952224052718,
          0.24601867105985722,
          0.24656781987918727,
          0.2471169686985173,
          0.24766611751784734,
          0.2482152663371774,
          0.2487644151565074,
          0.24931356397583745,
          0.2498627127951675,
          0.2504118616144975,
          0.25096101043382757,
          0.2515101592531576,
          0.25205930807248766,
          0.25260845689181766,
          0.2531576057111477,
          0.25370675453047775,
          0.2542559033498078,
          0.25480505216913785,
          0.2553542009884679,
          0.2559033498077979,
          0.25645249862712793,
          0.257001647446458,
          0.25755079626578803,
          0.2580999450851181,
          0.2586490939044481,
          0.2591982427237781,
          0.25974739154310816,
          0.2602965403624382,
          0.26084568918176826,
          0.2613948380010983,
          0.26194398682042835,
          0.2624931356397584,
          0.2630422844590884,
          0.26359143327841844,
          0.2641405820977485,
          0.26468973091707854,
          0.2652388797364086,
          0.26578802855573863,
          0.2663371773750686,
          0.26688632619439867,
          0.2674354750137287,
          0.26798462383305877,
          0.2685337726523888,
          0.26908292147171886,
          0.26963207029104885,
          0.2701812191103789,
          0.27073036792970895,
          0.271279516749039,
          0.27182866556836904,
          0.2723778143876991,
          0.2729269632070291,
          0.27347611202635913,
          0.2740252608456892,
          0.2745744096650192,
          0.2751235584843493,
          0.2756727073036793,
          0.2762218561230093,
          0.27677100494233936,
          0.2773201537616694,
          0.27786930258099946,
          0.2784184514003295,
          0.27896760021965955,
          0.27951674903898954,
          0.2800658978583196,
          0.28061504667764964,
          0.2811641954969797,
          0.28171334431630973,
          0.2822624931356398,
          0.2828116419549698,
          0.2833607907742998,
          0.28390993959362987,
          0.2844590884129599,
          0.28500823723228996,
          0.28555738605162,
          0.28610653487095,
          0.28665568369028005,
          0.2872048325096101,
          0.28775398132894014,
          0.2883031301482702,
          0.28885227896760024,
          0.28940142778693023,
          0.2899505766062603,
          0.2904997254255903,
          0.2910488742449204,
          0.2915980230642504,
          0.29214717188358047,
          0.29269632070291046,
          0.2932454695222405,
          0.29379461834157056,
          0.2943437671609006,
          0.29489291598023065,
          0.2954420647995607,
          0.2959912136188907,
          0.29654036243822074,
          0.2970895112575508,
          0.29763866007688083,
          0.2981878088962109,
          0.29873695771554093,
          0.299286106534871,
          0.29983525535420097,
          0.300384404173531,
          0.30093355299286106,
          0.3014827018121911,
          0.30203185063152116,
          0.3025809994508512,
          0.3031301482701812,
          0.30367929708951125,
          0.3042284459088413,
          0.30477759472817134,
          0.3053267435475014,
          0.30587589236683144,
          0.30642504118616143,
          0.3069741900054915,
          0.3075233388248215,
          0.30807248764415157,
          0.3086216364634816,
          0.30917078528281167,
          0.30971993410214166,
          0.3102690829214717,
          0.31081823174080175,
          0.3113673805601318,
          0.31191652937946185,
          0.3124656781987919,
          0.3130148270181219,
          0.31356397583745194,
          0.314113124656782,
          0.31466227347611203,
          0.3152114222954421,
          0.3157605711147721,
          0.3163097199341021,
          0.31685886875343217,
          0.3174080175727622,
          0.31795716639209226,
          0.3185063152114223,
          0.31905546403075236,
          0.31960461285008235,
          0.3201537616694124,
          0.32070291048874244,
          0.3212520593080725,
          0.32180120812740254,
          0.3223503569467326,
          0.3228995057660626,
          0.3234486545853926,
          0.3239978034047227,
          0.3245469522240527,
          0.32509610104338277,
          0.3256452498627128,
          0.3261943986820428,
          0.32674354750137286,
          0.3272926963207029,
          0.32784184514003295,
          0.328390993959363,
          0.32894014277869305,
          0.32948929159802304,
          0.3300384404173531,
          0.33058758923668313,
          0.3311367380560132,
          0.3316858868753432,
          0.3322350356946733,
          0.33278418451400327,
          0.3333333333333333,
          0.33388248215266336,
          0.3344316309719934,
          0.33498077979132346,
          0.3355299286106535,
          0.33607907742998355,
          0.33662822624931354,
          0.3371773750686436,
          0.33772652388797364,
          0.3382756727073037,
          0.33882482152663373,
          0.3393739703459638,
          0.3399231191652938,
          0.3404722679846238,
          0.34102141680395387,
          0.3415705656232839,
          0.34211971444261396,
          0.342668863261944,
          0.343218012081274,
          0.34376716090060405,
          0.3443163097199341,
          0.34486545853926415,
          0.3454146073585942,
          0.34596375617792424,
          0.34651290499725423,
          0.3470620538165843,
          0.34761120263591433,
          0.3481603514552444,
          0.3487095002745744,
          0.34925864909390447,
          0.34980779791323446,
          0.3503569467325645,
          0.35090609555189456,
          0.3514552443712246,
          0.35200439319055465,
          0.3525535420098847,
          0.3531026908292147,
          0.35365183964854474,
          0.3542009884678748,
          0.35475013728720484,
          0.3552992861065349,
          0.35584843492586493,
          0.3563975837451949,
          0.35694673256452497,
          0.357495881383855,
          0.35804503020318507,
          0.3585941790225151,
          0.35914332784184516,
          0.35969247666117515,
          0.3602416254805052,
          0.36079077429983525,
          0.3613399231191653,
          0.36188907193849534,
          0.3624382207578254,
          0.3629873695771554,
          0.36353651839648543,
          0.3640856672158155,
          0.3646348160351455,
          0.3651839648544756,
          0.3657331136738056,
          0.3662822624931356,
          0.36683141131246566,
          0.3673805601317957,
          0.36792970895112576,
          0.3684788577704558,
          0.36902800658978585,
          0.36957715540911584,
          0.3701263042284459,
          0.37067545304777594,
          0.371224601867106,
          0.37177375068643603,
          0.3723228995057661,
          0.37287204832509613,
          0.3734211971444261,
          0.37397034596375617,
          0.3745194947830862,
          0.37506864360241626,
          0.3756177924217463,
          0.37616694124107636,
          0.37671609006040635,
          0.3772652388797364,
          0.37781438769906645,
          0.3783635365183965,
          0.37891268533772654,
          0.3794618341570566,
          0.3800109829763866,
          0.3805601317957166,
          0.3811092806150467,
          0.3816584294343767,
          0.38220757825370677,
          0.3827567270730368,
          0.3833058758923668,
          0.38385502471169686,
          0.3844041735310269,
          0.38495332235035695,
          0.385502471169687,
          0.38605161998901705,
          0.38660076880834704,
          0.3871499176276771,
          0.38769906644700713,
          0.3882482152663372,
          0.38879736408566723,
          0.3893465129049973,
          0.38989566172432727,
          0.3904448105436573,
          0.39099395936298736,
          0.3915431081823174,
          0.39209225700164746,
          0.3926414058209775,
          0.3931905546403075,
          0.39373970345963755,
          0.3942888522789676,
          0.39483800109829764,
          0.3953871499176277,
          0.39593629873695774,
          0.39648544755628773,
          0.3970345963756178,
          0.3975837451949478,
          0.39813289401427787,
          0.3986820428336079,
          0.39923119165293797,
          0.39978034047226796,
          0.400329489291598,
          0.40087863811092805,
          0.4014277869302581,
          0.40197693574958815,
          0.4025260845689182,
          0.4030752333882482,
          0.40362438220757824,
          0.4041735310269083,
          0.40472267984623833,
          0.4052718286655684,
          0.4058209774848984,
          0.4063701263042284,
          0.40691927512355847,
          0.4074684239428885,
          0.40801757276221856,
          0.4085667215815486,
          0.40911587040087866,
          0.4096650192202087,
          0.4102141680395387,
          0.41076331685886874,
          0.4113124656781988,
          0.41186161449752884,
          0.4124107633168589,
          0.41295991213618893,
          0.4135090609555189,
          0.414058209774849,
          0.414607358594179,
          0.41515650741350907,
          0.4157056562328391,
          0.41625480505216916,
          0.41680395387149916,
          0.4173531026908292,
          0.41790225151015925,
          0.4184514003294893,
          0.41900054914881935,
          0.4195496979681494,
          0.4200988467874794,
          0.42064799560680943,
          0.4211971444261395,
          0.42174629324546953,
          0.4222954420647996,
          0.4228445908841296,
          0.4233937397034596,
          0.42394288852278966,
          0.4244920373421197,
          0.42504118616144976,
          0.4255903349807798,
          0.42613948380010985,
          0.42668863261943984,
          0.4272377814387699,
          0.42778693025809994,
          0.42833607907743,
          0.42888522789676004,
          0.4294343767160901,
          0.4299835255354201,
          0.4305326743547501,
          0.43108182317408017,
          0.4316309719934102,
          0.43218012081274026,
          0.4327292696320703,
          0.4332784184514003,
          0.43382756727073035,
          0.4343767160900604,
          0.43492586490939045,
          0.4354750137287205,
          0.43602416254805054,
          0.43657331136738053,
          0.4371224601867106,
          0.43767160900604063,
          0.4382207578253707,
          0.4387699066447007,
          0.43931905546403077,
          0.43986820428336076,
          0.4404173531026908,
          0.44096650192202086,
          0.4415156507413509,
          0.44206479956068095,
          0.442613948380011,
          0.443163097199341,
          0.44371224601867104,
          0.4442613948380011,
          0.44481054365733114,
          0.4453596924766612,
          0.44590884129599123,
          0.4464579901153213,
          0.44700713893465127,
          0.4475562877539813,
          0.44810543657331137,
          0.4486545853926414,
          0.44920373421197146,
          0.4497528830313015,
          0.4503020318506315,
          0.45085118066996155,
          0.4514003294892916,
          0.45194947830862164,
          0.4524986271279517,
          0.45304777594728174,
          0.45359692476661173,
          0.4541460735859418,
          0.4546952224052718,
          0.4552443712246019,
          0.4557935200439319,
          0.45634266886326197,
          0.45689181768259196,
          0.457440966501922,
          0.45799011532125206,
          0.4585392641405821,
          0.45908841295991215,
          0.4596375617792422,
          0.4601867105985722,
          0.46073585941790224,
          0.4612850082372323,
          0.46183415705656233,
          0.4623833058758924,
          0.46293245469522243,
          0.4634816035145524,
          0.46403075233388247,
          0.4645799011532125,
          0.46512904997254256,
          0.4656781987918726,
          0.46622734761120266,
          0.46677649643053265,
          0.4673256452498627,
          0.46787479406919275,
          0.4684239428885228,
          0.46897309170785284,
          0.4695222405271829,
          0.4700713893465129,
          0.4706205381658429,
          0.471169686985173,
          0.471718835804503,
          0.47226798462383307,
          0.4728171334431631,
          0.4733662822624931,
          0.47391543108182316,
          0.4744645799011532,
          0.47501372872048325,
          0.4755628775398133,
          0.47611202635914335,
          0.47666117517847334,
          0.4772103239978034,
          0.47775947281713343,
          0.4783086216364635,
          0.47885777045579353,
          0.4794069192751236,
          0.47995606809445357,
          0.4805052169137836,
          0.48105436573311366,
          0.4816035145524437,
          0.48215266337177376,
          0.4827018121911038,
          0.48325096101043385,
          0.48380010982976385,
          0.4843492586490939,
          0.48489840746842394,
          0.485447556287754,
          0.48599670510708404,
          0.4865458539264141,
          0.4870950027457441,
          0.4876441515650741,
          0.48819330038440417,
          0.4887424492037342,
          0.48929159802306427,
          0.4898407468423943,
          0.4903898956617243,
          0.49093904448105435,
          0.4914881933003844,
          0.49203734211971445,
          0.4925864909390445,
          0.49313563975837454,
          0.49368478857770454,
          0.4942339373970346,
          0.49478308621636463,
          0.4953322350356947,
          0.4958813838550247,
          0.4964305326743548,
          0.49697968149368477,
          0.4975288303130148,
          0.49807797913234486,
          0.4986271279516749,
          0.49917627677100496,
          0.499725425590335,
          0.500274574409665,
          0.500823723228995,
          0.5013728720483251,
          0.5019220208676551,
          0.5024711696869851,
          0.5030203185063152,
          0.5035694673256452,
          0.5041186161449753,
          0.5046677649643053,
          0.5052169137836353,
          0.5057660626029654,
          0.5063152114222954,
          0.5068643602416255,
          0.5074135090609555,
          0.5079626578802856,
          0.5085118066996156,
          0.5090609555189456,
          0.5096101043382757,
          0.5101592531576057,
          0.5107084019769358,
          0.5112575507962658,
          0.5118066996155958,
          0.5123558484349259,
          0.5129049972542559,
          0.513454146073586,
          0.514003294892916,
          0.5145524437122461,
          0.5151015925315761,
          0.515650741350906,
          0.5161998901702362,
          0.5167490389895661,
          0.5172981878088962,
          0.5178473366282262,
          0.5183964854475562,
          0.5189456342668863,
          0.5194947830862163,
          0.5200439319055464,
          0.5205930807248764,
          0.5211422295442065,
          0.5216913783635365,
          0.5222405271828665,
          0.5227896760021966,
          0.5233388248215266,
          0.5238879736408567,
          0.5244371224601867,
          0.5249862712795168,
          0.5255354200988468,
          0.5260845689181768,
          0.5266337177375069,
          0.5271828665568369,
          0.527732015376167,
          0.528281164195497,
          0.528830313014827,
          0.5293794618341571,
          0.5299286106534871,
          0.5304777594728172,
          0.5310269082921472,
          0.5315760571114773,
          0.5321252059308073,
          0.5326743547501372,
          0.5332235035694673,
          0.5337726523887973,
          0.5343218012081274,
          0.5348709500274574,
          0.5354200988467874,
          0.5359692476661175,
          0.5365183964854475,
          0.5370675453047776,
          0.5376166941241076,
          0.5381658429434377,
          0.5387149917627677,
          0.5392641405820977,
          0.5398132894014278,
          0.5403624382207578,
          0.5409115870400879,
          0.5414607358594179,
          0.5420098846787479,
          0.542559033498078,
          0.543108182317408,
          0.5436573311367381,
          0.5442064799560681,
          0.5447556287753982,
          0.5453047775947282,
          0.5458539264140582,
          0.5464030752333883,
          0.5469522240527183,
          0.5475013728720484,
          0.5480505216913784,
          0.5485996705107083,
          0.5491488193300385,
          0.5496979681493684,
          0.5502471169686985,
          0.5507962657880285,
          0.5513454146073586,
          0.5518945634266886,
          0.5524437122460186,
          0.5529928610653487,
          0.5535420098846787,
          0.5540911587040088,
          0.5546403075233388,
          0.5551894563426688,
          0.5557386051619989,
          0.5562877539813289,
          0.556836902800659,
          0.557386051619989,
          0.5579352004393191,
          0.5584843492586491,
          0.5590334980779791,
          0.5595826468973092,
          0.5601317957166392,
          0.5606809445359693,
          0.5612300933552993,
          0.5617792421746294,
          0.5623283909939594,
          0.5628775398132894,
          0.5634266886326195,
          0.5639758374519495,
          0.5645249862712796,
          0.5650741350906096,
          0.5656232839099395,
          0.5661724327292696,
          0.5667215815485996,
          0.5672707303679297,
          0.5678198791872597,
          0.5683690280065898,
          0.5689181768259198,
          0.5694673256452498,
          0.5700164744645799,
          0.5705656232839099,
          0.57111477210324,
          0.57166392092257,
          0.5722130697419,
          0.5727622185612301,
          0.5733113673805601,
          0.5738605161998902,
          0.5744096650192202,
          0.5749588138385503,
          0.5755079626578803,
          0.5760571114772103,
          0.5766062602965404,
          0.5771554091158704,
          0.5777045579352005,
          0.5782537067545305,
          0.5788028555738605,
          0.5793520043931906,
          0.5799011532125206,
          0.5804503020318507,
          0.5809994508511807,
          0.5815485996705108,
          0.5820977484898407,
          0.5826468973091707,
          0.5831960461285008,
          0.5837451949478308,
          0.5842943437671609,
          0.5848434925864909,
          0.5853926414058209,
          0.585941790225151,
          0.586490939044481,
          0.5870400878638111,
          0.5875892366831411,
          0.5881383855024712,
          0.5886875343218012,
          0.5892366831411312,
          0.5897858319604613,
          0.5903349807797913,
          0.5908841295991214,
          0.5914332784184514,
          0.5919824272377814,
          0.5925315760571115,
          0.5930807248764415,
          0.5936298736957716,
          0.5941790225151016,
          0.5947281713344317,
          0.5952773201537617,
          0.5958264689730917,
          0.5963756177924218,
          0.5969247666117518,
          0.5974739154310819,
          0.5980230642504119,
          0.598572213069742,
          0.599121361889072,
          0.5996705107084019,
          0.600219659527732,
          0.600768808347062,
          0.6013179571663921,
          0.6018671059857221,
          0.6024162548050521,
          0.6029654036243822,
          0.6035145524437122,
          0.6040637012630423,
          0.6046128500823723,
          0.6051619989017024,
          0.6057111477210324,
          0.6062602965403624,
          0.6068094453596925,
          0.6073585941790225,
          0.6079077429983526,
          0.6084568918176826,
          0.6090060406370126,
          0.6095551894563427,
          0.6101043382756727,
          0.6106534870950028,
          0.6112026359143328,
          0.6117517847336629,
          0.6123009335529929,
          0.6128500823723229,
          0.613399231191653,
          0.613948380010983,
          0.6144975288303131,
          0.615046677649643,
          0.615595826468973,
          0.6161449752883031,
          0.6166941241076331,
          0.6172432729269632,
          0.6177924217462932,
          0.6183415705656233,
          0.6188907193849533,
          0.6194398682042833,
          0.6199890170236134,
          0.6205381658429434,
          0.6210873146622735,
          0.6216364634816035,
          0.6221856123009335,
          0.6227347611202636,
          0.6232839099395936,
          0.6238330587589237,
          0.6243822075782537,
          0.6249313563975838,
          0.6254805052169138,
          0.6260296540362438,
          0.6265788028555739,
          0.6271279516749039,
          0.627677100494234,
          0.628226249313564,
          0.628775398132894,
          0.6293245469522241,
          0.629873695771554,
          0.6304228445908842,
          0.6309719934102141,
          0.6315211422295443,
          0.6320702910488742,
          0.6326194398682042,
          0.6331685886875343,
          0.6337177375068643,
          0.6342668863261944,
          0.6348160351455244,
          0.6353651839648545,
          0.6359143327841845,
          0.6364634816035145,
          0.6370126304228446,
          0.6375617792421746,
          0.6381109280615047,
          0.6386600768808347,
          0.6392092257001647,
          0.6397583745194948,
          0.6403075233388248,
          0.6408566721581549,
          0.6414058209774849,
          0.641954969796815,
          0.642504118616145,
          0.643053267435475,
          0.6436024162548051,
          0.6441515650741351,
          0.6447007138934652,
          0.6452498627127952,
          0.6457990115321252,
          0.6463481603514553,
          0.6468973091707853,
          0.6474464579901154,
          0.6479956068094453,
          0.6485447556287754,
          0.6490939044481054,
          0.6496430532674354,
          0.6501922020867655,
          0.6507413509060955,
          0.6512904997254256,
          0.6518396485447556,
          0.6523887973640856,
          0.6529379461834157,
          0.6534870950027457,
          0.6540362438220758,
          0.6545853926414058,
          0.6551345414607359,
          0.6556836902800659,
          0.6562328390993959,
          0.656781987918726,
          0.657331136738056,
          0.6578802855573861,
          0.6584294343767161,
          0.6589785831960461,
          0.6595277320153762,
          0.6600768808347062,
          0.6606260296540363,
          0.6611751784733663,
          0.6617243272926964,
          0.6622734761120264,
          0.6628226249313564,
          0.6633717737506865,
          0.6639209225700164,
          0.6644700713893466,
          0.6650192202086765,
          0.6655683690280065,
          0.6661175178473366,
          0.6666666666666666,
          0.6672158154859967,
          0.6677649643053267,
          0.6683141131246568,
          0.6688632619439868,
          0.6694124107633168,
          0.6699615595826469,
          0.6705107084019769,
          0.671059857221307,
          0.671609006040637,
          0.6721581548599671,
          0.6727073036792971,
          0.6732564524986271,
          0.6738056013179572,
          0.6743547501372872,
          0.6749038989566173,
          0.6754530477759473,
          0.6760021965952773,
          0.6765513454146074,
          0.6771004942339374,
          0.6776496430532675,
          0.6781987918725975,
          0.6787479406919276,
          0.6792970895112576,
          0.6798462383305875,
          0.6803953871499177,
          0.6809445359692476,
          0.6814936847885777,
          0.6820428336079077,
          0.6825919824272377,
          0.6831411312465678,
          0.6836902800658978,
          0.6842394288852279,
          0.6847885777045579,
          0.685337726523888,
          0.685886875343218,
          0.686436024162548,
          0.6869851729818781,
          0.6875343218012081,
          0.6880834706205382,
          0.6886326194398682,
          0.6891817682591982,
          0.6897309170785283,
          0.6902800658978583,
          0.6908292147171884,
          0.6913783635365184,
          0.6919275123558485,
          0.6924766611751785,
          0.6930258099945085,
          0.6935749588138386,
          0.6941241076331686,
          0.6946732564524987,
          0.6952224052718287,
          0.6957715540911587,
          0.6963207029104888,
          0.6968698517298187,
          0.6974190005491488,
          0.6979681493684788,
          0.6985172981878089,
          0.6990664470071389,
          0.6996155958264689,
          0.700164744645799,
          0.700713893465129,
          0.7012630422844591,
          0.7018121911037891,
          0.7023613399231191,
          0.7029104887424492,
          0.7034596375617792,
          0.7040087863811093,
          0.7045579352004393,
          0.7051070840197694,
          0.7056562328390994,
          0.7062053816584294,
          0.7067545304777595,
          0.7073036792970895,
          0.7078528281164196,
          0.7084019769357496,
          0.7089511257550797,
          0.7095002745744097,
          0.7100494233937397,
          0.7105985722130698,
          0.7111477210323998,
          0.7116968698517299,
          0.7122460186710599,
          0.7127951674903898,
          0.71334431630972,
          0.7138934651290499,
          0.71444261394838,
          0.71499176276771,
          0.7155409115870401,
          0.7160900604063701,
          0.7166392092257001,
          0.7171883580450302,
          0.7177375068643602,
          0.7182866556836903,
          0.7188358045030203,
          0.7193849533223503,
          0.7199341021416804,
          0.7204832509610104,
          0.7210323997803405,
          0.7215815485996705,
          0.7221306974190006,
          0.7226798462383306,
          0.7232289950576606,
          0.7237781438769907,
          0.7243272926963207,
          0.7248764415156508,
          0.7254255903349808,
          0.7259747391543108,
          0.7265238879736409,
          0.7270730367929709,
          0.727622185612301,
          0.728171334431631,
          0.7287204832509611,
          0.729269632070291,
          0.729818780889621,
          0.7303679297089511,
          0.7309170785282811,
          0.7314662273476112,
          0.7320153761669412,
          0.7325645249862712,
          0.7331136738056013,
          0.7336628226249313,
          0.7342119714442614,
          0.7347611202635914,
          0.7353102690829215,
          0.7358594179022515,
          0.7364085667215815,
          0.7369577155409116,
          0.7375068643602416,
          0.7380560131795717,
          0.7386051619989017,
          0.7391543108182317,
          0.7397034596375618,
          0.7402526084568918,
          0.7408017572762219,
          0.7413509060955519,
          0.741900054914882,
          0.742449203734212,
          0.742998352553542,
          0.7435475013728721,
          0.7440966501922021,
          0.7446457990115322,
          0.7451949478308622,
          0.7457440966501923,
          0.7462932454695222,
          0.7468423942888522,
          0.7473915431081823,
          0.7479406919275123,
          0.7484898407468424,
          0.7490389895661724,
          0.7495881383855024,
          0.7501372872048325,
          0.7506864360241625,
          0.7512355848434926,
          0.7517847336628226,
          0.7523338824821527,
          0.7528830313014827,
          0.7534321801208127,
          0.7539813289401428,
          0.7545304777594728,
          0.7550796265788029,
          0.7556287753981329,
          0.7561779242174629,
          0.756727073036793,
          0.757276221856123,
          0.7578253706754531,
          0.7583745194947831,
          0.7589236683141132,
          0.7594728171334432,
          0.7600219659527732,
          0.7605711147721033,
          0.7611202635914333,
          0.7616694124107634,
          0.7622185612300933,
          0.7627677100494233,
          0.7633168588687534,
          0.7638660076880834,
          0.7644151565074135,
          0.7649643053267435,
          0.7655134541460736,
          0.7660626029654036,
          0.7666117517847336,
          0.7671609006040637,
          0.7677100494233937,
          0.7682591982427238,
          0.7688083470620538,
          0.7693574958813838,
          0.7699066447007139,
          0.7704557935200439,
          0.771004942339374,
          0.771554091158704,
          0.7721032399780341,
          0.7726523887973641,
          0.7732015376166941,
          0.7737506864360242,
          0.7742998352553542,
          0.7748489840746843,
          0.7753981328940143,
          0.7759472817133443,
          0.7764964305326744,
          0.7770455793520044,
          0.7775947281713345,
          0.7781438769906645,
          0.7786930258099946,
          0.7792421746293245,
          0.7797913234486545,
          0.7803404722679846,
          0.7808896210873146,
          0.7814387699066447,
          0.7819879187259747,
          0.7825370675453048,
          0.7830862163646348,
          0.7836353651839648,
          0.7841845140032949,
          0.7847336628226249,
          0.785282811641955,
          0.785831960461285,
          0.786381109280615,
          0.7869302580999451,
          0.7874794069192751,
          0.7880285557386052,
          0.7885777045579352,
          0.7891268533772653,
          0.7896760021965953,
          0.7902251510159253,
          0.7907742998352554,
          0.7913234486545854,
          0.7918725974739155,
          0.7924217462932455,
          0.7929708951125755,
          0.7935200439319056,
          0.7940691927512356,
          0.7946183415705657,
          0.7951674903898956,
          0.7957166392092258,
          0.7962657880285557,
          0.7968149368478857,
          0.7973640856672158,
          0.7979132344865458,
          0.7984623833058759,
          0.7990115321252059,
          0.7995606809445359,
          0.800109829763866,
          0.800658978583196,
          0.8012081274025261,
          0.8017572762218561,
          0.8023064250411862,
          0.8028555738605162,
          0.8034047226798462,
          0.8039538714991763,
          0.8045030203185063,
          0.8050521691378364,
          0.8056013179571664,
          0.8061504667764964,
          0.8066996155958265,
          0.8072487644151565,
          0.8077979132344866,
          0.8083470620538166,
          0.8088962108731467,
          0.8094453596924767,
          0.8099945085118067,
          0.8105436573311368,
          0.8110928061504667,
          0.8116419549697969,
          0.8121911037891268,
          0.8127402526084568,
          0.8132894014277869,
          0.8138385502471169,
          0.814387699066447,
          0.814936847885777,
          0.8154859967051071,
          0.8160351455244371,
          0.8165842943437671,
          0.8171334431630972,
          0.8176825919824272,
          0.8182317408017573,
          0.8187808896210873,
          0.8193300384404174,
          0.8198791872597474,
          0.8204283360790774,
          0.8209774848984075,
          0.8215266337177375,
          0.8220757825370676,
          0.8226249313563976,
          0.8231740801757276,
          0.8237232289950577,
          0.8242723778143877,
          0.8248215266337178,
          0.8253706754530478,
          0.8259198242723779,
          0.8264689730917079,
          0.8270181219110379,
          0.827567270730368,
          0.828116419549698,
          0.828665568369028,
          0.829214717188358,
          0.829763866007688,
          0.8303130148270181,
          0.8308621636463481,
          0.8314113124656782,
          0.8319604612850082,
          0.8325096101043383,
          0.8330587589236683,
          0.8336079077429983,
          0.8341570565623284,
          0.8347062053816584,
          0.8352553542009885,
          0.8358045030203185,
          0.8363536518396485,
          0.8369028006589786,
          0.8374519494783086,
          0.8380010982976387,
          0.8385502471169687,
          0.8390993959362988,
          0.8396485447556288,
          0.8401976935749588,
          0.8407468423942889,
          0.8412959912136189,
          0.841845140032949,
          0.842394288852279,
          0.842943437671609,
          0.8434925864909391,
          0.844041735310269,
          0.8445908841295992,
          0.8451400329489291,
          0.8456891817682592,
          0.8462383305875892,
          0.8467874794069192,
          0.8473366282262493,
          0.8478857770455793,
          0.8484349258649094,
          0.8489840746842394,
          0.8495332235035694,
          0.8500823723228995,
          0.8506315211422295,
          0.8511806699615596,
          0.8517298187808896,
          0.8522789676002197,
          0.8528281164195497,
          0.8533772652388797,
          0.8539264140582098,
          0.8544755628775398,
          0.8550247116968699,
          0.8555738605161999,
          0.85612300933553,
          0.85667215815486,
          0.85722130697419,
          0.8577704557935201,
          0.8583196046128501,
          0.8588687534321802,
          0.8594179022515102,
          0.8599670510708401,
          0.8605161998901703,
          0.8610653487095002,
          0.8616144975288303,
          0.8621636463481603,
          0.8627127951674904,
          0.8632619439868204,
          0.8638110928061504,
          0.8643602416254805,
          0.8649093904448105,
          0.8654585392641406,
          0.8660076880834706,
          0.8665568369028006,
          0.8671059857221307,
          0.8676551345414607,
          0.8682042833607908,
          0.8687534321801208,
          0.8693025809994509,
          0.8698517298187809,
          0.8704008786381109,
          0.870950027457441,
          0.871499176276771,
          0.8720483250961011,
          0.8725974739154311,
          0.8731466227347611,
          0.8736957715540912,
          0.8742449203734212,
          0.8747940691927513,
          0.8753432180120813,
          0.8758923668314114,
          0.8764415156507414,
          0.8769906644700713,
          0.8775398132894014,
          0.8780889621087314,
          0.8786381109280615,
          0.8791872597473915,
          0.8797364085667215,
          0.8802855573860516,
          0.8808347062053816,
          0.8813838550247117,
          0.8819330038440417,
          0.8824821526633718,
          0.8830313014827018,
          0.8835804503020318,
          0.8841295991213619,
          0.8846787479406919,
          0.885227896760022,
          0.885777045579352,
          0.886326194398682,
          0.8868753432180121,
          0.8874244920373421,
          0.8879736408566722,
          0.8885227896760022,
          0.8890719384953323,
          0.8896210873146623,
          0.8901702361339923,
          0.8907193849533224,
          0.8912685337726524,
          0.8918176825919825,
          0.8923668314113125,
          0.8929159802306426,
          0.8934651290499726,
          0.8940142778693025,
          0.8945634266886326,
          0.8951125755079626,
          0.8956617243272927,
          0.8962108731466227,
          0.8967600219659527,
          0.8973091707852828,
          0.8978583196046128,
          0.8984074684239429,
          0.8989566172432729
         ],
         "xaxis": "x",
         "y": [
          38.451172778017046,
          19.608007035708194,
          28.037047721937256,
          27.690833530811155,
          26.217183011332754,
          32.54970216797831,
          19.58271773056223,
          40.860854706075365,
          21.734191219051613,
          30.103691119631918,
          45.009806747468936,
          31.190987640009077,
          25.22937763101242,
          28.364382219827416,
          29.606861042998034,
          22.590958003159525,
          19.636048645844326,
          22.314837785464594,
          38.39156963983273,
          23.827695394953118,
          44.976584071227016,
          19.574462094010336,
          33.29445771144179,
          20.804766763670795,
          38.371569621643296,
          36.6421374393882,
          35.29993462207407,
          19.80561906356342,
          30.562509724282684,
          19.607451200682675,
          31.759832519224407,
          31.12432048070852,
          44.936472501227065,
          30.023690459242736,
          44.9297610911319,
          23.113049425264027,
          19.55376383213275,
          32.443032808320766,
          44.91631570735536,
          19.58087542621529,
          29.519903830278025,
          26.93205805992583,
          38.311166427951264,
          29.065148196444586,
          44.89609096910622,
          21.730948960104033,
          25.576944474028767,
          40.7270698996151,
          31.699226057341267,
          36.56141873789138,
          19.792818965567157,
          24.467749746004955,
          24.667398187873747,
          19.54447908767573,
          20.79917069366424,
          40.6999512094601,
          35.19880864802574,
          19.56750062712915,
          22.58982168064636,
          40.68634576149332,
          38.250148953989864,
          19.607451200682675,
          44.83500446860919,
          34.081036324925236,
          33.152718927265845,
          36.50699659934043,
          19.556183388368133,
          40.65904196019024,
          44.814503309713146,
          25.743486003500287,
          27.808470947457042,
          19.643808660099225,
          23.827316111439064,
          19.772638568287025,
          44.793931860992,
          27.44840330762565,
          35.13043185042696,
          28.1481466009748,
          26.51339989596278,
          25.22929931614607,
          44.773289638798744,
          20.486044647790845,
          23.112363276510116,
          26.217146571822887,
          31.576145061383496,
          20.79205861494933,
          35.095949002476964,
          19.49555312780989,
          44.74565573848588,
          36.424426494038606,
          38.147053635930014,
          30.91975585000479,
          19.573813890981885,
          19.528848513253326,
          30.337484424303657,
          40.56248815275281,
          19.752380580774393,
          36.39664866842208,
          44.71093341936319,
          22.311925017621334,
          44.70396477746553,
          22.58871212080857,
          31.51364462578801,
          40.534613538245665,
          27.690822384607973,
          19.5413575411101,
          20.074992856500604,
          40.52062751797137,
          38.08433529599717,
          28.037039330681694,
          24.467549199011536,
          19.548065645637344,
          44.66198209889401,
          24.667273501805,
          38.063282643223495,
          40.49255729142515,
          20.786592847313585,
          25.576885495366955,
          29.251205045950773,
          21.724677181407895,
          19.593117409564876,
          19.457161855060296,
          44.62677073023561,
          33.87268213169873,
          44.619703591610104,
          23.826949039733055,
          28.36437559632956,
          19.573519150739664,
          44.60554429300501,
          23.111696524161005,
          26.932037663681292,
          19.505696264086883,
          37.999677808551745,
          32.111151386973695,
          32.908783065339684,
          33.83012877817096,
          34.92049793488423,
          36.25579713929263,
          19.435758219917343,
          20.467782002042973,
          22.31051597741091,
          19.455305559627984,
          25.74343462802937,
          40.39326424560842,
          22.587629414246006,
          36.22722565872063,
          25.229223473752672,
          20.779652052217774,
          32.85878281397454,
          19.50386347689331,
          37.935391480579995,
          30.70796989430853,
          44.51987954218623,
          29.60685935538007,
          44.51268529672076,
          19.43771259407795,
          21.72164906630037,
          19.481569839490827,
          44.49827087537513,
          33.744105833408696,
          30.103689873218162,
          26.513371670319998,
          26.217111414135783,
          40.3213209378666,
          44.47658410477931,
          19.691179738005687,
          34.812710624816816,
          40.30682817724837,
          20.456805310140073,
          24.467410867303244,
          29.065145843964814,
          19.423532126254194,
          27.448389980445256,
          27.808460819636032,
          24.667152404498914,
          40.27773721127293,
          23.111049207349634,
          29.51990205896723,
          23.826594193339737,
          40.26313866397799,
          37.8266928578489,
          22.309138682806143,
          30.023689156721673,
          19.41907646415213,
          44.403723464454906,
          36.082291085990924,
          28.1481421381507,
          22.586573649593184,
          25.576828479353853,
          19.386330122188852,
          32.70623234593307,
          30.56250878082958,
          31.190986985944562,
          21.719344139334,
          44.36695864354655,
          33.612713776660335,
          19.41213942514876,
          20.447933270469704,
          37.76051571785945,
          40.18960833222836,
          44.34479113064898,
          19.380402448002858,
          44.3373837223016,
          40.17479350994295,
          19.507866204381315,
          27.690811718728263,
          19.431872193630902,
          33.568269148485456,
          44.31510646898968,
          20.76607182013893,
          31.124319802762976,
          19.653814266440524,
          44.30020888219452,
          25.229150104395284,
          44.29274619466619,
          25.74338500948686,
          28.037034478978168,
          35.963768722790796,
          32.602333734742075,
          26.932018063773103,
          44.27030227822412,
          19.39004872681683,
          22.307793267863428,
          23.110421364126662,
          44.255292889535745,
          19.413020994244608,
          20.44110286752105,
          40.085128080682,
          24.46727663431773,
          31.7598320486345,
          22.58554491349581,
          23.82634822377061,
          32.549701865181156,
          35.90361784796782,
          19.633188845770555,
          24.667034897261267,
          34.55341106809855,
          19.350639939315027,
          44.20246235953832,
          28.36437176939969,
          20.75943716602731,
          26.217077538406684,
          44.18728208578803,
          33.432925126108145,
          26.51334449712017,
          31.69922557133185,
          19.3196117641806,
          40.00936949875221,
          19.332113490902664,
          29.251202988266577,
          44.1568058297918,
          30.337483357775167,
          37.55748883397646,
          19.339881030962843,
          44.141509454396186,
          20.432413802804177,
          34.4772195847946,
          19.612517860801862,
          37.53450030068292,
          25.576773426325385,
          32.44303248805918,
          19.298950866260768,
          44.11079921461074,
          22.306479863955083,
          30.91975509309745,
          35.78147623596135,
          34.438757923318136,
          21.71486761205112,
          44.08766293915928,
          27.44837721780941,
          23.109813031453086,
          20.75290934530903,
          44.07218904277045,
          22.58454329058771,
          19.28196686089561,
          39.901674300229416,
          27.808451135921775,
          31.576144542461993,
          44.04890311445135,
          33.29445751063835,
          25.22907920861869,
          19.352142089933388,
          19.338357079434317,
          39.87054582587553,
          23.82610850290548,
          19.296499286783863,
          34.36108695383997,
          24.4671465017083,
          25.74333714813443,
          35.688210117724516,
          44.002058374224944,
          19.258807444667966,
          29.60685771597704,
          31.513644089296204,
          37.39468815311482,
          28.148137802816787,
          24.66692098135949,
          29.065143560670332,
          43.97062411765423,
          39.807800156294064,
          19.252218008929194,
          19.314438917737775,
          20.747907543850868,
          19.5748380172499,
          22.305198599728204,
          35.62521741902988,
          27.690805549762125,
          39.77617952989429,
          26.93199926024809,
          19.260579918583655,
          43.9231617739265,
          30.103688661425522,
          37.323541076367874,
          20.41536209509257,
          29.51990033874894,
          33.152718711097606,
          22.583568863468244,
          23.109390473259218,
          30.70796904576293,
          39.728433920078764,
          26.21704494476592,
          19.214219603421665,
          43.87532098891268,
          28.03702976456446,
          37.275636631636765,
          19.20744118809562,
          19.56162684057469,
          26.513318376449114,
          43.851256785535824,
          35.52947071572535,
          25.57672033660595,
          30.023687890718264,
          43.835160196407166,
          20.742972943013918,
          43.82709567906527,
          39.66417627811105,
          19.196461388660826,
          23.825875035253574,
          43.8109340531344,
          19.2703865785555,
          43.80283688591485,
          21.710570919314712,
          20.407006374284048,
          39.63178753565407,
          32.1111510055647,
          22.303949601064147,
          24.467020471078243,
          25.2290107869494,
          37.17866482674643,
          19.54462807620623,
          43.762186323923004,
          19.170544803390044,
          28.36436805284801,
          35.4321712961425,
          30.56250786287436,
          39.582874221531924,
          34.0810361938543,
          24.666810658022587,
          19.24584378241903,
          22.582621712680137,
          37.12958479997204,
          25.743291044224517,
          43.71303929145892,
          19.205329241618,
          23.1089779004739,
          19.15665917432654,
          27.44836983121832,
          39.53355887566854,
          43.68831398174791,
          19.273868966330514,
          43.68004951763269,
          20.400588935408933,
          19.52383781941369,
          31.190986348650522,
          43.663486360119194,
          32.908782819890504,
          19.125917801537007,
          19.225595977487362,
          21.70849076791966,
          27.808445538869854,
          29.25120099169767,
          19.130044349653826,
          43.630222241660036,
          39.46716815714766,
          37.03020364908925,
          35.2999345530808,
          22.303077281875726,
          32.858782562044695,
          43.6051525673091,
          31.124319142350064,
          23.8256478252089,
          19.106242432272794,
          43.588381067922136,
          19.101114505394207,
          43.579977705205394,
          20.73330983370982,
          19.200642770941077,
          26.93198836041578,
          43.563135588886404,
          26.217013633338897,
          20.392445566032713,
          25.576669210508413,
          22.581701916687805,
          39.383133170479404,
          28.148133594974723,
          24.466898543980772,
          33.872681985773696,
          27.690799553721185,
          30.337482320871374,
          35.19880857537999,
          26.51329330838933,
          23.108575325534122,
          43.503813071749825,
          19.10071447787891,
          25.228944839895636,
          21.706456473820403,
          33.830128629009245,
          19.07686639069055,
          24.666703928441134,
          39.31504733388577,
          36.877975615773764,
          19.137044795072327,
          43.461077848358364,
          32.70623207314101,
          29.065141346561614,
          35.13043177520193,
          20.728583563741285,
          22.301883880370408,
          31.759831589522182,
          20.384426546462308,
          28.037025187442506,
          29.60685612478917,
          36.826362396110625,
          35.095948925916424,
          25.743246698000302,
          19.111923772765504,
          33.744105677480995,
          30.919754356284443,
          36.80038833051365,
          39.228838954799635,
          43.38337892083571,
          19.472793105355237,
          31.699225097273263,
          23.825426877050017,
          19.02508041768469,
          22.58106170976953,
          19.15756124341211,
          32.60233344674865,
          43.34852043499446,
          19.09042811189582,
          36.74810041983006,
          29.519898669623412,
          21.704468326171835,
          19.138425376477493,
          43.32224302073545,
          39.15896917005272,
          19.00728017659531,
          20.72392897002506,
          23.10818276058704,
          32.54970156916295,
          43.29585001630576,
          19.008630567765568,
          30.103687484254124,
          27.44836264787557,
          24.466780721918976,
          28.364364446675754,
          33.61271360979543,
          39.106027650441035,
          22.301051398837238,
          18.98226083566501,
          31.576144036513266,
          19.003707347717825,
          25.57662004833411,
          34.92049785114981,
          36.642137404991104,
          39.07047199106881,
          33.56826897774829,
          19.002709351905985,
          26.216983604246092,
          24.66660079376721,
          30.023686661232656,
          25.228881367947317,
          27.808440101703706,
          32.44303217507616,
          31.51364356632912,
          30.70796822035879,
          26.931970831196523,
          20.37048859138843,
          22.58018898420449,
          21.702526608909597,
          19.08661374005508,
          19.091443415325752,
          36.56141870205995,
          26.51326929302,
          43.14405620642151,
          18.956175633694734,
          23.825212194939724,
          34.81271053634348,
          19.208449881181778,
          38.962523053044116,
          43.116865827568084,
          18.95100909710848,
          43.10777491674,
          38.94434122107655,
          36.506996562508206,
          23.107800217488794,
          33.43292494301135,
          25.743204109695736,
          27.69079373060855,
          22.29991394176419,
          19.421840135836867,
          29.25119905624441,
          18.92950980992264,
          28.148129514626113,
          43.052938282193566,
          38.88946279011207,
          20.364522960594265,
          30.562506970417083,
          43.03454746320145,
          20.714839243725205,
          43.0253308715295,
          18.891207542571134,
          36.424426455634105,
          24.466667006345727,
          43.00685510635735,
          18.9356745647031,
          21.700631600622486,
          38.834077781865574,
          36.39664862947364,
          19.04850436464579,
          42.97903434554497,
          22.579582476356894,
          42.969732018102405,
          19.408663977364235,
          18.868825160704574,
          38.796868360565526,
          33.29445731396098,
          28.037020747614196,
          42.94173818816769,
          38.77817675680628,
          24.666501255114355,
          18.909714937824702,
          42.923002809951385,
          25.576572850372834,
          42.91361313667582,
          20.358640214245536,
          18.88025832914885,
          18.854454494537123,
          25.228820371576035,
          23.824922174629954,
          22.2988092734729,
          29.06513920163912,
          23.10728151581917,
          34.55341096708888,
          31.19098572812699,
          32.111150633236726,
          19.395507484125126,
          26.216954857603064,
          36.255797097464644,
          38.68383519126926,
          27.448351127312478,
          18.855571150245172,
          42.82843820476758,
          21.698783574426308,
          36.22722561628295,
          30.337481313592377,
          33.152718499464314,
          19.0000651137865,
          31.12431849946982,
          34.47721947977194,
          29.6068545818167,
          19.13532078921876,
          42.78059106126711,
          18.800185793433,
          22.578757034911305,
          26.931954098473316,
          26.513246330416976,
          34.438757816209126,
          28.36436095088411,
          19.37862591352979,
          25.743163279535505,
          20.7035944099031,
          24.466557398663653,
          38.568631653081624,
          42.72266623488367,
          27.808434824425937,
          18.97801748540457,
          38.54921416057233,
          29.519897051590902,
          18.844704097591634,
          42.693492757643234,
          22.29773750415423,
          42.68373665793534,
          34.361086842389604,
          36.082291040320236,
          38.510189633095735,
          19.265107195788993,
          18.80703265305404,
          42.65437281467015,
          23.10692307178016,
          21.696982797839272,
          24.66640531355755,
          23.824722547325887,
          20.345514193082693,
          42.62486455848041,
          18.9508605591881,
          18.777526348327775,
          38.45117276436005,
          42.60511145422506,
          27.690788080427247,
          30.919753639565815,
          18.862734302566178,
          20.69935930034234,
          30.10368634170409,
          25.576527616902826,
          25.228761851235067,
          32.90878257977712,
          22.578184374898647,
          35.96376867429322,
          38.39156962576011,
          42.54545893305764,
          18.75087959396796,
          28.14812556177252,
          38.3715696074284,
          18.938440508896694,
          19.352456895417156,
          32.85878231563151,
          31.75983114188747,
          42.50535853317694,
          30.023685468264972,
          35.903617797969034,
          18.781271874611964,
          22.296698740990074,
          18.84157993808823,
          42.47510636825644,
          38.31116641329783,
          26.216927393520436,
          21.694737362302256,
          18.693877821058535,
          31.699224635165514,
          42.444700897791776,
          24.466451900225056,
          29.251197181907155,
          20.695203041338715,
          28.037013653002266,
          18.80463028331747,
          23.10643815324614,
          38.25014893887967,
          19.339421356416903,
          34.081036065225675,
          42.39368018220961,
          18.673746208274455,
          30.707967418096167,
          25.743124207735047,
          35.78147618276904,
          23.824453619201247,
          32.70623180645617,
          27.448340171359742,
          42.352548915748244,
          26.513224420652804,
          22.577406420376114,
          20.33440710798287,
          24.666312970133156,
          31.57614354353734,
          26.931938162286144,
          18.734226165366394,
          18.71401413010699,
          38.147053620015434,
          42.30073512226732,
          18.737193742157373,
          42.29031845298767,
          19.32642323422034,
          35.68821006195638,
          22.29569308811845,
          21.693045558484005,
          31.51364305688678,
          32.60233316530046,
          18.63288927728813,
          29.06513712590329,
          38.08433527957238,
          30.562506103457824,
          18.870559870730666,
          25.228705807359344,
          38.063282626623796,
          35.62521736145148,
          25.576484348190785,
          32.54970127992371,
          18.738325042113868,
          27.80842638427734,
          33.872681842654885,
          20.327459791039196,
          28.36435756547424,
          42.17452538559348,
          23.105972981020066,
          19.306082217120153,
          37.99967779141219,
          18.658805317283537,
          33.83012848273451,
          42.142553729137376,
          18.691664438785452,
          24.466350512331868,
          18.68543574832242,
          35.529470655281735,
          22.576656255826094,
          42.110410795133376,
          20.686004789513365,
          32.44303186937173,
          37.935391462876915,
          23.8241970085038,
          29.60685308705985,
          27.690779047758166,
          21.691866554382447,
          42.06728392483603,
          33.74410552461067,
          22.29472064659948,
          26.216901212103906,
          18.69434531112381,
          19.296873947983563,
          42.03473411626689,
          20.320667669732984,
          35.432171232640385,
          18.805823756664157,
          30.33748033593826,
          24.666189736093738,
          42.002006762409565,
          29.519895484651663,
          25.74308689450054,
          37.826692839150425,
          41.980088929825776,
          18.628299762898635,
          41.96909991576919,
          28.148119257009544,
          18.78223894436265,
          18.664701944519532,
          41.94706132350657,
          31.19098512437399,
          20.682115028997945,
          33.61271344626779,
          18.81683343243206,
          37.7605156985277,
          23.105527582777942,
          18.646063586182166,
          26.51320356379669,
          18.738325042113868,
          35.29993448517119,
          33.568268810448764,
          22.575933944281907,
          31.124317874122273,
          21.689806456028123,
          25.22865224036545,
          18.64019492506319,
          28.037006939774738,
          41.846873466969626,
          26.931923022673093,
          27.44832978003593,
          22.293519322272882,
          25.57644304449184,
          18.793565310225635,
          41.813102270885004,
          24.466215477370966,
          41.801802832521936,
          23.82395272473639,
          35.19880850389349,
          19.263946748750943,
          30.103685233775536,
          18.63785657177409,
          32.11115026998979,
          20.677236485773165,
          18.555840643589242,
          33.43292476367679,
          41.7449842261239,
          18.59957957489739,
          41.73355565124492,
          29.251195368686254,
          35.1304317011902,
          37.55748881256453,
          18.77536962397116,
          20.307563031494283,
          30.02368431181535,
          37.53450027902175,
          35.09594885059741,
          18.562963671190595,
          41.67608394748779,
          30.919752942941614,
          24.66607355895363,
          21.687826639288524,
          19.25124662363612,
          23.105101985047465,
          41.6413348156259,
          22.575046282461045,
          41.62970690501513,
          27.808418388281382,
          18.947523432924953,
          33.29445712140967,
          26.216876313454243,
          18.741354648660568,
          22.292373260509898,
          18.56740220391092,
          20.67249782878242,
          25.743051340028902,
          41.57122690992847,
          18.554006531691652,
          41.559462200282375,
          37.3946881298739,
          28.36435216842031,
          29.06513511935456,
          20.299879051156694,
          18.475845546869998,
          41.52402902645504,
          19.23142329367155,
          34.920497768810954,
          27.690770495475014,
          41.5002901230961,
          18.536960499137535,
          23.82372077695067,
          37.323541052279225,
          25.228601150651603,
          33.15271829236598,
          24.466123959796807,
          30.707966638975122,
          18.45847756885775,
          18.806857012752694,
          21.685927590174543,
          37.27563660695994,
          41.4285046207811,
          26.513183759914536,
          31.75983070573038,
          25.576403706049565,
          34.81271044936968,
          20.667901167854605,
          41.39228720700846,
          18.492694149031223,
          22.574387859603803,
          18.683156625267387,
          23.104696213202832,
          20.293780560094326,
          31.69922418500862,
          22.29152020846857,
          41.34365472193686,
          37.17866480083454,
          28.14811330641027,
          18.546467504181397,
          26.93190867967035,
          30.562505261996648,
          41.30691991333009,
          24.665964441174378,
          18.413147187845038,
          37.12958477341163,
          29.606851640518837,
          18.585586726171528,
          41.26995881084137,
          27.448319953358638,
          18.643046000473742,
          18.523737938000433,
          41.24519097382682,
          19.195854074631974,
          31.576143063534232,
          32.90878234499953,
          28.037000607939294,
          21.68410977699345,
          20.664425483438617,
          18.403402073794922,
          29.51989396880593,
          37.030203621165406,
          20.287855246590624,
          32.85878207473497,
          31.513642560969213,
          23.823501173745957,
          41.1576894230818,
          18.432746350882315,
          34.55341086786172,
          18.618823737465945,
          25.743017544507786,
          26.216852697667285,
          41.11979456029518,
          22.57375748103044,
          18.3661107713238,
          24.466036556817148,
          22.290700789670296,
          30.337479387909113,
          41.08165883871369,
          23.104310291459704,
          34.477219376624674,
          25.228552538597658,
          41.0560996946474,
          18.3114569866881,
          18.406079107027185,
          36.877975585624164,
          34.43875771102422,
          32.706231545878545,
          18.583644109173953,
          20.661037906204356,
          41.00465243413162,
          20.28210642614433,
          27.80841083644871,
          36.82636236516669,
          21.68237364997529,
          18.426082955694724,
          25.576366333095965,
          36.80038829916206,
          34.36108673296559,
          19.164444177509054,
          40.939716735423936,
          18.379169334757083,
          29.251193616582036,
          32.602332890397484,
          24.66589082324806,
          36.74810038764144,
          26.513165009068903,
          18.564613550082917,
          40.88725738488385,
          18.26282411724572,
          27.69076242359011,
          32.549700997463425,
          40.860854702032526,
          30.10368416046858,
          31.19098453739156,
          28.364349077367216,
          22.573155200076663,
          22.28991508744538,
          23.82329392326821,
          18.268671394839178,
          20.65681342254967,
          36.64213737103689,
          19.145569706396724,
          18.336912277584933,
          31.124317266307465,
          30.023683191883915,
          23.10394424287043,
          32.443031570945884,
          18.330357609141544,
          26.931895133312196,
          29.06513318199335,
          21.681080080420166,
          40.72706989529203,
          36.561418666695886,
          24.465953269511687,
          18.31236908907483,
          40.69995120507791,
          18.301989410918782,
          40.686345757081156,
          18.297383975570625,
          34.08103593903934,
          36.50699652616061,
          40.65904195571731,
          25.742985508115567,
          18.67124192528067,
          19.130325925973665,
          27.448310691344513,
          28.148109906051932,
          25.228506404565092,
          20.272332191777384,
          26.216830364833932,
          20.652738089210764,
          18.284625540623775,
          36.424426417741664,
          30.919752266411873,
          18.26966285846316,
          40.56248814805822,
          36.39664859104682,
          22.28916318184536,
          22.5725810677743,
          40.53461353348506,
          18.127435559380558,
          40.52062751317729,
          28.03699699190926,
          18.474198354214177,
          24.665820809015653,
          40.492557286563176,
          25.576330925851476,
          21.67983638285154,
          18.244128405170308,
          33.87268170234231,
          23.82315345438538,
          18.217913270676103,
          23.103694958998357,
          18.089246568959062,
          32.1111499158239,
          33.83012833934675,
          36.255797056209644,
          20.267090555455223,
          18.125789749549913,
          40.393264240498475,
          36.227225574429276,
          20.649672721615783,
          18.449378525136208,
          30.70796588299571,
          29.606850242193865,
          18.203136723462443,
          18.062405820729143,
          33.744105374797726,
          26.513147311319038,
          40.32132093256913,
          19.097156266512293,
          40.306828171912294,
          24.46587409890947,
          18.096819009659924,
          27.8084065185517,
          40.27773720585851,
          29.519892504053942,
          40.26313865852382,
          22.288445149616177,
          18.035227344222584,
          36.082290995292794,
          22.572035132836998,
          18.174472549498628,
          30.56250444603362,
          21.678642745616546,
          33.61271328607743,
          20.2620374055832,
          40.18960832656951,
          18.06750289233771,
          40.17479350424195,
          27.6907578110552,
          33.568268646586866,
          20.64669960590252,
          19.082575779024,
          25.228462748896984,
          25.74295523102136,
          35.963768626491785,
          26.931882383631002,
          18.13636281973628,
          23.103455833289853,
          18.3940658181513,
          40.08512807471903,
          31.759830281050924,
          23.823019294508878,
          35.903617748694856,
          24.66575439923451,
          18.070656960496592,
          28.364346096699823,
          26.216809315040155,
          33.43292458810445,
          31.699223746802602,
          40.00936949255855,
          29.251191925594817,
          30.337478469505022,
          18.05258725586262,
          20.258239418412085,
          19.06822813343613,
          25.576297484524947,
          17.919775104044422,
          22.28776106417233,
          35.781476130362826,
          21.67749934999727,
          27.44830540518093,
          20.64381959493519,
          22.571662468788446,
          39.90167429369235,
          31.57614259650396,
          33.29445693298442,
          18.023542238272483,
          39.8705458192357,
          18.063897908479266,
          24.465799045988877,
          35.68821000702477,
          18.080573916199853,
          31.513642078576435,
          28.148106633196107,
          29.06513131382005,
          39.80780014944216,
          18.34419455685521,
          19.05723830828809,
          35.62521730474549,
          39.776179522932956,
          17.981587205488186,
          30.103683121783327,
          20.254558658145505,
          33.15271808980261,
          23.103226873048413,
          39.728433912948866,
          17.90509757097508,
          28.03699351318448,
          18.044370642979242,
          26.51313719817849,
          35.52947059576801,
          30.02368210847079,
          20.640254866920966,
          39.66417627074784,
          23.822842074630067,
          18.319265468921408,
          21.676406370120723,
          39.63178752817036,
          22.287110995572128,
          25.228421571918023,
          19.043337491167723,
          17.887575001441146,
          35.432171170130495,
          39.582874213862524,
          24.665691594623098,
          22.571164978801534,
          25.742926713384996,
          18.071284829198834,
          17.780897537442325,
          39.53355886780723,
          17.881039629786788,
          20.250000675482234,
          31.19098396717973,
          32.90878211555774,
          18.294362780449717,
          27.808402360559178,
          17.848611165998232,
          39.4671681490204,
          35.299934418345245,
          32.85878183935509,
          31.12431667602542,
          17.743038517928092,
          17.984483365307973,
          20.63759075544341,
          26.93187511623999,
          26.216789548366993,
          25.576266009313663,
          39.38313316200255,
          24.465728111677567,
          27.690753371470255,
          35.19880843356622,
          23.103008085270865,
          17.800025577732185,
          21.675363972871963,
          17.69745323257849,
          39.315047325114676,
          17.81868616698738,
          32.70623129140814,
          35.130431628391776,
          22.28666752456663,
          20.246592885933676,
          29.606848892085143,
          35.09594877651991,
          17.773296922835204,
          30.91975160997664,
          39.228838945641265,
          19.016360448917837,
          23.82272306651446,
          22.570826963860966,
          32.602332622039754,
          17.78684788714316,
          29.519891090395916,
          18.250213522066684,
          39.15896916056795,
          20.635022399099597,
          32.549700721782116,
          17.92386237559774,
          27.448300322304974,
          28.364343226419123,
          39.106027640701214,
          17.640049529263457,
          17.728238814644282,
          34.920497687867666,
          39.07047198115385,
          17.75458078707493,
          24.665632395861,
          25.228382873934496,
          32.44303127979863,
          30.70796515015797,
          20.2433066406898,
          21.674650461042322,
          18.236463186885317,
          26.513121185496782,
          17.913694058690208,
          34.81271036389543,
          38.9625230425779,
          17.672235481590686,
          38.944341210514516,
          23.10271888479975,
          25.742899955357032,
          22.286075923801,
          29.251190295724914,
          28.148103487844057,
          38.88946277925546,
          30.562503655568804,
          20.631862144574427,
          17.596021410730007,
          24.46566129685244,
          17.73600446379417,
          38.834077770703324,
          18.21178652448089,
          22.570378043288756,
          19.001881318094135,
          38.79686834919312,
          28.036990171766387,
          38.77817674532682,
          17.7921808786117,
          25.576236500403308,
          20.240143179536613,
          17.562433399491283,
          23.822567068471717,
          29.06512951483506,
          34.553410770417074,
          32.11114957073907,
          26.21677106489054,
          38.68383517923385,
          17.6411959593668,
          21.673695143990628,
          30.337477580726066,
          18.18722436021423,
          34.4772192753528,
          18.24484143193927,
          17.520702511841,
          26.93186364130454,
          34.43875760776342,
          18.989180863365178,
          20.629515463112007,
          38.56863164033066,
          27.808395785920336,
          38.54921414769663,
          17.522640135844593,
          22.285518512935308,
          34.361086625567935,
          38.51018961996564,
          17.821474424289203,
          23.102449652762047,
          24.66557680358886,
          20.236258220650985,
          18.157394745818884,
          38.45117275083566,
          27.69074635650148,
          17.492076840163435,
          30.103682117719895,
          25.228346655234272,
          22.569957507609935,
          38.39156961182547,
          17.579103738225932,
          38.37156959335332,
          18.974105170619275,
          31.759829867849117,
          30.023681061576095,
          17.783608008839735,
          17.49549484209696,
          38.311166398789965,
          21.67279082538438,
          31.69922332054747,
          24.4655986023396,
          20.62664262078702,
          17.559331882310488,
          38.25014892392108,
          34.08103581529531,
          17.42296982069279,
          25.74287495707874,
          23.82246322511502,
          27.448292302603708,
          26.513106226049317,
          20.2325806771942,
          31.57614214244654,
          17.800836830429237,
          38.14705360426324,
          17.635321427689853,
          18.972759865287777,
          22.2849953493632,
          31.51364160970846,
          17.442846228899867,
          38.08433526331692,
          18.135857394787994,
          38.06328261019582,
          25.576208957967985,
          17.78740592115272,
          33.872681564835965,
          28.36433868792428,
          23.102200405312065,
          37.9996777744518,
          33.830128198845976,
          17.790502634837875,
          17.535792550486363,
          22.56956539273159,
          20.62393345662796,
          37.93539144536084,
          29.60684759019286,
          21.671937644504922,
          33.74410522804217,
          26.21675386468196,
          18.95566821508754,
          20.230628091392305,
          17.55608445474503,
          24.66550503444921,
          29.51988972783207,
          37.826692820653015,
          17.354110840781033,
          28.14809852893559,
          17.75944820981185,
          31.190983413738522,
          33.61271312922434,
          37.76051567940607,
          17.540490863520212,
          17.51926613680926,
          33.56826848616261,
          31.124316103276172,
          25.2283129160868,
          28.036984907865925,
          26.93185296312133,
          22.28437311943905,
          18.07748394606442,
          24.46551775361272,
          23.822328465951855,
          18.944282715482856,
          17.474902832021737,
          20.620846506205066,
          33.432924416294355,
          17.511749737734306,
          29.251188726972625,
          37.55748879139319,
          20.228003978659473,
          37.53450025760487,
          17.2789723456733,
          30.91975097363595,
          21.67091604983742,
          23.10197115741405,
          22.5692017321659,
          27.808389655474908,
          33.294456748685235,
          18.059224975777962,
          17.5608641029337,
          25.74285171868212,
          17.676417537502406,
          37.394688106901135,
          29.065127785038747,
          17.249110881168896,
          18.930887686374515,
          27.690739821965757,
          17.347955125435778,
          37.323541028471766,
          33.152717891774195,
          30.70796444046197,
          17.52452591716451,
          37.27563658257343,
          26.513092319883363,
          25.57618338217021,
          20.618505815400347,
          17.306229061791466,
          18.03089729832269,
          20.22481934622955,
          22.28392843233086,
          37.17866477523236,
          17.27513771531367,
          30.562502890602254,
          24.665458100133705,
          37.12958474717123,
          17.482906152803228,
          27.448284847612456,
          17.257098256987504,
          18.920370952469987,
          32.90878189145176,
          21.669979467138106,
          17.261311064654432,
          37.03020359358348,
          32.85878160949187,
          23.82220610308678,
          17.579744416041535,
          18.008090124578704,
          26.216737947807477,
          22.568866557020613,
          24.465464950915678,
          30.337476721572322,
          23.10176192283922,
          25.228281656743107,
          17.066620244686188,
          36.877975555853006,
          32.706231043044966,
          20.61633290012659,
          20.221849508261183,
          36.826362334614444,
          17.171281018409584,
          36.80038826820901,
          18.905913882013596,
          17.548879154385197,
          32.602332360227265,
          36.7481003558655,
          17.975812275211883,
          17.080427285529275,
          32.54970045287978,
          30.103681148278383,
          28.36433445606594,
          22.28351815664951,
          17.258869037147914,
          36.642137337525554,
          17.128426228831643,
          30.023680051199943,
          32.44303099592997,
          26.931843081715886,
          21.669128136417527,
          36.561418631799185,
          17.50461176248977,
          17.23072119373634,
          17.03998233623838,
          36.50699649029765,
          25.742830240289877,
          18.894385584009086,
          28.14809572359934,
          20.21968938598738,
          20.614328867841,
          36.424426380361275,
          17.047688871100917,
          36.39664855314163,
          22.568559895990212,
          16.938987683110376,
          28.03698193260558,
          24.6654147741949,
          25.576159773160903,
          17.460847627942893,
          23.822096141072972,
          23.101572714162987,
          32.11114923473531,
          36.255797015527634,
          16.96098954238004,
          36.227225533159604,
          17.923278143629627,
          29.60684633651721,
          16.88521334065295,
          26.513079467042864,
          18.883529015827506,
          24.46541627095932,
          27.808383969231055,
          29.51988841636262,
          22.283142334843962,
          36.0822909509086,
          17.430927658391106,
          21.66852507065551,
          20.21766124484345,
          17.005196596096333,
          27.69073376787249,
          20.612887594638647,
          25.228252877435786,
          35.96376857938648,
          17.03860148678694,
          17.902657495990784,
          31.759829466124977,
          35.903617700145304,
          16.82681313279168,
          26.216723314328377,
          31.699222906243243,
          29.251187219338235,
          16.892946681807054,
          18.876980838441007,
          16.774510120718677,
          35.7814760787427,
          27.448277957343848,
          22.568281775347746,
          31.57614170136199,
          16.78443452868281,
          16.81230147096174,
          35.68820995292968,
          31.51364115436532,
          29.06512612443147,
          17.87388613974843,
          35.625217248911895,
          16.81946235846344,
          20.21524887020797,
          23.101403542762462,
          16.992010055963316,
          17.34052667927516,
          35.52947053718419,
          20.611186280113493,
          23.822025191420718,
          21.66797380360535,
          22.282801005834113,
          18.867273790175272,
          35.43217110861282,
          24.665375057101915,
          25.742810522015425,
          16.616736845129985,
          16.626886065089465,
          31.190982877067967,
          17.85473083023062,
          16.669682953825628,
          35.29993435260295,
          31.12431554805975,
          17.306434042300445,
          26.93183399711183,
          25.57613813107938,
          24.465371714345885,
          35.19880836439818,
          16.621780701402802,
          16.567895871355677,
          16.739862612583796,
          35.13043155680665,
          20.213525375845048,
          35.09594870368392,
          30.919750357389844,
          18.859874904636875,
          22.568032218937354,
          16.79713401865174,
          17.828266522406878,
          20.609656494178786,
          17.285251523532164,
          28.364332064138086,
          16.52944269319233,
          34.92049760831995,
          16.540667992343867,
          25.228226578378987,
          30.707963753907748,
          21.667474421168123,
          26.513067667568443,
          34.812710279920715,
          16.474001609303404,
          23.10129497945233,
          22.282494204997406,
          28.14809304577103,
          30.562502151134037,
          16.45698845563949,
          16.44529646907036,
          17.807075179386644,
          18.851513560299782,
          28.036979094656697,
          16.507539772345638,
          20.211507129660024,
          23.821960572178806,
          34.55341067475494,
          26.216709964301003,
          16.443698385131842,
          30.337475892043873,
          34.47721917595632,
          16.37181566128301,
          34.438757506426725,
          20.608585758759244,
          27.80838077070468,
          16.33941009046699,
          34.36108652019664,
          17.221731334557745,
          24.665338949284838,
          17.787072626791705,
          27.69073036603257,
          30.10368021345889,
          22.567811248167438,
          16.292800272413103,
          18.84392048318541,
          30.023679077342443,
          16.275086835586492,
          21.66702700125548,
          24.465331281626668,
          16.304626585876186,
          34.08103569399358,
          25.7427925639629,
          27.448274094254447,
          20.209712518066954,
          17.18673483390638,
          16.238116181554894,
          22.282221964156626,
          16.255999259003687,
          17.775000128181013,
          25.576118456053354,
          33.872681430135856,
          23.10119664779226,
          33.83012806123219,
          16.217615140991136,
          20.607619605322338,
          29.60684513105837,
          33.744105084344,
          18.83829212649939,
          16.077804869486094,
          29.519887155987757,
          16.179661100645617,
          17.158833069192738,
          33.612712975708526,
          16.08780271830898,
          33.568268329175986,
          25.228202759768422,
          26.931828928823172,
          17.75711844296385,
          23.82190228457483,
          15.993087036064239,
          33.432924248246486,
          29.25118577282202,
          20.208472102298362,
          16.12650013413906,
          21.666631613749264,
          22.567618882004577,
          33.29445656851212,
          16.19603991227873,
          17.132669267042246,
          29.065124533013577,
          18.833199377359584,
          15.91219299261666,
          33.152717698280746,
          15.969027035537856,
          26.513056921497387,
          20.606758338321676,
          17.740637155112672,
          22.281984311568934,
          15.96926948736886,
          24.6653064511347,
          15.906083786876412,
          15.871187315862436,
          32.908781672681584,
          15.85745789521653,
          32.85878138514532,
          17.116997911335684,
          26.216702570363,
          24.46529497330198,
          23.101108550801925,
          15.996350639531029,
          32.70623080078902,
          20.207368217328213,
          15.765418846654017,
          18.82865061252732,
          32.60233210496002,
          17.725631776140897,
          32.549700190756425,
          28.36432978260157,
          15.70087921567629,
          15.679562936448878,
          32.44303071933992,
          21.666288320465217,
          17.098044479009708,
          15.655808254866523,
          25.74277636622714,
          28.14809049545169,
          20.60600222973871,
          15.61167381626351,
          22.567498999874882,
          28.036976394020442,
          25.576100748198954,
          23.821850329716238,
          32.11114890781261,
          15.534179485998097,
          17.714502445986025,
          15.867924497461097,
          18.824653398906168,
          27.80837773209515,
          22.281835750015894,
          17.0842829442425,
          20.206401317365078,
          27.69072713715686,
          25.228181421781358,
          15.44835244817739,
          31.75982907587851,
          15.519300191027416,
          31.69922250388994,
          15.448465953770398,
          15.794168731734027,
          27.448270434471773,
          31.576141273250332,
          15.438058951228466,
          31.51364071254702,
          17.70444553426917,
          15.289548132382931,
          23.10103069118728,
          17.067917672636355,
          20.605351518797857,
          21.66607503547567,
          18.821930104939565
         ],
         "yaxis": "y",
         "type": "scattergl"
        }
       ],
       "layout": {
        "template": {
         "data": {
          "histogram2dcontour": [
           {
            "type": "histogram2dcontour",
            "colorbar": {
             "outlinewidth": 0,
             "ticks": ""
            },
            "colorscale": [
             [
              0.0,
              "#0d0887"
             ],
             [
              0.1111111111111111,
              "#46039f"
             ],
             [
              0.2222222222222222,
              "#7201a8"
             ],
             [
              0.3333333333333333,
              "#9c179e"
             ],
             [
              0.4444444444444444,
              "#bd3786"
             ],
             [
              0.5555555555555556,
              "#d8576b"
             ],
             [
              0.6666666666666666,
              "#ed7953"
             ],
             [
              0.7777777777777778,
              "#fb9f3a"
             ],
             [
              0.8888888888888888,
              "#fdca26"
             ],
             [
              1.0,
              "#f0f921"
             ]
            ]
           }
          ],
          "choropleth": [
           {
            "type": "choropleth",
            "colorbar": {
             "outlinewidth": 0,
             "ticks": ""
            }
           }
          ],
          "histogram2d": [
           {
            "type": "histogram2d",
            "colorbar": {
             "outlinewidth": 0,
             "ticks": ""
            },
            "colorscale": [
             [
              0.0,
              "#0d0887"
             ],
             [
              0.1111111111111111,
              "#46039f"
             ],
             [
              0.2222222222222222,
              "#7201a8"
             ],
             [
              0.3333333333333333,
              "#9c179e"
             ],
             [
              0.4444444444444444,
              "#bd3786"
             ],
             [
              0.5555555555555556,
              "#d8576b"
             ],
             [
              0.6666666666666666,
              "#ed7953"
             ],
             [
              0.7777777777777778,
              "#fb9f3a"
             ],
             [
              0.8888888888888888,
              "#fdca26"
             ],
             [
              1.0,
              "#f0f921"
             ]
            ]
           }
          ],
          "heatmap": [
           {
            "type": "heatmap",
            "colorbar": {
             "outlinewidth": 0,
             "ticks": ""
            },
            "colorscale": [
             [
              0.0,
              "#0d0887"
             ],
             [
              0.1111111111111111,
              "#46039f"
             ],
             [
              0.2222222222222222,
              "#7201a8"
             ],
             [
              0.3333333333333333,
              "#9c179e"
             ],
             [
              0.4444444444444444,
              "#bd3786"
             ],
             [
              0.5555555555555556,
              "#d8576b"
             ],
             [
              0.6666666666666666,
              "#ed7953"
             ],
             [
              0.7777777777777778,
              "#fb9f3a"
             ],
             [
              0.8888888888888888,
              "#fdca26"
             ],
             [
              1.0,
              "#f0f921"
             ]
            ]
           }
          ],
          "heatmapgl": [
           {
            "type": "heatmapgl",
            "colorbar": {
             "outlinewidth": 0,
             "ticks": ""
            },
            "colorscale": [
             [
              0.0,
              "#0d0887"
             ],
             [
              0.1111111111111111,
              "#46039f"
             ],
             [
              0.2222222222222222,
              "#7201a8"
             ],
             [
              0.3333333333333333,
              "#9c179e"
             ],
             [
              0.4444444444444444,
              "#bd3786"
             ],
             [
              0.5555555555555556,
              "#d8576b"
             ],
             [
              0.6666666666666666,
              "#ed7953"
             ],
             [
              0.7777777777777778,
              "#fb9f3a"
             ],
             [
              0.8888888888888888,
              "#fdca26"
             ],
             [
              1.0,
              "#f0f921"
             ]
            ]
           }
          ],
          "contourcarpet": [
           {
            "type": "contourcarpet",
            "colorbar": {
             "outlinewidth": 0,
             "ticks": ""
            }
           }
          ],
          "contour": [
           {
            "type": "contour",
            "colorbar": {
             "outlinewidth": 0,
             "ticks": ""
            },
            "colorscale": [
             [
              0.0,
              "#0d0887"
             ],
             [
              0.1111111111111111,
              "#46039f"
             ],
             [
              0.2222222222222222,
              "#7201a8"
             ],
             [
              0.3333333333333333,
              "#9c179e"
             ],
             [
              0.4444444444444444,
              "#bd3786"
             ],
             [
              0.5555555555555556,
              "#d8576b"
             ],
             [
              0.6666666666666666,
              "#ed7953"
             ],
             [
              0.7777777777777778,
              "#fb9f3a"
             ],
             [
              0.8888888888888888,
              "#fdca26"
             ],
             [
              1.0,
              "#f0f921"
             ]
            ]
           }
          ],
          "surface": [
           {
            "type": "surface",
            "colorbar": {
             "outlinewidth": 0,
             "ticks": ""
            },
            "colorscale": [
             [
              0.0,
              "#0d0887"
             ],
             [
              0.1111111111111111,
              "#46039f"
             ],
             [
              0.2222222222222222,
              "#7201a8"
             ],
             [
              0.3333333333333333,
              "#9c179e"
             ],
             [
              0.4444444444444444,
              "#bd3786"
             ],
             [
              0.5555555555555556,
              "#d8576b"
             ],
             [
              0.6666666666666666,
              "#ed7953"
             ],
             [
              0.7777777777777778,
              "#fb9f3a"
             ],
             [
              0.8888888888888888,
              "#fdca26"
             ],
             [
              1.0,
              "#f0f921"
             ]
            ]
           }
          ],
          "mesh3d": [
           {
            "type": "mesh3d",
            "colorbar": {
             "outlinewidth": 0,
             "ticks": ""
            }
           }
          ],
          "scatter": [
           {
            "marker": {
             "line": {
              "color": "#283442"
             }
            },
            "type": "scatter"
           }
          ],
          "parcoords": [
           {
            "type": "parcoords",
            "line": {
             "colorbar": {
              "outlinewidth": 0,
              "ticks": ""
             }
            }
           }
          ],
          "scatterpolargl": [
           {
            "type": "scatterpolargl",
            "marker": {
             "colorbar": {
              "outlinewidth": 0,
              "ticks": ""
             }
            }
           }
          ],
          "bar": [
           {
            "error_x": {
             "color": "#f2f5fa"
            },
            "error_y": {
             "color": "#f2f5fa"
            },
            "marker": {
             "line": {
              "color": "rgb(17,17,17)",
              "width": 0.5
             },
             "pattern": {
              "fillmode": "overlay",
              "size": 10,
              "solidity": 0.2
             }
            },
            "type": "bar"
           }
          ],
          "scattergeo": [
           {
            "type": "scattergeo",
            "marker": {
             "colorbar": {
              "outlinewidth": 0,
              "ticks": ""
             }
            }
           }
          ],
          "scatterpolar": [
           {
            "type": "scatterpolar",
            "marker": {
             "colorbar": {
              "outlinewidth": 0,
              "ticks": ""
             }
            }
           }
          ],
          "histogram": [
           {
            "marker": {
             "pattern": {
              "fillmode": "overlay",
              "size": 10,
              "solidity": 0.2
             }
            },
            "type": "histogram"
           }
          ],
          "scattergl": [
           {
            "marker": {
             "line": {
              "color": "#283442"
             }
            },
            "type": "scattergl"
           }
          ],
          "scatter3d": [
           {
            "type": "scatter3d",
            "line": {
             "colorbar": {
              "outlinewidth": 0,
              "ticks": ""
             }
            },
            "marker": {
             "colorbar": {
              "outlinewidth": 0,
              "ticks": ""
             }
            }
           }
          ],
          "scattermapbox": [
           {
            "type": "scattermapbox",
            "marker": {
             "colorbar": {
              "outlinewidth": 0,
              "ticks": ""
             }
            }
           }
          ],
          "scatterternary": [
           {
            "type": "scatterternary",
            "marker": {
             "colorbar": {
              "outlinewidth": 0,
              "ticks": ""
             }
            }
           }
          ],
          "scattercarpet": [
           {
            "type": "scattercarpet",
            "marker": {
             "colorbar": {
              "outlinewidth": 0,
              "ticks": ""
             }
            }
           }
          ],
          "carpet": [
           {
            "aaxis": {
             "endlinecolor": "#A2B1C6",
             "gridcolor": "#506784",
             "linecolor": "#506784",
             "minorgridcolor": "#506784",
             "startlinecolor": "#A2B1C6"
            },
            "baxis": {
             "endlinecolor": "#A2B1C6",
             "gridcolor": "#506784",
             "linecolor": "#506784",
             "minorgridcolor": "#506784",
             "startlinecolor": "#A2B1C6"
            },
            "type": "carpet"
           }
          ],
          "table": [
           {
            "cells": {
             "fill": {
              "color": "#506784"
             },
             "line": {
              "color": "rgb(17,17,17)"
             }
            },
            "header": {
             "fill": {
              "color": "#2a3f5f"
             },
             "line": {
              "color": "rgb(17,17,17)"
             }
            },
            "type": "table"
           }
          ],
          "barpolar": [
           {
            "marker": {
             "line": {
              "color": "rgb(17,17,17)",
              "width": 0.5
             },
             "pattern": {
              "fillmode": "overlay",
              "size": 10,
              "solidity": 0.2
             }
            },
            "type": "barpolar"
           }
          ],
          "pie": [
           {
            "automargin": true,
            "type": "pie"
           }
          ]
         },
         "layout": {
          "autotypenumbers": "strict",
          "colorway": [
           "#636efa",
           "#EF553B",
           "#00cc96",
           "#ab63fa",
           "#FFA15A",
           "#19d3f3",
           "#FF6692",
           "#B6E880",
           "#FF97FF",
           "#FECB52"
          ],
          "font": {
           "color": "#f2f5fa"
          },
          "hovermode": "closest",
          "hoverlabel": {
           "align": "left"
          },
          "paper_bgcolor": "rgb(17,17,17)",
          "plot_bgcolor": "rgb(17,17,17)",
          "polar": {
           "bgcolor": "rgb(17,17,17)",
           "angularaxis": {
            "gridcolor": "#506784",
            "linecolor": "#506784",
            "ticks": ""
           },
           "radialaxis": {
            "gridcolor": "#506784",
            "linecolor": "#506784",
            "ticks": ""
           }
          },
          "ternary": {
           "bgcolor": "rgb(17,17,17)",
           "aaxis": {
            "gridcolor": "#506784",
            "linecolor": "#506784",
            "ticks": ""
           },
           "baxis": {
            "gridcolor": "#506784",
            "linecolor": "#506784",
            "ticks": ""
           },
           "caxis": {
            "gridcolor": "#506784",
            "linecolor": "#506784",
            "ticks": ""
           }
          },
          "coloraxis": {
           "colorbar": {
            "outlinewidth": 0,
            "ticks": ""
           }
          },
          "colorscale": {
           "sequential": [
            [
             0.0,
             "#0d0887"
            ],
            [
             0.1111111111111111,
             "#46039f"
            ],
            [
             0.2222222222222222,
             "#7201a8"
            ],
            [
             0.3333333333333333,
             "#9c179e"
            ],
            [
             0.4444444444444444,
             "#bd3786"
            ],
            [
             0.5555555555555556,
             "#d8576b"
            ],
            [
             0.6666666666666666,
             "#ed7953"
            ],
            [
             0.7777777777777778,
             "#fb9f3a"
            ],
            [
             0.8888888888888888,
             "#fdca26"
            ],
            [
             1.0,
             "#f0f921"
            ]
           ],
           "sequentialminus": [
            [
             0.0,
             "#0d0887"
            ],
            [
             0.1111111111111111,
             "#46039f"
            ],
            [
             0.2222222222222222,
             "#7201a8"
            ],
            [
             0.3333333333333333,
             "#9c179e"
            ],
            [
             0.4444444444444444,
             "#bd3786"
            ],
            [
             0.5555555555555556,
             "#d8576b"
            ],
            [
             0.6666666666666666,
             "#ed7953"
            ],
            [
             0.7777777777777778,
             "#fb9f3a"
            ],
            [
             0.8888888888888888,
             "#fdca26"
            ],
            [
             1.0,
             "#f0f921"
            ]
           ],
           "diverging": [
            [
             0,
             "#8e0152"
            ],
            [
             0.1,
             "#c51b7d"
            ],
            [
             0.2,
             "#de77ae"
            ],
            [
             0.3,
             "#f1b6da"
            ],
            [
             0.4,
             "#fde0ef"
            ],
            [
             0.5,
             "#f7f7f7"
            ],
            [
             0.6,
             "#e6f5d0"
            ],
            [
             0.7,
             "#b8e186"
            ],
            [
             0.8,
             "#7fbc41"
            ],
            [
             0.9,
             "#4d9221"
            ],
            [
             1,
             "#276419"
            ]
           ]
          },
          "xaxis": {
           "gridcolor": "#283442",
           "linecolor": "#506784",
           "ticks": "",
           "title": {
            "standoff": 15
           },
           "zerolinecolor": "#283442",
           "automargin": true,
           "zerolinewidth": 2
          },
          "yaxis": {
           "gridcolor": "#283442",
           "linecolor": "#506784",
           "ticks": "",
           "title": {
            "standoff": 15
           },
           "zerolinecolor": "#283442",
           "automargin": true,
           "zerolinewidth": 2
          },
          "scene": {
           "xaxis": {
            "backgroundcolor": "rgb(17,17,17)",
            "gridcolor": "#506784",
            "linecolor": "#506784",
            "showbackground": true,
            "ticks": "",
            "zerolinecolor": "#C8D4E3",
            "gridwidth": 2
           },
           "yaxis": {
            "backgroundcolor": "rgb(17,17,17)",
            "gridcolor": "#506784",
            "linecolor": "#506784",
            "showbackground": true,
            "ticks": "",
            "zerolinecolor": "#C8D4E3",
            "gridwidth": 2
           },
           "zaxis": {
            "backgroundcolor": "rgb(17,17,17)",
            "gridcolor": "#506784",
            "linecolor": "#506784",
            "showbackground": true,
            "ticks": "",
            "zerolinecolor": "#C8D4E3",
            "gridwidth": 2
           }
          },
          "shapedefaults": {
           "line": {
            "color": "#f2f5fa"
           }
          },
          "annotationdefaults": {
           "arrowcolor": "#f2f5fa",
           "arrowhead": 0,
           "arrowwidth": 1
          },
          "geo": {
           "bgcolor": "rgb(17,17,17)",
           "landcolor": "rgb(17,17,17)",
           "subunitcolor": "#506784",
           "showland": true,
           "showlakes": true,
           "lakecolor": "rgb(17,17,17)"
          },
          "title": {
           "x": 0.05
          },
          "updatemenudefaults": {
           "bgcolor": "#506784",
           "borderwidth": 0
          },
          "sliderdefaults": {
           "bgcolor": "#C8D4E3",
           "borderwidth": 1,
           "bordercolor": "rgb(17,17,17)",
           "tickwidth": 0
          },
          "mapbox": {
           "style": "dark"
          }
         }
        },
        "xaxis": {
         "anchor": "y",
         "domain": [
          0.0,
          1.0
         ],
         "title": {
          "text": "Ratio of reduced variables"
         }
        },
        "yaxis": {
         "anchor": "x",
         "domain": [
          0.0,
          1.0
         ],
         "title": {
          "text": "$\\log(I^6 + rI^3 + r^2I^2)$"
         }
        },
        "coloraxis": {
         "colorbar": {
          "title": {
           "text": "Number of possible<br>tile size choices"
          }
         },
         "colorscale": [
          [
           0.0,
           "#0d0887"
          ],
          [
           0.1111111111111111,
           "#46039f"
          ],
          [
           0.2222222222222222,
           "#7201a8"
          ],
          [
           0.3333333333333333,
           "#9c179e"
          ],
          [
           0.4444444444444444,
           "#bd3786"
          ],
          [
           0.5555555555555556,
           "#d8576b"
          ],
          [
           0.6666666666666666,
           "#ed7953"
          ],
          [
           0.7777777777777778,
           "#fb9f3a"
          ],
          [
           0.8888888888888888,
           "#fdca26"
          ],
          [
           1.0,
           "#f0f921"
          ]
         ]
        },
        "legend": {
         "tracegroupgap": 0
        },
        "margin": {
         "t": 60
        },
        "title": {
         "text": "Influence of variable elimination on TT-MALS runtime for ex3",
         "x": 0.5,
         "xanchor": "center",
         "yanchor": "top"
        },
        "font": {
         "color": "black"
        },
        "plot_bgcolor": "white",
        "paper_bgcolor": "white"
       },
       "config": {
        "plotlyServerURL": "https://plot.ly"
       }
      },
      "text/html": [
       "<div>                            <div id=\"3e4e29e4-aded-4c0d-81f3-0b4a7914a2b3\" class=\"plotly-graph-div\" style=\"height:525px; width:100%;\"></div>            <script type=\"text/javascript\">                require([\"plotly\"], function(Plotly) {                    window.PLOTLYENV=window.PLOTLYENV || {};                                    if (document.getElementById(\"3e4e29e4-aded-4c0d-81f3-0b4a7914a2b3\")) {                    Plotly.newPlot(                        \"3e4e29e4-aded-4c0d-81f3-0b4a7914a2b3\",                        [{\"hovertemplate\":\"Ratio of reduced variables=%{x}\\u003cbr\\u003elog_obj_func=%{y}\\u003cbr\\u003eNumber of possible\\u003cbr\\u003etile size choices=%{marker.color}\\u003cextra\\u003e\\u003c\\u002fextra\\u003e\",\"legendgroup\":\"\",\"marker\":{\"color\":[3,23,3,11,3,7,11,3,5,11,1,7,7,9,3,15,5,11,3,7,1,35,3,7,3,5,3,15,3,17,5,7,1,11,1,7,15,7,1,19,3,11,3,7,1,19,5,3,5,5,7,15,3,15,7,3,3,26,3,3,3,23,1,7,3,5,15,3,1,15,3,15,7,11,1,11,3,9,7,7,1,23,3,7,5,15,3,11,1,5,3,7,7,27,3,3,11,5,1,15,1,15,5,3,3,23,7,3,3,9,3,23,1,11,3,3,7,15,3,7,11,17,1,7,1,11,7,11,1,17,3,11,3,7,3,7,3,5,11,5,2,39,3,3,7,5,5,15,3,15,3,7,1,11,1,11,11,15,1,7,3,11,7,3,1,23,3,3,7,11,3,23,3,9,7,3,7,11,3,3,3,15,3,23,1,5,7,7,3,23,3,7,5,11,1,7,7,15,3,3,1,29,1,3,11,9,7,7,1,11,5,15,1,15,1,7,7,5,3,11,1,20,7,7,1,23,7,3,7,7,3,15,3,5,5,7,3,29,1,7,7,11,1,7,3,7,17,3,5,11,1,7,3,17,1,15,3,11,3,7,3,31,1,7,5,5,3,15,1,9,7,11,1,17,7,3,7,7,1,7,3,23,9,3,3,19,3,7,7,5,1,23,3,7,3,7,5,11,1,3,8,19,5,15,3,5,7,3,3,31,1,7,3,11,3,7,7,11,5,3,3,23,1,7,3,15,7,11,1,5,7,7,1,19,1,3,15,11,1,15,1,15,7,3,3,17,5,7,3,13,1,23,3,5,5,3,3,15,7,7,3,11,1,13,3,19,7,3,1,17,1,11,11,7,1,7,5,8,7,7,3,35,1,3,3,5,7,7,1,7,7,15,1,23,1,7,11,9,1,11,5,11,7,3,3,15,3,7,5,5,3,15,1,15,7,7,3,23,3,3,3,23,1,7,3,5,11,7,3,19,3,7,3,5,3,23,3,7,3,3,1,23,3,7,9,11,7,7,1,11,3,7,2,23,1,3,15,11,3,7,1,19,5,7,3,11,3,3,7,11,3,23,3,5,3,3,3,27,3,7,5,11,3,7,3,7,7,7,3,17,3,15,3,9,1,15,5,5,11,3,1,31,1,3,3,11,3,11,3,11,7,7,7,11,1,3,11,7,1,15,1,17,3,7,1,24,7,3,3,11,1,15,1,15,11,3,3,11,1,3,7,17,1,11,1,11,11,11,3,15,3,7,7,5,3,7,7,9,3,3,3,35,1,7,3,7,3,15,3,5,5,9,1,23,3,7,7,5,3,15,3,15,7,3,1,11,7,3,5,19,1,15,1,5,3,3,8,23,1,7,7,11,3,15,1,13,11,3,1,11,3,11,7,7,3,11,3,11,3,3,1,29,3,3,11,11,3,7,1,7,3,15,3,23,1,3,7,11,5,7,1,11,5,7,3,23,5,3,7,5,1,23,3,9,3,7,3,11,1,7,7,15,3,7,3,8,15,3,1,23,1,11,3,11,3,7,3,15,5,3,3,23,3,3,3,9,3,19,3,5,7,7,1,15,5,3,11,5,1,15,3,23,3,7,1,17,3,3,7,7,3,15,1,5,7,7,7,19,1,7,3,17,3,11,1,7,7,3,1,23,1,7,8,13,1,7,7,5,5,3,3,31,3,11,3,5,5,7,3,9,11,7,1,11,3,7,7,15,1,11,1,11,3,5,3,23,3,7,9,5,1,23,1,7,3,3,7,17,3,3,3,19,1,7,3,11,11,7,1,15,1,7,7,5,3,15,5,10,7,7,1,23,1,3,5,7,7,11,1,11,3,7,1,29,3,3,7,5,3,7,7,15,7,3,1,11,3,7,3,11,1,23,3,11,7,7,3,15,1,3,5,17,3,7,1,9,11,3,3,17,1,7,7,11,1,15,3,5,5,7,2,27,3,3,7,5,3,11,1,15,3,11,3,11,1,7,15,9,3,7,1,11,3,7,1,23,7,3,3,5,5,15,1,11,5,3,5,23,3,3,3,15,1,15,3,5,7,3,3,19,1,15,5,5,1,7,3,7,7,7,3,26,3,3,7,15,3,7,3,5,9,7,3,15,1,3,7,11,1,17,1,19,3,3,1,11,7,7,5,7,3,15,3,11,5,3,3,23,1,3,7,11,1,15,1,7,11,7,1,11,3,11,3,9,5,11,5,5,3,3,2,31,1,3,7,11,3,7,5,13,3,7,1,17,1,7,11,7,1,7,1,11,11,3,3,19,3,7,3,11,1,19,1,7,3,7,7,11,3,3,5,17,3,15,1,5,7,3,3,23,3,7,3,5,1,7,3,14,7,7,3,23,3,3,7,7,5,11,1,5,3,15,1,17,3,3,11,5,3,7,1,15,7,3,1,23,3,7,3,9,1,15,3,11,5,3,3,15,1,7,7,11,1,11,3,11,11,3,1,11,3,7,6,15,1,11,5,5,3,5,3,29,1,3,3,5,7,15,3,7,5,7,1,11,3,3,7,13,3,15,1,17,3,3,3,15,3,3,11,5,1,15,3,9,3,7,3,17,1,7,3,15,3,7,1,8,11,3,1,23,3,7,3,5,3,11,7,7,7,3,1,23,1,7,5,9,3,7,1,5,7,11,3,19,1,7,7,11,1,7,1,15,5,7,5,11,3,3,3,7,1,23,3,5,7,3,4,19,3,3,7,11,1,7,1,15,7,3,1,17,3,7,7,11,1,7,5,5,5,7,1,23,1,7,3,5,7,15,1,9,3,7,3,17,1,3,11,7,3,7,3,11,3,5,1,20,5,7,3,11,1,15,1,7,9,3,3,11,1,3,7,19,3,11,1,5,7,3,3,15,3,11,5,5,1,15,3,11,3,3,1,23,5,3,3,7,3,7,3,11,5,7,2,19,3,3,11,5,1,11,1,15,3,7,3,11,3,3,7,9,3,15,1,5,5,7,3,23,1,3,3,11,1,7,3,9,11,7,3,11,1,11,3,7,1,11,3,8,7,3,3,23,1,3,5,11,5,7,3,7,3,7,3,17,1,3,7,9,1,15,1,11,7,3,1,15,7,3,3,5,3,17,1,13,3,3,3,11,1,7,8,15,1,7,3,5,7,7,1,19,1,7,7,5,3,7,5,7,5,3,1,23,1,7,3,11,3,11,3,5,3,7,1,15,3,7,9,5,3,7,1,14,7,3,1,17,3,3,3,11,3,15,1,5,5,3,7,15,1,3,3,11,1,15,3,7,7,7,1,11,3,7,5,9,1,7,3,11,5,3,2,23,1,3,7,5,3,7,1,11,7,11,1,11,1,3,7,7,3,11,3,11,3,5,1,19,3,3,5,5,1,15,3,7,3,3,5,14,3,7,3,13,3,7,1,5,11,3,1,15,1,7,3,11,1,11,3,9,3,3,3,17,3,3,7,7,3,11,1,5,3,7,2,17,3,7,7,5,1,7,1,15,5,3,1,11,5,3,7,9,1,15,1,5,3,7,3,15,1,3,5,11,3,7,1,8,7,3,3,17,1,7,3,7,3,7,5,5,5,5,1,19,1,7,3,5,3,11,1,7,7,7,1,11,1,3,8,11,1,7,3,11,3,3,3,15,3,3,3,5,1,15,3,9,5,3,3,11,3,3,3,11,1,11,1,8,7,3,1,13,1,7,7,5,3,7,3,7],\"coloraxis\":\"coloraxis\",\"symbol\":\"circle\"},\"mode\":\"markers\",\"name\":\"\",\"showlegend\":false,\"x\":[0.0,0.0005491488193300384,0.001098297638660077,0.0016474464579901153,0.002196595277320154,0.0027457440966501922,0.0032948929159802307,0.003844041735310269,0.004393190554640308,0.004942339373970346,0.0054914881933003845,0.0060406370126304225,0.006589785831960461,0.007138934651290499,0.007688083470620538,0.008237232289950576,0.008786381109280615,0.009335529928610654,0.009884678747940691,0.01043382756727073,0.010982976386600769,0.011532125205930808,0.012081274025260845,0.012630422844590884,0.013179571663920923,0.013728720483250962,0.014277869302580999,0.014827018121911038,0.015376166941241077,0.015925315760571115,0.016474464579901153,0.017023613399231193,0.01757276221856123,0.018121911037891267,0.018671059857221308,0.019220208676551345,0.019769357495881382,0.020318506315211423,0.02086765513454146,0.0214168039538715,0.021965952773201538,0.022515101592531575,0.023064250411861616,0.023613399231191653,0.02416254805052169,0.02471169686985173,0.025260845689181768,0.02580999450851181,0.026359143327841845,0.026908292147171883,0.027457440966501923,0.02800658978583196,0.028555738605161998,0.029104887424492038,0.029654036243822075,0.030203185063152116,0.030752333882482153,0.03130148270181219,0.03185063152114223,0.032399780340472265,0.032948929159802305,0.033498077979132346,0.034047226798462386,0.03459637561779242,0.03514552443712246,0.0356946732564525,0.036243822075782535,0.036792970895112576,0.037342119714442616,0.03789126853377265,0.03844041735310269,0.03898956617243273,0.039538714991762765,0.040087863811092805,0.040637012630422846,0.04118616144975288,0.04173531026908292,0.04228445908841296,0.042833607907743,0.043382756727073035,0.043931905546403076,0.044481054365733116,0.04503020318506315,0.04557935200439319,0.04612850082372323,0.046677649643053265,0.047226798462383306,0.047775947281713346,0.04832509610104338,0.04887424492037342,0.04942339373970346,0.049972542559033495,0.050521691378363535,0.051070840197693576,0.05161998901702362,0.05216913783635365,0.05271828665568369,0.05326743547501373,0.053816584294343765,0.054365733113673806,0.054914881933003847,0.05546403075233388,0.05601317957166392,0.05656232839099396,0.057111477210323995,0.057660626029654036,0.058209774848984076,0.05875892366831411,0.05930807248764415,0.05985722130697419,0.06040637012630423,0.060955518945634266,0.061504667764964306,0.06205381658429435,0.06260296540362438,0.06315211422295441,0.06370126304228446,0.0642504118616145,0.06479956068094453,0.06534870950027458,0.06589785831960461,0.06644700713893466,0.06699615595826469,0.06754530477759473,0.06809445359692477,0.0686436024162548,0.06919275123558484,0.06974190005491489,0.07029104887424492,0.07084019769357495,0.071389346512905,0.07193849533223504,0.07248764415156507,0.07303679297089512,0.07358594179022515,0.07413509060955518,0.07468423942888523,0.07523338824821527,0.0757825370675453,0.07633168588687535,0.07688083470620538,0.07742998352553541,0.07797913234486546,0.0785282811641955,0.07907742998352553,0.07962657880285558,0.08017572762218561,0.08072487644151564,0.08127402526084569,0.08182317408017573,0.08237232289950576,0.0829214717188358,0.08347062053816584,0.08401976935749589,0.08456891817682592,0.08511806699615596,0.085667215815486,0.08621636463481604,0.08676551345414607,0.08731466227347612,0.08786381109280615,0.08841295991213619,0.08896210873146623,0.08951125755079627,0.0900604063701263,0.09060955518945635,0.09115870400878638,0.09170785282811642,0.09225700164744646,0.0928061504667765,0.09335529928610653,0.09390444810543658,0.09445359692476661,0.09500274574409664,0.09555189456342669,0.09610104338275673,0.09665019220208676,0.09719934102141681,0.09774848984074684,0.09829763866007687,0.09884678747940692,0.09939593629873696,0.09994508511806699,0.10049423393739704,0.10104338275672707,0.1015925315760571,0.10214168039538715,0.10269082921471719,0.10323997803404723,0.10378912685337727,0.1043382756727073,0.10488742449203735,0.10543657331136738,0.10598572213069742,0.10653487095002746,0.1070840197693575,0.10763316858868753,0.10818231740801758,0.10873146622734761,0.10928061504667765,0.10982976386600769,0.11037891268533773,0.11092806150466776,0.11147721032399781,0.11202635914332784,0.11257550796265788,0.11312465678198792,0.11367380560131796,0.11422295442064799,0.11477210323997804,0.11532125205930807,0.1158704008786381,0.11641954969796815,0.11696869851729819,0.11751784733662822,0.11806699615595827,0.1186161449752883,0.11916529379461833,0.11971444261394838,0.12026359143327842,0.12081274025260846,0.1213618890719385,0.12191103789126853,0.12246018671059858,0.12300933552992861,0.12355848434925865,0.1241076331685887,0.12465678198791873,0.12520593080724876,0.1257550796265788,0.12630422844590883,0.12685337726523888,0.12740252608456892,0.12795167490389894,0.128500823723229,0.12904997254255904,0.12959912136188906,0.1301482701812191,0.13069741900054915,0.1312465678198792,0.13179571663920922,0.13234486545853927,0.13289401427786932,0.13344316309719934,0.13399231191652938,0.13454146073585943,0.13509060955518945,0.1356397583745195,0.13618890719384955,0.13673805601317957,0.1372872048325096,0.13783635365183966,0.13838550247116968,0.13893465129049973,0.13948380010982978,0.1400329489291598,0.14058209774848984,0.1411312465678199,0.1416803953871499,0.14222954420647996,0.14277869302581,0.14332784184514002,0.14387699066447007,0.14442613948380012,0.14497528830313014,0.1455244371224602,0.14607358594179023,0.14662273476112025,0.1471718835804503,0.14772103239978035,0.14827018121911037,0.14881933003844042,0.14936847885777046,0.14991762767710048,0.15046677649643053,0.15101592531576058,0.1515650741350906,0.15211422295442065,0.1526633717737507,0.15321252059308071,0.15376166941241076,0.1543108182317408,0.15485996705107083,0.15540911587040088,0.15595826468973092,0.15650741350906094,0.157056562328391,0.15760571114772104,0.15815485996705106,0.1587040087863811,0.15925315760571115,0.15980230642504117,0.16035145524437122,0.16090060406370127,0.1614497528830313,0.16199890170236134,0.16254805052169138,0.1630971993410214,0.16364634816035145,0.1641954969796815,0.16474464579901152,0.16529379461834157,0.1658429434376716,0.16639209225700163,0.16694124107633168,0.16749038989566173,0.16803953871499178,0.1685886875343218,0.16913783635365184,0.1696869851729819,0.1702361339923119,0.17078528281164196,0.171334431630972,0.17188358045030203,0.17243272926963207,0.17298187808896212,0.17353102690829214,0.1740801757276222,0.17462932454695224,0.17517847336628226,0.1757276221856123,0.17627677100494235,0.17682591982427237,0.17737506864360242,0.17792421746293247,0.17847336628226249,0.17902251510159253,0.17957166392092258,0.1801208127402526,0.18066996155958265,0.1812191103789127,0.18176825919824272,0.18231740801757276,0.1828665568369028,0.18341570565623283,0.18396485447556288,0.18451400329489293,0.18506315211422295,0.185612300933553,0.18616144975288304,0.18671059857221306,0.1872597473915431,0.18780889621087316,0.18835804503020318,0.18890719384953322,0.18945634266886327,0.1900054914881933,0.19055464030752334,0.19110378912685339,0.1916529379461834,0.19220208676551345,0.1927512355848435,0.19330038440417352,0.19384953322350357,0.19439868204283361,0.19494783086216363,0.19549697968149368,0.19604612850082373,0.19659527732015375,0.1971444261394838,0.19769357495881384,0.19824272377814386,0.1987918725974739,0.19934102141680396,0.19989017023613398,0.20043931905546403,0.20098846787479407,0.2015376166941241,0.20208676551345414,0.2026359143327842,0.2031850631521142,0.20373421197144426,0.2042833607907743,0.20483250961010435,0.20538165842943437,0.20593080724876442,0.20647995606809447,0.2070291048874245,0.20757825370675453,0.20812740252608458,0.2086765513454146,0.20922570016474465,0.2097748489840747,0.21032399780340472,0.21087314662273476,0.2114222954420648,0.21197144426139483,0.21252059308072488,0.21306974190005493,0.21361889071938495,0.214168039538715,0.21471718835804504,0.21526633717737506,0.2158154859967051,0.21636463481603516,0.21691378363536518,0.21746293245469522,0.21801208127402527,0.2185612300933553,0.21911037891268534,0.21965952773201539,0.2202086765513454,0.22075782537067545,0.2213069741900055,0.22185612300933552,0.22240527182866557,0.22295442064799562,0.22350356946732564,0.22405271828665568,0.22460186710598573,0.22515101592531575,0.2257001647446458,0.22624931356397585,0.22679846238330587,0.2273476112026359,0.22789676002196596,0.22844590884129598,0.22899505766062603,0.22954420647995608,0.2300933552992861,0.23064250411861614,0.2311916529379462,0.2317408017572762,0.23228995057660626,0.2328390993959363,0.23338824821526633,0.23393739703459637,0.23448654585392642,0.23503569467325644,0.2355848434925865,0.23613399231191654,0.23668314113124655,0.2372322899505766,0.23778143876990665,0.23833058758923667,0.23887973640856672,0.23942888522789676,0.23997803404722678,0.24052718286655683,0.24107633168588688,0.24162548050521693,0.24217462932454695,0.242723778143877,0.24327292696320704,0.24382207578253706,0.2443712246018671,0.24492037342119716,0.24546952224052718,0.24601867105985722,0.24656781987918727,0.2471169686985173,0.24766611751784734,0.2482152663371774,0.2487644151565074,0.24931356397583745,0.2498627127951675,0.2504118616144975,0.25096101043382757,0.2515101592531576,0.25205930807248766,0.25260845689181766,0.2531576057111477,0.25370675453047775,0.2542559033498078,0.25480505216913785,0.2553542009884679,0.2559033498077979,0.25645249862712793,0.257001647446458,0.25755079626578803,0.2580999450851181,0.2586490939044481,0.2591982427237781,0.25974739154310816,0.2602965403624382,0.26084568918176826,0.2613948380010983,0.26194398682042835,0.2624931356397584,0.2630422844590884,0.26359143327841844,0.2641405820977485,0.26468973091707854,0.2652388797364086,0.26578802855573863,0.2663371773750686,0.26688632619439867,0.2674354750137287,0.26798462383305877,0.2685337726523888,0.26908292147171886,0.26963207029104885,0.2701812191103789,0.27073036792970895,0.271279516749039,0.27182866556836904,0.2723778143876991,0.2729269632070291,0.27347611202635913,0.2740252608456892,0.2745744096650192,0.2751235584843493,0.2756727073036793,0.2762218561230093,0.27677100494233936,0.2773201537616694,0.27786930258099946,0.2784184514003295,0.27896760021965955,0.27951674903898954,0.2800658978583196,0.28061504667764964,0.2811641954969797,0.28171334431630973,0.2822624931356398,0.2828116419549698,0.2833607907742998,0.28390993959362987,0.2844590884129599,0.28500823723228996,0.28555738605162,0.28610653487095,0.28665568369028005,0.2872048325096101,0.28775398132894014,0.2883031301482702,0.28885227896760024,0.28940142778693023,0.2899505766062603,0.2904997254255903,0.2910488742449204,0.2915980230642504,0.29214717188358047,0.29269632070291046,0.2932454695222405,0.29379461834157056,0.2943437671609006,0.29489291598023065,0.2954420647995607,0.2959912136188907,0.29654036243822074,0.2970895112575508,0.29763866007688083,0.2981878088962109,0.29873695771554093,0.299286106534871,0.29983525535420097,0.300384404173531,0.30093355299286106,0.3014827018121911,0.30203185063152116,0.3025809994508512,0.3031301482701812,0.30367929708951125,0.3042284459088413,0.30477759472817134,0.3053267435475014,0.30587589236683144,0.30642504118616143,0.3069741900054915,0.3075233388248215,0.30807248764415157,0.3086216364634816,0.30917078528281167,0.30971993410214166,0.3102690829214717,0.31081823174080175,0.3113673805601318,0.31191652937946185,0.3124656781987919,0.3130148270181219,0.31356397583745194,0.314113124656782,0.31466227347611203,0.3152114222954421,0.3157605711147721,0.3163097199341021,0.31685886875343217,0.3174080175727622,0.31795716639209226,0.3185063152114223,0.31905546403075236,0.31960461285008235,0.3201537616694124,0.32070291048874244,0.3212520593080725,0.32180120812740254,0.3223503569467326,0.3228995057660626,0.3234486545853926,0.3239978034047227,0.3245469522240527,0.32509610104338277,0.3256452498627128,0.3261943986820428,0.32674354750137286,0.3272926963207029,0.32784184514003295,0.328390993959363,0.32894014277869305,0.32948929159802304,0.3300384404173531,0.33058758923668313,0.3311367380560132,0.3316858868753432,0.3322350356946733,0.33278418451400327,0.3333333333333333,0.33388248215266336,0.3344316309719934,0.33498077979132346,0.3355299286106535,0.33607907742998355,0.33662822624931354,0.3371773750686436,0.33772652388797364,0.3382756727073037,0.33882482152663373,0.3393739703459638,0.3399231191652938,0.3404722679846238,0.34102141680395387,0.3415705656232839,0.34211971444261396,0.342668863261944,0.343218012081274,0.34376716090060405,0.3443163097199341,0.34486545853926415,0.3454146073585942,0.34596375617792424,0.34651290499725423,0.3470620538165843,0.34761120263591433,0.3481603514552444,0.3487095002745744,0.34925864909390447,0.34980779791323446,0.3503569467325645,0.35090609555189456,0.3514552443712246,0.35200439319055465,0.3525535420098847,0.3531026908292147,0.35365183964854474,0.3542009884678748,0.35475013728720484,0.3552992861065349,0.35584843492586493,0.3563975837451949,0.35694673256452497,0.357495881383855,0.35804503020318507,0.3585941790225151,0.35914332784184516,0.35969247666117515,0.3602416254805052,0.36079077429983525,0.3613399231191653,0.36188907193849534,0.3624382207578254,0.3629873695771554,0.36353651839648543,0.3640856672158155,0.3646348160351455,0.3651839648544756,0.3657331136738056,0.3662822624931356,0.36683141131246566,0.3673805601317957,0.36792970895112576,0.3684788577704558,0.36902800658978585,0.36957715540911584,0.3701263042284459,0.37067545304777594,0.371224601867106,0.37177375068643603,0.3723228995057661,0.37287204832509613,0.3734211971444261,0.37397034596375617,0.3745194947830862,0.37506864360241626,0.3756177924217463,0.37616694124107636,0.37671609006040635,0.3772652388797364,0.37781438769906645,0.3783635365183965,0.37891268533772654,0.3794618341570566,0.3800109829763866,0.3805601317957166,0.3811092806150467,0.3816584294343767,0.38220757825370677,0.3827567270730368,0.3833058758923668,0.38385502471169686,0.3844041735310269,0.38495332235035695,0.385502471169687,0.38605161998901705,0.38660076880834704,0.3871499176276771,0.38769906644700713,0.3882482152663372,0.38879736408566723,0.3893465129049973,0.38989566172432727,0.3904448105436573,0.39099395936298736,0.3915431081823174,0.39209225700164746,0.3926414058209775,0.3931905546403075,0.39373970345963755,0.3942888522789676,0.39483800109829764,0.3953871499176277,0.39593629873695774,0.39648544755628773,0.3970345963756178,0.3975837451949478,0.39813289401427787,0.3986820428336079,0.39923119165293797,0.39978034047226796,0.400329489291598,0.40087863811092805,0.4014277869302581,0.40197693574958815,0.4025260845689182,0.4030752333882482,0.40362438220757824,0.4041735310269083,0.40472267984623833,0.4052718286655684,0.4058209774848984,0.4063701263042284,0.40691927512355847,0.4074684239428885,0.40801757276221856,0.4085667215815486,0.40911587040087866,0.4096650192202087,0.4102141680395387,0.41076331685886874,0.4113124656781988,0.41186161449752884,0.4124107633168589,0.41295991213618893,0.4135090609555189,0.414058209774849,0.414607358594179,0.41515650741350907,0.4157056562328391,0.41625480505216916,0.41680395387149916,0.4173531026908292,0.41790225151015925,0.4184514003294893,0.41900054914881935,0.4195496979681494,0.4200988467874794,0.42064799560680943,0.4211971444261395,0.42174629324546953,0.4222954420647996,0.4228445908841296,0.4233937397034596,0.42394288852278966,0.4244920373421197,0.42504118616144976,0.4255903349807798,0.42613948380010985,0.42668863261943984,0.4272377814387699,0.42778693025809994,0.42833607907743,0.42888522789676004,0.4294343767160901,0.4299835255354201,0.4305326743547501,0.43108182317408017,0.4316309719934102,0.43218012081274026,0.4327292696320703,0.4332784184514003,0.43382756727073035,0.4343767160900604,0.43492586490939045,0.4354750137287205,0.43602416254805054,0.43657331136738053,0.4371224601867106,0.43767160900604063,0.4382207578253707,0.4387699066447007,0.43931905546403077,0.43986820428336076,0.4404173531026908,0.44096650192202086,0.4415156507413509,0.44206479956068095,0.442613948380011,0.443163097199341,0.44371224601867104,0.4442613948380011,0.44481054365733114,0.4453596924766612,0.44590884129599123,0.4464579901153213,0.44700713893465127,0.4475562877539813,0.44810543657331137,0.4486545853926414,0.44920373421197146,0.4497528830313015,0.4503020318506315,0.45085118066996155,0.4514003294892916,0.45194947830862164,0.4524986271279517,0.45304777594728174,0.45359692476661173,0.4541460735859418,0.4546952224052718,0.4552443712246019,0.4557935200439319,0.45634266886326197,0.45689181768259196,0.457440966501922,0.45799011532125206,0.4585392641405821,0.45908841295991215,0.4596375617792422,0.4601867105985722,0.46073585941790224,0.4612850082372323,0.46183415705656233,0.4623833058758924,0.46293245469522243,0.4634816035145524,0.46403075233388247,0.4645799011532125,0.46512904997254256,0.4656781987918726,0.46622734761120266,0.46677649643053265,0.4673256452498627,0.46787479406919275,0.4684239428885228,0.46897309170785284,0.4695222405271829,0.4700713893465129,0.4706205381658429,0.471169686985173,0.471718835804503,0.47226798462383307,0.4728171334431631,0.4733662822624931,0.47391543108182316,0.4744645799011532,0.47501372872048325,0.4755628775398133,0.47611202635914335,0.47666117517847334,0.4772103239978034,0.47775947281713343,0.4783086216364635,0.47885777045579353,0.4794069192751236,0.47995606809445357,0.4805052169137836,0.48105436573311366,0.4816035145524437,0.48215266337177376,0.4827018121911038,0.48325096101043385,0.48380010982976385,0.4843492586490939,0.48489840746842394,0.485447556287754,0.48599670510708404,0.4865458539264141,0.4870950027457441,0.4876441515650741,0.48819330038440417,0.4887424492037342,0.48929159802306427,0.4898407468423943,0.4903898956617243,0.49093904448105435,0.4914881933003844,0.49203734211971445,0.4925864909390445,0.49313563975837454,0.49368478857770454,0.4942339373970346,0.49478308621636463,0.4953322350356947,0.4958813838550247,0.4964305326743548,0.49697968149368477,0.4975288303130148,0.49807797913234486,0.4986271279516749,0.49917627677100496,0.499725425590335,0.500274574409665,0.500823723228995,0.5013728720483251,0.5019220208676551,0.5024711696869851,0.5030203185063152,0.5035694673256452,0.5041186161449753,0.5046677649643053,0.5052169137836353,0.5057660626029654,0.5063152114222954,0.5068643602416255,0.5074135090609555,0.5079626578802856,0.5085118066996156,0.5090609555189456,0.5096101043382757,0.5101592531576057,0.5107084019769358,0.5112575507962658,0.5118066996155958,0.5123558484349259,0.5129049972542559,0.513454146073586,0.514003294892916,0.5145524437122461,0.5151015925315761,0.515650741350906,0.5161998901702362,0.5167490389895661,0.5172981878088962,0.5178473366282262,0.5183964854475562,0.5189456342668863,0.5194947830862163,0.5200439319055464,0.5205930807248764,0.5211422295442065,0.5216913783635365,0.5222405271828665,0.5227896760021966,0.5233388248215266,0.5238879736408567,0.5244371224601867,0.5249862712795168,0.5255354200988468,0.5260845689181768,0.5266337177375069,0.5271828665568369,0.527732015376167,0.528281164195497,0.528830313014827,0.5293794618341571,0.5299286106534871,0.5304777594728172,0.5310269082921472,0.5315760571114773,0.5321252059308073,0.5326743547501372,0.5332235035694673,0.5337726523887973,0.5343218012081274,0.5348709500274574,0.5354200988467874,0.5359692476661175,0.5365183964854475,0.5370675453047776,0.5376166941241076,0.5381658429434377,0.5387149917627677,0.5392641405820977,0.5398132894014278,0.5403624382207578,0.5409115870400879,0.5414607358594179,0.5420098846787479,0.542559033498078,0.543108182317408,0.5436573311367381,0.5442064799560681,0.5447556287753982,0.5453047775947282,0.5458539264140582,0.5464030752333883,0.5469522240527183,0.5475013728720484,0.5480505216913784,0.5485996705107083,0.5491488193300385,0.5496979681493684,0.5502471169686985,0.5507962657880285,0.5513454146073586,0.5518945634266886,0.5524437122460186,0.5529928610653487,0.5535420098846787,0.5540911587040088,0.5546403075233388,0.5551894563426688,0.5557386051619989,0.5562877539813289,0.556836902800659,0.557386051619989,0.5579352004393191,0.5584843492586491,0.5590334980779791,0.5595826468973092,0.5601317957166392,0.5606809445359693,0.5612300933552993,0.5617792421746294,0.5623283909939594,0.5628775398132894,0.5634266886326195,0.5639758374519495,0.5645249862712796,0.5650741350906096,0.5656232839099395,0.5661724327292696,0.5667215815485996,0.5672707303679297,0.5678198791872597,0.5683690280065898,0.5689181768259198,0.5694673256452498,0.5700164744645799,0.5705656232839099,0.57111477210324,0.57166392092257,0.5722130697419,0.5727622185612301,0.5733113673805601,0.5738605161998902,0.5744096650192202,0.5749588138385503,0.5755079626578803,0.5760571114772103,0.5766062602965404,0.5771554091158704,0.5777045579352005,0.5782537067545305,0.5788028555738605,0.5793520043931906,0.5799011532125206,0.5804503020318507,0.5809994508511807,0.5815485996705108,0.5820977484898407,0.5826468973091707,0.5831960461285008,0.5837451949478308,0.5842943437671609,0.5848434925864909,0.5853926414058209,0.585941790225151,0.586490939044481,0.5870400878638111,0.5875892366831411,0.5881383855024712,0.5886875343218012,0.5892366831411312,0.5897858319604613,0.5903349807797913,0.5908841295991214,0.5914332784184514,0.5919824272377814,0.5925315760571115,0.5930807248764415,0.5936298736957716,0.5941790225151016,0.5947281713344317,0.5952773201537617,0.5958264689730917,0.5963756177924218,0.5969247666117518,0.5974739154310819,0.5980230642504119,0.598572213069742,0.599121361889072,0.5996705107084019,0.600219659527732,0.600768808347062,0.6013179571663921,0.6018671059857221,0.6024162548050521,0.6029654036243822,0.6035145524437122,0.6040637012630423,0.6046128500823723,0.6051619989017024,0.6057111477210324,0.6062602965403624,0.6068094453596925,0.6073585941790225,0.6079077429983526,0.6084568918176826,0.6090060406370126,0.6095551894563427,0.6101043382756727,0.6106534870950028,0.6112026359143328,0.6117517847336629,0.6123009335529929,0.6128500823723229,0.613399231191653,0.613948380010983,0.6144975288303131,0.615046677649643,0.615595826468973,0.6161449752883031,0.6166941241076331,0.6172432729269632,0.6177924217462932,0.6183415705656233,0.6188907193849533,0.6194398682042833,0.6199890170236134,0.6205381658429434,0.6210873146622735,0.6216364634816035,0.6221856123009335,0.6227347611202636,0.6232839099395936,0.6238330587589237,0.6243822075782537,0.6249313563975838,0.6254805052169138,0.6260296540362438,0.6265788028555739,0.6271279516749039,0.627677100494234,0.628226249313564,0.628775398132894,0.6293245469522241,0.629873695771554,0.6304228445908842,0.6309719934102141,0.6315211422295443,0.6320702910488742,0.6326194398682042,0.6331685886875343,0.6337177375068643,0.6342668863261944,0.6348160351455244,0.6353651839648545,0.6359143327841845,0.6364634816035145,0.6370126304228446,0.6375617792421746,0.6381109280615047,0.6386600768808347,0.6392092257001647,0.6397583745194948,0.6403075233388248,0.6408566721581549,0.6414058209774849,0.641954969796815,0.642504118616145,0.643053267435475,0.6436024162548051,0.6441515650741351,0.6447007138934652,0.6452498627127952,0.6457990115321252,0.6463481603514553,0.6468973091707853,0.6474464579901154,0.6479956068094453,0.6485447556287754,0.6490939044481054,0.6496430532674354,0.6501922020867655,0.6507413509060955,0.6512904997254256,0.6518396485447556,0.6523887973640856,0.6529379461834157,0.6534870950027457,0.6540362438220758,0.6545853926414058,0.6551345414607359,0.6556836902800659,0.6562328390993959,0.656781987918726,0.657331136738056,0.6578802855573861,0.6584294343767161,0.6589785831960461,0.6595277320153762,0.6600768808347062,0.6606260296540363,0.6611751784733663,0.6617243272926964,0.6622734761120264,0.6628226249313564,0.6633717737506865,0.6639209225700164,0.6644700713893466,0.6650192202086765,0.6655683690280065,0.6661175178473366,0.6666666666666666,0.6672158154859967,0.6677649643053267,0.6683141131246568,0.6688632619439868,0.6694124107633168,0.6699615595826469,0.6705107084019769,0.671059857221307,0.671609006040637,0.6721581548599671,0.6727073036792971,0.6732564524986271,0.6738056013179572,0.6743547501372872,0.6749038989566173,0.6754530477759473,0.6760021965952773,0.6765513454146074,0.6771004942339374,0.6776496430532675,0.6781987918725975,0.6787479406919276,0.6792970895112576,0.6798462383305875,0.6803953871499177,0.6809445359692476,0.6814936847885777,0.6820428336079077,0.6825919824272377,0.6831411312465678,0.6836902800658978,0.6842394288852279,0.6847885777045579,0.685337726523888,0.685886875343218,0.686436024162548,0.6869851729818781,0.6875343218012081,0.6880834706205382,0.6886326194398682,0.6891817682591982,0.6897309170785283,0.6902800658978583,0.6908292147171884,0.6913783635365184,0.6919275123558485,0.6924766611751785,0.6930258099945085,0.6935749588138386,0.6941241076331686,0.6946732564524987,0.6952224052718287,0.6957715540911587,0.6963207029104888,0.6968698517298187,0.6974190005491488,0.6979681493684788,0.6985172981878089,0.6990664470071389,0.6996155958264689,0.700164744645799,0.700713893465129,0.7012630422844591,0.7018121911037891,0.7023613399231191,0.7029104887424492,0.7034596375617792,0.7040087863811093,0.7045579352004393,0.7051070840197694,0.7056562328390994,0.7062053816584294,0.7067545304777595,0.7073036792970895,0.7078528281164196,0.7084019769357496,0.7089511257550797,0.7095002745744097,0.7100494233937397,0.7105985722130698,0.7111477210323998,0.7116968698517299,0.7122460186710599,0.7127951674903898,0.71334431630972,0.7138934651290499,0.71444261394838,0.71499176276771,0.7155409115870401,0.7160900604063701,0.7166392092257001,0.7171883580450302,0.7177375068643602,0.7182866556836903,0.7188358045030203,0.7193849533223503,0.7199341021416804,0.7204832509610104,0.7210323997803405,0.7215815485996705,0.7221306974190006,0.7226798462383306,0.7232289950576606,0.7237781438769907,0.7243272926963207,0.7248764415156508,0.7254255903349808,0.7259747391543108,0.7265238879736409,0.7270730367929709,0.727622185612301,0.728171334431631,0.7287204832509611,0.729269632070291,0.729818780889621,0.7303679297089511,0.7309170785282811,0.7314662273476112,0.7320153761669412,0.7325645249862712,0.7331136738056013,0.7336628226249313,0.7342119714442614,0.7347611202635914,0.7353102690829215,0.7358594179022515,0.7364085667215815,0.7369577155409116,0.7375068643602416,0.7380560131795717,0.7386051619989017,0.7391543108182317,0.7397034596375618,0.7402526084568918,0.7408017572762219,0.7413509060955519,0.741900054914882,0.742449203734212,0.742998352553542,0.7435475013728721,0.7440966501922021,0.7446457990115322,0.7451949478308622,0.7457440966501923,0.7462932454695222,0.7468423942888522,0.7473915431081823,0.7479406919275123,0.7484898407468424,0.7490389895661724,0.7495881383855024,0.7501372872048325,0.7506864360241625,0.7512355848434926,0.7517847336628226,0.7523338824821527,0.7528830313014827,0.7534321801208127,0.7539813289401428,0.7545304777594728,0.7550796265788029,0.7556287753981329,0.7561779242174629,0.756727073036793,0.757276221856123,0.7578253706754531,0.7583745194947831,0.7589236683141132,0.7594728171334432,0.7600219659527732,0.7605711147721033,0.7611202635914333,0.7616694124107634,0.7622185612300933,0.7627677100494233,0.7633168588687534,0.7638660076880834,0.7644151565074135,0.7649643053267435,0.7655134541460736,0.7660626029654036,0.7666117517847336,0.7671609006040637,0.7677100494233937,0.7682591982427238,0.7688083470620538,0.7693574958813838,0.7699066447007139,0.7704557935200439,0.771004942339374,0.771554091158704,0.7721032399780341,0.7726523887973641,0.7732015376166941,0.7737506864360242,0.7742998352553542,0.7748489840746843,0.7753981328940143,0.7759472817133443,0.7764964305326744,0.7770455793520044,0.7775947281713345,0.7781438769906645,0.7786930258099946,0.7792421746293245,0.7797913234486545,0.7803404722679846,0.7808896210873146,0.7814387699066447,0.7819879187259747,0.7825370675453048,0.7830862163646348,0.7836353651839648,0.7841845140032949,0.7847336628226249,0.785282811641955,0.785831960461285,0.786381109280615,0.7869302580999451,0.7874794069192751,0.7880285557386052,0.7885777045579352,0.7891268533772653,0.7896760021965953,0.7902251510159253,0.7907742998352554,0.7913234486545854,0.7918725974739155,0.7924217462932455,0.7929708951125755,0.7935200439319056,0.7940691927512356,0.7946183415705657,0.7951674903898956,0.7957166392092258,0.7962657880285557,0.7968149368478857,0.7973640856672158,0.7979132344865458,0.7984623833058759,0.7990115321252059,0.7995606809445359,0.800109829763866,0.800658978583196,0.8012081274025261,0.8017572762218561,0.8023064250411862,0.8028555738605162,0.8034047226798462,0.8039538714991763,0.8045030203185063,0.8050521691378364,0.8056013179571664,0.8061504667764964,0.8066996155958265,0.8072487644151565,0.8077979132344866,0.8083470620538166,0.8088962108731467,0.8094453596924767,0.8099945085118067,0.8105436573311368,0.8110928061504667,0.8116419549697969,0.8121911037891268,0.8127402526084568,0.8132894014277869,0.8138385502471169,0.814387699066447,0.814936847885777,0.8154859967051071,0.8160351455244371,0.8165842943437671,0.8171334431630972,0.8176825919824272,0.8182317408017573,0.8187808896210873,0.8193300384404174,0.8198791872597474,0.8204283360790774,0.8209774848984075,0.8215266337177375,0.8220757825370676,0.8226249313563976,0.8231740801757276,0.8237232289950577,0.8242723778143877,0.8248215266337178,0.8253706754530478,0.8259198242723779,0.8264689730917079,0.8270181219110379,0.827567270730368,0.828116419549698,0.828665568369028,0.829214717188358,0.829763866007688,0.8303130148270181,0.8308621636463481,0.8314113124656782,0.8319604612850082,0.8325096101043383,0.8330587589236683,0.8336079077429983,0.8341570565623284,0.8347062053816584,0.8352553542009885,0.8358045030203185,0.8363536518396485,0.8369028006589786,0.8374519494783086,0.8380010982976387,0.8385502471169687,0.8390993959362988,0.8396485447556288,0.8401976935749588,0.8407468423942889,0.8412959912136189,0.841845140032949,0.842394288852279,0.842943437671609,0.8434925864909391,0.844041735310269,0.8445908841295992,0.8451400329489291,0.8456891817682592,0.8462383305875892,0.8467874794069192,0.8473366282262493,0.8478857770455793,0.8484349258649094,0.8489840746842394,0.8495332235035694,0.8500823723228995,0.8506315211422295,0.8511806699615596,0.8517298187808896,0.8522789676002197,0.8528281164195497,0.8533772652388797,0.8539264140582098,0.8544755628775398,0.8550247116968699,0.8555738605161999,0.85612300933553,0.85667215815486,0.85722130697419,0.8577704557935201,0.8583196046128501,0.8588687534321802,0.8594179022515102,0.8599670510708401,0.8605161998901703,0.8610653487095002,0.8616144975288303,0.8621636463481603,0.8627127951674904,0.8632619439868204,0.8638110928061504,0.8643602416254805,0.8649093904448105,0.8654585392641406,0.8660076880834706,0.8665568369028006,0.8671059857221307,0.8676551345414607,0.8682042833607908,0.8687534321801208,0.8693025809994509,0.8698517298187809,0.8704008786381109,0.870950027457441,0.871499176276771,0.8720483250961011,0.8725974739154311,0.8731466227347611,0.8736957715540912,0.8742449203734212,0.8747940691927513,0.8753432180120813,0.8758923668314114,0.8764415156507414,0.8769906644700713,0.8775398132894014,0.8780889621087314,0.8786381109280615,0.8791872597473915,0.8797364085667215,0.8802855573860516,0.8808347062053816,0.8813838550247117,0.8819330038440417,0.8824821526633718,0.8830313014827018,0.8835804503020318,0.8841295991213619,0.8846787479406919,0.885227896760022,0.885777045579352,0.886326194398682,0.8868753432180121,0.8874244920373421,0.8879736408566722,0.8885227896760022,0.8890719384953323,0.8896210873146623,0.8901702361339923,0.8907193849533224,0.8912685337726524,0.8918176825919825,0.8923668314113125,0.8929159802306426,0.8934651290499726,0.8940142778693025,0.8945634266886326,0.8951125755079626,0.8956617243272927,0.8962108731466227,0.8967600219659527,0.8973091707852828,0.8978583196046128,0.8984074684239429,0.8989566172432729],\"xaxis\":\"x\",\"y\":[38.451172778017046,19.608007035708194,28.037047721937256,27.690833530811155,26.217183011332754,32.54970216797831,19.58271773056223,40.860854706075365,21.734191219051613,30.103691119631918,45.009806747468936,31.190987640009077,25.22937763101242,28.364382219827416,29.606861042998034,22.590958003159525,19.636048645844326,22.314837785464594,38.39156963983273,23.827695394953118,44.976584071227016,19.574462094010336,33.29445771144179,20.804766763670795,38.371569621643296,36.6421374393882,35.29993462207407,19.80561906356342,30.562509724282684,19.607451200682675,31.759832519224407,31.12432048070852,44.936472501227065,30.023690459242736,44.9297610911319,23.113049425264027,19.55376383213275,32.443032808320766,44.91631570735536,19.58087542621529,29.519903830278025,26.93205805992583,38.311166427951264,29.065148196444586,44.89609096910622,21.730948960104033,25.576944474028767,40.7270698996151,31.699226057341267,36.56141873789138,19.792818965567157,24.467749746004955,24.667398187873747,19.54447908767573,20.79917069366424,40.6999512094601,35.19880864802574,19.56750062712915,22.58982168064636,40.68634576149332,38.250148953989864,19.607451200682675,44.83500446860919,34.081036324925236,33.152718927265845,36.50699659934043,19.556183388368133,40.65904196019024,44.814503309713146,25.743486003500287,27.808470947457042,19.643808660099225,23.827316111439064,19.772638568287025,44.793931860992,27.44840330762565,35.13043185042696,28.1481466009748,26.51339989596278,25.22929931614607,44.773289638798744,20.486044647790845,23.112363276510116,26.217146571822887,31.576145061383496,20.79205861494933,35.095949002476964,19.49555312780989,44.74565573848588,36.424426494038606,38.147053635930014,30.91975585000479,19.573813890981885,19.528848513253326,30.337484424303657,40.56248815275281,19.752380580774393,36.39664866842208,44.71093341936319,22.311925017621334,44.70396477746553,22.58871212080857,31.51364462578801,40.534613538245665,27.690822384607973,19.5413575411101,20.074992856500604,40.52062751797137,38.08433529599717,28.037039330681694,24.467549199011536,19.548065645637344,44.66198209889401,24.667273501805,38.063282643223495,40.49255729142515,20.786592847313585,25.576885495366955,29.251205045950773,21.724677181407895,19.593117409564876,19.457161855060296,44.62677073023561,33.87268213169873,44.619703591610104,23.826949039733055,28.36437559632956,19.573519150739664,44.60554429300501,23.111696524161005,26.932037663681292,19.505696264086883,37.999677808551745,32.111151386973695,32.908783065339684,33.83012877817096,34.92049793488423,36.25579713929263,19.435758219917343,20.467782002042973,22.31051597741091,19.455305559627984,25.74343462802937,40.39326424560842,22.587629414246006,36.22722565872063,25.229223473752672,20.779652052217774,32.85878281397454,19.50386347689331,37.935391480579995,30.70796989430853,44.51987954218623,29.60685935538007,44.51268529672076,19.43771259407795,21.72164906630037,19.481569839490827,44.49827087537513,33.744105833408696,30.103689873218162,26.513371670319998,26.217111414135783,40.3213209378666,44.47658410477931,19.691179738005687,34.812710624816816,40.30682817724837,20.456805310140073,24.467410867303244,29.065145843964814,19.423532126254194,27.448389980445256,27.808460819636032,24.667152404498914,40.27773721127293,23.111049207349634,29.51990205896723,23.826594193339737,40.26313866397799,37.8266928578489,22.309138682806143,30.023689156721673,19.41907646415213,44.403723464454906,36.082291085990924,28.1481421381507,22.586573649593184,25.576828479353853,19.386330122188852,32.70623234593307,30.56250878082958,31.190986985944562,21.719344139334,44.36695864354655,33.612713776660335,19.41213942514876,20.447933270469704,37.76051571785945,40.18960833222836,44.34479113064898,19.380402448002858,44.3373837223016,40.17479350994295,19.507866204381315,27.690811718728263,19.431872193630902,33.568269148485456,44.31510646898968,20.76607182013893,31.124319802762976,19.653814266440524,44.30020888219452,25.229150104395284,44.29274619466619,25.74338500948686,28.037034478978168,35.963768722790796,32.602333734742075,26.932018063773103,44.27030227822412,19.39004872681683,22.307793267863428,23.110421364126662,44.255292889535745,19.413020994244608,20.44110286752105,40.085128080682,24.46727663431773,31.7598320486345,22.58554491349581,23.82634822377061,32.549701865181156,35.90361784796782,19.633188845770555,24.667034897261267,34.55341106809855,19.350639939315027,44.20246235953832,28.36437176939969,20.75943716602731,26.217077538406684,44.18728208578803,33.432925126108145,26.51334449712017,31.69922557133185,19.3196117641806,40.00936949875221,19.332113490902664,29.251202988266577,44.1568058297918,30.337483357775167,37.55748883397646,19.339881030962843,44.141509454396186,20.432413802804177,34.4772195847946,19.612517860801862,37.53450030068292,25.576773426325385,32.44303248805918,19.298950866260768,44.11079921461074,22.306479863955083,30.91975509309745,35.78147623596135,34.438757923318136,21.71486761205112,44.08766293915928,27.44837721780941,23.109813031453086,20.75290934530903,44.07218904277045,22.58454329058771,19.28196686089561,39.901674300229416,27.808451135921775,31.576144542461993,44.04890311445135,33.29445751063835,25.22907920861869,19.352142089933388,19.338357079434317,39.87054582587553,23.82610850290548,19.296499286783863,34.36108695383997,24.4671465017083,25.74333714813443,35.688210117724516,44.002058374224944,19.258807444667966,29.60685771597704,31.513644089296204,37.39468815311482,28.148137802816787,24.66692098135949,29.065143560670332,43.97062411765423,39.807800156294064,19.252218008929194,19.314438917737775,20.747907543850868,19.5748380172499,22.305198599728204,35.62521741902988,27.690805549762125,39.77617952989429,26.93199926024809,19.260579918583655,43.9231617739265,30.103688661425522,37.323541076367874,20.41536209509257,29.51990033874894,33.152718711097606,22.583568863468244,23.109390473259218,30.70796904576293,39.728433920078764,26.21704494476592,19.214219603421665,43.87532098891268,28.03702976456446,37.275636631636765,19.20744118809562,19.56162684057469,26.513318376449114,43.851256785535824,35.52947071572535,25.57672033660595,30.023687890718264,43.835160196407166,20.742972943013918,43.82709567906527,39.66417627811105,19.196461388660826,23.825875035253574,43.8109340531344,19.2703865785555,43.80283688591485,21.710570919314712,20.407006374284048,39.63178753565407,32.1111510055647,22.303949601064147,24.467020471078243,25.2290107869494,37.17866482674643,19.54462807620623,43.762186323923004,19.170544803390044,28.36436805284801,35.4321712961425,30.56250786287436,39.582874221531924,34.0810361938543,24.666810658022587,19.24584378241903,22.582621712680137,37.12958479997204,25.743291044224517,43.71303929145892,19.205329241618,23.1089779004739,19.15665917432654,27.44836983121832,39.53355887566854,43.68831398174791,19.273868966330514,43.68004951763269,20.400588935408933,19.52383781941369,31.190986348650522,43.663486360119194,32.908782819890504,19.125917801537007,19.225595977487362,21.70849076791966,27.808445538869854,29.25120099169767,19.130044349653826,43.630222241660036,39.46716815714766,37.03020364908925,35.2999345530808,22.303077281875726,32.858782562044695,43.6051525673091,31.124319142350064,23.8256478252089,19.106242432272794,43.588381067922136,19.101114505394207,43.579977705205394,20.73330983370982,19.200642770941077,26.93198836041578,43.563135588886404,26.217013633338897,20.392445566032713,25.576669210508413,22.581701916687805,39.383133170479404,28.148133594974723,24.466898543980772,33.872681985773696,27.690799553721185,30.337482320871374,35.19880857537999,26.51329330838933,23.108575325534122,43.503813071749825,19.10071447787891,25.228944839895636,21.706456473820403,33.830128629009245,19.07686639069055,24.666703928441134,39.31504733388577,36.877975615773764,19.137044795072327,43.461077848358364,32.70623207314101,29.065141346561614,35.13043177520193,20.728583563741285,22.301883880370408,31.759831589522182,20.384426546462308,28.037025187442506,29.60685612478917,36.826362396110625,35.095948925916424,25.743246698000302,19.111923772765504,33.744105677480995,30.919754356284443,36.80038833051365,39.228838954799635,43.38337892083571,19.472793105355237,31.699225097273263,23.825426877050017,19.02508041768469,22.58106170976953,19.15756124341211,32.60233344674865,43.34852043499446,19.09042811189582,36.74810041983006,29.519898669623412,21.704468326171835,19.138425376477493,43.32224302073545,39.15896917005272,19.00728017659531,20.72392897002506,23.10818276058704,32.54970156916295,43.29585001630576,19.008630567765568,30.103687484254124,27.44836264787557,24.466780721918976,28.364364446675754,33.61271360979543,39.106027650441035,22.301051398837238,18.98226083566501,31.576144036513266,19.003707347717825,25.57662004833411,34.92049785114981,36.642137404991104,39.07047199106881,33.56826897774829,19.002709351905985,26.216983604246092,24.66660079376721,30.023686661232656,25.228881367947317,27.808440101703706,32.44303217507616,31.51364356632912,30.70796822035879,26.931970831196523,20.37048859138843,22.58018898420449,21.702526608909597,19.08661374005508,19.091443415325752,36.56141870205995,26.51326929302,43.14405620642151,18.956175633694734,23.825212194939724,34.81271053634348,19.208449881181778,38.962523053044116,43.116865827568084,18.95100909710848,43.10777491674,38.94434122107655,36.506996562508206,23.107800217488794,33.43292494301135,25.743204109695736,27.69079373060855,22.29991394176419,19.421840135836867,29.25119905624441,18.92950980992264,28.148129514626113,43.052938282193566,38.88946279011207,20.364522960594265,30.562506970417083,43.03454746320145,20.714839243725205,43.0253308715295,18.891207542571134,36.424426455634105,24.466667006345727,43.00685510635735,18.9356745647031,21.700631600622486,38.834077781865574,36.39664862947364,19.04850436464579,42.97903434554497,22.579582476356894,42.969732018102405,19.408663977364235,18.868825160704574,38.796868360565526,33.29445731396098,28.037020747614196,42.94173818816769,38.77817675680628,24.666501255114355,18.909714937824702,42.923002809951385,25.576572850372834,42.91361313667582,20.358640214245536,18.88025832914885,18.854454494537123,25.228820371576035,23.824922174629954,22.2988092734729,29.06513920163912,23.10728151581917,34.55341096708888,31.19098572812699,32.111150633236726,19.395507484125126,26.216954857603064,36.255797097464644,38.68383519126926,27.448351127312478,18.855571150245172,42.82843820476758,21.698783574426308,36.22722561628295,30.337481313592377,33.152718499464314,19.0000651137865,31.12431849946982,34.47721947977194,29.6068545818167,19.13532078921876,42.78059106126711,18.800185793433,22.578757034911305,26.931954098473316,26.513246330416976,34.438757816209126,28.36436095088411,19.37862591352979,25.743163279535505,20.7035944099031,24.466557398663653,38.568631653081624,42.72266623488367,27.808434824425937,18.97801748540457,38.54921416057233,29.519897051590902,18.844704097591634,42.693492757643234,22.29773750415423,42.68373665793534,34.361086842389604,36.082291040320236,38.510189633095735,19.265107195788993,18.80703265305404,42.65437281467015,23.10692307178016,21.696982797839272,24.66640531355755,23.824722547325887,20.345514193082693,42.62486455848041,18.9508605591881,18.777526348327775,38.45117276436005,42.60511145422506,27.690788080427247,30.919753639565815,18.862734302566178,20.69935930034234,30.10368634170409,25.576527616902826,25.228761851235067,32.90878257977712,22.578184374898647,35.96376867429322,38.39156962576011,42.54545893305764,18.75087959396796,28.14812556177252,38.3715696074284,18.938440508896694,19.352456895417156,32.85878231563151,31.75983114188747,42.50535853317694,30.023685468264972,35.903617797969034,18.781271874611964,22.296698740990074,18.84157993808823,42.47510636825644,38.31116641329783,26.216927393520436,21.694737362302256,18.693877821058535,31.699224635165514,42.444700897791776,24.466451900225056,29.251197181907155,20.695203041338715,28.037013653002266,18.80463028331747,23.10643815324614,38.25014893887967,19.339421356416903,34.081036065225675,42.39368018220961,18.673746208274455,30.707967418096167,25.743124207735047,35.78147618276904,23.824453619201247,32.70623180645617,27.448340171359742,42.352548915748244,26.513224420652804,22.577406420376114,20.33440710798287,24.666312970133156,31.57614354353734,26.931938162286144,18.734226165366394,18.71401413010699,38.147053620015434,42.30073512226732,18.737193742157373,42.29031845298767,19.32642323422034,35.68821006195638,22.29569308811845,21.693045558484005,31.51364305688678,32.60233316530046,18.63288927728813,29.06513712590329,38.08433527957238,30.562506103457824,18.870559870730666,25.228705807359344,38.063282626623796,35.62521736145148,25.576484348190785,32.54970127992371,18.738325042113868,27.80842638427734,33.872681842654885,20.327459791039196,28.36435756547424,42.17452538559348,23.105972981020066,19.306082217120153,37.99967779141219,18.658805317283537,33.83012848273451,42.142553729137376,18.691664438785452,24.466350512331868,18.68543574832242,35.529470655281735,22.576656255826094,42.110410795133376,20.686004789513365,32.44303186937173,37.935391462876915,23.8241970085038,29.60685308705985,27.690779047758166,21.691866554382447,42.06728392483603,33.74410552461067,22.29472064659948,26.216901212103906,18.69434531112381,19.296873947983563,42.03473411626689,20.320667669732984,35.432171232640385,18.805823756664157,30.33748033593826,24.666189736093738,42.002006762409565,29.519895484651663,25.74308689450054,37.826692839150425,41.980088929825776,18.628299762898635,41.96909991576919,28.148119257009544,18.78223894436265,18.664701944519532,41.94706132350657,31.19098512437399,20.682115028997945,33.61271344626779,18.81683343243206,37.7605156985277,23.105527582777942,18.646063586182166,26.51320356379669,18.738325042113868,35.29993448517119,33.568268810448764,22.575933944281907,31.124317874122273,21.689806456028123,25.22865224036545,18.64019492506319,28.037006939774738,41.846873466969626,26.931923022673093,27.44832978003593,22.293519322272882,25.57644304449184,18.793565310225635,41.813102270885004,24.466215477370966,41.801802832521936,23.82395272473639,35.19880850389349,19.263946748750943,30.103685233775536,18.63785657177409,32.11115026998979,20.677236485773165,18.555840643589242,33.43292476367679,41.7449842261239,18.59957957489739,41.73355565124492,29.251195368686254,35.1304317011902,37.55748881256453,18.77536962397116,20.307563031494283,30.02368431181535,37.53450027902175,35.09594885059741,18.562963671190595,41.67608394748779,30.919752942941614,24.66607355895363,21.687826639288524,19.25124662363612,23.105101985047465,41.6413348156259,22.575046282461045,41.62970690501513,27.808418388281382,18.947523432924953,33.29445712140967,26.216876313454243,18.741354648660568,22.292373260509898,18.56740220391092,20.67249782878242,25.743051340028902,41.57122690992847,18.554006531691652,41.559462200282375,37.3946881298739,28.36435216842031,29.06513511935456,20.299879051156694,18.475845546869998,41.52402902645504,19.23142329367155,34.920497768810954,27.690770495475014,41.5002901230961,18.536960499137535,23.82372077695067,37.323541052279225,25.228601150651603,33.15271829236598,24.466123959796807,30.707966638975122,18.45847756885775,18.806857012752694,21.685927590174543,37.27563660695994,41.4285046207811,26.513183759914536,31.75983070573038,25.576403706049565,34.81271044936968,20.667901167854605,41.39228720700846,18.492694149031223,22.574387859603803,18.683156625267387,23.104696213202832,20.293780560094326,31.69922418500862,22.29152020846857,41.34365472193686,37.17866480083454,28.14811330641027,18.546467504181397,26.93190867967035,30.562505261996648,41.30691991333009,24.665964441174378,18.413147187845038,37.12958477341163,29.606851640518837,18.585586726171528,41.26995881084137,27.448319953358638,18.643046000473742,18.523737938000433,41.24519097382682,19.195854074631974,31.576143063534232,32.90878234499953,28.037000607939294,21.68410977699345,20.664425483438617,18.403402073794922,29.51989396880593,37.030203621165406,20.287855246590624,32.85878207473497,31.513642560969213,23.823501173745957,41.1576894230818,18.432746350882315,34.55341086786172,18.618823737465945,25.743017544507786,26.216852697667285,41.11979456029518,22.57375748103044,18.3661107713238,24.466036556817148,22.290700789670296,30.337479387909113,41.08165883871369,23.104310291459704,34.477219376624674,25.228552538597658,41.0560996946474,18.3114569866881,18.406079107027185,36.877975585624164,34.43875771102422,32.706231545878545,18.583644109173953,20.661037906204356,41.00465243413162,20.28210642614433,27.80841083644871,36.82636236516669,21.68237364997529,18.426082955694724,25.576366333095965,36.80038829916206,34.36108673296559,19.164444177509054,40.939716735423936,18.379169334757083,29.251193616582036,32.602332890397484,24.66589082324806,36.74810038764144,26.513165009068903,18.564613550082917,40.88725738488385,18.26282411724572,27.69076242359011,32.549700997463425,40.860854702032526,30.10368416046858,31.19098453739156,28.364349077367216,22.573155200076663,22.28991508744538,23.82329392326821,18.268671394839178,20.65681342254967,36.64213737103689,19.145569706396724,18.336912277584933,31.124317266307465,30.023683191883915,23.10394424287043,32.443031570945884,18.330357609141544,26.931895133312196,29.06513318199335,21.681080080420166,40.72706989529203,36.561418666695886,24.465953269511687,18.31236908907483,40.69995120507791,18.301989410918782,40.686345757081156,18.297383975570625,34.08103593903934,36.50699652616061,40.65904195571731,25.742985508115567,18.67124192528067,19.130325925973665,27.448310691344513,28.148109906051932,25.228506404565092,20.272332191777384,26.216830364833932,20.652738089210764,18.284625540623775,36.424426417741664,30.919752266411873,18.26966285846316,40.56248814805822,36.39664859104682,22.28916318184536,22.5725810677743,40.53461353348506,18.127435559380558,40.52062751317729,28.03699699190926,18.474198354214177,24.665820809015653,40.492557286563176,25.576330925851476,21.67983638285154,18.244128405170308,33.87268170234231,23.82315345438538,18.217913270676103,23.103694958998357,18.089246568959062,32.1111499158239,33.83012833934675,36.255797056209644,20.267090555455223,18.125789749549913,40.393264240498475,36.227225574429276,20.649672721615783,18.449378525136208,30.70796588299571,29.606850242193865,18.203136723462443,18.062405820729143,33.744105374797726,26.513147311319038,40.32132093256913,19.097156266512293,40.306828171912294,24.46587409890947,18.096819009659924,27.8084065185517,40.27773720585851,29.519892504053942,40.26313865852382,22.288445149616177,18.035227344222584,36.082290995292794,22.572035132836998,18.174472549498628,30.56250444603362,21.678642745616546,33.61271328607743,20.2620374055832,40.18960832656951,18.06750289233771,40.17479350424195,27.6907578110552,33.568268646586866,20.64669960590252,19.082575779024,25.228462748896984,25.74295523102136,35.963768626491785,26.931882383631002,18.13636281973628,23.103455833289853,18.3940658181513,40.08512807471903,31.759830281050924,23.823019294508878,35.903617748694856,24.66575439923451,18.070656960496592,28.364346096699823,26.216809315040155,33.43292458810445,31.699223746802602,40.00936949255855,29.251191925594817,30.337478469505022,18.05258725586262,20.258239418412085,19.06822813343613,25.576297484524947,17.919775104044422,22.28776106417233,35.781476130362826,21.67749934999727,27.44830540518093,20.64381959493519,22.571662468788446,39.90167429369235,31.57614259650396,33.29445693298442,18.023542238272483,39.8705458192357,18.063897908479266,24.465799045988877,35.68821000702477,18.080573916199853,31.513642078576435,28.148106633196107,29.06513131382005,39.80780014944216,18.34419455685521,19.05723830828809,35.62521730474549,39.776179522932956,17.981587205488186,30.103683121783327,20.254558658145505,33.15271808980261,23.103226873048413,39.728433912948866,17.90509757097508,28.03699351318448,18.044370642979242,26.51313719817849,35.52947059576801,30.02368210847079,20.640254866920966,39.66417627074784,23.822842074630067,18.319265468921408,21.676406370120723,39.63178752817036,22.287110995572128,25.228421571918023,19.043337491167723,17.887575001441146,35.432171170130495,39.582874213862524,24.665691594623098,22.571164978801534,25.742926713384996,18.071284829198834,17.780897537442325,39.53355886780723,17.881039629786788,20.250000675482234,31.19098396717973,32.90878211555774,18.294362780449717,27.808402360559178,17.848611165998232,39.4671681490204,35.299934418345245,32.85878183935509,31.12431667602542,17.743038517928092,17.984483365307973,20.63759075544341,26.93187511623999,26.216789548366993,25.576266009313663,39.38313316200255,24.465728111677567,27.690753371470255,35.19880843356622,23.103008085270865,17.800025577732185,21.675363972871963,17.69745323257849,39.315047325114676,17.81868616698738,32.70623129140814,35.130431628391776,22.28666752456663,20.246592885933676,29.606848892085143,35.09594877651991,17.773296922835204,30.91975160997664,39.228838945641265,19.016360448917837,23.82272306651446,22.570826963860966,32.602332622039754,17.78684788714316,29.519891090395916,18.250213522066684,39.15896916056795,20.635022399099597,32.549700721782116,17.92386237559774,27.448300322304974,28.364343226419123,39.106027640701214,17.640049529263457,17.728238814644282,34.920497687867666,39.07047198115385,17.75458078707493,24.665632395861,25.228382873934496,32.44303127979863,30.70796515015797,20.2433066406898,21.674650461042322,18.236463186885317,26.513121185496782,17.913694058690208,34.81271036389543,38.9625230425779,17.672235481590686,38.944341210514516,23.10271888479975,25.742899955357032,22.286075923801,29.251190295724914,28.148103487844057,38.88946277925546,30.562503655568804,20.631862144574427,17.596021410730007,24.46566129685244,17.73600446379417,38.834077770703324,18.21178652448089,22.570378043288756,19.001881318094135,38.79686834919312,28.036990171766387,38.77817674532682,17.7921808786117,25.576236500403308,20.240143179536613,17.562433399491283,23.822567068471717,29.06512951483506,34.553410770417074,32.11114957073907,26.21677106489054,38.68383517923385,17.6411959593668,21.673695143990628,30.337477580726066,18.18722436021423,34.4772192753528,18.24484143193927,17.520702511841,26.93186364130454,34.43875760776342,18.989180863365178,20.629515463112007,38.56863164033066,27.808395785920336,38.54921414769663,17.522640135844593,22.285518512935308,34.361086625567935,38.51018961996564,17.821474424289203,23.102449652762047,24.66557680358886,20.236258220650985,18.157394745818884,38.45117275083566,27.69074635650148,17.492076840163435,30.103682117719895,25.228346655234272,22.569957507609935,38.39156961182547,17.579103738225932,38.37156959335332,18.974105170619275,31.759829867849117,30.023681061576095,17.783608008839735,17.49549484209696,38.311166398789965,21.67279082538438,31.69922332054747,24.4655986023396,20.62664262078702,17.559331882310488,38.25014892392108,34.08103581529531,17.42296982069279,25.74287495707874,23.82246322511502,27.448292302603708,26.513106226049317,20.2325806771942,31.57614214244654,17.800836830429237,38.14705360426324,17.635321427689853,18.972759865287777,22.2849953493632,31.51364160970846,17.442846228899867,38.08433526331692,18.135857394787994,38.06328261019582,25.576208957967985,17.78740592115272,33.872681564835965,28.36433868792428,23.102200405312065,37.9996777744518,33.830128198845976,17.790502634837875,17.535792550486363,22.56956539273159,20.62393345662796,37.93539144536084,29.60684759019286,21.671937644504922,33.74410522804217,26.21675386468196,18.95566821508754,20.230628091392305,17.55608445474503,24.66550503444921,29.51988972783207,37.826692820653015,17.354110840781033,28.14809852893559,17.75944820981185,31.190983413738522,33.61271312922434,37.76051567940607,17.540490863520212,17.51926613680926,33.56826848616261,31.124316103276172,25.2283129160868,28.036984907865925,26.93185296312133,22.28437311943905,18.07748394606442,24.46551775361272,23.822328465951855,18.944282715482856,17.474902832021737,20.620846506205066,33.432924416294355,17.511749737734306,29.251188726972625,37.55748879139319,20.228003978659473,37.53450025760487,17.2789723456733,30.91975097363595,21.67091604983742,23.10197115741405,22.5692017321659,27.808389655474908,33.294456748685235,18.059224975777962,17.5608641029337,25.74285171868212,17.676417537502406,37.394688106901135,29.065127785038747,17.249110881168896,18.930887686374515,27.690739821965757,17.347955125435778,37.323541028471766,33.152717891774195,30.70796444046197,17.52452591716451,37.27563658257343,26.513092319883363,25.57618338217021,20.618505815400347,17.306229061791466,18.03089729832269,20.22481934622955,22.28392843233086,37.17866477523236,17.27513771531367,30.562502890602254,24.665458100133705,37.12958474717123,17.482906152803228,27.448284847612456,17.257098256987504,18.920370952469987,32.90878189145176,21.669979467138106,17.261311064654432,37.03020359358348,32.85878160949187,23.82220610308678,17.579744416041535,18.008090124578704,26.216737947807477,22.568866557020613,24.465464950915678,30.337476721572322,23.10176192283922,25.228281656743107,17.066620244686188,36.877975555853006,32.706231043044966,20.61633290012659,20.221849508261183,36.826362334614444,17.171281018409584,36.80038826820901,18.905913882013596,17.548879154385197,32.602332360227265,36.7481003558655,17.975812275211883,17.080427285529275,32.54970045287978,30.103681148278383,28.36433445606594,22.28351815664951,17.258869037147914,36.642137337525554,17.128426228831643,30.023680051199943,32.44303099592997,26.931843081715886,21.669128136417527,36.561418631799185,17.50461176248977,17.23072119373634,17.03998233623838,36.50699649029765,25.742830240289877,18.894385584009086,28.14809572359934,20.21968938598738,20.614328867841,36.424426380361275,17.047688871100917,36.39664855314163,22.568559895990212,16.938987683110376,28.03698193260558,24.6654147741949,25.576159773160903,17.460847627942893,23.822096141072972,23.101572714162987,32.11114923473531,36.255797015527634,16.96098954238004,36.227225533159604,17.923278143629627,29.60684633651721,16.88521334065295,26.513079467042864,18.883529015827506,24.46541627095932,27.808383969231055,29.51988841636262,22.283142334843962,36.0822909509086,17.430927658391106,21.66852507065551,20.21766124484345,17.005196596096333,27.69073376787249,20.612887594638647,25.228252877435786,35.96376857938648,17.03860148678694,17.902657495990784,31.759829466124977,35.903617700145304,16.82681313279168,26.216723314328377,31.699222906243243,29.251187219338235,16.892946681807054,18.876980838441007,16.774510120718677,35.7814760787427,27.448277957343848,22.568281775347746,31.57614170136199,16.78443452868281,16.81230147096174,35.68820995292968,31.51364115436532,29.06512612443147,17.87388613974843,35.625217248911895,16.81946235846344,20.21524887020797,23.101403542762462,16.992010055963316,17.34052667927516,35.52947053718419,20.611186280113493,23.822025191420718,21.66797380360535,22.282801005834113,18.867273790175272,35.43217110861282,24.665375057101915,25.742810522015425,16.616736845129985,16.626886065089465,31.190982877067967,17.85473083023062,16.669682953825628,35.29993435260295,31.12431554805975,17.306434042300445,26.93183399711183,25.57613813107938,24.465371714345885,35.19880836439818,16.621780701402802,16.567895871355677,16.739862612583796,35.13043155680665,20.213525375845048,35.09594870368392,30.919750357389844,18.859874904636875,22.568032218937354,16.79713401865174,17.828266522406878,20.609656494178786,17.285251523532164,28.364332064138086,16.52944269319233,34.92049760831995,16.540667992343867,25.228226578378987,30.707963753907748,21.667474421168123,26.513067667568443,34.812710279920715,16.474001609303404,23.10129497945233,22.282494204997406,28.14809304577103,30.562502151134037,16.45698845563949,16.44529646907036,17.807075179386644,18.851513560299782,28.036979094656697,16.507539772345638,20.211507129660024,23.821960572178806,34.55341067475494,26.216709964301003,16.443698385131842,30.337475892043873,34.47721917595632,16.37181566128301,34.438757506426725,20.608585758759244,27.80838077070468,16.33941009046699,34.36108652019664,17.221731334557745,24.665338949284838,17.787072626791705,27.69073036603257,30.10368021345889,22.567811248167438,16.292800272413103,18.84392048318541,30.023679077342443,16.275086835586492,21.66702700125548,24.465331281626668,16.304626585876186,34.08103569399358,25.7427925639629,27.448274094254447,20.209712518066954,17.18673483390638,16.238116181554894,22.282221964156626,16.255999259003687,17.775000128181013,25.576118456053354,33.872681430135856,23.10119664779226,33.83012806123219,16.217615140991136,20.607619605322338,29.60684513105837,33.744105084344,18.83829212649939,16.077804869486094,29.519887155987757,16.179661100645617,17.158833069192738,33.612712975708526,16.08780271830898,33.568268329175986,25.228202759768422,26.931828928823172,17.75711844296385,23.82190228457483,15.993087036064239,33.432924248246486,29.25118577282202,20.208472102298362,16.12650013413906,21.666631613749264,22.567618882004577,33.29445656851212,16.19603991227873,17.132669267042246,29.065124533013577,18.833199377359584,15.91219299261666,33.152717698280746,15.969027035537856,26.513056921497387,20.606758338321676,17.740637155112672,22.281984311568934,15.96926948736886,24.6653064511347,15.906083786876412,15.871187315862436,32.908781672681584,15.85745789521653,32.85878138514532,17.116997911335684,26.216702570363,24.46529497330198,23.101108550801925,15.996350639531029,32.70623080078902,20.207368217328213,15.765418846654017,18.82865061252732,32.60233210496002,17.725631776140897,32.549700190756425,28.36432978260157,15.70087921567629,15.679562936448878,32.44303071933992,21.666288320465217,17.098044479009708,15.655808254866523,25.74277636622714,28.14809049545169,20.60600222973871,15.61167381626351,22.567498999874882,28.036976394020442,25.576100748198954,23.821850329716238,32.11114890781261,15.534179485998097,17.714502445986025,15.867924497461097,18.824653398906168,27.80837773209515,22.281835750015894,17.0842829442425,20.206401317365078,27.69072713715686,25.228181421781358,15.44835244817739,31.75982907587851,15.519300191027416,31.69922250388994,15.448465953770398,15.794168731734027,27.448270434471773,31.576141273250332,15.438058951228466,31.51364071254702,17.70444553426917,15.289548132382931,23.10103069118728,17.067917672636355,20.605351518797857,21.66607503547567,18.821930104939565],\"yaxis\":\"y\",\"type\":\"scattergl\"}],                        {\"template\":{\"data\":{\"histogram2dcontour\":[{\"type\":\"histogram2dcontour\",\"colorbar\":{\"outlinewidth\":0,\"ticks\":\"\"},\"colorscale\":[[0.0,\"#0d0887\"],[0.1111111111111111,\"#46039f\"],[0.2222222222222222,\"#7201a8\"],[0.3333333333333333,\"#9c179e\"],[0.4444444444444444,\"#bd3786\"],[0.5555555555555556,\"#d8576b\"],[0.6666666666666666,\"#ed7953\"],[0.7777777777777778,\"#fb9f3a\"],[0.8888888888888888,\"#fdca26\"],[1.0,\"#f0f921\"]]}],\"choropleth\":[{\"type\":\"choropleth\",\"colorbar\":{\"outlinewidth\":0,\"ticks\":\"\"}}],\"histogram2d\":[{\"type\":\"histogram2d\",\"colorbar\":{\"outlinewidth\":0,\"ticks\":\"\"},\"colorscale\":[[0.0,\"#0d0887\"],[0.1111111111111111,\"#46039f\"],[0.2222222222222222,\"#7201a8\"],[0.3333333333333333,\"#9c179e\"],[0.4444444444444444,\"#bd3786\"],[0.5555555555555556,\"#d8576b\"],[0.6666666666666666,\"#ed7953\"],[0.7777777777777778,\"#fb9f3a\"],[0.8888888888888888,\"#fdca26\"],[1.0,\"#f0f921\"]]}],\"heatmap\":[{\"type\":\"heatmap\",\"colorbar\":{\"outlinewidth\":0,\"ticks\":\"\"},\"colorscale\":[[0.0,\"#0d0887\"],[0.1111111111111111,\"#46039f\"],[0.2222222222222222,\"#7201a8\"],[0.3333333333333333,\"#9c179e\"],[0.4444444444444444,\"#bd3786\"],[0.5555555555555556,\"#d8576b\"],[0.6666666666666666,\"#ed7953\"],[0.7777777777777778,\"#fb9f3a\"],[0.8888888888888888,\"#fdca26\"],[1.0,\"#f0f921\"]]}],\"heatmapgl\":[{\"type\":\"heatmapgl\",\"colorbar\":{\"outlinewidth\":0,\"ticks\":\"\"},\"colorscale\":[[0.0,\"#0d0887\"],[0.1111111111111111,\"#46039f\"],[0.2222222222222222,\"#7201a8\"],[0.3333333333333333,\"#9c179e\"],[0.4444444444444444,\"#bd3786\"],[0.5555555555555556,\"#d8576b\"],[0.6666666666666666,\"#ed7953\"],[0.7777777777777778,\"#fb9f3a\"],[0.8888888888888888,\"#fdca26\"],[1.0,\"#f0f921\"]]}],\"contourcarpet\":[{\"type\":\"contourcarpet\",\"colorbar\":{\"outlinewidth\":0,\"ticks\":\"\"}}],\"contour\":[{\"type\":\"contour\",\"colorbar\":{\"outlinewidth\":0,\"ticks\":\"\"},\"colorscale\":[[0.0,\"#0d0887\"],[0.1111111111111111,\"#46039f\"],[0.2222222222222222,\"#7201a8\"],[0.3333333333333333,\"#9c179e\"],[0.4444444444444444,\"#bd3786\"],[0.5555555555555556,\"#d8576b\"],[0.6666666666666666,\"#ed7953\"],[0.7777777777777778,\"#fb9f3a\"],[0.8888888888888888,\"#fdca26\"],[1.0,\"#f0f921\"]]}],\"surface\":[{\"type\":\"surface\",\"colorbar\":{\"outlinewidth\":0,\"ticks\":\"\"},\"colorscale\":[[0.0,\"#0d0887\"],[0.1111111111111111,\"#46039f\"],[0.2222222222222222,\"#7201a8\"],[0.3333333333333333,\"#9c179e\"],[0.4444444444444444,\"#bd3786\"],[0.5555555555555556,\"#d8576b\"],[0.6666666666666666,\"#ed7953\"],[0.7777777777777778,\"#fb9f3a\"],[0.8888888888888888,\"#fdca26\"],[1.0,\"#f0f921\"]]}],\"mesh3d\":[{\"type\":\"mesh3d\",\"colorbar\":{\"outlinewidth\":0,\"ticks\":\"\"}}],\"scatter\":[{\"marker\":{\"line\":{\"color\":\"#283442\"}},\"type\":\"scatter\"}],\"parcoords\":[{\"type\":\"parcoords\",\"line\":{\"colorbar\":{\"outlinewidth\":0,\"ticks\":\"\"}}}],\"scatterpolargl\":[{\"type\":\"scatterpolargl\",\"marker\":{\"colorbar\":{\"outlinewidth\":0,\"ticks\":\"\"}}}],\"bar\":[{\"error_x\":{\"color\":\"#f2f5fa\"},\"error_y\":{\"color\":\"#f2f5fa\"},\"marker\":{\"line\":{\"color\":\"rgb(17,17,17)\",\"width\":0.5},\"pattern\":{\"fillmode\":\"overlay\",\"size\":10,\"solidity\":0.2}},\"type\":\"bar\"}],\"scattergeo\":[{\"type\":\"scattergeo\",\"marker\":{\"colorbar\":{\"outlinewidth\":0,\"ticks\":\"\"}}}],\"scatterpolar\":[{\"type\":\"scatterpolar\",\"marker\":{\"colorbar\":{\"outlinewidth\":0,\"ticks\":\"\"}}}],\"histogram\":[{\"marker\":{\"pattern\":{\"fillmode\":\"overlay\",\"size\":10,\"solidity\":0.2}},\"type\":\"histogram\"}],\"scattergl\":[{\"marker\":{\"line\":{\"color\":\"#283442\"}},\"type\":\"scattergl\"}],\"scatter3d\":[{\"type\":\"scatter3d\",\"line\":{\"colorbar\":{\"outlinewidth\":0,\"ticks\":\"\"}},\"marker\":{\"colorbar\":{\"outlinewidth\":0,\"ticks\":\"\"}}}],\"scattermapbox\":[{\"type\":\"scattermapbox\",\"marker\":{\"colorbar\":{\"outlinewidth\":0,\"ticks\":\"\"}}}],\"scatterternary\":[{\"type\":\"scatterternary\",\"marker\":{\"colorbar\":{\"outlinewidth\":0,\"ticks\":\"\"}}}],\"scattercarpet\":[{\"type\":\"scattercarpet\",\"marker\":{\"colorbar\":{\"outlinewidth\":0,\"ticks\":\"\"}}}],\"carpet\":[{\"aaxis\":{\"endlinecolor\":\"#A2B1C6\",\"gridcolor\":\"#506784\",\"linecolor\":\"#506784\",\"minorgridcolor\":\"#506784\",\"startlinecolor\":\"#A2B1C6\"},\"baxis\":{\"endlinecolor\":\"#A2B1C6\",\"gridcolor\":\"#506784\",\"linecolor\":\"#506784\",\"minorgridcolor\":\"#506784\",\"startlinecolor\":\"#A2B1C6\"},\"type\":\"carpet\"}],\"table\":[{\"cells\":{\"fill\":{\"color\":\"#506784\"},\"line\":{\"color\":\"rgb(17,17,17)\"}},\"header\":{\"fill\":{\"color\":\"#2a3f5f\"},\"line\":{\"color\":\"rgb(17,17,17)\"}},\"type\":\"table\"}],\"barpolar\":[{\"marker\":{\"line\":{\"color\":\"rgb(17,17,17)\",\"width\":0.5},\"pattern\":{\"fillmode\":\"overlay\",\"size\":10,\"solidity\":0.2}},\"type\":\"barpolar\"}],\"pie\":[{\"automargin\":true,\"type\":\"pie\"}]},\"layout\":{\"autotypenumbers\":\"strict\",\"colorway\":[\"#636efa\",\"#EF553B\",\"#00cc96\",\"#ab63fa\",\"#FFA15A\",\"#19d3f3\",\"#FF6692\",\"#B6E880\",\"#FF97FF\",\"#FECB52\"],\"font\":{\"color\":\"#f2f5fa\"},\"hovermode\":\"closest\",\"hoverlabel\":{\"align\":\"left\"},\"paper_bgcolor\":\"rgb(17,17,17)\",\"plot_bgcolor\":\"rgb(17,17,17)\",\"polar\":{\"bgcolor\":\"rgb(17,17,17)\",\"angularaxis\":{\"gridcolor\":\"#506784\",\"linecolor\":\"#506784\",\"ticks\":\"\"},\"radialaxis\":{\"gridcolor\":\"#506784\",\"linecolor\":\"#506784\",\"ticks\":\"\"}},\"ternary\":{\"bgcolor\":\"rgb(17,17,17)\",\"aaxis\":{\"gridcolor\":\"#506784\",\"linecolor\":\"#506784\",\"ticks\":\"\"},\"baxis\":{\"gridcolor\":\"#506784\",\"linecolor\":\"#506784\",\"ticks\":\"\"},\"caxis\":{\"gridcolor\":\"#506784\",\"linecolor\":\"#506784\",\"ticks\":\"\"}},\"coloraxis\":{\"colorbar\":{\"outlinewidth\":0,\"ticks\":\"\"}},\"colorscale\":{\"sequential\":[[0.0,\"#0d0887\"],[0.1111111111111111,\"#46039f\"],[0.2222222222222222,\"#7201a8\"],[0.3333333333333333,\"#9c179e\"],[0.4444444444444444,\"#bd3786\"],[0.5555555555555556,\"#d8576b\"],[0.6666666666666666,\"#ed7953\"],[0.7777777777777778,\"#fb9f3a\"],[0.8888888888888888,\"#fdca26\"],[1.0,\"#f0f921\"]],\"sequentialminus\":[[0.0,\"#0d0887\"],[0.1111111111111111,\"#46039f\"],[0.2222222222222222,\"#7201a8\"],[0.3333333333333333,\"#9c179e\"],[0.4444444444444444,\"#bd3786\"],[0.5555555555555556,\"#d8576b\"],[0.6666666666666666,\"#ed7953\"],[0.7777777777777778,\"#fb9f3a\"],[0.8888888888888888,\"#fdca26\"],[1.0,\"#f0f921\"]],\"diverging\":[[0,\"#8e0152\"],[0.1,\"#c51b7d\"],[0.2,\"#de77ae\"],[0.3,\"#f1b6da\"],[0.4,\"#fde0ef\"],[0.5,\"#f7f7f7\"],[0.6,\"#e6f5d0\"],[0.7,\"#b8e186\"],[0.8,\"#7fbc41\"],[0.9,\"#4d9221\"],[1,\"#276419\"]]},\"xaxis\":{\"gridcolor\":\"#283442\",\"linecolor\":\"#506784\",\"ticks\":\"\",\"title\":{\"standoff\":15},\"zerolinecolor\":\"#283442\",\"automargin\":true,\"zerolinewidth\":2},\"yaxis\":{\"gridcolor\":\"#283442\",\"linecolor\":\"#506784\",\"ticks\":\"\",\"title\":{\"standoff\":15},\"zerolinecolor\":\"#283442\",\"automargin\":true,\"zerolinewidth\":2},\"scene\":{\"xaxis\":{\"backgroundcolor\":\"rgb(17,17,17)\",\"gridcolor\":\"#506784\",\"linecolor\":\"#506784\",\"showbackground\":true,\"ticks\":\"\",\"zerolinecolor\":\"#C8D4E3\",\"gridwidth\":2},\"yaxis\":{\"backgroundcolor\":\"rgb(17,17,17)\",\"gridcolor\":\"#506784\",\"linecolor\":\"#506784\",\"showbackground\":true,\"ticks\":\"\",\"zerolinecolor\":\"#C8D4E3\",\"gridwidth\":2},\"zaxis\":{\"backgroundcolor\":\"rgb(17,17,17)\",\"gridcolor\":\"#506784\",\"linecolor\":\"#506784\",\"showbackground\":true,\"ticks\":\"\",\"zerolinecolor\":\"#C8D4E3\",\"gridwidth\":2}},\"shapedefaults\":{\"line\":{\"color\":\"#f2f5fa\"}},\"annotationdefaults\":{\"arrowcolor\":\"#f2f5fa\",\"arrowhead\":0,\"arrowwidth\":1},\"geo\":{\"bgcolor\":\"rgb(17,17,17)\",\"landcolor\":\"rgb(17,17,17)\",\"subunitcolor\":\"#506784\",\"showland\":true,\"showlakes\":true,\"lakecolor\":\"rgb(17,17,17)\"},\"title\":{\"x\":0.05},\"updatemenudefaults\":{\"bgcolor\":\"#506784\",\"borderwidth\":0},\"sliderdefaults\":{\"bgcolor\":\"#C8D4E3\",\"borderwidth\":1,\"bordercolor\":\"rgb(17,17,17)\",\"tickwidth\":0},\"mapbox\":{\"style\":\"dark\"}}},\"xaxis\":{\"anchor\":\"y\",\"domain\":[0.0,1.0],\"title\":{\"text\":\"Ratio of reduced variables\"}},\"yaxis\":{\"anchor\":\"x\",\"domain\":[0.0,1.0],\"title\":{\"text\":\"$\\\\log(I^6 + rI^3 + r^2I^2)$\"}},\"coloraxis\":{\"colorbar\":{\"title\":{\"text\":\"Number of possible\\u003cbr\\u003etile size choices\"}},\"colorscale\":[[0.0,\"#0d0887\"],[0.1111111111111111,\"#46039f\"],[0.2222222222222222,\"#7201a8\"],[0.3333333333333333,\"#9c179e\"],[0.4444444444444444,\"#bd3786\"],[0.5555555555555556,\"#d8576b\"],[0.6666666666666666,\"#ed7953\"],[0.7777777777777778,\"#fb9f3a\"],[0.8888888888888888,\"#fdca26\"],[1.0,\"#f0f921\"]]},\"legend\":{\"tracegroupgap\":0},\"margin\":{\"t\":60},\"title\":{\"text\":\"Influence of variable elimination on TT-MALS runtime for ex3\",\"x\":0.5,\"xanchor\":\"center\",\"yanchor\":\"top\"},\"font\":{\"color\":\"black\"},\"plot_bgcolor\":\"white\",\"paper_bgcolor\":\"white\"},                        {\"responsive\": true}                    ).then(function(){\n",
       "                            \n",
       "var gd = document.getElementById('3e4e29e4-aded-4c0d-81f3-0b4a7914a2b3');\n",
       "var x = new MutationObserver(function (mutations, observer) {{\n",
       "        var display = window.getComputedStyle(gd).display;\n",
       "        if (!display || display === 'none') {{\n",
       "            console.log([gd, 'removed!']);\n",
       "            Plotly.purge(gd);\n",
       "            observer.disconnect();\n",
       "        }}\n",
       "}});\n",
       "\n",
       "// Listen for the removal of the full notebook cells\n",
       "var notebookContainer = gd.closest('#notebook-container');\n",
       "if (notebookContainer) {{\n",
       "    x.observe(notebookContainer, {childList: true});\n",
       "}}\n",
       "\n",
       "// Listen for the clearing of the current output cell\n",
       "var outputEl = gd.closest('.output');\n",
       "if (outputEl) {{\n",
       "    x.observe(outputEl, {childList: true});\n",
       "}}\n",
       "\n",
       "                        })                };                });            </script>        </div>"
      ]
     },
     "metadata": {},
     "output_type": "display_data"
    }
   ],
   "execution_count": 20
  },
  {
   "metadata": {
    "ExecuteTime": {
     "end_time": "2024-08-24T17:19:45.933632Z",
     "start_time": "2024-08-24T17:19:45.053616Z"
    }
   },
   "cell_type": "code",
   "source": [
    "# scatter plot for partial gauss effects on ranks and max mode size\n",
    "fig = px.scatter(partial_gauss_tile_agg_df[partial_gauss_tile_agg_df[\"matrix_name\"] == matrix_name], x=\"rank\", y=\"max_mode_size\", color='reduced_variable_percentage', color_discrete_sequence=colors, \n",
    "                log_y=True, log_x=True,  # symbol=\"matrix_name\",\n",
    "              labels={\n",
    "                     \"tile_size\": \"Tile size\",\n",
    "                     \"matrix_name\": \"Matrix name\",\n",
    "                  \"reduced_variable_percentage\": \"Ratio of reduced<br>variables\",\n",
    "                  \"rank\": \"Rank\"\n",
    "                 }\n",
    "              )\n",
    "fig.update_layout(\n",
    "    title={\n",
    "        'text': \"Influence of variable elimination on TT-ranks and max mode size for {}\".format(matrix_name),\n",
    "        'x':0.5,\n",
    "        'xanchor': 'center',\n",
    "        'yanchor': 'top'\n",
    "    },\n",
    "    plot_bgcolor='white',   # Plot area background color\n",
    "    paper_bgcolor='white',  # Entire figure background color\n",
    "    font=dict(color='black'), # Font color\n",
    "    yaxis_title=\"Maximum mode size\",\n",
    "    # coloraxis_colorbar=dict(yanchor=\"top\", y=1, x=-0.2, ticks=\"outside\")\n",
    ")\n",
    "fig.show()\n",
    "fig.write_image(\"plots/{}_pg_ratio_max_mode_size_rank.pdf\".format(matrix_name))"
   ],
   "id": "7bdcbab099a184f0",
   "outputs": [
    {
     "data": {
      "application/vnd.plotly.v1+json": {
       "data": [
        {
         "hovertemplate": "Rank=%{x}<br>max_mode_size=%{y}<br>Ratio of reduced<br>variables=%{marker.color}<extra></extra>",
         "legendgroup": "",
         "marker": {
          "color": [
           0.0,
           5.491488193300384E-4,
           0.001098297638660077,
           0.0016474464579901153,
           0.002196595277320154,
           0.0027457440966501922,
           0.0032948929159802307,
           0.003844041735310269,
           0.004393190554640308,
           0.004942339373970346,
           0.0054914881933003845,
           0.0060406370126304225,
           0.006589785831960461,
           0.007138934651290499,
           0.007688083470620538,
           0.008237232289950576,
           0.008786381109280615,
           0.009335529928610654,
           0.009884678747940691,
           0.01043382756727073,
           0.010982976386600769,
           0.011532125205930808,
           0.012081274025260845,
           0.012630422844590884,
           0.013179571663920923,
           0.013728720483250962,
           0.014277869302580999,
           0.014827018121911038,
           0.015376166941241077,
           0.015925315760571115,
           0.016474464579901153,
           0.017023613399231193,
           0.01757276221856123,
           0.018121911037891267,
           0.018671059857221308,
           0.019220208676551345,
           0.019769357495881382,
           0.020318506315211423,
           0.02086765513454146,
           0.0214168039538715,
           0.021965952773201538,
           0.022515101592531575,
           0.023064250411861616,
           0.023613399231191653,
           0.02416254805052169,
           0.02471169686985173,
           0.025260845689181768,
           0.02580999450851181,
           0.026359143327841845,
           0.026908292147171883,
           0.027457440966501923,
           0.02800658978583196,
           0.028555738605161998,
           0.029104887424492038,
           0.029654036243822075,
           0.030203185063152116,
           0.030752333882482153,
           0.03130148270181219,
           0.03185063152114223,
           0.032399780340472265,
           0.032948929159802305,
           0.033498077979132346,
           0.034047226798462386,
           0.03459637561779242,
           0.03514552443712246,
           0.0356946732564525,
           0.036243822075782535,
           0.036792970895112576,
           0.037342119714442616,
           0.03789126853377265,
           0.03844041735310269,
           0.03898956617243273,
           0.039538714991762765,
           0.040087863811092805,
           0.040637012630422846,
           0.04118616144975288,
           0.04173531026908292,
           0.04228445908841296,
           0.042833607907743,
           0.043382756727073035,
           0.043931905546403076,
           0.044481054365733116,
           0.04503020318506315,
           0.04557935200439319,
           0.04612850082372323,
           0.046677649643053265,
           0.047226798462383306,
           0.047775947281713346,
           0.04832509610104338,
           0.04887424492037342,
           0.04942339373970346,
           0.049972542559033495,
           0.050521691378363535,
           0.051070840197693576,
           0.05161998901702362,
           0.05216913783635365,
           0.05271828665568369,
           0.05326743547501373,
           0.053816584294343765,
           0.054365733113673806,
           0.054914881933003847,
           0.05546403075233388,
           0.05601317957166392,
           0.05656232839099396,
           0.057111477210323995,
           0.057660626029654036,
           0.058209774848984076,
           0.05875892366831411,
           0.05930807248764415,
           0.05985722130697419,
           0.06040637012630423,
           0.060955518945634266,
           0.061504667764964306,
           0.06205381658429435,
           0.06260296540362438,
           0.06315211422295441,
           0.06370126304228446,
           0.0642504118616145,
           0.06479956068094453,
           0.06534870950027458,
           0.06589785831960461,
           0.06644700713893466,
           0.06699615595826469,
           0.06754530477759473,
           0.06809445359692477,
           0.0686436024162548,
           0.06919275123558484,
           0.06974190005491489,
           0.07029104887424492,
           0.07084019769357495,
           0.071389346512905,
           0.07193849533223504,
           0.07248764415156507,
           0.07303679297089512,
           0.07358594179022515,
           0.07413509060955518,
           0.07468423942888523,
           0.07523338824821527,
           0.0757825370675453,
           0.07633168588687535,
           0.07688083470620538,
           0.07742998352553541,
           0.07797913234486546,
           0.0785282811641955,
           0.07907742998352553,
           0.07962657880285558,
           0.08017572762218561,
           0.08072487644151564,
           0.08127402526084569,
           0.08182317408017573,
           0.08237232289950576,
           0.0829214717188358,
           0.08347062053816584,
           0.08401976935749589,
           0.08456891817682592,
           0.08511806699615596,
           0.085667215815486,
           0.08621636463481604,
           0.08676551345414607,
           0.08731466227347612,
           0.08786381109280615,
           0.08841295991213619,
           0.08896210873146623,
           0.08951125755079627,
           0.0900604063701263,
           0.09060955518945635,
           0.09115870400878638,
           0.09170785282811642,
           0.09225700164744646,
           0.0928061504667765,
           0.09335529928610653,
           0.09390444810543658,
           0.09445359692476661,
           0.09500274574409664,
           0.09555189456342669,
           0.09610104338275673,
           0.09665019220208676,
           0.09719934102141681,
           0.09774848984074684,
           0.09829763866007687,
           0.09884678747940692,
           0.09939593629873696,
           0.09994508511806699,
           0.10049423393739704,
           0.10104338275672707,
           0.1015925315760571,
           0.10214168039538715,
           0.10269082921471719,
           0.10323997803404723,
           0.10378912685337727,
           0.1043382756727073,
           0.10488742449203735,
           0.10543657331136738,
           0.10598572213069742,
           0.10653487095002746,
           0.1070840197693575,
           0.10763316858868753,
           0.10818231740801758,
           0.10873146622734761,
           0.10928061504667765,
           0.10982976386600769,
           0.11037891268533773,
           0.11092806150466776,
           0.11147721032399781,
           0.11202635914332784,
           0.11257550796265788,
           0.11312465678198792,
           0.11367380560131796,
           0.11422295442064799,
           0.11477210323997804,
           0.11532125205930807,
           0.1158704008786381,
           0.11641954969796815,
           0.11696869851729819,
           0.11751784733662822,
           0.11806699615595827,
           0.1186161449752883,
           0.11916529379461833,
           0.11971444261394838,
           0.12026359143327842,
           0.12081274025260846,
           0.1213618890719385,
           0.12191103789126853,
           0.12246018671059858,
           0.12300933552992861,
           0.12355848434925865,
           0.1241076331685887,
           0.12465678198791873,
           0.12520593080724876,
           0.1257550796265788,
           0.12630422844590883,
           0.12685337726523888,
           0.12740252608456892,
           0.12795167490389894,
           0.128500823723229,
           0.12904997254255904,
           0.12959912136188906,
           0.1301482701812191,
           0.13069741900054915,
           0.1312465678198792,
           0.13179571663920922,
           0.13234486545853927,
           0.13289401427786932,
           0.13344316309719934,
           0.13399231191652938,
           0.13454146073585943,
           0.13509060955518945,
           0.1356397583745195,
           0.13618890719384955,
           0.13673805601317957,
           0.1372872048325096,
           0.13783635365183966,
           0.13838550247116968,
           0.13893465129049973,
           0.13948380010982978,
           0.1400329489291598,
           0.14058209774848984,
           0.1411312465678199,
           0.1416803953871499,
           0.14222954420647996,
           0.14277869302581,
           0.14332784184514002,
           0.14387699066447007,
           0.14442613948380012,
           0.14497528830313014,
           0.1455244371224602,
           0.14607358594179023,
           0.14662273476112025,
           0.1471718835804503,
           0.14772103239978035,
           0.14827018121911037,
           0.14881933003844042,
           0.14936847885777046,
           0.14991762767710048,
           0.15046677649643053,
           0.15101592531576058,
           0.1515650741350906,
           0.15211422295442065,
           0.1526633717737507,
           0.15321252059308071,
           0.15376166941241076,
           0.1543108182317408,
           0.15485996705107083,
           0.15540911587040088,
           0.15595826468973092,
           0.15650741350906094,
           0.157056562328391,
           0.15760571114772104,
           0.15815485996705106,
           0.1587040087863811,
           0.15925315760571115,
           0.15980230642504117,
           0.16035145524437122,
           0.16090060406370127,
           0.1614497528830313,
           0.16199890170236134,
           0.16254805052169138,
           0.1630971993410214,
           0.16364634816035145,
           0.1641954969796815,
           0.16474464579901152,
           0.16529379461834157,
           0.1658429434376716,
           0.16639209225700163,
           0.16694124107633168,
           0.16749038989566173,
           0.16803953871499178,
           0.1685886875343218,
           0.16913783635365184,
           0.1696869851729819,
           0.1702361339923119,
           0.17078528281164196,
           0.171334431630972,
           0.17188358045030203,
           0.17243272926963207,
           0.17298187808896212,
           0.17353102690829214,
           0.1740801757276222,
           0.17462932454695224,
           0.17517847336628226,
           0.1757276221856123,
           0.17627677100494235,
           0.17682591982427237,
           0.17737506864360242,
           0.17792421746293247,
           0.17847336628226249,
           0.17902251510159253,
           0.17957166392092258,
           0.1801208127402526,
           0.18066996155958265,
           0.1812191103789127,
           0.18176825919824272,
           0.18231740801757276,
           0.1828665568369028,
           0.18341570565623283,
           0.18396485447556288,
           0.18451400329489293,
           0.18506315211422295,
           0.185612300933553,
           0.18616144975288304,
           0.18671059857221306,
           0.1872597473915431,
           0.18780889621087316,
           0.18835804503020318,
           0.18890719384953322,
           0.18945634266886327,
           0.1900054914881933,
           0.19055464030752334,
           0.19110378912685339,
           0.1916529379461834,
           0.19220208676551345,
           0.1927512355848435,
           0.19330038440417352,
           0.19384953322350357,
           0.19439868204283361,
           0.19494783086216363,
           0.19549697968149368,
           0.19604612850082373,
           0.19659527732015375,
           0.1971444261394838,
           0.19769357495881384,
           0.19824272377814386,
           0.1987918725974739,
           0.19934102141680396,
           0.19989017023613398,
           0.20043931905546403,
           0.20098846787479407,
           0.2015376166941241,
           0.20208676551345414,
           0.2026359143327842,
           0.2031850631521142,
           0.20373421197144426,
           0.2042833607907743,
           0.20483250961010435,
           0.20538165842943437,
           0.20593080724876442,
           0.20647995606809447,
           0.2070291048874245,
           0.20757825370675453,
           0.20812740252608458,
           0.2086765513454146,
           0.20922570016474465,
           0.2097748489840747,
           0.21032399780340472,
           0.21087314662273476,
           0.2114222954420648,
           0.21197144426139483,
           0.21252059308072488,
           0.21306974190005493,
           0.21361889071938495,
           0.214168039538715,
           0.21471718835804504,
           0.21526633717737506,
           0.2158154859967051,
           0.21636463481603516,
           0.21691378363536518,
           0.21746293245469522,
           0.21801208127402527,
           0.2185612300933553,
           0.21911037891268534,
           0.21965952773201539,
           0.2202086765513454,
           0.22075782537067545,
           0.2213069741900055,
           0.22185612300933552,
           0.22240527182866557,
           0.22295442064799562,
           0.22350356946732564,
           0.22405271828665568,
           0.22460186710598573,
           0.22515101592531575,
           0.2257001647446458,
           0.22624931356397585,
           0.22679846238330587,
           0.2273476112026359,
           0.22789676002196596,
           0.22844590884129598,
           0.22899505766062603,
           0.22954420647995608,
           0.2300933552992861,
           0.23064250411861614,
           0.2311916529379462,
           0.2317408017572762,
           0.23228995057660626,
           0.2328390993959363,
           0.23338824821526633,
           0.23393739703459637,
           0.23448654585392642,
           0.23503569467325644,
           0.2355848434925865,
           0.23613399231191654,
           0.23668314113124655,
           0.2372322899505766,
           0.23778143876990665,
           0.23833058758923667,
           0.23887973640856672,
           0.23942888522789676,
           0.23997803404722678,
           0.24052718286655683,
           0.24107633168588688,
           0.24162548050521693,
           0.24217462932454695,
           0.242723778143877,
           0.24327292696320704,
           0.24382207578253706,
           0.2443712246018671,
           0.24492037342119716,
           0.24546952224052718,
           0.24601867105985722,
           0.24656781987918727,
           0.2471169686985173,
           0.24766611751784734,
           0.2482152663371774,
           0.2487644151565074,
           0.24931356397583745,
           0.2498627127951675,
           0.2504118616144975,
           0.25096101043382757,
           0.2515101592531576,
           0.25205930807248766,
           0.25260845689181766,
           0.2531576057111477,
           0.25370675453047775,
           0.2542559033498078,
           0.25480505216913785,
           0.2553542009884679,
           0.2559033498077979,
           0.25645249862712793,
           0.257001647446458,
           0.25755079626578803,
           0.2580999450851181,
           0.2586490939044481,
           0.2591982427237781,
           0.25974739154310816,
           0.2602965403624382,
           0.26084568918176826,
           0.2613948380010983,
           0.26194398682042835,
           0.2624931356397584,
           0.2630422844590884,
           0.26359143327841844,
           0.2641405820977485,
           0.26468973091707854,
           0.2652388797364086,
           0.26578802855573863,
           0.2663371773750686,
           0.26688632619439867,
           0.2674354750137287,
           0.26798462383305877,
           0.2685337726523888,
           0.26908292147171886,
           0.26963207029104885,
           0.2701812191103789,
           0.27073036792970895,
           0.271279516749039,
           0.27182866556836904,
           0.2723778143876991,
           0.2729269632070291,
           0.27347611202635913,
           0.2740252608456892,
           0.2745744096650192,
           0.2751235584843493,
           0.2756727073036793,
           0.2762218561230093,
           0.27677100494233936,
           0.2773201537616694,
           0.27786930258099946,
           0.2784184514003295,
           0.27896760021965955,
           0.27951674903898954,
           0.2800658978583196,
           0.28061504667764964,
           0.2811641954969797,
           0.28171334431630973,
           0.2822624931356398,
           0.2828116419549698,
           0.2833607907742998,
           0.28390993959362987,
           0.2844590884129599,
           0.28500823723228996,
           0.28555738605162,
           0.28610653487095,
           0.28665568369028005,
           0.2872048325096101,
           0.28775398132894014,
           0.2883031301482702,
           0.28885227896760024,
           0.28940142778693023,
           0.2899505766062603,
           0.2904997254255903,
           0.2910488742449204,
           0.2915980230642504,
           0.29214717188358047,
           0.29269632070291046,
           0.2932454695222405,
           0.29379461834157056,
           0.2943437671609006,
           0.29489291598023065,
           0.2954420647995607,
           0.2959912136188907,
           0.29654036243822074,
           0.2970895112575508,
           0.29763866007688083,
           0.2981878088962109,
           0.29873695771554093,
           0.299286106534871,
           0.29983525535420097,
           0.300384404173531,
           0.30093355299286106,
           0.3014827018121911,
           0.30203185063152116,
           0.3025809994508512,
           0.3031301482701812,
           0.30367929708951125,
           0.3042284459088413,
           0.30477759472817134,
           0.3053267435475014,
           0.30587589236683144,
           0.30642504118616143,
           0.3069741900054915,
           0.3075233388248215,
           0.30807248764415157,
           0.3086216364634816,
           0.30917078528281167,
           0.30971993410214166,
           0.3102690829214717,
           0.31081823174080175,
           0.3113673805601318,
           0.31191652937946185,
           0.3124656781987919,
           0.3130148270181219,
           0.31356397583745194,
           0.314113124656782,
           0.31466227347611203,
           0.3152114222954421,
           0.3157605711147721,
           0.3163097199341021,
           0.31685886875343217,
           0.3174080175727622,
           0.31795716639209226,
           0.3185063152114223,
           0.31905546403075236,
           0.31960461285008235,
           0.3201537616694124,
           0.32070291048874244,
           0.3212520593080725,
           0.32180120812740254,
           0.3223503569467326,
           0.3228995057660626,
           0.3234486545853926,
           0.3239978034047227,
           0.3245469522240527,
           0.32509610104338277,
           0.3256452498627128,
           0.3261943986820428,
           0.32674354750137286,
           0.3272926963207029,
           0.32784184514003295,
           0.328390993959363,
           0.32894014277869305,
           0.32948929159802304,
           0.3300384404173531,
           0.33058758923668313,
           0.3311367380560132,
           0.3316858868753432,
           0.3322350356946733,
           0.33278418451400327,
           0.3333333333333333,
           0.33388248215266336,
           0.3344316309719934,
           0.33498077979132346,
           0.3355299286106535,
           0.33607907742998355,
           0.33662822624931354,
           0.3371773750686436,
           0.33772652388797364,
           0.3382756727073037,
           0.33882482152663373,
           0.3393739703459638,
           0.3399231191652938,
           0.3404722679846238,
           0.34102141680395387,
           0.3415705656232839,
           0.34211971444261396,
           0.342668863261944,
           0.343218012081274,
           0.34376716090060405,
           0.3443163097199341,
           0.34486545853926415,
           0.3454146073585942,
           0.34596375617792424,
           0.34651290499725423,
           0.3470620538165843,
           0.34761120263591433,
           0.3481603514552444,
           0.3487095002745744,
           0.34925864909390447,
           0.34980779791323446,
           0.3503569467325645,
           0.35090609555189456,
           0.3514552443712246,
           0.35200439319055465,
           0.3525535420098847,
           0.3531026908292147,
           0.35365183964854474,
           0.3542009884678748,
           0.35475013728720484,
           0.3552992861065349,
           0.35584843492586493,
           0.3563975837451949,
           0.35694673256452497,
           0.357495881383855,
           0.35804503020318507,
           0.3585941790225151,
           0.35914332784184516,
           0.35969247666117515,
           0.3602416254805052,
           0.36079077429983525,
           0.3613399231191653,
           0.36188907193849534,
           0.3624382207578254,
           0.3629873695771554,
           0.36353651839648543,
           0.3640856672158155,
           0.3646348160351455,
           0.3651839648544756,
           0.3657331136738056,
           0.3662822624931356,
           0.36683141131246566,
           0.3673805601317957,
           0.36792970895112576,
           0.3684788577704558,
           0.36902800658978585,
           0.36957715540911584,
           0.3701263042284459,
           0.37067545304777594,
           0.371224601867106,
           0.37177375068643603,
           0.3723228995057661,
           0.37287204832509613,
           0.3734211971444261,
           0.37397034596375617,
           0.3745194947830862,
           0.37506864360241626,
           0.3756177924217463,
           0.37616694124107636,
           0.37671609006040635,
           0.3772652388797364,
           0.37781438769906645,
           0.3783635365183965,
           0.37891268533772654,
           0.3794618341570566,
           0.3800109829763866,
           0.3805601317957166,
           0.3811092806150467,
           0.3816584294343767,
           0.38220757825370677,
           0.3827567270730368,
           0.3833058758923668,
           0.38385502471169686,
           0.3844041735310269,
           0.38495332235035695,
           0.385502471169687,
           0.38605161998901705,
           0.38660076880834704,
           0.3871499176276771,
           0.38769906644700713,
           0.3882482152663372,
           0.38879736408566723,
           0.3893465129049973,
           0.38989566172432727,
           0.3904448105436573,
           0.39099395936298736,
           0.3915431081823174,
           0.39209225700164746,
           0.3926414058209775,
           0.3931905546403075,
           0.39373970345963755,
           0.3942888522789676,
           0.39483800109829764,
           0.3953871499176277,
           0.39593629873695774,
           0.39648544755628773,
           0.3970345963756178,
           0.3975837451949478,
           0.39813289401427787,
           0.3986820428336079,
           0.39923119165293797,
           0.39978034047226796,
           0.400329489291598,
           0.40087863811092805,
           0.4014277869302581,
           0.40197693574958815,
           0.4025260845689182,
           0.4030752333882482,
           0.40362438220757824,
           0.4041735310269083,
           0.40472267984623833,
           0.4052718286655684,
           0.4058209774848984,
           0.4063701263042284,
           0.40691927512355847,
           0.4074684239428885,
           0.40801757276221856,
           0.4085667215815486,
           0.40911587040087866,
           0.4096650192202087,
           0.4102141680395387,
           0.41076331685886874,
           0.4113124656781988,
           0.41186161449752884,
           0.4124107633168589,
           0.41295991213618893,
           0.4135090609555189,
           0.414058209774849,
           0.414607358594179,
           0.41515650741350907,
           0.4157056562328391,
           0.41625480505216916,
           0.41680395387149916,
           0.4173531026908292,
           0.41790225151015925,
           0.4184514003294893,
           0.41900054914881935,
           0.4195496979681494,
           0.4200988467874794,
           0.42064799560680943,
           0.4211971444261395,
           0.42174629324546953,
           0.4222954420647996,
           0.4228445908841296,
           0.4233937397034596,
           0.42394288852278966,
           0.4244920373421197,
           0.42504118616144976,
           0.4255903349807798,
           0.42613948380010985,
           0.42668863261943984,
           0.4272377814387699,
           0.42778693025809994,
           0.42833607907743,
           0.42888522789676004,
           0.4294343767160901,
           0.4299835255354201,
           0.4305326743547501,
           0.43108182317408017,
           0.4316309719934102,
           0.43218012081274026,
           0.4327292696320703,
           0.4332784184514003,
           0.43382756727073035,
           0.4343767160900604,
           0.43492586490939045,
           0.4354750137287205,
           0.43602416254805054,
           0.43657331136738053,
           0.4371224601867106,
           0.43767160900604063,
           0.4382207578253707,
           0.4387699066447007,
           0.43931905546403077,
           0.43986820428336076,
           0.4404173531026908,
           0.44096650192202086,
           0.4415156507413509,
           0.44206479956068095,
           0.442613948380011,
           0.443163097199341,
           0.44371224601867104,
           0.4442613948380011,
           0.44481054365733114,
           0.4453596924766612,
           0.44590884129599123,
           0.4464579901153213,
           0.44700713893465127,
           0.4475562877539813,
           0.44810543657331137,
           0.4486545853926414,
           0.44920373421197146,
           0.4497528830313015,
           0.4503020318506315,
           0.45085118066996155,
           0.4514003294892916,
           0.45194947830862164,
           0.4524986271279517,
           0.45304777594728174,
           0.45359692476661173,
           0.4541460735859418,
           0.4546952224052718,
           0.4552443712246019,
           0.4557935200439319,
           0.45634266886326197,
           0.45689181768259196,
           0.457440966501922,
           0.45799011532125206,
           0.4585392641405821,
           0.45908841295991215,
           0.4596375617792422,
           0.4601867105985722,
           0.46073585941790224,
           0.4612850082372323,
           0.46183415705656233,
           0.4623833058758924,
           0.46293245469522243,
           0.4634816035145524,
           0.46403075233388247,
           0.4645799011532125,
           0.46512904997254256,
           0.4656781987918726,
           0.46622734761120266,
           0.46677649643053265,
           0.4673256452498627,
           0.46787479406919275,
           0.4684239428885228,
           0.46897309170785284,
           0.4695222405271829,
           0.4700713893465129,
           0.4706205381658429,
           0.471169686985173,
           0.471718835804503,
           0.47226798462383307,
           0.4728171334431631,
           0.4733662822624931,
           0.47391543108182316,
           0.4744645799011532,
           0.47501372872048325,
           0.4755628775398133,
           0.47611202635914335,
           0.47666117517847334,
           0.4772103239978034,
           0.47775947281713343,
           0.4783086216364635,
           0.47885777045579353,
           0.4794069192751236,
           0.47995606809445357,
           0.4805052169137836,
           0.48105436573311366,
           0.4816035145524437,
           0.48215266337177376,
           0.4827018121911038,
           0.48325096101043385,
           0.48380010982976385,
           0.4843492586490939,
           0.48489840746842394,
           0.485447556287754,
           0.48599670510708404,
           0.4865458539264141,
           0.4870950027457441,
           0.4876441515650741,
           0.48819330038440417,
           0.4887424492037342,
           0.48929159802306427,
           0.4898407468423943,
           0.4903898956617243,
           0.49093904448105435,
           0.4914881933003844,
           0.49203734211971445,
           0.4925864909390445,
           0.49313563975837454,
           0.49368478857770454,
           0.4942339373970346,
           0.49478308621636463,
           0.4953322350356947,
           0.4958813838550247,
           0.4964305326743548,
           0.49697968149368477,
           0.4975288303130148,
           0.49807797913234486,
           0.4986271279516749,
           0.49917627677100496,
           0.499725425590335,
           0.500274574409665,
           0.500823723228995,
           0.5013728720483251,
           0.5019220208676551,
           0.5024711696869851,
           0.5030203185063152,
           0.5035694673256452,
           0.5041186161449753,
           0.5046677649643053,
           0.5052169137836353,
           0.5057660626029654,
           0.5063152114222954,
           0.5068643602416255,
           0.5074135090609555,
           0.5079626578802856,
           0.5085118066996156,
           0.5090609555189456,
           0.5096101043382757,
           0.5101592531576057,
           0.5107084019769358,
           0.5112575507962658,
           0.5118066996155958,
           0.5123558484349259,
           0.5129049972542559,
           0.513454146073586,
           0.514003294892916,
           0.5145524437122461,
           0.5151015925315761,
           0.515650741350906,
           0.5161998901702362,
           0.5167490389895661,
           0.5172981878088962,
           0.5178473366282262,
           0.5183964854475562,
           0.5189456342668863,
           0.5194947830862163,
           0.5200439319055464,
           0.5205930807248764,
           0.5211422295442065,
           0.5216913783635365,
           0.5222405271828665,
           0.5227896760021966,
           0.5233388248215266,
           0.5238879736408567,
           0.5244371224601867,
           0.5249862712795168,
           0.5255354200988468,
           0.5260845689181768,
           0.5266337177375069,
           0.5271828665568369,
           0.527732015376167,
           0.528281164195497,
           0.528830313014827,
           0.5293794618341571,
           0.5299286106534871,
           0.5304777594728172,
           0.5310269082921472,
           0.5315760571114773,
           0.5321252059308073,
           0.5326743547501372,
           0.5332235035694673,
           0.5337726523887973,
           0.5343218012081274,
           0.5348709500274574,
           0.5354200988467874,
           0.5359692476661175,
           0.5365183964854475,
           0.5370675453047776,
           0.5376166941241076,
           0.5381658429434377,
           0.5387149917627677,
           0.5392641405820977,
           0.5398132894014278,
           0.5403624382207578,
           0.5409115870400879,
           0.5414607358594179,
           0.5420098846787479,
           0.542559033498078,
           0.543108182317408,
           0.5436573311367381,
           0.5442064799560681,
           0.5447556287753982,
           0.5453047775947282,
           0.5458539264140582,
           0.5464030752333883,
           0.5469522240527183,
           0.5475013728720484,
           0.5480505216913784,
           0.5485996705107083,
           0.5491488193300385,
           0.5496979681493684,
           0.5502471169686985,
           0.5507962657880285,
           0.5513454146073586,
           0.5518945634266886,
           0.5524437122460186,
           0.5529928610653487,
           0.5535420098846787,
           0.5540911587040088,
           0.5546403075233388,
           0.5551894563426688,
           0.5557386051619989,
           0.5562877539813289,
           0.556836902800659,
           0.557386051619989,
           0.5579352004393191,
           0.5584843492586491,
           0.5590334980779791,
           0.5595826468973092,
           0.5601317957166392,
           0.5606809445359693,
           0.5612300933552993,
           0.5617792421746294,
           0.5623283909939594,
           0.5628775398132894,
           0.5634266886326195,
           0.5639758374519495,
           0.5645249862712796,
           0.5650741350906096,
           0.5656232839099395,
           0.5661724327292696,
           0.5667215815485996,
           0.5672707303679297,
           0.5678198791872597,
           0.5683690280065898,
           0.5689181768259198,
           0.5694673256452498,
           0.5700164744645799,
           0.5705656232839099,
           0.57111477210324,
           0.57166392092257,
           0.5722130697419,
           0.5727622185612301,
           0.5733113673805601,
           0.5738605161998902,
           0.5744096650192202,
           0.5749588138385503,
           0.5755079626578803,
           0.5760571114772103,
           0.5766062602965404,
           0.5771554091158704,
           0.5777045579352005,
           0.5782537067545305,
           0.5788028555738605,
           0.5793520043931906,
           0.5799011532125206,
           0.5804503020318507,
           0.5809994508511807,
           0.5815485996705108,
           0.5820977484898407,
           0.5826468973091707,
           0.5831960461285008,
           0.5837451949478308,
           0.5842943437671609,
           0.5848434925864909,
           0.5853926414058209,
           0.585941790225151,
           0.586490939044481,
           0.5870400878638111,
           0.5875892366831411,
           0.5881383855024712,
           0.5886875343218012,
           0.5892366831411312,
           0.5897858319604613,
           0.5903349807797913,
           0.5908841295991214,
           0.5914332784184514,
           0.5919824272377814,
           0.5925315760571115,
           0.5930807248764415,
           0.5936298736957716,
           0.5941790225151016,
           0.5947281713344317,
           0.5952773201537617,
           0.5958264689730917,
           0.5963756177924218,
           0.5969247666117518,
           0.5974739154310819,
           0.5980230642504119,
           0.598572213069742,
           0.599121361889072,
           0.5996705107084019,
           0.600219659527732,
           0.600768808347062,
           0.6013179571663921,
           0.6018671059857221,
           0.6024162548050521,
           0.6029654036243822,
           0.6035145524437122,
           0.6040637012630423,
           0.6046128500823723,
           0.6051619989017024,
           0.6057111477210324,
           0.6062602965403624,
           0.6068094453596925,
           0.6073585941790225,
           0.6079077429983526,
           0.6084568918176826,
           0.6090060406370126,
           0.6095551894563427,
           0.6101043382756727,
           0.6106534870950028,
           0.6112026359143328,
           0.6117517847336629,
           0.6123009335529929,
           0.6128500823723229,
           0.613399231191653,
           0.613948380010983,
           0.6144975288303131,
           0.615046677649643,
           0.615595826468973,
           0.6161449752883031,
           0.6166941241076331,
           0.6172432729269632,
           0.6177924217462932,
           0.6183415705656233,
           0.6188907193849533,
           0.6194398682042833,
           0.6199890170236134,
           0.6205381658429434,
           0.6210873146622735,
           0.6216364634816035,
           0.6221856123009335,
           0.6227347611202636,
           0.6232839099395936,
           0.6238330587589237,
           0.6243822075782537,
           0.6249313563975838,
           0.6254805052169138,
           0.6260296540362438,
           0.6265788028555739,
           0.6271279516749039,
           0.627677100494234,
           0.628226249313564,
           0.628775398132894,
           0.6293245469522241,
           0.629873695771554,
           0.6304228445908842,
           0.6309719934102141,
           0.6315211422295443,
           0.6320702910488742,
           0.6326194398682042,
           0.6331685886875343,
           0.6337177375068643,
           0.6342668863261944,
           0.6348160351455244,
           0.6353651839648545,
           0.6359143327841845,
           0.6364634816035145,
           0.6370126304228446,
           0.6375617792421746,
           0.6381109280615047,
           0.6386600768808347,
           0.6392092257001647,
           0.6397583745194948,
           0.6403075233388248,
           0.6408566721581549,
           0.6414058209774849,
           0.641954969796815,
           0.642504118616145,
           0.643053267435475,
           0.6436024162548051,
           0.6441515650741351,
           0.6447007138934652,
           0.6452498627127952,
           0.6457990115321252,
           0.6463481603514553,
           0.6468973091707853,
           0.6474464579901154,
           0.6479956068094453,
           0.6485447556287754,
           0.6490939044481054,
           0.6496430532674354,
           0.6501922020867655,
           0.6507413509060955,
           0.6512904997254256,
           0.6518396485447556,
           0.6523887973640856,
           0.6529379461834157,
           0.6534870950027457,
           0.6540362438220758,
           0.6545853926414058,
           0.6551345414607359,
           0.6556836902800659,
           0.6562328390993959,
           0.656781987918726,
           0.657331136738056,
           0.6578802855573861,
           0.6584294343767161,
           0.6589785831960461,
           0.6595277320153762,
           0.6600768808347062,
           0.6606260296540363,
           0.6611751784733663,
           0.6617243272926964,
           0.6622734761120264,
           0.6628226249313564,
           0.6633717737506865,
           0.6639209225700164,
           0.6644700713893466,
           0.6650192202086765,
           0.6655683690280065,
           0.6661175178473366,
           0.6666666666666666,
           0.6672158154859967,
           0.6677649643053267,
           0.6683141131246568,
           0.6688632619439868,
           0.6694124107633168,
           0.6699615595826469,
           0.6705107084019769,
           0.671059857221307,
           0.671609006040637,
           0.6721581548599671,
           0.6727073036792971,
           0.6732564524986271,
           0.6738056013179572,
           0.6743547501372872,
           0.6749038989566173,
           0.6754530477759473,
           0.6760021965952773,
           0.6765513454146074,
           0.6771004942339374,
           0.6776496430532675,
           0.6781987918725975,
           0.6787479406919276,
           0.6792970895112576,
           0.6798462383305875,
           0.6803953871499177,
           0.6809445359692476,
           0.6814936847885777,
           0.6820428336079077,
           0.6825919824272377,
           0.6831411312465678,
           0.6836902800658978,
           0.6842394288852279,
           0.6847885777045579,
           0.685337726523888,
           0.685886875343218,
           0.686436024162548,
           0.6869851729818781,
           0.6875343218012081,
           0.6880834706205382,
           0.6886326194398682,
           0.6891817682591982,
           0.6897309170785283,
           0.6902800658978583,
           0.6908292147171884,
           0.6913783635365184,
           0.6919275123558485,
           0.6924766611751785,
           0.6930258099945085,
           0.6935749588138386,
           0.6941241076331686,
           0.6946732564524987,
           0.6952224052718287,
           0.6957715540911587,
           0.6963207029104888,
           0.6968698517298187,
           0.6974190005491488,
           0.6979681493684788,
           0.6985172981878089,
           0.6990664470071389,
           0.6996155958264689,
           0.700164744645799,
           0.700713893465129,
           0.7012630422844591,
           0.7018121911037891,
           0.7023613399231191,
           0.7029104887424492,
           0.7034596375617792,
           0.7040087863811093,
           0.7045579352004393,
           0.7051070840197694,
           0.7056562328390994,
           0.7062053816584294,
           0.7067545304777595,
           0.7073036792970895,
           0.7078528281164196,
           0.7084019769357496,
           0.7089511257550797,
           0.7095002745744097,
           0.7100494233937397,
           0.7105985722130698,
           0.7111477210323998,
           0.7116968698517299,
           0.7122460186710599,
           0.7127951674903898,
           0.71334431630972,
           0.7138934651290499,
           0.71444261394838,
           0.71499176276771,
           0.7155409115870401,
           0.7160900604063701,
           0.7166392092257001,
           0.7171883580450302,
           0.7177375068643602,
           0.7182866556836903,
           0.7188358045030203,
           0.7193849533223503,
           0.7199341021416804,
           0.7204832509610104,
           0.7210323997803405,
           0.7215815485996705,
           0.7221306974190006,
           0.7226798462383306,
           0.7232289950576606,
           0.7237781438769907,
           0.7243272926963207,
           0.7248764415156508,
           0.7254255903349808,
           0.7259747391543108,
           0.7265238879736409,
           0.7270730367929709,
           0.727622185612301,
           0.728171334431631,
           0.7287204832509611,
           0.729269632070291,
           0.729818780889621,
           0.7303679297089511,
           0.7309170785282811,
           0.7314662273476112,
           0.7320153761669412,
           0.7325645249862712,
           0.7331136738056013,
           0.7336628226249313,
           0.7342119714442614,
           0.7347611202635914,
           0.7353102690829215,
           0.7358594179022515,
           0.7364085667215815,
           0.7369577155409116,
           0.7375068643602416,
           0.7380560131795717,
           0.7386051619989017,
           0.7391543108182317,
           0.7397034596375618,
           0.7402526084568918,
           0.7408017572762219,
           0.7413509060955519,
           0.741900054914882,
           0.742449203734212,
           0.742998352553542,
           0.7435475013728721,
           0.7440966501922021,
           0.7446457990115322,
           0.7451949478308622,
           0.7457440966501923,
           0.7462932454695222,
           0.7468423942888522,
           0.7473915431081823,
           0.7479406919275123,
           0.7484898407468424,
           0.7490389895661724,
           0.7495881383855024,
           0.7501372872048325,
           0.7506864360241625,
           0.7512355848434926,
           0.7517847336628226,
           0.7523338824821527,
           0.7528830313014827,
           0.7534321801208127,
           0.7539813289401428,
           0.7545304777594728,
           0.7550796265788029,
           0.7556287753981329,
           0.7561779242174629,
           0.756727073036793,
           0.757276221856123,
           0.7578253706754531,
           0.7583745194947831,
           0.7589236683141132,
           0.7594728171334432,
           0.7600219659527732,
           0.7605711147721033,
           0.7611202635914333,
           0.7616694124107634,
           0.7622185612300933,
           0.7627677100494233,
           0.7633168588687534,
           0.7638660076880834,
           0.7644151565074135,
           0.7649643053267435,
           0.7655134541460736,
           0.7660626029654036,
           0.7666117517847336,
           0.7671609006040637,
           0.7677100494233937,
           0.7682591982427238,
           0.7688083470620538,
           0.7693574958813838,
           0.7699066447007139,
           0.7704557935200439,
           0.771004942339374,
           0.771554091158704,
           0.7721032399780341,
           0.7726523887973641,
           0.7732015376166941,
           0.7737506864360242,
           0.7742998352553542,
           0.7748489840746843,
           0.7753981328940143,
           0.7759472817133443,
           0.7764964305326744,
           0.7770455793520044,
           0.7775947281713345,
           0.7781438769906645,
           0.7786930258099946,
           0.7792421746293245,
           0.7797913234486545,
           0.7803404722679846,
           0.7808896210873146,
           0.7814387699066447,
           0.7819879187259747,
           0.7825370675453048,
           0.7830862163646348,
           0.7836353651839648,
           0.7841845140032949,
           0.7847336628226249,
           0.785282811641955,
           0.785831960461285,
           0.786381109280615,
           0.7869302580999451,
           0.7874794069192751,
           0.7880285557386052,
           0.7885777045579352,
           0.7891268533772653,
           0.7896760021965953,
           0.7902251510159253,
           0.7907742998352554,
           0.7913234486545854,
           0.7918725974739155,
           0.7924217462932455,
           0.7929708951125755,
           0.7935200439319056,
           0.7940691927512356,
           0.7946183415705657,
           0.7951674903898956,
           0.7957166392092258,
           0.7962657880285557,
           0.7968149368478857,
           0.7973640856672158,
           0.7979132344865458,
           0.7984623833058759,
           0.7990115321252059,
           0.7995606809445359,
           0.800109829763866,
           0.800658978583196,
           0.8012081274025261,
           0.8017572762218561,
           0.8023064250411862,
           0.8028555738605162,
           0.8034047226798462,
           0.8039538714991763,
           0.8045030203185063,
           0.8050521691378364,
           0.8056013179571664,
           0.8061504667764964,
           0.8066996155958265,
           0.8072487644151565,
           0.8077979132344866,
           0.8083470620538166,
           0.8088962108731467,
           0.8094453596924767,
           0.8099945085118067,
           0.8105436573311368,
           0.8110928061504667,
           0.8116419549697969,
           0.8121911037891268,
           0.8127402526084568,
           0.8132894014277869,
           0.8138385502471169,
           0.814387699066447,
           0.814936847885777,
           0.8154859967051071,
           0.8160351455244371,
           0.8165842943437671,
           0.8171334431630972,
           0.8176825919824272,
           0.8182317408017573,
           0.8187808896210873,
           0.8193300384404174,
           0.8198791872597474,
           0.8204283360790774,
           0.8209774848984075,
           0.8215266337177375,
           0.8220757825370676,
           0.8226249313563976,
           0.8231740801757276,
           0.8237232289950577,
           0.8242723778143877,
           0.8248215266337178,
           0.8253706754530478,
           0.8259198242723779,
           0.8264689730917079,
           0.8270181219110379,
           0.827567270730368,
           0.828116419549698,
           0.828665568369028,
           0.829214717188358,
           0.829763866007688,
           0.8303130148270181,
           0.8308621636463481,
           0.8314113124656782,
           0.8319604612850082,
           0.8325096101043383,
           0.8330587589236683,
           0.8336079077429983,
           0.8341570565623284,
           0.8347062053816584,
           0.8352553542009885,
           0.8358045030203185,
           0.8363536518396485,
           0.8369028006589786,
           0.8374519494783086,
           0.8380010982976387,
           0.8385502471169687,
           0.8390993959362988,
           0.8396485447556288,
           0.8401976935749588,
           0.8407468423942889,
           0.8412959912136189,
           0.841845140032949,
           0.842394288852279,
           0.842943437671609,
           0.8434925864909391,
           0.844041735310269,
           0.8445908841295992,
           0.8451400329489291,
           0.8456891817682592,
           0.8462383305875892,
           0.8467874794069192,
           0.8473366282262493,
           0.8478857770455793,
           0.8484349258649094,
           0.8489840746842394,
           0.8495332235035694,
           0.8500823723228995,
           0.8506315211422295,
           0.8511806699615596,
           0.8517298187808896,
           0.8522789676002197,
           0.8528281164195497,
           0.8533772652388797,
           0.8539264140582098,
           0.8544755628775398,
           0.8550247116968699,
           0.8555738605161999,
           0.85612300933553,
           0.85667215815486,
           0.85722130697419,
           0.8577704557935201,
           0.8583196046128501,
           0.8588687534321802,
           0.8594179022515102,
           0.8599670510708401,
           0.8605161998901703,
           0.8610653487095002,
           0.8616144975288303,
           0.8621636463481603,
           0.8627127951674904,
           0.8632619439868204,
           0.8638110928061504,
           0.8643602416254805,
           0.8649093904448105,
           0.8654585392641406,
           0.8660076880834706,
           0.8665568369028006,
           0.8671059857221307,
           0.8676551345414607,
           0.8682042833607908,
           0.8687534321801208,
           0.8693025809994509,
           0.8698517298187809,
           0.8704008786381109,
           0.870950027457441,
           0.871499176276771,
           0.8720483250961011,
           0.8725974739154311,
           0.8731466227347611,
           0.8736957715540912,
           0.8742449203734212,
           0.8747940691927513,
           0.8753432180120813,
           0.8758923668314114,
           0.8764415156507414,
           0.8769906644700713,
           0.8775398132894014,
           0.8780889621087314,
           0.8786381109280615,
           0.8791872597473915,
           0.8797364085667215,
           0.8802855573860516,
           0.8808347062053816,
           0.8813838550247117,
           0.8819330038440417,
           0.8824821526633718,
           0.8830313014827018,
           0.8835804503020318,
           0.8841295991213619,
           0.8846787479406919,
           0.885227896760022,
           0.885777045579352,
           0.886326194398682,
           0.8868753432180121,
           0.8874244920373421,
           0.8879736408566722,
           0.8885227896760022,
           0.8890719384953323,
           0.8896210873146623,
           0.8901702361339923,
           0.8907193849533224,
           0.8912685337726524,
           0.8918176825919825,
           0.8923668314113125,
           0.8929159802306426,
           0.8934651290499726,
           0.8940142778693025,
           0.8945634266886326,
           0.8951125755079626,
           0.8956617243272927,
           0.8962108731466227,
           0.8967600219659527,
           0.8973091707852828,
           0.8978583196046128,
           0.8984074684239429,
           0.8989566172432729
          ],
          "coloraxis": "coloraxis",
          "symbol": "circle"
         },
         "mode": "markers",
         "name": "",
         "showlegend": false,
         "x": [
          7.0,
          1376.0,
          59.0,
          68.0,
          105.0,
          22.0,
          1163.0,
          4.0,
          347.0,
          34.0,
          1.0,
          28.0,
          127.0,
          54.0,
          37.0,
          266.0,
          887.0,
          290.0,
          7.0,
          192.0,
          1.0,
          1158.0,
          19.0,
          438.0,
          7.0,
          10.0,
          13.0,
          678.0,
          31.0,
          1094.0,
          25.0,
          28.0,
          1.0,
          34.0,
          1.0,
          222.0,
          987.0,
          22.0,
          1.0,
          929.0,
          37.0,
          86.0,
          7.0,
          40.0,
          1.0,
          338.0,
          117.0,
          4.0,
          25.0,
          10.0,
          671.0,
          148.0,
          145.0,
          982.0,
          431.0,
          4.0,
          13.0,
          922.0,
          259.0,
          4.0,
          7.0,
          1094.0,
          1.0,
          16.0,
          19.0,
          10.0,
          1147.0,
          4.0,
          1.0,
          112.0,
          65.0,
          1295.0,
          185.0,
          660.0,
          1.0,
          72.0,
          13.0,
          52.0,
          95.0,
          122.0,
          1.0,
          466.0,
          215.0,
          100.0,
          25.0,
          422.0,
          13.0,
          956.0,
          1.0,
          10.0,
          7.0,
          28.0,
          855.0,
          902.0,
          31.0,
          4.0,
          649.0,
          10.0,
          1.0,
          276.0,
          1.0,
          252.0,
          25.0,
          4.0,
          63.0,
          1330.0,
          3263.0,
          4.0,
          7.0,
          54.0,
          141.0,
          842.0,
          1.0,
          140.0,
          7.0,
          4.0,
          415.0,
          112.0,
          37.0,
          320.0,
          723.0,
          936.0,
          1.0,
          16.0,
          1.0,
          178.0,
          49.0,
          1249.0,
          1.0,
          208.0,
          81.0,
          1306.0,
          7.0,
          22.0,
          19.0,
          16.0,
          13.0,
          10.0,
          925.0,
          448.0,
          269.0,
          1088.0,
          107.0,
          4.0,
          245.0,
          10.0,
          117.0,
          406.0,
          19.0,
          820.0,
          7.0,
          28.0,
          1.0,
          34.0,
          1.0,
          926.0,
          311.0,
          1290.0,
          1.0,
          16.0,
          31.0,
          90.0,
          95.0,
          4.0,
          1.0,
          616.0,
          13.0,
          4.0,
          437.0,
          136.0,
          37.0,
          1070.0,
          67.0,
          60.0,
          135.0,
          4.0,
          201.0,
          34.0,
          171.0,
          4.0,
          7.0,
          262.0,
          31.0,
          847.0,
          1.0,
          10.0,
          49.0,
          238.0,
          107.0,
          900.0,
          19.0,
          28.0,
          25.0,
          304.0,
          1.0,
          16.0,
          1245.0,
          428.0,
          7.0,
          4.0,
          1.0,
          1046.0,
          1.0,
          4.0,
          681.0,
          58.0,
          785.0,
          16.0,
          1.0,
          388.0,
          25.0,
          596.0,
          1.0,
          112.0,
          1.0,
          102.0,
          51.0,
          10.0,
          19.0,
          76.0,
          1.0,
          974.0,
          255.0,
          194.0,
          1.0,
          776.0,
          421.0,
          4.0,
          131.0,
          22.0,
          231.0,
          166.0,
          19.0,
          10.0,
          585.0,
          130.0,
          13.0,
          814.0,
          1.0,
          46.0,
          379.0,
          90.0,
          1.0,
          16.0,
          85.0,
          22.0,
          1013.0,
          4.0,
          1195.0,
          34.0,
          1.0,
          28.0,
          7.0,
          948.0,
          1.0,
          412.0,
          13.0,
          574.0,
          7.0,
          102.0,
          19.0,
          1002.0,
          1.0,
          248.0,
          25.0,
          10.0,
          13.0,
          290.0,
          1.0,
          62.0,
          187.0,
          370.0,
          1.0,
          224.0,
          849.0,
          4.0,
          55.0,
          22.0,
          1.0,
          16.0,
          107.0,
          1114.0,
          741.0,
          4.0,
          161.0,
          926.0,
          13.0,
          126.0,
          97.0,
          10.0,
          1.0,
          838.0,
          31.0,
          22.0,
          7.0,
          46.0,
          125.0,
          34.0,
          1.0,
          4.0,
          1147.0,
          730.0,
          363.0,
          554.0,
          241.0,
          10.0,
          55.0,
          4.0,
          71.0,
          772.0,
          1.0,
          28.0,
          7.0,
          394.0,
          31.0,
          16.0,
          217.0,
          182.0,
          25.0,
          4.0,
          85.0,
          958.0,
          1.0,
          48.0,
          7.0,
          814.0,
          547.0,
          80.0,
          1.0,
          10.0,
          97.0,
          28.0,
          1.0,
          356.0,
          1.0,
          4.0,
          949.0,
          156.0,
          1.0,
          710.0,
          1.0,
          276.0,
          385.0,
          4.0,
          19.0,
          234.0,
          121.0,
          102.0,
          7.0,
          538.0,
          1.0,
          936.0,
          43.0,
          10.0,
          25.0,
          4.0,
          13.0,
          120.0,
          699.0,
          210.0,
          7.0,
          92.0,
          1.0,
          747.0,
          177.0,
          1092.0,
          59.0,
          4.0,
          1.0,
          1382.0,
          1.0,
          378.0,
          527.0,
          22.0,
          1.0,
          16.0,
          777.0,
          690.0,
          269.0,
          52.0,
          31.0,
          916.0,
          1.0,
          4.0,
          7.0,
          10.0,
          229.0,
          16.0,
          1.0,
          22.0,
          151.0,
          1064.0,
          1.0,
          766.0,
          1.0,
          342.0,
          679.0,
          68.0,
          1.0,
          80.0,
          369.0,
          92.0,
          203.0,
          4.0,
          43.0,
          116.0,
          13.0,
          52.0,
          25.0,
          10.0,
          75.0,
          172.0,
          1.0,
          832.0,
          97.0,
          262.0,
          13.0,
          1048.0,
          115.0,
          4.0,
          7.0,
          996.0,
          1.0,
          16.0,
          31.0,
          10.0,
          335.0,
          222.0,
          19.0,
          360.0,
          45.0,
          28.0,
          7.0,
          10.0,
          87.0,
          983.0,
          13.0,
          22.0,
          7.0,
          4.0,
          1.0,
          500.0,
          19.0,
          146.0,
          733.0,
          198.0,
          1303.0,
          16.0,
          1.0,
          972.0,
          7.0,
          28.0,
          255.0,
          652.0,
          1.0,
          4.0,
          1011.0,
          328.0,
          167.0,
          16.0,
          1.0,
          726.0,
          25.0,
          56.0,
          111.0,
          40.0,
          13.0,
          4.0,
          217.0,
          998.0,
          19.0,
          856.0,
          87.0,
          10.0,
          7.0,
          4.0,
          13.0,
          788.0,
          75.0,
          110.0,
          25.0,
          92.0,
          49.0,
          16.0,
          19.0,
          22.0,
          63.0,
          344.0,
          191.0,
          248.0,
          1257.0,
          632.0,
          7.0,
          70.0,
          1.0,
          704.0,
          141.0,
          10.0,
          541.0,
          4.0,
          1.0,
          832.0,
          1.0,
          4.0,
          7.0,
          162.0,
          13.0,
          82.0,
          49.0,
          210.0,
          473.0,
          28.0,
          693.0,
          40.0,
          1.0,
          4.0,
          337.0,
          22.0,
          1.0,
          314.0,
          1.0,
          952.0,
          7.0,
          106.0,
          1.0,
          759.0,
          241.0,
          4.0,
          7.0,
          614.0,
          1.0,
          186.0,
          1.0,
          466.0,
          941.0,
          4.0,
          13.0,
          42.0,
          1.0,
          4.0,
          105.0,
          748.0,
          1.0,
          82.0,
          1.0,
          330.0,
          673.0,
          934.0,
          87.0,
          134.0,
          203.0,
          28.0,
          155.0,
          10.0,
          19.0,
          16.0,
          459.0,
          70.0,
          7.0,
          4.0,
          51.0,
          790.0,
          1.0,
          234.0,
          7.0,
          22.0,
          13.0,
          594.0,
          19.0,
          10.0,
          25.0,
          1421.0,
          1.0,
          908.0,
          179.0,
          58.0,
          65.0,
          10.0,
          37.0,
          450.0,
          77.0,
          296.0,
          101.0,
          4.0,
          1.0,
          46.0,
          585.0,
          4.0,
          25.0,
          721.0,
          1.0,
          196.0,
          1.0,
          10.0,
          7.0,
          4.0,
          2175.0,
          644.0,
          1.0,
          150.0,
          227.0,
          100.0,
          129.0,
          314.0,
          1.0,
          574.0,
          757.0,
          4.0,
          1.0,
          46.0,
          19.0,
          1122.0,
          289.0,
          22.0,
          77.0,
          82.0,
          13.0,
          174.0,
          7.0,
          4.0,
          1.0,
          746.0,
          37.0,
          4.0,
          569.0,
          436.0,
          13.0,
          16.0,
          1.0,
          22.0,
          7.0,
          634.0,
          189.0,
          1110.0,
          1.0,
          4.0,
          65.0,
          218.0,
          859.0,
          16.0,
          1.0,
          96.0,
          25.0,
          282.0,
          37.0,
          836.0,
          143.0,
          4.0,
          429.0,
          10.0,
          1.0,
          850.0,
          19.0,
          72.0,
          7.0,
          122.0,
          13.0,
          46.0,
          1.0,
          60.0,
          167.0,
          300.0,
          95.0,
          16.0,
          53.0,
          616.0,
          731.0,
          4.0,
          1.0,
          678.0,
          1.0,
          422.0,
          7.0,
          182.0,
          211.0,
          16.0,
          13.0,
          832.0,
          25.0,
          4.0,
          19.0,
          542.0,
          77.0,
          4.0,
          7.0,
          72.0,
          13.0,
          807.0,
          41.0,
          10.0,
          291.0,
          34.0,
          1.0,
          136.0,
          411.0,
          4.0,
          709.0,
          10.0,
          1.0,
          600.0,
          91.0,
          658.0,
          7.0,
          160.0,
          1.0,
          266.0,
          13.0,
          4.0,
          115.0,
          22.0,
          41.0,
          206.0,
          1.0,
          10.0,
          175.0,
          60.0,
          601.0,
          406.0,
          1.0,
          282.0,
          7.0,
          1090.0,
          19.0,
          88.0,
          1.0,
          22.0,
          67.0,
          4.0,
          1.0,
          830.0,
          1.0,
          32.0,
          1077.0,
          590.0,
          1.0,
          16.0,
          259.0,
          10.0,
          521.0,
          4.0,
          129.0,
          704.0,
          55.0,
          807.0,
          7.0,
          10.0,
          153.0,
          16.0,
          197.0,
          72.0,
          581.0,
          32.0,
          1.0,
          48.0,
          41.0,
          166.0,
          67.0,
          512.0,
          1.0,
          84.0,
          1.0,
          108.0,
          7.0,
          388.0,
          19.0,
          640.0,
          13.0,
          250.0,
          799.0,
          10.0,
          1.0,
          686.0,
          1.0,
          22.0,
          7.0,
          4.0,
          505.0,
          264.0,
          19.0,
          4.0,
          7.0,
          802.0,
          1.0,
          16.0,
          81.0,
          188.0,
          381.0,
          122.0,
          1.0,
          144.0,
          1.0,
          36.0,
          425.0,
          10.0,
          55.0,
          492.0,
          157.0,
          614.0,
          241.0,
          62.0,
          1.0,
          550.0,
          1.0,
          4.0,
          29.0,
          22.0,
          253.0,
          766.0,
          1.0,
          370.0,
          7.0,
          36.0,
          1.0,
          603.0,
          101.0,
          4.0,
          67.0,
          10.0,
          79.0,
          16.0,
          759.0,
          446.0,
          179.0,
          4.0,
          1.0,
          50.0,
          13.0,
          62.0,
          7.0,
          232.0,
          1.0,
          646.0,
          137.0,
          470.0,
          115.0,
          244.0,
          13.0,
          150.0,
          1.0,
          4.0,
          27.0,
          728.0,
          43.0,
          16.0,
          1.0,
          74.0,
          741.0,
          4.0,
          19.0,
          500.0,
          1.0,
          36.0,
          455.0,
          944.0,
          1.0,
          350.0,
          13.0,
          10.0,
          27.0,
          170.0,
          225.0,
          614.0,
          19.0,
          4.0,
          235.0,
          10.0,
          13.0,
          94.0,
          1.0,
          508.0,
          7.0,
          446.0,
          57.0,
          50.0,
          1.0,
          130.0,
          601.0,
          74.0,
          143.0,
          16.0,
          1.0,
          108.0,
          7.0,
          62.0,
          1.0,
          702.0,
          499.0,
          4.0,
          7.0,
          10.0,
          433.0,
          218.0,
          1.0,
          226.0,
          31.0,
          4.0,
          161.0,
          898.0,
          57.0,
          4.0,
          7.0,
          332.0,
          1.0,
          490.0,
          19.0,
          10.0,
          69.0,
          4.0,
          45.0,
          426.0,
          1.0,
          684.0,
          31.0,
          10.0,
          1.0,
          16.0,
          13.0,
          26.0,
          123.0,
          136.0,
          87.0,
          568.0,
          209.0,
          4.0,
          321.0,
          534.0,
          13.0,
          16.0,
          101.0,
          10.0,
          855.0,
          38.0,
          19.0,
          154.0,
          1.0,
          4.0,
          69.0,
          468.0,
          1.0,
          637.0,
          1.0,
          521.0,
          7.0,
          4.0,
          1.0,
          52.0,
          1615.0,
          312.0,
          31.0,
          24.0,
          57.0,
          210.0,
          45.0,
          200.0,
          459.0,
          4.0,
          13.0,
          512.0,
          1.0,
          4.0,
          129.0,
          116.0,
          1.0,
          636.0,
          1.0,
          24.0,
          393.0,
          64.0,
          1.0,
          52.0,
          147.0,
          446.0,
          7.0,
          82.0,
          807.0,
          96.0,
          623.0,
          10.0,
          7.0,
          4.0,
          201.0,
          522.0,
          1.0,
          4.0,
          193.0,
          384.0,
          13.0,
          16.0,
          433.0,
          614.0,
          7.0,
          40.0,
          1.0,
          292.0,
          1.0,
          64.0,
          513.0,
          28.0,
          1.0,
          16.0,
          1.0,
          122.0,
          605.0,
          4.0,
          109.0,
          424.0,
          13.0,
          140.0,
          7.0,
          192.0,
          1.0,
          504.0,
          1.0,
          28.0,
          7.0,
          186.0,
          283.0,
          52.0,
          47.0,
          4.0,
          33.0,
          470.0,
          91.0,
          364.0,
          1.0,
          10.0,
          77.0,
          4.0,
          59.0,
          748.0,
          23.0,
          40.0,
          7.0,
          10.0,
          1.0,
          16.0,
          13.0,
          554.0,
          185.0,
          274.0,
          47.0,
          568.0,
          115.0,
          4.0,
          133.0,
          28.0,
          179.0,
          104.0,
          1.0,
          10.0,
          7.0,
          730.0,
          1.0,
          448.0,
          59.0,
          4.0,
          395.0,
          10.0,
          21.0,
          16.0,
          1.0,
          346.0,
          267.0,
          4.0,
          1.0,
          532.0,
          13.0,
          178.0,
          7.0,
          86.0,
          1.0,
          456.0,
          21.0,
          384.0,
          37.0,
          4.0,
          13.0,
          170.0,
          1.0,
          70.0,
          337.0,
          126.0,
          1.0,
          108.0,
          47.0,
          258.0,
          451.0,
          4.0,
          1.0,
          54.0,
          97.0,
          42.0,
          925.0,
          526.0,
          1.0,
          678.0,
          169.0,
          10.0,
          7.0,
          328.0,
          25.0,
          440.0,
          1.0,
          4.0,
          7.0,
          10.0,
          515.0,
          366.0,
          163.0,
          30.0,
          35.0,
          42.0,
          1.0,
          54.0,
          25.0,
          4.0,
          81.0,
          650.0,
          119.0,
          502.0,
          1.0,
          484.0,
          7.0,
          4.0,
          103.0,
          162.0,
          13.0,
          4.0,
          641.0,
          10.0,
          1.0,
          240.0,
          65.0,
          92.0,
          7.0,
          475.0,
          13.0,
          312.0,
          1.0,
          156.0,
          7.0,
          348.0,
          25.0,
          20.0,
          1.0,
          486.0,
          407.0,
          4.0,
          1.0,
          466.0,
          49.0,
          42.0,
          7.0,
          10.0,
          155.0,
          114.0,
          307.0,
          32.0,
          345.0,
          4.0,
          1.0,
          608.0,
          1.0,
          74.0,
          37.0,
          96.0,
          13.0,
          18.0,
          1.0,
          10.0,
          147.0,
          474.0,
          49.0,
          568.0,
          1.0,
          298.0,
          85.0,
          230.0,
          1.0,
          18.0,
          1.0,
          370.0,
          37.0,
          148.0,
          465.0,
          58.0,
          13.0,
          4.0,
          7.0,
          30.0,
          1.0,
          384.0,
          107.0,
          10.0,
          289.0,
          4.0,
          1829.0,
          454.0,
          25.0,
          4.0,
          221.0,
          140.0,
          1.0,
          20.0,
          1.0,
          562.0,
          89.0,
          4.0,
          1.0,
          318.0,
          67.0,
          44.0,
          139.0,
          278.0,
          1.0,
          20.0,
          553.0,
          10.0,
          37.0,
          78.0,
          1.0,
          368.0,
          1.0,
          210.0,
          7.0,
          10.0,
          307.0,
          554.0,
          1.0,
          100.0,
          7.0,
          44.0,
          131.0,
          414.0,
          1.0,
          4.0,
          429.0,
          32.0,
          53.0,
          20.0,
          27.0,
          130.0,
          7.0,
          312.0,
          1.0,
          538.0,
          209.0,
          82.0,
          7.0,
          434.0,
          1.0,
          270.0,
          1.0,
          32.0,
          801.0,
          4.0,
          15.0,
          60.0,
          1.0,
          4.0,
          309.0,
          408.0,
          71.0,
          122.0,
          1.0,
          10.0,
          93.0,
          4.0,
          25.0,
          196.0,
          125.0,
          572.0,
          37.0,
          10.0,
          1.0,
          412.0,
          13.0,
          300.0,
          7.0,
          4.0,
          1.0,
          511.0,
          561.0,
          4.0,
          7.0,
          32.0,
          13.0,
          20.0,
          73.0,
          248.0,
          37.0,
          46.0,
          187.0,
          548.0,
          111.0,
          4.0,
          351.0,
          10.0,
          1.0,
          118.0,
          1.0,
          394.0,
          7.0,
          84.0,
          53.0,
          64.0,
          15.0,
          4.0,
          241.0,
          308.0,
          27.0,
          276.0,
          1.0,
          10.0,
          387.0,
          176.0,
          15.0,
          362.0,
          1.0,
          4.0,
          7.0,
          626.0,
          1.0,
          22.0,
          27.0,
          102.0,
          501.0,
          230.0,
          109.0,
          66.0,
          1.0,
          345.0,
          7.0,
          32.0,
          1.0,
          686.0,
          15.0,
          488.0,
          167.0,
          4.0,
          75.0,
          438.0,
          1.0,
          4.0,
          39.0,
          248.0,
          221.0,
          20.0,
          57.0,
          32.0,
          7.0,
          46.0,
          27.0,
          346.0,
          1.0,
          4.0,
          93.0,
          100.0,
          1.0,
          466.0,
          1.0,
          154.0,
          239.0,
          4.0,
          1.0,
          208.0,
          349.0,
          4.0,
          7.0,
          10.0,
          59.0,
          290.0,
          1.0,
          312.0,
          7.0,
          4.0,
          15.0,
          66.0,
          1.0,
          226.0,
          603.0,
          434.0,
          1.0,
          22.0,
          143.0,
          10.0,
          93.0,
          84.0,
          1.0,
          388.0,
          1.0,
          50.0,
          319.0,
          10.0,
          27.0,
          22.0,
          213.0,
          32.0,
          39.0,
          4.0,
          1.0,
          369.0,
          1.0,
          186.0,
          7.0,
          308.0,
          17.0,
          132.0,
          27.0,
          10.0,
          7.0,
          52.0,
          1.0,
          204.0,
          59.0,
          86.0,
          537.0,
          10.0,
          77.0,
          22.0,
          1.0,
          486.0,
          177.0,
          4.0,
          1.0,
          386.0,
          15.0,
          4.0,
          7.0,
          262.0,
          125.0,
          286.0,
          1.0,
          10.0,
          43.0,
          4.0,
          377.0,
          338.0,
          1.0,
          4.0,
          7.0,
          164.0,
          1.0,
          247.0,
          77.0,
          32.0,
          229.0,
          176.0,
          1.0,
          68.0,
          27.0,
          52.0,
          45.0,
          114.0,
          1.0,
          22.0,
          17.0,
          256.0,
          345.0,
          4.0,
          155.0,
          310.0,
          1.0,
          4.0,
          165.0,
          10.0,
          17.0,
          22.0,
          1.0,
          344.0,
          247.0,
          231.0,
          1.0,
          70.0,
          1.0,
          4.0,
          105.0,
          36.0,
          629.0,
          142.0,
          59.0,
          158.0,
          7.0,
          240.0,
          1.0,
          286.0,
          17.0,
          4.0,
          45.0,
          12.0,
          1.0,
          316.0,
          27.0,
          38.0,
          7.0,
          4.0,
          227.0,
          269.0,
          131.0,
          94.0,
          7.0,
          366.0,
          61.0,
          22.0,
          1.0,
          10.0,
          401.0,
          4.0,
          1.0,
          212.0,
          1.0,
          52.0,
          7.0,
          292.0,
          1.0,
          136.0,
          17.0,
          120.0,
          7.0,
          4.0,
          29.0,
          243.0,
          83.0,
          4.0,
          281.0,
          38.0,
          17.0,
          490.0,
          1.0,
          12.0,
          7.0,
          52.0,
          123.0,
          234.0,
          31.0,
          192.0,
          113.0,
          12.0,
          1.0,
          22.0,
          1.0,
          312.0,
          45.0,
          4.0,
          1.0,
          74.0,
          249.0,
          4.0,
          179.0,
          112.0,
          1.0,
          332.0,
          1.0,
          12.0,
          7.0,
          102.0,
          17.0,
          236.0,
          1.0,
          4.0,
          45.0,
          170.0,
          31.0,
          22.0,
          1.0,
          402.0,
          101.0,
          4.0,
          65.0,
          302.0,
          1.0,
          271.0,
          7.0,
          38.0,
          91.0,
          24.0,
          413.0,
          12.0,
          301.0,
          218.0,
          1.0,
          254.0,
          1.0,
          94.0,
          7.0,
          12.0,
          17.0,
          148.0,
          1.0,
          38.0,
          203.0,
          56.0,
          1.0,
          80.0,
          1.0,
          4.0,
          269.0,
          356.0,
          1.0,
          24.0,
          85.0,
          188.0,
          7.0,
          4.0,
          31.0,
          256.0,
          17.0,
          4.0,
          7.0,
          12.0,
          1.0,
          209.0,
          71.0,
          126.0,
          47.0,
          4.0,
          19.0,
          78.0,
          31.0,
          4.0,
          7.0,
          198.0,
          1.0,
          170.0,
          1.0,
          316.0,
          113.0,
          4.0,
          1.0,
          270.0,
          1.0,
          62.0,
          291.0,
          12.0,
          69.0,
          24.0,
          19.0,
          40.0
         ],
         "xaxis": "x",
         "y": [
          607.0,
          13.0,
          107.0,
          101.0,
          79.0,
          227.0,
          15.0,
          907.0,
          37.0,
          151.0,
          1811.0,
          181.0,
          67.0,
          113.0,
          139.0,
          43.0,
          19.0,
          41.0,
          601.0,
          53.0,
          1801.0,
          15.0,
          257.0,
          31.0,
          599.0,
          449.0,
          359.0,
          23.0,
          163.0,
          16.0,
          199.0,
          179.0,
          1789.0,
          149.0,
          1787.0,
          47.0,
          17.0,
          223.0,
          1783.0,
          18.0,
          137.0,
          89.0,
          593.0,
          127.0,
          1777.0,
          37.0,
          71.0,
          887.0,
          197.0,
          443.0,
          23.0,
          59.0,
          61.0,
          17.0,
          31.0,
          883.0,
          353.0,
          18.0,
          43.0,
          881.0,
          587.0,
          16.0,
          1759.0,
          293.0,
          251.0,
          439.0,
          15.0,
          877.0,
          1753.0,
          73.0,
          103.0,
          14.0,
          53.0,
          23.0,
          1747.0,
          97.0,
          349.0,
          109.0,
          83.0,
          67.0,
          1741.0,
          29.0,
          47.0,
          79.0,
          193.0,
          31.0,
          347.0,
          17.0,
          1733.0,
          433.0,
          577.0,
          173.0,
          19.0,
          18.0,
          157.0,
          863.0,
          23.0,
          431.0,
          1723.0,
          41.0,
          1721.0,
          43.0,
          191.0,
          859.0,
          101.0,
          13.0,
          7.0,
          857.0,
          571.0,
          107.0,
          59.0,
          19.0,
          1709.0,
          61.0,
          569.0,
          853.0,
          31.0,
          71.0,
          131.0,
          37.0,
          21.0,
          17.0,
          1699.0,
          283.0,
          1697.0,
          53.0,
          113.0,
          14.0,
          1693.0,
          47.0,
          89.0,
          13.0,
          563.0,
          211.0,
          241.0,
          281.0,
          337.0,
          421.0,
          17.0,
          29.0,
          41.0,
          15.0,
          73.0,
          839.0,
          43.0,
          419.0,
          67.0,
          31.0,
          239.0,
          19.0,
          557.0,
          167.0,
          1669.0,
          139.0,
          1667.0,
          17.0,
          37.0,
          13.0,
          1663.0,
          277.0,
          151.0,
          83.0,
          79.0,
          829.0,
          1657.0,
          23.0,
          331.0,
          827.0,
          29.0,
          59.0,
          127.0,
          15.0,
          97.0,
          103.0,
          61.0,
          823.0,
          47.0,
          137.0,
          53.0,
          821.0,
          547.0,
          41.0,
          149.0,
          18.0,
          1637.0,
          409.0,
          109.0,
          43.0,
          71.0,
          17.0,
          233.0,
          163.0,
          181.0,
          37.0,
          1627.0,
          271.0,
          13.0,
          29.0,
          541.0,
          811.0,
          1621.0,
          15.0,
          1619.0,
          809.0,
          21.0,
          101.0,
          19.0,
          269.0,
          1613.0,
          31.0,
          179.0,
          23.0,
          1609.0,
          67.0,
          1607.0,
          73.0,
          107.0,
          401.0,
          229.0,
          89.0,
          1601.0,
          16.0,
          41.0,
          47.0,
          1597.0,
          19.0,
          29.0,
          797.0,
          59.0,
          199.0,
          43.0,
          53.0,
          227.0,
          397.0,
          23.0,
          61.0,
          317.0,
          18.0,
          1583.0,
          113.0,
          31.0,
          79.0,
          1579.0,
          263.0,
          83.0,
          197.0,
          15.0,
          787.0,
          13.0,
          131.0,
          1571.0,
          157.0,
          523.0,
          16.0,
          1567.0,
          29.0,
          313.0,
          23.0,
          521.0,
          71.0,
          223.0,
          15.0,
          1559.0,
          41.0,
          173.0,
          389.0,
          311.0,
          37.0,
          1553.0,
          97.0,
          47.0,
          31.0,
          1549.0,
          43.0,
          17.0,
          773.0,
          103.0,
          193.0,
          1543.0,
          257.0,
          67.0,
          14.0,
          19.0,
          769.0,
          53.0,
          16.0,
          307.0,
          59.0,
          73.0,
          383.0,
          1531.0,
          17.0,
          139.0,
          191.0,
          509.0,
          109.0,
          61.0,
          127.0,
          1523.0,
          761.0,
          13.0,
          19.0,
          31.0,
          23.0,
          41.0,
          379.0,
          101.0,
          757.0,
          89.0,
          18.0,
          1511.0,
          151.0,
          503.0,
          29.0,
          137.0,
          251.0,
          43.0,
          47.0,
          167.0,
          751.0,
          79.0,
          15.0,
          1499.0,
          107.0,
          499.0,
          17.0,
          23.0,
          83.0,
          1493.0,
          373.0,
          71.0,
          149.0,
          1489.0,
          31.0,
          1487.0,
          743.0,
          15.0,
          53.0,
          1483.0,
          19.0,
          1481.0,
          37.0,
          29.0,
          739.0,
          211.0,
          41.0,
          59.0,
          67.0,
          491.0,
          23.0,
          1471.0,
          15.0,
          113.0,
          367.0,
          163.0,
          733.0,
          293.0,
          61.0,
          19.0,
          43.0,
          487.0,
          73.0,
          1459.0,
          18.0,
          47.0,
          13.0,
          97.0,
          727.0,
          1453.0,
          11.0,
          1451.0,
          29.0,
          23.0,
          181.0,
          1447.0,
          241.0,
          17.0,
          19.0,
          37.0,
          103.0,
          131.0,
          15.0,
          1439.0,
          719.0,
          479.0,
          359.0,
          41.0,
          239.0,
          1433.0,
          179.0,
          53.0,
          13.0,
          1429.0,
          17.0,
          1427.0,
          31.0,
          19.0,
          89.0,
          1423.0,
          79.0,
          29.0,
          71.0,
          43.0,
          709.0,
          109.0,
          59.0,
          283.0,
          101.0,
          157.0,
          353.0,
          83.0,
          47.0,
          1409.0,
          16.0,
          67.0,
          37.0,
          281.0,
          13.0,
          61.0,
          701.0,
          467.0,
          14.0,
          1399.0,
          233.0,
          127.0,
          349.0,
          31.0,
          41.0,
          199.0,
          29.0,
          107.0,
          139.0,
          463.0,
          347.0,
          73.0,
          14.0,
          277.0,
          173.0,
          461.0,
          691.0,
          1381.0,
          23.0,
          197.0,
          53.0,
          17.0,
          43.0,
          11.0,
          229.0,
          1373.0,
          14.0,
          457.0,
          137.0,
          37.0,
          19.0,
          1367.0,
          683.0,
          13.0,
          31.0,
          47.0,
          227.0,
          1361.0,
          17.0,
          151.0,
          97.0,
          59.0,
          113.0,
          271.0,
          677.0,
          41.0,
          13.0,
          193.0,
          15.0,
          71.0,
          337.0,
          449.0,
          673.0,
          269.0,
          16.0,
          79.0,
          61.0,
          149.0,
          67.0,
          103.0,
          223.0,
          191.0,
          167.0,
          89.0,
          29.0,
          43.0,
          37.0,
          11.0,
          19.0,
          443.0,
          83.0,
          1327.0,
          17.0,
          53.0,
          331.0,
          21.0,
          661.0,
          1321.0,
          15.0,
          1319.0,
          659.0,
          439.0,
          47.0,
          263.0,
          73.0,
          101.0,
          41.0,
          23.0,
          131.0,
          17.0,
          109.0,
          1307.0,
          653.0,
          29.0,
          163.0,
          1303.0,
          31.0,
          1301.0,
          13.0,
          433.0,
          59.0,
          1297.0,
          16.0,
          37.0,
          647.0,
          431.0,
          19.0,
          1291.0,
          43.0,
          1289.0,
          23.0,
          13.0,
          643.0,
          257.0,
          107.0,
          1283.0,
          641.0,
          61.0,
          16.0,
          1279.0,
          71.0,
          1277.0,
          29.0,
          17.0,
          13.0,
          67.0,
          53.0,
          41.0,
          127.0,
          47.0,
          317.0,
          181.0,
          211.0,
          23.0,
          79.0,
          421.0,
          631.0,
          97.0,
          15.0,
          1259.0,
          37.0,
          419.0,
          157.0,
          251.0,
          19.0,
          179.0,
          313.0,
          139.0,
          10.0,
          1249.0,
          13.0,
          43.0,
          89.0,
          83.0,
          311.0,
          113.0,
          23.0,
          73.0,
          31.0,
          59.0,
          619.0,
          1237.0,
          103.0,
          19.0,
          617.0,
          137.0,
          16.0,
          1231.0,
          41.0,
          1229.0,
          307.0,
          409.0,
          613.0,
          7.0,
          17.0,
          1223.0,
          47.0,
          37.0,
          61.0,
          53.0,
          29.0,
          1217.0,
          19.0,
          15.0,
          607.0,
          1213.0,
          101.0,
          173.0,
          11.0,
          31.0,
          151.0,
          71.0,
          67.0,
          241.0,
          43.0,
          401.0,
          601.0,
          1201.0,
          15.0,
          109.0,
          599.0,
          19.0,
          23.0,
          239.0,
          199.0,
          1193.0,
          149.0,
          397.0,
          17.0,
          41.0,
          11.0,
          1187.0,
          593.0,
          79.0,
          37.0,
          13.0,
          197.0,
          1181.0,
          59.0,
          131.0,
          31.0,
          107.0,
          14.0,
          47.0,
          587.0,
          23.0,
          293.0,
          1171.0,
          13.0,
          167.0,
          73.0,
          389.0,
          53.0,
          233.0,
          97.0,
          1163.0,
          83.0,
          43.0,
          29.0,
          61.0,
          193.0,
          89.0,
          17.0,
          15.0,
          577.0,
          1153.0,
          16.0,
          1151.0,
          23.0,
          383.0,
          41.0,
          37.0,
          191.0,
          229.0,
          13.0,
          127.0,
          571.0,
          163.0,
          19.0,
          67.0,
          569.0,
          379.0,
          71.0,
          227.0,
          14.0,
          103.0,
          283.0,
          29.0,
          113.0,
          1129.0,
          47.0,
          23.0,
          563.0,
          15.0,
          281.0,
          1123.0,
          17.0,
          59.0,
          16.0,
          373.0,
          43.0,
          1117.0,
          31.0,
          223.0,
          557.0,
          53.0,
          139.0,
          101.0,
          37.0,
          1109.0,
          277.0,
          41.0,
          79.0,
          17.0,
          23.0,
          1103.0,
          29.0,
          367.0,
          11.0,
          157.0,
          61.0,
          1097.0,
          137.0,
          73.0,
          547.0,
          1093.0,
          13.0,
          1091.0,
          109.0,
          11.0,
          17.0,
          1087.0,
          181.0,
          31.0,
          271.0,
          19.0,
          541.0,
          47.0,
          15.0,
          83.0,
          14.0,
          359.0,
          269.0,
          43.0,
          179.0,
          37.0,
          67.0,
          17.0,
          107.0,
          1069.0,
          89.0,
          97.0,
          41.0,
          71.0,
          19.0,
          1063.0,
          59.0,
          1061.0,
          53.0,
          353.0,
          23.0,
          151.0,
          16.0,
          211.0,
          31.0,
          13.0,
          263.0,
          1051.0,
          15.0,
          1049.0,
          131.0,
          349.0,
          523.0,
          19.0,
          29.0,
          149.0,
          521.0,
          347.0,
          13.0,
          1039.0,
          173.0,
          61.0,
          37.0,
          23.0,
          47.0,
          1033.0,
          43.0,
          1031.0,
          103.0,
          21.0,
          257.0,
          79.0,
          19.0,
          41.0,
          16.0,
          31.0,
          73.0,
          1021.0,
          17.0,
          1019.0,
          509.0,
          113.0,
          127.0,
          29.0,
          13.0,
          1013.0,
          23.0,
          337.0,
          101.0,
          1009.0,
          16.0,
          53.0,
          503.0,
          67.0,
          251.0,
          59.0,
          167.0,
          13.0,
          20.0,
          37.0,
          499.0,
          997.0,
          83.0,
          199.0,
          71.0,
          331.0,
          31.0,
          991.0,
          15.0,
          43.0,
          19.0,
          47.0,
          29.0,
          197.0,
          41.0,
          983.0,
          491.0,
          109.0,
          14.0,
          89.0,
          163.0,
          977.0,
          61.0,
          13.0,
          487.0,
          139.0,
          18.0,
          971.0,
          97.0,
          19.0,
          11.0,
          967.0,
          23.0,
          193.0,
          241.0,
          107.0,
          37.0,
          31.0,
          15.0,
          137.0,
          479.0,
          29.0,
          239.0,
          191.0,
          53.0,
          953.0,
          17.0,
          317.0,
          19.0,
          73.0,
          79.0,
          947.0,
          43.0,
          15.0,
          59.0,
          41.0,
          157.0,
          941.0,
          47.0,
          313.0,
          67.0,
          937.0,
          13.0,
          17.0,
          467.0,
          311.0,
          233.0,
          19.0,
          31.0,
          929.0,
          29.0,
          103.0,
          463.0,
          37.0,
          11.0,
          71.0,
          461.0,
          307.0,
          23.0,
          919.0,
          17.0,
          131.0,
          229.0,
          61.0,
          457.0,
          83.0,
          19.0,
          911.0,
          13.0,
          101.0,
          227.0,
          907.0,
          151.0,
          181.0,
          113.0,
          43.0,
          41.0,
          53.0,
          15.0,
          31.0,
          449.0,
          23.0,
          16.0,
          179.0,
          149.0,
          47.0,
          223.0,
          11.0,
          89.0,
          127.0,
          37.0,
          887.0,
          443.0,
          59.0,
          17.0,
          883.0,
          14.0,
          881.0,
          16.0,
          293.0,
          439.0,
          877.0,
          73.0,
          7.0,
          23.0,
          97.0,
          109.0,
          67.0,
          29.0,
          79.0,
          31.0,
          17.0,
          433.0,
          173.0,
          16.0,
          863.0,
          431.0,
          41.0,
          43.0,
          859.0,
          13.0,
          857.0,
          107.0,
          19.0,
          61.0,
          853.0,
          71.0,
          37.0,
          17.0,
          283.0,
          53.0,
          11.0,
          47.0,
          13.0,
          211.0,
          281.0,
          421.0,
          29.0,
          15.0,
          839.0,
          419.0,
          31.0,
          19.0,
          167.0,
          139.0,
          17.0,
          13.0,
          277.0,
          83.0,
          829.0,
          23.0,
          827.0,
          59.0,
          15.0,
          103.0,
          823.0,
          137.0,
          821.0,
          41.0,
          13.0,
          409.0,
          43.0,
          17.0,
          163.0,
          37.0,
          271.0,
          29.0,
          811.0,
          15.0,
          809.0,
          101.0,
          269.0,
          31.0,
          23.0,
          67.0,
          73.0,
          401.0,
          89.0,
          16.0,
          47.0,
          19.0,
          797.0,
          199.0,
          53.0,
          397.0,
          61.0,
          11.0,
          113.0,
          79.0,
          263.0,
          197.0,
          787.0,
          131.0,
          157.0,
          14.0,
          29.0,
          23.0,
          71.0,
          13.0,
          41.0,
          389.0,
          37.0,
          97.0,
          31.0,
          43.0,
          773.0,
          193.0,
          257.0,
          11.0,
          769.0,
          16.0,
          59.0,
          383.0,
          17.0,
          191.0,
          109.0,
          127.0,
          761.0,
          19.0,
          23.0,
          379.0,
          757.0,
          14.0,
          151.0,
          29.0,
          251.0,
          47.0,
          751.0,
          15.0,
          107.0,
          17.0,
          83.0,
          373.0,
          149.0,
          31.0,
          743.0,
          53.0,
          19.0,
          37.0,
          739.0,
          41.0,
          67.0,
          23.0,
          15.0,
          367.0,
          733.0,
          61.0,
          43.0,
          73.0,
          9.0,
          13.0,
          727.0,
          11.0,
          29.0,
          181.0,
          241.0,
          19.0,
          103.0,
          15.0,
          719.0,
          359.0,
          239.0,
          179.0,
          13.0,
          17.0,
          31.0,
          89.0,
          79.0,
          71.0,
          709.0,
          59.0,
          101.0,
          353.0,
          47.0,
          11.0,
          37.0,
          13.0,
          701.0,
          14.0,
          233.0,
          349.0,
          41.0,
          29.0,
          139.0,
          347.0,
          11.0,
          173.0,
          691.0,
          23.0,
          53.0,
          43.0,
          229.0,
          14.0,
          137.0,
          19.0,
          683.0,
          31.0,
          227.0,
          17.0,
          97.0,
          113.0,
          677.0,
          13.0,
          15.0,
          337.0,
          673.0,
          14.0,
          61.0,
          67.0,
          223.0,
          167.0,
          29.0,
          37.0,
          19.0,
          83.0,
          17.0,
          331.0,
          661.0,
          11.0,
          659.0,
          47.0,
          73.0,
          41.0,
          131.0,
          109.0,
          653.0,
          163.0,
          31.0,
          13.0,
          59.0,
          12.0,
          647.0,
          19.0,
          43.0,
          23.0,
          643.0,
          107.0,
          641.0,
          16.0,
          71.0,
          29.0,
          13.0,
          53.0,
          127.0,
          317.0,
          211.0,
          79.0,
          631.0,
          15.0,
          37.0,
          157.0,
          19.0,
          313.0,
          5.0,
          13.0,
          89.0,
          311.0,
          23.0,
          31.0,
          619.0,
          103.0,
          617.0,
          11.0,
          41.0,
          307.0,
          613.0,
          17.0,
          47.0,
          61.0,
          29.0,
          19.0,
          607.0,
          101.0,
          11.0,
          151.0,
          67.0,
          43.0,
          601.0,
          15.0,
          599.0,
          23.0,
          199.0,
          149.0,
          17.0,
          11.0,
          593.0,
          37.0,
          197.0,
          59.0,
          31.0,
          14.0,
          587.0,
          293.0,
          13.0,
          73.0,
          53.0,
          97.0,
          83.0,
          29.0,
          193.0,
          17.0,
          577.0,
          12.0,
          23.0,
          41.0,
          191.0,
          13.0,
          571.0,
          19.0,
          569.0,
          71.0,
          9.0,
          283.0,
          113.0,
          47.0,
          563.0,
          281.0,
          17.0,
          14.0,
          43.0,
          31.0,
          557.0,
          139.0,
          37.0,
          277.0,
          79.0,
          23.0,
          29.0,
          11.0,
          61.0,
          137.0,
          547.0,
          13.0,
          109.0,
          17.0,
          181.0,
          271.0,
          541.0,
          12.0,
          11.0,
          269.0,
          179.0,
          67.0,
          107.0,
          89.0,
          41.0,
          19.0,
          59.0,
          53.0,
          23.0,
          11.0,
          31.0,
          263.0,
          15.0,
          131.0,
          523.0,
          29.0,
          521.0,
          13.0,
          173.0,
          37.0,
          47.0,
          43.0,
          103.0,
          257.0,
          19.0,
          16.0,
          73.0,
          17.0,
          509.0,
          127.0,
          13.0,
          23.0,
          101.0,
          14.0,
          503.0,
          251.0,
          167.0,
          10.0,
          499.0,
          83.0,
          71.0,
          31.0,
          11.0,
          19.0,
          29.0,
          41.0,
          491.0,
          14.0,
          163.0,
          61.0,
          487.0,
          9.0,
          97.0,
          11.0,
          23.0,
          241.0,
          37.0,
          12.0,
          479.0,
          239.0,
          53.0,
          17.0,
          19.0,
          79.0,
          43.0,
          59.0,
          157.0,
          47.0,
          67.0,
          13.0,
          467.0,
          233.0,
          31.0,
          29.0,
          463.0,
          11.0,
          461.0,
          23.0,
          17.0,
          229.0,
          457.0,
          19.0,
          13.0,
          227.0,
          151.0,
          113.0,
          41.0,
          15.0,
          449.0,
          14.0,
          149.0,
          223.0,
          89.0,
          37.0,
          443.0,
          17.0,
          9.0,
          11.0,
          439.0,
          73.0,
          23.0,
          109.0,
          29.0,
          31.0,
          433.0,
          12.0,
          431.0,
          43.0,
          13.0,
          107.0,
          61.0,
          71.0,
          17.0,
          53.0,
          47.0,
          211.0,
          421.0,
          12.0,
          419.0,
          19.0,
          139.0,
          13.0,
          83.0,
          23.0,
          59.0,
          103.0,
          137.0,
          41.0,
          409.0,
          17.0,
          37.0,
          29.0,
          9.0,
          101.0,
          31.0,
          67.0,
          401.0,
          10.0,
          19.0,
          199.0,
          397.0,
          11.0,
          79.0,
          197.0,
          131.0,
          14.0,
          23.0,
          13.0,
          389.0,
          97.0,
          43.0,
          193.0,
          11.0,
          12.0,
          383.0,
          191.0,
          127.0,
          19.0,
          379.0,
          14.0,
          29.0,
          47.0,
          15.0,
          17.0,
          373.0,
          31.0,
          53.0,
          37.0,
          41.0,
          23.0,
          367.0,
          61.0,
          73.0,
          13.0,
          11.0,
          181.0,
          19.0,
          12.0,
          359.0,
          179.0,
          17.0,
          89.0,
          71.0,
          59.0,
          353.0,
          11.0,
          13.0,
          14.0,
          349.0,
          29.0,
          347.0,
          173.0,
          23.0,
          43.0,
          7.0,
          19.0,
          31.0,
          17.0,
          113.0,
          13.0,
          337.0,
          12.0,
          67.0,
          167.0,
          37.0,
          83.0,
          331.0,
          11.0,
          47.0,
          41.0,
          109.0,
          163.0,
          13.0,
          12.0,
          19.0,
          23.0,
          107.0,
          10.0,
          29.0,
          53.0,
          317.0,
          79.0,
          9.0,
          157.0,
          313.0,
          13.0,
          311.0,
          31.0,
          103.0,
          11.0,
          307.0,
          17.0,
          61.0,
          19.0,
          101.0,
          151.0,
          43.0,
          12.0,
          23.0,
          149.0,
          11.0,
          37.0,
          59.0,
          7.0,
          293.0,
          73.0,
          97.0,
          29.0,
          17.0,
          12.0,
          41.0,
          13.0,
          19.0,
          71.0,
          283.0,
          47.0,
          281.0,
          10.0,
          31.0,
          139.0,
          277.0,
          23.0,
          11.0,
          137.0,
          13.0,
          17.0,
          271.0,
          9.0,
          269.0,
          67.0,
          89.0,
          19.0,
          53.0,
          11.0,
          263.0,
          131.0,
          29.0,
          13.0,
          37.0,
          43.0,
          257.0,
          8.0,
          17.0,
          127.0,
          23.0,
          9.0,
          251.0,
          10.0,
          83.0,
          31.0,
          19.0,
          41.0,
          7.0,
          61.0,
          9.0,
          11.0,
          241.0,
          10.0,
          239.0,
          17.0,
          79.0,
          59.0,
          47.0,
          13.0,
          233.0,
          29.0,
          11.0,
          23.0,
          229.0,
          19.0,
          227.0,
          113.0,
          9.0,
          7.0,
          223.0,
          37.0,
          17.0,
          11.0,
          73.0,
          109.0,
          31.0,
          9.0,
          43.0,
          107.0,
          71.0,
          53.0,
          211.0,
          10.0,
          19.0,
          13.0,
          23.0,
          103.0,
          41.0,
          17.0,
          29.0,
          101.0,
          67.0,
          10.0,
          199.0,
          11.0,
          197.0,
          7.0,
          13.0,
          97.0,
          193.0,
          8.0,
          191.0,
          19.0,
          7.0,
          47.0,
          17.0,
          31.0,
          37.0,
          23.0
         ],
         "yaxis": "y",
         "type": "scattergl"
        }
       ],
       "layout": {
        "template": {
         "data": {
          "histogram2dcontour": [
           {
            "type": "histogram2dcontour",
            "colorbar": {
             "outlinewidth": 0,
             "ticks": ""
            },
            "colorscale": [
             [
              0.0,
              "#0d0887"
             ],
             [
              0.1111111111111111,
              "#46039f"
             ],
             [
              0.2222222222222222,
              "#7201a8"
             ],
             [
              0.3333333333333333,
              "#9c179e"
             ],
             [
              0.4444444444444444,
              "#bd3786"
             ],
             [
              0.5555555555555556,
              "#d8576b"
             ],
             [
              0.6666666666666666,
              "#ed7953"
             ],
             [
              0.7777777777777778,
              "#fb9f3a"
             ],
             [
              0.8888888888888888,
              "#fdca26"
             ],
             [
              1.0,
              "#f0f921"
             ]
            ]
           }
          ],
          "choropleth": [
           {
            "type": "choropleth",
            "colorbar": {
             "outlinewidth": 0,
             "ticks": ""
            }
           }
          ],
          "histogram2d": [
           {
            "type": "histogram2d",
            "colorbar": {
             "outlinewidth": 0,
             "ticks": ""
            },
            "colorscale": [
             [
              0.0,
              "#0d0887"
             ],
             [
              0.1111111111111111,
              "#46039f"
             ],
             [
              0.2222222222222222,
              "#7201a8"
             ],
             [
              0.3333333333333333,
              "#9c179e"
             ],
             [
              0.4444444444444444,
              "#bd3786"
             ],
             [
              0.5555555555555556,
              "#d8576b"
             ],
             [
              0.6666666666666666,
              "#ed7953"
             ],
             [
              0.7777777777777778,
              "#fb9f3a"
             ],
             [
              0.8888888888888888,
              "#fdca26"
             ],
             [
              1.0,
              "#f0f921"
             ]
            ]
           }
          ],
          "heatmap": [
           {
            "type": "heatmap",
            "colorbar": {
             "outlinewidth": 0,
             "ticks": ""
            },
            "colorscale": [
             [
              0.0,
              "#0d0887"
             ],
             [
              0.1111111111111111,
              "#46039f"
             ],
             [
              0.2222222222222222,
              "#7201a8"
             ],
             [
              0.3333333333333333,
              "#9c179e"
             ],
             [
              0.4444444444444444,
              "#bd3786"
             ],
             [
              0.5555555555555556,
              "#d8576b"
             ],
             [
              0.6666666666666666,
              "#ed7953"
             ],
             [
              0.7777777777777778,
              "#fb9f3a"
             ],
             [
              0.8888888888888888,
              "#fdca26"
             ],
             [
              1.0,
              "#f0f921"
             ]
            ]
           }
          ],
          "heatmapgl": [
           {
            "type": "heatmapgl",
            "colorbar": {
             "outlinewidth": 0,
             "ticks": ""
            },
            "colorscale": [
             [
              0.0,
              "#0d0887"
             ],
             [
              0.1111111111111111,
              "#46039f"
             ],
             [
              0.2222222222222222,
              "#7201a8"
             ],
             [
              0.3333333333333333,
              "#9c179e"
             ],
             [
              0.4444444444444444,
              "#bd3786"
             ],
             [
              0.5555555555555556,
              "#d8576b"
             ],
             [
              0.6666666666666666,
              "#ed7953"
             ],
             [
              0.7777777777777778,
              "#fb9f3a"
             ],
             [
              0.8888888888888888,
              "#fdca26"
             ],
             [
              1.0,
              "#f0f921"
             ]
            ]
           }
          ],
          "contourcarpet": [
           {
            "type": "contourcarpet",
            "colorbar": {
             "outlinewidth": 0,
             "ticks": ""
            }
           }
          ],
          "contour": [
           {
            "type": "contour",
            "colorbar": {
             "outlinewidth": 0,
             "ticks": ""
            },
            "colorscale": [
             [
              0.0,
              "#0d0887"
             ],
             [
              0.1111111111111111,
              "#46039f"
             ],
             [
              0.2222222222222222,
              "#7201a8"
             ],
             [
              0.3333333333333333,
              "#9c179e"
             ],
             [
              0.4444444444444444,
              "#bd3786"
             ],
             [
              0.5555555555555556,
              "#d8576b"
             ],
             [
              0.6666666666666666,
              "#ed7953"
             ],
             [
              0.7777777777777778,
              "#fb9f3a"
             ],
             [
              0.8888888888888888,
              "#fdca26"
             ],
             [
              1.0,
              "#f0f921"
             ]
            ]
           }
          ],
          "surface": [
           {
            "type": "surface",
            "colorbar": {
             "outlinewidth": 0,
             "ticks": ""
            },
            "colorscale": [
             [
              0.0,
              "#0d0887"
             ],
             [
              0.1111111111111111,
              "#46039f"
             ],
             [
              0.2222222222222222,
              "#7201a8"
             ],
             [
              0.3333333333333333,
              "#9c179e"
             ],
             [
              0.4444444444444444,
              "#bd3786"
             ],
             [
              0.5555555555555556,
              "#d8576b"
             ],
             [
              0.6666666666666666,
              "#ed7953"
             ],
             [
              0.7777777777777778,
              "#fb9f3a"
             ],
             [
              0.8888888888888888,
              "#fdca26"
             ],
             [
              1.0,
              "#f0f921"
             ]
            ]
           }
          ],
          "mesh3d": [
           {
            "type": "mesh3d",
            "colorbar": {
             "outlinewidth": 0,
             "ticks": ""
            }
           }
          ],
          "scatter": [
           {
            "marker": {
             "line": {
              "color": "#283442"
             }
            },
            "type": "scatter"
           }
          ],
          "parcoords": [
           {
            "type": "parcoords",
            "line": {
             "colorbar": {
              "outlinewidth": 0,
              "ticks": ""
             }
            }
           }
          ],
          "scatterpolargl": [
           {
            "type": "scatterpolargl",
            "marker": {
             "colorbar": {
              "outlinewidth": 0,
              "ticks": ""
             }
            }
           }
          ],
          "bar": [
           {
            "error_x": {
             "color": "#f2f5fa"
            },
            "error_y": {
             "color": "#f2f5fa"
            },
            "marker": {
             "line": {
              "color": "rgb(17,17,17)",
              "width": 0.5
             },
             "pattern": {
              "fillmode": "overlay",
              "size": 10,
              "solidity": 0.2
             }
            },
            "type": "bar"
           }
          ],
          "scattergeo": [
           {
            "type": "scattergeo",
            "marker": {
             "colorbar": {
              "outlinewidth": 0,
              "ticks": ""
             }
            }
           }
          ],
          "scatterpolar": [
           {
            "type": "scatterpolar",
            "marker": {
             "colorbar": {
              "outlinewidth": 0,
              "ticks": ""
             }
            }
           }
          ],
          "histogram": [
           {
            "marker": {
             "pattern": {
              "fillmode": "overlay",
              "size": 10,
              "solidity": 0.2
             }
            },
            "type": "histogram"
           }
          ],
          "scattergl": [
           {
            "marker": {
             "line": {
              "color": "#283442"
             }
            },
            "type": "scattergl"
           }
          ],
          "scatter3d": [
           {
            "type": "scatter3d",
            "line": {
             "colorbar": {
              "outlinewidth": 0,
              "ticks": ""
             }
            },
            "marker": {
             "colorbar": {
              "outlinewidth": 0,
              "ticks": ""
             }
            }
           }
          ],
          "scattermapbox": [
           {
            "type": "scattermapbox",
            "marker": {
             "colorbar": {
              "outlinewidth": 0,
              "ticks": ""
             }
            }
           }
          ],
          "scatterternary": [
           {
            "type": "scatterternary",
            "marker": {
             "colorbar": {
              "outlinewidth": 0,
              "ticks": ""
             }
            }
           }
          ],
          "scattercarpet": [
           {
            "type": "scattercarpet",
            "marker": {
             "colorbar": {
              "outlinewidth": 0,
              "ticks": ""
             }
            }
           }
          ],
          "carpet": [
           {
            "aaxis": {
             "endlinecolor": "#A2B1C6",
             "gridcolor": "#506784",
             "linecolor": "#506784",
             "minorgridcolor": "#506784",
             "startlinecolor": "#A2B1C6"
            },
            "baxis": {
             "endlinecolor": "#A2B1C6",
             "gridcolor": "#506784",
             "linecolor": "#506784",
             "minorgridcolor": "#506784",
             "startlinecolor": "#A2B1C6"
            },
            "type": "carpet"
           }
          ],
          "table": [
           {
            "cells": {
             "fill": {
              "color": "#506784"
             },
             "line": {
              "color": "rgb(17,17,17)"
             }
            },
            "header": {
             "fill": {
              "color": "#2a3f5f"
             },
             "line": {
              "color": "rgb(17,17,17)"
             }
            },
            "type": "table"
           }
          ],
          "barpolar": [
           {
            "marker": {
             "line": {
              "color": "rgb(17,17,17)",
              "width": 0.5
             },
             "pattern": {
              "fillmode": "overlay",
              "size": 10,
              "solidity": 0.2
             }
            },
            "type": "barpolar"
           }
          ],
          "pie": [
           {
            "automargin": true,
            "type": "pie"
           }
          ]
         },
         "layout": {
          "autotypenumbers": "strict",
          "colorway": [
           "#636efa",
           "#EF553B",
           "#00cc96",
           "#ab63fa",
           "#FFA15A",
           "#19d3f3",
           "#FF6692",
           "#B6E880",
           "#FF97FF",
           "#FECB52"
          ],
          "font": {
           "color": "#f2f5fa"
          },
          "hovermode": "closest",
          "hoverlabel": {
           "align": "left"
          },
          "paper_bgcolor": "rgb(17,17,17)",
          "plot_bgcolor": "rgb(17,17,17)",
          "polar": {
           "bgcolor": "rgb(17,17,17)",
           "angularaxis": {
            "gridcolor": "#506784",
            "linecolor": "#506784",
            "ticks": ""
           },
           "radialaxis": {
            "gridcolor": "#506784",
            "linecolor": "#506784",
            "ticks": ""
           }
          },
          "ternary": {
           "bgcolor": "rgb(17,17,17)",
           "aaxis": {
            "gridcolor": "#506784",
            "linecolor": "#506784",
            "ticks": ""
           },
           "baxis": {
            "gridcolor": "#506784",
            "linecolor": "#506784",
            "ticks": ""
           },
           "caxis": {
            "gridcolor": "#506784",
            "linecolor": "#506784",
            "ticks": ""
           }
          },
          "coloraxis": {
           "colorbar": {
            "outlinewidth": 0,
            "ticks": ""
           }
          },
          "colorscale": {
           "sequential": [
            [
             0.0,
             "#0d0887"
            ],
            [
             0.1111111111111111,
             "#46039f"
            ],
            [
             0.2222222222222222,
             "#7201a8"
            ],
            [
             0.3333333333333333,
             "#9c179e"
            ],
            [
             0.4444444444444444,
             "#bd3786"
            ],
            [
             0.5555555555555556,
             "#d8576b"
            ],
            [
             0.6666666666666666,
             "#ed7953"
            ],
            [
             0.7777777777777778,
             "#fb9f3a"
            ],
            [
             0.8888888888888888,
             "#fdca26"
            ],
            [
             1.0,
             "#f0f921"
            ]
           ],
           "sequentialminus": [
            [
             0.0,
             "#0d0887"
            ],
            [
             0.1111111111111111,
             "#46039f"
            ],
            [
             0.2222222222222222,
             "#7201a8"
            ],
            [
             0.3333333333333333,
             "#9c179e"
            ],
            [
             0.4444444444444444,
             "#bd3786"
            ],
            [
             0.5555555555555556,
             "#d8576b"
            ],
            [
             0.6666666666666666,
             "#ed7953"
            ],
            [
             0.7777777777777778,
             "#fb9f3a"
            ],
            [
             0.8888888888888888,
             "#fdca26"
            ],
            [
             1.0,
             "#f0f921"
            ]
           ],
           "diverging": [
            [
             0,
             "#8e0152"
            ],
            [
             0.1,
             "#c51b7d"
            ],
            [
             0.2,
             "#de77ae"
            ],
            [
             0.3,
             "#f1b6da"
            ],
            [
             0.4,
             "#fde0ef"
            ],
            [
             0.5,
             "#f7f7f7"
            ],
            [
             0.6,
             "#e6f5d0"
            ],
            [
             0.7,
             "#b8e186"
            ],
            [
             0.8,
             "#7fbc41"
            ],
            [
             0.9,
             "#4d9221"
            ],
            [
             1,
             "#276419"
            ]
           ]
          },
          "xaxis": {
           "gridcolor": "#283442",
           "linecolor": "#506784",
           "ticks": "",
           "title": {
            "standoff": 15
           },
           "zerolinecolor": "#283442",
           "automargin": true,
           "zerolinewidth": 2
          },
          "yaxis": {
           "gridcolor": "#283442",
           "linecolor": "#506784",
           "ticks": "",
           "title": {
            "standoff": 15
           },
           "zerolinecolor": "#283442",
           "automargin": true,
           "zerolinewidth": 2
          },
          "scene": {
           "xaxis": {
            "backgroundcolor": "rgb(17,17,17)",
            "gridcolor": "#506784",
            "linecolor": "#506784",
            "showbackground": true,
            "ticks": "",
            "zerolinecolor": "#C8D4E3",
            "gridwidth": 2
           },
           "yaxis": {
            "backgroundcolor": "rgb(17,17,17)",
            "gridcolor": "#506784",
            "linecolor": "#506784",
            "showbackground": true,
            "ticks": "",
            "zerolinecolor": "#C8D4E3",
            "gridwidth": 2
           },
           "zaxis": {
            "backgroundcolor": "rgb(17,17,17)",
            "gridcolor": "#506784",
            "linecolor": "#506784",
            "showbackground": true,
            "ticks": "",
            "zerolinecolor": "#C8D4E3",
            "gridwidth": 2
           }
          },
          "shapedefaults": {
           "line": {
            "color": "#f2f5fa"
           }
          },
          "annotationdefaults": {
           "arrowcolor": "#f2f5fa",
           "arrowhead": 0,
           "arrowwidth": 1
          },
          "geo": {
           "bgcolor": "rgb(17,17,17)",
           "landcolor": "rgb(17,17,17)",
           "subunitcolor": "#506784",
           "showland": true,
           "showlakes": true,
           "lakecolor": "rgb(17,17,17)"
          },
          "title": {
           "x": 0.05
          },
          "updatemenudefaults": {
           "bgcolor": "#506784",
           "borderwidth": 0
          },
          "sliderdefaults": {
           "bgcolor": "#C8D4E3",
           "borderwidth": 1,
           "bordercolor": "rgb(17,17,17)",
           "tickwidth": 0
          },
          "mapbox": {
           "style": "dark"
          }
         }
        },
        "xaxis": {
         "anchor": "y",
         "domain": [
          0.0,
          1.0
         ],
         "title": {
          "text": "Rank"
         },
         "type": "log"
        },
        "yaxis": {
         "anchor": "x",
         "domain": [
          0.0,
          1.0
         ],
         "title": {
          "text": "Maximum mode size"
         },
         "type": "log"
        },
        "coloraxis": {
         "colorbar": {
          "title": {
           "text": "Ratio of reduced<br>variables"
          }
         },
         "colorscale": [
          [
           0.0,
           "#0d0887"
          ],
          [
           0.1111111111111111,
           "#46039f"
          ],
          [
           0.2222222222222222,
           "#7201a8"
          ],
          [
           0.3333333333333333,
           "#9c179e"
          ],
          [
           0.4444444444444444,
           "#bd3786"
          ],
          [
           0.5555555555555556,
           "#d8576b"
          ],
          [
           0.6666666666666666,
           "#ed7953"
          ],
          [
           0.7777777777777778,
           "#fb9f3a"
          ],
          [
           0.8888888888888888,
           "#fdca26"
          ],
          [
           1.0,
           "#f0f921"
          ]
         ]
        },
        "legend": {
         "tracegroupgap": 0
        },
        "margin": {
         "t": 60
        },
        "title": {
         "text": "Influence of variable elimination on TT-ranks and max mode size for ex3",
         "x": 0.5,
         "xanchor": "center",
         "yanchor": "top"
        },
        "font": {
         "color": "black"
        },
        "plot_bgcolor": "white",
        "paper_bgcolor": "white"
       },
       "config": {
        "plotlyServerURL": "https://plot.ly"
       }
      },
      "text/html": [
       "<div>                            <div id=\"eed129f1-1823-4680-9a06-724a0e34afa3\" class=\"plotly-graph-div\" style=\"height:525px; width:100%;\"></div>            <script type=\"text/javascript\">                require([\"plotly\"], function(Plotly) {                    window.PLOTLYENV=window.PLOTLYENV || {};                                    if (document.getElementById(\"eed129f1-1823-4680-9a06-724a0e34afa3\")) {                    Plotly.newPlot(                        \"eed129f1-1823-4680-9a06-724a0e34afa3\",                        [{\"hovertemplate\":\"Rank=%{x}\\u003cbr\\u003emax_mode_size=%{y}\\u003cbr\\u003eRatio of reduced\\u003cbr\\u003evariables=%{marker.color}\\u003cextra\\u003e\\u003c\\u002fextra\\u003e\",\"legendgroup\":\"\",\"marker\":{\"color\":[0.0,0.0005491488193300384,0.001098297638660077,0.0016474464579901153,0.002196595277320154,0.0027457440966501922,0.0032948929159802307,0.003844041735310269,0.004393190554640308,0.004942339373970346,0.0054914881933003845,0.0060406370126304225,0.006589785831960461,0.007138934651290499,0.007688083470620538,0.008237232289950576,0.008786381109280615,0.009335529928610654,0.009884678747940691,0.01043382756727073,0.010982976386600769,0.011532125205930808,0.012081274025260845,0.012630422844590884,0.013179571663920923,0.013728720483250962,0.014277869302580999,0.014827018121911038,0.015376166941241077,0.015925315760571115,0.016474464579901153,0.017023613399231193,0.01757276221856123,0.018121911037891267,0.018671059857221308,0.019220208676551345,0.019769357495881382,0.020318506315211423,0.02086765513454146,0.0214168039538715,0.021965952773201538,0.022515101592531575,0.023064250411861616,0.023613399231191653,0.02416254805052169,0.02471169686985173,0.025260845689181768,0.02580999450851181,0.026359143327841845,0.026908292147171883,0.027457440966501923,0.02800658978583196,0.028555738605161998,0.029104887424492038,0.029654036243822075,0.030203185063152116,0.030752333882482153,0.03130148270181219,0.03185063152114223,0.032399780340472265,0.032948929159802305,0.033498077979132346,0.034047226798462386,0.03459637561779242,0.03514552443712246,0.0356946732564525,0.036243822075782535,0.036792970895112576,0.037342119714442616,0.03789126853377265,0.03844041735310269,0.03898956617243273,0.039538714991762765,0.040087863811092805,0.040637012630422846,0.04118616144975288,0.04173531026908292,0.04228445908841296,0.042833607907743,0.043382756727073035,0.043931905546403076,0.044481054365733116,0.04503020318506315,0.04557935200439319,0.04612850082372323,0.046677649643053265,0.047226798462383306,0.047775947281713346,0.04832509610104338,0.04887424492037342,0.04942339373970346,0.049972542559033495,0.050521691378363535,0.051070840197693576,0.05161998901702362,0.05216913783635365,0.05271828665568369,0.05326743547501373,0.053816584294343765,0.054365733113673806,0.054914881933003847,0.05546403075233388,0.05601317957166392,0.05656232839099396,0.057111477210323995,0.057660626029654036,0.058209774848984076,0.05875892366831411,0.05930807248764415,0.05985722130697419,0.06040637012630423,0.060955518945634266,0.061504667764964306,0.06205381658429435,0.06260296540362438,0.06315211422295441,0.06370126304228446,0.0642504118616145,0.06479956068094453,0.06534870950027458,0.06589785831960461,0.06644700713893466,0.06699615595826469,0.06754530477759473,0.06809445359692477,0.0686436024162548,0.06919275123558484,0.06974190005491489,0.07029104887424492,0.07084019769357495,0.071389346512905,0.07193849533223504,0.07248764415156507,0.07303679297089512,0.07358594179022515,0.07413509060955518,0.07468423942888523,0.07523338824821527,0.0757825370675453,0.07633168588687535,0.07688083470620538,0.07742998352553541,0.07797913234486546,0.0785282811641955,0.07907742998352553,0.07962657880285558,0.08017572762218561,0.08072487644151564,0.08127402526084569,0.08182317408017573,0.08237232289950576,0.0829214717188358,0.08347062053816584,0.08401976935749589,0.08456891817682592,0.08511806699615596,0.085667215815486,0.08621636463481604,0.08676551345414607,0.08731466227347612,0.08786381109280615,0.08841295991213619,0.08896210873146623,0.08951125755079627,0.0900604063701263,0.09060955518945635,0.09115870400878638,0.09170785282811642,0.09225700164744646,0.0928061504667765,0.09335529928610653,0.09390444810543658,0.09445359692476661,0.09500274574409664,0.09555189456342669,0.09610104338275673,0.09665019220208676,0.09719934102141681,0.09774848984074684,0.09829763866007687,0.09884678747940692,0.09939593629873696,0.09994508511806699,0.10049423393739704,0.10104338275672707,0.1015925315760571,0.10214168039538715,0.10269082921471719,0.10323997803404723,0.10378912685337727,0.1043382756727073,0.10488742449203735,0.10543657331136738,0.10598572213069742,0.10653487095002746,0.1070840197693575,0.10763316858868753,0.10818231740801758,0.10873146622734761,0.10928061504667765,0.10982976386600769,0.11037891268533773,0.11092806150466776,0.11147721032399781,0.11202635914332784,0.11257550796265788,0.11312465678198792,0.11367380560131796,0.11422295442064799,0.11477210323997804,0.11532125205930807,0.1158704008786381,0.11641954969796815,0.11696869851729819,0.11751784733662822,0.11806699615595827,0.1186161449752883,0.11916529379461833,0.11971444261394838,0.12026359143327842,0.12081274025260846,0.1213618890719385,0.12191103789126853,0.12246018671059858,0.12300933552992861,0.12355848434925865,0.1241076331685887,0.12465678198791873,0.12520593080724876,0.1257550796265788,0.12630422844590883,0.12685337726523888,0.12740252608456892,0.12795167490389894,0.128500823723229,0.12904997254255904,0.12959912136188906,0.1301482701812191,0.13069741900054915,0.1312465678198792,0.13179571663920922,0.13234486545853927,0.13289401427786932,0.13344316309719934,0.13399231191652938,0.13454146073585943,0.13509060955518945,0.1356397583745195,0.13618890719384955,0.13673805601317957,0.1372872048325096,0.13783635365183966,0.13838550247116968,0.13893465129049973,0.13948380010982978,0.1400329489291598,0.14058209774848984,0.1411312465678199,0.1416803953871499,0.14222954420647996,0.14277869302581,0.14332784184514002,0.14387699066447007,0.14442613948380012,0.14497528830313014,0.1455244371224602,0.14607358594179023,0.14662273476112025,0.1471718835804503,0.14772103239978035,0.14827018121911037,0.14881933003844042,0.14936847885777046,0.14991762767710048,0.15046677649643053,0.15101592531576058,0.1515650741350906,0.15211422295442065,0.1526633717737507,0.15321252059308071,0.15376166941241076,0.1543108182317408,0.15485996705107083,0.15540911587040088,0.15595826468973092,0.15650741350906094,0.157056562328391,0.15760571114772104,0.15815485996705106,0.1587040087863811,0.15925315760571115,0.15980230642504117,0.16035145524437122,0.16090060406370127,0.1614497528830313,0.16199890170236134,0.16254805052169138,0.1630971993410214,0.16364634816035145,0.1641954969796815,0.16474464579901152,0.16529379461834157,0.1658429434376716,0.16639209225700163,0.16694124107633168,0.16749038989566173,0.16803953871499178,0.1685886875343218,0.16913783635365184,0.1696869851729819,0.1702361339923119,0.17078528281164196,0.171334431630972,0.17188358045030203,0.17243272926963207,0.17298187808896212,0.17353102690829214,0.1740801757276222,0.17462932454695224,0.17517847336628226,0.1757276221856123,0.17627677100494235,0.17682591982427237,0.17737506864360242,0.17792421746293247,0.17847336628226249,0.17902251510159253,0.17957166392092258,0.1801208127402526,0.18066996155958265,0.1812191103789127,0.18176825919824272,0.18231740801757276,0.1828665568369028,0.18341570565623283,0.18396485447556288,0.18451400329489293,0.18506315211422295,0.185612300933553,0.18616144975288304,0.18671059857221306,0.1872597473915431,0.18780889621087316,0.18835804503020318,0.18890719384953322,0.18945634266886327,0.1900054914881933,0.19055464030752334,0.19110378912685339,0.1916529379461834,0.19220208676551345,0.1927512355848435,0.19330038440417352,0.19384953322350357,0.19439868204283361,0.19494783086216363,0.19549697968149368,0.19604612850082373,0.19659527732015375,0.1971444261394838,0.19769357495881384,0.19824272377814386,0.1987918725974739,0.19934102141680396,0.19989017023613398,0.20043931905546403,0.20098846787479407,0.2015376166941241,0.20208676551345414,0.2026359143327842,0.2031850631521142,0.20373421197144426,0.2042833607907743,0.20483250961010435,0.20538165842943437,0.20593080724876442,0.20647995606809447,0.2070291048874245,0.20757825370675453,0.20812740252608458,0.2086765513454146,0.20922570016474465,0.2097748489840747,0.21032399780340472,0.21087314662273476,0.2114222954420648,0.21197144426139483,0.21252059308072488,0.21306974190005493,0.21361889071938495,0.214168039538715,0.21471718835804504,0.21526633717737506,0.2158154859967051,0.21636463481603516,0.21691378363536518,0.21746293245469522,0.21801208127402527,0.2185612300933553,0.21911037891268534,0.21965952773201539,0.2202086765513454,0.22075782537067545,0.2213069741900055,0.22185612300933552,0.22240527182866557,0.22295442064799562,0.22350356946732564,0.22405271828665568,0.22460186710598573,0.22515101592531575,0.2257001647446458,0.22624931356397585,0.22679846238330587,0.2273476112026359,0.22789676002196596,0.22844590884129598,0.22899505766062603,0.22954420647995608,0.2300933552992861,0.23064250411861614,0.2311916529379462,0.2317408017572762,0.23228995057660626,0.2328390993959363,0.23338824821526633,0.23393739703459637,0.23448654585392642,0.23503569467325644,0.2355848434925865,0.23613399231191654,0.23668314113124655,0.2372322899505766,0.23778143876990665,0.23833058758923667,0.23887973640856672,0.23942888522789676,0.23997803404722678,0.24052718286655683,0.24107633168588688,0.24162548050521693,0.24217462932454695,0.242723778143877,0.24327292696320704,0.24382207578253706,0.2443712246018671,0.24492037342119716,0.24546952224052718,0.24601867105985722,0.24656781987918727,0.2471169686985173,0.24766611751784734,0.2482152663371774,0.2487644151565074,0.24931356397583745,0.2498627127951675,0.2504118616144975,0.25096101043382757,0.2515101592531576,0.25205930807248766,0.25260845689181766,0.2531576057111477,0.25370675453047775,0.2542559033498078,0.25480505216913785,0.2553542009884679,0.2559033498077979,0.25645249862712793,0.257001647446458,0.25755079626578803,0.2580999450851181,0.2586490939044481,0.2591982427237781,0.25974739154310816,0.2602965403624382,0.26084568918176826,0.2613948380010983,0.26194398682042835,0.2624931356397584,0.2630422844590884,0.26359143327841844,0.2641405820977485,0.26468973091707854,0.2652388797364086,0.26578802855573863,0.2663371773750686,0.26688632619439867,0.2674354750137287,0.26798462383305877,0.2685337726523888,0.26908292147171886,0.26963207029104885,0.2701812191103789,0.27073036792970895,0.271279516749039,0.27182866556836904,0.2723778143876991,0.2729269632070291,0.27347611202635913,0.2740252608456892,0.2745744096650192,0.2751235584843493,0.2756727073036793,0.2762218561230093,0.27677100494233936,0.2773201537616694,0.27786930258099946,0.2784184514003295,0.27896760021965955,0.27951674903898954,0.2800658978583196,0.28061504667764964,0.2811641954969797,0.28171334431630973,0.2822624931356398,0.2828116419549698,0.2833607907742998,0.28390993959362987,0.2844590884129599,0.28500823723228996,0.28555738605162,0.28610653487095,0.28665568369028005,0.2872048325096101,0.28775398132894014,0.2883031301482702,0.28885227896760024,0.28940142778693023,0.2899505766062603,0.2904997254255903,0.2910488742449204,0.2915980230642504,0.29214717188358047,0.29269632070291046,0.2932454695222405,0.29379461834157056,0.2943437671609006,0.29489291598023065,0.2954420647995607,0.2959912136188907,0.29654036243822074,0.2970895112575508,0.29763866007688083,0.2981878088962109,0.29873695771554093,0.299286106534871,0.29983525535420097,0.300384404173531,0.30093355299286106,0.3014827018121911,0.30203185063152116,0.3025809994508512,0.3031301482701812,0.30367929708951125,0.3042284459088413,0.30477759472817134,0.3053267435475014,0.30587589236683144,0.30642504118616143,0.3069741900054915,0.3075233388248215,0.30807248764415157,0.3086216364634816,0.30917078528281167,0.30971993410214166,0.3102690829214717,0.31081823174080175,0.3113673805601318,0.31191652937946185,0.3124656781987919,0.3130148270181219,0.31356397583745194,0.314113124656782,0.31466227347611203,0.3152114222954421,0.3157605711147721,0.3163097199341021,0.31685886875343217,0.3174080175727622,0.31795716639209226,0.3185063152114223,0.31905546403075236,0.31960461285008235,0.3201537616694124,0.32070291048874244,0.3212520593080725,0.32180120812740254,0.3223503569467326,0.3228995057660626,0.3234486545853926,0.3239978034047227,0.3245469522240527,0.32509610104338277,0.3256452498627128,0.3261943986820428,0.32674354750137286,0.3272926963207029,0.32784184514003295,0.328390993959363,0.32894014277869305,0.32948929159802304,0.3300384404173531,0.33058758923668313,0.3311367380560132,0.3316858868753432,0.3322350356946733,0.33278418451400327,0.3333333333333333,0.33388248215266336,0.3344316309719934,0.33498077979132346,0.3355299286106535,0.33607907742998355,0.33662822624931354,0.3371773750686436,0.33772652388797364,0.3382756727073037,0.33882482152663373,0.3393739703459638,0.3399231191652938,0.3404722679846238,0.34102141680395387,0.3415705656232839,0.34211971444261396,0.342668863261944,0.343218012081274,0.34376716090060405,0.3443163097199341,0.34486545853926415,0.3454146073585942,0.34596375617792424,0.34651290499725423,0.3470620538165843,0.34761120263591433,0.3481603514552444,0.3487095002745744,0.34925864909390447,0.34980779791323446,0.3503569467325645,0.35090609555189456,0.3514552443712246,0.35200439319055465,0.3525535420098847,0.3531026908292147,0.35365183964854474,0.3542009884678748,0.35475013728720484,0.3552992861065349,0.35584843492586493,0.3563975837451949,0.35694673256452497,0.357495881383855,0.35804503020318507,0.3585941790225151,0.35914332784184516,0.35969247666117515,0.3602416254805052,0.36079077429983525,0.3613399231191653,0.36188907193849534,0.3624382207578254,0.3629873695771554,0.36353651839648543,0.3640856672158155,0.3646348160351455,0.3651839648544756,0.3657331136738056,0.3662822624931356,0.36683141131246566,0.3673805601317957,0.36792970895112576,0.3684788577704558,0.36902800658978585,0.36957715540911584,0.3701263042284459,0.37067545304777594,0.371224601867106,0.37177375068643603,0.3723228995057661,0.37287204832509613,0.3734211971444261,0.37397034596375617,0.3745194947830862,0.37506864360241626,0.3756177924217463,0.37616694124107636,0.37671609006040635,0.3772652388797364,0.37781438769906645,0.3783635365183965,0.37891268533772654,0.3794618341570566,0.3800109829763866,0.3805601317957166,0.3811092806150467,0.3816584294343767,0.38220757825370677,0.3827567270730368,0.3833058758923668,0.38385502471169686,0.3844041735310269,0.38495332235035695,0.385502471169687,0.38605161998901705,0.38660076880834704,0.3871499176276771,0.38769906644700713,0.3882482152663372,0.38879736408566723,0.3893465129049973,0.38989566172432727,0.3904448105436573,0.39099395936298736,0.3915431081823174,0.39209225700164746,0.3926414058209775,0.3931905546403075,0.39373970345963755,0.3942888522789676,0.39483800109829764,0.3953871499176277,0.39593629873695774,0.39648544755628773,0.3970345963756178,0.3975837451949478,0.39813289401427787,0.3986820428336079,0.39923119165293797,0.39978034047226796,0.400329489291598,0.40087863811092805,0.4014277869302581,0.40197693574958815,0.4025260845689182,0.4030752333882482,0.40362438220757824,0.4041735310269083,0.40472267984623833,0.4052718286655684,0.4058209774848984,0.4063701263042284,0.40691927512355847,0.4074684239428885,0.40801757276221856,0.4085667215815486,0.40911587040087866,0.4096650192202087,0.4102141680395387,0.41076331685886874,0.4113124656781988,0.41186161449752884,0.4124107633168589,0.41295991213618893,0.4135090609555189,0.414058209774849,0.414607358594179,0.41515650741350907,0.4157056562328391,0.41625480505216916,0.41680395387149916,0.4173531026908292,0.41790225151015925,0.4184514003294893,0.41900054914881935,0.4195496979681494,0.4200988467874794,0.42064799560680943,0.4211971444261395,0.42174629324546953,0.4222954420647996,0.4228445908841296,0.4233937397034596,0.42394288852278966,0.4244920373421197,0.42504118616144976,0.4255903349807798,0.42613948380010985,0.42668863261943984,0.4272377814387699,0.42778693025809994,0.42833607907743,0.42888522789676004,0.4294343767160901,0.4299835255354201,0.4305326743547501,0.43108182317408017,0.4316309719934102,0.43218012081274026,0.4327292696320703,0.4332784184514003,0.43382756727073035,0.4343767160900604,0.43492586490939045,0.4354750137287205,0.43602416254805054,0.43657331136738053,0.4371224601867106,0.43767160900604063,0.4382207578253707,0.4387699066447007,0.43931905546403077,0.43986820428336076,0.4404173531026908,0.44096650192202086,0.4415156507413509,0.44206479956068095,0.442613948380011,0.443163097199341,0.44371224601867104,0.4442613948380011,0.44481054365733114,0.4453596924766612,0.44590884129599123,0.4464579901153213,0.44700713893465127,0.4475562877539813,0.44810543657331137,0.4486545853926414,0.44920373421197146,0.4497528830313015,0.4503020318506315,0.45085118066996155,0.4514003294892916,0.45194947830862164,0.4524986271279517,0.45304777594728174,0.45359692476661173,0.4541460735859418,0.4546952224052718,0.4552443712246019,0.4557935200439319,0.45634266886326197,0.45689181768259196,0.457440966501922,0.45799011532125206,0.4585392641405821,0.45908841295991215,0.4596375617792422,0.4601867105985722,0.46073585941790224,0.4612850082372323,0.46183415705656233,0.4623833058758924,0.46293245469522243,0.4634816035145524,0.46403075233388247,0.4645799011532125,0.46512904997254256,0.4656781987918726,0.46622734761120266,0.46677649643053265,0.4673256452498627,0.46787479406919275,0.4684239428885228,0.46897309170785284,0.4695222405271829,0.4700713893465129,0.4706205381658429,0.471169686985173,0.471718835804503,0.47226798462383307,0.4728171334431631,0.4733662822624931,0.47391543108182316,0.4744645799011532,0.47501372872048325,0.4755628775398133,0.47611202635914335,0.47666117517847334,0.4772103239978034,0.47775947281713343,0.4783086216364635,0.47885777045579353,0.4794069192751236,0.47995606809445357,0.4805052169137836,0.48105436573311366,0.4816035145524437,0.48215266337177376,0.4827018121911038,0.48325096101043385,0.48380010982976385,0.4843492586490939,0.48489840746842394,0.485447556287754,0.48599670510708404,0.4865458539264141,0.4870950027457441,0.4876441515650741,0.48819330038440417,0.4887424492037342,0.48929159802306427,0.4898407468423943,0.4903898956617243,0.49093904448105435,0.4914881933003844,0.49203734211971445,0.4925864909390445,0.49313563975837454,0.49368478857770454,0.4942339373970346,0.49478308621636463,0.4953322350356947,0.4958813838550247,0.4964305326743548,0.49697968149368477,0.4975288303130148,0.49807797913234486,0.4986271279516749,0.49917627677100496,0.499725425590335,0.500274574409665,0.500823723228995,0.5013728720483251,0.5019220208676551,0.5024711696869851,0.5030203185063152,0.5035694673256452,0.5041186161449753,0.5046677649643053,0.5052169137836353,0.5057660626029654,0.5063152114222954,0.5068643602416255,0.5074135090609555,0.5079626578802856,0.5085118066996156,0.5090609555189456,0.5096101043382757,0.5101592531576057,0.5107084019769358,0.5112575507962658,0.5118066996155958,0.5123558484349259,0.5129049972542559,0.513454146073586,0.514003294892916,0.5145524437122461,0.5151015925315761,0.515650741350906,0.5161998901702362,0.5167490389895661,0.5172981878088962,0.5178473366282262,0.5183964854475562,0.5189456342668863,0.5194947830862163,0.5200439319055464,0.5205930807248764,0.5211422295442065,0.5216913783635365,0.5222405271828665,0.5227896760021966,0.5233388248215266,0.5238879736408567,0.5244371224601867,0.5249862712795168,0.5255354200988468,0.5260845689181768,0.5266337177375069,0.5271828665568369,0.527732015376167,0.528281164195497,0.528830313014827,0.5293794618341571,0.5299286106534871,0.5304777594728172,0.5310269082921472,0.5315760571114773,0.5321252059308073,0.5326743547501372,0.5332235035694673,0.5337726523887973,0.5343218012081274,0.5348709500274574,0.5354200988467874,0.5359692476661175,0.5365183964854475,0.5370675453047776,0.5376166941241076,0.5381658429434377,0.5387149917627677,0.5392641405820977,0.5398132894014278,0.5403624382207578,0.5409115870400879,0.5414607358594179,0.5420098846787479,0.542559033498078,0.543108182317408,0.5436573311367381,0.5442064799560681,0.5447556287753982,0.5453047775947282,0.5458539264140582,0.5464030752333883,0.5469522240527183,0.5475013728720484,0.5480505216913784,0.5485996705107083,0.5491488193300385,0.5496979681493684,0.5502471169686985,0.5507962657880285,0.5513454146073586,0.5518945634266886,0.5524437122460186,0.5529928610653487,0.5535420098846787,0.5540911587040088,0.5546403075233388,0.5551894563426688,0.5557386051619989,0.5562877539813289,0.556836902800659,0.557386051619989,0.5579352004393191,0.5584843492586491,0.5590334980779791,0.5595826468973092,0.5601317957166392,0.5606809445359693,0.5612300933552993,0.5617792421746294,0.5623283909939594,0.5628775398132894,0.5634266886326195,0.5639758374519495,0.5645249862712796,0.5650741350906096,0.5656232839099395,0.5661724327292696,0.5667215815485996,0.5672707303679297,0.5678198791872597,0.5683690280065898,0.5689181768259198,0.5694673256452498,0.5700164744645799,0.5705656232839099,0.57111477210324,0.57166392092257,0.5722130697419,0.5727622185612301,0.5733113673805601,0.5738605161998902,0.5744096650192202,0.5749588138385503,0.5755079626578803,0.5760571114772103,0.5766062602965404,0.5771554091158704,0.5777045579352005,0.5782537067545305,0.5788028555738605,0.5793520043931906,0.5799011532125206,0.5804503020318507,0.5809994508511807,0.5815485996705108,0.5820977484898407,0.5826468973091707,0.5831960461285008,0.5837451949478308,0.5842943437671609,0.5848434925864909,0.5853926414058209,0.585941790225151,0.586490939044481,0.5870400878638111,0.5875892366831411,0.5881383855024712,0.5886875343218012,0.5892366831411312,0.5897858319604613,0.5903349807797913,0.5908841295991214,0.5914332784184514,0.5919824272377814,0.5925315760571115,0.5930807248764415,0.5936298736957716,0.5941790225151016,0.5947281713344317,0.5952773201537617,0.5958264689730917,0.5963756177924218,0.5969247666117518,0.5974739154310819,0.5980230642504119,0.598572213069742,0.599121361889072,0.5996705107084019,0.600219659527732,0.600768808347062,0.6013179571663921,0.6018671059857221,0.6024162548050521,0.6029654036243822,0.6035145524437122,0.6040637012630423,0.6046128500823723,0.6051619989017024,0.6057111477210324,0.6062602965403624,0.6068094453596925,0.6073585941790225,0.6079077429983526,0.6084568918176826,0.6090060406370126,0.6095551894563427,0.6101043382756727,0.6106534870950028,0.6112026359143328,0.6117517847336629,0.6123009335529929,0.6128500823723229,0.613399231191653,0.613948380010983,0.6144975288303131,0.615046677649643,0.615595826468973,0.6161449752883031,0.6166941241076331,0.6172432729269632,0.6177924217462932,0.6183415705656233,0.6188907193849533,0.6194398682042833,0.6199890170236134,0.6205381658429434,0.6210873146622735,0.6216364634816035,0.6221856123009335,0.6227347611202636,0.6232839099395936,0.6238330587589237,0.6243822075782537,0.6249313563975838,0.6254805052169138,0.6260296540362438,0.6265788028555739,0.6271279516749039,0.627677100494234,0.628226249313564,0.628775398132894,0.6293245469522241,0.629873695771554,0.6304228445908842,0.6309719934102141,0.6315211422295443,0.6320702910488742,0.6326194398682042,0.6331685886875343,0.6337177375068643,0.6342668863261944,0.6348160351455244,0.6353651839648545,0.6359143327841845,0.6364634816035145,0.6370126304228446,0.6375617792421746,0.6381109280615047,0.6386600768808347,0.6392092257001647,0.6397583745194948,0.6403075233388248,0.6408566721581549,0.6414058209774849,0.641954969796815,0.642504118616145,0.643053267435475,0.6436024162548051,0.6441515650741351,0.6447007138934652,0.6452498627127952,0.6457990115321252,0.6463481603514553,0.6468973091707853,0.6474464579901154,0.6479956068094453,0.6485447556287754,0.6490939044481054,0.6496430532674354,0.6501922020867655,0.6507413509060955,0.6512904997254256,0.6518396485447556,0.6523887973640856,0.6529379461834157,0.6534870950027457,0.6540362438220758,0.6545853926414058,0.6551345414607359,0.6556836902800659,0.6562328390993959,0.656781987918726,0.657331136738056,0.6578802855573861,0.6584294343767161,0.6589785831960461,0.6595277320153762,0.6600768808347062,0.6606260296540363,0.6611751784733663,0.6617243272926964,0.6622734761120264,0.6628226249313564,0.6633717737506865,0.6639209225700164,0.6644700713893466,0.6650192202086765,0.6655683690280065,0.6661175178473366,0.6666666666666666,0.6672158154859967,0.6677649643053267,0.6683141131246568,0.6688632619439868,0.6694124107633168,0.6699615595826469,0.6705107084019769,0.671059857221307,0.671609006040637,0.6721581548599671,0.6727073036792971,0.6732564524986271,0.6738056013179572,0.6743547501372872,0.6749038989566173,0.6754530477759473,0.6760021965952773,0.6765513454146074,0.6771004942339374,0.6776496430532675,0.6781987918725975,0.6787479406919276,0.6792970895112576,0.6798462383305875,0.6803953871499177,0.6809445359692476,0.6814936847885777,0.6820428336079077,0.6825919824272377,0.6831411312465678,0.6836902800658978,0.6842394288852279,0.6847885777045579,0.685337726523888,0.685886875343218,0.686436024162548,0.6869851729818781,0.6875343218012081,0.6880834706205382,0.6886326194398682,0.6891817682591982,0.6897309170785283,0.6902800658978583,0.6908292147171884,0.6913783635365184,0.6919275123558485,0.6924766611751785,0.6930258099945085,0.6935749588138386,0.6941241076331686,0.6946732564524987,0.6952224052718287,0.6957715540911587,0.6963207029104888,0.6968698517298187,0.6974190005491488,0.6979681493684788,0.6985172981878089,0.6990664470071389,0.6996155958264689,0.700164744645799,0.700713893465129,0.7012630422844591,0.7018121911037891,0.7023613399231191,0.7029104887424492,0.7034596375617792,0.7040087863811093,0.7045579352004393,0.7051070840197694,0.7056562328390994,0.7062053816584294,0.7067545304777595,0.7073036792970895,0.7078528281164196,0.7084019769357496,0.7089511257550797,0.7095002745744097,0.7100494233937397,0.7105985722130698,0.7111477210323998,0.7116968698517299,0.7122460186710599,0.7127951674903898,0.71334431630972,0.7138934651290499,0.71444261394838,0.71499176276771,0.7155409115870401,0.7160900604063701,0.7166392092257001,0.7171883580450302,0.7177375068643602,0.7182866556836903,0.7188358045030203,0.7193849533223503,0.7199341021416804,0.7204832509610104,0.7210323997803405,0.7215815485996705,0.7221306974190006,0.7226798462383306,0.7232289950576606,0.7237781438769907,0.7243272926963207,0.7248764415156508,0.7254255903349808,0.7259747391543108,0.7265238879736409,0.7270730367929709,0.727622185612301,0.728171334431631,0.7287204832509611,0.729269632070291,0.729818780889621,0.7303679297089511,0.7309170785282811,0.7314662273476112,0.7320153761669412,0.7325645249862712,0.7331136738056013,0.7336628226249313,0.7342119714442614,0.7347611202635914,0.7353102690829215,0.7358594179022515,0.7364085667215815,0.7369577155409116,0.7375068643602416,0.7380560131795717,0.7386051619989017,0.7391543108182317,0.7397034596375618,0.7402526084568918,0.7408017572762219,0.7413509060955519,0.741900054914882,0.742449203734212,0.742998352553542,0.7435475013728721,0.7440966501922021,0.7446457990115322,0.7451949478308622,0.7457440966501923,0.7462932454695222,0.7468423942888522,0.7473915431081823,0.7479406919275123,0.7484898407468424,0.7490389895661724,0.7495881383855024,0.7501372872048325,0.7506864360241625,0.7512355848434926,0.7517847336628226,0.7523338824821527,0.7528830313014827,0.7534321801208127,0.7539813289401428,0.7545304777594728,0.7550796265788029,0.7556287753981329,0.7561779242174629,0.756727073036793,0.757276221856123,0.7578253706754531,0.7583745194947831,0.7589236683141132,0.7594728171334432,0.7600219659527732,0.7605711147721033,0.7611202635914333,0.7616694124107634,0.7622185612300933,0.7627677100494233,0.7633168588687534,0.7638660076880834,0.7644151565074135,0.7649643053267435,0.7655134541460736,0.7660626029654036,0.7666117517847336,0.7671609006040637,0.7677100494233937,0.7682591982427238,0.7688083470620538,0.7693574958813838,0.7699066447007139,0.7704557935200439,0.771004942339374,0.771554091158704,0.7721032399780341,0.7726523887973641,0.7732015376166941,0.7737506864360242,0.7742998352553542,0.7748489840746843,0.7753981328940143,0.7759472817133443,0.7764964305326744,0.7770455793520044,0.7775947281713345,0.7781438769906645,0.7786930258099946,0.7792421746293245,0.7797913234486545,0.7803404722679846,0.7808896210873146,0.7814387699066447,0.7819879187259747,0.7825370675453048,0.7830862163646348,0.7836353651839648,0.7841845140032949,0.7847336628226249,0.785282811641955,0.785831960461285,0.786381109280615,0.7869302580999451,0.7874794069192751,0.7880285557386052,0.7885777045579352,0.7891268533772653,0.7896760021965953,0.7902251510159253,0.7907742998352554,0.7913234486545854,0.7918725974739155,0.7924217462932455,0.7929708951125755,0.7935200439319056,0.7940691927512356,0.7946183415705657,0.7951674903898956,0.7957166392092258,0.7962657880285557,0.7968149368478857,0.7973640856672158,0.7979132344865458,0.7984623833058759,0.7990115321252059,0.7995606809445359,0.800109829763866,0.800658978583196,0.8012081274025261,0.8017572762218561,0.8023064250411862,0.8028555738605162,0.8034047226798462,0.8039538714991763,0.8045030203185063,0.8050521691378364,0.8056013179571664,0.8061504667764964,0.8066996155958265,0.8072487644151565,0.8077979132344866,0.8083470620538166,0.8088962108731467,0.8094453596924767,0.8099945085118067,0.8105436573311368,0.8110928061504667,0.8116419549697969,0.8121911037891268,0.8127402526084568,0.8132894014277869,0.8138385502471169,0.814387699066447,0.814936847885777,0.8154859967051071,0.8160351455244371,0.8165842943437671,0.8171334431630972,0.8176825919824272,0.8182317408017573,0.8187808896210873,0.8193300384404174,0.8198791872597474,0.8204283360790774,0.8209774848984075,0.8215266337177375,0.8220757825370676,0.8226249313563976,0.8231740801757276,0.8237232289950577,0.8242723778143877,0.8248215266337178,0.8253706754530478,0.8259198242723779,0.8264689730917079,0.8270181219110379,0.827567270730368,0.828116419549698,0.828665568369028,0.829214717188358,0.829763866007688,0.8303130148270181,0.8308621636463481,0.8314113124656782,0.8319604612850082,0.8325096101043383,0.8330587589236683,0.8336079077429983,0.8341570565623284,0.8347062053816584,0.8352553542009885,0.8358045030203185,0.8363536518396485,0.8369028006589786,0.8374519494783086,0.8380010982976387,0.8385502471169687,0.8390993959362988,0.8396485447556288,0.8401976935749588,0.8407468423942889,0.8412959912136189,0.841845140032949,0.842394288852279,0.842943437671609,0.8434925864909391,0.844041735310269,0.8445908841295992,0.8451400329489291,0.8456891817682592,0.8462383305875892,0.8467874794069192,0.8473366282262493,0.8478857770455793,0.8484349258649094,0.8489840746842394,0.8495332235035694,0.8500823723228995,0.8506315211422295,0.8511806699615596,0.8517298187808896,0.8522789676002197,0.8528281164195497,0.8533772652388797,0.8539264140582098,0.8544755628775398,0.8550247116968699,0.8555738605161999,0.85612300933553,0.85667215815486,0.85722130697419,0.8577704557935201,0.8583196046128501,0.8588687534321802,0.8594179022515102,0.8599670510708401,0.8605161998901703,0.8610653487095002,0.8616144975288303,0.8621636463481603,0.8627127951674904,0.8632619439868204,0.8638110928061504,0.8643602416254805,0.8649093904448105,0.8654585392641406,0.8660076880834706,0.8665568369028006,0.8671059857221307,0.8676551345414607,0.8682042833607908,0.8687534321801208,0.8693025809994509,0.8698517298187809,0.8704008786381109,0.870950027457441,0.871499176276771,0.8720483250961011,0.8725974739154311,0.8731466227347611,0.8736957715540912,0.8742449203734212,0.8747940691927513,0.8753432180120813,0.8758923668314114,0.8764415156507414,0.8769906644700713,0.8775398132894014,0.8780889621087314,0.8786381109280615,0.8791872597473915,0.8797364085667215,0.8802855573860516,0.8808347062053816,0.8813838550247117,0.8819330038440417,0.8824821526633718,0.8830313014827018,0.8835804503020318,0.8841295991213619,0.8846787479406919,0.885227896760022,0.885777045579352,0.886326194398682,0.8868753432180121,0.8874244920373421,0.8879736408566722,0.8885227896760022,0.8890719384953323,0.8896210873146623,0.8901702361339923,0.8907193849533224,0.8912685337726524,0.8918176825919825,0.8923668314113125,0.8929159802306426,0.8934651290499726,0.8940142778693025,0.8945634266886326,0.8951125755079626,0.8956617243272927,0.8962108731466227,0.8967600219659527,0.8973091707852828,0.8978583196046128,0.8984074684239429,0.8989566172432729],\"coloraxis\":\"coloraxis\",\"symbol\":\"circle\"},\"mode\":\"markers\",\"name\":\"\",\"showlegend\":false,\"x\":[7.0,1376.0,59.0,68.0,105.0,22.0,1163.0,4.0,347.0,34.0,1.0,28.0,127.0,54.0,37.0,266.0,887.0,290.0,7.0,192.0,1.0,1158.0,19.0,438.0,7.0,10.0,13.0,678.0,31.0,1094.0,25.0,28.0,1.0,34.0,1.0,222.0,987.0,22.0,1.0,929.0,37.0,86.0,7.0,40.0,1.0,338.0,117.0,4.0,25.0,10.0,671.0,148.0,145.0,982.0,431.0,4.0,13.0,922.0,259.0,4.0,7.0,1094.0,1.0,16.0,19.0,10.0,1147.0,4.0,1.0,112.0,65.0,1295.0,185.0,660.0,1.0,72.0,13.0,52.0,95.0,122.0,1.0,466.0,215.0,100.0,25.0,422.0,13.0,956.0,1.0,10.0,7.0,28.0,855.0,902.0,31.0,4.0,649.0,10.0,1.0,276.0,1.0,252.0,25.0,4.0,63.0,1330.0,3263.0,4.0,7.0,54.0,141.0,842.0,1.0,140.0,7.0,4.0,415.0,112.0,37.0,320.0,723.0,936.0,1.0,16.0,1.0,178.0,49.0,1249.0,1.0,208.0,81.0,1306.0,7.0,22.0,19.0,16.0,13.0,10.0,925.0,448.0,269.0,1088.0,107.0,4.0,245.0,10.0,117.0,406.0,19.0,820.0,7.0,28.0,1.0,34.0,1.0,926.0,311.0,1290.0,1.0,16.0,31.0,90.0,95.0,4.0,1.0,616.0,13.0,4.0,437.0,136.0,37.0,1070.0,67.0,60.0,135.0,4.0,201.0,34.0,171.0,4.0,7.0,262.0,31.0,847.0,1.0,10.0,49.0,238.0,107.0,900.0,19.0,28.0,25.0,304.0,1.0,16.0,1245.0,428.0,7.0,4.0,1.0,1046.0,1.0,4.0,681.0,58.0,785.0,16.0,1.0,388.0,25.0,596.0,1.0,112.0,1.0,102.0,51.0,10.0,19.0,76.0,1.0,974.0,255.0,194.0,1.0,776.0,421.0,4.0,131.0,22.0,231.0,166.0,19.0,10.0,585.0,130.0,13.0,814.0,1.0,46.0,379.0,90.0,1.0,16.0,85.0,22.0,1013.0,4.0,1195.0,34.0,1.0,28.0,7.0,948.0,1.0,412.0,13.0,574.0,7.0,102.0,19.0,1002.0,1.0,248.0,25.0,10.0,13.0,290.0,1.0,62.0,187.0,370.0,1.0,224.0,849.0,4.0,55.0,22.0,1.0,16.0,107.0,1114.0,741.0,4.0,161.0,926.0,13.0,126.0,97.0,10.0,1.0,838.0,31.0,22.0,7.0,46.0,125.0,34.0,1.0,4.0,1147.0,730.0,363.0,554.0,241.0,10.0,55.0,4.0,71.0,772.0,1.0,28.0,7.0,394.0,31.0,16.0,217.0,182.0,25.0,4.0,85.0,958.0,1.0,48.0,7.0,814.0,547.0,80.0,1.0,10.0,97.0,28.0,1.0,356.0,1.0,4.0,949.0,156.0,1.0,710.0,1.0,276.0,385.0,4.0,19.0,234.0,121.0,102.0,7.0,538.0,1.0,936.0,43.0,10.0,25.0,4.0,13.0,120.0,699.0,210.0,7.0,92.0,1.0,747.0,177.0,1092.0,59.0,4.0,1.0,1382.0,1.0,378.0,527.0,22.0,1.0,16.0,777.0,690.0,269.0,52.0,31.0,916.0,1.0,4.0,7.0,10.0,229.0,16.0,1.0,22.0,151.0,1064.0,1.0,766.0,1.0,342.0,679.0,68.0,1.0,80.0,369.0,92.0,203.0,4.0,43.0,116.0,13.0,52.0,25.0,10.0,75.0,172.0,1.0,832.0,97.0,262.0,13.0,1048.0,115.0,4.0,7.0,996.0,1.0,16.0,31.0,10.0,335.0,222.0,19.0,360.0,45.0,28.0,7.0,10.0,87.0,983.0,13.0,22.0,7.0,4.0,1.0,500.0,19.0,146.0,733.0,198.0,1303.0,16.0,1.0,972.0,7.0,28.0,255.0,652.0,1.0,4.0,1011.0,328.0,167.0,16.0,1.0,726.0,25.0,56.0,111.0,40.0,13.0,4.0,217.0,998.0,19.0,856.0,87.0,10.0,7.0,4.0,13.0,788.0,75.0,110.0,25.0,92.0,49.0,16.0,19.0,22.0,63.0,344.0,191.0,248.0,1257.0,632.0,7.0,70.0,1.0,704.0,141.0,10.0,541.0,4.0,1.0,832.0,1.0,4.0,7.0,162.0,13.0,82.0,49.0,210.0,473.0,28.0,693.0,40.0,1.0,4.0,337.0,22.0,1.0,314.0,1.0,952.0,7.0,106.0,1.0,759.0,241.0,4.0,7.0,614.0,1.0,186.0,1.0,466.0,941.0,4.0,13.0,42.0,1.0,4.0,105.0,748.0,1.0,82.0,1.0,330.0,673.0,934.0,87.0,134.0,203.0,28.0,155.0,10.0,19.0,16.0,459.0,70.0,7.0,4.0,51.0,790.0,1.0,234.0,7.0,22.0,13.0,594.0,19.0,10.0,25.0,1421.0,1.0,908.0,179.0,58.0,65.0,10.0,37.0,450.0,77.0,296.0,101.0,4.0,1.0,46.0,585.0,4.0,25.0,721.0,1.0,196.0,1.0,10.0,7.0,4.0,2175.0,644.0,1.0,150.0,227.0,100.0,129.0,314.0,1.0,574.0,757.0,4.0,1.0,46.0,19.0,1122.0,289.0,22.0,77.0,82.0,13.0,174.0,7.0,4.0,1.0,746.0,37.0,4.0,569.0,436.0,13.0,16.0,1.0,22.0,7.0,634.0,189.0,1110.0,1.0,4.0,65.0,218.0,859.0,16.0,1.0,96.0,25.0,282.0,37.0,836.0,143.0,4.0,429.0,10.0,1.0,850.0,19.0,72.0,7.0,122.0,13.0,46.0,1.0,60.0,167.0,300.0,95.0,16.0,53.0,616.0,731.0,4.0,1.0,678.0,1.0,422.0,7.0,182.0,211.0,16.0,13.0,832.0,25.0,4.0,19.0,542.0,77.0,4.0,7.0,72.0,13.0,807.0,41.0,10.0,291.0,34.0,1.0,136.0,411.0,4.0,709.0,10.0,1.0,600.0,91.0,658.0,7.0,160.0,1.0,266.0,13.0,4.0,115.0,22.0,41.0,206.0,1.0,10.0,175.0,60.0,601.0,406.0,1.0,282.0,7.0,1090.0,19.0,88.0,1.0,22.0,67.0,4.0,1.0,830.0,1.0,32.0,1077.0,590.0,1.0,16.0,259.0,10.0,521.0,4.0,129.0,704.0,55.0,807.0,7.0,10.0,153.0,16.0,197.0,72.0,581.0,32.0,1.0,48.0,41.0,166.0,67.0,512.0,1.0,84.0,1.0,108.0,7.0,388.0,19.0,640.0,13.0,250.0,799.0,10.0,1.0,686.0,1.0,22.0,7.0,4.0,505.0,264.0,19.0,4.0,7.0,802.0,1.0,16.0,81.0,188.0,381.0,122.0,1.0,144.0,1.0,36.0,425.0,10.0,55.0,492.0,157.0,614.0,241.0,62.0,1.0,550.0,1.0,4.0,29.0,22.0,253.0,766.0,1.0,370.0,7.0,36.0,1.0,603.0,101.0,4.0,67.0,10.0,79.0,16.0,759.0,446.0,179.0,4.0,1.0,50.0,13.0,62.0,7.0,232.0,1.0,646.0,137.0,470.0,115.0,244.0,13.0,150.0,1.0,4.0,27.0,728.0,43.0,16.0,1.0,74.0,741.0,4.0,19.0,500.0,1.0,36.0,455.0,944.0,1.0,350.0,13.0,10.0,27.0,170.0,225.0,614.0,19.0,4.0,235.0,10.0,13.0,94.0,1.0,508.0,7.0,446.0,57.0,50.0,1.0,130.0,601.0,74.0,143.0,16.0,1.0,108.0,7.0,62.0,1.0,702.0,499.0,4.0,7.0,10.0,433.0,218.0,1.0,226.0,31.0,4.0,161.0,898.0,57.0,4.0,7.0,332.0,1.0,490.0,19.0,10.0,69.0,4.0,45.0,426.0,1.0,684.0,31.0,10.0,1.0,16.0,13.0,26.0,123.0,136.0,87.0,568.0,209.0,4.0,321.0,534.0,13.0,16.0,101.0,10.0,855.0,38.0,19.0,154.0,1.0,4.0,69.0,468.0,1.0,637.0,1.0,521.0,7.0,4.0,1.0,52.0,1615.0,312.0,31.0,24.0,57.0,210.0,45.0,200.0,459.0,4.0,13.0,512.0,1.0,4.0,129.0,116.0,1.0,636.0,1.0,24.0,393.0,64.0,1.0,52.0,147.0,446.0,7.0,82.0,807.0,96.0,623.0,10.0,7.0,4.0,201.0,522.0,1.0,4.0,193.0,384.0,13.0,16.0,433.0,614.0,7.0,40.0,1.0,292.0,1.0,64.0,513.0,28.0,1.0,16.0,1.0,122.0,605.0,4.0,109.0,424.0,13.0,140.0,7.0,192.0,1.0,504.0,1.0,28.0,7.0,186.0,283.0,52.0,47.0,4.0,33.0,470.0,91.0,364.0,1.0,10.0,77.0,4.0,59.0,748.0,23.0,40.0,7.0,10.0,1.0,16.0,13.0,554.0,185.0,274.0,47.0,568.0,115.0,4.0,133.0,28.0,179.0,104.0,1.0,10.0,7.0,730.0,1.0,448.0,59.0,4.0,395.0,10.0,21.0,16.0,1.0,346.0,267.0,4.0,1.0,532.0,13.0,178.0,7.0,86.0,1.0,456.0,21.0,384.0,37.0,4.0,13.0,170.0,1.0,70.0,337.0,126.0,1.0,108.0,47.0,258.0,451.0,4.0,1.0,54.0,97.0,42.0,925.0,526.0,1.0,678.0,169.0,10.0,7.0,328.0,25.0,440.0,1.0,4.0,7.0,10.0,515.0,366.0,163.0,30.0,35.0,42.0,1.0,54.0,25.0,4.0,81.0,650.0,119.0,502.0,1.0,484.0,7.0,4.0,103.0,162.0,13.0,4.0,641.0,10.0,1.0,240.0,65.0,92.0,7.0,475.0,13.0,312.0,1.0,156.0,7.0,348.0,25.0,20.0,1.0,486.0,407.0,4.0,1.0,466.0,49.0,42.0,7.0,10.0,155.0,114.0,307.0,32.0,345.0,4.0,1.0,608.0,1.0,74.0,37.0,96.0,13.0,18.0,1.0,10.0,147.0,474.0,49.0,568.0,1.0,298.0,85.0,230.0,1.0,18.0,1.0,370.0,37.0,148.0,465.0,58.0,13.0,4.0,7.0,30.0,1.0,384.0,107.0,10.0,289.0,4.0,1829.0,454.0,25.0,4.0,221.0,140.0,1.0,20.0,1.0,562.0,89.0,4.0,1.0,318.0,67.0,44.0,139.0,278.0,1.0,20.0,553.0,10.0,37.0,78.0,1.0,368.0,1.0,210.0,7.0,10.0,307.0,554.0,1.0,100.0,7.0,44.0,131.0,414.0,1.0,4.0,429.0,32.0,53.0,20.0,27.0,130.0,7.0,312.0,1.0,538.0,209.0,82.0,7.0,434.0,1.0,270.0,1.0,32.0,801.0,4.0,15.0,60.0,1.0,4.0,309.0,408.0,71.0,122.0,1.0,10.0,93.0,4.0,25.0,196.0,125.0,572.0,37.0,10.0,1.0,412.0,13.0,300.0,7.0,4.0,1.0,511.0,561.0,4.0,7.0,32.0,13.0,20.0,73.0,248.0,37.0,46.0,187.0,548.0,111.0,4.0,351.0,10.0,1.0,118.0,1.0,394.0,7.0,84.0,53.0,64.0,15.0,4.0,241.0,308.0,27.0,276.0,1.0,10.0,387.0,176.0,15.0,362.0,1.0,4.0,7.0,626.0,1.0,22.0,27.0,102.0,501.0,230.0,109.0,66.0,1.0,345.0,7.0,32.0,1.0,686.0,15.0,488.0,167.0,4.0,75.0,438.0,1.0,4.0,39.0,248.0,221.0,20.0,57.0,32.0,7.0,46.0,27.0,346.0,1.0,4.0,93.0,100.0,1.0,466.0,1.0,154.0,239.0,4.0,1.0,208.0,349.0,4.0,7.0,10.0,59.0,290.0,1.0,312.0,7.0,4.0,15.0,66.0,1.0,226.0,603.0,434.0,1.0,22.0,143.0,10.0,93.0,84.0,1.0,388.0,1.0,50.0,319.0,10.0,27.0,22.0,213.0,32.0,39.0,4.0,1.0,369.0,1.0,186.0,7.0,308.0,17.0,132.0,27.0,10.0,7.0,52.0,1.0,204.0,59.0,86.0,537.0,10.0,77.0,22.0,1.0,486.0,177.0,4.0,1.0,386.0,15.0,4.0,7.0,262.0,125.0,286.0,1.0,10.0,43.0,4.0,377.0,338.0,1.0,4.0,7.0,164.0,1.0,247.0,77.0,32.0,229.0,176.0,1.0,68.0,27.0,52.0,45.0,114.0,1.0,22.0,17.0,256.0,345.0,4.0,155.0,310.0,1.0,4.0,165.0,10.0,17.0,22.0,1.0,344.0,247.0,231.0,1.0,70.0,1.0,4.0,105.0,36.0,629.0,142.0,59.0,158.0,7.0,240.0,1.0,286.0,17.0,4.0,45.0,12.0,1.0,316.0,27.0,38.0,7.0,4.0,227.0,269.0,131.0,94.0,7.0,366.0,61.0,22.0,1.0,10.0,401.0,4.0,1.0,212.0,1.0,52.0,7.0,292.0,1.0,136.0,17.0,120.0,7.0,4.0,29.0,243.0,83.0,4.0,281.0,38.0,17.0,490.0,1.0,12.0,7.0,52.0,123.0,234.0,31.0,192.0,113.0,12.0,1.0,22.0,1.0,312.0,45.0,4.0,1.0,74.0,249.0,4.0,179.0,112.0,1.0,332.0,1.0,12.0,7.0,102.0,17.0,236.0,1.0,4.0,45.0,170.0,31.0,22.0,1.0,402.0,101.0,4.0,65.0,302.0,1.0,271.0,7.0,38.0,91.0,24.0,413.0,12.0,301.0,218.0,1.0,254.0,1.0,94.0,7.0,12.0,17.0,148.0,1.0,38.0,203.0,56.0,1.0,80.0,1.0,4.0,269.0,356.0,1.0,24.0,85.0,188.0,7.0,4.0,31.0,256.0,17.0,4.0,7.0,12.0,1.0,209.0,71.0,126.0,47.0,4.0,19.0,78.0,31.0,4.0,7.0,198.0,1.0,170.0,1.0,316.0,113.0,4.0,1.0,270.0,1.0,62.0,291.0,12.0,69.0,24.0,19.0,40.0],\"xaxis\":\"x\",\"y\":[607.0,13.0,107.0,101.0,79.0,227.0,15.0,907.0,37.0,151.0,1811.0,181.0,67.0,113.0,139.0,43.0,19.0,41.0,601.0,53.0,1801.0,15.0,257.0,31.0,599.0,449.0,359.0,23.0,163.0,16.0,199.0,179.0,1789.0,149.0,1787.0,47.0,17.0,223.0,1783.0,18.0,137.0,89.0,593.0,127.0,1777.0,37.0,71.0,887.0,197.0,443.0,23.0,59.0,61.0,17.0,31.0,883.0,353.0,18.0,43.0,881.0,587.0,16.0,1759.0,293.0,251.0,439.0,15.0,877.0,1753.0,73.0,103.0,14.0,53.0,23.0,1747.0,97.0,349.0,109.0,83.0,67.0,1741.0,29.0,47.0,79.0,193.0,31.0,347.0,17.0,1733.0,433.0,577.0,173.0,19.0,18.0,157.0,863.0,23.0,431.0,1723.0,41.0,1721.0,43.0,191.0,859.0,101.0,13.0,7.0,857.0,571.0,107.0,59.0,19.0,1709.0,61.0,569.0,853.0,31.0,71.0,131.0,37.0,21.0,17.0,1699.0,283.0,1697.0,53.0,113.0,14.0,1693.0,47.0,89.0,13.0,563.0,211.0,241.0,281.0,337.0,421.0,17.0,29.0,41.0,15.0,73.0,839.0,43.0,419.0,67.0,31.0,239.0,19.0,557.0,167.0,1669.0,139.0,1667.0,17.0,37.0,13.0,1663.0,277.0,151.0,83.0,79.0,829.0,1657.0,23.0,331.0,827.0,29.0,59.0,127.0,15.0,97.0,103.0,61.0,823.0,47.0,137.0,53.0,821.0,547.0,41.0,149.0,18.0,1637.0,409.0,109.0,43.0,71.0,17.0,233.0,163.0,181.0,37.0,1627.0,271.0,13.0,29.0,541.0,811.0,1621.0,15.0,1619.0,809.0,21.0,101.0,19.0,269.0,1613.0,31.0,179.0,23.0,1609.0,67.0,1607.0,73.0,107.0,401.0,229.0,89.0,1601.0,16.0,41.0,47.0,1597.0,19.0,29.0,797.0,59.0,199.0,43.0,53.0,227.0,397.0,23.0,61.0,317.0,18.0,1583.0,113.0,31.0,79.0,1579.0,263.0,83.0,197.0,15.0,787.0,13.0,131.0,1571.0,157.0,523.0,16.0,1567.0,29.0,313.0,23.0,521.0,71.0,223.0,15.0,1559.0,41.0,173.0,389.0,311.0,37.0,1553.0,97.0,47.0,31.0,1549.0,43.0,17.0,773.0,103.0,193.0,1543.0,257.0,67.0,14.0,19.0,769.0,53.0,16.0,307.0,59.0,73.0,383.0,1531.0,17.0,139.0,191.0,509.0,109.0,61.0,127.0,1523.0,761.0,13.0,19.0,31.0,23.0,41.0,379.0,101.0,757.0,89.0,18.0,1511.0,151.0,503.0,29.0,137.0,251.0,43.0,47.0,167.0,751.0,79.0,15.0,1499.0,107.0,499.0,17.0,23.0,83.0,1493.0,373.0,71.0,149.0,1489.0,31.0,1487.0,743.0,15.0,53.0,1483.0,19.0,1481.0,37.0,29.0,739.0,211.0,41.0,59.0,67.0,491.0,23.0,1471.0,15.0,113.0,367.0,163.0,733.0,293.0,61.0,19.0,43.0,487.0,73.0,1459.0,18.0,47.0,13.0,97.0,727.0,1453.0,11.0,1451.0,29.0,23.0,181.0,1447.0,241.0,17.0,19.0,37.0,103.0,131.0,15.0,1439.0,719.0,479.0,359.0,41.0,239.0,1433.0,179.0,53.0,13.0,1429.0,17.0,1427.0,31.0,19.0,89.0,1423.0,79.0,29.0,71.0,43.0,709.0,109.0,59.0,283.0,101.0,157.0,353.0,83.0,47.0,1409.0,16.0,67.0,37.0,281.0,13.0,61.0,701.0,467.0,14.0,1399.0,233.0,127.0,349.0,31.0,41.0,199.0,29.0,107.0,139.0,463.0,347.0,73.0,14.0,277.0,173.0,461.0,691.0,1381.0,23.0,197.0,53.0,17.0,43.0,11.0,229.0,1373.0,14.0,457.0,137.0,37.0,19.0,1367.0,683.0,13.0,31.0,47.0,227.0,1361.0,17.0,151.0,97.0,59.0,113.0,271.0,677.0,41.0,13.0,193.0,15.0,71.0,337.0,449.0,673.0,269.0,16.0,79.0,61.0,149.0,67.0,103.0,223.0,191.0,167.0,89.0,29.0,43.0,37.0,11.0,19.0,443.0,83.0,1327.0,17.0,53.0,331.0,21.0,661.0,1321.0,15.0,1319.0,659.0,439.0,47.0,263.0,73.0,101.0,41.0,23.0,131.0,17.0,109.0,1307.0,653.0,29.0,163.0,1303.0,31.0,1301.0,13.0,433.0,59.0,1297.0,16.0,37.0,647.0,431.0,19.0,1291.0,43.0,1289.0,23.0,13.0,643.0,257.0,107.0,1283.0,641.0,61.0,16.0,1279.0,71.0,1277.0,29.0,17.0,13.0,67.0,53.0,41.0,127.0,47.0,317.0,181.0,211.0,23.0,79.0,421.0,631.0,97.0,15.0,1259.0,37.0,419.0,157.0,251.0,19.0,179.0,313.0,139.0,10.0,1249.0,13.0,43.0,89.0,83.0,311.0,113.0,23.0,73.0,31.0,59.0,619.0,1237.0,103.0,19.0,617.0,137.0,16.0,1231.0,41.0,1229.0,307.0,409.0,613.0,7.0,17.0,1223.0,47.0,37.0,61.0,53.0,29.0,1217.0,19.0,15.0,607.0,1213.0,101.0,173.0,11.0,31.0,151.0,71.0,67.0,241.0,43.0,401.0,601.0,1201.0,15.0,109.0,599.0,19.0,23.0,239.0,199.0,1193.0,149.0,397.0,17.0,41.0,11.0,1187.0,593.0,79.0,37.0,13.0,197.0,1181.0,59.0,131.0,31.0,107.0,14.0,47.0,587.0,23.0,293.0,1171.0,13.0,167.0,73.0,389.0,53.0,233.0,97.0,1163.0,83.0,43.0,29.0,61.0,193.0,89.0,17.0,15.0,577.0,1153.0,16.0,1151.0,23.0,383.0,41.0,37.0,191.0,229.0,13.0,127.0,571.0,163.0,19.0,67.0,569.0,379.0,71.0,227.0,14.0,103.0,283.0,29.0,113.0,1129.0,47.0,23.0,563.0,15.0,281.0,1123.0,17.0,59.0,16.0,373.0,43.0,1117.0,31.0,223.0,557.0,53.0,139.0,101.0,37.0,1109.0,277.0,41.0,79.0,17.0,23.0,1103.0,29.0,367.0,11.0,157.0,61.0,1097.0,137.0,73.0,547.0,1093.0,13.0,1091.0,109.0,11.0,17.0,1087.0,181.0,31.0,271.0,19.0,541.0,47.0,15.0,83.0,14.0,359.0,269.0,43.0,179.0,37.0,67.0,17.0,107.0,1069.0,89.0,97.0,41.0,71.0,19.0,1063.0,59.0,1061.0,53.0,353.0,23.0,151.0,16.0,211.0,31.0,13.0,263.0,1051.0,15.0,1049.0,131.0,349.0,523.0,19.0,29.0,149.0,521.0,347.0,13.0,1039.0,173.0,61.0,37.0,23.0,47.0,1033.0,43.0,1031.0,103.0,21.0,257.0,79.0,19.0,41.0,16.0,31.0,73.0,1021.0,17.0,1019.0,509.0,113.0,127.0,29.0,13.0,1013.0,23.0,337.0,101.0,1009.0,16.0,53.0,503.0,67.0,251.0,59.0,167.0,13.0,20.0,37.0,499.0,997.0,83.0,199.0,71.0,331.0,31.0,991.0,15.0,43.0,19.0,47.0,29.0,197.0,41.0,983.0,491.0,109.0,14.0,89.0,163.0,977.0,61.0,13.0,487.0,139.0,18.0,971.0,97.0,19.0,11.0,967.0,23.0,193.0,241.0,107.0,37.0,31.0,15.0,137.0,479.0,29.0,239.0,191.0,53.0,953.0,17.0,317.0,19.0,73.0,79.0,947.0,43.0,15.0,59.0,41.0,157.0,941.0,47.0,313.0,67.0,937.0,13.0,17.0,467.0,311.0,233.0,19.0,31.0,929.0,29.0,103.0,463.0,37.0,11.0,71.0,461.0,307.0,23.0,919.0,17.0,131.0,229.0,61.0,457.0,83.0,19.0,911.0,13.0,101.0,227.0,907.0,151.0,181.0,113.0,43.0,41.0,53.0,15.0,31.0,449.0,23.0,16.0,179.0,149.0,47.0,223.0,11.0,89.0,127.0,37.0,887.0,443.0,59.0,17.0,883.0,14.0,881.0,16.0,293.0,439.0,877.0,73.0,7.0,23.0,97.0,109.0,67.0,29.0,79.0,31.0,17.0,433.0,173.0,16.0,863.0,431.0,41.0,43.0,859.0,13.0,857.0,107.0,19.0,61.0,853.0,71.0,37.0,17.0,283.0,53.0,11.0,47.0,13.0,211.0,281.0,421.0,29.0,15.0,839.0,419.0,31.0,19.0,167.0,139.0,17.0,13.0,277.0,83.0,829.0,23.0,827.0,59.0,15.0,103.0,823.0,137.0,821.0,41.0,13.0,409.0,43.0,17.0,163.0,37.0,271.0,29.0,811.0,15.0,809.0,101.0,269.0,31.0,23.0,67.0,73.0,401.0,89.0,16.0,47.0,19.0,797.0,199.0,53.0,397.0,61.0,11.0,113.0,79.0,263.0,197.0,787.0,131.0,157.0,14.0,29.0,23.0,71.0,13.0,41.0,389.0,37.0,97.0,31.0,43.0,773.0,193.0,257.0,11.0,769.0,16.0,59.0,383.0,17.0,191.0,109.0,127.0,761.0,19.0,23.0,379.0,757.0,14.0,151.0,29.0,251.0,47.0,751.0,15.0,107.0,17.0,83.0,373.0,149.0,31.0,743.0,53.0,19.0,37.0,739.0,41.0,67.0,23.0,15.0,367.0,733.0,61.0,43.0,73.0,9.0,13.0,727.0,11.0,29.0,181.0,241.0,19.0,103.0,15.0,719.0,359.0,239.0,179.0,13.0,17.0,31.0,89.0,79.0,71.0,709.0,59.0,101.0,353.0,47.0,11.0,37.0,13.0,701.0,14.0,233.0,349.0,41.0,29.0,139.0,347.0,11.0,173.0,691.0,23.0,53.0,43.0,229.0,14.0,137.0,19.0,683.0,31.0,227.0,17.0,97.0,113.0,677.0,13.0,15.0,337.0,673.0,14.0,61.0,67.0,223.0,167.0,29.0,37.0,19.0,83.0,17.0,331.0,661.0,11.0,659.0,47.0,73.0,41.0,131.0,109.0,653.0,163.0,31.0,13.0,59.0,12.0,647.0,19.0,43.0,23.0,643.0,107.0,641.0,16.0,71.0,29.0,13.0,53.0,127.0,317.0,211.0,79.0,631.0,15.0,37.0,157.0,19.0,313.0,5.0,13.0,89.0,311.0,23.0,31.0,619.0,103.0,617.0,11.0,41.0,307.0,613.0,17.0,47.0,61.0,29.0,19.0,607.0,101.0,11.0,151.0,67.0,43.0,601.0,15.0,599.0,23.0,199.0,149.0,17.0,11.0,593.0,37.0,197.0,59.0,31.0,14.0,587.0,293.0,13.0,73.0,53.0,97.0,83.0,29.0,193.0,17.0,577.0,12.0,23.0,41.0,191.0,13.0,571.0,19.0,569.0,71.0,9.0,283.0,113.0,47.0,563.0,281.0,17.0,14.0,43.0,31.0,557.0,139.0,37.0,277.0,79.0,23.0,29.0,11.0,61.0,137.0,547.0,13.0,109.0,17.0,181.0,271.0,541.0,12.0,11.0,269.0,179.0,67.0,107.0,89.0,41.0,19.0,59.0,53.0,23.0,11.0,31.0,263.0,15.0,131.0,523.0,29.0,521.0,13.0,173.0,37.0,47.0,43.0,103.0,257.0,19.0,16.0,73.0,17.0,509.0,127.0,13.0,23.0,101.0,14.0,503.0,251.0,167.0,10.0,499.0,83.0,71.0,31.0,11.0,19.0,29.0,41.0,491.0,14.0,163.0,61.0,487.0,9.0,97.0,11.0,23.0,241.0,37.0,12.0,479.0,239.0,53.0,17.0,19.0,79.0,43.0,59.0,157.0,47.0,67.0,13.0,467.0,233.0,31.0,29.0,463.0,11.0,461.0,23.0,17.0,229.0,457.0,19.0,13.0,227.0,151.0,113.0,41.0,15.0,449.0,14.0,149.0,223.0,89.0,37.0,443.0,17.0,9.0,11.0,439.0,73.0,23.0,109.0,29.0,31.0,433.0,12.0,431.0,43.0,13.0,107.0,61.0,71.0,17.0,53.0,47.0,211.0,421.0,12.0,419.0,19.0,139.0,13.0,83.0,23.0,59.0,103.0,137.0,41.0,409.0,17.0,37.0,29.0,9.0,101.0,31.0,67.0,401.0,10.0,19.0,199.0,397.0,11.0,79.0,197.0,131.0,14.0,23.0,13.0,389.0,97.0,43.0,193.0,11.0,12.0,383.0,191.0,127.0,19.0,379.0,14.0,29.0,47.0,15.0,17.0,373.0,31.0,53.0,37.0,41.0,23.0,367.0,61.0,73.0,13.0,11.0,181.0,19.0,12.0,359.0,179.0,17.0,89.0,71.0,59.0,353.0,11.0,13.0,14.0,349.0,29.0,347.0,173.0,23.0,43.0,7.0,19.0,31.0,17.0,113.0,13.0,337.0,12.0,67.0,167.0,37.0,83.0,331.0,11.0,47.0,41.0,109.0,163.0,13.0,12.0,19.0,23.0,107.0,10.0,29.0,53.0,317.0,79.0,9.0,157.0,313.0,13.0,311.0,31.0,103.0,11.0,307.0,17.0,61.0,19.0,101.0,151.0,43.0,12.0,23.0,149.0,11.0,37.0,59.0,7.0,293.0,73.0,97.0,29.0,17.0,12.0,41.0,13.0,19.0,71.0,283.0,47.0,281.0,10.0,31.0,139.0,277.0,23.0,11.0,137.0,13.0,17.0,271.0,9.0,269.0,67.0,89.0,19.0,53.0,11.0,263.0,131.0,29.0,13.0,37.0,43.0,257.0,8.0,17.0,127.0,23.0,9.0,251.0,10.0,83.0,31.0,19.0,41.0,7.0,61.0,9.0,11.0,241.0,10.0,239.0,17.0,79.0,59.0,47.0,13.0,233.0,29.0,11.0,23.0,229.0,19.0,227.0,113.0,9.0,7.0,223.0,37.0,17.0,11.0,73.0,109.0,31.0,9.0,43.0,107.0,71.0,53.0,211.0,10.0,19.0,13.0,23.0,103.0,41.0,17.0,29.0,101.0,67.0,10.0,199.0,11.0,197.0,7.0,13.0,97.0,193.0,8.0,191.0,19.0,7.0,47.0,17.0,31.0,37.0,23.0],\"yaxis\":\"y\",\"type\":\"scattergl\"}],                        {\"template\":{\"data\":{\"histogram2dcontour\":[{\"type\":\"histogram2dcontour\",\"colorbar\":{\"outlinewidth\":0,\"ticks\":\"\"},\"colorscale\":[[0.0,\"#0d0887\"],[0.1111111111111111,\"#46039f\"],[0.2222222222222222,\"#7201a8\"],[0.3333333333333333,\"#9c179e\"],[0.4444444444444444,\"#bd3786\"],[0.5555555555555556,\"#d8576b\"],[0.6666666666666666,\"#ed7953\"],[0.7777777777777778,\"#fb9f3a\"],[0.8888888888888888,\"#fdca26\"],[1.0,\"#f0f921\"]]}],\"choropleth\":[{\"type\":\"choropleth\",\"colorbar\":{\"outlinewidth\":0,\"ticks\":\"\"}}],\"histogram2d\":[{\"type\":\"histogram2d\",\"colorbar\":{\"outlinewidth\":0,\"ticks\":\"\"},\"colorscale\":[[0.0,\"#0d0887\"],[0.1111111111111111,\"#46039f\"],[0.2222222222222222,\"#7201a8\"],[0.3333333333333333,\"#9c179e\"],[0.4444444444444444,\"#bd3786\"],[0.5555555555555556,\"#d8576b\"],[0.6666666666666666,\"#ed7953\"],[0.7777777777777778,\"#fb9f3a\"],[0.8888888888888888,\"#fdca26\"],[1.0,\"#f0f921\"]]}],\"heatmap\":[{\"type\":\"heatmap\",\"colorbar\":{\"outlinewidth\":0,\"ticks\":\"\"},\"colorscale\":[[0.0,\"#0d0887\"],[0.1111111111111111,\"#46039f\"],[0.2222222222222222,\"#7201a8\"],[0.3333333333333333,\"#9c179e\"],[0.4444444444444444,\"#bd3786\"],[0.5555555555555556,\"#d8576b\"],[0.6666666666666666,\"#ed7953\"],[0.7777777777777778,\"#fb9f3a\"],[0.8888888888888888,\"#fdca26\"],[1.0,\"#f0f921\"]]}],\"heatmapgl\":[{\"type\":\"heatmapgl\",\"colorbar\":{\"outlinewidth\":0,\"ticks\":\"\"},\"colorscale\":[[0.0,\"#0d0887\"],[0.1111111111111111,\"#46039f\"],[0.2222222222222222,\"#7201a8\"],[0.3333333333333333,\"#9c179e\"],[0.4444444444444444,\"#bd3786\"],[0.5555555555555556,\"#d8576b\"],[0.6666666666666666,\"#ed7953\"],[0.7777777777777778,\"#fb9f3a\"],[0.8888888888888888,\"#fdca26\"],[1.0,\"#f0f921\"]]}],\"contourcarpet\":[{\"type\":\"contourcarpet\",\"colorbar\":{\"outlinewidth\":0,\"ticks\":\"\"}}],\"contour\":[{\"type\":\"contour\",\"colorbar\":{\"outlinewidth\":0,\"ticks\":\"\"},\"colorscale\":[[0.0,\"#0d0887\"],[0.1111111111111111,\"#46039f\"],[0.2222222222222222,\"#7201a8\"],[0.3333333333333333,\"#9c179e\"],[0.4444444444444444,\"#bd3786\"],[0.5555555555555556,\"#d8576b\"],[0.6666666666666666,\"#ed7953\"],[0.7777777777777778,\"#fb9f3a\"],[0.8888888888888888,\"#fdca26\"],[1.0,\"#f0f921\"]]}],\"surface\":[{\"type\":\"surface\",\"colorbar\":{\"outlinewidth\":0,\"ticks\":\"\"},\"colorscale\":[[0.0,\"#0d0887\"],[0.1111111111111111,\"#46039f\"],[0.2222222222222222,\"#7201a8\"],[0.3333333333333333,\"#9c179e\"],[0.4444444444444444,\"#bd3786\"],[0.5555555555555556,\"#d8576b\"],[0.6666666666666666,\"#ed7953\"],[0.7777777777777778,\"#fb9f3a\"],[0.8888888888888888,\"#fdca26\"],[1.0,\"#f0f921\"]]}],\"mesh3d\":[{\"type\":\"mesh3d\",\"colorbar\":{\"outlinewidth\":0,\"ticks\":\"\"}}],\"scatter\":[{\"marker\":{\"line\":{\"color\":\"#283442\"}},\"type\":\"scatter\"}],\"parcoords\":[{\"type\":\"parcoords\",\"line\":{\"colorbar\":{\"outlinewidth\":0,\"ticks\":\"\"}}}],\"scatterpolargl\":[{\"type\":\"scatterpolargl\",\"marker\":{\"colorbar\":{\"outlinewidth\":0,\"ticks\":\"\"}}}],\"bar\":[{\"error_x\":{\"color\":\"#f2f5fa\"},\"error_y\":{\"color\":\"#f2f5fa\"},\"marker\":{\"line\":{\"color\":\"rgb(17,17,17)\",\"width\":0.5},\"pattern\":{\"fillmode\":\"overlay\",\"size\":10,\"solidity\":0.2}},\"type\":\"bar\"}],\"scattergeo\":[{\"type\":\"scattergeo\",\"marker\":{\"colorbar\":{\"outlinewidth\":0,\"ticks\":\"\"}}}],\"scatterpolar\":[{\"type\":\"scatterpolar\",\"marker\":{\"colorbar\":{\"outlinewidth\":0,\"ticks\":\"\"}}}],\"histogram\":[{\"marker\":{\"pattern\":{\"fillmode\":\"overlay\",\"size\":10,\"solidity\":0.2}},\"type\":\"histogram\"}],\"scattergl\":[{\"marker\":{\"line\":{\"color\":\"#283442\"}},\"type\":\"scattergl\"}],\"scatter3d\":[{\"type\":\"scatter3d\",\"line\":{\"colorbar\":{\"outlinewidth\":0,\"ticks\":\"\"}},\"marker\":{\"colorbar\":{\"outlinewidth\":0,\"ticks\":\"\"}}}],\"scattermapbox\":[{\"type\":\"scattermapbox\",\"marker\":{\"colorbar\":{\"outlinewidth\":0,\"ticks\":\"\"}}}],\"scatterternary\":[{\"type\":\"scatterternary\",\"marker\":{\"colorbar\":{\"outlinewidth\":0,\"ticks\":\"\"}}}],\"scattercarpet\":[{\"type\":\"scattercarpet\",\"marker\":{\"colorbar\":{\"outlinewidth\":0,\"ticks\":\"\"}}}],\"carpet\":[{\"aaxis\":{\"endlinecolor\":\"#A2B1C6\",\"gridcolor\":\"#506784\",\"linecolor\":\"#506784\",\"minorgridcolor\":\"#506784\",\"startlinecolor\":\"#A2B1C6\"},\"baxis\":{\"endlinecolor\":\"#A2B1C6\",\"gridcolor\":\"#506784\",\"linecolor\":\"#506784\",\"minorgridcolor\":\"#506784\",\"startlinecolor\":\"#A2B1C6\"},\"type\":\"carpet\"}],\"table\":[{\"cells\":{\"fill\":{\"color\":\"#506784\"},\"line\":{\"color\":\"rgb(17,17,17)\"}},\"header\":{\"fill\":{\"color\":\"#2a3f5f\"},\"line\":{\"color\":\"rgb(17,17,17)\"}},\"type\":\"table\"}],\"barpolar\":[{\"marker\":{\"line\":{\"color\":\"rgb(17,17,17)\",\"width\":0.5},\"pattern\":{\"fillmode\":\"overlay\",\"size\":10,\"solidity\":0.2}},\"type\":\"barpolar\"}],\"pie\":[{\"automargin\":true,\"type\":\"pie\"}]},\"layout\":{\"autotypenumbers\":\"strict\",\"colorway\":[\"#636efa\",\"#EF553B\",\"#00cc96\",\"#ab63fa\",\"#FFA15A\",\"#19d3f3\",\"#FF6692\",\"#B6E880\",\"#FF97FF\",\"#FECB52\"],\"font\":{\"color\":\"#f2f5fa\"},\"hovermode\":\"closest\",\"hoverlabel\":{\"align\":\"left\"},\"paper_bgcolor\":\"rgb(17,17,17)\",\"plot_bgcolor\":\"rgb(17,17,17)\",\"polar\":{\"bgcolor\":\"rgb(17,17,17)\",\"angularaxis\":{\"gridcolor\":\"#506784\",\"linecolor\":\"#506784\",\"ticks\":\"\"},\"radialaxis\":{\"gridcolor\":\"#506784\",\"linecolor\":\"#506784\",\"ticks\":\"\"}},\"ternary\":{\"bgcolor\":\"rgb(17,17,17)\",\"aaxis\":{\"gridcolor\":\"#506784\",\"linecolor\":\"#506784\",\"ticks\":\"\"},\"baxis\":{\"gridcolor\":\"#506784\",\"linecolor\":\"#506784\",\"ticks\":\"\"},\"caxis\":{\"gridcolor\":\"#506784\",\"linecolor\":\"#506784\",\"ticks\":\"\"}},\"coloraxis\":{\"colorbar\":{\"outlinewidth\":0,\"ticks\":\"\"}},\"colorscale\":{\"sequential\":[[0.0,\"#0d0887\"],[0.1111111111111111,\"#46039f\"],[0.2222222222222222,\"#7201a8\"],[0.3333333333333333,\"#9c179e\"],[0.4444444444444444,\"#bd3786\"],[0.5555555555555556,\"#d8576b\"],[0.6666666666666666,\"#ed7953\"],[0.7777777777777778,\"#fb9f3a\"],[0.8888888888888888,\"#fdca26\"],[1.0,\"#f0f921\"]],\"sequentialminus\":[[0.0,\"#0d0887\"],[0.1111111111111111,\"#46039f\"],[0.2222222222222222,\"#7201a8\"],[0.3333333333333333,\"#9c179e\"],[0.4444444444444444,\"#bd3786\"],[0.5555555555555556,\"#d8576b\"],[0.6666666666666666,\"#ed7953\"],[0.7777777777777778,\"#fb9f3a\"],[0.8888888888888888,\"#fdca26\"],[1.0,\"#f0f921\"]],\"diverging\":[[0,\"#8e0152\"],[0.1,\"#c51b7d\"],[0.2,\"#de77ae\"],[0.3,\"#f1b6da\"],[0.4,\"#fde0ef\"],[0.5,\"#f7f7f7\"],[0.6,\"#e6f5d0\"],[0.7,\"#b8e186\"],[0.8,\"#7fbc41\"],[0.9,\"#4d9221\"],[1,\"#276419\"]]},\"xaxis\":{\"gridcolor\":\"#283442\",\"linecolor\":\"#506784\",\"ticks\":\"\",\"title\":{\"standoff\":15},\"zerolinecolor\":\"#283442\",\"automargin\":true,\"zerolinewidth\":2},\"yaxis\":{\"gridcolor\":\"#283442\",\"linecolor\":\"#506784\",\"ticks\":\"\",\"title\":{\"standoff\":15},\"zerolinecolor\":\"#283442\",\"automargin\":true,\"zerolinewidth\":2},\"scene\":{\"xaxis\":{\"backgroundcolor\":\"rgb(17,17,17)\",\"gridcolor\":\"#506784\",\"linecolor\":\"#506784\",\"showbackground\":true,\"ticks\":\"\",\"zerolinecolor\":\"#C8D4E3\",\"gridwidth\":2},\"yaxis\":{\"backgroundcolor\":\"rgb(17,17,17)\",\"gridcolor\":\"#506784\",\"linecolor\":\"#506784\",\"showbackground\":true,\"ticks\":\"\",\"zerolinecolor\":\"#C8D4E3\",\"gridwidth\":2},\"zaxis\":{\"backgroundcolor\":\"rgb(17,17,17)\",\"gridcolor\":\"#506784\",\"linecolor\":\"#506784\",\"showbackground\":true,\"ticks\":\"\",\"zerolinecolor\":\"#C8D4E3\",\"gridwidth\":2}},\"shapedefaults\":{\"line\":{\"color\":\"#f2f5fa\"}},\"annotationdefaults\":{\"arrowcolor\":\"#f2f5fa\",\"arrowhead\":0,\"arrowwidth\":1},\"geo\":{\"bgcolor\":\"rgb(17,17,17)\",\"landcolor\":\"rgb(17,17,17)\",\"subunitcolor\":\"#506784\",\"showland\":true,\"showlakes\":true,\"lakecolor\":\"rgb(17,17,17)\"},\"title\":{\"x\":0.05},\"updatemenudefaults\":{\"bgcolor\":\"#506784\",\"borderwidth\":0},\"sliderdefaults\":{\"bgcolor\":\"#C8D4E3\",\"borderwidth\":1,\"bordercolor\":\"rgb(17,17,17)\",\"tickwidth\":0},\"mapbox\":{\"style\":\"dark\"}}},\"xaxis\":{\"anchor\":\"y\",\"domain\":[0.0,1.0],\"title\":{\"text\":\"Rank\"},\"type\":\"log\"},\"yaxis\":{\"anchor\":\"x\",\"domain\":[0.0,1.0],\"title\":{\"text\":\"Maximum mode size\"},\"type\":\"log\"},\"coloraxis\":{\"colorbar\":{\"title\":{\"text\":\"Ratio of reduced\\u003cbr\\u003evariables\"}},\"colorscale\":[[0.0,\"#0d0887\"],[0.1111111111111111,\"#46039f\"],[0.2222222222222222,\"#7201a8\"],[0.3333333333333333,\"#9c179e\"],[0.4444444444444444,\"#bd3786\"],[0.5555555555555556,\"#d8576b\"],[0.6666666666666666,\"#ed7953\"],[0.7777777777777778,\"#fb9f3a\"],[0.8888888888888888,\"#fdca26\"],[1.0,\"#f0f921\"]]},\"legend\":{\"tracegroupgap\":0},\"margin\":{\"t\":60},\"title\":{\"text\":\"Influence of variable elimination on TT-ranks and max mode size for ex3\",\"x\":0.5,\"xanchor\":\"center\",\"yanchor\":\"top\"},\"font\":{\"color\":\"black\"},\"plot_bgcolor\":\"white\",\"paper_bgcolor\":\"white\"},                        {\"responsive\": true}                    ).then(function(){\n",
       "                            \n",
       "var gd = document.getElementById('eed129f1-1823-4680-9a06-724a0e34afa3');\n",
       "var x = new MutationObserver(function (mutations, observer) {{\n",
       "        var display = window.getComputedStyle(gd).display;\n",
       "        if (!display || display === 'none') {{\n",
       "            console.log([gd, 'removed!']);\n",
       "            Plotly.purge(gd);\n",
       "            observer.disconnect();\n",
       "        }}\n",
       "}});\n",
       "\n",
       "// Listen for the removal of the full notebook cells\n",
       "var notebookContainer = gd.closest('#notebook-container');\n",
       "if (notebookContainer) {{\n",
       "    x.observe(notebookContainer, {childList: true});\n",
       "}}\n",
       "\n",
       "// Listen for the clearing of the current output cell\n",
       "var outputEl = gd.closest('.output');\n",
       "if (outputEl) {{\n",
       "    x.observe(outputEl, {childList: true});\n",
       "}}\n",
       "\n",
       "                        })                };                });            </script>        </div>"
      ]
     },
     "metadata": {},
     "output_type": "display_data"
    }
   ],
   "execution_count": 21
  },
  {
   "metadata": {
    "ExecuteTime": {
     "end_time": "2024-08-24T17:19:52.768938Z",
     "start_time": "2024-08-24T17:19:52.753337Z"
    }
   },
   "cell_type": "code",
   "source": "",
   "id": "5ec853453aa3eee4",
   "outputs": [],
   "execution_count": 21
  }
 ],
 "metadata": {
  "kernelspec": {
   "display_name": "Python 3",
   "language": "python",
   "name": "python3"
  },
  "language_info": {
   "codemirror_mode": {
    "name": "ipython",
    "version": 2
   },
   "file_extension": ".py",
   "mimetype": "text/x-python",
   "name": "python",
   "nbconvert_exporter": "python",
   "pygments_lexer": "ipython2",
   "version": "2.7.6"
  }
 },
 "nbformat": 4,
 "nbformat_minor": 5
}
