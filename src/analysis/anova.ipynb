{
 "cells": [
  {
   "cell_type": "code",
   "id": "initial_id",
   "metadata": {
    "collapsed": true,
    "ExecuteTime": {
     "end_time": "2024-07-10T14:50:46.264192Z",
     "start_time": "2024-07-10T14:50:46.245038Z"
    }
   },
   "source": [
    "import pandas as pd\n",
    "import numpy as np\n",
    "import matplotlib.pyplot as plt\n",
    "import plotly.express as px\n",
    "import statsmodels.api as sm\n",
    "from statsmodels.formula.api import ols\n",
    "\n",
    "from analysis.analysis_utils import add_tt_mals_runtime_cols, line_plot_padding_tile_size_tt_mals_runtime_per_matrix, get_percentage_change_per_category, get_percentage_change_per_double_category, line_plot_tile_size_rank_percentage_per_matrix\n",
    "pd.set_option('display.max_rows', 500)\n",
    "pd.set_option('display.max_columns', 500)\n",
    "pd.set_option('display.width', 1000)"
   ],
   "outputs": [],
   "execution_count": 5
  },
  {
   "metadata": {
    "ExecuteTime": {
     "end_time": "2024-07-10T14:50:47.117331Z",
     "start_time": "2024-07-10T14:50:46.958406Z"
    }
   },
   "cell_type": "code",
   "source": [
    "df1 = pd.read_csv('../../data/sweep_0_10_data1.csv')\n",
    "df2 = pd.read_csv('../../data/sweep_0_10_data2.csv')\n",
    "df = pd.concat([df1, df2], axis=0)\n",
    "df.drop(columns=[\"run_id\", \"run_name\", \"_runtime\", \"_step\", \"_timestamp\", \"gauss_threshold\"], inplace=True)\n",
    "df = add_tt_mals_runtime_cols(df)\n",
    "df.shape"
   ],
   "id": "84e9a4849c6a568f",
   "outputs": [
    {
     "data": {
      "text/plain": [
       "(28604, 13)"
      ]
     },
     "execution_count": 6,
     "metadata": {},
     "output_type": "execute_result"
    }
   ],
   "execution_count": 6
  },
  {
   "metadata": {},
   "cell_type": "markdown",
   "source": [
    "# first check assumptions for ANOVA\n",
    "There are three primary assumptions in ANOVA:\n",
    "\n",
    "1. The responses for each factor level have a normal population distribution.\n",
    "2. These distributions have the same variance.\n",
    "3. The data are independent."
   ],
   "id": "1c4b011474d309f"
  },
  {
   "metadata": {},
   "cell_type": "code",
   "outputs": [],
   "execution_count": null,
   "source": "",
   "id": "da25ee8970f1e80c"
  },
  {
   "metadata": {
    "ExecuteTime": {
     "end_time": "2024-07-10T14:50:48.129100Z",
     "start_time": "2024-07-10T14:50:47.617764Z"
    }
   },
   "cell_type": "code",
   "source": [
    "# statistical significance of individual components\n",
    "df_lm = ols('log_obj_func ~ tile_size + C(rcm) + C(padding) + C(amd) + C(partial_gauss)', data=df).fit() #Specify C for Categorical\n",
    "print(sm.stats.anova_lm(df_lm, typ=2))"
   ],
   "id": "adcf91f7c1aece46",
   "outputs": [
    {
     "name": "stdout",
     "output_type": "stream",
     "text": [
      "                        sum_sq       df             F    PR(>F)\n",
      "C(rcm)            2.401508e+01      1.0      0.524414  0.468971\n",
      "C(padding)        1.193318e+03     10.0      2.605832  0.003673\n",
      "C(amd)            2.187177e+00      1.0      0.047761  0.827008\n",
      "C(partial_gauss)  1.208393e+03     10.0      2.638751  0.003263\n",
      "tile_size         1.203326e+06      1.0  26276.851520  0.000000\n",
      "Residual          1.308796e+06  28580.0           NaN       NaN\n"
     ]
    }
   ],
   "execution_count": 7
  },
  {
   "metadata": {
    "ExecuteTime": {
     "end_time": "2024-07-10T14:50:51.390767Z",
     "start_time": "2024-07-10T14:50:49.001786Z"
    }
   },
   "cell_type": "code",
   "source": [
    "# statistical significance of pairwise interactions of components\n",
    "df_lm = ols('log_obj_func ~ tile_size + C(rcm) + C(padding) + C(amd) + C(partial_gauss)' \\\n",
    "            '+ tile_size * C(rcm)' \\\n",
    "            '+ tile_size * C(padding)' \\\n",
    "            '+ tile_size * C(amd)' \\\n",
    "            '+ tile_size * C(partial_gauss)' \\\n",
    "            '+ C(rcm) * C(padding)' \\\n",
    "            '+ C(rcm) * C(amd)' \\\n",
    "            '+ C(rcm) * C(partial_gauss)' \\\n",
    "            '+ C(padding) * C(amd)' \\\n",
    "            '+ C(padding) * C(partial_gauss)' \\\n",
    "            '+ C(amd) * C(partial_gauss)' \\\n",
    "            , data=df).fit() #Specify C for Categorical\n",
    "print(sm.stats.anova_lm(df_lm, typ=2))"
   ],
   "id": "84060a7896cb6398",
   "outputs": [
    {
     "name": "stdout",
     "output_type": "stream",
     "text": [
      "                                   sum_sq       df             F         PR(>F)\n",
      "C(rcm)                       2.143032e+01      1.0      0.482793   4.871656e-01\n",
      "C(padding)                   1.195405e+03     10.0      2.693069   2.679633e-03\n",
      "C(amd)                       1.688573e+00      1.0      0.038041   8.453622e-01\n",
      "C(partial_gauss)             1.211275e+03     10.0      2.728820   2.352303e-03\n",
      "C(rcm):C(padding)            4.560327e+00     10.0      0.010274   1.000000e+00\n",
      "C(rcm):C(amd)                2.174646e+00      1.0      0.048992   8.248291e-01\n",
      "C(rcm):C(partial_gauss)      4.754519e+00     10.0      0.010711   1.000000e+00\n",
      "C(padding):C(amd)            5.466051e+00     10.0      0.012314   1.000000e+00\n",
      "C(padding):C(partial_gauss)  4.690339e+04    100.0     10.566629  4.493827e-156\n",
      "C(amd):C(partial_gauss)      4.178454e+00     10.0      0.009413   1.000000e+00\n",
      "tile_size                    1.163236e+06      1.0  26205.954163   0.000000e+00\n",
      "tile_size:C(rcm)             3.222184e+00      1.0      0.072591   7.876030e-01\n",
      "tile_size:C(padding)         1.975243e+02     10.0      0.444993   9.247611e-01\n",
      "tile_size:C(amd)             1.215483e-04      1.0      0.000003   9.986797e-01\n",
      "tile_size:C(partial_gauss)   1.835141e+02     10.0      0.413430   9.410717e-01\n",
      "Residual                     1.261380e+06  28417.0           NaN            NaN\n"
     ]
    }
   ],
   "execution_count": 8
  },
  {
   "metadata": {},
   "cell_type": "code",
   "outputs": [],
   "execution_count": null,
   "source": "",
   "id": "5c0f2175cce8d7b9"
  }
 ],
 "metadata": {
  "kernelspec": {
   "display_name": "Python 3",
   "language": "python",
   "name": "python3"
  },
  "language_info": {
   "codemirror_mode": {
    "name": "ipython",
    "version": 2
   },
   "file_extension": ".py",
   "mimetype": "text/x-python",
   "name": "python",
   "nbconvert_exporter": "python",
   "pygments_lexer": "ipython2",
   "version": "2.7.6"
  }
 },
 "nbformat": 4,
 "nbformat_minor": 5
}
