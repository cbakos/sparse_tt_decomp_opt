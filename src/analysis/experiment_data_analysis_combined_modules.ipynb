{
 "cells": [
  {
   "cell_type": "code",
   "id": "initial_id",
   "metadata": {
    "collapsed": true,
    "ExecuteTime": {
     "end_time": "2024-07-12T16:09:35.846272Z",
     "start_time": "2024-07-12T16:09:31.206532Z"
    }
   },
   "source": [
    "import pandas as pd\n",
    "import numpy as np\n",
    "import matplotlib.pyplot as plt\n",
    "import plotly.express as px\n",
    "import plotly.graph_objects as go\n",
    "import statsmodels.api as sm\n",
    "from statsmodels.formula.api import ols\n",
    "from scipy.stats import ttest_ind, ttest_rel, mannwhitneyu, norm, normaltest\n",
    "\n",
    "from analysis.analysis_utils import add_tt_mals_runtime_cols, line_plot_padding_tile_size_tt_mals_runtime_per_matrix, get_percentage_change_per_category, get_percentage_change_per_double_category, line_plot_tile_size_rank_percentage_per_matrix, normality_check_histogram\n"
   ],
   "outputs": [],
   "execution_count": 1
  },
  {
   "metadata": {
    "ExecuteTime": {
     "end_time": "2024-07-12T16:09:36.001070Z",
     "start_time": "2024-07-12T16:09:35.849376Z"
    }
   },
   "cell_type": "code",
   "source": [
    "df1 = pd.read_csv('../../data/sweep_0_10_data1.csv')\n",
    "df2 = pd.read_csv('../../data/sweep_0_10_data2.csv')\n",
    "df = pd.concat([df1, df2], axis=0)\n",
    "df.drop(columns=[\"run_id\", \"run_name\", \"_runtime\", \"_step\", \"_timestamp\", \"gauss_threshold\"], inplace=True)\n",
    "df.shape"
   ],
   "id": "c29cb153a3df9b77",
   "outputs": [
    {
     "data": {
      "text/plain": [
       "(28604, 11)"
      ]
     },
     "execution_count": 2,
     "metadata": {},
     "output_type": "execute_result"
    }
   ],
   "execution_count": 2
  },
  {
   "metadata": {
    "ExecuteTime": {
     "end_time": "2024-07-12T16:09:37.208370Z",
     "start_time": "2024-07-12T16:09:37.165821Z"
    }
   },
   "cell_type": "code",
   "source": "df.tail()",
   "id": "34fa1169bea37ac5",
   "outputs": [
    {
     "data": {
      "text/plain": [
       "       amd   rcm  padding   matrix_name  partial_gauss        n    rank  \\\n",
       "9403  True  True        2  Pres_Poisson              5  14819.0  1625.0   \n",
       "9404  True  True        2  Pres_Poisson              5  14819.0   325.0   \n",
       "9405  True  True        2  Pres_Poisson              5  14819.0    85.0   \n",
       "9406  True  True        2  Pres_Poisson              5  14819.0    19.0   \n",
       "9407  True  True        2  Pres_Poisson              5  14819.0     1.0   \n",
       "\n",
       "      z_reduced    z_full  max_mode_size  tile_size  \n",
       "9403   718845.0  623417.0           73.0       73.0  \n",
       "9404   718845.0  623417.0          203.0      203.0  \n",
       "9405   718845.0  623417.0          511.0      511.0  \n",
       "9406   718845.0  623417.0         2117.0     2117.0  \n",
       "9407   718845.0  623417.0        14819.0    14819.0  "
      ],
      "text/html": [
       "<div>\n",
       "<style scoped>\n",
       "    .dataframe tbody tr th:only-of-type {\n",
       "        vertical-align: middle;\n",
       "    }\n",
       "\n",
       "    .dataframe tbody tr th {\n",
       "        vertical-align: top;\n",
       "    }\n",
       "\n",
       "    .dataframe thead th {\n",
       "        text-align: right;\n",
       "    }\n",
       "</style>\n",
       "<table border=\"1\" class=\"dataframe\">\n",
       "  <thead>\n",
       "    <tr style=\"text-align: right;\">\n",
       "      <th></th>\n",
       "      <th>amd</th>\n",
       "      <th>rcm</th>\n",
       "      <th>padding</th>\n",
       "      <th>matrix_name</th>\n",
       "      <th>partial_gauss</th>\n",
       "      <th>n</th>\n",
       "      <th>rank</th>\n",
       "      <th>z_reduced</th>\n",
       "      <th>z_full</th>\n",
       "      <th>max_mode_size</th>\n",
       "      <th>tile_size</th>\n",
       "    </tr>\n",
       "  </thead>\n",
       "  <tbody>\n",
       "    <tr>\n",
       "      <th>9403</th>\n",
       "      <td>True</td>\n",
       "      <td>True</td>\n",
       "      <td>2</td>\n",
       "      <td>Pres_Poisson</td>\n",
       "      <td>5</td>\n",
       "      <td>14819.0</td>\n",
       "      <td>1625.0</td>\n",
       "      <td>718845.0</td>\n",
       "      <td>623417.0</td>\n",
       "      <td>73.0</td>\n",
       "      <td>73.0</td>\n",
       "    </tr>\n",
       "    <tr>\n",
       "      <th>9404</th>\n",
       "      <td>True</td>\n",
       "      <td>True</td>\n",
       "      <td>2</td>\n",
       "      <td>Pres_Poisson</td>\n",
       "      <td>5</td>\n",
       "      <td>14819.0</td>\n",
       "      <td>325.0</td>\n",
       "      <td>718845.0</td>\n",
       "      <td>623417.0</td>\n",
       "      <td>203.0</td>\n",
       "      <td>203.0</td>\n",
       "    </tr>\n",
       "    <tr>\n",
       "      <th>9405</th>\n",
       "      <td>True</td>\n",
       "      <td>True</td>\n",
       "      <td>2</td>\n",
       "      <td>Pres_Poisson</td>\n",
       "      <td>5</td>\n",
       "      <td>14819.0</td>\n",
       "      <td>85.0</td>\n",
       "      <td>718845.0</td>\n",
       "      <td>623417.0</td>\n",
       "      <td>511.0</td>\n",
       "      <td>511.0</td>\n",
       "    </tr>\n",
       "    <tr>\n",
       "      <th>9406</th>\n",
       "      <td>True</td>\n",
       "      <td>True</td>\n",
       "      <td>2</td>\n",
       "      <td>Pres_Poisson</td>\n",
       "      <td>5</td>\n",
       "      <td>14819.0</td>\n",
       "      <td>19.0</td>\n",
       "      <td>718845.0</td>\n",
       "      <td>623417.0</td>\n",
       "      <td>2117.0</td>\n",
       "      <td>2117.0</td>\n",
       "    </tr>\n",
       "    <tr>\n",
       "      <th>9407</th>\n",
       "      <td>True</td>\n",
       "      <td>True</td>\n",
       "      <td>2</td>\n",
       "      <td>Pres_Poisson</td>\n",
       "      <td>5</td>\n",
       "      <td>14819.0</td>\n",
       "      <td>1.0</td>\n",
       "      <td>718845.0</td>\n",
       "      <td>623417.0</td>\n",
       "      <td>14819.0</td>\n",
       "      <td>14819.0</td>\n",
       "    </tr>\n",
       "  </tbody>\n",
       "</table>\n",
       "</div>"
      ]
     },
     "execution_count": 3,
     "metadata": {},
     "output_type": "execute_result"
    }
   ],
   "execution_count": 3
  },
  {
   "metadata": {
    "ExecuteTime": {
     "end_time": "2024-07-12T16:09:37.239961Z",
     "start_time": "2024-07-12T16:09:37.212296Z"
    }
   },
   "cell_type": "code",
   "source": "df = add_tt_mals_runtime_cols(df)",
   "id": "7024644443a70788",
   "outputs": [],
   "execution_count": 4
  },
  {
   "metadata": {
    "ExecuteTime": {
     "end_time": "2024-07-12T15:51:10.823977Z",
     "start_time": "2024-07-12T15:51:10.450672Z"
    }
   },
   "cell_type": "code",
   "source": [
    "# important: we only care about best tile size choice rows that get enabled by these approaches (unless we want to plot the complete picture)\n",
    "# so drop the rest of the rows for this analysis\n",
    "# idx = df.groupby(by=['amd', 'rcm', \"padding\", \"matrix_name\", \"partial_gauss\"])['log_obj_func'].idxmin()\n",
    "# df = df.loc[idx].reset_index(drop=True)"
   ],
   "id": "dc88335b1017680",
   "outputs": [],
   "execution_count": 104
  },
  {
   "metadata": {
    "ExecuteTime": {
     "end_time": "2024-07-12T16:09:46.575866Z",
     "start_time": "2024-07-12T16:09:46.538732Z"
    }
   },
   "cell_type": "code",
   "source": "df",
   "id": "2c3658327581e697",
   "outputs": [
    {
     "data": {
      "text/plain": [
       "        amd   rcm  padding   matrix_name  partial_gauss        n     rank  \\\n",
       "0     False  True        8        ex10hs              5   2551.0      1.0   \n",
       "1     False  True        8        ex10hs              8   2548.0  16886.0   \n",
       "2     False  True        8        ex10hs              8   2548.0   6453.0   \n",
       "3     False  True        8        ex10hs              8   2548.0   4009.0   \n",
       "4     False  True        8        ex10hs              8   2548.0   1752.0   \n",
       "...     ...   ...      ...           ...            ...      ...      ...   \n",
       "9403   True  True        2  Pres_Poisson              5  14819.0   1625.0   \n",
       "9404   True  True        2  Pres_Poisson              5  14819.0    325.0   \n",
       "9405   True  True        2  Pres_Poisson              5  14819.0     85.0   \n",
       "9406   True  True        2  Pres_Poisson              5  14819.0     19.0   \n",
       "9407   True  True        2  Pres_Poisson              5  14819.0      1.0   \n",
       "\n",
       "      z_reduced    z_full  max_mode_size  tile_size  log_obj_func  \\\n",
       "0       57237.0   42957.0         2551.0     2551.0     47.065444   \n",
       "1       57244.0   43009.0           13.0        2.0     24.599249   \n",
       "2       57244.0   43009.0           13.0        4.0     22.677196   \n",
       "3       57244.0   43009.0           13.0        7.0     21.727500   \n",
       "4       57244.0   43009.0           13.0       13.0     20.083512   \n",
       "...         ...       ...            ...        ...           ...   \n",
       "9403   718845.0  623417.0           73.0       73.0     25.835484   \n",
       "9404   718845.0  623417.0          203.0      203.0     31.879337   \n",
       "9405   718845.0  623417.0          511.0      511.0     37.418218   \n",
       "9406   718845.0  623417.0         2117.0     2117.0     45.946532   \n",
       "9407   718845.0  623417.0        14819.0    14819.0     57.621993   \n",
       "\n",
       "          obj_func  \n",
       "0     2.755896e+20  \n",
       "1     4.823008e+10  \n",
       "2     7.056368e+09  \n",
       "3     2.729816e+09  \n",
       "4     5.274221e+08  \n",
       "...            ...  \n",
       "9403  1.660383e+11  \n",
       "9404  6.998744e+13  \n",
       "9405  1.780433e+16  \n",
       "9406  9.001713e+19  \n",
       "9407  1.059042e+25  \n",
       "\n",
       "[28604 rows x 13 columns]"
      ],
      "text/html": [
       "<div>\n",
       "<style scoped>\n",
       "    .dataframe tbody tr th:only-of-type {\n",
       "        vertical-align: middle;\n",
       "    }\n",
       "\n",
       "    .dataframe tbody tr th {\n",
       "        vertical-align: top;\n",
       "    }\n",
       "\n",
       "    .dataframe thead th {\n",
       "        text-align: right;\n",
       "    }\n",
       "</style>\n",
       "<table border=\"1\" class=\"dataframe\">\n",
       "  <thead>\n",
       "    <tr style=\"text-align: right;\">\n",
       "      <th></th>\n",
       "      <th>amd</th>\n",
       "      <th>rcm</th>\n",
       "      <th>padding</th>\n",
       "      <th>matrix_name</th>\n",
       "      <th>partial_gauss</th>\n",
       "      <th>n</th>\n",
       "      <th>rank</th>\n",
       "      <th>z_reduced</th>\n",
       "      <th>z_full</th>\n",
       "      <th>max_mode_size</th>\n",
       "      <th>tile_size</th>\n",
       "      <th>log_obj_func</th>\n",
       "      <th>obj_func</th>\n",
       "    </tr>\n",
       "  </thead>\n",
       "  <tbody>\n",
       "    <tr>\n",
       "      <th>0</th>\n",
       "      <td>False</td>\n",
       "      <td>True</td>\n",
       "      <td>8</td>\n",
       "      <td>ex10hs</td>\n",
       "      <td>5</td>\n",
       "      <td>2551.0</td>\n",
       "      <td>1.0</td>\n",
       "      <td>57237.0</td>\n",
       "      <td>42957.0</td>\n",
       "      <td>2551.0</td>\n",
       "      <td>2551.0</td>\n",
       "      <td>47.065444</td>\n",
       "      <td>2.755896e+20</td>\n",
       "    </tr>\n",
       "    <tr>\n",
       "      <th>1</th>\n",
       "      <td>False</td>\n",
       "      <td>True</td>\n",
       "      <td>8</td>\n",
       "      <td>ex10hs</td>\n",
       "      <td>8</td>\n",
       "      <td>2548.0</td>\n",
       "      <td>16886.0</td>\n",
       "      <td>57244.0</td>\n",
       "      <td>43009.0</td>\n",
       "      <td>13.0</td>\n",
       "      <td>2.0</td>\n",
       "      <td>24.599249</td>\n",
       "      <td>4.823008e+10</td>\n",
       "    </tr>\n",
       "    <tr>\n",
       "      <th>2</th>\n",
       "      <td>False</td>\n",
       "      <td>True</td>\n",
       "      <td>8</td>\n",
       "      <td>ex10hs</td>\n",
       "      <td>8</td>\n",
       "      <td>2548.0</td>\n",
       "      <td>6453.0</td>\n",
       "      <td>57244.0</td>\n",
       "      <td>43009.0</td>\n",
       "      <td>13.0</td>\n",
       "      <td>4.0</td>\n",
       "      <td>22.677196</td>\n",
       "      <td>7.056368e+09</td>\n",
       "    </tr>\n",
       "    <tr>\n",
       "      <th>3</th>\n",
       "      <td>False</td>\n",
       "      <td>True</td>\n",
       "      <td>8</td>\n",
       "      <td>ex10hs</td>\n",
       "      <td>8</td>\n",
       "      <td>2548.0</td>\n",
       "      <td>4009.0</td>\n",
       "      <td>57244.0</td>\n",
       "      <td>43009.0</td>\n",
       "      <td>13.0</td>\n",
       "      <td>7.0</td>\n",
       "      <td>21.727500</td>\n",
       "      <td>2.729816e+09</td>\n",
       "    </tr>\n",
       "    <tr>\n",
       "      <th>4</th>\n",
       "      <td>False</td>\n",
       "      <td>True</td>\n",
       "      <td>8</td>\n",
       "      <td>ex10hs</td>\n",
       "      <td>8</td>\n",
       "      <td>2548.0</td>\n",
       "      <td>1752.0</td>\n",
       "      <td>57244.0</td>\n",
       "      <td>43009.0</td>\n",
       "      <td>13.0</td>\n",
       "      <td>13.0</td>\n",
       "      <td>20.083512</td>\n",
       "      <td>5.274221e+08</td>\n",
       "    </tr>\n",
       "    <tr>\n",
       "      <th>...</th>\n",
       "      <td>...</td>\n",
       "      <td>...</td>\n",
       "      <td>...</td>\n",
       "      <td>...</td>\n",
       "      <td>...</td>\n",
       "      <td>...</td>\n",
       "      <td>...</td>\n",
       "      <td>...</td>\n",
       "      <td>...</td>\n",
       "      <td>...</td>\n",
       "      <td>...</td>\n",
       "      <td>...</td>\n",
       "      <td>...</td>\n",
       "    </tr>\n",
       "    <tr>\n",
       "      <th>9403</th>\n",
       "      <td>True</td>\n",
       "      <td>True</td>\n",
       "      <td>2</td>\n",
       "      <td>Pres_Poisson</td>\n",
       "      <td>5</td>\n",
       "      <td>14819.0</td>\n",
       "      <td>1625.0</td>\n",
       "      <td>718845.0</td>\n",
       "      <td>623417.0</td>\n",
       "      <td>73.0</td>\n",
       "      <td>73.0</td>\n",
       "      <td>25.835484</td>\n",
       "      <td>1.660383e+11</td>\n",
       "    </tr>\n",
       "    <tr>\n",
       "      <th>9404</th>\n",
       "      <td>True</td>\n",
       "      <td>True</td>\n",
       "      <td>2</td>\n",
       "      <td>Pres_Poisson</td>\n",
       "      <td>5</td>\n",
       "      <td>14819.0</td>\n",
       "      <td>325.0</td>\n",
       "      <td>718845.0</td>\n",
       "      <td>623417.0</td>\n",
       "      <td>203.0</td>\n",
       "      <td>203.0</td>\n",
       "      <td>31.879337</td>\n",
       "      <td>6.998744e+13</td>\n",
       "    </tr>\n",
       "    <tr>\n",
       "      <th>9405</th>\n",
       "      <td>True</td>\n",
       "      <td>True</td>\n",
       "      <td>2</td>\n",
       "      <td>Pres_Poisson</td>\n",
       "      <td>5</td>\n",
       "      <td>14819.0</td>\n",
       "      <td>85.0</td>\n",
       "      <td>718845.0</td>\n",
       "      <td>623417.0</td>\n",
       "      <td>511.0</td>\n",
       "      <td>511.0</td>\n",
       "      <td>37.418218</td>\n",
       "      <td>1.780433e+16</td>\n",
       "    </tr>\n",
       "    <tr>\n",
       "      <th>9406</th>\n",
       "      <td>True</td>\n",
       "      <td>True</td>\n",
       "      <td>2</td>\n",
       "      <td>Pres_Poisson</td>\n",
       "      <td>5</td>\n",
       "      <td>14819.0</td>\n",
       "      <td>19.0</td>\n",
       "      <td>718845.0</td>\n",
       "      <td>623417.0</td>\n",
       "      <td>2117.0</td>\n",
       "      <td>2117.0</td>\n",
       "      <td>45.946532</td>\n",
       "      <td>9.001713e+19</td>\n",
       "    </tr>\n",
       "    <tr>\n",
       "      <th>9407</th>\n",
       "      <td>True</td>\n",
       "      <td>True</td>\n",
       "      <td>2</td>\n",
       "      <td>Pres_Poisson</td>\n",
       "      <td>5</td>\n",
       "      <td>14819.0</td>\n",
       "      <td>1.0</td>\n",
       "      <td>718845.0</td>\n",
       "      <td>623417.0</td>\n",
       "      <td>14819.0</td>\n",
       "      <td>14819.0</td>\n",
       "      <td>57.621993</td>\n",
       "      <td>1.059042e+25</td>\n",
       "    </tr>\n",
       "  </tbody>\n",
       "</table>\n",
       "<p>28604 rows × 13 columns</p>\n",
       "</div>"
      ]
     },
     "execution_count": 5,
     "metadata": {},
     "output_type": "execute_result"
    }
   ],
   "execution_count": 5
  },
  {
   "metadata": {
    "ExecuteTime": {
     "end_time": "2024-07-12T16:09:47.323736Z",
     "start_time": "2024-07-12T16:09:47.280795Z"
    }
   },
   "cell_type": "code",
   "source": [
    "# no module is applied - baseline\n",
    "baseline_df = df[(df['amd'] == False) & (df['rcm'] == False) & (df['partial_gauss'] == 0) & (df['padding'] == 0)]\n",
    "\n",
    "# different levels of padding applied - padding_df\n",
    "padding_df = df[(df['amd'] == False) & (df['rcm'] == False) & (df['partial_gauss'] == 0)]\n",
    "\n",
    "# keep amd on and off - amd_df\n",
    "amd_df = df[(df['rcm'] == False) & (df['partial_gauss'] == 0) & (df['padding'] == 0)]\n",
    "\n",
    "# keep rcm on and off - rcm_df\n",
    "rcm_df = df[(df['amd'] == False) & (df['partial_gauss'] == 0) & (df['padding'] == 0)]\n",
    "\n",
    "# combined approaches\n",
    "pg_df = df[(df['amd'] == False) & (df['rcm'] == False) & (df['padding'] == 0)]\n",
    "\n",
    "rcm_padding_df = df[(df['amd'] == False) & (df['partial_gauss'] == 0)]\n",
    "\n",
    "pg_padding_df = df[(df['amd'] == False) & (df['rcm'] == False)]\n",
    "\n",
    "amd_pg_df = df[(df['rcm'] == False) & (df['padding'] == 0)]\n",
    "\n",
    "pg_rcm_df = df[(df['amd'] == False) & (df['padding'] == 0)]\n",
    "\n",
    "# three-way approaches\n",
    "amd_pg_padding_df = df[df['rcm'] == False]\n",
    "\n",
    "amd_pg_rcm_df = df[df['padding'] == 0]\n",
    "\n",
    "pg_padding_rcm_df = df[df['amd'] == False]\n",
    "\n",
    "# 4-way\n",
    "all_combined_df = df\n",
    "\n",
    "df_list = [baseline_df, padding_df, amd_df, rcm_df, pg_df, rcm_padding_df, pg_padding_df, amd_pg_df, pg_rcm_df, amd_pg_padding_df, amd_pg_rcm_df, pg_padding_rcm_df, all_combined_df]\n",
    "df_str_list = [\"baseline_df\", \"padding_df\", \"amd_df\", \"rcm_df\", \"pg_df\", \"rcm_padding_df\", \"pg_padding_df\", \"amd_pg_df\", \"pg_rcm_df\", \"amd_pg_padding_df\", \"amd_pg_rcm_df\", \"pg_padding_rcm_df\", \"all_combined_df\"]\n"
   ],
   "id": "149949d57c3cb8e4",
   "outputs": [],
   "execution_count": 6
  },
  {
   "metadata": {
    "ExecuteTime": {
     "end_time": "2024-07-12T16:09:48.201703Z",
     "start_time": "2024-07-12T16:09:48.169838Z"
    }
   },
   "cell_type": "code",
   "source": "df.tail()",
   "id": "aaa97343de8a3361",
   "outputs": [
    {
     "data": {
      "text/plain": [
       "       amd   rcm  padding   matrix_name  partial_gauss        n    rank  \\\n",
       "9403  True  True        2  Pres_Poisson              5  14819.0  1625.0   \n",
       "9404  True  True        2  Pres_Poisson              5  14819.0   325.0   \n",
       "9405  True  True        2  Pres_Poisson              5  14819.0    85.0   \n",
       "9406  True  True        2  Pres_Poisson              5  14819.0    19.0   \n",
       "9407  True  True        2  Pres_Poisson              5  14819.0     1.0   \n",
       "\n",
       "      z_reduced    z_full  max_mode_size  tile_size  log_obj_func  \\\n",
       "9403   718845.0  623417.0           73.0       73.0     25.835484   \n",
       "9404   718845.0  623417.0          203.0      203.0     31.879337   \n",
       "9405   718845.0  623417.0          511.0      511.0     37.418218   \n",
       "9406   718845.0  623417.0         2117.0     2117.0     45.946532   \n",
       "9407   718845.0  623417.0        14819.0    14819.0     57.621993   \n",
       "\n",
       "          obj_func  \n",
       "9403  1.660383e+11  \n",
       "9404  6.998744e+13  \n",
       "9405  1.780433e+16  \n",
       "9406  9.001713e+19  \n",
       "9407  1.059042e+25  "
      ],
      "text/html": [
       "<div>\n",
       "<style scoped>\n",
       "    .dataframe tbody tr th:only-of-type {\n",
       "        vertical-align: middle;\n",
       "    }\n",
       "\n",
       "    .dataframe tbody tr th {\n",
       "        vertical-align: top;\n",
       "    }\n",
       "\n",
       "    .dataframe thead th {\n",
       "        text-align: right;\n",
       "    }\n",
       "</style>\n",
       "<table border=\"1\" class=\"dataframe\">\n",
       "  <thead>\n",
       "    <tr style=\"text-align: right;\">\n",
       "      <th></th>\n",
       "      <th>amd</th>\n",
       "      <th>rcm</th>\n",
       "      <th>padding</th>\n",
       "      <th>matrix_name</th>\n",
       "      <th>partial_gauss</th>\n",
       "      <th>n</th>\n",
       "      <th>rank</th>\n",
       "      <th>z_reduced</th>\n",
       "      <th>z_full</th>\n",
       "      <th>max_mode_size</th>\n",
       "      <th>tile_size</th>\n",
       "      <th>log_obj_func</th>\n",
       "      <th>obj_func</th>\n",
       "    </tr>\n",
       "  </thead>\n",
       "  <tbody>\n",
       "    <tr>\n",
       "      <th>9403</th>\n",
       "      <td>True</td>\n",
       "      <td>True</td>\n",
       "      <td>2</td>\n",
       "      <td>Pres_Poisson</td>\n",
       "      <td>5</td>\n",
       "      <td>14819.0</td>\n",
       "      <td>1625.0</td>\n",
       "      <td>718845.0</td>\n",
       "      <td>623417.0</td>\n",
       "      <td>73.0</td>\n",
       "      <td>73.0</td>\n",
       "      <td>25.835484</td>\n",
       "      <td>1.660383e+11</td>\n",
       "    </tr>\n",
       "    <tr>\n",
       "      <th>9404</th>\n",
       "      <td>True</td>\n",
       "      <td>True</td>\n",
       "      <td>2</td>\n",
       "      <td>Pres_Poisson</td>\n",
       "      <td>5</td>\n",
       "      <td>14819.0</td>\n",
       "      <td>325.0</td>\n",
       "      <td>718845.0</td>\n",
       "      <td>623417.0</td>\n",
       "      <td>203.0</td>\n",
       "      <td>203.0</td>\n",
       "      <td>31.879337</td>\n",
       "      <td>6.998744e+13</td>\n",
       "    </tr>\n",
       "    <tr>\n",
       "      <th>9405</th>\n",
       "      <td>True</td>\n",
       "      <td>True</td>\n",
       "      <td>2</td>\n",
       "      <td>Pres_Poisson</td>\n",
       "      <td>5</td>\n",
       "      <td>14819.0</td>\n",
       "      <td>85.0</td>\n",
       "      <td>718845.0</td>\n",
       "      <td>623417.0</td>\n",
       "      <td>511.0</td>\n",
       "      <td>511.0</td>\n",
       "      <td>37.418218</td>\n",
       "      <td>1.780433e+16</td>\n",
       "    </tr>\n",
       "    <tr>\n",
       "      <th>9406</th>\n",
       "      <td>True</td>\n",
       "      <td>True</td>\n",
       "      <td>2</td>\n",
       "      <td>Pres_Poisson</td>\n",
       "      <td>5</td>\n",
       "      <td>14819.0</td>\n",
       "      <td>19.0</td>\n",
       "      <td>718845.0</td>\n",
       "      <td>623417.0</td>\n",
       "      <td>2117.0</td>\n",
       "      <td>2117.0</td>\n",
       "      <td>45.946532</td>\n",
       "      <td>9.001713e+19</td>\n",
       "    </tr>\n",
       "    <tr>\n",
       "      <th>9407</th>\n",
       "      <td>True</td>\n",
       "      <td>True</td>\n",
       "      <td>2</td>\n",
       "      <td>Pres_Poisson</td>\n",
       "      <td>5</td>\n",
       "      <td>14819.0</td>\n",
       "      <td>1.0</td>\n",
       "      <td>718845.0</td>\n",
       "      <td>623417.0</td>\n",
       "      <td>14819.0</td>\n",
       "      <td>14819.0</td>\n",
       "      <td>57.621993</td>\n",
       "      <td>1.059042e+25</td>\n",
       "    </tr>\n",
       "  </tbody>\n",
       "</table>\n",
       "</div>"
      ]
     },
     "execution_count": 7,
     "metadata": {},
     "output_type": "execute_result"
    }
   ],
   "execution_count": 7
  },
  {
   "metadata": {},
   "cell_type": "markdown",
   "source": "",
   "id": "61b8204960c75019"
  },
  {
   "metadata": {
    "ExecuteTime": {
     "end_time": "2024-07-12T16:55:26.474193Z",
     "start_time": "2024-07-12T16:55:26.459156Z"
    }
   },
   "cell_type": "code",
   "source": [
    "# setup color map for each matrix\n",
    "matrix_names = df[\"matrix_name\"].unique().tolist()\n",
    "num_matrices = len(matrix_names)\n",
    "\n",
    "colorscale = px.colors.qualitative.Plotly\n",
    "colors = [colorscale[i % len(colorscale)] for i in range(num_matrices)]\n",
    "\n",
    "matrix_color_map = {matrix:color for matrix, color in zip(matrix_names, colors)}"
   ],
   "id": "25cffdf7a1bbcf35",
   "outputs": [],
   "execution_count": 57
  },
  {
   "metadata": {
    "ExecuteTime": {
     "end_time": "2024-07-12T16:09:50.274667Z",
     "start_time": "2024-07-12T16:09:50.222726Z"
    }
   },
   "cell_type": "code",
   "source": [
    "# normality tests - tests the null hypothesis that a sample comes from a normal distribution\n",
    "# small p-value == this may be taken as evidence against the null hypothesis in favor of the alternative: the weights were not drawn from a normal distribution. \n",
    "# Note that:\n",
    "# The inverse is not true; that is, the test is not used to provide evidence for the null hypothesis.\n",
    "\n",
    "for df, df_str in zip(df_list, df_str_list):\n",
    "    res = normaltest(df[\"obj_func\"])\n",
    "    print(\"{} normality, p-value: {}\".format(df_str, res.pvalue))\n"
   ],
   "id": "2b10e063883068f3",
   "outputs": [
    {
     "name": "stdout",
     "output_type": "stream",
     "text": [
      "baseline_df normality, p-value: 3.7723043882066966e-28\n",
      "padding_df normality, p-value: 6.902223603464561e-180\n",
      "amd_df normality, p-value: 1.2930279380468725e-43\n",
      "rcm_df normality, p-value: 1.2930277107838582e-43\n",
      "pg_df normality, p-value: 1.0134892235234248e-195\n",
      "rcm_padding_df normality, p-value: 0.0\n",
      "pg_padding_df normality, p-value: 0.0\n",
      "amd_pg_df normality, p-value: 0.0\n",
      "pg_rcm_df normality, p-value: 0.0\n",
      "amd_pg_padding_df normality, p-value: 0.0\n",
      "amd_pg_rcm_df normality, p-value: 0.0\n",
      "pg_padding_rcm_df normality, p-value: 0.0\n",
      "all_combined_df normality, p-value: 0.0\n"
     ]
    }
   ],
   "execution_count": 9
  },
  {
   "metadata": {
    "ExecuteTime": {
     "end_time": "2024-07-12T16:09:51.153060Z",
     "start_time": "2024-07-12T16:09:51.093181Z"
    }
   },
   "cell_type": "code",
   "source": [
    "for df, df_str in zip(df_list, df_str_list):\n",
    "    res = normaltest(df[\"log_obj_func\"])\n",
    "    print(\"{} normality, p-value: {}\".format(df_str, res.pvalue))"
   ],
   "id": "15e41bbd79c689f2",
   "outputs": [
    {
     "name": "stdout",
     "output_type": "stream",
     "text": [
      "baseline_df normality, p-value: 0.16613301510622253\n",
      "padding_df normality, p-value: 2.377986567580468e-10\n",
      "amd_df normality, p-value: 0.03339991741992095\n",
      "rcm_df normality, p-value: 0.03423745058813351\n",
      "pg_df normality, p-value: 1.3674048313261408e-12\n",
      "rcm_padding_df normality, p-value: 2.621572735581987e-20\n",
      "pg_padding_df normality, p-value: 3.433831947995044e-116\n",
      "amd_pg_df normality, p-value: 7.660226118447551e-25\n",
      "pg_rcm_df normality, p-value: 4.675559412811609e-25\n",
      "amd_pg_padding_df normality, p-value: 4.8974808395512204e-234\n",
      "amd_pg_rcm_df normality, p-value: 1.0044891657676653e-49\n",
      "pg_padding_rcm_df normality, p-value: 4.519210140649153e-234\n",
      "all_combined_df normality, p-value: 0.0\n"
     ]
    }
   ],
   "execution_count": 10
  },
  {
   "metadata": {},
   "cell_type": "markdown",
   "source": "Conclusion: except possibly the baseline, AMD and RCM, the (log) runtime estimates do not follow a normal distribution. Therefore, I need to work with non-parametric tests when comparing the approaches.",
   "id": "12a20deba8468248"
  },
  {
   "metadata": {
    "ExecuteTime": {
     "end_time": "2024-07-12T16:09:52.055761Z",
     "start_time": "2024-07-12T16:09:52.041679Z"
    }
   },
   "cell_type": "code",
   "source": [
    "# Next: check if different approaches give better results than baseline\n",
    "# important: we only care about best tile size choice rows that get enabled by these approaches\n",
    "\n",
    "# null-hyp: no difference\n",
    "_, p_value = mannwhitneyu(rcm_df[rcm_df[\"rcm\"] == False][\"log_obj_func\"], rcm_df[rcm_df[\"rcm\"] == True][\"log_obj_func\"], alternative='two-sided')\n",
    "print(p_value)"
   ],
   "id": "6a1b581ec580002d",
   "outputs": [
    {
     "name": "stdout",
     "output_type": "stream",
     "text": [
      "0.9254958873875053\n"
     ]
    }
   ],
   "execution_count": 11
  },
  {
   "metadata": {
    "ExecuteTime": {
     "end_time": "2024-07-12T16:09:52.508065Z",
     "start_time": "2024-07-12T16:09:52.477620Z"
    }
   },
   "cell_type": "code",
   "source": "rcm_df[rcm_df[\"rcm\"] == False][\"log_obj_func\"].describe()",
   "id": "50bc13bde8fcfcd1",
   "outputs": [
    {
     "data": {
      "text/plain": [
       "count    57.000000\n",
       "mean     34.362466\n",
       "std       9.320864\n",
       "min      20.271063\n",
       "25%      28.135807\n",
       "50%      32.908784\n",
       "75%      40.513622\n",
       "max      57.623207\n",
       "Name: log_obj_func, dtype: float64"
      ]
     },
     "execution_count": 12,
     "metadata": {},
     "output_type": "execute_result"
    }
   ],
   "execution_count": 12
  },
  {
   "metadata": {
    "ExecuteTime": {
     "end_time": "2024-07-12T16:09:53.053718Z",
     "start_time": "2024-07-12T16:09:53.025839Z"
    }
   },
   "cell_type": "code",
   "source": "rcm_df[rcm_df[\"rcm\"] == True][\"log_obj_func\"].describe()",
   "id": "71e38dd89efef9a7",
   "outputs": [
    {
     "data": {
      "text/plain": [
       "count    57.000000\n",
       "mean     34.296210\n",
       "std       9.395152\n",
       "min      19.922774\n",
       "25%      28.125540\n",
       "50%      32.908784\n",
       "75%      40.513622\n",
       "max      57.623207\n",
       "Name: log_obj_func, dtype: float64"
      ]
     },
     "execution_count": 13,
     "metadata": {},
     "output_type": "execute_result"
    }
   ],
   "execution_count": 13
  },
  {
   "metadata": {
    "ExecuteTime": {
     "end_time": "2024-07-12T16:09:53.924703Z",
     "start_time": "2024-07-12T16:09:53.867770Z"
    }
   },
   "cell_type": "code",
   "source": [
    "# get best tile size choices\n",
    "idx = rcm_padding_df.groupby(by=['matrix_name', 'rcm'])['log_obj_func'].idxmin()\n",
    "rcm_padding_tile_agg_df = rcm_padding_df.loc[idx].reset_index(drop=True)\n",
    "rcm_padding_tile_agg_df"
   ],
   "id": "c7abb184a75f7e20",
   "outputs": [
    {
     "data": {
      "text/plain": [
       "      amd    rcm  padding   matrix_name  partial_gauss        n    rank  \\\n",
       "0   False  False        1  Pres_Poisson              0  14823.0  2599.0   \n",
       "1   False   True        1  Pres_Poisson              0  14823.0  2105.0   \n",
       "2   False  False        6      bcsstk13              0   2009.0   569.0   \n",
       "3   False   True        6      bcsstk13              0   2009.0   781.0   \n",
       "4   False  False       10          ex10              0   2420.0  1031.0   \n",
       "5   False   True       10          ex10              0   2420.0   907.0   \n",
       "6   False  False        2        ex10hs              0   2550.0  1410.0   \n",
       "7   False   True        2        ex10hs              0   2550.0  1202.0   \n",
       "8   False  False        6          ex13              0   2574.0  1209.0   \n",
       "9   False   True        6          ex13              0   2574.0  1235.0   \n",
       "10  False  False       10          ex15              0   6877.0  2071.0   \n",
       "11  False  False        7          ex13              0   2575.0  7550.0   \n",
       "12  False   True       10          ex15              0   6877.0  1373.0   \n",
       "13  False  False        3           ex3              0   1824.0   888.0   \n",
       "14  False   True        3           ex3              0   1824.0   818.0   \n",
       "\n",
       "    z_reduced    z_full  max_mode_size  tile_size  log_obj_func      obj_func  \n",
       "0    715804.0  715804.0           61.0       61.0     25.070247  7.724491e+10  \n",
       "1    715804.0  715804.0           61.0       61.0     24.949895  6.848601e+10  \n",
       "2     83883.0   83883.0           41.0       41.0     22.397285  5.333563e+09  \n",
       "3     83883.0   83883.0           41.0       41.0     22.486159  5.829276e+09  \n",
       "4     54840.0   54840.0           20.0       20.0     20.024970  4.974324e+08  \n",
       "5     54840.0   54840.0           20.0       20.0     19.807764  4.003156e+08  \n",
       "6     57308.0   57308.0           17.0       17.0     20.221773  6.056258e+08  \n",
       "7     57308.0   57308.0           17.0       17.0     19.919391  4.475914e+08  \n",
       "8     75628.0   75628.0           18.0       18.0     20.058993  5.146478e+08  \n",
       "9     75628.0   75628.0           18.0       18.0     20.098502  5.353876e+08  \n",
       "10    98671.0   98671.0           23.0       23.0     21.616139  2.442136e+09  \n",
       "11    75628.0   75628.0          103.0        5.0     28.222712  1.807042e+12  \n",
       "12    98671.0   98671.0           23.0       23.0     20.873386  1.161974e+09  \n",
       "13    52685.0   52685.0           19.0       19.0     19.637968  3.378011e+08  \n",
       "14    52685.0   52685.0           19.0       19.0     19.499805  2.942103e+08  "
      ],
      "text/html": [
       "<div>\n",
       "<style scoped>\n",
       "    .dataframe tbody tr th:only-of-type {\n",
       "        vertical-align: middle;\n",
       "    }\n",
       "\n",
       "    .dataframe tbody tr th {\n",
       "        vertical-align: top;\n",
       "    }\n",
       "\n",
       "    .dataframe thead th {\n",
       "        text-align: right;\n",
       "    }\n",
       "</style>\n",
       "<table border=\"1\" class=\"dataframe\">\n",
       "  <thead>\n",
       "    <tr style=\"text-align: right;\">\n",
       "      <th></th>\n",
       "      <th>amd</th>\n",
       "      <th>rcm</th>\n",
       "      <th>padding</th>\n",
       "      <th>matrix_name</th>\n",
       "      <th>partial_gauss</th>\n",
       "      <th>n</th>\n",
       "      <th>rank</th>\n",
       "      <th>z_reduced</th>\n",
       "      <th>z_full</th>\n",
       "      <th>max_mode_size</th>\n",
       "      <th>tile_size</th>\n",
       "      <th>log_obj_func</th>\n",
       "      <th>obj_func</th>\n",
       "    </tr>\n",
       "  </thead>\n",
       "  <tbody>\n",
       "    <tr>\n",
       "      <th>0</th>\n",
       "      <td>False</td>\n",
       "      <td>False</td>\n",
       "      <td>1</td>\n",
       "      <td>Pres_Poisson</td>\n",
       "      <td>0</td>\n",
       "      <td>14823.0</td>\n",
       "      <td>2599.0</td>\n",
       "      <td>715804.0</td>\n",
       "      <td>715804.0</td>\n",
       "      <td>61.0</td>\n",
       "      <td>61.0</td>\n",
       "      <td>25.070247</td>\n",
       "      <td>7.724491e+10</td>\n",
       "    </tr>\n",
       "    <tr>\n",
       "      <th>1</th>\n",
       "      <td>False</td>\n",
       "      <td>True</td>\n",
       "      <td>1</td>\n",
       "      <td>Pres_Poisson</td>\n",
       "      <td>0</td>\n",
       "      <td>14823.0</td>\n",
       "      <td>2105.0</td>\n",
       "      <td>715804.0</td>\n",
       "      <td>715804.0</td>\n",
       "      <td>61.0</td>\n",
       "      <td>61.0</td>\n",
       "      <td>24.949895</td>\n",
       "      <td>6.848601e+10</td>\n",
       "    </tr>\n",
       "    <tr>\n",
       "      <th>2</th>\n",
       "      <td>False</td>\n",
       "      <td>False</td>\n",
       "      <td>6</td>\n",
       "      <td>bcsstk13</td>\n",
       "      <td>0</td>\n",
       "      <td>2009.0</td>\n",
       "      <td>569.0</td>\n",
       "      <td>83883.0</td>\n",
       "      <td>83883.0</td>\n",
       "      <td>41.0</td>\n",
       "      <td>41.0</td>\n",
       "      <td>22.397285</td>\n",
       "      <td>5.333563e+09</td>\n",
       "    </tr>\n",
       "    <tr>\n",
       "      <th>3</th>\n",
       "      <td>False</td>\n",
       "      <td>True</td>\n",
       "      <td>6</td>\n",
       "      <td>bcsstk13</td>\n",
       "      <td>0</td>\n",
       "      <td>2009.0</td>\n",
       "      <td>781.0</td>\n",
       "      <td>83883.0</td>\n",
       "      <td>83883.0</td>\n",
       "      <td>41.0</td>\n",
       "      <td>41.0</td>\n",
       "      <td>22.486159</td>\n",
       "      <td>5.829276e+09</td>\n",
       "    </tr>\n",
       "    <tr>\n",
       "      <th>4</th>\n",
       "      <td>False</td>\n",
       "      <td>False</td>\n",
       "      <td>10</td>\n",
       "      <td>ex10</td>\n",
       "      <td>0</td>\n",
       "      <td>2420.0</td>\n",
       "      <td>1031.0</td>\n",
       "      <td>54840.0</td>\n",
       "      <td>54840.0</td>\n",
       "      <td>20.0</td>\n",
       "      <td>20.0</td>\n",
       "      <td>20.024970</td>\n",
       "      <td>4.974324e+08</td>\n",
       "    </tr>\n",
       "    <tr>\n",
       "      <th>5</th>\n",
       "      <td>False</td>\n",
       "      <td>True</td>\n",
       "      <td>10</td>\n",
       "      <td>ex10</td>\n",
       "      <td>0</td>\n",
       "      <td>2420.0</td>\n",
       "      <td>907.0</td>\n",
       "      <td>54840.0</td>\n",
       "      <td>54840.0</td>\n",
       "      <td>20.0</td>\n",
       "      <td>20.0</td>\n",
       "      <td>19.807764</td>\n",
       "      <td>4.003156e+08</td>\n",
       "    </tr>\n",
       "    <tr>\n",
       "      <th>6</th>\n",
       "      <td>False</td>\n",
       "      <td>False</td>\n",
       "      <td>2</td>\n",
       "      <td>ex10hs</td>\n",
       "      <td>0</td>\n",
       "      <td>2550.0</td>\n",
       "      <td>1410.0</td>\n",
       "      <td>57308.0</td>\n",
       "      <td>57308.0</td>\n",
       "      <td>17.0</td>\n",
       "      <td>17.0</td>\n",
       "      <td>20.221773</td>\n",
       "      <td>6.056258e+08</td>\n",
       "    </tr>\n",
       "    <tr>\n",
       "      <th>7</th>\n",
       "      <td>False</td>\n",
       "      <td>True</td>\n",
       "      <td>2</td>\n",
       "      <td>ex10hs</td>\n",
       "      <td>0</td>\n",
       "      <td>2550.0</td>\n",
       "      <td>1202.0</td>\n",
       "      <td>57308.0</td>\n",
       "      <td>57308.0</td>\n",
       "      <td>17.0</td>\n",
       "      <td>17.0</td>\n",
       "      <td>19.919391</td>\n",
       "      <td>4.475914e+08</td>\n",
       "    </tr>\n",
       "    <tr>\n",
       "      <th>8</th>\n",
       "      <td>False</td>\n",
       "      <td>False</td>\n",
       "      <td>6</td>\n",
       "      <td>ex13</td>\n",
       "      <td>0</td>\n",
       "      <td>2574.0</td>\n",
       "      <td>1209.0</td>\n",
       "      <td>75628.0</td>\n",
       "      <td>75628.0</td>\n",
       "      <td>18.0</td>\n",
       "      <td>18.0</td>\n",
       "      <td>20.058993</td>\n",
       "      <td>5.146478e+08</td>\n",
       "    </tr>\n",
       "    <tr>\n",
       "      <th>9</th>\n",
       "      <td>False</td>\n",
       "      <td>True</td>\n",
       "      <td>6</td>\n",
       "      <td>ex13</td>\n",
       "      <td>0</td>\n",
       "      <td>2574.0</td>\n",
       "      <td>1235.0</td>\n",
       "      <td>75628.0</td>\n",
       "      <td>75628.0</td>\n",
       "      <td>18.0</td>\n",
       "      <td>18.0</td>\n",
       "      <td>20.098502</td>\n",
       "      <td>5.353876e+08</td>\n",
       "    </tr>\n",
       "    <tr>\n",
       "      <th>10</th>\n",
       "      <td>False</td>\n",
       "      <td>False</td>\n",
       "      <td>10</td>\n",
       "      <td>ex15</td>\n",
       "      <td>0</td>\n",
       "      <td>6877.0</td>\n",
       "      <td>2071.0</td>\n",
       "      <td>98671.0</td>\n",
       "      <td>98671.0</td>\n",
       "      <td>23.0</td>\n",
       "      <td>23.0</td>\n",
       "      <td>21.616139</td>\n",
       "      <td>2.442136e+09</td>\n",
       "    </tr>\n",
       "    <tr>\n",
       "      <th>11</th>\n",
       "      <td>False</td>\n",
       "      <td>False</td>\n",
       "      <td>7</td>\n",
       "      <td>ex13</td>\n",
       "      <td>0</td>\n",
       "      <td>2575.0</td>\n",
       "      <td>7550.0</td>\n",
       "      <td>75628.0</td>\n",
       "      <td>75628.0</td>\n",
       "      <td>103.0</td>\n",
       "      <td>5.0</td>\n",
       "      <td>28.222712</td>\n",
       "      <td>1.807042e+12</td>\n",
       "    </tr>\n",
       "    <tr>\n",
       "      <th>12</th>\n",
       "      <td>False</td>\n",
       "      <td>True</td>\n",
       "      <td>10</td>\n",
       "      <td>ex15</td>\n",
       "      <td>0</td>\n",
       "      <td>6877.0</td>\n",
       "      <td>1373.0</td>\n",
       "      <td>98671.0</td>\n",
       "      <td>98671.0</td>\n",
       "      <td>23.0</td>\n",
       "      <td>23.0</td>\n",
       "      <td>20.873386</td>\n",
       "      <td>1.161974e+09</td>\n",
       "    </tr>\n",
       "    <tr>\n",
       "      <th>13</th>\n",
       "      <td>False</td>\n",
       "      <td>False</td>\n",
       "      <td>3</td>\n",
       "      <td>ex3</td>\n",
       "      <td>0</td>\n",
       "      <td>1824.0</td>\n",
       "      <td>888.0</td>\n",
       "      <td>52685.0</td>\n",
       "      <td>52685.0</td>\n",
       "      <td>19.0</td>\n",
       "      <td>19.0</td>\n",
       "      <td>19.637968</td>\n",
       "      <td>3.378011e+08</td>\n",
       "    </tr>\n",
       "    <tr>\n",
       "      <th>14</th>\n",
       "      <td>False</td>\n",
       "      <td>True</td>\n",
       "      <td>3</td>\n",
       "      <td>ex3</td>\n",
       "      <td>0</td>\n",
       "      <td>1824.0</td>\n",
       "      <td>818.0</td>\n",
       "      <td>52685.0</td>\n",
       "      <td>52685.0</td>\n",
       "      <td>19.0</td>\n",
       "      <td>19.0</td>\n",
       "      <td>19.499805</td>\n",
       "      <td>2.942103e+08</td>\n",
       "    </tr>\n",
       "  </tbody>\n",
       "</table>\n",
       "</div>"
      ]
     },
     "execution_count": 14,
     "metadata": {},
     "output_type": "execute_result"
    }
   ],
   "execution_count": 14
  },
  {
   "metadata": {},
   "cell_type": "markdown",
   "source": "Explore effects of rcm followed by padding",
   "id": "59a72118e2498303"
  },
  {
   "metadata": {},
   "cell_type": "markdown",
   "source": [
    "do hypothesis testing: \n",
    "- null hypothesis: applying RCM on top of padding does not influence the runtime estimate\n",
    "- significance level: 0.01\n",
    "- need to check assumptions: observations independent, from sample to sample, samples were obtained via random sampling, data should be approximately normally distributed, variances should be approximately equal (if not, just use Welch’s t-test)."
   ],
   "id": "bf01aedf87aa55e3"
  },
  {
   "metadata": {
    "ExecuteTime": {
     "end_time": "2024-07-12T16:28:06.956717Z",
     "start_time": "2024-07-12T16:28:06.947677Z"
    }
   },
   "cell_type": "code",
   "source": [
    "# considering only the best tile size choices\n",
    "rcm_on_group = rcm_padding_tile_agg_df[rcm_padding_tile_agg_df['rcm'] == True]\n",
    "rcm_off_group = rcm_padding_tile_agg_df[rcm_padding_tile_agg_df['rcm'] == False]\n",
    "\n",
    "print(\"mean, std for log_obj_func without rcm: \", rcm_on_group[\"log_obj_func\"].mean(), rcm_on_group[\"log_obj_func\"].std())\n",
    "print(\"mean, std for log_obj_func with rcm: \", rcm_off_group[\"log_obj_func\"].mean(), rcm_off_group[\"log_obj_func\"].std())"
   ],
   "id": "a1dec05c82502243",
   "outputs": [
    {
     "name": "stdout",
     "output_type": "stream",
     "text": [
      "mean, std for log_obj_func without rcm:  21.090700359472148 1.9757366476920277\n",
      "mean, std for log_obj_func with rcm:  22.15626094631789 3.0394536086430586\n"
     ]
    }
   ],
   "execution_count": 38
  },
  {
   "metadata": {
    "ExecuteTime": {
     "end_time": "2024-07-12T16:29:16.197012Z",
     "start_time": "2024-07-12T16:29:16.173512Z"
    }
   },
   "cell_type": "code",
   "source": [
    "# considering all tile size choices\n",
    "rcm_on_group = rcm_padding_df[rcm_padding_df['rcm'] == True]\n",
    "rcm_off_group = rcm_padding_df[rcm_padding_df['rcm'] == False]\n",
    "\n",
    "print(\"mean, std for log_obj_func without rcm: \", rcm_on_group[\"log_obj_func\"].mean(), rcm_on_group[\"log_obj_func\"].std())\n",
    "print(\"mean, std for log_obj_func with rcm: \", rcm_off_group[\"log_obj_func\"].mean(), rcm_off_group[\"log_obj_func\"].std())"
   ],
   "id": "8060d3885ce738bf",
   "outputs": [
    {
     "name": "stdout",
     "output_type": "stream",
     "text": [
      "mean, std for log_obj_func without rcm:  34.1233067451281 9.374179941538983\n",
      "mean, std for log_obj_func with rcm:  34.178634029709 9.327544387403918\n"
     ]
    }
   ],
   "execution_count": 42
  },
  {
   "metadata": {
    "ExecuteTime": {
     "end_time": "2024-07-12T16:29:18.207872Z",
     "start_time": "2024-07-12T16:29:18.170531Z"
    }
   },
   "cell_type": "code",
   "source": "rcm_on_group",
   "id": "b456b0c982a2b72c",
   "outputs": [
    {
     "data": {
      "text/plain": [
       "        amd   rcm  padding   matrix_name  partial_gauss        n     rank  \\\n",
       "123   False  True        8          ex10              0   2418.0  15759.0   \n",
       "124   False  True        8          ex10              0   2418.0  12630.0   \n",
       "125   False  True        8          ex10              0   2418.0   4590.0   \n",
       "126   False  True        8          ex10              0   2418.0   1722.0   \n",
       "127   False  True        8          ex10              0   2418.0    599.0   \n",
       "...     ...   ...      ...           ...            ...      ...      ...   \n",
       "5368  False  True        3  Pres_Poisson              0  14825.0  66067.0   \n",
       "5369  False  True        3  Pres_Poisson              0  14825.0   8627.0   \n",
       "5370  False  True        3  Pres_Poisson              0  14825.0     73.0   \n",
       "5371  False  True        3  Pres_Poisson              0  14825.0     13.0   \n",
       "5372  False  True        3  Pres_Poisson              0  14825.0      1.0   \n",
       "\n",
       "      z_reduced    z_full  max_mode_size  tile_size  log_obj_func  \\\n",
       "123     54840.0   54840.0           31.0        2.0     26.203978   \n",
       "124     54840.0   54840.0           31.0        3.0     25.763845   \n",
       "125     54840.0   54840.0           31.0        6.0     23.780596   \n",
       "126     54840.0   54840.0           31.0       13.0     22.055221   \n",
       "127     54840.0   54840.0           31.0       26.0     20.946534   \n",
       "...         ...       ...            ...        ...           ...   \n",
       "5368   715804.0  715804.0          593.0        5.0     38.346162   \n",
       "5369   715804.0  715804.0          593.0       25.0     38.311809   \n",
       "5370   715804.0  715804.0          593.0      593.0     38.311167   \n",
       "5371   715804.0  715804.0         2965.0     2965.0     47.967794   \n",
       "5372   715804.0  715804.0        14825.0    14825.0     57.624421   \n",
       "\n",
       "          obj_func  \n",
       "123   2.400176e+11  \n",
       "124   1.545595e+11  \n",
       "125   2.127069e+10  \n",
       "126   3.788442e+09  \n",
       "127   1.250156e+09  \n",
       "...            ...  \n",
       "5368  4.503254e+16  \n",
       "5369  4.351184e+16  \n",
       "5370  4.348388e+16  \n",
       "5371  6.794354e+20  \n",
       "5372  1.061618e+25  \n",
       "\n",
       "[615 rows x 13 columns]"
      ],
      "text/html": [
       "<div>\n",
       "<style scoped>\n",
       "    .dataframe tbody tr th:only-of-type {\n",
       "        vertical-align: middle;\n",
       "    }\n",
       "\n",
       "    .dataframe tbody tr th {\n",
       "        vertical-align: top;\n",
       "    }\n",
       "\n",
       "    .dataframe thead th {\n",
       "        text-align: right;\n",
       "    }\n",
       "</style>\n",
       "<table border=\"1\" class=\"dataframe\">\n",
       "  <thead>\n",
       "    <tr style=\"text-align: right;\">\n",
       "      <th></th>\n",
       "      <th>amd</th>\n",
       "      <th>rcm</th>\n",
       "      <th>padding</th>\n",
       "      <th>matrix_name</th>\n",
       "      <th>partial_gauss</th>\n",
       "      <th>n</th>\n",
       "      <th>rank</th>\n",
       "      <th>z_reduced</th>\n",
       "      <th>z_full</th>\n",
       "      <th>max_mode_size</th>\n",
       "      <th>tile_size</th>\n",
       "      <th>log_obj_func</th>\n",
       "      <th>obj_func</th>\n",
       "    </tr>\n",
       "  </thead>\n",
       "  <tbody>\n",
       "    <tr>\n",
       "      <th>123</th>\n",
       "      <td>False</td>\n",
       "      <td>True</td>\n",
       "      <td>8</td>\n",
       "      <td>ex10</td>\n",
       "      <td>0</td>\n",
       "      <td>2418.0</td>\n",
       "      <td>15759.0</td>\n",
       "      <td>54840.0</td>\n",
       "      <td>54840.0</td>\n",
       "      <td>31.0</td>\n",
       "      <td>2.0</td>\n",
       "      <td>26.203978</td>\n",
       "      <td>2.400176e+11</td>\n",
       "    </tr>\n",
       "    <tr>\n",
       "      <th>124</th>\n",
       "      <td>False</td>\n",
       "      <td>True</td>\n",
       "      <td>8</td>\n",
       "      <td>ex10</td>\n",
       "      <td>0</td>\n",
       "      <td>2418.0</td>\n",
       "      <td>12630.0</td>\n",
       "      <td>54840.0</td>\n",
       "      <td>54840.0</td>\n",
       "      <td>31.0</td>\n",
       "      <td>3.0</td>\n",
       "      <td>25.763845</td>\n",
       "      <td>1.545595e+11</td>\n",
       "    </tr>\n",
       "    <tr>\n",
       "      <th>125</th>\n",
       "      <td>False</td>\n",
       "      <td>True</td>\n",
       "      <td>8</td>\n",
       "      <td>ex10</td>\n",
       "      <td>0</td>\n",
       "      <td>2418.0</td>\n",
       "      <td>4590.0</td>\n",
       "      <td>54840.0</td>\n",
       "      <td>54840.0</td>\n",
       "      <td>31.0</td>\n",
       "      <td>6.0</td>\n",
       "      <td>23.780596</td>\n",
       "      <td>2.127069e+10</td>\n",
       "    </tr>\n",
       "    <tr>\n",
       "      <th>126</th>\n",
       "      <td>False</td>\n",
       "      <td>True</td>\n",
       "      <td>8</td>\n",
       "      <td>ex10</td>\n",
       "      <td>0</td>\n",
       "      <td>2418.0</td>\n",
       "      <td>1722.0</td>\n",
       "      <td>54840.0</td>\n",
       "      <td>54840.0</td>\n",
       "      <td>31.0</td>\n",
       "      <td>13.0</td>\n",
       "      <td>22.055221</td>\n",
       "      <td>3.788442e+09</td>\n",
       "    </tr>\n",
       "    <tr>\n",
       "      <th>127</th>\n",
       "      <td>False</td>\n",
       "      <td>True</td>\n",
       "      <td>8</td>\n",
       "      <td>ex10</td>\n",
       "      <td>0</td>\n",
       "      <td>2418.0</td>\n",
       "      <td>599.0</td>\n",
       "      <td>54840.0</td>\n",
       "      <td>54840.0</td>\n",
       "      <td>31.0</td>\n",
       "      <td>26.0</td>\n",
       "      <td>20.946534</td>\n",
       "      <td>1.250156e+09</td>\n",
       "    </tr>\n",
       "    <tr>\n",
       "      <th>...</th>\n",
       "      <td>...</td>\n",
       "      <td>...</td>\n",
       "      <td>...</td>\n",
       "      <td>...</td>\n",
       "      <td>...</td>\n",
       "      <td>...</td>\n",
       "      <td>...</td>\n",
       "      <td>...</td>\n",
       "      <td>...</td>\n",
       "      <td>...</td>\n",
       "      <td>...</td>\n",
       "      <td>...</td>\n",
       "      <td>...</td>\n",
       "    </tr>\n",
       "    <tr>\n",
       "      <th>5368</th>\n",
       "      <td>False</td>\n",
       "      <td>True</td>\n",
       "      <td>3</td>\n",
       "      <td>Pres_Poisson</td>\n",
       "      <td>0</td>\n",
       "      <td>14825.0</td>\n",
       "      <td>66067.0</td>\n",
       "      <td>715804.0</td>\n",
       "      <td>715804.0</td>\n",
       "      <td>593.0</td>\n",
       "      <td>5.0</td>\n",
       "      <td>38.346162</td>\n",
       "      <td>4.503254e+16</td>\n",
       "    </tr>\n",
       "    <tr>\n",
       "      <th>5369</th>\n",
       "      <td>False</td>\n",
       "      <td>True</td>\n",
       "      <td>3</td>\n",
       "      <td>Pres_Poisson</td>\n",
       "      <td>0</td>\n",
       "      <td>14825.0</td>\n",
       "      <td>8627.0</td>\n",
       "      <td>715804.0</td>\n",
       "      <td>715804.0</td>\n",
       "      <td>593.0</td>\n",
       "      <td>25.0</td>\n",
       "      <td>38.311809</td>\n",
       "      <td>4.351184e+16</td>\n",
       "    </tr>\n",
       "    <tr>\n",
       "      <th>5370</th>\n",
       "      <td>False</td>\n",
       "      <td>True</td>\n",
       "      <td>3</td>\n",
       "      <td>Pres_Poisson</td>\n",
       "      <td>0</td>\n",
       "      <td>14825.0</td>\n",
       "      <td>73.0</td>\n",
       "      <td>715804.0</td>\n",
       "      <td>715804.0</td>\n",
       "      <td>593.0</td>\n",
       "      <td>593.0</td>\n",
       "      <td>38.311167</td>\n",
       "      <td>4.348388e+16</td>\n",
       "    </tr>\n",
       "    <tr>\n",
       "      <th>5371</th>\n",
       "      <td>False</td>\n",
       "      <td>True</td>\n",
       "      <td>3</td>\n",
       "      <td>Pres_Poisson</td>\n",
       "      <td>0</td>\n",
       "      <td>14825.0</td>\n",
       "      <td>13.0</td>\n",
       "      <td>715804.0</td>\n",
       "      <td>715804.0</td>\n",
       "      <td>2965.0</td>\n",
       "      <td>2965.0</td>\n",
       "      <td>47.967794</td>\n",
       "      <td>6.794354e+20</td>\n",
       "    </tr>\n",
       "    <tr>\n",
       "      <th>5372</th>\n",
       "      <td>False</td>\n",
       "      <td>True</td>\n",
       "      <td>3</td>\n",
       "      <td>Pres_Poisson</td>\n",
       "      <td>0</td>\n",
       "      <td>14825.0</td>\n",
       "      <td>1.0</td>\n",
       "      <td>715804.0</td>\n",
       "      <td>715804.0</td>\n",
       "      <td>14825.0</td>\n",
       "      <td>14825.0</td>\n",
       "      <td>57.624421</td>\n",
       "      <td>1.061618e+25</td>\n",
       "    </tr>\n",
       "  </tbody>\n",
       "</table>\n",
       "<p>615 rows × 13 columns</p>\n",
       "</div>"
      ]
     },
     "execution_count": 43,
     "metadata": {},
     "output_type": "execute_result"
    }
   ],
   "execution_count": 43
  },
  {
   "metadata": {
    "ExecuteTime": {
     "end_time": "2024-07-12T16:29:18.982629Z",
     "start_time": "2024-07-12T16:29:18.954622Z"
    }
   },
   "cell_type": "code",
   "source": [
    "rcm_padding_diff_df = pd.merge(rcm_on_group, rcm_off_group, on=['amd', 'padding', 'matrix_name', 'partial_gauss', 'tile_size'], suffixes=('_on', '_off'))\n",
    "rcm_padding_diff_df[\"log_obj_func_diff\"] = rcm_padding_diff_df[\"log_obj_func_on\"] - rcm_padding_diff_df[\"log_obj_func_off\"]\n",
    "rcm_padding_diff_df[\"log_obj_func_diff\"].describe()"
   ],
   "id": "ab2a8bb21c56ce6d",
   "outputs": [
    {
     "data": {
      "text/plain": [
       "count    615.000000\n",
       "mean      -0.055327\n",
       "std        0.188870\n",
       "min       -1.147567\n",
       "25%       -0.006678\n",
       "50%        0.000000\n",
       "75%        0.000000\n",
       "max        0.534270\n",
       "Name: log_obj_func_diff, dtype: float64"
      ]
     },
     "execution_count": 44,
     "metadata": {},
     "output_type": "execute_result"
    }
   ],
   "execution_count": 44
  },
  {
   "metadata": {
    "ExecuteTime": {
     "end_time": "2024-07-12T17:02:54.218009Z",
     "start_time": "2024-07-12T17:02:53.897736Z"
    }
   },
   "cell_type": "code",
   "source": [
    "fig = px.histogram(rcm_padding_diff_df, x=\"log_obj_func_diff\", nbins=100, log_y=True, \n",
    "                   color=\"matrix_name\",\n",
    "                #  histnorm=\"probability\",  # won't add up to one overall when multiple groups are used\n",
    "                  color_discrete_map=matrix_color_map,\n",
    "                  labels={\n",
    "                      \"log_obj_func_diff\": r'$\\Delta \\log(I^6 + rI^3 + r^2I^2)$',\n",
    "                      \"matrix_name\": \"Matrix name\",\n",
    "                      \"tile_size\": \"Tile size\",\n",
    "                  })\n",
    "fig.update_layout(\n",
    "        title={\n",
    "            'text': \"Change in runtime estimates after adding RCM to Padding\",\n",
    "            'x': 0.5,\n",
    "            'xanchor': 'center',\n",
    "            'yanchor': 'top'\n",
    "        },\n",
    "        plot_bgcolor='white',  # Plot area background color\n",
    "        paper_bgcolor='white',  # Entire figure background color\n",
    "        font=dict(color='black'),  # Font color\n",
    "    )\n",
    "fig.show()\n",
    "fig.write_image(\"plots/rcm_padding_log_obj_func_diff_plot.pdf\")"
   ],
   "id": "3a7b7d12285c0b8c",
   "outputs": [
    {
     "data": {
      "application/vnd.plotly.v1+json": {
       "data": [
        {
         "alignmentgroup": "True",
         "bingroup": "x",
         "hovertemplate": "Matrix name=ex10<br>$\\Delta \\log(I^6 + rI^3 + r^2I^2)$=%{x}<br>count=%{y}<extra></extra>",
         "legendgroup": "ex10",
         "marker": {
          "color": "#EF553B",
          "pattern": {
           "shape": ""
          }
         },
         "name": "ex10",
         "nbinsx": 100,
         "offsetgroup": "ex10",
         "orientation": "v",
         "showlegend": true,
         "x": [
          -1.0807520051175494,
          -0.26895163873869876,
          -0.21341210982565784,
          -0.22832584540929446,
          -0.1617888171019004,
          -0.05827913594590939,
          -0.011832506289110256,
          -6.221821497121027E-4,
          -1.4871604860644538E-4,
          -5.923368955507158E-5,
          0.0,
          0.0,
          0.0,
          0.0,
          0.0,
          -1.2253730223577008E-4,
          1.4239478286981466E-4,
          0.0,
          -1.0897904588977028,
          -0.4176044439292461,
          -0.15684062249347264,
          -0.2224927870356126,
          -0.17895954490814248,
          -0.21720643195811107,
          -0.2912740522049937,
          -0.006471213169835011,
          -0.0012800311267895381,
          -6.829546617126425E-6,
          2.229794798580542E-6,
          0.0,
          0.0,
          0.0,
          0.0,
          0.0,
          0.0,
          -0.12181559036298495,
          -0.002013071440451597,
          -4.5640638160193703E-4,
          0.0,
          0.0,
          0.0,
          0.0,
          -0.3159870967252516,
          -0.1411699681283416,
          -0.13191396493442653,
          -0.16991487552193973,
          -0.26461098026357277,
          -0.13551574499818742,
          -0.009945661897265978,
          9.64789756316975E-5,
          0.0,
          2.3142882977111867E-5,
          1.4942532686745835E-6,
          0.0,
          0.0,
          0.0,
          0.0,
          -0.49224447750070155,
          -0.05244078280490072,
          -0.006260632764924168,
          -5.540803725310184E-4,
          1.900383157504848E-6,
          0.0,
          0.0,
          0.0,
          0.0,
          0.0,
          0.0,
          -1.0315592077173505,
          -0.24937076373310063,
          -0.4395119399292575,
          -0.13716823876832507,
          -0.053864100928432634,
          -0.032513804729379814,
          -0.037604035190927476,
          -0.0011785014979288633,
          -1.1087556532629605E-4,
          1.48870515914723E-6,
          0.0,
          0.0,
          0.0,
          0.0,
          0.0,
          0.0,
          0.0,
          -0.0016515798389278302,
          0.0,
          0.0,
          -1.0245997089442227,
          -0.025835102882020067,
          -8.699515409489322E-4,
          1.9424862202299664E-4,
          3.630130141374366E-6,
          0.0,
          0.0
         ],
         "xaxis": "x",
         "yaxis": "y",
         "type": "histogram"
        },
        {
         "alignmentgroup": "True",
         "bingroup": "x",
         "hovertemplate": "Matrix name=ex13<br>$\\Delta \\log(I^6 + rI^3 + r^2I^2)$=%{x}<br>count=%{y}<extra></extra>",
         "legendgroup": "ex13",
         "marker": {
          "color": "#AB63FA",
          "pattern": {
           "shape": ""
          }
         },
         "name": "ex13",
         "nbinsx": 100,
         "offsetgroup": "ex13",
         "orientation": "v",
         "showlegend": true,
         "x": [
          -0.021838325137558456,
          7.076094564446578E-4,
          3.0381481881391892E-5,
          0.0,
          0.0,
          -0.3268399751595368,
          -0.13649524570503857,
          -0.0166032432593326,
          -0.11370283390016311,
          0.03473714844098197,
          0.0024379308452182613,
          0.05087436389761635,
          0.05333196401607054,
          0.005641163920607539,
          0.0018205497099188506,
          4.325909561586627E-5,
          1.7538523067628375E-5,
          2.3485320994609538E-6,
          4.6412701237841247E-7,
          0.0,
          0.0,
          0.0,
          0.0,
          0.0,
          3.084946715858905E-5,
          0.0,
          0.0,
          -0.029250786517032168,
          -8.411042644027589E-4,
          -1.3246627332108574E-4,
          0.0,
          0.0,
          0.0,
          0.0,
          0.001093444747535699,
          1.5520763991361264E-4,
          0.0,
          -0.3271135464087962,
          0.07028217424310768,
          -0.14720553802259673,
          0.012432482972965175,
          0.013341998570123081,
          0.04775920626004293,
          0.03950835502924477,
          0.038653418113739235,
          0.049934117142303336,
          0.04747920010441575,
          0.013864552341971148,
          7.597749267063136E-4,
          1.900411377278033E-4,
          4.912625470154808E-5,
          1.7480953324877646E-5,
          4.954883831231882E-6,
          3.565473924993512E-7,
          0.0,
          0.0,
          0.0,
          0.0,
          0.0,
          0.0,
          3.1136336971826495E-5,
          0.0,
          0.0,
          -5.2084151903386555E-5,
          0.0,
          0.0,
          -8.263954355882674E-4,
          -6.619702979548947E-5,
          0.0,
          0.0,
          0.0,
          -0.24952275626262832,
          0.044914502283340596,
          -0.05190682917788436,
          -0.025883706924499705,
          -0.010267356291997487,
          3.0286875563234616E-4,
          3.58548378887491E-4,
          3.0435457251343223E-5,
          0.0,
          0.0,
          0.0,
          0.0,
          0.0,
          0.0,
          0.0,
          -1.9613979198140896E-5,
          0.0,
          0.0
         ],
         "xaxis": "x",
         "yaxis": "y",
         "type": "histogram"
        },
        {
         "alignmentgroup": "True",
         "bingroup": "x",
         "hovertemplate": "Matrix name=ex10hs<br>$\\Delta \\log(I^6 + rI^3 + r^2I^2)$=%{x}<br>count=%{y}<extra></extra>",
         "legendgroup": "ex10hs",
         "marker": {
          "color": "#636EFA",
          "pattern": {
           "shape": ""
          }
         },
         "name": "ex10hs",
         "nbinsx": 100,
         "offsetgroup": "ex10hs",
         "orientation": "v",
         "showlegend": true,
         "x": [
          0.0,
          -1.142700637547918,
          -1.1160236194751256,
          -0.6346768367000806,
          -0.2449162862323213,
          -0.30782331367582927,
          -0.13612375049133618,
          -0.018217728533521438,
          -0.0018165091838859837,
          -1.39089855490937E-4,
          0.0,
          0.0,
          0.0,
          0.0,
          0.0,
          0.0,
          -0.3848400294255363,
          -0.10725077639697389,
          -0.04870075328497592,
          -5.173600532906164E-4,
          -9.91965997698685E-6,
          0.0,
          0.0,
          -2.3426860299480268E-4,
          0.0,
          0.0,
          -2.3572955039696808E-4,
          0.0,
          0.0,
          -1.1475667653702253,
          -0.7827374414226718,
          -0.4152395397934967,
          -0.22460257448613774,
          -0.3482892372952904,
          -0.17678524403676477,
          -0.11297924620154376,
          -0.004013757463503964,
          -0.001667239715292368,
          -3.580359216925899E-5,
          0.0,
          0.0,
          0.0,
          0.0,
          0.0,
          0.0,
          0.0,
          0.0,
          -0.24157334036121725,
          -0.15121363852028935,
          -0.004882970504521467,
          -4.444908378999912E-4,
          0.0,
          0.0,
          0.0,
          -1.080641466641957,
          -0.3440287062087748,
          -0.816095404018121,
          -0.29018474383360626,
          -0.07139005490911288,
          -0.04478097694616423,
          -0.024663519533103084,
          -0.005139387898417169,
          -5.643979578238145E-4,
          0.0,
          0.0,
          0.0,
          0.0,
          0.0,
          0.0,
          0.0,
          0.0,
          0.0,
          -1.1444922424108306,
          -0.3848487558056739,
          -0.3798377809998925,
          -0.5530145324141884,
          -0.39159862864159223,
          -0.2470216785221524,
          -0.30238164874762674,
          -0.30780444942721985,
          -0.14028181095343228,
          -0.0961419796130798,
          -0.008255940386703742,
          -0.0068850380116884935,
          -3.618174910542393E-4,
          -1.7406458426094673E-4,
          -4.4227521044604146E-5,
          0.0,
          0.0,
          0.0,
          0.0,
          0.0,
          0.0,
          0.0,
          0.0
         ],
         "xaxis": "x",
         "yaxis": "y",
         "type": "histogram"
        },
        {
         "alignmentgroup": "True",
         "bingroup": "x",
         "hovertemplate": "Matrix name=ex3<br>$\\Delta \\log(I^6 + rI^3 + r^2I^2)$=%{x}<br>count=%{y}<extra></extra>",
         "legendgroup": "ex3",
         "marker": {
          "color": "#FFA15A",
          "pattern": {
           "shape": ""
          }
         },
         "name": "ex3",
         "nbinsx": 100,
         "offsetgroup": "ex3",
         "orientation": "v",
         "showlegend": true,
         "x": [
          0.0400891344732095,
          -0.11036612663152567,
          -0.11356708077606115,
          -0.040216477285206054,
          0.006353245832045218,
          3.113512453651879E-4,
          0.0,
          0.0,
          0.0,
          0.0,
          0.0,
          5.072050168735132E-4,
          -3.2443661879000274E-4,
          0.0,
          0.0,
          0.0,
          -4.679170778913999E-4,
          5.672559676135336E-4,
          0.0,
          0.06028108177421032,
          -0.007374696960997795,
          -1.2503161989485534E-4,
          -3.50073163666309E-5,
          6.057896584366063E-7,
          0.0,
          0.0,
          0.06641835913753624,
          0.035808782205680956,
          -0.07772181115310417,
          -0.028941111109134,
          -0.028927878635126802,
          -0.007730453106251645,
          1.420320316540824E-4,
          3.742244828579544E-4,
          5.904082357233165E-6,
          0.0,
          0.0,
          0.0,
          0.0,
          0.0,
          0.0,
          0.0,
          0.0,
          0.06936405713423,
          0.04031743229920792,
          -0.2970029621536945,
          -0.05365293046009256,
          -0.1941038173689229,
          -0.1627163724027625,
          -0.18797143904074076,
          -0.1381622918951173,
          0.010341058103964684,
          -0.0028475649035826223,
          6.406973322548026E-4,
          3.695048304876991E-4,
          6.175290297569802E-4,
          1.785343373228443E-5,
          0.0,
          5.352103901401506E-6,
          1.6785262921814592E-6,
          0.0,
          0.0,
          0.0,
          0.0,
          0.0,
          0.0,
          3.369782749729211E-5,
          0.0,
          0.0,
          -0.05779027350158472,
          8.974532323691164E-5,
          8.754057949289518E-5,
          0.0,
          0.0,
          3.2750937663195145E-5,
          0.0,
          0.0
         ],
         "xaxis": "x",
         "yaxis": "y",
         "type": "histogram"
        },
        {
         "alignmentgroup": "True",
         "bingroup": "x",
         "hovertemplate": "Matrix name=bcsstk13<br>$\\Delta \\log(I^6 + rI^3 + r^2I^2)$=%{x}<br>count=%{y}<extra></extra>",
         "legendgroup": "bcsstk13",
         "marker": {
          "color": "#00CC96",
          "pattern": {
           "shape": ""
          }
         },
         "name": "bcsstk13",
         "nbinsx": 100,
         "offsetgroup": "bcsstk13",
         "orientation": "v",
         "showlegend": true,
         "x": [
          0.5087643571778919,
          0.08887339727495558,
          0.030900358441154907,
          -5.232389526099723E-7,
          0.0,
          0.1445475375166403,
          0.3554338591423871,
          0.30424083598528284,
          0.534269915352656,
          0.28242680387723595,
          0.14977619186188562,
          0.03098024429612778,
          0.0021920687027794372,
          -2.2205303693567657E-6,
          -3.8596898477294417E-7,
          -1.853195712442357E-7,
          -6.800464547040974E-8,
          -6.808555497173074E-9,
          0.0,
          0.0,
          0.0015043557003764363,
          7.572010720977573E-4,
          -4.958324950621318E-8,
          0.0,
          0.0,
          0.0,
          0.055955204460826025,
          0.1377040301007888,
          0.03049106573288185,
          0.0039048705758446545,
          1.1324970316195504E-5,
          0.0,
          0.0,
          0.36985761923874705,
          0.33111412797503803,
          0.03721297812090185,
          0.00379283558931931,
          -3.43459214491304E-6,
          -6.777916894407099E-9,
          0.0,
          0.052615801826618736,
          0.007505167991020301,
          -1.3061127503988246E-6,
          -6.83937173562299E-9,
          0.0,
          0.035308597012260634,
          0.020129257149392288,
          0.0059631741104198,
          -4.973372895733519E-7,
          -3.3382661968062166E-8,
          0.0,
          0.0,
          0.0,
          0.03397806816027327,
          0.09175814004682437,
          0.05596895645411237,
          0.03931020718055578,
          0.008511491952464922,
          -4.075521882640487E-6,
          -1.8706682425317922E-7,
          -5.0189278510970325E-8,
          -6.870372715184203E-9,
          0.0,
          0.0,
          0.0011183629655846516,
          -1.0233217295763097E-7,
          0.0
         ],
         "xaxis": "x",
         "yaxis": "y",
         "type": "histogram"
        },
        {
         "alignmentgroup": "True",
         "bingroup": "x",
         "hovertemplate": "Matrix name=ex15<br>$\\Delta \\log(I^6 + rI^3 + r^2I^2)$=%{x}<br>count=%{y}<extra></extra>",
         "legendgroup": "ex15",
         "marker": {
          "color": "#19D3F3",
          "pattern": {
           "shape": ""
          }
         },
         "name": "ex15",
         "nbinsx": 100,
         "offsetgroup": "ex15",
         "orientation": "v",
         "showlegend": true,
         "x": [
          -0.6069234000345496,
          -0.7427525990375479,
          0.0,
          0.0,
          0.0,
          -0.41023467124277246,
          -0.1564355373936337,
          -0.7189419855549524,
          -0.025706388854956685,
          0.0,
          0.0,
          0.0,
          0.0,
          0.0,
          -0.02919404819732918,
          -0.04467763550126591,
          -0.05626595733041739,
          -0.016368544416650366,
          6.547592903061172E-5,
          -6.812402411071616E-6,
          -7.818898950517905E-8,
          -4.785782437011221E-9,
          0.0,
          -1.6763124222052284E-10,
          0.0,
          -0.5332762376197913,
          -0.00899103180211469,
          -0.0749127137467589,
          0.010493867314046668,
          -0.0072631075577760384,
          -0.0017834830872445195,
          -7.314747025013446E-4,
          -1.6905277191980872E-4,
          0.0,
          0.0,
          0.0,
          0.0,
          0.0,
          0.0,
          0.0,
          0.0,
          0.0,
          -0.00276254536971976,
          -2.167790373448497E-4,
          -4.1686466552448564E-5,
          0.0,
          0.0,
          0.0,
          0.0,
          -0.03528403339132069,
          -0.03937860805393001,
          3.068787303206477E-5,
          0.0,
          0.0,
          0.0,
          0.0,
          -0.35232821473168485,
          -0.0048049280603805755,
          -0.019792679500852728,
          0.005212708059467275,
          -0.0014788858069820776,
          -5.414664942193781E-4,
          -5.670632082157567E-4,
          0.0,
          0.0,
          0.0,
          0.0,
          0.0,
          0.0,
          0.0,
          0.0,
          -0.9831616985470681,
          -0.3719286739722705,
          -0.011657603688981055,
          -0.002307637372300775,
          5.459558585130253E-5,
          0.0,
          0.0,
          0.0,
          0.0,
          0.0,
          0.0,
          -0.025163183273846812,
          -1.5948770388973799E-4,
          -2.0513241373976143E-5,
          0.0,
          0.0,
          0.0,
          0.0,
          0.0,
          0.0
         ],
         "xaxis": "x",
         "yaxis": "y",
         "type": "histogram"
        },
        {
         "alignmentgroup": "True",
         "bingroup": "x",
         "hovertemplate": "Matrix name=Pres_Poisson<br>$\\Delta \\log(I^6 + rI^3 + r^2I^2)$=%{x}<br>count=%{y}<extra></extra>",
         "legendgroup": "Pres_Poisson",
         "marker": {
          "color": "#FF6692",
          "pattern": {
           "shape": ""
          }
         },
         "name": "Pres_Poisson",
         "nbinsx": 100,
         "offsetgroup": "Pres_Poisson",
         "orientation": "v",
         "showlegend": true,
         "x": [
          -0.4431741063539718,
          -0.289790881315497,
          -0.08172979387903467,
          -0.05503614295815851,
          -0.007613521708172755,
          -8.542916876166373E-4,
          -1.3717872415242027E-4,
          -1.1802242717351419E-5,
          -3.083579684926008E-7,
          -5.1221270780388295E-8,
          -1.5096759398147697E-9,
          -8.095213388514821E-10,
          -1.6619594589428743E-11,
          0.0,
          0.0,
          -1.5154787199378461E-5,
          -1.6612489162071142E-11,
          0.0,
          0.0,
          -0.005330571699531106,
          -4.6470381754915024E-4,
          -5.3545573038604743E-5,
          -1.0393492289040296E-8,
          -3.879065957335115E-10,
          0.0,
          0.0,
          -0.601313939095391,
          -0.7996602184531483,
          -0.6455645874572937,
          -0.1607126316532259,
          -0.01791712121333333,
          -0.01377304575315108,
          -0.007980016706579107,
          -0.002293595678175109,
          -1.537561149760336E-4,
          -3.4716044297056214E-6,
          -1.031229004411216E-7,
          -2.923748354533018E-9,
          -7.909761734481435E-11,
          0.0,
          0.0,
          0.0,
          -8.949388586643181E-6,
          0.0,
          0.0,
          -0.46389415170934,
          -0.2556929192270019,
          -0.018864824078576703,
          -0.002009907461200555,
          -2.09330034962818E-4,
          -1.3625912025361231E-5,
          -3.9855252964571264E-7,
          -1.4869165454456379E-8,
          -1.1861089888043352E-10,
          0.0,
          0.0,
          -0.5314883038240907,
          -0.2799346145632384,
          -0.4924894385363885,
          -0.29713625070236915,
          -0.2076227180530381,
          -0.06528270496541211,
          -0.09810532780321424,
          -0.008015771306475017,
          -0.03560112197590115,
          -0.02699526587163703,
          -0.005188439070742845,
          -0.011387723332848765,
          -0.020836453991272208,
          -0.010324526609490903,
          -0.001471530293397194,
          -2.0405349480867585E-4,
          -2.4571128435013634E-5,
          -5.367686569002217E-6,
          -6.278637769696616E-7,
          -1.655153880619764E-7,
          -9.076082108094852E-8,
          -2.3034850471503887E-8,
          -6.076895431306184E-9,
          -3.5750744586948713E-9,
          -8.085336844487756E-10,
          -1.185185283247847E-10,
          -1.660538373471354E-11,
          0.0,
          0.0,
          -0.28131831205309155,
          -0.07188970047843313,
          -0.035616582059930124,
          -0.12035151567013358,
          -0.04064721725759668,
          -3.8243734489640246E-4,
          -9.182842337907005E-5,
          -1.197785181261679E-6,
          -6.088136217385909E-9,
          -1.6633805444143945E-11,
          0.0,
          -0.00784091693542166,
          8.524780051999414E-5,
          -8.335953509686078E-7,
          -3.8829739423817955E-10,
          0.0
         ],
         "xaxis": "x",
         "yaxis": "y",
         "type": "histogram"
        }
       ],
       "layout": {
        "template": {
         "data": {
          "histogram2dcontour": [
           {
            "type": "histogram2dcontour",
            "colorbar": {
             "outlinewidth": 0,
             "ticks": ""
            },
            "colorscale": [
             [
              0.0,
              "#0d0887"
             ],
             [
              0.1111111111111111,
              "#46039f"
             ],
             [
              0.2222222222222222,
              "#7201a8"
             ],
             [
              0.3333333333333333,
              "#9c179e"
             ],
             [
              0.4444444444444444,
              "#bd3786"
             ],
             [
              0.5555555555555556,
              "#d8576b"
             ],
             [
              0.6666666666666666,
              "#ed7953"
             ],
             [
              0.7777777777777778,
              "#fb9f3a"
             ],
             [
              0.8888888888888888,
              "#fdca26"
             ],
             [
              1.0,
              "#f0f921"
             ]
            ]
           }
          ],
          "choropleth": [
           {
            "type": "choropleth",
            "colorbar": {
             "outlinewidth": 0,
             "ticks": ""
            }
           }
          ],
          "histogram2d": [
           {
            "type": "histogram2d",
            "colorbar": {
             "outlinewidth": 0,
             "ticks": ""
            },
            "colorscale": [
             [
              0.0,
              "#0d0887"
             ],
             [
              0.1111111111111111,
              "#46039f"
             ],
             [
              0.2222222222222222,
              "#7201a8"
             ],
             [
              0.3333333333333333,
              "#9c179e"
             ],
             [
              0.4444444444444444,
              "#bd3786"
             ],
             [
              0.5555555555555556,
              "#d8576b"
             ],
             [
              0.6666666666666666,
              "#ed7953"
             ],
             [
              0.7777777777777778,
              "#fb9f3a"
             ],
             [
              0.8888888888888888,
              "#fdca26"
             ],
             [
              1.0,
              "#f0f921"
             ]
            ]
           }
          ],
          "heatmap": [
           {
            "type": "heatmap",
            "colorbar": {
             "outlinewidth": 0,
             "ticks": ""
            },
            "colorscale": [
             [
              0.0,
              "#0d0887"
             ],
             [
              0.1111111111111111,
              "#46039f"
             ],
             [
              0.2222222222222222,
              "#7201a8"
             ],
             [
              0.3333333333333333,
              "#9c179e"
             ],
             [
              0.4444444444444444,
              "#bd3786"
             ],
             [
              0.5555555555555556,
              "#d8576b"
             ],
             [
              0.6666666666666666,
              "#ed7953"
             ],
             [
              0.7777777777777778,
              "#fb9f3a"
             ],
             [
              0.8888888888888888,
              "#fdca26"
             ],
             [
              1.0,
              "#f0f921"
             ]
            ]
           }
          ],
          "heatmapgl": [
           {
            "type": "heatmapgl",
            "colorbar": {
             "outlinewidth": 0,
             "ticks": ""
            },
            "colorscale": [
             [
              0.0,
              "#0d0887"
             ],
             [
              0.1111111111111111,
              "#46039f"
             ],
             [
              0.2222222222222222,
              "#7201a8"
             ],
             [
              0.3333333333333333,
              "#9c179e"
             ],
             [
              0.4444444444444444,
              "#bd3786"
             ],
             [
              0.5555555555555556,
              "#d8576b"
             ],
             [
              0.6666666666666666,
              "#ed7953"
             ],
             [
              0.7777777777777778,
              "#fb9f3a"
             ],
             [
              0.8888888888888888,
              "#fdca26"
             ],
             [
              1.0,
              "#f0f921"
             ]
            ]
           }
          ],
          "contourcarpet": [
           {
            "type": "contourcarpet",
            "colorbar": {
             "outlinewidth": 0,
             "ticks": ""
            }
           }
          ],
          "contour": [
           {
            "type": "contour",
            "colorbar": {
             "outlinewidth": 0,
             "ticks": ""
            },
            "colorscale": [
             [
              0.0,
              "#0d0887"
             ],
             [
              0.1111111111111111,
              "#46039f"
             ],
             [
              0.2222222222222222,
              "#7201a8"
             ],
             [
              0.3333333333333333,
              "#9c179e"
             ],
             [
              0.4444444444444444,
              "#bd3786"
             ],
             [
              0.5555555555555556,
              "#d8576b"
             ],
             [
              0.6666666666666666,
              "#ed7953"
             ],
             [
              0.7777777777777778,
              "#fb9f3a"
             ],
             [
              0.8888888888888888,
              "#fdca26"
             ],
             [
              1.0,
              "#f0f921"
             ]
            ]
           }
          ],
          "surface": [
           {
            "type": "surface",
            "colorbar": {
             "outlinewidth": 0,
             "ticks": ""
            },
            "colorscale": [
             [
              0.0,
              "#0d0887"
             ],
             [
              0.1111111111111111,
              "#46039f"
             ],
             [
              0.2222222222222222,
              "#7201a8"
             ],
             [
              0.3333333333333333,
              "#9c179e"
             ],
             [
              0.4444444444444444,
              "#bd3786"
             ],
             [
              0.5555555555555556,
              "#d8576b"
             ],
             [
              0.6666666666666666,
              "#ed7953"
             ],
             [
              0.7777777777777778,
              "#fb9f3a"
             ],
             [
              0.8888888888888888,
              "#fdca26"
             ],
             [
              1.0,
              "#f0f921"
             ]
            ]
           }
          ],
          "mesh3d": [
           {
            "type": "mesh3d",
            "colorbar": {
             "outlinewidth": 0,
             "ticks": ""
            }
           }
          ],
          "scatter": [
           {
            "marker": {
             "line": {
              "color": "#283442"
             }
            },
            "type": "scatter"
           }
          ],
          "parcoords": [
           {
            "type": "parcoords",
            "line": {
             "colorbar": {
              "outlinewidth": 0,
              "ticks": ""
             }
            }
           }
          ],
          "scatterpolargl": [
           {
            "type": "scatterpolargl",
            "marker": {
             "colorbar": {
              "outlinewidth": 0,
              "ticks": ""
             }
            }
           }
          ],
          "bar": [
           {
            "error_x": {
             "color": "#f2f5fa"
            },
            "error_y": {
             "color": "#f2f5fa"
            },
            "marker": {
             "line": {
              "color": "rgb(17,17,17)",
              "width": 0.5
             },
             "pattern": {
              "fillmode": "overlay",
              "size": 10,
              "solidity": 0.2
             }
            },
            "type": "bar"
           }
          ],
          "scattergeo": [
           {
            "type": "scattergeo",
            "marker": {
             "colorbar": {
              "outlinewidth": 0,
              "ticks": ""
             }
            }
           }
          ],
          "scatterpolar": [
           {
            "type": "scatterpolar",
            "marker": {
             "colorbar": {
              "outlinewidth": 0,
              "ticks": ""
             }
            }
           }
          ],
          "histogram": [
           {
            "marker": {
             "pattern": {
              "fillmode": "overlay",
              "size": 10,
              "solidity": 0.2
             }
            },
            "type": "histogram"
           }
          ],
          "scattergl": [
           {
            "marker": {
             "line": {
              "color": "#283442"
             }
            },
            "type": "scattergl"
           }
          ],
          "scatter3d": [
           {
            "type": "scatter3d",
            "line": {
             "colorbar": {
              "outlinewidth": 0,
              "ticks": ""
             }
            },
            "marker": {
             "colorbar": {
              "outlinewidth": 0,
              "ticks": ""
             }
            }
           }
          ],
          "scattermapbox": [
           {
            "type": "scattermapbox",
            "marker": {
             "colorbar": {
              "outlinewidth": 0,
              "ticks": ""
             }
            }
           }
          ],
          "scatterternary": [
           {
            "type": "scatterternary",
            "marker": {
             "colorbar": {
              "outlinewidth": 0,
              "ticks": ""
             }
            }
           }
          ],
          "scattercarpet": [
           {
            "type": "scattercarpet",
            "marker": {
             "colorbar": {
              "outlinewidth": 0,
              "ticks": ""
             }
            }
           }
          ],
          "carpet": [
           {
            "aaxis": {
             "endlinecolor": "#A2B1C6",
             "gridcolor": "#506784",
             "linecolor": "#506784",
             "minorgridcolor": "#506784",
             "startlinecolor": "#A2B1C6"
            },
            "baxis": {
             "endlinecolor": "#A2B1C6",
             "gridcolor": "#506784",
             "linecolor": "#506784",
             "minorgridcolor": "#506784",
             "startlinecolor": "#A2B1C6"
            },
            "type": "carpet"
           }
          ],
          "table": [
           {
            "cells": {
             "fill": {
              "color": "#506784"
             },
             "line": {
              "color": "rgb(17,17,17)"
             }
            },
            "header": {
             "fill": {
              "color": "#2a3f5f"
             },
             "line": {
              "color": "rgb(17,17,17)"
             }
            },
            "type": "table"
           }
          ],
          "barpolar": [
           {
            "marker": {
             "line": {
              "color": "rgb(17,17,17)",
              "width": 0.5
             },
             "pattern": {
              "fillmode": "overlay",
              "size": 10,
              "solidity": 0.2
             }
            },
            "type": "barpolar"
           }
          ],
          "pie": [
           {
            "automargin": true,
            "type": "pie"
           }
          ]
         },
         "layout": {
          "autotypenumbers": "strict",
          "colorway": [
           "#636efa",
           "#EF553B",
           "#00cc96",
           "#ab63fa",
           "#FFA15A",
           "#19d3f3",
           "#FF6692",
           "#B6E880",
           "#FF97FF",
           "#FECB52"
          ],
          "font": {
           "color": "#f2f5fa"
          },
          "hovermode": "closest",
          "hoverlabel": {
           "align": "left"
          },
          "paper_bgcolor": "rgb(17,17,17)",
          "plot_bgcolor": "rgb(17,17,17)",
          "polar": {
           "bgcolor": "rgb(17,17,17)",
           "angularaxis": {
            "gridcolor": "#506784",
            "linecolor": "#506784",
            "ticks": ""
           },
           "radialaxis": {
            "gridcolor": "#506784",
            "linecolor": "#506784",
            "ticks": ""
           }
          },
          "ternary": {
           "bgcolor": "rgb(17,17,17)",
           "aaxis": {
            "gridcolor": "#506784",
            "linecolor": "#506784",
            "ticks": ""
           },
           "baxis": {
            "gridcolor": "#506784",
            "linecolor": "#506784",
            "ticks": ""
           },
           "caxis": {
            "gridcolor": "#506784",
            "linecolor": "#506784",
            "ticks": ""
           }
          },
          "coloraxis": {
           "colorbar": {
            "outlinewidth": 0,
            "ticks": ""
           }
          },
          "colorscale": {
           "sequential": [
            [
             0.0,
             "#0d0887"
            ],
            [
             0.1111111111111111,
             "#46039f"
            ],
            [
             0.2222222222222222,
             "#7201a8"
            ],
            [
             0.3333333333333333,
             "#9c179e"
            ],
            [
             0.4444444444444444,
             "#bd3786"
            ],
            [
             0.5555555555555556,
             "#d8576b"
            ],
            [
             0.6666666666666666,
             "#ed7953"
            ],
            [
             0.7777777777777778,
             "#fb9f3a"
            ],
            [
             0.8888888888888888,
             "#fdca26"
            ],
            [
             1.0,
             "#f0f921"
            ]
           ],
           "sequentialminus": [
            [
             0.0,
             "#0d0887"
            ],
            [
             0.1111111111111111,
             "#46039f"
            ],
            [
             0.2222222222222222,
             "#7201a8"
            ],
            [
             0.3333333333333333,
             "#9c179e"
            ],
            [
             0.4444444444444444,
             "#bd3786"
            ],
            [
             0.5555555555555556,
             "#d8576b"
            ],
            [
             0.6666666666666666,
             "#ed7953"
            ],
            [
             0.7777777777777778,
             "#fb9f3a"
            ],
            [
             0.8888888888888888,
             "#fdca26"
            ],
            [
             1.0,
             "#f0f921"
            ]
           ],
           "diverging": [
            [
             0,
             "#8e0152"
            ],
            [
             0.1,
             "#c51b7d"
            ],
            [
             0.2,
             "#de77ae"
            ],
            [
             0.3,
             "#f1b6da"
            ],
            [
             0.4,
             "#fde0ef"
            ],
            [
             0.5,
             "#f7f7f7"
            ],
            [
             0.6,
             "#e6f5d0"
            ],
            [
             0.7,
             "#b8e186"
            ],
            [
             0.8,
             "#7fbc41"
            ],
            [
             0.9,
             "#4d9221"
            ],
            [
             1,
             "#276419"
            ]
           ]
          },
          "xaxis": {
           "gridcolor": "#283442",
           "linecolor": "#506784",
           "ticks": "",
           "title": {
            "standoff": 15
           },
           "zerolinecolor": "#283442",
           "automargin": true,
           "zerolinewidth": 2
          },
          "yaxis": {
           "gridcolor": "#283442",
           "linecolor": "#506784",
           "ticks": "",
           "title": {
            "standoff": 15
           },
           "zerolinecolor": "#283442",
           "automargin": true,
           "zerolinewidth": 2
          },
          "scene": {
           "xaxis": {
            "backgroundcolor": "rgb(17,17,17)",
            "gridcolor": "#506784",
            "linecolor": "#506784",
            "showbackground": true,
            "ticks": "",
            "zerolinecolor": "#C8D4E3",
            "gridwidth": 2
           },
           "yaxis": {
            "backgroundcolor": "rgb(17,17,17)",
            "gridcolor": "#506784",
            "linecolor": "#506784",
            "showbackground": true,
            "ticks": "",
            "zerolinecolor": "#C8D4E3",
            "gridwidth": 2
           },
           "zaxis": {
            "backgroundcolor": "rgb(17,17,17)",
            "gridcolor": "#506784",
            "linecolor": "#506784",
            "showbackground": true,
            "ticks": "",
            "zerolinecolor": "#C8D4E3",
            "gridwidth": 2
           }
          },
          "shapedefaults": {
           "line": {
            "color": "#f2f5fa"
           }
          },
          "annotationdefaults": {
           "arrowcolor": "#f2f5fa",
           "arrowhead": 0,
           "arrowwidth": 1
          },
          "geo": {
           "bgcolor": "rgb(17,17,17)",
           "landcolor": "rgb(17,17,17)",
           "subunitcolor": "#506784",
           "showland": true,
           "showlakes": true,
           "lakecolor": "rgb(17,17,17)"
          },
          "title": {
           "x": 0.05
          },
          "updatemenudefaults": {
           "bgcolor": "#506784",
           "borderwidth": 0
          },
          "sliderdefaults": {
           "bgcolor": "#C8D4E3",
           "borderwidth": 1,
           "bordercolor": "rgb(17,17,17)",
           "tickwidth": 0
          },
          "mapbox": {
           "style": "dark"
          }
         }
        },
        "xaxis": {
         "anchor": "y",
         "domain": [
          0.0,
          1.0
         ],
         "title": {
          "text": "$\\Delta \\log(I^6 + rI^3 + r^2I^2)$"
         }
        },
        "yaxis": {
         "anchor": "x",
         "domain": [
          0.0,
          1.0
         ],
         "title": {
          "text": "count"
         },
         "type": "log"
        },
        "legend": {
         "title": {
          "text": "Matrix name"
         },
         "tracegroupgap": 0
        },
        "margin": {
         "t": 60
        },
        "barmode": "relative",
        "title": {
         "text": "Change in runtime estimates after adding RCM to Padding",
         "x": 0.5,
         "xanchor": "center",
         "yanchor": "top"
        },
        "font": {
         "color": "black"
        },
        "plot_bgcolor": "white",
        "paper_bgcolor": "white"
       },
       "config": {
        "plotlyServerURL": "https://plot.ly"
       }
      },
      "text/html": [
       "<div>                            <div id=\"b20b581d-fc19-49ef-871d-12c130b78c77\" class=\"plotly-graph-div\" style=\"height:525px; width:100%;\"></div>            <script type=\"text/javascript\">                require([\"plotly\"], function(Plotly) {                    window.PLOTLYENV=window.PLOTLYENV || {};                                    if (document.getElementById(\"b20b581d-fc19-49ef-871d-12c130b78c77\")) {                    Plotly.newPlot(                        \"b20b581d-fc19-49ef-871d-12c130b78c77\",                        [{\"alignmentgroup\":\"True\",\"bingroup\":\"x\",\"hovertemplate\":\"Matrix name=ex10\\u003cbr\\u003e$\\\\Delta \\\\log(I^6 + rI^3 + r^2I^2)$=%{x}\\u003cbr\\u003ecount=%{y}\\u003cextra\\u003e\\u003c\\u002fextra\\u003e\",\"legendgroup\":\"ex10\",\"marker\":{\"color\":\"#EF553B\",\"pattern\":{\"shape\":\"\"}},\"name\":\"ex10\",\"nbinsx\":100,\"offsetgroup\":\"ex10\",\"orientation\":\"v\",\"showlegend\":true,\"x\":[-1.0807520051175494,-0.26895163873869876,-0.21341210982565784,-0.22832584540929446,-0.1617888171019004,-0.05827913594590939,-0.011832506289110256,-0.0006221821497121027,-0.00014871604860644538,-5.923368955507158e-05,0.0,0.0,0.0,0.0,0.0,-0.00012253730223577008,0.00014239478286981466,0.0,-1.0897904588977028,-0.4176044439292461,-0.15684062249347264,-0.2224927870356126,-0.17895954490814248,-0.21720643195811107,-0.2912740522049937,-0.006471213169835011,-0.0012800311267895381,-6.829546617126425e-06,2.229794798580542e-06,0.0,0.0,0.0,0.0,0.0,0.0,-0.12181559036298495,-0.002013071440451597,-0.00045640638160193703,0.0,0.0,0.0,0.0,-0.3159870967252516,-0.1411699681283416,-0.13191396493442653,-0.16991487552193973,-0.26461098026357277,-0.13551574499818742,-0.009945661897265978,9.64789756316975e-05,0.0,2.3142882977111867e-05,1.4942532686745835e-06,0.0,0.0,0.0,0.0,-0.49224447750070155,-0.05244078280490072,-0.006260632764924168,-0.0005540803725310184,1.900383157504848e-06,0.0,0.0,0.0,0.0,0.0,0.0,-1.0315592077173505,-0.24937076373310063,-0.4395119399292575,-0.13716823876832507,-0.053864100928432634,-0.032513804729379814,-0.037604035190927476,-0.0011785014979288633,-0.00011087556532629605,1.48870515914723e-06,0.0,0.0,0.0,0.0,0.0,0.0,0.0,-0.0016515798389278302,0.0,0.0,-1.0245997089442227,-0.025835102882020067,-0.0008699515409489322,0.00019424862202299664,3.630130141374366e-06,0.0,0.0],\"xaxis\":\"x\",\"yaxis\":\"y\",\"type\":\"histogram\"},{\"alignmentgroup\":\"True\",\"bingroup\":\"x\",\"hovertemplate\":\"Matrix name=ex13\\u003cbr\\u003e$\\\\Delta \\\\log(I^6 + rI^3 + r^2I^2)$=%{x}\\u003cbr\\u003ecount=%{y}\\u003cextra\\u003e\\u003c\\u002fextra\\u003e\",\"legendgroup\":\"ex13\",\"marker\":{\"color\":\"#AB63FA\",\"pattern\":{\"shape\":\"\"}},\"name\":\"ex13\",\"nbinsx\":100,\"offsetgroup\":\"ex13\",\"orientation\":\"v\",\"showlegend\":true,\"x\":[-0.021838325137558456,0.0007076094564446578,3.0381481881391892e-05,0.0,0.0,-0.3268399751595368,-0.13649524570503857,-0.0166032432593326,-0.11370283390016311,0.03473714844098197,0.0024379308452182613,0.05087436389761635,0.05333196401607054,0.005641163920607539,0.0018205497099188506,4.325909561586627e-05,1.7538523067628375e-05,2.3485320994609538e-06,4.6412701237841247e-07,0.0,0.0,0.0,0.0,0.0,3.084946715858905e-05,0.0,0.0,-0.029250786517032168,-0.0008411042644027589,-0.00013246627332108574,0.0,0.0,0.0,0.0,0.001093444747535699,0.00015520763991361264,0.0,-0.3271135464087962,0.07028217424310768,-0.14720553802259673,0.012432482972965175,0.013341998570123081,0.04775920626004293,0.03950835502924477,0.038653418113739235,0.049934117142303336,0.04747920010441575,0.013864552341971148,0.0007597749267063136,0.0001900411377278033,4.912625470154808e-05,1.7480953324877646e-05,4.954883831231882e-06,3.565473924993512e-07,0.0,0.0,0.0,0.0,0.0,0.0,3.1136336971826495e-05,0.0,0.0,-5.2084151903386555e-05,0.0,0.0,-0.0008263954355882674,-6.619702979548947e-05,0.0,0.0,0.0,-0.24952275626262832,0.044914502283340596,-0.05190682917788436,-0.025883706924499705,-0.010267356291997487,0.00030286875563234616,0.000358548378887491,3.0435457251343223e-05,0.0,0.0,0.0,0.0,0.0,0.0,0.0,-1.9613979198140896e-05,0.0,0.0],\"xaxis\":\"x\",\"yaxis\":\"y\",\"type\":\"histogram\"},{\"alignmentgroup\":\"True\",\"bingroup\":\"x\",\"hovertemplate\":\"Matrix name=ex10hs\\u003cbr\\u003e$\\\\Delta \\\\log(I^6 + rI^3 + r^2I^2)$=%{x}\\u003cbr\\u003ecount=%{y}\\u003cextra\\u003e\\u003c\\u002fextra\\u003e\",\"legendgroup\":\"ex10hs\",\"marker\":{\"color\":\"#636EFA\",\"pattern\":{\"shape\":\"\"}},\"name\":\"ex10hs\",\"nbinsx\":100,\"offsetgroup\":\"ex10hs\",\"orientation\":\"v\",\"showlegend\":true,\"x\":[0.0,-1.142700637547918,-1.1160236194751256,-0.6346768367000806,-0.2449162862323213,-0.30782331367582927,-0.13612375049133618,-0.018217728533521438,-0.0018165091838859837,-0.000139089855490937,0.0,0.0,0.0,0.0,0.0,0.0,-0.3848400294255363,-0.10725077639697389,-0.04870075328497592,-0.0005173600532906164,-9.91965997698685e-06,0.0,0.0,-0.00023426860299480268,0.0,0.0,-0.00023572955039696808,0.0,0.0,-1.1475667653702253,-0.7827374414226718,-0.4152395397934967,-0.22460257448613774,-0.3482892372952904,-0.17678524403676477,-0.11297924620154376,-0.004013757463503964,-0.001667239715292368,-3.580359216925899e-05,0.0,0.0,0.0,0.0,0.0,0.0,0.0,0.0,-0.24157334036121725,-0.15121363852028935,-0.004882970504521467,-0.0004444908378999912,0.0,0.0,0.0,-1.080641466641957,-0.3440287062087748,-0.816095404018121,-0.29018474383360626,-0.07139005490911288,-0.04478097694616423,-0.024663519533103084,-0.005139387898417169,-0.0005643979578238145,0.0,0.0,0.0,0.0,0.0,0.0,0.0,0.0,0.0,-1.1444922424108306,-0.3848487558056739,-0.3798377809998925,-0.5530145324141884,-0.39159862864159223,-0.2470216785221524,-0.30238164874762674,-0.30780444942721985,-0.14028181095343228,-0.0961419796130798,-0.008255940386703742,-0.0068850380116884935,-0.0003618174910542393,-0.00017406458426094673,-4.4227521044604146e-05,0.0,0.0,0.0,0.0,0.0,0.0,0.0,0.0],\"xaxis\":\"x\",\"yaxis\":\"y\",\"type\":\"histogram\"},{\"alignmentgroup\":\"True\",\"bingroup\":\"x\",\"hovertemplate\":\"Matrix name=ex3\\u003cbr\\u003e$\\\\Delta \\\\log(I^6 + rI^3 + r^2I^2)$=%{x}\\u003cbr\\u003ecount=%{y}\\u003cextra\\u003e\\u003c\\u002fextra\\u003e\",\"legendgroup\":\"ex3\",\"marker\":{\"color\":\"#FFA15A\",\"pattern\":{\"shape\":\"\"}},\"name\":\"ex3\",\"nbinsx\":100,\"offsetgroup\":\"ex3\",\"orientation\":\"v\",\"showlegend\":true,\"x\":[0.0400891344732095,-0.11036612663152567,-0.11356708077606115,-0.040216477285206054,0.006353245832045218,0.0003113512453651879,0.0,0.0,0.0,0.0,0.0,0.0005072050168735132,-0.00032443661879000274,0.0,0.0,0.0,-0.0004679170778913999,0.0005672559676135336,0.0,0.06028108177421032,-0.007374696960997795,-0.00012503161989485534,-3.50073163666309e-05,6.057896584366063e-07,0.0,0.0,0.06641835913753624,0.035808782205680956,-0.07772181115310417,-0.028941111109134,-0.028927878635126802,-0.007730453106251645,0.0001420320316540824,0.0003742244828579544,5.904082357233165e-06,0.0,0.0,0.0,0.0,0.0,0.0,0.0,0.0,0.06936405713423,0.04031743229920792,-0.2970029621536945,-0.05365293046009256,-0.1941038173689229,-0.1627163724027625,-0.18797143904074076,-0.1381622918951173,0.010341058103964684,-0.0028475649035826223,0.0006406973322548026,0.0003695048304876991,0.0006175290297569802,1.785343373228443e-05,0.0,5.352103901401506e-06,1.6785262921814592e-06,0.0,0.0,0.0,0.0,0.0,0.0,3.369782749729211e-05,0.0,0.0,-0.05779027350158472,8.974532323691164e-05,8.754057949289518e-05,0.0,0.0,3.2750937663195145e-05,0.0,0.0],\"xaxis\":\"x\",\"yaxis\":\"y\",\"type\":\"histogram\"},{\"alignmentgroup\":\"True\",\"bingroup\":\"x\",\"hovertemplate\":\"Matrix name=bcsstk13\\u003cbr\\u003e$\\\\Delta \\\\log(I^6 + rI^3 + r^2I^2)$=%{x}\\u003cbr\\u003ecount=%{y}\\u003cextra\\u003e\\u003c\\u002fextra\\u003e\",\"legendgroup\":\"bcsstk13\",\"marker\":{\"color\":\"#00CC96\",\"pattern\":{\"shape\":\"\"}},\"name\":\"bcsstk13\",\"nbinsx\":100,\"offsetgroup\":\"bcsstk13\",\"orientation\":\"v\",\"showlegend\":true,\"x\":[0.5087643571778919,0.08887339727495558,0.030900358441154907,-5.232389526099723e-07,0.0,0.1445475375166403,0.3554338591423871,0.30424083598528284,0.534269915352656,0.28242680387723595,0.14977619186188562,0.03098024429612778,0.0021920687027794372,-2.2205303693567657e-06,-3.8596898477294417e-07,-1.853195712442357e-07,-6.800464547040974e-08,-6.808555497173074e-09,0.0,0.0,0.0015043557003764363,0.0007572010720977573,-4.958324950621318e-08,0.0,0.0,0.0,0.055955204460826025,0.1377040301007888,0.03049106573288185,0.0039048705758446545,1.1324970316195504e-05,0.0,0.0,0.36985761923874705,0.33111412797503803,0.03721297812090185,0.00379283558931931,-3.43459214491304e-06,-6.777916894407099e-09,0.0,0.052615801826618736,0.007505167991020301,-1.3061127503988246e-06,-6.83937173562299e-09,0.0,0.035308597012260634,0.020129257149392288,0.0059631741104198,-4.973372895733519e-07,-3.3382661968062166e-08,0.0,0.0,0.0,0.03397806816027327,0.09175814004682437,0.05596895645411237,0.03931020718055578,0.008511491952464922,-4.075521882640487e-06,-1.8706682425317922e-07,-5.0189278510970325e-08,-6.870372715184203e-09,0.0,0.0,0.0011183629655846516,-1.0233217295763097e-07,0.0],\"xaxis\":\"x\",\"yaxis\":\"y\",\"type\":\"histogram\"},{\"alignmentgroup\":\"True\",\"bingroup\":\"x\",\"hovertemplate\":\"Matrix name=ex15\\u003cbr\\u003e$\\\\Delta \\\\log(I^6 + rI^3 + r^2I^2)$=%{x}\\u003cbr\\u003ecount=%{y}\\u003cextra\\u003e\\u003c\\u002fextra\\u003e\",\"legendgroup\":\"ex15\",\"marker\":{\"color\":\"#19D3F3\",\"pattern\":{\"shape\":\"\"}},\"name\":\"ex15\",\"nbinsx\":100,\"offsetgroup\":\"ex15\",\"orientation\":\"v\",\"showlegend\":true,\"x\":[-0.6069234000345496,-0.7427525990375479,0.0,0.0,0.0,-0.41023467124277246,-0.1564355373936337,-0.7189419855549524,-0.025706388854956685,0.0,0.0,0.0,0.0,0.0,-0.02919404819732918,-0.04467763550126591,-0.05626595733041739,-0.016368544416650366,6.547592903061172e-05,-6.812402411071616e-06,-7.818898950517905e-08,-4.785782437011221e-09,0.0,-1.6763124222052284e-10,0.0,-0.5332762376197913,-0.00899103180211469,-0.0749127137467589,0.010493867314046668,-0.0072631075577760384,-0.0017834830872445195,-0.0007314747025013446,-0.00016905277191980872,0.0,0.0,0.0,0.0,0.0,0.0,0.0,0.0,0.0,-0.00276254536971976,-0.0002167790373448497,-4.1686466552448564e-05,0.0,0.0,0.0,0.0,-0.03528403339132069,-0.03937860805393001,3.068787303206477e-05,0.0,0.0,0.0,0.0,-0.35232821473168485,-0.0048049280603805755,-0.019792679500852728,0.005212708059467275,-0.0014788858069820776,-0.0005414664942193781,-0.0005670632082157567,0.0,0.0,0.0,0.0,0.0,0.0,0.0,0.0,-0.9831616985470681,-0.3719286739722705,-0.011657603688981055,-0.002307637372300775,5.459558585130253e-05,0.0,0.0,0.0,0.0,0.0,0.0,-0.025163183273846812,-0.00015948770388973799,-2.0513241373976143e-05,0.0,0.0,0.0,0.0,0.0,0.0],\"xaxis\":\"x\",\"yaxis\":\"y\",\"type\":\"histogram\"},{\"alignmentgroup\":\"True\",\"bingroup\":\"x\",\"hovertemplate\":\"Matrix name=Pres_Poisson\\u003cbr\\u003e$\\\\Delta \\\\log(I^6 + rI^3 + r^2I^2)$=%{x}\\u003cbr\\u003ecount=%{y}\\u003cextra\\u003e\\u003c\\u002fextra\\u003e\",\"legendgroup\":\"Pres_Poisson\",\"marker\":{\"color\":\"#FF6692\",\"pattern\":{\"shape\":\"\"}},\"name\":\"Pres_Poisson\",\"nbinsx\":100,\"offsetgroup\":\"Pres_Poisson\",\"orientation\":\"v\",\"showlegend\":true,\"x\":[-0.4431741063539718,-0.289790881315497,-0.08172979387903467,-0.05503614295815851,-0.007613521708172755,-0.0008542916876166373,-0.00013717872415242027,-1.1802242717351419e-05,-3.083579684926008e-07,-5.1221270780388295e-08,-1.5096759398147697e-09,-8.095213388514821e-10,-1.6619594589428743e-11,0.0,0.0,-1.5154787199378461e-05,-1.6612489162071142e-11,0.0,0.0,-0.005330571699531106,-0.00046470381754915024,-5.3545573038604743e-05,-1.0393492289040296e-08,-3.879065957335115e-10,0.0,0.0,-0.601313939095391,-0.7996602184531483,-0.6455645874572937,-0.1607126316532259,-0.01791712121333333,-0.01377304575315108,-0.007980016706579107,-0.002293595678175109,-0.0001537561149760336,-3.4716044297056214e-06,-1.031229004411216e-07,-2.923748354533018e-09,-7.909761734481435e-11,0.0,0.0,0.0,-8.949388586643181e-06,0.0,0.0,-0.46389415170934,-0.2556929192270019,-0.018864824078576703,-0.002009907461200555,-0.000209330034962818,-1.3625912025361231e-05,-3.9855252964571264e-07,-1.4869165454456379e-08,-1.1861089888043352e-10,0.0,0.0,-0.5314883038240907,-0.2799346145632384,-0.4924894385363885,-0.29713625070236915,-0.2076227180530381,-0.06528270496541211,-0.09810532780321424,-0.008015771306475017,-0.03560112197590115,-0.02699526587163703,-0.005188439070742845,-0.011387723332848765,-0.020836453991272208,-0.010324526609490903,-0.001471530293397194,-0.00020405349480867585,-2.4571128435013634e-05,-5.367686569002217e-06,-6.278637769696616e-07,-1.655153880619764e-07,-9.076082108094852e-08,-2.3034850471503887e-08,-6.076895431306184e-09,-3.5750744586948713e-09,-8.085336844487756e-10,-1.185185283247847e-10,-1.660538373471354e-11,0.0,0.0,-0.28131831205309155,-0.07188970047843313,-0.035616582059930124,-0.12035151567013358,-0.04064721725759668,-0.00038243734489640246,-9.182842337907005e-05,-1.197785181261679e-06,-6.088136217385909e-09,-1.6633805444143945e-11,0.0,-0.00784091693542166,8.524780051999414e-05,-8.335953509686078e-07,-3.8829739423817955e-10,0.0],\"xaxis\":\"x\",\"yaxis\":\"y\",\"type\":\"histogram\"}],                        {\"template\":{\"data\":{\"histogram2dcontour\":[{\"type\":\"histogram2dcontour\",\"colorbar\":{\"outlinewidth\":0,\"ticks\":\"\"},\"colorscale\":[[0.0,\"#0d0887\"],[0.1111111111111111,\"#46039f\"],[0.2222222222222222,\"#7201a8\"],[0.3333333333333333,\"#9c179e\"],[0.4444444444444444,\"#bd3786\"],[0.5555555555555556,\"#d8576b\"],[0.6666666666666666,\"#ed7953\"],[0.7777777777777778,\"#fb9f3a\"],[0.8888888888888888,\"#fdca26\"],[1.0,\"#f0f921\"]]}],\"choropleth\":[{\"type\":\"choropleth\",\"colorbar\":{\"outlinewidth\":0,\"ticks\":\"\"}}],\"histogram2d\":[{\"type\":\"histogram2d\",\"colorbar\":{\"outlinewidth\":0,\"ticks\":\"\"},\"colorscale\":[[0.0,\"#0d0887\"],[0.1111111111111111,\"#46039f\"],[0.2222222222222222,\"#7201a8\"],[0.3333333333333333,\"#9c179e\"],[0.4444444444444444,\"#bd3786\"],[0.5555555555555556,\"#d8576b\"],[0.6666666666666666,\"#ed7953\"],[0.7777777777777778,\"#fb9f3a\"],[0.8888888888888888,\"#fdca26\"],[1.0,\"#f0f921\"]]}],\"heatmap\":[{\"type\":\"heatmap\",\"colorbar\":{\"outlinewidth\":0,\"ticks\":\"\"},\"colorscale\":[[0.0,\"#0d0887\"],[0.1111111111111111,\"#46039f\"],[0.2222222222222222,\"#7201a8\"],[0.3333333333333333,\"#9c179e\"],[0.4444444444444444,\"#bd3786\"],[0.5555555555555556,\"#d8576b\"],[0.6666666666666666,\"#ed7953\"],[0.7777777777777778,\"#fb9f3a\"],[0.8888888888888888,\"#fdca26\"],[1.0,\"#f0f921\"]]}],\"heatmapgl\":[{\"type\":\"heatmapgl\",\"colorbar\":{\"outlinewidth\":0,\"ticks\":\"\"},\"colorscale\":[[0.0,\"#0d0887\"],[0.1111111111111111,\"#46039f\"],[0.2222222222222222,\"#7201a8\"],[0.3333333333333333,\"#9c179e\"],[0.4444444444444444,\"#bd3786\"],[0.5555555555555556,\"#d8576b\"],[0.6666666666666666,\"#ed7953\"],[0.7777777777777778,\"#fb9f3a\"],[0.8888888888888888,\"#fdca26\"],[1.0,\"#f0f921\"]]}],\"contourcarpet\":[{\"type\":\"contourcarpet\",\"colorbar\":{\"outlinewidth\":0,\"ticks\":\"\"}}],\"contour\":[{\"type\":\"contour\",\"colorbar\":{\"outlinewidth\":0,\"ticks\":\"\"},\"colorscale\":[[0.0,\"#0d0887\"],[0.1111111111111111,\"#46039f\"],[0.2222222222222222,\"#7201a8\"],[0.3333333333333333,\"#9c179e\"],[0.4444444444444444,\"#bd3786\"],[0.5555555555555556,\"#d8576b\"],[0.6666666666666666,\"#ed7953\"],[0.7777777777777778,\"#fb9f3a\"],[0.8888888888888888,\"#fdca26\"],[1.0,\"#f0f921\"]]}],\"surface\":[{\"type\":\"surface\",\"colorbar\":{\"outlinewidth\":0,\"ticks\":\"\"},\"colorscale\":[[0.0,\"#0d0887\"],[0.1111111111111111,\"#46039f\"],[0.2222222222222222,\"#7201a8\"],[0.3333333333333333,\"#9c179e\"],[0.4444444444444444,\"#bd3786\"],[0.5555555555555556,\"#d8576b\"],[0.6666666666666666,\"#ed7953\"],[0.7777777777777778,\"#fb9f3a\"],[0.8888888888888888,\"#fdca26\"],[1.0,\"#f0f921\"]]}],\"mesh3d\":[{\"type\":\"mesh3d\",\"colorbar\":{\"outlinewidth\":0,\"ticks\":\"\"}}],\"scatter\":[{\"marker\":{\"line\":{\"color\":\"#283442\"}},\"type\":\"scatter\"}],\"parcoords\":[{\"type\":\"parcoords\",\"line\":{\"colorbar\":{\"outlinewidth\":0,\"ticks\":\"\"}}}],\"scatterpolargl\":[{\"type\":\"scatterpolargl\",\"marker\":{\"colorbar\":{\"outlinewidth\":0,\"ticks\":\"\"}}}],\"bar\":[{\"error_x\":{\"color\":\"#f2f5fa\"},\"error_y\":{\"color\":\"#f2f5fa\"},\"marker\":{\"line\":{\"color\":\"rgb(17,17,17)\",\"width\":0.5},\"pattern\":{\"fillmode\":\"overlay\",\"size\":10,\"solidity\":0.2}},\"type\":\"bar\"}],\"scattergeo\":[{\"type\":\"scattergeo\",\"marker\":{\"colorbar\":{\"outlinewidth\":0,\"ticks\":\"\"}}}],\"scatterpolar\":[{\"type\":\"scatterpolar\",\"marker\":{\"colorbar\":{\"outlinewidth\":0,\"ticks\":\"\"}}}],\"histogram\":[{\"marker\":{\"pattern\":{\"fillmode\":\"overlay\",\"size\":10,\"solidity\":0.2}},\"type\":\"histogram\"}],\"scattergl\":[{\"marker\":{\"line\":{\"color\":\"#283442\"}},\"type\":\"scattergl\"}],\"scatter3d\":[{\"type\":\"scatter3d\",\"line\":{\"colorbar\":{\"outlinewidth\":0,\"ticks\":\"\"}},\"marker\":{\"colorbar\":{\"outlinewidth\":0,\"ticks\":\"\"}}}],\"scattermapbox\":[{\"type\":\"scattermapbox\",\"marker\":{\"colorbar\":{\"outlinewidth\":0,\"ticks\":\"\"}}}],\"scatterternary\":[{\"type\":\"scatterternary\",\"marker\":{\"colorbar\":{\"outlinewidth\":0,\"ticks\":\"\"}}}],\"scattercarpet\":[{\"type\":\"scattercarpet\",\"marker\":{\"colorbar\":{\"outlinewidth\":0,\"ticks\":\"\"}}}],\"carpet\":[{\"aaxis\":{\"endlinecolor\":\"#A2B1C6\",\"gridcolor\":\"#506784\",\"linecolor\":\"#506784\",\"minorgridcolor\":\"#506784\",\"startlinecolor\":\"#A2B1C6\"},\"baxis\":{\"endlinecolor\":\"#A2B1C6\",\"gridcolor\":\"#506784\",\"linecolor\":\"#506784\",\"minorgridcolor\":\"#506784\",\"startlinecolor\":\"#A2B1C6\"},\"type\":\"carpet\"}],\"table\":[{\"cells\":{\"fill\":{\"color\":\"#506784\"},\"line\":{\"color\":\"rgb(17,17,17)\"}},\"header\":{\"fill\":{\"color\":\"#2a3f5f\"},\"line\":{\"color\":\"rgb(17,17,17)\"}},\"type\":\"table\"}],\"barpolar\":[{\"marker\":{\"line\":{\"color\":\"rgb(17,17,17)\",\"width\":0.5},\"pattern\":{\"fillmode\":\"overlay\",\"size\":10,\"solidity\":0.2}},\"type\":\"barpolar\"}],\"pie\":[{\"automargin\":true,\"type\":\"pie\"}]},\"layout\":{\"autotypenumbers\":\"strict\",\"colorway\":[\"#636efa\",\"#EF553B\",\"#00cc96\",\"#ab63fa\",\"#FFA15A\",\"#19d3f3\",\"#FF6692\",\"#B6E880\",\"#FF97FF\",\"#FECB52\"],\"font\":{\"color\":\"#f2f5fa\"},\"hovermode\":\"closest\",\"hoverlabel\":{\"align\":\"left\"},\"paper_bgcolor\":\"rgb(17,17,17)\",\"plot_bgcolor\":\"rgb(17,17,17)\",\"polar\":{\"bgcolor\":\"rgb(17,17,17)\",\"angularaxis\":{\"gridcolor\":\"#506784\",\"linecolor\":\"#506784\",\"ticks\":\"\"},\"radialaxis\":{\"gridcolor\":\"#506784\",\"linecolor\":\"#506784\",\"ticks\":\"\"}},\"ternary\":{\"bgcolor\":\"rgb(17,17,17)\",\"aaxis\":{\"gridcolor\":\"#506784\",\"linecolor\":\"#506784\",\"ticks\":\"\"},\"baxis\":{\"gridcolor\":\"#506784\",\"linecolor\":\"#506784\",\"ticks\":\"\"},\"caxis\":{\"gridcolor\":\"#506784\",\"linecolor\":\"#506784\",\"ticks\":\"\"}},\"coloraxis\":{\"colorbar\":{\"outlinewidth\":0,\"ticks\":\"\"}},\"colorscale\":{\"sequential\":[[0.0,\"#0d0887\"],[0.1111111111111111,\"#46039f\"],[0.2222222222222222,\"#7201a8\"],[0.3333333333333333,\"#9c179e\"],[0.4444444444444444,\"#bd3786\"],[0.5555555555555556,\"#d8576b\"],[0.6666666666666666,\"#ed7953\"],[0.7777777777777778,\"#fb9f3a\"],[0.8888888888888888,\"#fdca26\"],[1.0,\"#f0f921\"]],\"sequentialminus\":[[0.0,\"#0d0887\"],[0.1111111111111111,\"#46039f\"],[0.2222222222222222,\"#7201a8\"],[0.3333333333333333,\"#9c179e\"],[0.4444444444444444,\"#bd3786\"],[0.5555555555555556,\"#d8576b\"],[0.6666666666666666,\"#ed7953\"],[0.7777777777777778,\"#fb9f3a\"],[0.8888888888888888,\"#fdca26\"],[1.0,\"#f0f921\"]],\"diverging\":[[0,\"#8e0152\"],[0.1,\"#c51b7d\"],[0.2,\"#de77ae\"],[0.3,\"#f1b6da\"],[0.4,\"#fde0ef\"],[0.5,\"#f7f7f7\"],[0.6,\"#e6f5d0\"],[0.7,\"#b8e186\"],[0.8,\"#7fbc41\"],[0.9,\"#4d9221\"],[1,\"#276419\"]]},\"xaxis\":{\"gridcolor\":\"#283442\",\"linecolor\":\"#506784\",\"ticks\":\"\",\"title\":{\"standoff\":15},\"zerolinecolor\":\"#283442\",\"automargin\":true,\"zerolinewidth\":2},\"yaxis\":{\"gridcolor\":\"#283442\",\"linecolor\":\"#506784\",\"ticks\":\"\",\"title\":{\"standoff\":15},\"zerolinecolor\":\"#283442\",\"automargin\":true,\"zerolinewidth\":2},\"scene\":{\"xaxis\":{\"backgroundcolor\":\"rgb(17,17,17)\",\"gridcolor\":\"#506784\",\"linecolor\":\"#506784\",\"showbackground\":true,\"ticks\":\"\",\"zerolinecolor\":\"#C8D4E3\",\"gridwidth\":2},\"yaxis\":{\"backgroundcolor\":\"rgb(17,17,17)\",\"gridcolor\":\"#506784\",\"linecolor\":\"#506784\",\"showbackground\":true,\"ticks\":\"\",\"zerolinecolor\":\"#C8D4E3\",\"gridwidth\":2},\"zaxis\":{\"backgroundcolor\":\"rgb(17,17,17)\",\"gridcolor\":\"#506784\",\"linecolor\":\"#506784\",\"showbackground\":true,\"ticks\":\"\",\"zerolinecolor\":\"#C8D4E3\",\"gridwidth\":2}},\"shapedefaults\":{\"line\":{\"color\":\"#f2f5fa\"}},\"annotationdefaults\":{\"arrowcolor\":\"#f2f5fa\",\"arrowhead\":0,\"arrowwidth\":1},\"geo\":{\"bgcolor\":\"rgb(17,17,17)\",\"landcolor\":\"rgb(17,17,17)\",\"subunitcolor\":\"#506784\",\"showland\":true,\"showlakes\":true,\"lakecolor\":\"rgb(17,17,17)\"},\"title\":{\"x\":0.05},\"updatemenudefaults\":{\"bgcolor\":\"#506784\",\"borderwidth\":0},\"sliderdefaults\":{\"bgcolor\":\"#C8D4E3\",\"borderwidth\":1,\"bordercolor\":\"rgb(17,17,17)\",\"tickwidth\":0},\"mapbox\":{\"style\":\"dark\"}}},\"xaxis\":{\"anchor\":\"y\",\"domain\":[0.0,1.0],\"title\":{\"text\":\"$\\\\Delta \\\\log(I^6 + rI^3 + r^2I^2)$\"}},\"yaxis\":{\"anchor\":\"x\",\"domain\":[0.0,1.0],\"title\":{\"text\":\"count\"},\"type\":\"log\"},\"legend\":{\"title\":{\"text\":\"Matrix name\"},\"tracegroupgap\":0},\"margin\":{\"t\":60},\"barmode\":\"relative\",\"title\":{\"text\":\"Change in runtime estimates after adding RCM to Padding\",\"x\":0.5,\"xanchor\":\"center\",\"yanchor\":\"top\"},\"font\":{\"color\":\"black\"},\"plot_bgcolor\":\"white\",\"paper_bgcolor\":\"white\"},                        {\"responsive\": true}                    ).then(function(){\n",
       "                            \n",
       "var gd = document.getElementById('b20b581d-fc19-49ef-871d-12c130b78c77');\n",
       "var x = new MutationObserver(function (mutations, observer) {{\n",
       "        var display = window.getComputedStyle(gd).display;\n",
       "        if (!display || display === 'none') {{\n",
       "            console.log([gd, 'removed!']);\n",
       "            Plotly.purge(gd);\n",
       "            observer.disconnect();\n",
       "        }}\n",
       "}});\n",
       "\n",
       "// Listen for the removal of the full notebook cells\n",
       "var notebookContainer = gd.closest('#notebook-container');\n",
       "if (notebookContainer) {{\n",
       "    x.observe(notebookContainer, {childList: true});\n",
       "}}\n",
       "\n",
       "// Listen for the clearing of the current output cell\n",
       "var outputEl = gd.closest('.output');\n",
       "if (outputEl) {{\n",
       "    x.observe(outputEl, {childList: true});\n",
       "}}\n",
       "\n",
       "                        })                };                });            </script>        </div>"
      ]
     },
     "metadata": {},
     "output_type": "display_data"
    }
   ],
   "execution_count": 63
  },
  {
   "metadata": {},
   "cell_type": "code",
   "outputs": [],
   "execution_count": null,
   "source": [
    "# this initial analysis indicates that RCM on top of padding generally helps a bit, sometimes it makes things worse. Most often, it does not lead to significant changes. For more understanding, would need to look at separate cases in more detail, skip for now.\n",
    "# Now I just have to make this visually nice and write it down in the report."
   ],
   "id": "d2d5d6d12d41ee95"
  },
  {
   "metadata": {},
   "cell_type": "code",
   "outputs": [],
   "execution_count": null,
   "source": [
    "# todo: perhaps I can do the above difference plot as follows:\n",
    "# - consider one improvement (e.g. rcm)\n",
    "# - against a set of different baselines - use color for these, see which of the baselines improve the most with added stuff\n",
    "# - this also allows us to evaluate combined baselines easier"
   ],
   "id": "9b285c614204d59b"
  }
 ],
 "metadata": {
  "kernelspec": {
   "display_name": "Python 3",
   "language": "python",
   "name": "python3"
  },
  "language_info": {
   "codemirror_mode": {
    "name": "ipython",
    "version": 2
   },
   "file_extension": ".py",
   "mimetype": "text/x-python",
   "name": "python",
   "nbconvert_exporter": "python",
   "pygments_lexer": "ipython2",
   "version": "2.7.6"
  }
 },
 "nbformat": 4,
 "nbformat_minor": 5
}
