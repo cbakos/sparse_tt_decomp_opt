{
 "cells": [
  {
   "cell_type": "code",
   "id": "initial_id",
   "metadata": {
    "collapsed": true,
    "ExecuteTime": {
     "end_time": "2024-07-14T09:21:00.515654Z",
     "start_time": "2024-07-14T09:21:00.503696Z"
    }
   },
   "source": [
    "import pandas as pd\n",
    "import numpy as np\n",
    "import matplotlib.pyplot as plt\n",
    "import plotly.express as px\n",
    "import plotly.graph_objects as go\n",
    "import statsmodels.api as sm\n",
    "from statsmodels.formula.api import ols\n",
    "from scipy.stats import ttest_ind, ttest_rel, mannwhitneyu, norm, normaltest\n",
    "\n",
    "from analysis.analysis_utils import add_tt_mals_runtime_cols, line_plot_padding_tile_size_tt_mals_runtime_per_matrix, get_percentage_change_per_category, get_percentage_change_per_double_category, line_plot_tile_size_rank_percentage_per_matrix, normality_check_histogram\n"
   ],
   "outputs": [],
   "execution_count": 24
  },
  {
   "metadata": {
    "ExecuteTime": {
     "end_time": "2024-07-14T09:21:11.494659Z",
     "start_time": "2024-07-14T09:21:05.462550Z"
    }
   },
   "cell_type": "code",
   "source": [
    "# df1 = pd.read_csv('../../data/sweep_0_10_data1.csv')  # 0-10, small matrices\n",
    "df2 = pd.read_csv('../../data/sweep_0_10_data2.csv')  # 0-10, big matrices\n",
    "# df3 = pd.read_csv('../../data/sweep_0_10_data3.csv')  # powers of 2, all matrices\n",
    "# df4 = pd.read_csv('../../data/sweep_0_10_data4.csv')  # around powers of 2, small matrices\n",
    "# df5 = pd.read_csv('../../data/sweep_0_10_data5.csv')  # 10 fractional matrix sizes, small matrices\n",
    "# df5 = df5[df5['partial_gauss']<1.0]  # don't consider full row reductions\n",
    "# df5 has fractional partial_gauss params - convert it to absolute terms\n",
    "# df5[\"partial_gauss\"] = (df5[\"partial_gauss\"]* (df5[\"n\"] / (1 - df5[\"partial_gauss\"]))).astype(\"int\")\n",
    "\n",
    "# df = pd.concat([df1, df2, df5], axis=0)  # df3, df4\n",
    "df = pd.read_csv('../../data/sweep_inc_data1.csv')\n",
    "df = df[df['sparsity_ratio'] > 0.8]  # drop rows that are incomplete due to too low sparsity\n",
    "df.drop(columns=[\"run_id\", \"run_name\", \"_runtime\", \"_step\", \"_timestamp\", \"gauss_threshold\", \"min_sparsity\", \"partial_gauss_increments\", \"partial_gauss\"], inplace=True)\n",
    "df.rename(columns={\"num_reduced_variables\": \"partial_gauss\"}, inplace=True)\n",
    "# concat 0-10 sweeps for larger matrices\n",
    "df = pd.concat([df, df2], axis=0)  # df3, df4\n",
    "df.shape"
   ],
   "id": "8fcd8d00c0a4eff6",
   "outputs": [
    {
     "data": {
      "text/plain": [
       "(2331080, 18)"
      ]
     },
     "execution_count": 25,
     "metadata": {},
     "output_type": "execute_result"
    }
   ],
   "execution_count": 25
  },
  {
   "metadata": {
    "ExecuteTime": {
     "end_time": "2024-07-14T09:21:13.659013Z",
     "start_time": "2024-07-14T09:21:13.643564Z"
    }
   },
   "cell_type": "code",
   "source": [
    "# df1 = pd.read_csv('../../data/sweep_0_10_data1.csv')\n",
    "# df2 = pd.read_csv('../../data/sweep_0_10_data2.csv')\n",
    "# df = pd.concat([df1, df2], axis=0)\n",
    "# df.drop(columns=[\"run_id\", \"run_name\", \"_runtime\", \"_step\", \"_timestamp\", \"gauss_threshold\"], inplace=True)\n",
    "# df.shape"
   ],
   "id": "c29cb153a3df9b77",
   "outputs": [],
   "execution_count": 26
  },
  {
   "metadata": {
    "ExecuteTime": {
     "end_time": "2024-07-14T09:21:14.357781Z",
     "start_time": "2024-07-14T09:21:14.328817Z"
    }
   },
   "cell_type": "code",
   "source": "df.tail()",
   "id": "34fa1169bea37ac5",
   "outputs": [
    {
     "data": {
      "text/plain": [
       "       amd   rcm  padding   matrix_name    z_full  partial_gauss    rank  \\\n",
       "9403  True  True        2  Pres_Poisson  623417.0            5.0  1625.0   \n",
       "9404  True  True        2  Pres_Poisson  623417.0            5.0   325.0   \n",
       "9405  True  True        2  Pres_Poisson  623417.0            5.0    85.0   \n",
       "9406  True  True        2  Pres_Poisson  623417.0            5.0    19.0   \n",
       "9407  True  True        2  Pres_Poisson  623417.0            5.0     1.0   \n",
       "\n",
       "      tile_size  z_reduced  max_mode_size  sparsity_ratio        n  \\\n",
       "9403       73.0   718845.0           73.0             NaN  14819.0   \n",
       "9404      203.0   718845.0          203.0             NaN  14819.0   \n",
       "9405      511.0   718845.0          511.0             NaN  14819.0   \n",
       "9406     2117.0   718845.0         2117.0             NaN  14819.0   \n",
       "9407    14819.0   718845.0        14819.0             NaN  14819.0   \n",
       "\n",
       "      gauss_threshold  _step   _runtime    _timestamp    run_id  \\\n",
       "9403            0.001    2.0  33.099681  1.719228e+09  7xlca2s6   \n",
       "9404            0.001    3.0  34.352489  1.719228e+09  7xlca2s6   \n",
       "9405            0.001    4.0  35.618384  1.719228e+09  7xlca2s6   \n",
       "9406            0.001    5.0  37.985502  1.719228e+09  7xlca2s6   \n",
       "9407            0.001    6.0  39.952775  1.719228e+09  7xlca2s6   \n",
       "\n",
       "            run_name  \n",
       "9403  sunny-sweep-55  \n",
       "9404  sunny-sweep-55  \n",
       "9405  sunny-sweep-55  \n",
       "9406  sunny-sweep-55  \n",
       "9407  sunny-sweep-55  "
      ],
      "text/html": [
       "<div>\n",
       "<style scoped>\n",
       "    .dataframe tbody tr th:only-of-type {\n",
       "        vertical-align: middle;\n",
       "    }\n",
       "\n",
       "    .dataframe tbody tr th {\n",
       "        vertical-align: top;\n",
       "    }\n",
       "\n",
       "    .dataframe thead th {\n",
       "        text-align: right;\n",
       "    }\n",
       "</style>\n",
       "<table border=\"1\" class=\"dataframe\">\n",
       "  <thead>\n",
       "    <tr style=\"text-align: right;\">\n",
       "      <th></th>\n",
       "      <th>amd</th>\n",
       "      <th>rcm</th>\n",
       "      <th>padding</th>\n",
       "      <th>matrix_name</th>\n",
       "      <th>z_full</th>\n",
       "      <th>partial_gauss</th>\n",
       "      <th>rank</th>\n",
       "      <th>tile_size</th>\n",
       "      <th>z_reduced</th>\n",
       "      <th>max_mode_size</th>\n",
       "      <th>sparsity_ratio</th>\n",
       "      <th>n</th>\n",
       "      <th>gauss_threshold</th>\n",
       "      <th>_step</th>\n",
       "      <th>_runtime</th>\n",
       "      <th>_timestamp</th>\n",
       "      <th>run_id</th>\n",
       "      <th>run_name</th>\n",
       "    </tr>\n",
       "  </thead>\n",
       "  <tbody>\n",
       "    <tr>\n",
       "      <th>9403</th>\n",
       "      <td>True</td>\n",
       "      <td>True</td>\n",
       "      <td>2</td>\n",
       "      <td>Pres_Poisson</td>\n",
       "      <td>623417.0</td>\n",
       "      <td>5.0</td>\n",
       "      <td>1625.0</td>\n",
       "      <td>73.0</td>\n",
       "      <td>718845.0</td>\n",
       "      <td>73.0</td>\n",
       "      <td>NaN</td>\n",
       "      <td>14819.0</td>\n",
       "      <td>0.001</td>\n",
       "      <td>2.0</td>\n",
       "      <td>33.099681</td>\n",
       "      <td>1.719228e+09</td>\n",
       "      <td>7xlca2s6</td>\n",
       "      <td>sunny-sweep-55</td>\n",
       "    </tr>\n",
       "    <tr>\n",
       "      <th>9404</th>\n",
       "      <td>True</td>\n",
       "      <td>True</td>\n",
       "      <td>2</td>\n",
       "      <td>Pres_Poisson</td>\n",
       "      <td>623417.0</td>\n",
       "      <td>5.0</td>\n",
       "      <td>325.0</td>\n",
       "      <td>203.0</td>\n",
       "      <td>718845.0</td>\n",
       "      <td>203.0</td>\n",
       "      <td>NaN</td>\n",
       "      <td>14819.0</td>\n",
       "      <td>0.001</td>\n",
       "      <td>3.0</td>\n",
       "      <td>34.352489</td>\n",
       "      <td>1.719228e+09</td>\n",
       "      <td>7xlca2s6</td>\n",
       "      <td>sunny-sweep-55</td>\n",
       "    </tr>\n",
       "    <tr>\n",
       "      <th>9405</th>\n",
       "      <td>True</td>\n",
       "      <td>True</td>\n",
       "      <td>2</td>\n",
       "      <td>Pres_Poisson</td>\n",
       "      <td>623417.0</td>\n",
       "      <td>5.0</td>\n",
       "      <td>85.0</td>\n",
       "      <td>511.0</td>\n",
       "      <td>718845.0</td>\n",
       "      <td>511.0</td>\n",
       "      <td>NaN</td>\n",
       "      <td>14819.0</td>\n",
       "      <td>0.001</td>\n",
       "      <td>4.0</td>\n",
       "      <td>35.618384</td>\n",
       "      <td>1.719228e+09</td>\n",
       "      <td>7xlca2s6</td>\n",
       "      <td>sunny-sweep-55</td>\n",
       "    </tr>\n",
       "    <tr>\n",
       "      <th>9406</th>\n",
       "      <td>True</td>\n",
       "      <td>True</td>\n",
       "      <td>2</td>\n",
       "      <td>Pres_Poisson</td>\n",
       "      <td>623417.0</td>\n",
       "      <td>5.0</td>\n",
       "      <td>19.0</td>\n",
       "      <td>2117.0</td>\n",
       "      <td>718845.0</td>\n",
       "      <td>2117.0</td>\n",
       "      <td>NaN</td>\n",
       "      <td>14819.0</td>\n",
       "      <td>0.001</td>\n",
       "      <td>5.0</td>\n",
       "      <td>37.985502</td>\n",
       "      <td>1.719228e+09</td>\n",
       "      <td>7xlca2s6</td>\n",
       "      <td>sunny-sweep-55</td>\n",
       "    </tr>\n",
       "    <tr>\n",
       "      <th>9407</th>\n",
       "      <td>True</td>\n",
       "      <td>True</td>\n",
       "      <td>2</td>\n",
       "      <td>Pres_Poisson</td>\n",
       "      <td>623417.0</td>\n",
       "      <td>5.0</td>\n",
       "      <td>1.0</td>\n",
       "      <td>14819.0</td>\n",
       "      <td>718845.0</td>\n",
       "      <td>14819.0</td>\n",
       "      <td>NaN</td>\n",
       "      <td>14819.0</td>\n",
       "      <td>0.001</td>\n",
       "      <td>6.0</td>\n",
       "      <td>39.952775</td>\n",
       "      <td>1.719228e+09</td>\n",
       "      <td>7xlca2s6</td>\n",
       "      <td>sunny-sweep-55</td>\n",
       "    </tr>\n",
       "  </tbody>\n",
       "</table>\n",
       "</div>"
      ]
     },
     "execution_count": 27,
     "metadata": {},
     "output_type": "execute_result"
    }
   ],
   "execution_count": 27
  },
  {
   "metadata": {
    "ExecuteTime": {
     "end_time": "2024-07-14T11:25:06.238918Z",
     "start_time": "2024-07-14T11:25:05.799751Z"
    }
   },
   "cell_type": "code",
   "source": [
    "df = add_tt_mals_runtime_cols(df)\n",
    "\n",
    "df[\"reduced_variable_percentage\"] = df[\"partial_gauss\"] / (df[\"n\"]+ df[\"partial_gauss\"])"
   ],
   "id": "7024644443a70788",
   "outputs": [],
   "execution_count": 67
  },
  {
   "metadata": {
    "ExecuteTime": {
     "end_time": "2024-07-14T11:25:08.278355Z",
     "start_time": "2024-07-14T11:25:08.262707Z"
    }
   },
   "cell_type": "code",
   "source": [
    "# important: we only care about best tile size choice rows that get enabled by these approaches (unless we want to plot the complete picture)\n",
    "# so drop the rest of the rows for this analysis\n",
    "# idx = df.groupby(by=['amd', 'rcm', \"padding\", \"matrix_name\", \"partial_gauss\"])['log_obj_func'].idxmin()\n",
    "# df = df.loc[idx].reset_index(drop=True)"
   ],
   "id": "dc88335b1017680",
   "outputs": [],
   "execution_count": 68
  },
  {
   "metadata": {
    "ExecuteTime": {
     "end_time": "2024-07-14T11:25:09.527445Z",
     "start_time": "2024-07-14T11:25:08.279826Z"
    }
   },
   "cell_type": "code",
   "source": "df",
   "id": "2c3658327581e697",
   "outputs": [
    {
     "data": {
      "text/plain": [
       "        amd    rcm  padding   matrix_name    z_full  partial_gauss     rank  \\\n",
       "0     False  False       10      bcsstk13   70264.0            0.0  18672.0   \n",
       "1     False  False       10      bcsstk13   70264.0            0.0   3355.0   \n",
       "2     False  False       10      bcsstk13   70264.0            0.0    755.0   \n",
       "3     False  False       10      bcsstk13   70264.0            0.0    339.0   \n",
       "4     False  False       10      bcsstk13   70264.0            0.0     75.0   \n",
       "...     ...    ...      ...           ...       ...            ...      ...   \n",
       "9403   True   True        2  Pres_Poisson  623417.0            5.0   1625.0   \n",
       "9404   True   True        2  Pres_Poisson  623417.0            5.0    325.0   \n",
       "9405   True   True        2  Pres_Poisson  623417.0            5.0     85.0   \n",
       "9406   True   True        2  Pres_Poisson  623417.0            5.0     19.0   \n",
       "9407   True   True        2  Pres_Poisson  623417.0            5.0      1.0   \n",
       "\n",
       "      tile_size  z_reduced  max_mode_size  ...        n  gauss_threshold  \\\n",
       "0           3.0    70264.0           61.0  ...   2013.0              NaN   \n",
       "1          11.0    70264.0           61.0  ...   2013.0              NaN   \n",
       "2          33.0    70264.0           61.0  ...   2013.0              NaN   \n",
       "3          61.0    70264.0           61.0  ...   2013.0              NaN   \n",
       "4         183.0    70264.0          183.0  ...   2013.0              NaN   \n",
       "...         ...        ...            ...  ...      ...              ...   \n",
       "9403       73.0   718845.0           73.0  ...  14819.0            0.001   \n",
       "9404      203.0   718845.0          203.0  ...  14819.0            0.001   \n",
       "9405      511.0   718845.0          511.0  ...  14819.0            0.001   \n",
       "9406     2117.0   718845.0         2117.0  ...  14819.0            0.001   \n",
       "9407    14819.0   718845.0        14819.0  ...  14819.0            0.001   \n",
       "\n",
       "      _step   _runtime    _timestamp    run_id        run_name log_obj_func  \\\n",
       "0       NaN        NaN           NaN       NaN             NaN    27.933391   \n",
       "1       NaN        NaN           NaN       NaN             NaN    25.268320   \n",
       "2       NaN        NaN           NaN       NaN             NaN    24.708777   \n",
       "3       NaN        NaN           NaN       NaN             NaN    24.674989   \n",
       "4       NaN        NaN           NaN       NaN             NaN    31.256934   \n",
       "...     ...        ...           ...       ...             ...          ...   \n",
       "9403    2.0  33.099681  1.719228e+09  7xlca2s6  sunny-sweep-55    25.835484   \n",
       "9404    3.0  34.352489  1.719228e+09  7xlca2s6  sunny-sweep-55    31.879337   \n",
       "9405    4.0  35.618384  1.719228e+09  7xlca2s6  sunny-sweep-55    37.418218   \n",
       "9406    5.0  37.985502  1.719228e+09  7xlca2s6  sunny-sweep-55    45.946532   \n",
       "9407    6.0  39.952775  1.719228e+09  7xlca2s6  sunny-sweep-55    57.621993   \n",
       "\n",
       "          obj_func  reduced_variable_percentage  \n",
       "0     1.353061e+12                     0.000000  \n",
       "1     9.416556e+10                     0.000000  \n",
       "2     5.381281e+10                     0.000000  \n",
       "3     5.202494e+10                     0.000000  \n",
       "4     3.755900e+13                     0.000000  \n",
       "...            ...                          ...  \n",
       "9403  1.660383e+11                     0.000337  \n",
       "9404  6.998744e+13                     0.000337  \n",
       "9405  1.780433e+16                     0.000337  \n",
       "9406  9.001713e+19                     0.000337  \n",
       "9407  1.059042e+25                     0.000337  \n",
       "\n",
       "[2331080 rows x 21 columns]"
      ],
      "text/html": [
       "<div>\n",
       "<style scoped>\n",
       "    .dataframe tbody tr th:only-of-type {\n",
       "        vertical-align: middle;\n",
       "    }\n",
       "\n",
       "    .dataframe tbody tr th {\n",
       "        vertical-align: top;\n",
       "    }\n",
       "\n",
       "    .dataframe thead th {\n",
       "        text-align: right;\n",
       "    }\n",
       "</style>\n",
       "<table border=\"1\" class=\"dataframe\">\n",
       "  <thead>\n",
       "    <tr style=\"text-align: right;\">\n",
       "      <th></th>\n",
       "      <th>amd</th>\n",
       "      <th>rcm</th>\n",
       "      <th>padding</th>\n",
       "      <th>matrix_name</th>\n",
       "      <th>z_full</th>\n",
       "      <th>partial_gauss</th>\n",
       "      <th>rank</th>\n",
       "      <th>tile_size</th>\n",
       "      <th>z_reduced</th>\n",
       "      <th>max_mode_size</th>\n",
       "      <th>...</th>\n",
       "      <th>n</th>\n",
       "      <th>gauss_threshold</th>\n",
       "      <th>_step</th>\n",
       "      <th>_runtime</th>\n",
       "      <th>_timestamp</th>\n",
       "      <th>run_id</th>\n",
       "      <th>run_name</th>\n",
       "      <th>log_obj_func</th>\n",
       "      <th>obj_func</th>\n",
       "      <th>reduced_variable_percentage</th>\n",
       "    </tr>\n",
       "  </thead>\n",
       "  <tbody>\n",
       "    <tr>\n",
       "      <th>0</th>\n",
       "      <td>False</td>\n",
       "      <td>False</td>\n",
       "      <td>10</td>\n",
       "      <td>bcsstk13</td>\n",
       "      <td>70264.0</td>\n",
       "      <td>0.0</td>\n",
       "      <td>18672.0</td>\n",
       "      <td>3.0</td>\n",
       "      <td>70264.0</td>\n",
       "      <td>61.0</td>\n",
       "      <td>...</td>\n",
       "      <td>2013.0</td>\n",
       "      <td>NaN</td>\n",
       "      <td>NaN</td>\n",
       "      <td>NaN</td>\n",
       "      <td>NaN</td>\n",
       "      <td>NaN</td>\n",
       "      <td>NaN</td>\n",
       "      <td>27.933391</td>\n",
       "      <td>1.353061e+12</td>\n",
       "      <td>0.000000</td>\n",
       "    </tr>\n",
       "    <tr>\n",
       "      <th>1</th>\n",
       "      <td>False</td>\n",
       "      <td>False</td>\n",
       "      <td>10</td>\n",
       "      <td>bcsstk13</td>\n",
       "      <td>70264.0</td>\n",
       "      <td>0.0</td>\n",
       "      <td>3355.0</td>\n",
       "      <td>11.0</td>\n",
       "      <td>70264.0</td>\n",
       "      <td>61.0</td>\n",
       "      <td>...</td>\n",
       "      <td>2013.0</td>\n",
       "      <td>NaN</td>\n",
       "      <td>NaN</td>\n",
       "      <td>NaN</td>\n",
       "      <td>NaN</td>\n",
       "      <td>NaN</td>\n",
       "      <td>NaN</td>\n",
       "      <td>25.268320</td>\n",
       "      <td>9.416556e+10</td>\n",
       "      <td>0.000000</td>\n",
       "    </tr>\n",
       "    <tr>\n",
       "      <th>2</th>\n",
       "      <td>False</td>\n",
       "      <td>False</td>\n",
       "      <td>10</td>\n",
       "      <td>bcsstk13</td>\n",
       "      <td>70264.0</td>\n",
       "      <td>0.0</td>\n",
       "      <td>755.0</td>\n",
       "      <td>33.0</td>\n",
       "      <td>70264.0</td>\n",
       "      <td>61.0</td>\n",
       "      <td>...</td>\n",
       "      <td>2013.0</td>\n",
       "      <td>NaN</td>\n",
       "      <td>NaN</td>\n",
       "      <td>NaN</td>\n",
       "      <td>NaN</td>\n",
       "      <td>NaN</td>\n",
       "      <td>NaN</td>\n",
       "      <td>24.708777</td>\n",
       "      <td>5.381281e+10</td>\n",
       "      <td>0.000000</td>\n",
       "    </tr>\n",
       "    <tr>\n",
       "      <th>3</th>\n",
       "      <td>False</td>\n",
       "      <td>False</td>\n",
       "      <td>10</td>\n",
       "      <td>bcsstk13</td>\n",
       "      <td>70264.0</td>\n",
       "      <td>0.0</td>\n",
       "      <td>339.0</td>\n",
       "      <td>61.0</td>\n",
       "      <td>70264.0</td>\n",
       "      <td>61.0</td>\n",
       "      <td>...</td>\n",
       "      <td>2013.0</td>\n",
       "      <td>NaN</td>\n",
       "      <td>NaN</td>\n",
       "      <td>NaN</td>\n",
       "      <td>NaN</td>\n",
       "      <td>NaN</td>\n",
       "      <td>NaN</td>\n",
       "      <td>24.674989</td>\n",
       "      <td>5.202494e+10</td>\n",
       "      <td>0.000000</td>\n",
       "    </tr>\n",
       "    <tr>\n",
       "      <th>4</th>\n",
       "      <td>False</td>\n",
       "      <td>False</td>\n",
       "      <td>10</td>\n",
       "      <td>bcsstk13</td>\n",
       "      <td>70264.0</td>\n",
       "      <td>0.0</td>\n",
       "      <td>75.0</td>\n",
       "      <td>183.0</td>\n",
       "      <td>70264.0</td>\n",
       "      <td>183.0</td>\n",
       "      <td>...</td>\n",
       "      <td>2013.0</td>\n",
       "      <td>NaN</td>\n",
       "      <td>NaN</td>\n",
       "      <td>NaN</td>\n",
       "      <td>NaN</td>\n",
       "      <td>NaN</td>\n",
       "      <td>NaN</td>\n",
       "      <td>31.256934</td>\n",
       "      <td>3.755900e+13</td>\n",
       "      <td>0.000000</td>\n",
       "    </tr>\n",
       "    <tr>\n",
       "      <th>...</th>\n",
       "      <td>...</td>\n",
       "      <td>...</td>\n",
       "      <td>...</td>\n",
       "      <td>...</td>\n",
       "      <td>...</td>\n",
       "      <td>...</td>\n",
       "      <td>...</td>\n",
       "      <td>...</td>\n",
       "      <td>...</td>\n",
       "      <td>...</td>\n",
       "      <td>...</td>\n",
       "      <td>...</td>\n",
       "      <td>...</td>\n",
       "      <td>...</td>\n",
       "      <td>...</td>\n",
       "      <td>...</td>\n",
       "      <td>...</td>\n",
       "      <td>...</td>\n",
       "      <td>...</td>\n",
       "      <td>...</td>\n",
       "      <td>...</td>\n",
       "    </tr>\n",
       "    <tr>\n",
       "      <th>9403</th>\n",
       "      <td>True</td>\n",
       "      <td>True</td>\n",
       "      <td>2</td>\n",
       "      <td>Pres_Poisson</td>\n",
       "      <td>623417.0</td>\n",
       "      <td>5.0</td>\n",
       "      <td>1625.0</td>\n",
       "      <td>73.0</td>\n",
       "      <td>718845.0</td>\n",
       "      <td>73.0</td>\n",
       "      <td>...</td>\n",
       "      <td>14819.0</td>\n",
       "      <td>0.001</td>\n",
       "      <td>2.0</td>\n",
       "      <td>33.099681</td>\n",
       "      <td>1.719228e+09</td>\n",
       "      <td>7xlca2s6</td>\n",
       "      <td>sunny-sweep-55</td>\n",
       "      <td>25.835484</td>\n",
       "      <td>1.660383e+11</td>\n",
       "      <td>0.000337</td>\n",
       "    </tr>\n",
       "    <tr>\n",
       "      <th>9404</th>\n",
       "      <td>True</td>\n",
       "      <td>True</td>\n",
       "      <td>2</td>\n",
       "      <td>Pres_Poisson</td>\n",
       "      <td>623417.0</td>\n",
       "      <td>5.0</td>\n",
       "      <td>325.0</td>\n",
       "      <td>203.0</td>\n",
       "      <td>718845.0</td>\n",
       "      <td>203.0</td>\n",
       "      <td>...</td>\n",
       "      <td>14819.0</td>\n",
       "      <td>0.001</td>\n",
       "      <td>3.0</td>\n",
       "      <td>34.352489</td>\n",
       "      <td>1.719228e+09</td>\n",
       "      <td>7xlca2s6</td>\n",
       "      <td>sunny-sweep-55</td>\n",
       "      <td>31.879337</td>\n",
       "      <td>6.998744e+13</td>\n",
       "      <td>0.000337</td>\n",
       "    </tr>\n",
       "    <tr>\n",
       "      <th>9405</th>\n",
       "      <td>True</td>\n",
       "      <td>True</td>\n",
       "      <td>2</td>\n",
       "      <td>Pres_Poisson</td>\n",
       "      <td>623417.0</td>\n",
       "      <td>5.0</td>\n",
       "      <td>85.0</td>\n",
       "      <td>511.0</td>\n",
       "      <td>718845.0</td>\n",
       "      <td>511.0</td>\n",
       "      <td>...</td>\n",
       "      <td>14819.0</td>\n",
       "      <td>0.001</td>\n",
       "      <td>4.0</td>\n",
       "      <td>35.618384</td>\n",
       "      <td>1.719228e+09</td>\n",
       "      <td>7xlca2s6</td>\n",
       "      <td>sunny-sweep-55</td>\n",
       "      <td>37.418218</td>\n",
       "      <td>1.780433e+16</td>\n",
       "      <td>0.000337</td>\n",
       "    </tr>\n",
       "    <tr>\n",
       "      <th>9406</th>\n",
       "      <td>True</td>\n",
       "      <td>True</td>\n",
       "      <td>2</td>\n",
       "      <td>Pres_Poisson</td>\n",
       "      <td>623417.0</td>\n",
       "      <td>5.0</td>\n",
       "      <td>19.0</td>\n",
       "      <td>2117.0</td>\n",
       "      <td>718845.0</td>\n",
       "      <td>2117.0</td>\n",
       "      <td>...</td>\n",
       "      <td>14819.0</td>\n",
       "      <td>0.001</td>\n",
       "      <td>5.0</td>\n",
       "      <td>37.985502</td>\n",
       "      <td>1.719228e+09</td>\n",
       "      <td>7xlca2s6</td>\n",
       "      <td>sunny-sweep-55</td>\n",
       "      <td>45.946532</td>\n",
       "      <td>9.001713e+19</td>\n",
       "      <td>0.000337</td>\n",
       "    </tr>\n",
       "    <tr>\n",
       "      <th>9407</th>\n",
       "      <td>True</td>\n",
       "      <td>True</td>\n",
       "      <td>2</td>\n",
       "      <td>Pres_Poisson</td>\n",
       "      <td>623417.0</td>\n",
       "      <td>5.0</td>\n",
       "      <td>1.0</td>\n",
       "      <td>14819.0</td>\n",
       "      <td>718845.0</td>\n",
       "      <td>14819.0</td>\n",
       "      <td>...</td>\n",
       "      <td>14819.0</td>\n",
       "      <td>0.001</td>\n",
       "      <td>6.0</td>\n",
       "      <td>39.952775</td>\n",
       "      <td>1.719228e+09</td>\n",
       "      <td>7xlca2s6</td>\n",
       "      <td>sunny-sweep-55</td>\n",
       "      <td>57.621993</td>\n",
       "      <td>1.059042e+25</td>\n",
       "      <td>0.000337</td>\n",
       "    </tr>\n",
       "  </tbody>\n",
       "</table>\n",
       "<p>2331080 rows × 21 columns</p>\n",
       "</div>"
      ]
     },
     "execution_count": 69,
     "metadata": {},
     "output_type": "execute_result"
    }
   ],
   "execution_count": 69
  },
  {
   "metadata": {
    "ExecuteTime": {
     "end_time": "2024-07-14T11:25:13.560057Z",
     "start_time": "2024-07-14T11:25:13.052302Z"
    }
   },
   "cell_type": "code",
   "source": [
    "# no module is applied - baseline\n",
    "baseline_df = df[(df['amd'] == False) & (df['rcm'] == False) & (df['partial_gauss'] == 0) & (df['padding'] == 0)]\n",
    "\n",
    "# different levels of padding applied - padding_df\n",
    "padding_df = df[(df['amd'] == False) & (df['rcm'] == False) & (df['partial_gauss'] == 0)]\n",
    "\n",
    "# keep amd on and off - amd_df\n",
    "amd_df = df[(df['rcm'] == False) & (df['partial_gauss'] == 0) & (df['padding'] == 0)]\n",
    "\n",
    "# keep rcm on and off - rcm_df\n",
    "rcm_df = df[(df['amd'] == False) & (df['partial_gauss'] == 0) & (df['padding'] == 0)]\n",
    "\n",
    "# combined approaches\n",
    "pg_df = df[(df['amd'] == False) & (df['rcm'] == False) & (df['padding'] == 0)]\n",
    "\n",
    "rcm_padding_df = df[(df['amd'] == False) & (df['partial_gauss'] == 0)]\n",
    "\n",
    "pg_padding_df = df[(df['amd'] == False) & (df['rcm'] == False)]\n",
    "\n",
    "amd_pg_df = df[(df['rcm'] == False) & (df['padding'] == 0)]\n",
    "\n",
    "pg_rcm_df = df[(df['amd'] == False) & (df['padding'] == 0)]\n",
    "\n",
    "# three-way approaches\n",
    "amd_pg_padding_df = df[df['rcm'] == False]\n",
    "\n",
    "amd_pg_rcm_df = df[df['padding'] == 0]\n",
    "\n",
    "pg_padding_rcm_df = df[df['amd'] == False]\n",
    "\n",
    "# 4-way\n",
    "all_combined_df = df\n",
    "\n",
    "df_list = [baseline_df, padding_df, amd_df, rcm_df, pg_df, rcm_padding_df, pg_padding_df, amd_pg_df, pg_rcm_df, amd_pg_padding_df, amd_pg_rcm_df, pg_padding_rcm_df, all_combined_df]\n",
    "df_str_list = [\"baseline_df\", \"padding_df\", \"amd_df\", \"rcm_df\", \"pg_df\", \"rcm_padding_df\", \"pg_padding_df\", \"amd_pg_df\", \"pg_rcm_df\", \"amd_pg_padding_df\", \"amd_pg_rcm_df\", \"pg_padding_rcm_df\", \"all_combined_df\"]\n"
   ],
   "id": "149949d57c3cb8e4",
   "outputs": [],
   "execution_count": 70
  },
  {
   "metadata": {
    "ExecuteTime": {
     "end_time": "2024-07-14T11:25:15.972438Z",
     "start_time": "2024-07-14T11:25:15.940209Z"
    }
   },
   "cell_type": "code",
   "source": "df.tail()",
   "id": "aaa97343de8a3361",
   "outputs": [
    {
     "data": {
      "text/plain": [
       "       amd   rcm  padding   matrix_name    z_full  partial_gauss    rank  \\\n",
       "9403  True  True        2  Pres_Poisson  623417.0            5.0  1625.0   \n",
       "9404  True  True        2  Pres_Poisson  623417.0            5.0   325.0   \n",
       "9405  True  True        2  Pres_Poisson  623417.0            5.0    85.0   \n",
       "9406  True  True        2  Pres_Poisson  623417.0            5.0    19.0   \n",
       "9407  True  True        2  Pres_Poisson  623417.0            5.0     1.0   \n",
       "\n",
       "      tile_size  z_reduced  max_mode_size  ...        n  gauss_threshold  \\\n",
       "9403       73.0   718845.0           73.0  ...  14819.0            0.001   \n",
       "9404      203.0   718845.0          203.0  ...  14819.0            0.001   \n",
       "9405      511.0   718845.0          511.0  ...  14819.0            0.001   \n",
       "9406     2117.0   718845.0         2117.0  ...  14819.0            0.001   \n",
       "9407    14819.0   718845.0        14819.0  ...  14819.0            0.001   \n",
       "\n",
       "      _step   _runtime    _timestamp    run_id        run_name log_obj_func  \\\n",
       "9403    2.0  33.099681  1.719228e+09  7xlca2s6  sunny-sweep-55    25.835484   \n",
       "9404    3.0  34.352489  1.719228e+09  7xlca2s6  sunny-sweep-55    31.879337   \n",
       "9405    4.0  35.618384  1.719228e+09  7xlca2s6  sunny-sweep-55    37.418218   \n",
       "9406    5.0  37.985502  1.719228e+09  7xlca2s6  sunny-sweep-55    45.946532   \n",
       "9407    6.0  39.952775  1.719228e+09  7xlca2s6  sunny-sweep-55    57.621993   \n",
       "\n",
       "          obj_func  reduced_variable_percentage  \n",
       "9403  1.660383e+11                     0.000337  \n",
       "9404  6.998744e+13                     0.000337  \n",
       "9405  1.780433e+16                     0.000337  \n",
       "9406  9.001713e+19                     0.000337  \n",
       "9407  1.059042e+25                     0.000337  \n",
       "\n",
       "[5 rows x 21 columns]"
      ],
      "text/html": [
       "<div>\n",
       "<style scoped>\n",
       "    .dataframe tbody tr th:only-of-type {\n",
       "        vertical-align: middle;\n",
       "    }\n",
       "\n",
       "    .dataframe tbody tr th {\n",
       "        vertical-align: top;\n",
       "    }\n",
       "\n",
       "    .dataframe thead th {\n",
       "        text-align: right;\n",
       "    }\n",
       "</style>\n",
       "<table border=\"1\" class=\"dataframe\">\n",
       "  <thead>\n",
       "    <tr style=\"text-align: right;\">\n",
       "      <th></th>\n",
       "      <th>amd</th>\n",
       "      <th>rcm</th>\n",
       "      <th>padding</th>\n",
       "      <th>matrix_name</th>\n",
       "      <th>z_full</th>\n",
       "      <th>partial_gauss</th>\n",
       "      <th>rank</th>\n",
       "      <th>tile_size</th>\n",
       "      <th>z_reduced</th>\n",
       "      <th>max_mode_size</th>\n",
       "      <th>...</th>\n",
       "      <th>n</th>\n",
       "      <th>gauss_threshold</th>\n",
       "      <th>_step</th>\n",
       "      <th>_runtime</th>\n",
       "      <th>_timestamp</th>\n",
       "      <th>run_id</th>\n",
       "      <th>run_name</th>\n",
       "      <th>log_obj_func</th>\n",
       "      <th>obj_func</th>\n",
       "      <th>reduced_variable_percentage</th>\n",
       "    </tr>\n",
       "  </thead>\n",
       "  <tbody>\n",
       "    <tr>\n",
       "      <th>9403</th>\n",
       "      <td>True</td>\n",
       "      <td>True</td>\n",
       "      <td>2</td>\n",
       "      <td>Pres_Poisson</td>\n",
       "      <td>623417.0</td>\n",
       "      <td>5.0</td>\n",
       "      <td>1625.0</td>\n",
       "      <td>73.0</td>\n",
       "      <td>718845.0</td>\n",
       "      <td>73.0</td>\n",
       "      <td>...</td>\n",
       "      <td>14819.0</td>\n",
       "      <td>0.001</td>\n",
       "      <td>2.0</td>\n",
       "      <td>33.099681</td>\n",
       "      <td>1.719228e+09</td>\n",
       "      <td>7xlca2s6</td>\n",
       "      <td>sunny-sweep-55</td>\n",
       "      <td>25.835484</td>\n",
       "      <td>1.660383e+11</td>\n",
       "      <td>0.000337</td>\n",
       "    </tr>\n",
       "    <tr>\n",
       "      <th>9404</th>\n",
       "      <td>True</td>\n",
       "      <td>True</td>\n",
       "      <td>2</td>\n",
       "      <td>Pres_Poisson</td>\n",
       "      <td>623417.0</td>\n",
       "      <td>5.0</td>\n",
       "      <td>325.0</td>\n",
       "      <td>203.0</td>\n",
       "      <td>718845.0</td>\n",
       "      <td>203.0</td>\n",
       "      <td>...</td>\n",
       "      <td>14819.0</td>\n",
       "      <td>0.001</td>\n",
       "      <td>3.0</td>\n",
       "      <td>34.352489</td>\n",
       "      <td>1.719228e+09</td>\n",
       "      <td>7xlca2s6</td>\n",
       "      <td>sunny-sweep-55</td>\n",
       "      <td>31.879337</td>\n",
       "      <td>6.998744e+13</td>\n",
       "      <td>0.000337</td>\n",
       "    </tr>\n",
       "    <tr>\n",
       "      <th>9405</th>\n",
       "      <td>True</td>\n",
       "      <td>True</td>\n",
       "      <td>2</td>\n",
       "      <td>Pres_Poisson</td>\n",
       "      <td>623417.0</td>\n",
       "      <td>5.0</td>\n",
       "      <td>85.0</td>\n",
       "      <td>511.0</td>\n",
       "      <td>718845.0</td>\n",
       "      <td>511.0</td>\n",
       "      <td>...</td>\n",
       "      <td>14819.0</td>\n",
       "      <td>0.001</td>\n",
       "      <td>4.0</td>\n",
       "      <td>35.618384</td>\n",
       "      <td>1.719228e+09</td>\n",
       "      <td>7xlca2s6</td>\n",
       "      <td>sunny-sweep-55</td>\n",
       "      <td>37.418218</td>\n",
       "      <td>1.780433e+16</td>\n",
       "      <td>0.000337</td>\n",
       "    </tr>\n",
       "    <tr>\n",
       "      <th>9406</th>\n",
       "      <td>True</td>\n",
       "      <td>True</td>\n",
       "      <td>2</td>\n",
       "      <td>Pres_Poisson</td>\n",
       "      <td>623417.0</td>\n",
       "      <td>5.0</td>\n",
       "      <td>19.0</td>\n",
       "      <td>2117.0</td>\n",
       "      <td>718845.0</td>\n",
       "      <td>2117.0</td>\n",
       "      <td>...</td>\n",
       "      <td>14819.0</td>\n",
       "      <td>0.001</td>\n",
       "      <td>5.0</td>\n",
       "      <td>37.985502</td>\n",
       "      <td>1.719228e+09</td>\n",
       "      <td>7xlca2s6</td>\n",
       "      <td>sunny-sweep-55</td>\n",
       "      <td>45.946532</td>\n",
       "      <td>9.001713e+19</td>\n",
       "      <td>0.000337</td>\n",
       "    </tr>\n",
       "    <tr>\n",
       "      <th>9407</th>\n",
       "      <td>True</td>\n",
       "      <td>True</td>\n",
       "      <td>2</td>\n",
       "      <td>Pres_Poisson</td>\n",
       "      <td>623417.0</td>\n",
       "      <td>5.0</td>\n",
       "      <td>1.0</td>\n",
       "      <td>14819.0</td>\n",
       "      <td>718845.0</td>\n",
       "      <td>14819.0</td>\n",
       "      <td>...</td>\n",
       "      <td>14819.0</td>\n",
       "      <td>0.001</td>\n",
       "      <td>6.0</td>\n",
       "      <td>39.952775</td>\n",
       "      <td>1.719228e+09</td>\n",
       "      <td>7xlca2s6</td>\n",
       "      <td>sunny-sweep-55</td>\n",
       "      <td>57.621993</td>\n",
       "      <td>1.059042e+25</td>\n",
       "      <td>0.000337</td>\n",
       "    </tr>\n",
       "  </tbody>\n",
       "</table>\n",
       "<p>5 rows × 21 columns</p>\n",
       "</div>"
      ]
     },
     "execution_count": 71,
     "metadata": {},
     "output_type": "execute_result"
    }
   ],
   "execution_count": 71
  },
  {
   "metadata": {},
   "cell_type": "markdown",
   "source": "",
   "id": "61b8204960c75019"
  },
  {
   "metadata": {
    "ExecuteTime": {
     "end_time": "2024-07-14T11:25:33.057793Z",
     "start_time": "2024-07-14T11:25:32.952704Z"
    }
   },
   "cell_type": "code",
   "source": [
    "# setup color map for each matrix\n",
    "matrix_names = df[\"matrix_name\"].unique().tolist()\n",
    "num_matrices = len(matrix_names)\n",
    "\n",
    "colorscale = px.colors.qualitative.Plotly\n",
    "colors = [colorscale[i % len(colorscale)] for i in range(num_matrices)]\n",
    "\n",
    "matrix_color_map = {matrix:color for matrix, color in zip(matrix_names, colors)}"
   ],
   "id": "25cffdf7a1bbcf35",
   "outputs": [],
   "execution_count": 72
  },
  {
   "metadata": {
    "ExecuteTime": {
     "end_time": "2024-07-14T11:25:36.174313Z",
     "start_time": "2024-07-14T11:25:35.820086Z"
    }
   },
   "cell_type": "code",
   "source": [
    "# normality tests - tests the null hypothesis that a sample comes from a normal distribution\n",
    "# small p-value == this may be taken as evidence against the null hypothesis in favor of the alternative: the weights were not drawn from a normal distribution. \n",
    "# Note that:\n",
    "# The inverse is not true; that is, the test is not used to provide evidence for the null hypothesis.\n",
    "\n",
    "for df, df_str in zip(df_list, df_str_list):\n",
    "    res = normaltest(df[\"obj_func\"])\n",
    "    print(\"{} normality, p-value: {}\".format(df_str, res.pvalue))\n"
   ],
   "id": "2b10e063883068f3",
   "outputs": [
    {
     "name": "stdout",
     "output_type": "stream",
     "text": [
      "baseline_df normality, p-value: 3.7723043882067505e-28\n",
      "padding_df normality, p-value: 6.902223603472822e-180\n",
      "amd_df normality, p-value: 1.2930279380469287e-43\n",
      "rcm_df normality, p-value: 1.2930277107836354e-43\n",
      "pg_df normality, p-value: 0.0\n",
      "rcm_padding_df normality, p-value: 0.0\n",
      "pg_padding_df normality, p-value: 0.0\n",
      "amd_pg_df normality, p-value: 0.0\n",
      "pg_rcm_df normality, p-value: 0.0\n",
      "amd_pg_padding_df normality, p-value: 0.0\n",
      "amd_pg_rcm_df normality, p-value: 0.0\n",
      "pg_padding_rcm_df normality, p-value: 0.0\n",
      "all_combined_df normality, p-value: 0.0\n"
     ]
    }
   ],
   "execution_count": 73
  },
  {
   "metadata": {
    "ExecuteTime": {
     "end_time": "2024-07-14T11:25:36.570517Z",
     "start_time": "2024-07-14T11:25:36.174313Z"
    }
   },
   "cell_type": "code",
   "source": [
    "for df, df_str in zip(df_list, df_str_list):\n",
    "    res = normaltest(df[\"log_obj_func\"])\n",
    "    print(\"{} normality, p-value: {}\".format(df_str, res.pvalue))"
   ],
   "id": "15e41bbd79c689f2",
   "outputs": [
    {
     "name": "stdout",
     "output_type": "stream",
     "text": [
      "baseline_df normality, p-value: 0.16735531412714397\n",
      "padding_df normality, p-value: 2.224460847772188e-10\n",
      "amd_df normality, p-value: 0.033787221207441334\n",
      "rcm_df normality, p-value: 0.0350559964103515\n",
      "pg_df normality, p-value: 0.0\n",
      "rcm_padding_df normality, p-value: 3.581951875040232e-20\n",
      "pg_padding_df normality, p-value: 0.0\n",
      "amd_pg_df normality, p-value: 0.0\n",
      "pg_rcm_df normality, p-value: 0.0\n",
      "amd_pg_padding_df normality, p-value: 0.0\n",
      "amd_pg_rcm_df normality, p-value: 0.0\n",
      "pg_padding_rcm_df normality, p-value: 0.0\n",
      "all_combined_df normality, p-value: 0.0\n"
     ]
    }
   ],
   "execution_count": 74
  },
  {
   "metadata": {},
   "cell_type": "markdown",
   "source": "Conclusion: the (log) runtime estimates do not follow a normal distribution. Therefore, I need to work with non-parametric tests when comparing the approaches.",
   "id": "12a20deba8468248"
  },
  {
   "metadata": {
    "ExecuteTime": {
     "end_time": "2024-07-14T11:25:36.586406Z",
     "start_time": "2024-07-14T11:25:36.570517Z"
    }
   },
   "cell_type": "code",
   "source": [
    "# Next: check if different approaches give better results than baseline\n",
    "# important: we only care about best tile size choice rows that get enabled by these approaches\n",
    "\n",
    "# null-hyp: no difference\n",
    "_, p_value = mannwhitneyu(rcm_df[rcm_df[\"rcm\"] == False][\"log_obj_func\"], rcm_df[rcm_df[\"rcm\"] == True][\"log_obj_func\"], alternative='two-sided')\n",
    "print(p_value)"
   ],
   "id": "6a1b581ec580002d",
   "outputs": [
    {
     "name": "stdout",
     "output_type": "stream",
     "text": [
      "0.9706139971016378\n"
     ]
    }
   ],
   "execution_count": 75
  },
  {
   "metadata": {
    "ExecuteTime": {
     "end_time": "2024-07-14T11:25:36.601934Z",
     "start_time": "2024-07-14T11:25:36.587412Z"
    }
   },
   "cell_type": "code",
   "source": "rcm_df[rcm_df[\"rcm\"] == False][\"log_obj_func\"].describe()",
   "id": "50bc13bde8fcfcd1",
   "outputs": [
    {
     "data": {
      "text/plain": [
       "count    57.000000\n",
       "mean     34.356460\n",
       "std       9.327507\n",
       "min      20.255555\n",
       "25%      28.135807\n",
       "50%      32.908784\n",
       "75%      40.513622\n",
       "max      57.623207\n",
       "Name: log_obj_func, dtype: float64"
      ]
     },
     "execution_count": 76,
     "metadata": {},
     "output_type": "execute_result"
    }
   ],
   "execution_count": 76
  },
  {
   "metadata": {
    "ExecuteTime": {
     "end_time": "2024-07-14T11:25:39.291234Z",
     "start_time": "2024-07-14T11:25:39.278473Z"
    }
   },
   "cell_type": "code",
   "source": "rcm_df[rcm_df[\"rcm\"] == True][\"log_obj_func\"].describe()",
   "id": "71e38dd89efef9a7",
   "outputs": [
    {
     "data": {
      "text/plain": [
       "count    57.000000\n",
       "mean     34.330409\n",
       "std       9.371346\n",
       "min      20.019984\n",
       "25%      28.148473\n",
       "50%      32.908784\n",
       "75%      40.513622\n",
       "max      57.623207\n",
       "Name: log_obj_func, dtype: float64"
      ]
     },
     "execution_count": 77,
     "metadata": {},
     "output_type": "execute_result"
    }
   ],
   "execution_count": 77
  },
  {
   "metadata": {
    "ExecuteTime": {
     "end_time": "2024-07-14T11:25:39.323731Z",
     "start_time": "2024-07-14T11:25:39.292604Z"
    }
   },
   "cell_type": "code",
   "source": [
    "# get best tile size choices\n",
    "idx = rcm_padding_df.groupby(by=['matrix_name', 'rcm'])['log_obj_func'].idxmin()\n",
    "rcm_padding_tile_agg_df = rcm_padding_df.loc[idx].reset_index(drop=True)\n",
    "rcm_padding_tile_agg_df"
   ],
   "id": "c7abb184a75f7e20",
   "outputs": [
    {
     "data": {
      "text/plain": [
       "      amd    rcm  padding   matrix_name    z_full  partial_gauss    rank  \\\n",
       "0   False  False        1  Pres_Poisson  715804.0            0.0  2599.0   \n",
       "1   False   True        1  Pres_Poisson  715804.0            0.0  2105.0   \n",
       "2   False  False        6      bcsstk13   70264.0            0.0   569.0   \n",
       "3   False   True        6      bcsstk13   70264.0            0.0   665.0   \n",
       "4   False  False       10          ex10   43497.0            0.0  1031.0   \n",
       "5   False   True        5          ex10   43497.0            0.0   727.0   \n",
       "6   False  False        2        ex10hs   42944.0            0.0  1400.0   \n",
       "7   False   True        2        ex10hs   42944.0            0.0  1218.0   \n",
       "8   False  False        6          ex13   75392.0            0.0  1209.0   \n",
       "9   False   True        6          ex13   75392.0            0.0  1291.0   \n",
       "10  False  False       10          ex15   98671.0            0.0  2071.0   \n",
       "11  False   True       10          ex15   98671.0            0.0  1373.0   \n",
       "12  False  False        3           ex3   43791.0            0.0   888.0   \n",
       "13  False   True        3           ex3   43791.0            0.0   834.0   \n",
       "\n",
       "    tile_size  z_reduced  max_mode_size  ...        n  gauss_threshold  _step  \\\n",
       "0        61.0   715804.0           61.0  ...  14823.0            0.001    3.0   \n",
       "1        61.0   715804.0           61.0  ...  14823.0            0.001    3.0   \n",
       "2        41.0    70264.0           41.0  ...   2009.0              NaN    NaN   \n",
       "3        41.0    70264.0           41.0  ...   2009.0              NaN    NaN   \n",
       "4        20.0    43497.0           20.0  ...   2420.0              NaN    NaN   \n",
       "5        23.0    43497.0           23.0  ...   2415.0              NaN    NaN   \n",
       "6        17.0    42944.0           17.0  ...   2550.0              NaN    NaN   \n",
       "7        17.0    42944.0           17.0  ...   2550.0              NaN    NaN   \n",
       "8        18.0    75392.0           18.0  ...   2574.0              NaN    NaN   \n",
       "9        18.0    75392.0           18.0  ...   2574.0              NaN    NaN   \n",
       "10       23.0    98671.0           23.0  ...   6877.0            0.001    1.0   \n",
       "11       23.0    98671.0           23.0  ...   6877.0            0.001    1.0   \n",
       "12       19.0    43791.0           19.0  ...   1824.0              NaN    NaN   \n",
       "13       19.0    43791.0           19.0  ...   1824.0              NaN    NaN   \n",
       "\n",
       "     _runtime    _timestamp    run_id             run_name log_obj_func  \\\n",
       "0   30.220259  1.719232e+09  afn8fv6y  dauntless-sweep-508    25.070247   \n",
       "1   31.281204  1.719232e+09  asn89p29       rosy-sweep-507    24.949895   \n",
       "2         NaN           NaN       NaN                  NaN    22.397285   \n",
       "3         NaN           NaN       NaN                  NaN    22.435137   \n",
       "4         NaN           NaN       NaN                  NaN    20.024970   \n",
       "5         NaN           NaN       NaN                  NaN    19.894237   \n",
       "6         NaN           NaN       NaN                  NaN    20.208191   \n",
       "7         NaN           NaN       NaN                  NaN    19.944256   \n",
       "8         NaN           NaN       NaN                  NaN    20.058993   \n",
       "9         NaN           NaN       NaN                  NaN    20.181201   \n",
       "10   1.675255  1.719235e+09  zs1g109b     devout-sweep-948    21.616139   \n",
       "11   2.778866  1.719235e+09  1pheg8e6    vibrant-sweep-947    20.873386   \n",
       "12        NaN           NaN       NaN                  NaN    19.637968   \n",
       "13        NaN           NaN       NaN                  NaN    19.532084   \n",
       "\n",
       "        obj_func  reduced_variable_percentage  \n",
       "0   7.724491e+10                          0.0  \n",
       "1   6.848601e+10                          0.0  \n",
       "2   5.333563e+09                          0.0  \n",
       "3   5.539317e+09                          0.0  \n",
       "4   4.974324e+08                          0.0  \n",
       "5   4.364731e+08                          0.0  \n",
       "6   5.974558e+08                          0.0  \n",
       "7   4.588600e+08                          0.0  \n",
       "8   5.146478e+08                          0.0  \n",
       "9   5.815460e+08                          0.0  \n",
       "10  2.442136e+09                          0.0  \n",
       "11  1.161974e+09                          0.0  \n",
       "12  3.378011e+08                          0.0  \n",
       "13  3.038620e+08                          0.0  \n",
       "\n",
       "[14 rows x 21 columns]"
      ],
      "text/html": [
       "<div>\n",
       "<style scoped>\n",
       "    .dataframe tbody tr th:only-of-type {\n",
       "        vertical-align: middle;\n",
       "    }\n",
       "\n",
       "    .dataframe tbody tr th {\n",
       "        vertical-align: top;\n",
       "    }\n",
       "\n",
       "    .dataframe thead th {\n",
       "        text-align: right;\n",
       "    }\n",
       "</style>\n",
       "<table border=\"1\" class=\"dataframe\">\n",
       "  <thead>\n",
       "    <tr style=\"text-align: right;\">\n",
       "      <th></th>\n",
       "      <th>amd</th>\n",
       "      <th>rcm</th>\n",
       "      <th>padding</th>\n",
       "      <th>matrix_name</th>\n",
       "      <th>z_full</th>\n",
       "      <th>partial_gauss</th>\n",
       "      <th>rank</th>\n",
       "      <th>tile_size</th>\n",
       "      <th>z_reduced</th>\n",
       "      <th>max_mode_size</th>\n",
       "      <th>...</th>\n",
       "      <th>n</th>\n",
       "      <th>gauss_threshold</th>\n",
       "      <th>_step</th>\n",
       "      <th>_runtime</th>\n",
       "      <th>_timestamp</th>\n",
       "      <th>run_id</th>\n",
       "      <th>run_name</th>\n",
       "      <th>log_obj_func</th>\n",
       "      <th>obj_func</th>\n",
       "      <th>reduced_variable_percentage</th>\n",
       "    </tr>\n",
       "  </thead>\n",
       "  <tbody>\n",
       "    <tr>\n",
       "      <th>0</th>\n",
       "      <td>False</td>\n",
       "      <td>False</td>\n",
       "      <td>1</td>\n",
       "      <td>Pres_Poisson</td>\n",
       "      <td>715804.0</td>\n",
       "      <td>0.0</td>\n",
       "      <td>2599.0</td>\n",
       "      <td>61.0</td>\n",
       "      <td>715804.0</td>\n",
       "      <td>61.0</td>\n",
       "      <td>...</td>\n",
       "      <td>14823.0</td>\n",
       "      <td>0.001</td>\n",
       "      <td>3.0</td>\n",
       "      <td>30.220259</td>\n",
       "      <td>1.719232e+09</td>\n",
       "      <td>afn8fv6y</td>\n",
       "      <td>dauntless-sweep-508</td>\n",
       "      <td>25.070247</td>\n",
       "      <td>7.724491e+10</td>\n",
       "      <td>0.0</td>\n",
       "    </tr>\n",
       "    <tr>\n",
       "      <th>1</th>\n",
       "      <td>False</td>\n",
       "      <td>True</td>\n",
       "      <td>1</td>\n",
       "      <td>Pres_Poisson</td>\n",
       "      <td>715804.0</td>\n",
       "      <td>0.0</td>\n",
       "      <td>2105.0</td>\n",
       "      <td>61.0</td>\n",
       "      <td>715804.0</td>\n",
       "      <td>61.0</td>\n",
       "      <td>...</td>\n",
       "      <td>14823.0</td>\n",
       "      <td>0.001</td>\n",
       "      <td>3.0</td>\n",
       "      <td>31.281204</td>\n",
       "      <td>1.719232e+09</td>\n",
       "      <td>asn89p29</td>\n",
       "      <td>rosy-sweep-507</td>\n",
       "      <td>24.949895</td>\n",
       "      <td>6.848601e+10</td>\n",
       "      <td>0.0</td>\n",
       "    </tr>\n",
       "    <tr>\n",
       "      <th>2</th>\n",
       "      <td>False</td>\n",
       "      <td>False</td>\n",
       "      <td>6</td>\n",
       "      <td>bcsstk13</td>\n",
       "      <td>70264.0</td>\n",
       "      <td>0.0</td>\n",
       "      <td>569.0</td>\n",
       "      <td>41.0</td>\n",
       "      <td>70264.0</td>\n",
       "      <td>41.0</td>\n",
       "      <td>...</td>\n",
       "      <td>2009.0</td>\n",
       "      <td>NaN</td>\n",
       "      <td>NaN</td>\n",
       "      <td>NaN</td>\n",
       "      <td>NaN</td>\n",
       "      <td>NaN</td>\n",
       "      <td>NaN</td>\n",
       "      <td>22.397285</td>\n",
       "      <td>5.333563e+09</td>\n",
       "      <td>0.0</td>\n",
       "    </tr>\n",
       "    <tr>\n",
       "      <th>3</th>\n",
       "      <td>False</td>\n",
       "      <td>True</td>\n",
       "      <td>6</td>\n",
       "      <td>bcsstk13</td>\n",
       "      <td>70264.0</td>\n",
       "      <td>0.0</td>\n",
       "      <td>665.0</td>\n",
       "      <td>41.0</td>\n",
       "      <td>70264.0</td>\n",
       "      <td>41.0</td>\n",
       "      <td>...</td>\n",
       "      <td>2009.0</td>\n",
       "      <td>NaN</td>\n",
       "      <td>NaN</td>\n",
       "      <td>NaN</td>\n",
       "      <td>NaN</td>\n",
       "      <td>NaN</td>\n",
       "      <td>NaN</td>\n",
       "      <td>22.435137</td>\n",
       "      <td>5.539317e+09</td>\n",
       "      <td>0.0</td>\n",
       "    </tr>\n",
       "    <tr>\n",
       "      <th>4</th>\n",
       "      <td>False</td>\n",
       "      <td>False</td>\n",
       "      <td>10</td>\n",
       "      <td>ex10</td>\n",
       "      <td>43497.0</td>\n",
       "      <td>0.0</td>\n",
       "      <td>1031.0</td>\n",
       "      <td>20.0</td>\n",
       "      <td>43497.0</td>\n",
       "      <td>20.0</td>\n",
       "      <td>...</td>\n",
       "      <td>2420.0</td>\n",
       "      <td>NaN</td>\n",
       "      <td>NaN</td>\n",
       "      <td>NaN</td>\n",
       "      <td>NaN</td>\n",
       "      <td>NaN</td>\n",
       "      <td>NaN</td>\n",
       "      <td>20.024970</td>\n",
       "      <td>4.974324e+08</td>\n",
       "      <td>0.0</td>\n",
       "    </tr>\n",
       "    <tr>\n",
       "      <th>5</th>\n",
       "      <td>False</td>\n",
       "      <td>True</td>\n",
       "      <td>5</td>\n",
       "      <td>ex10</td>\n",
       "      <td>43497.0</td>\n",
       "      <td>0.0</td>\n",
       "      <td>727.0</td>\n",
       "      <td>23.0</td>\n",
       "      <td>43497.0</td>\n",
       "      <td>23.0</td>\n",
       "      <td>...</td>\n",
       "      <td>2415.0</td>\n",
       "      <td>NaN</td>\n",
       "      <td>NaN</td>\n",
       "      <td>NaN</td>\n",
       "      <td>NaN</td>\n",
       "      <td>NaN</td>\n",
       "      <td>NaN</td>\n",
       "      <td>19.894237</td>\n",
       "      <td>4.364731e+08</td>\n",
       "      <td>0.0</td>\n",
       "    </tr>\n",
       "    <tr>\n",
       "      <th>6</th>\n",
       "      <td>False</td>\n",
       "      <td>False</td>\n",
       "      <td>2</td>\n",
       "      <td>ex10hs</td>\n",
       "      <td>42944.0</td>\n",
       "      <td>0.0</td>\n",
       "      <td>1400.0</td>\n",
       "      <td>17.0</td>\n",
       "      <td>42944.0</td>\n",
       "      <td>17.0</td>\n",
       "      <td>...</td>\n",
       "      <td>2550.0</td>\n",
       "      <td>NaN</td>\n",
       "      <td>NaN</td>\n",
       "      <td>NaN</td>\n",
       "      <td>NaN</td>\n",
       "      <td>NaN</td>\n",
       "      <td>NaN</td>\n",
       "      <td>20.208191</td>\n",
       "      <td>5.974558e+08</td>\n",
       "      <td>0.0</td>\n",
       "    </tr>\n",
       "    <tr>\n",
       "      <th>7</th>\n",
       "      <td>False</td>\n",
       "      <td>True</td>\n",
       "      <td>2</td>\n",
       "      <td>ex10hs</td>\n",
       "      <td>42944.0</td>\n",
       "      <td>0.0</td>\n",
       "      <td>1218.0</td>\n",
       "      <td>17.0</td>\n",
       "      <td>42944.0</td>\n",
       "      <td>17.0</td>\n",
       "      <td>...</td>\n",
       "      <td>2550.0</td>\n",
       "      <td>NaN</td>\n",
       "      <td>NaN</td>\n",
       "      <td>NaN</td>\n",
       "      <td>NaN</td>\n",
       "      <td>NaN</td>\n",
       "      <td>NaN</td>\n",
       "      <td>19.944256</td>\n",
       "      <td>4.588600e+08</td>\n",
       "      <td>0.0</td>\n",
       "    </tr>\n",
       "    <tr>\n",
       "      <th>8</th>\n",
       "      <td>False</td>\n",
       "      <td>False</td>\n",
       "      <td>6</td>\n",
       "      <td>ex13</td>\n",
       "      <td>75392.0</td>\n",
       "      <td>0.0</td>\n",
       "      <td>1209.0</td>\n",
       "      <td>18.0</td>\n",
       "      <td>75392.0</td>\n",
       "      <td>18.0</td>\n",
       "      <td>...</td>\n",
       "      <td>2574.0</td>\n",
       "      <td>NaN</td>\n",
       "      <td>NaN</td>\n",
       "      <td>NaN</td>\n",
       "      <td>NaN</td>\n",
       "      <td>NaN</td>\n",
       "      <td>NaN</td>\n",
       "      <td>20.058993</td>\n",
       "      <td>5.146478e+08</td>\n",
       "      <td>0.0</td>\n",
       "    </tr>\n",
       "    <tr>\n",
       "      <th>9</th>\n",
       "      <td>False</td>\n",
       "      <td>True</td>\n",
       "      <td>6</td>\n",
       "      <td>ex13</td>\n",
       "      <td>75392.0</td>\n",
       "      <td>0.0</td>\n",
       "      <td>1291.0</td>\n",
       "      <td>18.0</td>\n",
       "      <td>75392.0</td>\n",
       "      <td>18.0</td>\n",
       "      <td>...</td>\n",
       "      <td>2574.0</td>\n",
       "      <td>NaN</td>\n",
       "      <td>NaN</td>\n",
       "      <td>NaN</td>\n",
       "      <td>NaN</td>\n",
       "      <td>NaN</td>\n",
       "      <td>NaN</td>\n",
       "      <td>20.181201</td>\n",
       "      <td>5.815460e+08</td>\n",
       "      <td>0.0</td>\n",
       "    </tr>\n",
       "    <tr>\n",
       "      <th>10</th>\n",
       "      <td>False</td>\n",
       "      <td>False</td>\n",
       "      <td>10</td>\n",
       "      <td>ex15</td>\n",
       "      <td>98671.0</td>\n",
       "      <td>0.0</td>\n",
       "      <td>2071.0</td>\n",
       "      <td>23.0</td>\n",
       "      <td>98671.0</td>\n",
       "      <td>23.0</td>\n",
       "      <td>...</td>\n",
       "      <td>6877.0</td>\n",
       "      <td>0.001</td>\n",
       "      <td>1.0</td>\n",
       "      <td>1.675255</td>\n",
       "      <td>1.719235e+09</td>\n",
       "      <td>zs1g109b</td>\n",
       "      <td>devout-sweep-948</td>\n",
       "      <td>21.616139</td>\n",
       "      <td>2.442136e+09</td>\n",
       "      <td>0.0</td>\n",
       "    </tr>\n",
       "    <tr>\n",
       "      <th>11</th>\n",
       "      <td>False</td>\n",
       "      <td>True</td>\n",
       "      <td>10</td>\n",
       "      <td>ex15</td>\n",
       "      <td>98671.0</td>\n",
       "      <td>0.0</td>\n",
       "      <td>1373.0</td>\n",
       "      <td>23.0</td>\n",
       "      <td>98671.0</td>\n",
       "      <td>23.0</td>\n",
       "      <td>...</td>\n",
       "      <td>6877.0</td>\n",
       "      <td>0.001</td>\n",
       "      <td>1.0</td>\n",
       "      <td>2.778866</td>\n",
       "      <td>1.719235e+09</td>\n",
       "      <td>1pheg8e6</td>\n",
       "      <td>vibrant-sweep-947</td>\n",
       "      <td>20.873386</td>\n",
       "      <td>1.161974e+09</td>\n",
       "      <td>0.0</td>\n",
       "    </tr>\n",
       "    <tr>\n",
       "      <th>12</th>\n",
       "      <td>False</td>\n",
       "      <td>False</td>\n",
       "      <td>3</td>\n",
       "      <td>ex3</td>\n",
       "      <td>43791.0</td>\n",
       "      <td>0.0</td>\n",
       "      <td>888.0</td>\n",
       "      <td>19.0</td>\n",
       "      <td>43791.0</td>\n",
       "      <td>19.0</td>\n",
       "      <td>...</td>\n",
       "      <td>1824.0</td>\n",
       "      <td>NaN</td>\n",
       "      <td>NaN</td>\n",
       "      <td>NaN</td>\n",
       "      <td>NaN</td>\n",
       "      <td>NaN</td>\n",
       "      <td>NaN</td>\n",
       "      <td>19.637968</td>\n",
       "      <td>3.378011e+08</td>\n",
       "      <td>0.0</td>\n",
       "    </tr>\n",
       "    <tr>\n",
       "      <th>13</th>\n",
       "      <td>False</td>\n",
       "      <td>True</td>\n",
       "      <td>3</td>\n",
       "      <td>ex3</td>\n",
       "      <td>43791.0</td>\n",
       "      <td>0.0</td>\n",
       "      <td>834.0</td>\n",
       "      <td>19.0</td>\n",
       "      <td>43791.0</td>\n",
       "      <td>19.0</td>\n",
       "      <td>...</td>\n",
       "      <td>1824.0</td>\n",
       "      <td>NaN</td>\n",
       "      <td>NaN</td>\n",
       "      <td>NaN</td>\n",
       "      <td>NaN</td>\n",
       "      <td>NaN</td>\n",
       "      <td>NaN</td>\n",
       "      <td>19.532084</td>\n",
       "      <td>3.038620e+08</td>\n",
       "      <td>0.0</td>\n",
       "    </tr>\n",
       "  </tbody>\n",
       "</table>\n",
       "<p>14 rows × 21 columns</p>\n",
       "</div>"
      ]
     },
     "execution_count": 78,
     "metadata": {},
     "output_type": "execute_result"
    }
   ],
   "execution_count": 78
  },
  {
   "metadata": {},
   "cell_type": "markdown",
   "source": "Explore effects of rcm followed by padding",
   "id": "59a72118e2498303"
  },
  {
   "metadata": {},
   "cell_type": "markdown",
   "source": [
    "do hypothesis testing: \n",
    "- null hypothesis: applying RCM on top of padding does not influence the runtime estimate\n",
    "- significance level: 0.01\n",
    "- need to check assumptions: observations independent, from sample to sample, samples were obtained via random sampling, data should be approximately normally distributed, variances should be approximately equal (if not, just use Welch’s t-test)."
   ],
   "id": "bf01aedf87aa55e3"
  },
  {
   "metadata": {
    "ExecuteTime": {
     "end_time": "2024-07-14T11:25:39.339644Z",
     "start_time": "2024-07-14T11:25:39.324437Z"
    }
   },
   "cell_type": "code",
   "source": [
    "# considering only the best tile size choices\n",
    "rcm_on_group = rcm_padding_tile_agg_df[rcm_padding_tile_agg_df['rcm'] == True]\n",
    "rcm_off_group = rcm_padding_tile_agg_df[rcm_padding_tile_agg_df['rcm'] == False]\n",
    "\n",
    "print(\"mean, std for log_obj_func without rcm: \", rcm_on_group[\"log_obj_func\"].mean(), rcm_on_group[\"log_obj_func\"].std())\n",
    "print(\"mean, std for log_obj_func with rcm: \", rcm_off_group[\"log_obj_func\"].mean(), rcm_off_group[\"log_obj_func\"].std())"
   ],
   "id": "a1dec05c82502243",
   "outputs": [
    {
     "name": "stdout",
     "output_type": "stream",
     "text": [
      "mean, std for log_obj_func without rcm:  21.11574241409493 1.947051813991641\n",
      "mean, std for log_obj_func with rcm:  21.28768474337918 1.9424158567058876\n"
     ]
    }
   ],
   "execution_count": 79
  },
  {
   "metadata": {
    "ExecuteTime": {
     "end_time": "2024-07-14T11:25:39.355592Z",
     "start_time": "2024-07-14T11:25:39.339644Z"
    }
   },
   "cell_type": "code",
   "source": [
    "# considering all tile size choices\n",
    "rcm_on_group = rcm_padding_df[rcm_padding_df['rcm'] == True]\n",
    "rcm_off_group = rcm_padding_df[rcm_padding_df['rcm'] == False]\n",
    "\n",
    "print(\"mean, std for log_obj_func without rcm: \", rcm_on_group[\"log_obj_func\"].mean(), rcm_on_group[\"log_obj_func\"].std())\n",
    "print(\"mean, std for log_obj_func with rcm: \", rcm_off_group[\"log_obj_func\"].mean(), rcm_off_group[\"log_obj_func\"].std())"
   ],
   "id": "8060d3885ce738bf",
   "outputs": [
    {
     "name": "stdout",
     "output_type": "stream",
     "text": [
      "mean, std for log_obj_func without rcm:  34.15324668571295 9.347270650081919\n",
      "mean, std for log_obj_func with rcm:  34.17355178471767 9.331924756941827\n"
     ]
    }
   ],
   "execution_count": 80
  },
  {
   "metadata": {
    "ExecuteTime": {
     "end_time": "2024-07-14T11:25:39.931619Z",
     "start_time": "2024-07-14T11:25:39.899866Z"
    }
   },
   "cell_type": "code",
   "source": "rcm_on_group",
   "id": "b456b0c982a2b72c",
   "outputs": [
    {
     "data": {
      "text/plain": [
       "         amd   rcm  padding   matrix_name    z_full  partial_gauss     rank  \\\n",
       "40308  False  True        8          ex13   75392.0            0.0  33626.0   \n",
       "40309  False  True        8          ex13   75392.0            0.0  11215.0   \n",
       "40310  False  True        8          ex13   75392.0            0.0   4521.0   \n",
       "40311  False  True        8          ex13   75392.0            0.0   3971.0   \n",
       "40312  False  True        8          ex13   75392.0            0.0   1816.0   \n",
       "...      ...   ...      ...           ...       ...            ...      ...   \n",
       "5368   False  True        3  Pres_Poisson  715804.0            0.0  66067.0   \n",
       "5369   False  True        3  Pres_Poisson  715804.0            0.0   8627.0   \n",
       "5370   False  True        3  Pres_Poisson  715804.0            0.0     73.0   \n",
       "5371   False  True        3  Pres_Poisson  715804.0            0.0     13.0   \n",
       "5372   False  True        3  Pres_Poisson  715804.0            0.0      1.0   \n",
       "\n",
       "       tile_size  z_reduced  max_mode_size  ...        n  gauss_threshold  \\\n",
       "40308        2.0    75392.0           23.0  ...   2576.0              NaN   \n",
       "40309        4.0    75392.0           23.0  ...   2576.0              NaN   \n",
       "40310        7.0    75392.0           23.0  ...   2576.0              NaN   \n",
       "40311        8.0    75392.0           23.0  ...   2576.0              NaN   \n",
       "40312       14.0    75392.0           23.0  ...   2576.0              NaN   \n",
       "...          ...        ...            ...  ...      ...              ...   \n",
       "5368         5.0   715804.0          593.0  ...  14825.0            0.001   \n",
       "5369        25.0   715804.0          593.0  ...  14825.0            0.001   \n",
       "5370       593.0   715804.0          593.0  ...  14825.0            0.001   \n",
       "5371      2965.0   715804.0         2965.0  ...  14825.0            0.001   \n",
       "5372     14825.0   715804.0        14825.0  ...  14825.0            0.001   \n",
       "\n",
       "       _step   _runtime    _timestamp    run_id         run_name log_obj_func  \\\n",
       "40308    NaN        NaN           NaN       NaN              NaN    27.118029   \n",
       "40309    NaN        NaN           NaN       NaN              NaN    24.925270   \n",
       "40310    NaN        NaN           NaN       NaN              NaN    23.122570   \n",
       "40311    NaN        NaN           NaN       NaN              NaN    22.867801   \n",
       "40312    NaN        NaN           NaN       NaN              NaN    21.372825   \n",
       "...      ...        ...           ...       ...              ...          ...   \n",
       "5368     0.0  13.431053  1.719232e+09  l61qankq  royal-sweep-551    38.346162   \n",
       "5369     1.0  16.378146  1.719232e+09  l61qankq  royal-sweep-551    38.311809   \n",
       "5370     2.0  17.304882  1.719232e+09  l61qankq  royal-sweep-551    38.311167   \n",
       "5371     3.0  18.811883  1.719232e+09  l61qankq  royal-sweep-551    47.967794   \n",
       "5372     4.0  20.266469  1.719232e+09  l61qankq  royal-sweep-551    57.624421   \n",
       "\n",
       "           obj_func  reduced_variable_percentage  \n",
       "40308  5.987016e+11                          0.0  \n",
       "40309  6.682011e+10                          0.0  \n",
       "40310  1.101551e+10                          0.0  \n",
       "40311  8.538068e+09                          0.0  \n",
       "40312  1.914697e+09                          0.0  \n",
       "...             ...                          ...  \n",
       "5368   4.503254e+16                          0.0  \n",
       "5369   4.351184e+16                          0.0  \n",
       "5370   4.348388e+16                          0.0  \n",
       "5371   6.794354e+20                          0.0  \n",
       "5372   1.061618e+25                          0.0  \n",
       "\n",
       "[615 rows x 21 columns]"
      ],
      "text/html": [
       "<div>\n",
       "<style scoped>\n",
       "    .dataframe tbody tr th:only-of-type {\n",
       "        vertical-align: middle;\n",
       "    }\n",
       "\n",
       "    .dataframe tbody tr th {\n",
       "        vertical-align: top;\n",
       "    }\n",
       "\n",
       "    .dataframe thead th {\n",
       "        text-align: right;\n",
       "    }\n",
       "</style>\n",
       "<table border=\"1\" class=\"dataframe\">\n",
       "  <thead>\n",
       "    <tr style=\"text-align: right;\">\n",
       "      <th></th>\n",
       "      <th>amd</th>\n",
       "      <th>rcm</th>\n",
       "      <th>padding</th>\n",
       "      <th>matrix_name</th>\n",
       "      <th>z_full</th>\n",
       "      <th>partial_gauss</th>\n",
       "      <th>rank</th>\n",
       "      <th>tile_size</th>\n",
       "      <th>z_reduced</th>\n",
       "      <th>max_mode_size</th>\n",
       "      <th>...</th>\n",
       "      <th>n</th>\n",
       "      <th>gauss_threshold</th>\n",
       "      <th>_step</th>\n",
       "      <th>_runtime</th>\n",
       "      <th>_timestamp</th>\n",
       "      <th>run_id</th>\n",
       "      <th>run_name</th>\n",
       "      <th>log_obj_func</th>\n",
       "      <th>obj_func</th>\n",
       "      <th>reduced_variable_percentage</th>\n",
       "    </tr>\n",
       "  </thead>\n",
       "  <tbody>\n",
       "    <tr>\n",
       "      <th>40308</th>\n",
       "      <td>False</td>\n",
       "      <td>True</td>\n",
       "      <td>8</td>\n",
       "      <td>ex13</td>\n",
       "      <td>75392.0</td>\n",
       "      <td>0.0</td>\n",
       "      <td>33626.0</td>\n",
       "      <td>2.0</td>\n",
       "      <td>75392.0</td>\n",
       "      <td>23.0</td>\n",
       "      <td>...</td>\n",
       "      <td>2576.0</td>\n",
       "      <td>NaN</td>\n",
       "      <td>NaN</td>\n",
       "      <td>NaN</td>\n",
       "      <td>NaN</td>\n",
       "      <td>NaN</td>\n",
       "      <td>NaN</td>\n",
       "      <td>27.118029</td>\n",
       "      <td>5.987016e+11</td>\n",
       "      <td>0.0</td>\n",
       "    </tr>\n",
       "    <tr>\n",
       "      <th>40309</th>\n",
       "      <td>False</td>\n",
       "      <td>True</td>\n",
       "      <td>8</td>\n",
       "      <td>ex13</td>\n",
       "      <td>75392.0</td>\n",
       "      <td>0.0</td>\n",
       "      <td>11215.0</td>\n",
       "      <td>4.0</td>\n",
       "      <td>75392.0</td>\n",
       "      <td>23.0</td>\n",
       "      <td>...</td>\n",
       "      <td>2576.0</td>\n",
       "      <td>NaN</td>\n",
       "      <td>NaN</td>\n",
       "      <td>NaN</td>\n",
       "      <td>NaN</td>\n",
       "      <td>NaN</td>\n",
       "      <td>NaN</td>\n",
       "      <td>24.925270</td>\n",
       "      <td>6.682011e+10</td>\n",
       "      <td>0.0</td>\n",
       "    </tr>\n",
       "    <tr>\n",
       "      <th>40310</th>\n",
       "      <td>False</td>\n",
       "      <td>True</td>\n",
       "      <td>8</td>\n",
       "      <td>ex13</td>\n",
       "      <td>75392.0</td>\n",
       "      <td>0.0</td>\n",
       "      <td>4521.0</td>\n",
       "      <td>7.0</td>\n",
       "      <td>75392.0</td>\n",
       "      <td>23.0</td>\n",
       "      <td>...</td>\n",
       "      <td>2576.0</td>\n",
       "      <td>NaN</td>\n",
       "      <td>NaN</td>\n",
       "      <td>NaN</td>\n",
       "      <td>NaN</td>\n",
       "      <td>NaN</td>\n",
       "      <td>NaN</td>\n",
       "      <td>23.122570</td>\n",
       "      <td>1.101551e+10</td>\n",
       "      <td>0.0</td>\n",
       "    </tr>\n",
       "    <tr>\n",
       "      <th>40311</th>\n",
       "      <td>False</td>\n",
       "      <td>True</td>\n",
       "      <td>8</td>\n",
       "      <td>ex13</td>\n",
       "      <td>75392.0</td>\n",
       "      <td>0.0</td>\n",
       "      <td>3971.0</td>\n",
       "      <td>8.0</td>\n",
       "      <td>75392.0</td>\n",
       "      <td>23.0</td>\n",
       "      <td>...</td>\n",
       "      <td>2576.0</td>\n",
       "      <td>NaN</td>\n",
       "      <td>NaN</td>\n",
       "      <td>NaN</td>\n",
       "      <td>NaN</td>\n",
       "      <td>NaN</td>\n",
       "      <td>NaN</td>\n",
       "      <td>22.867801</td>\n",
       "      <td>8.538068e+09</td>\n",
       "      <td>0.0</td>\n",
       "    </tr>\n",
       "    <tr>\n",
       "      <th>40312</th>\n",
       "      <td>False</td>\n",
       "      <td>True</td>\n",
       "      <td>8</td>\n",
       "      <td>ex13</td>\n",
       "      <td>75392.0</td>\n",
       "      <td>0.0</td>\n",
       "      <td>1816.0</td>\n",
       "      <td>14.0</td>\n",
       "      <td>75392.0</td>\n",
       "      <td>23.0</td>\n",
       "      <td>...</td>\n",
       "      <td>2576.0</td>\n",
       "      <td>NaN</td>\n",
       "      <td>NaN</td>\n",
       "      <td>NaN</td>\n",
       "      <td>NaN</td>\n",
       "      <td>NaN</td>\n",
       "      <td>NaN</td>\n",
       "      <td>21.372825</td>\n",
       "      <td>1.914697e+09</td>\n",
       "      <td>0.0</td>\n",
       "    </tr>\n",
       "    <tr>\n",
       "      <th>...</th>\n",
       "      <td>...</td>\n",
       "      <td>...</td>\n",
       "      <td>...</td>\n",
       "      <td>...</td>\n",
       "      <td>...</td>\n",
       "      <td>...</td>\n",
       "      <td>...</td>\n",
       "      <td>...</td>\n",
       "      <td>...</td>\n",
       "      <td>...</td>\n",
       "      <td>...</td>\n",
       "      <td>...</td>\n",
       "      <td>...</td>\n",
       "      <td>...</td>\n",
       "      <td>...</td>\n",
       "      <td>...</td>\n",
       "      <td>...</td>\n",
       "      <td>...</td>\n",
       "      <td>...</td>\n",
       "      <td>...</td>\n",
       "      <td>...</td>\n",
       "    </tr>\n",
       "    <tr>\n",
       "      <th>5368</th>\n",
       "      <td>False</td>\n",
       "      <td>True</td>\n",
       "      <td>3</td>\n",
       "      <td>Pres_Poisson</td>\n",
       "      <td>715804.0</td>\n",
       "      <td>0.0</td>\n",
       "      <td>66067.0</td>\n",
       "      <td>5.0</td>\n",
       "      <td>715804.0</td>\n",
       "      <td>593.0</td>\n",
       "      <td>...</td>\n",
       "      <td>14825.0</td>\n",
       "      <td>0.001</td>\n",
       "      <td>0.0</td>\n",
       "      <td>13.431053</td>\n",
       "      <td>1.719232e+09</td>\n",
       "      <td>l61qankq</td>\n",
       "      <td>royal-sweep-551</td>\n",
       "      <td>38.346162</td>\n",
       "      <td>4.503254e+16</td>\n",
       "      <td>0.0</td>\n",
       "    </tr>\n",
       "    <tr>\n",
       "      <th>5369</th>\n",
       "      <td>False</td>\n",
       "      <td>True</td>\n",
       "      <td>3</td>\n",
       "      <td>Pres_Poisson</td>\n",
       "      <td>715804.0</td>\n",
       "      <td>0.0</td>\n",
       "      <td>8627.0</td>\n",
       "      <td>25.0</td>\n",
       "      <td>715804.0</td>\n",
       "      <td>593.0</td>\n",
       "      <td>...</td>\n",
       "      <td>14825.0</td>\n",
       "      <td>0.001</td>\n",
       "      <td>1.0</td>\n",
       "      <td>16.378146</td>\n",
       "      <td>1.719232e+09</td>\n",
       "      <td>l61qankq</td>\n",
       "      <td>royal-sweep-551</td>\n",
       "      <td>38.311809</td>\n",
       "      <td>4.351184e+16</td>\n",
       "      <td>0.0</td>\n",
       "    </tr>\n",
       "    <tr>\n",
       "      <th>5370</th>\n",
       "      <td>False</td>\n",
       "      <td>True</td>\n",
       "      <td>3</td>\n",
       "      <td>Pres_Poisson</td>\n",
       "      <td>715804.0</td>\n",
       "      <td>0.0</td>\n",
       "      <td>73.0</td>\n",
       "      <td>593.0</td>\n",
       "      <td>715804.0</td>\n",
       "      <td>593.0</td>\n",
       "      <td>...</td>\n",
       "      <td>14825.0</td>\n",
       "      <td>0.001</td>\n",
       "      <td>2.0</td>\n",
       "      <td>17.304882</td>\n",
       "      <td>1.719232e+09</td>\n",
       "      <td>l61qankq</td>\n",
       "      <td>royal-sweep-551</td>\n",
       "      <td>38.311167</td>\n",
       "      <td>4.348388e+16</td>\n",
       "      <td>0.0</td>\n",
       "    </tr>\n",
       "    <tr>\n",
       "      <th>5371</th>\n",
       "      <td>False</td>\n",
       "      <td>True</td>\n",
       "      <td>3</td>\n",
       "      <td>Pres_Poisson</td>\n",
       "      <td>715804.0</td>\n",
       "      <td>0.0</td>\n",
       "      <td>13.0</td>\n",
       "      <td>2965.0</td>\n",
       "      <td>715804.0</td>\n",
       "      <td>2965.0</td>\n",
       "      <td>...</td>\n",
       "      <td>14825.0</td>\n",
       "      <td>0.001</td>\n",
       "      <td>3.0</td>\n",
       "      <td>18.811883</td>\n",
       "      <td>1.719232e+09</td>\n",
       "      <td>l61qankq</td>\n",
       "      <td>royal-sweep-551</td>\n",
       "      <td>47.967794</td>\n",
       "      <td>6.794354e+20</td>\n",
       "      <td>0.0</td>\n",
       "    </tr>\n",
       "    <tr>\n",
       "      <th>5372</th>\n",
       "      <td>False</td>\n",
       "      <td>True</td>\n",
       "      <td>3</td>\n",
       "      <td>Pres_Poisson</td>\n",
       "      <td>715804.0</td>\n",
       "      <td>0.0</td>\n",
       "      <td>1.0</td>\n",
       "      <td>14825.0</td>\n",
       "      <td>715804.0</td>\n",
       "      <td>14825.0</td>\n",
       "      <td>...</td>\n",
       "      <td>14825.0</td>\n",
       "      <td>0.001</td>\n",
       "      <td>4.0</td>\n",
       "      <td>20.266469</td>\n",
       "      <td>1.719232e+09</td>\n",
       "      <td>l61qankq</td>\n",
       "      <td>royal-sweep-551</td>\n",
       "      <td>57.624421</td>\n",
       "      <td>1.061618e+25</td>\n",
       "      <td>0.0</td>\n",
       "    </tr>\n",
       "  </tbody>\n",
       "</table>\n",
       "<p>615 rows × 21 columns</p>\n",
       "</div>"
      ]
     },
     "execution_count": 81,
     "metadata": {},
     "output_type": "execute_result"
    }
   ],
   "execution_count": 81
  },
  {
   "metadata": {
    "ExecuteTime": {
     "end_time": "2024-07-14T11:25:40.415413Z",
     "start_time": "2024-07-14T11:25:40.383555Z"
    }
   },
   "cell_type": "code",
   "source": [
    "rcm_padding_diff_df = pd.merge(rcm_on_group, rcm_off_group, on=['amd', 'padding', 'matrix_name', 'partial_gauss', 'tile_size'], suffixes=('_on', '_off'))\n",
    "rcm_padding_diff_df[\"log_obj_func_diff\"] = rcm_padding_diff_df[\"log_obj_func_on\"] - rcm_padding_diff_df[\"log_obj_func_off\"]\n",
    "rcm_padding_diff_df[\"log_obj_func_diff\"].describe()"
   ],
   "id": "ab2a8bb21c56ce6d",
   "outputs": [
    {
     "data": {
      "text/plain": [
       "count    6.150000e+02\n",
       "mean    -2.030510e-02\n",
       "std      1.488973e-01\n",
       "min     -9.831617e-01\n",
       "25%     -1.641758e-03\n",
       "50%      0.000000e+00\n",
       "75%      1.523345e-08\n",
       "max      8.163619e-01\n",
       "Name: log_obj_func_diff, dtype: float64"
      ]
     },
     "execution_count": 82,
     "metadata": {},
     "output_type": "execute_result"
    }
   ],
   "execution_count": 82
  },
  {
   "metadata": {
    "ExecuteTime": {
     "end_time": "2024-07-14T11:25:43.182588Z",
     "start_time": "2024-07-14T11:25:43.168074Z"
    }
   },
   "cell_type": "code",
   "source": "rcm_padding_df.groupby(by=['matrix_name', 'rcm'])[\"log_obj_func\"].mean()",
   "id": "efcbf4ae8debed4a",
   "outputs": [
    {
     "data": {
      "text/plain": [
       "matrix_name   rcm  \n",
       "Pres_Poisson  False    40.383752\n",
       "              True     40.319154\n",
       "bcsstk13      False    34.170528\n",
       "              True     34.239608\n",
       "ex10          False    31.322708\n",
       "              True     31.290497\n",
       "ex10hs        False    31.069110\n",
       "              True     30.990379\n",
       "ex13          False    32.887519\n",
       "              True     32.936490\n",
       "ex15          False    37.166383\n",
       "              True     37.108467\n",
       "ex3           False    31.327238\n",
       "              True     31.338405\n",
       "Name: log_obj_func, dtype: float64"
      ]
     },
     "execution_count": 83,
     "metadata": {},
     "output_type": "execute_result"
    }
   ],
   "execution_count": 83
  },
  {
   "metadata": {
    "ExecuteTime": {
     "end_time": "2024-07-14T11:25:43.198078Z",
     "start_time": "2024-07-14T11:25:43.182588Z"
    }
   },
   "cell_type": "code",
   "source": "rcm_padding_df.groupby(by=['matrix_name', 'rcm'])[\"log_obj_func\"].std()",
   "id": "7f72e6b30f8a825d",
   "outputs": [
    {
     "data": {
      "text/plain": [
       "matrix_name   rcm  \n",
       "Pres_Poisson  False    9.905740\n",
       "              True     9.956503\n",
       "bcsstk13      False    7.204764\n",
       "              True     7.136327\n",
       "ex10          False    8.289907\n",
       "              True     8.319182\n",
       "ex10hs        False    8.866506\n",
       "              True     8.931551\n",
       "ex13          False    8.657908\n",
       "              True     8.616060\n",
       "ex15          False    9.048029\n",
       "              True     9.117383\n",
       "ex3           False    8.310256\n",
       "              True     8.309291\n",
       "Name: log_obj_func, dtype: float64"
      ]
     },
     "execution_count": 84,
     "metadata": {},
     "output_type": "execute_result"
    }
   ],
   "execution_count": 84
  },
  {
   "metadata": {
    "ExecuteTime": {
     "end_time": "2024-07-14T11:25:46.021139Z",
     "start_time": "2024-07-14T11:25:45.674249Z"
    }
   },
   "cell_type": "code",
   "source": [
    "fig = px.histogram(rcm_padding_diff_df, x=\"log_obj_func_diff\", nbins=100, log_y=True, \n",
    "                   color=\"matrix_name\",\n",
    "                #  histnorm=\"probability\",  # won't add up to one overall when multiple groups are used\n",
    "                  color_discrete_map=matrix_color_map,\n",
    "                  labels={\n",
    "                      \"log_obj_func_diff\": r'$\\Delta \\log(I^6 + rI^3 + r^2I^2)$',\n",
    "                      \"matrix_name\": \"Matrix name\",\n",
    "                      \"tile_size\": \"Tile size\",\n",
    "                  })\n",
    "fig.update_layout(\n",
    "        title={\n",
    "            'text': \"Change in runtime estimates after adding RCM to Padding\",\n",
    "            'x': 0.5,\n",
    "            'xanchor': 'center',\n",
    "            'yanchor': 'top'\n",
    "        },\n",
    "        plot_bgcolor='white',  # Plot area background color\n",
    "        paper_bgcolor='white',  # Entire figure background color\n",
    "        font=dict(color='black'),  # Font color\n",
    "    )\n",
    "fig.show()\n",
    "fig.write_image(\"plots/rcm_padding_log_obj_func_diff_plot.pdf\")"
   ],
   "id": "3a7b7d12285c0b8c",
   "outputs": [
    {
     "data": {
      "application/vnd.plotly.v1+json": {
       "data": [
        {
         "alignmentgroup": "True",
         "bingroup": "x",
         "hovertemplate": "Matrix name=ex13<br>$\\Delta \\log(I^6 + rI^3 + r^2I^2)$=%{x}<br>count=%{y}<extra></extra>",
         "legendgroup": "ex13",
         "marker": {
          "color": "#EF553B",
          "pattern": {
           "shape": ""
          }
         },
         "name": "ex13",
         "nbinsx": 100,
         "offsetgroup": "ex13",
         "orientation": "v",
         "showlegend": true,
         "x": [
          0.815932001237627,
          0.38723016555268686,
          -8.704738934177669E-4,
          0.1718745795356611,
          0.1765600394861302,
          0.10022698366968896,
          0.05098802260916102,
          0.06861499199624888,
          0.006966529109064368,
          0.0020623946006530502,
          5.2245589110100354E-5,
          2.1198697780278053E-5,
          1.5537823081501756E-6,
          4.6412701237841247E-7,
          0.0,
          0.0,
          0.0,
          0.0,
          0.0,
          0.0011498387458281911,
          1.2547365901482976E-4,
          0.0,
          2.1329124813007638E-5,
          0.0,
          0.0,
          0.8163618791375065,
          0.04923404297565526,
          0.21942826349089017,
          -0.038450427365930295,
          0.02746692136798856,
          0.053906061223308654,
          0.1222073424816621,
          0.092437275468356,
          0.1024685123437763,
          0.03807714996021616,
          0.019710718819197837,
          7.061997641777396E-4,
          1.900411377278033E-4,
          4.912625470154808E-5,
          1.4460761612156148E-5,
          6.241427840336655E-6,
          3.565473924993512E-7,
          0.0,
          0.0,
          0.0,
          0.0,
          0.0,
          0.0,
          2.337625911721375E-4,
          0.0,
          0.0,
          -1.036269154042202E-6,
          0.0,
          0.0,
          0.12241291328898285,
          -7.433372628540269E-4,
          3.1332499860070584E-4,
          0.0,
          0.0,
          0.0,
          0.0,
          0.6923887026430968,
          0.031314346572980156,
          0.17173880251954898,
          0.04474925094104876,
          0.017651663333872136,
          0.006782096237703428,
          0.001105981299126313,
          3.0435457251343223E-5,
          0.0,
          0.0,
          0.0,
          0.0,
          0.0,
          0.0,
          0.0,
          2.1527457001013772E-5,
          0.0,
          0.0,
          -0.01927661737773434,
          9.302786685871922E-4,
          3.569370466394162E-5,
          0.0,
          0.0,
          0.003715683828268368,
          2.442719776922786E-4,
          0.0,
          0.0,
          0.0
         ],
         "xaxis": "x",
         "yaxis": "y",
         "type": "histogram"
        },
        {
         "alignmentgroup": "True",
         "bingroup": "x",
         "hovertemplate": "Matrix name=bcsstk13<br>$\\Delta \\log(I^6 + rI^3 + r^2I^2)$=%{x}<br>count=%{y}<extra></extra>",
         "legendgroup": "bcsstk13",
         "marker": {
          "color": "#636EFA",
          "pattern": {
           "shape": ""
          }
         },
         "name": "bcsstk13",
         "nbinsx": 100,
         "offsetgroup": "bcsstk13",
         "orientation": "v",
         "showlegend": true,
         "x": [
          0.002468725380040837,
          -6.853084499880424E-8,
          0.0,
          0.07302618939541716,
          0.09673418693981262,
          0.0652204029208292,
          0.04093672810768112,
          0.00867577582791057,
          -3.679539847922797E-6,
          -1.5629078831125298E-7,
          -4.1903760461536876E-8,
          -3.4402134474476043E-9,
          0.0,
          0.0,
          0.0,
          0.003629708023616729,
          0.0011433931281530363,
          -4.139747744602573E-8,
          0.0,
          0.0,
          0.2745855821925254,
          0.49510276589522917,
          0.4812129840906536,
          0.6835397312575751,
          0.4224279232114512,
          0.23536213571389553,
          0.048124860245806644,
          0.0026200199006147784,
          -3.3214934802572316E-6,
          -1.9359712410960128E-7,
          -1.853195712442357E-7,
          -6.800464547040974E-8,
          -6.808555497173074E-9,
          0.0,
          0.0,
          0.02163616967794013,
          0.013219921852680727,
          0.003452448647692563,
          -5.784632506333764E-7,
          -4.164959221952813E-8,
          0.0,
          0.0,
          0.04017521636133381,
          0.0045426669878523285,
          -1.928842031873046E-6,
          -3.4246809832438885E-9,
          0.0,
          0.23377474424638578,
          0.25039493875885555,
          0.052127257422242224,
          0.008536205706246136,
          3.919334021063037E-5,
          0.0,
          0.0,
          0.3704679764123888,
          0.037851788293188804,
          0.012763958175401768,
          -4.2094939800563225E-7,
          0.0,
          0.0,
          0.3285558931516377,
          0.2876507460431803,
          0.026205416650388003,
          0.0021678111733329786,
          -3.709217363478956E-6,
          -3.3938931665034033E-9,
          0.0
         ],
         "xaxis": "x",
         "yaxis": "y",
         "type": "histogram"
        },
        {
         "alignmentgroup": "True",
         "bingroup": "x",
         "hovertemplate": "Matrix name=ex10hs<br>$\\Delta \\log(I^6 + rI^3 + r^2I^2)$=%{x}<br>count=%{y}<extra></extra>",
         "legendgroup": "ex10hs",
         "marker": {
          "color": "#AB63FA",
          "pattern": {
           "shape": ""
          }
         },
         "name": "ex10hs",
         "nbinsx": 100,
         "offsetgroup": "ex10hs",
         "orientation": "v",
         "showlegend": true,
         "x": [
          -0.6536524084079112,
          -0.5631138627438439,
          -0.13826557411100282,
          -0.1934791008280463,
          -0.23557178142037927,
          -0.2771876429552975,
          -0.2003111547277534,
          -0.009149856265374012,
          -0.005213399977648692,
          -7.688670486771798E-5,
          -4.188458611764645E-5,
          0.0,
          0.0,
          0.0,
          0.0,
          0.0,
          0.0,
          -8.668052241489477E-5,
          0.0,
          0.0,
          0.0,
          -0.6569032379672777,
          -0.08689347649884738,
          -0.13086534262311744,
          -0.23487292178194963,
          -0.20343346795490902,
          -0.17317638432340132,
          -0.26393501665204866,
          -0.27931564502089046,
          -0.12241633771013483,
          -0.08578506363017269,
          -0.007476110194552632,
          -0.006351025746351269,
          -3.0326352389309363E-4,
          -1.420068500017635E-4,
          -3.4916301423493223E-5,
          0.0,
          0.0,
          0.0,
          0.0,
          0.0,
          0.0,
          0.0,
          0.0,
          -0.3281939825007605,
          -0.0977401550723691,
          -0.24351820134234003,
          -0.062277720863612274,
          -0.038173179272387614,
          -0.029776924226140977,
          -0.019011978360609305,
          -0.004757284160699982,
          -4.3035768063859337E-4,
          1.2198804135721275E-6,
          1.370026296854121E-7,
          1.0329881661164109E-7,
          1.393716075881457E-8,
          3.958589900321385E-9,
          0.0,
          0.0,
          0.0,
          -0.10134070017456054,
          -0.10590329965923573,
          -0.03911764782244731,
          -4.8766099726194057E-4,
          -9.91965997698685E-6,
          0.0,
          0.0,
          0.0,
          -0.6556026506263457,
          -0.3519516199406034,
          -0.2803237241197145,
          -0.0954347849127899,
          -0.22250989878143557,
          -0.11004175169612651,
          -0.01406762091062319,
          -0.0016805087862437063,
          -1.0068260648665728E-4,
          2.717095636484146E-6,
          0.0,
          0.0,
          0.0,
          0.0,
          0.0,
          -0.09328057722071392,
          -0.050838031153976004,
          -0.004323738187775206,
          -3.9510391074770723E-4,
          0.0,
          0.0,
          0.0,
          -1.4549301576494145E-4,
          0.0,
          0.0,
          0.0
         ],
         "xaxis": "x",
         "yaxis": "y",
         "type": "histogram"
        },
        {
         "alignmentgroup": "True",
         "bingroup": "x",
         "hovertemplate": "Matrix name=ex3<br>$\\Delta \\log(I^6 + rI^3 + r^2I^2)$=%{x}<br>count=%{y}<extra></extra>",
         "legendgroup": "ex3",
         "marker": {
          "color": "#00CC96",
          "pattern": {
           "shape": ""
          }
         },
         "name": "ex3",
         "nbinsx": 100,
         "offsetgroup": "ex3",
         "orientation": "v",
         "showlegend": true,
         "x": [
          0.4041781813817522,
          0.08444939736648394,
          -0.06247717395512353,
          0.038478979116845835,
          -0.01080482645178904,
          -0.00954556394299999,
          5.714107937180302E-4,
          6.006797125657215E-4,
          1.2133122286428488E-5,
          4.2977416114808875E-7,
          7.834838555709212E-8,
          2.1901207958308078E-8,
          4.513992735155625E-9,
          0.0,
          0.0,
          0.4196995824357437,
          0.09487251872665325,
          -0.07962785864573974,
          0.06938577769220444,
          -0.05472833127127075,
          -0.09864799933678015,
          -0.08181603808157689,
          -0.105883472593856,
          0.024110350681247894,
          0.0,
          0.003235482477847995,
          0.001512912532962929,
          8.614536018676233E-4,
          5.4278242867411564E-5,
          1.1771910152447163E-5,
          1.0893632627073657E-5,
          2.5402686070208347E-6,
          1.0102348824148066E-7,
          7.915021171811532E-8,
          1.1032120994514116E-8,
          4.559041144602816E-9,
          0.0,
          0.0,
          0.371353239130336,
          -0.003944690807799134,
          8.285536454266662E-4,
          -5.939783235930918E-6,
          2.166354803989634E-6,
          0.0,
          0.0,
          0.003592241976903665,
          -9.606145633256347E-5,
          1.0958800089611032E-8,
          0.0,
          0.0,
          -0.001386896025742601,
          7.68112825944911E-4,
          0.0,
          -0.04653410253895274,
          -3.5628439494317377E-4,
          1.1012818298183902E-4,
          2.208587090990477E-8,
          0.0,
          0.09434546448423475,
          -0.06904190229562346,
          -0.10084768838200375,
          -0.04729217057833068,
          0.019158684793339376,
          4.048517385619732E-4,
          2.795533428923136E-5,
          3.0032017050984905E-7,
          1.2972806473499077E-7,
          4.5364458856056444E-9,
          0.0,
          8.915834465739181E-5,
          4.581792723001854E-9,
          0.0,
          0.0,
          0.0,
          2.3203297750740148E-4,
          0.0,
          0.0
         ],
         "xaxis": "x",
         "yaxis": "y",
         "type": "histogram"
        },
        {
         "alignmentgroup": "True",
         "bingroup": "x",
         "hovertemplate": "Matrix name=ex10<br>$\\Delta \\log(I^6 + rI^3 + r^2I^2)$=%{x}<br>count=%{y}<extra></extra>",
         "legendgroup": "ex10",
         "marker": {
          "color": "#FFA15A",
          "pattern": {
           "shape": ""
          }
         },
         "name": "ex10",
         "nbinsx": 100,
         "offsetgroup": "ex10",
         "orientation": "v",
         "showlegend": true,
         "x": [
          -0.0971929415998467,
          -0.01302693662849208,
          -8.841586870751428E-4,
          -5.79409817401455E-4,
          4.6932573027902436E-7,
          4.171587164591983E-8,
          4.6960408894847205E-9,
          0.0,
          0.0,
          -0.20163892798354865,
          0.022766399361689338,
          -0.0033116577473677467,
          0.0552414429592929,
          -0.052854723594375486,
          -0.021865995461087806,
          -0.1375593431060338,
          0.0022723983674524106,
          5.758049155701883E-4,
          5.18361258983191E-6,
          7.967528421914949E-6,
          1.2080759859145473E-7,
          8.717837118865646E-8,
          9.311918347520987E-9,
          4.6725361357857764E-9,
          0.0,
          0.0,
          -0.22098225420197792,
          -0.1516602763170951,
          -0.15005243377069988,
          -0.25312766103763096,
          -0.35747234506056813,
          -0.2657583096449976,
          -0.053240853807057675,
          -2.70455072048037E-4,
          -3.607958772633424E-5,
          2.732809029737382E-6,
          3.6909862544121097E-7,
          5.435182259816429E-8,
          9.37090760544379E-9,
          1.9526780192791193E-9,
          0.0,
          0.0,
          0.0,
          -0.0285045474814396,
          1.7059671644403807E-4,
          1.286665507223006E-4,
          8.833790587914336E-8,
          9.430387137854268E-9,
          0.0,
          0.0,
          -0.28242635950381256,
          -0.03283952110302124,
          -0.0033913553338038582,
          -1.542623285857303E-4,
          1.1903693319936792E-6,
          0.0,
          0.0,
          -0.0016030073354222907,
          9.148400401670642E-7,
          0.0,
          -0.002656597528652327,
          -7.994972476801365E-4,
          0.0,
          -0.17848646672227986,
          -0.11193802563478528,
          0.1587561827755053,
          -0.22543132048391,
          -0.15122476532500073,
          -0.0566306947882822,
          -0.012393230420126855,
          -6.221821497121027E-4,
          -1.330550016191978E-4,
          -5.573196141028802E-5,
          2.1806485861475267E-7,
          1.652974646049188E-8,
          1.9453736399555055E-9,
          0.0,
          0.0,
          -0.17073266899730655,
          -0.074288483393115,
          -0.02543841235151234,
          0.10600394584980322,
          -0.013529223303411442,
          -0.009962468085149112,
          -0.03721701905479691,
          -0.003572482614540462,
          -4.221657073948393E-4,
          1.48870515914723E-6,
          1.654159440533931E-7,
          6.183735479226016E-8,
          1.665654281168827E-8,
          4.7197090680128895E-9,
          1.960017925739521E-9,
          0.0,
          0.0
         ],
         "xaxis": "x",
         "yaxis": "y",
         "type": "histogram"
        },
        {
         "alignmentgroup": "True",
         "bingroup": "x",
         "hovertemplate": "Matrix name=ex15<br>$\\Delta \\log(I^6 + rI^3 + r^2I^2)$=%{x}<br>count=%{y}<extra></extra>",
         "legendgroup": "ex15",
         "marker": {
          "color": "#19D3F3",
          "pattern": {
           "shape": ""
          }
         },
         "name": "ex15",
         "nbinsx": 100,
         "offsetgroup": "ex15",
         "orientation": "v",
         "showlegend": true,
         "x": [
          -0.6069234000345496,
          -0.7427525990375479,
          0.0,
          0.0,
          0.0,
          -0.41023467124277246,
          -0.1564355373936337,
          -0.7189419855549524,
          -0.025706388854956685,
          0.0,
          0.0,
          0.0,
          0.0,
          0.0,
          -0.02919404819732918,
          -0.04467763550126591,
          -0.05626595733041739,
          -0.016368544416650366,
          6.547592903061172E-5,
          -6.812402411071616E-6,
          -7.818898950517905E-8,
          -4.785782437011221E-9,
          0.0,
          -1.6763124222052284E-10,
          0.0,
          -0.5332762376197913,
          -0.00899103180211469,
          -0.0749127137467589,
          0.010493867314046668,
          -0.0072631075577760384,
          -0.0017834830872445195,
          -7.314747025013446E-4,
          -1.6905277191980872E-4,
          0.0,
          0.0,
          0.0,
          0.0,
          0.0,
          0.0,
          0.0,
          0.0,
          0.0,
          -0.00276254536971976,
          -2.167790373448497E-4,
          -4.1686466552448564E-5,
          0.0,
          0.0,
          0.0,
          0.0,
          -0.03528403339132069,
          -0.03937860805393001,
          3.068787303206477E-5,
          0.0,
          0.0,
          0.0,
          0.0,
          -0.35232821473168485,
          -0.0048049280603805755,
          -0.019792679500852728,
          0.005212708059467275,
          -0.0014788858069820776,
          -5.414664942193781E-4,
          -5.670632082157567E-4,
          0.0,
          0.0,
          0.0,
          0.0,
          0.0,
          0.0,
          0.0,
          0.0,
          -0.9831616985470681,
          -0.3719286739722705,
          -0.011657603688981055,
          -0.002307637372300775,
          5.459558585130253E-5,
          0.0,
          0.0,
          0.0,
          0.0,
          0.0,
          0.0,
          -0.025163183273846812,
          -1.5948770388973799E-4,
          -2.0513241373976143E-5,
          0.0,
          0.0,
          0.0,
          0.0,
          0.0,
          0.0
         ],
         "xaxis": "x",
         "yaxis": "y",
         "type": "histogram"
        },
        {
         "alignmentgroup": "True",
         "bingroup": "x",
         "hovertemplate": "Matrix name=Pres_Poisson<br>$\\Delta \\log(I^6 + rI^3 + r^2I^2)$=%{x}<br>count=%{y}<extra></extra>",
         "legendgroup": "Pres_Poisson",
         "marker": {
          "color": "#FF6692",
          "pattern": {
           "shape": ""
          }
         },
         "name": "Pres_Poisson",
         "nbinsx": 100,
         "offsetgroup": "Pres_Poisson",
         "orientation": "v",
         "showlegend": true,
         "x": [
          -0.4431741063539718,
          -0.289790881315497,
          -0.08172979387903467,
          -0.05503614295815851,
          -0.007613521708172755,
          -8.542916876166373E-4,
          -1.3717872415242027E-4,
          -1.1802242717351419E-5,
          -3.083579684926008E-7,
          -5.1221270780388295E-8,
          -1.5096759398147697E-9,
          -8.095213388514821E-10,
          -1.6619594589428743E-11,
          0.0,
          0.0,
          -1.5154787199378461E-5,
          -1.6612489162071142E-11,
          0.0,
          0.0,
          -0.005330571699531106,
          -4.6470381754915024E-4,
          -5.3545573038604743E-5,
          -1.0393492289040296E-8,
          -3.879065957335115E-10,
          0.0,
          0.0,
          -0.601313939095391,
          -0.7996602184531483,
          -0.6455645874572937,
          -0.1607126316532259,
          -0.01791712121333333,
          -0.01377304575315108,
          -0.007980016706579107,
          -0.002293595678175109,
          -1.537561149760336E-4,
          -3.4716044297056214E-6,
          -1.031229004411216E-7,
          -2.923748354533018E-9,
          -7.909761734481435E-11,
          0.0,
          0.0,
          0.0,
          -8.949388586643181E-6,
          0.0,
          0.0,
          -0.46389415170934,
          -0.2556929192270019,
          -0.018864824078576703,
          -0.002009907461200555,
          -2.09330034962818E-4,
          -1.3625912025361231E-5,
          -3.9855252964571264E-7,
          -1.4869165454456379E-8,
          -1.1861089888043352E-10,
          0.0,
          0.0,
          -0.5314883038240907,
          -0.2799346145632384,
          -0.4924894385363885,
          -0.29713625070236915,
          -0.2076227180530381,
          -0.06528270496541211,
          -0.09810532780321424,
          -0.008015771306475017,
          -0.03560112197590115,
          -0.02699526587163703,
          -0.005188439070742845,
          -0.011387723332848765,
          -0.020836453991272208,
          -0.010324526609490903,
          -0.001471530293397194,
          -2.0405349480867585E-4,
          -2.4571128435013634E-5,
          -5.367686569002217E-6,
          -6.278637769696616E-7,
          -1.655153880619764E-7,
          -9.076082108094852E-8,
          -2.3034850471503887E-8,
          -6.076895431306184E-9,
          -3.5750744586948713E-9,
          -8.085336844487756E-10,
          -1.185185283247847E-10,
          -1.660538373471354E-11,
          0.0,
          0.0,
          -0.28131831205309155,
          -0.07188970047843313,
          -0.035616582059930124,
          -0.12035151567013358,
          -0.04064721725759668,
          -3.8243734489640246E-4,
          -9.182842337907005E-5,
          -1.197785181261679E-6,
          -6.088136217385909E-9,
          -1.6633805444143945E-11,
          0.0,
          -0.00784091693542166,
          8.524780051999414E-5,
          -8.335953509686078E-7,
          -3.8829739423817955E-10,
          0.0
         ],
         "xaxis": "x",
         "yaxis": "y",
         "type": "histogram"
        }
       ],
       "layout": {
        "template": {
         "data": {
          "histogram2dcontour": [
           {
            "type": "histogram2dcontour",
            "colorbar": {
             "outlinewidth": 0,
             "ticks": ""
            },
            "colorscale": [
             [
              0.0,
              "#0d0887"
             ],
             [
              0.1111111111111111,
              "#46039f"
             ],
             [
              0.2222222222222222,
              "#7201a8"
             ],
             [
              0.3333333333333333,
              "#9c179e"
             ],
             [
              0.4444444444444444,
              "#bd3786"
             ],
             [
              0.5555555555555556,
              "#d8576b"
             ],
             [
              0.6666666666666666,
              "#ed7953"
             ],
             [
              0.7777777777777778,
              "#fb9f3a"
             ],
             [
              0.8888888888888888,
              "#fdca26"
             ],
             [
              1.0,
              "#f0f921"
             ]
            ]
           }
          ],
          "choropleth": [
           {
            "type": "choropleth",
            "colorbar": {
             "outlinewidth": 0,
             "ticks": ""
            }
           }
          ],
          "histogram2d": [
           {
            "type": "histogram2d",
            "colorbar": {
             "outlinewidth": 0,
             "ticks": ""
            },
            "colorscale": [
             [
              0.0,
              "#0d0887"
             ],
             [
              0.1111111111111111,
              "#46039f"
             ],
             [
              0.2222222222222222,
              "#7201a8"
             ],
             [
              0.3333333333333333,
              "#9c179e"
             ],
             [
              0.4444444444444444,
              "#bd3786"
             ],
             [
              0.5555555555555556,
              "#d8576b"
             ],
             [
              0.6666666666666666,
              "#ed7953"
             ],
             [
              0.7777777777777778,
              "#fb9f3a"
             ],
             [
              0.8888888888888888,
              "#fdca26"
             ],
             [
              1.0,
              "#f0f921"
             ]
            ]
           }
          ],
          "heatmap": [
           {
            "type": "heatmap",
            "colorbar": {
             "outlinewidth": 0,
             "ticks": ""
            },
            "colorscale": [
             [
              0.0,
              "#0d0887"
             ],
             [
              0.1111111111111111,
              "#46039f"
             ],
             [
              0.2222222222222222,
              "#7201a8"
             ],
             [
              0.3333333333333333,
              "#9c179e"
             ],
             [
              0.4444444444444444,
              "#bd3786"
             ],
             [
              0.5555555555555556,
              "#d8576b"
             ],
             [
              0.6666666666666666,
              "#ed7953"
             ],
             [
              0.7777777777777778,
              "#fb9f3a"
             ],
             [
              0.8888888888888888,
              "#fdca26"
             ],
             [
              1.0,
              "#f0f921"
             ]
            ]
           }
          ],
          "heatmapgl": [
           {
            "type": "heatmapgl",
            "colorbar": {
             "outlinewidth": 0,
             "ticks": ""
            },
            "colorscale": [
             [
              0.0,
              "#0d0887"
             ],
             [
              0.1111111111111111,
              "#46039f"
             ],
             [
              0.2222222222222222,
              "#7201a8"
             ],
             [
              0.3333333333333333,
              "#9c179e"
             ],
             [
              0.4444444444444444,
              "#bd3786"
             ],
             [
              0.5555555555555556,
              "#d8576b"
             ],
             [
              0.6666666666666666,
              "#ed7953"
             ],
             [
              0.7777777777777778,
              "#fb9f3a"
             ],
             [
              0.8888888888888888,
              "#fdca26"
             ],
             [
              1.0,
              "#f0f921"
             ]
            ]
           }
          ],
          "contourcarpet": [
           {
            "type": "contourcarpet",
            "colorbar": {
             "outlinewidth": 0,
             "ticks": ""
            }
           }
          ],
          "contour": [
           {
            "type": "contour",
            "colorbar": {
             "outlinewidth": 0,
             "ticks": ""
            },
            "colorscale": [
             [
              0.0,
              "#0d0887"
             ],
             [
              0.1111111111111111,
              "#46039f"
             ],
             [
              0.2222222222222222,
              "#7201a8"
             ],
             [
              0.3333333333333333,
              "#9c179e"
             ],
             [
              0.4444444444444444,
              "#bd3786"
             ],
             [
              0.5555555555555556,
              "#d8576b"
             ],
             [
              0.6666666666666666,
              "#ed7953"
             ],
             [
              0.7777777777777778,
              "#fb9f3a"
             ],
             [
              0.8888888888888888,
              "#fdca26"
             ],
             [
              1.0,
              "#f0f921"
             ]
            ]
           }
          ],
          "surface": [
           {
            "type": "surface",
            "colorbar": {
             "outlinewidth": 0,
             "ticks": ""
            },
            "colorscale": [
             [
              0.0,
              "#0d0887"
             ],
             [
              0.1111111111111111,
              "#46039f"
             ],
             [
              0.2222222222222222,
              "#7201a8"
             ],
             [
              0.3333333333333333,
              "#9c179e"
             ],
             [
              0.4444444444444444,
              "#bd3786"
             ],
             [
              0.5555555555555556,
              "#d8576b"
             ],
             [
              0.6666666666666666,
              "#ed7953"
             ],
             [
              0.7777777777777778,
              "#fb9f3a"
             ],
             [
              0.8888888888888888,
              "#fdca26"
             ],
             [
              1.0,
              "#f0f921"
             ]
            ]
           }
          ],
          "mesh3d": [
           {
            "type": "mesh3d",
            "colorbar": {
             "outlinewidth": 0,
             "ticks": ""
            }
           }
          ],
          "scatter": [
           {
            "marker": {
             "line": {
              "color": "#283442"
             }
            },
            "type": "scatter"
           }
          ],
          "parcoords": [
           {
            "type": "parcoords",
            "line": {
             "colorbar": {
              "outlinewidth": 0,
              "ticks": ""
             }
            }
           }
          ],
          "scatterpolargl": [
           {
            "type": "scatterpolargl",
            "marker": {
             "colorbar": {
              "outlinewidth": 0,
              "ticks": ""
             }
            }
           }
          ],
          "bar": [
           {
            "error_x": {
             "color": "#f2f5fa"
            },
            "error_y": {
             "color": "#f2f5fa"
            },
            "marker": {
             "line": {
              "color": "rgb(17,17,17)",
              "width": 0.5
             },
             "pattern": {
              "fillmode": "overlay",
              "size": 10,
              "solidity": 0.2
             }
            },
            "type": "bar"
           }
          ],
          "scattergeo": [
           {
            "type": "scattergeo",
            "marker": {
             "colorbar": {
              "outlinewidth": 0,
              "ticks": ""
             }
            }
           }
          ],
          "scatterpolar": [
           {
            "type": "scatterpolar",
            "marker": {
             "colorbar": {
              "outlinewidth": 0,
              "ticks": ""
             }
            }
           }
          ],
          "histogram": [
           {
            "marker": {
             "pattern": {
              "fillmode": "overlay",
              "size": 10,
              "solidity": 0.2
             }
            },
            "type": "histogram"
           }
          ],
          "scattergl": [
           {
            "marker": {
             "line": {
              "color": "#283442"
             }
            },
            "type": "scattergl"
           }
          ],
          "scatter3d": [
           {
            "type": "scatter3d",
            "line": {
             "colorbar": {
              "outlinewidth": 0,
              "ticks": ""
             }
            },
            "marker": {
             "colorbar": {
              "outlinewidth": 0,
              "ticks": ""
             }
            }
           }
          ],
          "scattermapbox": [
           {
            "type": "scattermapbox",
            "marker": {
             "colorbar": {
              "outlinewidth": 0,
              "ticks": ""
             }
            }
           }
          ],
          "scatterternary": [
           {
            "type": "scatterternary",
            "marker": {
             "colorbar": {
              "outlinewidth": 0,
              "ticks": ""
             }
            }
           }
          ],
          "scattercarpet": [
           {
            "type": "scattercarpet",
            "marker": {
             "colorbar": {
              "outlinewidth": 0,
              "ticks": ""
             }
            }
           }
          ],
          "carpet": [
           {
            "aaxis": {
             "endlinecolor": "#A2B1C6",
             "gridcolor": "#506784",
             "linecolor": "#506784",
             "minorgridcolor": "#506784",
             "startlinecolor": "#A2B1C6"
            },
            "baxis": {
             "endlinecolor": "#A2B1C6",
             "gridcolor": "#506784",
             "linecolor": "#506784",
             "minorgridcolor": "#506784",
             "startlinecolor": "#A2B1C6"
            },
            "type": "carpet"
           }
          ],
          "table": [
           {
            "cells": {
             "fill": {
              "color": "#506784"
             },
             "line": {
              "color": "rgb(17,17,17)"
             }
            },
            "header": {
             "fill": {
              "color": "#2a3f5f"
             },
             "line": {
              "color": "rgb(17,17,17)"
             }
            },
            "type": "table"
           }
          ],
          "barpolar": [
           {
            "marker": {
             "line": {
              "color": "rgb(17,17,17)",
              "width": 0.5
             },
             "pattern": {
              "fillmode": "overlay",
              "size": 10,
              "solidity": 0.2
             }
            },
            "type": "barpolar"
           }
          ],
          "pie": [
           {
            "automargin": true,
            "type": "pie"
           }
          ]
         },
         "layout": {
          "autotypenumbers": "strict",
          "colorway": [
           "#636efa",
           "#EF553B",
           "#00cc96",
           "#ab63fa",
           "#FFA15A",
           "#19d3f3",
           "#FF6692",
           "#B6E880",
           "#FF97FF",
           "#FECB52"
          ],
          "font": {
           "color": "#f2f5fa"
          },
          "hovermode": "closest",
          "hoverlabel": {
           "align": "left"
          },
          "paper_bgcolor": "rgb(17,17,17)",
          "plot_bgcolor": "rgb(17,17,17)",
          "polar": {
           "bgcolor": "rgb(17,17,17)",
           "angularaxis": {
            "gridcolor": "#506784",
            "linecolor": "#506784",
            "ticks": ""
           },
           "radialaxis": {
            "gridcolor": "#506784",
            "linecolor": "#506784",
            "ticks": ""
           }
          },
          "ternary": {
           "bgcolor": "rgb(17,17,17)",
           "aaxis": {
            "gridcolor": "#506784",
            "linecolor": "#506784",
            "ticks": ""
           },
           "baxis": {
            "gridcolor": "#506784",
            "linecolor": "#506784",
            "ticks": ""
           },
           "caxis": {
            "gridcolor": "#506784",
            "linecolor": "#506784",
            "ticks": ""
           }
          },
          "coloraxis": {
           "colorbar": {
            "outlinewidth": 0,
            "ticks": ""
           }
          },
          "colorscale": {
           "sequential": [
            [
             0.0,
             "#0d0887"
            ],
            [
             0.1111111111111111,
             "#46039f"
            ],
            [
             0.2222222222222222,
             "#7201a8"
            ],
            [
             0.3333333333333333,
             "#9c179e"
            ],
            [
             0.4444444444444444,
             "#bd3786"
            ],
            [
             0.5555555555555556,
             "#d8576b"
            ],
            [
             0.6666666666666666,
             "#ed7953"
            ],
            [
             0.7777777777777778,
             "#fb9f3a"
            ],
            [
             0.8888888888888888,
             "#fdca26"
            ],
            [
             1.0,
             "#f0f921"
            ]
           ],
           "sequentialminus": [
            [
             0.0,
             "#0d0887"
            ],
            [
             0.1111111111111111,
             "#46039f"
            ],
            [
             0.2222222222222222,
             "#7201a8"
            ],
            [
             0.3333333333333333,
             "#9c179e"
            ],
            [
             0.4444444444444444,
             "#bd3786"
            ],
            [
             0.5555555555555556,
             "#d8576b"
            ],
            [
             0.6666666666666666,
             "#ed7953"
            ],
            [
             0.7777777777777778,
             "#fb9f3a"
            ],
            [
             0.8888888888888888,
             "#fdca26"
            ],
            [
             1.0,
             "#f0f921"
            ]
           ],
           "diverging": [
            [
             0,
             "#8e0152"
            ],
            [
             0.1,
             "#c51b7d"
            ],
            [
             0.2,
             "#de77ae"
            ],
            [
             0.3,
             "#f1b6da"
            ],
            [
             0.4,
             "#fde0ef"
            ],
            [
             0.5,
             "#f7f7f7"
            ],
            [
             0.6,
             "#e6f5d0"
            ],
            [
             0.7,
             "#b8e186"
            ],
            [
             0.8,
             "#7fbc41"
            ],
            [
             0.9,
             "#4d9221"
            ],
            [
             1,
             "#276419"
            ]
           ]
          },
          "xaxis": {
           "gridcolor": "#283442",
           "linecolor": "#506784",
           "ticks": "",
           "title": {
            "standoff": 15
           },
           "zerolinecolor": "#283442",
           "automargin": true,
           "zerolinewidth": 2
          },
          "yaxis": {
           "gridcolor": "#283442",
           "linecolor": "#506784",
           "ticks": "",
           "title": {
            "standoff": 15
           },
           "zerolinecolor": "#283442",
           "automargin": true,
           "zerolinewidth": 2
          },
          "scene": {
           "xaxis": {
            "backgroundcolor": "rgb(17,17,17)",
            "gridcolor": "#506784",
            "linecolor": "#506784",
            "showbackground": true,
            "ticks": "",
            "zerolinecolor": "#C8D4E3",
            "gridwidth": 2
           },
           "yaxis": {
            "backgroundcolor": "rgb(17,17,17)",
            "gridcolor": "#506784",
            "linecolor": "#506784",
            "showbackground": true,
            "ticks": "",
            "zerolinecolor": "#C8D4E3",
            "gridwidth": 2
           },
           "zaxis": {
            "backgroundcolor": "rgb(17,17,17)",
            "gridcolor": "#506784",
            "linecolor": "#506784",
            "showbackground": true,
            "ticks": "",
            "zerolinecolor": "#C8D4E3",
            "gridwidth": 2
           }
          },
          "shapedefaults": {
           "line": {
            "color": "#f2f5fa"
           }
          },
          "annotationdefaults": {
           "arrowcolor": "#f2f5fa",
           "arrowhead": 0,
           "arrowwidth": 1
          },
          "geo": {
           "bgcolor": "rgb(17,17,17)",
           "landcolor": "rgb(17,17,17)",
           "subunitcolor": "#506784",
           "showland": true,
           "showlakes": true,
           "lakecolor": "rgb(17,17,17)"
          },
          "title": {
           "x": 0.05
          },
          "updatemenudefaults": {
           "bgcolor": "#506784",
           "borderwidth": 0
          },
          "sliderdefaults": {
           "bgcolor": "#C8D4E3",
           "borderwidth": 1,
           "bordercolor": "rgb(17,17,17)",
           "tickwidth": 0
          },
          "mapbox": {
           "style": "dark"
          }
         }
        },
        "xaxis": {
         "anchor": "y",
         "domain": [
          0.0,
          1.0
         ],
         "title": {
          "text": "$\\Delta \\log(I^6 + rI^3 + r^2I^2)$"
         }
        },
        "yaxis": {
         "anchor": "x",
         "domain": [
          0.0,
          1.0
         ],
         "title": {
          "text": "count"
         },
         "type": "log"
        },
        "legend": {
         "title": {
          "text": "Matrix name"
         },
         "tracegroupgap": 0
        },
        "margin": {
         "t": 60
        },
        "barmode": "relative",
        "title": {
         "text": "Change in runtime estimates after adding RCM to Padding",
         "x": 0.5,
         "xanchor": "center",
         "yanchor": "top"
        },
        "font": {
         "color": "black"
        },
        "plot_bgcolor": "white",
        "paper_bgcolor": "white"
       },
       "config": {
        "plotlyServerURL": "https://plot.ly"
       }
      },
      "text/html": [
       "<div>                            <div id=\"035042ea-6b57-4000-b8c7-b003651d92b8\" class=\"plotly-graph-div\" style=\"height:525px; width:100%;\"></div>            <script type=\"text/javascript\">                require([\"plotly\"], function(Plotly) {                    window.PLOTLYENV=window.PLOTLYENV || {};                                    if (document.getElementById(\"035042ea-6b57-4000-b8c7-b003651d92b8\")) {                    Plotly.newPlot(                        \"035042ea-6b57-4000-b8c7-b003651d92b8\",                        [{\"alignmentgroup\":\"True\",\"bingroup\":\"x\",\"hovertemplate\":\"Matrix name=ex13\\u003cbr\\u003e$\\\\Delta \\\\log(I^6 + rI^3 + r^2I^2)$=%{x}\\u003cbr\\u003ecount=%{y}\\u003cextra\\u003e\\u003c\\u002fextra\\u003e\",\"legendgroup\":\"ex13\",\"marker\":{\"color\":\"#EF553B\",\"pattern\":{\"shape\":\"\"}},\"name\":\"ex13\",\"nbinsx\":100,\"offsetgroup\":\"ex13\",\"orientation\":\"v\",\"showlegend\":true,\"x\":[0.815932001237627,0.38723016555268686,-0.0008704738934177669,0.1718745795356611,0.1765600394861302,0.10022698366968896,0.05098802260916102,0.06861499199624888,0.006966529109064368,0.0020623946006530502,5.2245589110100354e-05,2.1198697780278053e-05,1.5537823081501756e-06,4.6412701237841247e-07,0.0,0.0,0.0,0.0,0.0,0.0011498387458281911,0.00012547365901482976,0.0,2.1329124813007638e-05,0.0,0.0,0.8163618791375065,0.04923404297565526,0.21942826349089017,-0.038450427365930295,0.02746692136798856,0.053906061223308654,0.1222073424816621,0.092437275468356,0.1024685123437763,0.03807714996021616,0.019710718819197837,0.0007061997641777396,0.0001900411377278033,4.912625470154808e-05,1.4460761612156148e-05,6.241427840336655e-06,3.565473924993512e-07,0.0,0.0,0.0,0.0,0.0,0.0,0.0002337625911721375,0.0,0.0,-1.036269154042202e-06,0.0,0.0,0.12241291328898285,-0.0007433372628540269,0.00031332499860070584,0.0,0.0,0.0,0.0,0.6923887026430968,0.031314346572980156,0.17173880251954898,0.04474925094104876,0.017651663333872136,0.006782096237703428,0.001105981299126313,3.0435457251343223e-05,0.0,0.0,0.0,0.0,0.0,0.0,0.0,2.1527457001013772e-05,0.0,0.0,-0.01927661737773434,0.0009302786685871922,3.569370466394162e-05,0.0,0.0,0.003715683828268368,0.0002442719776922786,0.0,0.0,0.0],\"xaxis\":\"x\",\"yaxis\":\"y\",\"type\":\"histogram\"},{\"alignmentgroup\":\"True\",\"bingroup\":\"x\",\"hovertemplate\":\"Matrix name=bcsstk13\\u003cbr\\u003e$\\\\Delta \\\\log(I^6 + rI^3 + r^2I^2)$=%{x}\\u003cbr\\u003ecount=%{y}\\u003cextra\\u003e\\u003c\\u002fextra\\u003e\",\"legendgroup\":\"bcsstk13\",\"marker\":{\"color\":\"#636EFA\",\"pattern\":{\"shape\":\"\"}},\"name\":\"bcsstk13\",\"nbinsx\":100,\"offsetgroup\":\"bcsstk13\",\"orientation\":\"v\",\"showlegend\":true,\"x\":[0.002468725380040837,-6.853084499880424e-08,0.0,0.07302618939541716,0.09673418693981262,0.0652204029208292,0.04093672810768112,0.00867577582791057,-3.679539847922797e-06,-1.5629078831125298e-07,-4.1903760461536876e-08,-3.4402134474476043e-09,0.0,0.0,0.0,0.003629708023616729,0.0011433931281530363,-4.139747744602573e-08,0.0,0.0,0.2745855821925254,0.49510276589522917,0.4812129840906536,0.6835397312575751,0.4224279232114512,0.23536213571389553,0.048124860245806644,0.0026200199006147784,-3.3214934802572316e-06,-1.9359712410960128e-07,-1.853195712442357e-07,-6.800464547040974e-08,-6.808555497173074e-09,0.0,0.0,0.02163616967794013,0.013219921852680727,0.003452448647692563,-5.784632506333764e-07,-4.164959221952813e-08,0.0,0.0,0.04017521636133381,0.0045426669878523285,-1.928842031873046e-06,-3.4246809832438885e-09,0.0,0.23377474424638578,0.25039493875885555,0.052127257422242224,0.008536205706246136,3.919334021063037e-05,0.0,0.0,0.3704679764123888,0.037851788293188804,0.012763958175401768,-4.2094939800563225e-07,0.0,0.0,0.3285558931516377,0.2876507460431803,0.026205416650388003,0.0021678111733329786,-3.709217363478956e-06,-3.3938931665034033e-09,0.0],\"xaxis\":\"x\",\"yaxis\":\"y\",\"type\":\"histogram\"},{\"alignmentgroup\":\"True\",\"bingroup\":\"x\",\"hovertemplate\":\"Matrix name=ex10hs\\u003cbr\\u003e$\\\\Delta \\\\log(I^6 + rI^3 + r^2I^2)$=%{x}\\u003cbr\\u003ecount=%{y}\\u003cextra\\u003e\\u003c\\u002fextra\\u003e\",\"legendgroup\":\"ex10hs\",\"marker\":{\"color\":\"#AB63FA\",\"pattern\":{\"shape\":\"\"}},\"name\":\"ex10hs\",\"nbinsx\":100,\"offsetgroup\":\"ex10hs\",\"orientation\":\"v\",\"showlegend\":true,\"x\":[-0.6536524084079112,-0.5631138627438439,-0.13826557411100282,-0.1934791008280463,-0.23557178142037927,-0.2771876429552975,-0.2003111547277534,-0.009149856265374012,-0.005213399977648692,-7.688670486771798e-05,-4.188458611764645e-05,0.0,0.0,0.0,0.0,0.0,0.0,-8.668052241489477e-05,0.0,0.0,0.0,-0.6569032379672777,-0.08689347649884738,-0.13086534262311744,-0.23487292178194963,-0.20343346795490902,-0.17317638432340132,-0.26393501665204866,-0.27931564502089046,-0.12241633771013483,-0.08578506363017269,-0.007476110194552632,-0.006351025746351269,-0.00030326352389309363,-0.0001420068500017635,-3.4916301423493223e-05,0.0,0.0,0.0,0.0,0.0,0.0,0.0,0.0,-0.3281939825007605,-0.0977401550723691,-0.24351820134234003,-0.062277720863612274,-0.038173179272387614,-0.029776924226140977,-0.019011978360609305,-0.004757284160699982,-0.00043035768063859337,1.2198804135721275e-06,1.370026296854121e-07,1.0329881661164109e-07,1.393716075881457e-08,3.958589900321385e-09,0.0,0.0,0.0,-0.10134070017456054,-0.10590329965923573,-0.03911764782244731,-0.00048766099726194057,-9.91965997698685e-06,0.0,0.0,0.0,-0.6556026506263457,-0.3519516199406034,-0.2803237241197145,-0.0954347849127899,-0.22250989878143557,-0.11004175169612651,-0.01406762091062319,-0.0016805087862437063,-0.00010068260648665728,2.717095636484146e-06,0.0,0.0,0.0,0.0,0.0,-0.09328057722071392,-0.050838031153976004,-0.004323738187775206,-0.00039510391074770723,0.0,0.0,0.0,-0.00014549301576494145,0.0,0.0,0.0],\"xaxis\":\"x\",\"yaxis\":\"y\",\"type\":\"histogram\"},{\"alignmentgroup\":\"True\",\"bingroup\":\"x\",\"hovertemplate\":\"Matrix name=ex3\\u003cbr\\u003e$\\\\Delta \\\\log(I^6 + rI^3 + r^2I^2)$=%{x}\\u003cbr\\u003ecount=%{y}\\u003cextra\\u003e\\u003c\\u002fextra\\u003e\",\"legendgroup\":\"ex3\",\"marker\":{\"color\":\"#00CC96\",\"pattern\":{\"shape\":\"\"}},\"name\":\"ex3\",\"nbinsx\":100,\"offsetgroup\":\"ex3\",\"orientation\":\"v\",\"showlegend\":true,\"x\":[0.4041781813817522,0.08444939736648394,-0.06247717395512353,0.038478979116845835,-0.01080482645178904,-0.00954556394299999,0.0005714107937180302,0.0006006797125657215,1.2133122286428488e-05,4.2977416114808875e-07,7.834838555709212e-08,2.1901207958308078e-08,4.513992735155625e-09,0.0,0.0,0.4196995824357437,0.09487251872665325,-0.07962785864573974,0.06938577769220444,-0.05472833127127075,-0.09864799933678015,-0.08181603808157689,-0.105883472593856,0.024110350681247894,0.0,0.003235482477847995,0.001512912532962929,0.0008614536018676233,5.4278242867411564e-05,1.1771910152447163e-05,1.0893632627073657e-05,2.5402686070208347e-06,1.0102348824148066e-07,7.915021171811532e-08,1.1032120994514116e-08,4.559041144602816e-09,0.0,0.0,0.371353239130336,-0.003944690807799134,0.0008285536454266662,-5.939783235930918e-06,2.166354803989634e-06,0.0,0.0,0.003592241976903665,-9.606145633256347e-05,1.0958800089611032e-08,0.0,0.0,-0.001386896025742601,0.000768112825944911,0.0,-0.04653410253895274,-0.00035628439494317377,0.00011012818298183902,2.208587090990477e-08,0.0,0.09434546448423475,-0.06904190229562346,-0.10084768838200375,-0.04729217057833068,0.019158684793339376,0.0004048517385619732,2.795533428923136e-05,3.0032017050984905e-07,1.2972806473499077e-07,4.5364458856056444e-09,0.0,8.915834465739181e-05,4.581792723001854e-09,0.0,0.0,0.0,0.00023203297750740148,0.0,0.0],\"xaxis\":\"x\",\"yaxis\":\"y\",\"type\":\"histogram\"},{\"alignmentgroup\":\"True\",\"bingroup\":\"x\",\"hovertemplate\":\"Matrix name=ex10\\u003cbr\\u003e$\\\\Delta \\\\log(I^6 + rI^3 + r^2I^2)$=%{x}\\u003cbr\\u003ecount=%{y}\\u003cextra\\u003e\\u003c\\u002fextra\\u003e\",\"legendgroup\":\"ex10\",\"marker\":{\"color\":\"#FFA15A\",\"pattern\":{\"shape\":\"\"}},\"name\":\"ex10\",\"nbinsx\":100,\"offsetgroup\":\"ex10\",\"orientation\":\"v\",\"showlegend\":true,\"x\":[-0.0971929415998467,-0.01302693662849208,-0.0008841586870751428,-0.000579409817401455,4.6932573027902436e-07,4.171587164591983e-08,4.6960408894847205e-09,0.0,0.0,-0.20163892798354865,0.022766399361689338,-0.0033116577473677467,0.0552414429592929,-0.052854723594375486,-0.021865995461087806,-0.1375593431060338,0.0022723983674524106,0.0005758049155701883,5.18361258983191e-06,7.967528421914949e-06,1.2080759859145473e-07,8.717837118865646e-08,9.311918347520987e-09,4.6725361357857764e-09,0.0,0.0,-0.22098225420197792,-0.1516602763170951,-0.15005243377069988,-0.25312766103763096,-0.35747234506056813,-0.2657583096449976,-0.053240853807057675,-0.000270455072048037,-3.607958772633424e-05,2.732809029737382e-06,3.6909862544121097e-07,5.435182259816429e-08,9.37090760544379e-09,1.9526780192791193e-09,0.0,0.0,0.0,-0.0285045474814396,0.00017059671644403807,0.0001286665507223006,8.833790587914336e-08,9.430387137854268e-09,0.0,0.0,-0.28242635950381256,-0.03283952110302124,-0.0033913553338038582,-0.0001542623285857303,1.1903693319936792e-06,0.0,0.0,-0.0016030073354222907,9.148400401670642e-07,0.0,-0.002656597528652327,-0.0007994972476801365,0.0,-0.17848646672227986,-0.11193802563478528,0.1587561827755053,-0.22543132048391,-0.15122476532500073,-0.0566306947882822,-0.012393230420126855,-0.0006221821497121027,-0.0001330550016191978,-5.573196141028802e-05,2.1806485861475267e-07,1.652974646049188e-08,1.9453736399555055e-09,0.0,0.0,-0.17073266899730655,-0.074288483393115,-0.02543841235151234,0.10600394584980322,-0.013529223303411442,-0.009962468085149112,-0.03721701905479691,-0.003572482614540462,-0.0004221657073948393,1.48870515914723e-06,1.654159440533931e-07,6.183735479226016e-08,1.665654281168827e-08,4.7197090680128895e-09,1.960017925739521e-09,0.0,0.0],\"xaxis\":\"x\",\"yaxis\":\"y\",\"type\":\"histogram\"},{\"alignmentgroup\":\"True\",\"bingroup\":\"x\",\"hovertemplate\":\"Matrix name=ex15\\u003cbr\\u003e$\\\\Delta \\\\log(I^6 + rI^3 + r^2I^2)$=%{x}\\u003cbr\\u003ecount=%{y}\\u003cextra\\u003e\\u003c\\u002fextra\\u003e\",\"legendgroup\":\"ex15\",\"marker\":{\"color\":\"#19D3F3\",\"pattern\":{\"shape\":\"\"}},\"name\":\"ex15\",\"nbinsx\":100,\"offsetgroup\":\"ex15\",\"orientation\":\"v\",\"showlegend\":true,\"x\":[-0.6069234000345496,-0.7427525990375479,0.0,0.0,0.0,-0.41023467124277246,-0.1564355373936337,-0.7189419855549524,-0.025706388854956685,0.0,0.0,0.0,0.0,0.0,-0.02919404819732918,-0.04467763550126591,-0.05626595733041739,-0.016368544416650366,6.547592903061172e-05,-6.812402411071616e-06,-7.818898950517905e-08,-4.785782437011221e-09,0.0,-1.6763124222052284e-10,0.0,-0.5332762376197913,-0.00899103180211469,-0.0749127137467589,0.010493867314046668,-0.0072631075577760384,-0.0017834830872445195,-0.0007314747025013446,-0.00016905277191980872,0.0,0.0,0.0,0.0,0.0,0.0,0.0,0.0,0.0,-0.00276254536971976,-0.0002167790373448497,-4.1686466552448564e-05,0.0,0.0,0.0,0.0,-0.03528403339132069,-0.03937860805393001,3.068787303206477e-05,0.0,0.0,0.0,0.0,-0.35232821473168485,-0.0048049280603805755,-0.019792679500852728,0.005212708059467275,-0.0014788858069820776,-0.0005414664942193781,-0.0005670632082157567,0.0,0.0,0.0,0.0,0.0,0.0,0.0,0.0,-0.9831616985470681,-0.3719286739722705,-0.011657603688981055,-0.002307637372300775,5.459558585130253e-05,0.0,0.0,0.0,0.0,0.0,0.0,-0.025163183273846812,-0.00015948770388973799,-2.0513241373976143e-05,0.0,0.0,0.0,0.0,0.0,0.0],\"xaxis\":\"x\",\"yaxis\":\"y\",\"type\":\"histogram\"},{\"alignmentgroup\":\"True\",\"bingroup\":\"x\",\"hovertemplate\":\"Matrix name=Pres_Poisson\\u003cbr\\u003e$\\\\Delta \\\\log(I^6 + rI^3 + r^2I^2)$=%{x}\\u003cbr\\u003ecount=%{y}\\u003cextra\\u003e\\u003c\\u002fextra\\u003e\",\"legendgroup\":\"Pres_Poisson\",\"marker\":{\"color\":\"#FF6692\",\"pattern\":{\"shape\":\"\"}},\"name\":\"Pres_Poisson\",\"nbinsx\":100,\"offsetgroup\":\"Pres_Poisson\",\"orientation\":\"v\",\"showlegend\":true,\"x\":[-0.4431741063539718,-0.289790881315497,-0.08172979387903467,-0.05503614295815851,-0.007613521708172755,-0.0008542916876166373,-0.00013717872415242027,-1.1802242717351419e-05,-3.083579684926008e-07,-5.1221270780388295e-08,-1.5096759398147697e-09,-8.095213388514821e-10,-1.6619594589428743e-11,0.0,0.0,-1.5154787199378461e-05,-1.6612489162071142e-11,0.0,0.0,-0.005330571699531106,-0.00046470381754915024,-5.3545573038604743e-05,-1.0393492289040296e-08,-3.879065957335115e-10,0.0,0.0,-0.601313939095391,-0.7996602184531483,-0.6455645874572937,-0.1607126316532259,-0.01791712121333333,-0.01377304575315108,-0.007980016706579107,-0.002293595678175109,-0.0001537561149760336,-3.4716044297056214e-06,-1.031229004411216e-07,-2.923748354533018e-09,-7.909761734481435e-11,0.0,0.0,0.0,-8.949388586643181e-06,0.0,0.0,-0.46389415170934,-0.2556929192270019,-0.018864824078576703,-0.002009907461200555,-0.000209330034962818,-1.3625912025361231e-05,-3.9855252964571264e-07,-1.4869165454456379e-08,-1.1861089888043352e-10,0.0,0.0,-0.5314883038240907,-0.2799346145632384,-0.4924894385363885,-0.29713625070236915,-0.2076227180530381,-0.06528270496541211,-0.09810532780321424,-0.008015771306475017,-0.03560112197590115,-0.02699526587163703,-0.005188439070742845,-0.011387723332848765,-0.020836453991272208,-0.010324526609490903,-0.001471530293397194,-0.00020405349480867585,-2.4571128435013634e-05,-5.367686569002217e-06,-6.278637769696616e-07,-1.655153880619764e-07,-9.076082108094852e-08,-2.3034850471503887e-08,-6.076895431306184e-09,-3.5750744586948713e-09,-8.085336844487756e-10,-1.185185283247847e-10,-1.660538373471354e-11,0.0,0.0,-0.28131831205309155,-0.07188970047843313,-0.035616582059930124,-0.12035151567013358,-0.04064721725759668,-0.00038243734489640246,-9.182842337907005e-05,-1.197785181261679e-06,-6.088136217385909e-09,-1.6633805444143945e-11,0.0,-0.00784091693542166,8.524780051999414e-05,-8.335953509686078e-07,-3.8829739423817955e-10,0.0],\"xaxis\":\"x\",\"yaxis\":\"y\",\"type\":\"histogram\"}],                        {\"template\":{\"data\":{\"histogram2dcontour\":[{\"type\":\"histogram2dcontour\",\"colorbar\":{\"outlinewidth\":0,\"ticks\":\"\"},\"colorscale\":[[0.0,\"#0d0887\"],[0.1111111111111111,\"#46039f\"],[0.2222222222222222,\"#7201a8\"],[0.3333333333333333,\"#9c179e\"],[0.4444444444444444,\"#bd3786\"],[0.5555555555555556,\"#d8576b\"],[0.6666666666666666,\"#ed7953\"],[0.7777777777777778,\"#fb9f3a\"],[0.8888888888888888,\"#fdca26\"],[1.0,\"#f0f921\"]]}],\"choropleth\":[{\"type\":\"choropleth\",\"colorbar\":{\"outlinewidth\":0,\"ticks\":\"\"}}],\"histogram2d\":[{\"type\":\"histogram2d\",\"colorbar\":{\"outlinewidth\":0,\"ticks\":\"\"},\"colorscale\":[[0.0,\"#0d0887\"],[0.1111111111111111,\"#46039f\"],[0.2222222222222222,\"#7201a8\"],[0.3333333333333333,\"#9c179e\"],[0.4444444444444444,\"#bd3786\"],[0.5555555555555556,\"#d8576b\"],[0.6666666666666666,\"#ed7953\"],[0.7777777777777778,\"#fb9f3a\"],[0.8888888888888888,\"#fdca26\"],[1.0,\"#f0f921\"]]}],\"heatmap\":[{\"type\":\"heatmap\",\"colorbar\":{\"outlinewidth\":0,\"ticks\":\"\"},\"colorscale\":[[0.0,\"#0d0887\"],[0.1111111111111111,\"#46039f\"],[0.2222222222222222,\"#7201a8\"],[0.3333333333333333,\"#9c179e\"],[0.4444444444444444,\"#bd3786\"],[0.5555555555555556,\"#d8576b\"],[0.6666666666666666,\"#ed7953\"],[0.7777777777777778,\"#fb9f3a\"],[0.8888888888888888,\"#fdca26\"],[1.0,\"#f0f921\"]]}],\"heatmapgl\":[{\"type\":\"heatmapgl\",\"colorbar\":{\"outlinewidth\":0,\"ticks\":\"\"},\"colorscale\":[[0.0,\"#0d0887\"],[0.1111111111111111,\"#46039f\"],[0.2222222222222222,\"#7201a8\"],[0.3333333333333333,\"#9c179e\"],[0.4444444444444444,\"#bd3786\"],[0.5555555555555556,\"#d8576b\"],[0.6666666666666666,\"#ed7953\"],[0.7777777777777778,\"#fb9f3a\"],[0.8888888888888888,\"#fdca26\"],[1.0,\"#f0f921\"]]}],\"contourcarpet\":[{\"type\":\"contourcarpet\",\"colorbar\":{\"outlinewidth\":0,\"ticks\":\"\"}}],\"contour\":[{\"type\":\"contour\",\"colorbar\":{\"outlinewidth\":0,\"ticks\":\"\"},\"colorscale\":[[0.0,\"#0d0887\"],[0.1111111111111111,\"#46039f\"],[0.2222222222222222,\"#7201a8\"],[0.3333333333333333,\"#9c179e\"],[0.4444444444444444,\"#bd3786\"],[0.5555555555555556,\"#d8576b\"],[0.6666666666666666,\"#ed7953\"],[0.7777777777777778,\"#fb9f3a\"],[0.8888888888888888,\"#fdca26\"],[1.0,\"#f0f921\"]]}],\"surface\":[{\"type\":\"surface\",\"colorbar\":{\"outlinewidth\":0,\"ticks\":\"\"},\"colorscale\":[[0.0,\"#0d0887\"],[0.1111111111111111,\"#46039f\"],[0.2222222222222222,\"#7201a8\"],[0.3333333333333333,\"#9c179e\"],[0.4444444444444444,\"#bd3786\"],[0.5555555555555556,\"#d8576b\"],[0.6666666666666666,\"#ed7953\"],[0.7777777777777778,\"#fb9f3a\"],[0.8888888888888888,\"#fdca26\"],[1.0,\"#f0f921\"]]}],\"mesh3d\":[{\"type\":\"mesh3d\",\"colorbar\":{\"outlinewidth\":0,\"ticks\":\"\"}}],\"scatter\":[{\"marker\":{\"line\":{\"color\":\"#283442\"}},\"type\":\"scatter\"}],\"parcoords\":[{\"type\":\"parcoords\",\"line\":{\"colorbar\":{\"outlinewidth\":0,\"ticks\":\"\"}}}],\"scatterpolargl\":[{\"type\":\"scatterpolargl\",\"marker\":{\"colorbar\":{\"outlinewidth\":0,\"ticks\":\"\"}}}],\"bar\":[{\"error_x\":{\"color\":\"#f2f5fa\"},\"error_y\":{\"color\":\"#f2f5fa\"},\"marker\":{\"line\":{\"color\":\"rgb(17,17,17)\",\"width\":0.5},\"pattern\":{\"fillmode\":\"overlay\",\"size\":10,\"solidity\":0.2}},\"type\":\"bar\"}],\"scattergeo\":[{\"type\":\"scattergeo\",\"marker\":{\"colorbar\":{\"outlinewidth\":0,\"ticks\":\"\"}}}],\"scatterpolar\":[{\"type\":\"scatterpolar\",\"marker\":{\"colorbar\":{\"outlinewidth\":0,\"ticks\":\"\"}}}],\"histogram\":[{\"marker\":{\"pattern\":{\"fillmode\":\"overlay\",\"size\":10,\"solidity\":0.2}},\"type\":\"histogram\"}],\"scattergl\":[{\"marker\":{\"line\":{\"color\":\"#283442\"}},\"type\":\"scattergl\"}],\"scatter3d\":[{\"type\":\"scatter3d\",\"line\":{\"colorbar\":{\"outlinewidth\":0,\"ticks\":\"\"}},\"marker\":{\"colorbar\":{\"outlinewidth\":0,\"ticks\":\"\"}}}],\"scattermapbox\":[{\"type\":\"scattermapbox\",\"marker\":{\"colorbar\":{\"outlinewidth\":0,\"ticks\":\"\"}}}],\"scatterternary\":[{\"type\":\"scatterternary\",\"marker\":{\"colorbar\":{\"outlinewidth\":0,\"ticks\":\"\"}}}],\"scattercarpet\":[{\"type\":\"scattercarpet\",\"marker\":{\"colorbar\":{\"outlinewidth\":0,\"ticks\":\"\"}}}],\"carpet\":[{\"aaxis\":{\"endlinecolor\":\"#A2B1C6\",\"gridcolor\":\"#506784\",\"linecolor\":\"#506784\",\"minorgridcolor\":\"#506784\",\"startlinecolor\":\"#A2B1C6\"},\"baxis\":{\"endlinecolor\":\"#A2B1C6\",\"gridcolor\":\"#506784\",\"linecolor\":\"#506784\",\"minorgridcolor\":\"#506784\",\"startlinecolor\":\"#A2B1C6\"},\"type\":\"carpet\"}],\"table\":[{\"cells\":{\"fill\":{\"color\":\"#506784\"},\"line\":{\"color\":\"rgb(17,17,17)\"}},\"header\":{\"fill\":{\"color\":\"#2a3f5f\"},\"line\":{\"color\":\"rgb(17,17,17)\"}},\"type\":\"table\"}],\"barpolar\":[{\"marker\":{\"line\":{\"color\":\"rgb(17,17,17)\",\"width\":0.5},\"pattern\":{\"fillmode\":\"overlay\",\"size\":10,\"solidity\":0.2}},\"type\":\"barpolar\"}],\"pie\":[{\"automargin\":true,\"type\":\"pie\"}]},\"layout\":{\"autotypenumbers\":\"strict\",\"colorway\":[\"#636efa\",\"#EF553B\",\"#00cc96\",\"#ab63fa\",\"#FFA15A\",\"#19d3f3\",\"#FF6692\",\"#B6E880\",\"#FF97FF\",\"#FECB52\"],\"font\":{\"color\":\"#f2f5fa\"},\"hovermode\":\"closest\",\"hoverlabel\":{\"align\":\"left\"},\"paper_bgcolor\":\"rgb(17,17,17)\",\"plot_bgcolor\":\"rgb(17,17,17)\",\"polar\":{\"bgcolor\":\"rgb(17,17,17)\",\"angularaxis\":{\"gridcolor\":\"#506784\",\"linecolor\":\"#506784\",\"ticks\":\"\"},\"radialaxis\":{\"gridcolor\":\"#506784\",\"linecolor\":\"#506784\",\"ticks\":\"\"}},\"ternary\":{\"bgcolor\":\"rgb(17,17,17)\",\"aaxis\":{\"gridcolor\":\"#506784\",\"linecolor\":\"#506784\",\"ticks\":\"\"},\"baxis\":{\"gridcolor\":\"#506784\",\"linecolor\":\"#506784\",\"ticks\":\"\"},\"caxis\":{\"gridcolor\":\"#506784\",\"linecolor\":\"#506784\",\"ticks\":\"\"}},\"coloraxis\":{\"colorbar\":{\"outlinewidth\":0,\"ticks\":\"\"}},\"colorscale\":{\"sequential\":[[0.0,\"#0d0887\"],[0.1111111111111111,\"#46039f\"],[0.2222222222222222,\"#7201a8\"],[0.3333333333333333,\"#9c179e\"],[0.4444444444444444,\"#bd3786\"],[0.5555555555555556,\"#d8576b\"],[0.6666666666666666,\"#ed7953\"],[0.7777777777777778,\"#fb9f3a\"],[0.8888888888888888,\"#fdca26\"],[1.0,\"#f0f921\"]],\"sequentialminus\":[[0.0,\"#0d0887\"],[0.1111111111111111,\"#46039f\"],[0.2222222222222222,\"#7201a8\"],[0.3333333333333333,\"#9c179e\"],[0.4444444444444444,\"#bd3786\"],[0.5555555555555556,\"#d8576b\"],[0.6666666666666666,\"#ed7953\"],[0.7777777777777778,\"#fb9f3a\"],[0.8888888888888888,\"#fdca26\"],[1.0,\"#f0f921\"]],\"diverging\":[[0,\"#8e0152\"],[0.1,\"#c51b7d\"],[0.2,\"#de77ae\"],[0.3,\"#f1b6da\"],[0.4,\"#fde0ef\"],[0.5,\"#f7f7f7\"],[0.6,\"#e6f5d0\"],[0.7,\"#b8e186\"],[0.8,\"#7fbc41\"],[0.9,\"#4d9221\"],[1,\"#276419\"]]},\"xaxis\":{\"gridcolor\":\"#283442\",\"linecolor\":\"#506784\",\"ticks\":\"\",\"title\":{\"standoff\":15},\"zerolinecolor\":\"#283442\",\"automargin\":true,\"zerolinewidth\":2},\"yaxis\":{\"gridcolor\":\"#283442\",\"linecolor\":\"#506784\",\"ticks\":\"\",\"title\":{\"standoff\":15},\"zerolinecolor\":\"#283442\",\"automargin\":true,\"zerolinewidth\":2},\"scene\":{\"xaxis\":{\"backgroundcolor\":\"rgb(17,17,17)\",\"gridcolor\":\"#506784\",\"linecolor\":\"#506784\",\"showbackground\":true,\"ticks\":\"\",\"zerolinecolor\":\"#C8D4E3\",\"gridwidth\":2},\"yaxis\":{\"backgroundcolor\":\"rgb(17,17,17)\",\"gridcolor\":\"#506784\",\"linecolor\":\"#506784\",\"showbackground\":true,\"ticks\":\"\",\"zerolinecolor\":\"#C8D4E3\",\"gridwidth\":2},\"zaxis\":{\"backgroundcolor\":\"rgb(17,17,17)\",\"gridcolor\":\"#506784\",\"linecolor\":\"#506784\",\"showbackground\":true,\"ticks\":\"\",\"zerolinecolor\":\"#C8D4E3\",\"gridwidth\":2}},\"shapedefaults\":{\"line\":{\"color\":\"#f2f5fa\"}},\"annotationdefaults\":{\"arrowcolor\":\"#f2f5fa\",\"arrowhead\":0,\"arrowwidth\":1},\"geo\":{\"bgcolor\":\"rgb(17,17,17)\",\"landcolor\":\"rgb(17,17,17)\",\"subunitcolor\":\"#506784\",\"showland\":true,\"showlakes\":true,\"lakecolor\":\"rgb(17,17,17)\"},\"title\":{\"x\":0.05},\"updatemenudefaults\":{\"bgcolor\":\"#506784\",\"borderwidth\":0},\"sliderdefaults\":{\"bgcolor\":\"#C8D4E3\",\"borderwidth\":1,\"bordercolor\":\"rgb(17,17,17)\",\"tickwidth\":0},\"mapbox\":{\"style\":\"dark\"}}},\"xaxis\":{\"anchor\":\"y\",\"domain\":[0.0,1.0],\"title\":{\"text\":\"$\\\\Delta \\\\log(I^6 + rI^3 + r^2I^2)$\"}},\"yaxis\":{\"anchor\":\"x\",\"domain\":[0.0,1.0],\"title\":{\"text\":\"count\"},\"type\":\"log\"},\"legend\":{\"title\":{\"text\":\"Matrix name\"},\"tracegroupgap\":0},\"margin\":{\"t\":60},\"barmode\":\"relative\",\"title\":{\"text\":\"Change in runtime estimates after adding RCM to Padding\",\"x\":0.5,\"xanchor\":\"center\",\"yanchor\":\"top\"},\"font\":{\"color\":\"black\"},\"plot_bgcolor\":\"white\",\"paper_bgcolor\":\"white\"},                        {\"responsive\": true}                    ).then(function(){\n",
       "                            \n",
       "var gd = document.getElementById('035042ea-6b57-4000-b8c7-b003651d92b8');\n",
       "var x = new MutationObserver(function (mutations, observer) {{\n",
       "        var display = window.getComputedStyle(gd).display;\n",
       "        if (!display || display === 'none') {{\n",
       "            console.log([gd, 'removed!']);\n",
       "            Plotly.purge(gd);\n",
       "            observer.disconnect();\n",
       "        }}\n",
       "}});\n",
       "\n",
       "// Listen for the removal of the full notebook cells\n",
       "var notebookContainer = gd.closest('#notebook-container');\n",
       "if (notebookContainer) {{\n",
       "    x.observe(notebookContainer, {childList: true});\n",
       "}}\n",
       "\n",
       "// Listen for the clearing of the current output cell\n",
       "var outputEl = gd.closest('.output');\n",
       "if (outputEl) {{\n",
       "    x.observe(outputEl, {childList: true});\n",
       "}}\n",
       "\n",
       "                        })                };                });            </script>        </div>"
      ]
     },
     "metadata": {},
     "output_type": "display_data"
    }
   ],
   "execution_count": 85
  },
  {
   "metadata": {
    "ExecuteTime": {
     "end_time": "2024-07-14T11:25:48.349684Z",
     "start_time": "2024-07-14T11:25:48.323388Z"
    }
   },
   "cell_type": "code",
   "source": [
    "# this initial analysis indicates that RCM on top of padding generally helps a bit, sometimes it makes things worse. Most often, it does not lead to significant changes. For more understanding, would need to look at separate cases in more detail, skip for now.\n",
    "# Now I just have to make this visually nice and write it down in the report."
   ],
   "id": "d2d5d6d12d41ee95",
   "outputs": [],
   "execution_count": 86
  },
  {
   "metadata": {
    "ExecuteTime": {
     "end_time": "2024-07-14T11:25:48.365399Z",
     "start_time": "2024-07-14T11:25:48.349684Z"
    }
   },
   "cell_type": "code",
   "source": [
    "# todo: perhaps I can do the above difference plot as follows:\n",
    "# - consider one improvement (e.g. rcm)\n",
    "# - against a set of different baselines - use color for these, see which of the baselines improve the most with added stuff\n",
    "# - this also allows us to evaluate combined baselines easier"
   ],
   "id": "9b285c614204d59b",
   "outputs": [],
   "execution_count": 87
  },
  {
   "metadata": {
    "ExecuteTime": {
     "end_time": "2024-07-14T11:25:48.381498Z",
     "start_time": "2024-07-14T11:25:48.368423Z"
    }
   },
   "cell_type": "code",
   "source": "",
   "id": "efaf521ff892bc24",
   "outputs": [],
   "execution_count": 87
  },
  {
   "metadata": {},
   "cell_type": "markdown",
   "source": "PG then Padding",
   "id": "59b379f4bed728d"
  },
  {
   "metadata": {
    "ExecuteTime": {
     "end_time": "2024-07-14T11:25:51.199580Z",
     "start_time": "2024-07-14T11:25:50.860165Z"
    }
   },
   "cell_type": "code",
   "source": [
    "# here we have enough data samples, only consider best tile size choices\n",
    "# for now, consider PG as baseline - see how adding Padding effects the situation\n",
    "pg_padding_df"
   ],
   "id": "6dcdcde0713f4063",
   "outputs": [
    {
     "data": {
      "text/plain": [
       "        amd    rcm  padding   matrix_name    z_full  partial_gauss     rank  \\\n",
       "0     False  False       10      bcsstk13   70264.0            0.0  18672.0   \n",
       "1     False  False       10      bcsstk13   70264.0            0.0   3355.0   \n",
       "2     False  False       10      bcsstk13   70264.0            0.0    755.0   \n",
       "3     False  False       10      bcsstk13   70264.0            0.0    339.0   \n",
       "4     False  False       10      bcsstk13   70264.0            0.0     75.0   \n",
       "...     ...    ...      ...           ...       ...            ...      ...   \n",
       "5477  False  False        3  Pres_Poisson  623389.0            5.0     23.0   \n",
       "5478  False  False        3  Pres_Poisson  623389.0            5.0     16.0   \n",
       "5479  False  False        3  Pres_Poisson  623389.0            5.0      9.0   \n",
       "5480  False  False        3  Pres_Poisson  623389.0            5.0      4.0   \n",
       "5481  False  False        3  Pres_Poisson  623389.0            5.0      1.0   \n",
       "\n",
       "      tile_size  z_reduced  max_mode_size  ...        n  gauss_threshold  \\\n",
       "0           3.0    70264.0           61.0  ...   2013.0              NaN   \n",
       "1          11.0    70264.0           61.0  ...   2013.0              NaN   \n",
       "2          33.0    70264.0           61.0  ...   2013.0              NaN   \n",
       "3          61.0    70264.0           61.0  ...   2013.0              NaN   \n",
       "4         183.0    70264.0          183.0  ...   2013.0              NaN   \n",
       "...         ...        ...            ...  ...      ...              ...   \n",
       "5477     2964.0   717825.0         2964.0  ...  14820.0            0.001   \n",
       "5478     3705.0   717825.0         3705.0  ...  14820.0            0.001   \n",
       "5479     4940.0   717825.0         4940.0  ...  14820.0            0.001   \n",
       "5480     7410.0   717825.0         7410.0  ...  14820.0            0.001   \n",
       "5481    14820.0   717825.0        14820.0  ...  14820.0            0.001   \n",
       "\n",
       "      _step    _runtime    _timestamp    run_id          run_name  \\\n",
       "0       NaN         NaN           NaN       NaN               NaN   \n",
       "1       NaN         NaN           NaN       NaN               NaN   \n",
       "2       NaN         NaN           NaN       NaN               NaN   \n",
       "3       NaN         NaN           NaN       NaN               NaN   \n",
       "4       NaN         NaN           NaN       NaN               NaN   \n",
       "...     ...         ...           ...       ...               ...   \n",
       "5477   42.0  165.556299  1.719232e+09  4pz79sl5  astral-sweep-562   \n",
       "5478   43.0  167.174069  1.719232e+09  4pz79sl5  astral-sweep-562   \n",
       "5479   44.0  168.776308  1.719232e+09  4pz79sl5  astral-sweep-562   \n",
       "5480   45.0  170.299981  1.719232e+09  4pz79sl5  astral-sweep-562   \n",
       "5481   46.0  171.761003  1.719232e+09  4pz79sl5  astral-sweep-562   \n",
       "\n",
       "     log_obj_func      obj_func  reduced_variable_percentage  \n",
       "0       27.933391  1.353061e+12                     0.000000  \n",
       "1       25.268320  9.416556e+10                     0.000000  \n",
       "2       24.708777  5.381281e+10                     0.000000  \n",
       "3       24.674989  5.202494e+10                     0.000000  \n",
       "4       31.256934  3.755900e+13                     0.000000  \n",
       "...           ...           ...                          ...  \n",
       "5477    47.965770  6.780617e+20                     0.000337  \n",
       "5478    49.304631  2.586600e+21                     0.000337  \n",
       "5479    51.030724  1.453321e+22                     0.000337  \n",
       "5480    53.463514  1.655424e+23                     0.000337  \n",
       "5481    57.622397  1.059471e+25                     0.000337  \n",
       "\n",
       "[596859 rows x 21 columns]"
      ],
      "text/html": [
       "<div>\n",
       "<style scoped>\n",
       "    .dataframe tbody tr th:only-of-type {\n",
       "        vertical-align: middle;\n",
       "    }\n",
       "\n",
       "    .dataframe tbody tr th {\n",
       "        vertical-align: top;\n",
       "    }\n",
       "\n",
       "    .dataframe thead th {\n",
       "        text-align: right;\n",
       "    }\n",
       "</style>\n",
       "<table border=\"1\" class=\"dataframe\">\n",
       "  <thead>\n",
       "    <tr style=\"text-align: right;\">\n",
       "      <th></th>\n",
       "      <th>amd</th>\n",
       "      <th>rcm</th>\n",
       "      <th>padding</th>\n",
       "      <th>matrix_name</th>\n",
       "      <th>z_full</th>\n",
       "      <th>partial_gauss</th>\n",
       "      <th>rank</th>\n",
       "      <th>tile_size</th>\n",
       "      <th>z_reduced</th>\n",
       "      <th>max_mode_size</th>\n",
       "      <th>...</th>\n",
       "      <th>n</th>\n",
       "      <th>gauss_threshold</th>\n",
       "      <th>_step</th>\n",
       "      <th>_runtime</th>\n",
       "      <th>_timestamp</th>\n",
       "      <th>run_id</th>\n",
       "      <th>run_name</th>\n",
       "      <th>log_obj_func</th>\n",
       "      <th>obj_func</th>\n",
       "      <th>reduced_variable_percentage</th>\n",
       "    </tr>\n",
       "  </thead>\n",
       "  <tbody>\n",
       "    <tr>\n",
       "      <th>0</th>\n",
       "      <td>False</td>\n",
       "      <td>False</td>\n",
       "      <td>10</td>\n",
       "      <td>bcsstk13</td>\n",
       "      <td>70264.0</td>\n",
       "      <td>0.0</td>\n",
       "      <td>18672.0</td>\n",
       "      <td>3.0</td>\n",
       "      <td>70264.0</td>\n",
       "      <td>61.0</td>\n",
       "      <td>...</td>\n",
       "      <td>2013.0</td>\n",
       "      <td>NaN</td>\n",
       "      <td>NaN</td>\n",
       "      <td>NaN</td>\n",
       "      <td>NaN</td>\n",
       "      <td>NaN</td>\n",
       "      <td>NaN</td>\n",
       "      <td>27.933391</td>\n",
       "      <td>1.353061e+12</td>\n",
       "      <td>0.000000</td>\n",
       "    </tr>\n",
       "    <tr>\n",
       "      <th>1</th>\n",
       "      <td>False</td>\n",
       "      <td>False</td>\n",
       "      <td>10</td>\n",
       "      <td>bcsstk13</td>\n",
       "      <td>70264.0</td>\n",
       "      <td>0.0</td>\n",
       "      <td>3355.0</td>\n",
       "      <td>11.0</td>\n",
       "      <td>70264.0</td>\n",
       "      <td>61.0</td>\n",
       "      <td>...</td>\n",
       "      <td>2013.0</td>\n",
       "      <td>NaN</td>\n",
       "      <td>NaN</td>\n",
       "      <td>NaN</td>\n",
       "      <td>NaN</td>\n",
       "      <td>NaN</td>\n",
       "      <td>NaN</td>\n",
       "      <td>25.268320</td>\n",
       "      <td>9.416556e+10</td>\n",
       "      <td>0.000000</td>\n",
       "    </tr>\n",
       "    <tr>\n",
       "      <th>2</th>\n",
       "      <td>False</td>\n",
       "      <td>False</td>\n",
       "      <td>10</td>\n",
       "      <td>bcsstk13</td>\n",
       "      <td>70264.0</td>\n",
       "      <td>0.0</td>\n",
       "      <td>755.0</td>\n",
       "      <td>33.0</td>\n",
       "      <td>70264.0</td>\n",
       "      <td>61.0</td>\n",
       "      <td>...</td>\n",
       "      <td>2013.0</td>\n",
       "      <td>NaN</td>\n",
       "      <td>NaN</td>\n",
       "      <td>NaN</td>\n",
       "      <td>NaN</td>\n",
       "      <td>NaN</td>\n",
       "      <td>NaN</td>\n",
       "      <td>24.708777</td>\n",
       "      <td>5.381281e+10</td>\n",
       "      <td>0.000000</td>\n",
       "    </tr>\n",
       "    <tr>\n",
       "      <th>3</th>\n",
       "      <td>False</td>\n",
       "      <td>False</td>\n",
       "      <td>10</td>\n",
       "      <td>bcsstk13</td>\n",
       "      <td>70264.0</td>\n",
       "      <td>0.0</td>\n",
       "      <td>339.0</td>\n",
       "      <td>61.0</td>\n",
       "      <td>70264.0</td>\n",
       "      <td>61.0</td>\n",
       "      <td>...</td>\n",
       "      <td>2013.0</td>\n",
       "      <td>NaN</td>\n",
       "      <td>NaN</td>\n",
       "      <td>NaN</td>\n",
       "      <td>NaN</td>\n",
       "      <td>NaN</td>\n",
       "      <td>NaN</td>\n",
       "      <td>24.674989</td>\n",
       "      <td>5.202494e+10</td>\n",
       "      <td>0.000000</td>\n",
       "    </tr>\n",
       "    <tr>\n",
       "      <th>4</th>\n",
       "      <td>False</td>\n",
       "      <td>False</td>\n",
       "      <td>10</td>\n",
       "      <td>bcsstk13</td>\n",
       "      <td>70264.0</td>\n",
       "      <td>0.0</td>\n",
       "      <td>75.0</td>\n",
       "      <td>183.0</td>\n",
       "      <td>70264.0</td>\n",
       "      <td>183.0</td>\n",
       "      <td>...</td>\n",
       "      <td>2013.0</td>\n",
       "      <td>NaN</td>\n",
       "      <td>NaN</td>\n",
       "      <td>NaN</td>\n",
       "      <td>NaN</td>\n",
       "      <td>NaN</td>\n",
       "      <td>NaN</td>\n",
       "      <td>31.256934</td>\n",
       "      <td>3.755900e+13</td>\n",
       "      <td>0.000000</td>\n",
       "    </tr>\n",
       "    <tr>\n",
       "      <th>...</th>\n",
       "      <td>...</td>\n",
       "      <td>...</td>\n",
       "      <td>...</td>\n",
       "      <td>...</td>\n",
       "      <td>...</td>\n",
       "      <td>...</td>\n",
       "      <td>...</td>\n",
       "      <td>...</td>\n",
       "      <td>...</td>\n",
       "      <td>...</td>\n",
       "      <td>...</td>\n",
       "      <td>...</td>\n",
       "      <td>...</td>\n",
       "      <td>...</td>\n",
       "      <td>...</td>\n",
       "      <td>...</td>\n",
       "      <td>...</td>\n",
       "      <td>...</td>\n",
       "      <td>...</td>\n",
       "      <td>...</td>\n",
       "      <td>...</td>\n",
       "    </tr>\n",
       "    <tr>\n",
       "      <th>5477</th>\n",
       "      <td>False</td>\n",
       "      <td>False</td>\n",
       "      <td>3</td>\n",
       "      <td>Pres_Poisson</td>\n",
       "      <td>623389.0</td>\n",
       "      <td>5.0</td>\n",
       "      <td>23.0</td>\n",
       "      <td>2964.0</td>\n",
       "      <td>717825.0</td>\n",
       "      <td>2964.0</td>\n",
       "      <td>...</td>\n",
       "      <td>14820.0</td>\n",
       "      <td>0.001</td>\n",
       "      <td>42.0</td>\n",
       "      <td>165.556299</td>\n",
       "      <td>1.719232e+09</td>\n",
       "      <td>4pz79sl5</td>\n",
       "      <td>astral-sweep-562</td>\n",
       "      <td>47.965770</td>\n",
       "      <td>6.780617e+20</td>\n",
       "      <td>0.000337</td>\n",
       "    </tr>\n",
       "    <tr>\n",
       "      <th>5478</th>\n",
       "      <td>False</td>\n",
       "      <td>False</td>\n",
       "      <td>3</td>\n",
       "      <td>Pres_Poisson</td>\n",
       "      <td>623389.0</td>\n",
       "      <td>5.0</td>\n",
       "      <td>16.0</td>\n",
       "      <td>3705.0</td>\n",
       "      <td>717825.0</td>\n",
       "      <td>3705.0</td>\n",
       "      <td>...</td>\n",
       "      <td>14820.0</td>\n",
       "      <td>0.001</td>\n",
       "      <td>43.0</td>\n",
       "      <td>167.174069</td>\n",
       "      <td>1.719232e+09</td>\n",
       "      <td>4pz79sl5</td>\n",
       "      <td>astral-sweep-562</td>\n",
       "      <td>49.304631</td>\n",
       "      <td>2.586600e+21</td>\n",
       "      <td>0.000337</td>\n",
       "    </tr>\n",
       "    <tr>\n",
       "      <th>5479</th>\n",
       "      <td>False</td>\n",
       "      <td>False</td>\n",
       "      <td>3</td>\n",
       "      <td>Pres_Poisson</td>\n",
       "      <td>623389.0</td>\n",
       "      <td>5.0</td>\n",
       "      <td>9.0</td>\n",
       "      <td>4940.0</td>\n",
       "      <td>717825.0</td>\n",
       "      <td>4940.0</td>\n",
       "      <td>...</td>\n",
       "      <td>14820.0</td>\n",
       "      <td>0.001</td>\n",
       "      <td>44.0</td>\n",
       "      <td>168.776308</td>\n",
       "      <td>1.719232e+09</td>\n",
       "      <td>4pz79sl5</td>\n",
       "      <td>astral-sweep-562</td>\n",
       "      <td>51.030724</td>\n",
       "      <td>1.453321e+22</td>\n",
       "      <td>0.000337</td>\n",
       "    </tr>\n",
       "    <tr>\n",
       "      <th>5480</th>\n",
       "      <td>False</td>\n",
       "      <td>False</td>\n",
       "      <td>3</td>\n",
       "      <td>Pres_Poisson</td>\n",
       "      <td>623389.0</td>\n",
       "      <td>5.0</td>\n",
       "      <td>4.0</td>\n",
       "      <td>7410.0</td>\n",
       "      <td>717825.0</td>\n",
       "      <td>7410.0</td>\n",
       "      <td>...</td>\n",
       "      <td>14820.0</td>\n",
       "      <td>0.001</td>\n",
       "      <td>45.0</td>\n",
       "      <td>170.299981</td>\n",
       "      <td>1.719232e+09</td>\n",
       "      <td>4pz79sl5</td>\n",
       "      <td>astral-sweep-562</td>\n",
       "      <td>53.463514</td>\n",
       "      <td>1.655424e+23</td>\n",
       "      <td>0.000337</td>\n",
       "    </tr>\n",
       "    <tr>\n",
       "      <th>5481</th>\n",
       "      <td>False</td>\n",
       "      <td>False</td>\n",
       "      <td>3</td>\n",
       "      <td>Pres_Poisson</td>\n",
       "      <td>623389.0</td>\n",
       "      <td>5.0</td>\n",
       "      <td>1.0</td>\n",
       "      <td>14820.0</td>\n",
       "      <td>717825.0</td>\n",
       "      <td>14820.0</td>\n",
       "      <td>...</td>\n",
       "      <td>14820.0</td>\n",
       "      <td>0.001</td>\n",
       "      <td>46.0</td>\n",
       "      <td>171.761003</td>\n",
       "      <td>1.719232e+09</td>\n",
       "      <td>4pz79sl5</td>\n",
       "      <td>astral-sweep-562</td>\n",
       "      <td>57.622397</td>\n",
       "      <td>1.059471e+25</td>\n",
       "      <td>0.000337</td>\n",
       "    </tr>\n",
       "  </tbody>\n",
       "</table>\n",
       "<p>596859 rows × 21 columns</p>\n",
       "</div>"
      ]
     },
     "execution_count": 88,
     "metadata": {},
     "output_type": "execute_result"
    }
   ],
   "execution_count": 88
  },
  {
   "metadata": {
    "ExecuteTime": {
     "end_time": "2024-07-14T11:44:16.134345Z",
     "start_time": "2024-07-14T11:44:10.749216Z"
    }
   },
   "cell_type": "code",
   "source": [
    "idx = pg_padding_df.groupby(by=['matrix_name', 'padding', 'partial_gauss'])['log_obj_func'].idxmin()\n",
    "pg_padding_tile_agg_df = pg_padding_df.loc[idx].reset_index(drop=True)\n",
    "\n",
    "pg_padding_tile_agg_df[\"log_obj_func\"] = round(pg_padding_tile_agg_df[\"log_obj_func\"], 2)"
   ],
   "id": "42145a7d06d9e89b",
   "outputs": [],
   "execution_count": 107
  },
  {
   "metadata": {
    "ExecuteTime": {
     "end_time": "2024-07-14T12:28:50.358826Z",
     "start_time": "2024-07-14T12:28:50.337152Z"
    }
   },
   "cell_type": "code",
   "source": "pg_padding_const_tile_agg_df = pg_padding_tile_agg_df[(pg_padding_tile_agg_df[\"matrix_name\"] == \"ex3\") & (abs(pg_padding_tile_agg_df[\"partial_gauss\"] - pg_padding_tile_agg_df[\"padding\"]) == 2)]",
   "id": "e5dce4f60f204b47",
   "outputs": [],
   "execution_count": 122
  },
  {
   "metadata": {
    "ExecuteTime": {
     "end_time": "2024-07-14T12:28:53.008217Z",
     "start_time": "2024-07-14T12:28:52.946138Z"
    }
   },
   "cell_type": "code",
   "source": [
    "matrix_name = \"ex3\"\n",
    "fig = px.scatter(pg_padding_const_tile_agg_df[(pg_padding_tile_agg_df[\"matrix_name\"] == matrix_name)], x=\"log_obj_func\",\n",
    "                   # y=\"padding\", color='log_obj_func', # symbol=\"log_obj_func\",\n",
    "                 # color_discrete_sequence=colors, \n",
    "                 # trendline=\"ols\", trendline_scope=\"overall\", trendline_color_override=\"lime\", trendline_options=dict(log_y=True),\n",
    "                 # symbol=\"matrix_name\", color_discrete_map=matrix_color_map,\n",
    "              labels={\n",
    "                     \"tile_size\": \"Tile size\",\n",
    "                     \"matrix_name\": \"Matrix name\",\n",
    "                  \"reduced_variable_percentage\": \"Ratio of reduced variables\",\n",
    "                  \"num_possible_tiles\": \"Number of possible<br>tile size choices\"\n",
    "                 }\n",
    "              )\n",
    "fig.update_layout(\n",
    "    title={\n",
    "        'text': \"Influence of variable elimination on TT-MALS runtime for {}\".format(matrix_name),\n",
    "        'x':0.5,\n",
    "        'xanchor': 'center',\n",
    "        'yanchor': 'top'\n",
    "    },\n",
    "    plot_bgcolor='white',   # Plot area background color\n",
    "    paper_bgcolor='white',  # Entire figure background color\n",
    "    font=dict(color='black'), # Font color\n",
    "    # yaxis_title=r'$\\log(I^6 + rI^3 + r^2I^2)$'\n",
    ")\n",
    "fig.show()"
   ],
   "id": "8b02d5aec361d887",
   "outputs": [
    {
     "name": "stderr",
     "output_type": "stream",
     "text": [
      "C:\\Users\\bakos\\AppData\\Local\\Temp\\ipykernel_26472\\3831631199.py:2: UserWarning:\n",
      "\n",
      "Boolean Series key will be reindexed to match DataFrame index.\n",
      "\n"
     ]
    },
    {
     "data": {
      "application/vnd.plotly.v1+json": {
       "data": [
        {
         "hovertemplate": "log_obj_func=%{x}<br>index=%{y}<extra></extra>",
         "legendgroup": "",
         "marker": {
          "color": "#636efa",
          "symbol": "circle"
         },
         "mode": "markers",
         "name": "",
         "orientation": "h",
         "showlegend": false,
         "x": [
          28.04,
          28.04,
          45.05,
          28.04,
          45.05,
          28.04,
          45.05,
          28.04,
          45.05,
          28.04,
          45.05,
          28.04,
          45.05,
          28.04,
          45.05,
          28.04,
          45.05,
          28.04,
          45.05,
          28.04
         ],
         "xaxis": "x",
         "y": [
          65532,
          67171,
          68806,
          68810,
          70445,
          70449,
          72084,
          72088,
          73723,
          73727,
          75362,
          75366,
          77001,
          77005,
          78640,
          78644,
          80279,
          80283,
          81918,
          81922
         ],
         "yaxis": "y",
         "type": "scatter"
        }
       ],
       "layout": {
        "template": {
         "data": {
          "histogram2dcontour": [
           {
            "type": "histogram2dcontour",
            "colorbar": {
             "outlinewidth": 0,
             "ticks": ""
            },
            "colorscale": [
             [
              0.0,
              "#0d0887"
             ],
             [
              0.1111111111111111,
              "#46039f"
             ],
             [
              0.2222222222222222,
              "#7201a8"
             ],
             [
              0.3333333333333333,
              "#9c179e"
             ],
             [
              0.4444444444444444,
              "#bd3786"
             ],
             [
              0.5555555555555556,
              "#d8576b"
             ],
             [
              0.6666666666666666,
              "#ed7953"
             ],
             [
              0.7777777777777778,
              "#fb9f3a"
             ],
             [
              0.8888888888888888,
              "#fdca26"
             ],
             [
              1.0,
              "#f0f921"
             ]
            ]
           }
          ],
          "choropleth": [
           {
            "type": "choropleth",
            "colorbar": {
             "outlinewidth": 0,
             "ticks": ""
            }
           }
          ],
          "histogram2d": [
           {
            "type": "histogram2d",
            "colorbar": {
             "outlinewidth": 0,
             "ticks": ""
            },
            "colorscale": [
             [
              0.0,
              "#0d0887"
             ],
             [
              0.1111111111111111,
              "#46039f"
             ],
             [
              0.2222222222222222,
              "#7201a8"
             ],
             [
              0.3333333333333333,
              "#9c179e"
             ],
             [
              0.4444444444444444,
              "#bd3786"
             ],
             [
              0.5555555555555556,
              "#d8576b"
             ],
             [
              0.6666666666666666,
              "#ed7953"
             ],
             [
              0.7777777777777778,
              "#fb9f3a"
             ],
             [
              0.8888888888888888,
              "#fdca26"
             ],
             [
              1.0,
              "#f0f921"
             ]
            ]
           }
          ],
          "heatmap": [
           {
            "type": "heatmap",
            "colorbar": {
             "outlinewidth": 0,
             "ticks": ""
            },
            "colorscale": [
             [
              0.0,
              "#0d0887"
             ],
             [
              0.1111111111111111,
              "#46039f"
             ],
             [
              0.2222222222222222,
              "#7201a8"
             ],
             [
              0.3333333333333333,
              "#9c179e"
             ],
             [
              0.4444444444444444,
              "#bd3786"
             ],
             [
              0.5555555555555556,
              "#d8576b"
             ],
             [
              0.6666666666666666,
              "#ed7953"
             ],
             [
              0.7777777777777778,
              "#fb9f3a"
             ],
             [
              0.8888888888888888,
              "#fdca26"
             ],
             [
              1.0,
              "#f0f921"
             ]
            ]
           }
          ],
          "heatmapgl": [
           {
            "type": "heatmapgl",
            "colorbar": {
             "outlinewidth": 0,
             "ticks": ""
            },
            "colorscale": [
             [
              0.0,
              "#0d0887"
             ],
             [
              0.1111111111111111,
              "#46039f"
             ],
             [
              0.2222222222222222,
              "#7201a8"
             ],
             [
              0.3333333333333333,
              "#9c179e"
             ],
             [
              0.4444444444444444,
              "#bd3786"
             ],
             [
              0.5555555555555556,
              "#d8576b"
             ],
             [
              0.6666666666666666,
              "#ed7953"
             ],
             [
              0.7777777777777778,
              "#fb9f3a"
             ],
             [
              0.8888888888888888,
              "#fdca26"
             ],
             [
              1.0,
              "#f0f921"
             ]
            ]
           }
          ],
          "contourcarpet": [
           {
            "type": "contourcarpet",
            "colorbar": {
             "outlinewidth": 0,
             "ticks": ""
            }
           }
          ],
          "contour": [
           {
            "type": "contour",
            "colorbar": {
             "outlinewidth": 0,
             "ticks": ""
            },
            "colorscale": [
             [
              0.0,
              "#0d0887"
             ],
             [
              0.1111111111111111,
              "#46039f"
             ],
             [
              0.2222222222222222,
              "#7201a8"
             ],
             [
              0.3333333333333333,
              "#9c179e"
             ],
             [
              0.4444444444444444,
              "#bd3786"
             ],
             [
              0.5555555555555556,
              "#d8576b"
             ],
             [
              0.6666666666666666,
              "#ed7953"
             ],
             [
              0.7777777777777778,
              "#fb9f3a"
             ],
             [
              0.8888888888888888,
              "#fdca26"
             ],
             [
              1.0,
              "#f0f921"
             ]
            ]
           }
          ],
          "surface": [
           {
            "type": "surface",
            "colorbar": {
             "outlinewidth": 0,
             "ticks": ""
            },
            "colorscale": [
             [
              0.0,
              "#0d0887"
             ],
             [
              0.1111111111111111,
              "#46039f"
             ],
             [
              0.2222222222222222,
              "#7201a8"
             ],
             [
              0.3333333333333333,
              "#9c179e"
             ],
             [
              0.4444444444444444,
              "#bd3786"
             ],
             [
              0.5555555555555556,
              "#d8576b"
             ],
             [
              0.6666666666666666,
              "#ed7953"
             ],
             [
              0.7777777777777778,
              "#fb9f3a"
             ],
             [
              0.8888888888888888,
              "#fdca26"
             ],
             [
              1.0,
              "#f0f921"
             ]
            ]
           }
          ],
          "mesh3d": [
           {
            "type": "mesh3d",
            "colorbar": {
             "outlinewidth": 0,
             "ticks": ""
            }
           }
          ],
          "scatter": [
           {
            "marker": {
             "line": {
              "color": "#283442"
             }
            },
            "type": "scatter"
           }
          ],
          "parcoords": [
           {
            "type": "parcoords",
            "line": {
             "colorbar": {
              "outlinewidth": 0,
              "ticks": ""
             }
            }
           }
          ],
          "scatterpolargl": [
           {
            "type": "scatterpolargl",
            "marker": {
             "colorbar": {
              "outlinewidth": 0,
              "ticks": ""
             }
            }
           }
          ],
          "bar": [
           {
            "error_x": {
             "color": "#f2f5fa"
            },
            "error_y": {
             "color": "#f2f5fa"
            },
            "marker": {
             "line": {
              "color": "rgb(17,17,17)",
              "width": 0.5
             },
             "pattern": {
              "fillmode": "overlay",
              "size": 10,
              "solidity": 0.2
             }
            },
            "type": "bar"
           }
          ],
          "scattergeo": [
           {
            "type": "scattergeo",
            "marker": {
             "colorbar": {
              "outlinewidth": 0,
              "ticks": ""
             }
            }
           }
          ],
          "scatterpolar": [
           {
            "type": "scatterpolar",
            "marker": {
             "colorbar": {
              "outlinewidth": 0,
              "ticks": ""
             }
            }
           }
          ],
          "histogram": [
           {
            "marker": {
             "pattern": {
              "fillmode": "overlay",
              "size": 10,
              "solidity": 0.2
             }
            },
            "type": "histogram"
           }
          ],
          "scattergl": [
           {
            "marker": {
             "line": {
              "color": "#283442"
             }
            },
            "type": "scattergl"
           }
          ],
          "scatter3d": [
           {
            "type": "scatter3d",
            "line": {
             "colorbar": {
              "outlinewidth": 0,
              "ticks": ""
             }
            },
            "marker": {
             "colorbar": {
              "outlinewidth": 0,
              "ticks": ""
             }
            }
           }
          ],
          "scattermapbox": [
           {
            "type": "scattermapbox",
            "marker": {
             "colorbar": {
              "outlinewidth": 0,
              "ticks": ""
             }
            }
           }
          ],
          "scatterternary": [
           {
            "type": "scatterternary",
            "marker": {
             "colorbar": {
              "outlinewidth": 0,
              "ticks": ""
             }
            }
           }
          ],
          "scattercarpet": [
           {
            "type": "scattercarpet",
            "marker": {
             "colorbar": {
              "outlinewidth": 0,
              "ticks": ""
             }
            }
           }
          ],
          "carpet": [
           {
            "aaxis": {
             "endlinecolor": "#A2B1C6",
             "gridcolor": "#506784",
             "linecolor": "#506784",
             "minorgridcolor": "#506784",
             "startlinecolor": "#A2B1C6"
            },
            "baxis": {
             "endlinecolor": "#A2B1C6",
             "gridcolor": "#506784",
             "linecolor": "#506784",
             "minorgridcolor": "#506784",
             "startlinecolor": "#A2B1C6"
            },
            "type": "carpet"
           }
          ],
          "table": [
           {
            "cells": {
             "fill": {
              "color": "#506784"
             },
             "line": {
              "color": "rgb(17,17,17)"
             }
            },
            "header": {
             "fill": {
              "color": "#2a3f5f"
             },
             "line": {
              "color": "rgb(17,17,17)"
             }
            },
            "type": "table"
           }
          ],
          "barpolar": [
           {
            "marker": {
             "line": {
              "color": "rgb(17,17,17)",
              "width": 0.5
             },
             "pattern": {
              "fillmode": "overlay",
              "size": 10,
              "solidity": 0.2
             }
            },
            "type": "barpolar"
           }
          ],
          "pie": [
           {
            "automargin": true,
            "type": "pie"
           }
          ]
         },
         "layout": {
          "autotypenumbers": "strict",
          "colorway": [
           "#636efa",
           "#EF553B",
           "#00cc96",
           "#ab63fa",
           "#FFA15A",
           "#19d3f3",
           "#FF6692",
           "#B6E880",
           "#FF97FF",
           "#FECB52"
          ],
          "font": {
           "color": "#f2f5fa"
          },
          "hovermode": "closest",
          "hoverlabel": {
           "align": "left"
          },
          "paper_bgcolor": "rgb(17,17,17)",
          "plot_bgcolor": "rgb(17,17,17)",
          "polar": {
           "bgcolor": "rgb(17,17,17)",
           "angularaxis": {
            "gridcolor": "#506784",
            "linecolor": "#506784",
            "ticks": ""
           },
           "radialaxis": {
            "gridcolor": "#506784",
            "linecolor": "#506784",
            "ticks": ""
           }
          },
          "ternary": {
           "bgcolor": "rgb(17,17,17)",
           "aaxis": {
            "gridcolor": "#506784",
            "linecolor": "#506784",
            "ticks": ""
           },
           "baxis": {
            "gridcolor": "#506784",
            "linecolor": "#506784",
            "ticks": ""
           },
           "caxis": {
            "gridcolor": "#506784",
            "linecolor": "#506784",
            "ticks": ""
           }
          },
          "coloraxis": {
           "colorbar": {
            "outlinewidth": 0,
            "ticks": ""
           }
          },
          "colorscale": {
           "sequential": [
            [
             0.0,
             "#0d0887"
            ],
            [
             0.1111111111111111,
             "#46039f"
            ],
            [
             0.2222222222222222,
             "#7201a8"
            ],
            [
             0.3333333333333333,
             "#9c179e"
            ],
            [
             0.4444444444444444,
             "#bd3786"
            ],
            [
             0.5555555555555556,
             "#d8576b"
            ],
            [
             0.6666666666666666,
             "#ed7953"
            ],
            [
             0.7777777777777778,
             "#fb9f3a"
            ],
            [
             0.8888888888888888,
             "#fdca26"
            ],
            [
             1.0,
             "#f0f921"
            ]
           ],
           "sequentialminus": [
            [
             0.0,
             "#0d0887"
            ],
            [
             0.1111111111111111,
             "#46039f"
            ],
            [
             0.2222222222222222,
             "#7201a8"
            ],
            [
             0.3333333333333333,
             "#9c179e"
            ],
            [
             0.4444444444444444,
             "#bd3786"
            ],
            [
             0.5555555555555556,
             "#d8576b"
            ],
            [
             0.6666666666666666,
             "#ed7953"
            ],
            [
             0.7777777777777778,
             "#fb9f3a"
            ],
            [
             0.8888888888888888,
             "#fdca26"
            ],
            [
             1.0,
             "#f0f921"
            ]
           ],
           "diverging": [
            [
             0,
             "#8e0152"
            ],
            [
             0.1,
             "#c51b7d"
            ],
            [
             0.2,
             "#de77ae"
            ],
            [
             0.3,
             "#f1b6da"
            ],
            [
             0.4,
             "#fde0ef"
            ],
            [
             0.5,
             "#f7f7f7"
            ],
            [
             0.6,
             "#e6f5d0"
            ],
            [
             0.7,
             "#b8e186"
            ],
            [
             0.8,
             "#7fbc41"
            ],
            [
             0.9,
             "#4d9221"
            ],
            [
             1,
             "#276419"
            ]
           ]
          },
          "xaxis": {
           "gridcolor": "#283442",
           "linecolor": "#506784",
           "ticks": "",
           "title": {
            "standoff": 15
           },
           "zerolinecolor": "#283442",
           "automargin": true,
           "zerolinewidth": 2
          },
          "yaxis": {
           "gridcolor": "#283442",
           "linecolor": "#506784",
           "ticks": "",
           "title": {
            "standoff": 15
           },
           "zerolinecolor": "#283442",
           "automargin": true,
           "zerolinewidth": 2
          },
          "scene": {
           "xaxis": {
            "backgroundcolor": "rgb(17,17,17)",
            "gridcolor": "#506784",
            "linecolor": "#506784",
            "showbackground": true,
            "ticks": "",
            "zerolinecolor": "#C8D4E3",
            "gridwidth": 2
           },
           "yaxis": {
            "backgroundcolor": "rgb(17,17,17)",
            "gridcolor": "#506784",
            "linecolor": "#506784",
            "showbackground": true,
            "ticks": "",
            "zerolinecolor": "#C8D4E3",
            "gridwidth": 2
           },
           "zaxis": {
            "backgroundcolor": "rgb(17,17,17)",
            "gridcolor": "#506784",
            "linecolor": "#506784",
            "showbackground": true,
            "ticks": "",
            "zerolinecolor": "#C8D4E3",
            "gridwidth": 2
           }
          },
          "shapedefaults": {
           "line": {
            "color": "#f2f5fa"
           }
          },
          "annotationdefaults": {
           "arrowcolor": "#f2f5fa",
           "arrowhead": 0,
           "arrowwidth": 1
          },
          "geo": {
           "bgcolor": "rgb(17,17,17)",
           "landcolor": "rgb(17,17,17)",
           "subunitcolor": "#506784",
           "showland": true,
           "showlakes": true,
           "lakecolor": "rgb(17,17,17)"
          },
          "title": {
           "x": 0.05
          },
          "updatemenudefaults": {
           "bgcolor": "#506784",
           "borderwidth": 0
          },
          "sliderdefaults": {
           "bgcolor": "#C8D4E3",
           "borderwidth": 1,
           "bordercolor": "rgb(17,17,17)",
           "tickwidth": 0
          },
          "mapbox": {
           "style": "dark"
          }
         }
        },
        "xaxis": {
         "anchor": "y",
         "domain": [
          0.0,
          1.0
         ],
         "title": {
          "text": "log_obj_func"
         }
        },
        "yaxis": {
         "anchor": "x",
         "domain": [
          0.0,
          1.0
         ],
         "title": {
          "text": "index"
         }
        },
        "legend": {
         "tracegroupgap": 0
        },
        "margin": {
         "t": 60
        },
        "title": {
         "text": "Influence of variable elimination on TT-MALS runtime for ex3",
         "x": 0.5,
         "xanchor": "center",
         "yanchor": "top"
        },
        "font": {
         "color": "black"
        },
        "plot_bgcolor": "white",
        "paper_bgcolor": "white"
       },
       "config": {
        "plotlyServerURL": "https://plot.ly"
       }
      },
      "text/html": [
       "<div>                            <div id=\"549182c1-ee46-40bd-b3c6-3af9d3b73911\" class=\"plotly-graph-div\" style=\"height:525px; width:100%;\"></div>            <script type=\"text/javascript\">                require([\"plotly\"], function(Plotly) {                    window.PLOTLYENV=window.PLOTLYENV || {};                                    if (document.getElementById(\"549182c1-ee46-40bd-b3c6-3af9d3b73911\")) {                    Plotly.newPlot(                        \"549182c1-ee46-40bd-b3c6-3af9d3b73911\",                        [{\"hovertemplate\":\"log_obj_func=%{x}\\u003cbr\\u003eindex=%{y}\\u003cextra\\u003e\\u003c\\u002fextra\\u003e\",\"legendgroup\":\"\",\"marker\":{\"color\":\"#636efa\",\"symbol\":\"circle\"},\"mode\":\"markers\",\"name\":\"\",\"orientation\":\"h\",\"showlegend\":false,\"x\":[28.04,28.04,45.05,28.04,45.05,28.04,45.05,28.04,45.05,28.04,45.05,28.04,45.05,28.04,45.05,28.04,45.05,28.04,45.05,28.04],\"xaxis\":\"x\",\"y\":[65532,67171,68806,68810,70445,70449,72084,72088,73723,73727,75362,75366,77001,77005,78640,78644,80279,80283,81918,81922],\"yaxis\":\"y\",\"type\":\"scatter\"}],                        {\"template\":{\"data\":{\"histogram2dcontour\":[{\"type\":\"histogram2dcontour\",\"colorbar\":{\"outlinewidth\":0,\"ticks\":\"\"},\"colorscale\":[[0.0,\"#0d0887\"],[0.1111111111111111,\"#46039f\"],[0.2222222222222222,\"#7201a8\"],[0.3333333333333333,\"#9c179e\"],[0.4444444444444444,\"#bd3786\"],[0.5555555555555556,\"#d8576b\"],[0.6666666666666666,\"#ed7953\"],[0.7777777777777778,\"#fb9f3a\"],[0.8888888888888888,\"#fdca26\"],[1.0,\"#f0f921\"]]}],\"choropleth\":[{\"type\":\"choropleth\",\"colorbar\":{\"outlinewidth\":0,\"ticks\":\"\"}}],\"histogram2d\":[{\"type\":\"histogram2d\",\"colorbar\":{\"outlinewidth\":0,\"ticks\":\"\"},\"colorscale\":[[0.0,\"#0d0887\"],[0.1111111111111111,\"#46039f\"],[0.2222222222222222,\"#7201a8\"],[0.3333333333333333,\"#9c179e\"],[0.4444444444444444,\"#bd3786\"],[0.5555555555555556,\"#d8576b\"],[0.6666666666666666,\"#ed7953\"],[0.7777777777777778,\"#fb9f3a\"],[0.8888888888888888,\"#fdca26\"],[1.0,\"#f0f921\"]]}],\"heatmap\":[{\"type\":\"heatmap\",\"colorbar\":{\"outlinewidth\":0,\"ticks\":\"\"},\"colorscale\":[[0.0,\"#0d0887\"],[0.1111111111111111,\"#46039f\"],[0.2222222222222222,\"#7201a8\"],[0.3333333333333333,\"#9c179e\"],[0.4444444444444444,\"#bd3786\"],[0.5555555555555556,\"#d8576b\"],[0.6666666666666666,\"#ed7953\"],[0.7777777777777778,\"#fb9f3a\"],[0.8888888888888888,\"#fdca26\"],[1.0,\"#f0f921\"]]}],\"heatmapgl\":[{\"type\":\"heatmapgl\",\"colorbar\":{\"outlinewidth\":0,\"ticks\":\"\"},\"colorscale\":[[0.0,\"#0d0887\"],[0.1111111111111111,\"#46039f\"],[0.2222222222222222,\"#7201a8\"],[0.3333333333333333,\"#9c179e\"],[0.4444444444444444,\"#bd3786\"],[0.5555555555555556,\"#d8576b\"],[0.6666666666666666,\"#ed7953\"],[0.7777777777777778,\"#fb9f3a\"],[0.8888888888888888,\"#fdca26\"],[1.0,\"#f0f921\"]]}],\"contourcarpet\":[{\"type\":\"contourcarpet\",\"colorbar\":{\"outlinewidth\":0,\"ticks\":\"\"}}],\"contour\":[{\"type\":\"contour\",\"colorbar\":{\"outlinewidth\":0,\"ticks\":\"\"},\"colorscale\":[[0.0,\"#0d0887\"],[0.1111111111111111,\"#46039f\"],[0.2222222222222222,\"#7201a8\"],[0.3333333333333333,\"#9c179e\"],[0.4444444444444444,\"#bd3786\"],[0.5555555555555556,\"#d8576b\"],[0.6666666666666666,\"#ed7953\"],[0.7777777777777778,\"#fb9f3a\"],[0.8888888888888888,\"#fdca26\"],[1.0,\"#f0f921\"]]}],\"surface\":[{\"type\":\"surface\",\"colorbar\":{\"outlinewidth\":0,\"ticks\":\"\"},\"colorscale\":[[0.0,\"#0d0887\"],[0.1111111111111111,\"#46039f\"],[0.2222222222222222,\"#7201a8\"],[0.3333333333333333,\"#9c179e\"],[0.4444444444444444,\"#bd3786\"],[0.5555555555555556,\"#d8576b\"],[0.6666666666666666,\"#ed7953\"],[0.7777777777777778,\"#fb9f3a\"],[0.8888888888888888,\"#fdca26\"],[1.0,\"#f0f921\"]]}],\"mesh3d\":[{\"type\":\"mesh3d\",\"colorbar\":{\"outlinewidth\":0,\"ticks\":\"\"}}],\"scatter\":[{\"marker\":{\"line\":{\"color\":\"#283442\"}},\"type\":\"scatter\"}],\"parcoords\":[{\"type\":\"parcoords\",\"line\":{\"colorbar\":{\"outlinewidth\":0,\"ticks\":\"\"}}}],\"scatterpolargl\":[{\"type\":\"scatterpolargl\",\"marker\":{\"colorbar\":{\"outlinewidth\":0,\"ticks\":\"\"}}}],\"bar\":[{\"error_x\":{\"color\":\"#f2f5fa\"},\"error_y\":{\"color\":\"#f2f5fa\"},\"marker\":{\"line\":{\"color\":\"rgb(17,17,17)\",\"width\":0.5},\"pattern\":{\"fillmode\":\"overlay\",\"size\":10,\"solidity\":0.2}},\"type\":\"bar\"}],\"scattergeo\":[{\"type\":\"scattergeo\",\"marker\":{\"colorbar\":{\"outlinewidth\":0,\"ticks\":\"\"}}}],\"scatterpolar\":[{\"type\":\"scatterpolar\",\"marker\":{\"colorbar\":{\"outlinewidth\":0,\"ticks\":\"\"}}}],\"histogram\":[{\"marker\":{\"pattern\":{\"fillmode\":\"overlay\",\"size\":10,\"solidity\":0.2}},\"type\":\"histogram\"}],\"scattergl\":[{\"marker\":{\"line\":{\"color\":\"#283442\"}},\"type\":\"scattergl\"}],\"scatter3d\":[{\"type\":\"scatter3d\",\"line\":{\"colorbar\":{\"outlinewidth\":0,\"ticks\":\"\"}},\"marker\":{\"colorbar\":{\"outlinewidth\":0,\"ticks\":\"\"}}}],\"scattermapbox\":[{\"type\":\"scattermapbox\",\"marker\":{\"colorbar\":{\"outlinewidth\":0,\"ticks\":\"\"}}}],\"scatterternary\":[{\"type\":\"scatterternary\",\"marker\":{\"colorbar\":{\"outlinewidth\":0,\"ticks\":\"\"}}}],\"scattercarpet\":[{\"type\":\"scattercarpet\",\"marker\":{\"colorbar\":{\"outlinewidth\":0,\"ticks\":\"\"}}}],\"carpet\":[{\"aaxis\":{\"endlinecolor\":\"#A2B1C6\",\"gridcolor\":\"#506784\",\"linecolor\":\"#506784\",\"minorgridcolor\":\"#506784\",\"startlinecolor\":\"#A2B1C6\"},\"baxis\":{\"endlinecolor\":\"#A2B1C6\",\"gridcolor\":\"#506784\",\"linecolor\":\"#506784\",\"minorgridcolor\":\"#506784\",\"startlinecolor\":\"#A2B1C6\"},\"type\":\"carpet\"}],\"table\":[{\"cells\":{\"fill\":{\"color\":\"#506784\"},\"line\":{\"color\":\"rgb(17,17,17)\"}},\"header\":{\"fill\":{\"color\":\"#2a3f5f\"},\"line\":{\"color\":\"rgb(17,17,17)\"}},\"type\":\"table\"}],\"barpolar\":[{\"marker\":{\"line\":{\"color\":\"rgb(17,17,17)\",\"width\":0.5},\"pattern\":{\"fillmode\":\"overlay\",\"size\":10,\"solidity\":0.2}},\"type\":\"barpolar\"}],\"pie\":[{\"automargin\":true,\"type\":\"pie\"}]},\"layout\":{\"autotypenumbers\":\"strict\",\"colorway\":[\"#636efa\",\"#EF553B\",\"#00cc96\",\"#ab63fa\",\"#FFA15A\",\"#19d3f3\",\"#FF6692\",\"#B6E880\",\"#FF97FF\",\"#FECB52\"],\"font\":{\"color\":\"#f2f5fa\"},\"hovermode\":\"closest\",\"hoverlabel\":{\"align\":\"left\"},\"paper_bgcolor\":\"rgb(17,17,17)\",\"plot_bgcolor\":\"rgb(17,17,17)\",\"polar\":{\"bgcolor\":\"rgb(17,17,17)\",\"angularaxis\":{\"gridcolor\":\"#506784\",\"linecolor\":\"#506784\",\"ticks\":\"\"},\"radialaxis\":{\"gridcolor\":\"#506784\",\"linecolor\":\"#506784\",\"ticks\":\"\"}},\"ternary\":{\"bgcolor\":\"rgb(17,17,17)\",\"aaxis\":{\"gridcolor\":\"#506784\",\"linecolor\":\"#506784\",\"ticks\":\"\"},\"baxis\":{\"gridcolor\":\"#506784\",\"linecolor\":\"#506784\",\"ticks\":\"\"},\"caxis\":{\"gridcolor\":\"#506784\",\"linecolor\":\"#506784\",\"ticks\":\"\"}},\"coloraxis\":{\"colorbar\":{\"outlinewidth\":0,\"ticks\":\"\"}},\"colorscale\":{\"sequential\":[[0.0,\"#0d0887\"],[0.1111111111111111,\"#46039f\"],[0.2222222222222222,\"#7201a8\"],[0.3333333333333333,\"#9c179e\"],[0.4444444444444444,\"#bd3786\"],[0.5555555555555556,\"#d8576b\"],[0.6666666666666666,\"#ed7953\"],[0.7777777777777778,\"#fb9f3a\"],[0.8888888888888888,\"#fdca26\"],[1.0,\"#f0f921\"]],\"sequentialminus\":[[0.0,\"#0d0887\"],[0.1111111111111111,\"#46039f\"],[0.2222222222222222,\"#7201a8\"],[0.3333333333333333,\"#9c179e\"],[0.4444444444444444,\"#bd3786\"],[0.5555555555555556,\"#d8576b\"],[0.6666666666666666,\"#ed7953\"],[0.7777777777777778,\"#fb9f3a\"],[0.8888888888888888,\"#fdca26\"],[1.0,\"#f0f921\"]],\"diverging\":[[0,\"#8e0152\"],[0.1,\"#c51b7d\"],[0.2,\"#de77ae\"],[0.3,\"#f1b6da\"],[0.4,\"#fde0ef\"],[0.5,\"#f7f7f7\"],[0.6,\"#e6f5d0\"],[0.7,\"#b8e186\"],[0.8,\"#7fbc41\"],[0.9,\"#4d9221\"],[1,\"#276419\"]]},\"xaxis\":{\"gridcolor\":\"#283442\",\"linecolor\":\"#506784\",\"ticks\":\"\",\"title\":{\"standoff\":15},\"zerolinecolor\":\"#283442\",\"automargin\":true,\"zerolinewidth\":2},\"yaxis\":{\"gridcolor\":\"#283442\",\"linecolor\":\"#506784\",\"ticks\":\"\",\"title\":{\"standoff\":15},\"zerolinecolor\":\"#283442\",\"automargin\":true,\"zerolinewidth\":2},\"scene\":{\"xaxis\":{\"backgroundcolor\":\"rgb(17,17,17)\",\"gridcolor\":\"#506784\",\"linecolor\":\"#506784\",\"showbackground\":true,\"ticks\":\"\",\"zerolinecolor\":\"#C8D4E3\",\"gridwidth\":2},\"yaxis\":{\"backgroundcolor\":\"rgb(17,17,17)\",\"gridcolor\":\"#506784\",\"linecolor\":\"#506784\",\"showbackground\":true,\"ticks\":\"\",\"zerolinecolor\":\"#C8D4E3\",\"gridwidth\":2},\"zaxis\":{\"backgroundcolor\":\"rgb(17,17,17)\",\"gridcolor\":\"#506784\",\"linecolor\":\"#506784\",\"showbackground\":true,\"ticks\":\"\",\"zerolinecolor\":\"#C8D4E3\",\"gridwidth\":2}},\"shapedefaults\":{\"line\":{\"color\":\"#f2f5fa\"}},\"annotationdefaults\":{\"arrowcolor\":\"#f2f5fa\",\"arrowhead\":0,\"arrowwidth\":1},\"geo\":{\"bgcolor\":\"rgb(17,17,17)\",\"landcolor\":\"rgb(17,17,17)\",\"subunitcolor\":\"#506784\",\"showland\":true,\"showlakes\":true,\"lakecolor\":\"rgb(17,17,17)\"},\"title\":{\"x\":0.05},\"updatemenudefaults\":{\"bgcolor\":\"#506784\",\"borderwidth\":0},\"sliderdefaults\":{\"bgcolor\":\"#C8D4E3\",\"borderwidth\":1,\"bordercolor\":\"rgb(17,17,17)\",\"tickwidth\":0},\"mapbox\":{\"style\":\"dark\"}}},\"xaxis\":{\"anchor\":\"y\",\"domain\":[0.0,1.0],\"title\":{\"text\":\"log_obj_func\"}},\"yaxis\":{\"anchor\":\"x\",\"domain\":[0.0,1.0],\"title\":{\"text\":\"index\"}},\"legend\":{\"tracegroupgap\":0},\"margin\":{\"t\":60},\"title\":{\"text\":\"Influence of variable elimination on TT-MALS runtime for ex3\",\"x\":0.5,\"xanchor\":\"center\",\"yanchor\":\"top\"},\"font\":{\"color\":\"black\"},\"plot_bgcolor\":\"white\",\"paper_bgcolor\":\"white\"},                        {\"responsive\": true}                    ).then(function(){\n",
       "                            \n",
       "var gd = document.getElementById('549182c1-ee46-40bd-b3c6-3af9d3b73911');\n",
       "var x = new MutationObserver(function (mutations, observer) {{\n",
       "        var display = window.getComputedStyle(gd).display;\n",
       "        if (!display || display === 'none') {{\n",
       "            console.log([gd, 'removed!']);\n",
       "            Plotly.purge(gd);\n",
       "            observer.disconnect();\n",
       "        }}\n",
       "}});\n",
       "\n",
       "// Listen for the removal of the full notebook cells\n",
       "var notebookContainer = gd.closest('#notebook-container');\n",
       "if (notebookContainer) {{\n",
       "    x.observe(notebookContainer, {childList: true});\n",
       "}}\n",
       "\n",
       "// Listen for the clearing of the current output cell\n",
       "var outputEl = gd.closest('.output');\n",
       "if (outputEl) {{\n",
       "    x.observe(outputEl, {childList: true});\n",
       "}}\n",
       "\n",
       "                        })                };                });            </script>        </div>"
      ]
     },
     "metadata": {},
     "output_type": "display_data"
    }
   ],
   "execution_count": 123
  },
  {
   "metadata": {
    "ExecuteTime": {
     "end_time": "2024-07-14T13:47:20.061063Z",
     "start_time": "2024-07-14T13:47:19.776038Z"
    }
   },
   "cell_type": "code",
   "source": [
    "matrix_name = \"ex15\"\n",
    "fig = px.density_heatmap(pg_padding_tile_agg_df[(pg_padding_tile_agg_df[\"matrix_name\"] == matrix_name) & (pg_padding_tile_agg_df[\"partial_gauss\"] <= 10)], x=\"partial_gauss\", y=\"padding\", z='log_obj_func',  histfunc=\"min\",\n",
    "                         nbinsx=11, nbinsy=11, text_auto=True,\n",
    "                         # symbol=\"log_obj_func\",\n",
    "                 # color_discrete_sequence=colors, \n",
    "                 # trendline=\"ols\", trendline_scope=\"overall\", trendline_color_override=\"lime\", trendline_options=dict(log_y=True),\n",
    "                 # symbol=\"matrix_name\", color_discrete_map=matrix_color_map,\n",
    "              labels={\n",
    "                     \"padding\": \"Padding\",\n",
    "                     \"partial_gauss\": \"Number of variables eliminated by PG\",\n",
    "                  \"log_obj_func\": \"log(Eq. 3.9)\",\n",
    "                  \"num_possible_tiles\": \"Number of possible<br>tile size choices\"\n",
    "                 }\n",
    "              )\n",
    "fig.update_layout(\n",
    "    title={\n",
    "        'text': \"Influence of variable elimination with padding on TT-MALS runtime for {}\".format(matrix_name),\n",
    "        'x':0.5,\n",
    "        'xanchor': 'center',\n",
    "        'yanchor': 'top'\n",
    "    },\n",
    "    plot_bgcolor='white',   # Plot area background color\n",
    "    paper_bgcolor='white',  # Entire figure background color\n",
    "    font=dict(color='black'), # Font color\n",
    "    # yaxis_title=r'$\\log(I^6 + rI^3 + r^2I^2)$'\n",
    ")\n",
    "fig.show()\n",
    "fig.write_image(\"plots/{}_pg_padding_heatmap_log_obj_func.pdf\".format(matrix_name))"
   ],
   "id": "5b9e49b265fe8087",
   "outputs": [
    {
     "data": {
      "application/vnd.plotly.v1+json": {
       "data": [
        {
         "coloraxis": "coloraxis",
         "histfunc": "min",
         "hovertemplate": "Number of variables eliminated by PG=%{x}<br>Padding=%{y}<br>min of log(Eq. 3.9)=%{z}<extra></extra>",
         "name": "",
         "nbinsx": 11,
         "nbinsy": 11,
         "texttemplate": "%{z}",
         "x": [
          6.0,
          6.0,
          1.0,
          5.0,
          5.0,
          5.0,
          8.0,
          3.0,
          8.0,
          1.0,
          1.0,
          1.0,
          1.0,
          7.0,
          2.0,
          2.0,
          5.0,
          5.0,
          6.0,
          6.0,
          6.0,
          6.0,
          6.0,
          6.0,
          7.0,
          10.0,
          10.0,
          10.0,
          4.0,
          4.0,
          1.0,
          1.0,
          5.0,
          3.0,
          3.0,
          3.0,
          3.0,
          4.0,
          5.0,
          4.0,
          4.0,
          4.0,
          4.0,
          4.0,
          2.0,
          2.0,
          0.0,
          6.0,
          3.0,
          9.0,
          7.0,
          7.0,
          10.0,
          8.0,
          8.0,
          5.0,
          5.0,
          7.0,
          10.0,
          1.0,
          4.0,
          2.0,
          2.0,
          5.0,
          7.0,
          7.0,
          7.0,
          7.0,
          0.0,
          9.0,
          3.0,
          3.0,
          7.0,
          1.0,
          9.0,
          0.0,
          0.0,
          0.0,
          8.0,
          8.0,
          8.0,
          8.0,
          8.0,
          4.0,
          5.0,
          5.0,
          5.0,
          5.0,
          5.0,
          5.0,
          5.0,
          3.0,
          3.0,
          3.0,
          3.0,
          3.0,
          7.0,
          7.0,
          7.0,
          7.0,
          6.0,
          9.0,
          9.0,
          0.0,
          0.0,
          0.0,
          0.0,
          9.0,
          9.0,
          9.0,
          1.0,
          1.0,
          10.0,
          0.0,
          0.0,
          2.0,
          10.0,
          10.0,
          10.0,
          0.0,
          8.0,
          6.0,
          9.0,
          9.0,
          4.0,
          1.0,
          1.0,
          0.0,
          9.0,
          9.0,
          9.0,
          9.0,
          9.0,
          9.0,
          8.0,
          8.0,
          8.0,
          8.0,
          8.0,
          10.0,
          10.0,
          6.0,
          10.0,
          0.0,
          1.0,
          2.0,
          3.0,
          4.0,
          5.0,
          6.0,
          7.0,
          8.0,
          9.0,
          10.0,
          0.0,
          1.0,
          2.0,
          3.0,
          4.0,
          5.0,
          6.0,
          7.0,
          8.0,
          9.0,
          10.0,
          0.0,
          1.0,
          2.0,
          3.0,
          4.0,
          5.0,
          6.0,
          7.0,
          8.0,
          9.0,
          10.0,
          0.0,
          1.0,
          2.0,
          3.0,
          4.0,
          5.0,
          6.0,
          7.0,
          8.0,
          9.0,
          10.0,
          0.0,
          1.0,
          2.0,
          3.0,
          4.0,
          5.0,
          6.0,
          7.0,
          8.0,
          9.0,
          10.0,
          0.0,
          1.0,
          2.0,
          3.0,
          4.0,
          5.0,
          7.0,
          8.0,
          9.0,
          10.0,
          0.0,
          1.0,
          2.0,
          3.0,
          4.0,
          5.0,
          6.0,
          7.0,
          8.0,
          9.0,
          0.0,
          1.0,
          2.0,
          3.0,
          4.0,
          5.0,
          6.0,
          7.0,
          8.0,
          9.0,
          10.0,
          0.0,
          1.0,
          2.0,
          3.0,
          4.0,
          5.0,
          6.0,
          7.0,
          8.0,
          9.0,
          10.0,
          0.0,
          1.0,
          2.0,
          3.0,
          4.0,
          5.0,
          6.0,
          7.0,
          8.0,
          9.0,
          10.0,
          0.0,
          1.0,
          2.0,
          3.0,
          4.0,
          5.0,
          6.0,
          7.0,
          8.0,
          9.0,
          10.0
         ],
         "xaxis": "x",
         "xbingroup": "x",
         "y": [
          7,
          7,
          6,
          5,
          6,
          6,
          7,
          10,
          2,
          10,
          10,
          10,
          10,
          6,
          9,
          10,
          5,
          5,
          3,
          3,
          3,
          3,
          3,
          3,
          8,
          7,
          7,
          7,
          4,
          4,
          4,
          4,
          4,
          4,
          4,
          3,
          2,
          10,
          3,
          1,
          1,
          1,
          1,
          1,
          3,
          3,
          0,
          6,
          6,
          7,
          10,
          10,
          10,
          8,
          8,
          8,
          8,
          2,
          4,
          0,
          7,
          0,
          2,
          0,
          4,
          4,
          4,
          4,
          5,
          4,
          9,
          9,
          5,
          9,
          0,
          3,
          3,
          3,
          5,
          5,
          5,
          5,
          5,
          0,
          2,
          2,
          2,
          2,
          2,
          2,
          2,
          0,
          0,
          0,
          0,
          0,
          0,
          0,
          0,
          0,
          0,
          9,
          9,
          9,
          9,
          1,
          1,
          2,
          2,
          2,
          1,
          1,
          2,
          6,
          6,
          5,
          3,
          3,
          3,
          7,
          3,
          1,
          10,
          10,
          9,
          7,
          2,
          8,
          6,
          6,
          6,
          6,
          6,
          6,
          9,
          9,
          1,
          1,
          1,
          1,
          1,
          9,
          9,
          0,
          0,
          0,
          0,
          0,
          0,
          0,
          0,
          0,
          0,
          0,
          1,
          1,
          1,
          1,
          1,
          1,
          1,
          1,
          1,
          1,
          1,
          2,
          2,
          2,
          2,
          2,
          2,
          2,
          2,
          2,
          2,
          2,
          3,
          3,
          3,
          3,
          3,
          3,
          3,
          3,
          3,
          3,
          3,
          4,
          4,
          4,
          4,
          4,
          4,
          4,
          4,
          4,
          4,
          4,
          5,
          5,
          5,
          5,
          5,
          5,
          5,
          5,
          5,
          5,
          6,
          6,
          6,
          6,
          6,
          6,
          6,
          6,
          6,
          6,
          7,
          7,
          7,
          7,
          7,
          7,
          7,
          7,
          7,
          7,
          7,
          8,
          8,
          8,
          8,
          8,
          8,
          8,
          8,
          8,
          8,
          8,
          9,
          9,
          9,
          9,
          9,
          9,
          9,
          9,
          9,
          9,
          9,
          10,
          10,
          10,
          10,
          10,
          10,
          10,
          10,
          10,
          10,
          10
         ],
         "yaxis": "y",
         "ybingroup": "y",
         "z": [
          27.7,
          48.85,
          53.01,
          28.15,
          27.7,
          31.85,
          48.85,
          37.18,
          46.41,
          32.51,
          31.55,
          35.67,
          48.86,
          48.85,
          41.34,
          43.36,
          28.59,
          28.15,
          24.92,
          21.68,
          23.32,
          29.78,
          40.53,
          53.0,
          27.77,
          25.95,
          21.76,
          29.3,
          28.21,
          53.01,
          32.66,
          48.85,
          53.01,
          27.69,
          53.01,
          46.42,
          48.85,
          26.29,
          43.35,
          23.32,
          27.87,
          33.94,
          42.25,
          53.0,
          31.85,
          44.69,
          53.01,
          28.15,
          36.76,
          43.35,
          32.94,
          48.85,
          34.74,
          28.59,
          46.42,
          32.61,
          46.42,
          25.75,
          46.41,
          53.01,
          42.26,
          53.01,
          28.15,
          30.14,
          22.02,
          32.03,
          33.94,
          38.62,
          44.69,
          25.76,
          28.63,
          46.42,
          43.35,
          21.72,
          29.09,
          32.61,
          42.26,
          53.01,
          22.02,
          22.86,
          31.02,
          36.37,
          53.0,
          53.0,
          26.68,
          23.0,
          21.64,
          23.32,
          26.87,
          33.94,
          46.41,
          24.52,
          21.62,
          26.14,
          32.03,
          42.25,
          23.29,
          21.7,
          29.65,
          35.03,
          46.41,
          28.21,
          34.74,
          32.51,
          53.01,
          27.7,
          44.69,
          25.44,
          23.44,
          43.34,
          28.44,
          39.82,
          35.33,
          26.29,
          46.42,
          32.61,
          21.71,
          31.67,
          41.33,
          41.34,
          25.76,
          25.76,
          30.82,
          44.69,
          53.01,
          26.22,
          36.01,
          24.09,
          26.67,
          21.69,
          26.14,
          30.3,
          36.37,
          53.0,
          27.7,
          53.01,
          21.74,
          31.67,
          44.68,
          29.07,
          42.25,
          46.42,
          53.01,
          28.15,
          48.85,
          43.35,
          21.62,
          53.0,
          25.75,
          46.41,
          21.49,
          21.57,
          29.07,
          53.0,
          27.69,
          28.15,
          48.85,
          43.35,
          21.64,
          53.0,
          25.75,
          46.41,
          21.56,
          21.57,
          29.07,
          53.01,
          27.69,
          28.15,
          48.85,
          43.35,
          21.64,
          53.0,
          25.75,
          46.41,
          21.56,
          21.57,
          32.6,
          53.01,
          27.69,
          28.15,
          48.85,
          43.35,
          21.61,
          53.0,
          25.75,
          46.41,
          21.56,
          53.01,
          32.6,
          53.01,
          27.69,
          28.15,
          48.85,
          43.35,
          21.64,
          53.0,
          25.75,
          46.41,
          40.53,
          53.01,
          32.6,
          53.01,
          27.69,
          28.15,
          43.35,
          21.64,
          53.0,
          25.75,
          26.22,
          40.53,
          53.01,
          32.6,
          53.01,
          27.69,
          28.15,
          48.85,
          43.35,
          21.62,
          37.18,
          26.22,
          40.53,
          53.01,
          32.6,
          53.01,
          27.69,
          28.15,
          48.85,
          43.35,
          21.64,
          21.66,
          37.18,
          26.22,
          40.53,
          53.01,
          32.6,
          53.01,
          27.69,
          28.15,
          48.85,
          43.35,
          31.51,
          21.65,
          37.18,
          26.22,
          40.53,
          53.01,
          32.6,
          53.01,
          27.69,
          28.15,
          48.85,
          21.62,
          31.51,
          21.65,
          37.18,
          26.22,
          40.53,
          53.01,
          32.6,
          53.01,
          27.69,
          28.15
         ],
         "type": "histogram2d"
        }
       ],
       "layout": {
        "template": {
         "data": {
          "histogram2dcontour": [
           {
            "type": "histogram2dcontour",
            "colorbar": {
             "outlinewidth": 0,
             "ticks": ""
            },
            "colorscale": [
             [
              0.0,
              "#0d0887"
             ],
             [
              0.1111111111111111,
              "#46039f"
             ],
             [
              0.2222222222222222,
              "#7201a8"
             ],
             [
              0.3333333333333333,
              "#9c179e"
             ],
             [
              0.4444444444444444,
              "#bd3786"
             ],
             [
              0.5555555555555556,
              "#d8576b"
             ],
             [
              0.6666666666666666,
              "#ed7953"
             ],
             [
              0.7777777777777778,
              "#fb9f3a"
             ],
             [
              0.8888888888888888,
              "#fdca26"
             ],
             [
              1.0,
              "#f0f921"
             ]
            ]
           }
          ],
          "choropleth": [
           {
            "type": "choropleth",
            "colorbar": {
             "outlinewidth": 0,
             "ticks": ""
            }
           }
          ],
          "histogram2d": [
           {
            "type": "histogram2d",
            "colorbar": {
             "outlinewidth": 0,
             "ticks": ""
            },
            "colorscale": [
             [
              0.0,
              "#0d0887"
             ],
             [
              0.1111111111111111,
              "#46039f"
             ],
             [
              0.2222222222222222,
              "#7201a8"
             ],
             [
              0.3333333333333333,
              "#9c179e"
             ],
             [
              0.4444444444444444,
              "#bd3786"
             ],
             [
              0.5555555555555556,
              "#d8576b"
             ],
             [
              0.6666666666666666,
              "#ed7953"
             ],
             [
              0.7777777777777778,
              "#fb9f3a"
             ],
             [
              0.8888888888888888,
              "#fdca26"
             ],
             [
              1.0,
              "#f0f921"
             ]
            ]
           }
          ],
          "heatmap": [
           {
            "type": "heatmap",
            "colorbar": {
             "outlinewidth": 0,
             "ticks": ""
            },
            "colorscale": [
             [
              0.0,
              "#0d0887"
             ],
             [
              0.1111111111111111,
              "#46039f"
             ],
             [
              0.2222222222222222,
              "#7201a8"
             ],
             [
              0.3333333333333333,
              "#9c179e"
             ],
             [
              0.4444444444444444,
              "#bd3786"
             ],
             [
              0.5555555555555556,
              "#d8576b"
             ],
             [
              0.6666666666666666,
              "#ed7953"
             ],
             [
              0.7777777777777778,
              "#fb9f3a"
             ],
             [
              0.8888888888888888,
              "#fdca26"
             ],
             [
              1.0,
              "#f0f921"
             ]
            ]
           }
          ],
          "heatmapgl": [
           {
            "type": "heatmapgl",
            "colorbar": {
             "outlinewidth": 0,
             "ticks": ""
            },
            "colorscale": [
             [
              0.0,
              "#0d0887"
             ],
             [
              0.1111111111111111,
              "#46039f"
             ],
             [
              0.2222222222222222,
              "#7201a8"
             ],
             [
              0.3333333333333333,
              "#9c179e"
             ],
             [
              0.4444444444444444,
              "#bd3786"
             ],
             [
              0.5555555555555556,
              "#d8576b"
             ],
             [
              0.6666666666666666,
              "#ed7953"
             ],
             [
              0.7777777777777778,
              "#fb9f3a"
             ],
             [
              0.8888888888888888,
              "#fdca26"
             ],
             [
              1.0,
              "#f0f921"
             ]
            ]
           }
          ],
          "contourcarpet": [
           {
            "type": "contourcarpet",
            "colorbar": {
             "outlinewidth": 0,
             "ticks": ""
            }
           }
          ],
          "contour": [
           {
            "type": "contour",
            "colorbar": {
             "outlinewidth": 0,
             "ticks": ""
            },
            "colorscale": [
             [
              0.0,
              "#0d0887"
             ],
             [
              0.1111111111111111,
              "#46039f"
             ],
             [
              0.2222222222222222,
              "#7201a8"
             ],
             [
              0.3333333333333333,
              "#9c179e"
             ],
             [
              0.4444444444444444,
              "#bd3786"
             ],
             [
              0.5555555555555556,
              "#d8576b"
             ],
             [
              0.6666666666666666,
              "#ed7953"
             ],
             [
              0.7777777777777778,
              "#fb9f3a"
             ],
             [
              0.8888888888888888,
              "#fdca26"
             ],
             [
              1.0,
              "#f0f921"
             ]
            ]
           }
          ],
          "surface": [
           {
            "type": "surface",
            "colorbar": {
             "outlinewidth": 0,
             "ticks": ""
            },
            "colorscale": [
             [
              0.0,
              "#0d0887"
             ],
             [
              0.1111111111111111,
              "#46039f"
             ],
             [
              0.2222222222222222,
              "#7201a8"
             ],
             [
              0.3333333333333333,
              "#9c179e"
             ],
             [
              0.4444444444444444,
              "#bd3786"
             ],
             [
              0.5555555555555556,
              "#d8576b"
             ],
             [
              0.6666666666666666,
              "#ed7953"
             ],
             [
              0.7777777777777778,
              "#fb9f3a"
             ],
             [
              0.8888888888888888,
              "#fdca26"
             ],
             [
              1.0,
              "#f0f921"
             ]
            ]
           }
          ],
          "mesh3d": [
           {
            "type": "mesh3d",
            "colorbar": {
             "outlinewidth": 0,
             "ticks": ""
            }
           }
          ],
          "scatter": [
           {
            "marker": {
             "line": {
              "color": "#283442"
             }
            },
            "type": "scatter"
           }
          ],
          "parcoords": [
           {
            "type": "parcoords",
            "line": {
             "colorbar": {
              "outlinewidth": 0,
              "ticks": ""
             }
            }
           }
          ],
          "scatterpolargl": [
           {
            "type": "scatterpolargl",
            "marker": {
             "colorbar": {
              "outlinewidth": 0,
              "ticks": ""
             }
            }
           }
          ],
          "bar": [
           {
            "error_x": {
             "color": "#f2f5fa"
            },
            "error_y": {
             "color": "#f2f5fa"
            },
            "marker": {
             "line": {
              "color": "rgb(17,17,17)",
              "width": 0.5
             },
             "pattern": {
              "fillmode": "overlay",
              "size": 10,
              "solidity": 0.2
             }
            },
            "type": "bar"
           }
          ],
          "scattergeo": [
           {
            "type": "scattergeo",
            "marker": {
             "colorbar": {
              "outlinewidth": 0,
              "ticks": ""
             }
            }
           }
          ],
          "scatterpolar": [
           {
            "type": "scatterpolar",
            "marker": {
             "colorbar": {
              "outlinewidth": 0,
              "ticks": ""
             }
            }
           }
          ],
          "histogram": [
           {
            "marker": {
             "pattern": {
              "fillmode": "overlay",
              "size": 10,
              "solidity": 0.2
             }
            },
            "type": "histogram"
           }
          ],
          "scattergl": [
           {
            "marker": {
             "line": {
              "color": "#283442"
             }
            },
            "type": "scattergl"
           }
          ],
          "scatter3d": [
           {
            "type": "scatter3d",
            "line": {
             "colorbar": {
              "outlinewidth": 0,
              "ticks": ""
             }
            },
            "marker": {
             "colorbar": {
              "outlinewidth": 0,
              "ticks": ""
             }
            }
           }
          ],
          "scattermapbox": [
           {
            "type": "scattermapbox",
            "marker": {
             "colorbar": {
              "outlinewidth": 0,
              "ticks": ""
             }
            }
           }
          ],
          "scatterternary": [
           {
            "type": "scatterternary",
            "marker": {
             "colorbar": {
              "outlinewidth": 0,
              "ticks": ""
             }
            }
           }
          ],
          "scattercarpet": [
           {
            "type": "scattercarpet",
            "marker": {
             "colorbar": {
              "outlinewidth": 0,
              "ticks": ""
             }
            }
           }
          ],
          "carpet": [
           {
            "aaxis": {
             "endlinecolor": "#A2B1C6",
             "gridcolor": "#506784",
             "linecolor": "#506784",
             "minorgridcolor": "#506784",
             "startlinecolor": "#A2B1C6"
            },
            "baxis": {
             "endlinecolor": "#A2B1C6",
             "gridcolor": "#506784",
             "linecolor": "#506784",
             "minorgridcolor": "#506784",
             "startlinecolor": "#A2B1C6"
            },
            "type": "carpet"
           }
          ],
          "table": [
           {
            "cells": {
             "fill": {
              "color": "#506784"
             },
             "line": {
              "color": "rgb(17,17,17)"
             }
            },
            "header": {
             "fill": {
              "color": "#2a3f5f"
             },
             "line": {
              "color": "rgb(17,17,17)"
             }
            },
            "type": "table"
           }
          ],
          "barpolar": [
           {
            "marker": {
             "line": {
              "color": "rgb(17,17,17)",
              "width": 0.5
             },
             "pattern": {
              "fillmode": "overlay",
              "size": 10,
              "solidity": 0.2
             }
            },
            "type": "barpolar"
           }
          ],
          "pie": [
           {
            "automargin": true,
            "type": "pie"
           }
          ]
         },
         "layout": {
          "autotypenumbers": "strict",
          "colorway": [
           "#636efa",
           "#EF553B",
           "#00cc96",
           "#ab63fa",
           "#FFA15A",
           "#19d3f3",
           "#FF6692",
           "#B6E880",
           "#FF97FF",
           "#FECB52"
          ],
          "font": {
           "color": "#f2f5fa"
          },
          "hovermode": "closest",
          "hoverlabel": {
           "align": "left"
          },
          "paper_bgcolor": "rgb(17,17,17)",
          "plot_bgcolor": "rgb(17,17,17)",
          "polar": {
           "bgcolor": "rgb(17,17,17)",
           "angularaxis": {
            "gridcolor": "#506784",
            "linecolor": "#506784",
            "ticks": ""
           },
           "radialaxis": {
            "gridcolor": "#506784",
            "linecolor": "#506784",
            "ticks": ""
           }
          },
          "ternary": {
           "bgcolor": "rgb(17,17,17)",
           "aaxis": {
            "gridcolor": "#506784",
            "linecolor": "#506784",
            "ticks": ""
           },
           "baxis": {
            "gridcolor": "#506784",
            "linecolor": "#506784",
            "ticks": ""
           },
           "caxis": {
            "gridcolor": "#506784",
            "linecolor": "#506784",
            "ticks": ""
           }
          },
          "coloraxis": {
           "colorbar": {
            "outlinewidth": 0,
            "ticks": ""
           }
          },
          "colorscale": {
           "sequential": [
            [
             0.0,
             "#0d0887"
            ],
            [
             0.1111111111111111,
             "#46039f"
            ],
            [
             0.2222222222222222,
             "#7201a8"
            ],
            [
             0.3333333333333333,
             "#9c179e"
            ],
            [
             0.4444444444444444,
             "#bd3786"
            ],
            [
             0.5555555555555556,
             "#d8576b"
            ],
            [
             0.6666666666666666,
             "#ed7953"
            ],
            [
             0.7777777777777778,
             "#fb9f3a"
            ],
            [
             0.8888888888888888,
             "#fdca26"
            ],
            [
             1.0,
             "#f0f921"
            ]
           ],
           "sequentialminus": [
            [
             0.0,
             "#0d0887"
            ],
            [
             0.1111111111111111,
             "#46039f"
            ],
            [
             0.2222222222222222,
             "#7201a8"
            ],
            [
             0.3333333333333333,
             "#9c179e"
            ],
            [
             0.4444444444444444,
             "#bd3786"
            ],
            [
             0.5555555555555556,
             "#d8576b"
            ],
            [
             0.6666666666666666,
             "#ed7953"
            ],
            [
             0.7777777777777778,
             "#fb9f3a"
            ],
            [
             0.8888888888888888,
             "#fdca26"
            ],
            [
             1.0,
             "#f0f921"
            ]
           ],
           "diverging": [
            [
             0,
             "#8e0152"
            ],
            [
             0.1,
             "#c51b7d"
            ],
            [
             0.2,
             "#de77ae"
            ],
            [
             0.3,
             "#f1b6da"
            ],
            [
             0.4,
             "#fde0ef"
            ],
            [
             0.5,
             "#f7f7f7"
            ],
            [
             0.6,
             "#e6f5d0"
            ],
            [
             0.7,
             "#b8e186"
            ],
            [
             0.8,
             "#7fbc41"
            ],
            [
             0.9,
             "#4d9221"
            ],
            [
             1,
             "#276419"
            ]
           ]
          },
          "xaxis": {
           "gridcolor": "#283442",
           "linecolor": "#506784",
           "ticks": "",
           "title": {
            "standoff": 15
           },
           "zerolinecolor": "#283442",
           "automargin": true,
           "zerolinewidth": 2
          },
          "yaxis": {
           "gridcolor": "#283442",
           "linecolor": "#506784",
           "ticks": "",
           "title": {
            "standoff": 15
           },
           "zerolinecolor": "#283442",
           "automargin": true,
           "zerolinewidth": 2
          },
          "scene": {
           "xaxis": {
            "backgroundcolor": "rgb(17,17,17)",
            "gridcolor": "#506784",
            "linecolor": "#506784",
            "showbackground": true,
            "ticks": "",
            "zerolinecolor": "#C8D4E3",
            "gridwidth": 2
           },
           "yaxis": {
            "backgroundcolor": "rgb(17,17,17)",
            "gridcolor": "#506784",
            "linecolor": "#506784",
            "showbackground": true,
            "ticks": "",
            "zerolinecolor": "#C8D4E3",
            "gridwidth": 2
           },
           "zaxis": {
            "backgroundcolor": "rgb(17,17,17)",
            "gridcolor": "#506784",
            "linecolor": "#506784",
            "showbackground": true,
            "ticks": "",
            "zerolinecolor": "#C8D4E3",
            "gridwidth": 2
           }
          },
          "shapedefaults": {
           "line": {
            "color": "#f2f5fa"
           }
          },
          "annotationdefaults": {
           "arrowcolor": "#f2f5fa",
           "arrowhead": 0,
           "arrowwidth": 1
          },
          "geo": {
           "bgcolor": "rgb(17,17,17)",
           "landcolor": "rgb(17,17,17)",
           "subunitcolor": "#506784",
           "showland": true,
           "showlakes": true,
           "lakecolor": "rgb(17,17,17)"
          },
          "title": {
           "x": 0.05
          },
          "updatemenudefaults": {
           "bgcolor": "#506784",
           "borderwidth": 0
          },
          "sliderdefaults": {
           "bgcolor": "#C8D4E3",
           "borderwidth": 1,
           "bordercolor": "rgb(17,17,17)",
           "tickwidth": 0
          },
          "mapbox": {
           "style": "dark"
          }
         }
        },
        "xaxis": {
         "anchor": "y",
         "domain": [
          0.0,
          1.0
         ],
         "title": {
          "text": "Number of variables eliminated by PG"
         }
        },
        "yaxis": {
         "anchor": "x",
         "domain": [
          0.0,
          1.0
         ],
         "title": {
          "text": "Padding"
         }
        },
        "coloraxis": {
         "colorbar": {
          "title": {
           "text": "min of log(Eq. 3.9)"
          }
         },
         "colorscale": [
          [
           0.0,
           "#0d0887"
          ],
          [
           0.1111111111111111,
           "#46039f"
          ],
          [
           0.2222222222222222,
           "#7201a8"
          ],
          [
           0.3333333333333333,
           "#9c179e"
          ],
          [
           0.4444444444444444,
           "#bd3786"
          ],
          [
           0.5555555555555556,
           "#d8576b"
          ],
          [
           0.6666666666666666,
           "#ed7953"
          ],
          [
           0.7777777777777778,
           "#fb9f3a"
          ],
          [
           0.8888888888888888,
           "#fdca26"
          ],
          [
           1.0,
           "#f0f921"
          ]
         ]
        },
        "legend": {
         "tracegroupgap": 0
        },
        "margin": {
         "t": 60
        },
        "title": {
         "text": "Influence of variable elimination with padding on TT-MALS runtime for ex15",
         "x": 0.5,
         "xanchor": "center",
         "yanchor": "top"
        },
        "font": {
         "color": "black"
        },
        "plot_bgcolor": "white",
        "paper_bgcolor": "white"
       },
       "config": {
        "plotlyServerURL": "https://plot.ly"
       }
      },
      "text/html": [
       "<div>                            <div id=\"98e4c37b-c157-470c-b4fb-2fb237296f25\" class=\"plotly-graph-div\" style=\"height:525px; width:100%;\"></div>            <script type=\"text/javascript\">                require([\"plotly\"], function(Plotly) {                    window.PLOTLYENV=window.PLOTLYENV || {};                                    if (document.getElementById(\"98e4c37b-c157-470c-b4fb-2fb237296f25\")) {                    Plotly.newPlot(                        \"98e4c37b-c157-470c-b4fb-2fb237296f25\",                        [{\"coloraxis\":\"coloraxis\",\"histfunc\":\"min\",\"hovertemplate\":\"Number of variables eliminated by PG=%{x}\\u003cbr\\u003ePadding=%{y}\\u003cbr\\u003emin of log(Eq. 3.9)=%{z}\\u003cextra\\u003e\\u003c\\u002fextra\\u003e\",\"name\":\"\",\"nbinsx\":11,\"nbinsy\":11,\"texttemplate\":\"%{z}\",\"x\":[6.0,6.0,1.0,5.0,5.0,5.0,8.0,3.0,8.0,1.0,1.0,1.0,1.0,7.0,2.0,2.0,5.0,5.0,6.0,6.0,6.0,6.0,6.0,6.0,7.0,10.0,10.0,10.0,4.0,4.0,1.0,1.0,5.0,3.0,3.0,3.0,3.0,4.0,5.0,4.0,4.0,4.0,4.0,4.0,2.0,2.0,0.0,6.0,3.0,9.0,7.0,7.0,10.0,8.0,8.0,5.0,5.0,7.0,10.0,1.0,4.0,2.0,2.0,5.0,7.0,7.0,7.0,7.0,0.0,9.0,3.0,3.0,7.0,1.0,9.0,0.0,0.0,0.0,8.0,8.0,8.0,8.0,8.0,4.0,5.0,5.0,5.0,5.0,5.0,5.0,5.0,3.0,3.0,3.0,3.0,3.0,7.0,7.0,7.0,7.0,6.0,9.0,9.0,0.0,0.0,0.0,0.0,9.0,9.0,9.0,1.0,1.0,10.0,0.0,0.0,2.0,10.0,10.0,10.0,0.0,8.0,6.0,9.0,9.0,4.0,1.0,1.0,0.0,9.0,9.0,9.0,9.0,9.0,9.0,8.0,8.0,8.0,8.0,8.0,10.0,10.0,6.0,10.0,0.0,1.0,2.0,3.0,4.0,5.0,6.0,7.0,8.0,9.0,10.0,0.0,1.0,2.0,3.0,4.0,5.0,6.0,7.0,8.0,9.0,10.0,0.0,1.0,2.0,3.0,4.0,5.0,6.0,7.0,8.0,9.0,10.0,0.0,1.0,2.0,3.0,4.0,5.0,6.0,7.0,8.0,9.0,10.0,0.0,1.0,2.0,3.0,4.0,5.0,6.0,7.0,8.0,9.0,10.0,0.0,1.0,2.0,3.0,4.0,5.0,7.0,8.0,9.0,10.0,0.0,1.0,2.0,3.0,4.0,5.0,6.0,7.0,8.0,9.0,0.0,1.0,2.0,3.0,4.0,5.0,6.0,7.0,8.0,9.0,10.0,0.0,1.0,2.0,3.0,4.0,5.0,6.0,7.0,8.0,9.0,10.0,0.0,1.0,2.0,3.0,4.0,5.0,6.0,7.0,8.0,9.0,10.0,0.0,1.0,2.0,3.0,4.0,5.0,6.0,7.0,8.0,9.0,10.0],\"xaxis\":\"x\",\"xbingroup\":\"x\",\"y\":[7,7,6,5,6,6,7,10,2,10,10,10,10,6,9,10,5,5,3,3,3,3,3,3,8,7,7,7,4,4,4,4,4,4,4,3,2,10,3,1,1,1,1,1,3,3,0,6,6,7,10,10,10,8,8,8,8,2,4,0,7,0,2,0,4,4,4,4,5,4,9,9,5,9,0,3,3,3,5,5,5,5,5,0,2,2,2,2,2,2,2,0,0,0,0,0,0,0,0,0,0,9,9,9,9,1,1,2,2,2,1,1,2,6,6,5,3,3,3,7,3,1,10,10,9,7,2,8,6,6,6,6,6,6,9,9,1,1,1,1,1,9,9,0,0,0,0,0,0,0,0,0,0,0,1,1,1,1,1,1,1,1,1,1,1,2,2,2,2,2,2,2,2,2,2,2,3,3,3,3,3,3,3,3,3,3,3,4,4,4,4,4,4,4,4,4,4,4,5,5,5,5,5,5,5,5,5,5,6,6,6,6,6,6,6,6,6,6,7,7,7,7,7,7,7,7,7,7,7,8,8,8,8,8,8,8,8,8,8,8,9,9,9,9,9,9,9,9,9,9,9,10,10,10,10,10,10,10,10,10,10,10],\"yaxis\":\"y\",\"ybingroup\":\"y\",\"z\":[27.7,48.85,53.01,28.15,27.7,31.85,48.85,37.18,46.41,32.51,31.55,35.67,48.86,48.85,41.34,43.36,28.59,28.15,24.92,21.68,23.32,29.78,40.53,53.0,27.77,25.95,21.76,29.3,28.21,53.01,32.66,48.85,53.01,27.69,53.01,46.42,48.85,26.29,43.35,23.32,27.87,33.94,42.25,53.0,31.85,44.69,53.01,28.15,36.76,43.35,32.94,48.85,34.74,28.59,46.42,32.61,46.42,25.75,46.41,53.01,42.26,53.01,28.15,30.14,22.02,32.03,33.94,38.62,44.69,25.76,28.63,46.42,43.35,21.72,29.09,32.61,42.26,53.01,22.02,22.86,31.02,36.37,53.0,53.0,26.68,23.0,21.64,23.32,26.87,33.94,46.41,24.52,21.62,26.14,32.03,42.25,23.29,21.7,29.65,35.03,46.41,28.21,34.74,32.51,53.01,27.7,44.69,25.44,23.44,43.34,28.44,39.82,35.33,26.29,46.42,32.61,21.71,31.67,41.33,41.34,25.76,25.76,30.82,44.69,53.01,26.22,36.01,24.09,26.67,21.69,26.14,30.3,36.37,53.0,27.7,53.01,21.74,31.67,44.68,29.07,42.25,46.42,53.01,28.15,48.85,43.35,21.62,53.0,25.75,46.41,21.49,21.57,29.07,53.0,27.69,28.15,48.85,43.35,21.64,53.0,25.75,46.41,21.56,21.57,29.07,53.01,27.69,28.15,48.85,43.35,21.64,53.0,25.75,46.41,21.56,21.57,32.6,53.01,27.69,28.15,48.85,43.35,21.61,53.0,25.75,46.41,21.56,53.01,32.6,53.01,27.69,28.15,48.85,43.35,21.64,53.0,25.75,46.41,40.53,53.01,32.6,53.01,27.69,28.15,43.35,21.64,53.0,25.75,26.22,40.53,53.01,32.6,53.01,27.69,28.15,48.85,43.35,21.62,37.18,26.22,40.53,53.01,32.6,53.01,27.69,28.15,48.85,43.35,21.64,21.66,37.18,26.22,40.53,53.01,32.6,53.01,27.69,28.15,48.85,43.35,31.51,21.65,37.18,26.22,40.53,53.01,32.6,53.01,27.69,28.15,48.85,21.62,31.51,21.65,37.18,26.22,40.53,53.01,32.6,53.01,27.69,28.15],\"type\":\"histogram2d\"}],                        {\"template\":{\"data\":{\"histogram2dcontour\":[{\"type\":\"histogram2dcontour\",\"colorbar\":{\"outlinewidth\":0,\"ticks\":\"\"},\"colorscale\":[[0.0,\"#0d0887\"],[0.1111111111111111,\"#46039f\"],[0.2222222222222222,\"#7201a8\"],[0.3333333333333333,\"#9c179e\"],[0.4444444444444444,\"#bd3786\"],[0.5555555555555556,\"#d8576b\"],[0.6666666666666666,\"#ed7953\"],[0.7777777777777778,\"#fb9f3a\"],[0.8888888888888888,\"#fdca26\"],[1.0,\"#f0f921\"]]}],\"choropleth\":[{\"type\":\"choropleth\",\"colorbar\":{\"outlinewidth\":0,\"ticks\":\"\"}}],\"histogram2d\":[{\"type\":\"histogram2d\",\"colorbar\":{\"outlinewidth\":0,\"ticks\":\"\"},\"colorscale\":[[0.0,\"#0d0887\"],[0.1111111111111111,\"#46039f\"],[0.2222222222222222,\"#7201a8\"],[0.3333333333333333,\"#9c179e\"],[0.4444444444444444,\"#bd3786\"],[0.5555555555555556,\"#d8576b\"],[0.6666666666666666,\"#ed7953\"],[0.7777777777777778,\"#fb9f3a\"],[0.8888888888888888,\"#fdca26\"],[1.0,\"#f0f921\"]]}],\"heatmap\":[{\"type\":\"heatmap\",\"colorbar\":{\"outlinewidth\":0,\"ticks\":\"\"},\"colorscale\":[[0.0,\"#0d0887\"],[0.1111111111111111,\"#46039f\"],[0.2222222222222222,\"#7201a8\"],[0.3333333333333333,\"#9c179e\"],[0.4444444444444444,\"#bd3786\"],[0.5555555555555556,\"#d8576b\"],[0.6666666666666666,\"#ed7953\"],[0.7777777777777778,\"#fb9f3a\"],[0.8888888888888888,\"#fdca26\"],[1.0,\"#f0f921\"]]}],\"heatmapgl\":[{\"type\":\"heatmapgl\",\"colorbar\":{\"outlinewidth\":0,\"ticks\":\"\"},\"colorscale\":[[0.0,\"#0d0887\"],[0.1111111111111111,\"#46039f\"],[0.2222222222222222,\"#7201a8\"],[0.3333333333333333,\"#9c179e\"],[0.4444444444444444,\"#bd3786\"],[0.5555555555555556,\"#d8576b\"],[0.6666666666666666,\"#ed7953\"],[0.7777777777777778,\"#fb9f3a\"],[0.8888888888888888,\"#fdca26\"],[1.0,\"#f0f921\"]]}],\"contourcarpet\":[{\"type\":\"contourcarpet\",\"colorbar\":{\"outlinewidth\":0,\"ticks\":\"\"}}],\"contour\":[{\"type\":\"contour\",\"colorbar\":{\"outlinewidth\":0,\"ticks\":\"\"},\"colorscale\":[[0.0,\"#0d0887\"],[0.1111111111111111,\"#46039f\"],[0.2222222222222222,\"#7201a8\"],[0.3333333333333333,\"#9c179e\"],[0.4444444444444444,\"#bd3786\"],[0.5555555555555556,\"#d8576b\"],[0.6666666666666666,\"#ed7953\"],[0.7777777777777778,\"#fb9f3a\"],[0.8888888888888888,\"#fdca26\"],[1.0,\"#f0f921\"]]}],\"surface\":[{\"type\":\"surface\",\"colorbar\":{\"outlinewidth\":0,\"ticks\":\"\"},\"colorscale\":[[0.0,\"#0d0887\"],[0.1111111111111111,\"#46039f\"],[0.2222222222222222,\"#7201a8\"],[0.3333333333333333,\"#9c179e\"],[0.4444444444444444,\"#bd3786\"],[0.5555555555555556,\"#d8576b\"],[0.6666666666666666,\"#ed7953\"],[0.7777777777777778,\"#fb9f3a\"],[0.8888888888888888,\"#fdca26\"],[1.0,\"#f0f921\"]]}],\"mesh3d\":[{\"type\":\"mesh3d\",\"colorbar\":{\"outlinewidth\":0,\"ticks\":\"\"}}],\"scatter\":[{\"marker\":{\"line\":{\"color\":\"#283442\"}},\"type\":\"scatter\"}],\"parcoords\":[{\"type\":\"parcoords\",\"line\":{\"colorbar\":{\"outlinewidth\":0,\"ticks\":\"\"}}}],\"scatterpolargl\":[{\"type\":\"scatterpolargl\",\"marker\":{\"colorbar\":{\"outlinewidth\":0,\"ticks\":\"\"}}}],\"bar\":[{\"error_x\":{\"color\":\"#f2f5fa\"},\"error_y\":{\"color\":\"#f2f5fa\"},\"marker\":{\"line\":{\"color\":\"rgb(17,17,17)\",\"width\":0.5},\"pattern\":{\"fillmode\":\"overlay\",\"size\":10,\"solidity\":0.2}},\"type\":\"bar\"}],\"scattergeo\":[{\"type\":\"scattergeo\",\"marker\":{\"colorbar\":{\"outlinewidth\":0,\"ticks\":\"\"}}}],\"scatterpolar\":[{\"type\":\"scatterpolar\",\"marker\":{\"colorbar\":{\"outlinewidth\":0,\"ticks\":\"\"}}}],\"histogram\":[{\"marker\":{\"pattern\":{\"fillmode\":\"overlay\",\"size\":10,\"solidity\":0.2}},\"type\":\"histogram\"}],\"scattergl\":[{\"marker\":{\"line\":{\"color\":\"#283442\"}},\"type\":\"scattergl\"}],\"scatter3d\":[{\"type\":\"scatter3d\",\"line\":{\"colorbar\":{\"outlinewidth\":0,\"ticks\":\"\"}},\"marker\":{\"colorbar\":{\"outlinewidth\":0,\"ticks\":\"\"}}}],\"scattermapbox\":[{\"type\":\"scattermapbox\",\"marker\":{\"colorbar\":{\"outlinewidth\":0,\"ticks\":\"\"}}}],\"scatterternary\":[{\"type\":\"scatterternary\",\"marker\":{\"colorbar\":{\"outlinewidth\":0,\"ticks\":\"\"}}}],\"scattercarpet\":[{\"type\":\"scattercarpet\",\"marker\":{\"colorbar\":{\"outlinewidth\":0,\"ticks\":\"\"}}}],\"carpet\":[{\"aaxis\":{\"endlinecolor\":\"#A2B1C6\",\"gridcolor\":\"#506784\",\"linecolor\":\"#506784\",\"minorgridcolor\":\"#506784\",\"startlinecolor\":\"#A2B1C6\"},\"baxis\":{\"endlinecolor\":\"#A2B1C6\",\"gridcolor\":\"#506784\",\"linecolor\":\"#506784\",\"minorgridcolor\":\"#506784\",\"startlinecolor\":\"#A2B1C6\"},\"type\":\"carpet\"}],\"table\":[{\"cells\":{\"fill\":{\"color\":\"#506784\"},\"line\":{\"color\":\"rgb(17,17,17)\"}},\"header\":{\"fill\":{\"color\":\"#2a3f5f\"},\"line\":{\"color\":\"rgb(17,17,17)\"}},\"type\":\"table\"}],\"barpolar\":[{\"marker\":{\"line\":{\"color\":\"rgb(17,17,17)\",\"width\":0.5},\"pattern\":{\"fillmode\":\"overlay\",\"size\":10,\"solidity\":0.2}},\"type\":\"barpolar\"}],\"pie\":[{\"automargin\":true,\"type\":\"pie\"}]},\"layout\":{\"autotypenumbers\":\"strict\",\"colorway\":[\"#636efa\",\"#EF553B\",\"#00cc96\",\"#ab63fa\",\"#FFA15A\",\"#19d3f3\",\"#FF6692\",\"#B6E880\",\"#FF97FF\",\"#FECB52\"],\"font\":{\"color\":\"#f2f5fa\"},\"hovermode\":\"closest\",\"hoverlabel\":{\"align\":\"left\"},\"paper_bgcolor\":\"rgb(17,17,17)\",\"plot_bgcolor\":\"rgb(17,17,17)\",\"polar\":{\"bgcolor\":\"rgb(17,17,17)\",\"angularaxis\":{\"gridcolor\":\"#506784\",\"linecolor\":\"#506784\",\"ticks\":\"\"},\"radialaxis\":{\"gridcolor\":\"#506784\",\"linecolor\":\"#506784\",\"ticks\":\"\"}},\"ternary\":{\"bgcolor\":\"rgb(17,17,17)\",\"aaxis\":{\"gridcolor\":\"#506784\",\"linecolor\":\"#506784\",\"ticks\":\"\"},\"baxis\":{\"gridcolor\":\"#506784\",\"linecolor\":\"#506784\",\"ticks\":\"\"},\"caxis\":{\"gridcolor\":\"#506784\",\"linecolor\":\"#506784\",\"ticks\":\"\"}},\"coloraxis\":{\"colorbar\":{\"outlinewidth\":0,\"ticks\":\"\"}},\"colorscale\":{\"sequential\":[[0.0,\"#0d0887\"],[0.1111111111111111,\"#46039f\"],[0.2222222222222222,\"#7201a8\"],[0.3333333333333333,\"#9c179e\"],[0.4444444444444444,\"#bd3786\"],[0.5555555555555556,\"#d8576b\"],[0.6666666666666666,\"#ed7953\"],[0.7777777777777778,\"#fb9f3a\"],[0.8888888888888888,\"#fdca26\"],[1.0,\"#f0f921\"]],\"sequentialminus\":[[0.0,\"#0d0887\"],[0.1111111111111111,\"#46039f\"],[0.2222222222222222,\"#7201a8\"],[0.3333333333333333,\"#9c179e\"],[0.4444444444444444,\"#bd3786\"],[0.5555555555555556,\"#d8576b\"],[0.6666666666666666,\"#ed7953\"],[0.7777777777777778,\"#fb9f3a\"],[0.8888888888888888,\"#fdca26\"],[1.0,\"#f0f921\"]],\"diverging\":[[0,\"#8e0152\"],[0.1,\"#c51b7d\"],[0.2,\"#de77ae\"],[0.3,\"#f1b6da\"],[0.4,\"#fde0ef\"],[0.5,\"#f7f7f7\"],[0.6,\"#e6f5d0\"],[0.7,\"#b8e186\"],[0.8,\"#7fbc41\"],[0.9,\"#4d9221\"],[1,\"#276419\"]]},\"xaxis\":{\"gridcolor\":\"#283442\",\"linecolor\":\"#506784\",\"ticks\":\"\",\"title\":{\"standoff\":15},\"zerolinecolor\":\"#283442\",\"automargin\":true,\"zerolinewidth\":2},\"yaxis\":{\"gridcolor\":\"#283442\",\"linecolor\":\"#506784\",\"ticks\":\"\",\"title\":{\"standoff\":15},\"zerolinecolor\":\"#283442\",\"automargin\":true,\"zerolinewidth\":2},\"scene\":{\"xaxis\":{\"backgroundcolor\":\"rgb(17,17,17)\",\"gridcolor\":\"#506784\",\"linecolor\":\"#506784\",\"showbackground\":true,\"ticks\":\"\",\"zerolinecolor\":\"#C8D4E3\",\"gridwidth\":2},\"yaxis\":{\"backgroundcolor\":\"rgb(17,17,17)\",\"gridcolor\":\"#506784\",\"linecolor\":\"#506784\",\"showbackground\":true,\"ticks\":\"\",\"zerolinecolor\":\"#C8D4E3\",\"gridwidth\":2},\"zaxis\":{\"backgroundcolor\":\"rgb(17,17,17)\",\"gridcolor\":\"#506784\",\"linecolor\":\"#506784\",\"showbackground\":true,\"ticks\":\"\",\"zerolinecolor\":\"#C8D4E3\",\"gridwidth\":2}},\"shapedefaults\":{\"line\":{\"color\":\"#f2f5fa\"}},\"annotationdefaults\":{\"arrowcolor\":\"#f2f5fa\",\"arrowhead\":0,\"arrowwidth\":1},\"geo\":{\"bgcolor\":\"rgb(17,17,17)\",\"landcolor\":\"rgb(17,17,17)\",\"subunitcolor\":\"#506784\",\"showland\":true,\"showlakes\":true,\"lakecolor\":\"rgb(17,17,17)\"},\"title\":{\"x\":0.05},\"updatemenudefaults\":{\"bgcolor\":\"#506784\",\"borderwidth\":0},\"sliderdefaults\":{\"bgcolor\":\"#C8D4E3\",\"borderwidth\":1,\"bordercolor\":\"rgb(17,17,17)\",\"tickwidth\":0},\"mapbox\":{\"style\":\"dark\"}}},\"xaxis\":{\"anchor\":\"y\",\"domain\":[0.0,1.0],\"title\":{\"text\":\"Number of variables eliminated by PG\"}},\"yaxis\":{\"anchor\":\"x\",\"domain\":[0.0,1.0],\"title\":{\"text\":\"Padding\"}},\"coloraxis\":{\"colorbar\":{\"title\":{\"text\":\"min of log(Eq. 3.9)\"}},\"colorscale\":[[0.0,\"#0d0887\"],[0.1111111111111111,\"#46039f\"],[0.2222222222222222,\"#7201a8\"],[0.3333333333333333,\"#9c179e\"],[0.4444444444444444,\"#bd3786\"],[0.5555555555555556,\"#d8576b\"],[0.6666666666666666,\"#ed7953\"],[0.7777777777777778,\"#fb9f3a\"],[0.8888888888888888,\"#fdca26\"],[1.0,\"#f0f921\"]]},\"legend\":{\"tracegroupgap\":0},\"margin\":{\"t\":60},\"title\":{\"text\":\"Influence of variable elimination with padding on TT-MALS runtime for ex15\",\"x\":0.5,\"xanchor\":\"center\",\"yanchor\":\"top\"},\"font\":{\"color\":\"black\"},\"plot_bgcolor\":\"white\",\"paper_bgcolor\":\"white\"},                        {\"responsive\": true}                    ).then(function(){\n",
       "                            \n",
       "var gd = document.getElementById('98e4c37b-c157-470c-b4fb-2fb237296f25');\n",
       "var x = new MutationObserver(function (mutations, observer) {{\n",
       "        var display = window.getComputedStyle(gd).display;\n",
       "        if (!display || display === 'none') {{\n",
       "            console.log([gd, 'removed!']);\n",
       "            Plotly.purge(gd);\n",
       "            observer.disconnect();\n",
       "        }}\n",
       "}});\n",
       "\n",
       "// Listen for the removal of the full notebook cells\n",
       "var notebookContainer = gd.closest('#notebook-container');\n",
       "if (notebookContainer) {{\n",
       "    x.observe(notebookContainer, {childList: true});\n",
       "}}\n",
       "\n",
       "// Listen for the clearing of the current output cell\n",
       "var outputEl = gd.closest('.output');\n",
       "if (outputEl) {{\n",
       "    x.observe(outputEl, {childList: true});\n",
       "}}\n",
       "\n",
       "                        })                };                });            </script>        </div>"
      ]
     },
     "metadata": {},
     "output_type": "display_data"
    }
   ],
   "execution_count": 162
  },
  {
   "metadata": {},
   "cell_type": "code",
   "outputs": [],
   "execution_count": null,
   "source": "",
   "id": "b586621660740450"
  }
 ],
 "metadata": {
  "kernelspec": {
   "display_name": "Python 3",
   "language": "python",
   "name": "python3"
  },
  "language_info": {
   "codemirror_mode": {
    "name": "ipython",
    "version": 2
   },
   "file_extension": ".py",
   "mimetype": "text/x-python",
   "name": "python",
   "nbconvert_exporter": "python",
   "pygments_lexer": "ipython2",
   "version": "2.7.6"
  }
 },
 "nbformat": 4,
 "nbformat_minor": 5
}
